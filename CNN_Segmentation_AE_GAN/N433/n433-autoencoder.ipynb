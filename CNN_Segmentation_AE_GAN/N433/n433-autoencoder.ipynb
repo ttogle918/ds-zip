{
  "nbformat": 4,
  "nbformat_minor": 0,
  "metadata": {
    "accelerator": "GPU",
    "colab": {
      "name": "ds-cs-N433-autoencoder.ipynb",
      "provenance": [],
      "collapsed_sections": [],
      "toc_visible": true,
      "include_colab_link": true
    },
    "kernelspec": {
      "display_name": "Python 3",
      "name": "python3"
    },
    "language_info": {
      "codemirror_mode": {
        "name": "ipython",
        "version": 3
      },
      "file_extension": ".py",
      "mimetype": "text/x-python",
      "name": "python",
      "nbconvert_exporter": "python",
      "pygments_lexer": "ipython3",
      "version": "3.6.9"
    }
  },
  "cells": [
    {
      "cell_type": "markdown",
      "metadata": {
        "id": "view-in-github",
        "colab_type": "text"
      },
      "source": [
        "<a href=\"https://colab.research.google.com/github/codestates/ds-section4-sprint3/blob/master/N433/n433-autoencoder.ipynb\" target=\"_parent\"><img src=\"https://colab.research.google.com/assets/colab-badge.svg\" alt=\"Open In Colab\"/></a>"
      ]
    },
    {
      "cell_type": "markdown",
      "metadata": {
        "id": "Ndo4ERqnwQOU"
      },
      "source": [
        "<img src='https://user-images.githubusercontent.com/6457691/90080969-0f758d00-dd47-11ea-8191-fa12fd2054a7.png' width = '200' align = 'right'>\n",
        "\n",
        "## *DATA SCIENCE / SECTION 4 / SPRINT 3 / NOTE 3*\n",
        "\n",
        "--- \n",
        "# N433. Autoencoders (AE)"
      ]
    },
    {
      "cell_type": "markdown",
      "metadata": {
        "id": "VtuQdhyhHzpz"
      },
      "source": [
        "## WarmUp\n",
        "- [AE 소개영상 1](https://youtu.be/YxtzQbe2UaE)\n",
        "- [AE 소개영상 2](https://youtu.be/54hyK1J4wTc?t=889)\n",
        "- [AE 소개영상 3(영어)](https://youtu.be/3jmcHZq3A5s?t=93)"
      ]
    },
    {
      "cell_type": "markdown",
      "metadata": {
        "id": "ITZuApL56Mny"
      },
      "source": [
        "  오토인코더(Autoencoders)는 입력데이터 자체를 레이블로 활용하는 학습방식으로, 별도의 레이블이 필요하지 않는 비지도학습 방식입니다.   이는  데이터 코딩(encoding, decoding)을 위해서 원하는 차원만 할당해주면, 자동으로 학습하여 원하는 형태로 데이터의 차원을 축소해주는 신경망의 한 어플리케이션입니다. <br><br>\n",
        "  오토 인코더의 목적은 네트워크가 중요한 의미를 갖는 신호 외의 \"노이즈\"를 제거하도록 훈련함으로써 일반적인 차원 축소 방법론들과 비슷한 목적으로 활용됩니다. 여기서 코딩된 코드영역을 입력 데이터의 잠재적 표현(Latent representation)이라고 부르게 됩니다. <br><br>\n",
        "  데이터를 잠재적 표현으로 변경하는 차원축소과정(encoding)과 잠재적 표현에서 다시 데이터로 재구성과정(decoding)은 각각의 가중치들의 연산을 통해서 이뤄지고, 이를 신경망을 통해서 학습합니다. <br><br>\n",
        "  그리고 학습 과정에서는 인코딩 모델(파라미터)과 디코딩 모델(파라미터)가 동시에 학습이 되지만, 이를 각각의 모델로 구분하여 사용할 수 있습니다. <br><br>\n",
        "  오토인코더를 통하여, 데이터의 노이즈를 제거하도록 학습하면, 노이즈가 제거된 데이터의 특징값을 추출하는 특성값 추출기(Feature extractor)로 활용할 수 있고, 이 모델을 다양한 방식으로 활용할 수 있습니다. \n",
        "\n",
        "#🏆 학습목표\n",
        "- AutoEncoder (AE)의 구성에 대해서 설명할 수 있어야 합니다. \n",
        "- AE의 학습과정을 이해할 수 있다. \n",
        "- Latent variable의 추상적 개념을 정의할 수 있고,\n",
        "- 이를 활용하여 기본적인 information retrieval problem를 해결해본다.\n",
        "- AE의 활용방안에 대해서 생각해볼 수 있다. \n",
        "\n",
        "\n",
        "Q. label이 없이도 이미지를 일정 크기의 벡터로 자동 표현할 수 있을까?\n",
        "\n",
        "그러면 왜 고정된 크기의 벡터로 표현해야 할까요?\n",
        "\n",
        "* __Information Retrieval__\n",
        "    - [Reverse Image Search](https://en.wikipedia.org/wiki/Reverse_image_search)\n",
        "    - [Recommendation Systems - Content Based Filtering](https://en.wikipedia.org/wiki/Recommender_system#Content-based_filtering)\n",
        "* __Dimensionality Reduction__\n",
        "    - [Feature Extraction](https://www.kaggle.com/c/vsb-power-line-fault-detection/discussion/78285)\n",
        "    - [Manifold Learning](https://en.wikipedia.org/wiki/Nonlinear_dimensionality_reduction) \n",
        "\n",
        "자연어처리(NLP)를 학습기간동안 단어 임베딩 모델에 서 **representation learning**에 대해서 체험한 바 있습니다. 오늘 우리는 오토인코더를 사용하여 Word2Vec처럼, Image2Vec형태로 이미지를 벡터화 하는 것과 유사한 목표를 달성할 수 있습니다. <br><br>\n",
        "\n",
        " **오토인코더는 \"출력 = 입력\"을 학습시키는 신경망**입니다. '비지도학습'이라고도 하지만,  Self-supervised learning(SSL)의 워딩과도 비슷한 개념입니다. 물론 SSL은 더 복잡한 과정이 있긴하지만, 이해를 위해서 이렇게 표현해 보았습니다. \n",
        "<br><br> \n",
        " 학습이 완료된 후에도 일반적으로 입력과 완벽히 똑같은 출력을 만들 수는 없겠지만, 매우 근사한 수치로 복제됩니다. **Loss function에서 입력과 출력의 차이를 이용하기 때문에 출력은 입력과 최대한 근사**하게 만들기 위해서 Latent representation 으로 encoding하고, 다시 data로 decoding하면서 이 latent는 데이터의 정보량이 많은 부분, 또는 대표적인 속성을 우선학습하게 됩니다. 이렇기 때문에 **AE를 생성 모델적 접근 방식**에서도 중요한 부분으로 다뤄지게 됩니다. 이후에 학습하게될 생성모델의 대표적인 모델인 생성적 대립 신경망 (**GAN**)에서도 배우겠지만, 인코더와 디코더가 있는 구조를 이용해서 생성모델을 구현할 수 있습니다. \n",
        " <br><br> \n",
        " 이렇게 오토인코더는 다양한 방식으로 활용할 수 있지만, 기존 신경망(우리가 그간 써왔던 신경망 종류)의 원리가 동일하며, 또한 신경망의 특이 케이스라 생각하시고 학습하시면 됩니다. 그렇기 때문에 기존에 배운 **역전파 및 경사하강법은 여기에도 잘 동작**합니다."
      ]
    },
    {
      "cell_type": "markdown",
      "metadata": {
        "id": "KJeFZTRM0KB2"
      },
      "source": [
        "# AutoEncoder 개요\n",
        "\n",
        "그림의 Input에서 Code(Latent)까지 `Encoder`는 입력 데이터를 압축하고 `decoder`는 압축되지 않은 버전의 데이터를 생성하여 가능한 한 정확하게 입력을 재구성합니다.\n",
        "\n",
        "\n",
        "<img src='https://miro.medium.com/max/1400/1*44eDEuZBEsmG_TCAKRI3Kw@2x.png' width=800/>\n",
        "\n",
        "학습과정 -> minimizing a loss function: \n",
        "$ L(x, g(f(x))) $\n",
        "\n",
        "- $L$ 은 손실함수, $g(f(x))$와 $x$의 dissimiliarity (예, mean squared error)\n",
        "- $f$ 는 encoder function\n",
        "- $g$ 는 decoder function\n",
        "\n",
        "<br>\n",
        "<br>\n",
        "\n",
        "이제 어느정도 신경망에 익숙해 지셨죠? <br> 모델이 어떻게 되든 구축해두면 학습은 되겠지(?)라는 막연한 생각만 가지고 넘어가실 것 같아서, 오토인코더의 학습되는 과정을 한번 살펴보겠습니다.\n",
        "\n",
        "역시 이후에는 3줄로 요약해보실 수 있어야 합니다. \n",
        "<br>\n",
        "<br>\n",
        "\n"
      ]
    },
    {
      "cell_type": "markdown",
      "metadata": {
        "id": "O_Bw6fQUatqS"
      },
      "source": [
        "### Stacked AE\n",
        "\n",
        "<img src=\"https://science.sciencemag.org/content/313/5786/504/F1.large.jpg\"/>\n",
        "\n",
        "<br><br>\n",
        "M사의 모식도를 참고하면, 은닉층의 레이어 수를 다음과 같이 설정하면 [784, 100, 50, 10], <br>\n",
        "학습하는 과정을 모식도로 출력을 해줍니다.\n",
        "\n",
        "<img src=\"https://kr.mathworks.com/help/deeplearning/ug/autoencoderdigitsexample_06_ko_KR.png\"/>\n",
        "\n",
        "<img src=\"https://kr.mathworks.com/help/deeplearning/ug/autoencoderdigitsexample_07_ko_KR.png\"/>\n",
        "\n",
        "<img src=\"https://kr.mathworks.com/help/deeplearning/ug/autoencoderdigitsexample_08_ko_KR.png\"/>"
      ]
    },
    {
      "cell_type": "markdown",
      "metadata": {
        "id": "e1_Y75QXJS6h"
      },
      "source": [
        "# 실습 1"
      ]
    },
    {
      "cell_type": "code",
      "metadata": {
        "execution": {
          "iopub.execute_input": "2020-10-06T01:23:01.840566Z",
          "iopub.status.busy": "2020-10-06T01:23:01.839935Z",
          "iopub.status.idle": "2020-10-06T01:23:09.012855Z",
          "shell.execute_reply": "2020-10-06T01:23:09.012263Z"
        },
        "id": "YfIk2es3hJEd"
      },
      "source": [
        "import matplotlib.pyplot as plt\n",
        "import numpy as np\n",
        "import pandas as pd\n",
        "import tensorflow as tf\n",
        "\n",
        "from sklearn.metrics import accuracy_score, precision_score, recall_score\n",
        "from sklearn.model_selection import train_test_split\n",
        "from tensorflow.keras import layers, losses\n",
        "from tensorflow.keras.datasets import fashion_mnist\n",
        "from tensorflow.keras.models import Model"
      ],
      "execution_count": null,
      "outputs": []
    },
    {
      "cell_type": "markdown",
      "metadata": {
        "id": "VEdCXSwCoKok"
      },
      "source": [
        "### 1. 기본 오토 인코더\n",
        "<img src=\"https://www.tensorflow.org/tutorials/generative/images/intro_autoencoder_result.png\"/>\n",
        "이미지를 64 차원 잠재 벡터로 압축하는 가장 간단한 형태의 `encoder`와 잠재 공간에서 원본 이미지를 재구성하는 `decoder`라는 두 개의 Dense 레이어로 구성된 모델입니다. \n",
        "\n",
        "모델을 정의하려면 [Keras Model Subclassing API](https://www.tensorflow.org/guide/keras/custom_layers_and_models)를 사용하세요."
      ]
    },
    {
      "cell_type": "markdown",
      "metadata": {
        "id": "iYn4MdZnKCey"
      },
      "source": [
        "### 데이터 세트로드\n",
        "시작하려면 Fashion MNIST dataset을 이용하여 오토인코더를 학습합니다. \n",
        "\n",
        "이 데이터 세트의 각 이미지는 28x28 픽셀입니다."
      ]
    },
    {
      "cell_type": "code",
      "metadata": {
        "execution": {
          "iopub.execute_input": "2020-10-06T01:23:09.018610Z",
          "iopub.status.busy": "2020-10-06T01:23:09.017257Z",
          "iopub.status.idle": "2020-10-06T01:23:10.225526Z",
          "shell.execute_reply": "2020-10-06T01:23:10.226032Z"
        },
        "id": "YZm503-I_tji",
        "colab": {
          "base_uri": "https://localhost:8080/"
        },
        "outputId": "554c62c0-711f-4127-b398-41bae4b94e9a"
      },
      "source": [
        "(x_train, _), (x_test, _) = fashion_mnist.load_data()\n",
        "\n",
        "x_train = x_train.astype('float32') / 255.\n",
        "x_test = x_test.astype('float32') / 255.\n",
        "\n",
        "print (x_train.shape)\n",
        "print (x_test.shape)"
      ],
      "execution_count": null,
      "outputs": [
        {
          "output_type": "stream",
          "text": [
            "Downloading data from https://storage.googleapis.com/tensorflow/tf-keras-datasets/train-labels-idx1-ubyte.gz\n",
            "32768/29515 [=================================] - 0s 0us/step\n",
            "Downloading data from https://storage.googleapis.com/tensorflow/tf-keras-datasets/train-images-idx3-ubyte.gz\n",
            "26427392/26421880 [==============================] - 0s 0us/step\n",
            "Downloading data from https://storage.googleapis.com/tensorflow/tf-keras-datasets/t10k-labels-idx1-ubyte.gz\n",
            "8192/5148 [===============================================] - 0s 0us/step\n",
            "Downloading data from https://storage.googleapis.com/tensorflow/tf-keras-datasets/t10k-images-idx3-ubyte.gz\n",
            "4423680/4422102 [==============================] - 0s 0us/step\n",
            "(60000, 28, 28)\n",
            "(10000, 28, 28)\n"
          ],
          "name": "stdout"
        }
      ]
    },
    {
      "cell_type": "code",
      "metadata": {
        "execution": {
          "iopub.execute_input": "2020-10-06T01:23:10.233121Z",
          "iopub.status.busy": "2020-10-06T01:23:10.232398Z",
          "iopub.status.idle": "2020-10-06T01:23:10.415270Z",
          "shell.execute_reply": "2020-10-06T01:23:10.415720Z"
        },
        "id": "0MUxidpyChjX"
      },
      "source": [
        "# Code영역의 벡터(= Latent vector)의 수 정의\n",
        "latent_dim = 64 \n",
        "\n",
        "class Autoencoder(Model):\n",
        "  def __init__(self, latent_dim):\n",
        "    super(Autoencoder, self).__init__()\n",
        "    self.latent_dim = latent_dim   \n",
        "    self.encoder = tf.keras.Sequential([\n",
        "      layers.Flatten(),\n",
        "      layers.Dense(latent_dim, activation='relu'),\n",
        "    ])\n",
        "    self.decoder = tf.keras.Sequential([\n",
        "      layers.Dense(784, activation='sigmoid'),\n",
        "      layers.Reshape((28, 28))\n",
        "    ])\n",
        "\n",
        "  def call(self, x):\n",
        "    encoded = self.encoder(x)\n",
        "    decoded = self.decoder(encoded)\n",
        "    return decoded\n",
        "  \n",
        "# decoded된 데이터를 output으로 설정함\n",
        "autoencoder = Autoencoder(latent_dim) "
      ],
      "execution_count": null,
      "outputs": []
    },
    {
      "cell_type": "code",
      "metadata": {
        "execution": {
          "iopub.execute_input": "2020-10-06T01:23:10.427719Z",
          "iopub.status.busy": "2020-10-06T01:23:10.427100Z",
          "iopub.status.idle": "2020-10-06T01:23:10.434437Z",
          "shell.execute_reply": "2020-10-06T01:23:10.434844Z"
        },
        "id": "9I1JlqEIDCI4"
      },
      "source": [
        "autoencoder.compile(optimizer='adam', loss=losses.MeanSquaredError())"
      ],
      "execution_count": null,
      "outputs": []
    },
    {
      "cell_type": "markdown",
      "metadata": {
        "id": "7oJSeMTroABs"
      },
      "source": [
        "`x_train`을 입력 및 대상으로 사용하여 모델을 훈련시킵니다. \n",
        "\n",
        "`encoder`는 데이터 세트를 784(28x28) 차원에서 latent 공간으로 압축하는 방법을 배우고 \n",
        "\n",
        "`decoder`는 원본 이미지를 재구성하는 방법을 배웁니다."
      ]
    },
    {
      "cell_type": "code",
      "metadata": {
        "execution": {
          "iopub.execute_input": "2020-10-06T01:23:10.735712Z",
          "iopub.status.busy": "2020-10-06T01:23:10.439811Z",
          "iopub.status.idle": "2020-10-06T01:23:44.168800Z",
          "shell.execute_reply": "2020-10-06T01:23:44.168154Z"
        },
        "id": "h1RI9OfHDBsK",
        "colab": {
          "base_uri": "https://localhost:8080/"
        },
        "outputId": "c28ff022-4e28-44e6-a3f1-97bbac7f2829"
      },
      "source": [
        "autoencoder.fit(x_train, x_train,\n",
        "                epochs=10,\n",
        "                shuffle=True,\n",
        "                validation_data=(x_test, x_test))"
      ],
      "execution_count": null,
      "outputs": [
        {
          "output_type": "stream",
          "text": [
            "Epoch 1/10\n",
            "1875/1875 [==============================] - 3s 2ms/step - loss: 0.0238 - val_loss: 0.0138\n",
            "Epoch 2/10\n",
            "1875/1875 [==============================] - 3s 2ms/step - loss: 0.0117 - val_loss: 0.0107\n",
            "Epoch 3/10\n",
            "1875/1875 [==============================] - 3s 2ms/step - loss: 0.0100 - val_loss: 0.0097\n",
            "Epoch 4/10\n",
            "1875/1875 [==============================] - 3s 2ms/step - loss: 0.0094 - val_loss: 0.0095\n",
            "Epoch 5/10\n",
            "1875/1875 [==============================] - 3s 2ms/step - loss: 0.0091 - val_loss: 0.0091\n",
            "Epoch 6/10\n",
            "1875/1875 [==============================] - 3s 2ms/step - loss: 0.0090 - val_loss: 0.0090\n",
            "Epoch 7/10\n",
            "1875/1875 [==============================] - 3s 2ms/step - loss: 0.0089 - val_loss: 0.0090\n",
            "Epoch 8/10\n",
            "1875/1875 [==============================] - 3s 2ms/step - loss: 0.0088 - val_loss: 0.0089\n",
            "Epoch 9/10\n",
            "1875/1875 [==============================] - 3s 2ms/step - loss: 0.0088 - val_loss: 0.0088\n",
            "Epoch 10/10\n",
            "1875/1875 [==============================] - 3s 2ms/step - loss: 0.0087 - val_loss: 0.0088\n"
          ],
          "name": "stdout"
        },
        {
          "output_type": "execute_result",
          "data": {
            "text/plain": [
              "<tensorflow.python.keras.callbacks.History at 0x7f380032b588>"
            ]
          },
          "metadata": {
            "tags": []
          },
          "execution_count": 5
        }
      ]
    },
    {
      "cell_type": "markdown",
      "metadata": {
        "id": "wAM1QBhtoC-n"
      },
      "source": [
        "학습된 모델을 이용하여 테스트 세트의 이미지를 인코딩 및 디코딩하여 모델을 테스트합니다."
      ]
    },
    {
      "cell_type": "code",
      "metadata": {
        "execution": {
          "iopub.execute_input": "2020-10-06T01:23:44.198586Z",
          "iopub.status.busy": "2020-10-06T01:23:44.197198Z",
          "iopub.status.idle": "2020-10-06T01:23:44.240012Z",
          "shell.execute_reply": "2020-10-06T01:23:44.240485Z"
        },
        "id": "Pbr5WCj7FQUi"
      },
      "source": [
        "encoded_imgs = autoencoder.encoder(x_test).numpy()\n",
        "decoded_imgs = autoencoder.decoder(encoded_imgs).numpy()"
      ],
      "execution_count": null,
      "outputs": []
    },
    {
      "cell_type": "code",
      "metadata": {
        "execution": {
          "iopub.execute_input": "2020-10-06T01:23:44.262817Z",
          "iopub.status.busy": "2020-10-06T01:23:44.262068Z",
          "iopub.status.idle": "2020-10-06T01:23:45.059241Z",
          "shell.execute_reply": "2020-10-06T01:23:45.059722Z"
        },
        "id": "s4LlDOS6FUA1",
        "colab": {
          "base_uri": "https://localhost:8080/",
          "height": 264
        },
        "outputId": "4c32fe66-a21c-4cda-8a44-041a4336cf2e"
      },
      "source": [
        "n = 10\n",
        "plt.figure(figsize=(20, 4))\n",
        "for i in range(n):\n",
        "  # display original\n",
        "  ax = plt.subplot(2, n, i + 1)\n",
        "  plt.imshow(x_test[i])\n",
        "  plt.title(\"original\")\n",
        "  plt.gray()\n",
        "  ax.get_xaxis().set_visible(False)\n",
        "  ax.get_yaxis().set_visible(False)\n",
        "\n",
        "  # display reconstruction\n",
        "  ax = plt.subplot(2, n, i + 1 + n)\n",
        "  plt.imshow(decoded_imgs[i])\n",
        "  plt.title(\"reconstructed\")\n",
        "  plt.gray()\n",
        "  ax.get_xaxis().set_visible(False)\n",
        "  ax.get_yaxis().set_visible(False)\n",
        "plt.show()"
      ],
      "execution_count": null,
      "outputs": [
        {
          "output_type": "display_data",
          "data": {
            "image/png": "[encoded data removed]",
            "text/plain": [
              "<Figure size 1440x288 with 20 Axes>"
            ]
          },
          "metadata": {
            "tags": [],
            "needs_background": "light"
          }
        }
      ]
    },
    {
      "cell_type": "markdown",
      "metadata": {
        "id": "KCgdVhQBhtFb"
      },
      "source": [
        "# 실습 2"
      ]
    },
    {
      "cell_type": "markdown",
      "metadata": {
        "id": "r4gv6G8PoRQE"
      },
      "source": [
        "\n",
        "\n",
        "### 노이즈 제거용 오토인코더\n",
        "\n",
        "\n",
        "<img src=\"https://www.tensorflow.org/tutorials/generative/images/image_denoise_fmnist_results.png\" />\n",
        "\n",
        "오토인코더는 이미지에서 노이즈를 제거하도록 훈련 될 수도 있습니다. 다음 섹션에서는 각 이미지에 임의의 노이즈를 적용하여 Fashion MNIST 데이터 세트의 노이즈 버전을 생성합니다. 그런 다음 잡음이있는 이미지를 입력으로 사용하고 원본 이미지를 대상으로 사용하여 오토 인코더를 훈련합니다.\n",
        "\n",
        "이전에 수정 한 내용을 생략하기 위해 데이터 세트를 다시 가져 오겠습니다."
      ]
    },
    {
      "cell_type": "code",
      "metadata": {
        "execution": {
          "iopub.execute_input": "2020-10-06T01:23:45.064078Z",
          "iopub.status.busy": "2020-10-06T01:23:45.063396Z",
          "iopub.status.idle": "2020-10-06T01:23:45.461748Z",
          "shell.execute_reply": "2020-10-06T01:23:45.461152Z"
        },
        "id": "gDYHJA2PCQ3m"
      },
      "source": [
        "(x_train, _), (x_test, _) = fashion_mnist.load_data()"
      ],
      "execution_count": null,
      "outputs": []
    },
    {
      "cell_type": "code",
      "metadata": {
        "execution": {
          "iopub.execute_input": "2020-10-06T01:23:45.466416Z",
          "iopub.status.busy": "2020-10-06T01:23:45.465766Z",
          "iopub.status.idle": "2020-10-06T01:23:45.545755Z",
          "shell.execute_reply": "2020-10-06T01:23:45.545178Z"
        },
        "id": "uJZ-TcaqDBr5",
        "colab": {
          "base_uri": "https://localhost:8080/"
        },
        "outputId": "5a14b69a-d626-49db-f76c-6b9e55771ffe"
      },
      "source": [
        "x_train = x_train.astype('float32') / 255.\n",
        "x_test = x_test.astype('float32') / 255.\n",
        "\n",
        "x_train = x_train[..., tf.newaxis]\n",
        "x_test = x_test[..., tf.newaxis]\n",
        "\n",
        "print(x_train.shape)"
      ],
      "execution_count": null,
      "outputs": [
        {
          "output_type": "stream",
          "text": [
            "(60000, 28, 28, 1)\n"
          ],
          "name": "stdout"
        }
      ]
    },
    {
      "cell_type": "markdown",
      "metadata": {
        "id": "aPZl_6P65_8R"
      },
      "source": [
        "이미지에 random noise 를 만들어 더해줍니다."
      ]
    },
    {
      "cell_type": "code",
      "metadata": {
        "execution": {
          "iopub.execute_input": "2020-10-06T01:23:45.551246Z",
          "iopub.status.busy": "2020-10-06T01:23:45.550491Z",
          "iopub.status.idle": "2020-10-06T01:23:46.237452Z",
          "shell.execute_reply": "2020-10-06T01:23:46.237868Z"
        },
        "id": "axSMyxC354fc"
      },
      "source": [
        "noise_factor = 0.2\n",
        "x_train_noisy = x_train + noise_factor * tf.random.normal(shape=x_train.shape) \n",
        "x_test_noisy = x_test + noise_factor * tf.random.normal(shape=x_test.shape) \n",
        "\n",
        "x_train_noisy = tf.clip_by_value(x_train_noisy, clip_value_min=0., clip_value_max=1.)\n",
        "x_test_noisy = tf.clip_by_value(x_test_noisy, clip_value_min=0., clip_value_max=1.)"
      ],
      "execution_count": null,
      "outputs": []
    },
    {
      "cell_type": "markdown",
      "metadata": {
        "id": "wRxHe4XXltNd"
      },
      "source": [
        "노이즈가 더해진 이미지를 시각화해보면 다음과 같습니다."
      ]
    },
    {
      "cell_type": "code",
      "metadata": {
        "execution": {
          "iopub.execute_input": "2020-10-06T01:23:46.260103Z",
          "iopub.status.busy": "2020-10-06T01:23:46.259390Z",
          "iopub.status.idle": "2020-10-06T01:23:46.883515Z",
          "shell.execute_reply": "2020-10-06T01:23:46.882961Z"
        },
        "id": "thKUmbVVCQpt",
        "colab": {
          "base_uri": "https://localhost:8080/",
          "height": 158
        },
        "outputId": "fce11cd0-d09e-4efa-ac3c-70bb9c6730fe"
      },
      "source": [
        "n = 10\n",
        "plt.figure(figsize=(20, 2))\n",
        "for i in range(n):\n",
        "    ax = plt.subplot(1, n, i + 1)\n",
        "    plt.title(\"original + noise\")\n",
        "    plt.imshow(tf.squeeze(x_test_noisy[i]))\n",
        "    plt.gray()\n",
        "plt.show()"
      ],
      "execution_count": null,
      "outputs": [
        {
          "output_type": "display_data",
          "data": {
            "image/png": "[encoded data removed]",
            "text/plain": [
              "<Figure size 1440x144 with 10 Axes>"
            ]
          },
          "metadata": {
            "tags": [],
            "needs_background": "light"
          }
        }
      ]
    },
    {
      "cell_type": "markdown",
      "metadata": {
        "id": "Sy9SY8jGl5aP"
      },
      "source": [
        "### convolutional autoencoder"
      ]
    },
    {
      "cell_type": "markdown",
      "metadata": {
        "id": "vT_BhZngWMwp"
      },
      "source": [
        "이번 예제는 같은 원리르 갖지만, 가중치의 형태를 CNN형태로 가져옵니다. \n",
        "\n",
        "[Conv2D](https://www.tensorflow.org/api_docs/python/tf/keras/layers/Conv2D) 레이어를 `encoder`로 사용하고, 반대로 `decoder`로는 [Conv2DTranspose](https://www.tensorflow.org/api_docs/python/tf/keras/layers/Conv2DTranspose) 를 사용하는 구조입니다."
      ]
    },
    {
      "cell_type": "code",
      "metadata": {
        "execution": {
          "iopub.execute_input": "2020-10-06T01:23:46.893502Z",
          "iopub.status.busy": "2020-10-06T01:23:46.892809Z",
          "iopub.status.idle": "2020-10-06T01:23:46.922649Z",
          "shell.execute_reply": "2020-10-06T01:23:46.922200Z"
        },
        "id": "R5KjoIlYCQko"
      },
      "source": [
        "# CNN의 형태를 갖는 autoencoder 코드\n",
        "class Denoise(Model):\n",
        "  def __init__(self):\n",
        "    super(Denoise, self).__init__()\n",
        "    self.encoder = tf.keras.Sequential([\n",
        "      layers.Input(shape=(28, 28, 1)), \n",
        "      layers.Conv2D(16, (3,3), activation='relu', padding='same', strides=2),\n",
        "      layers.Conv2D(8, (3,3), activation='relu', padding='same', strides=2)])\n",
        "    \n",
        "    self.decoder = tf.keras.Sequential([\n",
        "      layers.Conv2DTranspose(8, kernel_size=3, strides=2, activation='relu', padding='same'),\n",
        "      layers.Conv2DTranspose(16, kernel_size=3, strides=2, activation='relu', padding='same'),\n",
        "      layers.Conv2D(1, kernel_size=(3,3), activation='sigmoid', padding='same')])\n",
        "    \n",
        "  def call(self, x):\n",
        "    encoded = self.encoder(x)\n",
        "    decoded = self.decoder(encoded)\n",
        "    return decoded\n",
        "\n",
        "autoencoder = Denoise()"
      ],
      "execution_count": null,
      "outputs": []
    },
    {
      "cell_type": "code",
      "metadata": {
        "execution": {
          "iopub.execute_input": "2020-10-06T01:23:46.931148Z",
          "iopub.status.busy": "2020-10-06T01:23:46.930517Z",
          "iopub.status.idle": "2020-10-06T01:23:46.934605Z",
          "shell.execute_reply": "2020-10-06T01:23:46.934154Z"
        },
        "id": "QYKbiDFYCQfj"
      },
      "source": [
        "autoencoder.compile(optimizer='adam', loss=losses.MeanSquaredError())"
      ],
      "execution_count": null,
      "outputs": []
    },
    {
      "cell_type": "code",
      "metadata": {
        "execution": {
          "iopub.execute_input": "2020-10-06T01:23:47.083947Z",
          "iopub.status.busy": "2020-10-06T01:23:47.083143Z",
          "iopub.status.idle": "2020-10-06T01:28:02.130557Z",
          "shell.execute_reply": "2020-10-06T01:28:02.130934Z"
        },
        "id": "IssFr1BNCQX3",
        "colab": {
          "base_uri": "https://localhost:8080/"
        },
        "outputId": "096f2b9c-a686-43ac-8a57-9abf00e17b57"
      },
      "source": [
        "autoencoder.fit(x_train_noisy, x_train,\n",
        "                epochs=10,\n",
        "                shuffle=True,\n",
        "                validation_data=(x_test_noisy, x_test))"
      ],
      "execution_count": null,
      "outputs": [
        {
          "output_type": "stream",
          "text": [
            "Epoch 1/10\n",
            "1875/1875 [==============================] - 5s 3ms/step - loss: 0.0175 - val_loss: 0.0107\n",
            "Epoch 2/10\n",
            "1875/1875 [==============================] - 5s 3ms/step - loss: 0.0098 - val_loss: 0.0091\n",
            "Epoch 3/10\n",
            "1875/1875 [==============================] - 5s 3ms/step - loss: 0.0088 - val_loss: 0.0086\n",
            "Epoch 4/10\n",
            "1875/1875 [==============================] - 5s 2ms/step - loss: 0.0084 - val_loss: 0.0083\n",
            "Epoch 5/10\n",
            "1875/1875 [==============================] - 5s 3ms/step - loss: 0.0081 - val_loss: 0.0081\n",
            "Epoch 6/10\n",
            "1875/1875 [==============================] - 5s 3ms/step - loss: 0.0080 - val_loss: 0.0080\n",
            "Epoch 7/10\n",
            "1875/1875 [==============================] - 5s 3ms/step - loss: 0.0079 - val_loss: 0.0079\n",
            "Epoch 8/10\n",
            "1875/1875 [==============================] - 5s 3ms/step - loss: 0.0078 - val_loss: 0.0078\n",
            "Epoch 9/10\n",
            "1875/1875 [==============================] - 5s 3ms/step - loss: 0.0077 - val_loss: 0.0076\n",
            "Epoch 10/10\n",
            "1875/1875 [==============================] - 5s 3ms/step - loss: 0.0076 - val_loss: 0.0076\n"
          ],
          "name": "stdout"
        },
        {
          "output_type": "execute_result",
          "data": {
            "text/plain": [
              "<tensorflow.python.keras.callbacks.History at 0x7f37ac027b38>"
            ]
          },
          "metadata": {
            "tags": []
          },
          "execution_count": 14
        }
      ]
    },
    {
      "cell_type": "markdown",
      "metadata": {
        "id": "G85xUVBGTAKp"
      },
      "source": [
        "인코더 구조의 summary를 살펴 보겠습니다. \n",
        "\n",
        "이미지가 28x28에서 7x7로 어떻게 다운 샘플링되는지 확인하십시오."
      ]
    },
    {
      "cell_type": "code",
      "metadata": {
        "execution": {
          "iopub.execute_input": "2020-10-06T01:28:02.135694Z",
          "iopub.status.busy": "2020-10-06T01:28:02.134600Z",
          "iopub.status.idle": "2020-10-06T01:28:02.138538Z",
          "shell.execute_reply": "2020-10-06T01:28:02.138926Z"
        },
        "id": "oEpxlX6sTEQz",
        "colab": {
          "base_uri": "https://localhost:8080/"
        },
        "outputId": "39590889-343c-4844-e772-02d0913304f3"
      },
      "source": [
        "autoencoder.encoder.summary()"
      ],
      "execution_count": null,
      "outputs": [
        {
          "output_type": "stream",
          "text": [
            "Model: \"sequential_2\"\n",
            "_________________________________________________________________\n",
            "Layer (type)                 Output Shape              Param #   \n",
            "=================================================================\n",
            "conv2d (Conv2D)              (None, 14, 14, 16)        160       \n",
            "_________________________________________________________________\n",
            "conv2d_1 (Conv2D)            (None, 7, 7, 8)           1160      \n",
            "=================================================================\n",
            "Total params: 1,320\n",
            "Trainable params: 1,320\n",
            "Non-trainable params: 0\n",
            "_________________________________________________________________\n"
          ],
          "name": "stdout"
        }
      ]
    },
    {
      "cell_type": "markdown",
      "metadata": {
        "id": "DDZBfMx1UtXx"
      },
      "source": [
        "디코더의 구조입니다."
      ]
    },
    {
      "cell_type": "code",
      "metadata": {
        "execution": {
          "iopub.execute_input": "2020-10-06T01:28:02.143542Z",
          "iopub.status.busy": "2020-10-06T01:28:02.142867Z",
          "iopub.status.idle": "2020-10-06T01:28:02.146298Z",
          "shell.execute_reply": "2020-10-06T01:28:02.146712Z"
        },
        "id": "pbeQtYMaUpro",
        "colab": {
          "base_uri": "https://localhost:8080/"
        },
        "outputId": "ccaadb63-0fda-46b9-a76f-d7c4f712cd30"
      },
      "source": [
        "autoencoder.decoder.summary()"
      ],
      "execution_count": null,
      "outputs": [
        {
          "output_type": "stream",
          "text": [
            "Model: \"sequential_3\"\n",
            "_________________________________________________________________\n",
            "Layer (type)                 Output Shape              Param #   \n",
            "=================================================================\n",
            "conv2d_transpose (Conv2DTran (None, 14, 14, 8)         584       \n",
            "_________________________________________________________________\n",
            "conv2d_transpose_1 (Conv2DTr (None, 28, 28, 16)        1168      \n",
            "_________________________________________________________________\n",
            "conv2d_2 (Conv2D)            (None, 28, 28, 1)         145       \n",
            "=================================================================\n",
            "Total params: 1,897\n",
            "Trainable params: 1,897\n",
            "Non-trainable params: 0\n",
            "_________________________________________________________________\n"
          ],
          "name": "stdout"
        }
      ]
    },
    {
      "cell_type": "markdown",
      "metadata": {
        "id": "A7-VAuEy_N6M"
      },
      "source": [
        "이 모델로 이미지가 어떻게 변환되는 지 확인해보겠습니다."
      ]
    },
    {
      "cell_type": "code",
      "metadata": {
        "execution": {
          "iopub.execute_input": "2020-10-06T01:28:02.151974Z",
          "iopub.status.busy": "2020-10-06T01:28:02.150623Z",
          "iopub.status.idle": "2020-10-06T01:28:03.019821Z",
          "shell.execute_reply": "2020-10-06T01:28:03.020292Z"
        },
        "id": "t5IyPi1fCQQz"
      },
      "source": [
        "encoded_imgs = autoencoder.encoder(x_test).numpy()\n",
        "decoded_imgs = autoencoder.decoder(encoded_imgs).numpy()"
      ],
      "execution_count": null,
      "outputs": []
    },
    {
      "cell_type": "code",
      "metadata": {
        "execution": {
          "iopub.execute_input": "2020-10-06T01:28:03.042650Z",
          "iopub.status.busy": "2020-10-06T01:28:03.040436Z",
          "iopub.status.idle": "2020-10-06T01:28:03.704010Z",
          "shell.execute_reply": "2020-10-06T01:28:03.704446Z"
        },
        "id": "sfxr9NdBCP_x",
        "colab": {
          "base_uri": "https://localhost:8080/",
          "height": 264
        },
        "outputId": "55a5c367-4932-460e-da84-6eba9f522ecb"
      },
      "source": [
        "n = 10\n",
        "plt.figure(figsize=(20, 4))\n",
        "for i in range(n):\n",
        "\n",
        "    # display original + noise\n",
        "    ax = plt.subplot(2, n, i + 1)\n",
        "    plt.title(\"original + noise\")\n",
        "    plt.imshow(tf.squeeze(x_test_noisy[i]))\n",
        "    plt.gray()\n",
        "    ax.get_xaxis().set_visible(False)\n",
        "    ax.get_yaxis().set_visible(False)\n",
        "\n",
        "    # display reconstruction\n",
        "    bx = plt.subplot(2, n, i + n + 1)\n",
        "    plt.title(\"reconstructed\")\n",
        "    plt.imshow(tf.squeeze(decoded_imgs[i]))\n",
        "    plt.gray()\n",
        "    bx.get_xaxis().set_visible(False)\n",
        "    bx.get_yaxis().set_visible(False)\n",
        "plt.show()"
      ],
      "execution_count": null,
      "outputs": [
        {
          "output_type": "display_data",
          "data": {
            "image/png": "[encoded data removed]",
            "text/plain": [
              "<Figure size 1440x288 with 20 Axes>"
            ]
          },
          "metadata": {
            "tags": [],
            "needs_background": "light"
          }
        }
      ]
    },
    {
      "cell_type": "markdown",
      "metadata": {
        "id": "p9WB057lh02t"
      },
      "source": [
        "# 실습 3"
      ]
    },
    {
      "cell_type": "markdown",
      "metadata": {
        "id": "ErGrTnWHoUYl"
      },
      "source": [
        "### 3. 이상현상 발견 용 오토인코더\n",
        "\n",
        "이 예제에서는 [ECG 5000 데이터 세트](http://www.timeseriesclassification.com/description.php?Dataset=ECG5000)에서 이상현상을 감지하도록 오토인코더를 훈련시킵니다. 이 데이터에는 각각 140개의 데이터로 구성된 5,000 개의 [심전도(ECG, Electrocardiograms)](https://en.wikipedia.org/wiki/Electrocardiography)가 포함되어 있습니다. 각 예제는 '0'(비정상 리듬에 해당) 또는 '1'(정상 리듬에 해당)으로 레이블이 지정된 단순화 된 버전의 데이터 세트를 사용합니다. 비정상적인 리듬을 식별해볼 것입니다.\n",
        "\n",
        "- 참고 : 이 예제는 레이블이 지정된 데이터세트이므로 지도학습 문제라고 할 수 있습니다. 이 예제의 목표는 사용 가능한 레이블이 없는 더 큰 데이터 세트에 적용할 수 있는 이상현상 감지 개념을 설명하는 것입니다 (예, 수천 개의 정상 리듬이 있고 비정상 리듬이 적은 경우).\n",
        "\n",
        "- 오토 인코더를 사용하여 어떻게 이상 현상을 감지합니까? 오토 인코더는 재구성 오류를 최소화하도록 훈련되었습니다. 오토 인코더를 정상적인 리듬으로 만 훈련한 뒤 이를 사용하여 모든 데이터를 재구성합니다. 여기서 우리의 가설은 비정상적인 리듬이 더 높은 재건(reconstruction) 오류를 가질 것이라는 것입니다. 이것을 이용하여 오류가 \"임계 값\"을 초과하는 경우 리듬을 이상으로 분류하는 것입니다. "
      ]
    },
    {
      "cell_type": "markdown",
      "metadata": {
        "id": "i5estNaur_Mh"
      },
      "source": [
        "### 데이터 불러오기 : ECG data"
      ]
    },
    {
      "cell_type": "markdown",
      "metadata": {
        "id": "y35nsXLPsDNX"
      },
      "source": [
        "데이터를 이용하여 시계열의 데이터를 분류할 것입니다.  [timeseriesclassification.com](http://www.timeseriesclassification.com/description.php?Dataset=ECG5000).\n"
      ]
    },
    {
      "cell_type": "code",
      "metadata": {
        "execution": {
          "iopub.execute_input": "2020-10-06T01:28:03.709618Z",
          "iopub.status.busy": "2020-10-06T01:28:03.708898Z",
          "iopub.status.idle": "2020-10-06T01:28:04.101571Z",
          "shell.execute_reply": "2020-10-06T01:28:04.100913Z"
        },
        "id": "KmKRDJWgsFYa",
        "colab": {
          "base_uri": "https://localhost:8080/",
          "height": 253
        },
        "outputId": "d7050562-2941-46d5-8013-89db3af66fdc"
      },
      "source": [
        "# 데이터셋을 불러옵니다. \n",
        "dataframe = pd.read_csv('http://storage.googleapis.com/download.tensorflow.org/data/ecg.csv', header=None)\n",
        "raw_data = dataframe.values\n",
        "dataframe.head()"
      ],
      "execution_count": null,
      "outputs": [
        {
          "output_type": "execute_result",
          "data": {
            "text/html": [
              "<div>\n",
              "<style scoped>\n",
              "    .dataframe tbody tr th:only-of-type {\n",
              "        vertical-align: middle;\n",
              "    }\n",
              "\n",
              "    .dataframe tbody tr th {\n",
              "        vertical-align: top;\n",
              "    }\n",
              "\n",
              "    .dataframe thead th {\n",
              "        text-align: right;\n",
              "    }\n",
              "</style>\n",
              "<table border=\"1\" class=\"dataframe\">\n",
              "  <thead>\n",
              "    <tr style=\"text-align: right;\">\n",
              "      <th></th>\n",
              "      <th>0</th>\n",
              "      <th>1</th>\n",
              "      <th>2</th>\n",
              "      <th>3</th>\n",
              "      <th>4</th>\n",
              "      <th>5</th>\n",
              "      <th>6</th>\n",
              "      <th>7</th>\n",
              "      <th>8</th>\n",
              "      <th>9</th>\n",
              "      <th>10</th>\n",
              "      <th>11</th>\n",
              "      <th>12</th>\n",
              "      <th>13</th>\n",
              "      <th>14</th>\n",
              "      <th>15</th>\n",
              "      <th>16</th>\n",
              "      <th>17</th>\n",
              "      <th>18</th>\n",
              "      <th>19</th>\n",
              "      <th>20</th>\n",
              "      <th>21</th>\n",
              "      <th>22</th>\n",
              "      <th>23</th>\n",
              "      <th>24</th>\n",
              "      <th>25</th>\n",
              "      <th>26</th>\n",
              "      <th>27</th>\n",
              "      <th>28</th>\n",
              "      <th>29</th>\n",
              "      <th>30</th>\n",
              "      <th>31</th>\n",
              "      <th>32</th>\n",
              "      <th>33</th>\n",
              "      <th>34</th>\n",
              "      <th>35</th>\n",
              "      <th>36</th>\n",
              "      <th>37</th>\n",
              "      <th>38</th>\n",
              "      <th>39</th>\n",
              "      <th>...</th>\n",
              "      <th>101</th>\n",
              "      <th>102</th>\n",
              "      <th>103</th>\n",
              "      <th>104</th>\n",
              "      <th>105</th>\n",
              "      <th>106</th>\n",
              "      <th>107</th>\n",
              "      <th>108</th>\n",
              "      <th>109</th>\n",
              "      <th>110</th>\n",
              "      <th>111</th>\n",
              "      <th>112</th>\n",
              "      <th>113</th>\n",
              "      <th>114</th>\n",
              "      <th>115</th>\n",
              "      <th>116</th>\n",
              "      <th>117</th>\n",
              "      <th>118</th>\n",
              "      <th>119</th>\n",
              "      <th>120</th>\n",
              "      <th>121</th>\n",
              "      <th>122</th>\n",
              "      <th>123</th>\n",
              "      <th>124</th>\n",
              "      <th>125</th>\n",
              "      <th>126</th>\n",
              "      <th>127</th>\n",
              "      <th>128</th>\n",
              "      <th>129</th>\n",
              "      <th>130</th>\n",
              "      <th>131</th>\n",
              "      <th>132</th>\n",
              "      <th>133</th>\n",
              "      <th>134</th>\n",
              "      <th>135</th>\n",
              "      <th>136</th>\n",
              "      <th>137</th>\n",
              "      <th>138</th>\n",
              "      <th>139</th>\n",
              "      <th>140</th>\n",
              "    </tr>\n",
              "  </thead>\n",
              "  <tbody>\n",
              "    <tr>\n",
              "      <th>0</th>\n",
              "      <td>-0.112522</td>\n",
              "      <td>-2.827204</td>\n",
              "      <td>-3.773897</td>\n",
              "      <td>-4.349751</td>\n",
              "      <td>-4.376041</td>\n",
              "      <td>-3.474986</td>\n",
              "      <td>-2.181408</td>\n",
              "      <td>-1.818287</td>\n",
              "      <td>-1.250522</td>\n",
              "      <td>-0.477492</td>\n",
              "      <td>-0.363808</td>\n",
              "      <td>-0.491957</td>\n",
              "      <td>-0.421855</td>\n",
              "      <td>-0.309201</td>\n",
              "      <td>-0.495939</td>\n",
              "      <td>-0.342119</td>\n",
              "      <td>-0.355336</td>\n",
              "      <td>-0.367913</td>\n",
              "      <td>-0.316503</td>\n",
              "      <td>-0.412374</td>\n",
              "      <td>-0.471672</td>\n",
              "      <td>-0.413458</td>\n",
              "      <td>-0.364617</td>\n",
              "      <td>-0.449298</td>\n",
              "      <td>-0.471419</td>\n",
              "      <td>-0.424777</td>\n",
              "      <td>-0.462517</td>\n",
              "      <td>-0.552472</td>\n",
              "      <td>-0.475375</td>\n",
              "      <td>-0.694200</td>\n",
              "      <td>-0.701868</td>\n",
              "      <td>-0.593812</td>\n",
              "      <td>-0.660684</td>\n",
              "      <td>-0.713831</td>\n",
              "      <td>-0.769807</td>\n",
              "      <td>-0.672282</td>\n",
              "      <td>-0.653676</td>\n",
              "      <td>-0.639406</td>\n",
              "      <td>-0.559302</td>\n",
              "      <td>-0.591670</td>\n",
              "      <td>...</td>\n",
              "      <td>1.258179</td>\n",
              "      <td>1.433789</td>\n",
              "      <td>1.700533</td>\n",
              "      <td>1.999043</td>\n",
              "      <td>2.125341</td>\n",
              "      <td>1.993291</td>\n",
              "      <td>1.932246</td>\n",
              "      <td>1.797437</td>\n",
              "      <td>1.522284</td>\n",
              "      <td>1.251168</td>\n",
              "      <td>0.998730</td>\n",
              "      <td>0.483722</td>\n",
              "      <td>0.023132</td>\n",
              "      <td>-0.194914</td>\n",
              "      <td>-0.220917</td>\n",
              "      <td>-0.243737</td>\n",
              "      <td>-0.254695</td>\n",
              "      <td>-0.291136</td>\n",
              "      <td>-0.256490</td>\n",
              "      <td>-0.227874</td>\n",
              "      <td>-0.322423</td>\n",
              "      <td>-0.289286</td>\n",
              "      <td>-0.318170</td>\n",
              "      <td>-0.363654</td>\n",
              "      <td>-0.393456</td>\n",
              "      <td>-0.266419</td>\n",
              "      <td>-0.256823</td>\n",
              "      <td>-0.288694</td>\n",
              "      <td>-0.162338</td>\n",
              "      <td>0.160348</td>\n",
              "      <td>0.792168</td>\n",
              "      <td>0.933541</td>\n",
              "      <td>0.796958</td>\n",
              "      <td>0.578621</td>\n",
              "      <td>0.257740</td>\n",
              "      <td>0.228077</td>\n",
              "      <td>0.123431</td>\n",
              "      <td>0.925286</td>\n",
              "      <td>0.193137</td>\n",
              "      <td>1.0</td>\n",
              "    </tr>\n",
              "    <tr>\n",
              "      <th>1</th>\n",
              "      <td>-1.100878</td>\n",
              "      <td>-3.996840</td>\n",
              "      <td>-4.285843</td>\n",
              "      <td>-4.506579</td>\n",
              "      <td>-4.022377</td>\n",
              "      <td>-3.234368</td>\n",
              "      <td>-1.566126</td>\n",
              "      <td>-0.992258</td>\n",
              "      <td>-0.754680</td>\n",
              "      <td>0.042321</td>\n",
              "      <td>0.148951</td>\n",
              "      <td>0.183527</td>\n",
              "      <td>0.294876</td>\n",
              "      <td>0.190233</td>\n",
              "      <td>0.235575</td>\n",
              "      <td>0.253487</td>\n",
              "      <td>0.221742</td>\n",
              "      <td>0.050233</td>\n",
              "      <td>0.178042</td>\n",
              "      <td>0.139563</td>\n",
              "      <td>0.046794</td>\n",
              "      <td>0.043007</td>\n",
              "      <td>0.106544</td>\n",
              "      <td>0.012654</td>\n",
              "      <td>0.003995</td>\n",
              "      <td>0.045724</td>\n",
              "      <td>-0.045999</td>\n",
              "      <td>-0.072667</td>\n",
              "      <td>-0.071078</td>\n",
              "      <td>-0.153866</td>\n",
              "      <td>-0.227254</td>\n",
              "      <td>-0.249270</td>\n",
              "      <td>-0.253489</td>\n",
              "      <td>-0.332835</td>\n",
              "      <td>-0.264330</td>\n",
              "      <td>-0.345825</td>\n",
              "      <td>-0.310781</td>\n",
              "      <td>-0.334160</td>\n",
              "      <td>-0.306178</td>\n",
              "      <td>-0.174563</td>\n",
              "      <td>...</td>\n",
              "      <td>1.808428</td>\n",
              "      <td>2.164346</td>\n",
              "      <td>2.070747</td>\n",
              "      <td>1.903614</td>\n",
              "      <td>1.764455</td>\n",
              "      <td>1.507769</td>\n",
              "      <td>1.293428</td>\n",
              "      <td>0.894562</td>\n",
              "      <td>0.578016</td>\n",
              "      <td>0.244343</td>\n",
              "      <td>-0.286443</td>\n",
              "      <td>-0.515881</td>\n",
              "      <td>-0.732707</td>\n",
              "      <td>-0.832465</td>\n",
              "      <td>-0.803318</td>\n",
              "      <td>-0.836252</td>\n",
              "      <td>-0.777865</td>\n",
              "      <td>-0.774753</td>\n",
              "      <td>-0.733404</td>\n",
              "      <td>-0.721386</td>\n",
              "      <td>-0.832095</td>\n",
              "      <td>-0.711982</td>\n",
              "      <td>-0.751867</td>\n",
              "      <td>-0.757720</td>\n",
              "      <td>-0.853120</td>\n",
              "      <td>-0.766988</td>\n",
              "      <td>-0.688161</td>\n",
              "      <td>-0.519923</td>\n",
              "      <td>0.039406</td>\n",
              "      <td>0.560327</td>\n",
              "      <td>0.538356</td>\n",
              "      <td>0.656881</td>\n",
              "      <td>0.787490</td>\n",
              "      <td>0.724046</td>\n",
              "      <td>0.555784</td>\n",
              "      <td>0.476333</td>\n",
              "      <td>0.773820</td>\n",
              "      <td>1.119621</td>\n",
              "      <td>-1.436250</td>\n",
              "      <td>1.0</td>\n",
              "    </tr>\n",
              "    <tr>\n",
              "      <th>2</th>\n",
              "      <td>-0.567088</td>\n",
              "      <td>-2.593450</td>\n",
              "      <td>-3.874230</td>\n",
              "      <td>-4.584095</td>\n",
              "      <td>-4.187449</td>\n",
              "      <td>-3.151462</td>\n",
              "      <td>-1.742940</td>\n",
              "      <td>-1.490658</td>\n",
              "      <td>-1.183580</td>\n",
              "      <td>-0.394229</td>\n",
              "      <td>-0.282897</td>\n",
              "      <td>-0.356926</td>\n",
              "      <td>-0.287297</td>\n",
              "      <td>-0.399489</td>\n",
              "      <td>-0.473244</td>\n",
              "      <td>-0.379048</td>\n",
              "      <td>-0.399039</td>\n",
              "      <td>-0.178594</td>\n",
              "      <td>-0.339522</td>\n",
              "      <td>-0.498447</td>\n",
              "      <td>-0.337251</td>\n",
              "      <td>-0.425480</td>\n",
              "      <td>-0.423952</td>\n",
              "      <td>-0.463170</td>\n",
              "      <td>-0.493253</td>\n",
              "      <td>-0.549749</td>\n",
              "      <td>-0.529831</td>\n",
              "      <td>-0.530935</td>\n",
              "      <td>-0.502365</td>\n",
              "      <td>-0.417368</td>\n",
              "      <td>-0.526346</td>\n",
              "      <td>-0.471005</td>\n",
              "      <td>-0.676784</td>\n",
              "      <td>-0.898612</td>\n",
              "      <td>-0.610571</td>\n",
              "      <td>-0.530164</td>\n",
              "      <td>-0.765674</td>\n",
              "      <td>-0.581937</td>\n",
              "      <td>-0.537848</td>\n",
              "      <td>-0.556386</td>\n",
              "      <td>...</td>\n",
              "      <td>1.810988</td>\n",
              "      <td>2.185398</td>\n",
              "      <td>2.262985</td>\n",
              "      <td>2.052920</td>\n",
              "      <td>1.890488</td>\n",
              "      <td>1.793033</td>\n",
              "      <td>1.564784</td>\n",
              "      <td>1.234619</td>\n",
              "      <td>0.900302</td>\n",
              "      <td>0.551957</td>\n",
              "      <td>0.258222</td>\n",
              "      <td>-0.128587</td>\n",
              "      <td>-0.092585</td>\n",
              "      <td>-0.168606</td>\n",
              "      <td>-0.495989</td>\n",
              "      <td>-0.395034</td>\n",
              "      <td>-0.328238</td>\n",
              "      <td>-0.448138</td>\n",
              "      <td>-0.268230</td>\n",
              "      <td>-0.456415</td>\n",
              "      <td>-0.357867</td>\n",
              "      <td>-0.317508</td>\n",
              "      <td>-0.434112</td>\n",
              "      <td>-0.549203</td>\n",
              "      <td>-0.324615</td>\n",
              "      <td>-0.268082</td>\n",
              "      <td>-0.220384</td>\n",
              "      <td>-0.117429</td>\n",
              "      <td>0.614059</td>\n",
              "      <td>1.284825</td>\n",
              "      <td>0.886073</td>\n",
              "      <td>0.531452</td>\n",
              "      <td>0.311377</td>\n",
              "      <td>-0.021919</td>\n",
              "      <td>-0.713683</td>\n",
              "      <td>-0.532197</td>\n",
              "      <td>0.321097</td>\n",
              "      <td>0.904227</td>\n",
              "      <td>-0.421797</td>\n",
              "      <td>1.0</td>\n",
              "    </tr>\n",
              "    <tr>\n",
              "      <th>3</th>\n",
              "      <td>0.490473</td>\n",
              "      <td>-1.914407</td>\n",
              "      <td>-3.616364</td>\n",
              "      <td>-4.318823</td>\n",
              "      <td>-4.268016</td>\n",
              "      <td>-3.881110</td>\n",
              "      <td>-2.993280</td>\n",
              "      <td>-1.671131</td>\n",
              "      <td>-1.333884</td>\n",
              "      <td>-0.965629</td>\n",
              "      <td>-0.183319</td>\n",
              "      <td>-0.101657</td>\n",
              "      <td>-0.273874</td>\n",
              "      <td>-0.127818</td>\n",
              "      <td>-0.195983</td>\n",
              "      <td>-0.213523</td>\n",
              "      <td>-0.176473</td>\n",
              "      <td>-0.156932</td>\n",
              "      <td>-0.149172</td>\n",
              "      <td>-0.181510</td>\n",
              "      <td>-0.180074</td>\n",
              "      <td>-0.246151</td>\n",
              "      <td>-0.274260</td>\n",
              "      <td>-0.140960</td>\n",
              "      <td>-0.277449</td>\n",
              "      <td>-0.382549</td>\n",
              "      <td>-0.311937</td>\n",
              "      <td>-0.360093</td>\n",
              "      <td>-0.405968</td>\n",
              "      <td>-0.571433</td>\n",
              "      <td>-0.524106</td>\n",
              "      <td>-0.537886</td>\n",
              "      <td>-0.606778</td>\n",
              "      <td>-0.661446</td>\n",
              "      <td>-0.683375</td>\n",
              "      <td>-0.746683</td>\n",
              "      <td>-0.635662</td>\n",
              "      <td>-0.625231</td>\n",
              "      <td>-0.540094</td>\n",
              "      <td>-0.674995</td>\n",
              "      <td>...</td>\n",
              "      <td>1.772155</td>\n",
              "      <td>2.000769</td>\n",
              "      <td>1.925003</td>\n",
              "      <td>1.898426</td>\n",
              "      <td>1.720953</td>\n",
              "      <td>1.501711</td>\n",
              "      <td>1.422492</td>\n",
              "      <td>1.023225</td>\n",
              "      <td>0.776341</td>\n",
              "      <td>0.504426</td>\n",
              "      <td>0.056382</td>\n",
              "      <td>-0.233161</td>\n",
              "      <td>-0.406388</td>\n",
              "      <td>-0.327528</td>\n",
              "      <td>-0.460868</td>\n",
              "      <td>-0.402536</td>\n",
              "      <td>-0.345752</td>\n",
              "      <td>-0.354206</td>\n",
              "      <td>-0.439959</td>\n",
              "      <td>-0.425326</td>\n",
              "      <td>-0.439789</td>\n",
              "      <td>-0.451835</td>\n",
              "      <td>-0.395926</td>\n",
              "      <td>-0.448762</td>\n",
              "      <td>-0.391789</td>\n",
              "      <td>-0.376307</td>\n",
              "      <td>-0.461069</td>\n",
              "      <td>-0.253524</td>\n",
              "      <td>0.213006</td>\n",
              "      <td>0.491173</td>\n",
              "      <td>0.350816</td>\n",
              "      <td>0.499111</td>\n",
              "      <td>0.600345</td>\n",
              "      <td>0.842069</td>\n",
              "      <td>0.952074</td>\n",
              "      <td>0.990133</td>\n",
              "      <td>1.086798</td>\n",
              "      <td>1.403011</td>\n",
              "      <td>-0.383564</td>\n",
              "      <td>1.0</td>\n",
              "    </tr>\n",
              "    <tr>\n",
              "      <th>4</th>\n",
              "      <td>0.800232</td>\n",
              "      <td>-0.874252</td>\n",
              "      <td>-2.384761</td>\n",
              "      <td>-3.973292</td>\n",
              "      <td>-4.338224</td>\n",
              "      <td>-3.802422</td>\n",
              "      <td>-2.534510</td>\n",
              "      <td>-1.783423</td>\n",
              "      <td>-1.594450</td>\n",
              "      <td>-0.753199</td>\n",
              "      <td>-0.298107</td>\n",
              "      <td>-0.428928</td>\n",
              "      <td>-0.491351</td>\n",
              "      <td>-0.361304</td>\n",
              "      <td>-0.339296</td>\n",
              "      <td>-0.324952</td>\n",
              "      <td>-0.290113</td>\n",
              "      <td>-0.363051</td>\n",
              "      <td>-0.525684</td>\n",
              "      <td>-0.597423</td>\n",
              "      <td>-0.575523</td>\n",
              "      <td>-0.567503</td>\n",
              "      <td>-0.504555</td>\n",
              "      <td>-0.618406</td>\n",
              "      <td>-0.682814</td>\n",
              "      <td>-0.743849</td>\n",
              "      <td>-0.815588</td>\n",
              "      <td>-0.826902</td>\n",
              "      <td>-0.782374</td>\n",
              "      <td>-0.929462</td>\n",
              "      <td>-0.999672</td>\n",
              "      <td>-1.060969</td>\n",
              "      <td>-1.007877</td>\n",
              "      <td>-1.028735</td>\n",
              "      <td>-1.122629</td>\n",
              "      <td>-1.028650</td>\n",
              "      <td>-1.046515</td>\n",
              "      <td>-1.063372</td>\n",
              "      <td>-1.122423</td>\n",
              "      <td>-0.983242</td>\n",
              "      <td>...</td>\n",
              "      <td>1.155363</td>\n",
              "      <td>1.336254</td>\n",
              "      <td>1.627534</td>\n",
              "      <td>1.717594</td>\n",
              "      <td>1.696487</td>\n",
              "      <td>1.741686</td>\n",
              "      <td>1.674078</td>\n",
              "      <td>1.546928</td>\n",
              "      <td>1.331738</td>\n",
              "      <td>1.110168</td>\n",
              "      <td>0.922210</td>\n",
              "      <td>0.521777</td>\n",
              "      <td>0.154852</td>\n",
              "      <td>-0.123861</td>\n",
              "      <td>-0.202998</td>\n",
              "      <td>-0.247956</td>\n",
              "      <td>-0.219122</td>\n",
              "      <td>-0.214695</td>\n",
              "      <td>-0.319215</td>\n",
              "      <td>-0.198597</td>\n",
              "      <td>-0.151618</td>\n",
              "      <td>-0.129593</td>\n",
              "      <td>-0.074939</td>\n",
              "      <td>-0.196807</td>\n",
              "      <td>-0.174795</td>\n",
              "      <td>-0.208833</td>\n",
              "      <td>-0.210754</td>\n",
              "      <td>-0.100485</td>\n",
              "      <td>0.197446</td>\n",
              "      <td>0.966606</td>\n",
              "      <td>1.148884</td>\n",
              "      <td>0.958434</td>\n",
              "      <td>1.059025</td>\n",
              "      <td>1.371682</td>\n",
              "      <td>1.277392</td>\n",
              "      <td>0.960304</td>\n",
              "      <td>0.971020</td>\n",
              "      <td>1.614392</td>\n",
              "      <td>1.421456</td>\n",
              "      <td>1.0</td>\n",
              "    </tr>\n",
              "  </tbody>\n",
              "</table>\n",
              "<p>5 rows × 141 columns</p>\n",
              "</div>"
            ],
            "text/plain": [
              "        0         1         2         3    ...       137       138       139  140\n",
              "0 -0.112522 -2.827204 -3.773897 -4.349751  ...  0.123431  0.925286  0.193137  1.0\n",
              "1 -1.100878 -3.996840 -4.285843 -4.506579  ...  0.773820  1.119621 -1.436250  1.0\n",
              "2 -0.567088 -2.593450 -3.874230 -4.584095  ...  0.321097  0.904227 -0.421797  1.0\n",
              "3  0.490473 -1.914407 -3.616364 -4.318823  ...  1.086798  1.403011 -0.383564  1.0\n",
              "4  0.800232 -0.874252 -2.384761 -3.973292  ...  0.971020  1.614392  1.421456  1.0\n",
              "\n",
              "[5 rows x 141 columns]"
            ]
          },
          "metadata": {
            "tags": []
          },
          "execution_count": 19
        }
      ]
    },
    {
      "cell_type": "code",
      "metadata": {
        "execution": {
          "iopub.execute_input": "2020-10-06T01:28:04.108858Z",
          "iopub.status.busy": "2020-10-06T01:28:04.107248Z",
          "iopub.status.idle": "2020-10-06T01:28:04.111983Z",
          "shell.execute_reply": "2020-10-06T01:28:04.112372Z"
        },
        "id": "UmuCPVYKsKKx"
      },
      "source": [
        "# 마지막으로 포함된 레이블을 따로 저장합니다.\n",
        "labels = raw_data[:, -1]\n",
        "\n",
        "# 데이터에서는 레이블을 제거해줍니다.\n",
        "data = raw_data[:, 0:-1]\n",
        "\n",
        "train_data, test_data, train_labels, test_labels = train_test_split(\n",
        "    data, labels, test_size=0.2, random_state=21\n",
        ")"
      ],
      "execution_count": null,
      "outputs": []
    },
    {
      "cell_type": "markdown",
      "metadata": {
        "id": "byK2vP7hsMbz"
      },
      "source": [
        "데이터를`[0,1]`로 정규화 합니다.\n"
      ]
    },
    {
      "cell_type": "code",
      "metadata": {
        "execution": {
          "iopub.execute_input": "2020-10-06T01:28:04.119731Z",
          "iopub.status.busy": "2020-10-06T01:28:04.118131Z",
          "iopub.status.idle": "2020-10-06T01:28:04.126147Z",
          "shell.execute_reply": "2020-10-06T01:28:04.125674Z"
        },
        "id": "tgMZVWRKsPx6"
      },
      "source": [
        "# min-max 알고리즘을 이용하여 정규화합니다. \n",
        "min_val = tf.reduce_min(train_data)\n",
        "max_val = tf.reduce_max(train_data)\n",
        "\n",
        "train_data = (train_data - min_val) / (max_val - min_val)\n",
        "test_data = (test_data - min_val) / (max_val - min_val)\n",
        "\n",
        "train_data = tf.cast(train_data, tf.float32)\n",
        "test_data = tf.cast(test_data, tf.float32)"
      ],
      "execution_count": null,
      "outputs": []
    },
    {
      "cell_type": "markdown",
      "metadata": {
        "id": "BdSYr2IPsTiz"
      },
      "source": [
        "앞서 설명한 것처럼 모델 학습을 할 때에는 데이터세트 중에서 '1'로 레이블이 지정된 일반(정상) 리듬 만 사용하여 오토인코더를 훈련합니다. "
      ]
    },
    {
      "cell_type": "code",
      "metadata": {
        "execution": {
          "iopub.execute_input": "2020-10-06T01:28:04.131533Z",
          "iopub.status.busy": "2020-10-06T01:28:04.130547Z",
          "iopub.status.idle": "2020-10-06T01:28:04.137506Z",
          "shell.execute_reply": "2020-10-06T01:28:04.137920Z"
        },
        "id": "VvK4NRe8sVhE"
      },
      "source": [
        "train_labels = train_labels.astype(bool)\n",
        "test_labels = test_labels.astype(bool)\n",
        "\n",
        "normal_train_data = train_data[train_labels]\n",
        "normal_test_data = test_data[test_labels]\n",
        "\n",
        "anomalous_train_data = train_data[~train_labels]\n",
        "anomalous_test_data = test_data[~test_labels]"
      ],
      "execution_count": null,
      "outputs": []
    },
    {
      "cell_type": "markdown",
      "metadata": {
        "id": "wVcTBDo-CqFS"
      },
      "source": [
        "ECG의 파장을 한번 플로팅 해보겠습니다."
      ]
    },
    {
      "cell_type": "code",
      "metadata": {
        "execution": {
          "iopub.execute_input": "2020-10-06T01:28:04.159711Z",
          "iopub.status.busy": "2020-10-06T01:28:04.158892Z",
          "iopub.status.idle": "2020-10-06T01:28:04.263837Z",
          "shell.execute_reply": "2020-10-06T01:28:04.264243Z"
        },
        "id": "ZTlMIrpmseYe",
        "colab": {
          "base_uri": "https://localhost:8080/",
          "height": 281
        },
        "outputId": "8cedad4b-657f-42da-f290-e501bf66333d"
      },
      "source": [
        "plt.grid()\n",
        "plt.plot(np.arange(140), normal_train_data[0])\n",
        "plt.title(\"A Normal ECG\")\n",
        "plt.show()"
      ],
      "execution_count": null,
      "outputs": [
        {
          "output_type": "display_data",
          "data": {
            "image/png": "[encoded data removed]",
            "text/plain": [
              "<Figure size 432x288 with 1 Axes>"
            ]
          },
          "metadata": {
            "tags": [],
            "needs_background": "light"
          }
        }
      ]
    },
    {
      "cell_type": "markdown",
      "metadata": {
        "id": "QpI9by2ZA0NN"
      },
      "source": [
        "이상현상이 발생한 ECG 데이터 역시 플로팅해보겠습니다."
      ]
    },
    {
      "cell_type": "code",
      "metadata": {
        "execution": {
          "iopub.execute_input": "2020-10-06T01:28:04.403712Z",
          "iopub.status.busy": "2020-10-06T01:28:04.402935Z",
          "iopub.status.idle": "2020-10-06T01:28:04.525277Z",
          "shell.execute_reply": "2020-10-06T01:28:04.525682Z"
        },
        "id": "zrpXREF2siBr",
        "colab": {
          "base_uri": "https://localhost:8080/",
          "height": 281
        },
        "outputId": "c9a7147f-d86a-4c7a-9646-39e2a20b3c60"
      },
      "source": [
        "plt.grid()\n",
        "plt.plot(np.arange(140), anomalous_train_data[0])\n",
        "plt.title(\"An Anomalous ECG\")\n",
        "plt.show()"
      ],
      "execution_count": null,
      "outputs": [
        {
          "output_type": "display_data",
          "data": {
            "image/png": "[encoded data removed]",
            "text/plain": [
              "<Figure size 432x288 with 1 Axes>"
            ]
          },
          "metadata": {
            "tags": [],
            "needs_background": "light"
          }
        }
      ]
    },
    {
      "cell_type": "markdown",
      "metadata": {
        "id": "0DS6QKZJslZz"
      },
      "source": [
        "### 학습 모델 구축"
      ]
    },
    {
      "cell_type": "code",
      "metadata": {
        "execution": {
          "iopub.execute_input": "2020-10-06T01:28:04.534448Z",
          "iopub.status.busy": "2020-10-06T01:28:04.533773Z",
          "iopub.status.idle": "2020-10-06T01:28:04.545480Z",
          "shell.execute_reply": "2020-10-06T01:28:04.545010Z"
        },
        "id": "bf6owZQDsp9y"
      },
      "source": [
        "class AnomalyDetector(Model):\n",
        "  def __init__(self):\n",
        "    super(AnomalyDetector, self).__init__()\n",
        "    self.encoder = tf.keras.Sequential([\n",
        "      layers.Dense(32, activation=\"relu\"),\n",
        "      layers.Dense(16, activation=\"relu\"),\n",
        "      layers.Dense(8, activation=\"relu\")])\n",
        "    \n",
        "    self.decoder = tf.keras.Sequential([\n",
        "      layers.Dense(16, activation=\"relu\"),\n",
        "      layers.Dense(32, activation=\"relu\"),\n",
        "      layers.Dense(140, activation=\"sigmoid\")])\n",
        "    \n",
        "  def call(self, x):\n",
        "    encoded = self.encoder(x)\n",
        "    decoded = self.decoder(encoded)\n",
        "    return decoded\n",
        "\n",
        "autoencoder = AnomalyDetector()"
      ],
      "execution_count": null,
      "outputs": []
    },
    {
      "cell_type": "code",
      "metadata": {
        "execution": {
          "iopub.execute_input": "2020-10-06T01:28:04.553521Z",
          "iopub.status.busy": "2020-10-06T01:28:04.552667Z",
          "iopub.status.idle": "2020-10-06T01:28:04.556458Z",
          "shell.execute_reply": "2020-10-06T01:28:04.555950Z"
        },
        "id": "gwRpBBbg463S"
      },
      "source": [
        "autoencoder.compile(optimizer='adam', loss='mae')"
      ],
      "execution_count": null,
      "outputs": []
    },
    {
      "cell_type": "markdown",
      "metadata": {
        "id": "zuTy60STBEy4"
      },
      "source": [
        "정상 ECG 만 사용하여 훈련하고, 테스트 용도에서는 정상과 비정상이 섞인 상태를 평가하게 됩니다. "
      ]
    },
    {
      "cell_type": "code",
      "metadata": {
        "execution": {
          "iopub.execute_input": "2020-10-06T01:28:04.561275Z",
          "iopub.status.busy": "2020-10-06T01:28:04.560549Z",
          "iopub.status.idle": "2020-10-06T01:28:05.541634Z",
          "shell.execute_reply": "2020-10-06T01:28:05.540993Z"
        },
        "id": "V6NFSs-jsty2",
        "colab": {
          "base_uri": "https://localhost:8080/"
        },
        "outputId": "b72c87ee-56c6-4d17-def7-2d07adf777cf"
      },
      "source": [
        "history = autoencoder.fit(normal_train_data, normal_train_data, \n",
        "          epochs=20, \n",
        "          batch_size=512,\n",
        "          validation_data=(test_data, test_data),\n",
        "          shuffle=True)"
      ],
      "execution_count": null,
      "outputs": [
        {
          "output_type": "stream",
          "text": [
            "Epoch 1/20\n",
            "5/5 [==============================] - 0s 21ms/step - loss: 0.0581 - val_loss: 0.0534\n",
            "Epoch 2/20\n",
            "5/5 [==============================] - 0s 5ms/step - loss: 0.0557 - val_loss: 0.0514\n",
            "Epoch 3/20\n",
            "5/5 [==============================] - 0s 5ms/step - loss: 0.0526 - val_loss: 0.0498\n",
            "Epoch 4/20\n",
            "5/5 [==============================] - 0s 5ms/step - loss: 0.0491 - val_loss: 0.0471\n",
            "Epoch 5/20\n",
            "5/5 [==============================] - 0s 6ms/step - loss: 0.0454 - val_loss: 0.0453\n",
            "Epoch 6/20\n",
            "5/5 [==============================] - 0s 5ms/step - loss: 0.0419 - val_loss: 0.0436\n",
            "Epoch 7/20\n",
            "5/5 [==============================] - 0s 5ms/step - loss: 0.0384 - val_loss: 0.0418\n",
            "Epoch 8/20\n",
            "5/5 [==============================] - 0s 5ms/step - loss: 0.0353 - val_loss: 0.0407\n",
            "Epoch 9/20\n",
            "5/5 [==============================] - 0s 5ms/step - loss: 0.0325 - val_loss: 0.0391\n",
            "Epoch 10/20\n",
            "5/5 [==============================] - 0s 5ms/step - loss: 0.0302 - val_loss: 0.0380\n",
            "Epoch 11/20\n",
            "5/5 [==============================] - 0s 5ms/step - loss: 0.0285 - val_loss: 0.0372\n",
            "Epoch 12/20\n",
            "5/5 [==============================] - 0s 6ms/step - loss: 0.0272 - val_loss: 0.0365\n",
            "Epoch 13/20\n",
            "5/5 [==============================] - 0s 5ms/step - loss: 0.0260 - val_loss: 0.0356\n",
            "Epoch 14/20\n",
            "5/5 [==============================] - 0s 5ms/step - loss: 0.0251 - val_loss: 0.0349\n",
            "Epoch 15/20\n",
            "5/5 [==============================] - 0s 5ms/step - loss: 0.0242 - val_loss: 0.0345\n",
            "Epoch 16/20\n",
            "5/5 [==============================] - 0s 5ms/step - loss: 0.0235 - val_loss: 0.0338\n",
            "Epoch 17/20\n",
            "5/5 [==============================] - 0s 5ms/step - loss: 0.0229 - val_loss: 0.0331\n",
            "Epoch 18/20\n",
            "5/5 [==============================] - 0s 6ms/step - loss: 0.0222 - val_loss: 0.0327\n",
            "Epoch 19/20\n",
            "5/5 [==============================] - 0s 5ms/step - loss: 0.0216 - val_loss: 0.0322\n",
            "Epoch 20/20\n",
            "5/5 [==============================] - 0s 5ms/step - loss: 0.0211 - val_loss: 0.0318\n"
          ],
          "name": "stdout"
        }
      ]
    },
    {
      "cell_type": "code",
      "metadata": {
        "execution": {
          "iopub.execute_input": "2020-10-06T01:28:05.565088Z",
          "iopub.status.busy": "2020-10-06T01:28:05.564408Z",
          "iopub.status.idle": "2020-10-06T01:28:05.695322Z",
          "shell.execute_reply": "2020-10-06T01:28:05.694834Z"
        },
        "id": "OEexphFwwTQS",
        "colab": {
          "base_uri": "https://localhost:8080/",
          "height": 282
        },
        "outputId": "c24c663b-eb53-49cb-a23c-3642b772287e"
      },
      "source": [
        "plt.plot(history.history[\"loss\"], label=\"Training Loss\")\n",
        "plt.plot(history.history[\"val_loss\"], label=\"Validation Loss\")\n",
        "plt.legend()"
      ],
      "execution_count": null,
      "outputs": [
        {
          "output_type": "execute_result",
          "data": {
            "text/plain": [
              "<matplotlib.legend.Legend at 0x7f37a42c50f0>"
            ]
          },
          "metadata": {
            "tags": []
          },
          "execution_count": 28
        },
        {
          "output_type": "display_data",
          "data": {
            "image/png": "[encoded data removed]",
            "text/plain": [
              "<Figure size 432x288 with 1 Axes>"
            ]
          },
          "metadata": {
            "tags": [],
            "needs_background": "light"
          }
        }
      ]
    },
    {
      "cell_type": "markdown",
      "metadata": {
        "id": "ceI5lKv1BT-A"
      },
      "source": [
        "재구성 오류가 일반 ECG의 표준 편차 1보다 큰 경우 ECG를 비정상으로 분류하도록 정의합니다.\n",
        "\n",
        "먼저 학습 세트에서 일반 ECG, 오토 인코더에 의해 인코딩 및 디코딩 된 후의 재구성 및 재구성 오류를 플로팅 해 보겠습니다."
      ]
    },
    {
      "cell_type": "code",
      "metadata": {
        "execution": {
          "iopub.execute_input": "2020-10-06T01:28:05.702481Z",
          "iopub.status.busy": "2020-10-06T01:28:05.701211Z",
          "iopub.status.idle": "2020-10-06T01:28:05.844733Z",
          "shell.execute_reply": "2020-10-06T01:28:05.845190Z"
        },
        "id": "hmsk4DuktxJ2",
        "colab": {
          "base_uri": "https://localhost:8080/",
          "height": 265
        },
        "outputId": "70a909b3-4fbf-46bf-c5dd-9124668d675e"
      },
      "source": [
        "encoded_imgs = autoencoder.encoder(normal_test_data).numpy()\n",
        "decoded_imgs = autoencoder.decoder(encoded_imgs).numpy()\n",
        "\n",
        "plt.plot(normal_test_data[0],'b')\n",
        "plt.plot(decoded_imgs[0],'r')\n",
        "plt.fill_between(np.arange(140), decoded_imgs[0], normal_test_data[0], color='lightcoral' )\n",
        "plt.legend(labels=[\"Input\", \"Reconstruction\", \"Error\"])\n",
        "plt.show()"
      ],
      "execution_count": null,
      "outputs": [
        {
          "output_type": "display_data",
          "data": {
            "image/png": "[encoded data removed]",
            "text/plain": [
              "<Figure size 432x288 with 1 Axes>"
            ]
          },
          "metadata": {
            "tags": [],
            "needs_background": "light"
          }
        }
      ]
    },
    {
      "cell_type": "markdown",
      "metadata": {
        "id": "ocA_q9ufB_aF"
      },
      "source": [
        "같은 방식의 이상현상(anomalous) 샘플을 플로팅 해봅니다. "
      ]
    },
    {
      "cell_type": "code",
      "metadata": {
        "execution": {
          "iopub.execute_input": "2020-10-06T01:28:05.851170Z",
          "iopub.status.busy": "2020-10-06T01:28:05.850522Z",
          "iopub.status.idle": "2020-10-06T01:28:05.988019Z",
          "shell.execute_reply": "2020-10-06T01:28:05.988431Z"
        },
        "id": "vNFTuPhLwTBn",
        "colab": {
          "base_uri": "https://localhost:8080/",
          "height": 265
        },
        "outputId": "382b489b-f3c3-43c1-b8cc-2092c0893cd1"
      },
      "source": [
        "encoded_imgs = autoencoder.encoder(anomalous_test_data).numpy()\n",
        "decoded_imgs = autoencoder.decoder(encoded_imgs).numpy()\n",
        "\n",
        "plt.plot(anomalous_test_data[0],'b')\n",
        "plt.plot(decoded_imgs[0],'r')\n",
        "plt.fill_between(np.arange(140), decoded_imgs[0], anomalous_test_data[0], color='lightcoral' )\n",
        "plt.legend(labels=[\"Input\", \"Reconstruction\", \"Error\"])\n",
        "plt.show()"
      ],
      "execution_count": null,
      "outputs": [
        {
          "output_type": "display_data",
          "data": {
            "image/png": "[encoded data removed]",
            "text/plain": [
              "<Figure size 432x288 with 1 Axes>"
            ]
          },
          "metadata": {
            "tags": [],
            "needs_background": "light"
          }
        }
      ]
    },
    {
      "cell_type": "markdown",
      "metadata": {
        "id": "ocimg3MBswdS"
      },
      "source": [
        "### 이상현상 탐지해보기"
      ]
    },
    {
      "cell_type": "markdown",
      "metadata": {
        "id": "Xnh8wmkDsypN"
      },
      "source": [
        "재구성 손실이 고정 임계 값보다 큰지 여부를 계산하여 이상을 감지합니다. \n",
        "이 튜토리얼에서는 훈련 세트의 정상 예제에 대한 평균 오차(MAE)를 계산 한 다음 재구성 오차가 훈련 세트의 표준 편차보다 큰 경우 향후 예제를 비정상적인 것으로 분류합니다."
      ]
    },
    {
      "cell_type": "markdown",
      "metadata": {
        "id": "TeuT8uTA5Y_w"
      },
      "source": [
        "훈련 세트의 정상 ECG에 대한 재구성 오류를 플로팅합니다."
      ]
    },
    {
      "cell_type": "code",
      "metadata": {
        "execution": {
          "iopub.execute_input": "2020-10-06T01:28:05.994078Z",
          "iopub.status.busy": "2020-10-06T01:28:05.993423Z",
          "iopub.status.idle": "2020-10-06T01:30:56.649750Z",
          "shell.execute_reply": "2020-10-06T01:30:56.650196Z"
        },
        "id": "gwLuxrb-s0ss",
        "colab": {
          "base_uri": "https://localhost:8080/",
          "height": 279
        },
        "outputId": "8084aafc-b6da-4cd0-f176-0159bc231a18"
      },
      "source": [
        "reconstructions = autoencoder.predict(normal_train_data)\n",
        "train_loss = tf.keras.losses.mae(reconstructions, normal_train_data)\n",
        "\n",
        "plt.hist(train_loss, bins=50)\n",
        "plt.xlabel(\"Train loss\")\n",
        "plt.ylabel(\"No of examples\")\n",
        "plt.show()"
      ],
      "execution_count": null,
      "outputs": [
        {
          "output_type": "display_data",
          "data": {
            "image/png": "[encoded data removed]",
            "text/plain": [
              "<Figure size 432x288 with 1 Axes>"
            ]
          },
          "metadata": {
            "tags": [],
            "needs_background": "light"
          }
        }
      ]
    },
    {
      "cell_type": "markdown",
      "metadata": {
        "id": "mh-3ChEF5hog"
      },
      "source": [
        "평균보다 1SD(1 표준편차만큼)가 높은 임계 값을 선택합니다.\n",
        "\n",
        "(참고로 통계 수준에서 2SD를 벗어나게 되면, 95%의 신뢰구간을 벗어나는 것을 의미합니다)"
      ]
    },
    {
      "cell_type": "code",
      "metadata": {
        "execution": {
          "iopub.execute_input": "2020-10-06T01:30:56.655537Z",
          "iopub.status.busy": "2020-10-06T01:30:56.654819Z",
          "iopub.status.idle": "2020-10-06T01:30:56.657850Z",
          "shell.execute_reply": "2020-10-06T01:30:56.657343Z"
        },
        "id": "82hkl0Chs3P_",
        "colab": {
          "base_uri": "https://localhost:8080/"
        },
        "outputId": "69ab910a-4798-47cc-d9b7-680aba5da2ac"
      },
      "source": [
        "threshold = np.mean(train_loss) + np.std(train_loss)\n",
        "print(\"Threshold: \", threshold)"
      ],
      "execution_count": null,
      "outputs": [
        {
          "output_type": "stream",
          "text": [
            "Threshold:  0.032173388\n"
          ],
          "name": "stdout"
        }
      ]
    },
    {
      "cell_type": "markdown",
      "metadata": {
        "id": "uEGlA1Be50Nj"
      },
      "source": [
        "참고: 이 문제를 해결하는 다른 전략도 분명 있습니다. \n",
        "\n",
        "어떤 데이터를 가지고 어떤 문제를 풀것인지에 따라 전략이 바뀔 수 있으니, 이 방법이 절대적으로 옳은 방법은 아닙니다. "
      ]
    },
    {
      "cell_type": "markdown",
      "metadata": {
        "id": "zpLSDAeb51D_"
      },
      "source": [
        "테스트 세트의 비정상적인 예제에 대한 재구성 오류를 검사하면 대부분 임계값보다 재구성 오류가 크다는 것을 알 수 있습니다. 임계값을 바꿈으로써 분류기의 [precision](https://developers.google.com/machine-learning/glossary#precision) 및 [recall](https://developers.google.com/machine-learning/glossary#recall)를 조정할 수 있습니다. 이 방법에 대해서는 지난 이전 섹션들에서 다뤄졌기 때문에 간략히 넘어가도록 하겠습니다. "
      ]
    },
    {
      "cell_type": "code",
      "metadata": {
        "execution": {
          "iopub.execute_input": "2020-10-06T01:30:56.663597Z",
          "iopub.status.busy": "2020-10-06T01:30:56.662776Z",
          "iopub.status.idle": "2020-10-06T01:31:35.509016Z",
          "shell.execute_reply": "2020-10-06T01:31:35.509446Z"
        },
        "id": "sKVwjQK955Wy",
        "colab": {
          "base_uri": "https://localhost:8080/",
          "height": 279
        },
        "outputId": "5031d277-5395-4ace-ac74-075dd798e143"
      },
      "source": [
        "reconstructions = autoencoder.predict(anomalous_test_data)\n",
        "test_loss = tf.keras.losses.mae(reconstructions, anomalous_test_data)\n",
        "\n",
        "plt.hist(test_loss, bins=50)\n",
        "plt.xlabel(\"Test loss\")\n",
        "plt.ylabel(\"No of examples\")\n",
        "plt.show()"
      ],
      "execution_count": null,
      "outputs": [
        {
          "output_type": "display_data",
          "data": {
            "image/png": "[encoded data removed]",
            "text/plain": [
              "<Figure size 432x288 with 1 Axes>"
            ]
          },
          "metadata": {
            "tags": [],
            "needs_background": "light"
          }
        }
      ]
    },
    {
      "cell_type": "markdown",
      "metadata": {
        "id": "PFVk_XGE6AX2"
      },
      "source": [
        "재구성 오류가 임계값보다 큰 경우 심전도를 이상 현상으로 분류하도록 설정합니다"
      ]
    },
    {
      "cell_type": "code",
      "metadata": {
        "execution": {
          "iopub.execute_input": "2020-10-06T01:31:35.515324Z",
          "iopub.status.busy": "2020-10-06T01:31:35.514636Z",
          "iopub.status.idle": "2020-10-06T01:31:35.516359Z",
          "shell.execute_reply": "2020-10-06T01:31:35.516722Z"
        },
        "id": "mkgJZfhh6CHr"
      },
      "source": [
        "def predict(model, data, threshold):\n",
        "  reconstructions = model(data)\n",
        "  loss = tf.keras.losses.mae(reconstructions, data)\n",
        "  return tf.math.less(loss, threshold)\n",
        "\n",
        "def print_stats(predictions, labels):\n",
        "  print(\"Accuracy = {}\".format(accuracy_score(labels, preds)))\n",
        "  print(\"Precision = {}\".format(precision_score(labels, preds)))\n",
        "  print(\"Recall = {}\".format(recall_score(labels, preds)))"
      ],
      "execution_count": null,
      "outputs": []
    },
    {
      "cell_type": "code",
      "metadata": {
        "execution": {
          "iopub.execute_input": "2020-10-06T01:31:35.521001Z",
          "iopub.status.busy": "2020-10-06T01:31:35.520309Z",
          "iopub.status.idle": "2020-10-06T01:31:35.530686Z",
          "shell.execute_reply": "2020-10-06T01:31:35.531087Z"
        },
        "id": "sOcfXfXq6FBd",
        "colab": {
          "base_uri": "https://localhost:8080/"
        },
        "outputId": "8f3786e5-104e-41bc-f8e5-220805595da8"
      },
      "source": [
        "preds = predict(autoencoder, test_data, threshold)\n",
        "print_stats(preds, test_labels)"
      ],
      "execution_count": null,
      "outputs": [
        {
          "output_type": "stream",
          "text": [
            "Accuracy = 0.943\n",
            "Precision = 0.9921722113502935\n",
            "Recall = 0.9053571428571429\n"
          ],
          "name": "stdout"
        }
      ]
    },
    {
      "cell_type": "markdown",
      "metadata": {
        "id": "WUP7oTAvFHjo"
      },
      "source": [
        "# Review\n",
        " - Autoencoder는 encoder와 decoder로 구성되어 있다.\n",
        "   * Decoder와 Encoder를 구분할 수 있다.\n",
        " - 단순한 Dense형태로도 구성할 수 있지만, CNN을 이용한 구성도 가능하다\n",
        "   * 기본 오토인코더와 Convolution 오토인코더는 어디에서 차이가 날까? \n",
        " - 오토인코더의 용도\n",
        "   * 노이즈를 제거하는 용도로 사용할 수 있고, \n",
        "   * 재구성을 통한 이상값을 찾아내는 데도 사용할 수 있으며, \n",
        "   * 특성을 추출하는 용도로서도 사용할 수 있다.\n",
        "\n"
      ]
    },
    {
      "cell_type": "markdown",
      "metadata": {
        "id": "HrJRef8Ln945"
      },
      "source": [
        "#도전해보기\n",
        "- 오토인코더를 사용한 이상 감지에 대해 자세히 알아 보려면 Victor Dibia가 TensorFlow.js로 빌드 한이 훌륭한 [대화 형 예제](https://anomagram.fastforwardlabs.com/#/)를 확인하세요. \n",
        "- 실제 TensorFlow 사용 사례 : [Airbus가 ISS 원격 측정 데이터에서 이상 징후를 감지](https://blog.tensorflow.org/2020/04/how-airbus-detects-anomalies-iss-telemetry-data- tfx.html)\n",
        "- 기본 사항에 대해 좀 더 자세히 알아 보려면 François Chollet의 [블로그 게시물](https://blog.keras.io/building-autoencoders-in-keras.html)을 읽어보십시오. \n",
        "- 책으로 더 자세히 보고 싶다면, Ian Goodfellow, Yoshua Bengio, Aaron Courville의 [Deep Learning](https://www.deeplearningbook.org/)의 14 장을 참조하세요."
      ]
    }
  ]
}