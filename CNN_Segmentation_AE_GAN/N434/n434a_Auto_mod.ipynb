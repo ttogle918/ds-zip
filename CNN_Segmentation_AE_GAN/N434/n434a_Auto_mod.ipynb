{
  "nbformat": 4,
  "nbformat_minor": 0,
  "metadata": {
    "colab": {
      "name": "n434a_Auto_mod.ipynb",
      "provenance": []
    },
    "kernelspec": {
      "name": "python3",
      "display_name": "Python 3"
    }
  },
  "cells": [
    {
      "cell_type": "markdown",
      "metadata": {
        "id": "gfB7UWj1k3aw"
      },
      "source": [
        "<img src='https://user-images.githubusercontent.com/6457691/90080969-0f758d00-dd47-11ea-8191-fa12fd2054a7.png' width = '200' align = 'right'>\n",
        "\n",
        "## *DATA SCIENCE / SECTION 4 / SPRINT 3 / Assignment 4*\n",
        "\n",
        "--- \n",
        "#   Generative Adversarial Networks (GAN)"
      ]
    },
    {
      "cell_type": "markdown",
      "metadata": {
        "id": "L8MSC-5JCivk"
      },
      "source": [
        "# 기본과제"
      ]
    },
    {
      "cell_type": "markdown",
      "metadata": {
        "id": "N3q3j8KDlB2V"
      },
      "source": [
        "### 문항 1) GAN의 원리에 대한 설명으로 **틀린** 것을 <ins>모두</ins> 고르시오."
      ]
    },
    {
      "cell_type": "markdown",
      "metadata": {
        "id": "YQvkYY30_mXn"
      },
      "source": [
        "- Generative라는 말은 '생성적인, 생산하는' 이라는 뜻으로 이 모델을 이용해서 이미지 등을 생성할 수 있기 때문에 해당 용어가 사용되었습니다.\n",
        "- Adversarial은 '적대적인'이라는 뜻으로 모델에서는 두 가지 길항작용을 하는 네트워크를 서로 대립시켜 서로 경쟁하면서 발전하는 것을 의미한다.\n",
        "- GAN에는 Discriminator(판별기)와 Generator(생성기)로 구성되어 있습니다. \n",
        "- Discriminator는 Latent noise를 통해서 가짜 데이터는 생성하는 역할입니다. \n",
        "- Latent noise는 정규화된 분포나 균등한 분포를 따르게 되며, 이들을 연산함으로써 의미간 연산을 진행할 수 있습니다."
      ]
    },
    {
      "cell_type": "markdown",
      "metadata": {
        "id": "aWU6ciyg-sGs"
      },
      "source": [
        "### 문항 2) GAN의 학습에 대한 설명으로 **틀린** 것을 <ins>모두</ins> 고르시오.\n"
      ]
    },
    {
      "cell_type": "markdown",
      "metadata": {
        "id": "J_WPH_FR_p_K"
      },
      "source": [
        "- 훈련 데이터(진짜 데이터)를 가지고 Discriminator(판별기)를 학습시킵니다. 이를 통해, 훈련 데이터의 분포를 학습합니다. \n",
        "- Latent noise를 통해 노이즈한 값을 Generator(생성기)에 주고, 생성기에서는 Fake 이미지를 생성합니다. 물론, 처음에는 굉장히 품질이 떨어지는 이미지를 생성합니다. \n",
        "- Fake 이미지는 Discriminator(판별기)에서 분류되며, Loss fucntion의 역전파를 통해 Generator(생성기)를 좀 더 진짜같은 데이터로 만들 수 있는 방향으로 학습하게 됩니다.\n",
        "- 실제 수행할 때에는 Generator(생성기)의 성능이 안 좋은 경우가 많아, Generator의 학습률을 더 크게 설정해줍니다."
      ]
    },
    {
      "cell_type": "markdown",
      "metadata": {
        "id": "7q4rCCY3-sch"
      },
      "source": [
        "### 문항 3) DCGAN에서 MNIST대신에 다른 이미지를 입력으로하여 Generation을 수행하시오. 과제를 수행하면서 다양한 생각을 해보시오.\n"
      ]
    },
    {
      "cell_type": "markdown",
      "metadata": {
        "id": "j20AqPR9ABaC"
      },
      "source": [
        "- 해당 과제는 GAN이라는 새로운 형태의 아키텍쳐에 익숙해지기 위해서, 새로운 데이터를 같은 네트워크에 넣어보기 위한 과제이다. \n",
        "- 과제를 수행하면서, 초기 GAN 모델의 한계도 느껴보고, 이런 작업을 수행하면서 앞으로 GAN이 어떤 일을 수행하게 될 것인지 생각해보자.\n",
        "- 나는 GAN의 원리를 이해하였는가? (Yes/No)\n",
        "- GAN이 어떻게 학습되는 지 설명할 수 있는가? (Yes/No)\n",
        "- 왜 GAN이 시장에서 많이 사용될까?\n",
        "- 어떻게 응용할 수 있을까?"
      ]
    },
    {
      "cell_type": "markdown",
      "metadata": {
        "id": "nJtRK1xTOQE8"
      },
      "source": [
        "# 생각해보기\n",
        "\n",
        "- 딥러닝 마지막 수업이 끝났다. 과연 딥러닝을 내가 사용하게 될까? 사용하게 된다면 어떤 분야를 사용하게 될까? \n",
        "\n",
        "- **문항 4) 내가 생각하는 딥러닝에서 가장 중요하다고 생각되는 부분에 대해서 웹 페이지를 찾아보고, 가장 비슷한 부분의 링크를 입력하시오 (너무 오래된 글은 피할 것)**\n",
        "\n",
        "- **문항 5) 위 링크에서 말하는 것과 내가 보는 관점이 다른 점이 있다면 설명하시오**\n",
        "\n",
        "- **문항 6) 나에게 딥러닝이란?** <br> \n",
        "공백으로 제출하지만 않으면 채점 시 감점은 없다. <br> 다만, 인공지능으로 가장 이슈를 만들엇던 딥러닝에 대한 나의 견해를 가지고 있는 것은 중요하기 때문에 다소 철학적인 대답이어도 좋고, 앞으로 인공지능의 미래에 대해서 생각해보아도 좋다. 다른 사람들과 같이 논의해보고 싶은 주제를 던져도 좋다."
      ]
    },
    {
      "cell_type": "markdown",
      "metadata": {
        "id": "YrcDhb3pPB_8"
      },
      "source": [
        "# 도전과제\n",
        "- 온라인에서 GAN의 변천사에 대해서 조사해보고 코드를 구현하고, 각각의 모델의 동작 원리를 파악해본다. \n",
        "- 실무에서는 내가 직접 개발할 수도 있겠지만, 온라인에 공개된 좋은 데이터와 학습된 구조를 잘 이용할 수 있는 것이 능력입니다. 한편 각각의 모델의 장단점을 알아야 원하는 프로젝트를 목적에 맞게 구현할 수 있습니다. 스프린트의 마지막 과제는 온라인에 무차별적으로 검증되지 않은 데이터들을 탐색해보고 따라서 구현해보는 과제를 한번 더 내도록 하겠습니다.  C.f. Kaggle에서 잘 된 notebook을 찾아보거나, 검색어와 더불어 'git' 또는 'github'을 같이 입력하여 서칭하는 것이 좋습니다. :)\n",
        "- [ ] Conditional GAN\n",
        "- [ ] StarGAN\n",
        "- [ ] StyleGAN\n",
        "- [ ] DiscoGAN\n",
        "- [ ] AdaIN - Style Transfer (Note 확인 필요)\n",
        "- [ ] etc"
      ]
    },
    {
      "cell_type": "markdown",
      "metadata": {
        "id": "RwIQV5UxsRZB"
      },
      "source": [
        "# 프로젝트 준비\n",
        "- 과제를 진행하면서 많은 데이터들을 사용해보았습니다. \n",
        "- 이제는 정말 내가 무엇을 하고 싶은지, 어떤 회사에 들어가서 어떤 종류의 딥러닝 과제를 하고 싶은지 찾고, 발전하는 과정이 필요합니다. T자형 인재가 되기위한 과정으로 과제를 진행하며 내가 꼭 해보고 싶은 데이터를 찾아봅시다."
      ]
    },
    {
      "cell_type": "code",
      "metadata": {
        "id": "pWaHARPXsWlB"
      },
      "source": [
        ""
      ],
      "execution_count": null,
      "outputs": []
    }
  ]
}