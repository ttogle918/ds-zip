{
  "nbformat": 4,
  "nbformat_minor": 0,
  "metadata": {
    "colab": {
      "name": "n111-eda.ipynb",
      "provenance": [],
      "toc_visible": true,
      "include_colab_link": true
    },
    "kernelspec": {
      "display_name": "Python 3",
      "language": "python",
      "name": "python3"
    },
    "language_info": {
      "codemirror_mode": {
        "name": "ipython",
        "version": 3
      },
      "file_extension": ".py",
      "mimetype": "text/x-python",
      "name": "python",
      "nbconvert_exporter": "python",
      "pygments_lexer": "ipython3",
      "version": "3.8.2"
    }
  },
  "cells": [
    {
      "cell_type": "markdown",
      "metadata": {
        "id": "view-in-github",
        "colab_type": "text"
      },
      "source": [
        "<a href=\"https://colab.research.google.com/github/ttogle918/ds-section1-sprint1/blob/master/n111-eda/n111_eda.ipynb\" target=\"_parent\"><img src=\"https://colab.research.google.com/assets/colab-badge.svg\" alt=\"Open In Colab\"/></a>"
      ]
    },
    {
      "cell_type": "markdown",
      "metadata": {
        "id": "Ldr0HZ193GKb"
      },
      "source": [
        "<img src='https://i.imgur.com/RDAD11M.png' width = '200' align = 'right'>\n",
        "\n",
        "## *DATA SCIENCE / SECTION 1 / SPRINT 1 / NOTE 1*\n",
        "\n",
        "---\n",
        "\n",
        "# Exploratory Data Analysis\n",
        "\n",
        "## 🏆 학습 목표 \n",
        "\n",
        "- `EDA`와 `pre-processing`에 대해서 이해한다.\n"
      ]
    },
    {
      "cell_type": "markdown",
      "metadata": {
        "id": "QszuYn1bnZSe"
      },
      "source": [
        "# 데이터셋 불러오기"
      ]
    },
    {
      "cell_type": "markdown",
      "metadata": {
        "id": "_7uhS1HHOaR-"
      },
      "source": [
        "## 개요\n",
        "\n",
        "- 데이터를 분석한다\n",
        "- 데이터를 다룬다\n",
        "- 데이터로 부터 모델링을 한다\n",
        "\n",
        "와 같은 것들은 앞으로 여러분들이 하게 될 일입니다.\n",
        "\n",
        "그러나 이를 위해서 제일 먼저 해야 할 것은 데이터를 불러오는 것이겠죠?\n",
        "\n",
        "오늘 우리는 \"파이썬\"에 데이터를 \"불러오는\" 것을 연습 할 건데요. \n",
        "\n",
        "이를 위해서 미리 편집해둔 `KT&G`(033780) 라는 기업의 재무재표 데이터 일부분을 사용 할 겁니다. \n",
        "\n",
        "`KT&G` 데이터셋은 다음 그림과 같은 형태를 가지고 있습니다.\n",
        "\n",
        "<img src='https://i.imgur.com/CBUJl84.png' width = '900'>\n",
        "\n",
        "원본 데이터는 [네이버 금융을 통해서 확인 할 수 있으며](https://finance.naver.com/item/coinfo.nhn?code=033780&target=finsum_more)\n",
        "\n",
        "편집되어 있는 링크의 주소는 다음과 같습니다.\n",
        "\n",
        "<https://ds-lecture-data.s3.ap-northeast-2.amazonaws.com/kt%26g/kt%26g_0.csv>\n",
        "\n",
        "\n"
      ]
    },
    {
      "cell_type": "markdown",
      "metadata": {
        "id": "pCpUGSa9DDuw"
      },
      "source": [
        "## 데이터셋을 불러오기 위한 단계:\n",
        "\n",
        "\n"
      ]
    },
    {
      "cell_type": "markdown",
      "metadata": {
        "id": "9VqUs2_0QHDB"
      },
      "source": [
        "### 1. Description을 통해 데이터셋에 대한 정보를 파악합니다.\n",
        "- 행과 열의 수\n",
        "- 열에 헤더가 있는지 (\"데이터 이름\"이 있는지?)\n",
        "- 결측 데이터 (Missing data)가 있는지 확인 \n",
        "- **원본의 형태를 확인하기 : 여러분이 기대하던 형태가 아닐 수도 있습니다.**\n",
        "\n",
        "❓ 데이터셋 정보 파악을 불러오기 전에 해야하는 이유는 무엇일까요?\n",
        "\n",
        "<b> 빅데이터를 다루는 상황에서는 수백만개의 행,열이 있어서 TB단위의 데이터를 작업해야할 수도 있다.\n",
        "만약 데이터셋에 대한 정보를 인지하지 못하는 상황에서 불러오게된다면 오래걸리고, 오류도 많이 생기기 때문에 미리 확인할 필요가 있다.</>"
      ]
    },
    {
      "cell_type": "markdown",
      "metadata": {
        "id": "4Gjyf_RpQIpw"
      },
      "source": [
        "### 2. `pandas.read_csv()`를 사용하여 데이터셋 불러오기를 시도하고, 오류가 있다면 원인에 대해 조사하기\n",
        "\n",
        "- 원본 데이터셋에 따라서 때로는 행의 헤더 부분을 직접 입력 해야 할 수도 있습니다. \n"
      ]
    },
    {
      "cell_type": "markdown",
      "metadata": {
        "id": "vZobh57ag1S9"
      },
      "source": [
        "## 데이터셋을 확인하는 방법. (Colab 에서)\n",
        "\n",
        "❓ 개인적으로는 권장하지 않습니다."
      ]
    },
    {
      "cell_type": "code",
      "metadata": {
        "id": "sYypbXovgaSi"
      },
      "source": [
        "# kt&g 로 변수 선언을 할 수 없기 때문에 ktng라고 선언합니다.\n",
        "\n",
        "ktng_data_url = 'https://ds-lecture-data.s3.ap-northeast-2.amazonaws.com/kt%26g/kt%26g_0.csv'"
      ],
      "execution_count": 1,
      "outputs": []
    },
    {
      "cell_type": "markdown",
      "metadata": {
        "id": "KncohxMIg5Dq"
      },
      "source": [
        "### 1. URL을 통해서 불러오기"
      ]
    },
    {
      "cell_type": "code",
      "metadata": {
        "colab": {
          "base_uri": "https://localhost:8080/",
          "height": 173
        },
        "id": "-r24OTvggWub",
        "outputId": "d26c0594-9be5-4078-c0a6-f84b697413f9"
      },
      "source": [
        "import pandas as pd\n",
        "\n",
        "df = pd.read_csv(ktng_data_url) # pd라이브러리의 read_csv를 사용하여 ktng_data_url에 있는 데이터를 읽고, df라는 변수에 저장\n",
        "\n",
        "df.head() "
      ],
      "execution_count": 2,
      "outputs": [
        {
          "output_type": "execute_result",
          "data": {
            "text/html": [
              "<div>\n",
              "<style scoped>\n",
              "    .dataframe tbody tr th:only-of-type {\n",
              "        vertical-align: middle;\n",
              "    }\n",
              "\n",
              "    .dataframe tbody tr th {\n",
              "        vertical-align: top;\n",
              "    }\n",
              "\n",
              "    .dataframe thead th {\n",
              "        text-align: right;\n",
              "    }\n",
              "</style>\n",
              "<table border=\"1\" class=\"dataframe\">\n",
              "  <thead>\n",
              "    <tr style=\"text-align: right;\">\n",
              "      <th></th>\n",
              "      <th>19/6</th>\n",
              "      <th>12,578</th>\n",
              "      <th>3,991</th>\n",
              "      <th>3,991.1</th>\n",
              "      <th>4,452</th>\n",
              "      <th>3,245</th>\n",
              "      <th>3,228</th>\n",
              "      <th>17</th>\n",
              "      <th>108,464</th>\n",
              "      <th>25,940</th>\n",
              "      <th>82,524</th>\n",
              "      <th>81,965</th>\n",
              "      <th>Unnamed: 12</th>\n",
              "      <th>9,550</th>\n",
              "      <th>4,641</th>\n",
              "      <th>-1,878</th>\n",
              "      <th>-4,919</th>\n",
              "      <th>31.73</th>\n",
              "      <th>25.80</th>\n",
              "      <th>12.35</th>\n",
              "      <th>9.37</th>\n",
              "      <th>31.43</th>\n",
              "      <th>803.22</th>\n",
              "      <th>2,351</th>\n",
              "      <th>13.77</th>\n",
              "    </tr>\n",
              "  </thead>\n",
              "  <tbody>\n",
              "    <tr>\n",
              "      <th>0</th>\n",
              "      <td>19/9</td>\n",
              "      <td>13,222</td>\n",
              "      <td>3,825</td>\n",
              "      <td>3,825</td>\n",
              "      <td>4,503</td>\n",
              "      <td>3,221</td>\n",
              "      <td>3,208</td>\n",
              "      <td>13</td>\n",
              "      <td>106,314</td>\n",
              "      <td>20,691</td>\n",
              "      <td>85,623</td>\n",
              "      <td>85,049</td>\n",
              "      <td>NaN</td>\n",
              "      <td>9,550</td>\n",
              "      <td>-2,278</td>\n",
              "      <td>-83</td>\n",
              "      <td>-329</td>\n",
              "      <td>28.93</td>\n",
              "      <td>24.36</td>\n",
              "      <td>12.67</td>\n",
              "      <td>9.95</td>\n",
              "      <td>24.17</td>\n",
              "      <td>836.86</td>\n",
              "      <td>2,337</td>\n",
              "      <td>13.87</td>\n",
              "    </tr>\n",
              "    <tr>\n",
              "      <th>1</th>\n",
              "      <td>19/12</td>\n",
              "      <td>11,982</td>\n",
              "      <td>2,523</td>\n",
              "      <td>2,523</td>\n",
              "      <td>1,794</td>\n",
              "      <td>1,183</td>\n",
              "      <td>1,198</td>\n",
              "      <td>-15</td>\n",
              "      <td>107,121</td>\n",
              "      <td>20,062</td>\n",
              "      <td>87,059</td>\n",
              "      <td>86,506</td>\n",
              "      <td>NaN</td>\n",
              "      <td>9,550</td>\n",
              "      <td>837</td>\n",
              "      <td>-501</td>\n",
              "      <td>-129</td>\n",
              "      <td>21.06</td>\n",
              "      <td>9.87</td>\n",
              "      <td>12.39</td>\n",
              "      <td>9.96</td>\n",
              "      <td>23.04</td>\n",
              "      <td>850.82</td>\n",
              "      <td>873</td>\n",
              "      <td>12.42</td>\n",
              "    </tr>\n",
              "    <tr>\n",
              "      <th>2</th>\n",
              "      <td>20/3</td>\n",
              "      <td>11,784</td>\n",
              "      <td>3,150</td>\n",
              "      <td>3,150</td>\n",
              "      <td>4,156</td>\n",
              "      <td>2,939</td>\n",
              "      <td>2,930</td>\n",
              "      <td>9</td>\n",
              "      <td>108,594</td>\n",
              "      <td>24,862</td>\n",
              "      <td>83,732</td>\n",
              "      <td>83,170</td>\n",
              "      <td>562.0</td>\n",
              "      <td>9,550</td>\n",
              "      <td>2,336</td>\n",
              "      <td>-1,392</td>\n",
              "      <td>-86</td>\n",
              "      <td>26.73</td>\n",
              "      <td>24.94</td>\n",
              "      <td>13.05</td>\n",
              "      <td>9.79</td>\n",
              "      <td>29.69</td>\n",
              "      <td>823.16</td>\n",
              "      <td>2,134</td>\n",
              "      <td>9.71</td>\n",
              "    </tr>\n",
              "    <tr>\n",
              "      <th>3</th>\n",
              "      <td>20/6</td>\n",
              "      <td>13,188</td>\n",
              "      <td>3,947</td>\n",
              "      <td>3,947</td>\n",
              "      <td>4,020</td>\n",
              "      <td>2,935</td>\n",
              "      <td>2,931</td>\n",
              "      <td>4</td>\n",
              "      <td>110,282</td>\n",
              "      <td>23,386</td>\n",
              "      <td>86,896</td>\n",
              "      <td>86,330</td>\n",
              "      <td>566.0</td>\n",
              "      <td>9,550</td>\n",
              "      <td>7,855</td>\n",
              "      <td>-214</td>\n",
              "      <td>-5,501</td>\n",
              "      <td>29.93</td>\n",
              "      <td>22.25</td>\n",
              "      <td>12.20</td>\n",
              "      <td>9.40</td>\n",
              "      <td>26.91</td>\n",
              "      <td>837.40</td>\n",
              "      <td>2,135</td>\n",
              "      <td>10.46</td>\n",
              "    </tr>\n",
              "  </tbody>\n",
              "</table>\n",
              "</div>"
            ],
            "text/plain": [
              "    19/6  12,578  3,991 3,991.1  4,452  ...  9.37  31.43  803.22  2,351  13.77\n",
              "0   19/9  13,222  3,825   3,825  4,503  ...  9.95  24.17  836.86  2,337  13.87\n",
              "1  19/12  11,982  2,523   2,523  1,794  ...  9.96  23.04  850.82    873  12.42\n",
              "2   20/3  11,784  3,150   3,150  4,156  ...  9.79  29.69  823.16  2,134   9.71\n",
              "3   20/6  13,188  3,947   3,947  4,020  ...  9.40  26.91  837.40  2,135  10.46\n",
              "\n",
              "[4 rows x 25 columns]"
            ]
          },
          "metadata": {},
          "execution_count": 2
        }
      ]
    },
    {
      "cell_type": "markdown",
      "metadata": {
        "id": "XFe1nA--2woJ"
      },
      "source": [
        "### ❓ 쉼표가 있는데 csv로 정상적으로 읽힌 이유는 무엇일까요?\n",
        "\n",
        "-> "
      ]
    },
    {
      "cell_type": "markdown",
      "metadata": {
        "id": "1hI3GvRgg818"
      },
      "source": [
        "### ❓ 문제가 생긴 경우, 왜 그런지에 대해서 확인해야 합니다. "
      ]
    },
    {
      "cell_type": "code",
      "metadata": {
        "id": "8PK-Njl0hJxz",
        "colab": {
          "base_uri": "https://localhost:8080/"
        },
        "outputId": "fb661e8e-949f-406d-b380-3fef300b31d0"
      },
      "source": [
        "help(pd.read_csv) # colab에서 함수의 매뉴얼을 보는 방법입니다, 마찬가지로 별로 권장하지는 않습니다 : (help) "
      ],
      "execution_count": 8,
      "outputs": [
        {
          "output_type": "stream",
          "name": "stdout",
          "text": [
            "Help on function read_csv in module pandas.io.parsers:\n",
            "\n",
            "read_csv(filepath_or_buffer: Union[str, pathlib.Path, IO[~AnyStr]], sep=',', delimiter=None, header='infer', names=None, index_col=None, usecols=None, squeeze=False, prefix=None, mangle_dupe_cols=True, dtype=None, engine=None, converters=None, true_values=None, false_values=None, skipinitialspace=False, skiprows=None, skipfooter=0, nrows=None, na_values=None, keep_default_na=True, na_filter=True, verbose=False, skip_blank_lines=True, parse_dates=False, infer_datetime_format=False, keep_date_col=False, date_parser=None, dayfirst=False, cache_dates=True, iterator=False, chunksize=None, compression='infer', thousands=None, decimal: str = '.', lineterminator=None, quotechar='\"', quoting=0, doublequote=True, escapechar=None, comment=None, encoding=None, dialect=None, error_bad_lines=True, warn_bad_lines=True, delim_whitespace=False, low_memory=True, memory_map=False, float_precision=None)\n",
            "    Read a comma-separated values (csv) file into DataFrame.\n",
            "    \n",
            "    Also supports optionally iterating or breaking of the file\n",
            "    into chunks.\n",
            "    \n",
            "    Additional help can be found in the online docs for\n",
            "    `IO Tools <https://pandas.pydata.org/pandas-docs/stable/user_guide/io.html>`_.\n",
            "    \n",
            "    Parameters\n",
            "    ----------\n",
            "    filepath_or_buffer : str, path object or file-like object\n",
            "        Any valid string path is acceptable. The string could be a URL. Valid\n",
            "        URL schemes include http, ftp, s3, gs, and file. For file URLs, a host is\n",
            "        expected. A local file could be: file://localhost/path/to/table.csv.\n",
            "    \n",
            "        If you want to pass in a path object, pandas accepts any ``os.PathLike``.\n",
            "    \n",
            "        By file-like object, we refer to objects with a ``read()`` method, such as\n",
            "        a file handler (e.g. via builtin ``open`` function) or ``StringIO``.\n",
            "    sep : str, default ','\n",
            "        Delimiter to use. If sep is None, the C engine cannot automatically detect\n",
            "        the separator, but the Python parsing engine can, meaning the latter will\n",
            "        be used and automatically detect the separator by Python's builtin sniffer\n",
            "        tool, ``csv.Sniffer``. In addition, separators longer than 1 character and\n",
            "        different from ``'\\s+'`` will be interpreted as regular expressions and\n",
            "        will also force the use of the Python parsing engine. Note that regex\n",
            "        delimiters are prone to ignoring quoted data. Regex example: ``'\\r\\t'``.\n",
            "    delimiter : str, default ``None``\n",
            "        Alias for sep.\n",
            "    header : int, list of int, default 'infer'\n",
            "        Row number(s) to use as the column names, and the start of the\n",
            "        data.  Default behavior is to infer the column names: if no names\n",
            "        are passed the behavior is identical to ``header=0`` and column\n",
            "        names are inferred from the first line of the file, if column\n",
            "        names are passed explicitly then the behavior is identical to\n",
            "        ``header=None``. Explicitly pass ``header=0`` to be able to\n",
            "        replace existing names. The header can be a list of integers that\n",
            "        specify row locations for a multi-index on the columns\n",
            "        e.g. [0,1,3]. Intervening rows that are not specified will be\n",
            "        skipped (e.g. 2 in this example is skipped). Note that this\n",
            "        parameter ignores commented lines and empty lines if\n",
            "        ``skip_blank_lines=True``, so ``header=0`` denotes the first line of\n",
            "        data rather than the first line of the file.\n",
            "    names : array-like, optional\n",
            "        List of column names to use. If the file contains a header row,\n",
            "        then you should explicitly pass ``header=0`` to override the column names.\n",
            "        Duplicates in this list are not allowed.\n",
            "    index_col : int, str, sequence of int / str, or False, default ``None``\n",
            "      Column(s) to use as the row labels of the ``DataFrame``, either given as\n",
            "      string name or column index. If a sequence of int / str is given, a\n",
            "      MultiIndex is used.\n",
            "    \n",
            "      Note: ``index_col=False`` can be used to force pandas to *not* use the first\n",
            "      column as the index, e.g. when you have a malformed file with delimiters at\n",
            "      the end of each line.\n",
            "    usecols : list-like or callable, optional\n",
            "        Return a subset of the columns. If list-like, all elements must either\n",
            "        be positional (i.e. integer indices into the document columns) or strings\n",
            "        that correspond to column names provided either by the user in `names` or\n",
            "        inferred from the document header row(s). For example, a valid list-like\n",
            "        `usecols` parameter would be ``[0, 1, 2]`` or ``['foo', 'bar', 'baz']``.\n",
            "        Element order is ignored, so ``usecols=[0, 1]`` is the same as ``[1, 0]``.\n",
            "        To instantiate a DataFrame from ``data`` with element order preserved use\n",
            "        ``pd.read_csv(data, usecols=['foo', 'bar'])[['foo', 'bar']]`` for columns\n",
            "        in ``['foo', 'bar']`` order or\n",
            "        ``pd.read_csv(data, usecols=['foo', 'bar'])[['bar', 'foo']]``\n",
            "        for ``['bar', 'foo']`` order.\n",
            "    \n",
            "        If callable, the callable function will be evaluated against the column\n",
            "        names, returning names where the callable function evaluates to True. An\n",
            "        example of a valid callable argument would be ``lambda x: x.upper() in\n",
            "        ['AAA', 'BBB', 'DDD']``. Using this parameter results in much faster\n",
            "        parsing time and lower memory usage.\n",
            "    squeeze : bool, default False\n",
            "        If the parsed data only contains one column then return a Series.\n",
            "    prefix : str, optional\n",
            "        Prefix to add to column numbers when no header, e.g. 'X' for X0, X1, ...\n",
            "    mangle_dupe_cols : bool, default True\n",
            "        Duplicate columns will be specified as 'X', 'X.1', ...'X.N', rather than\n",
            "        'X'...'X'. Passing in False will cause data to be overwritten if there\n",
            "        are duplicate names in the columns.\n",
            "    dtype : Type name or dict of column -> type, optional\n",
            "        Data type for data or columns. E.g. {'a': np.float64, 'b': np.int32,\n",
            "        'c': 'Int64'}\n",
            "        Use `str` or `object` together with suitable `na_values` settings\n",
            "        to preserve and not interpret dtype.\n",
            "        If converters are specified, they will be applied INSTEAD\n",
            "        of dtype conversion.\n",
            "    engine : {'c', 'python'}, optional\n",
            "        Parser engine to use. The C engine is faster while the python engine is\n",
            "        currently more feature-complete.\n",
            "    converters : dict, optional\n",
            "        Dict of functions for converting values in certain columns. Keys can either\n",
            "        be integers or column labels.\n",
            "    true_values : list, optional\n",
            "        Values to consider as True.\n",
            "    false_values : list, optional\n",
            "        Values to consider as False.\n",
            "    skipinitialspace : bool, default False\n",
            "        Skip spaces after delimiter.\n",
            "    skiprows : list-like, int or callable, optional\n",
            "        Line numbers to skip (0-indexed) or number of lines to skip (int)\n",
            "        at the start of the file.\n",
            "    \n",
            "        If callable, the callable function will be evaluated against the row\n",
            "        indices, returning True if the row should be skipped and False otherwise.\n",
            "        An example of a valid callable argument would be ``lambda x: x in [0, 2]``.\n",
            "    skipfooter : int, default 0\n",
            "        Number of lines at bottom of file to skip (Unsupported with engine='c').\n",
            "    nrows : int, optional\n",
            "        Number of rows of file to read. Useful for reading pieces of large files.\n",
            "    na_values : scalar, str, list-like, or dict, optional\n",
            "        Additional strings to recognize as NA/NaN. If dict passed, specific\n",
            "        per-column NA values.  By default the following values are interpreted as\n",
            "        NaN: '', '#N/A', '#N/A N/A', '#NA', '-1.#IND', '-1.#QNAN', '-NaN', '-nan',\n",
            "        '1.#IND', '1.#QNAN', '<NA>', 'N/A', 'NA', 'NULL', 'NaN', 'n/a',\n",
            "        'nan', 'null'.\n",
            "    keep_default_na : bool, default True\n",
            "        Whether or not to include the default NaN values when parsing the data.\n",
            "        Depending on whether `na_values` is passed in, the behavior is as follows:\n",
            "    \n",
            "        * If `keep_default_na` is True, and `na_values` are specified, `na_values`\n",
            "          is appended to the default NaN values used for parsing.\n",
            "        * If `keep_default_na` is True, and `na_values` are not specified, only\n",
            "          the default NaN values are used for parsing.\n",
            "        * If `keep_default_na` is False, and `na_values` are specified, only\n",
            "          the NaN values specified `na_values` are used for parsing.\n",
            "        * If `keep_default_na` is False, and `na_values` are not specified, no\n",
            "          strings will be parsed as NaN.\n",
            "    \n",
            "        Note that if `na_filter` is passed in as False, the `keep_default_na` and\n",
            "        `na_values` parameters will be ignored.\n",
            "    na_filter : bool, default True\n",
            "        Detect missing value markers (empty strings and the value of na_values). In\n",
            "        data without any NAs, passing na_filter=False can improve the performance\n",
            "        of reading a large file.\n",
            "    verbose : bool, default False\n",
            "        Indicate number of NA values placed in non-numeric columns.\n",
            "    skip_blank_lines : bool, default True\n",
            "        If True, skip over blank lines rather than interpreting as NaN values.\n",
            "    parse_dates : bool or list of int or names or list of lists or dict, default False\n",
            "        The behavior is as follows:\n",
            "    \n",
            "        * boolean. If True -> try parsing the index.\n",
            "        * list of int or names. e.g. If [1, 2, 3] -> try parsing columns 1, 2, 3\n",
            "          each as a separate date column.\n",
            "        * list of lists. e.g.  If [[1, 3]] -> combine columns 1 and 3 and parse as\n",
            "          a single date column.\n",
            "        * dict, e.g. {'foo' : [1, 3]} -> parse columns 1, 3 as date and call\n",
            "          result 'foo'\n",
            "    \n",
            "        If a column or index cannot be represented as an array of datetimes,\n",
            "        say because of an unparseable value or a mixture of timezones, the column\n",
            "        or index will be returned unaltered as an object data type. For\n",
            "        non-standard datetime parsing, use ``pd.to_datetime`` after\n",
            "        ``pd.read_csv``. To parse an index or column with a mixture of timezones,\n",
            "        specify ``date_parser`` to be a partially-applied\n",
            "        :func:`pandas.to_datetime` with ``utc=True``. See\n",
            "        :ref:`io.csv.mixed_timezones` for more.\n",
            "    \n",
            "        Note: A fast-path exists for iso8601-formatted dates.\n",
            "    infer_datetime_format : bool, default False\n",
            "        If True and `parse_dates` is enabled, pandas will attempt to infer the\n",
            "        format of the datetime strings in the columns, and if it can be inferred,\n",
            "        switch to a faster method of parsing them. In some cases this can increase\n",
            "        the parsing speed by 5-10x.\n",
            "    keep_date_col : bool, default False\n",
            "        If True and `parse_dates` specifies combining multiple columns then\n",
            "        keep the original columns.\n",
            "    date_parser : function, optional\n",
            "        Function to use for converting a sequence of string columns to an array of\n",
            "        datetime instances. The default uses ``dateutil.parser.parser`` to do the\n",
            "        conversion. Pandas will try to call `date_parser` in three different ways,\n",
            "        advancing to the next if an exception occurs: 1) Pass one or more arrays\n",
            "        (as defined by `parse_dates`) as arguments; 2) concatenate (row-wise) the\n",
            "        string values from the columns defined by `parse_dates` into a single array\n",
            "        and pass that; and 3) call `date_parser` once for each row using one or\n",
            "        more strings (corresponding to the columns defined by `parse_dates`) as\n",
            "        arguments.\n",
            "    dayfirst : bool, default False\n",
            "        DD/MM format dates, international and European format.\n",
            "    cache_dates : bool, default True\n",
            "        If True, use a cache of unique, converted dates to apply the datetime\n",
            "        conversion. May produce significant speed-up when parsing duplicate\n",
            "        date strings, especially ones with timezone offsets.\n",
            "    \n",
            "        .. versionadded:: 0.25.0\n",
            "    iterator : bool, default False\n",
            "        Return TextFileReader object for iteration or getting chunks with\n",
            "        ``get_chunk()``.\n",
            "    chunksize : int, optional\n",
            "        Return TextFileReader object for iteration.\n",
            "        See the `IO Tools docs\n",
            "        <https://pandas.pydata.org/pandas-docs/stable/io.html#io-chunking>`_\n",
            "        for more information on ``iterator`` and ``chunksize``.\n",
            "    compression : {'infer', 'gzip', 'bz2', 'zip', 'xz', None}, default 'infer'\n",
            "        For on-the-fly decompression of on-disk data. If 'infer' and\n",
            "        `filepath_or_buffer` is path-like, then detect compression from the\n",
            "        following extensions: '.gz', '.bz2', '.zip', or '.xz' (otherwise no\n",
            "        decompression). If using 'zip', the ZIP file must contain only one data\n",
            "        file to be read in. Set to None for no decompression.\n",
            "    thousands : str, optional\n",
            "        Thousands separator.\n",
            "    decimal : str, default '.'\n",
            "        Character to recognize as decimal point (e.g. use ',' for European data).\n",
            "    lineterminator : str (length 1), optional\n",
            "        Character to break file into lines. Only valid with C parser.\n",
            "    quotechar : str (length 1), optional\n",
            "        The character used to denote the start and end of a quoted item. Quoted\n",
            "        items can include the delimiter and it will be ignored.\n",
            "    quoting : int or csv.QUOTE_* instance, default 0\n",
            "        Control field quoting behavior per ``csv.QUOTE_*`` constants. Use one of\n",
            "        QUOTE_MINIMAL (0), QUOTE_ALL (1), QUOTE_NONNUMERIC (2) or QUOTE_NONE (3).\n",
            "    doublequote : bool, default ``True``\n",
            "       When quotechar is specified and quoting is not ``QUOTE_NONE``, indicate\n",
            "       whether or not to interpret two consecutive quotechar elements INSIDE a\n",
            "       field as a single ``quotechar`` element.\n",
            "    escapechar : str (length 1), optional\n",
            "        One-character string used to escape other characters.\n",
            "    comment : str, optional\n",
            "        Indicates remainder of line should not be parsed. If found at the beginning\n",
            "        of a line, the line will be ignored altogether. This parameter must be a\n",
            "        single character. Like empty lines (as long as ``skip_blank_lines=True``),\n",
            "        fully commented lines are ignored by the parameter `header` but not by\n",
            "        `skiprows`. For example, if ``comment='#'``, parsing\n",
            "        ``#empty\\na,b,c\\n1,2,3`` with ``header=0`` will result in 'a,b,c' being\n",
            "        treated as the header.\n",
            "    encoding : str, optional\n",
            "        Encoding to use for UTF when reading/writing (ex. 'utf-8'). `List of Python\n",
            "        standard encodings\n",
            "        <https://docs.python.org/3/library/codecs.html#standard-encodings>`_ .\n",
            "    dialect : str or csv.Dialect, optional\n",
            "        If provided, this parameter will override values (default or not) for the\n",
            "        following parameters: `delimiter`, `doublequote`, `escapechar`,\n",
            "        `skipinitialspace`, `quotechar`, and `quoting`. If it is necessary to\n",
            "        override values, a ParserWarning will be issued. See csv.Dialect\n",
            "        documentation for more details.\n",
            "    error_bad_lines : bool, default True\n",
            "        Lines with too many fields (e.g. a csv line with too many commas) will by\n",
            "        default cause an exception to be raised, and no DataFrame will be returned.\n",
            "        If False, then these \"bad lines\" will dropped from the DataFrame that is\n",
            "        returned.\n",
            "    warn_bad_lines : bool, default True\n",
            "        If error_bad_lines is False, and warn_bad_lines is True, a warning for each\n",
            "        \"bad line\" will be output.\n",
            "    delim_whitespace : bool, default False\n",
            "        Specifies whether or not whitespace (e.g. ``' '`` or ``'    '``) will be\n",
            "        used as the sep. Equivalent to setting ``sep='\\s+'``. If this option\n",
            "        is set to True, nothing should be passed in for the ``delimiter``\n",
            "        parameter.\n",
            "    low_memory : bool, default True\n",
            "        Internally process the file in chunks, resulting in lower memory use\n",
            "        while parsing, but possibly mixed type inference.  To ensure no mixed\n",
            "        types either set False, or specify the type with the `dtype` parameter.\n",
            "        Note that the entire file is read into a single DataFrame regardless,\n",
            "        use the `chunksize` or `iterator` parameter to return the data in chunks.\n",
            "        (Only valid with C parser).\n",
            "    memory_map : bool, default False\n",
            "        If a filepath is provided for `filepath_or_buffer`, map the file object\n",
            "        directly onto memory and access the data directly from there. Using this\n",
            "        option can improve performance because there is no longer any I/O overhead.\n",
            "    float_precision : str, optional\n",
            "        Specifies which converter the C engine should use for floating-point\n",
            "        values. The options are `None` for the ordinary converter,\n",
            "        `high` for the high-precision converter, and `round_trip` for the\n",
            "        round-trip converter.\n",
            "    \n",
            "    Returns\n",
            "    -------\n",
            "    DataFrame or TextParser\n",
            "        A comma-separated values (csv) file is returned as two-dimensional\n",
            "        data structure with labeled axes.\n",
            "    \n",
            "    See Also\n",
            "    --------\n",
            "    DataFrame.to_csv : Write DataFrame to a comma-separated values (csv) file.\n",
            "    read_csv : Read a comma-separated values (csv) file into DataFrame.\n",
            "    read_fwf : Read a table of fixed-width formatted lines into DataFrame.\n",
            "    \n",
            "    Examples\n",
            "    --------\n",
            "    >>> pd.read_csv('data.csv')  # doctest: +SKIP\n",
            "\n"
          ]
        }
      ]
    },
    {
      "cell_type": "markdown",
      "metadata": {
        "id": "PZjEBGGkSpiq"
      },
      "source": [
        "<https://pandas.pydata.org/pandas-docs/stable/reference/api/pandas.read_csv.html>"
      ]
    },
    {
      "cell_type": "markdown",
      "metadata": {
        "id": "xuX3bUdOhQ1S"
      },
      "source": [
        "### 다시 해봅시다"
      ]
    },
    {
      "cell_type": "code",
      "metadata": {
        "colab": {
          "base_uri": "https://localhost:8080/"
        },
        "id": "AJfCoAg-hRzq",
        "outputId": "6e92648b-5f6a-471b-a267-2cbfc0c8c8fc"
      },
      "source": [
        "column_headers = ['분기','매출액','영업이익','영업이익(발표기준)','세전계속사업이익',\n",
        "                  '당기순이익','당기순이익(지배)','당기순이익(비지배)','자산총계','부채총계',\n",
        "                  '자본총계','자본총계(지배)','자본총계(비지배)','자본금','영업활동현금흐름',\n",
        "                  '투자활동현금흐름','재무활동현금흐름','영업이익률','순이익률','ROE(%)',\n",
        "                  'ROA(%)','부채비율','자본유보율','EPS(원)','PER(배)']\n",
        "\n",
        "df = pd.read_csv(ktng_data_url, names = column_headers)\n",
        "\n",
        "print(df.head())\n",
        "print(df.shape)\n"
      ],
      "execution_count": 4,
      "outputs": [
        {
          "output_type": "stream",
          "name": "stdout",
          "text": [
            "      분기     매출액   영업이익 영업이익(발표기준)  ...   부채비율   자본유보율 EPS(원)  PER(배)\n",
            "0   19/6  12,578  3,991      3,991  ...  31.43  803.22  2,351   13.77\n",
            "1   19/9  13,222  3,825      3,825  ...  24.17  836.86  2,337   13.87\n",
            "2  19/12  11,982  2,523      2,523  ...  23.04  850.82    873   12.42\n",
            "3   20/3  11,784  3,150      3,150  ...  29.69  823.16  2,134    9.71\n",
            "4   20/6  13,188  3,947      3,947  ...  26.91  837.40  2,135   10.46\n",
            "\n",
            "[5 rows x 25 columns]\n",
            "(5, 25)\n"
          ]
        }
      ]
    },
    {
      "cell_type": "markdown",
      "metadata": {
        "id": "WfvruV1j5c2B"
      },
      "source": [
        "### ❓print(df.head) 와 df.head는 어떤 차이가 있을까요?"
      ]
    },
    {
      "cell_type": "markdown",
      "metadata": {
        "id": "Hi71j4Y-Oj1q"
      },
      "source": [
        "### 2. 로컬 파일로 부터 데이터셋 불러오기 (CSV)\n",
        "\n",
        "모든 데이터를 온라인에서 구할 수 있는 것은 아닙니다. \n",
        "\n",
        "이때는 로컬 머신 (사용중인 PC)로 부터 파일을 업로드 해야 합니다. \n",
        "\n",
        "`colab`은 이 과정이 다른 소프트웨어 (예를 들자면, `Jupyter Notebook`) 에 비해 복잡합니다. \n",
        "\n",
        "`colab`은 `Google Drives`를 파일 시스템으로 사용 하기 때문에 이를 파일 경로를 직접 사용 할 수는 없습니다, 대신 작업을 위해서 `drive`에 파일을 업로드 해야만 합니다. "
      ]
    },
    {
      "cell_type": "markdown",
      "metadata": {
        "id": "9ocDcrXWhceM"
      },
      "source": [
        "### 방법 1: 구글 코랩 파일 업로드 패키지\n",
        "\n"
      ]
    },
    {
      "cell_type": "code",
      "metadata": {
        "colab": {
          "resources": {
            "http://localhost:8080/nbextensions/google.colab/files.js": {
              "data": "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",
              "ok": true,
              "headers": [
                [
                  "content-type",
                  "application/javascript"
                ]
              ],
              "status": 200,
              "status_text": ""
            }
          },
          "base_uri": "https://localhost:8080/",
          "height": 382
        },
        "id": "_HQlN7vIhtZe",
        "outputId": "607f629a-d049-4de4-cb18-723e4d1b9e71"
      },
      "source": [
        "from google.colab import files\n",
        "uploaded = files.upload()"
      ],
      "execution_count": 5,
      "outputs": [
        {
          "output_type": "display_data",
          "data": {
            "text/html": [
              "\n",
              "     <input type=\"file\" id=\"files-b13d01a3-5a2e-4142-b183-32af278f68c6\" name=\"files[]\" multiple disabled\n",
              "        style=\"border:none\" />\n",
              "     <output id=\"result-b13d01a3-5a2e-4142-b183-32af278f68c6\">\n",
              "      Upload widget is only available when the cell has been executed in the\n",
              "      current browser session. Please rerun this cell to enable.\n",
              "      </output>\n",
              "      <script src=\"/nbextensions/google.colab/files.js\"></script> "
            ],
            "text/plain": [
              "<IPython.core.display.HTML object>"
            ]
          },
          "metadata": {}
        },
        {
          "output_type": "error",
          "ename": "KeyboardInterrupt",
          "evalue": "ignored",
          "traceback": [
            "\u001b[0;31m---------------------------------------------------------------------------\u001b[0m",
            "\u001b[0;31mKeyboardInterrupt\u001b[0m                         Traceback (most recent call last)",
            "\u001b[0;32m<ipython-input-5-21dc3c638f66>\u001b[0m in \u001b[0;36m<module>\u001b[0;34m()\u001b[0m\n\u001b[1;32m      1\u001b[0m \u001b[0;32mfrom\u001b[0m \u001b[0mgoogle\u001b[0m\u001b[0;34m.\u001b[0m\u001b[0mcolab\u001b[0m \u001b[0;32mimport\u001b[0m \u001b[0mfiles\u001b[0m\u001b[0;34m\u001b[0m\u001b[0;34m\u001b[0m\u001b[0m\n\u001b[0;32m----> 2\u001b[0;31m \u001b[0muploaded\u001b[0m \u001b[0;34m=\u001b[0m \u001b[0mfiles\u001b[0m\u001b[0;34m.\u001b[0m\u001b[0mupload\u001b[0m\u001b[0;34m(\u001b[0m\u001b[0;34m)\u001b[0m\u001b[0;34m\u001b[0m\u001b[0;34m\u001b[0m\u001b[0m\n\u001b[0m",
            "\u001b[0;32m/usr/local/lib/python3.7/dist-packages/google/colab/files.py\u001b[0m in \u001b[0;36mupload\u001b[0;34m()\u001b[0m\n\u001b[1;32m     62\u001b[0m   result = _output.eval_js(\n\u001b[1;32m     63\u001b[0m       'google.colab._files._uploadFiles(\"{input_id}\", \"{output_id}\")'.format(\n\u001b[0;32m---> 64\u001b[0;31m           input_id=input_id, output_id=output_id))\n\u001b[0m\u001b[1;32m     65\u001b[0m   \u001b[0mfiles\u001b[0m \u001b[0;34m=\u001b[0m \u001b[0m_collections\u001b[0m\u001b[0;34m.\u001b[0m\u001b[0mdefaultdict\u001b[0m\u001b[0;34m(\u001b[0m\u001b[0m_six\u001b[0m\u001b[0;34m.\u001b[0m\u001b[0mbinary_type\u001b[0m\u001b[0;34m)\u001b[0m\u001b[0;34m\u001b[0m\u001b[0;34m\u001b[0m\u001b[0m\n\u001b[1;32m     66\u001b[0m   \u001b[0;31m# Mapping from original filename to filename as saved locally.\u001b[0m\u001b[0;34m\u001b[0m\u001b[0;34m\u001b[0m\u001b[0;34m\u001b[0m\u001b[0m\n",
            "\u001b[0;32m/usr/local/lib/python3.7/dist-packages/google/colab/output/_js.py\u001b[0m in \u001b[0;36meval_js\u001b[0;34m(script, ignore_result, timeout_sec)\u001b[0m\n\u001b[1;32m     38\u001b[0m   \u001b[0;32mif\u001b[0m \u001b[0mignore_result\u001b[0m\u001b[0;34m:\u001b[0m\u001b[0;34m\u001b[0m\u001b[0;34m\u001b[0m\u001b[0m\n\u001b[1;32m     39\u001b[0m     \u001b[0;32mreturn\u001b[0m\u001b[0;34m\u001b[0m\u001b[0;34m\u001b[0m\u001b[0m\n\u001b[0;32m---> 40\u001b[0;31m   \u001b[0;32mreturn\u001b[0m \u001b[0m_message\u001b[0m\u001b[0;34m.\u001b[0m\u001b[0mread_reply_from_input\u001b[0m\u001b[0;34m(\u001b[0m\u001b[0mrequest_id\u001b[0m\u001b[0;34m,\u001b[0m \u001b[0mtimeout_sec\u001b[0m\u001b[0;34m)\u001b[0m\u001b[0;34m\u001b[0m\u001b[0;34m\u001b[0m\u001b[0m\n\u001b[0m\u001b[1;32m     41\u001b[0m \u001b[0;34m\u001b[0m\u001b[0m\n\u001b[1;32m     42\u001b[0m \u001b[0;34m\u001b[0m\u001b[0m\n",
            "\u001b[0;32m/usr/local/lib/python3.7/dist-packages/google/colab/_message.py\u001b[0m in \u001b[0;36mread_reply_from_input\u001b[0;34m(message_id, timeout_sec)\u001b[0m\n\u001b[1;32m     99\u001b[0m     \u001b[0mreply\u001b[0m \u001b[0;34m=\u001b[0m \u001b[0m_read_next_input_message\u001b[0m\u001b[0;34m(\u001b[0m\u001b[0;34m)\u001b[0m\u001b[0;34m\u001b[0m\u001b[0;34m\u001b[0m\u001b[0m\n\u001b[1;32m    100\u001b[0m     \u001b[0;32mif\u001b[0m \u001b[0mreply\u001b[0m \u001b[0;34m==\u001b[0m \u001b[0m_NOT_READY\u001b[0m \u001b[0;32mor\u001b[0m \u001b[0;32mnot\u001b[0m \u001b[0misinstance\u001b[0m\u001b[0;34m(\u001b[0m\u001b[0mreply\u001b[0m\u001b[0;34m,\u001b[0m \u001b[0mdict\u001b[0m\u001b[0;34m)\u001b[0m\u001b[0;34m:\u001b[0m\u001b[0;34m\u001b[0m\u001b[0;34m\u001b[0m\u001b[0m\n\u001b[0;32m--> 101\u001b[0;31m       \u001b[0mtime\u001b[0m\u001b[0;34m.\u001b[0m\u001b[0msleep\u001b[0m\u001b[0;34m(\u001b[0m\u001b[0;36m0.025\u001b[0m\u001b[0;34m)\u001b[0m\u001b[0;34m\u001b[0m\u001b[0;34m\u001b[0m\u001b[0m\n\u001b[0m\u001b[1;32m    102\u001b[0m       \u001b[0;32mcontinue\u001b[0m\u001b[0;34m\u001b[0m\u001b[0;34m\u001b[0m\u001b[0m\n\u001b[1;32m    103\u001b[0m     if (reply.get('type') == 'colab_reply' and\n",
            "\u001b[0;31mKeyboardInterrupt\u001b[0m: "
          ]
        }
      ]
    },
    {
      "cell_type": "markdown",
      "metadata": {
        "id": "sqmNtickhoP_"
      },
      "source": [
        "### 방법 2: GUI (Graphical User Interface) 사용"
      ]
    },
    {
      "cell_type": "code",
      "metadata": {
        "id": "SliGiU1zhbea"
      },
      "source": [
        "# df = pd.read.csv('adult (6).data') # after upload\n",
        "# print(df.shape)"
      ],
      "execution_count": null,
      "outputs": []
    },
    {
      "cell_type": "markdown",
      "metadata": {
        "id": "j7QgopWc6lUJ"
      },
      "source": [
        "### ❓ 이러한 방법을 찾기 위해서 구글링 해야하는 것은 무엇일까요? ( colab local file upload )"
      ]
    },
    {
      "cell_type": "markdown",
      "metadata": {
        "id": "SfyIX2mF6Ocz"
      },
      "source": [
        "## ❓좋은 데이터셋의 의미는 뭘까요?\n",
        "\n",
        "<img src='https://i.imgur.com/iVGibwz.png'>\n",
        "\n",
        "<https://www.kaggle.com/shivamb/netflix-shows>"
      ]
    },
    {
      "cell_type": "markdown",
      "metadata": {
        "id": "Nq7nkWTwJ_ho"
      },
      "source": [
        ""
      ]
    },
    {
      "cell_type": "code",
      "metadata": {
        "id": "Ad2yGri1LCSx"
      },
      "source": [
        ""
      ],
      "execution_count": null,
      "outputs": []
    },
    {
      "cell_type": "markdown",
      "metadata": {
        "id": "Z3LJ5IZLTwvb"
      },
      "source": [
        "# EDA (Exploratory Data Analysis)\n",
        "\n"
      ]
    },
    {
      "cell_type": "markdown",
      "metadata": {
        "id": "-XUlRHsTU1_g"
      },
      "source": [
        "## 개요\n",
        "\n",
        "우리가 지인으로부터 생선을 선물 받았다고 해볼까요?\n",
        "\n",
        "이를 위해서 무슨 요리를 해야할까 고민하게 될 겁니다.\n",
        "\n",
        "그러나 가장 먼저 해야 할 것은 이 생선이 어떤 생선인지 이해하는 것입니다.\n",
        "\n",
        "<img src='https://i.imgur.com/IdqhSEr.png' width = '800'>\n",
        "\n",
        "\n",
        "- 이 생선에는 독이 있는지\n",
        "- 먹을 수 없는 부분이 있는지 (지느러미등..)\n",
        "- 생선이 맞긴 한 건지\n",
        "- 요리를 위한 가정이 맞는지 (**신선하다** -> **회도 가능하다**)\n",
        "\n",
        "와 같은 요인들을 고려해야합니다."
      ]
    },
    {
      "cell_type": "markdown",
      "metadata": {
        "id": "S9zsGMeUU3Kh"
      },
      "source": [
        "## 데이터\n",
        "\n",
        "데이터도 마찬가지로, 정말 정말 정말로 잘 설계되고, 수집된 데이터가 아니라면 \n",
        "\n",
        "raw data (원본데이터)를 바로 분석에 사용하기에는 어렵습니다.\n",
        "\n",
        "데이터는 일반적으로 **\"사각형\"**의 형태를 가지고 있습니다. (`Spreadsheet`, `DB`등)\n",
        "\n",
        "<img src='https://i.imgur.com/I0tzziJ.png' width = '500'> \n",
        "\n",
        "천재적인 인지능력이 있지 않는 이상, 이 테이블형태의 숫자만 보고 인사이트를 바로 얻기는 어렵겠죠.\n",
        "\n",
        "이를 위해서 전체적인 \"견적\"을 내는 분석이 EDA 입니다."
      ]
    },
    {
      "cell_type": "markdown",
      "metadata": {
        "id": "o-EwxcgCkX_f"
      },
      "source": [
        "## EDA \n",
        "\n",
        "EDA란, 데이터 분석에 있어서 매우 중요한, 초기 분석의 단계를 의미하며 \n",
        "- 시각화 같은 도구를 통해서 패턴을 발견하거나\n",
        "- 데이터의 특이성을 확인하거나\n",
        "- 통계와 그래픽 (혹은 시각적 표현)을 통해서 가설을 검정하는 과정 등을 포함합니다. \n",
        "\n",
        "EDA의 방법은 크게 2가지 (Graphic, Non-Graphic) 으로 나눠질 수 있으며\n",
        "\n",
        "- Graphic : 차트 혹은 그림 등을 이용하여 데이터를 확인하는 방법입니다.\n",
        "\n",
        "- Non-Graphic :그래픽적인 요소를 사용하지 않는 방법으로, 주로 **Summary Statistics**를 통해 데이터를 확인하는 방법입니다.\n",
        "\n",
        "동시에, EDA의 \"타겟\"(데이터) 또한 2가지 (Univariate, Multi-variate)로 나눠집니다.\n",
        "\n",
        "- Multi-variate 의 경우 여러 **변수들간의 관계를 보는 것**이 주요 목적입니다."
      ]
    },
    {
      "cell_type": "markdown",
      "metadata": {
        "id": "bG4mEMYfmgPX"
      },
      "source": [
        "### Uni - Non Graphic\n",
        "\n",
        "Sample Data의 Distribution을 확인하는 것이 주목적입니다.\n",
        "\n",
        "\n",
        "Numeric data의 경우 summary statistics를 제일 많이 활용하는데요. 이에는\n",
        "\n",
        "- Center (Mean, Median, Mod)\n",
        "- Spread (Variance, SD, IQR, Range)\n",
        "- Modality (Peak)\n",
        "- Shape (Tail, Skewness, Kurtosis)\n",
        "- Outliers 등을 확인합니다.\n",
        "\n",
        "Categorical data의 경우 occurence, frequency, tabulation등을 할 수 있습니다.\n",
        "\n",
        "| Statistic / College | H&SS | MCS | SCS | Other | Total |\n",
        "|:-:|:-:|:-:|:-:|:-:|:-:|\n",
        "|Count|5|6|4|5|20|\n",
        "|Propotion|0.25|0.3|0.2|0.25|1|\n",
        "|Percent|25%|30%|20%|25%|100%|\n"
      ]
    },
    {
      "cell_type": "markdown",
      "metadata": {
        "id": "vo2ANWuppses"
      },
      "source": [
        "### Uni - Graphic\n",
        "\n",
        "Histogram 혹은 Pie chart, Stem-leaf plot, Boxplot, QQplot 등을 사용합니다.\n",
        "\n",
        "그러나 만약 값들이 너무 다양하다면, Binning, Tabulation등을 활용 할 수도 있습니다.\n",
        "\n"
      ]
    },
    {
      "cell_type": "markdown",
      "metadata": {
        "id": "OJDQmDF6tfzE"
      },
      "source": [
        "###  QQPlot\n",
        "\n",
        "**데이터의 분포와 이론상 분포가 잘 일치하는가** 를 확인 할 수 있는 방법입니다.\n",
        "\n",
        "ex) **성적 분포가 고를 것이다.**\n",
        "\n",
        "- A반 : 10, 20, 30, 40, 50, 60, 70, 80, 90, 100\n",
        "\n",
        "- B반 : 10, 15, 20, 75, 80, 85, 90, 95, 95, 100\n",
        "\n",
        "<img src='https://i.imgur.com/S6a2oUz.png' width = '500'>\n",
        "\n",
        "<img src='https://i.imgur.com/6ryhglR.png' width = '500'>\n",
        "\n",
        "다른 QQPlot들\n",
        "\n",
        "<img src='https://i.imgur.com/Xxc824A.png' width = '500'>\n",
        "\n",
        "\n",
        "\n",
        "\n"
      ]
    },
    {
      "cell_type": "markdown",
      "metadata": {
        "id": "Ug2lq5MvJmxH"
      },
      "source": [
        "### Multi - Non Graphic\n",
        "\n",
        "- Relationship을 보는 것이 주된 목표이며 \n",
        "- Cross-Tabulation \n",
        "- Cross-Statistics (Correlation, Covariance)\n",
        "\n",
        "등을 사용합니다.\n",
        "\n",
        "|Subject ID|Age Group|Sex|\n",
        "|:-:|:-:|:-:|\n",
        "|GW|Young|F|\n",
        "|JA|Middle|F|\n",
        "|TJ|Young|M|\n",
        "|JMA|Young|M|\n",
        "|JMO|Middle|F|\n",
        "|JQA|Old|F|\n",
        "|AJ|Old|F|\n",
        "|MVB|Young|M|\n",
        "|WHH|Old|F|\n",
        "|JT|Young|F|\n",
        "|JKP|Middle|M|\n",
        "\n",
        "\n",
        "다음과 같은 Categorical 데이터는\n",
        "\n",
        "|Age Group / Sex|Female|Male|Total|\n",
        "|:-:|:-:|:-:|:-:|\n",
        "|Young|2|3|5|\n",
        "|Middle|2|1|3|\n",
        "|Old|3|0|3|\n",
        "|Total|7|4|11|\n",
        "\n",
        "과 같이 Cross-Tabulation을 적용 할 수 있으며 한편 Numerical Feature들의 경우 아래와 같이 Cross Statistics를 통해 EDA를 할 수도 있습니다. \n",
        "\n",
        "(원래는 색상이 없는 table이지만, 색상을 넣어 heat map 처럼 적용도 가능)\n",
        "\n",
        "<img src='https://www.vertica.com/wp-content/uploads/2019/09/corr_matrix_Titanic.png' width = '500'>"
      ]
    },
    {
      "cell_type": "markdown",
      "metadata": {
        "id": "bvpGPk2zMcOz"
      },
      "source": [
        "### Multi - Graphic\n",
        "\n",
        "- Category & Numeric : Boxplots, Stacked bar, Parallel Coordinate, Heatmap\n",
        "\n",
        "<img src='https://kr.mathworks.com/help/examples/stats/win64/CreateBoxPlotsForGroupedDataExample_01.png' width = '500'>\n",
        "\n",
        "<img src='https://chartio.com/assets/9bfb20/tutorials/charts/stacked-bar-charts/073137bf11f1c2226f68c3188128e28d66115622dcdecc9bc208a6d4117f53e8/stacked-bar-example-1.png' width = '500'>\n",
        "\n",
        "<img src='https://datavizcatalogue.com/methods/images/anatomy/SVG/parallel_coordinates.svg' width = '500'>\n",
        "\n",
        "<img src='https://www.grapecity.com/componentone/docs/win/online-flexchart/images/discrete-heatmap.png' width = '500'>\n",
        "\n",
        "\n",
        "- Numeric & Numeric : Scatter Plot\n",
        "\n",
        "<img src='https://upload.wikimedia.org/wikipedia/commons/thumb/a/af/Scatter_diagram_for_quality_characteristic_XXX.svg/1200px-Scatter_diagram_for_quality_characteristic_XXX.svg.png' width = '500'>\n"
      ]
    },
    {
      "cell_type": "markdown",
      "metadata": {
        "id": "5iFyoAdDOoqu"
      },
      "source": [
        "# pandas를 사용한 기초 EDA\n",
        "\n"
      ]
    },
    {
      "cell_type": "markdown",
      "metadata": {
        "id": "Oko53M30TnJ-"
      },
      "source": [
        "## Useful Pandas Functions"
      ]
    },
    {
      "cell_type": "markdown",
      "metadata": {
        "id": "k9DobU7dqILL"
      },
      "source": [
        "### Missing Data\n",
        "- isna\n",
        "- isnull\n",
        "- notna\n",
        "- notnull\n",
        "- dropna\n",
        "- fillna"
      ]
    },
    {
      "cell_type": "markdown",
      "metadata": {
        "id": "a73-C8tp7YMS"
      },
      "source": [
        "### Data Frame\n",
        "- index\n",
        "- columns\n",
        "- dtypes\n",
        "- info\n",
        "- select_dtypes\n",
        "- loc\n",
        "- iloc\n",
        "- insert\n",
        "- head\n",
        "- tail\n",
        "- apply\n",
        "- aggregate\n",
        "- drop\n",
        "- rename\n",
        "- replace\n",
        "- nsmallest\n",
        "- nlargest\n",
        "- sort_values\n",
        "- sort_index\n",
        "- value_counts\n",
        "- describe\n",
        "- shape\n"
      ]
    },
    {
      "cell_type": "markdown",
      "metadata": {
        "id": "7irQuvyg7sBk"
      },
      "source": [
        "### Vis\n",
        "- plot\n",
        "- plot.area\n",
        "- plot.bar\n",
        "- plot.barh\n",
        "- plot.box\n",
        "- plot.density\n",
        "- plot.hexbin\n",
        "- plot.hist\n",
        "- plot.kde\n",
        "- plot.line\n",
        "- plot.pie\n",
        "- plot.scatter"
      ]
    },
    {
      "cell_type": "markdown",
      "metadata": {
        "id": "CE1OpSBpljcU"
      },
      "source": [
        "## 위 내용을 참조하여 kt&g 의 매출액에 대해서 다음의 차트들을 생성해봅시다:\n",
        "\n",
        "- Line Plot \n",
        "- Scatter Plot\n",
        "- Bar plot\n",
        "\n",
        "위와 같은 그림들이 데이터에 대해서 어떻게 다르게 표현 될까요?\n",
        "\n",
        "데이터의 분포를 시각화 하는것이 왜 중요할까요?"
      ]
    },
    {
      "cell_type": "markdown",
      "metadata": {
        "id": "-cPyM8eLlIQB"
      },
      "source": [
        "### Line Plot"
      ]
    },
    {
      "cell_type": "code",
      "metadata": {
        "colab": {
          "base_uri": "https://localhost:8080/"
        },
        "id": "vGXfTAyJlU4J",
        "outputId": "77a83bfc-ed60-450f-c1cb-fd1a6e058442"
      },
      "source": [
        "df['순이익률']"
      ],
      "execution_count": 6,
      "outputs": [
        {
          "output_type": "execute_result",
          "data": {
            "text/plain": [
              "0    25.80\n",
              "1    24.36\n",
              "2     9.87\n",
              "3    24.94\n",
              "4    22.25\n",
              "Name: 순이익률, dtype: float64"
            ]
          },
          "metadata": {},
          "execution_count": 6
        }
      ]
    },
    {
      "cell_type": "code",
      "metadata": {
        "colab": {
          "base_uri": "https://localhost:8080/",
          "height": 283
        },
        "id": "Nhp4OF_c8jJK",
        "outputId": "ce79ecd9-7ad8-436d-dabc-7af39d72ff62"
      },
      "source": [
        "df['순이익률'].plot()"
      ],
      "execution_count": 7,
      "outputs": [
        {
          "output_type": "execute_result",
          "data": {
            "text/plain": [
              "<matplotlib.axes._subplots.AxesSubplot at 0x7fe884098990>"
            ]
          },
          "metadata": {},
          "execution_count": 7
        },
        {
          "output_type": "display_data",
          "data": {
            "image/png": "[encoded data removed]",
            "text/plain": [
              "<Figure size 432x288 with 1 Axes>"
            ]
          },
          "metadata": {
            "needs_background": "light"
          }
        }
      ]
    },
    {
      "cell_type": "markdown",
      "metadata": {
        "id": "DMDxmjCI8l3t"
      },
      "source": [
        "### ❓ 위 그림이 의미하는 바는 무엇일까요? 어떻게 더 개선 할 수 있을까요? \n",
        "### ❓ <matplotlib.~~> 부분을 어떻게 지울 수 있을까요?"
      ]
    },
    {
      "cell_type": "markdown",
      "metadata": {
        "id": "MvT2W_HulJuR"
      },
      "source": [
        "### Histogram"
      ]
    },
    {
      "cell_type": "code",
      "metadata": {
        "id": "GJg_yWrMlVRs"
      },
      "source": [
        "df['순이익률'].plot.hist(); "
      ],
      "execution_count": null,
      "outputs": []
    },
    {
      "cell_type": "markdown",
      "metadata": {
        "id": "mW9LKl85qH1T"
      },
      "source": [
        ""
      ]
    },
    {
      "cell_type": "markdown",
      "metadata": {
        "id": "P67iVO7ulK5J"
      },
      "source": [
        "### Scatter Plot\n"
      ]
    },
    {
      "cell_type": "code",
      "metadata": {
        "id": "Tz9J6YqnlV0j"
      },
      "source": [
        "df.plot.scatter('순이익률', 'ROE(%)');"
      ],
      "execution_count": null,
      "outputs": []
    },
    {
      "cell_type": "markdown",
      "metadata": {
        "id": "xc7LMkbv9eVS"
      },
      "source": [
        "### ❓ 에러의 원인과 이를 위해서 어떻게 해야할까요?"
      ]
    },
    {
      "cell_type": "markdown",
      "metadata": {
        "id": "O5Q6uv49lOOZ"
      },
      "source": [
        "### Bar Plot "
      ]
    },
    {
      "cell_type": "code",
      "metadata": {
        "id": "MBpB3NqjlWc8"
      },
      "source": [
        "df['순이익률'].plot.bar();"
      ],
      "execution_count": null,
      "outputs": []
    },
    {
      "cell_type": "markdown",
      "metadata": {
        "id": "41vdlMIL9x16"
      },
      "source": [
        "### Horizontal Bar Plot"
      ]
    },
    {
      "cell_type": "code",
      "metadata": {
        "id": "S3s-9q9b96L7"
      },
      "source": [
        "df['순이익률'].plot.barh();"
      ],
      "execution_count": null,
      "outputs": []
    },
    {
      "cell_type": "markdown",
      "metadata": {
        "id": "WZld7EXn-D08"
      },
      "source": [
        "### ❓ 이 kt&g 데이터에 EDA를 하는 것으로 얻은 결론은 무엇이 있을까요?"
      ]
    },
    {
      "cell_type": "markdown",
      "metadata": {
        "id": "fnSHv1nYR6p4"
      },
      "source": [
        "# Data Preprocessing\n",
        "\n",
        "> Garbage In Garbage Out\n",
        "\n",
        "<img src='https://i.imgur.com/12gQMh2.png' width = '500'>\n",
        "\n",
        "데이터 혹은 분석 목적, 작업마다 해야하는 데이터의 전처리는 다르지만 크게 다음과 같은 flow를 갖습니다.\n",
        "\n",
        "<img src='https://i.imgur.com/RIMhucU.png' width = '800'>\n",
        "\n"
      ]
    },
    {
      "cell_type": "markdown",
      "metadata": {
        "id": "eQKLGul7aZXD"
      },
      "source": [
        "## Cleaning \n",
        "\n",
        "> noise 를 제거하거나, inconsistency 를 보정하는 과정을 의미합니다.\n",
        "\n",
        "데이터의 정확도, 완성도, 일관성, 신뢰성과 같은\n",
        "\n",
        "||Feature A|Feature B|Feature C|\n",
        "|:-:|:-:|:-:|:-:|\n",
        "|Data1|1|2|\"Chicken\"|\n",
        "|Data2|2||5|\n",
        "|Data3|4|3$|6|\n",
        "|Data4|4444|3|7|\n",
        "\n",
        "위의 예시와 같이\n",
        "\n",
        "값이 빠져있거나, 잘못 입력되거나 혹은 일관성을 가지지 않는 \n",
        "\n",
        "데이터들을 제거 / 보정 하는 과정들이 포함되어 있습니다.\n",
        "\n",
        "> 데이터를 분석하기 전에 **오류**를 깨끗이 다듬지 않으면 잘못된 데이터를 통해 잘못된 인사이트, 결론을 얻을 수 있습니다.\n",
        "\n",
        "<img src='https://i.imgur.com/roFkhbo.png'> \n",
        "\n",
        "\n"
      ]
    },
    {
      "cell_type": "markdown",
      "metadata": {
        "id": "A18c1vb_dMxu"
      },
      "source": [
        "### Missing Values \n",
        "\n",
        "- Ignore the tuple (결측치가 있는 데이터 삭제)\n",
        "- Manual Fill (수동으로 입력)\n",
        "- Global Constant (\"Unknown\")\n",
        "- Imputation (All mean, Class mean, Inference mean, Regression 등)"
      ]
    },
    {
      "cell_type": "markdown",
      "metadata": {
        "id": "CqcQn9GrdaDg"
      },
      "source": [
        "### Noisy data\n",
        "\n",
        "Noise란, 큰 방향성에서 벗어난 random error 혹은 variance를 포함하는 데이터를 말하며\n",
        "\n",
        "대부분 descriptive statistics 혹은 visualization등 (eda)을 통해 제거가 가능합니다.\n",
        "\n",
        "### Etc\n",
        "\n",
        "- Binning\n",
        "\n",
        "<img src='https://i.imgur.com/7Yve6h6.png' width = '500'>\n",
        "\n",
        "- Regression\n",
        "- Outlier analysis"
      ]
    },
    {
      "cell_type": "markdown",
      "metadata": {
        "id": "7mUPcM6Rab3A"
      },
      "source": [
        "## Integration\n",
        "\n",
        "> 여러개로 나누어져 있는 데이터들을 분석하기 편하게 하나로 합치는 과정을 의미합니다.\n",
        "\n",
        "추후에 한 예시로 `merge`를 배우게 됩니다."
      ]
    },
    {
      "cell_type": "markdown",
      "metadata": {
        "id": "nhdXVS8_adtY"
      },
      "source": [
        "## Transformation\n",
        "\n",
        "> 데이터의 **형태**를 변환하는 작업으로, scaling이라고 부르기도 합니다.\n",
        "\n",
        "추후에 `normalize` 등의 예시를 배우게 됩니다.\n"
      ]
    },
    {
      "cell_type": "markdown",
      "metadata": {
        "id": "7OAy2-q2aeTt"
      },
      "source": [
        "## Reduction\n",
        "\n",
        "> 데이터를 의미있게 줄이는 것을 의미하며, dimension reduction과 유사한 목적을 갖습니다.\n",
        "\n",
        "마찬가지로 추후에 `pca`등의 예시를 배우게 됩니다."
      ]
    }
  ]
}