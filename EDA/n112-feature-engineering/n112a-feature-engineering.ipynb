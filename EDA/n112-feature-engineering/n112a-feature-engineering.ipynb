{
 "cells": [
  {
   "cell_type": "markdown",
   "metadata": {
    "id": "SnDJqBLi0FYW"
   },
   "source": [
    "<img src='https://user-images.githubusercontent.com/6457691/89746244-a6e2a200-daf3-11ea-9314-7863d544d73c.png' width = '200' align = 'right'>\n",
    "\n",
    "## *DATA SCIENCE / SECTION 1 / SPRINT 1 / NOTE 2*\n",
    "\n",
    "# 📝 Assignment\n"
   ]
  },
  {
   "cell_type": "markdown",
   "metadata": {
    "id": "W5GjI1z5yNG4"
   },
   "source": [
    "## 1. Feature Engineering\n",
    "\n",
    "- `KT&G` 기업 데이터를 계속 사용합니다.\n",
    "  - 변수 이름은 `df`로 저장하세요.\n",
    "\n",
    "- 각 분기별 영업이익률을 직접 계산해보세요. \n",
    "  - Feature 이름은 `영업이익률2` 입니다.\n",
    "\n",
    "- 아래 데이터를 참조하여 18/19년도에 대해서 Price to Dream Ratio (PDR)을 계산하세요.\n",
    "  - 변수 이름은 `df2`, feature 이름은 `PDR`로, `df2['PDR']`을 통해 `~` 값이 확인 되어야합니다. 아래의 전제조건을 활용하세요.\n",
    "  - 점유율 (일반담배 기준) \n",
    "    - 18년 : 62%\n",
    "    - 19년 : 63.5% \n",
    "  - 시장의 규모 \n",
    "     - 18년 : 15조 \n",
    "     - 19년 : 15조\n",
    "\n",
    "||구분|종가|발행주식수|시가총액|시장점유율|PDR|\n",
    "|:-:|:-:|:-:|:-:|:-:|:-:|:-:|\n",
    "|0|18년|101500|137292497|13935188445500|62.0|~|\n",
    "|1|19년|93800|137292497|12878036218600|63.5|~|\n"
   ]
  },
  {
   "cell_type": "code",
   "execution_count": null,
   "metadata": {
    "id": "AazB4eFwym2p"
   },
   "outputs": [],
   "source": [
    "url = 'https://ds-lecture-data.s3.ap-northeast-2.amazonaws.com/kt%26g/kt%26g_0.csv'\n",
    "headers = ['분기', '매출액', '영업이익', '영업이익(발표기준)', '세전계속사업이익',\n",
    "           '당기순이익', '당기순이익(지배)', '당기순이익(비지배)', '자산총계', '부채총계',\n",
    "           '자본총계', '자본총계(지배)', '자본총계(비지배)', '자본금', '영업활동현금흐름',\n",
    "           '투자활동현금흐름', '재무활동현금흐름', '영업이익률', '순이익률', 'ROE(%)',\n",
    "           'ROA(%)', '부채비율', '자본유보율', 'EPS(원)', 'PER(배)']"
   ]
  },
  {
   "cell_type": "markdown",
   "metadata": {
    "id": "XBtwwrzAnKzk"
   },
   "source": [
    "## 2. String Manipulation\n",
    "\n",
    "- replace가 아닌 다른 방법을 사용하여 19년도 2분기의 매출액 을 integer로 변경하세요. 결과값은 12578이 나와야합니다.\n",
    "  \n"
   ]
  },
  {
   "cell_type": "code",
   "execution_count": null,
   "metadata": {
    "id": "9-sR5inqnM0L"
   },
   "outputs": [],
   "source": [
    "# 이 곳에 답안을 작성하시길 바랍니다"
   ]
  },
  {
   "cell_type": "markdown",
   "metadata": {
    "id": "357MIyg6nNWj"
   },
   "source": [
    "## 3. Apply\n",
    "- 데이터셋의 분기를 제외한 모든 feature에 대해서 수치형 데이터 (`int`, `float`) 로 수정하고, `describe`를 통해 summary statistics 를 확인하세요.\n",
    "- 단 결측치는 `0`으로 처리합니다."
   ]
  },
  {
   "cell_type": "code",
   "execution_count": null,
   "metadata": {
    "id": "Sp93h2pvFs7P"
   },
   "outputs": [],
   "source": [
    "# 이 곳에 답안을 작성하시길 바랍니다"
   ]
  },
  {
   "cell_type": "markdown",
   "metadata": {
    "id": "L8k0LiHmo5EU"
   },
   "source": [
    "## 🔥 도전과제\n",
    "\n"
   ]
  },
  {
   "cell_type": "markdown",
   "metadata": {
    "id": "sm0x-1HEoss0"
   },
   "source": [
    "### NA Value Handling\n",
    "\n",
    "- 19년도 4분기의 당기순이익(비지배) 부분을 Na로 대체하세요\n",
    "- 이후 해당 결측치를 mean imputation 방법을 사용하여 처리하세요.\n",
    "\n"
   ]
  },
  {
   "cell_type": "code",
   "execution_count": null,
   "metadata": {
    "id": "B2GsUS0HosSD"
   },
   "outputs": [],
   "source": [
    "# 이 곳에 답안을 작성하시길 바랍니다"
   ]
  },
  {
   "cell_type": "markdown",
   "metadata": {
    "id": "x8gq5wkdotTj"
   },
   "source": [
    "### Feature Engineering\n",
    "\n",
    "Relative Perfomance 라는 새로운 feature를 계산하세요.\n",
    "\n",
    "이는 최근 1년치 매출액의 평균값을 기준으로 \n",
    "\n",
    "- 10% 이상 -> `S`\n",
    "- 5% 이상 -> `A`\n",
    "- -5 ~ 5% -> `B`\n",
    "- -5%이하 -> `C`\n",
    "- 10%이하 -> `D`\n",
    "\n",
    "라는 값을 갖는 feature입니다.\n",
    "\n",
    "20년도 2분기에 해당하는 결과값은 `A`가 나와야합니다.\n",
    "\n",
    "각각에 해당하는 등급이 나오기 위해서 필요한 매출액을 추가로 서술하세요."
   ]
  },
  {
   "cell_type": "code",
   "execution_count": null,
   "metadata": {
    "id": "JqoaRyQjpaRm"
   },
   "outputs": [],
   "source": [
    "# 이 곳에 답안을 작성하시길 바랍니다"
   ]
  }
 ],
 "metadata": {
  "colab": {
   "name": "n112a-feature-engineering.ipynb",
   "provenance": []
  },
  "kernelspec": {
   "display_name": "Python 3",
   "language": "python",
   "name": "python3"
  },
  "language_info": {
   "codemirror_mode": {
    "name": "ipython",
    "version": 3
   },
   "file_extension": ".py",
   "mimetype": "text/x-python",
   "name": "python",
   "nbconvert_exporter": "python",
   "pygments_lexer": "ipython3",
   "version": "3.8.2"
  }
 },
 "nbformat": 4,
 "nbformat_minor": 4
}
