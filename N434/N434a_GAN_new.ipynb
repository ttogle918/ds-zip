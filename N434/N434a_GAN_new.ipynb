{
  "nbformat": 4,
  "nbformat_minor": 0,
  "metadata": {
    "colab": {
      "name": "N434a_GAN_new.ipynb",
      "provenance": [],
      "collapsed_sections": [],
      "include_colab_link": true
    },
    "kernelspec": {
      "name": "python3",
      "display_name": "Python 3"
    },
    "language_info": {
      "name": "python"
    },
    "accelerator": "GPU"
  },
  "cells": [
    {
      "cell_type": "markdown",
      "metadata": {
        "id": "view-in-github",
        "colab_type": "text"
      },
      "source": [
        "<a href=\"https://colab.research.google.com/github/ttogle918/ds-section4-sprint3/blob/master/N434/N434a_GAN_new.ipynb\" target=\"_parent\"><img src=\"https://colab.research.google.com/assets/colab-badge.svg\" alt=\"Open In Colab\"/></a>"
      ]
    },
    {
      "cell_type": "markdown",
      "metadata": {
        "id": "xRmpLUtFpCv0"
      },
      "source": [
        "<img src='https://user-images.githubusercontent.com/6457691/90080969-0f758d00-dd47-11ea-8191-fa12fd2054a7.png' width = '200' align = 'right'>\n",
        "\n",
        "## *DATA SCIENCE / SECTION 4 / SPRINT 3 / Assignment 4*"
      ]
    },
    {
      "cell_type": "markdown",
      "metadata": {
        "id": "I0WKm7JkpCle"
      },
      "source": [
        "## 문제1.\n",
        "\n",
        "아래는 Lecture Note에 있는 생성자 생성 함수입니다. Conv2DTranspose가 아닌 Upsampling을 사용하는 구조로 변경을 하였고, Seqeuntial API가 아닌 함수형 API를 사용하는 방식으로 변경을 하였습니다. 이때, Upsampling 층을 통과한 후의 이미지 shape에 대해 적어주세요.\n",
        "\n",
        "Upsampling + Conv2D가 어떻게 Conv2DTranspose를 대체할 수 있는지, 각각의 역할이 무엇인지에 대해 찾아주세요!\n",
        "\n",
        "Upsampling :  \n",
        "- output의 크기가 input보다 커지게 하는 방법\n",
        "- 활용 예시 : semantic semantation, U-net 등 크기를 되돌리는 행위가 필요할 때, 모양이 맞아야 할 대\n",
        "\n",
        "Conv2D : \n",
        "- input 데이터에 filter map을 연산하여 나타난다.\n",
        "- Conv연산은 output 크기가 input 크기보다 작아진다.\n",
        "\n",
        "Conv2DTranspose : \n",
        "- Unsampling 기법 ( input 크기 < output 크기가 되도록 하는 기법 )의 일종\n",
        "- Deconvolution, Upconvolution, Fractionally strided convolution, Backward strided convolution이라고 불리기도 한다.(여기서 Deconvolution과는 계산 방법이 다르다)\n",
        "- Convolution 계산과정을 역으로 한다.\n",
        "- input값 원소 * 필터 = output ( 겹치는 부분은 합으로 한다 )\n",
        "\n",
        "Deconvolution : \n",
        "- 역 연산을 통해서 input을 재현하는 것이 목적이다.\n",
        "- Convolution 연산할 때 사용한 kernel과 output을 알고 있어야 한다."
      ]
    },
    {
      "cell_type": "markdown",
      "source": [
        "- 문제1-1. 첫번째 Upsampling와 Conv2D 레이어를 통과한 후의 shape으로 알맞은 것은?\n",
        "- 문제1-2. 첫번째 Conv2DTranspose 레이어르 통과한 후의 shape으로 알맞은 것은?\n",
        "\n",
        "batch를 의미하는 None은 제외하고 [30, 30, 30] 형태로 적어주세요"
      ],
      "metadata": {
        "id": "HGfxUiTTVTgi"
      }
    },
    {
      "cell_type": "code",
      "metadata": {
        "id": "7OCeZpxVKWR_"
      },
      "source": [
        "import tensorflow as tf"
      ],
      "execution_count": 25,
      "outputs": []
    },
    {
      "cell_type": "markdown",
      "source": [
        "# 코드 문제\n",
        "```\n",
        "def make_generator_model():\n",
        "    generator_input = tf.keras.layers.Input(shape=(100,), name='generator_input')\n",
        "    x = generator_input\n",
        "    x = tf.keras.layers.Dense(7*7*256, use_bias=False)(x)\n",
        "    x = tf.keras.layers.BatchNormalization()(x)\n",
        "    x = tf.keras.layers.LeakyReLU()(x)\n",
        "    x = tf.keras.layers.Reshape((7,7,256))(x)\n",
        "    \n",
        "    x = tf.keras.layers.UpSampling2D()(x)\n",
        "    x = tf.keras.layers.Conv2D(128, 5, strides=1, padding='same', use_bias=False)(x)\n",
        "    x = tf.keras.layers.BatchNormalization()(x)\n",
        "    x = tf.keras.layers.LeakyReLU()(x)\n",
        "    \n",
        "    x = tf.keras.layers.UpSampling2D()(x)\n",
        "    x = tf.keras.layers.Conv2D(64, 5, strides=1, padding='same', use_bias=False)(x)\n",
        "    x = tf.keras.layers.BatchNormalization()(x)\n",
        "    x = tf.keras.layers.LeakyReLU()(x)\n",
        "    \n",
        "    x = tf.keras.layers.Conv2DTranspose(64, 5, strides=1, padding='same', use_bias=False)(x)\n",
        "    x = tf.keras.layers.Conv2DTranspose(1, 5, strides=1, padding='same', use_bias=False, activation='tanh')(x)\n",
        "    generator_output = x\n",
        "    return tf.keras.models.Model(generator_input, generator_output)\n",
        "```\n",
        "\n"
      ],
      "metadata": {
        "id": "SNiGK5cBjb3l"
      }
    },
    {
      "cell_type": "code",
      "metadata": {
        "id": "xsb6xzNmpI7Q",
        "colab": {
          "base_uri": "https://localhost:8080/"
        },
        "outputId": "647617e2-225e-4ad6-e0fd-47332f89d3b6"
      },
      "source": [
        "# 위의 코드 수정\n",
        "def make_generator_model():\n",
        "    generator_input = tf.keras.layers.Input(shape=(100,), name='generator_input')\n",
        "    x = generator_input\n",
        "    x = tf.keras.layers.Dense(8*8*256, use_bias=False)(x)\n",
        "    x = tf.keras.layers.BatchNormalization()(x)\n",
        "    x = tf.keras.layers.LeakyReLU()(x)\n",
        "    x = tf.keras.layers.Reshape((8,8,256))(x)\n",
        "    \n",
        "    x = tf.keras.layers.UpSampling2D()(x)\n",
        "    x = tf.keras.layers.Conv2D(128, 5, strides=1, padding='same', use_bias=False)(x)\n",
        "    x = tf.keras.layers.BatchNormalization()(x)\n",
        "    x = tf.keras.layers.LeakyReLU()(x)\n",
        "    \n",
        "    x = tf.keras.layers.UpSampling2D()(x)\n",
        "    x = tf.keras.layers.Conv2D(64, 5, strides=1, padding='same', use_bias=False)(x)\n",
        "    x = tf.keras.layers.BatchNormalization()(x)\n",
        "    x = tf.keras.layers.LeakyReLU()(x)\n",
        "    \n",
        "    x = tf.keras.layers.Conv2DTranspose(64, 5, strides=1, padding='same', use_bias=False)(x)\n",
        "    x = tf.keras.layers.Conv2DTranspose(1, 5, strides=1, padding='same', use_bias=False, activation='tanh')(x)\n",
        "    generator_output = x\n",
        "    return tf.keras.models.Model(generator_input, generator_output)\n",
        "\n",
        "generator = make_generator_model()\n",
        "generator.summary()"
      ],
      "execution_count": 26,
      "outputs": [
        {
          "output_type": "stream",
          "name": "stdout",
          "text": [
            "Model: \"model_1\"\n",
            "_________________________________________________________________\n",
            " Layer (type)                Output Shape              Param #   \n",
            "=================================================================\n",
            " generator_input (InputLayer  [(None, 100)]            0         \n",
            " )                                                               \n",
            "                                                                 \n",
            " dense_2 (Dense)             (None, 16384)             1638400   \n",
            "                                                                 \n",
            " batch_normalization_3 (Batc  (None, 16384)            65536     \n",
            " hNormalization)                                                 \n",
            "                                                                 \n",
            " leaky_re_lu_5 (LeakyReLU)   (None, 16384)             0         \n",
            "                                                                 \n",
            " reshape_1 (Reshape)         (None, 8, 8, 256)         0         \n",
            "                                                                 \n",
            " up_sampling2d_2 (UpSampling  (None, 16, 16, 256)      0         \n",
            " 2D)                                                             \n",
            "                                                                 \n",
            " conv2d_4 (Conv2D)           (None, 16, 16, 128)       819200    \n",
            "                                                                 \n",
            " batch_normalization_4 (Batc  (None, 16, 16, 128)      512       \n",
            " hNormalization)                                                 \n",
            "                                                                 \n",
            " leaky_re_lu_6 (LeakyReLU)   (None, 16, 16, 128)       0         \n",
            "                                                                 \n",
            " up_sampling2d_3 (UpSampling  (None, 32, 32, 128)      0         \n",
            " 2D)                                                             \n",
            "                                                                 \n",
            " conv2d_5 (Conv2D)           (None, 32, 32, 64)        204800    \n",
            "                                                                 \n",
            " batch_normalization_5 (Batc  (None, 32, 32, 64)       256       \n",
            " hNormalization)                                                 \n",
            "                                                                 \n",
            " leaky_re_lu_7 (LeakyReLU)   (None, 32, 32, 64)        0         \n",
            "                                                                 \n",
            " conv2d_transpose_2 (Conv2DT  (None, 32, 32, 64)       102400    \n",
            " ranspose)                                                       \n",
            "                                                                 \n",
            " conv2d_transpose_3 (Conv2DT  (None, 32, 32, 1)        1600      \n",
            " ranspose)                                                       \n",
            "                                                                 \n",
            "=================================================================\n",
            "Total params: 2,832,704\n",
            "Trainable params: 2,799,552\n",
            "Non-trainable params: 33,152\n",
            "_________________________________________________________________\n"
          ]
        }
      ]
    },
    {
      "cell_type": "markdown",
      "metadata": {
        "id": "61HsWveqpNcr"
      },
      "source": [
        "## 문제2\n",
        "AutoEncoder에서 사용했던 구글 QuickDraw 데이터셋을 다시 활용해보겠습니다."
      ]
    },
    {
      "cell_type": "code",
      "metadata": {
        "id": "353tvdyXU7zv"
      },
      "source": [
        "import json, glob, imageio\n",
        "import matplotlib.pyplot as plt\n",
        "import numpy as np\n",
        "import os\n",
        "import time\n",
        "\n",
        "from IPython import display\n",
        "\n",
        "from tensorflow.keras import layers\n",
        "from tensorflow.keras.utils import get_file"
      ],
      "execution_count": 27,
      "outputs": []
    },
    {
      "cell_type": "code",
      "metadata": {
        "id": "5oDeWXPZTU_I"
      },
      "source": [
        "BASE_PATH = 'https://storage.googleapis.com/quickdraw_dataset/full/binary/'\n",
        "path = get_file('cat', BASE_PATH + 'cat.bin')"
      ],
      "execution_count": 28,
      "outputs": []
    },
    {
      "cell_type": "code",
      "metadata": {
        "colab": {
          "base_uri": "https://localhost:8080/"
        },
        "id": "xkKECD2JTW3p",
        "outputId": "b9f34f48-f6eb-4462-d50f-0dc6bd4e9cc3"
      },
      "source": [
        "import PIL\n",
        "from PIL import ImageDraw\n",
        "from struct import unpack\n",
        "from sklearn.model_selection import train_test_split\n",
        "\n",
        "def load_drows(path, train_size=0.85):\n",
        "    x = []\n",
        "    # 파일을 풀고 낙서를 하나하나 모은다. 낙서는 15바이트 헤더로 시작한다.\n",
        "    with open(path, 'rb') as f:\n",
        "        while True:\n",
        "            img = PIL.Image.new('L', (32, 32), 'white') # 8-bit pixels, black and white #https://pillow.readthedocs.io/en/stable/handbook/concepts.html#concept-modes\n",
        "            draw = ImageDraw.Draw(img)\n",
        "            header = f.read(15)\n",
        "            if len(header) != 15:\n",
        "                break\n",
        "            # 낙서는 x,y 좌표로 구성된 획(stroke) 목록으로 되어 있고, 각 좌표는 분리되어 저장되어 있다.\n",
        "            # 방금 위에서 생성한 ImageDraw 객체의 좌표 목록을 이용하기 위해 zip()함수를 사용하여 합쳐준다.\n",
        "            strokes, = unpack('H', f.read(2))\n",
        "            for i in range(strokes):\n",
        "                n_points, = unpack('H', f.read(2))\n",
        "                fmt = str(n_points) + 'B'\n",
        "                read_scaled = lambda: (p // 8 for \n",
        "                                       p in unpack(fmt, f.read(n_points)))\n",
        "                points = [*zip(read_scaled(), read_scaled())]               # zip 함수\n",
        "                draw.line(points, fill=0, width=2)\n",
        "            img = tf.keras.utils.img_to_array(img)\n",
        "            x.append(img)\n",
        "    x = np.asarray(x) / 255\n",
        "    return train_test_split(x, train_size=train_size)\n",
        "\n",
        "# 입력받은 10만개의 고양이 낙서 데이터를 활용할 수 있다. \n",
        "x_train, x_test = load_drows(path)\n",
        "print(x_train.shape, x_test.shape) # ((104721, 32, 32, 1), (18481, 32, 32, 1))"
      ],
      "execution_count": 29,
      "outputs": [
        {
          "output_type": "stream",
          "name": "stdout",
          "text": [
            "(104721, 32, 32, 1) (18481, 32, 32, 1)\n"
          ]
        }
      ]
    },
    {
      "cell_type": "markdown",
      "metadata": {
        "id": "xmntV2Y-pd-G"
      },
      "source": [
        "오늘 학습한 기본적인 GAN을 활용하여 고양이 그림을 그려내는 여러분만의 GAN을 만들어보세요!\n",
        "\n",
        "1 EPOCH가 끝날 때마다, 생성자가 그림을 어떻게 생성해내는지 ```generator_and_save_images```를 통해 확인할 수 있었는데요. 이번 과제에서도 GAN의 학습이 제대로 이루어지고 있는지 확인해보세요\n",
        "\n",
        "다음과 같은 내용을 숙지하며 과제를 진행해주세요.\n",
        "1. 입력 이미지 shape이 변했을 때, 어느 부분을 수정해야 하는가\n",
        "2. MNIST를 학습하는데 사용했던 EPOCH 수가 해당 데이터셋에서 생성자가 고양이 그림을 생성해내는데 충분한가"
      ]
    },
    {
      "cell_type": "code",
      "source": [
        "x_train = x_train.reshape(x_train.shape[0], 32, 32, 1).astype('float32')\n",
        "x_train = (x_train - 127.5) / 127.5 # 이미지를 [-1, 1]로 정규화합니다."
      ],
      "metadata": {
        "id": "mX_ClKIQxJKL"
      },
      "execution_count": 30,
      "outputs": []
    },
    {
      "cell_type": "code",
      "source": [
        "BUFFER_SIZE = 60000\n",
        "BATCH_SIZE = 64"
      ],
      "metadata": {
        "id": "hLkgrVQ7xZ5H"
      },
      "execution_count": 31,
      "outputs": []
    },
    {
      "cell_type": "code",
      "source": [
        "# 데이터 배치를 만들고 섞습니다.\n",
        "train_dataset = tf.data.Dataset.from_tensor_slices(x_train).shuffle(BUFFER_SIZE).batch(BATCH_SIZE)"
      ],
      "metadata": {
        "id": "2IAcOOYTxh8d"
      },
      "execution_count": 32,
      "outputs": []
    },
    {
      "cell_type": "markdown",
      "source": [
        "# 판별자"
      ],
      "metadata": {
        "id": "UHwIomecc18x"
      }
    },
    {
      "cell_type": "code",
      "source": [
        "# 판별자 model 생성\n",
        "def make_discriminator_model():\n",
        "    model = tf.keras.Sequential()\n",
        "    model.add(layers.Conv2D(64, (5, 5), strides=(2, 2), padding='same', input_shape=[32, 32, 1]))\n",
        "    model.add(layers.LeakyReLU())\n",
        "    model.add(layers.Dropout(0.3))\n",
        "\n",
        "    model.add(layers.Conv2D(128, (5, 5), strides=(2, 2), padding='same'))\n",
        "    model.add(layers.LeakyReLU())\n",
        "    model.add(layers.Dropout(0.3))\n",
        "\n",
        "    model.add(layers.Flatten())\n",
        "    model.add(layers.Dense(1))\n",
        "\n",
        "    return model\n",
        "    \n",
        "discriminator = make_discriminator_model()\n",
        "decision = discriminator(generated_image)\n",
        "print(decision)"
      ],
      "metadata": {
        "colab": {
          "base_uri": "https://localhost:8080/"
        },
        "id": "pTFRzM-wc1a5",
        "outputId": "8f095dfc-9ac2-4b05-fb2d-a443c93c06ee"
      },
      "execution_count": 33,
      "outputs": [
        {
          "output_type": "stream",
          "name": "stdout",
          "text": [
            "tf.Tensor([[-0.00611683]], shape=(1, 1), dtype=float32)\n"
          ]
        }
      ]
    },
    {
      "cell_type": "code",
      "source": [
        "EPOCHS = 38\n",
        "noise_dim = 10\n",
        "num_examples_to_generate = 16\n",
        "\n",
        "seed = tf.random.normal([num_examples_to_generate, noise_dim])"
      ],
      "metadata": {
        "id": "zycQhA2WemYN"
      },
      "execution_count": 34,
      "outputs": []
    },
    {
      "cell_type": "code",
      "source": [
        "cross_entropy = tf.keras.losses.BinaryCrossentropy(from_logits=True)"
      ],
      "metadata": {
        "id": "K90-OJ0xiqTn"
      },
      "execution_count": 35,
      "outputs": []
    },
    {
      "cell_type": "code",
      "source": [
        "# 판별자 손실 값 리턴 ( 진짜 )\n",
        "def discriminator_loss(real_output, fake_output):\n",
        "    real_loss = cross_entropy(tf.ones_like(real_output), real_output)\n",
        "    fake_loss = cross_entropy(tf.zeros_like(fake_output), fake_output)\n",
        "    total_loss = real_loss + fake_loss\n",
        "    return total_loss"
      ],
      "metadata": {
        "id": "KzDMul_4ionG"
      },
      "execution_count": 36,
      "outputs": []
    },
    {
      "cell_type": "code",
      "source": [
        "def generator_loss(fake_output):\n",
        "    return cross_entropy(tf.ones_like(fake_output), fake_output)"
      ],
      "metadata": {
        "id": "oTdTKmrqioJ_"
      },
      "execution_count": 37,
      "outputs": []
    },
    {
      "cell_type": "code",
      "source": [
        "generator_optimizer = tf.keras.optimizers.Adam(1e-4)\n",
        "discriminator_optimizer = tf.keras.optimizers.Adam(1e-4)"
      ],
      "metadata": {
        "id": "LLkb6NpRiyEe"
      },
      "execution_count": 38,
      "outputs": []
    },
    {
      "cell_type": "code",
      "source": [
        "checkpoint_dir = './training_checkpoints'\n",
        "checkpoint_prefix = os.path.join(checkpoint_dir, \"ckpt\")\n",
        "checkpoint = tf.train.Checkpoint(generator_optimizer=generator_optimizer,\n",
        "                                 discriminator_optimizer=discriminator_optimizer,\n",
        "                                 generator=generator,\n",
        "                                 discriminator=discriminator)"
      ],
      "metadata": {
        "id": "pEWlUGWZi1aY"
      },
      "execution_count": 39,
      "outputs": []
    },
    {
      "cell_type": "code",
      "source": [
        "def generate_and_save_images(model, epoch, test_input):\n",
        "    \"\"\"\n",
        "    모델이 이미지를 생성한 후 저장하는 함수입니다.\n",
        "    \n",
        "    Args:\n",
        "        model: 이미지를 생성할 모델입니다.\n",
        "        epoch: 진행 중인 Epoch 숫자입니다.\n",
        "        test_input: model에 입력되는 데이터입니다.\n",
        "    \"\"\"\n",
        "\n",
        "    # training=False 이면 모든 층이 추론(inference)모드로 진행됩니다.\n",
        "    predictions = model(test_input, training=False)\n",
        "\n",
        "    fig = plt.figure(figsize=(4,4))\n",
        "\n",
        "    for i in range(predictions.shape[0]):\n",
        "        plt.subplot(4, 4, i+1)\n",
        "        plt.imshow(predictions[i, :, :, 0] * 127.5 + 127.5, cmap='gray')\n",
        "        plt.axis('off')\n",
        "\n",
        "    plt.savefig('image_at_epoch_{:04d}.png'.format(epoch))\n",
        "    plt.show()"
      ],
      "metadata": {
        "id": "gIfIKvQ0jQGW"
      },
      "execution_count": 40,
      "outputs": []
    },
    {
      "cell_type": "code",
      "source": [
        "@tf.function\n",
        "def train_step(images):\n",
        "    \"\"\"\n",
        "    위에서 정의한 손실함수를 바탕으로\n",
        "    Iteration(=step) 마다 가중치를 갱신합니다.\n",
        "\n",
        "    Args:\n",
        "        images: 훈련 데이터셋에 있는 실제 이미지입니다.\n",
        "    \"\"\"\n",
        "    noise = tf.random.normal([BATCH_SIZE, noise_dim])\n",
        "\n",
        "    with tf.GradientTape() as gen_tape, tf.GradientTape() as disc_tape:\n",
        "        generated_images = generator(noise, training=True)\n",
        "\n",
        "        real_output = discriminator(images, training=True)\n",
        "        fake_output = discriminator(generated_images, training=True)\n",
        "\n",
        "        gen_loss = generator_loss(fake_output)\n",
        "        disc_loss = discriminator_loss(real_output, fake_output)\n",
        "\n",
        "    gradients_of_generator = gen_tape.gradient(gen_loss, generator.trainable_variables)\n",
        "    gradients_of_discriminator = disc_tape.gradient(disc_loss, discriminator.trainable_variables)\n",
        "\n",
        "    generator_optimizer.apply_gradients(zip(gradients_of_generator, generator.trainable_variables))\n",
        "    discriminator_optimizer.apply_gradients(zip(gradients_of_discriminator, discriminator.trainable_variables))"
      ],
      "metadata": {
        "id": "RiMeVZpdeST8"
      },
      "execution_count": 41,
      "outputs": []
    },
    {
      "cell_type": "code",
      "source": [
        "def train(dataset, epochs=38) :\n",
        "\n",
        "    for epoch in range(epochs):\n",
        "        start = time.time()\n",
        "\n",
        "        for image_batch in dataset:\n",
        "            train_step(image_batch)\n",
        "\n",
        "        # 이미지를 생성한 뒤 저장합니다.(추후에 만들 GIF를 위함입니다.)\n",
        "        display.clear_output(wait=True)\n",
        "        generate_and_save_images(generator, epoch + 1, seed)\n",
        "\n",
        "        # 15 에포크가 지날 때마다 모델을 Checkpoint에 저장합니다.\n",
        "        if (epoch + 1) % 1 == 0:\n",
        "            checkpoint.save(file_prefix = checkpoint_prefix)\n",
        "        \n",
        "        # Epoch 마다 소요 시간을 출력합니다.\n",
        "        print(f'Time for epoch {epoch + 1} is {time.time()-start} sec')\n",
        "\n",
        "    # 마지막 에포크가 끝난 후 이미지를 생성합니다.\n",
        "    display.clear_output(wait=True)\n",
        "    generate_and_save_images(generator, epochs, seed)"
      ],
      "metadata": {
        "id": "oFb6pqMEtlw-"
      },
      "execution_count": 42,
      "outputs": []
    },
    {
      "cell_type": "markdown",
      "metadata": {
        "id": "jGjC2PRjqGTK"
      },
      "source": [
        "아래는 10 epoch까지 수행했을 때, 생성자가 만들어내는 이미지입니다."
      ]
    },
    {
      "cell_type": "markdown",
      "source": [
        "아래는 38 epoch까지 수행했을 때, 생성자가 만들어내는 이미지입니다."
      ],
      "metadata": {
        "id": "GWJlA3Yavyho"
      }
    },
    {
      "cell_type": "code",
      "source": [
        "%%time\n",
        "train(train_dataset, EPOCHS)  # epochs = 38"
      ],
      "metadata": {
        "colab": {
          "base_uri": "https://localhost:8080/",
          "height": 285
        },
        "id": "rtkNYlFntiMV",
        "outputId": "4146a050-8b9b-4c2d-98d5-fcce63150312"
      },
      "execution_count": 43,
      "outputs": [
        {
          "output_type": "display_data",
          "data": {
            "image/png": "[encoded data removed]",
            "text/plain": [
              "<Figure size 288x288 with 16 Axes>"
            ]
          },
          "metadata": {
            "needs_background": "light"
          }
        },
        {
          "output_type": "stream",
          "name": "stdout",
          "text": [
            "CPU times: user 13min 12s, sys: 2min 19s, total: 15min 32s\n",
            "Wall time: 1h 14min 47s\n"
          ]
        }
      ]
    },
    {
      "cell_type": "code",
      "source": [
        "# 에포크 숫자를 사용하여 하나의 이미지를 보여줍니다.\n",
        "def display_image(epoch_no):\n",
        "  return PIL.Image.open('image_at_epoch_{:04d}.png'.format(epoch_no))"
      ],
      "metadata": {
        "id": "liaeq5HhRTiV",
        "outputId": "fe867de3-2e4e-418e-b9f0-5417c5c6989c",
        "colab": {
          "base_uri": "https://localhost:8080/",
          "height": 305
        }
      },
      "execution_count": 45,
      "outputs": [
        {
          "output_type": "execute_result",
          "data": {
            "image/png": "[encoded data removed]",
            "text/plain": [
              "<PIL.PngImagePlugin.PngImageFile image mode=RGBA size=288x288 at 0x7F5210C3EC90>"
            ]
          },
          "metadata": {},
          "execution_count": 45
        }
      ]
    },
    {
      "cell_type": "code",
      "source": [
        "# 위의 image를 gif 파일로 저장\n",
        "anim_file = 'dcgan.gif'\n",
        "\n",
        "with imageio.get_writer(anim_file, mode='I') as writer:\n",
        "  filenames = glob.glob('image*.png')\n",
        "  filenames = sorted(filenames)\n",
        "  last = -1\n",
        "  for i,filename in enumerate(filenames):\n",
        "    frame = 2*(i**0.5)\n",
        "    if round(frame) > round(last):\n",
        "      last = frame\n",
        "    else:\n",
        "      continue\n",
        "    image = imageio.imread(filename)\n",
        "    writer.append_data(image)\n",
        "  image = imageio.imread(filename)\n",
        "  writer.append_data(image)\n",
        "\n",
        "import IPython\n",
        "if IPython.version_info > (6,2,0,''):\n",
        "  display.Image(filename=anim_file)"
      ],
      "metadata": {
        "id": "1FG2qlqXhXyV"
      },
      "execution_count": 46,
      "outputs": []
    },
    {
      "cell_type": "code",
      "source": [
        "# colab일 때 파일 다운받기. 여기서는 dcgan.gif 파일\n",
        "try:\n",
        "  from google.colab import files\n",
        "except ImportError:\n",
        "  pass\n",
        "else:\n",
        "  files.download(anim_file)"
      ],
      "metadata": {
        "id": "6sX3IXOIjjHl",
        "outputId": "4be55933-d5c6-4646-db93-55d51e963bdf",
        "colab": {
          "base_uri": "https://localhost:8080/",
          "height": 17
        }
      },
      "execution_count": 47,
      "outputs": [
        {
          "output_type": "display_data",
          "data": {
            "application/javascript": [
              "\n",
              "    async function download(id, filename, size) {\n",
              "      if (!google.colab.kernel.accessAllowed) {\n",
              "        return;\n",
              "      }\n",
              "      const div = document.createElement('div');\n",
              "      const label = document.createElement('label');\n",
              "      label.textContent = `Downloading \"${filename}\": `;\n",
              "      div.appendChild(label);\n",
              "      const progress = document.createElement('progress');\n",
              "      progress.max = size;\n",
              "      div.appendChild(progress);\n",
              "      document.body.appendChild(div);\n",
              "\n",
              "      const buffers = [];\n",
              "      let downloaded = 0;\n",
              "\n",
              "      const channel = await google.colab.kernel.comms.open(id);\n",
              "      // Send a message to notify the kernel that we're ready.\n",
              "      channel.send({})\n",
              "\n",
              "      for await (const message of channel.messages) {\n",
              "        // Send a message to notify the kernel that we're ready.\n",
              "        channel.send({})\n",
              "        if (message.buffers) {\n",
              "          for (const buffer of message.buffers) {\n",
              "            buffers.push(buffer);\n",
              "            downloaded += buffer.byteLength;\n",
              "            progress.value = downloaded;\n",
              "          }\n",
              "        }\n",
              "      }\n",
              "      const blob = new Blob(buffers, {type: 'application/binary'});\n",
              "      const a = document.createElement('a');\n",
              "      a.href = window.URL.createObjectURL(blob);\n",
              "      a.download = filename;\n",
              "      div.appendChild(a);\n",
              "      a.click();\n",
              "      div.remove();\n",
              "    }\n",
              "  "
            ],
            "text/plain": [
              "<IPython.core.display.Javascript object>"
            ]
          },
          "metadata": {}
        },
        {
          "output_type": "display_data",
          "data": {
            "application/javascript": [
              "download(\"download_af8239bb-0b14-409b-ac2d-b0e22ba0875f\", \"dcgan.gif\", 430585)"
            ],
            "text/plain": [
              "<IPython.core.display.Javascript object>"
            ]
          },
          "metadata": {}
        }
      ]
    },
    {
      "cell_type": "code",
      "source": [
        ""
      ],
      "metadata": {
        "id": "AoTqiORfjk7y"
      },
      "execution_count": null,
      "outputs": []
    }
  ]
}