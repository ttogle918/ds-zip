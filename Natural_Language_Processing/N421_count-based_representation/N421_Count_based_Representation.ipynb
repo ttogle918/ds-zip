{
  "nbformat": 4,
  "nbformat_minor": 0,
  "metadata": {
    "colab": {
      "name": "N421_Count-based_Representation.ipynb",
      "provenance": [],
      "collapsed_sections": [],
      "machine_shape": "hm"
    },
    "kernelspec": {
      "name": "python3",
      "display_name": "Python 3"
    },
    "language_info": {
      "name": "python"
    }
  },
  "cells": [
    {
      "cell_type": "markdown",
      "metadata": {
        "id": "q9ffsoikZjkL"
      },
      "source": [
        "<img align=\"right\" src=\"https://ds-cs-images.s3.ap-northeast-2.amazonaws.com/Codestates_Fulllogo_Color.png\" width=100>\n",
        "\n",
        "## ***DATA SCIENCE / SECTION 4 / SPRINT 2 / NOTE 1***\n",
        "\n",
        "---\n",
        "\n",
        "# 자연어처리(NLP, Natural Language Processing)"
      ]
    },
    {
      "cell_type": "markdown",
      "metadata": {
        "id": "K9JV6RbAtMe_"
      },
      "source": [
        "## 🏆 학습 목표"
      ]
    },
    {
      "cell_type": "markdown",
      "metadata": {
        "id": "-dh6455np_6M"
      },
      "source": [
        "- 자연어처리\n",
        "    - 자연어처리를 통해 어떤 일을 할 수 있는지 알 수 있습니다.\n",
        "\n",
        "- 전처리(Preprocessing)\n",
        "    - 토큰화(Tokenization)에 대해 설명할 수 있으며 SpaCy 라이브러리를 활용하여 토큰화를 진행할 수 있습니다.\n",
        "    - 불용어(Stop words)를 제거하는 이유를 설명할 수 있고, 불용어 사전을 커스터마이징한 후 해당하는 내용을 토큰화에 적용할 수 있습니다.\n",
        "    - 어간 추출(Stemming)과 표제어 추출(Lemmatization)의 차이점을 알고 각각의 장단점에 대해 설명할 수 있습니다.\n",
        "\n",
        "- 등장 횟수 기반의 단어 표현(Count-based Representation)\n",
        "    - 문서-단어 행렬(Document-Term Matrix, DTM)을 이해하고 Bag-of-words 에 대해서 설명할 수 있습니다. \n",
        "    - TF-IDF에서 TF, IDF에 대해서 설명하고 IDF를 적용하는 이유에 대해서 설명할 수 있습니다."
      ]
    },
    {
      "cell_type": "markdown",
      "metadata": {
        "id": "7KrGgR7_tK16"
      },
      "source": [
        "## 🛫 Warm up"
      ]
    },
    {
      "cell_type": "markdown",
      "metadata": {
        "id": "qCNJ_d0oidx8"
      },
      "source": [
        "- 자연어 처리에서 등장하는 용어들\n",
        "    - **말뭉치(Corpus)** : 특정한 목적을 가지고 수집한 텍스트 데이터\n",
        "    - **문서(Document)** : 문장(Sentence)들의 집합\n",
        "    - **문장(Sentence)** : 여러 개의 토큰(단어, 형태소 등)으로 구성된 문자열. 마침표, 느낌표 등의 기호로 구분\n",
        "    - **어휘집합(Vocabulary)** : 코퍼스에 있는 모든 문서, 문장을 토큰화한 후 중복을 제거한 토큰의 집합\n",
        "\n",
        "- 전처리(Preprocessing)\n",
        "    - 다음 키워드에 대해 조사해보세요.\n",
        "        - 토큰화(Tokenization)\n",
        "        - 차원의 저주(Curse of Dimensionality)\n",
        "        - 불용어(Stop words)\n",
        "        - 어간 추출(Stemming)\n",
        "        - 표제어 추출(Lemmatization)\n",
        "\n",
        "- 등장 횟수 기반의 단어 표현(Count-based Representation)\n",
        "    - 다음 영상을 시청하세요.\n",
        "        - [민트 초코 논란! 자연어 처리(NLP)로 종결해드림](https://www.youtube.com/watch?v=QTgRNer2epE)\n",
        "        - [Bag of Words](https://www.youtube.com/watch?v=dKYFfUtij_U)\n",
        "        - [TF-IDF](https://www.youtube.com/watch?v=meEchvkdB1U)"
      ]
    },
    {
      "cell_type": "markdown",
      "metadata": {
        "id": "lzccRKr4lP2o"
      },
      "source": [
        "## 1. 자연어처리란?"
      ]
    },
    {
      "cell_type": "markdown",
      "metadata": {
        "id": "TbQrvh9dK6mc"
      },
      "source": [
        "- **자연어(Natural Language)**\n",
        "\n",
        "> 자연어 혹은 자연 언어는 사람들이 일상적으로 쓰는 언어를 인공적으로 만들어진 언어인 인공어와 구분하여 부르는 개념\n",
        "\n",
        "쉽게 말해서 **자연**적으로 발생된 **언어**를 자연어라고 합니다.\n",
        "\n",
        "- 자연어가 아닌 것들은?\n",
        "    - 에스페란토어, 코딩 언어 등\n",
        "\n",
        "이런 자연어를 컴퓨터로 처리하는 기술을 자연어 처리(Natural Language Processing, NLP)라고 합니다.\n",
        "\n",
        "자연어 처리를 비롯한 텍스트 마이닝을 잘 하려면 무엇을 잘 해야 할까요? <br/> \n",
        "아래 그림에 있는 것들을 잘 해야한다고 합니다!\n",
        "\n",
        "<img src=\"https://miro.medium.com/max/700/0*ewkxRItArykG27dU.png\" alt=\"nlp_diagram\" width=\"600\" />"
      ]
    },
    {
      "cell_type": "markdown",
      "metadata": {
        "id": "69DNEjS9l0-M"
      },
      "source": [
        "### 자연어처리로 할 수 있는 일들\n",
        "\n",
        "- **자연어 이해(NLU, Natural Language Understanding)**\n",
        "    - 분류(Classification) : 뉴스 기사 분류, 감성 분석(Positive/Negative) <br/> \n",
        "    _Ex) \"This movie is awesome!\" -> **Positive or Negative?**_\n",
        "\n",
        "    - 자연어 추론(NLI, Natural Langauge Inference) <br/>\n",
        "    _Ex) 전제 : \"A는 B에게 암살당했다\", 가설 : \"A는 죽었다\" -> True or False?_\n",
        "\n",
        "    - 기계 독해(MRC, Machine Reading Comprehension), 질의 응답(QA, Question&Answering) <br/>\n",
        "    _Ex) 비문학 문제 풀기\u001f_\n",
        "\n",
        "    - 품사 태깅(POS tagging), 개체명 인식(Named Entity Recognition) 등 <br/>\n",
        "    _Ex) POS Tagging :\u001f[POS Tagging을 알아보자!](https://excelsior-cjh.tistory.com/71)_<br>\n",
        "    _Ex) NER : [NER을 알아보자!](https://stellarway.tistory.com/29)\u001f_\n",
        "\n",
        "- **자연어 생성(NLG, Natural Language Generation)**\n",
        "    - 텍스트 생성 (특정 도메인의 텍스트 생성)<br/>\n",
        "    _Ex) 뉴스 기사 생성하기, 가사 생성하기_\n",
        "\n",
        "- **NLU & NLG**\n",
        "    - 기계 번역(Machine Translation)\n",
        "    - 요약(Summerization)\n",
        "        - 추출 요약(Extractive summerization) : 문서 내에서 해당 문서를 가장 잘 요약하는 부분을 찾아내는 Task => (NLU에 가까움)\n",
        "        - 생성 요약(Absractive summerization) : 해당 문서를 요약하는 요약문을 생성 => (NLG에 가까움)\n",
        "    - 챗봇(Chatbot)\n",
        "        - 특정 태스크를 처리하기 위한 챗봇(Task Oriented Dialog, TOD)<br/>\n",
        "        _Ex) 식당 예약을 위한 챗봇, 상담 응대를 위한 챗봇_\n",
        "        - 정해지지 않은 주제를 다루는 일반대화 챗봇(Open Domain Dialog, ODD)<br/>\n",
        "\n",
        "- **기타**\n",
        "    - TTS(Text to Speech) : 텍스트를 음성으로 읽기 (_Ex) 유튜브 슈퍼챗_)\n",
        "    - STT(Speech to Text) : 음성을 텍스트로 쓰기 (_Ex) 컨퍼런스, 강연 등에서 청각 장애인을 위한 실시간 자막 서비스 제공_)\n",
        "    - Image Captioning : 이미지를 설명하는 문장 생성\n",
        "\n",
        "\n",
        "> ❗️ ***실제 자연어처리 Task는 이보다 훨씬 다양합니다.<br/>\n",
        "각 Task를 외우려고 하기보다는 자신이 풀고자 하는 문제가 어떤 Task에 속할 지를 찾아봅시다.***"
      ]
    },
    {
      "cell_type": "markdown",
      "metadata": {
        "id": "A_X3IivkrnVY"
      },
      "source": [
        "### 자연어 처리가 사용된 서비스 사례\n",
        "\n",
        "- 챗봇 : 심리상담 챗봇(트로스트, 아토머스), 일반대화 챗봇(스캐터랩 - 이루다, 마인드로직)\n",
        "- 번역 : 파파고, 구글 번역기\n",
        "- TTS, STT : 인공지능 스피커, 회의록 작성(네이버 - 클로바노트, 카카오 - Kakao i), 자막 생성(보이저엑스 - Vrew, 보이스루)\n",
        "\n",
        "> ❗️ ***국내/해외에 어떤 서비스가 있는지 추가로 조사해봅시다.***"
      ]
    },
    {
      "cell_type": "markdown",
      "metadata": {
        "id": "GhbaNUaRY2Ls"
      },
      "source": [
        "### 벡터화(Vectorize)"
      ]
    },
    {
      "cell_type": "markdown",
      "metadata": {
        "id": "PfwcVBccY7Jk"
      },
      "source": [
        "컴퓨터는 자연어 자체를 받아들일 수 없습니다. 그래서 **컴퓨터가 이해할 수 있도록 벡터로 만들어주어야 합니다.**<br/>\n",
        "이 과정을 **<font color=\"ff6f61\">벡터화(Vectorize)</font>**라고 합니다. 자연어를 어떻게 벡터로 표현하는 지는 자연어 처리 모델의 성능을 결정하는 중요한 역할을 합니다.<br/>\n",
        "자연어를 벡터화하는 방법은 크게 2가지로 나누어 볼 수 있습니다.<br/>\n",
        "\n",
        "- 등장 횟수 기반의 단어 표현(Count-based Representation) : 단어가 문서(혹은 문장)에 등장하는 횟수를 기반으로 벡터화하는 방법 <br/>\n",
        "    - Bag-of-Words (`CounterVectorizer`)\n",
        "    - TF-IDF (`TfidfVectorizer`)\n",
        "\n",
        "- 분포 기반의 단어 표현(Distributed Representation) : 타겟 단어 주변에 있는 단어를 기반으로 벡터화하는 방법\n",
        "    - Word2Vec\n",
        "    - GloVe\n",
        "    - fastText"
      ]
    },
    {
      "cell_type": "markdown",
      "metadata": {
        "id": "PpjMMDo7YrnG"
      },
      "source": [
        "## 2. 텍스트 전처리(Text Preprocessing)"
      ]
    },
    {
      "cell_type": "markdown",
      "metadata": {
        "id": "GLcXrPYXvnkp"
      },
      "source": [
        "텍스트 데이터를 전처리하는 것은 자연어처리의 시작이자<br/>\n",
        "(알고 보면) 절반 이상을 차지하는 중요한 과정입니다.<br/>\n",
        "실제 텍스트 데이터를 다룰 때에는 데이터를 읽어보면서 어떤 특이사항이 있는지 파악해야 합니다.\n",
        "\n"
      ]
    },
    {
      "cell_type": "markdown",
      "metadata": {
        "id": "KwkdcwvMERTg"
      },
      "source": [
        "<img src=\"https://i.imgur.com/KX8Lvlv.jpg\" alt=\"wakeup_preprocessing\" width=\"400\" />"
      ]
    },
    {
      "cell_type": "markdown",
      "metadata": {
        "id": "uWejMUASEQ66"
      },
      "source": [
        "이번 시간에는 여러 데이터에 범용적으로 적용할 수 있는 전처리 방법에 대해서 배워보도록 하겠습니다.<br/>\n",
        "앞으로 배우게 될 전처리 방법은 아래와 같습니다.\n",
        "\n",
        "- 내장 메서드를 사용한 전처리 (**`lower`, `replace`, ...**)\n",
        "- 정규 표현식(Regular expression, Regex)\n",
        "- 불용어(Stop words) 처리\n",
        "- 통계적 트리밍(Trimming)\n",
        "- 어간 추출(Stemming) 혹은 표제어 추출(Lemmatization)\n",
        "\n",
        "> ❗️ ***모든 전처리 방법을 항상 적용해야 하는 것은 아닙니다.<br/>\n",
        "하지만 학습 과정에서는 여러 전처리 방법에 대해서 알아보도록 합시다.***"
      ]
    },
    {
      "cell_type": "markdown",
      "metadata": {
        "id": "6cOXI7zHlGuT"
      },
      "source": [
        "### 1) 차원의 저주 (Curse of Dimensionality)"
      ]
    },
    {
      "cell_type": "markdown",
      "metadata": {
        "id": "92QzA4vmJMPg"
      },
      "source": [
        "- **전처리를 왜 해야 할까요?**\n",
        "\n",
        "위 방법들에 대해서 본격적으로 알아보기에 앞서, 전처리를 해야하는 이유에 대해서 알아보겠습니다.<br/>\n",
        "머신러닝을 배우면서 차원의 저주에 대해서 들어보신 적이 있을 것입니다. **<font color=\"ff6f61\">차원의 저주(Curse of Dimensionality)</font>**의 정의는 다음과 같습니다.\n",
        "\n",
        "> **_“특성의 개수가 선형적으로 늘어날 때 동일한 설명력을 가지기 위해 필요한 인스턴스의 수는 지수적으로 증가한다.<br/>\n",
        "즉 동일한 개수의 인스턴스를 가지는 데이터셋의 차원이 늘어날수록 설명력이 떨어지게 된다.”_**\n",
        "\n",
        "이번 시간에 배울 횟수 기반의 벡터 표현에서는 **전체 말뭉치에 존재하는 단어의 종류가 데이터셋의 Feature, 즉 차원이 됩니다.**<br/>\n",
        "따라서, 단어의 종류를 줄여주어야 차원의 저주를 어느정도 해결할 수 있습니다."
      ]
    },
    {
      "cell_type": "markdown",
      "metadata": {
        "id": "iLT18nJQ0wFj"
      },
      "source": [
        "간단한 예시를 통해 전처리가 어떻게 단어의 수를 줄일 수 있는지 알아보겠습니다. <br/>\n",
        "코드 내용은 아래에서 한 번 더 언급할 예정이니 일단은 실행 결과에 주목해주시면 됩니다."
      ]
    },
    {
      "cell_type": "code",
      "metadata": {
        "id": "KBIron7R09mA"
      },
      "source": [
        "import spacy\n",
        "from spacy.tokenizer import Tokenizer\n",
        "\n",
        "nlp = spacy.load(\"en_core_web_sm\")\n",
        "\n",
        "tokenizer = Tokenizer(nlp.vocab)"
      ],
      "execution_count": null,
      "outputs": []
    },
    {
      "cell_type": "code",
      "metadata": {
        "id": "NufN8SZoZX5E",
        "colab": {
          "base_uri": "https://localhost:8080/"
        },
        "outputId": "ec1c26c3-aed8-4b57-aff9-52bd72a00f89"
      },
      "source": [
        "sent1 = \"I am a student.\"\n",
        "sent2 = \"J is the alphabet that follows i.\"\n",
        "sent3 = \"Is she a student trying to become a data scientist?\"\n",
        "\n",
        "sent_lst = [sent1, sent2, sent3]\n",
        "\n",
        "total_tokens = []\n",
        "\n",
        "for i, sent in enumerate(tokenizer.pipe(sent_lst)):\n",
        "    sent_token = [token.text for token in sent]\n",
        "    total_tokens.extend(sent_token)\n",
        "    print(f\"sent {i} : {sent_token}\")\n",
        "\n",
        "token_set = set(total_tokens)\n",
        "\n",
        "print(f\"\"\" \n",
        "total_tokens : {token_set}\n",
        "#_of_total_tokens : {len(token_set)}\n",
        "\"\"\")"
      ],
      "execution_count": null,
      "outputs": [
        {
          "output_type": "stream",
          "text": [
            "sent 0 : ['I', 'am', 'a', 'student.']\n",
            "sent 1 : ['J', 'is', 'the', 'alphabet', 'that', 'follows', 'i.']\n",
            "sent 2 : ['Is', 'she', 'a', 'student', 'trying', 'to', 'become', 'a', 'data', 'scientist?']\n",
            " \n",
            "total_tokens : {'student', 'scientist?', 'alphabet', 'that', 'to', 'she', 'student.', 'Is', 'the', 'follows', 'data', 'J', 'is', 'a', 'become', 'I', 'trying', 'i.', 'am'}\n",
            "#_of_total_tokens : 19\n",
            "\n"
          ],
          "name": "stdout"
        }
      ]
    },
    {
      "cell_type": "code",
      "metadata": {
        "id": "zm-bv4eCB0wp"
      },
      "source": [
        "def word2idx(sent, total):\n",
        "    sent_token = sent.split()\n",
        "    return [1 if word in sent_token else 0 for word in total]\n",
        "\n",
        "\n",
        "sent1_idx = word2idx(sent1, token_set)\n",
        "sent2_idx = word2idx(sent2, token_set)\n",
        "sent3_idx = word2idx(sent3, token_set)"
      ],
      "execution_count": null,
      "outputs": []
    },
    {
      "cell_type": "code",
      "metadata": {
        "colab": {
          "base_uri": "https://localhost:8080/",
          "height": 143
        },
        "id": "GZp9-kCdD67N",
        "outputId": "1afa050a-58af-4eca-a1da-b26b46f1dc37"
      },
      "source": [
        "import pandas as pd\n",
        "\n",
        "dtm = pd.DataFrame([sent1_idx, sent2_idx, sent3_idx], columns=set(total_tokens))\n",
        "dtm"
      ],
      "execution_count": null,
      "outputs": [
        {
          "output_type": "execute_result",
          "data": {
            "text/html": [
              "<div>\n",
              "<style scoped>\n",
              "    .dataframe tbody tr th:only-of-type {\n",
              "        vertical-align: middle;\n",
              "    }\n",
              "\n",
              "    .dataframe tbody tr th {\n",
              "        vertical-align: top;\n",
              "    }\n",
              "\n",
              "    .dataframe thead th {\n",
              "        text-align: right;\n",
              "    }\n",
              "</style>\n",
              "<table border=\"1\" class=\"dataframe\">\n",
              "  <thead>\n",
              "    <tr style=\"text-align: right;\">\n",
              "      <th></th>\n",
              "      <th>student</th>\n",
              "      <th>scientist?</th>\n",
              "      <th>alphabet</th>\n",
              "      <th>that</th>\n",
              "      <th>to</th>\n",
              "      <th>she</th>\n",
              "      <th>student.</th>\n",
              "      <th>Is</th>\n",
              "      <th>the</th>\n",
              "      <th>follows</th>\n",
              "      <th>data</th>\n",
              "      <th>J</th>\n",
              "      <th>is</th>\n",
              "      <th>a</th>\n",
              "      <th>become</th>\n",
              "      <th>I</th>\n",
              "      <th>trying</th>\n",
              "      <th>i.</th>\n",
              "      <th>am</th>\n",
              "    </tr>\n",
              "  </thead>\n",
              "  <tbody>\n",
              "    <tr>\n",
              "      <th>0</th>\n",
              "      <td>0</td>\n",
              "      <td>0</td>\n",
              "      <td>0</td>\n",
              "      <td>0</td>\n",
              "      <td>0</td>\n",
              "      <td>0</td>\n",
              "      <td>1</td>\n",
              "      <td>0</td>\n",
              "      <td>0</td>\n",
              "      <td>0</td>\n",
              "      <td>0</td>\n",
              "      <td>0</td>\n",
              "      <td>0</td>\n",
              "      <td>1</td>\n",
              "      <td>0</td>\n",
              "      <td>1</td>\n",
              "      <td>0</td>\n",
              "      <td>0</td>\n",
              "      <td>1</td>\n",
              "    </tr>\n",
              "    <tr>\n",
              "      <th>1</th>\n",
              "      <td>0</td>\n",
              "      <td>0</td>\n",
              "      <td>1</td>\n",
              "      <td>1</td>\n",
              "      <td>0</td>\n",
              "      <td>0</td>\n",
              "      <td>0</td>\n",
              "      <td>0</td>\n",
              "      <td>1</td>\n",
              "      <td>1</td>\n",
              "      <td>0</td>\n",
              "      <td>1</td>\n",
              "      <td>1</td>\n",
              "      <td>0</td>\n",
              "      <td>0</td>\n",
              "      <td>0</td>\n",
              "      <td>0</td>\n",
              "      <td>1</td>\n",
              "      <td>0</td>\n",
              "    </tr>\n",
              "    <tr>\n",
              "      <th>2</th>\n",
              "      <td>1</td>\n",
              "      <td>1</td>\n",
              "      <td>0</td>\n",
              "      <td>0</td>\n",
              "      <td>1</td>\n",
              "      <td>1</td>\n",
              "      <td>0</td>\n",
              "      <td>1</td>\n",
              "      <td>0</td>\n",
              "      <td>0</td>\n",
              "      <td>1</td>\n",
              "      <td>0</td>\n",
              "      <td>0</td>\n",
              "      <td>1</td>\n",
              "      <td>1</td>\n",
              "      <td>0</td>\n",
              "      <td>1</td>\n",
              "      <td>0</td>\n",
              "      <td>0</td>\n",
              "    </tr>\n",
              "  </tbody>\n",
              "</table>\n",
              "</div>"
            ],
            "text/plain": [
              "   student  scientist?  alphabet  that  to  she  ...  a  become  I  trying  i.  am\n",
              "0        0           0         0     0   0    0  ...  1       0  1       0   0   1\n",
              "1        0           0         1     1   0    0  ...  0       0  0       0   1   0\n",
              "2        1           1         0     0   1    1  ...  1       1  0       1   0   0\n",
              "\n",
              "[3 rows x 19 columns]"
            ]
          },
          "metadata": {
            "tags": []
          },
          "execution_count": 4
        }
      ]
    },
    {
      "cell_type": "code",
      "metadata": {
        "colab": {
          "base_uri": "https://localhost:8080/"
        },
        "id": "13uJPO55WJrT",
        "outputId": "21f9ca5d-58f7-4be6-8f9d-5662bcbd21e8"
      },
      "source": [
        "'student' in ['student.']"
      ],
      "execution_count": null,
      "outputs": [
        {
          "output_type": "execute_result",
          "data": {
            "text/plain": [
              "False"
            ]
          },
          "metadata": {
            "tags": []
          },
          "execution_count": 5
        }
      ]
    },
    {
      "cell_type": "markdown",
      "metadata": {
        "id": "lycjLpbzHkaa"
      },
      "source": [
        "위 문장에서 모든 토큰의 개수는 19개 입니다.<br/>\n",
        "이를 문서-단어 행렬로 나타내면 특성이 19개인 행렬이 됩니다.<br/>\n",
        "굉장히 희소한(Sparse) 행렬이기 때문에 모델에 입력하면 높은 성능을 보장할 수 없습니다.<br/>\n",
        "하지만 간단한 전처리를 해주면 차원을 줄일 수 있습니다."
      ]
    },
    {
      "cell_type": "code",
      "metadata": {
        "colab": {
          "base_uri": "https://localhost:8080/"
        },
        "id": "11EjrPghJggv",
        "outputId": "1c535617-ed5f-450a-fc12-d82cf01f0500"
      },
      "source": [
        "import re\n",
        "\n",
        "def lower_and_regex(sentence):\n",
        "    \"\"\"\n",
        "    모든 대문자를 소문자로 변경 후\n",
        "    정규식을 이용하여 알파벳 소문자 이외의 구두점 삭제\n",
        "    \"\"\"\n",
        "    sentence = sentence.lower()\n",
        "    sentence = re.sub(r\"[^a-z ]\", \"\", sentence)\n",
        "    return sentence\n",
        "\n",
        "prep_sent_lst = [lower_and_regex(sent) for sent in sent_lst]\n",
        "total_tokens_prep = []\n",
        "\n",
        "for i, prep_sent in enumerate(tokenizer.pipe(prep_sent_lst)):\n",
        "    sent_token_prep = [token.text for token in prep_sent]\n",
        "    total_tokens_prep.extend(sent_token_prep)\n",
        "    print(f\"sent {i} : {sent_token_prep}\")\n",
        "\n",
        "token_set_prep = set(total_tokens_prep)\n",
        "\n",
        "print(f\"\"\" \n",
        "total_tokens : {token_set_prep}\n",
        "num_of_total_tokens : {len(token_set_prep)}\n",
        "\"\"\")"
      ],
      "execution_count": null,
      "outputs": [
        {
          "output_type": "stream",
          "text": [
            "sent 0 : ['i', 'am', 'a', 'student']\n",
            "sent 1 : ['j', 'is', 'the', 'alphabet', 'that', 'follows', 'i']\n",
            "sent 2 : ['is', 'she', 'a', 'student', 'trying', 'to', 'become', 'a', 'data', 'scientist']\n",
            " \n",
            "total_tokens : {'student', 'i', 'is', 'scientist', 'alphabet', 'that', 'a', 'to', 'the', 'she', 'follows', 'become', 'data', 'j', 'am', 'trying'}\n",
            "num_of_total_tokens : 16\n",
            "\n"
          ],
          "name": "stdout"
        }
      ]
    },
    {
      "cell_type": "code",
      "metadata": {
        "colab": {
          "base_uri": "https://localhost:8080/",
          "height": 143
        },
        "id": "AWIqgZ3zEq02",
        "outputId": "4b9210c7-de36-4bb2-f07b-d5004934d52f"
      },
      "source": [
        "sent1_idx_prep = word2idx(lower_and_regex(sent1), token_set_prep)\n",
        "sent2_idx_prep = word2idx(lower_and_regex(sent2), token_set_prep)\n",
        "sent3_idx_prep = word2idx(lower_and_regex(sent3), token_set_prep)\n",
        "\n",
        "dtm_re = pd.DataFrame([sent1_idx_prep, sent2_idx_prep, sent3_idx_prep], columns=set(total_tokens_prep))\n",
        "dtm_re"
      ],
      "execution_count": null,
      "outputs": [
        {
          "output_type": "execute_result",
          "data": {
            "text/html": [
              "<div>\n",
              "<style scoped>\n",
              "    .dataframe tbody tr th:only-of-type {\n",
              "        vertical-align: middle;\n",
              "    }\n",
              "\n",
              "    .dataframe tbody tr th {\n",
              "        vertical-align: top;\n",
              "    }\n",
              "\n",
              "    .dataframe thead th {\n",
              "        text-align: right;\n",
              "    }\n",
              "</style>\n",
              "<table border=\"1\" class=\"dataframe\">\n",
              "  <thead>\n",
              "    <tr style=\"text-align: right;\">\n",
              "      <th></th>\n",
              "      <th>student</th>\n",
              "      <th>i</th>\n",
              "      <th>is</th>\n",
              "      <th>scientist</th>\n",
              "      <th>alphabet</th>\n",
              "      <th>that</th>\n",
              "      <th>a</th>\n",
              "      <th>to</th>\n",
              "      <th>the</th>\n",
              "      <th>she</th>\n",
              "      <th>follows</th>\n",
              "      <th>become</th>\n",
              "      <th>data</th>\n",
              "      <th>j</th>\n",
              "      <th>am</th>\n",
              "      <th>trying</th>\n",
              "    </tr>\n",
              "  </thead>\n",
              "  <tbody>\n",
              "    <tr>\n",
              "      <th>0</th>\n",
              "      <td>1</td>\n",
              "      <td>1</td>\n",
              "      <td>0</td>\n",
              "      <td>0</td>\n",
              "      <td>0</td>\n",
              "      <td>0</td>\n",
              "      <td>1</td>\n",
              "      <td>0</td>\n",
              "      <td>0</td>\n",
              "      <td>0</td>\n",
              "      <td>0</td>\n",
              "      <td>0</td>\n",
              "      <td>0</td>\n",
              "      <td>0</td>\n",
              "      <td>1</td>\n",
              "      <td>0</td>\n",
              "    </tr>\n",
              "    <tr>\n",
              "      <th>1</th>\n",
              "      <td>0</td>\n",
              "      <td>1</td>\n",
              "      <td>1</td>\n",
              "      <td>0</td>\n",
              "      <td>1</td>\n",
              "      <td>1</td>\n",
              "      <td>0</td>\n",
              "      <td>0</td>\n",
              "      <td>1</td>\n",
              "      <td>0</td>\n",
              "      <td>1</td>\n",
              "      <td>0</td>\n",
              "      <td>0</td>\n",
              "      <td>1</td>\n",
              "      <td>0</td>\n",
              "      <td>0</td>\n",
              "    </tr>\n",
              "    <tr>\n",
              "      <th>2</th>\n",
              "      <td>1</td>\n",
              "      <td>0</td>\n",
              "      <td>1</td>\n",
              "      <td>1</td>\n",
              "      <td>0</td>\n",
              "      <td>0</td>\n",
              "      <td>1</td>\n",
              "      <td>1</td>\n",
              "      <td>0</td>\n",
              "      <td>1</td>\n",
              "      <td>0</td>\n",
              "      <td>1</td>\n",
              "      <td>1</td>\n",
              "      <td>0</td>\n",
              "      <td>0</td>\n",
              "      <td>1</td>\n",
              "    </tr>\n",
              "  </tbody>\n",
              "</table>\n",
              "</div>"
            ],
            "text/plain": [
              "   student  i  is  scientist  alphabet  ...  become  data  j  am  trying\n",
              "0        1  1   0          0         0  ...       0     0  0   1       0\n",
              "1        0  1   1          0         1  ...       0     0  1   0       0\n",
              "2        1  0   1          1         0  ...       1     1  0   0       1\n",
              "\n",
              "[3 rows x 16 columns]"
            ]
          },
          "metadata": {
            "tags": []
          },
          "execution_count": 7
        }
      ]
    },
    {
      "cell_type": "markdown",
      "metadata": {
        "id": "al7b5k6UMMx_"
      },
      "source": [
        "모든 문자를 소문자로 만들어 준 후 정규식을 사용하여 구두점을 없애주었습니다. <br/>\n",
        "이렇게 전처리 해준 데이터는 16개의 차원을 가지게 됩니다.<br/>\n",
        "간단한 전처리만으로도 전체 말뭉치의 차원을 꽤 줄일 수 있습니다."
      ]
    },
    {
      "cell_type": "markdown",
      "metadata": {
        "id": "ZSp0YXkQzynC"
      },
      "source": [
        "### 2) 대소문자 통일"
      ]
    },
    {
      "cell_type": "markdown",
      "metadata": {
        "id": "64XKBya3z5Is"
      },
      "source": [
        "그럼 이제 실제 데이터에 전처리를 적용해 보겠습니다."
      ]
    },
    {
      "cell_type": "code",
      "metadata": {
        "id": "UOo1uTpyzAFI"
      },
      "source": [
        "# sampling from: 'https://www.kaggle.com/datafiniti/consumer-reviews-of-amazon-products'\n",
        "import pandas as pd\n",
        "df = pd.read_csv('https://ds-lecture-data.s3.ap-northeast-2.amazonaws.com/amazon/Datafiniti_Amazon_Consumer_Reviews_of_Amazon_Products_May19_sample.csv')"
      ],
      "execution_count": null,
      "outputs": []
    },
    {
      "cell_type": "code",
      "metadata": {
        "colab": {
          "base_uri": "https://localhost:8080/"
        },
        "id": "slGa3f4xzEsQ",
        "outputId": "d111350f-274c-44fb-edfc-76a1a191acda"
      },
      "source": [
        "# 데이터의 shape을 확인합니다\n",
        "df.shape"
      ],
      "execution_count": null,
      "outputs": [
        {
          "output_type": "execute_result",
          "data": {
            "text/plain": [
              "(10483, 25)"
            ]
          },
          "metadata": {
            "tags": []
          },
          "execution_count": 9
        }
      ]
    },
    {
      "cell_type": "code",
      "metadata": {
        "colab": {
          "base_uri": "https://localhost:8080/",
          "height": 370
        },
        "id": "w_Y2FpEtzGat",
        "outputId": "da4de039-b751-40d2-909d-0e48a6f67484"
      },
      "source": [
        "df.head(3)"
      ],
      "execution_count": null,
      "outputs": [
        {
          "output_type": "execute_result",
          "data": {
            "text/html": [
              "<div>\n",
              "<style scoped>\n",
              "    .dataframe tbody tr th:only-of-type {\n",
              "        vertical-align: middle;\n",
              "    }\n",
              "\n",
              "    .dataframe tbody tr th {\n",
              "        vertical-align: top;\n",
              "    }\n",
              "\n",
              "    .dataframe thead th {\n",
              "        text-align: right;\n",
              "    }\n",
              "</style>\n",
              "<table border=\"1\" class=\"dataframe\">\n",
              "  <thead>\n",
              "    <tr style=\"text-align: right;\">\n",
              "      <th></th>\n",
              "      <th>Unnamed: 0</th>\n",
              "      <th>id</th>\n",
              "      <th>dateAdded</th>\n",
              "      <th>dateUpdated</th>\n",
              "      <th>name</th>\n",
              "      <th>asins</th>\n",
              "      <th>brand</th>\n",
              "      <th>categories</th>\n",
              "      <th>primaryCategories</th>\n",
              "      <th>imageURLs</th>\n",
              "      <th>keys</th>\n",
              "      <th>manufacturer</th>\n",
              "      <th>manufacturerNumber</th>\n",
              "      <th>reviews.date</th>\n",
              "      <th>reviews.dateSeen</th>\n",
              "      <th>reviews.didPurchase</th>\n",
              "      <th>reviews.doRecommend</th>\n",
              "      <th>reviews.id</th>\n",
              "      <th>reviews.numHelpful</th>\n",
              "      <th>reviews.rating</th>\n",
              "      <th>reviews.sourceURLs</th>\n",
              "      <th>reviews.text</th>\n",
              "      <th>reviews.title</th>\n",
              "      <th>reviews.username</th>\n",
              "      <th>sourceURLs</th>\n",
              "    </tr>\n",
              "  </thead>\n",
              "  <tbody>\n",
              "    <tr>\n",
              "      <th>0</th>\n",
              "      <td>25971</td>\n",
              "      <td>AVqkIhxunnc1JgDc3kg_</td>\n",
              "      <td>2017-03-06T14:59:43Z</td>\n",
              "      <td>2019-02-23T02:49:38Z</td>\n",
              "      <td>Fire HD 8 Tablet with Alexa, 8 HD Display, 16 ...</td>\n",
              "      <td>B018T075DC</td>\n",
              "      <td>Amazon</td>\n",
              "      <td>Fire Tablets,Tablets,All Tablets,Amazon Tablet...</td>\n",
              "      <td>Electronics</td>\n",
              "      <td>https://www.upccodesearch.com/images/barcode/0...</td>\n",
              "      <td>amazon/b018t075dc,firehd8tabletwithalexa8hddis...</td>\n",
              "      <td>Amazon</td>\n",
              "      <td>53-004485</td>\n",
              "      <td>2017-01-18T00:00:00.000Z</td>\n",
              "      <td>2017-04-30T00:00:00Z,2017-06-07T00:00:00Z</td>\n",
              "      <td>NaN</td>\n",
              "      <td>True</td>\n",
              "      <td>NaN</td>\n",
              "      <td>0.0</td>\n",
              "      <td>3</td>\n",
              "      <td>http://reviews.bestbuy.com/3545/5620410/review...</td>\n",
              "      <td>Though I have got it for cheap price during bl...</td>\n",
              "      <td>An average Fire tablet</td>\n",
              "      <td>Ganamurthy</td>\n",
              "      <td>http://reviews.bestbuy.com/3545/5620410/review...</td>\n",
              "    </tr>\n",
              "    <tr>\n",
              "      <th>1</th>\n",
              "      <td>19398</td>\n",
              "      <td>AVwjfXqqQMlgsOJE8qmm</td>\n",
              "      <td>2017-05-20T01:34:04Z</td>\n",
              "      <td>2019-02-25T02:23:15Z</td>\n",
              "      <td>All-New Fire HD 8 Kids Edition Tablet, 8 HD Di...</td>\n",
              "      <td>B01J94SCAM</td>\n",
              "      <td>Amazon</td>\n",
              "      <td>Fire Tablets,Tablets,Amazon Tablets,Computers ...</td>\n",
              "      <td>Electronics</td>\n",
              "      <td>https://www.barcodable.com/images/barcode/0841...</td>\n",
              "      <td>amazonfirehd8kidsedition8tablet32gb7thgenerati...</td>\n",
              "      <td>Amazon</td>\n",
              "      <td>53-005705</td>\n",
              "      <td>2017-06-22T00:00:00.000Z</td>\n",
              "      <td>2018-05-27T00:00:00Z,2017-07-07T00:00:00Z,2017...</td>\n",
              "      <td>NaN</td>\n",
              "      <td>True</td>\n",
              "      <td>NaN</td>\n",
              "      <td>17.0</td>\n",
              "      <td>5</td>\n",
              "      <td>http://reviews.bestbuy.com/3545/5836204/review...</td>\n",
              "      <td>I purchased the 7\" for my son when he was 1.5 ...</td>\n",
              "      <td>3 year old loves it</td>\n",
              "      <td>dcc1970</td>\n",
              "      <td>https://reviews.bestbuy.com/3545/5836204/revie...</td>\n",
              "    </tr>\n",
              "    <tr>\n",
              "      <th>2</th>\n",
              "      <td>2410</td>\n",
              "      <td>AVpgNzjwLJeJML43Kpxn</td>\n",
              "      <td>2015-10-30T08:59:32Z</td>\n",
              "      <td>2019-04-25T09:08:16Z</td>\n",
              "      <td>AmazonBasics AAA Performance Alkaline Batterie...</td>\n",
              "      <td>B00QWO9P0O,B00LH3DMUO</td>\n",
              "      <td>Amazonbasics</td>\n",
              "      <td>AA,AAA,Health,Electronics,Health &amp; Household,C...</td>\n",
              "      <td>Health &amp; Beauty</td>\n",
              "      <td>https://images-na.ssl-images-amazon.com/images...</td>\n",
              "      <td>amazonbasics/hl002619,amazonbasicsaaaperforman...</td>\n",
              "      <td>AmazonBasics</td>\n",
              "      <td>HL-002619</td>\n",
              "      <td>2015-04-02T00:00:00.000Z</td>\n",
              "      <td>2017-08-28T00:00:00Z</td>\n",
              "      <td>NaN</td>\n",
              "      <td>NaN</td>\n",
              "      <td>NaN</td>\n",
              "      <td>NaN</td>\n",
              "      <td>5</td>\n",
              "      <td>https://www.amazon.com/product-reviews/B00QWO9...</td>\n",
              "      <td>Great price and great batteries! I will keep o...</td>\n",
              "      <td>Five Stars</td>\n",
              "      <td>ByDena</td>\n",
              "      <td>https://www.barcodable.com/upc/841710106442,ht...</td>\n",
              "    </tr>\n",
              "  </tbody>\n",
              "</table>\n",
              "</div>"
            ],
            "text/plain": [
              "   Unnamed: 0  ...                                         sourceURLs\n",
              "0       25971  ...  http://reviews.bestbuy.com/3545/5620410/review...\n",
              "1       19398  ...  https://reviews.bestbuy.com/3545/5836204/revie...\n",
              "2        2410  ...  https://www.barcodable.com/upc/841710106442,ht...\n",
              "\n",
              "[3 rows x 25 columns]"
            ]
          },
          "metadata": {
            "tags": []
          },
          "execution_count": 10
        }
      ]
    },
    {
      "cell_type": "code",
      "metadata": {
        "colab": {
          "base_uri": "https://localhost:8080/"
        },
        "id": "Rt5VjD7ZzGZV",
        "outputId": "175b5523-3082-48c9-bc66-aacd24c71864"
      },
      "source": [
        "df['brand'].value_counts()"
      ],
      "execution_count": null,
      "outputs": [
        {
          "output_type": "execute_result",
          "data": {
            "text/plain": [
              "Amazon          5977\n",
              "Amazonbasics    4499\n",
              "AmazonBasics       7\n",
              "Name: brand, dtype: int64"
            ]
          },
          "metadata": {
            "tags": []
          },
          "execution_count": 11
        }
      ]
    },
    {
      "cell_type": "markdown",
      "metadata": {
        "id": "kH3jfzJKzda7"
      },
      "source": [
        "`Amazonbasics` 와 `AmazonBasics` 는 같은 것을 지칭하는 단어임에도 대소문자 차이로 다른 카테고리로 취급되었습니다. <br/> 모든 문자를 소문자로 통일하여 둘을 같은 범주로 엮어주겠습니다."
      ]
    },
    {
      "cell_type": "code",
      "metadata": {
        "colab": {
          "base_uri": "https://localhost:8080/"
        },
        "id": "iv8UfF5jzLFb",
        "outputId": "b56dea16-51b8-4ae2-83de-78c05cbf121b"
      },
      "source": [
        "# 데이터를 모두 소문자로 변환\n",
        "df['brand'] = df['brand'].apply(lambda x: x.lower())\n",
        "df['brand'].value_counts()"
      ],
      "execution_count": null,
      "outputs": [
        {
          "output_type": "execute_result",
          "data": {
            "text/plain": [
              "amazon          5977\n",
              "amazonbasics    4506\n",
              "Name: brand, dtype: int64"
            ]
          },
          "metadata": {
            "tags": []
          },
          "execution_count": 12
        }
      ]
    },
    {
      "cell_type": "markdown",
      "metadata": {
        "id": "J0ff79kK0YI0"
      },
      "source": [
        "### 3) 정규표현식(Regex)"
      ]
    },
    {
      "cell_type": "markdown",
      "metadata": {
        "id": "q4gnARBc0c_D"
      },
      "source": [
        "구두점이나 특수문자 등 필요없는 문자가 말뭉치 내에 있을 경우 토큰화가 제대로 이루어지지 않습니다.<br/> \n",
        "이를 제거하기 위해서 **<font color=\"ff6f61\">정규표현식(Regular Expression, Regex)</font>**을 사용합니다.<br/>\n",
        "정규 표현식은 문자열을 다루기 위한 매우 중요하고도 강력한 도구이지만 복잡하기 때문에 **잘 쓰려면 반복적인 실습이 필요**합니다."
      ]
    },
    {
      "cell_type": "markdown",
      "metadata": {
        "id": "2XZ70Z3TGdzP"
      },
      "source": [
        "<img src=\"https://i.imgur.com/WE8PHAn.png\" alt=\"regex\" width=\"400\" />"
      ]
    },
    {
      "cell_type": "markdown",
      "metadata": {
        "id": "vAk181gZGdT_"
      },
      "source": [
        "> ❗️ ***아래 링크에서 정규표현식에 대한 더 많은 정보를 확인하고 추가로 실습해봅시다.<br/>\n",
        "1) [Python Regex](https://www.w3schools.com/python/python_regex.asp#sub)<br/>\n",
        "2) [정규 표현식 시작하기](https://wikidocs.net/4308#_2)***"
      ]
    },
    {
      "cell_type": "markdown",
      "metadata": {
        "id": "wmAPVTnw208r"
      },
      "source": [
        "`a-z`(소문자), `A-Z`(대문자), `0-9`(숫자)를 `^` 제외한 나머지 문자를 `regex` 에 할당한 후 `.sub` 메서드를 통해서 공백 문자열 `\"\"` 로 치환해줍니다."
      ]
    },
    {
      "cell_type": "code",
      "metadata": {
        "id": "cUYe76lP0hDh",
        "colab": {
          "base_uri": "https://localhost:8080/",
          "height": 35
        },
        "outputId": "918477aa-8763-4a44-968f-ef9ea7ae98fa"
      },
      "source": [
        "# 파이썬 정규표현식 패키지 이름은 re 입니다.\n",
        "import re\n",
        "\n",
        "# 정규식\n",
        "# []: [] 사이 문자를 매치, ^: not\n",
        "regex = r\"[^a-zA-Z0-9 ]\"\n",
        "\n",
        "# 정규식을 적용할 스트링\n",
        "test_str = (\"(Natural Language Processing) is easy!, AI!\\n\")\n",
        "\n",
        "# 치환할 문자\n",
        "subst = \"\"\n",
        "\n",
        "result = re.sub(regex, subst, test_str)\n",
        "result"
      ],
      "execution_count": null,
      "outputs": [
        {
          "output_type": "execute_result",
          "data": {
            "application/vnd.google.colaboratory.intrinsic+json": {
              "type": "string"
            },
            "text/plain": [
              "'Natural Language Processing is easy AI'"
            ]
          },
          "metadata": {
            "tags": []
          },
          "execution_count": 13
        }
      ]
    },
    {
      "cell_type": "markdown",
      "metadata": {
        "id": "yGb6bXwo5i4C"
      },
      "source": [
        "구두점이나 특수 문자가 사라지는 것을 확인할 수 있습니다.\n",
        "\n",
        "> ❗️ ***시간이 된다면 `.sub` 메서드 외에 어떤 메서드가 있는 지에 대해서도 알아봅시다.***\n",
        "\n",
        "정규표현식을 수행한 후 소문자로 통일하고 공백 문자를 기준으로 나누는 하나의 함수 `tokenize`를 만들어 보겠습니다."
      ]
    },
    {
      "cell_type": "code",
      "metadata": {
        "id": "vwsryWLE5s06"
      },
      "source": [
        "def tokenize(text):\n",
        "    \"\"\"text 문자열을 의미있는 단어 단위로 list에 저장합니다.\n",
        "    Args:\n",
        "        text (str): 토큰화 할 문자열\n",
        "    Returns:\n",
        "        list: 토큰이 저장된 리스트\n",
        "    \"\"\"\n",
        "    # 정규식 적용\n",
        "    tokens = re.sub(regex, subst, text)\n",
        "\n",
        "    # 소문자로 치환\n",
        "    tokens = tokens.lower().split()\n",
        "    \n",
        "    return tokens"
      ],
      "execution_count": null,
      "outputs": []
    },
    {
      "cell_type": "markdown",
      "metadata": {
        "id": "7qlHypTQ6TlA"
      },
      "source": [
        "위에서 다룬 아마존 리뷰 데이터 중 `reviews.text` 열에 `tokenize` 함수를 적용하여 전처리 해보겠습니다. <br/>\n",
        "각 리뷰텍스트를 토크나이즈 하여 `tokens` 칼럼으로 만듭니다."
      ]
    },
    {
      "cell_type": "code",
      "metadata": {
        "colab": {
          "base_uri": "https://localhost:8080/"
        },
        "id": "XOpJ8hIg62z0",
        "outputId": "483966bc-f739-4423-e348-a288b0c771f0"
      },
      "source": [
        "df['tokens'] = df['reviews.text'].apply(tokenize)\n",
        "df['tokens'].head()"
      ],
      "execution_count": null,
      "outputs": [
        {
          "output_type": "execute_result",
          "data": {
            "text/plain": [
              "0    [though, i, have, got, it, for, cheap, price, ...\n",
              "1    [i, purchased, the, 7, for, my, son, when, he,...\n",
              "2    [great, price, and, great, batteries, i, will,...\n",
              "3    [great, tablet, for, kids, my, boys, love, the...\n",
              "4    [they, lasted, really, little, some, of, them,...\n",
              "Name: tokens, dtype: object"
            ]
          },
          "metadata": {
            "tags": []
          },
          "execution_count": 15
        }
      ]
    },
    {
      "cell_type": "code",
      "metadata": {
        "colab": {
          "base_uri": "https://localhost:8080/",
          "height": 362
        },
        "id": "oLxOr-_U63-W",
        "outputId": "f045800b-0aeb-4341-f623-79fbdd1905e5"
      },
      "source": [
        "df[['reviews.text', 'tokens']].head(10)"
      ],
      "execution_count": null,
      "outputs": [
        {
          "output_type": "execute_result",
          "data": {
            "text/html": [
              "<div>\n",
              "<style scoped>\n",
              "    .dataframe tbody tr th:only-of-type {\n",
              "        vertical-align: middle;\n",
              "    }\n",
              "\n",
              "    .dataframe tbody tr th {\n",
              "        vertical-align: top;\n",
              "    }\n",
              "\n",
              "    .dataframe thead th {\n",
              "        text-align: right;\n",
              "    }\n",
              "</style>\n",
              "<table border=\"1\" class=\"dataframe\">\n",
              "  <thead>\n",
              "    <tr style=\"text-align: right;\">\n",
              "      <th></th>\n",
              "      <th>reviews.text</th>\n",
              "      <th>tokens</th>\n",
              "    </tr>\n",
              "  </thead>\n",
              "  <tbody>\n",
              "    <tr>\n",
              "      <th>0</th>\n",
              "      <td>Though I have got it for cheap price during bl...</td>\n",
              "      <td>[though, i, have, got, it, for, cheap, price, ...</td>\n",
              "    </tr>\n",
              "    <tr>\n",
              "      <th>1</th>\n",
              "      <td>I purchased the 7\" for my son when he was 1.5 ...</td>\n",
              "      <td>[i, purchased, the, 7, for, my, son, when, he,...</td>\n",
              "    </tr>\n",
              "    <tr>\n",
              "      <th>2</th>\n",
              "      <td>Great price and great batteries! I will keep o...</td>\n",
              "      <td>[great, price, and, great, batteries, i, will,...</td>\n",
              "    </tr>\n",
              "    <tr>\n",
              "      <th>3</th>\n",
              "      <td>Great tablet for kids my boys love their table...</td>\n",
              "      <td>[great, tablet, for, kids, my, boys, love, the...</td>\n",
              "    </tr>\n",
              "    <tr>\n",
              "      <th>4</th>\n",
              "      <td>They lasted really little.. (some of them) I u...</td>\n",
              "      <td>[they, lasted, really, little, some, of, them,...</td>\n",
              "    </tr>\n",
              "    <tr>\n",
              "      <th>5</th>\n",
              "      <td>I purchased 2 others for my 5 &amp; 6yr-olds, and ...</td>\n",
              "      <td>[i, purchased, 2, others, for, my, 5, 6yrolds,...</td>\n",
              "    </tr>\n",
              "    <tr>\n",
              "      <th>6</th>\n",
              "      <td>We purchased Amazon Fire kids edition tablet t...</td>\n",
              "      <td>[we, purchased, amazon, fire, kids, edition, t...</td>\n",
              "    </tr>\n",
              "    <tr>\n",
              "      <th>7</th>\n",
              "      <td>Got this when they were on sale last year and ...</td>\n",
              "      <td>[got, this, when, they, were, on, sale, last, ...</td>\n",
              "    </tr>\n",
              "    <tr>\n",
              "      <th>8</th>\n",
              "      <td>Lotta batteries. at a good price.</td>\n",
              "      <td>[lotta, batteries, at, a, good, price]</td>\n",
              "    </tr>\n",
              "    <tr>\n",
              "      <th>9</th>\n",
              "      <td>Best deal and work as expected</td>\n",
              "      <td>[best, deal, and, work, as, expected]</td>\n",
              "    </tr>\n",
              "  </tbody>\n",
              "</table>\n",
              "</div>"
            ],
            "text/plain": [
              "                                        reviews.text                                             tokens\n",
              "0  Though I have got it for cheap price during bl...  [though, i, have, got, it, for, cheap, price, ...\n",
              "1  I purchased the 7\" for my son when he was 1.5 ...  [i, purchased, the, 7, for, my, son, when, he,...\n",
              "2  Great price and great batteries! I will keep o...  [great, price, and, great, batteries, i, will,...\n",
              "3  Great tablet for kids my boys love their table...  [great, tablet, for, kids, my, boys, love, the...\n",
              "4  They lasted really little.. (some of them) I u...  [they, lasted, really, little, some, of, them,...\n",
              "5  I purchased 2 others for my 5 & 6yr-olds, and ...  [i, purchased, 2, others, for, my, 5, 6yrolds,...\n",
              "6  We purchased Amazon Fire kids edition tablet t...  [we, purchased, amazon, fire, kids, edition, t...\n",
              "7  Got this when they were on sale last year and ...  [got, this, when, they, were, on, sale, last, ...\n",
              "8                  Lotta batteries. at a good price.             [lotta, batteries, at, a, good, price]\n",
              "9                     Best deal and work as expected              [best, deal, and, work, as, expected]"
            ]
          },
          "metadata": {
            "tags": []
          },
          "execution_count": 16
        }
      ]
    },
    {
      "cell_type": "markdown",
      "metadata": {
        "id": "zHkkzj6E6v80"
      },
      "source": [
        "결과를 분석해보겠습니다."
      ]
    },
    {
      "cell_type": "code",
      "metadata": {
        "colab": {
          "base_uri": "https://localhost:8080/"
        },
        "id": "FxY1HTQJ7QUo",
        "outputId": "55ec7b74-54a6-4381-bee3-b439b761965a"
      },
      "source": [
        "from collections import Counter\n",
        "\n",
        "# Counter 객체는 리스트요소의 값과 요소의 갯수를 카운트 하여 저장하고 있습니다.\n",
        "# 카운터 객체는 .update 메소드로 계속 업데이트 가능합니다.\n",
        "word_counts = Counter()\n",
        "\n",
        "# 토큰화된 각 리뷰 리스트를 카운터 객체에 업데이트 합니다. \n",
        "df['tokens'].apply(lambda x: word_counts.update(x))\n",
        "\n",
        "# 가장 많이 존재하는 단어 순으로 10개를 나열합니다\n",
        "word_counts.most_common(10)"
      ],
      "execution_count": null,
      "outputs": [
        {
          "output_type": "execute_result",
          "data": {
            "text/plain": [
              "[('the', 10514),\n",
              " ('and', 8137),\n",
              " ('i', 7465),\n",
              " ('to', 7150),\n",
              " ('for', 6617),\n",
              " ('a', 6421),\n",
              " ('it', 6096),\n",
              " ('my', 4119),\n",
              " ('is', 4111),\n",
              " ('this', 3752)]"
            ]
          },
          "metadata": {
            "tags": []
          },
          "execution_count": 17
        }
      ]
    },
    {
      "cell_type": "markdown",
      "metadata": {
        "id": "xnnYkZX28sdj"
      },
      "source": [
        "위 코드를 변형하여 코퍼스의 전체 워드 카운트, 랭크 등 정보가 담긴 데이터프레임을 리턴하는 함수를 구현하고 적용해봅시다.<br/>\n",
        "이 함수는 토큰화된 문서들이 들어있는 코퍼스를 입력으로 받습니다.<br/>\n",
        "해당 함수 내에 구현되어 있는 코드를 당장 이해하지 못해도 좋습니다. 결과물이 어떻게 반환되는 지만 확인해보시죠!"
      ]
    },
    {
      "cell_type": "code",
      "metadata": {
        "id": "GzUM8WZO8m2g"
      },
      "source": [
        "def word_count(docs):\n",
        "    \"\"\" 토큰화된 문서들을 입력받아 토큰을 카운트 하고 관련된 속성을 가진 데이터프레임을 리턴합니다.\n",
        "    Args:\n",
        "        docs (series or list): 토큰화된 문서가 들어있는 list\n",
        "    Returns:\n",
        "        list: Dataframe\n",
        "    \"\"\"\n",
        "    # 전체 코퍼스에서 단어 빈도 카운트\n",
        "    word_counts = Counter()\n",
        "\n",
        "    # 단어가 존재하는 문서의 빈도 카운트, 단어가 한 번 이상 존재하면 +1\n",
        "    word_in_docs = Counter()\n",
        "\n",
        "    # 전체 문서의 갯수\n",
        "    total_docs = len(docs)\n",
        "\n",
        "    for doc in docs:\n",
        "        word_counts.update(doc)\n",
        "        word_in_docs.update(set(doc))\n",
        "\n",
        "    temp = zip(word_counts.keys(), word_counts.values())\n",
        "\n",
        "    wc = pd.DataFrame(temp, columns = ['word', 'count'])\n",
        "\n",
        "    # 단어의 순위\n",
        "    # method='first': 같은 값의 경우 먼저나온 요소를 우선\n",
        "    wc['rank'] = wc['count'].rank(method='first', ascending=False)\n",
        "    total = wc['count'].sum()\n",
        "\n",
        "    # 코퍼스 내 단어의 비율\n",
        "    wc['percent'] = wc['count'].apply(lambda x: x / total)\n",
        "\n",
        "    wc = wc.sort_values(by='rank')\n",
        "\n",
        "    # 누적 비율\n",
        "    # cumsum() : cumulative sum\n",
        "    wc['cul_percent'] = wc['percent'].cumsum()\n",
        "\n",
        "    temp2 = zip(word_in_docs.keys(), word_in_docs.values())\n",
        "    ac = pd.DataFrame(temp2, columns=['word', 'word_in_docs'])\n",
        "    wc = ac.merge(wc, on='word')\n",
        "    \n",
        "    # 전체 문서 중 존재하는 비율\n",
        "    wc['word_in_docs_percent'] = wc['word_in_docs'].apply(lambda x: x / total_docs)\n",
        "\n",
        "    return wc.sort_values(by='rank')"
      ],
      "execution_count": null,
      "outputs": []
    },
    {
      "cell_type": "code",
      "metadata": {
        "colab": {
          "base_uri": "https://localhost:8080/",
          "height": 205
        },
        "id": "LHWy3mzz8zFP",
        "outputId": "72cb07e3-c0bd-491d-d889-9cf444557598"
      },
      "source": [
        "wc = word_count(df['tokens'])\n",
        "wc.head()"
      ],
      "execution_count": null,
      "outputs": [
        {
          "output_type": "execute_result",
          "data": {
            "text/html": [
              "<div>\n",
              "<style scoped>\n",
              "    .dataframe tbody tr th:only-of-type {\n",
              "        vertical-align: middle;\n",
              "    }\n",
              "\n",
              "    .dataframe tbody tr th {\n",
              "        vertical-align: top;\n",
              "    }\n",
              "\n",
              "    .dataframe thead th {\n",
              "        text-align: right;\n",
              "    }\n",
              "</style>\n",
              "<table border=\"1\" class=\"dataframe\">\n",
              "  <thead>\n",
              "    <tr style=\"text-align: right;\">\n",
              "      <th></th>\n",
              "      <th>word</th>\n",
              "      <th>word_in_docs</th>\n",
              "      <th>count</th>\n",
              "      <th>rank</th>\n",
              "      <th>percent</th>\n",
              "      <th>cul_percent</th>\n",
              "      <th>word_in_docs_percent</th>\n",
              "    </tr>\n",
              "  </thead>\n",
              "  <tbody>\n",
              "    <tr>\n",
              "      <th>51</th>\n",
              "      <td>the</td>\n",
              "      <td>4909</td>\n",
              "      <td>10514</td>\n",
              "      <td>1.0</td>\n",
              "      <td>0.039353</td>\n",
              "      <td>0.039353</td>\n",
              "      <td>0.468282</td>\n",
              "    </tr>\n",
              "    <tr>\n",
              "      <th>1</th>\n",
              "      <td>and</td>\n",
              "      <td>5064</td>\n",
              "      <td>8137</td>\n",
              "      <td>2.0</td>\n",
              "      <td>0.030456</td>\n",
              "      <td>0.069809</td>\n",
              "      <td>0.483068</td>\n",
              "    </tr>\n",
              "    <tr>\n",
              "      <th>26</th>\n",
              "      <td>i</td>\n",
              "      <td>3781</td>\n",
              "      <td>7465</td>\n",
              "      <td>3.0</td>\n",
              "      <td>0.027941</td>\n",
              "      <td>0.097750</td>\n",
              "      <td>0.360679</td>\n",
              "    </tr>\n",
              "    <tr>\n",
              "      <th>123</th>\n",
              "      <td>to</td>\n",
              "      <td>4157</td>\n",
              "      <td>7150</td>\n",
              "      <td>4.0</td>\n",
              "      <td>0.026762</td>\n",
              "      <td>0.124512</td>\n",
              "      <td>0.396547</td>\n",
              "    </tr>\n",
              "    <tr>\n",
              "      <th>19</th>\n",
              "      <td>for</td>\n",
              "      <td>4477</td>\n",
              "      <td>6617</td>\n",
              "      <td>5.0</td>\n",
              "      <td>0.024767</td>\n",
              "      <td>0.149278</td>\n",
              "      <td>0.427072</td>\n",
              "    </tr>\n",
              "  </tbody>\n",
              "</table>\n",
              "</div>"
            ],
            "text/plain": [
              "    word  word_in_docs  count  ...   percent  cul_percent  word_in_docs_percent\n",
              "51   the          4909  10514  ...  0.039353     0.039353              0.468282\n",
              "1    and          5064   8137  ...  0.030456     0.069809              0.483068\n",
              "26     i          3781   7465  ...  0.027941     0.097750              0.360679\n",
              "123   to          4157   7150  ...  0.026762     0.124512              0.396547\n",
              "19   for          4477   6617  ...  0.024767     0.149278              0.427072\n",
              "\n",
              "[5 rows x 7 columns]"
            ]
          },
          "metadata": {
            "tags": []
          },
          "execution_count": 19
        }
      ]
    },
    {
      "cell_type": "markdown",
      "metadata": {
        "id": "__g0mLdU86yF"
      },
      "source": [
        "`cul_percent` 열을 활용하여 단어의 누적 분포 그래프를 그려보겠습니다."
      ]
    },
    {
      "cell_type": "code",
      "metadata": {
        "colab": {
          "base_uri": "https://localhost:8080/",
          "height": 279
        },
        "id": "mSSjJafj89HD",
        "outputId": "98706b56-9a9c-442f-c8ab-6515aad53526"
      },
      "source": [
        "import seaborn as sns\n",
        "\n",
        "sns.lineplot(x='rank', y='cul_percent', data=wc);"
      ],
      "execution_count": null,
      "outputs": [
        {
          "output_type": "display_data",
          "data": {
            "image/png": "[encoded data removed]",
            "text/plain": [
              "<Figure size 432x288 with 1 Axes>"
            ]
          },
          "metadata": {
            "tags": [],
            "needs_background": "light"
          }
        }
      ]
    },
    {
      "cell_type": "code",
      "metadata": {
        "colab": {
          "base_uri": "https://localhost:8080/"
        },
        "id": "6SnF8ZcM9CD_",
        "outputId": "1f261765-8817-48e6-92a4-21a0ce6098e0"
      },
      "source": [
        "wc[wc['rank'] <= 1000]['cul_percent'].max()"
      ],
      "execution_count": null,
      "outputs": [
        {
          "output_type": "execute_result",
          "data": {
            "text/plain": [
              "0.9097585076280484"
            ]
          },
          "metadata": {
            "tags": []
          },
          "execution_count": 21
        }
      ]
    },
    {
      "cell_type": "markdown",
      "metadata": {
        "id": "rd_RuMdmGQjJ"
      },
      "source": [
        "`Squarify` 라이브러리를 사용하여 <br/>\n",
        "등장 비율 상위 20개 단어의 결과를 시각화 해봅시다."
      ]
    },
    {
      "cell_type": "code",
      "metadata": {
        "colab": {
          "base_uri": "https://localhost:8080/"
        },
        "id": "1oGPtXbi9Jp4",
        "outputId": "887556bb-e6f9-4829-9af4-ca99ddd01b3c"
      },
      "source": [
        "!pip install squarify"
      ],
      "execution_count": null,
      "outputs": [
        {
          "output_type": "stream",
          "text": [
            "Collecting squarify\n",
            "  Downloading https://files.pythonhosted.org/packages/0b/2b/2e77c35326efec19819cd1d729540d4d235e6c2a3f37658288a363a67da5/squarify-0.4.3-py3-none-any.whl\n",
            "Installing collected packages: squarify\n",
            "Successfully installed squarify-0.4.3\n"
          ],
          "name": "stdout"
        }
      ]
    },
    {
      "cell_type": "code",
      "metadata": {
        "colab": {
          "base_uri": "https://localhost:8080/",
          "height": 248
        },
        "id": "hez3pMa_9Ebt",
        "outputId": "fcb4b177-0981-47e3-bac4-3cf60945d0fb"
      },
      "source": [
        "import squarify\n",
        "import matplotlib.pyplot as plt\n",
        "\n",
        "wc_top20 = wc[wc['rank'] <= 20]\n",
        "squarify.plot(sizes=wc_top20['percent'], label=wc_top20['word'], alpha=0.6)\n",
        "plt.axis('off')\n",
        "plt.show()"
      ],
      "execution_count": null,
      "outputs": [
        {
          "output_type": "display_data",
          "data": {
            "image/png": "[encoded data removed]",
            "text/plain": [
              "<Figure size 432x288 with 1 Axes>"
            ]
          },
          "metadata": {
            "tags": [],
            "needs_background": "light"
          }
        }
      ]
    },
    {
      "cell_type": "markdown",
      "metadata": {
        "id": "DEICzAeT83AH"
      },
      "source": [
        "### 4) SpaCy를 사용하여 더욱 쉽게 처리하기"
      ]
    },
    {
      "cell_type": "markdown",
      "metadata": {
        "id": "gJ0opNm49XDJ"
      },
      "source": [
        "`SpaCy` 는 문서 구성요소를 다양한 구조에 나누어 저장하지 않고 요소를 색인화하여 검색 정보를 간단히 저장하는 라이브러리입니다. <br/>\n",
        "그렇기 때문에 실제 배포 단계에서 기존에 많이 사용되었던 `NLTK` 라이브러리보다 `SpaCy` 가 더 빠릅니다.<br/>\n",
        "\n",
        "이러한 장점 덕분에 최근에는 `SpaCy` 라이브러리를 많이 사용하고 있는데요.<br/>\n",
        "`SpaCy` 라이브러리를 사용하여 토큰화 하는 방법에 대해서 알아보겠습니다."
      ]
    },
    {
      "cell_type": "code",
      "metadata": {
        "id": "OV9vlV7Q9kdI"
      },
      "source": [
        "# 필요한 모듈을 import 합니다\n",
        "import spacy\n",
        "from spacy.tokenizer import Tokenizer\n",
        "\n",
        "nlp = spacy.load(\"en_core_web_sm\")\n",
        "\n",
        "tokenizer = Tokenizer(nlp.vocab)"
      ],
      "execution_count": null,
      "outputs": []
    },
    {
      "cell_type": "markdown",
      "metadata": {
        "id": "7J4pqg2lGvwr"
      },
      "source": [
        "> ❗️ ***`SpaCy` [공식 문서](https://spacy.io/models)를 참고하여 모델을 불러오는 여러 가지 방법에 대해서 알아봅시다.***\n",
        "\n",
        "`SpaCy`를 사용하면 더욱 쉽고 빠르게 토큰화를 수행할 수 있습니다."
      ]
    },
    {
      "cell_type": "code",
      "metadata": {
        "colab": {
          "base_uri": "https://localhost:8080/"
        },
        "id": "TD83u9Qp9pXz",
        "outputId": "a693693f-f5f7-4de8-e32d-252f8dd02e68"
      },
      "source": [
        "# 토큰화를 위한 파이프라인을 구성합니다.\n",
        "\n",
        "tokens = []\n",
        "\n",
        "for doc in tokenizer.pipe(df['reviews.text']):\n",
        "    doc_tokens = [re.sub(r\"[^a-z0-9]\", \"\", token.text.lower()) for token in doc]\n",
        "    tokens.append(doc_tokens)\n",
        "\n",
        "df['tokens'] = tokens\n",
        "df['tokens'].head()"
      ],
      "execution_count": null,
      "outputs": [
        {
          "output_type": "execute_result",
          "data": {
            "text/plain": [
              "0    [though, i, have, got, it, for, cheap, price, ...\n",
              "1    [i, purchased, the, 7, for, my, son, when, he,...\n",
              "2    [great, price, and, great, batteries, i, will,...\n",
              "3    [great, tablet, for, kids, my, boys, love, the...\n",
              "4    [they, lasted, really, little, some, of, them,...\n",
              "Name: tokens, dtype: object"
            ]
          },
          "metadata": {
            "tags": []
          },
          "execution_count": 25
        }
      ]
    },
    {
      "cell_type": "code",
      "metadata": {
        "colab": {
          "base_uri": "https://localhost:8080/",
          "height": 205
        },
        "id": "ZPFe-nHu96Qv",
        "outputId": "8ce81220-6d85-4324-ae7a-d98a078340b0"
      },
      "source": [
        "# word_count 함수를 사용하여 단어의 분포를 나타내어 봅시다.\n",
        "wc = word_count(df['tokens'])\n",
        "wc.head()"
      ],
      "execution_count": null,
      "outputs": [
        {
          "output_type": "execute_result",
          "data": {
            "text/html": [
              "<div>\n",
              "<style scoped>\n",
              "    .dataframe tbody tr th:only-of-type {\n",
              "        vertical-align: middle;\n",
              "    }\n",
              "\n",
              "    .dataframe tbody tr th {\n",
              "        vertical-align: top;\n",
              "    }\n",
              "\n",
              "    .dataframe thead th {\n",
              "        text-align: right;\n",
              "    }\n",
              "</style>\n",
              "<table border=\"1\" class=\"dataframe\">\n",
              "  <thead>\n",
              "    <tr style=\"text-align: right;\">\n",
              "      <th></th>\n",
              "      <th>word</th>\n",
              "      <th>word_in_docs</th>\n",
              "      <th>count</th>\n",
              "      <th>rank</th>\n",
              "      <th>percent</th>\n",
              "      <th>cul_percent</th>\n",
              "      <th>word_in_docs_percent</th>\n",
              "    </tr>\n",
              "  </thead>\n",
              "  <tbody>\n",
              "    <tr>\n",
              "      <th>51</th>\n",
              "      <td>the</td>\n",
              "      <td>4909</td>\n",
              "      <td>10514</td>\n",
              "      <td>1.0</td>\n",
              "      <td>0.039229</td>\n",
              "      <td>0.039229</td>\n",
              "      <td>0.468282</td>\n",
              "    </tr>\n",
              "    <tr>\n",
              "      <th>1</th>\n",
              "      <td>and</td>\n",
              "      <td>5064</td>\n",
              "      <td>8137</td>\n",
              "      <td>2.0</td>\n",
              "      <td>0.030360</td>\n",
              "      <td>0.069589</td>\n",
              "      <td>0.483068</td>\n",
              "    </tr>\n",
              "    <tr>\n",
              "      <th>26</th>\n",
              "      <td>i</td>\n",
              "      <td>3781</td>\n",
              "      <td>7465</td>\n",
              "      <td>3.0</td>\n",
              "      <td>0.027853</td>\n",
              "      <td>0.097442</td>\n",
              "      <td>0.360679</td>\n",
              "    </tr>\n",
              "    <tr>\n",
              "      <th>124</th>\n",
              "      <td>to</td>\n",
              "      <td>4157</td>\n",
              "      <td>7150</td>\n",
              "      <td>4.0</td>\n",
              "      <td>0.026678</td>\n",
              "      <td>0.124120</td>\n",
              "      <td>0.396547</td>\n",
              "    </tr>\n",
              "    <tr>\n",
              "      <th>19</th>\n",
              "      <td>for</td>\n",
              "      <td>4477</td>\n",
              "      <td>6617</td>\n",
              "      <td>5.0</td>\n",
              "      <td>0.024689</td>\n",
              "      <td>0.148809</td>\n",
              "      <td>0.427072</td>\n",
              "    </tr>\n",
              "  </tbody>\n",
              "</table>\n",
              "</div>"
            ],
            "text/plain": [
              "    word  word_in_docs  count  ...   percent  cul_percent  word_in_docs_percent\n",
              "51   the          4909  10514  ...  0.039229     0.039229              0.468282\n",
              "1    and          5064   8137  ...  0.030360     0.069589              0.483068\n",
              "26     i          3781   7465  ...  0.027853     0.097442              0.360679\n",
              "124   to          4157   7150  ...  0.026678     0.124120              0.396547\n",
              "19   for          4477   6617  ...  0.024689     0.148809              0.427072\n",
              "\n",
              "[5 rows x 7 columns]"
            ]
          },
          "metadata": {
            "tags": []
          },
          "execution_count": 26
        }
      ]
    },
    {
      "cell_type": "markdown",
      "metadata": {
        "id": "5RZ2HugYi-Rh"
      },
      "source": [
        "`SpaCy`로 토큰화 한 문장에 대하여 등장 비율 상위 20개 단어의 결과를 시각화 해봅시다."
      ]
    },
    {
      "cell_type": "code",
      "metadata": {
        "colab": {
          "base_uri": "https://localhost:8080/",
          "height": 248
        },
        "id": "z-lZqvcG97pc",
        "outputId": "6edcb3b7-eb64-49a5-81fe-523035453384"
      },
      "source": [
        "wc_top20 = wc[wc['rank'] <= 20]\n",
        "\n",
        "squarify.plot(sizes=wc_top20['percent'], label=wc_top20['word'], alpha=0.6 )\n",
        "plt.axis('off')\n",
        "plt.show()"
      ],
      "execution_count": null,
      "outputs": [
        {
          "output_type": "display_data",
          "data": {
            "image/png": "[encoded data removed]",
            "text/plain": [
              "<Figure size 432x288 with 1 Axes>"
            ]
          },
          "metadata": {
            "tags": [],
            "needs_background": "light"
          }
        }
      ]
    },
    {
      "cell_type": "markdown",
      "metadata": {
        "id": "XhSW_GQ-lcAP"
      },
      "source": [
        "이전의 결과와 유사한 것을 확인할 수 있습니다."
      ]
    },
    {
      "cell_type": "markdown",
      "metadata": {
        "id": "q05OUw8DwTfj"
      },
      "source": [
        "### 5) 불용어(Stop words) 처리"
      ]
    },
    {
      "cell_type": "markdown",
      "metadata": {
        "id": "Wu2TXwKvOHoS"
      },
      "source": [
        "위에서 시각화한 단어 대부분은 제품 리뷰를 이해하는데 그다지 도움이 되지 않습니다. 'I', 'and', 'of' 같은 단어들은 리뷰 관점에서 아무런 의미가 없습니다. <br/>\n",
        "이런 단어들을 **<font color=\"ff6f61\">'Stop words(불용어)'</font>** 라고 합니다.<br/>\n",
        "분석할 때 해당하는 단어를 제외하기 때문입니다.\n",
        "\n",
        "대부분의 NLP 라이브러리는 접속사, 관사, 부사, 대명사, 일반동사 등을 포함한 일반적인 불용어를 내장하고 있습니다.<br/>\n",
        "`spacy`가 기본적으로 제공하는 불용어는 어떤 것들이 있는지 알아보겠습니다."
      ]
    },
    {
      "cell_type": "code",
      "metadata": {
        "colab": {
          "base_uri": "https://localhost:8080/"
        },
        "id": "h5e0F07aOgqO",
        "outputId": "38f8e251-ae72-4ba7-bbf2-38032b5c0b55"
      },
      "source": [
        "print(nlp.Defaults.stop_words)"
      ],
      "execution_count": null,
      "outputs": [
        {
          "output_type": "stream",
          "text": [
            "{'could', 'to', 'others', 'herein', 'cannot', 'whereafter', 'through', 'hers', 'while', 'being', 'a', '‘m', 'together', 'noone', \"'ve\", 'became', 'seems', 'somewhere', 'why', 'did', 'an', 'have', 'something', 'regarding', 'among', 'as', 'show', 'from', \"n't\", 'of', 'which', 'less', 'thus', 'himself', 'after', 'whose', 'whole', '‘ll', 'full', 'once', 'only', 'ever', 'becomes', 'whereupon', 'nevertheless', 'every', 'up', 'him', 'myself', 'alone', 'somehow', 'few', 'on', 'must', 'done', 'the', 'serious', 'fifteen', 'now', 'hereby', 'therefore', 'my', 'ourselves', 'been', 'some', 'down', 'forty', 'take', 'and', 'again', 'that', 'about', 'though', 'everyone', 'not', 'via', 'really', 'nothing', 'more', 'mostly', 'made', 'before', 'so', 'four', 'fifty', 'never', 'nor', 'if', 'further', 'most', 'several', 'anyway', 'beyond', 'unless', '‘ve', 'all', 'therein', 'can', 'during', 'hundred', 'anything', \"'re\", 'beforehand', 'in', 'toward', 'amount', 'however', 'least', 'where', 'they', 'nobody', 'very', 'empty', 'below', 'might', 'with', 'twelve', 'will', 'may', 'except', 'give', 'latterly', 'is', 'along', 'either', 'become', 'ca', 'off', 'because', 'perhaps', 'your', 'too', 'do', 'keep', 'us', 'these', 'call', 'say', 'our', 'mine', 'ten', 'both', 'those', '’re', 'other', 'indeed', 'twenty', 'quite', 'latter', 'rather', 'am', 'thereby', 'against', 'at', 'sometime', 'does', 'side', 'n‘t', 'bottom', 'same', 'next', 'hence', 'under', 'such', 'due', 'whom', 'her', 'doing', \"'d\", 'themselves', 'much', 'thence', 'put', 'beside', 'name', 'who', 'be', \"'m\", 'top', 'would', 'he', 'formerly', 'sixty', 'above', 'first', 'used', 'what', 'whoever', 'former', 'are', 'get', 'but', 'without', '’d', 'or', 'meanwhile', 'just', 'between', 're', 'whereas', 'then', 'someone', 'ours', 'well', 'was', 'throughout', 'sometimes', 'across', 'thru', 'please', 'enough', 'upon', 'otherwise', \"'s\", 'back', 'seemed', 'often', 'already', 'everywhere', 'when', '’m', 'go', 'whence', 'onto', 'many', \"'ll\", 'seem', 'this', 'yours', 'herself', 'whither', 'none', 'should', 'i', 'no', 'yourself', 'although', 'behind', 'until', 'me', 'whatever', 'part', '’ll', 'amongst', 'thereafter', 'yet', 'becoming', 'out', 'nowhere', 'front', 'five', 'seeming', 'own', 'everything', 'else', 'it', 'wherever', 'afterwards', 'two', 'itself', 'nine', 'its', 'how', 'almost', 'make', '‘s', 'hereupon', 'one', 'his', 'eleven', 'thereupon', 'various', 'anyone', 'any', 'by', 'than', 'also', 'using', 'here', 'were', 'around', 'see', 'moreover', 'third', 'whether', 'neither', 'we', 'eight', 'into', 'you', 'for', '’ve', 'namely', 'always', 'last', 'their', '‘d', 'hereafter', 'towards', 'had', 'even', 'has', 'she', 'six', 'since', 'elsewhere', 'each', 'anyhow', '’s', 'whenever', 'there', 'anywhere', '‘re', 'still', 'yourselves', 'move', 'wherein', 'whereby', 'another', 'three', 'per', 'over', 'besides', 'within', 'n’t', 'them'}\n"
          ],
          "name": "stdout"
        }
      ]
    },
    {
      "cell_type": "markdown",
      "metadata": {
        "id": "_Vp87hIEAKXQ"
      },
      "source": [
        "해당 불용어를 제외하고 토크나이징을 진행한 결과는 아래와 같습니다."
      ]
    },
    {
      "cell_type": "code",
      "metadata": {
        "colab": {
          "base_uri": "https://localhost:8080/"
        },
        "id": "oVZMGojfOk8s",
        "outputId": "07bac5d4-d73e-4cdd-b9dc-b533bafeaf97"
      },
      "source": [
        "tokens = []\n",
        "# 토큰에서 불용어 제거, 소문자화 하여 업데이트\n",
        "for doc in tokenizer.pipe(df['reviews.text']):\n",
        "    doc_tokens = []\n",
        "\n",
        "    # A doc is a sequence of Token(<class 'spacy.tokens.doc.Doc'>)\n",
        "    for token in doc:\n",
        "        # 토큰이 불용어와 구두점이 아니면 저장\n",
        "        if (token.is_stop == False) & (token.is_punct == False):\n",
        "            doc_tokens.append(token.text.lower())\n",
        "\n",
        "    tokens.append(doc_tokens)\n",
        "\n",
        "df['tokens'] = tokens\n",
        "df.tokens.head()"
      ],
      "execution_count": null,
      "outputs": [
        {
          "output_type": "execute_result",
          "data": {
            "text/plain": [
              "0    [got, cheap, price, black, friday,, fire, grea...\n",
              "1    [purchased, 7\", son, 1.5, years, old,, broke, ...\n",
              "2    [great, price, great, batteries!, buying, anyt...\n",
              "3         [great, tablet, kids, boys, love, tablets!!]\n",
              "4    [lasted, little.., (some, them), use, batterie...\n",
              "Name: tokens, dtype: object"
            ]
          },
          "metadata": {
            "tags": []
          },
          "execution_count": 29
        }
      ]
    },
    {
      "cell_type": "code",
      "metadata": {
        "colab": {
          "base_uri": "https://localhost:8080/",
          "height": 248
        },
        "id": "IvIOrqtGAUEI",
        "outputId": "c7b00350-6aa5-43cf-890e-33dc7e376700"
      },
      "source": [
        "wc = word_count(df['tokens'])\n",
        "\n",
        "wc_top20 = wc[wc['rank'] <= 20]\n",
        "\n",
        "squarify.plot(sizes=wc_top20['percent'], label=wc_top20['word'], alpha=0.6)\n",
        "plt.axis('off')\n",
        "plt.show()"
      ],
      "execution_count": null,
      "outputs": [
        {
          "output_type": "display_data",
          "data": {
            "image/png": "[encoded data removed]",
            "text/plain": [
              "<Figure size 432x288 with 1 Axes>"
            ]
          },
          "metadata": {
            "tags": [],
            "needs_background": "light"
          }
        }
      ]
    },
    {
      "cell_type": "markdown",
      "metadata": {
        "id": "WrjTMAZnAPsi"
      },
      "source": [
        "불용어들이 모두 제거가 되어 완전히 다른 단어들이 상위에서 보이는 것을 확인할 수 있습니다."
      ]
    },
    {
      "cell_type": "markdown",
      "metadata": {
        "id": "zEX7WuRtAZ-4"
      },
      "source": [
        "- **불용어 커스터마이징 하기**"
      ]
    },
    {
      "cell_type": "markdown",
      "metadata": {
        "id": "vDb-GTTmP0IE"
      },
      "source": [
        "여러분이 다루는 데이터에 따라 불용어를 커스터마이즈할 수 있습니다. <br/>\n",
        "중요하지 않지만 상위에 나오는 몇몇 단어들을 불용어에 추가해 보겠습니다. <br/>\n",
        "(반대로 기존에 불용어로 취급되는 단어를 제거할 수도 있습니다.)"
      ]
    },
    {
      "cell_type": "code",
      "metadata": {
        "colab": {
          "base_uri": "https://localhost:8080/"
        },
        "id": "bdge3uMHBybM",
        "outputId": "4f2a59ed-ec8e-4f04-b77f-847a84d9b293"
      },
      "source": [
        "print(type(nlp.Defaults.stop_words))"
      ],
      "execution_count": null,
      "outputs": [
        {
          "output_type": "stream",
          "text": [
            "<class 'set'>\n"
          ],
          "name": "stdout"
        }
      ]
    },
    {
      "cell_type": "code",
      "metadata": {
        "id": "WGJA-tv6B0C0"
      },
      "source": [
        "STOP_WORDS = nlp.Defaults.stop_words.union(['batteries','I', 'amazon', 'i', 'Amazon', 'it', \"it's\", 'it.', 'the', 'this'])"
      ],
      "execution_count": null,
      "outputs": []
    },
    {
      "cell_type": "code",
      "metadata": {
        "id": "bW_N5oX5B590"
      },
      "source": [
        "tokens = []\n",
        "\n",
        "for doc in tokenizer.pipe(df['reviews.text']):\n",
        "    \n",
        "    doc_tokens = []\n",
        "    \n",
        "    for token in doc: \n",
        "        if token.text.lower() not in STOP_WORDS:\n",
        "            doc_tokens.append(token.text.lower())\n",
        "   \n",
        "    tokens.append(doc_tokens)\n",
        "    \n",
        "df['tokens'] = tokens"
      ],
      "execution_count": null,
      "outputs": []
    },
    {
      "cell_type": "code",
      "metadata": {
        "colab": {
          "base_uri": "https://localhost:8080/",
          "height": 205
        },
        "id": "0yL5rm-DB84o",
        "outputId": "9ee50d15-6cca-4c53-e095-490a08a53832"
      },
      "source": [
        "wc = word_count(df['tokens'])\n",
        "wc.head()"
      ],
      "execution_count": null,
      "outputs": [
        {
          "output_type": "execute_result",
          "data": {
            "text/html": [
              "<div>\n",
              "<style scoped>\n",
              "    .dataframe tbody tr th:only-of-type {\n",
              "        vertical-align: middle;\n",
              "    }\n",
              "\n",
              "    .dataframe tbody tr th {\n",
              "        vertical-align: top;\n",
              "    }\n",
              "\n",
              "    .dataframe thead th {\n",
              "        text-align: right;\n",
              "    }\n",
              "</style>\n",
              "<table border=\"1\" class=\"dataframe\">\n",
              "  <thead>\n",
              "    <tr style=\"text-align: right;\">\n",
              "      <th></th>\n",
              "      <th>word</th>\n",
              "      <th>word_in_docs</th>\n",
              "      <th>count</th>\n",
              "      <th>rank</th>\n",
              "      <th>percent</th>\n",
              "      <th>cul_percent</th>\n",
              "      <th>word_in_docs_percent</th>\n",
              "    </tr>\n",
              "  </thead>\n",
              "  <tbody>\n",
              "    <tr>\n",
              "      <th>58</th>\n",
              "      <td>great</td>\n",
              "      <td>2709</td>\n",
              "      <td>3080</td>\n",
              "      <td>1.0</td>\n",
              "      <td>0.024609</td>\n",
              "      <td>0.024609</td>\n",
              "      <td>0.258418</td>\n",
              "    </tr>\n",
              "    <tr>\n",
              "      <th>14</th>\n",
              "      <td>good</td>\n",
              "      <td>1688</td>\n",
              "      <td>1870</td>\n",
              "      <td>2.0</td>\n",
              "      <td>0.014941</td>\n",
              "      <td>0.039549</td>\n",
              "      <td>0.161023</td>\n",
              "    </tr>\n",
              "    <tr>\n",
              "      <th>68</th>\n",
              "      <td>tablet</td>\n",
              "      <td>1469</td>\n",
              "      <td>1752</td>\n",
              "      <td>3.0</td>\n",
              "      <td>0.013998</td>\n",
              "      <td>0.053547</td>\n",
              "      <td>0.140132</td>\n",
              "    </tr>\n",
              "    <tr>\n",
              "      <th>64</th>\n",
              "      <td>love</td>\n",
              "      <td>1183</td>\n",
              "      <td>1287</td>\n",
              "      <td>4.0</td>\n",
              "      <td>0.010283</td>\n",
              "      <td>0.063830</td>\n",
              "      <td>0.112849</td>\n",
              "    </tr>\n",
              "    <tr>\n",
              "      <th>103</th>\n",
              "      <td>bought</td>\n",
              "      <td>1103</td>\n",
              "      <td>1179</td>\n",
              "      <td>5.0</td>\n",
              "      <td>0.009420</td>\n",
              "      <td>0.073250</td>\n",
              "      <td>0.105218</td>\n",
              "    </tr>\n",
              "  </tbody>\n",
              "</table>\n",
              "</div>"
            ],
            "text/plain": [
              "       word  word_in_docs  count  ...   percent  cul_percent  word_in_docs_percent\n",
              "58    great          2709   3080  ...  0.024609     0.024609              0.258418\n",
              "14     good          1688   1870  ...  0.014941     0.039549              0.161023\n",
              "68   tablet          1469   1752  ...  0.013998     0.053547              0.140132\n",
              "64     love          1183   1287  ...  0.010283     0.063830              0.112849\n",
              "103  bought          1103   1179  ...  0.009420     0.073250              0.105218\n",
              "\n",
              "[5 rows x 7 columns]"
            ]
          },
          "metadata": {
            "tags": []
          },
          "execution_count": 34
        }
      ]
    },
    {
      "cell_type": "code",
      "metadata": {
        "colab": {
          "base_uri": "https://localhost:8080/",
          "height": 248
        },
        "id": "udVx9g0yCA_p",
        "outputId": "e75c1a6a-b053-4786-a08e-b8421f116c74"
      },
      "source": [
        "wc_top20 = wc[wc['rank'] <= 20]\n",
        "\n",
        "squarify.plot(sizes=wc_top20['percent'], label=wc_top20['word'], alpha=0.6)\n",
        "plt.axis('off')\n",
        "plt.show()"
      ],
      "execution_count": null,
      "outputs": [
        {
          "output_type": "display_data",
          "data": {
            "image/png": "[encoded data removed]",
            "text/plain": [
              "<Figure size 432x288 with 1 Axes>"
            ]
          },
          "metadata": {
            "tags": [],
            "needs_background": "light"
          }
        }
      ]
    },
    {
      "cell_type": "markdown",
      "metadata": {
        "id": "H5J91AM5ORRQ"
      },
      "source": [
        "추가적으로 킨들의 리뷰와 전체 리뷰의 토큰을 비교해 보겠습니다."
      ]
    },
    {
      "cell_type": "code",
      "metadata": {
        "colab": {
          "base_uri": "https://localhost:8080/"
        },
        "id": "062O68NpCMIA",
        "outputId": "a5b6e8f4-d55e-4eb6-9523-27b1c97ba0c1"
      },
      "source": [
        "df['kindle'] = df['name'].str.contains('kindle', case=False)\n",
        "wc_kindle = word_count(df[df['kindle'] == 1]['tokens'])\n",
        "wc.shape, wc_kindle.shape"
      ],
      "execution_count": null,
      "outputs": [
        {
          "output_type": "execute_result",
          "data": {
            "text/plain": [
              "((13497, 7), (2717, 7))"
            ]
          },
          "metadata": {
            "tags": []
          },
          "execution_count": 36
        }
      ]
    },
    {
      "cell_type": "code",
      "metadata": {
        "colab": {
          "base_uri": "https://localhost:8080/",
          "height": 482
        },
        "id": "OJ2C3DI5CPiD",
        "outputId": "a9ac9acb-8fb5-4414-814d-9e7c3fca5f5b"
      },
      "source": [
        "wc_top20 = wc[wc['rank'] <= 20]\n",
        "wc_kindle_top20 = wc_kindle[wc_kindle['rank'] <= 20]\n",
        "\n",
        "fig, axes = plt.subplots(1, 2, figsize=(20, 8))\n",
        "axes[0].set_title('All Reviews')\n",
        "squarify.plot(sizes=wc_top20['percent'], label=wc_top20['word'], alpha=0.6, ax=axes[0], text_kwargs={'fontsize':14})\n",
        "axes[0].axis('off')\n",
        "\n",
        "axes[1].set_title('Kindle Reviews')\n",
        "squarify.plot(sizes=wc_kindle_top20['percent'], label=wc_kindle_top20['word'], alpha=0.6, ax=axes[1], text_kwargs={'fontsize':14})\n",
        "axes[1].axis('off')\n",
        "\n",
        "plt.show()"
      ],
      "execution_count": null,
      "outputs": [
        {
          "output_type": "display_data",
          "data": {
            "image/png": "[encoded data removed]",
            "text/plain": [
              "<Figure size 1440x576 with 2 Axes>"
            ]
          },
          "metadata": {
            "tags": [],
            "needs_background": "light"
          }
        }
      ]
    },
    {
      "cell_type": "markdown",
      "metadata": {
        "id": "bN7OIUvSQrc-"
      },
      "source": [
        "### 6) 통계적 트리밍(Trimming)"
      ]
    },
    {
      "cell_type": "markdown",
      "metadata": {
        "id": "om04hSJtQvxm"
      },
      "source": [
        "불용어를 직접적으로 제거하는 대신 통계적인 방법을 통해 말뭉치 내에서 너무 많거나, 너무 적은 토큰을 제거하는 방법도 있습니다.\n",
        "\n",
        "단어들의 누적분포 그래프를 다시 보겠습니다."
      ]
    },
    {
      "cell_type": "code",
      "metadata": {
        "colab": {
          "base_uri": "https://localhost:8080/",
          "height": 296
        },
        "id": "Rvy0v8zADQD-",
        "outputId": "cd1873d9-e7d1-461e-f1a2-1b58a1e77a99"
      },
      "source": [
        "sns.lineplot(x='rank', y='cul_percent', data=wc)"
      ],
      "execution_count": null,
      "outputs": [
        {
          "output_type": "execute_result",
          "data": {
            "text/plain": [
              "<matplotlib.axes._subplots.AxesSubplot at 0x7f0f82427a10>"
            ]
          },
          "metadata": {
            "tags": []
          },
          "execution_count": 38
        },
        {
          "output_type": "display_data",
          "data": {
            "image/png": "[encoded data removed]",
            "text/plain": [
              "<Figure size 432x288 with 1 Axes>"
            ]
          },
          "metadata": {
            "tags": [],
            "needs_background": "light"
          }
        }
      ]
    },
    {
      "cell_type": "markdown",
      "metadata": {
        "id": "4QHq8iWRDV3X"
      },
      "source": [
        "이 그래프에서 알 수 있는 것은 몇몇 소수의 단어들이 전체 코퍼스의 80%를 차지한다는 것입니다.<br/>\n",
        "그래프 결과에서 나타나는 단어의 중요도를 다음과 같이 두 가지로 해석해 볼 수 있습니다.\n",
        "\n",
        "1. **자주 나타나는 단어들 (그래프의 왼쪽)** : 여러 문서에 두루 나타나기 때문에 문서 분류 단계에서 통찰력을 제공하지 않습니다. <br/>\n",
        "2. **자주 나타나지 않는 단어들 (그래프의 오른쪽)** : 너무 드물게 나타나기 때문에 큰 의미가 없을 확률이 높습니다.\n",
        "\n",
        "랭크가 높거나 낮은 단어들을 한 번 살펴 보고 제거해 봅시다."
      ]
    },
    {
      "cell_type": "code",
      "metadata": {
        "colab": {
          "base_uri": "https://localhost:8080/",
          "height": 675
        },
        "id": "SRCgoM2pDUu8",
        "outputId": "ccc51147-0792-4b82-ee86-2b5e56abaa1a"
      },
      "source": [
        "wc.tail(20)"
      ],
      "execution_count": null,
      "outputs": [
        {
          "output_type": "execute_result",
          "data": {
            "text/html": [
              "<div>\n",
              "<style scoped>\n",
              "    .dataframe tbody tr th:only-of-type {\n",
              "        vertical-align: middle;\n",
              "    }\n",
              "\n",
              "    .dataframe tbody tr th {\n",
              "        vertical-align: top;\n",
              "    }\n",
              "\n",
              "    .dataframe thead th {\n",
              "        text-align: right;\n",
              "    }\n",
              "</style>\n",
              "<table border=\"1\" class=\"dataframe\">\n",
              "  <thead>\n",
              "    <tr style=\"text-align: right;\">\n",
              "      <th></th>\n",
              "      <th>word</th>\n",
              "      <th>word_in_docs</th>\n",
              "      <th>count</th>\n",
              "      <th>rank</th>\n",
              "      <th>percent</th>\n",
              "      <th>cul_percent</th>\n",
              "      <th>word_in_docs_percent</th>\n",
              "    </tr>\n",
              "  </thead>\n",
              "  <tbody>\n",
              "    <tr>\n",
              "      <th>13477</th>\n",
              "      <td>functionalities</td>\n",
              "      <td>1</td>\n",
              "      <td>1</td>\n",
              "      <td>13478.0</td>\n",
              "      <td>0.000008</td>\n",
              "      <td>0.999848</td>\n",
              "      <td>0.000095</td>\n",
              "    </tr>\n",
              "    <tr>\n",
              "      <th>13478</th>\n",
              "      <td>good..</td>\n",
              "      <td>1</td>\n",
              "      <td>1</td>\n",
              "      <td>13479.0</td>\n",
              "      <td>0.000008</td>\n",
              "      <td>0.999856</td>\n",
              "      <td>0.000095</td>\n",
              "    </tr>\n",
              "    <tr>\n",
              "      <th>13479</th>\n",
              "      <td>itshe's</td>\n",
              "      <td>1</td>\n",
              "      <td>1</td>\n",
              "      <td>13480.0</td>\n",
              "      <td>0.000008</td>\n",
              "      <td>0.999864</td>\n",
              "      <td>0.000095</td>\n",
              "    </tr>\n",
              "    <tr>\n",
              "      <th>13480</th>\n",
              "      <td>geeks</td>\n",
              "      <td>1</td>\n",
              "      <td>1</td>\n",
              "      <td>13481.0</td>\n",
              "      <td>0.000008</td>\n",
              "      <td>0.999872</td>\n",
              "      <td>0.000095</td>\n",
              "    </tr>\n",
              "    <tr>\n",
              "      <th>13481</th>\n",
              "      <td>monday</td>\n",
              "      <td>1</td>\n",
              "      <td>1</td>\n",
              "      <td>13482.0</td>\n",
              "      <td>0.000008</td>\n",
              "      <td>0.999880</td>\n",
              "      <td>0.000095</td>\n",
              "    </tr>\n",
              "    <tr>\n",
              "      <th>13482</th>\n",
              "      <td>endure</td>\n",
              "      <td>1</td>\n",
              "      <td>1</td>\n",
              "      <td>13483.0</td>\n",
              "      <td>0.000008</td>\n",
              "      <td>0.999888</td>\n",
              "      <td>0.000095</td>\n",
              "    </tr>\n",
              "    <tr>\n",
              "      <th>13483</th>\n",
              "      <td>particularly.</td>\n",
              "      <td>1</td>\n",
              "      <td>1</td>\n",
              "      <td>13484.0</td>\n",
              "      <td>0.000008</td>\n",
              "      <td>0.999896</td>\n",
              "      <td>0.000095</td>\n",
              "    </tr>\n",
              "    <tr>\n",
              "      <th>13484</th>\n",
              "      <td>gifts!!</td>\n",
              "      <td>1</td>\n",
              "      <td>1</td>\n",
              "      <td>13485.0</td>\n",
              "      <td>0.000008</td>\n",
              "      <td>0.999904</td>\n",
              "      <td>0.000095</td>\n",
              "    </tr>\n",
              "    <tr>\n",
              "      <th>13485</th>\n",
              "      <td>duralast.</td>\n",
              "      <td>1</td>\n",
              "      <td>1</td>\n",
              "      <td>13486.0</td>\n",
              "      <td>0.000008</td>\n",
              "      <td>0.999912</td>\n",
              "      <td>0.000095</td>\n",
              "    </tr>\n",
              "    <tr>\n",
              "      <th>13487</th>\n",
              "      <td>manufacturing</td>\n",
              "      <td>1</td>\n",
              "      <td>1</td>\n",
              "      <td>13487.0</td>\n",
              "      <td>0.000008</td>\n",
              "      <td>0.999920</td>\n",
              "      <td>0.000095</td>\n",
              "    </tr>\n",
              "    <tr>\n",
              "      <th>13488</th>\n",
              "      <td>label.</td>\n",
              "      <td>1</td>\n",
              "      <td>1</td>\n",
              "      <td>13488.0</td>\n",
              "      <td>0.000008</td>\n",
              "      <td>0.999928</td>\n",
              "      <td>0.000095</td>\n",
              "    </tr>\n",
              "    <tr>\n",
              "      <th>13486</th>\n",
              "      <td>(cannot</td>\n",
              "      <td>1</td>\n",
              "      <td>1</td>\n",
              "      <td>13489.0</td>\n",
              "      <td>0.000008</td>\n",
              "      <td>0.999936</td>\n",
              "      <td>0.000095</td>\n",
              "    </tr>\n",
              "    <tr>\n",
              "      <th>13490</th>\n",
              "      <td>ones).</td>\n",
              "      <td>1</td>\n",
              "      <td>1</td>\n",
              "      <td>13490.0</td>\n",
              "      <td>0.000008</td>\n",
              "      <td>0.999944</td>\n",
              "      <td>0.000095</td>\n",
              "    </tr>\n",
              "    <tr>\n",
              "      <th>13489</th>\n",
              "      <td>relish</td>\n",
              "      <td>1</td>\n",
              "      <td>1</td>\n",
              "      <td>13491.0</td>\n",
              "      <td>0.000008</td>\n",
              "      <td>0.999952</td>\n",
              "      <td>0.000095</td>\n",
              "    </tr>\n",
              "    <tr>\n",
              "      <th>13491</th>\n",
              "      <td>83</td>\n",
              "      <td>1</td>\n",
              "      <td>1</td>\n",
              "      <td>13492.0</td>\n",
              "      <td>0.000008</td>\n",
              "      <td>0.999960</td>\n",
              "      <td>0.000095</td>\n",
              "    </tr>\n",
              "    <tr>\n",
              "      <th>13492</th>\n",
              "      <td>batteries....would</td>\n",
              "      <td>1</td>\n",
              "      <td>1</td>\n",
              "      <td>13493.0</td>\n",
              "      <td>0.000008</td>\n",
              "      <td>0.999968</td>\n",
              "      <td>0.000095</td>\n",
              "    </tr>\n",
              "    <tr>\n",
              "      <th>13493</th>\n",
              "      <td>quetion</td>\n",
              "      <td>1</td>\n",
              "      <td>1</td>\n",
              "      <td>13494.0</td>\n",
              "      <td>0.000008</td>\n",
              "      <td>0.999976</td>\n",
              "      <td>0.000095</td>\n",
              "    </tr>\n",
              "    <tr>\n",
              "      <th>13494</th>\n",
              "      <td>warenty</td>\n",
              "      <td>1</td>\n",
              "      <td>1</td>\n",
              "      <td>13495.0</td>\n",
              "      <td>0.000008</td>\n",
              "      <td>0.999984</td>\n",
              "      <td>0.000095</td>\n",
              "    </tr>\n",
              "    <tr>\n",
              "      <th>13495</th>\n",
              "      <td>effect</td>\n",
              "      <td>1</td>\n",
              "      <td>1</td>\n",
              "      <td>13496.0</td>\n",
              "      <td>0.000008</td>\n",
              "      <td>0.999992</td>\n",
              "      <td>0.000095</td>\n",
              "    </tr>\n",
              "    <tr>\n",
              "      <th>13496</th>\n",
              "      <td>improvments</td>\n",
              "      <td>1</td>\n",
              "      <td>1</td>\n",
              "      <td>13497.0</td>\n",
              "      <td>0.000008</td>\n",
              "      <td>1.000000</td>\n",
              "      <td>0.000095</td>\n",
              "    </tr>\n",
              "  </tbody>\n",
              "</table>\n",
              "</div>"
            ],
            "text/plain": [
              "                     word  word_in_docs  ...  cul_percent  word_in_docs_percent\n",
              "13477     functionalities             1  ...     0.999848              0.000095\n",
              "13478              good..             1  ...     0.999856              0.000095\n",
              "13479             itshe's             1  ...     0.999864              0.000095\n",
              "13480               geeks             1  ...     0.999872              0.000095\n",
              "13481              monday             1  ...     0.999880              0.000095\n",
              "13482              endure             1  ...     0.999888              0.000095\n",
              "13483       particularly.             1  ...     0.999896              0.000095\n",
              "13484             gifts!!             1  ...     0.999904              0.000095\n",
              "13485           duralast.             1  ...     0.999912              0.000095\n",
              "13487       manufacturing             1  ...     0.999920              0.000095\n",
              "13488              label.             1  ...     0.999928              0.000095\n",
              "13486             (cannot             1  ...     0.999936              0.000095\n",
              "13490              ones).             1  ...     0.999944              0.000095\n",
              "13489              relish             1  ...     0.999952              0.000095\n",
              "13491                  83             1  ...     0.999960              0.000095\n",
              "13492  batteries....would             1  ...     0.999968              0.000095\n",
              "13493             quetion             1  ...     0.999976              0.000095\n",
              "13494             warenty             1  ...     0.999984              0.000095\n",
              "13495              effect             1  ...     0.999992              0.000095\n",
              "13496         improvments             1  ...     1.000000              0.000095\n",
              "\n",
              "[20 rows x 7 columns]"
            ]
          },
          "metadata": {
            "tags": []
          },
          "execution_count": 39
        }
      ]
    },
    {
      "cell_type": "code",
      "metadata": {
        "colab": {
          "base_uri": "https://localhost:8080/"
        },
        "id": "WAAD1tpUDiz2",
        "outputId": "d4a0b797-7a4c-4e1c-9a17-5c7bf230f2b7"
      },
      "source": [
        "wc['word_in_docs_percent'].describe()"
      ],
      "execution_count": null,
      "outputs": [
        {
          "output_type": "execute_result",
          "data": {
            "text/plain": [
              "count    13497.000000\n",
              "mean         0.000838\n",
              "std          0.004632\n",
              "min          0.000095\n",
              "25%          0.000095\n",
              "50%          0.000095\n",
              "75%          0.000382\n",
              "max          0.258418\n",
              "Name: word_in_docs_percent, dtype: float64"
            ]
          },
          "metadata": {
            "tags": []
          },
          "execution_count": 40
        }
      ]
    },
    {
      "cell_type": "code",
      "metadata": {
        "colab": {
          "base_uri": "https://localhost:8080/"
        },
        "id": "QSz7bXv2Dlq5",
        "outputId": "77997c2c-d3ea-43fc-bc0f-b3012280af97"
      },
      "source": [
        "wc['word_in_docs_percent']"
      ],
      "execution_count": null,
      "outputs": [
        {
          "output_type": "execute_result",
          "data": {
            "text/plain": [
              "58       0.258418\n",
              "14       0.161023\n",
              "68       0.140132\n",
              "64       0.112849\n",
              "103      0.105218\n",
              "           ...   \n",
              "13492    0.000095\n",
              "13493    0.000095\n",
              "13494    0.000095\n",
              "13495    0.000095\n",
              "13496    0.000095\n",
              "Name: word_in_docs_percent, Length: 13497, dtype: float64"
            ]
          },
          "metadata": {
            "tags": []
          },
          "execution_count": 41
        }
      ]
    },
    {
      "cell_type": "code",
      "metadata": {
        "colab": {
          "base_uri": "https://localhost:8080/",
          "height": 386
        },
        "id": "H9Bep__gDolx",
        "outputId": "0a13862d-13de-40ba-b384-36681f8f44ed"
      },
      "source": [
        "# 문서에 나타나는 빈도\n",
        "sns.displot(wc['word_in_docs_percent'],kind='kde')"
      ],
      "execution_count": null,
      "outputs": [
        {
          "output_type": "execute_result",
          "data": {
            "text/plain": [
              "<seaborn.axisgrid.FacetGrid at 0x7f0f84033e90>"
            ]
          },
          "metadata": {
            "tags": []
          },
          "execution_count": 42
        },
        {
          "output_type": "display_data",
          "data": {
            "image/png": "[encoded data removed]",
            "text/plain": [
              "<Figure size 360x360 with 1 Axes>"
            ]
          },
          "metadata": {
            "tags": [],
            "needs_background": "light"
          }
        }
      ]
    },
    {
      "cell_type": "code",
      "metadata": {
        "colab": {
          "base_uri": "https://localhost:8080/",
          "height": 369
        },
        "id": "qjxMLMtvDsh-",
        "outputId": "4ef4ad15-4dea-4bed-f650-4db71ead36c9"
      },
      "source": [
        "# 최소한 1% 이상 문서에 나타나는 단어들만 선택합니다.\n",
        "\n",
        "wc = wc[wc['word_in_docs_percent'] >= 0.01]\n",
        "\n",
        "sns.displot(wc['word_in_docs_percent'], kind='kde');"
      ],
      "execution_count": null,
      "outputs": [
        {
          "output_type": "display_data",
          "data": {
            "image/png": "[encoded data removed]",
            "text/plain": [
              "<Figure size 360x360 with 1 Axes>"
            ]
          },
          "metadata": {
            "tags": [],
            "needs_background": "light"
          }
        }
      ]
    },
    {
      "cell_type": "code",
      "metadata": {
        "colab": {
          "base_uri": "https://localhost:8080/",
          "height": 439
        },
        "id": "8M49_VjeDu6A",
        "outputId": "d908abd4-fc22-472f-9d3f-3c15cd0f4a72"
      },
      "source": [
        "print(wc.shape)\n",
        "wc"
      ],
      "execution_count": null,
      "outputs": [
        {
          "output_type": "stream",
          "text": [
            "(173, 7)\n"
          ],
          "name": "stdout"
        },
        {
          "output_type": "execute_result",
          "data": {
            "text/html": [
              "<div>\n",
              "<style scoped>\n",
              "    .dataframe tbody tr th:only-of-type {\n",
              "        vertical-align: middle;\n",
              "    }\n",
              "\n",
              "    .dataframe tbody tr th {\n",
              "        vertical-align: top;\n",
              "    }\n",
              "\n",
              "    .dataframe thead th {\n",
              "        text-align: right;\n",
              "    }\n",
              "</style>\n",
              "<table border=\"1\" class=\"dataframe\">\n",
              "  <thead>\n",
              "    <tr style=\"text-align: right;\">\n",
              "      <th></th>\n",
              "      <th>word</th>\n",
              "      <th>word_in_docs</th>\n",
              "      <th>count</th>\n",
              "      <th>rank</th>\n",
              "      <th>percent</th>\n",
              "      <th>cul_percent</th>\n",
              "      <th>word_in_docs_percent</th>\n",
              "    </tr>\n",
              "  </thead>\n",
              "  <tbody>\n",
              "    <tr>\n",
              "      <th>58</th>\n",
              "      <td>great</td>\n",
              "      <td>2709</td>\n",
              "      <td>3080</td>\n",
              "      <td>1.0</td>\n",
              "      <td>0.024609</td>\n",
              "      <td>0.024609</td>\n",
              "      <td>0.258418</td>\n",
              "    </tr>\n",
              "    <tr>\n",
              "      <th>14</th>\n",
              "      <td>good</td>\n",
              "      <td>1688</td>\n",
              "      <td>1870</td>\n",
              "      <td>2.0</td>\n",
              "      <td>0.014941</td>\n",
              "      <td>0.039549</td>\n",
              "      <td>0.161023</td>\n",
              "    </tr>\n",
              "    <tr>\n",
              "      <th>68</th>\n",
              "      <td>tablet</td>\n",
              "      <td>1469</td>\n",
              "      <td>1752</td>\n",
              "      <td>3.0</td>\n",
              "      <td>0.013998</td>\n",
              "      <td>0.053547</td>\n",
              "      <td>0.140132</td>\n",
              "    </tr>\n",
              "    <tr>\n",
              "      <th>64</th>\n",
              "      <td>love</td>\n",
              "      <td>1183</td>\n",
              "      <td>1287</td>\n",
              "      <td>4.0</td>\n",
              "      <td>0.010283</td>\n",
              "      <td>0.063830</td>\n",
              "      <td>0.112849</td>\n",
              "    </tr>\n",
              "    <tr>\n",
              "      <th>103</th>\n",
              "      <td>bought</td>\n",
              "      <td>1103</td>\n",
              "      <td>1179</td>\n",
              "      <td>5.0</td>\n",
              "      <td>0.009420</td>\n",
              "      <td>0.073250</td>\n",
              "      <td>0.105218</td>\n",
              "    </tr>\n",
              "    <tr>\n",
              "      <th>...</th>\n",
              "      <td>...</td>\n",
              "      <td>...</td>\n",
              "      <td>...</td>\n",
              "      <td>...</td>\n",
              "      <td>...</td>\n",
              "      <td>...</td>\n",
              "      <td>...</td>\n",
              "    </tr>\n",
              "    <tr>\n",
              "      <th>566</th>\n",
              "      <td>bit</td>\n",
              "      <td>109</td>\n",
              "      <td>112</td>\n",
              "      <td>173.0</td>\n",
              "      <td>0.000895</td>\n",
              "      <td>0.428731</td>\n",
              "      <td>0.010398</td>\n",
              "    </tr>\n",
              "    <tr>\n",
              "      <th>937</th>\n",
              "      <td>fine</td>\n",
              "      <td>108</td>\n",
              "      <td>112</td>\n",
              "      <td>174.0</td>\n",
              "      <td>0.000895</td>\n",
              "      <td>0.429626</td>\n",
              "      <td>0.010302</td>\n",
              "    </tr>\n",
              "    <tr>\n",
              "      <th>340</th>\n",
              "      <td>pay</td>\n",
              "      <td>107</td>\n",
              "      <td>111</td>\n",
              "      <td>175.0</td>\n",
              "      <td>0.000887</td>\n",
              "      <td>0.430513</td>\n",
              "      <td>0.010207</td>\n",
              "    </tr>\n",
              "    <tr>\n",
              "      <th>875</th>\n",
              "      <td>value.</td>\n",
              "      <td>108</td>\n",
              "      <td>108</td>\n",
              "      <td>177.0</td>\n",
              "      <td>0.000863</td>\n",
              "      <td>0.432247</td>\n",
              "      <td>0.010302</td>\n",
              "    </tr>\n",
              "    <tr>\n",
              "      <th>936</th>\n",
              "      <td>working</td>\n",
              "      <td>106</td>\n",
              "      <td>107</td>\n",
              "      <td>179.0</td>\n",
              "      <td>0.000855</td>\n",
              "      <td>0.433965</td>\n",
              "      <td>0.010112</td>\n",
              "    </tr>\n",
              "  </tbody>\n",
              "</table>\n",
              "<p>173 rows × 7 columns</p>\n",
              "</div>"
            ],
            "text/plain": [
              "        word  word_in_docs  count  ...   percent  cul_percent  word_in_docs_percent\n",
              "58     great          2709   3080  ...  0.024609     0.024609              0.258418\n",
              "14      good          1688   1870  ...  0.014941     0.039549              0.161023\n",
              "68    tablet          1469   1752  ...  0.013998     0.053547              0.140132\n",
              "64      love          1183   1287  ...  0.010283     0.063830              0.112849\n",
              "103   bought          1103   1179  ...  0.009420     0.073250              0.105218\n",
              "..       ...           ...    ...  ...       ...          ...                   ...\n",
              "566      bit           109    112  ...  0.000895     0.428731              0.010398\n",
              "937     fine           108    112  ...  0.000895     0.429626              0.010302\n",
              "340      pay           107    111  ...  0.000887     0.430513              0.010207\n",
              "875   value.           108    108  ...  0.000863     0.432247              0.010302\n",
              "936  working           106    107  ...  0.000855     0.433965              0.010112\n",
              "\n",
              "[173 rows x 7 columns]"
            ]
          },
          "metadata": {
            "tags": []
          },
          "execution_count": 44
        }
      ]
    },
    {
      "cell_type": "markdown",
      "metadata": {
        "id": "mDX5nu5xQ6cp"
      },
      "source": [
        "### 7) 어간 추출(Stemming)과 표제어 추출(Lemmatization)"
      ]
    },
    {
      "cell_type": "markdown",
      "metadata": {
        "id": "Qiz1lShsRBJI"
      },
      "source": [
        "토큰화된 단어들을 보면, 조금 더 수정이 필요한 부분이 보입니다. <br/>\n",
        "예를 들어 'batteries' 와 'battery'를 보면 이 둘은 어근(root)이 같은 단어입니다. <br/>\n",
        "이런 단어는 **어간 추출(stemming)**이나 **표제어 추출(lemmatization)**을 통해 정규화(Normalization) 해줍니다."
      ]
    },
    {
      "cell_type": "markdown",
      "metadata": {
        "id": "XqU95r7DRSE-"
      },
      "source": [
        "- **<font color=\"ff6f61\">어간 추출(Stemming)</font>**"
      ]
    },
    {
      "cell_type": "markdown",
      "metadata": {
        "id": "7JHSPvxclVhO"
      },
      "source": [
        "> - **어간(stem)이란?**<br/>\n",
        "단어의 의미가 포함된 부분으로 접사등이 제거된 형태<br/>\n",
        " **어근이나 단어의 원형과 같지 않을 수 있습니다.**<br/>\n",
        "예를 들어 argue, argued, arguing, argus의 어간은 단어들의 뒷 부분이 제거된 argu가 어간입니다.\n",
        "\n",
        "어간 추출은 `'ing', 'ed', 's'` 등과 같은 부분을 제거하게 됩니다. "
      ]
    },
    {
      "cell_type": "markdown",
      "metadata": {
        "id": "VM0E9pTgllnO"
      },
      "source": [
        "> ❗️ ***Stemming 방법에는 Porter, Snowball, Dawson 등의 알고리즘이 있습니다.<br/>\n",
        "각 알고리즘에 대한 더 자세한 정보는 아래의 링크를 참고해주세요.<br/>\n",
        "▶️ [A Comparative Study of Stemming Algorithms](https://www.semanticscholar.org/paper/A-Comparative-Study-of-Stemming-Algorithms-Ms-.-Jivani/1c0c0fa35d4ff8a2f925eb955e48d655494bd167?p2df)***\n",
        "\n",
        "`Spacy` 는 Stemming을 제공하지 않고 Lemmatization만 제공합니다.<br/>\n",
        "그렇기 때문에 이번에는 `nltk` 를 사용해 Stemming을 진행해 보겠습니다."
      ]
    },
    {
      "cell_type": "code",
      "metadata": {
        "colab": {
          "base_uri": "https://localhost:8080/"
        },
        "id": "myISNBX7EISC",
        "outputId": "00d62d2a-1896-4ff6-b22a-5b07e5390f98"
      },
      "source": [
        "from nltk.stem import PorterStemmer\n",
        "\n",
        "ps = PorterStemmer()\n",
        "\n",
        "words = [\"wolf\", \"wolves\"]\n",
        "\n",
        "for word in words:\n",
        "    print(ps.stem(word))"
      ],
      "execution_count": null,
      "outputs": [
        {
          "output_type": "stream",
          "text": [
            "wolf\n",
            "wolv\n"
          ],
          "name": "stdout"
        }
      ]
    },
    {
      "cell_type": "markdown",
      "metadata": {
        "id": "90DVb734EK5R"
      },
      "source": [
        "아마존 리뷰데이터를 Stemming 해봅시다."
      ]
    },
    {
      "cell_type": "code",
      "metadata": {
        "id": "t9qHUs25EQSo"
      },
      "source": [
        "tokens = []\n",
        "for doc in df['tokens']:\n",
        "    doc_tokens = []\n",
        "    for token in doc:\n",
        "        doc_tokens.append(ps.stem(token))\n",
        "    tokens.append(doc_tokens)\n",
        "\n",
        "df['stems'] = tokens"
      ],
      "execution_count": null,
      "outputs": []
    },
    {
      "cell_type": "code",
      "metadata": {
        "colab": {
          "base_uri": "https://localhost:8080/",
          "height": 248
        },
        "id": "lYgT7wTHESPT",
        "outputId": "b412d5c8-4b43-4ea6-bc33-6eb627fcd1a3"
      },
      "source": [
        "wc = word_count(df['stems'])\n",
        "\n",
        "wc_top20 = wc[wc['rank'] <= 20]\n",
        "\n",
        "squarify.plot(sizes=wc_top20['percent'], label=wc_top20['word'], alpha=0.6 )\n",
        "plt.axis('off')\n",
        "plt.show()"
      ],
      "execution_count": null,
      "outputs": [
        {
          "output_type": "display_data",
          "data": {
            "image/png": "[encoded data removed]",
            "text/plain": [
              "<Figure size 432x288 with 1 Axes>"
            ]
          },
          "metadata": {
            "tags": [],
            "needs_background": "light"
          }
        }
      ]
    },
    {
      "cell_type": "markdown",
      "metadata": {
        "id": "aTEvICUHEZR4"
      },
      "source": [
        "Stemming에서 해본 Porter 알고리즘은 단지 단어의 끝 부분을 자르는 역할을 합니다.<br/>\n",
        "그래서 사전에도 없는 단어가 많이 나오게 됩니다.<br/>\n",
        "조금 이상하긴 해도 현실적으로 사용하기에 Stemming 은 성능이 나쁘지 않습니다.<br/>\n",
        "알고리즘이 간단하여 속도가 빠르기 때문에 속도가 중요한 검색 분야에서 많이 사용하고 있습니다."
      ]
    },
    {
      "cell_type": "markdown",
      "metadata": {
        "id": "r2VybUBVlv_T"
      },
      "source": [
        "- **<font color=\"ff6f61\">Lemmatization(표제어 추출)</font>**"
      ]
    },
    {
      "cell_type": "markdown",
      "metadata": {
        "id": "UEdBM-Y0lzgm"
      },
      "source": [
        "표제어 추출(Lemmatization)은 어간추출보다 체계적입니다.<br/>\n",
        "단어들은 기본 사전형 단어 형태인 Lemma(표제어)로 변환됩니다.\n",
        "\n",
        "명사의 복수형은 단수형으로, 동사는 모두 타동사로 변환됩니다.<br/>\n",
        "이렇게 단어들로부터 표제어를 찾아가는 과정은 Stemming **보다 많은 연산이 필요**합니다.<br/>\n",
        "그럼 Spacy를 통해 Lemmatization을 진행해 보겠습니다."
      ]
    },
    {
      "cell_type": "code",
      "metadata": {
        "colab": {
          "base_uri": "https://localhost:8080/"
        },
        "id": "U21iGtOOEWQR",
        "outputId": "6f03d613-6f8c-4e3d-9c8d-4f108afa6cf4"
      },
      "source": [
        "lem = \"The social wolf. Wolves are complex.\"\n",
        "\n",
        "nlp = spacy.load(\"en_core_web_sm\")\n",
        "\n",
        "doc = nlp(lem)\n",
        "\n",
        "# wolf, wolve가 어떤 Lemma로 추출되는지 확인해 보세요\n",
        "for token in doc:\n",
        "    print(token.text, \"  \", token.lemma_)"
      ],
      "execution_count": null,
      "outputs": [
        {
          "output_type": "stream",
          "text": [
            "The    the\n",
            "social    social\n",
            "wolf    wolf\n",
            ".    .\n",
            "Wolves    wolf\n",
            "are    be\n",
            "complex    complex\n",
            ".    .\n"
          ],
          "name": "stdout"
        }
      ]
    },
    {
      "cell_type": "markdown",
      "metadata": {
        "id": "uGRjh-2ME7wz"
      },
      "source": [
        "Stemming 에서는 `wolf -> wolf`, `wolves -> wolv` 로 변형되었지만, <br/> Lemmatization에서는 `wolf -> wolf`, `wolves -> wolf` 로 변형되는 것을 볼 수 있습니다."
      ]
    },
    {
      "cell_type": "code",
      "metadata": {
        "id": "efrablEOFk-N"
      },
      "source": [
        "# Lemmatization 과정을 함수로 만들어 봅시다\n",
        "def get_lemmas(text):\n",
        "\n",
        "    lemmas = []\n",
        "    \n",
        "    doc = nlp(text)\n",
        "\n",
        "    for token in doc: \n",
        "        if ((token.is_stop == False) and (token.is_punct == False)) and (token.pos_ != 'PRON'):\n",
        "            lemmas.append(token.lemma_)\n",
        "    \n",
        "    return lemmas"
      ],
      "execution_count": null,
      "outputs": []
    },
    {
      "cell_type": "markdown",
      "metadata": {
        "id": "D9HAkzyeFyTm"
      },
      "source": [
        "위 함수를 적용하여 텍스트 데이터 정규화를 진행합니다. <br/>\n",
        "(시간이 꽤 걸리니 주의!)"
      ]
    },
    {
      "cell_type": "code",
      "metadata": {
        "colab": {
          "base_uri": "https://localhost:8080/"
        },
        "id": "tUOD5zuLFnUc",
        "outputId": "3674817d-f471-4fa7-ace2-14140178bfaf"
      },
      "source": [
        "df['lemmas'] = df['reviews.text'].apply(get_lemmas)\n",
        "df['lemmas'].head()"
      ],
      "execution_count": null,
      "outputs": [
        {
          "output_type": "execute_result",
          "data": {
            "text/plain": [
              "0    [get, cheap, price, black, friday, fire, great...\n",
              "1    [purchase, 7, son, 1.5, year, old, break, wait...\n",
              "2    [great, price, great, battery, buy, anytime, n...\n",
              "3              [great, tablet, kid, boy, love, tablet]\n",
              "4    [last, little, use, battery, lead, lamp, 2, 4,...\n",
              "Name: lemmas, dtype: object"
            ]
          },
          "metadata": {
            "tags": []
          },
          "execution_count": 50
        }
      ]
    },
    {
      "cell_type": "code",
      "metadata": {
        "colab": {
          "base_uri": "https://localhost:8080/",
          "height": 248
        },
        "id": "da08RscTFqvR",
        "outputId": "66053095-4479-4980-dcec-6fea77f3f0b3"
      },
      "source": [
        "wc = word_count(df['lemmas'])\n",
        "wc_top20 = wc[wc['rank'] <= 20]\n",
        "\n",
        "squarify.plot(sizes=wc_top20['percent'], label=wc_top20['word'], alpha=0.6 )\n",
        "plt.axis('off')\n",
        "plt.show()"
      ],
      "execution_count": null,
      "outputs": [
        {
          "output_type": "display_data",
          "data": {
            "image/png": "[encoded data removed]",
            "text/plain": [
              "<Figure size 432x288 with 1 Axes>"
            ]
          },
          "metadata": {
            "tags": [],
            "needs_background": "light"
          }
        }
      ]
    },
    {
      "cell_type": "markdown",
      "metadata": {
        "id": "rZim9Qj2Ftv9"
      },
      "source": [
        "## 3. 등장 횟수 기반의 단어 표현 (Count-based Representation)"
      ]
    },
    {
      "cell_type": "markdown",
      "metadata": {
        "id": "BHOq0oV-MhZR"
      },
      "source": [
        "### 1) 이제 텍스트 문서를 벡터로 표현해 봅시다.\n",
        "\n"
      ]
    },
    {
      "cell_type": "markdown",
      "metadata": {
        "id": "Ssy_Xaf5l7oI"
      },
      "source": [
        "머신러닝 모델에서 텍스트를 분석하기 위해서는 **벡터화(Vectorization)**하는 과정이 필요합니다.<br/>\n",
        "벡터화란 텍스트를 **컴퓨터가 계산할 수 있도록 수치정보로 변환하는 과정**입니다.<br/>\n",
        "\n",
        "등장 횟수 기반의 단어 표현(Count-based Representation)은 **단어가 특정 문서(혹은 문장)에 들어있는 횟수**를 바탕으로 해당 문서를 벡터화합니다.<br/>\n",
        "대표적인 방법으로는 Bag-of-Words(TF, TF-IDF) 방식이 있습니다.<br/>\n",
        "\n",
        "- **<font color=\"ff6f61\">문서-단어 행렬(Document-Term Matrix, DTM)</font>**\n",
        "\n",
        "벡터화 된 문서는 문서-단어 행렬의 형태로 나타내어집니다.<br/>\n",
        "문서-단어 행렬이란 각 행에는 문서((Document)가, 각 열에는 단어(Term)가 있는 행렬입니다.<br/>\n",
        "대략적인 형태는 아래와 같이 생겼습니다.\n",
        "\n",
        "|        | Word_1 | Word_2 | Word_3 | Word_4 | Word_5 | Word_6 |\n",
        "|--------|--------|--------|--------|--------|--------|--------|\n",
        "| **Docu_1** | 1      | 2      | 0      | 1      | 0      | 0      |\n",
        "| **Docu_2** | 0      | 0      | 0      | 1      | 1      | 1      |\n",
        "| **Docu_3** | 1      | 0      | 0      | 1      | 0      | 1      |"
      ]
    },
    {
      "cell_type": "markdown",
      "metadata": {
        "id": "aM0b88r_PLLw"
      },
      "source": [
        "### 2) Bag-of-Words(BoW) : TF(Term Frequency)\n",
        "\n"
      ]
    },
    {
      "cell_type": "markdown",
      "metadata": {
        "id": "yu0K_SnAnmpH"
      },
      "source": [
        "**<font color=\"ff6f61\">Bag-of-Words(BoW)</font>**는 가장 단순한 벡터화 방법 중 하나입니다.<br/>\n",
        "문서(혹은 문장)에서 문법이나 단어의 순서 등을 무시하고 단순히 단어들의 빈도만 고려하여 벡터화니다."
      ]
    },
    {
      "cell_type": "markdown",
      "metadata": {
        "id": "NVwedl8rv-22"
      },
      "source": [
        "<img src=\"https://dudeperf3ct.github.io/images/lstm_and_gru/bag-of-words.png\" alt=\"nlp_diagram\" width=\"500\" />\n"
      ]
    },
    {
      "cell_type": "markdown",
      "metadata": {
        "id": "jZFpRWW_v_P6"
      },
      "source": [
        "위와 같이 단어를 넣어놓은 가방(Bag of Words)를 두고 왓츠 인 마이백(What's in my Bag?)을 하면서<br/>\n",
        "각 문장에 어떤 단어가 몇 번 나오는지를 세어서 해당 값을 문장의 벡터로 사용합니다.\n",
        "\n"
      ]
    },
    {
      "cell_type": "markdown",
      "metadata": {
        "id": "XBJpZWeLwEvX"
      },
      "source": [
        "> **TMI : 고래밥 Bag-of-Words**\n",
        "\n",
        "<img src=\"https://i.imgur.com/1tYXrRv.png\" alt=\"whale1\" width=\"500\" />\n",
        "<img src=\"https://i.imgur.com/xfXtNAB.png\" alt=\"whale2\" width=\"500\" />"
      ]
    },
    {
      "cell_type": "markdown",
      "metadata": {
        "id": "vuuf8CkawLMz"
      },
      "source": [
        "사이킷런(Scikit-learn, `Sklearn`) 의 `CounterVectorizer` 를 사용하면 Bag-of-Words 방식의 벡터화를 사용할 수 있습니다."
      ]
    },
    {
      "cell_type": "markdown",
      "metadata": {
        "id": "bbyNTrikbouV"
      },
      "source": [
        "### 3) CountVectorizer 적용하기"
      ]
    },
    {
      "cell_type": "markdown",
      "metadata": {
        "id": "VIPGWu4lfJlJ"
      },
      "source": [
        "- **Spacy 불러오기**"
      ]
    },
    {
      "cell_type": "code",
      "metadata": {
        "id": "_u9R5lSCgkFp"
      },
      "source": [
        "# 모듈에서 사용할 라이브러리와 spacy 모델을 불러옵니다.\n",
        "import pandas as pd\n",
        "import seaborn as sns\n",
        "import matplotlib.pyplot as plt\n",
        "\n",
        "from sklearn.feature_extraction.text import CountVectorizer, TfidfVectorizer\n",
        "from sklearn.metrics.pairwise import cosine_similarity\n",
        "from sklearn.neighbors import NearestNeighbors\n",
        "from sklearn.decomposition import PCA\n",
        "\n",
        "import spacy\n",
        "nlp = spacy.load(\"en_core_web_sm\")"
      ],
      "execution_count": null,
      "outputs": []
    },
    {
      "cell_type": "markdown",
      "metadata": {
        "id": "nW1baQU-DYA0"
      },
      "source": [
        "- **`CounterVectorizer`** 를 사용한 Bag-of-Words 예제\n",
        "\n",
        "간단한 텍스트에 `CounterVectorizer` 를 적용하여 문서-단어 행렬을 만들어봅시다.\n"
      ]
    },
    {
      "cell_type": "code",
      "metadata": {
        "id": "_5J98eLYgMcn"
      },
      "source": [
        "# 예제로 사용할 text를 선언합니다. \n",
        "text = \"\"\"In information retrieval, tf–idf or TFIDF, short for term frequency–inverse document frequency, is a numerical statistic that is intended to reflect how important a word is to a document in a collection or corpus.\n",
        "It is often used as a weighting factor in searches of information retrieval, text mining, and user modeling.\n",
        "The tf–idf value increases proportionally to the number of times a word appears in the document and is offset by the number of documents in the corpus that contain the word,\n",
        "which helps to adjust for the fact that some words appear more frequently in general.\n",
        "tf–idf is one of the most popular term-weighting schemes today.\n",
        "A survey conducted in 2015 showed that 83% of text-based recommender systems in digital libraries use tf–idf.\"\"\""
      ],
      "execution_count": null,
      "outputs": []
    },
    {
      "cell_type": "code",
      "metadata": {
        "id": "GUCB1NHQgOQk",
        "colab": {
          "base_uri": "https://localhost:8080/"
        },
        "outputId": "1729128f-5468-4ae5-d1b9-9acf70e72d98"
      },
      "source": [
        "# spacy의 언어모델을 이용하여 token화된 단어들을 확인합니다. \n",
        "doc = nlp(text)\n",
        "print([token.lemma_ for token in doc if (token.is_stop != True) and (token.is_punct != True)])"
      ],
      "execution_count": null,
      "outputs": [
        {
          "output_type": "stream",
          "text": [
            "['information', 'retrieval', 'tf', 'idf', 'TFIDF', 'short', 'term', 'frequency', 'inverse', 'document', 'frequency', 'numerical', 'statistic', 'intend', 'reflect', 'important', 'word', 'document', 'collection', 'corpus', '\\n', 'weight', 'factor', 'search', 'information', 'retrieval', 'text', 'mining', 'user', 'modeling', '\\n', 'tf', 'idf', 'value', 'increase', 'proportionally', 'number', 'time', 'word', 'appear', 'document', 'offset', 'number', 'document', 'corpus', 'contain', 'word', '\\n', 'help', 'adjust', 'fact', 'word', 'appear', 'frequently', 'general', '\\n', 'tf', 'idf', 'popular', 'term', 'weight', 'scheme', 'today', '\\n', 'survey', 'conduct', '2015', 'show', '83', 'text', 'base', 'recommender', 'system', 'digital', 'library', 'use', 'tf', 'idf']\n"
          ],
          "name": "stdout"
        }
      ]
    },
    {
      "cell_type": "code",
      "metadata": {
        "id": "StlHOylyg_Ia",
        "colab": {
          "base_uri": "https://localhost:8080/"
        },
        "outputId": "e6bbc9fd-9796-42e4-f37a-a41c119acd71"
      },
      "source": [
        "from sklearn.feature_extraction.text import CountVectorizer\n",
        "\n",
        "# 문장으로 이루어진 리스트를 저장합니다.\n",
        "sentences_lst = text.split('\\n')\n",
        "\n",
        "# CountVectorizer를 변수에 저장합니다.\n",
        "vect = CountVectorizer()\n",
        "\n",
        "# 어휘 사전을 생성합니다.\n",
        "vect.fit(sentences_lst)"
      ],
      "execution_count": null,
      "outputs": [
        {
          "output_type": "execute_result",
          "data": {
            "text/plain": [
              "CountVectorizer(analyzer='word', binary=False, decode_error='strict',\n",
              "                dtype=<class 'numpy.int64'>, encoding='utf-8', input='content',\n",
              "                lowercase=True, max_df=1.0, max_features=None, min_df=1,\n",
              "                ngram_range=(1, 1), preprocessor=None, stop_words=None,\n",
              "                strip_accents=None, token_pattern='(?u)\\\\b\\\\w\\\\w+\\\\b',\n",
              "                tokenizer=None, vocabulary=None)"
            ]
          },
          "metadata": {
            "tags": []
          },
          "execution_count": 112
        }
      ]
    },
    {
      "cell_type": "code",
      "metadata": {
        "id": "zCytWrIjzmNT"
      },
      "source": [
        "# text를 DTM(document-term matrix)으로 변환(transform)\n",
        "dtm_count = vect.transform(sentences_lst)"
      ],
      "execution_count": null,
      "outputs": []
    },
    {
      "cell_type": "markdown",
      "metadata": {
        "id": "ErfIc00Ph9Es"
      },
      "source": [
        "`.vocabulary_` 메서드를 활용하면 vocabulary(모든 토큰)와 맵핑된 인덱스 정보를 확인할 수 있습니다."
      ]
    },
    {
      "cell_type": "code",
      "metadata": {
        "id": "jWkHNymFiETy",
        "colab": {
          "base_uri": "https://localhost:8080/"
        },
        "outputId": "b216a63b-9526-40e6-eeee-92f6edfbf00a"
      },
      "source": [
        "vect.vocabulary_"
      ],
      "execution_count": null,
      "outputs": [
        {
          "output_type": "execute_result",
          "data": {
            "text/plain": [
              "{'2015': 0,\n",
              " '83': 1,\n",
              " 'adjust': 2,\n",
              " 'and': 3,\n",
              " 'appear': 4,\n",
              " 'appears': 5,\n",
              " 'as': 6,\n",
              " 'based': 7,\n",
              " 'by': 8,\n",
              " 'collection': 9,\n",
              " 'conducted': 10,\n",
              " 'contain': 11,\n",
              " 'corpus': 12,\n",
              " 'digital': 13,\n",
              " 'document': 14,\n",
              " 'documents': 15,\n",
              " 'fact': 16,\n",
              " 'factor': 17,\n",
              " 'for': 18,\n",
              " 'frequency': 19,\n",
              " 'frequently': 20,\n",
              " 'general': 21,\n",
              " 'helps': 22,\n",
              " 'how': 23,\n",
              " 'idf': 24,\n",
              " 'important': 25,\n",
              " 'in': 26,\n",
              " 'increases': 27,\n",
              " 'information': 28,\n",
              " 'intended': 29,\n",
              " 'inverse': 30,\n",
              " 'is': 31,\n",
              " 'it': 32,\n",
              " 'libraries': 33,\n",
              " 'mining': 34,\n",
              " 'modeling': 35,\n",
              " 'more': 36,\n",
              " 'most': 37,\n",
              " 'number': 38,\n",
              " 'numerical': 39,\n",
              " 'of': 40,\n",
              " 'offset': 41,\n",
              " 'often': 42,\n",
              " 'one': 43,\n",
              " 'or': 44,\n",
              " 'popular': 45,\n",
              " 'proportionally': 46,\n",
              " 'recommender': 47,\n",
              " 'reflect': 48,\n",
              " 'retrieval': 49,\n",
              " 'schemes': 50,\n",
              " 'searches': 51,\n",
              " 'short': 52,\n",
              " 'showed': 53,\n",
              " 'some': 54,\n",
              " 'statistic': 55,\n",
              " 'survey': 56,\n",
              " 'systems': 57,\n",
              " 'term': 58,\n",
              " 'text': 59,\n",
              " 'tf': 60,\n",
              " 'tfidf': 61,\n",
              " 'that': 62,\n",
              " 'the': 63,\n",
              " 'times': 64,\n",
              " 'to': 65,\n",
              " 'today': 66,\n",
              " 'use': 67,\n",
              " 'used': 68,\n",
              " 'user': 69,\n",
              " 'value': 70,\n",
              " 'weighting': 71,\n",
              " 'which': 72,\n",
              " 'word': 73,\n",
              " 'words': 74}"
            ]
          },
          "metadata": {
            "tags": []
          },
          "execution_count": 114
        }
      ]
    },
    {
      "cell_type": "code",
      "metadata": {
        "id": "3q4rZJ_viIIV",
        "colab": {
          "base_uri": "https://localhost:8080/"
        },
        "outputId": "a348e5b2-3f47-46d4-f8f8-3d9af209ae96"
      },
      "source": [
        "dtm_count.shape"
      ],
      "execution_count": null,
      "outputs": [
        {
          "output_type": "execute_result",
          "data": {
            "text/plain": [
              "(6, 75)"
            ]
          },
          "metadata": {
            "tags": []
          },
          "execution_count": 115
        }
      ]
    },
    {
      "cell_type": "markdown",
      "metadata": {
        "id": "kMOmskLuiOa_"
      },
      "source": [
        "추출된 토큰을 나열해 봅니다."
      ]
    },
    {
      "cell_type": "code",
      "metadata": {
        "id": "1jZILpQNiTFK",
        "colab": {
          "base_uri": "https://localhost:8080/"
        },
        "outputId": "2c4f74b1-ba18-46a5-b6de-4f50067d73a3"
      },
      "source": [
        "print(f\"\"\"\n",
        "features : {vect.get_feature_names()}\n",
        "# of features : {len(vect.get_feature_names())}\n",
        "\"\"\")"
      ],
      "execution_count": null,
      "outputs": [
        {
          "output_type": "stream",
          "text": [
            "\n",
            "features : ['2015', '83', 'adjust', 'and', 'appear', 'appears', 'as', 'based', 'by', 'collection', 'conducted', 'contain', 'corpus', 'digital', 'document', 'documents', 'fact', 'factor', 'for', 'frequency', 'frequently', 'general', 'helps', 'how', 'idf', 'important', 'in', 'increases', 'information', 'intended', 'inverse', 'is', 'it', 'libraries', 'mining', 'modeling', 'more', 'most', 'number', 'numerical', 'of', 'offset', 'often', 'one', 'or', 'popular', 'proportionally', 'recommender', 'reflect', 'retrieval', 'schemes', 'searches', 'short', 'showed', 'some', 'statistic', 'survey', 'systems', 'term', 'text', 'tf', 'tfidf', 'that', 'the', 'times', 'to', 'today', 'use', 'used', 'user', 'value', 'weighting', 'which', 'word', 'words']\n",
            "# of features : 75\n",
            "\n"
          ],
          "name": "stdout"
        }
      ]
    },
    {
      "cell_type": "code",
      "metadata": {
        "id": "eRVICxawicTg",
        "colab": {
          "base_uri": "https://localhost:8080/"
        },
        "outputId": "d63039a4-f4fa-4faa-ce95-3c4aaa70abc8"
      },
      "source": [
        "# CountVectorizer 로 제작한 dtm을 분석해 봅시다.\n",
        "print(type(dtm_count))\n",
        "print(dtm_count)"
      ],
      "execution_count": null,
      "outputs": [
        {
          "output_type": "stream",
          "text": [
            "<class 'scipy.sparse.csr.csr_matrix'>\n",
            "  (0, 9)\t1\n",
            "  (0, 12)\t1\n",
            "  (0, 14)\t2\n",
            "  (0, 18)\t1\n",
            "  (0, 19)\t2\n",
            "  (0, 23)\t1\n",
            "  (0, 24)\t1\n",
            "  (0, 25)\t1\n",
            "  (0, 26)\t2\n",
            "  (0, 28)\t1\n",
            "  (0, 29)\t1\n",
            "  (0, 30)\t1\n",
            "  (0, 31)\t3\n",
            "  (0, 39)\t1\n",
            "  (0, 44)\t2\n",
            "  (0, 48)\t1\n",
            "  (0, 49)\t1\n",
            "  (0, 52)\t1\n",
            "  (0, 55)\t1\n",
            "  (0, 58)\t1\n",
            "  (0, 60)\t1\n",
            "  (0, 61)\t1\n",
            "  (0, 62)\t1\n",
            "  (0, 65)\t2\n",
            "  (0, 73)\t1\n",
            "  :\t:\n",
            "  (4, 43)\t1\n",
            "  (4, 45)\t1\n",
            "  (4, 50)\t1\n",
            "  (4, 58)\t1\n",
            "  (4, 60)\t1\n",
            "  (4, 63)\t1\n",
            "  (4, 66)\t1\n",
            "  (4, 71)\t1\n",
            "  (5, 0)\t1\n",
            "  (5, 1)\t1\n",
            "  (5, 7)\t1\n",
            "  (5, 10)\t1\n",
            "  (5, 13)\t1\n",
            "  (5, 24)\t1\n",
            "  (5, 26)\t2\n",
            "  (5, 33)\t1\n",
            "  (5, 40)\t1\n",
            "  (5, 47)\t1\n",
            "  (5, 53)\t1\n",
            "  (5, 56)\t1\n",
            "  (5, 57)\t1\n",
            "  (5, 59)\t1\n",
            "  (5, 60)\t1\n",
            "  (5, 62)\t1\n",
            "  (5, 67)\t1\n"
          ],
          "name": "stdout"
        }
      ]
    },
    {
      "cell_type": "markdown",
      "metadata": {
        "id": "K12iKEUR1OiY"
      },
      "source": [
        "`dtm_count` 의 타입을 보면 CSR(Compressed Sparse Row matrix) 로 나오게 됩니다. <br/>\n",
        "해당 타입은 행렬(matrix)에서 0을 표현하지 않는 타입 입니다.\n",
        "\n",
        "`dtm_count` 를 출력한 결과에서도 `(row, column)    count` 형태로 출력되는 것을 확인할 수 있습니다."
      ]
    },
    {
      "cell_type": "code",
      "metadata": {
        "id": "MfoHskvJifd1",
        "colab": {
          "base_uri": "https://localhost:8080/"
        },
        "outputId": "8c8a2f02-2c54-43c6-99c8-30385419ac98"
      },
      "source": [
        "# .todense() 메서드를 사용하여 numpy.matrix 타입으로 돌려줍니다.\n",
        "\n",
        "print(type(dtm_count))\n",
        "print(type(dtm_count.todense()))\n",
        "dtm_count.todense()"
      ],
      "execution_count": null,
      "outputs": [
        {
          "output_type": "stream",
          "text": [
            "<class 'scipy.sparse.csr.csr_matrix'>\n",
            "<class 'numpy.matrix'>\n"
          ],
          "name": "stdout"
        },
        {
          "output_type": "execute_result",
          "data": {
            "text/plain": [
              "matrix([[0, 0, 0, 0, 0, 0, 0, 0, 0, 1, 0, 0, 1, 0, 2, 0, 0, 0, 1, 2, 0,\n",
              "         0, 0, 1, 1, 1, 2, 0, 1, 1, 1, 3, 0, 0, 0, 0, 0, 0, 0, 1, 0, 0,\n",
              "         0, 0, 2, 0, 0, 0, 1, 1, 0, 0, 1, 0, 0, 1, 0, 0, 1, 0, 1, 1, 1,\n",
              "         0, 0, 2, 0, 0, 0, 0, 0, 0, 0, 1, 0],\n",
              "        [0, 0, 0, 1, 0, 0, 1, 0, 0, 0, 0, 0, 0, 0, 0, 0, 0, 1, 0, 0, 0,\n",
              "         0, 0, 0, 0, 0, 1, 0, 1, 0, 0, 1, 1, 0, 1, 1, 0, 0, 0, 0, 1, 0,\n",
              "         1, 0, 0, 0, 0, 0, 0, 1, 0, 1, 0, 0, 0, 0, 0, 0, 0, 1, 0, 0, 0,\n",
              "         0, 0, 0, 0, 0, 1, 1, 0, 1, 0, 0, 0],\n",
              "        [0, 0, 0, 1, 0, 1, 0, 0, 1, 0, 0, 1, 1, 0, 1, 1, 0, 0, 0, 0, 0,\n",
              "         0, 0, 0, 1, 0, 2, 1, 0, 0, 0, 1, 0, 0, 0, 0, 0, 0, 2, 0, 2, 1,\n",
              "         0, 0, 0, 0, 1, 0, 0, 0, 0, 0, 0, 0, 0, 0, 0, 0, 0, 0, 1, 0, 1,\n",
              "         6, 1, 1, 0, 0, 0, 0, 1, 0, 0, 2, 0],\n",
              "        [0, 0, 1, 0, 1, 0, 0, 0, 0, 0, 0, 0, 0, 0, 0, 0, 1, 0, 1, 0, 1,\n",
              "         1, 1, 0, 0, 0, 1, 0, 0, 0, 0, 0, 0, 0, 0, 0, 1, 0, 0, 0, 0, 0,\n",
              "         0, 0, 0, 0, 0, 0, 0, 0, 0, 0, 0, 0, 1, 0, 0, 0, 0, 0, 0, 0, 1,\n",
              "         1, 0, 1, 0, 0, 0, 0, 0, 0, 1, 0, 1],\n",
              "        [0, 0, 0, 0, 0, 0, 0, 0, 0, 0, 0, 0, 0, 0, 0, 0, 0, 0, 0, 0, 0,\n",
              "         0, 0, 0, 1, 0, 0, 0, 0, 0, 0, 1, 0, 0, 0, 0, 0, 1, 0, 0, 1, 0,\n",
              "         0, 1, 0, 1, 0, 0, 0, 0, 1, 0, 0, 0, 0, 0, 0, 0, 1, 0, 1, 0, 0,\n",
              "         1, 0, 0, 1, 0, 0, 0, 0, 1, 0, 0, 0],\n",
              "        [1, 1, 0, 0, 0, 0, 0, 1, 0, 0, 1, 0, 0, 1, 0, 0, 0, 0, 0, 0, 0,\n",
              "         0, 0, 0, 1, 0, 2, 0, 0, 0, 0, 0, 0, 1, 0, 0, 0, 0, 0, 0, 1, 0,\n",
              "         0, 0, 0, 0, 0, 1, 0, 0, 0, 0, 0, 1, 0, 0, 1, 1, 0, 1, 1, 0, 1,\n",
              "         0, 0, 0, 0, 1, 0, 0, 0, 0, 0, 0, 0]])"
            ]
          },
          "metadata": {
            "tags": []
          },
          "execution_count": 118
        }
      ]
    },
    {
      "cell_type": "code",
      "metadata": {
        "id": "wE51W8OliiVs",
        "colab": {
          "base_uri": "https://localhost:8080/",
          "height": 274
        },
        "outputId": "979d29d6-6544-4e09-b9d2-45de2d71c866"
      },
      "source": [
        "# DataFrame으로 변환한 후에 결과값을 확인해봅니다.\n",
        "dtm_count = pd.DataFrame(dtm_count.todense(), columns=vect.get_feature_names())\n",
        "print(type(dtm_count))\n",
        "\n",
        "dtm_count"
      ],
      "execution_count": null,
      "outputs": [
        {
          "output_type": "stream",
          "text": [
            "<class 'pandas.core.frame.DataFrame'>\n"
          ],
          "name": "stdout"
        },
        {
          "output_type": "execute_result",
          "data": {
            "text/html": [
              "<div>\n",
              "<style scoped>\n",
              "    .dataframe tbody tr th:only-of-type {\n",
              "        vertical-align: middle;\n",
              "    }\n",
              "\n",
              "    .dataframe tbody tr th {\n",
              "        vertical-align: top;\n",
              "    }\n",
              "\n",
              "    .dataframe thead th {\n",
              "        text-align: right;\n",
              "    }\n",
              "</style>\n",
              "<table border=\"1\" class=\"dataframe\">\n",
              "  <thead>\n",
              "    <tr style=\"text-align: right;\">\n",
              "      <th></th>\n",
              "      <th>2015</th>\n",
              "      <th>83</th>\n",
              "      <th>adjust</th>\n",
              "      <th>and</th>\n",
              "      <th>appear</th>\n",
              "      <th>appears</th>\n",
              "      <th>as</th>\n",
              "      <th>based</th>\n",
              "      <th>by</th>\n",
              "      <th>collection</th>\n",
              "      <th>conducted</th>\n",
              "      <th>contain</th>\n",
              "      <th>corpus</th>\n",
              "      <th>digital</th>\n",
              "      <th>document</th>\n",
              "      <th>documents</th>\n",
              "      <th>fact</th>\n",
              "      <th>factor</th>\n",
              "      <th>for</th>\n",
              "      <th>frequency</th>\n",
              "      <th>frequently</th>\n",
              "      <th>general</th>\n",
              "      <th>helps</th>\n",
              "      <th>how</th>\n",
              "      <th>idf</th>\n",
              "      <th>important</th>\n",
              "      <th>in</th>\n",
              "      <th>increases</th>\n",
              "      <th>information</th>\n",
              "      <th>intended</th>\n",
              "      <th>inverse</th>\n",
              "      <th>is</th>\n",
              "      <th>it</th>\n",
              "      <th>libraries</th>\n",
              "      <th>mining</th>\n",
              "      <th>modeling</th>\n",
              "      <th>more</th>\n",
              "      <th>most</th>\n",
              "      <th>number</th>\n",
              "      <th>numerical</th>\n",
              "      <th>of</th>\n",
              "      <th>offset</th>\n",
              "      <th>often</th>\n",
              "      <th>one</th>\n",
              "      <th>or</th>\n",
              "      <th>popular</th>\n",
              "      <th>proportionally</th>\n",
              "      <th>recommender</th>\n",
              "      <th>reflect</th>\n",
              "      <th>retrieval</th>\n",
              "      <th>schemes</th>\n",
              "      <th>searches</th>\n",
              "      <th>short</th>\n",
              "      <th>showed</th>\n",
              "      <th>some</th>\n",
              "      <th>statistic</th>\n",
              "      <th>survey</th>\n",
              "      <th>systems</th>\n",
              "      <th>term</th>\n",
              "      <th>text</th>\n",
              "      <th>tf</th>\n",
              "      <th>tfidf</th>\n",
              "      <th>that</th>\n",
              "      <th>the</th>\n",
              "      <th>times</th>\n",
              "      <th>to</th>\n",
              "      <th>today</th>\n",
              "      <th>use</th>\n",
              "      <th>used</th>\n",
              "      <th>user</th>\n",
              "      <th>value</th>\n",
              "      <th>weighting</th>\n",
              "      <th>which</th>\n",
              "      <th>word</th>\n",
              "      <th>words</th>\n",
              "    </tr>\n",
              "  </thead>\n",
              "  <tbody>\n",
              "    <tr>\n",
              "      <th>0</th>\n",
              "      <td>0</td>\n",
              "      <td>0</td>\n",
              "      <td>0</td>\n",
              "      <td>0</td>\n",
              "      <td>0</td>\n",
              "      <td>0</td>\n",
              "      <td>0</td>\n",
              "      <td>0</td>\n",
              "      <td>0</td>\n",
              "      <td>1</td>\n",
              "      <td>0</td>\n",
              "      <td>0</td>\n",
              "      <td>1</td>\n",
              "      <td>0</td>\n",
              "      <td>2</td>\n",
              "      <td>0</td>\n",
              "      <td>0</td>\n",
              "      <td>0</td>\n",
              "      <td>1</td>\n",
              "      <td>2</td>\n",
              "      <td>0</td>\n",
              "      <td>0</td>\n",
              "      <td>0</td>\n",
              "      <td>1</td>\n",
              "      <td>1</td>\n",
              "      <td>1</td>\n",
              "      <td>2</td>\n",
              "      <td>0</td>\n",
              "      <td>1</td>\n",
              "      <td>1</td>\n",
              "      <td>1</td>\n",
              "      <td>3</td>\n",
              "      <td>0</td>\n",
              "      <td>0</td>\n",
              "      <td>0</td>\n",
              "      <td>0</td>\n",
              "      <td>0</td>\n",
              "      <td>0</td>\n",
              "      <td>0</td>\n",
              "      <td>1</td>\n",
              "      <td>0</td>\n",
              "      <td>0</td>\n",
              "      <td>0</td>\n",
              "      <td>0</td>\n",
              "      <td>2</td>\n",
              "      <td>0</td>\n",
              "      <td>0</td>\n",
              "      <td>0</td>\n",
              "      <td>1</td>\n",
              "      <td>1</td>\n",
              "      <td>0</td>\n",
              "      <td>0</td>\n",
              "      <td>1</td>\n",
              "      <td>0</td>\n",
              "      <td>0</td>\n",
              "      <td>1</td>\n",
              "      <td>0</td>\n",
              "      <td>0</td>\n",
              "      <td>1</td>\n",
              "      <td>0</td>\n",
              "      <td>1</td>\n",
              "      <td>1</td>\n",
              "      <td>1</td>\n",
              "      <td>0</td>\n",
              "      <td>0</td>\n",
              "      <td>2</td>\n",
              "      <td>0</td>\n",
              "      <td>0</td>\n",
              "      <td>0</td>\n",
              "      <td>0</td>\n",
              "      <td>0</td>\n",
              "      <td>0</td>\n",
              "      <td>0</td>\n",
              "      <td>1</td>\n",
              "      <td>0</td>\n",
              "    </tr>\n",
              "    <tr>\n",
              "      <th>1</th>\n",
              "      <td>0</td>\n",
              "      <td>0</td>\n",
              "      <td>0</td>\n",
              "      <td>1</td>\n",
              "      <td>0</td>\n",
              "      <td>0</td>\n",
              "      <td>1</td>\n",
              "      <td>0</td>\n",
              "      <td>0</td>\n",
              "      <td>0</td>\n",
              "      <td>0</td>\n",
              "      <td>0</td>\n",
              "      <td>0</td>\n",
              "      <td>0</td>\n",
              "      <td>0</td>\n",
              "      <td>0</td>\n",
              "      <td>0</td>\n",
              "      <td>1</td>\n",
              "      <td>0</td>\n",
              "      <td>0</td>\n",
              "      <td>0</td>\n",
              "      <td>0</td>\n",
              "      <td>0</td>\n",
              "      <td>0</td>\n",
              "      <td>0</td>\n",
              "      <td>0</td>\n",
              "      <td>1</td>\n",
              "      <td>0</td>\n",
              "      <td>1</td>\n",
              "      <td>0</td>\n",
              "      <td>0</td>\n",
              "      <td>1</td>\n",
              "      <td>1</td>\n",
              "      <td>0</td>\n",
              "      <td>1</td>\n",
              "      <td>1</td>\n",
              "      <td>0</td>\n",
              "      <td>0</td>\n",
              "      <td>0</td>\n",
              "      <td>0</td>\n",
              "      <td>1</td>\n",
              "      <td>0</td>\n",
              "      <td>1</td>\n",
              "      <td>0</td>\n",
              "      <td>0</td>\n",
              "      <td>0</td>\n",
              "      <td>0</td>\n",
              "      <td>0</td>\n",
              "      <td>0</td>\n",
              "      <td>1</td>\n",
              "      <td>0</td>\n",
              "      <td>1</td>\n",
              "      <td>0</td>\n",
              "      <td>0</td>\n",
              "      <td>0</td>\n",
              "      <td>0</td>\n",
              "      <td>0</td>\n",
              "      <td>0</td>\n",
              "      <td>0</td>\n",
              "      <td>1</td>\n",
              "      <td>0</td>\n",
              "      <td>0</td>\n",
              "      <td>0</td>\n",
              "      <td>0</td>\n",
              "      <td>0</td>\n",
              "      <td>0</td>\n",
              "      <td>0</td>\n",
              "      <td>0</td>\n",
              "      <td>1</td>\n",
              "      <td>1</td>\n",
              "      <td>0</td>\n",
              "      <td>1</td>\n",
              "      <td>0</td>\n",
              "      <td>0</td>\n",
              "      <td>0</td>\n",
              "    </tr>\n",
              "    <tr>\n",
              "      <th>2</th>\n",
              "      <td>0</td>\n",
              "      <td>0</td>\n",
              "      <td>0</td>\n",
              "      <td>1</td>\n",
              "      <td>0</td>\n",
              "      <td>1</td>\n",
              "      <td>0</td>\n",
              "      <td>0</td>\n",
              "      <td>1</td>\n",
              "      <td>0</td>\n",
              "      <td>0</td>\n",
              "      <td>1</td>\n",
              "      <td>1</td>\n",
              "      <td>0</td>\n",
              "      <td>1</td>\n",
              "      <td>1</td>\n",
              "      <td>0</td>\n",
              "      <td>0</td>\n",
              "      <td>0</td>\n",
              "      <td>0</td>\n",
              "      <td>0</td>\n",
              "      <td>0</td>\n",
              "      <td>0</td>\n",
              "      <td>0</td>\n",
              "      <td>1</td>\n",
              "      <td>0</td>\n",
              "      <td>2</td>\n",
              "      <td>1</td>\n",
              "      <td>0</td>\n",
              "      <td>0</td>\n",
              "      <td>0</td>\n",
              "      <td>1</td>\n",
              "      <td>0</td>\n",
              "      <td>0</td>\n",
              "      <td>0</td>\n",
              "      <td>0</td>\n",
              "      <td>0</td>\n",
              "      <td>0</td>\n",
              "      <td>2</td>\n",
              "      <td>0</td>\n",
              "      <td>2</td>\n",
              "      <td>1</td>\n",
              "      <td>0</td>\n",
              "      <td>0</td>\n",
              "      <td>0</td>\n",
              "      <td>0</td>\n",
              "      <td>1</td>\n",
              "      <td>0</td>\n",
              "      <td>0</td>\n",
              "      <td>0</td>\n",
              "      <td>0</td>\n",
              "      <td>0</td>\n",
              "      <td>0</td>\n",
              "      <td>0</td>\n",
              "      <td>0</td>\n",
              "      <td>0</td>\n",
              "      <td>0</td>\n",
              "      <td>0</td>\n",
              "      <td>0</td>\n",
              "      <td>0</td>\n",
              "      <td>1</td>\n",
              "      <td>0</td>\n",
              "      <td>1</td>\n",
              "      <td>6</td>\n",
              "      <td>1</td>\n",
              "      <td>1</td>\n",
              "      <td>0</td>\n",
              "      <td>0</td>\n",
              "      <td>0</td>\n",
              "      <td>0</td>\n",
              "      <td>1</td>\n",
              "      <td>0</td>\n",
              "      <td>0</td>\n",
              "      <td>2</td>\n",
              "      <td>0</td>\n",
              "    </tr>\n",
              "    <tr>\n",
              "      <th>3</th>\n",
              "      <td>0</td>\n",
              "      <td>0</td>\n",
              "      <td>1</td>\n",
              "      <td>0</td>\n",
              "      <td>1</td>\n",
              "      <td>0</td>\n",
              "      <td>0</td>\n",
              "      <td>0</td>\n",
              "      <td>0</td>\n",
              "      <td>0</td>\n",
              "      <td>0</td>\n",
              "      <td>0</td>\n",
              "      <td>0</td>\n",
              "      <td>0</td>\n",
              "      <td>0</td>\n",
              "      <td>0</td>\n",
              "      <td>1</td>\n",
              "      <td>0</td>\n",
              "      <td>1</td>\n",
              "      <td>0</td>\n",
              "      <td>1</td>\n",
              "      <td>1</td>\n",
              "      <td>1</td>\n",
              "      <td>0</td>\n",
              "      <td>0</td>\n",
              "      <td>0</td>\n",
              "      <td>1</td>\n",
              "      <td>0</td>\n",
              "      <td>0</td>\n",
              "      <td>0</td>\n",
              "      <td>0</td>\n",
              "      <td>0</td>\n",
              "      <td>0</td>\n",
              "      <td>0</td>\n",
              "      <td>0</td>\n",
              "      <td>0</td>\n",
              "      <td>1</td>\n",
              "      <td>0</td>\n",
              "      <td>0</td>\n",
              "      <td>0</td>\n",
              "      <td>0</td>\n",
              "      <td>0</td>\n",
              "      <td>0</td>\n",
              "      <td>0</td>\n",
              "      <td>0</td>\n",
              "      <td>0</td>\n",
              "      <td>0</td>\n",
              "      <td>0</td>\n",
              "      <td>0</td>\n",
              "      <td>0</td>\n",
              "      <td>0</td>\n",
              "      <td>0</td>\n",
              "      <td>0</td>\n",
              "      <td>0</td>\n",
              "      <td>1</td>\n",
              "      <td>0</td>\n",
              "      <td>0</td>\n",
              "      <td>0</td>\n",
              "      <td>0</td>\n",
              "      <td>0</td>\n",
              "      <td>0</td>\n",
              "      <td>0</td>\n",
              "      <td>1</td>\n",
              "      <td>1</td>\n",
              "      <td>0</td>\n",
              "      <td>1</td>\n",
              "      <td>0</td>\n",
              "      <td>0</td>\n",
              "      <td>0</td>\n",
              "      <td>0</td>\n",
              "      <td>0</td>\n",
              "      <td>0</td>\n",
              "      <td>1</td>\n",
              "      <td>0</td>\n",
              "      <td>1</td>\n",
              "    </tr>\n",
              "    <tr>\n",
              "      <th>4</th>\n",
              "      <td>0</td>\n",
              "      <td>0</td>\n",
              "      <td>0</td>\n",
              "      <td>0</td>\n",
              "      <td>0</td>\n",
              "      <td>0</td>\n",
              "      <td>0</td>\n",
              "      <td>0</td>\n",
              "      <td>0</td>\n",
              "      <td>0</td>\n",
              "      <td>0</td>\n",
              "      <td>0</td>\n",
              "      <td>0</td>\n",
              "      <td>0</td>\n",
              "      <td>0</td>\n",
              "      <td>0</td>\n",
              "      <td>0</td>\n",
              "      <td>0</td>\n",
              "      <td>0</td>\n",
              "      <td>0</td>\n",
              "      <td>0</td>\n",
              "      <td>0</td>\n",
              "      <td>0</td>\n",
              "      <td>0</td>\n",
              "      <td>1</td>\n",
              "      <td>0</td>\n",
              "      <td>0</td>\n",
              "      <td>0</td>\n",
              "      <td>0</td>\n",
              "      <td>0</td>\n",
              "      <td>0</td>\n",
              "      <td>1</td>\n",
              "      <td>0</td>\n",
              "      <td>0</td>\n",
              "      <td>0</td>\n",
              "      <td>0</td>\n",
              "      <td>0</td>\n",
              "      <td>1</td>\n",
              "      <td>0</td>\n",
              "      <td>0</td>\n",
              "      <td>1</td>\n",
              "      <td>0</td>\n",
              "      <td>0</td>\n",
              "      <td>1</td>\n",
              "      <td>0</td>\n",
              "      <td>1</td>\n",
              "      <td>0</td>\n",
              "      <td>0</td>\n",
              "      <td>0</td>\n",
              "      <td>0</td>\n",
              "      <td>1</td>\n",
              "      <td>0</td>\n",
              "      <td>0</td>\n",
              "      <td>0</td>\n",
              "      <td>0</td>\n",
              "      <td>0</td>\n",
              "      <td>0</td>\n",
              "      <td>0</td>\n",
              "      <td>1</td>\n",
              "      <td>0</td>\n",
              "      <td>1</td>\n",
              "      <td>0</td>\n",
              "      <td>0</td>\n",
              "      <td>1</td>\n",
              "      <td>0</td>\n",
              "      <td>0</td>\n",
              "      <td>1</td>\n",
              "      <td>0</td>\n",
              "      <td>0</td>\n",
              "      <td>0</td>\n",
              "      <td>0</td>\n",
              "      <td>1</td>\n",
              "      <td>0</td>\n",
              "      <td>0</td>\n",
              "      <td>0</td>\n",
              "    </tr>\n",
              "    <tr>\n",
              "      <th>5</th>\n",
              "      <td>1</td>\n",
              "      <td>1</td>\n",
              "      <td>0</td>\n",
              "      <td>0</td>\n",
              "      <td>0</td>\n",
              "      <td>0</td>\n",
              "      <td>0</td>\n",
              "      <td>1</td>\n",
              "      <td>0</td>\n",
              "      <td>0</td>\n",
              "      <td>1</td>\n",
              "      <td>0</td>\n",
              "      <td>0</td>\n",
              "      <td>1</td>\n",
              "      <td>0</td>\n",
              "      <td>0</td>\n",
              "      <td>0</td>\n",
              "      <td>0</td>\n",
              "      <td>0</td>\n",
              "      <td>0</td>\n",
              "      <td>0</td>\n",
              "      <td>0</td>\n",
              "      <td>0</td>\n",
              "      <td>0</td>\n",
              "      <td>1</td>\n",
              "      <td>0</td>\n",
              "      <td>2</td>\n",
              "      <td>0</td>\n",
              "      <td>0</td>\n",
              "      <td>0</td>\n",
              "      <td>0</td>\n",
              "      <td>0</td>\n",
              "      <td>0</td>\n",
              "      <td>1</td>\n",
              "      <td>0</td>\n",
              "      <td>0</td>\n",
              "      <td>0</td>\n",
              "      <td>0</td>\n",
              "      <td>0</td>\n",
              "      <td>0</td>\n",
              "      <td>1</td>\n",
              "      <td>0</td>\n",
              "      <td>0</td>\n",
              "      <td>0</td>\n",
              "      <td>0</td>\n",
              "      <td>0</td>\n",
              "      <td>0</td>\n",
              "      <td>1</td>\n",
              "      <td>0</td>\n",
              "      <td>0</td>\n",
              "      <td>0</td>\n",
              "      <td>0</td>\n",
              "      <td>0</td>\n",
              "      <td>1</td>\n",
              "      <td>0</td>\n",
              "      <td>0</td>\n",
              "      <td>1</td>\n",
              "      <td>1</td>\n",
              "      <td>0</td>\n",
              "      <td>1</td>\n",
              "      <td>1</td>\n",
              "      <td>0</td>\n",
              "      <td>1</td>\n",
              "      <td>0</td>\n",
              "      <td>0</td>\n",
              "      <td>0</td>\n",
              "      <td>0</td>\n",
              "      <td>1</td>\n",
              "      <td>0</td>\n",
              "      <td>0</td>\n",
              "      <td>0</td>\n",
              "      <td>0</td>\n",
              "      <td>0</td>\n",
              "      <td>0</td>\n",
              "      <td>0</td>\n",
              "    </tr>\n",
              "  </tbody>\n",
              "</table>\n",
              "</div>"
            ],
            "text/plain": [
              "   2015  83  adjust  and  appear  ...  value  weighting  which  word  words\n",
              "0     0   0       0    0       0  ...      0          0      0     1      0\n",
              "1     0   0       0    1       0  ...      0          1      0     0      0\n",
              "2     0   0       0    1       0  ...      1          0      0     2      0\n",
              "3     0   0       1    0       1  ...      0          0      1     0      1\n",
              "4     0   0       0    0       0  ...      0          1      0     0      0\n",
              "5     1   1       0    0       0  ...      0          0      0     0      0\n",
              "\n",
              "[6 rows x 75 columns]"
            ]
          },
          "metadata": {
            "tags": []
          },
          "execution_count": 119
        }
      ]
    },
    {
      "cell_type": "markdown",
      "metadata": {
        "id": "fZQ8b3Nh3-tk"
      },
      "source": [
        "> **아마존 리뷰 데이터에 `CountVectorizer` 적용하기**\n",
        "\n",
        "이번에는 좀 더 크고 복잡한 데이터에 Bag-of-Words(`CountVectorizer`) 를 적용해봅시다.\n",
        "전처리 과정에서 사용했던 아마존 리뷰 데이터를 계속해서 사용하겠습니다."
      ]
    },
    {
      "cell_type": "code",
      "metadata": {
        "id": "iMV9kk-E4KKO"
      },
      "source": [
        "from sklearn.feature_extraction.text import CountVectorizer"
      ],
      "execution_count": null,
      "outputs": []
    },
    {
      "cell_type": "code",
      "metadata": {
        "colab": {
          "base_uri": "https://localhost:8080/",
          "height": 442
        },
        "id": "PYGGeVud4Mhc",
        "outputId": "3eb5d542-31d8-4c7d-f7e6-bc3f0b6224ba"
      },
      "source": [
        "count_vect = CountVectorizer(stop_words='english', max_features=100)\n",
        "\n",
        "# Fit 후 dtm을 만듭니다.(문서, 단어마다 tf-idf 값을 계산합니다)\n",
        "dtm_count_amazon = count_vect.fit_transform(df['reviews.text'])\n",
        "\n",
        "dtm_count_amazon = pd.DataFrame(dtm_count_amazon.todense(), columns=count_vect.get_feature_names())\n",
        "dtm_count_amazon"
      ],
      "execution_count": null,
      "outputs": [
        {
          "output_type": "execute_result",
          "data": {
            "text/html": [
              "<div>\n",
              "<style scoped>\n",
              "    .dataframe tbody tr th:only-of-type {\n",
              "        vertical-align: middle;\n",
              "    }\n",
              "\n",
              "    .dataframe tbody tr th {\n",
              "        vertical-align: top;\n",
              "    }\n",
              "\n",
              "    .dataframe thead th {\n",
              "        text-align: right;\n",
              "    }\n",
              "</style>\n",
              "<table border=\"1\" class=\"dataframe\">\n",
              "  <thead>\n",
              "    <tr style=\"text-align: right;\">\n",
              "      <th></th>\n",
              "      <th>aa</th>\n",
              "      <th>able</th>\n",
              "      <th>amazon</th>\n",
              "      <th>app</th>\n",
              "      <th>apps</th>\n",
              "      <th>awesome</th>\n",
              "      <th>batteries</th>\n",
              "      <th>battery</th>\n",
              "      <th>best</th>\n",
              "      <th>better</th>\n",
              "      <th>big</th>\n",
              "      <th>books</th>\n",
              "      <th>bought</th>\n",
              "      <th>brand</th>\n",
              "      <th>brands</th>\n",
              "      <th>buy</th>\n",
              "      <th>buying</th>\n",
              "      <th>case</th>\n",
              "      <th>charge</th>\n",
              "      <th>cheap</th>\n",
              "      <th>christmas</th>\n",
              "      <th>daughter</th>\n",
              "      <th>deal</th>\n",
              "      <th>device</th>\n",
              "      <th>did</th>\n",
              "      <th>does</th>\n",
              "      <th>don</th>\n",
              "      <th>duracell</th>\n",
              "      <th>easy</th>\n",
              "      <th>excellent</th>\n",
              "      <th>far</th>\n",
              "      <th>fast</th>\n",
              "      <th>features</th>\n",
              "      <th>free</th>\n",
              "      <th>games</th>\n",
              "      <th>gift</th>\n",
              "      <th>good</th>\n",
              "      <th>got</th>\n",
              "      <th>great</th>\n",
              "      <th>happy</th>\n",
              "      <th>...</th>\n",
              "      <th>new</th>\n",
              "      <th>nice</th>\n",
              "      <th>old</th>\n",
              "      <th>perfect</th>\n",
              "      <th>play</th>\n",
              "      <th>pretty</th>\n",
              "      <th>price</th>\n",
              "      <th>prime</th>\n",
              "      <th>product</th>\n",
              "      <th>purchase</th>\n",
              "      <th>purchased</th>\n",
              "      <th>quality</th>\n",
              "      <th>read</th>\n",
              "      <th>reading</th>\n",
              "      <th>really</th>\n",
              "      <th>recommend</th>\n",
              "      <th>right</th>\n",
              "      <th>say</th>\n",
              "      <th>screen</th>\n",
              "      <th>set</th>\n",
              "      <th>size</th>\n",
              "      <th>son</th>\n",
              "      <th>store</th>\n",
              "      <th>tablet</th>\n",
              "      <th>tablets</th>\n",
              "      <th>things</th>\n",
              "      <th>time</th>\n",
              "      <th>use</th>\n",
              "      <th>used</th>\n",
              "      <th>using</th>\n",
              "      <th>value</th>\n",
              "      <th>ve</th>\n",
              "      <th>want</th>\n",
              "      <th>wanted</th>\n",
              "      <th>way</th>\n",
              "      <th>wife</th>\n",
              "      <th>work</th>\n",
              "      <th>works</th>\n",
              "      <th>year</th>\n",
              "      <th>years</th>\n",
              "    </tr>\n",
              "  </thead>\n",
              "  <tbody>\n",
              "    <tr>\n",
              "      <th>0</th>\n",
              "      <td>0</td>\n",
              "      <td>0</td>\n",
              "      <td>0</td>\n",
              "      <td>0</td>\n",
              "      <td>0</td>\n",
              "      <td>0</td>\n",
              "      <td>0</td>\n",
              "      <td>0</td>\n",
              "      <td>0</td>\n",
              "      <td>0</td>\n",
              "      <td>0</td>\n",
              "      <td>0</td>\n",
              "      <td>0</td>\n",
              "      <td>0</td>\n",
              "      <td>0</td>\n",
              "      <td>0</td>\n",
              "      <td>0</td>\n",
              "      <td>0</td>\n",
              "      <td>0</td>\n",
              "      <td>1</td>\n",
              "      <td>0</td>\n",
              "      <td>0</td>\n",
              "      <td>0</td>\n",
              "      <td>0</td>\n",
              "      <td>0</td>\n",
              "      <td>0</td>\n",
              "      <td>0</td>\n",
              "      <td>0</td>\n",
              "      <td>0</td>\n",
              "      <td>0</td>\n",
              "      <td>0</td>\n",
              "      <td>0</td>\n",
              "      <td>0</td>\n",
              "      <td>0</td>\n",
              "      <td>0</td>\n",
              "      <td>0</td>\n",
              "      <td>1</td>\n",
              "      <td>1</td>\n",
              "      <td>1</td>\n",
              "      <td>0</td>\n",
              "      <td>...</td>\n",
              "      <td>0</td>\n",
              "      <td>0</td>\n",
              "      <td>0</td>\n",
              "      <td>0</td>\n",
              "      <td>1</td>\n",
              "      <td>0</td>\n",
              "      <td>1</td>\n",
              "      <td>0</td>\n",
              "      <td>0</td>\n",
              "      <td>0</td>\n",
              "      <td>0</td>\n",
              "      <td>0</td>\n",
              "      <td>0</td>\n",
              "      <td>1</td>\n",
              "      <td>0</td>\n",
              "      <td>0</td>\n",
              "      <td>0</td>\n",
              "      <td>0</td>\n",
              "      <td>1</td>\n",
              "      <td>0</td>\n",
              "      <td>0</td>\n",
              "      <td>0</td>\n",
              "      <td>0</td>\n",
              "      <td>0</td>\n",
              "      <td>0</td>\n",
              "      <td>0</td>\n",
              "      <td>0</td>\n",
              "      <td>0</td>\n",
              "      <td>0</td>\n",
              "      <td>0</td>\n",
              "      <td>0</td>\n",
              "      <td>0</td>\n",
              "      <td>0</td>\n",
              "      <td>0</td>\n",
              "      <td>0</td>\n",
              "      <td>0</td>\n",
              "      <td>0</td>\n",
              "      <td>0</td>\n",
              "      <td>0</td>\n",
              "      <td>0</td>\n",
              "    </tr>\n",
              "    <tr>\n",
              "      <th>1</th>\n",
              "      <td>0</td>\n",
              "      <td>0</td>\n",
              "      <td>0</td>\n",
              "      <td>0</td>\n",
              "      <td>0</td>\n",
              "      <td>0</td>\n",
              "      <td>0</td>\n",
              "      <td>0</td>\n",
              "      <td>0</td>\n",
              "      <td>0</td>\n",
              "      <td>0</td>\n",
              "      <td>0</td>\n",
              "      <td>0</td>\n",
              "      <td>0</td>\n",
              "      <td>0</td>\n",
              "      <td>0</td>\n",
              "      <td>0</td>\n",
              "      <td>0</td>\n",
              "      <td>0</td>\n",
              "      <td>0</td>\n",
              "      <td>0</td>\n",
              "      <td>0</td>\n",
              "      <td>0</td>\n",
              "      <td>0</td>\n",
              "      <td>0</td>\n",
              "      <td>0</td>\n",
              "      <td>1</td>\n",
              "      <td>0</td>\n",
              "      <td>0</td>\n",
              "      <td>0</td>\n",
              "      <td>0</td>\n",
              "      <td>0</td>\n",
              "      <td>0</td>\n",
              "      <td>0</td>\n",
              "      <td>1</td>\n",
              "      <td>0</td>\n",
              "      <td>0</td>\n",
              "      <td>1</td>\n",
              "      <td>0</td>\n",
              "      <td>0</td>\n",
              "      <td>...</td>\n",
              "      <td>0</td>\n",
              "      <td>0</td>\n",
              "      <td>1</td>\n",
              "      <td>0</td>\n",
              "      <td>0</td>\n",
              "      <td>0</td>\n",
              "      <td>0</td>\n",
              "      <td>0</td>\n",
              "      <td>0</td>\n",
              "      <td>0</td>\n",
              "      <td>1</td>\n",
              "      <td>0</td>\n",
              "      <td>0</td>\n",
              "      <td>0</td>\n",
              "      <td>0</td>\n",
              "      <td>0</td>\n",
              "      <td>0</td>\n",
              "      <td>0</td>\n",
              "      <td>0</td>\n",
              "      <td>0</td>\n",
              "      <td>0</td>\n",
              "      <td>1</td>\n",
              "      <td>0</td>\n",
              "      <td>0</td>\n",
              "      <td>0</td>\n",
              "      <td>1</td>\n",
              "      <td>0</td>\n",
              "      <td>0</td>\n",
              "      <td>0</td>\n",
              "      <td>0</td>\n",
              "      <td>0</td>\n",
              "      <td>0</td>\n",
              "      <td>1</td>\n",
              "      <td>0</td>\n",
              "      <td>0</td>\n",
              "      <td>0</td>\n",
              "      <td>0</td>\n",
              "      <td>0</td>\n",
              "      <td>0</td>\n",
              "      <td>1</td>\n",
              "    </tr>\n",
              "    <tr>\n",
              "      <th>2</th>\n",
              "      <td>0</td>\n",
              "      <td>0</td>\n",
              "      <td>0</td>\n",
              "      <td>0</td>\n",
              "      <td>0</td>\n",
              "      <td>0</td>\n",
              "      <td>1</td>\n",
              "      <td>0</td>\n",
              "      <td>0</td>\n",
              "      <td>0</td>\n",
              "      <td>0</td>\n",
              "      <td>0</td>\n",
              "      <td>0</td>\n",
              "      <td>0</td>\n",
              "      <td>0</td>\n",
              "      <td>0</td>\n",
              "      <td>1</td>\n",
              "      <td>0</td>\n",
              "      <td>0</td>\n",
              "      <td>0</td>\n",
              "      <td>0</td>\n",
              "      <td>0</td>\n",
              "      <td>0</td>\n",
              "      <td>0</td>\n",
              "      <td>0</td>\n",
              "      <td>0</td>\n",
              "      <td>0</td>\n",
              "      <td>0</td>\n",
              "      <td>0</td>\n",
              "      <td>0</td>\n",
              "      <td>0</td>\n",
              "      <td>0</td>\n",
              "      <td>0</td>\n",
              "      <td>0</td>\n",
              "      <td>0</td>\n",
              "      <td>0</td>\n",
              "      <td>0</td>\n",
              "      <td>0</td>\n",
              "      <td>2</td>\n",
              "      <td>0</td>\n",
              "      <td>...</td>\n",
              "      <td>0</td>\n",
              "      <td>0</td>\n",
              "      <td>0</td>\n",
              "      <td>0</td>\n",
              "      <td>0</td>\n",
              "      <td>0</td>\n",
              "      <td>1</td>\n",
              "      <td>0</td>\n",
              "      <td>0</td>\n",
              "      <td>0</td>\n",
              "      <td>0</td>\n",
              "      <td>0</td>\n",
              "      <td>0</td>\n",
              "      <td>0</td>\n",
              "      <td>0</td>\n",
              "      <td>0</td>\n",
              "      <td>0</td>\n",
              "      <td>0</td>\n",
              "      <td>0</td>\n",
              "      <td>0</td>\n",
              "      <td>0</td>\n",
              "      <td>0</td>\n",
              "      <td>0</td>\n",
              "      <td>0</td>\n",
              "      <td>0</td>\n",
              "      <td>0</td>\n",
              "      <td>0</td>\n",
              "      <td>0</td>\n",
              "      <td>0</td>\n",
              "      <td>0</td>\n",
              "      <td>0</td>\n",
              "      <td>0</td>\n",
              "      <td>0</td>\n",
              "      <td>0</td>\n",
              "      <td>0</td>\n",
              "      <td>0</td>\n",
              "      <td>0</td>\n",
              "      <td>0</td>\n",
              "      <td>0</td>\n",
              "      <td>0</td>\n",
              "    </tr>\n",
              "    <tr>\n",
              "      <th>3</th>\n",
              "      <td>0</td>\n",
              "      <td>0</td>\n",
              "      <td>0</td>\n",
              "      <td>0</td>\n",
              "      <td>0</td>\n",
              "      <td>0</td>\n",
              "      <td>0</td>\n",
              "      <td>0</td>\n",
              "      <td>0</td>\n",
              "      <td>0</td>\n",
              "      <td>0</td>\n",
              "      <td>0</td>\n",
              "      <td>0</td>\n",
              "      <td>0</td>\n",
              "      <td>0</td>\n",
              "      <td>0</td>\n",
              "      <td>0</td>\n",
              "      <td>0</td>\n",
              "      <td>0</td>\n",
              "      <td>0</td>\n",
              "      <td>0</td>\n",
              "      <td>0</td>\n",
              "      <td>0</td>\n",
              "      <td>0</td>\n",
              "      <td>0</td>\n",
              "      <td>0</td>\n",
              "      <td>0</td>\n",
              "      <td>0</td>\n",
              "      <td>0</td>\n",
              "      <td>0</td>\n",
              "      <td>0</td>\n",
              "      <td>0</td>\n",
              "      <td>0</td>\n",
              "      <td>0</td>\n",
              "      <td>0</td>\n",
              "      <td>0</td>\n",
              "      <td>0</td>\n",
              "      <td>0</td>\n",
              "      <td>1</td>\n",
              "      <td>0</td>\n",
              "      <td>...</td>\n",
              "      <td>0</td>\n",
              "      <td>0</td>\n",
              "      <td>0</td>\n",
              "      <td>0</td>\n",
              "      <td>0</td>\n",
              "      <td>0</td>\n",
              "      <td>0</td>\n",
              "      <td>0</td>\n",
              "      <td>0</td>\n",
              "      <td>0</td>\n",
              "      <td>0</td>\n",
              "      <td>0</td>\n",
              "      <td>0</td>\n",
              "      <td>0</td>\n",
              "      <td>0</td>\n",
              "      <td>0</td>\n",
              "      <td>0</td>\n",
              "      <td>0</td>\n",
              "      <td>0</td>\n",
              "      <td>0</td>\n",
              "      <td>0</td>\n",
              "      <td>0</td>\n",
              "      <td>0</td>\n",
              "      <td>1</td>\n",
              "      <td>1</td>\n",
              "      <td>0</td>\n",
              "      <td>0</td>\n",
              "      <td>0</td>\n",
              "      <td>0</td>\n",
              "      <td>0</td>\n",
              "      <td>0</td>\n",
              "      <td>0</td>\n",
              "      <td>0</td>\n",
              "      <td>0</td>\n",
              "      <td>0</td>\n",
              "      <td>0</td>\n",
              "      <td>0</td>\n",
              "      <td>0</td>\n",
              "      <td>0</td>\n",
              "      <td>0</td>\n",
              "    </tr>\n",
              "    <tr>\n",
              "      <th>4</th>\n",
              "      <td>0</td>\n",
              "      <td>0</td>\n",
              "      <td>0</td>\n",
              "      <td>0</td>\n",
              "      <td>0</td>\n",
              "      <td>0</td>\n",
              "      <td>1</td>\n",
              "      <td>1</td>\n",
              "      <td>0</td>\n",
              "      <td>0</td>\n",
              "      <td>0</td>\n",
              "      <td>0</td>\n",
              "      <td>0</td>\n",
              "      <td>0</td>\n",
              "      <td>0</td>\n",
              "      <td>0</td>\n",
              "      <td>0</td>\n",
              "      <td>0</td>\n",
              "      <td>0</td>\n",
              "      <td>0</td>\n",
              "      <td>0</td>\n",
              "      <td>0</td>\n",
              "      <td>0</td>\n",
              "      <td>0</td>\n",
              "      <td>0</td>\n",
              "      <td>0</td>\n",
              "      <td>0</td>\n",
              "      <td>0</td>\n",
              "      <td>0</td>\n",
              "      <td>0</td>\n",
              "      <td>0</td>\n",
              "      <td>0</td>\n",
              "      <td>0</td>\n",
              "      <td>0</td>\n",
              "      <td>0</td>\n",
              "      <td>0</td>\n",
              "      <td>0</td>\n",
              "      <td>0</td>\n",
              "      <td>0</td>\n",
              "      <td>0</td>\n",
              "      <td>...</td>\n",
              "      <td>0</td>\n",
              "      <td>0</td>\n",
              "      <td>0</td>\n",
              "      <td>0</td>\n",
              "      <td>0</td>\n",
              "      <td>0</td>\n",
              "      <td>0</td>\n",
              "      <td>0</td>\n",
              "      <td>0</td>\n",
              "      <td>0</td>\n",
              "      <td>0</td>\n",
              "      <td>0</td>\n",
              "      <td>0</td>\n",
              "      <td>0</td>\n",
              "      <td>1</td>\n",
              "      <td>0</td>\n",
              "      <td>0</td>\n",
              "      <td>0</td>\n",
              "      <td>0</td>\n",
              "      <td>0</td>\n",
              "      <td>0</td>\n",
              "      <td>0</td>\n",
              "      <td>0</td>\n",
              "      <td>0</td>\n",
              "      <td>0</td>\n",
              "      <td>0</td>\n",
              "      <td>0</td>\n",
              "      <td>1</td>\n",
              "      <td>0</td>\n",
              "      <td>0</td>\n",
              "      <td>0</td>\n",
              "      <td>0</td>\n",
              "      <td>0</td>\n",
              "      <td>0</td>\n",
              "      <td>0</td>\n",
              "      <td>0</td>\n",
              "      <td>0</td>\n",
              "      <td>0</td>\n",
              "      <td>0</td>\n",
              "      <td>0</td>\n",
              "    </tr>\n",
              "    <tr>\n",
              "      <th>...</th>\n",
              "      <td>...</td>\n",
              "      <td>...</td>\n",
              "      <td>...</td>\n",
              "      <td>...</td>\n",
              "      <td>...</td>\n",
              "      <td>...</td>\n",
              "      <td>...</td>\n",
              "      <td>...</td>\n",
              "      <td>...</td>\n",
              "      <td>...</td>\n",
              "      <td>...</td>\n",
              "      <td>...</td>\n",
              "      <td>...</td>\n",
              "      <td>...</td>\n",
              "      <td>...</td>\n",
              "      <td>...</td>\n",
              "      <td>...</td>\n",
              "      <td>...</td>\n",
              "      <td>...</td>\n",
              "      <td>...</td>\n",
              "      <td>...</td>\n",
              "      <td>...</td>\n",
              "      <td>...</td>\n",
              "      <td>...</td>\n",
              "      <td>...</td>\n",
              "      <td>...</td>\n",
              "      <td>...</td>\n",
              "      <td>...</td>\n",
              "      <td>...</td>\n",
              "      <td>...</td>\n",
              "      <td>...</td>\n",
              "      <td>...</td>\n",
              "      <td>...</td>\n",
              "      <td>...</td>\n",
              "      <td>...</td>\n",
              "      <td>...</td>\n",
              "      <td>...</td>\n",
              "      <td>...</td>\n",
              "      <td>...</td>\n",
              "      <td>...</td>\n",
              "      <td>...</td>\n",
              "      <td>...</td>\n",
              "      <td>...</td>\n",
              "      <td>...</td>\n",
              "      <td>...</td>\n",
              "      <td>...</td>\n",
              "      <td>...</td>\n",
              "      <td>...</td>\n",
              "      <td>...</td>\n",
              "      <td>...</td>\n",
              "      <td>...</td>\n",
              "      <td>...</td>\n",
              "      <td>...</td>\n",
              "      <td>...</td>\n",
              "      <td>...</td>\n",
              "      <td>...</td>\n",
              "      <td>...</td>\n",
              "      <td>...</td>\n",
              "      <td>...</td>\n",
              "      <td>...</td>\n",
              "      <td>...</td>\n",
              "      <td>...</td>\n",
              "      <td>...</td>\n",
              "      <td>...</td>\n",
              "      <td>...</td>\n",
              "      <td>...</td>\n",
              "      <td>...</td>\n",
              "      <td>...</td>\n",
              "      <td>...</td>\n",
              "      <td>...</td>\n",
              "      <td>...</td>\n",
              "      <td>...</td>\n",
              "      <td>...</td>\n",
              "      <td>...</td>\n",
              "      <td>...</td>\n",
              "      <td>...</td>\n",
              "      <td>...</td>\n",
              "      <td>...</td>\n",
              "      <td>...</td>\n",
              "      <td>...</td>\n",
              "      <td>...</td>\n",
              "    </tr>\n",
              "    <tr>\n",
              "      <th>10478</th>\n",
              "      <td>0</td>\n",
              "      <td>0</td>\n",
              "      <td>0</td>\n",
              "      <td>0</td>\n",
              "      <td>0</td>\n",
              "      <td>0</td>\n",
              "      <td>0</td>\n",
              "      <td>0</td>\n",
              "      <td>0</td>\n",
              "      <td>0</td>\n",
              "      <td>0</td>\n",
              "      <td>0</td>\n",
              "      <td>0</td>\n",
              "      <td>0</td>\n",
              "      <td>0</td>\n",
              "      <td>0</td>\n",
              "      <td>0</td>\n",
              "      <td>0</td>\n",
              "      <td>0</td>\n",
              "      <td>0</td>\n",
              "      <td>0</td>\n",
              "      <td>0</td>\n",
              "      <td>0</td>\n",
              "      <td>0</td>\n",
              "      <td>0</td>\n",
              "      <td>0</td>\n",
              "      <td>0</td>\n",
              "      <td>0</td>\n",
              "      <td>0</td>\n",
              "      <td>0</td>\n",
              "      <td>0</td>\n",
              "      <td>0</td>\n",
              "      <td>1</td>\n",
              "      <td>0</td>\n",
              "      <td>0</td>\n",
              "      <td>0</td>\n",
              "      <td>0</td>\n",
              "      <td>0</td>\n",
              "      <td>0</td>\n",
              "      <td>0</td>\n",
              "      <td>...</td>\n",
              "      <td>0</td>\n",
              "      <td>0</td>\n",
              "      <td>0</td>\n",
              "      <td>0</td>\n",
              "      <td>0</td>\n",
              "      <td>0</td>\n",
              "      <td>0</td>\n",
              "      <td>0</td>\n",
              "      <td>0</td>\n",
              "      <td>0</td>\n",
              "      <td>0</td>\n",
              "      <td>0</td>\n",
              "      <td>0</td>\n",
              "      <td>0</td>\n",
              "      <td>0</td>\n",
              "      <td>0</td>\n",
              "      <td>0</td>\n",
              "      <td>1</td>\n",
              "      <td>0</td>\n",
              "      <td>0</td>\n",
              "      <td>0</td>\n",
              "      <td>0</td>\n",
              "      <td>0</td>\n",
              "      <td>0</td>\n",
              "      <td>0</td>\n",
              "      <td>0</td>\n",
              "      <td>0</td>\n",
              "      <td>0</td>\n",
              "      <td>0</td>\n",
              "      <td>0</td>\n",
              "      <td>0</td>\n",
              "      <td>1</td>\n",
              "      <td>0</td>\n",
              "      <td>0</td>\n",
              "      <td>0</td>\n",
              "      <td>0</td>\n",
              "      <td>0</td>\n",
              "      <td>0</td>\n",
              "      <td>0</td>\n",
              "      <td>1</td>\n",
              "    </tr>\n",
              "    <tr>\n",
              "      <th>10479</th>\n",
              "      <td>0</td>\n",
              "      <td>0</td>\n",
              "      <td>0</td>\n",
              "      <td>0</td>\n",
              "      <td>0</td>\n",
              "      <td>0</td>\n",
              "      <td>1</td>\n",
              "      <td>0</td>\n",
              "      <td>0</td>\n",
              "      <td>0</td>\n",
              "      <td>0</td>\n",
              "      <td>0</td>\n",
              "      <td>0</td>\n",
              "      <td>0</td>\n",
              "      <td>0</td>\n",
              "      <td>0</td>\n",
              "      <td>0</td>\n",
              "      <td>0</td>\n",
              "      <td>0</td>\n",
              "      <td>0</td>\n",
              "      <td>0</td>\n",
              "      <td>0</td>\n",
              "      <td>1</td>\n",
              "      <td>0</td>\n",
              "      <td>0</td>\n",
              "      <td>0</td>\n",
              "      <td>0</td>\n",
              "      <td>0</td>\n",
              "      <td>0</td>\n",
              "      <td>1</td>\n",
              "      <td>0</td>\n",
              "      <td>0</td>\n",
              "      <td>0</td>\n",
              "      <td>0</td>\n",
              "      <td>0</td>\n",
              "      <td>0</td>\n",
              "      <td>0</td>\n",
              "      <td>0</td>\n",
              "      <td>0</td>\n",
              "      <td>0</td>\n",
              "      <td>...</td>\n",
              "      <td>0</td>\n",
              "      <td>0</td>\n",
              "      <td>0</td>\n",
              "      <td>0</td>\n",
              "      <td>0</td>\n",
              "      <td>0</td>\n",
              "      <td>1</td>\n",
              "      <td>0</td>\n",
              "      <td>0</td>\n",
              "      <td>0</td>\n",
              "      <td>0</td>\n",
              "      <td>0</td>\n",
              "      <td>0</td>\n",
              "      <td>0</td>\n",
              "      <td>0</td>\n",
              "      <td>0</td>\n",
              "      <td>0</td>\n",
              "      <td>0</td>\n",
              "      <td>0</td>\n",
              "      <td>0</td>\n",
              "      <td>0</td>\n",
              "      <td>0</td>\n",
              "      <td>0</td>\n",
              "      <td>0</td>\n",
              "      <td>0</td>\n",
              "      <td>0</td>\n",
              "      <td>0</td>\n",
              "      <td>0</td>\n",
              "      <td>0</td>\n",
              "      <td>0</td>\n",
              "      <td>0</td>\n",
              "      <td>0</td>\n",
              "      <td>0</td>\n",
              "      <td>0</td>\n",
              "      <td>0</td>\n",
              "      <td>0</td>\n",
              "      <td>0</td>\n",
              "      <td>0</td>\n",
              "      <td>0</td>\n",
              "      <td>0</td>\n",
              "    </tr>\n",
              "    <tr>\n",
              "      <th>10480</th>\n",
              "      <td>0</td>\n",
              "      <td>0</td>\n",
              "      <td>0</td>\n",
              "      <td>0</td>\n",
              "      <td>0</td>\n",
              "      <td>0</td>\n",
              "      <td>0</td>\n",
              "      <td>1</td>\n",
              "      <td>0</td>\n",
              "      <td>0</td>\n",
              "      <td>0</td>\n",
              "      <td>0</td>\n",
              "      <td>0</td>\n",
              "      <td>0</td>\n",
              "      <td>0</td>\n",
              "      <td>0</td>\n",
              "      <td>0</td>\n",
              "      <td>0</td>\n",
              "      <td>0</td>\n",
              "      <td>0</td>\n",
              "      <td>0</td>\n",
              "      <td>0</td>\n",
              "      <td>0</td>\n",
              "      <td>0</td>\n",
              "      <td>0</td>\n",
              "      <td>0</td>\n",
              "      <td>0</td>\n",
              "      <td>0</td>\n",
              "      <td>0</td>\n",
              "      <td>0</td>\n",
              "      <td>0</td>\n",
              "      <td>0</td>\n",
              "      <td>0</td>\n",
              "      <td>0</td>\n",
              "      <td>0</td>\n",
              "      <td>0</td>\n",
              "      <td>0</td>\n",
              "      <td>0</td>\n",
              "      <td>2</td>\n",
              "      <td>0</td>\n",
              "      <td>...</td>\n",
              "      <td>0</td>\n",
              "      <td>0</td>\n",
              "      <td>0</td>\n",
              "      <td>0</td>\n",
              "      <td>0</td>\n",
              "      <td>0</td>\n",
              "      <td>0</td>\n",
              "      <td>0</td>\n",
              "      <td>0</td>\n",
              "      <td>0</td>\n",
              "      <td>0</td>\n",
              "      <td>0</td>\n",
              "      <td>0</td>\n",
              "      <td>0</td>\n",
              "      <td>0</td>\n",
              "      <td>0</td>\n",
              "      <td>0</td>\n",
              "      <td>0</td>\n",
              "      <td>0</td>\n",
              "      <td>0</td>\n",
              "      <td>0</td>\n",
              "      <td>0</td>\n",
              "      <td>0</td>\n",
              "      <td>0</td>\n",
              "      <td>0</td>\n",
              "      <td>0</td>\n",
              "      <td>0</td>\n",
              "      <td>0</td>\n",
              "      <td>0</td>\n",
              "      <td>0</td>\n",
              "      <td>1</td>\n",
              "      <td>0</td>\n",
              "      <td>0</td>\n",
              "      <td>0</td>\n",
              "      <td>0</td>\n",
              "      <td>0</td>\n",
              "      <td>0</td>\n",
              "      <td>0</td>\n",
              "      <td>0</td>\n",
              "      <td>0</td>\n",
              "    </tr>\n",
              "    <tr>\n",
              "      <th>10481</th>\n",
              "      <td>0</td>\n",
              "      <td>0</td>\n",
              "      <td>0</td>\n",
              "      <td>0</td>\n",
              "      <td>0</td>\n",
              "      <td>0</td>\n",
              "      <td>0</td>\n",
              "      <td>0</td>\n",
              "      <td>0</td>\n",
              "      <td>0</td>\n",
              "      <td>0</td>\n",
              "      <td>0</td>\n",
              "      <td>0</td>\n",
              "      <td>0</td>\n",
              "      <td>0</td>\n",
              "      <td>0</td>\n",
              "      <td>0</td>\n",
              "      <td>0</td>\n",
              "      <td>0</td>\n",
              "      <td>0</td>\n",
              "      <td>0</td>\n",
              "      <td>0</td>\n",
              "      <td>0</td>\n",
              "      <td>0</td>\n",
              "      <td>0</td>\n",
              "      <td>0</td>\n",
              "      <td>0</td>\n",
              "      <td>0</td>\n",
              "      <td>0</td>\n",
              "      <td>0</td>\n",
              "      <td>0</td>\n",
              "      <td>0</td>\n",
              "      <td>0</td>\n",
              "      <td>0</td>\n",
              "      <td>0</td>\n",
              "      <td>0</td>\n",
              "      <td>0</td>\n",
              "      <td>0</td>\n",
              "      <td>1</td>\n",
              "      <td>0</td>\n",
              "      <td>...</td>\n",
              "      <td>1</td>\n",
              "      <td>0</td>\n",
              "      <td>0</td>\n",
              "      <td>0</td>\n",
              "      <td>0</td>\n",
              "      <td>0</td>\n",
              "      <td>0</td>\n",
              "      <td>0</td>\n",
              "      <td>0</td>\n",
              "      <td>0</td>\n",
              "      <td>0</td>\n",
              "      <td>0</td>\n",
              "      <td>0</td>\n",
              "      <td>0</td>\n",
              "      <td>0</td>\n",
              "      <td>0</td>\n",
              "      <td>0</td>\n",
              "      <td>0</td>\n",
              "      <td>0</td>\n",
              "      <td>0</td>\n",
              "      <td>0</td>\n",
              "      <td>0</td>\n",
              "      <td>0</td>\n",
              "      <td>0</td>\n",
              "      <td>0</td>\n",
              "      <td>0</td>\n",
              "      <td>0</td>\n",
              "      <td>0</td>\n",
              "      <td>0</td>\n",
              "      <td>0</td>\n",
              "      <td>0</td>\n",
              "      <td>0</td>\n",
              "      <td>0</td>\n",
              "      <td>0</td>\n",
              "      <td>0</td>\n",
              "      <td>0</td>\n",
              "      <td>0</td>\n",
              "      <td>0</td>\n",
              "      <td>0</td>\n",
              "      <td>0</td>\n",
              "    </tr>\n",
              "    <tr>\n",
              "      <th>10482</th>\n",
              "      <td>0</td>\n",
              "      <td>0</td>\n",
              "      <td>0</td>\n",
              "      <td>0</td>\n",
              "      <td>0</td>\n",
              "      <td>0</td>\n",
              "      <td>0</td>\n",
              "      <td>0</td>\n",
              "      <td>0</td>\n",
              "      <td>0</td>\n",
              "      <td>0</td>\n",
              "      <td>1</td>\n",
              "      <td>1</td>\n",
              "      <td>0</td>\n",
              "      <td>0</td>\n",
              "      <td>0</td>\n",
              "      <td>0</td>\n",
              "      <td>0</td>\n",
              "      <td>0</td>\n",
              "      <td>0</td>\n",
              "      <td>0</td>\n",
              "      <td>0</td>\n",
              "      <td>0</td>\n",
              "      <td>0</td>\n",
              "      <td>0</td>\n",
              "      <td>0</td>\n",
              "      <td>0</td>\n",
              "      <td>0</td>\n",
              "      <td>1</td>\n",
              "      <td>0</td>\n",
              "      <td>0</td>\n",
              "      <td>0</td>\n",
              "      <td>0</td>\n",
              "      <td>0</td>\n",
              "      <td>0</td>\n",
              "      <td>0</td>\n",
              "      <td>1</td>\n",
              "      <td>0</td>\n",
              "      <td>1</td>\n",
              "      <td>0</td>\n",
              "      <td>...</td>\n",
              "      <td>0</td>\n",
              "      <td>0</td>\n",
              "      <td>0</td>\n",
              "      <td>0</td>\n",
              "      <td>0</td>\n",
              "      <td>0</td>\n",
              "      <td>1</td>\n",
              "      <td>0</td>\n",
              "      <td>0</td>\n",
              "      <td>0</td>\n",
              "      <td>0</td>\n",
              "      <td>1</td>\n",
              "      <td>1</td>\n",
              "      <td>0</td>\n",
              "      <td>0</td>\n",
              "      <td>0</td>\n",
              "      <td>0</td>\n",
              "      <td>0</td>\n",
              "      <td>0</td>\n",
              "      <td>0</td>\n",
              "      <td>0</td>\n",
              "      <td>0</td>\n",
              "      <td>0</td>\n",
              "      <td>0</td>\n",
              "      <td>0</td>\n",
              "      <td>0</td>\n",
              "      <td>0</td>\n",
              "      <td>0</td>\n",
              "      <td>0</td>\n",
              "      <td>0</td>\n",
              "      <td>1</td>\n",
              "      <td>0</td>\n",
              "      <td>0</td>\n",
              "      <td>0</td>\n",
              "      <td>0</td>\n",
              "      <td>0</td>\n",
              "      <td>0</td>\n",
              "      <td>0</td>\n",
              "      <td>0</td>\n",
              "      <td>0</td>\n",
              "    </tr>\n",
              "  </tbody>\n",
              "</table>\n",
              "<p>10483 rows × 100 columns</p>\n",
              "</div>"
            ],
            "text/plain": [
              "       aa  able  amazon  app  apps  ...  wife  work  works  year  years\n",
              "0       0     0       0    0     0  ...     0     0      0     0      0\n",
              "1       0     0       0    0     0  ...     0     0      0     0      1\n",
              "2       0     0       0    0     0  ...     0     0      0     0      0\n",
              "3       0     0       0    0     0  ...     0     0      0     0      0\n",
              "4       0     0       0    0     0  ...     0     0      0     0      0\n",
              "...    ..   ...     ...  ...   ...  ...   ...   ...    ...   ...    ...\n",
              "10478   0     0       0    0     0  ...     0     0      0     0      1\n",
              "10479   0     0       0    0     0  ...     0     0      0     0      0\n",
              "10480   0     0       0    0     0  ...     0     0      0     0      0\n",
              "10481   0     0       0    0     0  ...     0     0      0     0      0\n",
              "10482   0     0       0    0     0  ...     0     0      0     0      0\n",
              "\n",
              "[10483 rows x 100 columns]"
            ]
          },
          "metadata": {
            "tags": []
          },
          "execution_count": 121
        }
      ]
    },
    {
      "cell_type": "markdown",
      "metadata": {
        "id": "buTebAZ65Pxj"
      },
      "source": [
        "❗️ **`max_features` 를 10, 50, 100, 1000 등으로 변형해가면서 dtm 을 출력해봅시다! :)**"
      ]
    },
    {
      "cell_type": "markdown",
      "metadata": {
        "id": "DYnDpUZen1zG"
      },
      "source": [
        "### 4) Bag-of-Words(BoW) : TF-IDF (Term Frequency - Inverse Document Frequency)"
      ]
    },
    {
      "cell_type": "markdown",
      "metadata": {
        "id": "hSDSlq5Jn64F"
      },
      "source": [
        "각 문서마다 중요한 단어와 그렇지 못한 단어가 있습니다.<br/>\n",
        "아래와 같은 점심 식단표가 있을 때, \"오늘 점심 뭐야?\"라고 누군가가 묻는다면<br/>\n",
        "각 날짜의 대표 메뉴인 **\"깐풍기\", \"돈까스\"** 라고 말할 것입니다.<br/>\n",
        "만약 맨날 나오는 **\"흰 밥\", \"우유\"** 라고 대답한다면 좋은 대답은 아니게 되겠죠."
      ]
    },
    {
      "cell_type": "markdown",
      "metadata": {
        "id": "MeSpVlhZo15X"
      },
      "source": [
        "<img src=\"https://i.imgur.com/LGrQmWK.png\" alt=\"nlp_diagram\" width=\"500\" />"
      ]
    },
    {
      "cell_type": "markdown",
      "metadata": {
        "id": "N0-q7DIKHdc1"
      },
      "source": [
        "우리가 **\"흰 밥\", \"우유\"** 가 아닌 **\"깐풍기\", \"돈까스\"** 라고 답하는 이유는 다른 날에는 잘 등장하지 않는 메뉴이기 때문입니다.<br/>\n",
        "그렇기 때문에 해당하는 일자를 대표하는 메뉴가 되는 것이지요."
      ]
    },
    {
      "cell_type": "markdown",
      "metadata": {
        "id": "rwVLI8pDJqDg"
      },
      "source": [
        "단어를 벡터화 할 때에도 마찬가지입니다. 다른 문서에 잘 등장하지 않는 단어라면 해당 문서를 대표할 수 있는 단어가 될 수 있겠죠.<br/>\n",
        "이렇게 다른 문서에 등장하지 않는 단어, 즉 특정 문서에만 등장하는 단어에 가중치를 두는 방법이<br/>\n",
        "**<font color=\"ff6f61\">TF-IDF(Term Frequency-Inverse Document Frequency)</font>** 입니다."
      ]
    },
    {
      "cell_type": "markdown",
      "metadata": {
        "id": "3EwqoqhRo33h"
      },
      "source": [
        "- **TF-IDF의 수식**"
      ]
    },
    {
      "cell_type": "markdown",
      "metadata": {
        "id": "I45j84rvMxoC"
      },
      "source": [
        "TF-IDF의 수식은 다음과 같습니다.\n",
        "\n",
        "$$\n",
        "\\text{TF-IDF(w)} = \\text{TF(w)} \\times \\text{IDF(w)}\n",
        "$$\n",
        "\n",
        "각 항이 어떻게 구해지는지 알아보겠습니다."
      ]
    },
    {
      "cell_type": "markdown",
      "metadata": {
        "id": "00v3lSC6M8I_"
      },
      "source": [
        "TF(Term-Frequency)는 특정 문서에서 단어 w가 쓰인 빈도입니다. 분석할 문서에서 단어 $w$ 가 등장하는 횟수를 구하게 됩니다.\n",
        "\n",
        "$$\n",
        "\\text{TF(w)} = \\text{특정 문서 내 단어 w의 수}\n",
        "$$"
      ]
    },
    {
      "cell_type": "markdown",
      "metadata": {
        "id": "kw1SIDNJM-XT"
      },
      "source": [
        "IDF(Inverse Document Frequency)는 분류 대상이 되는 모든 문서의 수를 단어 $w$ 가 들어있는 문서의 수로 나누어 준 뒤 로그를 취해준 값입니다.\n",
        "\n",
        "$$\n",
        "\\text{IDF(w)} = \\log \\bigg(\\frac{\\text{분류 대상이 되는 모든 문서의 수}}{\\text{단어 w가 들어있는 문서의 수}}\\bigg)\n",
        "$$"
      ]
    },
    {
      "cell_type": "markdown",
      "metadata": {
        "id": "Jdvf0Kp8QxyP"
      },
      "source": [
        "실제 계산에서는 0으로 나누어 주는 것을 방지하기 위해서 분모에 1을 더해준 값을 사용합니다."
      ]
    },
    {
      "cell_type": "markdown",
      "metadata": {
        "id": "Tx_Sawl0Q1PX"
      },
      "source": [
        "$$\n",
        "\\text{분류 대상이 되는 모든 문서의 수} : n \\\\\n",
        "\\text{단어 w가 들어있는 문서의 수} : df(w)\n",
        "$$"
      ]
    },
    {
      "cell_type": "markdown",
      "metadata": {
        "id": "IBvyC5dAQzfO"
      },
      "source": [
        "라 하면 IDF는 다음과 같이 구해집니다.\n",
        "\n",
        "$$\n",
        "\\text{IDF(w)} = \\log \\bigg(\\frac{n}{1 + df(w)}\\bigg)\n",
        "$$"
      ]
    },
    {
      "cell_type": "markdown",
      "metadata": {
        "id": "iGoDsB8-M9-y"
      },
      "source": [
        "위 식에 따르면 자주 사용하는 단어라도, 많은 문서에 나오는 단어들은 IDF가 낮아지기 때문에<br/>\n",
        "TF-IDF로 벡터화 했을 때 작은 값을 가지게 됩니다.\n",
        "\n",
        "> ❓ 지프의 법칙(Zipf's law) 에 대해 검색해보고 IDF값에 왜 log를 해주는 지와 연관지어 생각해봅시다."
      ]
    },
    {
      "cell_type": "markdown",
      "metadata": {
        "id": "d6UMDCsSRaMf"
      },
      "source": [
        "사이킷런(Scikit-learn, `Sklearn`) 의 `TfidfVectorizer` 를 사용하면 TF-IDF 벡터화도 사용할 수 있습니다."
      ]
    },
    {
      "cell_type": "markdown",
      "metadata": {
        "id": "5d6xmtjumi3v"
      },
      "source": [
        "### 5) TfidfVectorizer 적용하기"
      ]
    },
    {
      "cell_type": "markdown",
      "metadata": {
        "id": "7shbn5kRS4_n"
      },
      "source": [
        "- **`TfidfVectorizer`** 를 사용한 TF-IDF 예제\n",
        "\n",
        "간단한 텍스트에 `CounterVectorizer` 를 적용하여 문서-단어 행렬을 만들어봅시다."
      ]
    },
    {
      "cell_type": "code",
      "metadata": {
        "id": "elnoVUpfoFT_",
        "colab": {
          "base_uri": "https://localhost:8080/",
          "height": 236
        },
        "outputId": "c2a487b7-37cd-4477-820d-cefcfb410071"
      },
      "source": [
        "# TF-IDF vectorizer. 테이블을 작게 만들기 위해 max_features=15로 제한하였습니다.\n",
        "tfidf = TfidfVectorizer(stop_words='english', max_features=15)\n",
        "\n",
        "# Fit 후 dtm을 만듭니다.(문서, 단어마다 tf-idf 값을 계산합니다)\n",
        "dtm_tfidf = tfidf.fit_transform(sentences_lst)\n",
        "\n",
        "dtm_tfidf = pd.DataFrame(dtm_tfidf.todense(), columns=tfidf.get_feature_names())\n",
        "dtm_tfidf"
      ],
      "execution_count": null,
      "outputs": [
        {
          "output_type": "execute_result",
          "data": {
            "text/html": [
              "<div>\n",
              "<style scoped>\n",
              "    .dataframe tbody tr th:only-of-type {\n",
              "        vertical-align: middle;\n",
              "    }\n",
              "\n",
              "    .dataframe tbody tr th {\n",
              "        vertical-align: top;\n",
              "    }\n",
              "\n",
              "    .dataframe thead th {\n",
              "        text-align: right;\n",
              "    }\n",
              "</style>\n",
              "<table border=\"1\" class=\"dataframe\">\n",
              "  <thead>\n",
              "    <tr style=\"text-align: right;\">\n",
              "      <th></th>\n",
              "      <th>corpus</th>\n",
              "      <th>document</th>\n",
              "      <th>frequency</th>\n",
              "      <th>idf</th>\n",
              "      <th>information</th>\n",
              "      <th>number</th>\n",
              "      <th>recommender</th>\n",
              "      <th>reflect</th>\n",
              "      <th>retrieval</th>\n",
              "      <th>searches</th>\n",
              "      <th>term</th>\n",
              "      <th>text</th>\n",
              "      <th>tf</th>\n",
              "      <th>weighting</th>\n",
              "      <th>word</th>\n",
              "    </tr>\n",
              "  </thead>\n",
              "  <tbody>\n",
              "    <tr>\n",
              "      <th>0</th>\n",
              "      <td>0.239165</td>\n",
              "      <td>0.478329</td>\n",
              "      <td>0.583318</td>\n",
              "      <td>0.173029</td>\n",
              "      <td>0.239165</td>\n",
              "      <td>0.00000</td>\n",
              "      <td>0.000000</td>\n",
              "      <td>0.291659</td>\n",
              "      <td>0.239165</td>\n",
              "      <td>0.000000</td>\n",
              "      <td>0.239165</td>\n",
              "      <td>0.000000</td>\n",
              "      <td>0.173029</td>\n",
              "      <td>0.000000</td>\n",
              "      <td>0.239165</td>\n",
              "    </tr>\n",
              "    <tr>\n",
              "      <th>1</th>\n",
              "      <td>0.000000</td>\n",
              "      <td>0.000000</td>\n",
              "      <td>0.000000</td>\n",
              "      <td>0.000000</td>\n",
              "      <td>0.426900</td>\n",
              "      <td>0.00000</td>\n",
              "      <td>0.000000</td>\n",
              "      <td>0.000000</td>\n",
              "      <td>0.426900</td>\n",
              "      <td>0.520601</td>\n",
              "      <td>0.000000</td>\n",
              "      <td>0.426900</td>\n",
              "      <td>0.000000</td>\n",
              "      <td>0.426900</td>\n",
              "      <td>0.000000</td>\n",
              "    </tr>\n",
              "    <tr>\n",
              "      <th>2</th>\n",
              "      <td>0.277399</td>\n",
              "      <td>0.277399</td>\n",
              "      <td>0.000000</td>\n",
              "      <td>0.200691</td>\n",
              "      <td>0.000000</td>\n",
              "      <td>0.67657</td>\n",
              "      <td>0.000000</td>\n",
              "      <td>0.000000</td>\n",
              "      <td>0.000000</td>\n",
              "      <td>0.000000</td>\n",
              "      <td>0.000000</td>\n",
              "      <td>0.000000</td>\n",
              "      <td>0.200691</td>\n",
              "      <td>0.000000</td>\n",
              "      <td>0.554797</td>\n",
              "    </tr>\n",
              "    <tr>\n",
              "      <th>3</th>\n",
              "      <td>0.000000</td>\n",
              "      <td>0.000000</td>\n",
              "      <td>0.000000</td>\n",
              "      <td>0.000000</td>\n",
              "      <td>0.000000</td>\n",
              "      <td>0.00000</td>\n",
              "      <td>0.000000</td>\n",
              "      <td>0.000000</td>\n",
              "      <td>0.000000</td>\n",
              "      <td>0.000000</td>\n",
              "      <td>0.000000</td>\n",
              "      <td>0.000000</td>\n",
              "      <td>0.000000</td>\n",
              "      <td>0.000000</td>\n",
              "      <td>0.000000</td>\n",
              "    </tr>\n",
              "    <tr>\n",
              "      <th>4</th>\n",
              "      <td>0.000000</td>\n",
              "      <td>0.000000</td>\n",
              "      <td>0.000000</td>\n",
              "      <td>0.414476</td>\n",
              "      <td>0.000000</td>\n",
              "      <td>0.00000</td>\n",
              "      <td>0.000000</td>\n",
              "      <td>0.000000</td>\n",
              "      <td>0.000000</td>\n",
              "      <td>0.000000</td>\n",
              "      <td>0.572896</td>\n",
              "      <td>0.000000</td>\n",
              "      <td>0.414476</td>\n",
              "      <td>0.572896</td>\n",
              "      <td>0.000000</td>\n",
              "    </tr>\n",
              "    <tr>\n",
              "      <th>5</th>\n",
              "      <td>0.000000</td>\n",
              "      <td>0.000000</td>\n",
              "      <td>0.000000</td>\n",
              "      <td>0.384849</td>\n",
              "      <td>0.000000</td>\n",
              "      <td>0.00000</td>\n",
              "      <td>0.648703</td>\n",
              "      <td>0.000000</td>\n",
              "      <td>0.000000</td>\n",
              "      <td>0.000000</td>\n",
              "      <td>0.000000</td>\n",
              "      <td>0.531946</td>\n",
              "      <td>0.384849</td>\n",
              "      <td>0.000000</td>\n",
              "      <td>0.000000</td>\n",
              "    </tr>\n",
              "  </tbody>\n",
              "</table>\n",
              "</div>"
            ],
            "text/plain": [
              "     corpus  document  frequency  ...        tf  weighting      word\n",
              "0  0.239165  0.478329   0.583318  ...  0.173029   0.000000  0.239165\n",
              "1  0.000000  0.000000   0.000000  ...  0.000000   0.426900  0.000000\n",
              "2  0.277399  0.277399   0.000000  ...  0.200691   0.000000  0.554797\n",
              "3  0.000000  0.000000   0.000000  ...  0.000000   0.000000  0.000000\n",
              "4  0.000000  0.000000   0.000000  ...  0.414476   0.572896  0.000000\n",
              "5  0.000000  0.000000   0.000000  ...  0.384849   0.000000  0.000000\n",
              "\n",
              "[6 rows x 15 columns]"
            ]
          },
          "metadata": {
            "tags": []
          },
          "execution_count": 123
        }
      ]
    },
    {
      "cell_type": "markdown",
      "metadata": {
        "id": "jH0c-ZbqoHwx"
      },
      "source": [
        "`TfidfVectorizer` 를 사용하여 생성한 문서-단어 행렬(DTM)의 값을 `CountVectorizer`를 사용하여 생성한 DTM의 값과 비교해봅시다."
      ]
    },
    {
      "cell_type": "code",
      "metadata": {
        "id": "BUiTj5qrobDZ",
        "colab": {
          "base_uri": "https://localhost:8080/",
          "height": 236
        },
        "outputId": "915ea736-9293-4658-a1b5-e294b66b0afd"
      },
      "source": [
        "vect = CountVectorizer(stop_words='english', max_features=15)\n",
        "dtm_count_vs_tfidf = vect.fit_transform(sentences_lst)\n",
        "dtm_count_vs_tfidf = pd.DataFrame(dtm_count_vs_tfidf.todense(), columns=vect.get_feature_names())\n",
        "dtm_count_vs_tfidf"
      ],
      "execution_count": null,
      "outputs": [
        {
          "output_type": "execute_result",
          "data": {
            "text/html": [
              "<div>\n",
              "<style scoped>\n",
              "    .dataframe tbody tr th:only-of-type {\n",
              "        vertical-align: middle;\n",
              "    }\n",
              "\n",
              "    .dataframe tbody tr th {\n",
              "        vertical-align: top;\n",
              "    }\n",
              "\n",
              "    .dataframe thead th {\n",
              "        text-align: right;\n",
              "    }\n",
              "</style>\n",
              "<table border=\"1\" class=\"dataframe\">\n",
              "  <thead>\n",
              "    <tr style=\"text-align: right;\">\n",
              "      <th></th>\n",
              "      <th>corpus</th>\n",
              "      <th>document</th>\n",
              "      <th>frequency</th>\n",
              "      <th>idf</th>\n",
              "      <th>information</th>\n",
              "      <th>number</th>\n",
              "      <th>recommender</th>\n",
              "      <th>reflect</th>\n",
              "      <th>retrieval</th>\n",
              "      <th>searches</th>\n",
              "      <th>term</th>\n",
              "      <th>text</th>\n",
              "      <th>tf</th>\n",
              "      <th>weighting</th>\n",
              "      <th>word</th>\n",
              "    </tr>\n",
              "  </thead>\n",
              "  <tbody>\n",
              "    <tr>\n",
              "      <th>0</th>\n",
              "      <td>1</td>\n",
              "      <td>2</td>\n",
              "      <td>2</td>\n",
              "      <td>1</td>\n",
              "      <td>1</td>\n",
              "      <td>0</td>\n",
              "      <td>0</td>\n",
              "      <td>1</td>\n",
              "      <td>1</td>\n",
              "      <td>0</td>\n",
              "      <td>1</td>\n",
              "      <td>0</td>\n",
              "      <td>1</td>\n",
              "      <td>0</td>\n",
              "      <td>1</td>\n",
              "    </tr>\n",
              "    <tr>\n",
              "      <th>1</th>\n",
              "      <td>0</td>\n",
              "      <td>0</td>\n",
              "      <td>0</td>\n",
              "      <td>0</td>\n",
              "      <td>1</td>\n",
              "      <td>0</td>\n",
              "      <td>0</td>\n",
              "      <td>0</td>\n",
              "      <td>1</td>\n",
              "      <td>1</td>\n",
              "      <td>0</td>\n",
              "      <td>1</td>\n",
              "      <td>0</td>\n",
              "      <td>1</td>\n",
              "      <td>0</td>\n",
              "    </tr>\n",
              "    <tr>\n",
              "      <th>2</th>\n",
              "      <td>1</td>\n",
              "      <td>1</td>\n",
              "      <td>0</td>\n",
              "      <td>1</td>\n",
              "      <td>0</td>\n",
              "      <td>2</td>\n",
              "      <td>0</td>\n",
              "      <td>0</td>\n",
              "      <td>0</td>\n",
              "      <td>0</td>\n",
              "      <td>0</td>\n",
              "      <td>0</td>\n",
              "      <td>1</td>\n",
              "      <td>0</td>\n",
              "      <td>2</td>\n",
              "    </tr>\n",
              "    <tr>\n",
              "      <th>3</th>\n",
              "      <td>0</td>\n",
              "      <td>0</td>\n",
              "      <td>0</td>\n",
              "      <td>0</td>\n",
              "      <td>0</td>\n",
              "      <td>0</td>\n",
              "      <td>0</td>\n",
              "      <td>0</td>\n",
              "      <td>0</td>\n",
              "      <td>0</td>\n",
              "      <td>0</td>\n",
              "      <td>0</td>\n",
              "      <td>0</td>\n",
              "      <td>0</td>\n",
              "      <td>0</td>\n",
              "    </tr>\n",
              "    <tr>\n",
              "      <th>4</th>\n",
              "      <td>0</td>\n",
              "      <td>0</td>\n",
              "      <td>0</td>\n",
              "      <td>1</td>\n",
              "      <td>0</td>\n",
              "      <td>0</td>\n",
              "      <td>0</td>\n",
              "      <td>0</td>\n",
              "      <td>0</td>\n",
              "      <td>0</td>\n",
              "      <td>1</td>\n",
              "      <td>0</td>\n",
              "      <td>1</td>\n",
              "      <td>1</td>\n",
              "      <td>0</td>\n",
              "    </tr>\n",
              "    <tr>\n",
              "      <th>5</th>\n",
              "      <td>0</td>\n",
              "      <td>0</td>\n",
              "      <td>0</td>\n",
              "      <td>1</td>\n",
              "      <td>0</td>\n",
              "      <td>0</td>\n",
              "      <td>1</td>\n",
              "      <td>0</td>\n",
              "      <td>0</td>\n",
              "      <td>0</td>\n",
              "      <td>0</td>\n",
              "      <td>1</td>\n",
              "      <td>1</td>\n",
              "      <td>0</td>\n",
              "      <td>0</td>\n",
              "    </tr>\n",
              "  </tbody>\n",
              "</table>\n",
              "</div>"
            ],
            "text/plain": [
              "   corpus  document  frequency  idf  ...  text  tf  weighting  word\n",
              "0       1         2          2    1  ...     0   1          0     1\n",
              "1       0         0          0    0  ...     1   0          1     0\n",
              "2       1         1          0    1  ...     0   1          0     2\n",
              "3       0         0          0    0  ...     0   0          0     0\n",
              "4       0         0          0    1  ...     0   1          1     0\n",
              "5       0         0          0    1  ...     1   1          0     0\n",
              "\n",
              "[6 rows x 15 columns]"
            ]
          },
          "metadata": {
            "tags": []
          },
          "execution_count": 124
        }
      ]
    },
    {
      "cell_type": "markdown",
      "metadata": {
        "id": "TTHseONVopqz"
      },
      "source": [
        "- **파라미터 튜닝**\n",
        "\n",
        "> 이번에는 조금 더 파라미터를 알아보면서 해당 파라미터를 튜닝해보고, SpaCy tokenizer 를 사용해서 벡터화를 진행해 보겠습니다.\n",
        "\n",
        "(주의 : lemmatization 이 있기 때문에 시간이 꽤 오래 걸립니다.)"
      ]
    },
    {
      "cell_type": "code",
      "metadata": {
        "id": "2g3MN8_boyJB"
      },
      "source": [
        "# SpaCy 를 이용한 Tokenizing\n",
        "\n",
        "def tokenize(document):\n",
        "    doc = nlp(document)\n",
        "    return [token.lemma_.strip() for token in doc if (token.is_stop != True) and (token.is_punct != True) and (token.is_alpha == True)]"
      ],
      "execution_count": null,
      "outputs": []
    },
    {
      "cell_type": "code",
      "metadata": {
        "id": "8LX1CnQno58i",
        "colab": {
          "base_uri": "https://localhost:8080/",
          "height": 272
        },
        "outputId": "f1e7cbd7-4cee-4c67-f89d-9ba5b22fdc84"
      },
      "source": [
        "    \"\"\"\n",
        "    args:\n",
        "        ngram_range = (min_n, max_n), min_n 개~ max_n 개를 갖는 n-gram(n개의 연속적인 토큰)을 토큰으로 사용합니다.\n",
        "        min_df = n : int, 최소 n개의 문서에 나타나는 토큰만 사용합니다.\n",
        "        max_df = m : float(0~1), m * 100% 이상 문서에 나타나는 토큰은 제거합니다.\n",
        "    \"\"\"\n",
        "\n",
        "tfidf_tuned = TfidfVectorizer(stop_words='english'\n",
        "                        ,tokenizer=tokenize\n",
        "                        ,ngram_range=(1,2)\n",
        "                        ,max_df=.7\n",
        "                        ,min_df=3\n",
        "                       )\n",
        "\n",
        "dtm_tfidf_tuned = tfidf_tuned.fit_transform(df['reviews.text'])\n",
        "dtm_tfidf_tuned = pd.DataFrame(dtm_tfidf_tuned.todense(), columns=tfidf_tuned.get_feature_names())\n",
        "dtm_tfidf_tuned.head()"
      ],
      "execution_count": null,
      "outputs": [
        {
          "output_type": "execute_result",
          "data": {
            "text/html": [
              "<div>\n",
              "<style scoped>\n",
              "    .dataframe tbody tr th:only-of-type {\n",
              "        vertical-align: middle;\n",
              "    }\n",
              "\n",
              "    .dataframe tbody tr th {\n",
              "        vertical-align: top;\n",
              "    }\n",
              "\n",
              "    .dataframe thead th {\n",
              "        text-align: right;\n",
              "    }\n",
              "</style>\n",
              "<table border=\"1\" class=\"dataframe\">\n",
              "  <thead>\n",
              "    <tr style=\"text-align: right;\">\n",
              "      <th></th>\n",
              "      <th>-PRON-</th>\n",
              "      <th>aa</th>\n",
              "      <th>aa aaa</th>\n",
              "      <th>aa alkaline</th>\n",
              "      <th>aa battery</th>\n",
              "      <th>aa performance</th>\n",
              "      <th>aa size</th>\n",
              "      <th>aaa</th>\n",
              "      <th>aaa aa</th>\n",
              "      <th>aaa alkaline</th>\n",
              "      <th>aaa amazon</th>\n",
              "      <th>aaa battery</th>\n",
              "      <th>aaa need</th>\n",
              "      <th>aaa size</th>\n",
              "      <th>aas</th>\n",
              "      <th>abc</th>\n",
              "      <th>abc mouse</th>\n",
              "      <th>ability</th>\n",
              "      <th>ability add</th>\n",
              "      <th>ability download</th>\n",
              "      <th>ability set</th>\n",
              "      <th>able</th>\n",
              "      <th>able access</th>\n",
              "      <th>able carry</th>\n",
              "      <th>able change</th>\n",
              "      <th>able download</th>\n",
              "      <th>able easily</th>\n",
              "      <th>able figure</th>\n",
              "      <th>able install</th>\n",
              "      <th>able navigate</th>\n",
              "      <th>able play</th>\n",
              "      <th>able purchase</th>\n",
              "      <th>able read</th>\n",
              "      <th>able set</th>\n",
              "      <th>able stream</th>\n",
              "      <th>able tablet</th>\n",
              "      <th>able use</th>\n",
              "      <th>able watch</th>\n",
              "      <th>absolute</th>\n",
              "      <th>absolutely</th>\n",
              "      <th>...</th>\n",
              "      <th>year replacement</th>\n",
              "      <th>year screen</th>\n",
              "      <th>year shelf</th>\n",
              "      <th>year subscription</th>\n",
              "      <th>year think</th>\n",
              "      <th>year use</th>\n",
              "      <th>year want</th>\n",
              "      <th>year warranty</th>\n",
              "      <th>year work</th>\n",
              "      <th>year worry</th>\n",
              "      <th>year year</th>\n",
              "      <th>yep</th>\n",
              "      <th>yes</th>\n",
              "      <th>yes know</th>\n",
              "      <th>yesterday</th>\n",
              "      <th>yo</th>\n",
              "      <th>young</th>\n",
              "      <th>young brother</th>\n",
              "      <th>young child</th>\n",
              "      <th>young daughter</th>\n",
              "      <th>young kid</th>\n",
              "      <th>young person</th>\n",
              "      <th>young son</th>\n",
              "      <th>youth</th>\n",
              "      <th>youtube</th>\n",
              "      <th>youtube app</th>\n",
              "      <th>youtube facebook</th>\n",
              "      <th>youtube kid</th>\n",
              "      <th>youtube netflix</th>\n",
              "      <th>youtube play</th>\n",
              "      <th>youtube video</th>\n",
              "      <th>yr</th>\n",
              "      <th>yr old</th>\n",
              "      <th>yrs</th>\n",
              "      <th>yrs old</th>\n",
              "      <th>yup</th>\n",
              "      <th>zero</th>\n",
              "      <th>zero problem</th>\n",
              "      <th>zipper</th>\n",
              "      <th>zone</th>\n",
              "    </tr>\n",
              "  </thead>\n",
              "  <tbody>\n",
              "    <tr>\n",
              "      <th>0</th>\n",
              "      <td>0.0</td>\n",
              "      <td>0.0</td>\n",
              "      <td>0.0</td>\n",
              "      <td>0.0</td>\n",
              "      <td>0.0</td>\n",
              "      <td>0.0</td>\n",
              "      <td>0.0</td>\n",
              "      <td>0.0</td>\n",
              "      <td>0.0</td>\n",
              "      <td>0.0</td>\n",
              "      <td>0.0</td>\n",
              "      <td>0.0</td>\n",
              "      <td>0.0</td>\n",
              "      <td>0.0</td>\n",
              "      <td>0.0</td>\n",
              "      <td>0.0</td>\n",
              "      <td>0.0</td>\n",
              "      <td>0.0</td>\n",
              "      <td>0.0</td>\n",
              "      <td>0.0</td>\n",
              "      <td>0.0</td>\n",
              "      <td>0.0</td>\n",
              "      <td>0.0</td>\n",
              "      <td>0.0</td>\n",
              "      <td>0.0</td>\n",
              "      <td>0.0</td>\n",
              "      <td>0.0</td>\n",
              "      <td>0.0</td>\n",
              "      <td>0.0</td>\n",
              "      <td>0.0</td>\n",
              "      <td>0.0</td>\n",
              "      <td>0.0</td>\n",
              "      <td>0.0</td>\n",
              "      <td>0.0</td>\n",
              "      <td>0.0</td>\n",
              "      <td>0.0</td>\n",
              "      <td>0.0</td>\n",
              "      <td>0.0</td>\n",
              "      <td>0.0</td>\n",
              "      <td>0.0</td>\n",
              "      <td>...</td>\n",
              "      <td>0.0</td>\n",
              "      <td>0.0</td>\n",
              "      <td>0.0</td>\n",
              "      <td>0.0</td>\n",
              "      <td>0.0</td>\n",
              "      <td>0.0</td>\n",
              "      <td>0.0</td>\n",
              "      <td>0.0</td>\n",
              "      <td>0.0</td>\n",
              "      <td>0.0</td>\n",
              "      <td>0.0</td>\n",
              "      <td>0.0</td>\n",
              "      <td>0.0</td>\n",
              "      <td>0.0</td>\n",
              "      <td>0.0</td>\n",
              "      <td>0.0</td>\n",
              "      <td>0.0</td>\n",
              "      <td>0.0</td>\n",
              "      <td>0.0</td>\n",
              "      <td>0.0</td>\n",
              "      <td>0.0</td>\n",
              "      <td>0.0</td>\n",
              "      <td>0.0</td>\n",
              "      <td>0.0</td>\n",
              "      <td>0.0</td>\n",
              "      <td>0.0</td>\n",
              "      <td>0.0</td>\n",
              "      <td>0.0</td>\n",
              "      <td>0.0</td>\n",
              "      <td>0.0</td>\n",
              "      <td>0.0</td>\n",
              "      <td>0.0</td>\n",
              "      <td>0.0</td>\n",
              "      <td>0.0</td>\n",
              "      <td>0.0</td>\n",
              "      <td>0.0</td>\n",
              "      <td>0.0</td>\n",
              "      <td>0.0</td>\n",
              "      <td>0.0</td>\n",
              "      <td>0.0</td>\n",
              "    </tr>\n",
              "    <tr>\n",
              "      <th>1</th>\n",
              "      <td>0.0</td>\n",
              "      <td>0.0</td>\n",
              "      <td>0.0</td>\n",
              "      <td>0.0</td>\n",
              "      <td>0.0</td>\n",
              "      <td>0.0</td>\n",
              "      <td>0.0</td>\n",
              "      <td>0.0</td>\n",
              "      <td>0.0</td>\n",
              "      <td>0.0</td>\n",
              "      <td>0.0</td>\n",
              "      <td>0.0</td>\n",
              "      <td>0.0</td>\n",
              "      <td>0.0</td>\n",
              "      <td>0.0</td>\n",
              "      <td>0.0</td>\n",
              "      <td>0.0</td>\n",
              "      <td>0.0</td>\n",
              "      <td>0.0</td>\n",
              "      <td>0.0</td>\n",
              "      <td>0.0</td>\n",
              "      <td>0.0</td>\n",
              "      <td>0.0</td>\n",
              "      <td>0.0</td>\n",
              "      <td>0.0</td>\n",
              "      <td>0.0</td>\n",
              "      <td>0.0</td>\n",
              "      <td>0.0</td>\n",
              "      <td>0.0</td>\n",
              "      <td>0.0</td>\n",
              "      <td>0.0</td>\n",
              "      <td>0.0</td>\n",
              "      <td>0.0</td>\n",
              "      <td>0.0</td>\n",
              "      <td>0.0</td>\n",
              "      <td>0.0</td>\n",
              "      <td>0.0</td>\n",
              "      <td>0.0</td>\n",
              "      <td>0.0</td>\n",
              "      <td>0.0</td>\n",
              "      <td>...</td>\n",
              "      <td>0.0</td>\n",
              "      <td>0.0</td>\n",
              "      <td>0.0</td>\n",
              "      <td>0.0</td>\n",
              "      <td>0.0</td>\n",
              "      <td>0.0</td>\n",
              "      <td>0.0</td>\n",
              "      <td>0.0</td>\n",
              "      <td>0.0</td>\n",
              "      <td>0.0</td>\n",
              "      <td>0.0</td>\n",
              "      <td>0.0</td>\n",
              "      <td>0.0</td>\n",
              "      <td>0.0</td>\n",
              "      <td>0.0</td>\n",
              "      <td>0.0</td>\n",
              "      <td>0.0</td>\n",
              "      <td>0.0</td>\n",
              "      <td>0.0</td>\n",
              "      <td>0.0</td>\n",
              "      <td>0.0</td>\n",
              "      <td>0.0</td>\n",
              "      <td>0.0</td>\n",
              "      <td>0.0</td>\n",
              "      <td>0.0</td>\n",
              "      <td>0.0</td>\n",
              "      <td>0.0</td>\n",
              "      <td>0.0</td>\n",
              "      <td>0.0</td>\n",
              "      <td>0.0</td>\n",
              "      <td>0.0</td>\n",
              "      <td>0.0</td>\n",
              "      <td>0.0</td>\n",
              "      <td>0.0</td>\n",
              "      <td>0.0</td>\n",
              "      <td>0.0</td>\n",
              "      <td>0.0</td>\n",
              "      <td>0.0</td>\n",
              "      <td>0.0</td>\n",
              "      <td>0.0</td>\n",
              "    </tr>\n",
              "    <tr>\n",
              "      <th>2</th>\n",
              "      <td>0.0</td>\n",
              "      <td>0.0</td>\n",
              "      <td>0.0</td>\n",
              "      <td>0.0</td>\n",
              "      <td>0.0</td>\n",
              "      <td>0.0</td>\n",
              "      <td>0.0</td>\n",
              "      <td>0.0</td>\n",
              "      <td>0.0</td>\n",
              "      <td>0.0</td>\n",
              "      <td>0.0</td>\n",
              "      <td>0.0</td>\n",
              "      <td>0.0</td>\n",
              "      <td>0.0</td>\n",
              "      <td>0.0</td>\n",
              "      <td>0.0</td>\n",
              "      <td>0.0</td>\n",
              "      <td>0.0</td>\n",
              "      <td>0.0</td>\n",
              "      <td>0.0</td>\n",
              "      <td>0.0</td>\n",
              "      <td>0.0</td>\n",
              "      <td>0.0</td>\n",
              "      <td>0.0</td>\n",
              "      <td>0.0</td>\n",
              "      <td>0.0</td>\n",
              "      <td>0.0</td>\n",
              "      <td>0.0</td>\n",
              "      <td>0.0</td>\n",
              "      <td>0.0</td>\n",
              "      <td>0.0</td>\n",
              "      <td>0.0</td>\n",
              "      <td>0.0</td>\n",
              "      <td>0.0</td>\n",
              "      <td>0.0</td>\n",
              "      <td>0.0</td>\n",
              "      <td>0.0</td>\n",
              "      <td>0.0</td>\n",
              "      <td>0.0</td>\n",
              "      <td>0.0</td>\n",
              "      <td>...</td>\n",
              "      <td>0.0</td>\n",
              "      <td>0.0</td>\n",
              "      <td>0.0</td>\n",
              "      <td>0.0</td>\n",
              "      <td>0.0</td>\n",
              "      <td>0.0</td>\n",
              "      <td>0.0</td>\n",
              "      <td>0.0</td>\n",
              "      <td>0.0</td>\n",
              "      <td>0.0</td>\n",
              "      <td>0.0</td>\n",
              "      <td>0.0</td>\n",
              "      <td>0.0</td>\n",
              "      <td>0.0</td>\n",
              "      <td>0.0</td>\n",
              "      <td>0.0</td>\n",
              "      <td>0.0</td>\n",
              "      <td>0.0</td>\n",
              "      <td>0.0</td>\n",
              "      <td>0.0</td>\n",
              "      <td>0.0</td>\n",
              "      <td>0.0</td>\n",
              "      <td>0.0</td>\n",
              "      <td>0.0</td>\n",
              "      <td>0.0</td>\n",
              "      <td>0.0</td>\n",
              "      <td>0.0</td>\n",
              "      <td>0.0</td>\n",
              "      <td>0.0</td>\n",
              "      <td>0.0</td>\n",
              "      <td>0.0</td>\n",
              "      <td>0.0</td>\n",
              "      <td>0.0</td>\n",
              "      <td>0.0</td>\n",
              "      <td>0.0</td>\n",
              "      <td>0.0</td>\n",
              "      <td>0.0</td>\n",
              "      <td>0.0</td>\n",
              "      <td>0.0</td>\n",
              "      <td>0.0</td>\n",
              "    </tr>\n",
              "    <tr>\n",
              "      <th>3</th>\n",
              "      <td>0.0</td>\n",
              "      <td>0.0</td>\n",
              "      <td>0.0</td>\n",
              "      <td>0.0</td>\n",
              "      <td>0.0</td>\n",
              "      <td>0.0</td>\n",
              "      <td>0.0</td>\n",
              "      <td>0.0</td>\n",
              "      <td>0.0</td>\n",
              "      <td>0.0</td>\n",
              "      <td>0.0</td>\n",
              "      <td>0.0</td>\n",
              "      <td>0.0</td>\n",
              "      <td>0.0</td>\n",
              "      <td>0.0</td>\n",
              "      <td>0.0</td>\n",
              "      <td>0.0</td>\n",
              "      <td>0.0</td>\n",
              "      <td>0.0</td>\n",
              "      <td>0.0</td>\n",
              "      <td>0.0</td>\n",
              "      <td>0.0</td>\n",
              "      <td>0.0</td>\n",
              "      <td>0.0</td>\n",
              "      <td>0.0</td>\n",
              "      <td>0.0</td>\n",
              "      <td>0.0</td>\n",
              "      <td>0.0</td>\n",
              "      <td>0.0</td>\n",
              "      <td>0.0</td>\n",
              "      <td>0.0</td>\n",
              "      <td>0.0</td>\n",
              "      <td>0.0</td>\n",
              "      <td>0.0</td>\n",
              "      <td>0.0</td>\n",
              "      <td>0.0</td>\n",
              "      <td>0.0</td>\n",
              "      <td>0.0</td>\n",
              "      <td>0.0</td>\n",
              "      <td>0.0</td>\n",
              "      <td>...</td>\n",
              "      <td>0.0</td>\n",
              "      <td>0.0</td>\n",
              "      <td>0.0</td>\n",
              "      <td>0.0</td>\n",
              "      <td>0.0</td>\n",
              "      <td>0.0</td>\n",
              "      <td>0.0</td>\n",
              "      <td>0.0</td>\n",
              "      <td>0.0</td>\n",
              "      <td>0.0</td>\n",
              "      <td>0.0</td>\n",
              "      <td>0.0</td>\n",
              "      <td>0.0</td>\n",
              "      <td>0.0</td>\n",
              "      <td>0.0</td>\n",
              "      <td>0.0</td>\n",
              "      <td>0.0</td>\n",
              "      <td>0.0</td>\n",
              "      <td>0.0</td>\n",
              "      <td>0.0</td>\n",
              "      <td>0.0</td>\n",
              "      <td>0.0</td>\n",
              "      <td>0.0</td>\n",
              "      <td>0.0</td>\n",
              "      <td>0.0</td>\n",
              "      <td>0.0</td>\n",
              "      <td>0.0</td>\n",
              "      <td>0.0</td>\n",
              "      <td>0.0</td>\n",
              "      <td>0.0</td>\n",
              "      <td>0.0</td>\n",
              "      <td>0.0</td>\n",
              "      <td>0.0</td>\n",
              "      <td>0.0</td>\n",
              "      <td>0.0</td>\n",
              "      <td>0.0</td>\n",
              "      <td>0.0</td>\n",
              "      <td>0.0</td>\n",
              "      <td>0.0</td>\n",
              "      <td>0.0</td>\n",
              "    </tr>\n",
              "    <tr>\n",
              "      <th>4</th>\n",
              "      <td>0.0</td>\n",
              "      <td>0.0</td>\n",
              "      <td>0.0</td>\n",
              "      <td>0.0</td>\n",
              "      <td>0.0</td>\n",
              "      <td>0.0</td>\n",
              "      <td>0.0</td>\n",
              "      <td>0.0</td>\n",
              "      <td>0.0</td>\n",
              "      <td>0.0</td>\n",
              "      <td>0.0</td>\n",
              "      <td>0.0</td>\n",
              "      <td>0.0</td>\n",
              "      <td>0.0</td>\n",
              "      <td>0.0</td>\n",
              "      <td>0.0</td>\n",
              "      <td>0.0</td>\n",
              "      <td>0.0</td>\n",
              "      <td>0.0</td>\n",
              "      <td>0.0</td>\n",
              "      <td>0.0</td>\n",
              "      <td>0.0</td>\n",
              "      <td>0.0</td>\n",
              "      <td>0.0</td>\n",
              "      <td>0.0</td>\n",
              "      <td>0.0</td>\n",
              "      <td>0.0</td>\n",
              "      <td>0.0</td>\n",
              "      <td>0.0</td>\n",
              "      <td>0.0</td>\n",
              "      <td>0.0</td>\n",
              "      <td>0.0</td>\n",
              "      <td>0.0</td>\n",
              "      <td>0.0</td>\n",
              "      <td>0.0</td>\n",
              "      <td>0.0</td>\n",
              "      <td>0.0</td>\n",
              "      <td>0.0</td>\n",
              "      <td>0.0</td>\n",
              "      <td>0.0</td>\n",
              "      <td>...</td>\n",
              "      <td>0.0</td>\n",
              "      <td>0.0</td>\n",
              "      <td>0.0</td>\n",
              "      <td>0.0</td>\n",
              "      <td>0.0</td>\n",
              "      <td>0.0</td>\n",
              "      <td>0.0</td>\n",
              "      <td>0.0</td>\n",
              "      <td>0.0</td>\n",
              "      <td>0.0</td>\n",
              "      <td>0.0</td>\n",
              "      <td>0.0</td>\n",
              "      <td>0.0</td>\n",
              "      <td>0.0</td>\n",
              "      <td>0.0</td>\n",
              "      <td>0.0</td>\n",
              "      <td>0.0</td>\n",
              "      <td>0.0</td>\n",
              "      <td>0.0</td>\n",
              "      <td>0.0</td>\n",
              "      <td>0.0</td>\n",
              "      <td>0.0</td>\n",
              "      <td>0.0</td>\n",
              "      <td>0.0</td>\n",
              "      <td>0.0</td>\n",
              "      <td>0.0</td>\n",
              "      <td>0.0</td>\n",
              "      <td>0.0</td>\n",
              "      <td>0.0</td>\n",
              "      <td>0.0</td>\n",
              "      <td>0.0</td>\n",
              "      <td>0.0</td>\n",
              "      <td>0.0</td>\n",
              "      <td>0.0</td>\n",
              "      <td>0.0</td>\n",
              "      <td>0.0</td>\n",
              "      <td>0.0</td>\n",
              "      <td>0.0</td>\n",
              "      <td>0.0</td>\n",
              "      <td>0.0</td>\n",
              "    </tr>\n",
              "  </tbody>\n",
              "</table>\n",
              "<p>5 rows × 8687 columns</p>\n",
              "</div>"
            ],
            "text/plain": [
              "   -PRON-   aa  aa aaa  aa alkaline  ...  zero  zero problem  zipper  zone\n",
              "0     0.0  0.0     0.0          0.0  ...   0.0           0.0     0.0   0.0\n",
              "1     0.0  0.0     0.0          0.0  ...   0.0           0.0     0.0   0.0\n",
              "2     0.0  0.0     0.0          0.0  ...   0.0           0.0     0.0   0.0\n",
              "3     0.0  0.0     0.0          0.0  ...   0.0           0.0     0.0   0.0\n",
              "4     0.0  0.0     0.0          0.0  ...   0.0           0.0     0.0   0.0\n",
              "\n",
              "[5 rows x 8687 columns]"
            ]
          },
          "metadata": {
            "tags": []
          },
          "execution_count": 126
        }
      ]
    },
    {
      "cell_type": "markdown",
      "metadata": {
        "id": "UziZTKF86aCl"
      },
      "source": [
        "> ❓ ***n-gram 은 무엇일까요?<br/>\n",
        "검색을 통해 n-gram에 대해 조사해보고 왜 n-gram이라는 방법론이 등장했을 지에 대해서 생각해봅시다.***"
      ]
    },
    {
      "cell_type": "code",
      "metadata": {
        "id": "tbTTf1VYo7Gx",
        "colab": {
          "base_uri": "https://localhost:8080/"
        },
        "outputId": "deb79d64-f350-4856-8684-ae857cff8314"
      },
      "source": [
        "dtm_tfidf_tuned.shape"
      ],
      "execution_count": null,
      "outputs": [
        {
          "output_type": "execute_result",
          "data": {
            "text/plain": [
              "(10483, 8687)"
            ]
          },
          "metadata": {
            "tags": []
          },
          "execution_count": 70
        }
      ]
    },
    {
      "cell_type": "markdown",
      "metadata": {
        "id": "Fw0B1rMJSqO2"
      },
      "source": [
        "> **아마존 리뷰 데이터에 `tfidfVectorizer` 적용하기**\n",
        "\n",
        "아마존 리뷰 데이터에 TF-IDF(`tfidfVectorizer`) 를 적용해봅시다."
      ]
    },
    {
      "cell_type": "code",
      "metadata": {
        "colab": {
          "base_uri": "https://localhost:8080/",
          "height": 442
        },
        "id": "JmuHrSJgUJRC",
        "outputId": "897dd4f9-8117-4e16-b085-93fc7a7ad7cf"
      },
      "source": [
        "tfidf_vect = TfidfVectorizer(stop_words='english', max_features=100)\n",
        "\n",
        "# Fit 후 dtm을 만듭니다.(문서, 단어마다 tf-idf 값을 계산합니다)\n",
        "dtm_tfidf_amazon = tfidf_vect.fit_transform(df['reviews.text'])\n",
        "\n",
        "dtm_tfidf_amazon = pd.DataFrame(dtm_tfidf_amazon.todense(), columns=tfidf_vect.get_feature_names())\n",
        "dtm_tfidf_amazon"
      ],
      "execution_count": null,
      "outputs": [
        {
          "output_type": "execute_result",
          "data": {
            "text/html": [
              "<div>\n",
              "<style scoped>\n",
              "    .dataframe tbody tr th:only-of-type {\n",
              "        vertical-align: middle;\n",
              "    }\n",
              "\n",
              "    .dataframe tbody tr th {\n",
              "        vertical-align: top;\n",
              "    }\n",
              "\n",
              "    .dataframe thead th {\n",
              "        text-align: right;\n",
              "    }\n",
              "</style>\n",
              "<table border=\"1\" class=\"dataframe\">\n",
              "  <thead>\n",
              "    <tr style=\"text-align: right;\">\n",
              "      <th></th>\n",
              "      <th>aa</th>\n",
              "      <th>able</th>\n",
              "      <th>amazon</th>\n",
              "      <th>app</th>\n",
              "      <th>apps</th>\n",
              "      <th>awesome</th>\n",
              "      <th>batteries</th>\n",
              "      <th>battery</th>\n",
              "      <th>best</th>\n",
              "      <th>better</th>\n",
              "      <th>big</th>\n",
              "      <th>books</th>\n",
              "      <th>bought</th>\n",
              "      <th>brand</th>\n",
              "      <th>brands</th>\n",
              "      <th>buy</th>\n",
              "      <th>buying</th>\n",
              "      <th>case</th>\n",
              "      <th>charge</th>\n",
              "      <th>cheap</th>\n",
              "      <th>christmas</th>\n",
              "      <th>daughter</th>\n",
              "      <th>deal</th>\n",
              "      <th>device</th>\n",
              "      <th>did</th>\n",
              "      <th>does</th>\n",
              "      <th>don</th>\n",
              "      <th>duracell</th>\n",
              "      <th>easy</th>\n",
              "      <th>excellent</th>\n",
              "      <th>far</th>\n",
              "      <th>fast</th>\n",
              "      <th>features</th>\n",
              "      <th>free</th>\n",
              "      <th>games</th>\n",
              "      <th>gift</th>\n",
              "      <th>good</th>\n",
              "      <th>got</th>\n",
              "      <th>great</th>\n",
              "      <th>happy</th>\n",
              "      <th>...</th>\n",
              "      <th>new</th>\n",
              "      <th>nice</th>\n",
              "      <th>old</th>\n",
              "      <th>perfect</th>\n",
              "      <th>play</th>\n",
              "      <th>pretty</th>\n",
              "      <th>price</th>\n",
              "      <th>prime</th>\n",
              "      <th>product</th>\n",
              "      <th>purchase</th>\n",
              "      <th>purchased</th>\n",
              "      <th>quality</th>\n",
              "      <th>read</th>\n",
              "      <th>reading</th>\n",
              "      <th>really</th>\n",
              "      <th>recommend</th>\n",
              "      <th>right</th>\n",
              "      <th>say</th>\n",
              "      <th>screen</th>\n",
              "      <th>set</th>\n",
              "      <th>size</th>\n",
              "      <th>son</th>\n",
              "      <th>store</th>\n",
              "      <th>tablet</th>\n",
              "      <th>tablets</th>\n",
              "      <th>things</th>\n",
              "      <th>time</th>\n",
              "      <th>use</th>\n",
              "      <th>used</th>\n",
              "      <th>using</th>\n",
              "      <th>value</th>\n",
              "      <th>ve</th>\n",
              "      <th>want</th>\n",
              "      <th>wanted</th>\n",
              "      <th>way</th>\n",
              "      <th>wife</th>\n",
              "      <th>work</th>\n",
              "      <th>works</th>\n",
              "      <th>year</th>\n",
              "      <th>years</th>\n",
              "    </tr>\n",
              "  </thead>\n",
              "  <tbody>\n",
              "    <tr>\n",
              "      <th>0</th>\n",
              "      <td>0.0</td>\n",
              "      <td>0.0</td>\n",
              "      <td>0.0</td>\n",
              "      <td>0.0</td>\n",
              "      <td>0.0</td>\n",
              "      <td>0.0</td>\n",
              "      <td>0.000000</td>\n",
              "      <td>0.000000</td>\n",
              "      <td>0.0</td>\n",
              "      <td>0.0</td>\n",
              "      <td>0.0</td>\n",
              "      <td>0.000000</td>\n",
              "      <td>0.000000</td>\n",
              "      <td>0.0</td>\n",
              "      <td>0.0</td>\n",
              "      <td>0.0</td>\n",
              "      <td>0.00000</td>\n",
              "      <td>0.0</td>\n",
              "      <td>0.0</td>\n",
              "      <td>0.457928</td>\n",
              "      <td>0.0</td>\n",
              "      <td>0.0</td>\n",
              "      <td>0.000000</td>\n",
              "      <td>0.0</td>\n",
              "      <td>0.0</td>\n",
              "      <td>0.0</td>\n",
              "      <td>0.000000</td>\n",
              "      <td>0.0</td>\n",
              "      <td>0.000000</td>\n",
              "      <td>0.000000</td>\n",
              "      <td>0.0</td>\n",
              "      <td>0.0</td>\n",
              "      <td>0.000000</td>\n",
              "      <td>0.0</td>\n",
              "      <td>0.000000</td>\n",
              "      <td>0.0</td>\n",
              "      <td>0.252485</td>\n",
              "      <td>0.393798</td>\n",
              "      <td>0.207586</td>\n",
              "      <td>0.0</td>\n",
              "      <td>...</td>\n",
              "      <td>0.000000</td>\n",
              "      <td>0.0</td>\n",
              "      <td>0.000000</td>\n",
              "      <td>0.0</td>\n",
              "      <td>0.399573</td>\n",
              "      <td>0.0</td>\n",
              "      <td>0.255532</td>\n",
              "      <td>0.0</td>\n",
              "      <td>0.0</td>\n",
              "      <td>0.0</td>\n",
              "      <td>0.000000</td>\n",
              "      <td>0.000000</td>\n",
              "      <td>0.000000</td>\n",
              "      <td>0.398154</td>\n",
              "      <td>0.000000</td>\n",
              "      <td>0.0</td>\n",
              "      <td>0.0</td>\n",
              "      <td>0.000000</td>\n",
              "      <td>0.380661</td>\n",
              "      <td>0.0</td>\n",
              "      <td>0.0</td>\n",
              "      <td>0.000000</td>\n",
              "      <td>0.0</td>\n",
              "      <td>0.000000</td>\n",
              "      <td>0.000000</td>\n",
              "      <td>0.000000</td>\n",
              "      <td>0.0</td>\n",
              "      <td>0.000000</td>\n",
              "      <td>0.0</td>\n",
              "      <td>0.0</td>\n",
              "      <td>0.000000</td>\n",
              "      <td>0.000000</td>\n",
              "      <td>0.000000</td>\n",
              "      <td>0.0</td>\n",
              "      <td>0.0</td>\n",
              "      <td>0.0</td>\n",
              "      <td>0.0</td>\n",
              "      <td>0.0</td>\n",
              "      <td>0.0</td>\n",
              "      <td>0.000000</td>\n",
              "    </tr>\n",
              "    <tr>\n",
              "      <th>1</th>\n",
              "      <td>0.0</td>\n",
              "      <td>0.0</td>\n",
              "      <td>0.0</td>\n",
              "      <td>0.0</td>\n",
              "      <td>0.0</td>\n",
              "      <td>0.0</td>\n",
              "      <td>0.000000</td>\n",
              "      <td>0.000000</td>\n",
              "      <td>0.0</td>\n",
              "      <td>0.0</td>\n",
              "      <td>0.0</td>\n",
              "      <td>0.000000</td>\n",
              "      <td>0.000000</td>\n",
              "      <td>0.0</td>\n",
              "      <td>0.0</td>\n",
              "      <td>0.0</td>\n",
              "      <td>0.00000</td>\n",
              "      <td>0.0</td>\n",
              "      <td>0.0</td>\n",
              "      <td>0.000000</td>\n",
              "      <td>0.0</td>\n",
              "      <td>0.0</td>\n",
              "      <td>0.000000</td>\n",
              "      <td>0.0</td>\n",
              "      <td>0.0</td>\n",
              "      <td>0.0</td>\n",
              "      <td>0.245328</td>\n",
              "      <td>0.0</td>\n",
              "      <td>0.000000</td>\n",
              "      <td>0.000000</td>\n",
              "      <td>0.0</td>\n",
              "      <td>0.0</td>\n",
              "      <td>0.000000</td>\n",
              "      <td>0.0</td>\n",
              "      <td>0.233705</td>\n",
              "      <td>0.0</td>\n",
              "      <td>0.000000</td>\n",
              "      <td>0.251040</td>\n",
              "      <td>0.000000</td>\n",
              "      <td>0.0</td>\n",
              "      <td>...</td>\n",
              "      <td>0.000000</td>\n",
              "      <td>0.0</td>\n",
              "      <td>0.217074</td>\n",
              "      <td>0.0</td>\n",
              "      <td>0.000000</td>\n",
              "      <td>0.0</td>\n",
              "      <td>0.000000</td>\n",
              "      <td>0.0</td>\n",
              "      <td>0.0</td>\n",
              "      <td>0.0</td>\n",
              "      <td>0.241926</td>\n",
              "      <td>0.000000</td>\n",
              "      <td>0.000000</td>\n",
              "      <td>0.000000</td>\n",
              "      <td>0.000000</td>\n",
              "      <td>0.0</td>\n",
              "      <td>0.0</td>\n",
              "      <td>0.000000</td>\n",
              "      <td>0.000000</td>\n",
              "      <td>0.0</td>\n",
              "      <td>0.0</td>\n",
              "      <td>0.258483</td>\n",
              "      <td>0.0</td>\n",
              "      <td>0.000000</td>\n",
              "      <td>0.000000</td>\n",
              "      <td>0.293069</td>\n",
              "      <td>0.0</td>\n",
              "      <td>0.000000</td>\n",
              "      <td>0.0</td>\n",
              "      <td>0.0</td>\n",
              "      <td>0.000000</td>\n",
              "      <td>0.000000</td>\n",
              "      <td>0.299166</td>\n",
              "      <td>0.0</td>\n",
              "      <td>0.0</td>\n",
              "      <td>0.0</td>\n",
              "      <td>0.0</td>\n",
              "      <td>0.0</td>\n",
              "      <td>0.0</td>\n",
              "      <td>0.296040</td>\n",
              "    </tr>\n",
              "    <tr>\n",
              "      <th>2</th>\n",
              "      <td>0.0</td>\n",
              "      <td>0.0</td>\n",
              "      <td>0.0</td>\n",
              "      <td>0.0</td>\n",
              "      <td>0.0</td>\n",
              "      <td>0.0</td>\n",
              "      <td>0.299601</td>\n",
              "      <td>0.000000</td>\n",
              "      <td>0.0</td>\n",
              "      <td>0.0</td>\n",
              "      <td>0.0</td>\n",
              "      <td>0.000000</td>\n",
              "      <td>0.000000</td>\n",
              "      <td>0.0</td>\n",
              "      <td>0.0</td>\n",
              "      <td>0.0</td>\n",
              "      <td>0.56571</td>\n",
              "      <td>0.0</td>\n",
              "      <td>0.0</td>\n",
              "      <td>0.000000</td>\n",
              "      <td>0.0</td>\n",
              "      <td>0.0</td>\n",
              "      <td>0.000000</td>\n",
              "      <td>0.0</td>\n",
              "      <td>0.0</td>\n",
              "      <td>0.0</td>\n",
              "      <td>0.000000</td>\n",
              "      <td>0.0</td>\n",
              "      <td>0.000000</td>\n",
              "      <td>0.000000</td>\n",
              "      <td>0.0</td>\n",
              "      <td>0.0</td>\n",
              "      <td>0.000000</td>\n",
              "      <td>0.0</td>\n",
              "      <td>0.000000</td>\n",
              "      <td>0.0</td>\n",
              "      <td>0.000000</td>\n",
              "      <td>0.000000</td>\n",
              "      <td>0.498852</td>\n",
              "      <td>0.0</td>\n",
              "      <td>...</td>\n",
              "      <td>0.000000</td>\n",
              "      <td>0.0</td>\n",
              "      <td>0.000000</td>\n",
              "      <td>0.0</td>\n",
              "      <td>0.000000</td>\n",
              "      <td>0.0</td>\n",
              "      <td>0.307035</td>\n",
              "      <td>0.0</td>\n",
              "      <td>0.0</td>\n",
              "      <td>0.0</td>\n",
              "      <td>0.000000</td>\n",
              "      <td>0.000000</td>\n",
              "      <td>0.000000</td>\n",
              "      <td>0.000000</td>\n",
              "      <td>0.000000</td>\n",
              "      <td>0.0</td>\n",
              "      <td>0.0</td>\n",
              "      <td>0.000000</td>\n",
              "      <td>0.000000</td>\n",
              "      <td>0.0</td>\n",
              "      <td>0.0</td>\n",
              "      <td>0.000000</td>\n",
              "      <td>0.0</td>\n",
              "      <td>0.000000</td>\n",
              "      <td>0.000000</td>\n",
              "      <td>0.000000</td>\n",
              "      <td>0.0</td>\n",
              "      <td>0.000000</td>\n",
              "      <td>0.0</td>\n",
              "      <td>0.0</td>\n",
              "      <td>0.000000</td>\n",
              "      <td>0.000000</td>\n",
              "      <td>0.000000</td>\n",
              "      <td>0.0</td>\n",
              "      <td>0.0</td>\n",
              "      <td>0.0</td>\n",
              "      <td>0.0</td>\n",
              "      <td>0.0</td>\n",
              "      <td>0.0</td>\n",
              "      <td>0.000000</td>\n",
              "    </tr>\n",
              "    <tr>\n",
              "      <th>3</th>\n",
              "      <td>0.0</td>\n",
              "      <td>0.0</td>\n",
              "      <td>0.0</td>\n",
              "      <td>0.0</td>\n",
              "      <td>0.0</td>\n",
              "      <td>0.0</td>\n",
              "      <td>0.000000</td>\n",
              "      <td>0.000000</td>\n",
              "      <td>0.0</td>\n",
              "      <td>0.0</td>\n",
              "      <td>0.0</td>\n",
              "      <td>0.000000</td>\n",
              "      <td>0.000000</td>\n",
              "      <td>0.0</td>\n",
              "      <td>0.0</td>\n",
              "      <td>0.0</td>\n",
              "      <td>0.00000</td>\n",
              "      <td>0.0</td>\n",
              "      <td>0.0</td>\n",
              "      <td>0.000000</td>\n",
              "      <td>0.0</td>\n",
              "      <td>0.0</td>\n",
              "      <td>0.000000</td>\n",
              "      <td>0.0</td>\n",
              "      <td>0.0</td>\n",
              "      <td>0.0</td>\n",
              "      <td>0.000000</td>\n",
              "      <td>0.0</td>\n",
              "      <td>0.000000</td>\n",
              "      <td>0.000000</td>\n",
              "      <td>0.0</td>\n",
              "      <td>0.0</td>\n",
              "      <td>0.000000</td>\n",
              "      <td>0.0</td>\n",
              "      <td>0.000000</td>\n",
              "      <td>0.0</td>\n",
              "      <td>0.000000</td>\n",
              "      <td>0.000000</td>\n",
              "      <td>0.293721</td>\n",
              "      <td>0.0</td>\n",
              "      <td>...</td>\n",
              "      <td>0.000000</td>\n",
              "      <td>0.0</td>\n",
              "      <td>0.000000</td>\n",
              "      <td>0.0</td>\n",
              "      <td>0.000000</td>\n",
              "      <td>0.0</td>\n",
              "      <td>0.000000</td>\n",
              "      <td>0.0</td>\n",
              "      <td>0.0</td>\n",
              "      <td>0.0</td>\n",
              "      <td>0.000000</td>\n",
              "      <td>0.000000</td>\n",
              "      <td>0.000000</td>\n",
              "      <td>0.000000</td>\n",
              "      <td>0.000000</td>\n",
              "      <td>0.0</td>\n",
              "      <td>0.0</td>\n",
              "      <td>0.000000</td>\n",
              "      <td>0.000000</td>\n",
              "      <td>0.0</td>\n",
              "      <td>0.0</td>\n",
              "      <td>0.000000</td>\n",
              "      <td>0.0</td>\n",
              "      <td>0.351868</td>\n",
              "      <td>0.623798</td>\n",
              "      <td>0.000000</td>\n",
              "      <td>0.0</td>\n",
              "      <td>0.000000</td>\n",
              "      <td>0.0</td>\n",
              "      <td>0.0</td>\n",
              "      <td>0.000000</td>\n",
              "      <td>0.000000</td>\n",
              "      <td>0.000000</td>\n",
              "      <td>0.0</td>\n",
              "      <td>0.0</td>\n",
              "      <td>0.0</td>\n",
              "      <td>0.0</td>\n",
              "      <td>0.0</td>\n",
              "      <td>0.0</td>\n",
              "      <td>0.000000</td>\n",
              "    </tr>\n",
              "    <tr>\n",
              "      <th>4</th>\n",
              "      <td>0.0</td>\n",
              "      <td>0.0</td>\n",
              "      <td>0.0</td>\n",
              "      <td>0.0</td>\n",
              "      <td>0.0</td>\n",
              "      <td>0.0</td>\n",
              "      <td>0.326565</td>\n",
              "      <td>0.461113</td>\n",
              "      <td>0.0</td>\n",
              "      <td>0.0</td>\n",
              "      <td>0.0</td>\n",
              "      <td>0.000000</td>\n",
              "      <td>0.000000</td>\n",
              "      <td>0.0</td>\n",
              "      <td>0.0</td>\n",
              "      <td>0.0</td>\n",
              "      <td>0.00000</td>\n",
              "      <td>0.0</td>\n",
              "      <td>0.0</td>\n",
              "      <td>0.000000</td>\n",
              "      <td>0.0</td>\n",
              "      <td>0.0</td>\n",
              "      <td>0.000000</td>\n",
              "      <td>0.0</td>\n",
              "      <td>0.0</td>\n",
              "      <td>0.0</td>\n",
              "      <td>0.000000</td>\n",
              "      <td>0.0</td>\n",
              "      <td>0.000000</td>\n",
              "      <td>0.000000</td>\n",
              "      <td>0.0</td>\n",
              "      <td>0.0</td>\n",
              "      <td>0.000000</td>\n",
              "      <td>0.0</td>\n",
              "      <td>0.000000</td>\n",
              "      <td>0.0</td>\n",
              "      <td>0.000000</td>\n",
              "      <td>0.000000</td>\n",
              "      <td>0.000000</td>\n",
              "      <td>0.0</td>\n",
              "      <td>...</td>\n",
              "      <td>0.000000</td>\n",
              "      <td>0.0</td>\n",
              "      <td>0.000000</td>\n",
              "      <td>0.0</td>\n",
              "      <td>0.000000</td>\n",
              "      <td>0.0</td>\n",
              "      <td>0.000000</td>\n",
              "      <td>0.0</td>\n",
              "      <td>0.0</td>\n",
              "      <td>0.0</td>\n",
              "      <td>0.000000</td>\n",
              "      <td>0.000000</td>\n",
              "      <td>0.000000</td>\n",
              "      <td>0.000000</td>\n",
              "      <td>0.501907</td>\n",
              "      <td>0.0</td>\n",
              "      <td>0.0</td>\n",
              "      <td>0.000000</td>\n",
              "      <td>0.000000</td>\n",
              "      <td>0.0</td>\n",
              "      <td>0.0</td>\n",
              "      <td>0.000000</td>\n",
              "      <td>0.0</td>\n",
              "      <td>0.000000</td>\n",
              "      <td>0.000000</td>\n",
              "      <td>0.000000</td>\n",
              "      <td>0.0</td>\n",
              "      <td>0.363401</td>\n",
              "      <td>0.0</td>\n",
              "      <td>0.0</td>\n",
              "      <td>0.000000</td>\n",
              "      <td>0.000000</td>\n",
              "      <td>0.000000</td>\n",
              "      <td>0.0</td>\n",
              "      <td>0.0</td>\n",
              "      <td>0.0</td>\n",
              "      <td>0.0</td>\n",
              "      <td>0.0</td>\n",
              "      <td>0.0</td>\n",
              "      <td>0.000000</td>\n",
              "    </tr>\n",
              "    <tr>\n",
              "      <th>...</th>\n",
              "      <td>...</td>\n",
              "      <td>...</td>\n",
              "      <td>...</td>\n",
              "      <td>...</td>\n",
              "      <td>...</td>\n",
              "      <td>...</td>\n",
              "      <td>...</td>\n",
              "      <td>...</td>\n",
              "      <td>...</td>\n",
              "      <td>...</td>\n",
              "      <td>...</td>\n",
              "      <td>...</td>\n",
              "      <td>...</td>\n",
              "      <td>...</td>\n",
              "      <td>...</td>\n",
              "      <td>...</td>\n",
              "      <td>...</td>\n",
              "      <td>...</td>\n",
              "      <td>...</td>\n",
              "      <td>...</td>\n",
              "      <td>...</td>\n",
              "      <td>...</td>\n",
              "      <td>...</td>\n",
              "      <td>...</td>\n",
              "      <td>...</td>\n",
              "      <td>...</td>\n",
              "      <td>...</td>\n",
              "      <td>...</td>\n",
              "      <td>...</td>\n",
              "      <td>...</td>\n",
              "      <td>...</td>\n",
              "      <td>...</td>\n",
              "      <td>...</td>\n",
              "      <td>...</td>\n",
              "      <td>...</td>\n",
              "      <td>...</td>\n",
              "      <td>...</td>\n",
              "      <td>...</td>\n",
              "      <td>...</td>\n",
              "      <td>...</td>\n",
              "      <td>...</td>\n",
              "      <td>...</td>\n",
              "      <td>...</td>\n",
              "      <td>...</td>\n",
              "      <td>...</td>\n",
              "      <td>...</td>\n",
              "      <td>...</td>\n",
              "      <td>...</td>\n",
              "      <td>...</td>\n",
              "      <td>...</td>\n",
              "      <td>...</td>\n",
              "      <td>...</td>\n",
              "      <td>...</td>\n",
              "      <td>...</td>\n",
              "      <td>...</td>\n",
              "      <td>...</td>\n",
              "      <td>...</td>\n",
              "      <td>...</td>\n",
              "      <td>...</td>\n",
              "      <td>...</td>\n",
              "      <td>...</td>\n",
              "      <td>...</td>\n",
              "      <td>...</td>\n",
              "      <td>...</td>\n",
              "      <td>...</td>\n",
              "      <td>...</td>\n",
              "      <td>...</td>\n",
              "      <td>...</td>\n",
              "      <td>...</td>\n",
              "      <td>...</td>\n",
              "      <td>...</td>\n",
              "      <td>...</td>\n",
              "      <td>...</td>\n",
              "      <td>...</td>\n",
              "      <td>...</td>\n",
              "      <td>...</td>\n",
              "      <td>...</td>\n",
              "      <td>...</td>\n",
              "      <td>...</td>\n",
              "      <td>...</td>\n",
              "      <td>...</td>\n",
              "    </tr>\n",
              "    <tr>\n",
              "      <th>10478</th>\n",
              "      <td>0.0</td>\n",
              "      <td>0.0</td>\n",
              "      <td>0.0</td>\n",
              "      <td>0.0</td>\n",
              "      <td>0.0</td>\n",
              "      <td>0.0</td>\n",
              "      <td>0.000000</td>\n",
              "      <td>0.000000</td>\n",
              "      <td>0.0</td>\n",
              "      <td>0.0</td>\n",
              "      <td>0.0</td>\n",
              "      <td>0.000000</td>\n",
              "      <td>0.000000</td>\n",
              "      <td>0.0</td>\n",
              "      <td>0.0</td>\n",
              "      <td>0.0</td>\n",
              "      <td>0.00000</td>\n",
              "      <td>0.0</td>\n",
              "      <td>0.0</td>\n",
              "      <td>0.000000</td>\n",
              "      <td>0.0</td>\n",
              "      <td>0.0</td>\n",
              "      <td>0.000000</td>\n",
              "      <td>0.0</td>\n",
              "      <td>0.0</td>\n",
              "      <td>0.0</td>\n",
              "      <td>0.000000</td>\n",
              "      <td>0.0</td>\n",
              "      <td>0.000000</td>\n",
              "      <td>0.000000</td>\n",
              "      <td>0.0</td>\n",
              "      <td>0.0</td>\n",
              "      <td>0.326874</td>\n",
              "      <td>0.0</td>\n",
              "      <td>0.000000</td>\n",
              "      <td>0.0</td>\n",
              "      <td>0.000000</td>\n",
              "      <td>0.000000</td>\n",
              "      <td>0.000000</td>\n",
              "      <td>0.0</td>\n",
              "      <td>...</td>\n",
              "      <td>0.000000</td>\n",
              "      <td>0.0</td>\n",
              "      <td>0.000000</td>\n",
              "      <td>0.0</td>\n",
              "      <td>0.000000</td>\n",
              "      <td>0.0</td>\n",
              "      <td>0.000000</td>\n",
              "      <td>0.0</td>\n",
              "      <td>0.0</td>\n",
              "      <td>0.0</td>\n",
              "      <td>0.000000</td>\n",
              "      <td>0.000000</td>\n",
              "      <td>0.000000</td>\n",
              "      <td>0.000000</td>\n",
              "      <td>0.000000</td>\n",
              "      <td>0.0</td>\n",
              "      <td>0.0</td>\n",
              "      <td>0.332863</td>\n",
              "      <td>0.000000</td>\n",
              "      <td>0.0</td>\n",
              "      <td>0.0</td>\n",
              "      <td>0.000000</td>\n",
              "      <td>0.0</td>\n",
              "      <td>0.000000</td>\n",
              "      <td>0.000000</td>\n",
              "      <td>0.000000</td>\n",
              "      <td>0.0</td>\n",
              "      <td>0.000000</td>\n",
              "      <td>0.0</td>\n",
              "      <td>0.0</td>\n",
              "      <td>0.000000</td>\n",
              "      <td>0.308623</td>\n",
              "      <td>0.000000</td>\n",
              "      <td>0.0</td>\n",
              "      <td>0.0</td>\n",
              "      <td>0.0</td>\n",
              "      <td>0.0</td>\n",
              "      <td>0.0</td>\n",
              "      <td>0.0</td>\n",
              "      <td>0.331485</td>\n",
              "    </tr>\n",
              "    <tr>\n",
              "      <th>10479</th>\n",
              "      <td>0.0</td>\n",
              "      <td>0.0</td>\n",
              "      <td>0.0</td>\n",
              "      <td>0.0</td>\n",
              "      <td>0.0</td>\n",
              "      <td>0.0</td>\n",
              "      <td>0.358530</td>\n",
              "      <td>0.000000</td>\n",
              "      <td>0.0</td>\n",
              "      <td>0.0</td>\n",
              "      <td>0.0</td>\n",
              "      <td>0.000000</td>\n",
              "      <td>0.000000</td>\n",
              "      <td>0.0</td>\n",
              "      <td>0.0</td>\n",
              "      <td>0.0</td>\n",
              "      <td>0.00000</td>\n",
              "      <td>0.0</td>\n",
              "      <td>0.0</td>\n",
              "      <td>0.000000</td>\n",
              "      <td>0.0</td>\n",
              "      <td>0.0</td>\n",
              "      <td>0.598486</td>\n",
              "      <td>0.0</td>\n",
              "      <td>0.0</td>\n",
              "      <td>0.0</td>\n",
              "      <td>0.000000</td>\n",
              "      <td>0.0</td>\n",
              "      <td>0.000000</td>\n",
              "      <td>0.615035</td>\n",
              "      <td>0.0</td>\n",
              "      <td>0.0</td>\n",
              "      <td>0.000000</td>\n",
              "      <td>0.0</td>\n",
              "      <td>0.000000</td>\n",
              "      <td>0.0</td>\n",
              "      <td>0.000000</td>\n",
              "      <td>0.000000</td>\n",
              "      <td>0.000000</td>\n",
              "      <td>0.0</td>\n",
              "      <td>...</td>\n",
              "      <td>0.000000</td>\n",
              "      <td>0.0</td>\n",
              "      <td>0.000000</td>\n",
              "      <td>0.0</td>\n",
              "      <td>0.000000</td>\n",
              "      <td>0.0</td>\n",
              "      <td>0.367427</td>\n",
              "      <td>0.0</td>\n",
              "      <td>0.0</td>\n",
              "      <td>0.0</td>\n",
              "      <td>0.000000</td>\n",
              "      <td>0.000000</td>\n",
              "      <td>0.000000</td>\n",
              "      <td>0.000000</td>\n",
              "      <td>0.000000</td>\n",
              "      <td>0.0</td>\n",
              "      <td>0.0</td>\n",
              "      <td>0.000000</td>\n",
              "      <td>0.000000</td>\n",
              "      <td>0.0</td>\n",
              "      <td>0.0</td>\n",
              "      <td>0.000000</td>\n",
              "      <td>0.0</td>\n",
              "      <td>0.000000</td>\n",
              "      <td>0.000000</td>\n",
              "      <td>0.000000</td>\n",
              "      <td>0.0</td>\n",
              "      <td>0.000000</td>\n",
              "      <td>0.0</td>\n",
              "      <td>0.0</td>\n",
              "      <td>0.000000</td>\n",
              "      <td>0.000000</td>\n",
              "      <td>0.000000</td>\n",
              "      <td>0.0</td>\n",
              "      <td>0.0</td>\n",
              "      <td>0.0</td>\n",
              "      <td>0.0</td>\n",
              "      <td>0.0</td>\n",
              "      <td>0.0</td>\n",
              "      <td>0.000000</td>\n",
              "    </tr>\n",
              "    <tr>\n",
              "      <th>10480</th>\n",
              "      <td>0.0</td>\n",
              "      <td>0.0</td>\n",
              "      <td>0.0</td>\n",
              "      <td>0.0</td>\n",
              "      <td>0.0</td>\n",
              "      <td>0.0</td>\n",
              "      <td>0.000000</td>\n",
              "      <td>0.448231</td>\n",
              "      <td>0.0</td>\n",
              "      <td>0.0</td>\n",
              "      <td>0.0</td>\n",
              "      <td>0.000000</td>\n",
              "      <td>0.000000</td>\n",
              "      <td>0.0</td>\n",
              "      <td>0.0</td>\n",
              "      <td>0.0</td>\n",
              "      <td>0.00000</td>\n",
              "      <td>0.0</td>\n",
              "      <td>0.0</td>\n",
              "      <td>0.000000</td>\n",
              "      <td>0.0</td>\n",
              "      <td>0.0</td>\n",
              "      <td>0.000000</td>\n",
              "      <td>0.0</td>\n",
              "      <td>0.0</td>\n",
              "      <td>0.0</td>\n",
              "      <td>0.000000</td>\n",
              "      <td>0.0</td>\n",
              "      <td>0.000000</td>\n",
              "      <td>0.000000</td>\n",
              "      <td>0.0</td>\n",
              "      <td>0.0</td>\n",
              "      <td>0.000000</td>\n",
              "      <td>0.0</td>\n",
              "      <td>0.000000</td>\n",
              "      <td>0.0</td>\n",
              "      <td>0.000000</td>\n",
              "      <td>0.000000</td>\n",
              "      <td>0.528558</td>\n",
              "      <td>0.0</td>\n",
              "      <td>...</td>\n",
              "      <td>0.000000</td>\n",
              "      <td>0.0</td>\n",
              "      <td>0.000000</td>\n",
              "      <td>0.0</td>\n",
              "      <td>0.000000</td>\n",
              "      <td>0.0</td>\n",
              "      <td>0.000000</td>\n",
              "      <td>0.0</td>\n",
              "      <td>0.0</td>\n",
              "      <td>0.0</td>\n",
              "      <td>0.000000</td>\n",
              "      <td>0.000000</td>\n",
              "      <td>0.000000</td>\n",
              "      <td>0.000000</td>\n",
              "      <td>0.000000</td>\n",
              "      <td>0.0</td>\n",
              "      <td>0.0</td>\n",
              "      <td>0.000000</td>\n",
              "      <td>0.000000</td>\n",
              "      <td>0.0</td>\n",
              "      <td>0.0</td>\n",
              "      <td>0.000000</td>\n",
              "      <td>0.0</td>\n",
              "      <td>0.000000</td>\n",
              "      <td>0.000000</td>\n",
              "      <td>0.000000</td>\n",
              "      <td>0.0</td>\n",
              "      <td>0.000000</td>\n",
              "      <td>0.0</td>\n",
              "      <td>0.0</td>\n",
              "      <td>0.496322</td>\n",
              "      <td>0.000000</td>\n",
              "      <td>0.000000</td>\n",
              "      <td>0.0</td>\n",
              "      <td>0.0</td>\n",
              "      <td>0.0</td>\n",
              "      <td>0.0</td>\n",
              "      <td>0.0</td>\n",
              "      <td>0.0</td>\n",
              "      <td>0.000000</td>\n",
              "    </tr>\n",
              "    <tr>\n",
              "      <th>10481</th>\n",
              "      <td>0.0</td>\n",
              "      <td>0.0</td>\n",
              "      <td>0.0</td>\n",
              "      <td>0.0</td>\n",
              "      <td>0.0</td>\n",
              "      <td>0.0</td>\n",
              "      <td>0.000000</td>\n",
              "      <td>0.000000</td>\n",
              "      <td>0.0</td>\n",
              "      <td>0.0</td>\n",
              "      <td>0.0</td>\n",
              "      <td>0.000000</td>\n",
              "      <td>0.000000</td>\n",
              "      <td>0.0</td>\n",
              "      <td>0.0</td>\n",
              "      <td>0.0</td>\n",
              "      <td>0.00000</td>\n",
              "      <td>0.0</td>\n",
              "      <td>0.0</td>\n",
              "      <td>0.000000</td>\n",
              "      <td>0.0</td>\n",
              "      <td>0.0</td>\n",
              "      <td>0.000000</td>\n",
              "      <td>0.0</td>\n",
              "      <td>0.0</td>\n",
              "      <td>0.0</td>\n",
              "      <td>0.000000</td>\n",
              "      <td>0.0</td>\n",
              "      <td>0.000000</td>\n",
              "      <td>0.000000</td>\n",
              "      <td>0.0</td>\n",
              "      <td>0.0</td>\n",
              "      <td>0.000000</td>\n",
              "      <td>0.0</td>\n",
              "      <td>0.000000</td>\n",
              "      <td>0.0</td>\n",
              "      <td>0.000000</td>\n",
              "      <td>0.000000</td>\n",
              "      <td>0.448729</td>\n",
              "      <td>0.0</td>\n",
              "      <td>...</td>\n",
              "      <td>0.893668</td>\n",
              "      <td>0.0</td>\n",
              "      <td>0.000000</td>\n",
              "      <td>0.0</td>\n",
              "      <td>0.000000</td>\n",
              "      <td>0.0</td>\n",
              "      <td>0.000000</td>\n",
              "      <td>0.0</td>\n",
              "      <td>0.0</td>\n",
              "      <td>0.0</td>\n",
              "      <td>0.000000</td>\n",
              "      <td>0.000000</td>\n",
              "      <td>0.000000</td>\n",
              "      <td>0.000000</td>\n",
              "      <td>0.000000</td>\n",
              "      <td>0.0</td>\n",
              "      <td>0.0</td>\n",
              "      <td>0.000000</td>\n",
              "      <td>0.000000</td>\n",
              "      <td>0.0</td>\n",
              "      <td>0.0</td>\n",
              "      <td>0.000000</td>\n",
              "      <td>0.0</td>\n",
              "      <td>0.000000</td>\n",
              "      <td>0.000000</td>\n",
              "      <td>0.000000</td>\n",
              "      <td>0.0</td>\n",
              "      <td>0.000000</td>\n",
              "      <td>0.0</td>\n",
              "      <td>0.0</td>\n",
              "      <td>0.000000</td>\n",
              "      <td>0.000000</td>\n",
              "      <td>0.000000</td>\n",
              "      <td>0.0</td>\n",
              "      <td>0.0</td>\n",
              "      <td>0.0</td>\n",
              "      <td>0.0</td>\n",
              "      <td>0.0</td>\n",
              "      <td>0.0</td>\n",
              "      <td>0.000000</td>\n",
              "    </tr>\n",
              "    <tr>\n",
              "      <th>10482</th>\n",
              "      <td>0.0</td>\n",
              "      <td>0.0</td>\n",
              "      <td>0.0</td>\n",
              "      <td>0.0</td>\n",
              "      <td>0.0</td>\n",
              "      <td>0.0</td>\n",
              "      <td>0.000000</td>\n",
              "      <td>0.000000</td>\n",
              "      <td>0.0</td>\n",
              "      <td>0.0</td>\n",
              "      <td>0.0</td>\n",
              "      <td>0.367449</td>\n",
              "      <td>0.291016</td>\n",
              "      <td>0.0</td>\n",
              "      <td>0.0</td>\n",
              "      <td>0.0</td>\n",
              "      <td>0.00000</td>\n",
              "      <td>0.0</td>\n",
              "      <td>0.0</td>\n",
              "      <td>0.000000</td>\n",
              "      <td>0.0</td>\n",
              "      <td>0.0</td>\n",
              "      <td>0.000000</td>\n",
              "      <td>0.0</td>\n",
              "      <td>0.0</td>\n",
              "      <td>0.0</td>\n",
              "      <td>0.000000</td>\n",
              "      <td>0.0</td>\n",
              "      <td>0.303598</td>\n",
              "      <td>0.000000</td>\n",
              "      <td>0.0</td>\n",
              "      <td>0.0</td>\n",
              "      <td>0.000000</td>\n",
              "      <td>0.0</td>\n",
              "      <td>0.000000</td>\n",
              "      <td>0.0</td>\n",
              "      <td>0.244219</td>\n",
              "      <td>0.000000</td>\n",
              "      <td>0.200790</td>\n",
              "      <td>0.0</td>\n",
              "      <td>...</td>\n",
              "      <td>0.000000</td>\n",
              "      <td>0.0</td>\n",
              "      <td>0.000000</td>\n",
              "      <td>0.0</td>\n",
              "      <td>0.000000</td>\n",
              "      <td>0.0</td>\n",
              "      <td>0.247166</td>\n",
              "      <td>0.0</td>\n",
              "      <td>0.0</td>\n",
              "      <td>0.0</td>\n",
              "      <td>0.000000</td>\n",
              "      <td>0.368576</td>\n",
              "      <td>0.386491</td>\n",
              "      <td>0.000000</td>\n",
              "      <td>0.000000</td>\n",
              "      <td>0.0</td>\n",
              "      <td>0.0</td>\n",
              "      <td>0.000000</td>\n",
              "      <td>0.000000</td>\n",
              "      <td>0.0</td>\n",
              "      <td>0.0</td>\n",
              "      <td>0.000000</td>\n",
              "      <td>0.0</td>\n",
              "      <td>0.000000</td>\n",
              "      <td>0.000000</td>\n",
              "      <td>0.000000</td>\n",
              "      <td>0.0</td>\n",
              "      <td>0.000000</td>\n",
              "      <td>0.0</td>\n",
              "      <td>0.0</td>\n",
              "      <td>0.377089</td>\n",
              "      <td>0.000000</td>\n",
              "      <td>0.000000</td>\n",
              "      <td>0.0</td>\n",
              "      <td>0.0</td>\n",
              "      <td>0.0</td>\n",
              "      <td>0.0</td>\n",
              "      <td>0.0</td>\n",
              "      <td>0.0</td>\n",
              "      <td>0.000000</td>\n",
              "    </tr>\n",
              "  </tbody>\n",
              "</table>\n",
              "<p>10483 rows × 100 columns</p>\n",
              "</div>"
            ],
            "text/plain": [
              "        aa  able  amazon  app  apps  ...  wife  work  works  year     years\n",
              "0      0.0   0.0     0.0  0.0   0.0  ...   0.0   0.0    0.0   0.0  0.000000\n",
              "1      0.0   0.0     0.0  0.0   0.0  ...   0.0   0.0    0.0   0.0  0.296040\n",
              "2      0.0   0.0     0.0  0.0   0.0  ...   0.0   0.0    0.0   0.0  0.000000\n",
              "3      0.0   0.0     0.0  0.0   0.0  ...   0.0   0.0    0.0   0.0  0.000000\n",
              "4      0.0   0.0     0.0  0.0   0.0  ...   0.0   0.0    0.0   0.0  0.000000\n",
              "...    ...   ...     ...  ...   ...  ...   ...   ...    ...   ...       ...\n",
              "10478  0.0   0.0     0.0  0.0   0.0  ...   0.0   0.0    0.0   0.0  0.331485\n",
              "10479  0.0   0.0     0.0  0.0   0.0  ...   0.0   0.0    0.0   0.0  0.000000\n",
              "10480  0.0   0.0     0.0  0.0   0.0  ...   0.0   0.0    0.0   0.0  0.000000\n",
              "10481  0.0   0.0     0.0  0.0   0.0  ...   0.0   0.0    0.0   0.0  0.000000\n",
              "10482  0.0   0.0     0.0  0.0   0.0  ...   0.0   0.0    0.0   0.0  0.000000\n",
              "\n",
              "[10483 rows x 100 columns]"
            ]
          },
          "metadata": {
            "tags": []
          },
          "execution_count": 127
        }
      ]
    },
    {
      "cell_type": "markdown",
      "metadata": {
        "id": "Cy_nK91EpmTO"
      },
      "source": [
        "> ❗️ ***`CountVectorizer` 와 `TfidfVectorizer` 의 차이는 무엇이며 각각의 장단점은 무엇일지에 대해 생각해봅시다.***"
      ]
    },
    {
      "cell_type": "markdown",
      "metadata": {
        "id": "oNiNYgJNo9-U"
      },
      "source": [
        "### 6) 유사도를 이용해 문서를 검색해 봅시다"
      ]
    },
    {
      "cell_type": "markdown",
      "metadata": {
        "id": "ahSuv8vcpVfk"
      },
      "source": [
        "네이버, 구글과 같은 검색엔진의 원리는 무엇일까요?<br/>\n",
        "검색엔진이 단순히 검색어를 인터넷에 존재하는 여러 문서들과 같은 지만 비교하지는 않습니다.\n",
        "\n",
        "검색 엔진은 검색어(Query, 쿼리)와 문서에 있는 단어(Key,키)를 매칭(Matching) 하여 결과를 보여줍니다.<br/>\n",
        "아래 그림은 쿼리와 키의 관계를 보여주는 그림입니다.\n",
        "\n",
        "<img align=\"center\" src=\"https://i.imgur.com/JdCQr1l.png\" width=400 title=\"search_engine\">\n",
        "\n",
        "매칭의 방법에는 방법은 여러 가지가 있으나 이번에는 가장 클래식한 방법인 **\"유사도 측정 방법\"**을 시도해 보겠습니다."
      ]
    },
    {
      "cell_type": "markdown",
      "metadata": {
        "id": "bjorTKS2vY31"
      },
      "source": [
        "- **코사인 유사도(Cosine Similarity)**\n",
        "\n",
        "코사인 유사도는 가장 많이 쓰이는 유사도 측정 방법입니다.<br/>\n",
        "코사인 유사도를 구하는 방법은 아래와 같습니다.\n",
        "\n",
        "\n",
        "$\\Large \\text{cosine similarity} = cos (\\theta)=\\frac{A⋅B}{\\Vert A\\Vert \\Vert B \\Vert}$"
      ]
    },
    {
      "cell_type": "markdown",
      "metadata": {
        "id": "enEQIr0zpZZk"
      },
      "source": [
        "<img align=\"center\" src=\"https://images.deepai.org/glossary-terms/cosine-similarity-1007790.jpg\" width=700 title=\"Cosine Similarity\" alt=\"https://deepai.org/machine-learning-glossary-and-terms/cosine-similarity\">"
      ]
    },
    {
      "cell_type": "markdown",
      "metadata": {
        "id": "i1DhHzIVpbX2"
      },
      "source": [
        "코사인 유사도는 두 벡터가 이루는 각의 코사인 값을 이용하여 구할 수 있는 유사도입니다.\n",
        "\n",
        "- 두 벡터(문서)가 \n",
        "    - 완전히 같을 경우 1이며\n",
        "    - 90도의 각을 이루면 0\n",
        "    - 완전히 반대방향을 이루면 -1 입니다\n",
        "\n",
        "> ❗️ ***실제 사용되는 유사도 측정 방법은 코사인 유사도 말고도 다양합니다.<br/>\n",
        "나중에 어떤 유사도 측정 방법이 있는 지에 대해서도 알아보도록 합시다.***"
      ]
    },
    {
      "cell_type": "markdown",
      "metadata": {
        "id": "nP5bVEFoof9Y"
      },
      "source": [
        "- **NearestNeighbor (K-NN, K-최근접 이웃)**"
      ]
    },
    {
      "cell_type": "markdown",
      "metadata": {
        "id": "ztmYgFZAp8ao"
      },
      "source": [
        "K-최근접 이웃법은 쿼리와 가장 가까운 상위 K개의 근접한 데이터를 찾아서 K개 데이터의 유사성을 기반으로 **점을 추정하거나 분류**하는 예측 분석에 사용됩니다.<br/>"
      ]
    },
    {
      "cell_type": "markdown",
      "metadata": {
        "id": "msOZD62fr22Z"
      },
      "source": [
        "사이킷런 `sklearn` 의 **`NearestNeighbors`** 를 사용하면 K-최근접 이웃 알고리즘을 사용할 수 있습니다."
      ]
    },
    {
      "cell_type": "code",
      "metadata": {
        "id": "PvnZfPhtpVHw",
        "colab": {
          "base_uri": "https://localhost:8080/"
        },
        "outputId": "922daf2e-f626-43a4-bbb5-2d1cc58bad15"
      },
      "source": [
        "from sklearn.neighbors import NearestNeighbors\n",
        "\n",
        "# dtm을 사용히 NN 모델을 학습시킵니다. (디폴트)최근접 5 이웃.\n",
        "nn = NearestNeighbors(n_neighbors=5, algorithm='kd_tree')\n",
        "nn.fit(dtm_tfidf_amazon)"
      ],
      "execution_count": null,
      "outputs": [
        {
          "output_type": "execute_result",
          "data": {
            "text/plain": [
              "NearestNeighbors(algorithm='kd_tree', leaf_size=30, metric='minkowski',\n",
              "                 metric_params=None, n_jobs=None, n_neighbors=5, p=2,\n",
              "                 radius=1.0)"
            ]
          },
          "metadata": {
            "tags": []
          },
          "execution_count": 128
        }
      ]
    },
    {
      "cell_type": "markdown",
      "metadata": {
        "id": "HeEJbhW4sAV2"
      },
      "source": [
        "2 번째 인덱스에 해당하는 문서와 가장 가까운 문서 (0 포함) 5개의 거리(값이 작을수록 유사합니다)와 문서의 인덱스를 알 수 있습니다."
      ]
    },
    {
      "cell_type": "code",
      "metadata": {
        "id": "GxV2aq_er-qU",
        "colab": {
          "base_uri": "https://localhost:8080/"
        },
        "outputId": "9cae51d4-df6d-4c6a-958e-7729f8cf349c"
      },
      "source": [
        "nn.kneighbors([dtm_tfidf_amazon.iloc[2]])"
      ],
      "execution_count": null,
      "outputs": [
        {
          "output_type": "execute_result",
          "data": {
            "text/plain": [
              "(array([[0.        , 0.64660432, 0.73047367, 0.76161463, 0.76161463]]),\n",
              " array([[   2, 7278, 6021, 1528, 4947]]))"
            ]
          },
          "metadata": {
            "tags": []
          },
          "execution_count": 130
        }
      ]
    },
    {
      "cell_type": "markdown",
      "metadata": {
        "id": "pWojbI7tsEw4"
      },
      "source": [
        "2 번째 인덱스 문서의 이웃인 7278 번째 인덱스 문서로 검색해 보겠습니다. "
      ]
    },
    {
      "cell_type": "code",
      "metadata": {
        "id": "DOdw5G03sFkC",
        "colab": {
          "base_uri": "https://localhost:8080/"
        },
        "outputId": "9604ca2c-0fea-47b9-a3fc-fc31b88dbb5a"
      },
      "source": [
        "nn.kneighbors([dtm_tfidf_amazon.iloc[7278]])"
      ],
      "execution_count": null,
      "outputs": [
        {
          "output_type": "execute_result",
          "data": {
            "text/plain": [
              "(array([[0.        , 0.43712229, 0.58937603, 0.58937603, 0.58937603]]),\n",
              " array([[7278, 6021, 7714, 3216,  746]]))"
            ]
          },
          "metadata": {
            "tags": []
          },
          "execution_count": 132
        }
      ]
    },
    {
      "cell_type": "code",
      "metadata": {
        "id": "LphUWcPjsHZ9",
        "colab": {
          "base_uri": "https://localhost:8080/"
        },
        "outputId": "b219161f-2364-4fe4-db9a-a1d8577a26fb"
      },
      "source": [
        "print(df['reviews.text'][2][:300])\n",
        "print(df['reviews.text'][7278][:300])"
      ],
      "execution_count": null,
      "outputs": [
        {
          "output_type": "stream",
          "text": [
            "Great price and great batteries! I will keep on buying these anytime I need more!\n",
            "Always need batteries and these come at a great price.\n"
          ],
          "name": "stdout"
        }
      ]
    },
    {
      "cell_type": "markdown",
      "metadata": {
        "id": "DzNrxrXVsWGu"
      },
      "source": [
        "#### 문서 검색 예제 "
      ]
    },
    {
      "cell_type": "markdown",
      "metadata": {
        "id": "hDG0zRgEqBKB"
      },
      "source": [
        "Amazon Review의 Sample을 가져와서 문서검색에 사용해봅시다.<br/>\n",
        "예시에 사용된 텍스트 이외의 리뷰를 적용해보아도 좋습니다."
      ]
    },
    {
      "cell_type": "code",
      "metadata": {
        "id": "APFdSpkksd7r"
      },
      "source": [
        "# 출처 : https://www.amazon.com/Samples/product-reviews/B000001HZ8?reviewerType=all_reviews\n",
        "sample_review = [\"\"\"in 1989, I managed a crummy bicycle shop, \"Full Cycle\" in Boulder, Colorado.\n",
        "The Samples had just recorded this album and they played most nights, at \"Tulagi's\" - a bar on 13th street.\n",
        "They told me they had been so broke and hungry, that they lived on the free samples at the local supermarkets - thus, the name.\n",
        "i used to fix their bikes for free, and even feed them, but they won't remember.\n",
        "That Sean Kelly is a gifted songwriter and singer.\"\"\"]"
      ],
      "execution_count": null,
      "outputs": []
    },
    {
      "cell_type": "markdown",
      "metadata": {
        "id": "Kh-wrB_xsgNv"
      },
      "source": [
        "학습된 **`TfidfVectorizer`** 를 통해 Sample Review 를 변환하겠습니다."
      ]
    },
    {
      "cell_type": "code",
      "metadata": {
        "id": "TUr_gGr9shOM"
      },
      "source": [
        "new = tfidf_vect.transform(sample_review)"
      ],
      "execution_count": null,
      "outputs": []
    },
    {
      "cell_type": "code",
      "metadata": {
        "id": "9-uNDIP3si70",
        "colab": {
          "base_uri": "https://localhost:8080/"
        },
        "outputId": "9d18b7a1-35b2-4552-ebb0-35434ef45625"
      },
      "source": [
        "nn.kneighbors(new.todense())"
      ],
      "execution_count": null,
      "outputs": [
        {
          "output_type": "execute_result",
          "data": {
            "text/plain": [
              "(array([[0.69016304, 0.81838594, 0.83745037, 0.85257729, 0.85257729]]),\n",
              " array([[10035,  2770,  1882,  9373,  3468]]))"
            ]
          },
          "metadata": {
            "tags": []
          },
          "execution_count": 137
        }
      ]
    },
    {
      "cell_type": "code",
      "metadata": {
        "id": "BW1DzA5eslJY",
        "colab": {
          "base_uri": "https://localhost:8080/",
          "height": 35
        },
        "outputId": "1bcd36d8-306b-4eb1-a454-5d64460a2bb0"
      },
      "source": [
        "# 가장 가깝게 나온 문서를 확인합니다 \n",
        "df['reviews.text'][10035]"
      ],
      "execution_count": null,
      "outputs": [
        {
          "output_type": "execute_result",
          "data": {
            "application/vnd.google.colaboratory.intrinsic+json": {
              "type": "string"
            },
            "text/plain": [
              "\"Doesn't get easier than this. Good products shipped to my office free, in two days:)\""
            ]
          },
          "metadata": {
            "tags": []
          },
          "execution_count": 138
        }
      ]
    },
    {
      "cell_type": "markdown",
      "metadata": {
        "id": "KJq622euqQiL"
      },
      "source": [
        "> ❗️ ***실제로도 입력 데이터와 유사한 문서가 출력되었나요?<br/>\n",
        "다른 데이터셋에 적용해 볼 때에도 실제로 데이터를 넣어보는 추론(Inference)과정을 거치면서<br/>\n",
        "모델이 예상대로 잘 동작하는 지를 관찰하는 습관을 가져보도록 합시다.***"
      ]
    },
    {
      "cell_type": "markdown",
      "metadata": {
        "id": "TWjmYKQaSz3b"
      },
      "source": [
        "## 🧐  Review"
      ]
    },
    {
      "cell_type": "markdown",
      "metadata": {
        "id": "qh8E4Z_eS15e"
      },
      "source": [
        "- 전처리(Preprocessing)\n",
        "    - 토큰화(Tokenization)\n",
        "    - 불용어(Stop words)\n",
        "    - 어간 추출(Stemming)과 표제어 추출(Lemmatization)\n",
        "\n",
        "- 등장 횟수 기반의 단어 표현(Count-based Representation)\n",
        "    - 문서-단어 행렬(Document-Term Matrix, DTM)\n",
        "    - Bag-of-words \n",
        "    - TF-IDF"
      ]
    },
    {
      "cell_type": "markdown",
      "metadata": {
        "id": "TwHPZTnJqwLP"
      },
      "source": [
        "### 🔝 References"
      ]
    },
    {
      "cell_type": "markdown",
      "metadata": {
        "id": "dCZ6aZc1TCfi"
      },
      "source": [
        "- [Spacy 101](https://course.spacy.io)\n",
        "- [regex101.com(정규식 연습)](https://regex101.com/)\n",
        "- [Python RegEx](https://www.w3schools.com/python/python_regex.asp#sub)\n",
        "- [정규 표현식 시작하기](https://wikidocs.net/4308#_2)\n",
        "\n"
      ]
    }
  ]
}