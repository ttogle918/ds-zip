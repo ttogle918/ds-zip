{
  "cells": [
    {
      "cell_type": "markdown",
      "metadata": {
        "id": "view-in-github",
        "colab_type": "text"
      },
      "source": [
        "<a href=\"https://colab.research.google.com/github/ttogle918/ds-section4-sprint2/blob/master/N421_count-based_representation/N421a_Count_based_Representation.ipynb\" target=\"_parent\"><img src=\"https://colab.research.google.com/assets/colab-badge.svg\" alt=\"Open In Colab\"/></a>"
      ]
    },
    {
      "cell_type": "markdown",
      "metadata": {
        "id": "za56W96DnxVC"
      },
      "source": [
        "<img align=\"right\" src=\"https://ds-cs-images.s3.ap-northeast-2.amazonaws.com/Codestates_Fulllogo_Color.png\" width=100>\n",
        "\n",
        "## *AIB / SECTION 4 / SPRINT 2 / NOTE 1*\n",
        "\n",
        "# 📝 Assignment\n",
        "\n",
        "---\n",
        "\n",
        "\n",
        "# Count-based_Representation"
      ]
    },
    {
      "cell_type": "markdown",
      "metadata": {
        "id": "68CzOVminxVR"
      },
      "source": [
        "indeed.com 에서 Data Scientist 키워드로 Job descrition을 찾아 스크래핑한 데이터를 이용해 과제를 진행해 보겠습니다.\n",
        "\n",
        "[Data_Scienties.csv](https://ds-lecture-data.s3.ap-northeast-2.amazonaws.com/indeed/Data_Scientist.csv) 파일에는 1300여개의 Data Scientist job description 정보가 담겨 있습니다."
      ]
    },
    {
      "cell_type": "markdown",
      "metadata": {
        "id": "Fon1gvE36a9Q"
      },
      "source": [
        "## 1. 데이터 전처리 (Text preprocessing)"
      ]
    },
    {
      "cell_type": "code",
      "execution_count": 1,
      "metadata": {
        "id": "cnvZzxM4EVMh"
      },
      "outputs": [],
      "source": [
        "import re\n",
        "import string\n",
        "\n",
        "import numpy as np\n",
        "import pandas as pd\n",
        "import matplotlib.pyplot as plt"
      ]
    },
    {
      "cell_type": "markdown",
      "metadata": {
        "id": "U1w7-dwwF5rW"
      },
      "source": [
        "### 0) 텍스트 분석에 앞서 데이터 전처리를 진행합니다."
      ]
    },
    {
      "cell_type": "markdown",
      "metadata": {
        "id": "3Omo3_B1FT_I"
      },
      "source": [
        "- 파일을 불러온 후 title, company, description 에 해당하는 Column만 남겨주세요.\n",
        "- 중복값을 제거하세요."
      ]
    },
    {
      "cell_type": "code",
      "execution_count": 2,
      "metadata": {
        "id": "IwdNT6hmEPhq"
      },
      "outputs": [],
      "source": [
        "df = pd.read_csv('https://ds-lecture-data.s3.ap-northeast-2.amazonaws.com/indeed/Data_Scientist.csv')"
      ]
    },
    {
      "cell_type": "code",
      "source": [
        "df = df[['title', 'company', 'description']]\n",
        "df.duplicated().sum()"
      ],
      "metadata": {
        "colab": {
          "base_uri": "https://localhost:8080/"
        },
        "id": "TjbyxwsP7B2X",
        "outputId": "ca6ae13f-9d72-4c3d-e69c-aef000764b9d"
      },
      "execution_count": 3,
      "outputs": [
        {
          "output_type": "execute_result",
          "data": {
            "text/plain": [
              "543"
            ]
          },
          "metadata": {},
          "execution_count": 3
        }
      ]
    },
    {
      "cell_type": "code",
      "source": [
        "df = df.drop_duplicates()\n",
        "df.isna().sum()"
      ],
      "metadata": {
        "colab": {
          "base_uri": "https://localhost:8080/"
        },
        "id": "NQt7VHc48MSp",
        "outputId": "b26ff8b2-3e21-479d-9e9d-84ed6bc4d9b3"
      },
      "execution_count": 4,
      "outputs": [
        {
          "output_type": "execute_result",
          "data": {
            "text/plain": [
              "title          0\n",
              "company        0\n",
              "description    0\n",
              "dtype: int64"
            ]
          },
          "metadata": {},
          "execution_count": 4
        }
      ]
    },
    {
      "cell_type": "code",
      "source": [
        "df.shape"
      ],
      "metadata": {
        "colab": {
          "base_uri": "https://localhost:8080/"
        },
        "id": "h44NNTka8ErP",
        "outputId": "cc774889-0223-4f7c-9560-bad37fa9c250"
      },
      "execution_count": 5,
      "outputs": [
        {
          "output_type": "execute_result",
          "data": {
            "text/plain": [
              "(757, 3)"
            ]
          },
          "metadata": {},
          "execution_count": 5
        }
      ]
    },
    {
      "cell_type": "markdown",
      "metadata": {
        "id": "JepbPJw5nxVT"
      },
      "source": [
        "### 1) 토큰을 정제합니다."
      ]
    },
    {
      "cell_type": "markdown",
      "metadata": {
        "id": "8Mq6oYCdQ0cZ"
      },
      "source": [
        "- 문자를 소문자로 통일\n",
        "- 분석에 관련 없는 정보 제거\n",
        "- 이번 과제는 `spacy` 로부터 `\"en_core_web_sm\"` 을 로드하여 진행해주세요.\n",
        "\n",
        "- **문항 1) 대문자를 소문자로 변경하는 함수를 입력하세요.**\n",
        "- **문항 2) 정규 표현식을 사용하여 re 라이브러리에서 알파벳 소문자, 숫자만 받을 수 있는 코드를 작성하세요.**"
      ]
    },
    {
      "cell_type": "code",
      "execution_count": 6,
      "metadata": {
        "id": "_VBRkXS6nxVT"
      },
      "outputs": [],
      "source": [
        "import spacy\n",
        "from spacy.tokenizer import Tokenizer\n",
        "\n",
        "nlp = spacy.load(\"en_core_web_sm\")\n",
        "tokenizer = Tokenizer(nlp.vocab)"
      ]
    },
    {
      "cell_type": "code",
      "source": [
        "def lower_and_regex(sentence):\n",
        "    \"\"\"\n",
        "    모든 대문자를 소문자로 변경 후\n",
        "    정규식을 이용하여 알파벳 소문자 이외의 구두점 삭제\n",
        "    \"\"\"\n",
        "    sentence = sentence.replace('\\n', ' ')\n",
        "    sentence = sentence.lower()\n",
        "    sentence = re.sub(r\"[^a-z0-9 ]\", \"\", sentence)\n",
        "    tokens = sentence.split()\n",
        "    return tokens"
      ],
      "metadata": {
        "id": "yrZdCynQ4ElX"
      },
      "execution_count": 7,
      "outputs": []
    },
    {
      "cell_type": "code",
      "source": [
        "df['tokens'] = df['description'].apply(lower_and_regex)\n",
        "df.tail()"
      ],
      "metadata": {
        "colab": {
          "base_uri": "https://localhost:8080/",
          "height": 336
        },
        "id": "P5f3_bkA1_x6",
        "outputId": "cd8cb371-5e3f-4448-a1dc-02344f98316f"
      },
      "execution_count": 8,
      "outputs": [
        {
          "output_type": "execute_result",
          "data": {
            "text/html": [
              "\n",
              "  <div id=\"df-1ef69c48-6d01-4b33-abb8-bfd5bf2ce80d\">\n",
              "    <div class=\"colab-df-container\">\n",
              "      <div>\n",
              "<style scoped>\n",
              "    .dataframe tbody tr th:only-of-type {\n",
              "        vertical-align: middle;\n",
              "    }\n",
              "\n",
              "    .dataframe tbody tr th {\n",
              "        vertical-align: top;\n",
              "    }\n",
              "\n",
              "    .dataframe thead th {\n",
              "        text-align: right;\n",
              "    }\n",
              "</style>\n",
              "<table border=\"1\" class=\"dataframe\">\n",
              "  <thead>\n",
              "    <tr style=\"text-align: right;\">\n",
              "      <th></th>\n",
              "      <th>title</th>\n",
              "      <th>company</th>\n",
              "      <th>description</th>\n",
              "      <th>tokens</th>\n",
              "    </tr>\n",
              "  </thead>\n",
              "  <tbody>\n",
              "    <tr>\n",
              "      <th>1288</th>\n",
              "      <td>Senior Data Analyst</td>\n",
              "      <td>Intuit</td>\n",
              "      <td>Our Expert Delivery &amp; Business Intelligence te...</td>\n",
              "      <td>[our, expert, delivery, business, intelligence...</td>\n",
              "    </tr>\n",
              "    <tr>\n",
              "      <th>1294</th>\n",
              "      <td>Senior / Data Scientist, Advertising Business</td>\n",
              "      <td>Spotify</td>\n",
              "      <td>Music for everyone, no credit card needed. It’...</td>\n",
              "      <td>[music, for, everyone, no, credit, card, neede...</td>\n",
              "    </tr>\n",
              "    <tr>\n",
              "      <th>1295</th>\n",
              "      <td>Senior Data &amp; Applied Scientist</td>\n",
              "      <td>Microsoft</td>\n",
              "      <td>Senior Data &amp; Applied Scientist\\nDo you have a...</td>\n",
              "      <td>[senior, data, applied, scientist, do, you, ha...</td>\n",
              "    </tr>\n",
              "    <tr>\n",
              "      <th>1297</th>\n",
              "      <td>Senior Data Scientist</td>\n",
              "      <td>eBay Inc.</td>\n",
              "      <td>eBay is a global commerce leader that allows y...</td>\n",
              "      <td>[ebay, is, a, global, commerce, leader, that, ...</td>\n",
              "    </tr>\n",
              "    <tr>\n",
              "      <th>1299</th>\n",
              "      <td>Senior Data Scientist</td>\n",
              "      <td>Spring Discovery</td>\n",
              "      <td>tl;dr\\nSpring is accelerating the discovery of...</td>\n",
              "      <td>[tldr, spring, is, accelerating, the, discover...</td>\n",
              "    </tr>\n",
              "  </tbody>\n",
              "</table>\n",
              "</div>\n",
              "      <button class=\"colab-df-convert\" onclick=\"convertToInteractive('df-1ef69c48-6d01-4b33-abb8-bfd5bf2ce80d')\"\n",
              "              title=\"Convert this dataframe to an interactive table.\"\n",
              "              style=\"display:none;\">\n",
              "        \n",
              "  <svg xmlns=\"http://www.w3.org/2000/svg\" height=\"24px\"viewBox=\"0 0 24 24\"\n",
              "       width=\"24px\">\n",
              "    <path d=\"M0 0h24v24H0V0z\" fill=\"none\"/>\n",
              "    <path d=\"M18.56 5.44l.94 2.06.94-2.06 2.06-.94-2.06-.94-.94-2.06-.94 2.06-2.06.94zm-11 1L8.5 8.5l.94-2.06 2.06-.94-2.06-.94L8.5 2.5l-.94 2.06-2.06.94zm10 10l.94 2.06.94-2.06 2.06-.94-2.06-.94-.94-2.06-.94 2.06-2.06.94z\"/><path d=\"M17.41 7.96l-1.37-1.37c-.4-.4-.92-.59-1.43-.59-.52 0-1.04.2-1.43.59L10.3 9.45l-7.72 7.72c-.78.78-.78 2.05 0 2.83L4 21.41c.39.39.9.59 1.41.59.51 0 1.02-.2 1.41-.59l7.78-7.78 2.81-2.81c.8-.78.8-2.07 0-2.86zM5.41 20L4 18.59l7.72-7.72 1.47 1.35L5.41 20z\"/>\n",
              "  </svg>\n",
              "      </button>\n",
              "      \n",
              "  <style>\n",
              "    .colab-df-container {\n",
              "      display:flex;\n",
              "      flex-wrap:wrap;\n",
              "      gap: 12px;\n",
              "    }\n",
              "\n",
              "    .colab-df-convert {\n",
              "      background-color: #E8F0FE;\n",
              "      border: none;\n",
              "      border-radius: 50%;\n",
              "      cursor: pointer;\n",
              "      display: none;\n",
              "      fill: #1967D2;\n",
              "      height: 32px;\n",
              "      padding: 0 0 0 0;\n",
              "      width: 32px;\n",
              "    }\n",
              "\n",
              "    .colab-df-convert:hover {\n",
              "      background-color: #E2EBFA;\n",
              "      box-shadow: 0px 1px 2px rgba(60, 64, 67, 0.3), 0px 1px 3px 1px rgba(60, 64, 67, 0.15);\n",
              "      fill: #174EA6;\n",
              "    }\n",
              "\n",
              "    [theme=dark] .colab-df-convert {\n",
              "      background-color: #3B4455;\n",
              "      fill: #D2E3FC;\n",
              "    }\n",
              "\n",
              "    [theme=dark] .colab-df-convert:hover {\n",
              "      background-color: #434B5C;\n",
              "      box-shadow: 0px 1px 3px 1px rgba(0, 0, 0, 0.15);\n",
              "      filter: drop-shadow(0px 1px 2px rgba(0, 0, 0, 0.3));\n",
              "      fill: #FFFFFF;\n",
              "    }\n",
              "  </style>\n",
              "\n",
              "      <script>\n",
              "        const buttonEl =\n",
              "          document.querySelector('#df-1ef69c48-6d01-4b33-abb8-bfd5bf2ce80d button.colab-df-convert');\n",
              "        buttonEl.style.display =\n",
              "          google.colab.kernel.accessAllowed ? 'block' : 'none';\n",
              "\n",
              "        async function convertToInteractive(key) {\n",
              "          const element = document.querySelector('#df-1ef69c48-6d01-4b33-abb8-bfd5bf2ce80d');\n",
              "          const dataTable =\n",
              "            await google.colab.kernel.invokeFunction('convertToInteractive',\n",
              "                                                     [key], {});\n",
              "          if (!dataTable) return;\n",
              "\n",
              "          const docLinkHtml = 'Like what you see? Visit the ' +\n",
              "            '<a target=\"_blank\" href=https://colab.research.google.com/notebooks/data_table.ipynb>data table notebook</a>'\n",
              "            + ' to learn more about interactive tables.';\n",
              "          element.innerHTML = '';\n",
              "          dataTable['output_type'] = 'display_data';\n",
              "          await google.colab.output.renderOutput(dataTable, element);\n",
              "          const docLink = document.createElement('div');\n",
              "          docLink.innerHTML = docLinkHtml;\n",
              "          element.appendChild(docLink);\n",
              "        }\n",
              "      </script>\n",
              "    </div>\n",
              "  </div>\n",
              "  "
            ],
            "text/plain": [
              "                                              title  ...                                             tokens\n",
              "1288                            Senior Data Analyst  ...  [our, expert, delivery, business, intelligence...\n",
              "1294  Senior / Data Scientist, Advertising Business  ...  [music, for, everyone, no, credit, card, neede...\n",
              "1295                Senior Data & Applied Scientist  ...  [senior, data, applied, scientist, do, you, ha...\n",
              "1297                          Senior Data Scientist  ...  [ebay, is, a, global, commerce, leader, that, ...\n",
              "1299                          Senior Data Scientist  ...  [tldr, spring, is, accelerating, the, discover...\n",
              "\n",
              "[5 rows x 4 columns]"
            ]
          },
          "metadata": {},
          "execution_count": 8
        }
      ]
    },
    {
      "cell_type": "markdown",
      "metadata": {
        "id": "RdgRqlzsnxVT"
      },
      "source": [
        "### 2) 정제한 토큰을 시각화 합니다."
      ]
    },
    {
      "cell_type": "markdown",
      "metadata": {
        "id": "sOobV051OOsv"
      },
      "source": [
        "- Top 10 토큰을 프린트 합니다.\n",
        "- 토큰의 수, 빈도 순위, 존재 문서 수, 비율 등 정보를 계산합니다.\n",
        "- 토큰 순위에 따른 퍼센트 누적 분포 그래프를 시각화합니다.\n",
        "\n",
        "- **문항 3) 추천 토큰 순위 10개 단어를 입력하세요.**"
      ]
    },
    {
      "cell_type": "code",
      "execution_count": 9,
      "metadata": {
        "id": "3Gk8_RIxcWKS",
        "colab": {
          "base_uri": "https://localhost:8080/"
        },
        "outputId": "7c7783d6-84e3-4245-de22-3678541e635c"
      },
      "outputs": [
        {
          "output_type": "execute_result",
          "data": {
            "text/plain": [
              "[('and', 21863),\n",
              " ('to', 12694),\n",
              " ('the', 10538),\n",
              " ('of', 8839),\n",
              " ('data', 7425),\n",
              " ('in', 6769),\n",
              " ('a', 6436),\n",
              " ('with', 5727),\n",
              " ('for', 4132),\n",
              " ('or', 3812)]"
            ]
          },
          "metadata": {},
          "execution_count": 9
        }
      ],
      "source": [
        "# Top 10 토큰을 프린트\n",
        "from collections import Counter\n",
        "\n",
        "word_counts = Counter()\n",
        "df['tokens'].apply(lambda x: word_counts.update(x))\n",
        "word_counts.most_common(10)"
      ]
    },
    {
      "cell_type": "code",
      "source": [
        "# 토큰의 수, 빈도 순위, 존재 문서 수, 비율 등 정보를 계산\n",
        "# word_counts"
      ],
      "metadata": {
        "id": "pCePFkl0Aa78"
      },
      "execution_count": 10,
      "outputs": []
    },
    {
      "cell_type": "code",
      "source": [
        "# wc = word_count(df['tokens'])\n",
        "# wc.head()"
      ],
      "metadata": {
        "id": "_ASi8TXCDqPs"
      },
      "execution_count": 11,
      "outputs": []
    },
    {
      "cell_type": "code",
      "source": [
        "# import seaborn as sns\n",
        "\n",
        "# sns.lineplot(x='rank', y='cul_percent', data=wc);"
      ],
      "metadata": {
        "id": "HVjdi15BDmia"
      },
      "execution_count": 12,
      "outputs": []
    },
    {
      "cell_type": "markdown",
      "metadata": {
        "id": "sURsv85FnxVU"
      },
      "source": [
        "### 4) 확장된 불용어 사전을 사용해 토큰을 정제합니다.\n"
      ]
    },
    {
      "cell_type": "markdown",
      "metadata": {
        "id": "d4FW5bGjRHb4"
      },
      "source": [
        "- **문항 4) 기본 불용어 사전에 두 단어(`\"data\", \"work\"`)를 추가하는 코드를 사용해주세요.**\n",
        "- **문항 5) 불용어를 제거하고 난 뒤 토큰 순위 10개의 단어를 입력하세요.**"
      ]
    },
    {
      "cell_type": "code",
      "execution_count": 13,
      "metadata": {
        "id": "yuxNolYCcWrv",
        "colab": {
          "base_uri": "https://localhost:8080/"
        },
        "outputId": "53f148f3-a3af-4e34-c808-128b14df42f9"
      },
      "outputs": [
        {
          "output_type": "stream",
          "name": "stdout",
          "text": [
            "{'became', 'whose', 'also', 'neither', 'only', 'fifteen', \"'ll\", '’ve', 'if', 'along', 'together', 'thus', 'being', 'of', 'hundred', 'upon', 'more', 'out', 'meanwhile', 'his', 'latterly', 'they', 'made', 'myself', 'eight', 'now', 'serious', 'be', 'when', \"'s\", 'whether', '‘ll', 're', 'yourself', 'me', 'four', 'make', 'many', 'against', 'to', 'i', 'the', 'which', 'everyone', 'once', 'behind', 'least', 'into', '’d', 'but', 'whereupon', 'latter', 'some', 'at', 'around', 'between', 'sometimes', 'anyway', 'show', 'amongst', 'before', 'own', 'these', 'seem', 'both', 'empty', 'always', 'call', 'across', 'otherwise', 'twenty', 'front', 'over', 'while', 'can', \"'d\", 'besides', 'must', 'again', 'all', 'you', 'except', 'first', 'however', 'yours', 'will', 'itself', 'herein', 'five', 'with', 'anywhere', 'elsewhere', '‘ve', 'top', 'for', 'too', 'above', 'toward', 'noone', 'are', 'may', 'could', 'thru', 'give', 'without', 'have', 'becomes', 'whoever', 'cannot', 'although', 'in', 'herself', 'whereas', 'do', 'perhaps', 'something', 'three', 'how', '‘m', 'six', 'would', 'already', 'go', '‘s', 'almost', 'sometime', 'wherein', 'themselves', \"'m\", 'via', 'off', 'due', 'or', 'nine', 'mine', 'used', 'thereby', 'very', 'anyhow', 'ca', 'ourselves', 'about', 'as', 'even', 'others', 'afterwards', 'well', 'everything', 'though', 'onto', 'quite', 'this', 'two', 'because', 'their', 'either', 'a', 'per', 'most', 'was', 'moreover', 'next', 'been', 'still', \"n't\", 'n‘t', 'beside', 'eleven', 'why', 'after', 'her', 'every', 'anything', 'never', 'thereafter', 'twelve', 'us', 'had', '’ll', 'rather', 'towards', 'somewhere', 'should', 'seemed', 'my', 'your', 'someone', 'until', 'since', 'what', 'therefore', 'wherever', 'among', 'during', 'done', 'them', 'whenever', 'everywhere', 'take', 'that', 'using', 'really', 'none', 'bottom', 'several', 'regarding', 'become', 'other', 'enough', 'hereafter', 'not', 'those', 'down', 'alone', 'whatever', 'anyone', 'beforehand', 'hers', 'ever', 'whereafter', 'whither', 'within', 'whole', 'him', 'see', 'does', 'same', 'much', 'few', 'we', 'an', 'back', 'indeed', 'there', 'get', 'by', 'each', 'last', 'she', 'where', 'seems', 'further', 'becoming', 'on', \"'ve\", 'nobody', 'no', 'nowhere', '’re', 'mostly', 'sixty', 'beyond', '’s', 'move', 'through', 'up', 'from', 'therein', 'just', 'himself', 'ours', 'side', 'often', 'ten', '‘re', '’m', 'put', 'please', '‘d', 'hereupon', 'is', 'it', 'here', \"'re\", 'one', 'former', 'forty', 'thereupon', 'formerly', 'and', 'throughout', 'our', 'doing', 'various', 'yet', 'thence', 'any', 'amount', 'under', 'than', 'namely', 'such', 'then', 'fifty', 'its', 'has', 'whence', 'name', 'else', 'keep', 'did', 'were', 'whom', 'third', 'so', 'n’t', 'seeming', 'say', 'hereby', 'less', 'another', 'might', 'somehow', 'hence', 'he', 'whereby', 'nor', 'nothing', 'unless', 'yourselves', 'nevertheless', 'who', 'part', 'below', 'full', 'am'}\n"
          ]
        }
      ],
      "source": [
        "# 문항 4)\n",
        "print(nlp.Defaults.stop_words)\n",
        "STOP_WORDS = nlp.Defaults.stop_words.union([\"data\", \"work\"])"
      ]
    },
    {
      "cell_type": "code",
      "source": [
        "tokens = []\n",
        "\n",
        "for doc in tokenizer.pipe(df['description']):\n",
        "    doc_tokens = []\n",
        "    \n",
        "    for token in doc:\n",
        "        txt = re.sub(r\"[^a-z0-9 ]\", \"\", token.text.lower()).strip()\n",
        "        if txt not in STOP_WORDS:\n",
        "            if txt not in ['', '\\n'] :\n",
        "              doc_tokens.append(txt)\n",
        "\n",
        "    tokens.append(doc_tokens)\n",
        "    \n",
        "df['tokens'] = tokens\n",
        "df.head()"
      ],
      "metadata": {
        "colab": {
          "base_uri": "https://localhost:8080/",
          "height": 406
        },
        "id": "umAJU7dsHVwI",
        "outputId": "ad2e7ebc-fd9c-436c-ebb7-25a7fe60ac57"
      },
      "execution_count": 14,
      "outputs": [
        {
          "output_type": "execute_result",
          "data": {
            "text/html": [
              "\n",
              "  <div id=\"df-a58b0a5c-a504-4e30-a218-b603fc84c504\">\n",
              "    <div class=\"colab-df-container\">\n",
              "      <div>\n",
              "<style scoped>\n",
              "    .dataframe tbody tr th:only-of-type {\n",
              "        vertical-align: middle;\n",
              "    }\n",
              "\n",
              "    .dataframe tbody tr th {\n",
              "        vertical-align: top;\n",
              "    }\n",
              "\n",
              "    .dataframe thead th {\n",
              "        text-align: right;\n",
              "    }\n",
              "</style>\n",
              "<table border=\"1\" class=\"dataframe\">\n",
              "  <thead>\n",
              "    <tr style=\"text-align: right;\">\n",
              "      <th></th>\n",
              "      <th>title</th>\n",
              "      <th>company</th>\n",
              "      <th>description</th>\n",
              "      <th>tokens</th>\n",
              "    </tr>\n",
              "  </thead>\n",
              "  <tbody>\n",
              "    <tr>\n",
              "      <th>0</th>\n",
              "      <td>Data Scientist (Structured Products)</td>\n",
              "      <td>EquiTrust Life Insurance Company</td>\n",
              "      <td>Job Details\\nDescription\\nEssential Duties and...</td>\n",
              "      <td>[job, details, description, essential, duties,...</td>\n",
              "    </tr>\n",
              "    <tr>\n",
              "      <th>2</th>\n",
              "      <td>Specialist, Data Science</td>\n",
              "      <td>Nationwide</td>\n",
              "      <td>As a team member in the Finance and Internal A...</td>\n",
              "      <td>[team, member, finance, internal, audit, depar...</td>\n",
              "    </tr>\n",
              "    <tr>\n",
              "      <th>4</th>\n",
              "      <td>Sr. Data Scientist (Remote)</td>\n",
              "      <td>American Credit Acceptance</td>\n",
              "      <td>Overview:\\nAmerican Credit Acceptance seeks a ...</td>\n",
              "      <td>[overview, american, credit, acceptance, seeks...</td>\n",
              "    </tr>\n",
              "    <tr>\n",
              "      <th>5</th>\n",
              "      <td>Data Scientist Associate Sr (DADS06) BTB - LEG...</td>\n",
              "      <td>JPMorgan Chase Bank, N.A.</td>\n",
              "      <td>J.P. Morgan's Corporate &amp; Investment Bank (CIB...</td>\n",
              "      <td>[jp, morgans, corporate, investment, bank, cib...</td>\n",
              "    </tr>\n",
              "    <tr>\n",
              "      <th>6</th>\n",
              "      <td>Data Scientist</td>\n",
              "      <td>VyStar Credit Union</td>\n",
              "      <td>At VyStar, we offer competitive pay, an excell...</td>\n",
              "      <td>[vystar, offer, competitive, pay, excellent, b...</td>\n",
              "    </tr>\n",
              "  </tbody>\n",
              "</table>\n",
              "</div>\n",
              "      <button class=\"colab-df-convert\" onclick=\"convertToInteractive('df-a58b0a5c-a504-4e30-a218-b603fc84c504')\"\n",
              "              title=\"Convert this dataframe to an interactive table.\"\n",
              "              style=\"display:none;\">\n",
              "        \n",
              "  <svg xmlns=\"http://www.w3.org/2000/svg\" height=\"24px\"viewBox=\"0 0 24 24\"\n",
              "       width=\"24px\">\n",
              "    <path d=\"M0 0h24v24H0V0z\" fill=\"none\"/>\n",
              "    <path d=\"M18.56 5.44l.94 2.06.94-2.06 2.06-.94-2.06-.94-.94-2.06-.94 2.06-2.06.94zm-11 1L8.5 8.5l.94-2.06 2.06-.94-2.06-.94L8.5 2.5l-.94 2.06-2.06.94zm10 10l.94 2.06.94-2.06 2.06-.94-2.06-.94-.94-2.06-.94 2.06-2.06.94z\"/><path d=\"M17.41 7.96l-1.37-1.37c-.4-.4-.92-.59-1.43-.59-.52 0-1.04.2-1.43.59L10.3 9.45l-7.72 7.72c-.78.78-.78 2.05 0 2.83L4 21.41c.39.39.9.59 1.41.59.51 0 1.02-.2 1.41-.59l7.78-7.78 2.81-2.81c.8-.78.8-2.07 0-2.86zM5.41 20L4 18.59l7.72-7.72 1.47 1.35L5.41 20z\"/>\n",
              "  </svg>\n",
              "      </button>\n",
              "      \n",
              "  <style>\n",
              "    .colab-df-container {\n",
              "      display:flex;\n",
              "      flex-wrap:wrap;\n",
              "      gap: 12px;\n",
              "    }\n",
              "\n",
              "    .colab-df-convert {\n",
              "      background-color: #E8F0FE;\n",
              "      border: none;\n",
              "      border-radius: 50%;\n",
              "      cursor: pointer;\n",
              "      display: none;\n",
              "      fill: #1967D2;\n",
              "      height: 32px;\n",
              "      padding: 0 0 0 0;\n",
              "      width: 32px;\n",
              "    }\n",
              "\n",
              "    .colab-df-convert:hover {\n",
              "      background-color: #E2EBFA;\n",
              "      box-shadow: 0px 1px 2px rgba(60, 64, 67, 0.3), 0px 1px 3px 1px rgba(60, 64, 67, 0.15);\n",
              "      fill: #174EA6;\n",
              "    }\n",
              "\n",
              "    [theme=dark] .colab-df-convert {\n",
              "      background-color: #3B4455;\n",
              "      fill: #D2E3FC;\n",
              "    }\n",
              "\n",
              "    [theme=dark] .colab-df-convert:hover {\n",
              "      background-color: #434B5C;\n",
              "      box-shadow: 0px 1px 3px 1px rgba(0, 0, 0, 0.15);\n",
              "      filter: drop-shadow(0px 1px 2px rgba(0, 0, 0, 0.3));\n",
              "      fill: #FFFFFF;\n",
              "    }\n",
              "  </style>\n",
              "\n",
              "      <script>\n",
              "        const buttonEl =\n",
              "          document.querySelector('#df-a58b0a5c-a504-4e30-a218-b603fc84c504 button.colab-df-convert');\n",
              "        buttonEl.style.display =\n",
              "          google.colab.kernel.accessAllowed ? 'block' : 'none';\n",
              "\n",
              "        async function convertToInteractive(key) {\n",
              "          const element = document.querySelector('#df-a58b0a5c-a504-4e30-a218-b603fc84c504');\n",
              "          const dataTable =\n",
              "            await google.colab.kernel.invokeFunction('convertToInteractive',\n",
              "                                                     [key], {});\n",
              "          if (!dataTable) return;\n",
              "\n",
              "          const docLinkHtml = 'Like what you see? Visit the ' +\n",
              "            '<a target=\"_blank\" href=https://colab.research.google.com/notebooks/data_table.ipynb>data table notebook</a>'\n",
              "            + ' to learn more about interactive tables.';\n",
              "          element.innerHTML = '';\n",
              "          dataTable['output_type'] = 'display_data';\n",
              "          await google.colab.output.renderOutput(dataTable, element);\n",
              "          const docLink = document.createElement('div');\n",
              "          docLink.innerHTML = docLinkHtml;\n",
              "          element.appendChild(docLink);\n",
              "        }\n",
              "      </script>\n",
              "    </div>\n",
              "  </div>\n",
              "  "
            ],
            "text/plain": [
              "                                               title  ...                                             tokens\n",
              "0               Data Scientist (Structured Products)  ...  [job, details, description, essential, duties,...\n",
              "2                           Specialist, Data Science  ...  [team, member, finance, internal, audit, depar...\n",
              "4                        Sr. Data Scientist (Remote)  ...  [overview, american, credit, acceptance, seeks...\n",
              "5  Data Scientist Associate Sr (DADS06) BTB - LEG...  ...  [jp, morgans, corporate, investment, bank, cib...\n",
              "6                                     Data Scientist  ...  [vystar, offer, competitive, pay, excellent, b...\n",
              "\n",
              "[5 rows x 4 columns]"
            ]
          },
          "metadata": {},
          "execution_count": 14
        }
      ]
    },
    {
      "cell_type": "code",
      "source": [
        "# 문항 5) 불용어를 제거하고 난 뒤 토큰 순위 10개의 단어를 입력하세요.\n",
        "# Top 10 토큰을 프린트\n",
        "# from collections import Counter\n",
        "\n",
        "word_counts = Counter()\n",
        "df['tokens'].apply(lambda x: word_counts.update(x)) # update가 안됌.. 새로 객체를 받아서 실행하면 됌\n",
        "most_10_word = word_counts.most_common(10)\n",
        "most_10_word"
      ],
      "metadata": {
        "colab": {
          "base_uri": "https://localhost:8080/"
        },
        "id": "ul0G3T4jOt9d",
        "outputId": "e246b725-05b4-4a55-a79c-4f449a685f13"
      },
      "execution_count": 15,
      "outputs": [
        {
          "output_type": "execute_result",
          "data": {
            "text/plain": [
              "[('experience', 3450),\n",
              " ('business', 2064),\n",
              " ('science', 1648),\n",
              " ('team', 1625),\n",
              " ('learning', 1596),\n",
              " ('analysis', 1349),\n",
              " ('skills', 1251),\n",
              " ('machine', 1152),\n",
              " ('analytics', 1136),\n",
              " ('models', 1034)]"
            ]
          },
          "metadata": {},
          "execution_count": 15
        }
      ]
    },
    {
      "cell_type": "markdown",
      "metadata": {
        "id": "f0iyh_gFnxVV"
      },
      "source": [
        "### 5) Lemmatization(표제어 추출) 사용 효과를 분석해 봅니다.\n",
        "\n"
      ]
    },
    {
      "cell_type": "markdown",
      "metadata": {
        "id": "zcBkXD0WTNgI"
      },
      "source": [
        "- **문항 6) Lemmatization을 진행한 뒤 상위 10개 단어를 입력하세요.**"
      ]
    },
    {
      "cell_type": "code",
      "source": [
        "def get_lemmas(txt):\n",
        "    txt = txt.replace('\\n', ' ')\n",
        "    txt = re.sub(r\"[^a-z0-9 ]\", \"\", txt.lower()).strip()\n",
        "\n",
        "    lemmas = []\n",
        "    \n",
        "    doc = nlp(txt)\n",
        "\n",
        "    for token in doc: \n",
        "        if ((token.is_stop == False) and (token.is_punct == False)) and (token.pos_ != 'PRON'):\n",
        "          if token.text not in ['', ' '] :\n",
        "            lemmas.append(token.lemma_)\n",
        "    \n",
        "    return lemmas\n",
        "\n",
        "# print([token.lemma_ for token in doc if (token.is_stop != True) and (token.is_punct != True)])"
      ],
      "metadata": {
        "id": "tqqv2HB2xm9Z"
      },
      "execution_count": 16,
      "outputs": []
    },
    {
      "cell_type": "code",
      "execution_count": 17,
      "metadata": {
        "id": "O2cKokO8cXR5",
        "colab": {
          "base_uri": "https://localhost:8080/"
        },
        "outputId": "8c7cfba6-7103-49cf-dac9-9f499df5b0b8"
      },
      "outputs": [
        {
          "output_type": "execute_result",
          "data": {
            "text/plain": [
              "0    [job, detail, description, essential, duty, re...\n",
              "2    [team, member, finance, internal, audit, depar...\n",
              "4    [overview, american, credit, acceptance, seek,...\n",
              "5    [jp, morgans, corporate, investment, bank, cib...\n",
              "6    [vystar, offer, competitive, pay, excellent, b...\n",
              "Name: lemmas, dtype: object"
            ]
          },
          "metadata": {},
          "execution_count": 17
        }
      ],
      "source": [
        "df['lemmas'] = df['description'].apply(get_lemmas)\n",
        "df['lemmas'].head()"
      ]
    },
    {
      "cell_type": "code",
      "source": [
        "lemmas_word_counts = Counter()\n",
        "\n",
        "df['lemmas'].apply(lambda x: lemmas_word_counts.update(x))\n",
        "most_10__lemmas_word = lemmas_word_counts.most_common(10)\n",
        "most_10__lemmas_word"
      ],
      "metadata": {
        "colab": {
          "base_uri": "https://localhost:8080/"
        },
        "id": "808pkK_bbbzn",
        "outputId": "7f2557c0-70d7-439b-aae2-1fd4e904aa35"
      },
      "execution_count": 18,
      "outputs": [
        {
          "output_type": "execute_result",
          "data": {
            "text/plain": [
              "[('datum', 5067),\n",
              " ('experience', 3622),\n",
              " ('work', 2861),\n",
              " ('data', 2358),\n",
              " ('team', 2298),\n",
              " ('business', 2157),\n",
              " ('science', 1704),\n",
              " ('analysis', 1580),\n",
              " ('model', 1554),\n",
              " ('analytic', 1379)]"
            ]
          },
          "metadata": {},
          "execution_count": 18
        }
      ]
    },
    {
      "cell_type": "code",
      "source": [
        "# !pip install squarify"
      ],
      "metadata": {
        "id": "Q43545e3bLNk"
      },
      "execution_count": 19,
      "outputs": []
    },
    {
      "cell_type": "markdown",
      "metadata": {
        "id": "_uSNuY9UUl7P"
      },
      "source": [
        "## 2. 유사한 문서 찾기"
      ]
    },
    {
      "cell_type": "markdown",
      "metadata": {
        "id": "Spn3AFhIZBC9"
      },
      "source": [
        "### 1) `TfidfVectorizer`를 이용해 각 문서들을 벡터화 한 후 KNN 모델을 만들고, <br/> 내가 원하는 `job description`을 질의해 가장 가까운 검색 결과들을 가져오고 분석합니다."
      ]
    },
    {
      "cell_type": "markdown",
      "metadata": {
        "id": "WEtnD5gYZZ-c"
      },
      "source": [
        "- **문항 9) 88번 index의 `job description`와 5개의 가장 유사한 `job description`이 있는 index를 입력하세요.**\n",
        "    - 답은 88번 인덱스를 포함합니다.\n",
        "    - `max_features = 3000` 으로 설정합니다.\n",
        "    - [88, 90, 91, 93, 94] 형태로 답을 입력해주세요"
      ]
    },
    {
      "cell_type": "code",
      "source": [
        "from sklearn.feature_extraction.text import TfidfVectorizer\n",
        "from sklearn.metrics.pairwise import cosine_similarity\n",
        "from sklearn.neighbors import NearestNeighbors\n",
        "from sklearn.decomposition import PCA\n",
        "\n",
        "# TF-IDF vectorizer. 테이블을 작게 만들기 위해 max_features=15로 제한하였습니다.\n",
        "tfidf = TfidfVectorizer(stop_words='english', max_features=15)\n",
        "\n",
        "# Fit 후 dtm을 만듭니다.(문서, 단어마다 tf-idf 값을 계산합니다)\n",
        "dtm_tfidf = tfidf.fit_transform(df['description'])\n",
        "\n",
        "dtm_tfidf = pd.DataFrame(dtm_tfidf.todense(), columns=tfidf.get_feature_names())\n",
        "dtm_tfidf"
      ],
      "metadata": {
        "id": "pLi5RDMz9dsw",
        "outputId": "65e8bd8f-20c1-49ed-82df-9d0e7e1cfb67",
        "colab": {
          "base_uri": "https://localhost:8080/",
          "height": 524
        }
      },
      "execution_count": 20,
      "outputs": [
        {
          "output_type": "stream",
          "name": "stderr",
          "text": [
            "/usr/local/lib/python3.7/dist-packages/sklearn/utils/deprecation.py:87: FutureWarning: Function get_feature_names is deprecated; get_feature_names is deprecated in 1.0 and will be removed in 1.2. Please use get_feature_names_out instead.\n",
            "  warnings.warn(msg, category=FutureWarning)\n"
          ]
        },
        {
          "output_type": "execute_result",
          "data": {
            "text/html": [
              "\n",
              "  <div id=\"df-73ca4dda-7324-41e3-b34e-6f8bb02b00a5\">\n",
              "    <div class=\"colab-df-container\">\n",
              "      <div>\n",
              "<style scoped>\n",
              "    .dataframe tbody tr th:only-of-type {\n",
              "        vertical-align: middle;\n",
              "    }\n",
              "\n",
              "    .dataframe tbody tr th {\n",
              "        vertical-align: top;\n",
              "    }\n",
              "\n",
              "    .dataframe thead th {\n",
              "        text-align: right;\n",
              "    }\n",
              "</style>\n",
              "<table border=\"1\" class=\"dataframe\">\n",
              "  <thead>\n",
              "    <tr style=\"text-align: right;\">\n",
              "      <th></th>\n",
              "      <th>ability</th>\n",
              "      <th>analysis</th>\n",
              "      <th>analytics</th>\n",
              "      <th>business</th>\n",
              "      <th>data</th>\n",
              "      <th>experience</th>\n",
              "      <th>learning</th>\n",
              "      <th>machine</th>\n",
              "      <th>models</th>\n",
              "      <th>science</th>\n",
              "      <th>skills</th>\n",
              "      <th>statistical</th>\n",
              "      <th>team</th>\n",
              "      <th>work</th>\n",
              "      <th>years</th>\n",
              "    </tr>\n",
              "  </thead>\n",
              "  <tbody>\n",
              "    <tr>\n",
              "      <th>0</th>\n",
              "      <td>0.301373</td>\n",
              "      <td>0.417446</td>\n",
              "      <td>0.000000</td>\n",
              "      <td>0.000000</td>\n",
              "      <td>0.514613</td>\n",
              "      <td>0.214731</td>\n",
              "      <td>0.000000</td>\n",
              "      <td>0.000000</td>\n",
              "      <td>0.300937</td>\n",
              "      <td>0.122172</td>\n",
              "      <td>0.394946</td>\n",
              "      <td>0.000000</td>\n",
              "      <td>0.125346</td>\n",
              "      <td>0.358723</td>\n",
              "      <td>0.134582</td>\n",
              "    </tr>\n",
              "    <tr>\n",
              "      <th>1</th>\n",
              "      <td>0.219865</td>\n",
              "      <td>0.058009</td>\n",
              "      <td>0.130702</td>\n",
              "      <td>0.507044</td>\n",
              "      <td>0.386160</td>\n",
              "      <td>0.469967</td>\n",
              "      <td>0.199107</td>\n",
              "      <td>0.091949</td>\n",
              "      <td>0.125455</td>\n",
              "      <td>0.025466</td>\n",
              "      <td>0.164646</td>\n",
              "      <td>0.330165</td>\n",
              "      <td>0.104509</td>\n",
              "      <td>0.299091</td>\n",
              "      <td>0.056105</td>\n",
              "    </tr>\n",
              "    <tr>\n",
              "      <th>2</th>\n",
              "      <td>0.202192</td>\n",
              "      <td>0.062237</td>\n",
              "      <td>0.280457</td>\n",
              "      <td>0.483558</td>\n",
              "      <td>0.184137</td>\n",
              "      <td>0.096043</td>\n",
              "      <td>0.305171</td>\n",
              "      <td>0.197302</td>\n",
              "      <td>0.471100</td>\n",
              "      <td>0.054644</td>\n",
              "      <td>0.000000</td>\n",
              "      <td>0.425077</td>\n",
              "      <td>0.112127</td>\n",
              "      <td>0.213928</td>\n",
              "      <td>0.060194</td>\n",
              "    </tr>\n",
              "    <tr>\n",
              "      <th>3</th>\n",
              "      <td>0.179847</td>\n",
              "      <td>0.000000</td>\n",
              "      <td>0.187096</td>\n",
              "      <td>0.645174</td>\n",
              "      <td>0.614198</td>\n",
              "      <td>0.042714</td>\n",
              "      <td>0.217155</td>\n",
              "      <td>0.175497</td>\n",
              "      <td>0.119724</td>\n",
              "      <td>0.145814</td>\n",
              "      <td>0.104750</td>\n",
              "      <td>0.000000</td>\n",
              "      <td>0.099735</td>\n",
              "      <td>0.000000</td>\n",
              "      <td>0.053542</td>\n",
              "    </tr>\n",
              "    <tr>\n",
              "      <th>4</th>\n",
              "      <td>0.029973</td>\n",
              "      <td>0.332141</td>\n",
              "      <td>0.280635</td>\n",
              "      <td>0.161288</td>\n",
              "      <td>0.614178</td>\n",
              "      <td>0.363058</td>\n",
              "      <td>0.081431</td>\n",
              "      <td>0.087746</td>\n",
              "      <td>0.059860</td>\n",
              "      <td>0.097206</td>\n",
              "      <td>0.183306</td>\n",
              "      <td>0.346579</td>\n",
              "      <td>0.199463</td>\n",
              "      <td>0.190279</td>\n",
              "      <td>0.133850</td>\n",
              "    </tr>\n",
              "    <tr>\n",
              "      <th>...</th>\n",
              "      <td>...</td>\n",
              "      <td>...</td>\n",
              "      <td>...</td>\n",
              "      <td>...</td>\n",
              "      <td>...</td>\n",
              "      <td>...</td>\n",
              "      <td>...</td>\n",
              "      <td>...</td>\n",
              "      <td>...</td>\n",
              "      <td>...</td>\n",
              "      <td>...</td>\n",
              "      <td>...</td>\n",
              "      <td>...</td>\n",
              "      <td>...</td>\n",
              "      <td>...</td>\n",
              "    </tr>\n",
              "    <tr>\n",
              "      <th>752</th>\n",
              "      <td>0.000000</td>\n",
              "      <td>0.000000</td>\n",
              "      <td>0.000000</td>\n",
              "      <td>0.811929</td>\n",
              "      <td>0.206119</td>\n",
              "      <td>0.215016</td>\n",
              "      <td>0.000000</td>\n",
              "      <td>0.000000</td>\n",
              "      <td>0.000000</td>\n",
              "      <td>0.000000</td>\n",
              "      <td>0.000000</td>\n",
              "      <td>0.000000</td>\n",
              "      <td>0.502050</td>\n",
              "      <td>0.000000</td>\n",
              "      <td>0.000000</td>\n",
              "    </tr>\n",
              "    <tr>\n",
              "      <th>753</th>\n",
              "      <td>0.069705</td>\n",
              "      <td>0.128735</td>\n",
              "      <td>0.362572</td>\n",
              "      <td>0.375083</td>\n",
              "      <td>0.618930</td>\n",
              "      <td>0.248326</td>\n",
              "      <td>0.063124</td>\n",
              "      <td>0.000000</td>\n",
              "      <td>0.000000</td>\n",
              "      <td>0.226057</td>\n",
              "      <td>0.060898</td>\n",
              "      <td>0.073271</td>\n",
              "      <td>0.347895</td>\n",
              "      <td>0.276564</td>\n",
              "      <td>0.000000</td>\n",
              "    </tr>\n",
              "    <tr>\n",
              "      <th>754</th>\n",
              "      <td>0.092069</td>\n",
              "      <td>0.085020</td>\n",
              "      <td>0.000000</td>\n",
              "      <td>0.495429</td>\n",
              "      <td>0.377314</td>\n",
              "      <td>0.328001</td>\n",
              "      <td>0.416884</td>\n",
              "      <td>0.359370</td>\n",
              "      <td>0.000000</td>\n",
              "      <td>0.149294</td>\n",
              "      <td>0.000000</td>\n",
              "      <td>0.000000</td>\n",
              "      <td>0.153172</td>\n",
              "      <td>0.365300</td>\n",
              "      <td>0.082230</td>\n",
              "    </tr>\n",
              "    <tr>\n",
              "      <th>755</th>\n",
              "      <td>0.276875</td>\n",
              "      <td>0.191756</td>\n",
              "      <td>0.072009</td>\n",
              "      <td>0.620780</td>\n",
              "      <td>0.330946</td>\n",
              "      <td>0.295913</td>\n",
              "      <td>0.000000</td>\n",
              "      <td>0.000000</td>\n",
              "      <td>0.000000</td>\n",
              "      <td>0.056120</td>\n",
              "      <td>0.241894</td>\n",
              "      <td>0.218281</td>\n",
              "      <td>0.230313</td>\n",
              "      <td>0.274636</td>\n",
              "      <td>0.247284</td>\n",
              "    </tr>\n",
              "    <tr>\n",
              "      <th>756</th>\n",
              "      <td>0.000000</td>\n",
              "      <td>0.098503</td>\n",
              "      <td>0.000000</td>\n",
              "      <td>0.000000</td>\n",
              "      <td>0.291433</td>\n",
              "      <td>0.380017</td>\n",
              "      <td>0.676194</td>\n",
              "      <td>0.312271</td>\n",
              "      <td>0.000000</td>\n",
              "      <td>0.172970</td>\n",
              "      <td>0.000000</td>\n",
              "      <td>0.112128</td>\n",
              "      <td>0.354926</td>\n",
              "      <td>0.169292</td>\n",
              "      <td>0.095270</td>\n",
              "    </tr>\n",
              "  </tbody>\n",
              "</table>\n",
              "<p>757 rows × 15 columns</p>\n",
              "</div>\n",
              "      <button class=\"colab-df-convert\" onclick=\"convertToInteractive('df-73ca4dda-7324-41e3-b34e-6f8bb02b00a5')\"\n",
              "              title=\"Convert this dataframe to an interactive table.\"\n",
              "              style=\"display:none;\">\n",
              "        \n",
              "  <svg xmlns=\"http://www.w3.org/2000/svg\" height=\"24px\"viewBox=\"0 0 24 24\"\n",
              "       width=\"24px\">\n",
              "    <path d=\"M0 0h24v24H0V0z\" fill=\"none\"/>\n",
              "    <path d=\"M18.56 5.44l.94 2.06.94-2.06 2.06-.94-2.06-.94-.94-2.06-.94 2.06-2.06.94zm-11 1L8.5 8.5l.94-2.06 2.06-.94-2.06-.94L8.5 2.5l-.94 2.06-2.06.94zm10 10l.94 2.06.94-2.06 2.06-.94-2.06-.94-.94-2.06-.94 2.06-2.06.94z\"/><path d=\"M17.41 7.96l-1.37-1.37c-.4-.4-.92-.59-1.43-.59-.52 0-1.04.2-1.43.59L10.3 9.45l-7.72 7.72c-.78.78-.78 2.05 0 2.83L4 21.41c.39.39.9.59 1.41.59.51 0 1.02-.2 1.41-.59l7.78-7.78 2.81-2.81c.8-.78.8-2.07 0-2.86zM5.41 20L4 18.59l7.72-7.72 1.47 1.35L5.41 20z\"/>\n",
              "  </svg>\n",
              "      </button>\n",
              "      \n",
              "  <style>\n",
              "    .colab-df-container {\n",
              "      display:flex;\n",
              "      flex-wrap:wrap;\n",
              "      gap: 12px;\n",
              "    }\n",
              "\n",
              "    .colab-df-convert {\n",
              "      background-color: #E8F0FE;\n",
              "      border: none;\n",
              "      border-radius: 50%;\n",
              "      cursor: pointer;\n",
              "      display: none;\n",
              "      fill: #1967D2;\n",
              "      height: 32px;\n",
              "      padding: 0 0 0 0;\n",
              "      width: 32px;\n",
              "    }\n",
              "\n",
              "    .colab-df-convert:hover {\n",
              "      background-color: #E2EBFA;\n",
              "      box-shadow: 0px 1px 2px rgba(60, 64, 67, 0.3), 0px 1px 3px 1px rgba(60, 64, 67, 0.15);\n",
              "      fill: #174EA6;\n",
              "    }\n",
              "\n",
              "    [theme=dark] .colab-df-convert {\n",
              "      background-color: #3B4455;\n",
              "      fill: #D2E3FC;\n",
              "    }\n",
              "\n",
              "    [theme=dark] .colab-df-convert:hover {\n",
              "      background-color: #434B5C;\n",
              "      box-shadow: 0px 1px 3px 1px rgba(0, 0, 0, 0.15);\n",
              "      filter: drop-shadow(0px 1px 2px rgba(0, 0, 0, 0.3));\n",
              "      fill: #FFFFFF;\n",
              "    }\n",
              "  </style>\n",
              "\n",
              "      <script>\n",
              "        const buttonEl =\n",
              "          document.querySelector('#df-73ca4dda-7324-41e3-b34e-6f8bb02b00a5 button.colab-df-convert');\n",
              "        buttonEl.style.display =\n",
              "          google.colab.kernel.accessAllowed ? 'block' : 'none';\n",
              "\n",
              "        async function convertToInteractive(key) {\n",
              "          const element = document.querySelector('#df-73ca4dda-7324-41e3-b34e-6f8bb02b00a5');\n",
              "          const dataTable =\n",
              "            await google.colab.kernel.invokeFunction('convertToInteractive',\n",
              "                                                     [key], {});\n",
              "          if (!dataTable) return;\n",
              "\n",
              "          const docLinkHtml = 'Like what you see? Visit the ' +\n",
              "            '<a target=\"_blank\" href=https://colab.research.google.com/notebooks/data_table.ipynb>data table notebook</a>'\n",
              "            + ' to learn more about interactive tables.';\n",
              "          element.innerHTML = '';\n",
              "          dataTable['output_type'] = 'display_data';\n",
              "          await google.colab.output.renderOutput(dataTable, element);\n",
              "          const docLink = document.createElement('div');\n",
              "          docLink.innerHTML = docLinkHtml;\n",
              "          element.appendChild(docLink);\n",
              "        }\n",
              "      </script>\n",
              "    </div>\n",
              "  </div>\n",
              "  "
            ],
            "text/plain": [
              "      ability  analysis  analytics  ...      team      work     years\n",
              "0    0.301373  0.417446   0.000000  ...  0.125346  0.358723  0.134582\n",
              "1    0.219865  0.058009   0.130702  ...  0.104509  0.299091  0.056105\n",
              "2    0.202192  0.062237   0.280457  ...  0.112127  0.213928  0.060194\n",
              "3    0.179847  0.000000   0.187096  ...  0.099735  0.000000  0.053542\n",
              "4    0.029973  0.332141   0.280635  ...  0.199463  0.190279  0.133850\n",
              "..        ...       ...        ...  ...       ...       ...       ...\n",
              "752  0.000000  0.000000   0.000000  ...  0.502050  0.000000  0.000000\n",
              "753  0.069705  0.128735   0.362572  ...  0.347895  0.276564  0.000000\n",
              "754  0.092069  0.085020   0.000000  ...  0.153172  0.365300  0.082230\n",
              "755  0.276875  0.191756   0.072009  ...  0.230313  0.274636  0.247284\n",
              "756  0.000000  0.098503   0.000000  ...  0.354926  0.169292  0.095270\n",
              "\n",
              "[757 rows x 15 columns]"
            ]
          },
          "metadata": {},
          "execution_count": 20
        }
      ]
    },
    {
      "cell_type": "code",
      "source": [
        "from sklearn.neighbors import NearestNeighbors\n",
        "\n",
        "# dtm을 사용히 NN 모델을 학습시킵니다. (디폴트)최근접 5 이웃.\n",
        "nn = NearestNeighbors(n_neighbors=5, algorithm='kd_tree')\n",
        "nn.fit(dtm_tfidf)\n",
        "\n",
        "nn.kneighbors([dtm_tfidf.iloc[88]])"
      ],
      "metadata": {
        "id": "02ZeDDrKC7gU",
        "outputId": "f1d84187-3833-4aa7-c6bd-0a649e526597",
        "colab": {
          "base_uri": "https://localhost:8080/"
        }
      },
      "execution_count": 21,
      "outputs": [
        {
          "output_type": "stream",
          "name": "stderr",
          "text": [
            "/usr/local/lib/python3.7/dist-packages/sklearn/base.py:446: UserWarning: X does not have valid feature names, but NearestNeighbors was fitted with feature names\n",
            "  \"X does not have valid feature names, but\"\n"
          ]
        },
        {
          "output_type": "execute_result",
          "data": {
            "text/plain": [
              "(array([[0.        , 0.2847889 , 0.30134951, 0.34527149, 0.35129336]]),\n",
              " array([[ 88,  72, 717, 597, 427]]))"
            ]
          },
          "metadata": {},
          "execution_count": 21
        }
      ]
    },
    {
      "cell_type": "code",
      "source": [
        "print(df['description'][88][0:300], '\\n---------------')\n",
        "print(df['description'][72][0:300])"
      ],
      "metadata": {
        "id": "p1OsndyODdjl",
        "outputId": "a7051d92-5877-425e-cd91-c44a1a3aadb6",
        "colab": {
          "base_uri": "https://localhost:8080/"
        }
      },
      "execution_count": 22,
      "outputs": [
        {
          "output_type": "stream",
          "name": "stdout",
          "text": [
            "We're looking for Data Scientists to work on our core and business products to help shape the future of what we build at Hyperspace Ventures. You will enjoy working with various data sets, cutting edge technology, and the ability to see your insights turned into real products on a regular basis. The \n",
            "---------------\n",
            "As a part of the Data Science team, you will run the development of next-generation platforms for customers micro-segmentation, clusterization, behavior analysis, and prediction as well as building up new improved recommendation systems for the customers.\n",
            "You will use your expertise to design data s\n"
          ]
        }
      ]
    },
    {
      "cell_type": "markdown",
      "metadata": {
        "id": "6QOAt_58vIzt"
      },
      "source": [
        "## 3. TF-IDF 이용한 텍스트 분류 진행하기"
      ]
    },
    {
      "cell_type": "markdown",
      "metadata": {
        "id": "m4FYsH2IvIzt"
      },
      "source": [
        "TF-IDF를 이용해 문장 혹은 문서를 벡터화한 경우, 이 벡터값을 이용해 문서 분류 태스크를 진행할 수 있습니다. \n",
        "\n",
        "현재 다루고 있는 데이터셋에는 label이 존재하지 않으므로, title 컬럼에 \"Senior\"가 있는지 없는지 여부를 통해 Senior 직무 여부를 분류하는 작업을 진행해보겠습니다."
      ]
    },
    {
      "cell_type": "markdown",
      "metadata": {
        "id": "v7L8AvaEvIzu"
      },
      "source": [
        "### 1) title 컬럼에 \"Senior\" 문자열이 있으면 1, 없으면 0인 \"Senior\"라는 새로운 컬럼을 생성해주세요."
      ]
    },
    {
      "cell_type": "markdown",
      "metadata": {
        "id": "BIW6Y262vIzu"
      },
      "source": [
        "문항 7) 새롭게 만든 Senior 컬럼에서 값이 1인 (Senior O) 데이터의 개수는?"
      ]
    },
    {
      "cell_type": "code",
      "source": [
        "def findWord(txt) :\n",
        "  if 'Senior' in txt:\n",
        "    return 1\n",
        "  return 0"
      ],
      "metadata": {
        "id": "btmyYSKrEkvg"
      },
      "execution_count": 23,
      "outputs": []
    },
    {
      "cell_type": "code",
      "execution_count": 24,
      "metadata": {
        "id": "q0OlWqnnvIzu"
      },
      "outputs": [],
      "source": [
        "df['senior'] = df['title'].apply(findWord)"
      ]
    },
    {
      "cell_type": "code",
      "source": [
        "df['senior'].sum()"
      ],
      "metadata": {
        "id": "9xGbuJgYFZeJ",
        "outputId": "da2f624a-77c2-4597-b8ac-6b45d2f88fc2",
        "colab": {
          "base_uri": "https://localhost:8080/"
        }
      },
      "execution_count": 25,
      "outputs": [
        {
          "output_type": "execute_result",
          "data": {
            "text/plain": [
              "95"
            ]
          },
          "metadata": {},
          "execution_count": 25
        }
      ]
    },
    {
      "cell_type": "markdown",
      "metadata": {
        "id": "OIXvTkVZvIzu"
      },
      "source": [
        "문항 8) sklearn의 `train_test_split`을 통해 train 데이터와 valid 데이터로 나눈 후, `sklearn`의 `DecisionTreeClassifier`를 이용해 분류를 진행해주세요. \n",
        "\n",
        "단, x값은 위에서 학습한 dtm_tfidf를 그대로 이용해주세요. train_test_split과 DecisionTreeClassifier의 random_state을 42로 고정하고, test_size는 0.1로 설정해주세요.\n",
        "\n",
        "학습을 완료한 후, test 데이터에 대한 예측을 진행하고 label 1에 대한 precision과 recall 값을 적어주세요"
      ]
    },
    {
      "cell_type": "code",
      "execution_count": 26,
      "metadata": {
        "id": "PHCATtY8cX5b",
        "colab": {
          "base_uri": "https://localhost:8080/",
          "height": 270
        },
        "outputId": "c8ae79b5-c75d-40d8-f5ff-260ba58da2c6"
      },
      "outputs": [
        {
          "output_type": "execute_result",
          "data": {
            "text/html": [
              "\n",
              "  <div id=\"df-35349262-1faf-4987-9802-c057e016a3a6\">\n",
              "    <div class=\"colab-df-container\">\n",
              "      <div>\n",
              "<style scoped>\n",
              "    .dataframe tbody tr th:only-of-type {\n",
              "        vertical-align: middle;\n",
              "    }\n",
              "\n",
              "    .dataframe tbody tr th {\n",
              "        vertical-align: top;\n",
              "    }\n",
              "\n",
              "    .dataframe thead th {\n",
              "        text-align: right;\n",
              "    }\n",
              "</style>\n",
              "<table border=\"1\" class=\"dataframe\">\n",
              "  <thead>\n",
              "    <tr style=\"text-align: right;\">\n",
              "      <th></th>\n",
              "      <th>ability</th>\n",
              "      <th>analysis</th>\n",
              "      <th>analytics</th>\n",
              "      <th>business</th>\n",
              "      <th>data</th>\n",
              "      <th>experience</th>\n",
              "      <th>learning</th>\n",
              "      <th>machine</th>\n",
              "      <th>models</th>\n",
              "      <th>science</th>\n",
              "      <th>skills</th>\n",
              "      <th>statistical</th>\n",
              "      <th>team</th>\n",
              "      <th>work</th>\n",
              "      <th>years</th>\n",
              "    </tr>\n",
              "  </thead>\n",
              "  <tbody>\n",
              "    <tr>\n",
              "      <th>359</th>\n",
              "      <td>0.000000</td>\n",
              "      <td>0.000000</td>\n",
              "      <td>0.000000</td>\n",
              "      <td>0.319673</td>\n",
              "      <td>0.182595</td>\n",
              "      <td>0.317461</td>\n",
              "      <td>0.403488</td>\n",
              "      <td>0.521734</td>\n",
              "      <td>0.177964</td>\n",
              "      <td>0.144496</td>\n",
              "      <td>0.233558</td>\n",
              "      <td>0.093671</td>\n",
              "      <td>0.222376</td>\n",
              "      <td>0.070712</td>\n",
              "      <td>0.397936</td>\n",
              "    </tr>\n",
              "    <tr>\n",
              "      <th>501</th>\n",
              "      <td>0.000000</td>\n",
              "      <td>0.164947</td>\n",
              "      <td>0.247766</td>\n",
              "      <td>0.000000</td>\n",
              "      <td>0.854033</td>\n",
              "      <td>0.000000</td>\n",
              "      <td>0.215680</td>\n",
              "      <td>0.232406</td>\n",
              "      <td>0.118911</td>\n",
              "      <td>0.000000</td>\n",
              "      <td>0.000000</td>\n",
              "      <td>0.250352</td>\n",
              "      <td>0.049528</td>\n",
              "      <td>0.047248</td>\n",
              "      <td>0.000000</td>\n",
              "    </tr>\n",
              "    <tr>\n",
              "      <th>169</th>\n",
              "      <td>0.124556</td>\n",
              "      <td>0.460074</td>\n",
              "      <td>0.259152</td>\n",
              "      <td>0.000000</td>\n",
              "      <td>0.680596</td>\n",
              "      <td>0.354987</td>\n",
              "      <td>0.000000</td>\n",
              "      <td>0.000000</td>\n",
              "      <td>0.000000</td>\n",
              "      <td>0.100986</td>\n",
              "      <td>0.108819</td>\n",
              "      <td>0.000000</td>\n",
              "      <td>0.207218</td>\n",
              "      <td>0.197678</td>\n",
              "      <td>0.111244</td>\n",
              "    </tr>\n",
              "    <tr>\n",
              "      <th>627</th>\n",
              "      <td>0.000000</td>\n",
              "      <td>0.000000</td>\n",
              "      <td>0.000000</td>\n",
              "      <td>0.000000</td>\n",
              "      <td>0.813125</td>\n",
              "      <td>0.121175</td>\n",
              "      <td>0.000000</td>\n",
              "      <td>0.000000</td>\n",
              "      <td>0.169822</td>\n",
              "      <td>0.000000</td>\n",
              "      <td>0.297163</td>\n",
              "      <td>0.000000</td>\n",
              "      <td>0.141468</td>\n",
              "      <td>0.404863</td>\n",
              "      <td>0.151892</td>\n",
              "    </tr>\n",
              "    <tr>\n",
              "      <th>269</th>\n",
              "      <td>0.000000</td>\n",
              "      <td>0.114801</td>\n",
              "      <td>0.129331</td>\n",
              "      <td>0.668971</td>\n",
              "      <td>0.594396</td>\n",
              "      <td>0.088579</td>\n",
              "      <td>0.112583</td>\n",
              "      <td>0.242627</td>\n",
              "      <td>0.124140</td>\n",
              "      <td>0.100795</td>\n",
              "      <td>0.108613</td>\n",
              "      <td>0.000000</td>\n",
              "      <td>0.206827</td>\n",
              "      <td>0.098652</td>\n",
              "      <td>0.000000</td>\n",
              "    </tr>\n",
              "  </tbody>\n",
              "</table>\n",
              "</div>\n",
              "      <button class=\"colab-df-convert\" onclick=\"convertToInteractive('df-35349262-1faf-4987-9802-c057e016a3a6')\"\n",
              "              title=\"Convert this dataframe to an interactive table.\"\n",
              "              style=\"display:none;\">\n",
              "        \n",
              "  <svg xmlns=\"http://www.w3.org/2000/svg\" height=\"24px\"viewBox=\"0 0 24 24\"\n",
              "       width=\"24px\">\n",
              "    <path d=\"M0 0h24v24H0V0z\" fill=\"none\"/>\n",
              "    <path d=\"M18.56 5.44l.94 2.06.94-2.06 2.06-.94-2.06-.94-.94-2.06-.94 2.06-2.06.94zm-11 1L8.5 8.5l.94-2.06 2.06-.94-2.06-.94L8.5 2.5l-.94 2.06-2.06.94zm10 10l.94 2.06.94-2.06 2.06-.94-2.06-.94-.94-2.06-.94 2.06-2.06.94z\"/><path d=\"M17.41 7.96l-1.37-1.37c-.4-.4-.92-.59-1.43-.59-.52 0-1.04.2-1.43.59L10.3 9.45l-7.72 7.72c-.78.78-.78 2.05 0 2.83L4 21.41c.39.39.9.59 1.41.59.51 0 1.02-.2 1.41-.59l7.78-7.78 2.81-2.81c.8-.78.8-2.07 0-2.86zM5.41 20L4 18.59l7.72-7.72 1.47 1.35L5.41 20z\"/>\n",
              "  </svg>\n",
              "      </button>\n",
              "      \n",
              "  <style>\n",
              "    .colab-df-container {\n",
              "      display:flex;\n",
              "      flex-wrap:wrap;\n",
              "      gap: 12px;\n",
              "    }\n",
              "\n",
              "    .colab-df-convert {\n",
              "      background-color: #E8F0FE;\n",
              "      border: none;\n",
              "      border-radius: 50%;\n",
              "      cursor: pointer;\n",
              "      display: none;\n",
              "      fill: #1967D2;\n",
              "      height: 32px;\n",
              "      padding: 0 0 0 0;\n",
              "      width: 32px;\n",
              "    }\n",
              "\n",
              "    .colab-df-convert:hover {\n",
              "      background-color: #E2EBFA;\n",
              "      box-shadow: 0px 1px 2px rgba(60, 64, 67, 0.3), 0px 1px 3px 1px rgba(60, 64, 67, 0.15);\n",
              "      fill: #174EA6;\n",
              "    }\n",
              "\n",
              "    [theme=dark] .colab-df-convert {\n",
              "      background-color: #3B4455;\n",
              "      fill: #D2E3FC;\n",
              "    }\n",
              "\n",
              "    [theme=dark] .colab-df-convert:hover {\n",
              "      background-color: #434B5C;\n",
              "      box-shadow: 0px 1px 3px 1px rgba(0, 0, 0, 0.15);\n",
              "      filter: drop-shadow(0px 1px 2px rgba(0, 0, 0, 0.3));\n",
              "      fill: #FFFFFF;\n",
              "    }\n",
              "  </style>\n",
              "\n",
              "      <script>\n",
              "        const buttonEl =\n",
              "          document.querySelector('#df-35349262-1faf-4987-9802-c057e016a3a6 button.colab-df-convert');\n",
              "        buttonEl.style.display =\n",
              "          google.colab.kernel.accessAllowed ? 'block' : 'none';\n",
              "\n",
              "        async function convertToInteractive(key) {\n",
              "          const element = document.querySelector('#df-35349262-1faf-4987-9802-c057e016a3a6');\n",
              "          const dataTable =\n",
              "            await google.colab.kernel.invokeFunction('convertToInteractive',\n",
              "                                                     [key], {});\n",
              "          if (!dataTable) return;\n",
              "\n",
              "          const docLinkHtml = 'Like what you see? Visit the ' +\n",
              "            '<a target=\"_blank\" href=https://colab.research.google.com/notebooks/data_table.ipynb>data table notebook</a>'\n",
              "            + ' to learn more about interactive tables.';\n",
              "          element.innerHTML = '';\n",
              "          dataTable['output_type'] = 'display_data';\n",
              "          await google.colab.output.renderOutput(dataTable, element);\n",
              "          const docLink = document.createElement('div');\n",
              "          docLink.innerHTML = docLinkHtml;\n",
              "          element.appendChild(docLink);\n",
              "        }\n",
              "      </script>\n",
              "    </div>\n",
              "  </div>\n",
              "  "
            ],
            "text/plain": [
              "      ability  analysis  analytics  ...      team      work     years\n",
              "359  0.000000  0.000000   0.000000  ...  0.222376  0.070712  0.397936\n",
              "501  0.000000  0.164947   0.247766  ...  0.049528  0.047248  0.000000\n",
              "169  0.124556  0.460074   0.259152  ...  0.207218  0.197678  0.111244\n",
              "627  0.000000  0.000000   0.000000  ...  0.141468  0.404863  0.151892\n",
              "269  0.000000  0.114801   0.129331  ...  0.206827  0.098652  0.000000\n",
              "\n",
              "[5 rows x 15 columns]"
            ]
          },
          "metadata": {},
          "execution_count": 26
        }
      ],
      "source": [
        "from sklearn.model_selection import train_test_split\n",
        "\n",
        "X_train, X_test = train_test_split(dtm_tfidf, test_size=0.1, random_state=42)\n",
        "y_train, y_test = train_test_split(df['senior'], test_size=0.1, random_state=42)\n",
        "\n",
        "X_train, X_val = train_test_split(X_train, test_size=0.1, random_state=42)\n",
        "y_train, y_val = train_test_split(y_train, test_size=0.1, random_state=42)\n",
        "X_train.head()"
      ]
    },
    {
      "cell_type": "code",
      "source": [
        "from sklearn.tree import DecisionTreeClassifier\n",
        "from sklearn.metrics import f1_score, precision_score, recall_score\n",
        "\n",
        "model = DecisionTreeClassifier(max_depth=7, random_state=42, criterion='entropy')\n",
        "model.fit(X_train, y_train)\n",
        "print(model.score(X_train, y_train))\n",
        "\n",
        "# 검증세트로 평가\n",
        "y_pred_val = model.predict(X_val)\n",
        "print('검증 정확도 : ', model.score(X_val, y_val))\n",
        "print('검증 f1 score : ', f1_score(y_val, y_pred_val))\n",
        "print('검증 precision score : ', precision_score(y_val, y_pred_val, average=None)[0])\n",
        "print('검증 recall score : ', recall_score(y_val, y_pred_val, average=None)[0])\n",
        "\n",
        "y_pred = model.predict(X_test)\n",
        "print('test 정확도 : ', model.score(X_test, y_test))\n",
        "print('test precision score : ', precision_score(y_test, y_pred, average=None)[0])\n",
        "print('test recall score : ', recall_score(y_test, y_pred, average=None)[0])"
      ],
      "metadata": {
        "id": "lAmzHaxbG09O",
        "outputId": "a38b195b-be63-4755-9a27-d9cc4cfd9107",
        "colab": {
          "base_uri": "https://localhost:8080/"
        }
      },
      "execution_count": 27,
      "outputs": [
        {
          "output_type": "stream",
          "name": "stdout",
          "text": [
            "0.9379084967320261\n",
            "검증 정확도 :  0.782608695652174\n",
            "검증 f1 score :  0.0\n",
            "검증 precision score :  0.8307692307692308\n",
            "검증 recall score :  0.9310344827586207\n",
            "test 정확도 :  0.8421052631578947\n",
            "test precision score :  0.8888888888888888\n",
            "test recall score :  0.9411764705882353\n"
          ]
        }
      ]
    }
  ],
  "metadata": {
    "colab": {
      "collapsed_sections": [],
      "name": "N421a_Count-based_Representation.ipynb",
      "provenance": [],
      "include_colab_link": true
    },
    "kernelspec": {
      "display_name": "Python 3 (ipykernel)",
      "language": "python",
      "name": "python3"
    },
    "language_info": {
      "codemirror_mode": {
        "name": "ipython",
        "version": 3
      },
      "file_extension": ".py",
      "mimetype": "text/x-python",
      "name": "python",
      "nbconvert_exporter": "python",
      "pygments_lexer": "ipython3",
      "version": "3.8.10"
    },
    "toc-autonumbering": false,
    "accelerator": "GPU"
  },
  "nbformat": 4,
  "nbformat_minor": 0
}