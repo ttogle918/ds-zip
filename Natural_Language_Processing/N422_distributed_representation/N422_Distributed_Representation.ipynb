{
  "nbformat": 4,
  "nbformat_minor": 0,
  "metadata": {
    "colab": {
      "name": "N422_Distributed_Representation.ipynb",
      "provenance": [],
      "collapsed_sections": []
    },
    "kernelspec": {
      "name": "python3",
      "display_name": "Python 3"
    },
    "language_info": {
      "name": "python"
    }
  },
  "cells": [
    {
      "cell_type": "markdown",
      "metadata": {
        "id": "jq8WE8TEepJE"
      },
      "source": [
        "<img align=\"right\" src=\"https://ds-cs-images.s3.ap-northeast-2.amazonaws.com/Codestates_Fulllogo_Color.png\" width=100>\n",
        "\n",
        "## ***DATA SCIENCE / SECTION 4 / SPRINT 2 / NOTE 2***\n",
        "\n",
        "---\n",
        "\n",
        "# 단어를 분산 표현(Distributed Representation)으로 나타내기"
      ]
    },
    {
      "cell_type": "markdown",
      "metadata": {
        "id": "jZ3YK4wStTac"
      },
      "source": [
        "## 🏆 학습 목표"
      ]
    },
    {
      "cell_type": "markdown",
      "metadata": {
        "id": "fgunZ7O-JV2w"
      },
      "source": [
        "- **단어의 분산 표현(Distributed Representation)**\n",
        "    - 원-핫 인코딩의 개념과 단점에 대해서 이해할 수 있습니다.\n",
        "    - 분포 기반의 표현, 임베딩이 무엇인지 설명할 수 있습니다. \n",
        "\n",
        "- **Word2Vec**\n",
        "    - CBoW와 Skip-gram의 차이에 대해서 설명할 수 있습니다.\n",
        "    - Word2Vec의 임베딩 벡터를 시각화한 결과가 어떤 특징을 가지는지 설명할 수 있습니다.\n",
        "\n",
        "- **fastText**\n",
        "    - OOV 문제가 무엇인지에 대해 설명할 수 있습니다.\n",
        "    - 철자(Character) 단위 임베딩 방법의 장점에 대해 설명할 수 있습니다."
      ]
    },
    {
      "cell_type": "markdown",
      "metadata": {
        "id": "J60PhkpEtVx3"
      },
      "source": [
        "## 🛫 Warm up"
      ]
    },
    {
      "cell_type": "markdown",
      "metadata": {
        "id": "QbPQ_io9esOZ"
      },
      "source": [
        "- 다음 영상을 시청하세요.\n",
        "    - [Word2Vec](https://youtu.be/sY4YyacSsLc)"
      ]
    },
    {
      "cell_type": "markdown",
      "metadata": {
        "id": "VfNjGHj7fFhs"
      },
      "source": [
        "## 1. Distributed Representation"
      ]
    },
    {
      "cell_type": "markdown",
      "metadata": {
        "id": "A_lw6LV9jnL1"
      },
      "source": [
        "이전 시간에 문서 내에 단어가 등장하는 횟수를 기반으로 문서를 벡터화하는 **등장 횟수 기반 표현(Count-based Representation)**에 대해서 알아보았습니다.\n",
        "\n"
      ]
    },
    {
      "cell_type": "markdown",
      "metadata": {
        "id": "l5tatQc8yqLs"
      },
      "source": [
        "이번 시간에는 단어 자체를 벡터화하는 방법에 대해서 알아보고자 합니다.<br/>\n",
        "이번 시간에 배우게 될 Word2Vec, fastText는 우리가 벡터로 표현하고자 하는 타겟 단어(Target word)가 해당 단어 주변 단어에 의해 결정됩니다."
      ]
    },
    {
      "cell_type": "markdown",
      "metadata": {
        "id": "r90FuVRHy-Ul"
      },
      "source": [
        "단어 벡터를 이렇게 정하는 이유는 [분포 가설(Distribution hypothesis)](https://en.wikipedia.org/wiki/Distributional_semantics) 때문입니다.<br/>\n",
        "분포 가설은 다음과 같습니다.\n",
        "\n",
        "> **'비슷한 위치에서 등장하는 단어들은 비슷한 의미를 가진다'**"
      ]
    },
    {
      "cell_type": "markdown",
      "metadata": {
        "id": "mPosM9abra3a"
      },
      "source": [
        "<img src=\"http://cdn.ppomppu.co.kr/zboard/data3/2018/1004/m_1538578985_9861_3dba059e_23ec_43dc_9f27_ce1d58c00e71.png.jpg\">"
      ]
    },
    {
      "cell_type": "markdown",
      "metadata": {
        "id": "P-cDWwuFtbKJ"
      },
      "source": [
        "'유유상종'이라는 사자성어 처럼 <br/>\n",
        "**비슷한 의미를 지닌 단어는 주변 단어 분포도 비슷하다**는 것이지요."
      ]
    },
    {
      "cell_type": "markdown",
      "metadata": {
        "id": "I4MvQpfNrci2"
      },
      "source": [
        "예를 들어, 두 문장\n",
        "\n",
        "- I found **good** stores.\n",
        "- I found **beautiful** stores.\n",
        "\n",
        "에서 _\"**good** 과 **beautiful** 은 해당 단어 주변에 분포한 단어가 유사하기 때문에 비슷한 의미를 지닐 것이다\"_ 라고 가정하는 것이 분포 가설입니다.\n",
        "\n",
        "바로 이 분포 가설에 기반하여 주변 단어 분포를 기준으로 단어의 벡터 표현이 결정되기 때문에 **<font color=\"ff6f61\">분산 표현(Distributed representation)</font>**이라고 부르게 됩니다."
      ]
    },
    {
      "cell_type": "markdown",
      "metadata": {
        "id": "ZW53G8m2sUk-"
      },
      "source": [
        "본격적으로 분산 표현을 배우기에 앞서, **원-핫 인코딩**에 대해 알아보겠습니다."
      ]
    },
    {
      "cell_type": "markdown",
      "metadata": {
        "id": "oFGEdx2znpT0"
      },
      "source": [
        "### 1) 원-핫 인코딩(One-hot Encoding)"
      ]
    },
    {
      "cell_type": "markdown",
      "metadata": {
        "id": "TubL1RIyfMIt"
      },
      "source": [
        "원-핫 인코딩은 단어를 벡터화하고자 할 때 선택할 수 있는 가장 쉬운 방법입니다. <br/>\n",
        "표 형태로 된 데이터를 다룰 때 범주형 변수를 요소마다 [0 0 0 1 ...] 의 형태로 나타냈던 것과 동일한 방법을 사용합니다.\n",
        "\n",
        "> \"I am a student\"\n",
        "\n",
        "라는 문장에서 각 단어를 원-핫 인코딩으로 나타내면 다음과 같습니다.\n",
        "\n",
        "> I : [1 0 0 0] <br/>\n",
        "> am : [0 1 0 0] <br/>\n",
        "> a : [0 0 1 0] <br/>\n",
        "> student : [0 0 0 1]"
      ]
    },
    {
      "cell_type": "code",
      "metadata": {
        "colab": {
          "base_uri": "https://localhost:8080/"
        },
        "id": "bVe3herbbLk_",
        "outputId": "8aeca8c5-cd7b-4461-f5af-c1c8d3f2cfae"
      },
      "source": [
        "sent = \"I am a student\"\n",
        "word_lst = sent.split()\n",
        "\n",
        "word_dict = {}\n",
        "\n",
        "for idx, word in enumerate(word_lst):\n",
        "    vec = [0 for _ in range(len(word_lst))]\n",
        "    vec[idx] = 1\n",
        "\n",
        "    word_dict[word] = vec\n",
        "\n",
        "print(word_dict)"
      ],
      "execution_count": null,
      "outputs": [
        {
          "output_type": "stream",
          "text": [
            "{'I': [1, 0, 0, 0], 'am': [0, 1, 0, 0], 'a': [0, 0, 1, 0], 'student': [0, 0, 0, 1]}\n"
          ],
          "name": "stdout"
        }
      ]
    },
    {
      "cell_type": "markdown",
      "metadata": {
        "id": "Z8jt3n1zoeXX"
      },
      "source": [
        "쉽게 이해할 수 있는 직관적인 방법이지만 원-핫 인코딩에는 치명적인 단점이 있습니다.<br/>\n",
        "바로 단어 간 유사도를 구할 수 없다는 점입니다.\n",
        "\n",
        "단어 간 유사도를 구할 때에는 코사인 유사도(cosine similarity)가 자주 사용됩니다.<br/>\n",
        "코사인 유사도를 구하기 위한 식은 다음과 같습니다.\n",
        "\n",
        "$$\n",
        "\\large \\text{Cosine similarity} = \\frac{\\vec{a} \\cdot \\vec{b} }{\\vert \\vec{a} \\vert \\vert \\vec{b} \\vert }\n",
        "$$"
      ]
    },
    {
      "cell_type": "markdown",
      "metadata": {
        "id": "T0hBgB1Bsheq"
      },
      "source": [
        "원-핫 인코딩을 사용한 두 벡터의 내적은 항상 0이므로 어떤 두 단어를 골라 코사인 유사도를 구하더라도 그 값은 0이 됩니다.<br/>\n",
        "이렇게 두 단어 사이의 관계를 전혀 알 수 없다는 것이 원-핫 인코딩의 최대 단점입니다."
      ]
    },
    {
      "cell_type": "code",
      "metadata": {
        "colab": {
          "base_uri": "https://localhost:8080/"
        },
        "id": "iPc8HC7xclGi",
        "outputId": "1cfc69c0-f05f-4762-f17e-3b5784e4efac"
      },
      "source": [
        "import numpy as np\n",
        "\n",
        "def cos_sim(a, b):\n",
        "    arr_a = np.array(a)\n",
        "    arr_b = np.array(b)\n",
        "\n",
        "    result = np.dot(arr_a, arr_b)/(np.linalg.norm(arr_a)*np.linalg.norm(arr_b))\n",
        "    return result\n",
        "\n",
        "print(f\"I 와 am 의 코사인 유사도 : {cos_sim(word_dict['I'], word_dict['am'])}\")\n",
        "print(f\"I 와 student 의 코사인 유사도 : {cos_sim(word_dict['I'], word_dict['student'])}\")"
      ],
      "execution_count": null,
      "outputs": [
        {
          "output_type": "stream",
          "text": [
            "I 와 am 의 코사인 유사도 : 0.0\n",
            "I 와 student 의 코사인 유사도 : 0.0\n"
          ],
          "name": "stdout"
        }
      ]
    },
    {
      "cell_type": "markdown",
      "metadata": {
        "id": "ue8XIZViZUj8"
      },
      "source": [
        "### 2) 임베딩(Embedding)"
      ]
    },
    {
      "cell_type": "markdown",
      "metadata": {
        "id": "PShO1N4dJJFO"
      },
      "source": [
        "원-핫 인코딩의 단점을 해결하기 위해 등장한 것이 **<font color=\"ff6f61\">임베딩(Embedding)</font>**입니다. <br/>\n",
        "단어를 고정 길이의 벡터, 즉 차원이 일정한 벡터로 나타내기 때문에 '임베딩'이라는 이름이 붙었습니다.<br/>\n",
        "임베딩을 거친 단어 벡터는 원-핫 인코딩과는 다른 형태의 값을 가집니다.\n",
        "\n",
        "예를 들어,\n",
        "\n",
        "> [0.04227, -0.0033, 0.1607, -0.0236, ...]\n",
        "\n",
        "위와 같이 벡터 내의 각 요소가 연속적인 값을 가지게 됩니다.<br/>\n",
        "어떻게 이런 벡터가 만들어지는지, 가장 널리 알려진 임베딩 방법인 **`Word2Vec`** 를 통해 알아보도록 하겠습니다.\n",
        "\n",
        "> ❗️ ***임베딩은 자연어처리 이외에 다른 딥러닝 분야(추천 시스템, GNN 등)에서도 사용되니 잘 기억해두도록 합시다. :)***"
      ]
    },
    {
      "cell_type": "markdown",
      "metadata": {
        "id": "QgGJEGGWgh4h"
      },
      "source": [
        "## 2. Word2Vec"
      ]
    },
    {
      "cell_type": "markdown",
      "metadata": {
        "id": "EhGyaZzbYuc3"
      },
      "source": [
        "2013년에 고안된 **<font color=\"ff6f61\">Word2Vec</font>** 은 말 그대로 **단어를 벡터로(Word to Vector) 나타내는 방법**으로 가장 널리 사용되는 임베딩 방법 중 하나입니다.<br>\n",
        "**`Word2Vec`**은 특정 단어 양 옆에 있는 두 단어(window size = 2)의 관계를 활용하기 때문에 **분포 가설을 잘 반영**하고 있습니다.\n",
        "\n",
        "`Word2Vec` 에는 `CBoW`와 `Skip-gram`의 2가지 방법이 있습니다.<br/>\n",
        "두 가지 방법이 어떻게 다른지에 대해서 알아보도록 하겠습니다."
      ]
    },
    {
      "cell_type": "markdown",
      "metadata": {
        "id": "fQX5w8Q1OBLE"
      },
      "source": [
        "### 1) CBoW 와 Skip-gram"
      ]
    },
    {
      "cell_type": "markdown",
      "metadata": {
        "id": "jlpZAt5XOGqF"
      },
      "source": [
        "`CBoW`와 `Skip-gram`의 차이는 \n",
        "\n",
        "1. 주변 단어에 대한 정보를 기반으로 중심 단어의 정보를 예측하는 모델인지 ▶️ **<font color=\"ff6f61\">CBoW(Continuous Bag-of-Words)</font>**\n",
        "2. 중심 단어의 정보를 기반으로 주변 단어의 정보를 예측하는 모델인지 ▶️ **<font color=\"ff6f61\">Skip-gram</font>**\n",
        "\n",
        "에 따라서 달라집니다.\n",
        "\n",
        "아래 그림을 통해 두 방식의 차이를 좀 더 잘 이해해보도록 하겠습니다."
      ]
    },
    {
      "cell_type": "markdown",
      "metadata": {
        "id": "wBeUHeVGpGtp"
      },
      "source": [
        "<img src=\"https://www.researchgate.net/profile/Nailah_Al-Madi/publication/319954363/figure/fig1/AS:552189871353858@1508663732919/CBOW-and-Skip-gram-models-architecture-1.png\" width=\"800\" />"
      ]
    },
    {
      "cell_type": "markdown",
      "metadata": {
        "id": "iq3TTka8pITR"
      },
      "source": [
        "예시를 통해서도 둘의 차이를 알아보겠습니다.<br/>\n",
        "<별 헤는 밤> 의 일부분에 형태소 분석기를 적용하여 토큰화한 것입니다.\n",
        "\n",
        "> “… 어머님 나 는 별 하나 에 아름다운 말 한마디 씩 불러 봅니다 …”\n",
        "\n",
        "**CBoW** 를 사용하면 표시된 단어 정보를 바탕으로 아래의 [ ---- ] 에 들어갈 단어를 예측하는 과정으로 학습이 진행됩니다.\n",
        "\n",
        "> “… 나 는 [ -- ] 하나 에 … “ <br/>\n",
        "> “… 는 별 [ ---- ] 에 아름다운 …”<br/>\n",
        "> “… 별 하나 [ -- ] 아름다운 말 …”<br/>\n",
        "> “… 하나 에 [ -------- ] 말 한마디 …”\n",
        "\n",
        "**Skip-gram** 을 사용하면 표시된 단어 정보를 바탕으로 다음의 [ ---- ] 에 들어갈 단어를 예측하는 과정으로 학습이 진행됩니다.\n",
        "\n",
        "> “… [ -- ] [ -- ] 별 [ ---- ] [ -- ] …” <br/>\n",
        "> “… [ -- ] [ -- ] 하나 [ -- ] [ -------- ] …” <br/>\n",
        "> “… [ -- ] [ ---- ] 에 [ -------- ] [ -- ] …” <br/>\n",
        "> “… [ ---- ] [ -- ] 아름다운 [ -- ] [ ------ ] …”"
      ]
    },
    {
      "cell_type": "markdown",
      "metadata": {
        "id": "wSgkGFmQYRYW"
      },
      "source": [
        "더 많은 정보를 바탕으로 특정 단어를 예측하기 때문에 CBoW의 성능이 더 좋을 것으로 생각하기 쉽지만,<br/>\n",
        "역전파 관점에서 보면 Skip-gram에서 훨씬 더 많은 학습이 일어나기 때문에 **Skip-gram의 성능이 조금 더 좋게 나타납니다.**<br/>\n",
        "물론 계산량이 많기 때문에 Skip-gram에 드는 리소스가 더 큰 것도 사실입니다."
      ]
    },
    {
      "cell_type": "markdown",
      "metadata": {
        "id": "5IWk9B_hUOh7"
      },
      "source": [
        "### Word2Vec 모델의 구조"
      ]
    },
    {
      "cell_type": "markdown",
      "metadata": {
        "id": "UYSoAe-CdQdn"
      },
      "source": [
        "성능 덕분에 조금 더 자주 사용되는 Skip-gram을 기준으로 Word2Vec의 구조에 대해 알아보겠습니다.\n",
        "\n",
        "- 입력 : Word2Vec의 입력은 원-핫 인코딩된 단어 벡터입니다.\n",
        "- 은닉층 : 임베딩 벡터의 차원수 만큼의 노드로 구성된 은닉층이 1개인 신경망입니다.\n",
        "- 출력층 : 단어 개수 만큼의 노드로 이루어져 있으며 활성화 함수로 소프트맥스를 사용합니다.\n",
        "\n",
        "아래 그림을 통해서 Word2Vec 모델의 개략적인 구조에 대해 알아보겠습니다.\n",
        "\n",
        "논문에서는 총 10,000개의 단어에 대해서 300차원의 임베딩 벡터를 구했기 때문에<br/>\n",
        "신경망 구조가 아래와 같아졌습니다."
      ]
    },
    {
      "cell_type": "markdown",
      "metadata": {
        "id": "7CzDiHIGUrm6"
      },
      "source": [
        "<img src=\"http://mccormickml.com/assets/word2vec/skip_gram_net_arch.png\" width=\"800\" />\n"
      ]
    },
    {
      "cell_type": "markdown",
      "metadata": {
        "id": "4nkxYzf2UbZ_"
      },
      "source": [
        "### Word2Vec 학습을 위한 학습 데이터 디자인"
      ]
    },
    {
      "cell_type": "markdown",
      "metadata": {
        "id": "d_6oJ9xHUivT"
      },
      "source": [
        "효율적인 Word2Vec 학습을 위해서는 학습 데이터를 잘 구성해야 합니다.<br/>\n",
        "Window 사이즈가 2인 Word2Vec 이므로 중심 단어 옆에 있는 2개 단어에 대해 단어쌍을 구성합니다.\n",
        "\n",
        "예를 들어, **\"The tortoise jumped into the lake\"** 라는 문장에 대해 단어쌍을 구성해보겠습니다.<br/>\n",
        "윈도우 크기가 2인 경우 다음과 같이 Skip-gram을 학습하기 위한 데이터 쌍을 구축할 수 있습니다.\n",
        "\n",
        "- 중심 단어 : **The**, 주변 문맥 단어 : tortoise, jumped\n",
        "    - 학습 샘플: (the, tortoise), (the, jumped)\n",
        "- 중심 단어 : **tortoise**, 주변 문맥 단어 : the, jumped, into\n",
        "    - 학습 샘플: (tortoise, the), (tortoise, jumped), (tortoise, into)\n",
        "- 중심 단어 : **jumped**, 주변 문맥 단어 : the, tortoise, into, the\n",
        "    - 학습 샘플: (jumped, the), (jumped, tortoise), (jumped, into), (jumped, the)\n",
        "- 중심 단어 : **into**, 주변 문맥 단어 : tortoise, jumped, the, lake\n",
        "    - 학습 샘플: (into, tortoise), (into, jumped), (into, the), (into, lake)\n",
        "\n",
        "이런 방법으로 학습 데이터를 만들면 다음과 같은 데이터쌍이 만들어 집니다. \n",
        "\n",
        "|중심단어|문맥단어|\n",
        "|---------|---------|\n",
        "|the|tortoise|\n",
        "|the|jumped|\n",
        "|tortoise|the|\n",
        "|tortoise|jumped|\n",
        "|tortoise|into|\n",
        "|jumped|the|\n",
        "|jumped|tortoise|\n",
        "|jumped|into|\n",
        "|jumped|the|\n",
        "|into|tortoise|\n",
        "|into|jumped|\n",
        "|into|the|\n",
        "|into|lake|\n",
        "|...|...|"
      ]
    },
    {
      "cell_type": "markdown",
      "metadata": {
        "id": "5JIjkND27xwL"
      },
      "source": [
        "Skip-gram 에서는 중심단어를 입력으로, 문맥단어를 레이블로 하는 분류(Classification)를 통해 학습한다고 생각하시면 되겠습니다."
      ]
    },
    {
      "cell_type": "markdown",
      "metadata": {
        "id": "h0jROQAeWiuu"
      },
      "source": [
        "### Word2Vec의 결과"
      ]
    },
    {
      "cell_type": "markdown",
      "metadata": {
        "id": "0pU6qkwNXYpm"
      },
      "source": [
        "학습이 모두 끝나면 10000개의 단어에 대해 300차원의 임베딩 벡터가 생성됩니다. <br/>\n",
        "만약에 임베딩 벡터의 차원을 조절하고 싶다면 은닉층의 노드 수를 줄이거나 늘릴 수 있습니다.<br/>\n",
        "\n",
        "아래 그림은 신경망 내부에 있는 $10000 \\times 300$ 크기의 가중치 행렬에 의해서<br/>\n",
        "10000개 단어에 대한 300차원의 벡터가 생성되는 모습을 나타낸 이미지입니다."
      ]
    },
    {
      "cell_type": "markdown",
      "metadata": {
        "id": "qHeZ4g1xWlAv"
      },
      "source": [
        "<img src=\"https://i.imgur.com/1ETMljf.png\" width=\"600\" />\n"
      ]
    },
    {
      "cell_type": "markdown",
      "metadata": {
        "id": "I1QlmsbqY2J2"
      },
      "source": [
        "학습과정에서 효율을 높이기 위해 사용하는 기법들이 있지만 아직은 너무 깊게 들어가지 않겠습니다.<br/>\n",
        "추후 아래 키워드를 통해 Word2Vec을 조금 더 적은 계산으로 하는 방법에 대해 조사해보시면 좋겠습니다.\n",
        "\n",
        "- 더 알아보기\n",
        "    - Sub-sampling\n",
        "    - Negative-sampling"
      ]
    },
    {
      "cell_type": "markdown",
      "metadata": {
        "id": "HL8l6q2fZE6j"
      },
      "source": [
        "결과적으로 Skip-gram 모델을 통해 10000개 단어에 대한 임베딩 벡터를 얻을 수 있습니다.<br/>\n",
        "이렇게 얻은 임베딩 벡터는 문장 간의 관련도 계산, 문서 분류같은 작업에 사용할 수 있습니다."
      ]
    },
    {
      "cell_type": "markdown",
      "metadata": {
        "id": "7jc62ll97Ool"
      },
      "source": [
        "### Word2Vec으로 임베딩한 벡터 시각화"
      ]
    },
    {
      "cell_type": "markdown",
      "metadata": {
        "id": "9x9ysyktWpFk"
      },
      "source": [
        "Word2Vec을 통해 얻은 임베딩 벡터는 **<font color=\"ff6f61\">단어 간의 의미적, 문법적 관계를 잘 나타냅니다.</font>**<br/>\n",
        "이를 대표적으로 잘 보여주는 것이 아래 그림입니다.<br/>\n",
        "\n",
        "1. **`man - woman`** 사이의 관계와 **`king - queen`** 사이의 관계가 매우 유사하게 나타납니다.<br/>\n",
        "생성된 임베딩 벡터가 단어의 **의미적(Semantic) 관계를 잘 표현**하는 것을 확인할 수 있습니다.\n",
        "\n",
        "2. **`walking - walked`** 사이의 관계와 **`swimming - swam`** 사이의 관계가 매우 유사하게 나타납니다.<br/>\n",
        "생성된 임베딩 벡터가 단어의 **문법적(혹은 구조적, Syntactic)인 관계도 잘 표현**하는 것을 확인할 수 있습니다.\n",
        "\n",
        "3. 고유명사에 대해서도 나라 - 수도 와 같은 관계를 잘 나타내고 있는 것을 확인할 수 있습니다."
      ]
    },
    {
      "cell_type": "markdown",
      "metadata": {
        "id": "m7_fd6qHS-Nk"
      },
      "source": [
        "<img src=\"https://miro.medium.com/max/3010/1*OEmWDt4eztOcm5pr2QbxfA.png\"/>"
      ]
    },
    {
      "cell_type": "markdown",
      "metadata": {
        "id": "5qS40lT3MCmg"
      },
      "source": [
        "### gensim 패키지로 word2Vec 실습하기\n",
        "\n",
        "**`gensim`** 은 **`Word2Vec`** 으로 사전 학습된 임베딩 벡터를 쉽게 사용해볼 수 있는 패키지입니다.<br/>\n",
        "gensim을 사용하여 word2vec의 결과가 어떻게 도출되는지 알아보겠습니다."
      ]
    },
    {
      "cell_type": "markdown",
      "metadata": {
        "id": "7G4mYALPgvQD"
      },
      "source": [
        "0. (시작하기 전에) **`gensim` 패키지를 최신 버전으로 업그레이드** 합니다.\n",
        "\n",
        "아래 `--upgrade` 셀을 실행하여 패키지를 업그레이드 한 후,<br/>\n",
        "메뉴 탭에서 '런타임' > '런타임 다시 시작'을 클릭하여 런타임을 다시 시작합니다.\n",
        "\n",
        "이후 아래 `.__version__` 이 있는 셀을 활용하여 최신 버전인지 확인합니다."
      ]
    },
    {
      "cell_type": "code",
      "metadata": {
        "colab": {
          "base_uri": "https://localhost:8080/",
          "height": 307
        },
        "id": "4JCn0DjhoHB2",
        "outputId": "e8f02363-8fbd-4e66-b0e6-01ef10b6a9f6"
      },
      "source": [
        "!pip install gensim --upgrade"
      ],
      "execution_count": null,
      "outputs": [
        {
          "output_type": "stream",
          "text": [
            "Collecting gensim\n",
            "\u001b[?25l  Downloading https://files.pythonhosted.org/packages/44/52/f1417772965652d4ca6f901515debcd9d6c5430969e8c02ee7737e6de61c/gensim-4.0.1-cp37-cp37m-manylinux1_x86_64.whl (23.9MB)\n",
            "\u001b[K     |████████████████████████████████| 23.9MB 160kB/s \n",
            "\u001b[?25hRequirement already satisfied, skipping upgrade: scipy>=0.18.1 in /usr/local/lib/python3.7/dist-packages (from gensim) (1.4.1)\n",
            "Requirement already satisfied, skipping upgrade: numpy>=1.11.3 in /usr/local/lib/python3.7/dist-packages (from gensim) (1.19.5)\n",
            "Requirement already satisfied, skipping upgrade: smart-open>=1.8.1 in /usr/local/lib/python3.7/dist-packages (from gensim) (5.0.0)\n",
            "Installing collected packages: gensim\n",
            "  Found existing installation: gensim 3.6.0\n",
            "    Uninstalling gensim-3.6.0:\n",
            "      Successfully uninstalled gensim-3.6.0\n",
            "Successfully installed gensim-4.0.1\n"
          ],
          "name": "stdout"
        },
        {
          "output_type": "display_data",
          "data": {
            "application/vnd.colab-display-data+json": {
              "pip_warning": {
                "packages": [
                  "gensim"
                ]
              }
            }
          },
          "metadata": {
            "tags": []
          }
        }
      ]
    },
    {
      "cell_type": "code",
      "metadata": {
        "colab": {
          "base_uri": "https://localhost:8080/",
          "height": 89
        },
        "id": "yer4OuxeoVuj",
        "outputId": "78eacaa2-6878-47cc-b161-7bffc094bcdc"
      },
      "source": [
        "import gensim\n",
        "\n",
        "gensim.__version__"
      ],
      "execution_count": null,
      "outputs": [
        {
          "output_type": "stream",
          "text": [
            "/usr/local/lib/python3.7/dist-packages/gensim/similarities/__init__.py:15: UserWarning: The gensim.similarities.levenshtein submodule is disabled, because the optional Levenshtein package <https://pypi.org/project/python-Levenshtein/> is unavailable. Install Levenhstein (e.g. `pip install python-Levenshtein`) to suppress this warning.\n",
            "  warnings.warn(msg)\n"
          ],
          "name": "stderr"
        },
        {
          "output_type": "execute_result",
          "data": {
            "application/vnd.google.colaboratory.intrinsic+json": {
              "type": "string"
            },
            "text/plain": [
              "'4.0.1'"
            ]
          },
          "metadata": {
            "tags": []
          },
          "execution_count": 1
        }
      ]
    },
    {
      "cell_type": "markdown",
      "metadata": {
        "id": "ztbBoq8vNYAt"
      },
      "source": [
        "1. **구글 뉴스 말뭉치로 학습된 `word2vec` 벡터를 다운받습니다.** (시간이 오래 걸립니다.)"
      ]
    },
    {
      "cell_type": "code",
      "metadata": {
        "colab": {
          "base_uri": "https://localhost:8080/"
        },
        "id": "uKMe7PBlpx6A",
        "outputId": "fbfa6615-69a5-44d6-a90f-a969d3ef1ab2"
      },
      "source": [
        "import gensim.downloader as api\n",
        "\n",
        "wv = api.load('word2vec-google-news-300')"
      ],
      "execution_count": null,
      "outputs": [
        {
          "output_type": "stream",
          "text": [
            "[==================================================] 100.0% 1662.8/1662.8MB downloaded\n"
          ],
          "name": "stdout"
        }
      ]
    },
    {
      "cell_type": "markdown",
      "metadata": {
        "id": "ukFb1Elohrod"
      },
      "source": [
        "2. **0 ~ 9 인덱스에 위치한 단어가 무엇인지 확인해봅시다.**"
      ]
    },
    {
      "cell_type": "code",
      "metadata": {
        "colab": {
          "base_uri": "https://localhost:8080/"
        },
        "id": "GUm6-jEKpH-G",
        "outputId": "6370506e-7d86-4723-d869-177ae5f03468"
      },
      "source": [
        "for idx, word in enumerate(wv.index_to_key):\n",
        "    if idx == 10:\n",
        "        break\n",
        "\n",
        "    print(f\"word #{idx}/{len(wv.index_to_key)} is '{word}'\")"
      ],
      "execution_count": null,
      "outputs": [
        {
          "output_type": "stream",
          "text": [
            "word #0/3000000 is '</s>'\n",
            "word #1/3000000 is 'in'\n",
            "word #2/3000000 is 'for'\n",
            "word #3/3000000 is 'that'\n",
            "word #4/3000000 is 'is'\n",
            "word #5/3000000 is 'on'\n",
            "word #6/3000000 is '##'\n",
            "word #7/3000000 is 'The'\n",
            "word #8/3000000 is 'with'\n",
            "word #9/3000000 is 'said'\n"
          ],
          "name": "stdout"
        }
      ]
    },
    {
      "cell_type": "markdown",
      "metadata": {
        "id": "A0dKXTtrh2bJ"
      },
      "source": [
        "3. **임베딩 벡터의 차원과 값을 눈으로 확인해봅시다.**\n",
        "\n",
        "**king** 이라는 단어의 벡터의 shape을 출력하여 임베딩 벡터의 차원을 확인해봅시다.<br/>\n",
        "결과를 통해 **`Word2Vec`** 을 통해 학습된 임베딩 벡터는 300차원이며, 벡터의 요소가 원-핫 인코딩과는 다르다는 것을 확인할 수 있습니다."
      ]
    },
    {
      "cell_type": "code",
      "metadata": {
        "id": "rScfq8kFppm8",
        "colab": {
          "base_uri": "https://localhost:8080/"
        },
        "outputId": "bc419cc6-3712-44e8-bec9-ab7e55b39dd5"
      },
      "source": [
        "vec_king = wv['king']\n",
        "\n",
        "print(f\"Embedding dimesion is : {vec_king.shape}\\n\")\n",
        "print(f\"Embedding vector of 'king' is \\n\\n {vec_king}\")"
      ],
      "execution_count": null,
      "outputs": [
        {
          "output_type": "stream",
          "text": [
            "Embedding dimesion is : (300,)\n",
            "\n",
            "Embedding vector of 'king' is \n",
            "\n",
            " [ 1.25976562e-01  2.97851562e-02  8.60595703e-03  1.39648438e-01\n",
            " -2.56347656e-02 -3.61328125e-02  1.11816406e-01 -1.98242188e-01\n",
            "  5.12695312e-02  3.63281250e-01 -2.42187500e-01 -3.02734375e-01\n",
            " -1.77734375e-01 -2.49023438e-02 -1.67968750e-01 -1.69921875e-01\n",
            "  3.46679688e-02  5.21850586e-03  4.63867188e-02  1.28906250e-01\n",
            "  1.36718750e-01  1.12792969e-01  5.95703125e-02  1.36718750e-01\n",
            "  1.01074219e-01 -1.76757812e-01 -2.51953125e-01  5.98144531e-02\n",
            "  3.41796875e-01 -3.11279297e-02  1.04492188e-01  6.17675781e-02\n",
            "  1.24511719e-01  4.00390625e-01 -3.22265625e-01  8.39843750e-02\n",
            "  3.90625000e-02  5.85937500e-03  7.03125000e-02  1.72851562e-01\n",
            "  1.38671875e-01 -2.31445312e-01  2.83203125e-01  1.42578125e-01\n",
            "  3.41796875e-01 -2.39257812e-02 -1.09863281e-01  3.32031250e-02\n",
            " -5.46875000e-02  1.53198242e-02 -1.62109375e-01  1.58203125e-01\n",
            " -2.59765625e-01  2.01416016e-02 -1.63085938e-01  1.35803223e-03\n",
            " -1.44531250e-01 -5.68847656e-02  4.29687500e-02 -2.46582031e-02\n",
            "  1.85546875e-01  4.47265625e-01  9.58251953e-03  1.31835938e-01\n",
            "  9.86328125e-02 -1.85546875e-01 -1.00097656e-01 -1.33789062e-01\n",
            " -1.25000000e-01  2.83203125e-01  1.23046875e-01  5.32226562e-02\n",
            " -1.77734375e-01  8.59375000e-02 -2.18505859e-02  2.05078125e-02\n",
            " -1.39648438e-01  2.51464844e-02  1.38671875e-01 -1.05468750e-01\n",
            "  1.38671875e-01  8.88671875e-02 -7.51953125e-02 -2.13623047e-02\n",
            "  1.72851562e-01  4.63867188e-02 -2.65625000e-01  8.91113281e-03\n",
            "  1.49414062e-01  3.78417969e-02  2.38281250e-01 -1.24511719e-01\n",
            " -2.17773438e-01 -1.81640625e-01  2.97851562e-02  5.71289062e-02\n",
            " -2.89306641e-02  1.24511719e-02  9.66796875e-02 -2.31445312e-01\n",
            "  5.81054688e-02  6.68945312e-02  7.08007812e-02 -3.08593750e-01\n",
            " -2.14843750e-01  1.45507812e-01 -4.27734375e-01 -9.39941406e-03\n",
            "  1.54296875e-01 -7.66601562e-02  2.89062500e-01  2.77343750e-01\n",
            " -4.86373901e-04 -1.36718750e-01  3.24218750e-01 -2.46093750e-01\n",
            " -3.03649902e-03 -2.11914062e-01  1.25000000e-01  2.69531250e-01\n",
            "  2.04101562e-01  8.25195312e-02 -2.01171875e-01 -1.60156250e-01\n",
            " -3.78417969e-02 -1.20117188e-01  1.15234375e-01 -4.10156250e-02\n",
            " -3.95507812e-02 -8.98437500e-02  6.34765625e-03  2.03125000e-01\n",
            "  1.86523438e-01  2.73437500e-01  6.29882812e-02  1.41601562e-01\n",
            " -9.81445312e-02  1.38671875e-01  1.82617188e-01  1.73828125e-01\n",
            "  1.73828125e-01 -2.37304688e-01  1.78710938e-01  6.34765625e-02\n",
            "  2.36328125e-01 -2.08984375e-01  8.74023438e-02 -1.66015625e-01\n",
            " -7.91015625e-02  2.43164062e-01 -8.88671875e-02  1.26953125e-01\n",
            " -2.16796875e-01 -1.73828125e-01 -3.59375000e-01 -8.25195312e-02\n",
            " -6.49414062e-02  5.07812500e-02  1.35742188e-01 -7.47070312e-02\n",
            " -1.64062500e-01  1.15356445e-02  4.45312500e-01 -2.15820312e-01\n",
            " -1.11328125e-01 -1.92382812e-01  1.70898438e-01 -1.25000000e-01\n",
            "  2.65502930e-03  1.92382812e-01 -1.74804688e-01  1.39648438e-01\n",
            "  2.92968750e-01  1.13281250e-01  5.95703125e-02 -6.39648438e-02\n",
            "  9.96093750e-02 -2.72216797e-02  1.96533203e-02  4.27246094e-02\n",
            " -2.46093750e-01  6.39648438e-02 -2.25585938e-01 -1.68945312e-01\n",
            "  2.89916992e-03  8.20312500e-02  3.41796875e-01  4.32128906e-02\n",
            "  1.32812500e-01  1.42578125e-01  7.61718750e-02  5.98144531e-02\n",
            " -1.19140625e-01  2.74658203e-03 -6.29882812e-02 -2.72216797e-02\n",
            " -4.82177734e-03 -8.20312500e-02 -2.49023438e-02 -4.00390625e-01\n",
            " -1.06933594e-01  4.24804688e-02  7.76367188e-02 -1.16699219e-01\n",
            "  7.37304688e-02 -9.22851562e-02  1.07910156e-01  1.58203125e-01\n",
            "  4.24804688e-02  1.26953125e-01  3.61328125e-02  2.67578125e-01\n",
            " -1.01074219e-01 -3.02734375e-01 -5.76171875e-02  5.05371094e-02\n",
            "  5.26428223e-04 -2.07031250e-01 -1.38671875e-01 -8.97216797e-03\n",
            " -2.78320312e-02 -1.41601562e-01  2.07031250e-01 -1.58203125e-01\n",
            "  1.27929688e-01  1.49414062e-01 -2.24609375e-02 -8.44726562e-02\n",
            "  1.22558594e-01  2.15820312e-01 -2.13867188e-01 -3.12500000e-01\n",
            " -3.73046875e-01  4.08935547e-03  1.07421875e-01  1.06933594e-01\n",
            "  7.32421875e-02  8.97216797e-03 -3.88183594e-02 -1.29882812e-01\n",
            "  1.49414062e-01 -2.14843750e-01 -1.83868408e-03  9.91210938e-02\n",
            "  1.57226562e-01 -1.14257812e-01 -2.05078125e-01  9.91210938e-02\n",
            "  3.69140625e-01 -1.97265625e-01  3.54003906e-02  1.09375000e-01\n",
            "  1.31835938e-01  1.66992188e-01  2.35351562e-01  1.04980469e-01\n",
            " -4.96093750e-01 -1.64062500e-01 -1.56250000e-01 -5.22460938e-02\n",
            "  1.03027344e-01  2.43164062e-01 -1.88476562e-01  5.07812500e-02\n",
            " -9.37500000e-02 -6.68945312e-02  2.27050781e-02  7.61718750e-02\n",
            "  2.89062500e-01  3.10546875e-01 -5.37109375e-02  2.28515625e-01\n",
            "  2.51464844e-02  6.78710938e-02 -1.21093750e-01 -2.15820312e-01\n",
            " -2.73437500e-01 -3.07617188e-02 -3.37890625e-01  1.53320312e-01\n",
            "  2.33398438e-01 -2.08007812e-01  3.73046875e-01  8.20312500e-02\n",
            "  2.51953125e-01 -7.61718750e-02 -4.66308594e-02 -2.23388672e-02\n",
            "  2.99072266e-02 -5.93261719e-02 -4.66918945e-03 -2.44140625e-01\n",
            " -2.09960938e-01 -2.87109375e-01 -4.54101562e-02 -1.77734375e-01\n",
            " -2.79296875e-01 -8.59375000e-02  9.13085938e-02  2.51953125e-01]\n"
          ],
          "name": "stdout"
        }
      ]
    },
    {
      "cell_type": "markdown",
      "metadata": {
        "id": "_B_-rGbVTBOi"
      },
      "source": [
        "4. **말뭉치에 등장하지 않는 단어의 임베딩 벡터를 확인해봅시다.**\n",
        "\n",
        "**cameroon** 이라는 단어는 구글 뉴스 말뭉치에 등장하지 않는 단어(Unknown token)입니다.<br/>\n",
        "이 단어를 위와 같이 임베딩 벡터화 해보겠습니다.<br/>\n",
        "아래 결과에서는 **`KeyError`** 가 발생합니다.<br/>\n",
        "이처럼 **`Word2Vec`**은 말뭉치에 등장하지 않는 단어는 벡터화 할 수 없다는 단점이 있습니다."
      ]
    },
    {
      "cell_type": "code",
      "metadata": {
        "id": "UrUQ_W_Nrdsm",
        "colab": {
          "base_uri": "https://localhost:8080/"
        },
        "outputId": "69336dfe-1ff2-4b40-aaaf-da6401154fce"
      },
      "source": [
        "unk = 'cameroon'\n",
        "\n",
        "try:\n",
        "    vec_unk = wv[unk]\n",
        "except KeyError:\n",
        "    print(f\"The word #{unk} does not appear in this model\")"
      ],
      "execution_count": null,
      "outputs": [
        {
          "output_type": "stream",
          "text": [
            "The word #cameroon does not appear in this model\n"
          ],
          "name": "stdout"
        }
      ]
    },
    {
      "cell_type": "markdown",
      "metadata": {
        "id": "VCgafDP9ShJT"
      },
      "source": [
        "5. **단어 간 유사도를 파악해봅시다.**\n",
        "\n",
        "**`gensim`** 패키지가 제공하는 **`.similarity`** 를 활용하면 단어 간 유사도를 파악할 수 있습니다.<br/>\n",
        "원-핫 인코딩과 다르게 임베딩 벡터는 단어 간 유사도가 0이 아닌 값으로 나오게 됩니다.<br/>\n",
        "아래는 **'car'** 와 몇몇 단어의 유사도를 비교한 결과입니다."
      ]
    },
    {
      "cell_type": "code",
      "metadata": {
        "id": "rMfi_zX_rhba",
        "colab": {
          "base_uri": "https://localhost:8080/"
        },
        "outputId": "c2014e09-bf5f-40f9-a542-f20b2ade1f35"
      },
      "source": [
        "pairs = [\n",
        "    ('car', 'minivan'),   \n",
        "    ('car', 'bicycle'),  \n",
        "    ('car', 'airplane'),\n",
        "    ('car', 'cereal'),    \n",
        "    ('car', 'democracy')\n",
        "]\n",
        "\n",
        "for w1, w2 in pairs:\n",
        "    print(f'{w1} ======= {w2}\\t  {wv.similarity(w1, w2):.2f}')"
      ],
      "execution_count": null,
      "outputs": [
        {
          "output_type": "stream",
          "text": [
            "car ======= minivan\t  0.69\n",
            "car ======= bicycle\t  0.54\n",
            "car ======= airplane\t  0.42\n",
            "car ======= cereal\t  0.14\n",
            "car ======= democracy\t  0.08\n"
          ],
          "name": "stdout"
        }
      ]
    },
    {
      "cell_type": "markdown",
      "metadata": {
        "id": "av7l0N0bf0VO"
      },
      "source": [
        "`.most_similar` 메서드를 사용하여\n",
        "\n",
        "`'car'`벡터에 `'minivan'` 벡터를 더한 벡터와 가장 유사한 5개의 단어를 뽑아보겠습니다."
      ]
    },
    {
      "cell_type": "code",
      "metadata": {
        "id": "rv-6Q8_8seT6",
        "colab": {
          "base_uri": "https://localhost:8080/"
        },
        "outputId": "582a3a96-0a16-45b8-9714-7cd8f162339a"
      },
      "source": [
        "for i, (word, similarity) in enumerate(wv.most_similar(positive=['car', 'minivan'], topn=5)):\n",
        "    print(f\"Top {i+1} : {word}, {similarity}\")"
      ],
      "execution_count": null,
      "outputs": [
        {
          "output_type": "stream",
          "text": [
            "Top 1 : SUV, 0.8532192707061768\n",
            "Top 2 : vehicle, 0.8175783753395081\n",
            "Top 3 : pickup_truck, 0.7763688564300537\n",
            "Top 4 : Jeep, 0.7567334175109863\n",
            "Top 5 : Ford_Explorer, 0.7565720081329346\n"
          ],
          "name": "stdout"
        }
      ]
    },
    {
      "cell_type": "markdown",
      "metadata": {
        "id": "8bC4WIEjJcrr"
      },
      "source": [
        "시각화에서 확인한 것처럼 `king` 벡터에 `women` 벡터를 더한 뒤 `men` 벡터를 빼주면 `queen` 이 나오는 것과<br/>\n",
        "`walking` 벡터에 `swam` 벡터를 더한 뒤 `walked` 벡터를 빼주면 `swimming` 이 나오는 것을 확인할 수 있습니다."
      ]
    },
    {
      "cell_type": "code",
      "metadata": {
        "colab": {
          "base_uri": "https://localhost:8080/"
        },
        "id": "biCWjT3HJBKu",
        "outputId": "7ead76bc-2c38-44eb-d321-fe75e8c11c1b"
      },
      "source": [
        "print(wv.most_similar(positive=['king', 'women'], negative=['men'], topn=1))\n",
        "print(wv.most_similar(positive=['walking', 'swam'], negative=['walked'], topn=1))"
      ],
      "execution_count": null,
      "outputs": [
        {
          "output_type": "stream",
          "text": [
            "[('queen', 0.6525818109512329)]\n",
            "[('swimming', 0.7448815703392029)]\n"
          ],
          "name": "stdout"
        }
      ]
    },
    {
      "cell_type": "markdown",
      "metadata": {
        "id": "_H9OMnZMgrCZ"
      },
      "source": [
        "`.doesnt_match` 메서드를 사용하여\n",
        "\n",
        "['fire', 'water', 'land', 'sea', 'air', 'car'] 중에서 가장 관계 없는 단어를 뽑아봅시다."
      ]
    },
    {
      "cell_type": "code",
      "metadata": {
        "colab": {
          "base_uri": "https://localhost:8080/"
        },
        "id": "lOPi3pzAzhYd",
        "outputId": "a70d26d3-c6b0-4276-b086-1a76a498ac6e"
      },
      "source": [
        "print(wv.doesnt_match(['fire', 'water', 'land', 'sea', 'air', 'car']))"
      ],
      "execution_count": null,
      "outputs": [
        {
          "output_type": "stream",
          "text": [
            "car\n"
          ],
          "name": "stdout"
        }
      ]
    },
    {
      "cell_type": "markdown",
      "metadata": {
        "id": "V2giw9K2hNbL"
      },
      "source": [
        "## 3. fastText"
      ]
    },
    {
      "cell_type": "markdown",
      "metadata": {
        "id": "874inS2AizxV"
      },
      "source": [
        "**`fastText`** 는 **`Word2Vec`** 방식에 철자(Character) 기반의 임베딩 방식을 더해준 새로운 임베딩 방식입니다. <br/>\n",
        "**fastText** 가 고안된 이유는 무엇일까요?\n",
        "\n"
      ]
    },
    {
      "cell_type": "markdown",
      "metadata": {
        "id": "wDquZBPCc9hW"
      },
      "source": [
        "### 1) OOV(Out of Vocabulary) 문제"
      ]
    },
    {
      "cell_type": "markdown",
      "metadata": {
        "id": "kvQOeBdrXeY6"
      },
      "source": [
        "데이터 수집에 제법 노력을 쏟더라도 세상 모든 단어가 들어있는 말뭉치를 구하는 것은 불가능합니다.<br/>\n",
        "같은 어근을 지닌 단어라도 \"go, went, gone, goes...\" 등 수많은 변형이 있습니다.<br/>\n",
        "게다가 이전에는 쓰지 않았던 신조어가 등장하기도 합니다.\n",
        "\n",
        "하지만 **`Word2Vec`** 은 말뭉치에 등장하지 않은 단어에 대해서는 임베딩 벡터를 만들지 못한다는 단점이 있습니다.<br/>\n",
        "위에서 살펴본 것처럼 말뭉치에 등장하지 않은 단어인 Cameroon의 임베딩 벡터를 출력하려다 보니 에러가 발생했습니다.<br/>\n",
        "이렇게 기존 말뭉치에 등장하지 않는 단어가 등장하는 문제를 **<font color=\"ff6f61\">OOV(Out of Vocabulary) 문제</font>**라고 합니다.<br/>\n",
        "Word2Vec은 등장하지 않는 단어에 대해서는 학습하지 않기 때문에 예측(혹은 추론) 단계에서<br/>\n",
        "Cameroom과 같은 새로운 단어가 등장하면 에러를 발생시킵니다.\n",
        "\n",
        "또한 적게 등장하는 단어(Rare words)에 대해서는 학습이 적게 일어나기 때문에 적절한 임베딩 벡터를 생성해내지 못한다는 것도 Word2Vec 의 단점입니다."
      ]
    },
    {
      "cell_type": "markdown",
      "metadata": {
        "id": "orFuAuxwHux-"
      },
      "source": [
        "### 2) 철자 단위 임베딩(Character level Embedding)"
      ]
    },
    {
      "cell_type": "markdown",
      "metadata": {
        "id": "zRE_mxmgd8Vc"
      },
      "source": [
        "- **철자 단위 임베딩이란?**"
      ]
    },
    {
      "cell_type": "markdown",
      "metadata": {
        "id": "m08VAm8AYdog"
      },
      "source": [
        "**`fastText`** 는 철자(Character) 수준의 임베딩을 보조 정보로 사용함으로써 OOV 문제를  해결해냈습니다.\n",
        "\n",
        "예시를 생각해 보겠습니다.<br/>\n",
        "\"맞벌이\"라는 단어를 모른다고 하더라도 아래 단어를 알면 대략적인 의미를 유추해 볼 수 있습니다.\n",
        "\n",
        "> 1. _\"맞선, 맞절, 맞대다, 맞들다, 맞바꾸다, 맞서다, 맞잡다, 맞장구치다\"_ <br/>\n",
        "> 2. _\"벌다, 벌어, 벌고\"_<br/>\n",
        "> 3. _\"먹이, 깊이, 넓이\"_\n",
        "\n",
        "첫 번째 줄 단어를 통해서 **\"맞-\"**이라는 접두사의 의미를 유추해 보고,<br/>\n",
        "두 번째 줄 단어를 통해서 **\"-벌-\"**이라는 어근의 의미를 유추해 보고,<br/>\n",
        "세 번째 줄 단어를 통해서 **\"-이\"**라는 접미사의 의미를 유추해 볼 수 있습니다.<br/>\n",
        "세 가지를 잘 조합하면 \"맞벌이\" 라는 단어의 뜻을 알 수 있습니다.\n",
        "\n",
        "**`fastText`** 가 철자 단위 임베딩을 사용하고자 하는 이유도 동일합니다.<br/>\n",
        "모델이 학습하지 못한 단어더라도 잘 쪼개고 보면 말뭉치에서 등장했던 단어를 통해 유추해 볼 수 있다는 아이디어에서 출발하였습니다."
      ]
    },
    {
      "cell_type": "markdown",
      "metadata": {
        "id": "Z0srKtczF2nd"
      },
      "source": [
        "- **fastText가 Character-level(철자 단위) 임베딩을 적용하는 법 : <font color=\"ff6f61\">Character n-gram</font>**"
      ]
    },
    {
      "cell_type": "markdown",
      "metadata": {
        "id": "XnNy92y-c01Y"
      },
      "source": [
        "**`fastText`** 는 3-6개로 묶은 Character 정보(3-6 grams) 단위를 사용합니다.<br/>\n",
        "3-6개 단위로 묶기 이전에 모델이 접두사와 접미사를 인식할 수 있도록 해당 단어 앞뒤로 \"<\", \">\" 를 붙여줍니다.<br/>\n",
        "그리고 나서 해당 단어를 3-6개 Character-level로 잘라서 임베딩을 적용합니다.\n",
        "\n",
        "> 만약 eating 이라는 단어에 Character-level 임베딩을 적용한다면 3-gram은 다음과 같이 될 것입니다."
      ]
    },
    {
      "cell_type": "markdown",
      "metadata": {
        "id": "22RUqXQmMHFg"
      },
      "source": [
        "<img src=\"https://amitness.com/images/fasttext-3-gram-sliding.gif\" width=\"300\" />"
      ]
    },
    {
      "cell_type": "markdown",
      "metadata": {
        "id": "5Pq2AKraML1B"
      },
      "source": [
        "> 이 과정을 거치면 3-gram 에 대해서는 아래와 같은 6개의 철자 단위가 나오게 됩니다."
      ]
    },
    {
      "cell_type": "markdown",
      "metadata": {
        "id": "WUl0y_TPMQYM"
      },
      "source": [
        "<img src=\"https://amitness.com/images/fasttext-3-grams-list.png\" width=\"800\" />"
      ]
    },
    {
      "cell_type": "markdown",
      "metadata": {
        "id": "nt8KN843MTbH"
      },
      "source": [
        "이와 같은 방식을 3개 부터 6개까지 진행한 뒤 임베딩 벡터를 생성하고 원래 eating 의 임베딩 벡터와 함께 사용합니다."
      ]
    },
    {
      "cell_type": "markdown",
      "metadata": {
        "id": "lMEQw9aqMU6V"
      },
      "source": [
        "| word   | Length(n) | Character n-grams            |\n",
        "|--------|-----------|------------------------------|\n",
        "| eating | 3         | <ea, eat, ati, tin, ing, ng> |\n",
        "| eating | 4         | <eat, eati, atin, ting, ing> |\n",
        "| eating | 5         | <eati, eatin, ating, ting>   |\n",
        "| eating | 6         | <eatin, eating, ating>       |"
      ]
    },
    {
      "cell_type": "markdown",
      "metadata": {
        "id": "39ntUahoMUHp"
      },
      "source": [
        "총 18개의 Character-level n-gram을 얻을 수 있습니다.<br/>\n",
        "fastText에서는 이렇게 얻어진 n-gram 들의 임베딩 벡터를 모두 구하게 됩니다.\n",
        "\n",
        "꽤 많은 경우의 수를 다루기 때문에 \"Word2Vec에 비해 엄청나게 많은 시간이 걸리는 것 아닌가?\"라고 생각해볼 수도 있지만,<br/>\n",
        "fastText의 알고리즘이 매우 효율적으로 구성되어 있기 때문에 시간상으로 엄청난 차이가 나지는 않습니다."
      ]
    },
    {
      "cell_type": "markdown",
      "metadata": {
        "id": "dytf_h7UIT9F"
      },
      "source": [
        "- **철자 단위 임베딩 적용하기**\n",
        "\n",
        "**eating** 이라는 단어가 말뭉치 내에 있다면 skip-gram으로부터 학습한 임베딩 벡터에 위에서 얻은 18개 Character-level n-gram 들의 벡터를 더해줍니다.<br/>\n",
        "반대로, **eating** 이라는 단어가 말뭉치에 없다면 18개 Character-level n-gram 들의 벡터만으로 구성합니다. \n"
      ]
    },
    {
      "cell_type": "markdown",
      "metadata": {
        "id": "T_JPPlLdIQ7e"
      },
      "source": [
        "### 3) 철자 단위 임베딩 시각화"
      ]
    },
    {
      "cell_type": "markdown",
      "metadata": {
        "id": "pgNPiiWgIL5p"
      },
      "source": [
        "- **fastText 철자 단위 임베딩 시각화**"
      ]
    },
    {
      "cell_type": "markdown",
      "metadata": {
        "id": "v4TzZchxIKKH"
      },
      "source": [
        "fastText의 철자 단위 임베딩이 어떤 관계를 맺고 있는지에 대해 이미지를 통해 알아보겠습니다.\n",
        "\n",
        "아래에 있는 그림은 X,Y축에 있는 단어 내 character n-gram 에 대하여 서로의 연관관계를 나타낸 그래프입니다.<br/>\n",
        "빨간색을 나타낼 수록 두 단어 부분 사이에 유사한 관계가 있음을 나타냅니다.\n"
      ]
    },
    {
      "cell_type": "markdown",
      "metadata": {
        "id": "Z9ggxEfzP-ZU"
      },
      "source": [
        "![fasttext1](https://i.imgur.com/nltvwmg.png)"
      ]
    },
    {
      "cell_type": "markdown",
      "metadata": {
        "id": "CgH-ZXw5P_4u"
      },
      "source": [
        "위 그래프에서는 **\"ity>\"** 와 **\"ness>\"** 가 상당히 유사한 관계를 보이는 것을 확인할 수 있습니다.<br/>\n",
        "실제로 둘은 모두 명사를 나타내기 위한 접미사입니다.<br/>\n",
        "fastText를 이러한 단어의 문법적 구조를 잘 나타낸다는 특징을 가지고 있습니다."
      ]
    },
    {
      "cell_type": "markdown",
      "metadata": {
        "id": "AXYcBK5-QDaf"
      },
      "source": [
        "![fasttext2](https://i.imgur.com/YJCm6yP.png)"
      ]
    },
    {
      "cell_type": "markdown",
      "metadata": {
        "id": "qJSoEgmJQF7_"
      },
      "source": [
        "위 그래프에서는 **\"link\"** 와 **\"nnect, onnect, connec\"** 등이 상당히 유사한 관계에 있음을 확인할 수 있습니다.<br/>\n",
        "3-6개 까지의 연속된 character를 다루고 있기 때문에 connect라는 단어 자체가 포함되지는 않았지만<br/>\n",
        "connect와 link가 가지고 있는 \"연결하다\"라는 의미를 n-gram 임베딩 벡터도 유사하게 가지고 있음을 확인할 수 있습니다.\n",
        "\n",
        "예를 들어, `\"connectivity\"` 와 `\"linkage\"`라는 단어의 유사도를 구한다고 해보겠습니다.<br/>\n",
        "**`Word2Vec`** 은 두 단어 중 하나라도 말뭉치 내에 없다면 에러를 발생시키지만,<br/>\n",
        "**`fastText`** 는 꽤 높은 정확도로 두 단어의 임베딩 벡터를 구하고 유사도를 나타낼 수 있다는 장점이 있습니다."
      ]
    },
    {
      "cell_type": "markdown",
      "metadata": {
        "id": "BLfmpwqTPrt8"
      },
      "source": [
        "이제 코드를 통해 Word2Vec과 fastText의 차이점을 알아보도록 하겠습니다."
      ]
    },
    {
      "cell_type": "markdown",
      "metadata": {
        "id": "uen_PLCliNV1"
      },
      "source": [
        "### 4) gensim 패키지로 fastText 실습하기"
      ]
    },
    {
      "cell_type": "markdown",
      "metadata": {
        "id": "LeqoyiGrIbzC"
      },
      "source": [
        "**`gensim`** 를 사용하면 **`fastText`** 도 유추해 볼 수 있습니다.<br/>\n",
        "gensim을 사용하여 fastText의 결과가 어떻게 도출되는지 알아보겠습니다."
      ]
    },
    {
      "cell_type": "code",
      "metadata": {
        "colab": {
          "base_uri": "https://localhost:8080/"
        },
        "id": "O2y-c7SgJj-H",
        "outputId": "3e6f1bd9-0595-4480-d88d-498b10c22165"
      },
      "source": [
        "from pprint import pprint as print\n",
        "from gensim.models.fasttext import FastText\n",
        "from gensim.test.utils import datapath\n",
        "\n",
        "# Set file names for train and test data\n",
        "corpus_file = datapath('lee_background.cor')\n",
        "\n",
        "model = FastText(vector_size=100)\n",
        "\n",
        "# build the vocabulary\n",
        "model.build_vocab(corpus_file=corpus_file)\n",
        "\n",
        "# train the model\n",
        "model.train(\n",
        "    corpus_file=corpus_file, epochs=model.epochs,\n",
        "    total_examples=model.corpus_count, total_words=model.corpus_total_words,\n",
        ")\n",
        "\n",
        "print(model)"
      ],
      "execution_count": null,
      "outputs": [
        {
          "output_type": "stream",
          "text": [
            "<gensim.models.fasttext.FastText object at 0x7f4c55c5ee50>\n"
          ],
          "name": "stdout"
        }
      ]
    },
    {
      "cell_type": "markdown",
      "metadata": {
        "id": "999cyUGZETSY"
      },
      "source": [
        "1. **'night' 라는 단어와 'nights'라는 단어가 각각 사전에 있는 지를 확인**해봅시다."
      ]
    },
    {
      "cell_type": "code",
      "metadata": {
        "colab": {
          "base_uri": "https://localhost:8080/"
        },
        "id": "8inLuvTfovIj",
        "outputId": "36848ed9-a7f5-450f-b672-34128ef4a0c9"
      },
      "source": [
        "ft = model.wv\n",
        "print(ft)\n",
        "\n",
        "#\n",
        "# FastText models support vector lookups for out-of-vocabulary words by summing up character ngrams belonging to the word.\n",
        "#\n",
        "print(f\"night => {'night' in ft.key_to_index}\")\n",
        "print(f\"nights => {'nights' in ft.key_to_index}\")"
      ],
      "execution_count": null,
      "outputs": [
        {
          "output_type": "stream",
          "text": [
            "<gensim.models.fasttext.FastTextKeyedVectors object at 0x7f4c55c5ed90>\n",
            "'night => True'\n",
            "'nights => False'\n"
          ],
          "name": "stdout"
        }
      ]
    },
    {
      "cell_type": "markdown",
      "metadata": {
        "id": "oW_XH_9SFmj4"
      },
      "source": [
        "'night' 는 말뭉치에 있지만 'nights'는 말뭉치에 없음을 확인할 수 있습니다."
      ]
    },
    {
      "cell_type": "markdown",
      "metadata": {
        "id": "KatpVzYKHigW"
      },
      "source": [
        "2. **'night'와 'nights'의 임베딩 벡터**를 확인해봅시다."
      ]
    },
    {
      "cell_type": "code",
      "metadata": {
        "id": "7mctc2FKuaFv",
        "colab": {
          "base_uri": "https://localhost:8080/"
        },
        "outputId": "211a64bd-94b0-4cd0-e74d-0362919ef2fd"
      },
      "source": [
        "print(ft['night'])"
      ],
      "execution_count": null,
      "outputs": [
        {
          "output_type": "stream",
          "text": [
            "array([-1.21940151e-01,  9.35477093e-02, -2.68753201e-01, -9.21401829e-02,\n",
            "        5.67255244e-02,  3.27864051e-01,  3.91383469e-01,  5.69616437e-01,\n",
            "        1.93194106e-01, -2.93112427e-01,  6.31607324e-02, -1.48656189e-01,\n",
            "       -2.79613197e-01,  5.90286553e-01, -3.61445814e-01, -5.47924638e-01,\n",
            "        1.34900540e-01, -2.14206606e-01, -4.45417851e-01, -5.28838873e-01,\n",
            "       -4.67930526e-01,  5.05698696e-02, -5.71829677e-01, -1.30317435e-01,\n",
            "       -1.92824587e-01, -2.69073665e-01, -5.83209455e-01, -1.01116806e-01,\n",
            "       -2.19189227e-01,  1.81627348e-01, -2.94398159e-01,  2.68787891e-01,\n",
            "        8.11280549e-01, -2.19889328e-01,  2.07663789e-01,  2.78767705e-01,\n",
            "        4.31476295e-01, -2.91228201e-02, -3.44264716e-01, -2.94634223e-01,\n",
            "        5.33911526e-01, -4.73139107e-01,  1.09619908e-01, -3.26181561e-01,\n",
            "       -5.31040490e-01, -3.78617615e-01,  3.16744496e-04,  1.84120595e-01,\n",
            "        2.58488834e-01, -2.17340793e-02,  3.49597663e-01, -5.01383007e-01,\n",
            "        2.72206813e-01, -4.29527640e-01, -2.38943994e-01, -2.56465763e-01,\n",
            "       -2.04503626e-01, -1.21376544e-01,  2.89444923e-02, -3.19146156e-01,\n",
            "       -3.51654828e-01, -4.28357989e-01, -3.23994905e-01,  3.59695762e-01,\n",
            "       -7.61662573e-02,  7.05648482e-01,  4.38806303e-02,  1.43223805e-02,\n",
            "        3.75390232e-01,  3.57252628e-01, -2.17079744e-01,  4.64041203e-01,\n",
            "        5.86148262e-01, -6.49744213e-01,  2.93909192e-01, -3.06044258e-02,\n",
            "        2.57350951e-01, -7.78491274e-02,  8.48653764e-02,  3.41358751e-01,\n",
            "        1.31611019e-01, -4.65880662e-01, -7.48033941e-01, -1.79655612e-01,\n",
            "       -1.04323834e-01, -7.16210783e-01,  4.64819491e-01,  2.32284784e-01,\n",
            "       -3.15516964e-02, -3.45896810e-01, -8.36842135e-02,  3.75827789e-01,\n",
            "       -1.90781638e-01,  6.69103414e-02, -2.75694251e-01,  5.48373401e-01,\n",
            "       -1.67792484e-01, -2.27489457e-01,  1.73320379e-02, -2.78268337e-01],\n",
            "      dtype=float32)\n"
          ],
          "name": "stdout"
        }
      ]
    },
    {
      "cell_type": "code",
      "metadata": {
        "colab": {
          "base_uri": "https://localhost:8080/"
        },
        "id": "BzDh5JLVxIIS",
        "outputId": "616a1cdf-a8f2-4bc1-aef0-1c0346b41f64"
      },
      "source": [
        "print(ft['nights'])"
      ],
      "execution_count": null,
      "outputs": [
        {
          "output_type": "stream",
          "text": [
            "array([-0.1060066 ,  0.08164798, -0.23207934, -0.07934359,  0.04771318,\n",
            "        0.28185087,  0.33920357,  0.49367297,  0.16726466, -0.25471696,\n",
            "        0.05623917, -0.12683469, -0.24250235,  0.50755054, -0.3133934 ,\n",
            "       -0.47360393,  0.11576562, -0.18443272, -0.38318864, -0.45724452,\n",
            "       -0.4011069 ,  0.04254517, -0.49356073, -0.11393045, -0.16512693,\n",
            "       -0.23088636, -0.5021323 , -0.08505005, -0.18894437,  0.15834409,\n",
            "       -0.25215933,  0.23156057,  0.6985802 , -0.1893784 ,  0.17935547,\n",
            "        0.24007267,  0.37383503, -0.02515006, -0.29740998, -0.25486094,\n",
            "        0.45998394, -0.40748954,  0.09404191, -0.2810496 , -0.4591848 ,\n",
            "       -0.32557708,  0.0031702 ,  0.15951274,  0.22447531, -0.01768246,\n",
            "        0.30329126, -0.4329943 ,  0.2356085 , -0.37062383, -0.20580977,\n",
            "       -0.22011346, -0.17842367, -0.10299528,  0.02632287, -0.27278537,\n",
            "       -0.3024929 , -0.3700565 , -0.2792666 ,  0.30997086, -0.06514771,\n",
            "        0.61006665,  0.03797323,  0.00971325,  0.32373375,  0.3095027 ,\n",
            "       -0.18784912,  0.39859974,  0.50703657, -0.5606495 ,  0.2551437 ,\n",
            "       -0.02540389,  0.22150257, -0.06802121,  0.07301091,  0.2946853 ,\n",
            "        0.11406258, -0.40247047, -0.64501   , -0.15606925, -0.08905818,\n",
            "       -0.6193155 ,  0.40114415,  0.20066874, -0.02517485, -0.29917863,\n",
            "       -0.07218475,  0.32315075, -0.16517399,  0.05838989, -0.23842031,\n",
            "        0.47345078, -0.14618942, -0.19270451,  0.01530515, -0.24100253],\n",
            "      dtype=float32)\n"
          ],
          "name": "stdout"
        }
      ]
    },
    {
      "cell_type": "markdown",
      "metadata": {
        "id": "ob2CU-ZqHwbV"
      },
      "source": [
        "3. **두 단어의 유사도**를 확인해봅시다."
      ]
    },
    {
      "cell_type": "code",
      "metadata": {
        "colab": {
          "base_uri": "https://localhost:8080/"
        },
        "id": "k-lunEU9xLob",
        "outputId": "2e6f8118-5528-45d0-e967-329f07c57488"
      },
      "source": [
        "print(ft.similarity(\"night\", \"nights\"))"
      ],
      "execution_count": null,
      "outputs": [
        {
          "output_type": "stream",
          "text": [
            "0.9999918\n"
          ],
          "name": "stdout"
        }
      ]
    },
    {
      "cell_type": "markdown",
      "metadata": {
        "id": "guzz8-BBIeKG"
      },
      "source": [
        "4. 사전에 없는 단어인 **`'nights'` 와 가장 비슷한 단어**는 어떤 것이 있는지 알아봅시다."
      ]
    },
    {
      "cell_type": "code",
      "metadata": {
        "colab": {
          "base_uri": "https://localhost:8080/"
        },
        "id": "xlrV9qqXxN91",
        "outputId": "91eac9fc-49c0-4224-a142-2dadebbf8482"
      },
      "source": [
        "print(ft.most_similar(\"nights\"))"
      ],
      "execution_count": null,
      "outputs": [
        {
          "output_type": "stream",
          "text": [
            "[('night', 0.9999917149543762),\n",
            " ('rights', 0.9999875426292419),\n",
            " ('flights', 0.9999871850013733),\n",
            " ('overnight', 0.9999868273735046),\n",
            " ('fighters', 0.9999852776527405),\n",
            " ('fighting', 0.9999851584434509),\n",
            " ('entered', 0.9999849796295166),\n",
            " ('fight', 0.999984860420227),\n",
            " ('fighter', 0.9999845027923584),\n",
            " ('night.', 0.9999843835830688)]\n"
          ],
          "name": "stdout"
        }
      ]
    },
    {
      "cell_type": "markdown",
      "metadata": {
        "id": "38fFjpWdQEeJ"
      },
      "source": [
        "주로 비슷하게 '생긴', 즉 비슷한 character n-gram이 포함된 단어가 많이 속해있는 것을 볼 수 있습니다."
      ]
    },
    {
      "cell_type": "markdown",
      "metadata": {
        "id": "M_gxfzaiQC8m"
      },
      "source": [
        "5. **`Word2Vec`** 에서 했던 것과 같이 가장 관련 없는 단어를 뽑아봅시다."
      ]
    },
    {
      "cell_type": "code",
      "metadata": {
        "colab": {
          "base_uri": "https://localhost:8080/"
        },
        "id": "S_1xhu0cxmSU",
        "outputId": "7becb0a6-6840-4e46-fc69-695d773a37b6"
      },
      "source": [
        "print(ft.doesnt_match(\"night noon fight morning\".split()))"
      ],
      "execution_count": null,
      "outputs": [
        {
          "output_type": "stream",
          "text": [
            "'noon'\n"
          ],
          "name": "stdout"
        }
      ]
    },
    {
      "cell_type": "markdown",
      "metadata": {
        "id": "VrnIImQHR6G9"
      },
      "source": [
        "단어의 뜻만 살펴보면 fight이 나와야 할 것 같지만, 뜬금없게도 noon이 등장했습니다."
      ]
    },
    {
      "cell_type": "markdown",
      "metadata": {
        "id": "x3Kh3I5DSpta"
      },
      "source": [
        "위 결과들에서 확인할 수 있는 것처럼,<br/>\n",
        "`fastText` 임베딩 벡터는 단어의 의미보다는 결과 쪽에 조금 더 비중을 두고 있음을 확인할 수 있습니다."
      ]
    },
    {
      "cell_type": "markdown",
      "metadata": {
        "id": "9s9kOTqFFL_P"
      },
      "source": [
        "## 4. 임베딩 벡터를 사용하여 문장 분류 수행하기"
      ]
    },
    {
      "cell_type": "markdown",
      "metadata": {
        "id": "TKT0gcn-ewPr"
      },
      "source": [
        "임베딩 벡터를 사용하여 문장 분류를 수행해 봅시다.\n",
        "\n",
        "문장 분류를 사용하는 방법 중 가장 간단한 것은 문장에 있는 **단어 벡터를 모두 더한 뒤에 평균내어 구하는 방법**입니다.<br/>\n",
        "이게 되나 싶을 정도로 간단하지만, 간단한 문제에 대해서는 꽤 좋은 성능을 보여서 baseline 모델로 많이 사용됩니다."
      ]
    },
    {
      "cell_type": "markdown",
      "metadata": {
        "id": "4cC1Q3fsCEP8"
      },
      "source": [
        "- **`keras`** 및 **`Word2Vec`**을 사용하여 단어 평균으로 문서 분류하기"
      ]
    },
    {
      "cell_type": "markdown",
      "metadata": {
        "id": "SwkD9OKpCIPM"
      },
      "source": [
        "1. 필요한 모듈을 `import` 해줍니다."
      ]
    },
    {
      "cell_type": "code",
      "metadata": {
        "id": "SBMk2IFuTHdT"
      },
      "source": [
        "import numpy as np\n",
        "import tensorflow as tf\n",
        "\n",
        "from tensorflow.keras.preprocessing.sequence import pad_sequences\n",
        "from tensorflow.keras.models import Sequential\n",
        "from tensorflow.keras.layers import Dense, Embedding, GlobalAveragePooling1D\n",
        "from tensorflow.keras.preprocessing.text import Tokenizer\n",
        "from tensorflow.keras.datasets import imdb"
      ],
      "execution_count": null,
      "outputs": []
    },
    {
      "cell_type": "markdown",
      "metadata": {
        "id": "dMI6EXJNb9JI"
      },
      "source": [
        "2. Seed를 정해줍니다."
      ]
    },
    {
      "cell_type": "code",
      "metadata": {
        "id": "UN8nhpR7Z8rL"
      },
      "source": [
        "tf.random.set_seed(42)"
      ],
      "execution_count": null,
      "outputs": []
    },
    {
      "cell_type": "markdown",
      "metadata": {
        "id": "4f1SXVV_cAl4"
      },
      "source": [
        "3. 데이터셋을 split 해줍니다."
      ]
    },
    {
      "cell_type": "code",
      "metadata": {
        "colab": {
          "base_uri": "https://localhost:8080/"
        },
        "id": "UVe0c6t3TR2e",
        "outputId": "1fe99d21-3bcf-40f9-dea8-625098d0f908"
      },
      "source": [
        "(X_train, y_train), (X_test, y_test) = imdb.load_data(num_words=20000)"
      ],
      "execution_count": null,
      "outputs": [
        {
          "output_type": "stream",
          "text": [
            "Downloading data from https://storage.googleapis.com/tensorflow/tf-keras-datasets/imdb.npz\n",
            "17465344/17464789 [==============================] - 0s 0us/step\n"
          ],
          "name": "stdout"
        },
        {
          "output_type": "stream",
          "text": [
            "<string>:6: VisibleDeprecationWarning: Creating an ndarray from ragged nested sequences (which is a list-or-tuple of lists-or-tuples-or ndarrays with different lengths or shapes) is deprecated. If you meant to do this, you must specify 'dtype=object' when creating the ndarray\n",
            "/usr/local/lib/python3.7/dist-packages/tensorflow/python/keras/datasets/imdb.py:155: VisibleDeprecationWarning: Creating an ndarray from ragged nested sequences (which is a list-or-tuple of lists-or-tuples-or ndarrays with different lengths or shapes) is deprecated. If you meant to do this, you must specify 'dtype=object' when creating the ndarray\n",
            "  x_train, y_train = np.array(xs[:idx]), np.array(labels[:idx])\n",
            "/usr/local/lib/python3.7/dist-packages/tensorflow/python/keras/datasets/imdb.py:156: VisibleDeprecationWarning: Creating an ndarray from ragged nested sequences (which is a list-or-tuple of lists-or-tuples-or ndarrays with different lengths or shapes) is deprecated. If you meant to do this, you must specify 'dtype=object' when creating the ndarray\n",
            "  x_test, y_test = np.array(xs[idx:]), np.array(labels[idx:])\n"
          ],
          "name": "stderr"
        }
      ]
    },
    {
      "cell_type": "code",
      "metadata": {
        "colab": {
          "base_uri": "https://localhost:8080/"
        },
        "id": "igzfBd5IM8Yw",
        "outputId": "eab10664-e437-4ddf-84f8-66277c3a641b"
      },
      "source": [
        "print(f\"Train set shape : {X_train.shape}\")\n",
        "print(f\"Test set shape : {X_test.shape}\")"
      ],
      "execution_count": null,
      "outputs": [
        {
          "output_type": "stream",
          "text": [
            "Train set shape : (25000,)\n",
            "Test set shape : (25000,)\n"
          ],
          "name": "stdout"
        }
      ]
    },
    {
      "cell_type": "markdown",
      "metadata": {
        "id": "1X19rJTgokBe"
      },
      "source": [
        "4. 데이터셋이 어떻게 생겼는지 눈으로 확인해봅니다."
      ]
    },
    {
      "cell_type": "code",
      "metadata": {
        "colab": {
          "base_uri": "https://localhost:8080/"
        },
        "id": "WPCn_egdcG8-",
        "outputId": "e79c26ec-4406-480e-fd7f-09048c2daf66"
      },
      "source": [
        "X_train[0]"
      ],
      "execution_count": null,
      "outputs": [
        {
          "output_type": "execute_result",
          "data": {
            "text/plain": [
              "[1,\n",
              " 14,\n",
              " 22,\n",
              " 16,\n",
              " 43,\n",
              " 530,\n",
              " 973,\n",
              " 1622,\n",
              " 1385,\n",
              " 65,\n",
              " 458,\n",
              " 4468,\n",
              " 66,\n",
              " 3941,\n",
              " 4,\n",
              " 173,\n",
              " 36,\n",
              " 256,\n",
              " 5,\n",
              " 25,\n",
              " 100,\n",
              " 43,\n",
              " 838,\n",
              " 112,\n",
              " 50,\n",
              " 670,\n",
              " 2,\n",
              " 9,\n",
              " 35,\n",
              " 480,\n",
              " 284,\n",
              " 5,\n",
              " 150,\n",
              " 4,\n",
              " 172,\n",
              " 112,\n",
              " 167,\n",
              " 2,\n",
              " 336,\n",
              " 385,\n",
              " 39,\n",
              " 4,\n",
              " 172,\n",
              " 4536,\n",
              " 1111,\n",
              " 17,\n",
              " 546,\n",
              " 38,\n",
              " 13,\n",
              " 447,\n",
              " 4,\n",
              " 192,\n",
              " 50,\n",
              " 16,\n",
              " 6,\n",
              " 147,\n",
              " 2025,\n",
              " 19,\n",
              " 14,\n",
              " 22,\n",
              " 4,\n",
              " 1920,\n",
              " 4613,\n",
              " 469,\n",
              " 4,\n",
              " 22,\n",
              " 71,\n",
              " 87,\n",
              " 12,\n",
              " 16,\n",
              " 43,\n",
              " 530,\n",
              " 38,\n",
              " 76,\n",
              " 15,\n",
              " 13,\n",
              " 1247,\n",
              " 4,\n",
              " 22,\n",
              " 17,\n",
              " 515,\n",
              " 17,\n",
              " 12,\n",
              " 16,\n",
              " 626,\n",
              " 18,\n",
              " 19193,\n",
              " 5,\n",
              " 62,\n",
              " 386,\n",
              " 12,\n",
              " 8,\n",
              " 316,\n",
              " 8,\n",
              " 106,\n",
              " 5,\n",
              " 4,\n",
              " 2223,\n",
              " 5244,\n",
              " 16,\n",
              " 480,\n",
              " 66,\n",
              " 3785,\n",
              " 33,\n",
              " 4,\n",
              " 130,\n",
              " 12,\n",
              " 16,\n",
              " 38,\n",
              " 619,\n",
              " 5,\n",
              " 25,\n",
              " 124,\n",
              " 51,\n",
              " 36,\n",
              " 135,\n",
              " 48,\n",
              " 25,\n",
              " 1415,\n",
              " 33,\n",
              " 6,\n",
              " 22,\n",
              " 12,\n",
              " 215,\n",
              " 28,\n",
              " 77,\n",
              " 52,\n",
              " 5,\n",
              " 14,\n",
              " 407,\n",
              " 16,\n",
              " 82,\n",
              " 10311,\n",
              " 8,\n",
              " 4,\n",
              " 107,\n",
              " 117,\n",
              " 5952,\n",
              " 15,\n",
              " 256,\n",
              " 4,\n",
              " 2,\n",
              " 7,\n",
              " 3766,\n",
              " 5,\n",
              " 723,\n",
              " 36,\n",
              " 71,\n",
              " 43,\n",
              " 530,\n",
              " 476,\n",
              " 26,\n",
              " 400,\n",
              " 317,\n",
              " 46,\n",
              " 7,\n",
              " 4,\n",
              " 12118,\n",
              " 1029,\n",
              " 13,\n",
              " 104,\n",
              " 88,\n",
              " 4,\n",
              " 381,\n",
              " 15,\n",
              " 297,\n",
              " 98,\n",
              " 32,\n",
              " 2071,\n",
              " 56,\n",
              " 26,\n",
              " 141,\n",
              " 6,\n",
              " 194,\n",
              " 7486,\n",
              " 18,\n",
              " 4,\n",
              " 226,\n",
              " 22,\n",
              " 21,\n",
              " 134,\n",
              " 476,\n",
              " 26,\n",
              " 480,\n",
              " 5,\n",
              " 144,\n",
              " 30,\n",
              " 5535,\n",
              " 18,\n",
              " 51,\n",
              " 36,\n",
              " 28,\n",
              " 224,\n",
              " 92,\n",
              " 25,\n",
              " 104,\n",
              " 4,\n",
              " 226,\n",
              " 65,\n",
              " 16,\n",
              " 38,\n",
              " 1334,\n",
              " 88,\n",
              " 12,\n",
              " 16,\n",
              " 283,\n",
              " 5,\n",
              " 16,\n",
              " 4472,\n",
              " 113,\n",
              " 103,\n",
              " 32,\n",
              " 15,\n",
              " 16,\n",
              " 5345,\n",
              " 19,\n",
              " 178,\n",
              " 32]"
            ]
          },
          "metadata": {
            "tags": []
          },
          "execution_count": 7
        }
      ]
    },
    {
      "cell_type": "markdown",
      "metadata": {
        "id": "92sDETlvcEN1"
      },
      "source": [
        "5. **인덱스로 된 데이터를 텍스트로 변경하는 함수를 구현합니다.**<br/>\n",
        "첫 번째 데이터를 텍스트로 변경하고 확인해봅시다."
      ]
    },
    {
      "cell_type": "code",
      "metadata": {
        "id": "IX1a-PW7Cwux"
      },
      "source": [
        "word_index = imdb.get_word_index()\n",
        "reverse_word_index = dict([(value, key) for (key, value) in word_index.items()])\n",
        "\n",
        "def decode_review(text):\n",
        "    \"\"\"\n",
        "    word_index를 받아 text를 sequence 형태로 반환하는 함수입니다.\n",
        "    \"\"\"\n",
        "    return ' '.join([reverse_word_index.get(i, '?') for i in text])"
      ],
      "execution_count": 2,
      "outputs": []
    },
    {
      "cell_type": "code",
      "metadata": {
        "colab": {
          "base_uri": "https://localhost:8080/",
          "height": 120
        },
        "id": "m0U0p9FpCsuE",
        "outputId": "c2a03ac7-6b51-422a-c6dd-d43169cd4758"
      },
      "source": [
        "decode_review(X_train[0])"
      ],
      "execution_count": null,
      "outputs": [
        {
          "output_type": "execute_result",
          "data": {
            "application/vnd.google.colaboratory.intrinsic+json": {
              "type": "string"
            },
            "text/plain": [
              "\"the as you with out themselves powerful lets loves their becomes reaching had journalist of lot from anyone to have after out atmosphere never more room and it so heart shows to years of every never going and help moments or of every chest visual movie except her was several of enough more with is now current film as you of mine potentially unfortunately of you than him that with out themselves her get for was camp of you movie sometimes movie that with scary but pratfalls to story wonderful that in seeing in character to of 70s musicians with heart had shadows they of here that with her serious to have does when from why what have critics they is you that isn't one will very to as itself with other tricky in of seen over landed for anyone of and br show's to whether from than out themselves history he name half some br of 'n odd was two most of mean for 1 any an boat she he should is thought frog but of script you not while history he heart to real at barrel but when from one bit then have two of script their with her nobody most that with wasn't to with armed acting watch an for with heartfelt film want an\""
            ]
          },
          "metadata": {
            "tags": []
          },
          "execution_count": 9
        }
      ]
    },
    {
      "cell_type": "markdown",
      "metadata": {
        "id": "gue7auO3M51r"
      },
      "source": [
        "6. **`keras` 의 `tokenizer` 에 텍스트를 학습**시킵니다."
      ]
    },
    {
      "cell_type": "code",
      "metadata": {
        "id": "yRL8PYvOUukF"
      },
      "source": [
        "sentences = [decode_review(idx) for idx in X_train]\n",
        "\n",
        "tokenizer = Tokenizer()\n",
        "tokenizer.fit_on_texts(sentences)"
      ],
      "execution_count": null,
      "outputs": []
    },
    {
      "cell_type": "code",
      "metadata": {
        "colab": {
          "base_uri": "https://localhost:8080/"
        },
        "id": "T7kx4GlyUtaO",
        "outputId": "cb3f3c03-6daf-4905-8ed2-801f4b1f8eda"
      },
      "source": [
        "vocab_size = len(tokenizer.word_index) + 1\n",
        "print(vocab_size)"
      ],
      "execution_count": null,
      "outputs": [
        {
          "output_type": "stream",
          "text": [
            "19999\n"
          ],
          "name": "stdout"
        }
      ]
    },
    {
      "cell_type": "markdown",
      "metadata": {
        "id": "A5NEgB6cNr33"
      },
      "source": [
        "7. **`pad_sequence` 를 통해 패딩 처리해줍니다.**<br/>\n",
        "`pad_squence`가 무엇이며 이를 해주는 이유에 대해서는 구글링을 통해 스스로 알아보도록 합니다.<br/>\n",
        "`maxlen` 을 평균보다 조금 더 긴 400 으로 설정합니다."
      ]
    },
    {
      "cell_type": "code",
      "metadata": {
        "colab": {
          "base_uri": "https://localhost:8080/"
        },
        "id": "CPOak5-AWyyG",
        "outputId": "2e623908-d76f-4778-b88e-fc69beee1162"
      },
      "source": [
        "X_encoded = tokenizer.texts_to_sequences(sentences)\n",
        "\n",
        "#\n",
        "max_len = max(len(sent) for sent in X_encoded)\n",
        "print(max_len)"
      ],
      "execution_count": null,
      "outputs": [
        {
          "output_type": "stream",
          "text": [
            "2494\n"
          ],
          "name": "stdout"
        }
      ]
    },
    {
      "cell_type": "code",
      "metadata": {
        "colab": {
          "base_uri": "https://localhost:8080/"
        },
        "id": "czw6gazFDbNT",
        "outputId": "2bf6c850-b7f7-4aea-ad19-06cc9b0a2a95"
      },
      "source": [
        "print(f'Mean length of train set: {np.mean([len(sent) for sent in X_train], dtype=int)}')"
      ],
      "execution_count": null,
      "outputs": [
        {
          "output_type": "stream",
          "text": [
            "Mean length of train set: 238\n"
          ],
          "name": "stdout"
        }
      ]
    },
    {
      "cell_type": "code",
      "metadata": {
        "id": "iJOQ0t6aZUzS"
      },
      "source": [
        "X_train=pad_sequences(X_encoded, maxlen=400, padding='post')\n",
        "y_train=np.array(y_train)"
      ],
      "execution_count": null,
      "outputs": []
    },
    {
      "cell_type": "markdown",
      "metadata": {
        "id": "S7DKRDSgPHVU"
      },
      "source": [
        "8. **`word2vec`의 임베딩 가중치 행렬을 만들어줍니다.**<br/>\n",
        "미리 학습된 모든 단어(300만개)에 대해 만들 경우 너무 행렬이 커지므로<br/>\n",
        "vocab에 속하는 단어에 대해서만 만들어지도록 합니다. "
      ]
    },
    {
      "cell_type": "code",
      "metadata": {
        "colab": {
          "base_uri": "https://localhost:8080/"
        },
        "id": "gPNwRShBfyHu",
        "outputId": "3dafbabd-df19-415f-c8ab-d005a2d9e946"
      },
      "source": [
        "embedding_matrix = np.zeros((vocab_size, 300))\n",
        "\n",
        "print(np.shape(embedding_matrix))"
      ],
      "execution_count": null,
      "outputs": [
        {
          "output_type": "stream",
          "text": [
            "(19999, 300)\n"
          ],
          "name": "stdout"
        }
      ]
    },
    {
      "cell_type": "code",
      "metadata": {
        "id": "wxrdxUdQLbtj"
      },
      "source": [
        "def get_vector(word):\n",
        "    \"\"\"\n",
        "    해당 word가 word2vec에 있는 단어일 경우 임베딩 벡터를 반환\n",
        "    \"\"\"\n",
        "    if word in wv:\n",
        "        return wv[word]\n",
        "    else:\n",
        "        return None\n",
        " \n",
        "for word, i in tokenizer.word_index.items():\n",
        "    temp = get_vector(word)\n",
        "    if temp is not None:\n",
        "        embedding_matrix[i] = temp"
      ],
      "execution_count": null,
      "outputs": []
    },
    {
      "cell_type": "markdown",
      "metadata": {
        "id": "Qjf_zHveP-zU"
      },
      "source": [
        "9. 신경망을 구성하기 위한 keras 모듈을 불러온 후<br/>\n",
        "학습을 수행해줍니다."
      ]
    },
    {
      "cell_type": "code",
      "metadata": {
        "id": "6iBpvYWiLdIb"
      },
      "source": [
        "from tensorflow.keras.models import Sequential\n",
        "from tensorflow.keras.layers import Dense, Embedding, Flatten"
      ],
      "execution_count": null,
      "outputs": []
    },
    {
      "cell_type": "markdown",
      "metadata": {
        "id": "HNsQBetwW74-"
      },
      "source": [
        "아래 식에서 **`GlobalAveragePooling1D`** 은 처음 보는 Layer일 것입니다.<br/>\n",
        "일단은 입력되는 행렬의 평균을 구하는 층, 즉 입력되는 단어 벡터의 평균을 구하는 층으로 알아두시면 되겠습니다."
      ]
    },
    {
      "cell_type": "code",
      "metadata": {
        "id": "vMyx6uQLLfyp"
      },
      "source": [
        "model = Sequential()\n",
        "model.add(Embedding(vocab_size, 300, weights=[embedding_matrix], input_length=max_len, trainable=False))\n",
        "model.add(GlobalAveragePooling1D()) # 입력되는 단어 벡터의 평균을 구하는 함수입니다.\n",
        "model.add(Dense(1, activation='sigmoid'))"
      ],
      "execution_count": null,
      "outputs": []
    },
    {
      "cell_type": "code",
      "metadata": {
        "colab": {
          "base_uri": "https://localhost:8080/"
        },
        "id": "9sVsQCr4LldD",
        "outputId": "ea0f1d1d-9a2e-480f-ab50-a67de285e509"
      },
      "source": [
        "model.compile(loss='binary_crossentropy', optimizer='adam', metrics=['acc'])\n",
        "model.fit(X_train, y_train, batch_size=64, epochs=20, validation_split=0.2)"
      ],
      "execution_count": null,
      "outputs": [
        {
          "output_type": "stream",
          "text": [
            "Epoch 1/20\n",
            "WARNING:tensorflow:Model was constructed with shape (None, 2494) for input KerasTensor(type_spec=TensorSpec(shape=(None, 2494), dtype=tf.float32, name='embedding_input'), name='embedding_input', description=\"created by layer 'embedding_input'\"), but it was called on an input with incompatible shape (None, 400).\n",
            "WARNING:tensorflow:Model was constructed with shape (None, 2494) for input KerasTensor(type_spec=TensorSpec(shape=(None, 2494), dtype=tf.float32, name='embedding_input'), name='embedding_input', description=\"created by layer 'embedding_input'\"), but it was called on an input with incompatible shape (None, 400).\n",
            "311/313 [============================>.] - ETA: 0s - loss: 0.6924 - acc: 0.5268WARNING:tensorflow:Model was constructed with shape (None, 2494) for input KerasTensor(type_spec=TensorSpec(shape=(None, 2494), dtype=tf.float32, name='embedding_input'), name='embedding_input', description=\"created by layer 'embedding_input'\"), but it was called on an input with incompatible shape (None, 400).\n",
            "313/313 [==============================] - 8s 24ms/step - loss: 0.6924 - acc: 0.5268 - val_loss: 0.6907 - val_acc: 0.5996\n",
            "Epoch 2/20\n",
            "313/313 [==============================] - 6s 20ms/step - loss: 0.6901 - acc: 0.5767 - val_loss: 0.6882 - val_acc: 0.5972\n",
            "Epoch 3/20\n",
            "313/313 [==============================] - 6s 20ms/step - loss: 0.6880 - acc: 0.5899 - val_loss: 0.6859 - val_acc: 0.6006\n",
            "Epoch 4/20\n",
            "313/313 [==============================] - 7s 23ms/step - loss: 0.6861 - acc: 0.5918 - val_loss: 0.6837 - val_acc: 0.5928\n",
            "Epoch 5/20\n",
            "313/313 [==============================] - 7s 23ms/step - loss: 0.6845 - acc: 0.5949 - val_loss: 0.6824 - val_acc: 0.5970\n",
            "Epoch 6/20\n",
            "313/313 [==============================] - 6s 20ms/step - loss: 0.6827 - acc: 0.5957 - val_loss: 0.6800 - val_acc: 0.5946\n",
            "Epoch 7/20\n",
            "313/313 [==============================] - 7s 22ms/step - loss: 0.6813 - acc: 0.6028 - val_loss: 0.6787 - val_acc: 0.6112\n",
            "Epoch 8/20\n",
            "313/313 [==============================] - 6s 20ms/step - loss: 0.6798 - acc: 0.6058 - val_loss: 0.6774 - val_acc: 0.6092\n",
            "Epoch 9/20\n",
            "313/313 [==============================] - 7s 22ms/step - loss: 0.6784 - acc: 0.6048 - val_loss: 0.6755 - val_acc: 0.6150\n",
            "Epoch 10/20\n",
            "313/313 [==============================] - 7s 21ms/step - loss: 0.6772 - acc: 0.6078 - val_loss: 0.6742 - val_acc: 0.6168\n",
            "Epoch 11/20\n",
            "313/313 [==============================] - 7s 21ms/step - loss: 0.6759 - acc: 0.6100 - val_loss: 0.6730 - val_acc: 0.6172\n",
            "Epoch 12/20\n",
            "313/313 [==============================] - 7s 22ms/step - loss: 0.6748 - acc: 0.6116 - val_loss: 0.6716 - val_acc: 0.6192\n",
            "Epoch 13/20\n",
            "313/313 [==============================] - 7s 22ms/step - loss: 0.6736 - acc: 0.6095 - val_loss: 0.6712 - val_acc: 0.6128\n",
            "Epoch 14/20\n",
            "313/313 [==============================] - 7s 21ms/step - loss: 0.6725 - acc: 0.6135 - val_loss: 0.6690 - val_acc: 0.6246\n",
            "Epoch 15/20\n",
            "313/313 [==============================] - 6s 19ms/step - loss: 0.6712 - acc: 0.6158 - val_loss: 0.6679 - val_acc: 0.6212\n",
            "Epoch 16/20\n",
            "313/313 [==============================] - 6s 20ms/step - loss: 0.6704 - acc: 0.6147 - val_loss: 0.6673 - val_acc: 0.6222\n",
            "Epoch 17/20\n",
            "313/313 [==============================] - 6s 19ms/step - loss: 0.6693 - acc: 0.6191 - val_loss: 0.6670 - val_acc: 0.6196\n",
            "Epoch 18/20\n",
            "313/313 [==============================] - 6s 20ms/step - loss: 0.6684 - acc: 0.6217 - val_loss: 0.6649 - val_acc: 0.6268\n",
            "Epoch 19/20\n",
            "313/313 [==============================] - 7s 21ms/step - loss: 0.6674 - acc: 0.6205 - val_loss: 0.6641 - val_acc: 0.6266\n",
            "Epoch 20/20\n",
            "313/313 [==============================] - 7s 21ms/step - loss: 0.6666 - acc: 0.6248 - val_loss: 0.6633 - val_acc: 0.6274\n"
          ],
          "name": "stdout"
        },
        {
          "output_type": "execute_result",
          "data": {
            "text/plain": [
              "<tensorflow.python.keras.callbacks.History at 0x7f3db9f0ef10>"
            ]
          },
          "metadata": {
            "tags": []
          },
          "execution_count": 19
        }
      ]
    },
    {
      "cell_type": "code",
      "metadata": {
        "id": "X1Noc-Y5Whwr"
      },
      "source": [
        "test_sentences = [decode_review(idx) for idx in X_test]\n",
        "\n",
        "X_test_encoded = tokenizer.texts_to_sequences(test_sentences)\n",
        "\n",
        "X_test=pad_sequences(X_test_encoded, maxlen=400, padding='post')\n",
        "y_test=np.array(y_test)"
      ],
      "execution_count": null,
      "outputs": []
    },
    {
      "cell_type": "code",
      "metadata": {
        "colab": {
          "base_uri": "https://localhost:8080/"
        },
        "id": "W45xm1PBXbhg",
        "outputId": "2b34b104-847c-426a-e72a-fa5ed8a0024b"
      },
      "source": [
        "model.evaluate(X_test, y_test)"
      ],
      "execution_count": null,
      "outputs": [
        {
          "output_type": "stream",
          "text": [
            "782/782 [==============================] - 7s 8ms/step - loss: 0.6680 - acc: 0.6093\n"
          ],
          "name": "stdout"
        },
        {
          "output_type": "execute_result",
          "data": {
            "text/plain": [
              "[0.6679654121398926, 0.609279990196228]"
            ]
          },
          "metadata": {
            "tags": []
          },
          "execution_count": 22
        }
      ]
    },
    {
      "cell_type": "markdown",
      "metadata": {
        "id": "RtrLArZXWUhz"
      },
      "source": [
        "## 🧐  Review"
      ]
    },
    {
      "cell_type": "markdown",
      "metadata": {
        "id": "9tDRjsNFYAMP"
      },
      "source": [
        "- 단어의 분산 표현(Distributed Representation)\n",
        "    - 원-핫 인코딩(One-hot Encoding)\n",
        "    - 임베딩(Embedding)\n",
        "\n",
        "- Word2Vec\n",
        "    - CBoW와 Skip-gram\n",
        "    - Word2Vec의 구조\n",
        "    - Word2Vec의 임베딩 벡터를 시각화한 결과\n",
        "\n",
        "- fastText\n",
        "    - OOV(Out of Vocabulary) 문제\n",
        "    - 철자(Character) 단위 임베딩"
      ]
    },
    {
      "cell_type": "markdown",
      "metadata": {
        "id": "QlDK7KV7g-1J"
      },
      "source": [
        "### 🔝 References"
      ]
    },
    {
      "cell_type": "markdown",
      "metadata": {
        "id": "Fp51InoXhCHo"
      },
      "source": [
        "- [n-gram](https://www.youtube.com/watch?v=4f9XC8HHluE) 이란 무엇일까요?\n",
        "- [Bag of Tricks for Efficient Text Classification](https://arxiv.org/abs/1607.01759)"
      ]
    }
  ]
}