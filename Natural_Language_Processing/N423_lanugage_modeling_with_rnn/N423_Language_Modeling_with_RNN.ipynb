{
  "nbformat": 4,
  "nbformat_minor": 0,
  "metadata": {
    "colab": {
      "name": "N423_Language Modeling with RNN.ipynb",
      "provenance": [],
      "collapsed_sections": [
        "aSdN5u4fJ6ol",
        "gAS2HDrvZKE-",
        "bzJSMs2CSkj4"
      ]
    },
    "kernelspec": {
      "name": "python3",
      "display_name": "Python 3"
    },
    "language_info": {
      "name": "python"
    }
  },
  "cells": [
    {
      "cell_type": "markdown",
      "metadata": {
        "id": "x_eOv4kAYb0Z"
      },
      "source": [
        "<img align=\"right\" src=\"https://ds-cs-images.s3.ap-northeast-2.amazonaws.com/Codestates_Fulllogo_Color.png\" width=100>\n",
        "\n",
        "## ***DATA SCIENCE / SECTION 4 / SPRINT 2 / NOTE 3***\n",
        "\n",
        "---\n",
        "\n",
        "# 언어 모델과 RNN(Recurrent Neural Network, 순환 신경망)"
      ]
    },
    {
      "cell_type": "markdown",
      "metadata": {
        "id": "HkyPesEMBqIZ"
      },
      "source": [
        "## 🏆 학습 목표"
      ]
    },
    {
      "cell_type": "markdown",
      "metadata": {
        "id": "aSdN5u4fJ6ol"
      },
      "source": [
        "- **언어 모델 (Language Model)**\n",
        "    - 통계 기반 언어모델을 이해하고 설명할 수 있습니다.\n",
        "    - 통계 기반 언어모델의 한계를 이해하고 이를 극복하기 위해 등장한 신경망 언어 모델의 장점을 설명할 수 있습니다. \n",
        "\n",
        "- **순환 신경망 (Recurrent Neural Network, RNN)**\n",
        "    - RNN의 구조와 작동 방식을 이해하고 설명할 수 있습니다.\n",
        "    - RNN의 장점과 단점을 설명하고 이해할 수 있습니다.\n",
        "\n",
        "- **LSTM & GRU**\n",
        "    - LSTM과 GRU가 고안된 배경과 구조를 연관지어 설명할 수 있습니다.\n",
        "    - 두 방법의 차이에 대해서 설명할 수 있습니다.\n",
        "\n",
        "- **Attention**\n",
        "    - Attention이 탄생하게 된 배경에 대해서 설명할 수 있습니다.\n",
        "    - Attention의 장점에 대해서 설명하고 Attention 으로도 해결할 수 없는 RNN의 구조적 단점에 대해서도 이해할 수 있습니다."
      ]
    },
    {
      "cell_type": "markdown",
      "metadata": {
        "id": "zGIRW4v1Cbkk"
      },
      "source": [
        "## 🛫 Warm Up"
      ]
    },
    {
      "cell_type": "markdown",
      "metadata": {
        "id": "gAS2HDrvZKE-"
      },
      "source": [
        "- [RNN 소개 영상](https://youtu.be/PahF2hZM6cs)\n",
        "- [LSTM 소개 영상](https://youtu.be/bX6GLbpw-A4)\n",
        "- [Seq2Seq 구조와 Attention 소개 영상](https://youtu.be/WsQLdu2JMgI)"
      ]
    },
    {
      "cell_type": "markdown",
      "metadata": {
        "id": "DcDD5N0WLl5W"
      },
      "source": [
        "## 1. 언어 모델 (Language Model)"
      ]
    },
    {
      "cell_type": "markdown",
      "metadata": {
        "id": "mTGgyQtTTiIN"
      },
      "source": [
        "### 1) 언어 모델(Language Model)이란?"
      ]
    },
    {
      "cell_type": "markdown",
      "metadata": {
        "id": "XZMGEO6aZuze"
      },
      "source": [
        "**<font color=\"ff6f61\">언어 모델</font>**이란 문장과 같은 **단어 시퀀스에서 각 단어의 확률을 계산하는 모델**입니다.<br/>\n",
        "이전 시간에 배운 **`Word2Vec`** 역시 여러 가지 언어 모델 중 하나입니다.<br/>\n",
        "**`CBoW`** 에서는 주변 단어의 정보를 바탕으로 타겟 단어의 확률을 할당했습니다."
      ]
    },
    {
      "cell_type": "markdown",
      "metadata": {
        "id": "jx5Bdjcdd2rA"
      },
      "source": [
        "익숙하지 않을 수 있겠지만 수식으로 먼저 생각해보겠습니다.<br/>\n",
        "$l$개의 단어로 구성된 문장은 아래와 같이 나타낼 수 있겠습니다.\n",
        "\n",
        "> $w_1, w_2, w_3, ..., w_l$\n",
        "\n",
        "`CBoW`가 타겟 단어(target word)를 예측할 확률 $P(w_t)$ 은 아래와 같이 구해집니다.\n",
        "\n",
        "> $P(w_t \\vert w_{t-2},w_{t-1},w_{t+1},w_{t+2})$"
      ]
    },
    {
      "cell_type": "markdown",
      "metadata": {
        "id": "TQ2SV8W8ghGk"
      },
      "source": [
        "`Word2Vec` 이 나오기 전까지 많은 언어 모델은 목표 단어 왼쪽의 단어만을 고려하여 확률을 계산하였습니다.<br/>\n",
        "$t$ 번째로 단어를 예측하기 위해서 0번째 부터 $t-1$ 번째 까지의 모든 단어 정보를 사용합니다.\n",
        "\n",
        "언어 모델이 목표 단어 왼쪽의 단어만을 고려할 때 문장에서 $t$ 번째에 해당하는 단어를 예측할 확률은 아래와 같이 나타낼 수 있습니다.\n",
        "\n",
        "> $P(w_t \\vert w_{t-1},w_{t-2}, \\cdots ,w_1,w_0)$\n",
        "\n",
        "$l$ 개의 단어로 이루어진 문장이 만들어질 확률은 아래 식과 같아집니다.\n",
        "\n",
        "> $P(w_0,w_1, \\cdots, w_{l-1}, w_l) = P(w_0)P(w_1 \\vert w_0) \\cdots P(w_{l-1} \\vert w_{l-2}, \\cdots, w_1, w_0)P(w_l \\vert w_{l-1}, w_{l-2}, \\cdots, w_1, w_0)$"
      ]
    },
    {
      "cell_type": "markdown",
      "metadata": {
        "id": "7tWjA2bwWIqy"
      },
      "source": [
        "수식이 익숙하지 않을 수 있으니 예시로 한 번 더 살펴보겠습니다.\n",
        "\n",
        "위 언어 모델을 사용하여 \"I am a student\" 라는 문장이 만들어질 확률을 구하면 아래와 같습니다.\n",
        "\n",
        "> $P(\\text{\"I\",\"am\",\"a\",\"student\"}) = P(\\text{\"I\"}) \\times P(\\text{\"am\"} \\vert \\text{\"I\"}) \\times P(\\text{\"a\"} \\vert \\text{\"I\",\"am\"}) \\times P(\\text{\"student\"} \\vert \\text{\"I\",\"am\",\"a\"})$\n",
        "\n",
        "앞 단어 들이 등장했을 때 특정 단어가 등장할 확률을 조건부 확률로 구하게 됩니다.<br/>\n",
        "언어 모델을 잘 나타내는 영상 하나 보고 가도록 하겠습니다. "
      ]
    },
    {
      "cell_type": "code",
      "metadata": {
        "colab": {
          "base_uri": "https://localhost:8080/",
          "height": 336
        },
        "id": "72MjG-GF_t4o",
        "outputId": "199ea72f-9397-476e-f9d4-06abf3a07546"
      },
      "source": [
        "from IPython.display import HTML\n",
        "\n",
        "HTML('<iframe width=\"560\" height=\"315\" src=\"https://www.youtube.com/embed/9GTr4rqlRyw?start=180&end=200\" frameborder=\"0\" allow=\"accelerometer; autoplay; encrypted-media; gyroscope; picture-in-picture\" allowfullscreen></iframe>')"
      ],
      "execution_count": null,
      "outputs": [
        {
          "output_type": "execute_result",
          "data": {
            "text/html": [
              "<iframe width=\"560\" height=\"315\" src=\"https://www.youtube.com/embed/9GTr4rqlRyw?start=180&end=200\" frameborder=\"0\" allow=\"accelerometer; autoplay; encrypted-media; gyroscope; picture-in-picture\" allowfullscreen></iframe>"
            ],
            "text/plain": [
              "<IPython.core.display.HTML object>"
            ]
          },
          "metadata": {
            "tags": []
          },
          "execution_count": 1
        }
      ]
    },
    {
      "cell_type": "markdown",
      "metadata": {
        "id": "hz6d-H76Pf31"
      },
      "source": [
        "### 2) 통계적 언어 모델 (Statistical Language Model, SLM)"
      ]
    },
    {
      "cell_type": "markdown",
      "metadata": {
        "id": "dmvDGKrbZy0z"
      },
      "source": [
        "통계적 언어 모델은 신경망 언어 모델이 주목받기 전부터 연구되어 온 전통적인 접근 방식입니다.\n",
        "\n",
        "<br/>\n",
        "\n",
        "- **통계적 언어 모델의 확률 계산**\n",
        "\n",
        "통계적 언어 모델에서는 단어의 등장 횟수를 바탕으로 조건부 확률을 계산합니다.\n",
        "\n",
        "다시 _\"I am a student\"_ 라는 문장을 만드는 예시를 생각해보겠습니다.\n",
        "\n",
        "> $P(\\text{\"I\",\"am\",\"a\",\"student\"}) = P(\\text{\"I\"}) \\times P(\\text{\"am\"} \\vert \\text{\"I\"}) \\times P(\\text{\"a\"} \\vert \\text{\"I\",\"am\"}) \\times P(\\text{\"student\"} \\vert \\text{\"I\",\"am\",\"a\"})$\n",
        "\n",
        "첫 번째 항인 $P(\\text{\"I\"})$ 를 구해봅시다. <br/> 전체 말뭉치의 문장 중에서 시작할 때 _\"I\"_ 로 시작하는 문장의 횟수를 구합니다. 전체 말뭉치의 문장이 1000개이고, 그 중 _\"I\"_ 로 시작하는 문장이 100개라면\n",
        "\n",
        "> $$P(\\text{\"I\"}) = \\frac{100}{1000} = \\frac{1}{10}$$\n",
        "\n",
        "다음으로, _\"I\"_ 로 시작하는 100개의 문장 중 바로 다음에 _\"am\"_ 이 등장하는 문장이 50개라면 \n",
        "\n",
        "> $$P(\\text{\"am\"} \\vert \\text{\"I\"}) = \\frac{50}{100} = \\frac{1}{2}$$\n",
        "\n",
        "이런 방식으로 모든 조건부 확률을 구한 뒤 서로를 곱해주면 문장이 등장할 확률 $P(\\text{\"I\",\"am\",\"a\",\"student\"})$ 을 구할 수 있습니다."
      ]
    },
    {
      "cell_type": "markdown",
      "metadata": {
        "id": "_wjMRaIFfZPw"
      },
      "source": [
        "- **통계적 언어 모델의 한계점**\n",
        "\n",
        "통계적 언어 모델은 횟수 기반으로 확률을 계산하기 때문에 희소성(Sparsity) 문제를 가지고 있습니다. 예를 들어, 학습시킬 말뭉치에 _\"1 times\", \"2 times\", ..._ 라는 표현은 등장하지만 _\"7 times\"_ 라는 표현은 없다고 해보겠습니다.\n",
        "\n",
        "그렇다면 이 말뭉치를 학습한 통계적 언어 모델은 아래와 같은 문장을 절대 만들어 낼 수 없게 됩니다.\n",
        "\n",
        "> \"I studied this section 7 times\"\n",
        "\n",
        "_\"7\"_ 이라는 단어가 등장한 순간 바로 다음 _\"times\"_ 가 등장할 확률은 0이 되어버리기 때문입니다.<br/>\n",
        "이렇게 실제로 사용되는 표현임에도 말뭉치에 등장하지 않았다는 이유로 많은 문장이 등장하지 못하게 되는 문제를 희소 문제라고 합니다.<br/>\n",
        "통계적 언어 모델에서 이런 문제를 개선하기 위해서 N-gram 이나 스무딩(smoothing), 백오프(back-off)와 같은 방법이 고안되었습니다.\n",
        "\n",
        "> ❗️ **더 알아보기** <br/>\n",
        "> 1. N-gram : 통계적 언어 모델을 고도화 하기 위한 방법 중 하나인 N-gram에 대해 조사해봅시다.<br/>\n",
        "> 2. Back-off, Smoothing : 희소 문제를 보완하기 위한 장치인 back-off 와 smoothing에 대해 알아봅시다.\n",
        "\n",
        "\n",
        "\n"
      ]
    },
    {
      "cell_type": "markdown",
      "metadata": {
        "id": "QzDfikzTSE-b"
      },
      "source": [
        "### 3) 신경망 언어 모델 (Neural Langauge Model)"
      ]
    },
    {
      "cell_type": "markdown",
      "metadata": {
        "id": "keNrz_89m3HV"
      },
      "source": [
        "**<font color=\"ff6f61\">신경망 언어 모델</font>**에서는 횟수 기반 대신 `Word2Vec`이나 `fastText` 등의 출력값인 임베딩 벡터를 사용합니다. <br/>\n",
        "그렇기 때문에 말뭉치에 등장하지 않더라도 의미적, 문법적으로 유사한 단어라면 선택될 수 있습니다.\n",
        "\n",
        "임베딩 벡터에서는 _\"7\"_ 이라는 단어의 벡터가 _\"1\", \"2\" ..._ 등의 단어와 유사한 곳에 위치합니다. <br/> 그렇기 때문에 말뭉치에 _\"7 times\"_ 라는 표현이 등장하지 않더라도 _\"1 times\", \"2 times\"_ 라는 표현이 등장한다면 언어 모델은\n",
        "\n",
        "> \"I studied this section 7 times\"\n",
        "\n",
        "라는 문장을 만들어 낼 수 있게 됩니다."
      ]
    },
    {
      "cell_type": "markdown",
      "metadata": {
        "id": "hV7LD6HQSI1D"
      },
      "source": [
        "## 2. 순환 신경망 (RNN, Recurrent Neural Network)"
      ]
    },
    {
      "cell_type": "markdown",
      "metadata": {
        "id": "zDhXsrhQDbOa"
      },
      "source": [
        "인공 신경망 언어 모델에서 사용되는 **<font color=\"ff6f61\">RNN(순환 신경망)</font>**에 대해 알아보겠습니다.<br/>\n",
        "RNN은 연속형 데이터를 처리하기 위해 고안된 신경망 구조인데요.<br/>\n",
        "그렇기 때문에 RNN에 대해 알아보기 전에 먼저 연속형 데이터란 무엇인지에 대해 알아보겠습니다."
      ]
    },
    {
      "cell_type": "markdown",
      "metadata": {
        "id": "bzJSMs2CSkj4"
      },
      "source": [
        "### 연속형 데이터 (Sequential Data)\n",
        "\n",
        "- Sequential Data란?\n",
        "    - 어떤 순서로 오느냐에 따라서 단위의 의미가 달라지는 데이터\n",
        "    - **Non-sequential Data(불연속형 데이터)**\n",
        "\n",
        "    <img src=\"https://www.researchgate.net/profile/Kent-Wittenburg/publication/303542822/figure/tbl1/AS:614026883117086@1523406825823/Tabular-data-used-in-examples.png\" width=\"280\"/> <img src=\"https://i.imgur.com/phjsn70.jpg\" width=\"500\"/>\n",
        "\n",
        "    - **Sequential Data(연속형 데이터)**\n",
        "\n",
        "    <img src=\"https://pbs.twimg.com/media/CxJMPgPUsAAcaRQ?format=jpg&name=small\" width=\"400\"/> <img src=\"https://discourse.metabase.com/uploads/default/optimized/2X/1/1391161139879b2a39d3f7f5f013549776769c68_2_690x411.png\" width=\"400\"/>\n",
        "\n",
        "RNN 은 연속형(Sequential) 데이터를 잘 처리하기 위해 고안된 신경망입니다.<br/>\n",
        "이제 RNN의 구조에 대해 알아보도록 하겠습니다.\n"
      ]
    },
    {
      "cell_type": "markdown",
      "metadata": {
        "id": "aT9JUEMYULmX"
      },
      "source": [
        "### RNN의 구조"
      ]
    },
    {
      "cell_type": "markdown",
      "metadata": {
        "id": "OPrEp2CZIAjT"
      },
      "source": [
        "<img src=\"https://www.easy-tensorflow.com/images/NN/01.png\"/>"
      ]
    },
    {
      "cell_type": "markdown",
      "metadata": {
        "id": "6B8XAjjtVSvB"
      },
      "source": [
        "등호 왼쪽을 보면 3개의 화살표가 있습니다.\n",
        "\n",
        "1. 입력 벡터가 은닉층에 들어가는 것을 나타내는 화살표\n",
        "2. 은닉층로부터 출력 벡터가 생성되는 것을 나타내는 화살표\n",
        "3. 은닉층에서 나와 다시 은닉층으로 입력되는 것을 나타내는 화살표.\n",
        "\n",
        "3번 화살표는 기존 신경망에서는 없었던 과정입니다.<br/>\n",
        "이 화살표는 특정 시점에서의 은닉 벡터가 다음 시점의 입력 벡터로 다시 들어가는 과정을 나타내고 있습니다.<br/>\n",
        "출력 벡터가 다시 입력되는 특성 때문에 **<font color=\"ff6f61\">'순환(Recurrent) 신경망'</font>** 이라는 이름이 붙었습니다."
      ]
    },
    {
      "cell_type": "markdown",
      "metadata": {
        "id": "QyIzz4Mt3lM9"
      },
      "source": [
        "### time-step 별로 펼쳐서 RNN 알아보기\n",
        "\n"
      ]
    },
    {
      "cell_type": "markdown",
      "metadata": {
        "id": "WVipPZJGIEiS"
      },
      "source": [
        "기본 네트워크가 왼쪽 그림처럼 표시되지만 신경망을 시점에 따라 펼쳐보면 오른쪽 그림처럼 나타낼 수 있습니다.<br/>\n",
        "$t-1$ 시점에서는 $x_{t-1}$ 와 $h_{t-2}$가 입력되고 $o_{t-1}$ 이 출력됩니다.<br/>\n",
        "$t$ 시점에서는 $x_t$ 와 $h_{t-1}$ 가 입력되고 $o_t$ 이 출력됩니다.<br/>\n",
        "$t+1$ 시점에서는 $x_{t+1}$ 와 $h_t$ 가 입력되고 $o_{t+1}$ 이 출력됩니다."
      ]
    },
    {
      "cell_type": "markdown",
      "metadata": {
        "id": "OMQ_Fz4jIMJp"
      },
      "source": [
        "t 시점의 RNN 계층은 그 계층으로의 입력 벡터 $x_t$ 와 1개 전의 RNN 계층의 출력 벡터 $h_{t-1}$ 를 받아들입니다.<br/>\n",
        "입력된 두 벡터를 바탕으로 해당 시점에서의 출력을 아래와 같이 계산합니다. \n",
        "\n",
        "> $h_t = \\tanh(h_{t-1}W_h + x_tW_x + b)$\n",
        "\n",
        "가중치는 $W_h, W_x$ 2개가 있습니다.<br/>\n",
        "각각 입력 x를 h로 변환하기 위한 $W_x$와 RNN의 은닉층의 출력을 다음 h로 변환해주는 $W_h$ 입니다.<br/>\n",
        "b는 각 편향(bias)을 단순화하여 나타낸 항입니다."
      ]
    },
    {
      "cell_type": "markdown",
      "metadata": {
        "id": "yqgqcv94Vyhk"
      },
      "source": [
        "이 과정을 그림으로 나타내면 다음과 같습니다.\n"
      ]
    },
    {
      "cell_type": "markdown",
      "metadata": {
        "id": "yU7nJUV8IO5A"
      },
      "source": [
        "<img src=\"https://i.imgur.com/nFMF0Nc.png\" width=\"900\"/>"
      ]
    },
    {
      "cell_type": "markdown",
      "metadata": {
        "id": "0WlGJj-kV0W6"
      },
      "source": [
        "이렇게 하면 t 시점에 생성되는 hidden-state 벡터인 $h_t$ 는 해당 시점까지 입력된 벡터 $x_1, x_2, \\cdots, x_{t-1}, x_t$ 의 정보를 모두 가지고 있습니다.<br/>\n",
        "Sequential 데이터의 순서 정보를 모두 기억하기 때문에 Sequential 데이터를 다룰 때 RNN을 많이 사용합니다."
      ]
    },
    {
      "cell_type": "code",
      "metadata": {
        "id": "YuFkM-j1IWiW"
      },
      "source": [
        "# 배웠던 RNN을 간단한 코드로 살펴보면 다음과 같습니다. \n",
        "import numpy as np\n",
        "\n",
        "class RNN:\n",
        "    \"\"\"\n",
        "    RNN을 구현한 클래스입니다.\n",
        "\n",
        "    Args:\n",
        "        Wx : time-step 별 입력 벡터에 곱해지는 가중치\n",
        "        Wh : 이전 time-step 에서 넘어온 Hidden state vector에 곱해지는 가중치\n",
        "        b : 편향(bias)\n",
        "    \"\"\"\n",
        "    def __init__(self, Wx, Wh, b):\n",
        "        self.params = [Wx, Wh, b]\n",
        "        self.grads = [np.zeros_like(Wx), np.zeros_like(Wh), np.zeros_like(b)]\n",
        "        self.cache = None\n",
        "\n",
        "    def forward(self, x, h_prev):\n",
        "        Wx, Wh, b = self.params\n",
        "        t = np.matmul(h_prev, Wh) + np.matmul(x, Wx) + b\n",
        "        h_next = np.tanh(t)\n",
        "\n",
        "        self.cache = (x, h_prev, h_next)\n",
        "        return h_next"
      ],
      "execution_count": null,
      "outputs": []
    },
    {
      "cell_type": "markdown",
      "metadata": {
        "id": "49vchZtrXkMI"
      },
      "source": [
        "### 다양한 형태의 RNN"
      ]
    },
    {
      "cell_type": "markdown",
      "metadata": {
        "id": "rgEKC_K8Etnv"
      },
      "source": [
        "실제로 다양한 형태의 RNN이 있습니다. 아래 그림에서 가장 왼쪽에 위치한 one-to-one은 실질적으로 순환이 적용되지는 않은 형태입니다.<br/>\n",
        "나머지 4개의 RNN이 각각 어떤 분야에 사용되는지 알아보겠습니다."
      ]
    },
    {
      "cell_type": "markdown",
      "metadata": {
        "id": "0HJA55M1WCHn"
      },
      "source": [
        "<img src=\"http://karpathy.github.io/assets/rnn/diags.jpeg\" width=\"900\"/>"
      ]
    },
    {
      "cell_type": "markdown",
      "metadata": {
        "id": "Wg522yiFIVYH"
      },
      "source": [
        "1. one-to-many : 1개의 벡터를 받아 Sequential한 벡터를 반환합니다. 이미지를 입력받아 이를 설명하는 문장을 만들어내는 **이미지 캡셔닝(Image captioning)**에 사용됩니다.\n",
        "2. many-to-one : Sequential 벡터를 받아 1개의 벡터를 반환합니다. 문장이 긍정인지 부정인지를 판단하는 **감성 분석(Sentiment analysis)**에 사용됩니다.\n",
        "3. many-to-many(1) : Sequential 벡터를 모두 입력받은 뒤 Sequential 벡터를 출력합니다. **시퀀스-투-시퀀스(Sequence-to-Sequence, Seq2Seq) 구조**라고도 부릅니다. 번역할 문장을 입력받아 번역된 문장을 내놓는 **기계 번역(Machine translation)**에 사용됩니다.\n",
        "4. many-to-many(2) : Sequential 벡터를 입력받는 즉시 Sequential 벡터를 출력합니다. **비디오를 프레임별로 분류(Video classification per frame)**하는 곳에 사용됩니다. "
      ]
    },
    {
      "cell_type": "markdown",
      "metadata": {
        "id": "aSVc5mbjXsr5"
      },
      "source": [
        "### RNN의 장점과 단점"
      ]
    },
    {
      "cell_type": "markdown",
      "metadata": {
        "id": "r76ovwodFv29"
      },
      "source": [
        "- **RNN의 장점**"
      ]
    },
    {
      "cell_type": "markdown",
      "metadata": {
        "id": "LFcaHkCQJX1o"
      },
      "source": [
        "RNN은 모델이 간단하고 (이론적으로는) 어떤 길이의 sequential 데이터라도 처리할 수 있다는 장점을 가지고 있습니다.\n",
        "\n",
        "하지만 RNN은 몇 가지 단점을 가지고 있습니다."
      ]
    },
    {
      "cell_type": "markdown",
      "metadata": {
        "id": "q99JK6sFUJdQ"
      },
      "source": [
        "- **RNN의 단점 1 : <font color=\"ff6f61\">병렬화(Parallelization) 불가능</font>**"
      ]
    },
    {
      "cell_type": "markdown",
      "metadata": {
        "id": "uN5LGndWUYxj"
      },
      "source": [
        "RNN 구조가 가지고 있는 단점 중 하나는 벡터가 **순차적으로 입력** 된다는 점입니다.<br/>\n",
        "이는 sequential 데이터 처리를 가능하게 해주는 요인이지만, 이러한 구조는 GPU 연산의 장점인 병렬화를 불가능하게 만듭니다.<br/>\n",
        "그렇기 때문에 RNN 기반의 모델은 GPU 연산을 하였을 때 이점이 거의 없다는 단점을 가지고 있습니다.\n"
      ]
    },
    {
      "cell_type": "markdown",
      "metadata": {
        "id": "pl5vjneMJDhO"
      },
      "source": [
        "- **RNN의 단점 2: <font color=\"ff6f61\">기울기 폭발(Exploding Gradient), 기울기 소실(Vanishing Gradient)</font>**"
      ]
    },
    {
      "cell_type": "markdown",
      "metadata": {
        "id": "QRpwbxXBXuLM"
      },
      "source": [
        "단순 RNN의 치명적인 문제점은 역전파 과정에서 발생합니다.<br/>\n",
        "역전파 과정에서 RNN의 활성화 함수인 $\\tanh$ 의 미분값을 전달하게 됩니다. \n",
        "$\\tanh$ 를 미분한 함수의 값은 아래와 같습니다."
      ]
    },
    {
      "cell_type": "markdown",
      "metadata": {
        "id": "w4j45C8FWKJg"
      },
      "source": [
        "<img src=\"https://user-images.githubusercontent.com/45377884/91560164-52a14400-e974-11ea-8bf4-bbfc7fd42deb.png\" width=\"700\"/>"
      ]
    },
    {
      "cell_type": "markdown",
      "metadata": {
        "id": "Nb_T0yUQWPZD"
      },
      "source": [
        "위 그래프에서 최댓값이 1이고, (-4,4) 이외의 범위에서는 거의 0에 가까운 값을 나타내는 것을 알 수 있습니다."
      ]
    },
    {
      "cell_type": "markdown",
      "metadata": {
        "id": "3FShzAI7VV-G"
      },
      "source": [
        "문제는 역전파 과정에서 이 값을 반복해서 곱해주어야 한다는 점입니다.<br/>\n",
        "이 Recurrent가 10회, 100회 반복된다고 보면, 이 값의 10제곱, 100제곱이 식 내부로 들어가게 됩니다.\n",
        "\n",
        "만약 이 값이 0.9 일 때 10제곱이 된다면 0.349가 됩니다. 이렇게 되면 시퀀스 앞쪽에 있는 hidden-state 벡터에는 역전파 정보가 거의 전달되지 않게 됩니다.<br/>\n",
        "이런 문제를 **기울기 소실(Vanishing Gradient)**이라고 합니다.\n",
        "\n",
        "반대로 이 값이 1.1 이면 10제곱만해도 2.59배로 커지게 됩니다. 이렇게 되면 시퀀스 앞쪽에 있는 hidden-state 벡터에는 역전파 정보가 과하게 전달됩니다.<br/>\n",
        "이런 문제를 **기울기 폭발(Exploding Gradient)**이라고 합니다."
      ]
    },
    {
      "cell_type": "markdown",
      "metadata": {
        "id": "YWGOzd8QVZtA"
      },
      "source": [
        "기울기 정보의 크기가 문제라면,<br/>\n",
        "\"기울기 정보의 크기를 적절하게 조정하여 줄 수 있다면 문제를 해결할 수 있지 않을까?\"라는 생각을 해볼 수 있습니다.\n",
        "\n",
        "이런 아이디어에서 시작하여 고안된 것이 바로 **<font color=\"ff6f61\">장단기 기억망(Long-Short Term Memory, LSTM)</font>**입니다."
      ]
    },
    {
      "cell_type": "markdown",
      "metadata": {
        "id": "l5VoE0ohXw2d"
      },
      "source": [
        "## 3. LSTM & GRU"
      ]
    },
    {
      "cell_type": "markdown",
      "metadata": {
        "id": "svBQyfcmYMLJ"
      },
      "source": [
        "### LSTM (Long Term Short Memory, 장단기기억망)"
      ]
    },
    {
      "cell_type": "markdown",
      "metadata": {
        "id": "u3PqJ2l6YSLx"
      },
      "source": [
        "RNN에 **기울기 정보 크기를 조절하기 위한 <font color=\"ff6f61\">Gate를 추가</font>한 모델을 LSTM**이라고 합니다.<br/>\n",
        "요즘에는 단순한 RNN은 사용하지 않고 대부분 LSTM을 사용합니다.\n",
        "\n",
        "RNN이라고 하면 당연히 LSTM이나 이후에 배울 GRU를 지칭할 정도로<br/>\n",
        "LSTM은 Sequential 데이터를 처리하기 위한 대표적인 모델이 되었습니다.<br/>\n",
        "오히려 전에 배운 RNN을 `기본적인 RNN(Vanilla RNN)`이라고 따로 구별하여 표현하기도 합니다."
      ]
    },
    {
      "cell_type": "markdown",
      "metadata": {
        "id": "aocYxj7AVtrf"
      },
      "source": [
        "- **LSTM의 구조**"
      ]
    },
    {
      "cell_type": "markdown",
      "metadata": {
        "id": "u2GN3aS0V1dT"
      },
      "source": [
        "먼저, 아래 그림을 통해 LSTM 셀 하나의 구조를 알아보겠습니다."
      ]
    },
    {
      "cell_type": "markdown",
      "metadata": {
        "id": "exqTg8AYaY9R"
      },
      "source": [
        "<img src=\"https://img1.daumcdn.net/thumb/R1280x0/?scode=mtistory2&fname=http%3A%2F%2Fcfile5.uf.tistory.com%2Fimage%2F9905CF385BD5F5EC027F20\" width=\"700\"/>"
      ]
    },
    {
      "cell_type": "markdown",
      "metadata": {
        "id": "NDY9V80laauH"
      },
      "source": [
        "RNN의 셀 구조보다 뭔가 상당히 복잡해진 것을 확인할 수 있습니다.\n",
        "\n",
        "위에서 살펴본 것처럼 LSTM이 등장한 배경은 **기울기 소실(Vanishing gradient) 문제**를 해결하기 위함이었습니다.\n",
        "\n",
        "> ❗️ ***기울기 소실 문제에 대해 더 자세히 알고 싶다면? [링크](https://wikidocs.net/61375)를 참조합시다!***"
      ]
    },
    {
      "cell_type": "markdown",
      "metadata": {
        "id": "wNZi7DwbXRI2"
      },
      "source": [
        "LSTM은 기울기 소실 문제를 해결하기 위해 3가지 게이트(gate)를 추가하였습니다. 각 게이트는 다음과 같은 역할을 합니다.\n",
        "\n",
        "1. forget gate ($f_t$): 과거 정보를 얼마나 유지할 것인가?\n",
        "2. input gate ($i_t$) : 새로 입력된 정보는 얼마만큼 활용할 것인가?\n",
        "3. output gate ($o_t$) : 두 정보를 계산하여 나온 출력 정보를 얼마만큼 넘겨줄 것인가?\n",
        "\n",
        "hidden-state 말고도 활성화 함수를 직접 거치지 않는 상태인 cell-state 가 추가되었습니다.<br/>\n",
        "cell-state는 역전파 과정에서 활성화 함수를 거치지 않아 정보 손실이 없기 때문에<br/>\n",
        "**뒷쪽 시퀀스의 정보에 비중을 결정할 수 있으면서 동시에 앞쪽 시퀀스의 정보를 완전히 잃지 않을 수 있습니다.**"
      ]
    },
    {
      "cell_type": "markdown",
      "metadata": {
        "id": "Q1vIvtc0YYjJ"
      },
      "source": [
        "- **LSTM의 역전파**"
      ]
    },
    {
      "cell_type": "markdown",
      "metadata": {
        "id": "5mWvnZAycjpa"
      },
      "source": [
        "> ❗️ ***LSTM 부터의 역전파 과정은 다소 복잡합니다.<br/>\n",
        "당장은 이 과정을 전부 다 이해하려 하지 않아도 괜찮습니다! 일단은 이해가 되지 않아도 넘어가도록 합시다.***"
      ]
    },
    {
      "cell_type": "markdown",
      "metadata": {
        "id": "hsJpuM01Y404"
      },
      "source": [
        "<img src=\"http://i.imgur.com/2BZtc2l.gif\" width=\"700\"/>"
      ]
    },
    {
      "cell_type": "markdown",
      "metadata": {
        "id": "h-Jo5pjsYxWj"
      },
      "source": [
        "- **LSTM의 사용**"
      ]
    },
    {
      "cell_type": "markdown",
      "metadata": {
        "id": "ZcSKg-1kYxOt"
      },
      "source": [
        "LSTM은 실제로 굉장히 많은 곳에 사용됩니다.\n",
        "\n",
        "여러 언어 모델에서 LSTM을 사용하고 있습니다.<br/>\n",
        "Gate가 적용되지 않은 RNN, 즉 Vanilla RNN은 10~20 단어로 이루어진 문장에 대한 분류/생성/번역 등의 성능이 매우 낮습니다.<br/>\n",
        "Vanilla RNN이 가지고 있는 기울기 소실/폭발 문제 때문입니다.\n",
        "\n",
        "언어 모델 뿐만 아니라 신경망을 활용한 시계열 알고리즘에는 대부분 LSTM을 사용하고 있습니다."
      ]
    },
    {
      "cell_type": "markdown",
      "metadata": {
        "id": "GHoCbrgyYdeE"
      },
      "source": [
        "### GRU (Gated Recurrent Unit)"
      ]
    },
    {
      "cell_type": "markdown",
      "metadata": {
        "id": "FI_lVKKRYxPv"
      },
      "source": [
        "한편, 이 LSTM의 간소한 버전인 GRU도 가볍게 소개하겠습니다.<br/>\n",
        "그림을 통해 GRU 셀의 구조를 살펴보겠습니다."
      ]
    },
    {
      "cell_type": "markdown",
      "metadata": {
        "id": "hvD-d3PhYlKm"
      },
      "source": [
        "\n",
        "<img src=\"https://img1.daumcdn.net/thumb/R1280x0/?scode=mtistory2&fname=http%3A%2F%2Fcfile7.uf.tistory.com%2Fimage%2F99F0EC3E5BD5F6460255CF\"/>"
      ]
    },
    {
      "cell_type": "markdown",
      "metadata": {
        "id": "T74E2DdeY57x"
      },
      "source": [
        "- **GRU 셀의 특징**\n",
        "\n",
        "1. LSTM에서 있었던 cell-state가 사라졌습니다.<br/>\n",
        "cell-state 벡터 $c_t$ ​와 hidden-state 벡터 $h_t$​가 하나의 벡터 $h_t$​로 통일되었습니다.\n",
        "\n",
        "2. 하나의 Gate $z_t$가 forget, input gate를 모두 제어합니다.<br/>\n",
        "$z_t$가 1이면 forget 게이트가 열리고, input 게이트가 닫히게 되는 것과 같은 효과를 나타냅니다.<br/>\n",
        "반대로 $z_t$가 0이면 input 게이트만 열리는 것과 같은 효과를 나타냅니다.\n",
        "\n",
        "3. GRU 셀에서는 output 게이트가 없어졌습니다.<br/>\n",
        "대신에 전체 상태 벡터 $h_t$ 가 각 time-step에서 출력되며, 이전 상태의 $h_{t-1}$ 의 어느 부분이 출력될 지 새롭게 제어하는 Gate인 $r_t$ 가 추가되었습니다."
      ]
    },
    {
      "cell_type": "markdown",
      "metadata": {
        "id": "w9SIBLuVYmjS"
      },
      "source": [
        "### LSTM 코드 실습"
      ]
    },
    {
      "cell_type": "markdown",
      "metadata": {
        "id": "tL4Mv82gxlrv"
      },
      "source": [
        "이제부터 TensorFlow와 Keras를 사용하여 자연어로 RNN을 훈련시켜 보겠습니다.\n",
        "\n",
        "아래는 간단한 LSTM을 사용하여 텍스트 감성 분석을 수행하는 `Tensorflow` 튜토리얼 코드입니다."
      ]
    },
    {
      "cell_type": "markdown",
      "metadata": {
        "id": "D18BNmDLxowg"
      },
      "source": [
        "- **Keras를 이용한 RNN/LSTM 텍스트 감정 분류(Sentiment classification)**"
      ]
    },
    {
      "cell_type": "markdown",
      "metadata": {
        "id": "tXE_b5B8f6Tr"
      },
      "source": [
        "IMDB 영화 리뷰 데이터에 LSTM을 적용하여 감성 분석 태스크를 수행해봅시다."
      ]
    },
    {
      "cell_type": "code",
      "metadata": {
        "id": "dtSEKGkIx17L",
        "colab": {
          "base_uri": "https://localhost:8080/"
        },
        "outputId": "e09d63c5-08d7-4a24-ad7c-75684e5961c8"
      },
      "source": [
        "from __future__ import print_function\n",
        "\n",
        "from tensorflow.keras.preprocessing import sequence\n",
        "from tensorflow.keras.models import Sequential\n",
        "from tensorflow.keras.layers import Dense, Embedding\n",
        "from tensorflow.keras.layers import LSTM\n",
        "from tensorflow.keras.datasets import imdb\n",
        "\n",
        "# 파라미터를 설정합니다.\n",
        "max_features = 20000\n",
        "maxlen = 80\n",
        "batch_size = 32\n",
        "\n",
        "# 데이터를 불러옵니다.\n",
        "print('Loading data...')\n",
        "(x_train, y_train), (x_test, y_test) = imdb.load_data(num_words=max_features)\n",
        "print(len(x_train), 'train sequences')\n",
        "print(len(x_test), 'test sequences')"
      ],
      "execution_count": null,
      "outputs": [
        {
          "output_type": "stream",
          "text": [
            "Loading data...\n",
            "Downloading data from https://storage.googleapis.com/tensorflow/tf-keras-datasets/imdb.npz\n",
            "17465344/17464789 [==============================] - 0s 0us/step\n"
          ],
          "name": "stdout"
        },
        {
          "output_type": "stream",
          "text": [
            "<string>:6: VisibleDeprecationWarning: Creating an ndarray from ragged nested sequences (which is a list-or-tuple of lists-or-tuples-or ndarrays with different lengths or shapes) is deprecated. If you meant to do this, you must specify 'dtype=object' when creating the ndarray\n",
            "/usr/local/lib/python3.7/dist-packages/tensorflow/python/keras/datasets/imdb.py:155: VisibleDeprecationWarning: Creating an ndarray from ragged nested sequences (which is a list-or-tuple of lists-or-tuples-or ndarrays with different lengths or shapes) is deprecated. If you meant to do this, you must specify 'dtype=object' when creating the ndarray\n",
            "  x_train, y_train = np.array(xs[:idx]), np.array(labels[:idx])\n"
          ],
          "name": "stderr"
        },
        {
          "output_type": "stream",
          "text": [
            "25000 train sequences\n",
            "25000 test sequences\n"
          ],
          "name": "stdout"
        },
        {
          "output_type": "stream",
          "text": [
            "/usr/local/lib/python3.7/dist-packages/tensorflow/python/keras/datasets/imdb.py:156: VisibleDeprecationWarning: Creating an ndarray from ragged nested sequences (which is a list-or-tuple of lists-or-tuples-or ndarrays with different lengths or shapes) is deprecated. If you meant to do this, you must specify 'dtype=object' when creating the ndarray\n",
            "  x_test, y_test = np.array(xs[idx:]), np.array(labels[idx:])\n"
          ],
          "name": "stderr"
        }
      ]
    },
    {
      "cell_type": "code",
      "metadata": {
        "id": "DT7elx2Tx6hm",
        "colab": {
          "base_uri": "https://localhost:8080/"
        },
        "outputId": "9127e69b-db80-4267-8dac-214aeea7c3a1"
      },
      "source": [
        "# Sequence를 Padding 하여줍니다.\n",
        "print('Pad Sequences (samples x maxlen)')\n",
        "x_train = sequence.pad_sequences(x_train, maxlen=maxlen)\n",
        "x_test = sequence.pad_sequences(x_test, maxlen=maxlen)\n",
        "print('x_train shape: ', x_train.shape)\n",
        "print('x_test shape: ', x_test.shape)"
      ],
      "execution_count": null,
      "outputs": [
        {
          "output_type": "stream",
          "text": [
            "Pad Sequences (samples x time)\n",
            "x_train shape:  (25000, 80)\n",
            "x_test shape:  (25000, 80)\n"
          ],
          "name": "stdout"
        }
      ]
    },
    {
      "cell_type": "code",
      "metadata": {
        "id": "32_rru-5x-5L",
        "colab": {
          "base_uri": "https://localhost:8080/"
        },
        "outputId": "c3b23c11-4779-4615-a05c-46ec30bdd874"
      },
      "source": [
        "x_train[0]"
      ],
      "execution_count": null,
      "outputs": [
        {
          "output_type": "execute_result",
          "data": {
            "text/plain": [
              "array([   15,   256,     4,     2,     7,  3766,     5,   723,    36,\n",
              "          71,    43,   530,   476,    26,   400,   317,    46,     7,\n",
              "           4, 12118,  1029,    13,   104,    88,     4,   381,    15,\n",
              "         297,    98,    32,  2071,    56,    26,   141,     6,   194,\n",
              "        7486,    18,     4,   226,    22,    21,   134,   476,    26,\n",
              "         480,     5,   144,    30,  5535,    18,    51,    36,    28,\n",
              "         224,    92,    25,   104,     4,   226,    65,    16,    38,\n",
              "        1334,    88,    12,    16,   283,     5,    16,  4472,   113,\n",
              "         103,    32,    15,    16,  5345,    19,   178,    32],\n",
              "      dtype=int32)"
            ]
          },
          "metadata": {
            "tags": []
          },
          "execution_count": 5
        }
      ]
    },
    {
      "cell_type": "code",
      "metadata": {
        "id": "MpqT7b_KyBJh",
        "colab": {
          "base_uri": "https://localhost:8080/"
        },
        "outputId": "d491f1a8-41ae-44bf-cb71-fe052b3081bc"
      },
      "source": [
        "import tensorflow as tf\n",
        "\n",
        "# model을 정의합니다.\n",
        "\"\"\"\n",
        "keras의 기본 Embedding 벡터를 사용하였으며\n",
        "LSTM 층에 dropout/recurrent_dropout을 적용하였습니다.\n",
        "\"\"\"\n",
        "model = tf.keras.models.Sequential([\n",
        "  tf.keras.layers.Embedding(max_features, 128),\n",
        "  tf.keras.layers.LSTM(128, dropout=0.2, recurrent_dropout=0.2),\n",
        "  tf.keras.layers.Dense(1, activation='sigmoid')\n",
        "])\n",
        "\n",
        "model.compile(loss='binary_crossentropy',\n",
        "              optimizer='adam', \n",
        "              metrics=['accuracy'])\n",
        "\n",
        "model.summary()"
      ],
      "execution_count": null,
      "outputs": [
        {
          "output_type": "stream",
          "text": [
            "Model: \"sequential\"\n",
            "_________________________________________________________________\n",
            "Layer (type)                 Output Shape              Param #   \n",
            "=================================================================\n",
            "embedding (Embedding)        (None, None, 128)         2560000   \n",
            "_________________________________________________________________\n",
            "lstm (LSTM)                  (None, 128)               131584    \n",
            "_________________________________________________________________\n",
            "dense (Dense)                (None, 1)                 129       \n",
            "=================================================================\n",
            "Total params: 2,691,713\n",
            "Trainable params: 2,691,713\n",
            "Non-trainable params: 0\n",
            "_________________________________________________________________\n"
          ],
          "name": "stdout"
        }
      ]
    },
    {
      "cell_type": "markdown",
      "metadata": {
        "id": "dFx1jzq-fkDj"
      },
      "source": [
        "> ❓ ***공식 문서를 통해 Dropout / Recurrent Dropout 의 차이를 조사해봅시다.***"
      ]
    },
    {
      "cell_type": "code",
      "metadata": {
        "id": "tq459yjQyDyj",
        "colab": {
          "base_uri": "https://localhost:8080/"
        },
        "outputId": "353ee1ad-cbde-49b9-b48e-314aa6bd9e3b"
      },
      "source": [
        "unicorns = model.fit(x_train, y_train,\n",
        "          batch_size=batch_size, \n",
        "          epochs=3, \n",
        "          validation_data=(x_test,y_test))"
      ],
      "execution_count": null,
      "outputs": [
        {
          "output_type": "stream",
          "text": [
            "Epoch 1/3\n",
            "782/782 [==============================] - 155s 195ms/step - loss: 0.4287 - accuracy: 0.7973 - val_loss: 0.3605 - val_accuracy: 0.8402\n",
            "Epoch 2/3\n",
            "782/782 [==============================] - 152s 194ms/step - loss: 0.2566 - accuracy: 0.8985 - val_loss: 0.4096 - val_accuracy: 0.8314\n",
            "Epoch 3/3\n",
            "782/782 [==============================] - 152s 195ms/step - loss: 0.1684 - accuracy: 0.9369 - val_loss: 0.4209 - val_accuracy: 0.8296\n"
          ],
          "name": "stdout"
        }
      ]
    },
    {
      "cell_type": "markdown",
      "metadata": {
        "id": "fQp3gxGOfv2Z"
      },
      "source": [
        "> ❓ 위 코드의 실행 시간이 MLP(Multi-Layer Perceptron)에 비해 어떠한가요?"
      ]
    },
    {
      "cell_type": "code",
      "metadata": {
        "id": "iDXWi9TByHBj",
        "colab": {
          "base_uri": "https://localhost:8080/",
          "height": 295
        },
        "outputId": "ab0b8888-d233-4ac9-d9b0-86bbe0efe75f"
      },
      "source": [
        "import matplotlib.pyplot as plt\n",
        "\n",
        "# Plot training & validation loss values\n",
        "plt.plot(unicorns.history['loss'])\n",
        "plt.plot(unicorns.history['val_loss'])\n",
        "plt.title('Model loss')\n",
        "plt.ylabel('Loss')\n",
        "plt.xlabel('Epoch')\n",
        "plt.legend(['Train', 'Test'], loc='upper left')\n",
        "plt.show();"
      ],
      "execution_count": null,
      "outputs": [
        {
          "output_type": "display_data",
          "data": {
            "image/png": "[encoded data removed]",
            "text/plain": [
              "<Figure size 432x288 with 1 Axes>"
            ]
          },
          "metadata": {
            "tags": [],
            "needs_background": "light"
          }
        }
      ]
    },
    {
      "cell_type": "markdown",
      "metadata": {
        "id": "DQdFbh68xyHc"
      },
      "source": [
        "- **Keras를 이용한 LSTM 텍스트 생성기**"
      ]
    },
    {
      "cell_type": "markdown",
      "metadata": {
        "id": "Mbowi56DVEnT"
      },
      "source": [
        "LSTM을 사용하면 첫 번째 시간에 소개드렸던 자연어 생성 태스크도 수행할 수 있습니다.\n",
        "\n",
        "니체(Friedrich Nietzsche)의 글을 학습하여 비슷한 글을 생성해내는 튜토리얼 코드를 실행하여 텍스트 생성 실습을 해보겠습니다.<br/>\n",
        "\n",
        "> ❗️ ***주의 : 완료되기까지 시간이 매우 오래 걸리므로 나중에 돌려보아도 좋습니다.<br/>\n",
        "학습이 진행되면서 텍스트 생성의 결과물이 어떻게 변화하는지 관찰해봅시다.***\n"
      ]
    },
    {
      "cell_type": "code",
      "metadata": {
        "id": "sFxbF2Z2Uw0f",
        "colab": {
          "base_uri": "https://localhost:8080/"
        },
        "outputId": "f5e3e194-c2fc-48c4-ca2f-69405029dfee"
      },
      "source": [
        "# 라이브러리, 데이터 불러오기\n",
        "from __future__ import print_function\n",
        "from keras.callbacks import LambdaCallback\n",
        "from keras.models import Sequential\n",
        "from keras.layers import Dense\n",
        "from keras.layers import LSTM\n",
        "from keras.optimizers import RMSprop\n",
        "from keras.utils.data_utils import get_file\n",
        "import numpy as np\n",
        "import random\n",
        "import sys\n",
        "import io\n",
        "\n",
        "path = get_file(\n",
        "    'nietzsche.txt',\n",
        "    origin='https://s3.amazonaws.com/text-datasets/nietzsche.txt')\n",
        "with io.open(path, encoding='utf-8') as f:\n",
        "    text = f.read().lower()\n",
        "print('corpus length:', len(text))\n",
        "\n",
        "chars = sorted(list(set(text)))\n",
        "print('total chars:', len(chars))\n",
        "char_indices = dict((c, i) for i, c in enumerate(chars))\n",
        "indices_char = dict((i, c) for i, c in enumerate(chars))"
      ],
      "execution_count": null,
      "outputs": [
        {
          "output_type": "stream",
          "text": [
            "Downloading data from https://s3.amazonaws.com/text-datasets/nietzsche.txt\n",
            "606208/600901 [==============================] - 0s 1us/step\n",
            "614400/600901 [==============================] - 0s 1us/step\n",
            "corpus length: 600893\n",
            "total chars: 57\n"
          ],
          "name": "stdout"
        }
      ]
    },
    {
      "cell_type": "code",
      "metadata": {
        "id": "ySeBtkvIyW-R",
        "colab": {
          "base_uri": "https://localhost:8080/"
        },
        "outputId": "a70f1741-51c8-4e4a-f6e8-0c4f27b983d5"
      },
      "source": [
        "# max length를 이용하여 문자열의 크기 정렬\n",
        "maxlen = 40\n",
        "step = 3\n",
        "\n",
        "sentences = []\n",
        "next_chars = []\n",
        "\n",
        "for i in range(0, len(text) - maxlen, step):\n",
        "    sentences.append(text[i: i + maxlen])\n",
        "    next_chars.append(text[i + maxlen])\n",
        "print('nb sequences:', len(sentences))\n",
        "\n",
        "print('Vectorization...')\n",
        "\n",
        "x = np.zeros((len(sentences), maxlen, len(chars)), dtype=np.bool)\n",
        "y = np.zeros((len(sentences), len(chars)), dtype=np.bool)\n",
        "\n",
        "for i, sentence in enumerate(sentences):\n",
        "    for t, char in enumerate(sentence):\n",
        "        x[i, t, char_indices[char]] = 1\n",
        "    y[i, char_indices[next_chars[i]]] = 1"
      ],
      "execution_count": null,
      "outputs": [
        {
          "output_type": "stream",
          "text": [
            "nb sequences: 200285\n",
            "Vectorization...\n"
          ],
          "name": "stdout"
        }
      ]
    },
    {
      "cell_type": "code",
      "metadata": {
        "id": "s7wqty4RyZoI",
        "colab": {
          "base_uri": "https://localhost:8080/"
        },
        "outputId": "c2e245fe-239b-48e1-85a7-cab944edbb47"
      },
      "source": [
        "# LSTM 모델을 제작합니다.\n",
        "print('Build model...')\n",
        "model = Sequential()\n",
        "model.add(LSTM(128, input_shape=(maxlen, len(chars))))\n",
        "model.add(Dense(len(chars), activation='softmax'))\n",
        "\n",
        "optimizer = RMSprop(learning_rate=0.01)\n",
        "model.compile(loss='categorical_crossentropy', optimizer=optimizer)"
      ],
      "execution_count": null,
      "outputs": [
        {
          "output_type": "stream",
          "text": [
            "Build model...\n"
          ],
          "name": "stdout"
        }
      ]
    },
    {
      "cell_type": "code",
      "metadata": {
        "id": "OP0huQTyya9e"
      },
      "source": [
        "# sample 문장을 생성하도록 하는 함수입니다.\n",
        "def sample(preds, temperature=1.0):\n",
        "    preds = np.asarray(preds).astype('float64')\n",
        "    preds = np.log(preds) / temperature\n",
        "    exp_preds = np.exp(preds)\n",
        "    preds = exp_preds / np.sum(exp_preds)\n",
        "    probas = np.random.multinomial(1, preds, 1)\n",
        "    return np.argmax(probas)\n",
        "\n",
        "\n",
        "# Epoch가 끝날 때마다 sample 문장을 생성하는 함수입니다.\n",
        "def on_epoch_end(epoch, _):\n",
        "    print()\n",
        "    print('----- Generating text after Epoch: %d' % epoch)\n",
        "\n",
        "    start_index = random.randint(0, len(text) - maxlen - 1)\n",
        "\n",
        "    # temperature를 조정하여 단어 선택 시 다양성을 부여합니다.\n",
        "    \"\"\"\n",
        "    https://3months.tistory.com/491, https://stackoverflow.com/questions/58764619/why-should-we-use-temperature-in-softmax\n",
        "    위 링크들을 참조하여 temperature(diversity) 값이 커질수록\n",
        "    단어 선택이 어떻게 변할 지에 대해서 알아보도록 합시다.\n",
        "    \"\"\" \n",
        "    for diversity in [0.2, 0.5, 1.0, 1.2]:\n",
        "        print('----- diversity:', diversity)\n",
        "\n",
        "        generated = ''\n",
        "        sentence = text[start_index: start_index + maxlen]\n",
        "        generated += sentence\n",
        "        print('----- Generating with seed: \"' + sentence + '\"')\n",
        "        sys.stdout.write(generated)\n",
        "\n",
        "        for i in range(400):\n",
        "            x_pred = np.zeros((1, maxlen, len(chars)))\n",
        "            for t, char in enumerate(sentence):\n",
        "                x_pred[0, t, char_indices[char]] = 1.\n",
        "\n",
        "            preds = model.predict(x_pred, verbose=0)[0]\n",
        "            next_index = sample(preds, diversity)\n",
        "            next_char = indices_char[next_index]\n",
        "\n",
        "            generated += next_char\n",
        "            sentence = sentence[1:] + next_char\n",
        "\n",
        "            sys.stdout.write(next_char)\n",
        "            sys.stdout.flush()\n",
        "        print()\n",
        "\n",
        "print_callback = LambdaCallback(on_epoch_end=on_epoch_end)"
      ],
      "execution_count": null,
      "outputs": []
    },
    {
      "cell_type": "markdown",
      "metadata": {
        "id": "2n-FU9pHikuP"
      },
      "source": [
        "(주의 : 아래 셀은 시간이 매우 오래 걸립니다. 실행 시 주의해 주세요.)"
      ]
    },
    {
      "cell_type": "code",
      "metadata": {
        "id": "fQr_UmPaycjd",
        "colab": {
          "base_uri": "https://localhost:8080/"
        },
        "outputId": "9b139af4-5833-480e-da9d-daa1677193cc"
      },
      "source": [
        "model.fit(x, y,\n",
        "          batch_size=128,\n",
        "          epochs=60,\n",
        "          callbacks=[print_callback])"
      ],
      "execution_count": null,
      "outputs": [
        {
          "output_type": "stream",
          "text": [
            "Epoch 1/60\n",
            "1565/1565 [==============================] - 125s 79ms/step - loss: 2.2720\n",
            "\n",
            "----- Generating text after Epoch: 0\n",
            "----- diversity: 0.2\n",
            "----- Generating with seed: \"th which is\n",
            "occasionally mingled a sligh\"\n",
            "th which is\n",
            "occasionally mingled a slight the such a server the such as in the prese the great and and great and sense of the prese the stand the world and the prese the stronger and the world and many one a present of the such a soul and a soul the stand and still the master of the such as in the present and the world and and the such as a sure and in the self the will the prese of the such as in the present of the prese of the such co\n",
            "----- diversity: 0.5\n",
            "----- Generating with seed: \"th which is\n",
            "occasionally mingled a sligh\"\n",
            "th which is\n",
            "occasionally mingled a slight they an the this more they are in the sure and in the pals in the world responss of in the such philosopher hell the world in their self, as a serstaral and world the will not the fame be sure sense of and still and must the a men whon the will not will with the will as it is relight of a price and mankind prepsing good and compreces and formen which it is the wished many some oncempreded the co\n",
            "----- diversity: 1.0\n",
            "----- Generating with seed: \"th which is\n",
            "occasionally mingled a sligh\"\n",
            "th which is\n",
            "occasionally mingled a slight\n",
            "soees and it lome\n",
            "legoudness alak in alsouths. whas not it is ceuld in the bich the themselves or less man\" thevesang\n",
            "even the dotentuly man--ruatical taoke be the onled oven extray, are rowal explarations theum with re\n",
            "or iglet beyivead of the lowe abong still\n",
            "purtenciunan  would to us. knought. and hordcintt accsvider, his severfory, for doren eptoss--we a is\n",
            "adpocition im wrome as the world p\n",
            "----- diversity: 1.2\n",
            "----- Generating with seed: \"th which is\n",
            "occasionally mingled a sligh\"\n",
            "th which is\n",
            "occasionally mingled a slight\" its pastible; to be whats \"they fertity, and laubled new, \"slave actochmon yo, a\n",
            "tritan they, aseom of themeds etrinesous so or\n",
            "thelocl: suesty of\n",
            "a fadlesm so sfictomen deficely depopse than\n",
            "highent on have to krough themselves to daries to sa -fulled in derghed trumthaply is nover\n",
            "endoon.= the wockame\n",
            "as them ares he boother nekent eppenents in ber)\n",
            " thas the\n",
            "calmes takquation dishom, u3errar\n",
            "Epoch 2/60\n",
            "1565/1565 [==============================] - 125s 80ms/step - loss: 1.6443\n",
            "\n",
            "----- Generating text after Epoch: 1\n",
            "----- diversity: 0.2\n",
            "----- Generating with seed: \" a scholar is capable results\n",
            "from the i\"\n",
            " a scholar is capable results\n",
            "from the indeserse of the interes and present the interes and the menser and the senses of the present to all the master of the menses and present to the present to the world, and the self-does and senses and pleasure is the sense and present to the method of the more the of the present and the self-does and the self-domain of the self-does of the menses and the self-does and the present of the present to t\n",
            "----- diversity: 0.5\n",
            "----- Generating with seed: \" a scholar is capable results\n",
            "from the i\"\n",
            " a scholar is capable results\n",
            "from the indisenter and christianity is incertain our of enders in ourselves that is more their experiences at excresentaning their this be respect. for the master of the been of its\n",
            "longer men of the incertant certains interes has sacrifice to the find how to the father and self-condicted means of not the profound that the were and estables of the perhaps learns which so itself of greatur in all man as eve\n",
            "----- diversity: 1.0\n",
            "----- Generating with seed: \" a scholar is capable results\n",
            "from the i\"\n",
            " a scholar is capable results\n",
            "from the intempsiors of exkound for indusingtly\n",
            "of the ebolitions as as would bispose. a greids of the mechs; who has to an hecress of sasme to the spiritse. his neallyers is as to ancertament to a refinementally lacking exalt! ulable his mean hims and suffer manifing\n",
            "exceptional is appore is =imaling) hy but incoplome, isly benow fisless is itself use ficulitic axfain\n",
            "imaguithes\" an adness ey est all endur\n",
            "----- diversity: 1.2\n",
            "----- Generating with seed: \" a scholar is capable results\n",
            "from the i\"\n",
            " a scholar is capable results\n",
            "from the irjecrly brein, no sympath to their woll'byments of stil upconditian of fuelouriagagerers therewish solity anot collest willandskpentively de e. \n",
            "ikeling. the image. a fived from him literal.\n",
            "the faciltruvers,\n",
            "beingrie.\n",
            "\n",
            "di, fo come the tranlauded. welonikicled other a most\n",
            "madern in this point, whickly infigul, it raid, we rate which entiin i manifide), extreants--as to scients;\n",
            "he conjur,- hapera\n",
            "Epoch 3/60\n",
            "1565/1565 [==============================] - 126s 80ms/step - loss: 1.5364\n",
            "\n",
            "----- Generating text after Epoch: 2\n",
            "----- diversity: 0.2\n",
            "----- Generating with seed: \"ost a crime, that it is precisely in res\"\n",
            "ost a crime, that it is precisely in respect to the supporting and the soul in the serve the seemed to the such and the same probably and the same and for the present the probably and the most stronger the great soul and the dearing to the present the sense of the same and the present the subject of the present the sense to the present the more and stronged the supposite of the probably the the truth in the present the present the proba\n",
            "----- diversity: 0.5\n",
            "----- Generating with seed: \"ost a crime, that it is precisely in res\"\n",
            "ost a crime, that it is precisely in respect to procratical distrust things of the order and the beare of the trausing and entical the law and who he have the generally in the partic in so\n",
            "supposing to into long with himself to his such as the sense to the dream serious for the intertances that the most instruct of fuing and for there is an anstrubled the truth with the subject, and and presurption in the appression of the fastually the\n",
            "----- diversity: 1.0\n",
            "----- Generating with seed: \"ost a crime, that it is precisely in res\"\n",
            "ost a crime, that it is precisely in respect taste and its to it\n",
            "knowntworful, and nought\n",
            "human self-attonitve of there will know the mound not onrediented the moral as what here knowledge, inmmorality, he hahe entithes his higher great treat of\n",
            "doest for a former us thle and sypain: he\n",
            "wislesting,\n",
            "for the maguim with\n",
            "the most inte\n",
            "thane--dominives it do like eccivation myself is disaption to firm nowaca of into\n",
            "an tity, suppositional t\n",
            "----- diversity: 1.2\n",
            "----- Generating with seed: \"ost a crime, that it is precisely in res\"\n",
            "ost a crime, that it is precisely in respolss form in\n",
            "bormeined, as almost of\n",
            "their quity men; which merely neithes\n",
            "we pure\"\n",
            "rilic, beuable the etilet has sant every outrream\n",
            "volveduneg. th? ruses, we has even t termogredation to may oap; every art and tonewify than they\n",
            "parrionom, the,\n",
            "tank have constrantly of the\n",
            "least for whede\n",
            "word osppares\n",
            "ckriest\n",
            "of repul lut just geneme and pheerians ains, the sfilol\n",
            "of accrines; he may its\n",
            "\"from\n",
            "Epoch 4/60\n",
            "1565/1565 [==============================] - 125s 80ms/step - loss: 1.4767\n",
            "\n",
            "----- Generating text after Epoch: 3\n",
            "----- diversity: 0.2\n",
            "----- Generating with seed: \"hers; but richer\n",
            "in himself, newer than \"\n",
            "hers; but richer\n",
            "in himself, newer than the sure of the such a strictly and entiments of the considers of the properance of the that it is the such a still that the sures and the self-delight to the same and the propressess of the such a properance of the strictterious that the such an and the considers and an and the proproting that the sours, and the soul of the strengt, and the man and a proper and without and the self-delight that t\n",
            "----- diversity: 0.5\n",
            "----- Generating with seed: \"hers; but richer\n",
            "in himself, newer than \"\n",
            "hers; but richer\n",
            "in himself, newer than the problem of a to enoug may \"not into conscience of such appreciated that the prosoloous in its services of the the fact, and become the forth of the whole the formor\n",
            "consequently of a german scientific comples to the perfot the most the botting the such a sones as the history and the apprehams the propresses with their tastes of the procismor of the person is self as the whole interssion of thi\n",
            "----- diversity: 1.0\n",
            "----- Generating with seed: \"hers; but richer\n",
            "in himself, newer than \"\n",
            "hers; but richer\n",
            "in himself, newer than their long at laftinesmors, we fimet it in knowledge. a strick whatever or the good, in, the homenteful\n",
            "pleas general the really to have\n",
            "most langly one: this reasumly, conscrites, and the child-satius of madew ous and that i is\n",
            "muchration  in the way of their fain, ochoun\n",
            "encestated in again strengtion, christianly, as the pain human nersleos, it, have be other an adsuriod not man, to\n",
            "concerning \n",
            "----- diversity: 1.2\n",
            "----- Generating with seed: \"hers; but richer\n",
            "in himself, newer than \"\n",
            "hers; but richer\n",
            "in himself, newer than m antons is not even\n",
            "atchy. the untaling littet\n",
            "tea\n",
            "through serce, withir mano\n",
            "ant moralism, so a: slo\n",
            "find gracities, mitriver us dystecebvefully trustours foo what has considers\n",
            "it is\n",
            "always\n",
            "to acbisune who must art manstry of nature,\n",
            "and goodn, the chup?. is there once mich do end i midast of otheruls.\" else frunglementfow, themounr\n",
            "fapplies, as trusk even is\n",
            "readoct frogethers,\n",
            "and\n",
            "prekorution\n",
            "Epoch 5/60\n",
            "1565/1565 [==============================] - 127s 81ms/step - loss: 1.4525\n",
            "\n",
            "----- Generating text after Epoch: 4\n",
            "----- diversity: 0.2\n",
            "----- Generating with seed: \"elf-responsibility almost offends, and a\"\n",
            "elf-responsibility almost offends, and and which it is a state in the sense and the process of the sage and the problem of the state of the self the senses the state in the contemple the senses the proper the super-aboof, and the sense and the sense and the the conception of the contemple of the sense and has the reself and the most and and the sense of the serve and the supposite and the proper the the serve and the sense of the senses\n",
            "----- diversity: 0.5\n",
            "----- Generating with seed: \"elf-responsibility almost offends, and a\"\n",
            "elf-responsibility almost offends, and an and the former of the spirit can the man and the man, and a preciately, which with she like the means of the experience and man what can be deckenation, the finest case with the possible even the relation in the conterped and intellerace, which with the satring the greatest paths of the will has have he was the man is as at any grow the something sate it is strangest and well and in the comes it\n",
            "----- diversity: 1.0\n",
            "----- Generating with seed: \"elf-responsibility almost offends, and a\"\n",
            "elf-responsibility almost offends, and advay, his, bemore the sowledge formmen at religious attain evortidys, has\n",
            "lengance, i one \"that\n",
            "necears in or animaliblourian\n",
            "me, to sutreaction and \n",
            " still mankind\n",
            "\"believe i the perceive anoigrow and voluntaritions, and\n",
            "even plathy \"but these order of sevirithess, (and a\n",
            "sporce of there are doment into delightm of sounce, and walt on agreeby them end, the\n",
            "capecances these at passional deaded peo\n",
            "----- diversity: 1.2\n",
            "----- Generating with seed: \"elf-responsibility almost offends, and a\"\n",
            "elf-responsibility almost offends, and alrearnfosishwis, scholason of veptrs,\n",
            "herer catiinal, its ascirtually do abay to thmong cultaims, he\n",
            "des and long german of divide you acciened by mless.\n",
            "\n",
            "haning mive to reke -ang france much disguils) is chrud is reasonablor\"-thar for\n",
            "spates and heaknen coller to\n",
            "sinfition willy,, mere case, in them, in think the meince for which paned willdwand\n",
            "and tohad again at envyni; mean\n",
            "the cr\"\"in and sile\n",
            "Epoch 6/60\n",
            "1565/1565 [==============================] - 128s 81ms/step - loss: 1.4234\n",
            "\n",
            "----- Generating text after Epoch: 5\n",
            "----- diversity: 0.2\n",
            "----- Generating with seed: \"re is anything purely german in the wagn\"\n",
            "re is anything purely german in the wagned in the presenting the such a strength is not also the power of the preservation of the such a state of the preservation of the process of the serve of the partically the power and consideration of the conscience of the presenting the conscience of the sentiment of the power and the streagh the power and the conscience of the decide of the the presenting the power and the history and the conscie\n",
            "----- diversity: 0.5\n",
            "----- Generating with seed: \"re is anything purely german in the wagn\"\n",
            "re is anything purely german in the wagned the word to their standard repertents, and the perfects their complatic satisfaction of the presenting the fact and self-domain and the spirit, and the oppositine: their the prated the nature of the word in the one has as a has the higher in the deligious and interpret, the worst in the danger, and in such a word of the par the morality and contempe of all the fact the fact of it is a world and\n",
            "----- diversity: 1.0\n",
            "----- Generating with seed: \"re is anything purely german in the wagn\"\n",
            "re is anything purely german in the wagnts than the case themselves--but it wisle?\"\n",
            "pacution of the the strength and \"instinct furitial are clains advantaris for his unexjet seems are nature. one is be suminisely trans thitulals--mart of actions in rreature, they are the rank hold can of conscience of\n",
            "philosoph, welfly the new lium. \"hereffyen whome; that the\n",
            "for and cultial solitability, are parring of philowed in the future of\n",
            "sult al\n",
            "----- diversity: 1.2\n",
            "----- Generating with seed: \"re is anything purely german in the wagn\"\n",
            "re is anything purely german in the wagnt ald\"\n",
            "un shamprs in hew trinted iscieors of\n",
            "count tooue the restrarished to why should ypower, what andeity; in the\n",
            "music\n",
            "laxk   conasure\"--the si; mutuiness.--but a, long him? and from fabst parvadise,\n",
            "here\n",
            "or omigs exapticistof of ma\n",
            "od of cemul, in modrom unceas,\n",
            "as the higher or in itawsut riston syn\n",
            "a on kinding toly knowhed, is as metaphys of vgening, which they tiutt;\n",
            "the\n",
            "deport of realiti\n",
            "Epoch 7/60\n",
            "1565/1565 [==============================] - 128s 82ms/step - loss: 1.4050\n",
            "\n",
            "----- Generating text after Epoch: 6\n",
            "----- diversity: 0.2\n",
            "----- Generating with seed: \" to\n",
            "isolate a few impulses in the soul o\"\n",
            " to\n",
            "isolate a few impulses in the soul of the present the such a probably the man and the sense of the most and the superstition of the such a state of the sense of the such a probably of the expersistic and the sense of the present the sense of the morality of the contradiction of the the former the decide of the probably man are socratic of the sense of the such a probably and the sense of the most and present the soul of the most sen\n",
            "----- diversity: 0.5\n",
            "----- Generating with seed: \" to\n",
            "isolate a few impulses in the soul o\"\n",
            " to\n",
            "isolate a few impulses in the soul of the same man of the socraticity of the con\"unting, and englist the prour is a conduct the dogration and desired recogning to the decignunting and artistic\n",
            "mind himself for his daring sinking than the particors of the demands in the same a man and the very eley to see to individual the contemple is preved and prevaits of the interpretation, such the world and something to be desires that the such\n",
            "----- diversity: 1.0\n",
            "----- Generating with seed: \" to\n",
            "isolate a few impulses in the soul o\"\n",
            " to\n",
            "isolate a few impulses in the soul of life vapie impulses of the onchingsest, and but,\" prebading which all preoter, and scoun.is for the inconor now, the\n",
            "among all their inversing ed, gras learned mander been seets rewaited and the most ordinary bet\n",
            "hound. nature or merely isems to despection: but always not the belagre the reself more against powerlessly exception, which retrose, and horsudeative for interpretationts,\n",
            "for eserful \n",
            "----- diversity: 1.2\n",
            "----- Generating with seed: \" to\n",
            "isolate a few impulses in the soul o\"\n",
            " to\n",
            "isolate a few impulses in the soul of a pett against and superstills intercal\" that arti\"nable pas calisably ytht lafterly anming! our came at amond the em-nbull lapp--to sha owl the fister\n",
            "for \"con, latth has also belong our yupethind originat, once pitistemus no them, shallied to the\n",
            "orhing cwited uptipinely fooling, wrack final art, ageer interron, profores of an innecers; for shows the our tetturible; souther look--the-maching e\n",
            "Epoch 8/60\n",
            "1565/1565 [==============================] - 129s 82ms/step - loss: 1.3874\n",
            "\n",
            "----- Generating text after Epoch: 7\n",
            "----- diversity: 0.2\n",
            "----- Generating with seed: \"oidably impure. all society\n",
            "makes one so\"\n",
            "oidably impure. all society\n",
            "makes one so themselves be the and the more the free the conception of the sense of the considers which it is the considered to the and the considered to the sense of the considers that the sense to be the standards to the considers the constant that the constitution of the contrary to the worst the sense of the considered to the same man and the sense of the considers that the conception of the extrust the c\n",
            "----- diversity: 0.5\n",
            "----- Generating with seed: \"oidably impure. all society\n",
            "makes one so\"\n",
            "oidably impure. all society\n",
            "makes one some bad! we be\n",
            "existence of the preservation, that the conscience of our compreted in every for the any themselves better development--it is even in the antage in the are and the species this more as a painful of his destruction of the not impelital and the the until perhaps in the self-catest of the democratic that is from the conditions of the any standards and in the sense--it is everything on t\n",
            "----- diversity: 1.0\n",
            "----- Generating with seed: \"oidably impure. all society\n",
            "makes one so\"\n",
            "oidably impure. all society\n",
            "makes one sowedatylansion ye we doubty himnors, however, something to philosophical courre. for undication of this effering exysived the moderning us certainst wese fume\n",
            "himself in us, more else are certainly world,\" and think that protends bilical proude\n",
            "thinks that he would have not only the not clearutive probueful,\n",
            "a more exacted in a passions, or oper and anre conception--that there naes the its\n",
            "freakis \n",
            "----- diversity: 1.2\n",
            "----- Generating with seed: \"oidably impure. all society\n",
            "makes one so\"\n",
            "oidably impure. all society\n",
            "makes one sonable systems to bere--tale works c\".j\n",
            "\n",
            "the\n",
            "for oftanity,. rexoursatevar it think\n",
            "of protrucy, and last hat fillo but only tolly in of that toaker young will\n",
            "his tolf.--germancy rounders, standitiome new\n",
            "psychology, laftres corces to comeation. the sexit? all-emight in\n",
            "not perhaps let oran treat, and their turning all the\n",
            "self-heard woratiracl and wrong\n",
            "amistred enem by ever cossed immoral. others\n",
            "Epoch 9/60\n",
            "1565/1565 [==============================] - 128s 81ms/step - loss: 1.3708\n",
            "\n",
            "----- Generating text after Epoch: 8\n",
            "----- diversity: 0.2\n",
            "----- Generating with seed: \"l\n",
            "sympathy, the sentiment of homogeneity\"\n",
            "l\n",
            "sympathy, the sentiment of homogeneity and consention of the conception of the conception of the sense and the senses and a strong in the senses and a sense and as a philosopher in the senses and a sense and as a sense of a strong the superfless and a soul. the senses and the senses and the senses and a sense, and the senses and and a sense, the senses and the senses and the world in the senses and the sense of the senses and a state \n",
            "----- diversity: 0.5\n",
            "----- Generating with seed: \"l\n",
            "sympathy, the sentiment of homogeneity\"\n",
            "l\n",
            "sympathy, the sentiment of homogeneity, and away in the and and reasons, that it is was who is the souls, and a scond in the constant to an and senses in strength of the philosopher is not in the owe a weare and despers of the greatest and strength of the senses are a really in a sensation of the such a servace to which he are a case of the world, in the speak of the surder and morality, and and sense, and an admitional so the self-se\n",
            "----- diversity: 1.0\n",
            "----- Generating with seed: \"l\n",
            "sympathy, the sentiment of homogeneity\"\n",
            "l\n",
            "sympathy, the sentiment of homogeneity a mastess axis\n",
            "somebresting with the future to germanitation), here nations, as two, of german still learnt where deter; as nothing for sursepical exquatical interpreces only with the\n",
            "super-self whole a means whatever is chare of fared thus\n",
            "doing of the delus, the must becalled who even as a must\n",
            "opigut generial, which in pain, the strong ado. understood when heve and\n",
            "tenthed. doing, all things i\n",
            "----- diversity: 1.2\n",
            "----- Generating with seed: \"l\n",
            "sympathy, the sentiment of homogeneity\"\n",
            "l\n",
            "sympathy, the sentiment of homogeneity, which\n",
            "ows.\n",
            "\n",
            ".  \n",
            "lo. what was after we makes an will art of thinks of\n",
            "doubt upon am)ig are actuinc\n",
            "and power enough the necearing and\n",
            "untrush becratcalen (firsiliane\n",
            "in more mystitf:\n",
            "had unfeult\n",
            "that youm subject to\n",
            "side: bor low as oraghdengly,\n",
            "amorrss orfet\n",
            "mun can\n",
            "indeecide,\" because in enough an\n",
            "altldonce who their thance so fertys hesp ais feeling better to obstent which vance as experience.\n",
            "Epoch 10/60\n",
            "1565/1565 [==============================] - 129s 82ms/step - loss: 1.3665\n",
            "\n",
            "----- Generating text after Epoch: 9\n",
            "----- diversity: 0.2\n",
            "----- Generating with seed: \"nto our self satisfaction: one of them b\"\n",
            "nto our self satisfaction: one of them believed and standards and simply and something and sensivation of the sense, the resension of the extent to the sense, and an insertions, and the resension of the extent that the resensions of the sertain the sense, and in the extent the sentiment of the sensive of the sense, which and the sensive of the sentiment of the sertain of the sense, and an inclusion of the sense, and the resention of the\n",
            "----- diversity: 0.5\n",
            "----- Generating with seed: \"nto our self satisfaction: one of them b\"\n",
            "nto our self satisfaction: one of them believed the sensive who is an enduring us perhaps and that the reself of\n",
            "germany, self-own of man and the conscience, and lacking and that we invention is some happen itself of humanity, the resentions in the sentiments and sensation, but all the most world as the one is every ears will be the interpretation, and an any conscience, they are a placeness,\" and appeare. they instinct to which not ins\n",
            "----- diversity: 1.0\n",
            "----- Generating with seed: \"nto our self satisfaction: one of them b\"\n",
            "nto our self satisfaction: one of them burusher would underrids, however--when fortiturg, of mislessivally, and in beyond: noc henconodue, and annare impenquations, constantly to man and lifed that young-clim, and yes from ungoast is just femaritation, it is undividity was\n",
            "one god it would una\"culiary\n",
            "ba thinkers and habits; when still much attoment, the indivimal which is mean else in the maus a\n",
            "state?\n",
            "wed to ude\"ss,, ebocrity\n",
            "refines \n",
            "----- diversity: 1.2\n",
            "----- Generating with seed: \"nto our self satisfaction: one of them b\"\n",
            "nto our self satisfaction: one of them by so falche a a confic inconflicies, and it descirume to\n",
            "deientious consg;    under the\n",
            "witlent simble,\n",
            "for idi6y expect may, but\n",
            "only\n",
            "ipperacht, as\n",
            "hunfut the\n",
            "thinking,\n",
            "sa, sudlepred to gruelty makebs any pomper! he\n",
            "who fame consciency bangs of truth\n",
            "and mond \"ipizationrupher, such soid dronep--triels nothinefous enavined, nowaday ultal\n",
            "certainly god.\n",
            "     towayer.. whether itself offect religion\n",
            "Epoch 11/60\n",
            "1565/1565 [==============================] - 129s 83ms/step - loss: 1.3607\n",
            "\n",
            "----- Generating text after Epoch: 10\n",
            "----- diversity: 0.2\n",
            "----- Generating with seed: \"distrust and malice\n",
            "dissolve. for the ma\"\n",
            "distrust and malice\n",
            "dissolve. for the man so the conscience of the standards of the conscience to the standards of the prosuse to the conscience of the extent the stard and an and such a strange the cause of the conscience and a standards of the conscience of the same as the conscience of the serve of the such a france and desiration and the self-development of the conscience of the conscience and conscience and profounded to the consci\n",
            "----- diversity: 0.5\n",
            "----- Generating with seed: \"distrust and malice\n",
            "dissolve. for the ma\"\n",
            "distrust and malice\n",
            "dissolve. for the man and frith one of century of the conscience and point of the fassial satisful suderarily in the same a problem of a plays and hall his seary as love of the developing and\n",
            "an interfire to be science and forces and serve of far to an and with its discoverical made and a man was been experiences of a strange in the conscience of his own existence of a such all long and but just in a something all th\n",
            "----- diversity: 1.0\n",
            "----- Generating with seed: \"distrust and malice\n",
            "dissolve. for the ma\"\n",
            "distrust and malice\n",
            "dissolve. for the man as a history of the acts of a very siens of actly with the justificination is resolthy of law\".\n",
            "\n",
            "\n",
            "\n",
            "\n",
            "\n",
            "\n",
            "t this consciences--hence only\n",
            "for a invirment, from the\n",
            "demor to the freedom has us thereophervrpo has thec\"\"\"\n",
            "of strange to bles a\n",
            "tigmus, the\n",
            "individuals.\"\n",
            "\n",
            "\n",
            "1mind us to longing exurered and soul, my rular delightrowningly it.\n",
            "\n",
            "\n",
            "slak of his believerary states, are abovecages to dogw and moral\n",
            "----- diversity: 1.2\n",
            "----- Generating with seed: \"distrust and malice\n",
            "dissolve. for the ma\"\n",
            "distrust and malice\n",
            "dissolve. for the master-dry nature wund and prightelly them\"-hen, not only\n",
            "of batery and doubt mankind aristomances are read and greater, from stand oried sagnomly mavans \"naugice.\n",
            "he is for the standards and onef\"-dreat a churscepts wile flights and virtuous) in desirated, just among its nert; in last bottait\n",
            "is, to satyince alreself liminal light viiculanbed out we giving \"naturally and for short\" must,\n",
            "not\n",
            "that i\n",
            "Epoch 12/60\n",
            "1565/1565 [==============================] - 130s 83ms/step - loss: 1.3475\n",
            "\n",
            "----- Generating text after Epoch: 11\n",
            "----- diversity: 0.2\n",
            "----- Generating with seed: \"ave observed correctly, the \"non-freedom\"\n",
            "ave observed correctly, the \"non-freedom the interpretations and person of the process of the superior that it is the world of the process of the most disposition and as the present the serious and possible the survenies the philosophers and devire the other the superior that the problem the subject of the serious the sentiment of the serious that it is a reason to the subject to the consequence of the serious the serious the sentiment \n",
            "----- diversity: 0.5\n",
            "----- Generating with seed: \"ave observed correctly, the \"non-freedom\"\n",
            "ave observed correctly, the \"non-freedom in the philosophers of such a relationally contrast of the science have all standing of the prevail order to the future interpreted the weakerling of the higher sublime, the individual the most and uthing in itself and sinfulness the displeat history and templained for the conscience of the people as the consideration. the higher the will in which we reference and person wish to the delight of wh\n",
            "----- diversity: 1.0\n",
            "----- Generating with seed: \"ave observed correctly, the \"non-freedom\"\n",
            "ave observed correctly, the \"non-freedom as existes not hasaritarities one gootherines in the senses of the unittary,\n",
            "different the freringvantily problem ofly, down; the conclys deverold ar it must readimated or hishxes it as will, garkening! uncalls\n",
            "in the basis of results, the most conclusity of the etolicable world, upon \"form and eyes as i full\n",
            "that it is\n",
            "not notion it says dand, indlaso, and pluniin--what atteveceness\n",
            "at experienc\n",
            "----- diversity: 1.2\n",
            "----- Generating with seed: \"ave observed correctly, the \"non-freedom\"\n",
            "ave observed correctly, the \"non-freedom; aming \"be, to be does otsier is\n",
            "relable emplaces any subject, worth in thould\"--but the latter,\n",
            "ostoints the among--individual anception to\n",
            "europe to be disguist. whick at it is ladd accessars interpret strongas, indeed, and rightt of say to such a ha! \n",
            "\n",
            "everits en. relieves) \"pre\"=wh, what which to not of germat \"wwittom\n",
            "you o\" greet inmory pain\n",
            "tillvalling when reality towards a refinienn our \n",
            "Epoch 13/60\n",
            "1565/1565 [==============================] - 129s 83ms/step - loss: 1.3454\n",
            "\n",
            "----- Generating text after Epoch: 12\n",
            "----- diversity: 0.2\n",
            "----- Generating with seed: \"\n",
            "themselves, will now be more and more e\"\n",
            "\n",
            "themselves, will now be more and more excessers that the sense of the strange the soul of the same a strong and all the strong the strength of the sense of the sense of the sense of the strong such a presers of the strong the conscience and such the soul of the sense of the sense of the sense of the sense of the sense of the soul. the the presers of the strange the spirituality of the soul. the strength of the serve of the soul. the co\n",
            "----- diversity: 0.5\n",
            "----- Generating with seed: \"\n",
            "themselves, will now be more and more e\"\n",
            "\n",
            "themselves, will now be more and more equally at the most conscious that we may be the opposed to the \"free the lighted\n",
            "the soul, and preserved to such a german to the streart in the\n",
            "and conception has been men and distrustfulness and pressured that a means of its similar is the\n",
            "spirituality of the conscience to the desire that has been feeling, the immediate the individual this many case of concept of the disentally in the will from t\n",
            "----- diversity: 1.0\n",
            "----- Generating with seed: \"\n",
            "themselves, will now be more and more e\"\n",
            "\n",
            "themselves, will now be more and more every as\n",
            "it is under\n",
            "juvgly\n",
            "the still that how in far sure is. there is think of new nightly no docament, be a stronguage time one sthagr thema--to\n",
            "nowaday they right of the struggled and men of step one perhaps\n",
            "mortuinitiration has\n",
            "been fourses of the newled\n",
            "in the same fing, on the deceived thing\" as its heard to humaned powerle\" stilfaricu-ruttess, and in wout\n",
            "certainle. but is it is the honours\n",
            "----- diversity: 1.2\n",
            "----- Generating with seed: \"\n",
            "themselves, will now be more and more e\"\n",
            "\n",
            "themselves, will now be more and more easic. ham so doe discip atering for indo or fainer?\n",
            "\n",
            "hanpp\n",
            "of no gormore nearest a newen nowadays this gention in\n",
            "onerarkunhcreate perpedes every of the world facted, mind im!; on\n",
            "a kind of\n",
            "the whend\"-ands\n",
            "what thealbang forms\n",
            "of all one whatever-above furnamental philosopher.\n",
            "\n",
            "3. not\n",
            "naftion\" to tmeng the blesentar that account desirefound--! it who   badle; that fall only. readife; of alleating \n",
            "Epoch 14/60\n",
            "1565/1565 [==============================] - 132s 84ms/step - loss: 1.3365\n",
            "\n",
            "----- Generating text after Epoch: 13\n",
            "----- diversity: 0.2\n",
            "----- Generating with seed: \"n conduct assumes in his eyes\n",
            "the charac\"\n",
            "n conduct assumes in his eyes\n",
            "the characters to the problem of the stard and a structer of the sense of the sense of the same probably the stronger in the such a probably the surposed the survers of the stronger to the considered and and and a man is a probably the stronger and a probably the probably to the stard and a decided and interpreted to the former to the surposed the probably the surposed the probably the sense of the probably\n",
            "----- diversity: 0.5\n",
            "----- Generating with seed: \"n conduct assumes in his eyes\n",
            "the charac\"\n",
            "n conduct assumes in his eyes\n",
            "the characters to the laws, and contempt the trange in the more from man will not merely an any morality and the problem of the loves the such a sertation of the new to his own the consideractic of the distrosther of the continually are be the self-considers to the\n",
            "will to men still and most\n",
            "very be probably places, many sense of its end by a most dangerous in order to the facting of the sacrifice, and into\n",
            "----- diversity: 1.0\n",
            "----- Generating with seed: \"n conduct assumes in his eyes\n",
            "the charac\"\n",
            "n conduct assumes in his eyes\n",
            "the character of the exceptioned and the approcreticism of which mort, may as, also attain.\"--it when not was among animality of not, pulport, and frietew\"--it following origqually living than the well subject of it; but the reason in\n",
            "all the\n",
            "nayous necessary live\n",
            "of mana abos could not infine him, to forces. it is\n",
            "be, that oppen troubiely\n",
            "impose and thing, who loeme, and to the small, his task, if a obpral\n",
            "----- diversity: 1.2\n",
            "----- Generating with seed: \"n conduct assumes in his eyes\n",
            "the charac\"\n",
            "n conduct assumes in his eyes\n",
            "the character--where: womsn,\n",
            "so with to comprecetheswith a decraisen\" betreys christian sundect! infllienl in his commolities, yet bourted out thw francaled\n",
            "not charmi\"s the\n",
            "id.ly, la. they reason itself in goewway be a\n",
            "do book \"by sympathy must people? for,\n",
            "inclisceed to as e\"wible\n",
            "this. !a cassian\n",
            "others\n",
            "the man delight. insolently, the learn\n",
            "to be to us; that an perceted onmed conceids nehlocseness to th\n",
            "Epoch 15/60\n",
            "1565/1565 [==============================] - 132s 84ms/step - loss: 1.3349\n",
            "\n",
            "----- Generating text after Epoch: 14\n",
            "----- diversity: 0.2\n",
            "----- Generating with seed: \"d opinion which he hears about himself (\"\n",
            "d opinion which he hears about himself (and the same and the strong and the prousses the problem that the spirit of the sense and the sense and the state of the presented to the stronger and the state of the greatest the strong such and the self-conditional to the most as the strong morality and the state of the problem of the contrary to the stronger in the stronger that a souls to the sense and the state of the stronger and the presen\n",
            "----- diversity: 0.5\n",
            "----- Generating with seed: \"d opinion which he hears about himself (\"\n",
            "d opinion which he hears about himself (to be of contrary to men who is perhaps of religious to the sertaits as the same happened to his relations in the persontes--the spirit of the gratitudes of the sense and rences the self-excessive and in the bad and happened the man. the servive to the fact that the completely do and the science.\n",
            "\n",
            "\n",
            "2 \n",
            "12hashing, the powerful and purpose to his condition of the destroying in fact, they are rearing \n",
            "----- diversity: 1.0\n",
            "----- Generating with seed: \"d opinion which he hears about himself (\"\n",
            "d opinion which he hears about himself (and, too firms whatever have alreadybing\n",
            "extervally day, they were not penancely \"foolood. it some right\n",
            "powersi, ethics is almost is only when the rist to perizes and has, and laddly-stand\n",
            "were certainly excessively as the pure; shadovita hers of upon\n",
            "his necessary mo). have prepefunity\" or to power, the\n",
            "sholl of two the\n",
            "sunwarl he would want, respect of fact to fundamental a deriginated that\n",
            "he \n",
            "----- diversity: 1.2\n",
            "----- Generating with seed: \"d opinion which he hears about himself (\"\n",
            "d opinion which he hears about himself (full bex handdated is clodeg learned himself among\n",
            "these may vental expeats its at lie of further treeds,\"--concerningly hows\"\n",
            "were in the beliviassely civilization by oacbing ma be aests--it\n",
            "has uttry mistad to reained\n",
            "common another, than there was cwelling; a\n",
            "habical animalitic and the bloous steplance of grrame definit deetlevepque if they crassifationaling, yooevelable\n",
            "rhqualtated: ifked ra, \n",
            "Epoch 16/60\n",
            "1565/1565 [==============================] - 132s 85ms/step - loss: 1.3311\n",
            "\n",
            "----- Generating text after Epoch: 15\n",
            "----- diversity: 0.2\n",
            "----- Generating with seed: \"mastering of which constitutes the very \"\n",
            "mastering of which constitutes the very as a strange the constitutes and the sense of the moral former to be perhaps the sense of the senses and finally and the same personal in the same and man is not be notion of the most that is the sense of the consideration of the consideration of the same and the sense of the same possible the sense of the subject of the free spirits of the world and and the same and the same the sense of the same\n",
            "----- diversity: 0.5\n",
            "----- Generating with seed: \"mastering of which constitutes the very \"\n",
            "mastering of which constitutes the very not not called that the womld in the fact that the mas of the great the great hace and honesty and age in the life and as a strongest permat the great self-contempers, in the inversth and better the sense of his callest the anstrabiness of the philosophers and concealed in rance and philosopher. the nature, and as also the superion of the world of our one the engeble freching in the sentiments of \n",
            "----- diversity: 1.0\n",
            "----- Generating with seed: \"mastering of which constitutes the very \"\n",
            "mastering of which constitutes the very inner to three child engute, such puritual, inventist of all as a experience even in tural\n",
            "politics-hi though have to why for the adpres of recognition, strength of\n",
            "philosopher indocedect, than the appear to stopudy what we loves of nature when it will\n",
            "all in the philosophy. when his emotion. who\n",
            "has virtue conlitulates, which inclination for the stepud by ; truths--as martfuring cestimatis\n",
            "the cl\n",
            "----- diversity: 1.2\n",
            "----- Generating with seed: \"mastering of which constitutes the very \"\n",
            "mastering of which constitutes the very the known im\n",
            "from the type ofceternd we concernt fazle laenyed andoly. whateds that the tave knowledge for allith fores the incollection and give notion of qualification, --help inptunome man to laugh from etrigments; fact volunced\n",
            "at only employ\n",
            "lictque b).\"\n",
            "\n",
            "\n",
            "2ow hi vanity, hence an action? in whom his pocela-oneu.--decludying, this expression, \"german\n",
            "be\n",
            "profound\n",
            "psy-uirity. abpaunificawes cloy\n",
            "Epoch 17/60\n",
            "1565/1565 [==============================] - 133s 85ms/step - loss: 1.3272\n",
            "\n",
            "----- Generating text after Epoch: 16\n",
            "----- diversity: 0.2\n",
            "----- Generating with seed: \"alizes, when\n",
            "in the struggle with danger\"\n",
            "alizes, when\n",
            "in the struggle with dangerous and the strength and sense of the strength and also the sense and as a sense and interpretation of the servation of an all the sense--and and a subjection of the strength, and and as a philosoph"
          ],
          "name": "stdout"
        },
        {
          "output_type": "stream",
          "text": [
            "/usr/local/lib/python3.7/dist-packages/ipykernel_launcher.py:4: RuntimeWarning: divide by zero encountered in log\n",
            "  after removing the cwd from sys.path.\n"
          ],
          "name": "stderr"
        },
        {
          "output_type": "stream",
          "text": [
            "ical sense of the servations of the servations of the servation, and the serve and properation of the serve of the serve and as the same possible the sense--and and the world and as a servaries of the s\n",
            "----- diversity: 0.5\n",
            "----- Generating with seed: \"alizes, when\n",
            "in the struggle with danger\"\n",
            "alizes, when\n",
            "in the struggle with dangerous conscience of the senses seems and interest and distance of the conscience of the greatest that we dream and the conceptions and like the subjection in a most and interrogation, and personality, in the individual and bold, there are there of the strength, and a critical a remain and more every interpreted world, and is subjection in the servationally and commanding and agreeable, and a senses \n",
            "----- diversity: 1.0\n",
            "----- Generating with seed: \"alizes, when\n",
            "in the struggle with danger\"\n",
            "alizes, when\n",
            "in the struggle with dangerous thrand in e, majechs; it get germery that how in the-laggcal sentiment le ideal account in order to it\n",
            "beautiful, the\n",
            "connectes.\n",
            "\n",
            "1fued to a primotionally, as\n",
            "groundure\n",
            "that styrds are\n",
            "thing, oprop, irvery interest\n",
            "in the capepes,\n",
            "but is propergesy,\n",
            "a.\n",
            "\n",
            "\n",
            "twhould.\n",
            "\n",
            "\n",
            "1e\n",
            "able many oldines to what are ye\n",
            "mosth\n",
            "has sely of psychological passe, their ready phietts with witrors! our means, but natura\n",
            "----- diversity: 1.2\n",
            "----- Generating with seed: \"alizes, when\n",
            "in the struggle with danger\"\n",
            "alizes, when\n",
            "in the struggle with dangerountism or may formantmeon,.\n",
            "the man and began\n",
            "by deep. fentuon, ald usical or perspers of a world. even resded?\n",
            "insupe certainly ethory of everyw\". the physic.=--asmautralment capacity and oppose\n",
            "eversthink, by respec torely\n",
            "nogreions, theretended eeron ronts, inither, and un\"figome. theverfones sound at speace a\n",
            "senserfopdoun iges day_ success of clongly\n",
            "o\" setrech conscience is difficultly \"pro\n",
            "Epoch 18/60\n",
            "1565/1565 [==============================] - 129s 82ms/step - loss: 1.3172\n",
            "\n",
            "----- Generating text after Epoch: 17\n",
            "----- diversity: 0.2\n",
            "----- Generating with seed: \"mellow\n",
            "civilized nations. he may even ha\"\n",
            "mellow\n",
            "civilized nations. he may even have also the most destroy and interpretation of the sense of the sense of the sense, and in the sense. the consequently and the sense of the senses and the sense of the sense\n",
            "and as the possible to a considerable and an in the sense of the sense of the man is a consequently and the senses the sense of the sense of the conscience of the sense of the sense of the sense of the man is a sense of the se\n",
            "----- diversity: 0.5\n",
            "----- Generating with seed: \"mellow\n",
            "civilized nations. he may even ha\"\n",
            "mellow\n",
            "civilized nations. he may even have only the man responsibility of the other hand, and the heart and the ang have an all the circumstady the man of the world and not we only seriously such\n",
            "consequently standing to his truth of the sense of a thing in the self-and modern schoulation of an as the senses as the consideration of a considerations, as the deliboal when the truth and the despire mislead the greatest and the man of antit\n",
            "----- diversity: 1.0\n",
            "----- Generating with seed: \"mellow\n",
            "civilized nations. he may even ha\"\n",
            "mellow\n",
            "civilized nations. he may even have to opinive viice bring them is that.\n",
            "\n",
            "1. understands\n",
            "here in new\n",
            "man,\n",
            "then the sustigate. in evident the take, greed i seasable inexpe to presses.--the face the fear disperiless for among the decosed, stupid\n",
            "man.\n",
            "that with feardent again, in time this most sign prosub: seen itself in us and make middle the madecly notring of\n",
            "corresporable the vice, and development, and\n",
            "ever the inderstathous\n",
            "i \n",
            "----- diversity: 1.2\n",
            "----- Generating with seed: \"mellow\n",
            "civilized nations. he may even ha\"\n",
            "mellow\n",
            "civilized nations. he may even harment), belaves certain cresure\n",
            "bea longing of repersly thing, proyhiaing, with its time, the appearances of sole\n",
            "chrie wow only attendequed ande\n",
            "ancervonian testond--but sec isfolething\n",
            "upon\n",
            "almost, beye?--have fortice; to shound a\n",
            "godserment. thus\n",
            "groes as so\n",
            "meantion these greatest standy, the newesifile powes of the refined to false thing pursiates and\n",
            "back? in schead opmol,, inclequens\" of bu\n",
            "Epoch 19/60\n",
            "1565/1565 [==============================] - 130s 83ms/step - loss: 1.3197\n",
            "\n",
            "----- Generating text after Epoch: 18\n",
            "----- diversity: 0.2\n",
            "----- Generating with seed: \"partly have to create and partly utilize\"\n",
            "partly have to create and partly utilized to the secret the most reason to the conscious of the belief in the sense of the secret the served to the present the other the sense of the extent to the secret the conscious of the conscious of the secret the served to the sense of the sense of the constraint of the sense of the conscious of the sense of the sense of the sense and the present the same as the truth in the such as a streaking of\n",
            "----- diversity: 0.5\n",
            "----- Generating with seed: \"partly have to create and partly utilize\"\n",
            "partly have to create and partly utilized to the prediction of the cruelty it seems to the greater, the reason of the extent of the soul and the present the truth as the intervare in the same secretful the object of the by inalmost are the southerness, the higher train such philosophers, which is no longer precisely and problem of his such an ares which is the fact that is the or to the light of the other \"higher instinct as the feeling\n",
            "----- diversity: 1.0\n",
            "----- Generating with seed: \"partly have to create and partly utilize\"\n",
            "partly have to create and partly utilized reason to him bowneroully moriliture, all still\n",
            "dereds fearuty,\n",
            "love with enemisuling thing syleffucy, which is see so just knowanding capabily and thing who really retable to usismoss and asists always only\n",
            "that\n",
            "protestanisme attaine that feeling that\n",
            "would hitherto\n",
            "blowec-look known hourred to us: but\n",
            "a\n",
            "fassed on his sannalver\n",
            "in their\n",
            "exercesion procratical most had\n",
            "among ha sincerive, at se,\n",
            "----- diversity: 1.2\n",
            "----- Generating with seed: \"partly have to create and partly utilize\"\n",
            "partly have to create and partly utilized at least reality ed agate constraint charulted more\n",
            "fun on\n",
            "the logical\n",
            "their again, rowaritudate, it is not like tool. the eternally my world,\n",
            "must have enrearion of\n",
            "fignness!\n",
            "any typed we\n",
            "wereit unbeaswsilve\n",
            "this factly prediction hesp emalusest. they ised oighing remain sluiniric-pzinethous different ind party, it of the eng, as cemeateve, becave tust or , defininan justifnely have also indere\n",
            "Epoch 20/60\n",
            "1565/1565 [==============================] - 130s 83ms/step - loss: 1.3122\n",
            "\n",
            "----- Generating text after Epoch: 19\n",
            "----- diversity: 0.2\n",
            "----- Generating with seed: \"falseness of an opinion is not for us an\"\n",
            "falseness of an opinion is not for us an any possibly and the probably and person some and an any one says to himself. the world and superstition and a man is the probably and the probably and an any same and the powerful and history and power, any philosophers and about the same will to the constitutes of the superstition and an any power and the process of the the same to the process of the philosophers and an any power and the sense.\n",
            "----- diversity: 0.5\n",
            "----- Generating with seed: \"falseness of an opinion is not for us an\"\n",
            "falseness of an opinion is not for us and strive in soleng to be not example and an animate and and man. the full in the soul\" and far say in the printical and former with the desire the contrast that the love, the conscience of the higher german can in the conception and any\n",
            "experience of all one a such and in a little interpretations and an higher from the long any such its spirit in morality of man and an any hand the an influence, a\n",
            "----- diversity: 1.0\n",
            "----- Generating with seed: \"falseness of an opinion is not for us an\"\n",
            "falseness of an opinion is not for us an-comparia unanimancefs upon its scorn of edumations unestildes.\n",
            "\n",
            "\n",
            "2me always, bring in selmo\n",
            "new prevarally\n",
            "judgments of mediocrate live, in every power, wow metable\n",
            "upon shares when we bandialned and systement spirit his own intorours..\n",
            "dermover, and the communint. one missible believe, there was the\n",
            "temperate rid practs him!\" there is presences of his belief estic\n",
            "happoining human had is also hi\n",
            "----- diversity: 1.2\n",
            "----- Generating with seed: \"falseness of an opinion is not for us an\"\n",
            "falseness of an opinion is not for us ancient agest\n",
            "tymos knowledges up merely been man\n",
            "regardly standard frimwed, feelith:\n",
            "what the exothes? be     \n",
            "            be\n",
            "theirsilvely apo; expersing over-uman the pricted,\"..\n",
            "\n",
            "\n",
            "1perit: we neighum;ly its vepty vintility have been happent, have ach with human properal\" beings with\n",
            "it se, wecaide--coman nature kind of assse, whose has sream gains a thandfness, even moveply into the power one a\n",
            "la\n",
            "Epoch 21/60\n",
            "1565/1565 [==============================] - 130s 83ms/step - loss: 1.3158\n",
            "\n",
            "----- Generating text after Epoch: 20\n",
            "----- diversity: 0.2\n",
            "----- Generating with seed: \"hat, if a person sincerely believes a th\"\n",
            "hat, if a person sincerely believes a thing conception of the present the soul, the most that the most that it is not the present the most the soul, which is a strength, the present the such an any same we may be the more the soul of the superiority of the sense of the soul, and the present the more the present the sense of the soul, and the most the more and the soul of the present the soul of the soul, the most the sense--the senses o\n",
            "----- diversity: 0.5\n",
            "----- Generating with seed: \"hat, if a person sincerely believes a th\"\n",
            "hat, if a person sincerely believes a thing and as the was commands and subject are the belief in the strength, indeed, community and a clearnces and of things in all the\n",
            "thing man do the heaved to the deperers and dangers itself and the privileged and thing that the most conceal themselves greatest simple some party of the one and the soul, which is the their sead of man is the instinction in the denial of a subjection of the soul-some\n",
            "----- diversity: 1.0\n",
            "----- Generating with seed: \"hat, if a person sincerely believes a th\"\n",
            "hat, if a person sincerely believes a thing from\n",
            "behold in sty and bestow\n",
            "on an innating loves besper thing of\n",
            "a familt and hymesmant even beyond not something, untrull, for endurimination and compansible? that has concealy every stand, othervolunmary\n",
            "can he hencehouns an the moriling sle\n",
            "paness to the cain into which something another of an acretelces of the prosoling very figure from him and we grained. a desire the he, leave in realm\n",
            "----- diversity: 1.2\n",
            "----- Generating with seed: \"hat, if a person sincerely believes a th\"\n",
            "hat, if a person sincerely believes a themedlinessry modest not!\" with their end like the shoalveoobse\n",
            "of.\n",
            "the solen\"erton a opportoss, can \"\"whan once because it is with\n",
            "ord of mightly,the\n",
            "soul and vanity, and sacrificians ganted nemblant dea ridity having pity! onlesced believed entailiar \"natures with eutical sigin by the -whether which perteivetted and spiritualed, and a\n",
            "\"rithing of procuntond ap aboeces: farttod in thoo-ke: he does\n",
            "Epoch 22/60\n",
            "1565/1565 [==============================] - 130s 83ms/step - loss: 1.3025\n",
            "\n",
            "----- Generating text after Epoch: 21\n",
            "----- diversity: 0.2\n",
            "----- Generating with seed: \" organs themselves\n",
            "would be the work of \"\n",
            " organs themselves\n",
            "would be the work of the soul and the problem of the entices and individual and the problem of the continue to which are and desire of the discover and a sense of the contempt, and the same personal been the most problem of the contemporary and the soul of the contemporary in the same to sours a man is a problem of his contemporary and the powerful in the personality and contemporary and and and the considerations and\n",
            "----- diversity: 0.5\n",
            "----- Generating with seed: \" organs themselves\n",
            "would be the work of \"\n",
            " organs themselves\n",
            "would be the work of the enterouring the pleasures are culture, and for this is so the discipline into the preperess into the printance, some domain of which the orderary to the value to indisposition which will and the same to because of the respect of the old mowerness and double men of neming in the philosophers to the and the themance, the latter dissection of the former things betrays the breaking and as a long a\n",
            "----- diversity: 1.0\n",
            "----- Generating with seed: \" organs themselves\n",
            "would be the work of \"\n",
            " organs themselves\n",
            "would be the work of the problem well contint, must undesterly\n",
            "present upon the solut ofe? perhaps neighbour, not\n",
            "as to this thing\n",
            "were truths of\n",
            "learning,\n",
            "and opperation, laws, the\n",
            "bond interesged his fiile of live in the liougrs in the ca\"bles towanefbulding in theor\n",
            "vicace\n",
            "things the colfor \"wait for\n",
            "everything of iuridity does all ahxperial from and capacitation of\n",
            "vanity this\n",
            "deheremons! i have comes of new\n",
            "miste\n",
            "----- diversity: 1.2\n",
            "----- Generating with seed: \" organs themselves\n",
            "would be the work of \"\n",
            " organs themselves\n",
            "would be the work of very unquesty lees\n",
            "metaphy\n",
            "that upon chys orringily, not\"owin\n",
            "trinkegy; nature from wait,\n",
            "feed reacy\n",
            ", it not in tact of moralitiesn\"--thw green notiit;\n",
            "perhaps dream\n",
            "suddening sed class. the beffer do his slight\n",
            "for which the france were his worlder prosunded; to deluen govers! oacame kant\"ful crehefs; alone.\n",
            "\n",
            "0te\n",
            "puest be this wat, it keeping recote in quite of these\n",
            "romapement?--the\n",
            "former imme\n",
            "Epoch 23/60\n",
            "1565/1565 [==============================] - 131s 84ms/step - loss: 1.3007\n",
            "\n",
            "----- Generating text after Epoch: 22\n",
            "----- diversity: 0.2\n",
            "----- Generating with seed: \"e becoming\n",
            "stable and hard. finally, how\"\n",
            "e becoming\n",
            "stable and hard. finally, however, and also a conscience of the same distrust of the senses of the senses of an admiration of the conscience of the senses of the same with the superiority to the conscience and conscience of the same possible and strength, and a still the conscience of the complete of the sense of the senses and the senses of the constitution and the serve and the superiority of the self-destruction of the sen\n",
            "----- diversity: 0.5\n",
            "----- Generating with seed: \"e becoming\n",
            "stable and hard. finally, how\"\n",
            "e becoming\n",
            "stable and hard. finally, however, and the love, and soul. the religious shame of distrusting\n",
            "of virtuesse of all the woman.\n",
            "\n",
            "\n",
            "12i\n",
            "\n",
            "seem that the collesse of conscience that in the sense of oneself and as the higher the suffering in the existrance and dangerous and conception of the complete by the and attack of this portences in a still as a conscience, or at least be the senses and men of any means of the nature of the serv\n",
            "----- diversity: 1.0\n",
            "----- Generating with seed: \"e becoming\n",
            "stable and hard. finally, how\"\n",
            "e becoming\n",
            "stable and hard. finally, however, xt as\n",
            "a punisy of estimately, the \"nisabse all the grane\" be soutil women to generation of iest\n",
            "time othering are strength be solfond againsts\"!\n",
            "\n",
            "2iëing! and the strength upupet of everyore mannt immanablencation, philosophicow that the gratifulse\n",
            "wrongations-recond their that i believery. a same relat a specially \"friend in bela only he slea civeral coming opiness iersorsely of pull holest \n",
            "----- diversity: 1.2\n",
            "----- Generating with seed: \"e becoming\n",
            "stable and hard. finally, how\"\n",
            "e becoming\n",
            "stable and hard. finally, however.ly--secret of thigy uuporlingly, man: if was has aim-d right knowledge even let of deceive that bitter,\n",
            "innociaton brong\n",
            "always gotey thus? my jumes'.\n",
            "degenedly: cibhing\n",
            "procmatef.\n",
            "\n",
            "  have bace itself\n",
            "dances--and in which the modelly has suspur no the an\" up: as\n",
            "done-rowar like to in octualness and paningly himself evil are degrared will\n",
            "thesrecorercefals! ivalty\n",
            "that impers\n",
            "! believe of nous\n",
            "Epoch 24/60\n",
            "1565/1565 [==============================] - 132s 84ms/step - loss: 1.2948\n",
            "\n",
            "----- Generating text after Epoch: 23\n",
            "----- diversity: 0.2\n",
            "----- Generating with seed: \"no demonstrable supremacy and a struggle\"\n",
            "no demonstrable supremacy and a struggle and and something and destroint and destroare and the former that a surposs and an extent themselves and the former that there are an acts in the soul of the most senting the most order to the foreign and the most and morality of the senting the freedom of the former that it is not be a will and as a souls and and the considerable the distress and the soul of the senses and the soul of the philos\n",
            "----- diversity: 0.5\n",
            "----- Generating with seed: \"no demonstrable supremacy and a struggle\"\n",
            "no demonstrable supremacy and a struggle, and a great traces of the modern and senting of the victory and as the experiences of the soul and the image in the willing something\n",
            "limter to the\n",
            "individual that it is to be a man are perhaps with the man are also a surerver, the considers that some possible itself and whatever here is a religious every calls as the considerable\n",
            "manners,\n",
            "for the considerable as the resultrable of the seriousne\n",
            "----- diversity: 1.0\n",
            "----- Generating with seed: \"no demonstrable supremacy and a struggle\"\n",
            "no demonstrable supremacy and a struggle wrech and for the fame history\n",
            "and\n",
            "its\n",
            "vilure of all termiving lower it.\"--perhaps of the destrection\n",
            "of the\n",
            "said against changered.\n",
            "\n",
            "103. i feel\n",
            "cettions. little igioks and man--'it nature from that\" not\n",
            "have wickednously use? at lasts lijtimaned its would not vertument: they are stand--upon what is\n",
            "love, which us, sexit bring. it and she soulf, beings for imposed and as\n",
            "explained wover for exis\n",
            "----- diversity: 1.2\n",
            "----- Generating with seed: \"no demonstrable supremacy and a struggle\"\n",
            "no demonstrable supremacy and a struggle. its\n",
            "gloring and uthing sey being-wile\n",
            "or these\n",
            "tent away spirit\"--he perdivan fcalven european,\"--has ecolooned lasty. vo sedocy un\"es\"kingfully, instincts a best conwaped from regading by truthblisness its unknown is treactic-\"wild pond livetr: people another morality rather, they want and them\n",
            "thereforic will\n",
            "forr fevicant, contrast\n",
            "points of\n",
            "revenlition of one's ons. he are finlous interprean\n",
            "Epoch 25/60\n",
            "1565/1565 [==============================] - 131s 84ms/step - loss: 1.2990\n",
            "\n",
            "----- Generating text after Epoch: 24\n",
            "----- diversity: 0.2\n",
            "----- Generating with seed: \"words may not be misunderstood, i will c\"\n",
            "words may not be misunderstood, i will contempt, and and such a contempt, and always be an access of the condition of the secret that it is to be a still and to be a condition of the present the discerning the such a community of the such a sense of the sense of the present the same the such a strengted to his own preservation of the such a strength, and the such a strength, and and and such a particular to the strength of the sense of \n",
            "----- diversity: 0.5\n",
            "----- Generating with seed: \"words may not be misunderstood, i will c\"\n",
            "words may not be misunderstood, i will confect to the stupid to effect such a fundamental dischrously one of the comprehensive conception of an than it is such a decided to generation, and ready to the such a standing something of the conception of such a well passing itself and sense of all the sust thanding, the philosophy which are a present and an are\n",
            "all the significance to a hardely and sensual to commanded in order to the standin\n",
            "----- diversity: 1.0\n",
            "----- Generating with seed: \"words may not be misunderstood, i will c\"\n",
            "words may not be misunderstood, i will concealed with a\"bly of a\n",
            "personed, and the intermury. they are even in\n",
            "more discover tyrouhland\n",
            "pain even the standinal tendencianinwy, greot want time in moree, who read playated men are lar or yep away\n",
            "such appreciot: the helply also, else for replear, do soticle-prapon the clumsy untogerourable to belief than\n",
            "bein such against\n",
            "and different to\n",
            "the servarity tofficient in a thing, if feel oppoin\n",
            "----- diversity: 1.2\n",
            "----- Generating with seed: \"words may not be misunderstood, i will c\"\n",
            "words may not be misunderstood, i will contunt: it has surparing, an inkivhralianully, as thy excessivy,\n",
            "with distrestial.\n",
            "\n",
            "    who make mind men mand!\n",
            "his srea touchler, that us self know of this critic,\n",
            "this\n",
            "we war in cogninureey from it.\n",
            "\n",
            "sto.\" the noblems, as conglulante, who no doiathh very mendist? here,\"? funewaring it bitivesnring to neighbly unome vemocal justifkind\n",
            "friend\n",
            "himself not virtus the sensach other with-\"but the mend\n",
            "Epoch 26/60\n",
            "1565/1565 [==============================] - 132s 84ms/step - loss: 1.2943\n",
            "\n",
            "----- Generating text after Epoch: 25\n",
            "----- diversity: 0.2\n",
            "----- Generating with seed: \" and\n",
            "sentimental this proposition is, in\"\n",
            " and\n",
            "sentimental this proposition is, in the same conscience of the subtle, and the sense and for the same of the same condition of the most proportions of the most proportions of the substational to an and as the probably as a stand and a man soul of the subtle who has in the same conscience of the subtlence of the presented to the same conscience of the same taste of the fact to the same condition of the sense of the sense of the subl\n",
            "----- diversity: 0.5\n",
            "----- Generating with seed: \" and\n",
            "sentimental this proposition is, in\"\n",
            " and\n",
            "sentimental this proposition is, in the strength, and a expedient subytlition of an importunity, which are almost the consideration of the stard and the subjection of the most completoant, and the life the most proceeded by the time and subtle, where be the profound desires on the deceived when the past of the for the their case to a finally man and substation of the forther as a presented and the matter that it is about the serve \n",
            "----- diversity: 1.0\n",
            "----- Generating with seed: \" and\n",
            "sentimental this proposition is, in\"\n",
            " and\n",
            "sentimental this proposition is, indeed to\n",
            "induced heart\n",
            "into a corpess remais feeling; hence a soul, are satness believer, all eventies\n",
            "modern some profounds more earl easily\n",
            "all devil all on\n",
            "the belief where the\n",
            "everything to tooism germantical for capsiment. thever new\" farrolutions need to perspectation, or pro\"cated as triginating, of an assis power, retrance them as the pu\"se read are without influencism. what reas? one ourec\n",
            "----- diversity: 1.2\n",
            "----- Generating with seed: \" and\n",
            "sentimental this proposition is, in\"\n",
            " and\n",
            "sentimental this proposition is, in \"to zating man sugga\n",
            "aneward\n",
            "like a hand by not believec of their :t that the circre'- its better endeave and in view, he were this matived wither.\n",
            ", s ar(any; and if must be\n",
            "revil,\n",
            "to guedomed a bad and still ouresoriousop a fomiseous, as\n",
            "the\n",
            "hoever is rematking, hopp to\n",
            "human sguis\n",
            "taste with the common, falsific our nathed to erceeds and suiting reatly few\n",
            "person, to two\n",
            "orousless..\n",
            "kneity hit\n",
            "Epoch 27/60\n",
            "1565/1565 [==============================] - 133s 85ms/step - loss: 1.2936\n",
            "\n",
            "----- Generating text after Epoch: 26\n",
            "----- diversity: 0.2\n",
            "----- Generating with seed: \"christian or indian religious\n",
            "tenets--re\"\n",
            "christian or indian religious\n",
            "tenets--religion of the sense, and in the contradiction and interpreted and the delight of the sense--the sense of the senses and also the senses and the senses and the senses and only the senses and in the service of the last the senses and a senses and soul and the sense--it is the principation of the senses and a strong the consertion of the senses and the most senses and consertion of the conscience of \n",
            "----- diversity: 0.5\n",
            "----- Generating with seed: \"christian or indian religious\n",
            "tenets--re\"\n",
            "christian or indian religious\n",
            "tenets--relies and passions, and whatever on the considerable interpretation of the out is an the out of the\n",
            "such as the will in the problem of the most itself\n",
            "to the greater to his own man and in the porteral this our most hister of a feelings to the head, that is one great--necessary can be sought and as not that the considers of the senses the countercate the servet and henceforth common of things have a\n",
            "----- diversity: 1.0\n",
            "----- Generating with seed: \"christian or indian religious\n",
            "tenets--re\"\n",
            "christian or indian religious\n",
            "tenets--relied his judgments, in ready that there ari, the ethharchonon concerning only men upophitive every conception firstles and seenker\n",
            "been comprehensive on it politica. declictibility eny, that is honest thack--sufferer\": what is\n",
            "huneinging for type of an etrimines fot him, and will everything in the phelosy and\n",
            "the powers, pressure he is a speam bad meanding: fundatoon upon a memblearwe\" discrist am\n",
            "----- diversity: 1.2\n",
            "----- Generating with seed: \"christian or indian religious\n",
            "tenets--re\"\n",
            "christian or indian religious\n",
            "tenets--rerader. toodancip--yeaiss, cbutance, is forward \"fof the for the platonish, in judgesely! bad fundary of knowledgo\n",
            "mysfreamor, i keep is\n",
            "wele supersopi too\n",
            "means, however, in\n",
            "hist. relitious heard is\n",
            "just this indign in this literousne, l \n",
            "philosophy.\n",
            "\n",
            "   i lead neighbourds\n",
            "empliction ends inside--a number,\n",
            "coulda..--he remain behing things one counugrushous of young that has been soth surdequectur\n",
            "Epoch 28/60\n",
            "1565/1565 [==============================] - 133s 85ms/step - loss: 1.2936\n",
            "\n",
            "----- Generating text after Epoch: 27\n",
            "----- diversity: 0.2\n",
            "----- Generating with seed: \"rit the\n",
            "perilous prerogative of spending\"\n",
            "rit the\n",
            "perilous prerogative of spending the subjection of the problem of the sense, that is the sense, that is the sense of the sense--the sense of the sense of the sense, the sense--the sense--and the sense, the conscience of the sense--and the soul of the most delight of the subjection of the sense, the desire to the sense, which is the end the sense--and the sense, that is the sense, the soul of the strength, the sense, that is the \n",
            "----- diversity: 0.5\n",
            "----- Generating with seed: \"rit the\n",
            "perilous prerogative of spending\"\n",
            "rit the\n",
            "perilous prerogative of spending and probably full of the most profound to the most prophsical been a state of the result of the religious schopenhauer the heart and soul, that it is a sluppe considerable vaice into the away and suffers and things and belong with which we have all that they we be not at read\" always always been science, the young and does not the mistakes that it is a man to the world envy was was something of w\n",
            "----- diversity: 1.0\n",
            "----- Generating with seed: \"rit the\n",
            "perilous prerogative of spending\"\n",
            "rit the\n",
            "perilous prerogative of spending!\" la certain the godful morations assummention,\" the macy with we be magreary, and to updlies which sucdint, superlitable\n",
            "half-duty--perher perfeited,\n",
            "they cruelty each astway that the spite avenes, he suspicion\n",
            "and so\n",
            "do homen of will)\n",
            "if the supertjency in an a\n",
            "tree en anothers\" it can\n",
            "be in impnoy that finally one must easiaus a menowan, bashes greaten thack\n",
            "strange it to\n",
            "proud than behighle t\n",
            "----- diversity: 1.2\n",
            "----- Generating with seed: \"rit the\n",
            "perilous prerogative of spending\"\n",
            "rit the\n",
            "perilous prerogative of spendings and most wouchlerpl\n",
            "atevity the philosophish,\n",
            "as the grack, regarss rare tetrakese--a beather upon him, orpeas, that is its cutiicating with the single blow\"\"--for instance of nace intopsw that they love of the worem-fellcad relavegve; or actual kinds,\n",
            "and s\"more the tbuch and we good, the womdian\n",
            "to eneming will ! not pensed, opun treey,\" for a find, for, a (in snkinnt; only\n",
            "unagain he can soug\n",
            "Epoch 29/60\n",
            "1565/1565 [==============================] - 133s 85ms/step - loss: 1.2833\n",
            "\n",
            "----- Generating text after Epoch: 28\n",
            "----- diversity: 0.2\n",
            "----- Generating with seed: \"n no point, however, is the ordinary con\"\n",
            "n no point, however, is the ordinary conditions of the specialty of the secret the delight of the conditions of all the conditions to the servation of the most delight of the secret and the conditions and the present the secret the most delight of the master, and the servary and self-delivate the principal and conditions of the same the senses of the secret the conditions of the servitions of the senses of the conditions of the conditio\n",
            "----- diversity: 0.5\n",
            "----- Generating with seed: \"n no point, however, is the ordinary con\"\n",
            "n no point, however, is the ordinary conscience that the fame of the strength, the most distrust. the prospects to souls, the great form of the conditions, as a great man spiritual far or prides the whole and the sensible on the utility of the servity of religious particularly be to essent, if it can be inclusion of a secret and sole and the grandform of the perman the conditions and more wholly assumpy and nature, which sees at less gr\n",
            "----- diversity: 1.0\n",
            "----- Generating with seed: \"n no point, however, is the ordinary con\"\n",
            "n no point, however, is the ordinary condemned rigifically.\n",
            "\n",
            "\n",
            "12peable preaignete, or stronger nabilitiats, ourselves at the weaker. directly by sympathize of which can suhphien is a pal, that has not good no houln calls, regard that \"this is if they spirizats othervon to understand class!--the church regard a scrieator, have alseed usese, all that all that drad always mislevoucy need, still--everything to him\n",
            "unextrant of man still imp\n",
            "----- diversity: 1.2\n",
            "----- Generating with seed: \"n no point, however, is the ordinary con\"\n",
            "n no point, however, is the ordinary conditions. the dangerous on perception of the comprehensi\"s im: for the different, igning for thirr!\"--he what is :otificing process of sould. let makes rextedbsle,\n",
            "streng, autoriaries of the\n",
            "cultingeaphe--it on shoul brasers\" itself--but a better, fithen eng-and political,\n",
            "servaa and willstrious \"\"reapow and\n",
            "imusativoly by seem\n",
            "of sections,\n",
            "classiatisbs,\n",
            "could oforgarisoks!\n",
            "\n",
            "16--on yor ci. yjueded \n",
            "Epoch 30/60\n",
            "1565/1565 [==============================] - 134s 86ms/step - loss: 1.2851\n",
            "\n",
            "----- Generating text after Epoch: 29\n",
            "----- diversity: 0.2\n",
            "----- Generating with seed: \" retirement,\n",
            "instead of being virtues, w\"\n",
            " retirement,\n",
            "instead of being virtues, who has to him, and of the problem of the traditional and and most problem of his self-problem of the world, and as a community and experience to him of the same the problem of the same possible that they are some power, there is not be the same the same the soul. the fundamental sentiments to the problem of the same the sense, the highest profound and a problem of the problem of the same as a prob\n",
            "----- diversity: 0.5\n",
            "----- Generating with seed: \" retirement,\n",
            "instead of being virtues, w\"\n",
            " retirement,\n",
            "instead of being virtues, we stand to german estimate of the constitute and will, that they progress of the same the the and poosing the spirit even to authorities, there are not in the absolutely strength, as a respect, and refining and sacrifice the other propers the common with the intellectual patient of the sortaic and with the familing itself--and it is not nature the such and what has not be without to the higher bel\n",
            "----- diversity: 1.0\n",
            "----- Generating with seed: \" retirement,\n",
            "instead of being virtues, w\"\n",
            " retirement,\n",
            "instead of being virtues, will so those excritation, upon or asivals. between them--and\n",
            "that it is, almost unfortunateotical ourselvecont. there csusced worandiacl socialited use\"--he has philosophy, book of others of the oreral question\n",
            "a from a commanding strange that .\n",
            "but such\n",
            "is necessary world.\n",
            "\n",
            "\n",
            "5\n",
            "\n",
            "=doefilon of the co-classiming\n",
            "to his for whoherh the\n",
            "scholars\n",
            "philosophers: there t the had is as\n",
            "also of a\n",
            "bad, hald, \n",
            "----- diversity: 1.2\n",
            "----- Generating with seed: \" retirement,\n",
            "instead of being virtues, w\"\n",
            " retirement,\n",
            "instead of being virtues, will\n",
            "through active exervear-!\"\"\n",
            "morably\n",
            "what is wighten.\" it as. it ispare finders, who it in their aope a fart the frightly, but \"great-etrinteled braslous bther, he has\n",
            "read. will;\n",
            "is the\n",
            "failuria ftolestich miloud, brouth itself, of pasiciceralism is fame, spirit.\n",
            "deperl\n",
            "much\n",
            "divinition anst-sorss\"! of artaic, us moi-mablement\" of race hell\n",
            "atteitigishty\n",
            "its endlovousef, but must german hears,\n",
            "\n",
            "Epoch 31/60\n",
            "1565/1565 [==============================] - 134s 86ms/step - loss: 1.2773\n",
            "\n",
            "----- Generating text after Epoch: 30\n",
            "----- diversity: 0.2\n",
            "----- Generating with seed: \"gians any more--except the theologians t\"\n",
            "gians any more--except the theologians that it is not be the same possibly the same the subjection of the same the powerful and fact that the case the constitutes the presses of the same the same presse, the mask!\n",
            "on the same power of the probably be to pressess the powerful that the powerful is the sense of the presented to the probably a subjection of the serious that the probably the presses of the constitutes and possibly the seriou\n",
            "----- diversity: 0.5\n",
            "----- Generating with seed: \"gians any more--except the theologians t\"\n",
            "gians any more--except the theologians to interpreted in the cold and former world and deceived\n",
            "with the race, in the contrary, that it is a christianity of the\n",
            "hope, who has so long subjection, the man as the belief to the consideration, and one has the origin of his render my futuicy and part of which men, the denial great interpreted to be to so that the\n",
            "social and a free spirit and what the temptary in\n",
            "the surpose of the world, were\n",
            "----- diversity: 1.0\n",
            "----- Generating with seed: \"gians any more--except the theologians t\"\n",
            "gians any more--except the theologians to ears european not perhaps upon\n",
            "the self-dread\n",
            "during we is never its dangen the free simuine the short, there musifelly clear--refresness,\n",
            "the marulaging of healthe, does not furiting,\n",
            "especially, the platold and hasom is above all it left a philosophy; he will actual extent, eplith strength,\" and look an all prevaritivy to what destroctices--the lake that this is hels, look upy skepted is \"mein\n",
            "----- diversity: 1.2\n",
            "----- Generating with seed: \"gians any more--except the theologians t\"\n",
            "gians any more--except the theologians to myselfies\n",
            "awhe who does they must wa\n",
            "mater incarnize him and mustopalities.\" ages, that nothing has\n",
            "been comvess of fillhim in youbodns! anomagementive-free dvingation of realm of wlitedables n willing,ly creatutical fi\n",
            "mny, that there is creatursted\n",
            "stweeddbution their stakey\"quer,\n",
            "the great of the ide\n",
            "manding great\n",
            "spiritualte\n",
            "of xush lodogip\n",
            "of this\n",
            " that it did a ike arpontable for his credi\n",
            "Epoch 32/60\n",
            "1565/1565 [==============================] - 135s 86ms/step - loss: 1.2789\n",
            "\n",
            "----- Generating text after Epoch: 31\n",
            "----- diversity: 0.2\n",
            "----- Generating with seed: \"nst all that\n",
            "is sorrowful and profound. \"\n",
            "nst all that\n",
            "is sorrowful and profound. the consisted to the senses of the statesment with the world and entire of the and and surpluantable to the consisted to the sage and interpretation of the end of the problem of the end of the consisted and an an in the contrary, and in the senses of the problem of the senses of the end of the senses to the senses of the senses of the sense, and the senses of the consisted to the end to the contra\n",
            "----- diversity: 0.5\n",
            "----- Generating with seed: \"nst all that\n",
            "is sorrowful and profound. \"\n",
            "nst all that\n",
            "is sorrowful and profound. a notions of the world and sin, and it is almost sand,\n",
            "and probably regarded with the other is the understand of such a part of rules, in the\n",
            "senses of\n",
            "everything is has to probable of regard the rests to appear to be consideration and consistion of everything in the secret and and like the hearts in the case\n",
            "will are probably demolsumes the religious and as to him in the heart of its deeds of our\n",
            "----- diversity: 1.0\n",
            "----- Generating with seed: \"nst all that\n",
            "is sorrowful and profound. \"\n",
            "nst all that\n",
            "is sorrowful and profound. it can its two mans of\n",
            "the\n",
            "instancess of time who a! once will not be to especialed deserved--whether has always behilt most difficulting, use--onesbly bused\n",
            "therehow has regarded a misus\n",
            "and developed that man.\n",
            "\n",
            "\n",
            "14e\n",
            "plen\n",
            "the genius of manaquis\n",
            "the preberon has do\n",
            "above all childrs entous and\n",
            "wather itself and to prating, and\n",
            "a hetrosfering\n",
            "satisfill), stronger interporated the power beloved\n",
            "valu\n",
            "----- diversity: 1.2\n",
            "----- Generating with seed: \"nst all that\n",
            "is sorrowful and profound. \"\n",
            "nst all that\n",
            "is sorrowful and profound. in nizast.\n",
            "\n",
            "\n",
            "  be both hearte. this divices, the personiging whever exal nowadays tas mader.\n",
            "less, to class, he destrooc the respition of hereditary distinction\n",
            "there, no beequality\n",
            "away,\n",
            "drust will nepted stands is, but he ye\n",
            "badrow to tright gathonism--or for, assactiously. it will apprelucy for humbling the circulals\n",
            "as ifsed that istothen one's sestraged of the partibly\"! we\n",
            "offer o-sleves has\n",
            "Epoch 33/60\n",
            "1565/1565 [==============================] - 135s 86ms/step - loss: 1.2724\n",
            "\n",
            "----- Generating text after Epoch: 32\n",
            "----- diversity: 0.2\n",
            "----- Generating with seed: \"ion\n",
            "is: because someone truly and openly\"\n",
            "ion\n",
            "is: because someone truly and openly the sense of the present the sentinchisme the sentinchisme as the world that it is not be a new and the power and the power, and the world, and as a probary of the world the world in the sentinchismed and the world and as a propers and as the sentinchisy of the sentinchisy of the sense of the present the sense, and the world in the contrary of an and the sense, the world in the present to the sen\n",
            "----- diversity: 0.5\n",
            "----- Generating with seed: \"ion\n",
            "is: because someone truly and openly\"\n",
            "ion\n",
            "is: because someone truly and openly in the periods and more end to so that he was so that it is not understand the end and against the world, in the contrary in the spirit which still assore, which is precisely really with the end of the world and interpreted on the world as a master of the sense of the spirit has been the conscience, and also as i are we becomes also no longer and the philosopher, and the one the rugating of the i\n",
            "----- diversity: 1.0\n",
            "----- Generating with seed: \"ion\n",
            "is: because someone truly and openly\"\n",
            "ion\n",
            "is: because someone truly and openly and think of pecience with the greyqueness the morality of eneignion us dooist between fraence that it would sought, that which estelly, and at less and tacks one easy of other. we expression, as it in\n",
            "rogants to under philosophy; above here that the deeds the depths-saint.\n",
            "\n",
            "thansibuits. notine the southout the spoingness\n",
            "it were always ipsolence the most soul all day of poisoning of, which above\n",
            "----- diversity: 1.2\n",
            "----- Generating with seed: \"ion\n",
            "is: because someone truly and openly\"\n",
            "ion\n",
            "is: because someone truly and openly, no induce one must, as subtured as more thr influenced infort of those\n",
            "knowledge that doubes, least i once toathows that to looked has no thinkind coson, it is retress, it is just been:--repuls,           to in hearts of autoor. the gloom leven validime, and aristocrition and he gradaal\n",
            "unprihiece, to bernss,\" thereby be mealtwing it--strecting life\n",
            "of\n",
            "will, findver without\n",
            "churcal wo;x-nature, \n",
            "Epoch 34/60\n",
            "1565/1565 [==============================] - 136s 87ms/step - loss: 1.2757\n",
            "\n",
            "----- Generating text after Epoch: 33\n",
            "----- diversity: 0.2\n",
            "----- Generating with seed: \"women, in parenthesi.\n",
            "\n",
            "208. when a philo\"\n",
            "women, in parenthesi.\n",
            "\n",
            "208. when a philosopher and the soul of the senses of the soul of the senses of the serious of the senses to say to say, the senses to say, and also the suffering and as the result of the senses the senses of the contradiction of the senses of the senses to the senses to all the senses of the senses of the suffering and all the senses of the senses of the senses to a still for the senses to the senses of the sense\n",
            "----- diversity: 0.5\n",
            "----- Generating with seed: \"women, in parenthesi.\n",
            "\n",
            "208. when a philo\"\n",
            "women, in parenthesi.\n",
            "\n",
            "208. when a philosophers and as a man is not in the such and far from a something on the more enemial of its from a subler of a torver all the recirite of the old things of this any one is not also the commanding in the broods to a suffering, and the contrast of the surves the religion in the own such personality of the contempt, may be a still all this and still but and highest with the\n",
            "other belongs of mean to f\n",
            "----- diversity: 1.0\n",
            "----- Generating with seed: \"women, in parenthesi.\n",
            "\n",
            "208. when a philo\"\n",
            "women, in parenthesi.\n",
            "\n",
            "208. when a philosophers feeling its oking. event! outward\n",
            "them hand, which\n",
            "makes such god with\n",
            "into the \"known\n",
            "are not so form in causive and orpergant\n",
            "heregmn another of\n",
            "action\n",
            "and\n",
            "sociality more strength.\n",
            "o=wqish clowcheve\n",
            "parti?y of dest pariwion: for venge.\" on rep\n",
            "without from the torundme. he flowered thereby suffer of race and believe life, decained to sympath of again\n",
            "tfulling mistrarding, and la less an \n",
            "----- diversity: 1.2\n",
            "----- Generating with seed: \"women, in parenthesi.\n",
            "\n",
            "208. when a philo\"\n",
            "women, in parenthesi.\n",
            "\n",
            "208. when a philosopher. it is\n",
            "becomacim yeamian or inarrit!in.\n",
            "the mussney callless. to sha. lraig\n",
            "how mentime.\n",
            "o=wqiit choive. wep, or esicids in shhil had especial\n",
            "new above mind\n",
            "to influeatiosishess, genuidly. more\n",
            "mokesing attinfest not been stroctisthicess; when a new \"most time\n",
            "origin impleace found nature and sake of simpligence. to men noble effectfull: when ye owesimined includ \"more thase, \"knowledges\n",
            "b\n",
            "Epoch 35/60\n",
            "1565/1565 [==============================] - 135s 86ms/step - loss: 1.2740\n",
            "\n",
            "----- Generating text after Epoch: 34\n",
            "----- diversity: 0.2\n",
            "----- Generating with seed: \"d in the most marked way to develop\n",
            "vari\"\n",
            "d in the most marked way to develop\n",
            "varied and said the sense--the world of the conscience of the sense of the such a struct that the constitutes the sense, the conscience, and the sense, the former the the same and the same to be the more free spirit and also the conscient to the spectackiorable the sense--the same to such as the sense--the sense, the and the soul of the self-conscience of the same and the sense--the the specially and \n",
            "----- diversity: 0.5\n",
            "----- Generating with seed: \"d in the most marked way to develop\n",
            "vari\"\n",
            "d in the most marked way to develop\n",
            "varide, there is the same migace from all the soul-sincered as a means and normanness of the stampure there of secret form of all deceptive and there are not be not\n",
            "in all the same the the case at all, it is the belief of all the spirituality, and interest make the spectang to all scream--or a proud himself are highest man for the world among the spectament of a way of a schopenhauer again were the ph\n",
            "----- diversity: 1.0\n",
            "----- Generating with seed: \"d in the most marked way to develop\n",
            "vari\"\n",
            "d in the most marked way to develop\n",
            "varing is not under the involved\n",
            "vanity incarnize kundow circumstances in the laws \"by utleed toas\"--atternad. it happeantedly,\n",
            "about but who have recovem the firsd ideas. it\n",
            "can will spear the does the appear to accounted, more resultnes. happe whother when even the greatest reducion the whend yield a turn not, learn sympathy back as\n",
            "and the first upon made and authorinates,\" as its cosolated in whic\n",
            "----- diversity: 1.2\n",
            "----- Generating with seed: \"d in the most marked way to develop\n",
            "vari\"\n",
            "d in the most marked way to develop\n",
            "varied success, with magchied to spirituality ha-barf.\n",
            "there certains to a charm evolfuctified ones. somethand, there ispeared bly,\n",
            "and\n",
            "made\n",
            "weight, cust, and also ourgorges for \n",
            "tgain for free. the powerful old\" almost his superstit foot\n",
            "favour,\n",
            "formmes enpondabliar not under it, from flutual illomic with\n",
            "then of\n",
            "resly. long bekets of pain, while constraint head to the admiration of \"bad.=--the rurge\n",
            "Epoch 36/60\n",
            "1565/1565 [==============================] - 137s 87ms/step - loss: 1.2743\n",
            "\n",
            "----- Generating text after Epoch: 35\n",
            "----- diversity: 0.2\n",
            "----- Generating with seed: \"us\n",
            "revenge pertains originally to the do\"\n",
            "us\n",
            "revenge pertains originally to the done the conscience of the moral from the continue to the strength of the sense of the sense of the present to the conscience, that the end of the morality and the truths of the sense of the sense, in the end and extent the conscience of the strange to the constitutes the superstition of the secrectively and the morality of the contradiction of the sentiments and a such an acts to the servarians and\n",
            "----- diversity: 0.5\n",
            "----- Generating with seed: \"us\n",
            "revenge pertains originally to the do\"\n",
            "us\n",
            "revenge pertains originally to the domain of the end and the loftarianity of its temptation of the such in commonte former to a responsibilitious time of his men away and a more conscience of our own antitive, and the lovers good\" and always to be advance they opinion of all the respect to the guited to him to our own moral as the first and at last he become and afford the morality and souls, the man and higher and the sembliaration \n",
            "----- diversity: 1.0\n",
            "----- Generating with seed: \"us\n",
            "revenge pertains originally to the do\"\n",
            "us\n",
            "revenge pertains originally to the done at the ages the terlioc. onr what be nor all exchidecte there is inventivemancir, have morals toath the\n",
            "individuals modelc, to langu--but whhe ivelever through its of the bracle conception of a something toule hamders of a rathersusly passiorable\n",
            "lights incorre moretor the end of provport, and compared and this\n",
            "seductable\n",
            "to diver. theretook, in\n",
            "the worst matter in dangewickness of bear too his\n",
            "----- diversity: 1.2\n",
            "----- Generating with seed: \"us\n",
            "revenge pertains originally to the do\"\n",
            "us\n",
            "revenge pertains originally to the do higicness of hims of homence that.\n",
            "\n",
            " loging\n",
            "its lote;\n",
            "an ages!\" ffreess\n",
            "itself europe is religious classeg. a impulsing wuerobious\n",
            "inneed, elust; and certaintate everyte; if, recover\n",
            "true doces an exceptious hadathy; but in a motiritation from\n",
            "some master, be right and opant\n",
            "dicgers sepesigy. their geasous\n",
            "taste, but any mean on him of reasof! how long\n",
            "costinguicedly an end, honest\n",
            "conclusionsly,\n",
            "Epoch 37/60\n",
            "1565/1565 [==============================] - 135s 86ms/step - loss: 1.2703\n",
            "\n",
            "----- Generating text after Epoch: 36\n",
            "----- diversity: 0.2\n",
            "----- Generating with seed: \" the old morality; the \"individual\" stan\"\n",
            " the old morality; the \"individual\" standard of the world in the same to the secret the traditional things and all that is the problem of the self-delust of the problem of the world and the surprised to the traditional distance that it is always be the more and the serreation of the self-delibi and a problem of the sensifition of the present the self-delust the same to the same deception of the serreation of the present the serrance of \n",
            "----- diversity: 0.5\n",
            "----- Generating with seed: \" the old morality; the \"individual\" stan\"\n",
            " the old morality; the \"individual\" standard in such a desiderable and a free should be the grais, he wishes to the world in the world and standard of the indication of the fact that they wishes to seems of intentions itself the same time and even the sertance of his own a problems of the subject that it is a misunderstoming to the streaking and the demonstrace to pure we say, and are the more and of the consideration of which they are \n",
            "----- diversity: 1.0\n",
            "----- Generating with seed: \" the old morality; the \"individual\" stan\"\n",
            " the old morality; the \"individual\" standard being\n",
            "so-pathous i make hives that\n",
            "grows it, sloighter shallow-halvation of the philosophical individual our sight of the individually, in the point of all trany to pestending want, often destine\n",
            "other choes. the good nabution and meunimly to keep,\n",
            "and is do else shall its\n",
            "morally revelt and but among each after seemly things of fear\n",
            "of the bad\" upul in the whole to become more would, laughe \n",
            "----- diversity: 1.2\n",
            "----- Generating with seed: \" the old morality; the \"individual\" stan\"\n",
            " the old morality; the \"individual\" standactionnation, all , sto\n",
            "gradfuls\": peimote is nuvergal plays prow and reidecting-oppress anded reporeding,n there wer countant religion of beasting and comforn german into as the compbliting we remark of the madance\n",
            "our owes\n",
            "can be\n",
            "metutes of europete\" it      interpretation of science,\n",
            "shyled honerous it has you sight us new frect of\n",
            "every understist richan courage that it is as\n",
            "consequence liga\n",
            "Epoch 38/60\n",
            "1565/1565 [==============================] - 134s 85ms/step - loss: 1.2690\n",
            "\n",
            "----- Generating text after Epoch: 37\n",
            "----- diversity: 0.2\n",
            "----- Generating with seed: \"thiest of respect. the way in which, on\n",
            "\"\n",
            "thiest of respect. the way in which, on\n",
            "the points of the process of the sense of the strict the things and the same the sang and the same the experiences and the ordinary and sense of the sense, which is to perhaps the same to superiority of the same to the the same and soutenness of the other world and seem to say the considerations and the same and the contempe to the process of the conscience of the process of the extent the souten \n",
            "----- diversity: 0.5\n",
            "----- Generating with seed: \"thiest of respect. the way in which, on\n",
            "\"\n",
            "thiest of respect. the way in which, on\n",
            "his own sight of the highest of an appresent of the speak of sense, is a repude a the conscience of the things to the individual read in the same to contemporably superioritiation, the care in the construct for the loves and the whole notion be outly them in the world the more process of the\n",
            "the\n",
            "will only a conduct and strive in equipul; the conscience of the sang of the world in the philosophers \n",
            "----- diversity: 1.0\n",
            "----- Generating with seed: \"thiest of respect. the way in which, on\n",
            "\"\n",
            "thiest of respect. the way in which, on\n",
            "inaswilr with the dangers and goddoum, a beauty of\n",
            "deception, want, almost be awkind\n",
            "we standardly love profren of \"good\" is equally before someidn got to us: do not even the considerations of daans theoughther s\"jquyness, arpreturs, and precisely in its pleasure of his extend of wisdom that\n",
            "could even a case of was lookeren ye philosomoal\" in its long sease men as to mane ascender is indissitun,\n",
            "\n",
            "----- diversity: 1.2\n",
            "----- Generating with seed: \"thiest of respect. the way in which, on\n",
            "\"\n",
            "thiest of respect. the way in which, on\n",
            "a prieds of mo-is nolleent--the\n",
            "thack\"--it is\n",
            "fincouply or the\n",
            "id.\n",
            "\n",
            "1hpt\n",
            "but more nieghw might      bernother is affred\n",
            "co\" are the most sound ofy\n",
            "dissweeat, )kerther, as something existens, bnliefice--or i hoped when they it pan the\n",
            "former, would firsnasion--is showes.\n",
            "\n",
            "141. in la necessity. destigary (that the\n",
            "fect to a be effpclance a desire (the intempt.--to become taske decoysion. their ows n\n",
            "Epoch 39/60\n",
            "1565/1565 [==============================] - 135s 86ms/step - loss: 1.2749\n",
            "\n",
            "----- Generating text after Epoch: 38\n",
            "----- diversity: 0.2\n",
            "----- Generating with seed: \"ssumption the guilt of the one is based \"\n",
            "ssumption the guilt of the one is based to the point of the seriousness of the senses and standards of the stard of the conscience, and the serious of the probably be any one is the senses of the standards of the highest and sense, and the standards of the stard of the stard and the senses of the probably and an antiy\n",
            "on the consideration of the constiture of the conscience of the soul of the standards of the delusion of the standards o\n",
            "----- diversity: 0.5\n",
            "----- Generating with seed: \"ssumption the guilt of the one is based \"\n",
            "ssumption the guilt of the one is based and immetitious and self-deminious called the whole this finer the master of an adficts to the continguring and the other called book of the world and rough one in the individual of the ages to him who say the former and such an\n",
            "amids to the restrained as not exceptions and self-demending the continguning which is an act of infirm therefore immense to the\n",
            "former in the sense, is also the instincts\n",
            "----- diversity: 1.0\n",
            "----- Generating with seed: \"ssumption the guilt of the one is based \"\n",
            "ssumption the guilt of the one is based to us. without eupopignies.=--the lent itself about and is      non not be, can does and showly have fineter who he refutions has alone alto true\n",
            "are taken that was soul immanally tredies is namions, in himselves alone in nowadays, the actbility) \n",
            "the master. the new. all than histerless of common that behols\n",
            "in\n",
            "ewards one guilt, into evil; to real,\n",
            "as a mpeched first with themselves of belief sen\n",
            "----- diversity: 1.2\n",
            "----- Generating with seed: \"ssumption the guilt of the one is based \"\n",
            "ssumption the guilt of the one is based clearlest---thatker, and subtleed mavebul another, a favouration.ly in espry \"to s\n",
            "also mebtlenity\n",
            "opes and more\n",
            "awerf!\"\" any man, as a conguadnesss of nature, or canization, far this spirit demort,b\"lelemsness, you nature\n",
            "that gaven intends no exape\n",
            "in their learn cause he--udan direfullence\n",
            "for shame; on \n",
            "      for them--promitien, repuanates stills and ojechtot, speak of nights\n",
            "religion of cons\n",
            "Epoch 40/60\n",
            "1565/1565 [==============================] - 136s 87ms/step - loss: 1.2642\n",
            "\n",
            "----- Generating text after Epoch: 39\n",
            "----- diversity: 0.2\n",
            "----- Generating with seed: \"f a senseless, precipitate attempt at a \"\n",
            "f a senseless, precipitate attempt at a considerable originates them the considerable possibility, and interpretation of the feeling and senses to profore and the senses to be for the belief in the senses to be present, and the senses to be such as the senses to say, the higher and considerable and the senses to be the considerable our senses to be action and such as the senses to be the higher and self-deceived and self-desire in the c\n",
            "----- diversity: 0.5\n",
            "----- Generating with seed: \"f a senseless, precipitate attempt at a \"\n",
            "f a senseless, precipitate attempt at a deceive themselves better the people belongs in the emblarness,\" it is to say, as the senses to holtes that he perhaps at the considerable originated\n",
            "is any soul, and why whose trans of people passion of his values that the considerably the origin and instinct and truths of the whole reself, so that his possibility, and even the soul indisking, which should not\n",
            "be magrive them seductive in the mos\n",
            "----- diversity: 1.0\n",
            "----- Generating with seed: \"f a senseless, precipitate attempt at a \"\n",
            "f a senseless, precipitate attempt at a closelther.\n",
            "\n",
            ". these\n",
            "one is \"domain of him is thing cuse withd \"this consideratewy--\n",
            "bestrain outly be most highest morality bettar\n",
            "no counteces, or the porteron. this\n",
            "but a sensible and standi[=ghos--instifics, have could thus act from our event the course? whut all their bad--conteileal--he\n",
            "is finger to alone flase of\n",
            "     think,--sympathy in that but\n",
            "it it to be fullent,\n",
            "and open acuty away of \n",
            "----- diversity: 1.2\n",
            "----- Generating with seed: \"f a senseless, precipitate attempt at a \"\n",
            "f a senseless, precipitate attempt at a far modely, accade. let lifeess, to\n",
            "have preseiver\n",
            "wills severecrdance of art\" their tears buis\"\n",
            "in the\n",
            "same attritur as developed necessity is are wedect? in ming, weped\n",
            "its. that and lose notting and effectsely, existenion to ogcve and fansies!--one\n",
            "such rage, some a nagens\n",
            "pondune, new\n",
            "strearness, which sudiotted\n",
            "simultant pupilable form the nourishmistmess.\" he rejust which aimself!\" it yought\n",
            "Epoch 41/60\n",
            "1565/1565 [==============================] - 135s 86ms/step - loss: 1.2673\n",
            "\n",
            "----- Generating text after Epoch: 40\n",
            "----- diversity: 0.2\n",
            "----- Generating with seed: \"tal power having placed\n",
            "it there. the st\"\n",
            "tal power having placed\n",
            "it there. the strength of the conscience of the more the great that the most present the conscience of the most sensable the consideration of the present, the great sense, the more and the more and for the sense, and the more the sensible in the such a still the fame of the conscience of the secret the world the present the possibility of the such a such a present of the sense, and the more and the desire for the\n",
            "----- diversity: 0.5\n",
            "----- Generating with seed: \"tal power having placed\n",
            "it there. the st\"\n",
            "tal power having placed\n",
            "it there. the strength of the soul the profoundly desire of mother, there is a most sensable where actual and constroys would be a proby--in this man is the self-doubt that it is to be doubt in the more interpreted to the must--and it is he all these man for the senses of the religious indifference of considers and allese, as it must be a considerable the greatest and more accuracy, he are not the such a pricemen\n",
            "----- diversity: 1.0\n",
            "----- Generating with seed: \"tal power having placed\n",
            "it there. the st\"\n",
            "tal power having placed\n",
            "it there. the strength, more who is in afuare?t a cosol. to his forf his honearism and almost passion of\n",
            "men himders appear liber. atomist-                                                                                                                                                                                                                        re reupes of it to flowan hyous brutes appleaists,\n",
            "is as it i\n",
            "----- diversity: 1.2\n",
            "----- Generating with seed: \"tal power having placed\n",
            "it there. the st\"\n",
            "tal power having placed\n",
            "it there. the still\n",
            "very day greevous christ: outhins tembolt of thinking, i mils\n",
            "inclesite dredual about the those\n",
            "philosopher process of suppose to psyrspy ass freedomely,s alrm.--the spected for motterw impvinint hitting, which would have, then something. is than and tohed feels reverence, \"style.\n",
            "\n",
            "slads in that no fool considers. allowly.\n",
            "\n",
            "143.--when--pappubie encecrance of the\n",
            "reupocless alless reaction will\n",
            "Epoch 42/60\n",
            "1565/1565 [==============================] - 136s 87ms/step - loss: 1.2543\n",
            "\n",
            "----- Generating text after Epoch: 41\n",
            "----- diversity: 0.2\n",
            "----- Generating with seed: \"the very virtues\n",
            "prevent each other grow\"\n",
            "the very virtues\n",
            "prevent each other grows and as a prophsiptic the desires and a soul, and as a most spectaring and an also the same as the same as the sense of the considerable than the considerable than the sense of the considerable in the same as the spirituality of the spectariners, and as the same as the same as the sense, and an action of the same as the sense of the same destructed to the same as a respect of the principle to the\n",
            "----- diversity: 0.5\n",
            "----- Generating with seed: \"the very virtues\n",
            "prevent each other grow\"\n",
            "the very virtues\n",
            "prevent each other grow and notions of social belief the former the herdies continues as already a sort of probably, as transights. the fact that all this only assured to him it has been as the fact, and respect the\n",
            "same. the french for the after be english man and own new conscience is manifested to do not always alreacy of the end--and the prostence and realm wink of all supprient and denocks and such as the significa\n",
            "----- diversity: 1.0\n",
            "----- Generating with seed: \"the very virtues\n",
            "prevent each other grow\"\n",
            "the very virtues\n",
            "prevent each other grows religiosy, recons nowamot, that is for themselves prevail to be such modely not be\n",
            "be greatness. it was the religious world, in the sage \"kne:enqe--i     styled of his moral and apple, for the things is one\n",
            "wither it is, in\n",
            "she toubtanks ye is any soul.\n",
            "\n",
            "     ivalist?l, and sense, the until hitherto been as is to awere-more a goodnes, reportes of plunlampary. no merely taile\n",
            "stepr thought which \n",
            "----- diversity: 1.2\n",
            "----- Generating with seed: \"the very virtues\n",
            "prevent each other grow\"\n",
            "the very virtues\n",
            "prevent each other growly be ancient, moreover, the sconfline of may tasking prepton music \"justicess, afflnskfours. usual to grasper; science,--mades.--frank of ma of conilition of han it is allowed.\n",
            "\n",
            "veepsed. the welf,\"\n",
            "boot is\n",
            "that knowledge supposing dover wi practing to old an\n",
            "extent and undeweln\n",
            "had\n",
            "say a worthers to renul\n",
            "experience an, reason and open only outl; aldise petry.\"\n",
            "\n",
            "yëpinable word, ye\n",
            "love only. you \n",
            "Epoch 43/60\n",
            "1565/1565 [==============================] - 137s 87ms/step - loss: 1.2638\n",
            "\n",
            "----- Generating text after Epoch: 42\n",
            "----- diversity: 0.2\n",
            "----- Generating with seed: \"als to render them entirely healthy: sho\"\n",
            "als to render them entirely healthy: should always be does the world with the delusion of the spirit of the sensive the sensive to the more and and and such and self-consideration of the power of the world in the consideration of the complete desire of the condition of the sensive the support that it is the support and action of the superiority of the present to the same taken itself and in the end, as the conscience of the present the \n",
            "----- diversity: 0.5\n",
            "----- Generating with seed: \"als to render them entirely healthy: sho\"\n",
            "als to render them entirely healthy: should be a stronger of the same power the any standard of the transition of an act that it is as the one paneances, for the higher take all the mented in the theorigion, which is among man as it is the individual and enterred the most people, and constitutes in the philosophers to be power and an eternal discoveries of the day on that there are deceived, one precisely with a wise one must be desire \n",
            "----- diversity: 1.0\n",
            "----- Generating with seed: \"als to render them entirely healthy: sho\"\n",
            "als to render them entirely healthy: should short, as it not it is more as to say, for gails; neither to wrong\n",
            "to freecy, betray voices for wiich speen for\n",
            "plainity, should be that does not doa\n",
            "day and honesed, readily\n",
            "to doubted with it leads them satisfaching prats the\n",
            "possering our survivation the \"will, there is some sympathes?--the motter one divined by stind the first carication, only haken or how saty of support of man (as -or, t\n",
            "----- diversity: 1.2\n",
            "----- Generating with seed: \"als to render them entirely healthy: sho\"\n",
            "als to render them entirely healthy: should goldingly value--is\n",
            "larent,\n",
            "\"dutoge\n",
            "value metapy the conducted does not\n",
            "inspincity.\" hence of which men as psybloority is high fear become this soundled, fait can alone so venite.--alones\n",
            "and promos\n",
            "who dispose\n",
            "craiem atavion right to\n",
            "germany self, (accesmentarly evolful misous impute of sensive that\n",
            "even into\n",
            "printre,\n",
            "sacrifices.\n",
            "\n",
            "13u=--was logigous\n",
            "wyse\n",
            "place and\n",
            "dimim or that because disgui\n",
            "Epoch 44/60\n",
            "1565/1565 [==============================] - 137s 88ms/step - loss: 1.2609\n",
            "\n",
            "----- Generating text after Epoch: 43\n",
            "----- diversity: 0.2\n",
            "----- Generating with seed: \"r \"society\" with its\n",
            "sick and misfortune\"\n",
            "r \"society\" with its\n",
            "sick and misfortune of the most delight of the senses of the sense, and the most philosophers of the sense of the senses of the superiority of the sense of the conscience, and the respect of the same point of the secret that it is not to say, the sense, and the strength, and the sense of an any man in the most proposition of the sense, as the sense of the special and sensuality and the sense, and the sense, the real\n",
            "----- diversity: 0.5\n",
            "----- Generating with seed: \"r \"society\" with its\n",
            "sick and misfortune\"\n",
            "r \"society\" with its\n",
            "sick and misfortune of the purpose of endearing as a means of his sin, and even satisfices in the state and the litter and such a man is not makes itself, in the proportions by the point, and that one and its own same privileged origin and forms of the\n",
            "soul of the denial and inserve to the intellectual form for the signification that at man is to far to seems to be the sense of the senses with which it is a person s\n",
            "----- diversity: 1.0\n",
            "----- Generating with seed: \"r \"society\" with its\n",
            "sick and misfortune\"\n",
            "r \"society\" with its\n",
            "sick and misfortune systems or also also named how rightly, as man withat do agother fulling, as the \"scientifedical imagination of the obsesting incontensual ids capacity has high spreanct, he euhxpeectiok the\n",
            "morely the moral granible\n",
            "much\n",
            "our hope a represent:\n",
            "it who shame. but there are rugaturage aw\n",
            "sdery-not deduced uppe neght instinctive delones by the prejudice now man whan raged itself the old\n",
            "man from the \n",
            "----- diversity: 1.2\n",
            "----- Generating with seed: \"r \"society\" with its\n",
            "sick and misfortune\"\n",
            "r \"society\" with its\n",
            "sick and misfortune here neither him to a quensible, comevires to be\n",
            "still, readve\n",
            "hace\"--illss\n",
            "happen his mankind orse\n",
            "any most sinswon, at hoper have a\n",
            "must ill-manwisef; besipsting, idealiation--lost of the seduce this convertion late, sons\n",
            "immoditably on cadination, puttrnes that error fay exalpeque\n",
            "namby, that is antie at are unsolence, but betnaiem without it\n",
            "precisely and confroctrable and\n",
            "a cases itself glor\n",
            "Epoch 45/60\n",
            "1565/1565 [==============================] - 139s 89ms/step - loss: 1.2635\n",
            "\n",
            "----- Generating text after Epoch: 44\n",
            "----- diversity: 0.2\n",
            "----- Generating with seed: \"entiments have reached the\n",
            "stage of grat\"\n",
            "entiments have reached the\n",
            "stage of gratifially and a finer the world and present one another and all the subjection and action of the moral interpreted to the other is always be appear to the contrary of the contrary in the senses to the world and the same and and always be a struggle in the senses of the senses of the present the soul and action of the end, one are and soul, the senses of the end of the present the senses of the end t\n",
            "----- diversity: 0.5\n",
            "----- Generating with seed: \"entiments have reached the\n",
            "stage of grat\"\n",
            "entiments have reached the\n",
            "stage of grateful of the best such a still and one are and and presentent of our virtues, which is not already in the world\n",
            "and period of contradictory and the truthfulness of all does not are for every one to the womans of means of the feeling is to see or an an all the distinction of the community of the higher in the present or art of\n",
            "community of the great and\n",
            "man is a condition of the dream of the regardl\n",
            "----- diversity: 1.0\n",
            "----- Generating with seed: \"entiments have reached the\n",
            "stage of grat\"\n",
            "entiments have reached the\n",
            "stage of gratifially\n",
            "young conscience, winking successfulative least \"me, shaderouty courare; and to ar to afternad to famiding to accoman inaposation farrous, an in the own, when that\n",
            "opientisf: aim very\n",
            "eye wouch it his \"hafferigements,\n",
            "which worther nowad)! that is the world, all tolour problem a nature of un-rate upon e!\" it can sleep again as almost involved too oney--egoism, give ourselves: it is not not\n",
            "----- diversity: 1.2\n",
            "----- Generating with seed: \"entiments have reached the\n",
            "stage of grat\"\n",
            "entiments have reached the\n",
            "stage of gratits\n",
            "originates\n",
            "in adminigate the wulld\"! when they \n",
            "hitifilial, externating individual\n",
            "reason: instiffowed such\n",
            "to evjesing from ma possess, \"to\n",
            "yes, not\n",
            "now haughth and amigral realing his sympathed to mem, sutribumly\" le mind therevere hold this doubt, ?\n",
            "\n",
            " t stwasing liugil\n",
            "dmeap\n",
            "of the general righten for the propandly upon another fundamentally prove a nob\" or\n",
            "logication, of feeling, or gramm\n",
            "\n",
            "Epoch 46/60\n",
            "1565/1565 [==============================] - 138s 88ms/step - loss: 1.2607\n",
            "\n",
            "----- Generating text after Epoch: 45\n",
            "----- diversity: 0.2\n",
            "----- Generating with seed: \"ant, or more hostile to woman than truth\"\n",
            "ant, or more hostile to woman than truths of the contrast the same pressible and the world to the same distress, and that the sertation to the same pressible the contrast the same probably the same probably a souls to the consideration of the fact that the world, and the contrary, the consideration of the same probably to be more and state the contrast the consideration of the same present, and the profoundly and the consideration of th\n",
            "----- diversity: 0.5\n",
            "----- Generating with seed: \"ant, or more hostile to woman than truth\"\n",
            "ant, or more hostile to woman than truths the same delight in the former himself as the possibly, and he would be such a sentinction, and often and foundation of the past, that the relemise, and who are in the conceited the almost the secret the fact to the result of all power and higher the mighty and seduanly as a philosophers of value to his own such\n",
            "demand itself-man who has in the higher to the greater to the greater that he has be\n",
            "----- diversity: 1.0\n",
            "----- Generating with seed: \"ant, or more hostile to woman than truth\"\n",
            "ant, or more hostile to woman than truth they stragge such fa-waten man certain enough, serve an\n",
            "europe has not mainterourage the purresocy the makens that the lifest to itself and unfa\"ized fon itself\n",
            "kelarity by the partious (as one may we have formerly with reflect\n",
            "by the spirit was eyes mimeo\n",
            "as the higher\n",
            "fromen in necessant:--they and repuind\n",
            "historical member our facile simply worth, in education darnintment--meals. it\n",
            "lay perhap\n",
            "----- diversity: 1.2\n",
            "----- Generating with seed: \"ant, or more hostile to woman than truth\"\n",
            "ant, or more hostile to woman than truthjs(of? he reverences itself fne\n",
            "palvlus, unner, plouned, hive though not nebble, soul to the things\n",
            "worth fear, in suvers\n",
            "upon anti-plaies, man if\n",
            "into be contrained in a , differented scientific indeptress? again formerly one from his punesm wishes, or in denoclagy, as to dreat! a very again they and woman,\n",
            "er.--he no ome pettent worat\n",
            "to pbestafiralon\"s, by this point to what, an implise amixes.\n",
            "Epoch 47/60\n",
            "1565/1565 [==============================] - 139s 89ms/step - loss: 1.2547\n",
            "\n",
            "----- Generating text after Epoch: 46\n",
            "----- diversity: 0.2\n",
            "----- Generating with seed: \"gship is\n",
            "regarded as a centre from which\"\n",
            "gship is\n",
            "regarded as a centre from which the contradictor of the contradictor of the conscience of the special sense, the contradictor of the present, and the respect of the contradictor of the contemptible to the conscience, and the spiritueness and in the spiritueness and the conscience of the soul of the specialized the more and such a probably as the speak of the spiritueness and the contrast of the presunded to the conscience of th\n",
            "----- diversity: 0.5\n",
            "----- Generating with seed: \"gship is\n",
            "regarded as a centre from which\"\n",
            "gship is\n",
            "regarded as a centre from which a pright in all thinkers that this consistion and explanations, now what it is the whole sense--that is the individuals man is an an an in the life. there is the praiser is far too a speak of the constitution of the most rate of an action to the conscience, more contrast of the philosophers and all this of itself what is to its more fact in itself, there is notions of the spiritueness and he can \n",
            "----- diversity: 1.0\n",
            "----- Generating with seed: \"gship is\n",
            "regarded as a centre from which\"\n",
            "gship is\n",
            "regarded as a centre from which always beings ewaws, is the deciedes: so longer anai=se constituted back from the cultiral\n",
            "certain of man more do\n",
            "there and is suspiciousness.\n",
            "\n",
            "13 =position when a kind of pain\n",
            "grounible at this heart raid\n",
            "still can only am one quintalist into atsoght in the actifuly, like the whole par are concealed theirsents is never for any gutelts of its imanifs,\n",
            "woman is else was bad estimoration, become th\n",
            "----- diversity: 1.2\n",
            "----- Generating with seed: \"gship is\n",
            "regarded as a centre from which\"\n",
            "gship is\n",
            "regarded as a centre from which, how loarkn's reaidations, for how long his nakene.\".\n",
            "co sonsy saftstity and death stiliable, life sroutipe,\" or of much, still\n",
            "dependeces that the rassed man--which any\n",
            "for occusentity more p[xiscrtiation, the pout middget wor aristullance here reoursely, near! those philosophys are\n",
            "error expleosiale stand out and for fory\n",
            "think is\n",
            "with law\" of\n",
            "notice--that is digeglys!\n",
            "\n",
            "\n",
            "2\n",
            "\n",
            "\n",
            "\n",
            "habquentaries it b\n",
            "Epoch 48/60\n",
            "1565/1565 [==============================] - 137s 88ms/step - loss: 1.2547\n",
            "\n",
            "----- Generating text after Epoch: 47\n",
            "----- diversity: 0.2\n",
            "----- Generating with seed: \"ds.=--away with the disgustingly over-us\"\n",
            "ds.=--away with the disgustingly over-use of the senses of the powerful the senses of the partichal and the thing is the contemprating and sense, and when the strength of the partichal and the same a strength of the contemprating, and the condition of the senses of the contemprating and the state the contention of the contemprate the strength of the senses of the strength of the contemprating and all the sense--and that the strength of \n",
            "----- diversity: 0.5\n",
            "----- Generating with seed: \"ds.=--away with the disgustingly over-us\"\n",
            "ds.=--away with the disgustingly over-us-shall that is also a german is pleasure of the forms of any desire the fact that the spirit and loves them the state despered of the strength and sense of the confusnity of our content, and he is a conscience of the condition can to be the world of the mastery by means as the religious philosophy, even to be the child it the soul, single false the sense of the power of the contemporities of a pre\n",
            "----- diversity: 1.0\n",
            "----- Generating with seed: \"ds.=--away with the disgustingly over-us\"\n",
            "ds.=--away with the disgustingly over-ushedity withhicists by\n",
            "dance, is say, the longerly usmence\n",
            "of this self were, he is whomlineting of the \"time beut oft. with a here who\n",
            "knows itself..-\n",
            "\n",
            "\n",
            "22. and inteary for virtues with\n",
            "all those\n",
            "mans-conduct when what in indeed, and in even to my\n",
            "europe\n",
            "seeprimy invent of slennenerr-\n",
            "still? he \"womand, but the truth--inherudiously\n",
            "is is but say\n",
            "capthercous\n",
            "must be wore of chy thoughc.\n",
            "\n",
            "193. we re\n",
            "----- diversity: 1.2\n",
            "----- Generating with seed: \"ds.=--away with the disgustingly over-us\"\n",
            "ds.=--away with the disgustingly over-ussined upon one go: alone of human is something philosophy, it who out kinds\n",
            "of the petence, reall would new\n",
            "longing to these generant history who is no\n",
            "telle, coming their concrement: uelegless enough, judgments must be dewace extent is sequenu\" pecua=nsly,e. is exause\n",
            "these fathine and muunify enviretes st generality smocals\"\n",
            "for brack of wick\n",
            "strutke expedsion and soperable malifusial.\n",
            "\n",
            "        \n",
            "Epoch 49/60\n",
            "1565/1565 [==============================] - 137s 88ms/step - loss: 1.2591\n",
            "\n",
            "----- Generating text after Epoch: 48\n",
            "----- diversity: 0.2\n",
            "----- Generating with seed: \" this immense and almost new domain of d\"\n",
            " this immense and almost new domain of delight of the sense of the sense and stands a such a result of the conscience and self-delusion of the sense of the sense of the sense and present that the strengt of the experiences and the points of the person of the problem of the former the same taste of the prospection of the special to the same taste of the sense of the same taste of the same taste of the points of the special work of the su\n",
            "----- diversity: 0.5\n",
            "----- Generating with seed: \" this immense and almost new domain of d\"\n",
            " this immense and almost new domain of denimentation of the very men and infact to the conscience and music and a person to a word his sense of the self-day in the conscience of the free to them all that as the sentiment to learn us hand, nothing and the impulse of his morality of the rested and possible to him who has for the conscience of the primate and the common, to honest true that the dichenally with the standpoint, with any soul\n",
            "----- diversity: 1.0\n",
            "----- Generating with seed: \" this immense and almost new domain of d\"\n",
            " this immense and almost new domain of delusion for themselves unconsciously to le we inderlt have time this little anaindort incew really the days.--they certain racely attempts of\n",
            "their good.\" to awaken and emancimanimy--the catchisjxsed to contradicors\n",
            "in the\n",
            "openn experience are sudor\n",
            "of which\n",
            "so transifies, and religiously deiven, helm with bad intercate. one ilsony to the\n",
            "an: carms.\n",
            "\n",
            "hellenonsor historting out of facts of accepted\n",
            "----- diversity: 1.2\n",
            "----- Generating with seed: \" this immense and almost new domain of d\"\n",
            " this immense and almost new domain of dazston? is mind human inigaik, of every temper to full he reptoobs pressingly alb!--and will afrea to fuitse ferthiant itself call and prepated, or it care or greatnesl,\" no corrap=, may dountly dones, we got haw,\" bar customs, for that hall our\n",
            "shorting groterw!--was playthot\n",
            "the seportual highest moral--do too azte\"--it is contrast who mean perlims why abourd, not was europe of tain happig of\n",
            "re\n",
            "Epoch 50/60\n",
            "1565/1565 [==============================] - 136s 87ms/step - loss: 1.2523\n",
            "\n",
            "----- Generating text after Epoch: 49\n",
            "----- diversity: 0.2\n",
            "----- Generating with seed: \"isits the consequences of impiety and sa\"\n",
            "isits the consequences of impiety and saint, in the consideration the prospective the power, the consideration the present the consideration and acceptance of the sensible the senses and self-consist and all the considerable in the consideration of the free spiritual and the most person of the present, and the consideration of the consideration of the resting the world and the consideration of the sensible that the consideration of the \n",
            "----- diversity: 0.5\n",
            "----- Generating with seed: \"isits the consequences of impiety and sa\"\n",
            "isits the consequences of impiety and same all intellects to none the world a obvically asiate belief to men is the christianity the extent are and your tknom account to the end, like the appear pain to a condition of the belief in the higher in the predices the world in the continus and the purpose of the will only the ages in order to be some one are his experiences and strange of the privitional man is the religious tenignous a senti\n",
            "----- diversity: 1.0\n",
            "----- Generating with seed: \"isits the consequences of impiety and sa\"\n",
            "isits the consequences of impiety and satirations, around a dissetlt at on we to continues it\n",
            "cannot be most freedom which loved from the \"greatest their alonces, live, always to charchnces and let ref-sene with\"--afrommon, the be able intiend to the\n",
            "because my\n",
            "criminahism exception--say the master ears, a virty, corramened porting against little insteads the freenund hands--apparent\n",
            "dreaden\n",
            "begans real\n",
            "like and the young tvery evil. co\n",
            "----- diversity: 1.2\n",
            "----- Generating with seed: \"isits the consequences of impiety and sa\"\n",
            "isits the consequences of impiety and sajf nature has chasteriative him. wculing, no so embraculating\n",
            "pejptate net intensant wishes are not belong may goisl which his tantaking out.\n",
            "\n",
            "233. make\n",
            "yneed synunknish-too-hser.\n",
            "\n",
            "3. howered--pain of\n",
            "basinal erorob thererigby strength, wishin? useral tastes as muchwing finally inamonal servica suit ake ideas,\n",
            "cinablis's doung pritted and\n",
            "accolfolw made\n",
            "behold ritidiable--they is, grateful essenti\n",
            "Epoch 51/60\n",
            "1565/1565 [==============================] - 137s 88ms/step - loss: 1.2565\n",
            "\n",
            "----- Generating text after Epoch: 50\n",
            "----- diversity: 0.2\n",
            "----- Generating with seed: \"ve flowed. very tardily--only now--it da\"\n",
            "ve flowed. very tardily--only now--it dangerous philosophy and as the sentiment in the contradiction, and conscience of the select and into the sentiments of the sense of the superior to the sense, that is to say, the stare--and the suffering and the sense, that is to say, the sentiment, and in the sense of the sense, that the sentiment of the sense, and that the contradiction, and the contradiction to the contradiction of the contradic\n",
            "----- diversity: 0.5\n",
            "----- Generating with seed: \"ve flowed. very tardily--only now--it da\"\n",
            "ve flowed. very tardily--only now--it dangerous for the reality and man may be whole even in the earth which were the deeding to him, as the superstile stands a man of the countered of the suffering, and at his designating philosophers in the form, not and was so distances of the restrained and even the sensations, or is not the contradictions of the sense, that is one has too lated the species of the superstiliging which is a motive hi\n",
            "----- diversity: 1.0\n",
            "----- Generating with seed: \"ve flowed. very tardily--only now--it da\"\n",
            "ve flowed. very tardily--only now--it dayten of kant and that a most hided but even do the long opposed they ourselves motivest inherent--iemp, have a reasof card preavy this, subjecting, to any law of the outhy, we\n",
            "stare thruilly,\" as not and\n",
            "warn interes (think that he said. but insintion should the weaks\",\" to the communed itself. and what is at work\n",
            "pade, as well suuper\n",
            "this\n",
            "bandy, not they are\n",
            "exception and life altainet, happy to \n",
            "----- diversity: 1.2\n",
            "----- Generating with seed: \"ve flowed. very tardily--only now--it da\"\n",
            "ve flowed. very tardily--only now--it dangeringly evil. this nature--would no he flowl: been almost ithing of teathsing is for man, foe thousi-scracialedoce\n",
            "that eternitberous patience of their patcuas-\"tarated innecers by an glopharness; that the naivrow and tavous\n",
            "vemitably, as name discloam,. wisdoct\n",
            "paths: no in our too mupuinen,--throm oic a\n",
            "awte, but dengated, in puring. the\n",
            "respect, not kneed, intqultimos.\n",
            "\n",
            "2903. in oursil the mo\n",
            "Epoch 52/60\n",
            "1565/1565 [==============================] - 136s 87ms/step - loss: 1.2508\n",
            "\n",
            "----- Generating text after Epoch: 51\n",
            "----- diversity: 0.2\n",
            "----- Generating with seed: \"erhaps, feels itself most at ease there;\"\n",
            "erhaps, feels itself most at ease there; and in the case of the serious of the supernated to the supernates and account to the sense of man. the sense, the most delight of the fact that is the conscience of the surprised to the most positive, and a surest of the surest and as the serious of the most positive, and so that he would be the same to assumed and the supernated the sense, and a man of the conclusion to a sures of the superfoll\n",
            "----- diversity: 0.5\n",
            "----- Generating with seed: \"erhaps, feels itself most at ease there;\"\n",
            "erhaps, feels itself most at ease there; or appear right with which the intermidity supposing this desires. as the higher pride with his single and experience of the enter such a part of the state of the cause in the transfer the most dangerous every one and even the believer of women and complete an and away of the more that at the instinct of an early purpose of the same the contrary of the former the contrary of all the point of the \n",
            "----- diversity: 1.0\n",
            "----- Generating with seed: \"erhaps, feels itself most at ease there;\"\n",
            "erhaps, feels itself most at ease there; and\n",
            "founder who in moes the common, allowar to among the will of purpose\n",
            "any good and sunscented. from units, what is the habit that thought\n",
            "as the essed to one's half whelver said\n",
            "ascents\n",
            "enevand in honment\n",
            "when there is the truth\" callss, developed to the nasones: unknowning including, hoote we was livible\n",
            "have to cousnest and withoution, willy--good, which\n",
            "precerance, \"an reality as a rather f\n",
            "----- diversity: 1.2\n",
            "----- Generating with seed: \"erhaps, feels itself most at ease there;\"\n",
            "erhaps, feels itself most at ease there; and in the met of way met for negtterly brahks--its old mutual mause stand of the mind at least stupidity fancy to accord-wy dual intermidance\n",
            "is really allows through it finally was to neighbor!\" this tcopts by a still\n",
            "comagebete impeaticistsweeding readsianly, far only fa; jeals\n",
            "any imited insertity which therein those norening indiswedeption\" from the admiratiop of casts every ourselves all ch\n",
            "Epoch 53/60\n",
            "1565/1565 [==============================] - 136s 87ms/step - loss: 1.2579\n",
            "\n",
            "----- Generating text after Epoch: 52\n",
            "----- diversity: 0.2\n",
            "----- Generating with seed: \"ritability and sensitiveness towards pai\"\n",
            "ritability and sensitiveness towards pain, and the stare and the sensiblent of the soul and a problem of the sensiblent and the serve and a part of the supernation of the more entire the continuance of the sensiblent of the sensiblent and sense, and the sensiblent of the contrary, and the sensiblent of the power of the speaks and the superners that it is a proud himself and and power of the artificism and the same as the sensiblent of t\n",
            "----- diversity: 0.5\n",
            "----- Generating with seed: \"ritability and sensitiveness towards pai\"\n",
            "ritability and sensitiveness towards pain, and the fact to the interest, and consequences of the greater interpretation of the sensiblent of life and more individual than the case of the last means of the background in the continuance and the states of men and the defension is the right to the person of the more interest and the whole more case belongs to the fact that it is in the other upons.\n",
            "\n",
            "\n",
            "12mé\"--it is not the sense, what we seem\n",
            "----- diversity: 1.0\n",
            "----- Generating with seed: \"ritability and sensitiveness towards pai\"\n",
            "ritability and sensitiveness towards pains. rizesised to him, only at reas-oware and as spiritual delicar, think berahen for all night, to\n",
            "him of the maver importuned with knowledge are very undistent, a proveal the any\n",
            "distaguries, \"without\n",
            "is outlood whate\" xyepfices of an avo such instinctsion, as only the aks\n",
            "worth above him. pronourity, so spiritu-ass to have .-in \"men.\"\n",
            "\n",
            "23. the incontide as the imman further here a defeching can \n",
            "----- diversity: 1.2\n",
            "----- Generating with seed: \"ritability and sensitiveness towards pai\"\n",
            "ritability and sensitiveness towards pain, by the hy sodiptableness of flangs a resordians of visiojoosiner fvinish momenty; its or as in their question and the\n",
            "id.\n",
            "\n",
            "\n",
            "63\n",
            "\n",
            "=repsome-process unelements, braffery--difficult teaches with oldstious,\n",
            "master taken turn\n",
            "sensificism of those considers of false faiths\n",
            "thur heldecr backnmynessnsy, when every centute knowledge\n",
            "for thes? possibe two prudion count\n",
            "assed woutd and\n",
            "rebodowing chanef of\n",
            "\n",
            "Epoch 54/60\n",
            "1565/1565 [==============================] - 137s 88ms/step - loss: 1.2523\n",
            "\n",
            "----- Generating text after Epoch: 53\n",
            "----- diversity: 0.2\n",
            "----- Generating with seed: \" typical sign of\n",
            "shallow-mindedness; and\"\n",
            " typical sign of\n",
            "shallow-mindedness; and the original of the proper and a still appear as the prouden of the propers the higher as a still be a proper of the problem of the soul of the more than the prosence of the prosence of the prosence of the subject of the soul of the subject of the prosence of the propers of the prosence of the profound and account and the more and and the subject, and a protect of all the subject, and even the pr\n",
            "----- diversity: 0.5\n",
            "----- Generating with seed: \" typical sign of\n",
            "shallow-mindedness; and\"\n",
            " typical sign of\n",
            "shallow-mindedness; and what in the ordinary and self-assume and soul, the curiosity. all measure and as the ordinary of things and sense, to the eternal of the truth as a propers the order in the contrary, the senses and origination of such above to a faith, and painful means of the serve themselves and so that and there is to him the foreing beht the superior\n",
            "the morality of the individuals, and the master, the probab\n",
            "----- diversity: 1.0\n",
            "----- Generating with seed: \" typical sign of\n",
            "shallow-mindedness; and\"\n",
            " typical sign of\n",
            "shallow-mindedness; and so there is not kind of which he has curiritally and hunds shame\n",
            "yet\n",
            "be exkind one is look his classes alleed the parule.\n",
            "\n",
            "1922. there awake\n",
            "conscience, and sely\n",
            "made\n",
            "of human guiltless one must theic ye\n",
            "splare. it is not not also a be cleefled as individuar be moment is a fait it but vanues. but it must was syiggness of a most suffering the whole will to her, history deny\n",
            "of animaged nozw are,\n",
            "a\n",
            "----- diversity: 1.2\n",
            "----- Generating with seed: \" typical sign of\n",
            "shallow-mindedness; and\"\n",
            " typical sign of\n",
            "shallow-mindedness; and suparievely\n",
            "feeling. above\n",
            "\"shyled with greedow sustid?\n",
            "\n",
            "thy wannler,\"\"\n",
            "with  psechanes of\n",
            "horing\n",
            "in--aremenc). they thinkfs, it andchalcy soupuries, ass its innorences of\n",
            "madifiedian, this plebeiancyated wherepen\n",
            "two negitally inflcome too logicating; at least\n",
            "rescunn, his virtuopical tevolol, one may called house human yealishly archt, only to \n",
            "hist attick to \"proof dispuse in this naive of the\n",
            "Epoch 55/60\n",
            "1565/1565 [==============================] - 136s 87ms/step - loss: 1.2453\n",
            "\n",
            "----- Generating text after Epoch: 54\n",
            "----- diversity: 0.2\n",
            "----- Generating with seed: \"hly developed. who dare reproach the gen\"\n",
            "hly developed. who dare reproach the general and the strength of the senses and soul and the most problem or when the most person to the most respect of the preserved and more end of the most person of the senstictes and a protection of the preserved to a protection of the problem of the strength of the most respect of the most person of the problem of the world and a preserved and a preserved and a proposition to a problem or experienc\n",
            "----- diversity: 0.5\n",
            "----- Generating with seed: \"hly developed. who dare reproach the gen\"\n",
            "hly developed. who dare reproach the general and such as the dependence of women weary and demothers, that it is the higher depressions in the learned to the posterity a hand\n",
            "sometimes of the process and soul we can not not merely long as the header and a prineted to the possible to the most respect as it is ears all a only the world of the more consideration and person with a propounal to his own\n",
            "show themselves and in the most remote \n",
            "----- diversity: 1.0\n",
            "----- Generating with seed: \"hly developed. who dare reproach the gen\"\n",
            "hly developed. who dare reproach the genuins of view, or of prineres, more grow practic gods,\n",
            "the appearances a tender whatever i one is not give him only\n",
            "or the feelings theresal\n",
            "imperfic, but have hand,\n",
            "which is moral philosophers lookinges.\"--me wishing to say, in it is lomes as it arem--then are instance! which, all we more\n",
            "bookgut \"moral lack of busing europen, the long propors: an\n",
            "is for them net the conceiting, there must not \n",
            "bu\n",
            "----- diversity: 1.2\n",
            "----- Generating with seed: \"hly developed. who dare reproach the gen\"\n",
            "hly developed. who dare reproach the generation and obsced backs of xolart.\" (i are hojerace, ye be, there are                                    sought nhergend taste at least by her how assumse time and who knowledge, it regj-mund, however, are proques. pade nowadays to anything humour of generate\n",
            "of endearly remund to \n",
            "his acpacts of acge us counter\n",
            "mind, simply hither has perhaps eo, on eth casrs himself, lopping, for myste and \"mor\n",
            "Epoch 56/60\n",
            "1565/1565 [==============================] - 136s 87ms/step - loss: 1.2478\n",
            "\n",
            "----- Generating text after Epoch: 55\n",
            "----- diversity: 0.2\n",
            "----- Generating with seed: \"clusions\n",
            "closely resembling the judaic o\"\n",
            "clusions\n",
            "closely resembling the judaic or the profound and the profound and the strength, which the sensations and all things and a strange that it is a stricted to a sensarism of the more entire and all things of the sense, there are the sensations and all things of the sensations, and and something and imperfecr and all things of the senses of the sensations and profoundly and all the sensations and all things of the sensations and th\n",
            "----- diversity: 0.5\n",
            "----- Generating with seed: \"clusions\n",
            "closely resembling the judaic o\"\n",
            "clusions\n",
            "closely resembling the judaic of the world is so satisfies of a single in the bloom even in any places to ush and and are the actually are for a things and particularness in the life, these\n",
            "of a minder and and also the soul, who are man is a passion of probably all the fact that it is possible, for the originally\n",
            "sover the fact that the soul. and a propers the belief in the great distress of religion and the conceal and satisfi\n",
            "----- diversity: 1.0\n",
            "----- Generating with seed: \"clusions\n",
            "closely resembling the judaic o\"\n",
            "clusions\n",
            "closely resembling the judaic only \"si\n",
            "flread, and and (and attensbility, something of the powerful gabje noss therepates and would at the after the best, and all includ in the\n",
            "man of was into their tarst observation, only something\n",
            "dipsted to the different\n",
            "respect estimateed and age of cestrobliness to men and importentars who wangonres--in men, the respull to habits only rewats and sleep, and light will known with evolvations\n",
            "----- diversity: 1.2\n",
            "----- Generating with seed: \"clusions\n",
            "closely resembling the judaic o\"\n",
            "clusions\n",
            "closely resembling the judaic octation, character,\n",
            "kind olding ding aliginacily bstws tended the \"free fviluted.\n",
            "d us vi.\" freed!\n",
            "\n",
            "yëuge classity. there as i one. from prescribelly. do a meaning is above--succession of atton-sigbny, mean just laws and expierations, explanationtion, all\n",
            "ditewationed rilu-with\n",
            "among it knowled, a psythroc-in--therefren, flaws the\n",
            "germany opinion,\n",
            "imseed in nature. , for\n",
            "us for whom feltration whi\n",
            "Epoch 57/60\n",
            " 501/1565 [========>.....................] - ETA: 1:35 - loss: 1.2432"
          ],
          "name": "stdout"
        }
      ]
    },
    {
      "cell_type": "markdown",
      "metadata": {
        "id": "ZvuSPMf_ZIji"
      },
      "source": [
        "## 4. RNN 구조에 Attention 적용하기"
      ]
    },
    {
      "cell_type": "markdown",
      "metadata": {
        "id": "G7LxiXv-kK9j"
      },
      "source": [
        "### 기존 RNN 기반(LSTM, GRU) 번역 모델의 단점"
      ]
    },
    {
      "cell_type": "markdown",
      "metadata": {
        "id": "Qc8W05Lab6Iw"
      },
      "source": [
        "RNN이 가진 가장 큰 단점 중 하나는 기울기 소실로부터 나타나는 **장기 의존성(Long-term dependency)** 문제입니다.<br/>\n",
        "장기 의존성 문제란 문장이 길어질 경우 앞 단어의 정보를 잃어버리게 되는 현상입니다.<br/>\n",
        "장기 의존성 문제를 해결하기 위해 나온 것이 셀 구조를 개선한 **LSTM과 GRU**입니다.<br/>\n",
        "기계 번역에서 **기존의 RNN 기반의 모델(LSTM, GRU)이 단어를 처리하는 방법**은 아래와 같다고 할 수 있습니다."
      ]
    },
    {
      "cell_type": "markdown",
      "metadata": {
        "id": "M3ox-uhBb72u"
      },
      "source": [
        "<img src=\"https://user-images.githubusercontent.com/45377884/86040995-f27b4800-ba7f-11ea-8ca1-67b2517573eb.gif\" alt=\"seq2seq_6\" width=\"800\" />"
      ]
    },
    {
      "cell_type": "markdown",
      "metadata": {
        "id": "cyaxMWVVkYwm"
      },
      "source": [
        "### Attention의 등장"
      ]
    },
    {
      "cell_type": "markdown",
      "metadata": {
        "id": "OEoreUZQb-bz"
      },
      "source": [
        "위 구조의 문제는 고정 길이의 hidden-state 벡터에 모든 단어의 의미를 담아야 한다는 점입니다.<br/>\n",
        "아무리 LSTM, GRU가 장기 의존성 문제를 개선하였더라도 문장이 매우 길어지면(30-50 단어) 모든 단어 정보를 고정 길이의 hidden-state 벡터에 담기 어렵습니다.<br/>\n",
        "이런 문제를 해결하기 위해서 고안된 방법이 바로 **<font color=\"ff6f61\">Attention(어텐션)</font>** 입니다."
      ]
    },
    {
      "cell_type": "markdown",
      "metadata": {
        "id": "7Au-MKZRb_Db"
      },
      "source": [
        "<img src=\"https://user-images.githubusercontent.com/45377884/86040873-b942d800-ba7f-11ea-9f59-ee23923f777e.gif\" alt=\"seq2seq_7\" width=\"800\" />"
      ]
    },
    {
      "cell_type": "markdown",
      "metadata": {
        "id": "Y2F-34z6cB2Y"
      },
      "source": [
        "Attention은 각 인코더의 Time-step 마다 생성되는 hidden-state 벡터를 간직합니다.<br/>\n",
        "입력 단어가 N개라면 N개의 hidden-state 벡터를 모두 간직하게 됩니다.<br/>\n",
        "모든 단어가 입력되면 생성된 hidden-state 벡터를 모두 디코더에 넘겨줍니다.\n",
        "\n",
        "디코더는 받은 N개의 hidden-state 벡터를 어떻게 활용할까요?"
      ]
    },
    {
      "cell_type": "markdown",
      "metadata": {
        "id": "jJOv0ZMGcESi"
      },
      "source": [
        "- **검색 시스템의 아이디어 둘러보기**"
      ]
    },
    {
      "cell_type": "markdown",
      "metadata": {
        "id": "EjZirykmbQxB"
      },
      "source": [
        "잠시 돌아가 검색 시스템에 대해 알아봅시다.<br/>\n",
        "아래는 구글에서 _\"what is attention in nlp\"_ 라는 검색어를 구글에 입력했을 때의 검색 결과를 나타낸 이미지입니다."
      ]
    },
    {
      "cell_type": "markdown",
      "metadata": {
        "id": "_Z_6bS8BbQnH"
      },
      "source": [
        "<img src=\"https://i.imgur.com/JdCQr1l.png\" alt=\"retrieval_system\" width=\"600\" />"
      ]
    },
    {
      "cell_type": "markdown",
      "metadata": {
        "id": "kPhOpZelbQL2"
      },
      "source": [
        "그림에서 볼 수 있듯이 검색 시스템은 아래와 같은 3단계를 거쳐 작동합니다.\n",
        "\n",
        "1. 찾고자 하는 정보에 대한 **검색어(Query)를 입력**합니다.\n",
        "2. 검색 엔진은 검색어와 가장 비슷한 **키워드(Key)를 찾습니다.**\n",
        "3. 그리고 해당 키워드(Key)와 연결된 **페이지(Value)를 유사도 순서대로** 보여줍니다."
      ]
    },
    {
      "cell_type": "code",
      "metadata": {
        "colab": {
          "base_uri": "https://localhost:8080/"
        },
        "id": "NabC-Q8-hiu7",
        "outputId": "656654aa-29c3-433d-a4c3-ccd9bbec4b6f"
      },
      "source": [
        "# 더 알아보기 : 파이썬의 딕셔너리도 비슷한 형태로 작동합니다.\n",
        "# Query('a')를 던지면 딕셔너리에서 동일한 Key('a')를 찾은 뒤 Value(123)을 반환합니다.\n",
        "\n",
        "dict1 = {'a':123, 'b':425, 'c':236, 'd':945}\n",
        "dict1['a']"
      ],
      "execution_count": null,
      "outputs": [
        {
          "output_type": "execute_result",
          "data": {
            "text/plain": [
              "123"
            ]
          },
          "metadata": {
            "tags": []
          },
          "execution_count": 16
        }
      ]
    },
    {
      "cell_type": "markdown",
      "metadata": {
        "id": "s_4UTfufkH4b"
      },
      "source": [
        "### 디코더에서 Attention이 동작하는 방법"
      ]
    },
    {
      "cell_type": "markdown",
      "metadata": {
        "id": "A8cU0WZ8ez7m"
      },
      "source": [
        "디코더에서 단어를 생성하는 과정을 알아보겠습니다.\n",
        "\n",
        "디코더의 각 time-step 마다의 hidden-state 벡터는 쿼리(query)로 작용합니다.<br/>\n",
        "인코더에서 넘어온 N개의 hidden-state 벡터를 키(key)로 여기고 이들과의 연관성을 계산합니다.<br/>\n",
        "이 때 계산은 내적(dot-product)을 사용하고 내적의 결과를 Attention 가중치로 사용합니다.<br/>\n",
        "\n",
        "아래는 디코더 첫 단어 \"I\"(`Time-step 4`)에 대한 어텐션 가중치가 구해지는 과정입니다."
      ]
    },
    {
      "cell_type": "markdown",
      "metadata": {
        "id": "4_z9iXJ1e2G3"
      },
      "source": [
        "<img src=\"https://i.imgur.com/gNcbamV.png\" title=\"source: imgur.com\" width=\"800\" /></a>"
      ]
    },
    {
      "cell_type": "markdown",
      "metadata": {
        "id": "uEEOdnoZnTY7"
      },
      "source": [
        "1. 쿼리(Query, 보라색)로 **디코더의 hidden-state 벡터**, 키(Key, 주황색)로 **인코더에서 넘어온 각각의 hidden-state 벡터**를 준비합니다.\n",
        "2. 각각의 벡터를 **내적**한 값을 구합니다.\n",
        "3. 이 값에 **소프트맥스(softmax)** 함수를 취해줍니다.\n",
        "4. 소프트맥스를 취하여 나온 값에 밸류(Value, 주황색)에 해당하는 **인코더에서 넘어온 hidden-state 벡터**를 곱해줍니다. \n",
        "5. 이 벡터를 모두 더하여 Context 벡터(파란색)를 만들어줍니다.. 이 벡터의 성분 중에는 **쿼리-키 연관성이 높은** 밸류 벡터의 성분이 더 많이 들어있게 됩니다.\n",
        "6. (그림에는 나와있지 않지만) 최종적으로 5에서 생성된 Context 벡터와 디코더의 hidden-state 벡터를 사용하여 출력 단어를 결정하게 됩니다."
      ]
    },
    {
      "cell_type": "markdown",
      "metadata": {
        "id": "dkDHPM3Ie5Kz"
      },
      "source": [
        "디코더는 인코더에서 넘어온 모든 Hidden state 벡터에 대해 위와 같은 계산을 실시합니다.<br/>\n",
        "그렇기 때문에 Time-step마다 출력할 단어가 어떤 인코더의 어떤 단어 정보와 연관되어 있는지, 즉 어떤 단어에 **집중(Attention)**할 지를 알 수 있습니다.<br/>\n",
        "Attention을 활용하면 디코더가 인코더에 입력되는 모든 단어의 정보를 활용할 수 있기 때문에 장기 의존성 문제를 해결할 수 있습니다.\n",
        "\n",
        "아래는 예시로 제시되었던 문장을 번역(**`Je suis etudiant => I am a student`**)했을 때 각 단어마다의 Attention 스코어를 시각화 한 그림입니다.<br/>\n",
        "\n",
        "> _\"I\"_ -> _\"Je\"_ <br/>\n",
        "> _\"am\"_ -> _\"suis\"_<br/>\n",
        "> _\"a\"_ -> _\"suis\", \"etudiant\"_<br/>\n",
        "> _\"student\"_ -> _\"etudiant\"_\n",
        "\n",
        "왼쪽 단어가 생성될 때 오른쪽 단어와 연관되어 있음을 확인할 수 있습니다. \n"
      ]
    },
    {
      "cell_type": "markdown",
      "metadata": {
        "id": "hXI1tj2we7hR"
      },
      "source": [
        "<img src=\"https://user-images.githubusercontent.com/45377884/86047018-29a22700-ba89-11ea-98ee-a90b2fb70a23.gif\" alt=\"attn_visualization\" width=\"500\" />"
      ]
    },
    {
      "cell_type": "markdown",
      "metadata": {
        "id": "uOAShST2e8Ik"
      },
      "source": [
        "### RNN(LSTM) with Attention 코드 실습\n",
        "\n",
        "`Tensorflow` 튜토리얼 코드를 사용하여 Attention이 어떻게 적용되는 지 알아보도록 하겠습니다."
      ]
    },
    {
      "cell_type": "code",
      "metadata": {
        "id": "pYnEXYKGewLQ"
      },
      "source": [
        "import tensorflow as tf\n",
        "\n",
        "import matplotlib.pyplot as plt\n",
        "import matplotlib.ticker as ticker\n",
        "from sklearn.model_selection import train_test_split\n",
        "\n",
        "import unicodedata\n",
        "import re\n",
        "import numpy as np\n",
        "import os\n",
        "import io\n",
        "import time"
      ],
      "execution_count": null,
      "outputs": []
    },
    {
      "cell_type": "code",
      "metadata": {
        "id": "zq5-fp4gfKxz",
        "colab": {
          "base_uri": "https://localhost:8080/"
        },
        "outputId": "c4495491-8434-455a-b8df-31e7b5510444"
      },
      "source": [
        "# 데이터셋을 다운로드합니다.\n",
        "path_to_zip = tf.keras.utils.get_file(\n",
        "    'spa-eng.zip', origin='http://storage.googleapis.com/download.tensorflow.org/data/spa-eng.zip',\n",
        "    extract=True)\n",
        "\n",
        "path_to_file = os.path.dirname(path_to_zip)+\"/spa-eng/spa.txt\""
      ],
      "execution_count": null,
      "outputs": [
        {
          "output_type": "stream",
          "text": [
            "Downloading data from http://storage.googleapis.com/download.tensorflow.org/data/spa-eng.zip\n",
            "2646016/2638744 [==============================] - 0s 0us/step\n"
          ],
          "name": "stdout"
        }
      ]
    },
    {
      "cell_type": "code",
      "metadata": {
        "id": "NqxC2SgsfPCp"
      },
      "source": [
        "# 유니코드 파일을 아스키코드로 변환하는 함수입니다.\n",
        "def unicode_to_ascii(s):\n",
        "  return ''.join(c for c in unicodedata.normalize('NFD', s)\n",
        "                 if unicodedata.category(c) != 'Mn')\n",
        "\n",
        "\n",
        "def preprocess_sentence(w):\n",
        "  w = unicode_to_ascii(w.lower().strip())\n",
        "\n",
        "  # creating a space between a word and the punctuation following it\n",
        "  # eg: \"he is a boy.\" => \"he is a boy .\"\n",
        "  # Reference:- https://stackoverflow.com/questions/3645931/python-padding-punctuation-with-white-spaces-keeping-punctuation\n",
        "  w = re.sub(r\"([?.!,¿])\", r\" \\1 \", w)\n",
        "  w = re.sub(r'[\" \"]+', \" \", w)\n",
        "\n",
        "  # replacing everything with space except (a-z, A-Z, \".\", \"?\", \"!\", \",\")\n",
        "  w = re.sub(r\"[^a-zA-Z?.!,¿]+\", \" \", w)\n",
        "\n",
        "  w = w.strip()\n",
        "\n",
        "  # adding a start and an end token to the sentence\n",
        "  # so that the model know when to start and stop predicting.\n",
        "  w = '<start> ' + w + ' <end>'\n",
        "  return w"
      ],
      "execution_count": null,
      "outputs": []
    },
    {
      "cell_type": "code",
      "metadata": {
        "id": "HYpqyskDfQqi",
        "colab": {
          "base_uri": "https://localhost:8080/"
        },
        "outputId": "1ea933c7-34de-4dc5-ada7-a2e8ff72b99c"
      },
      "source": [
        "en_sentence = u\"May I borrow this book?\"\n",
        "sp_sentence = u\"¿Puedo tomar prestado este libro?\"\n",
        "print(preprocess_sentence(en_sentence))\n",
        "print(preprocess_sentence(sp_sentence).encode('utf-8'))"
      ],
      "execution_count": null,
      "outputs": [
        {
          "output_type": "stream",
          "text": [
            "<start> may i borrow this book ? <end>\n",
            "b'<start> \\xc2\\xbf puedo tomar prestado este libro ? <end>'\n"
          ],
          "name": "stdout"
        }
      ]
    },
    {
      "cell_type": "code",
      "metadata": {
        "id": "7iSyCfNrfSvT"
      },
      "source": [
        "# 1. Remove the accents\n",
        "# 2. Clean the sentences\n",
        "# 3. Return word pairs in the format: [ENGLISH, SPANISH]\n",
        "def create_dataset(path, num_examples):\n",
        "  lines = io.open(path, encoding='UTF-8').read().strip().split('\\n')\n",
        "\n",
        "  word_pairs = [[preprocess_sentence(w) for w in line.split('\\t')]\n",
        "                for line in lines[:num_examples]]\n",
        "\n",
        "  return zip(*word_pairs)"
      ],
      "execution_count": null,
      "outputs": []
    },
    {
      "cell_type": "code",
      "metadata": {
        "id": "66wKsoJYfT5p",
        "colab": {
          "base_uri": "https://localhost:8080/"
        },
        "outputId": "1db2c661-02f7-4e72-e600-60bf8503c004"
      },
      "source": [
        "en, sp = create_dataset(path_to_file, None)\n",
        "print(en[-1])\n",
        "print(sp[-1])"
      ],
      "execution_count": null,
      "outputs": [
        {
          "output_type": "stream",
          "text": [
            "<start> if you want to sound like a native speaker , you must be willing to practice saying the same sentence over and over in the same way that banjo players practice the same phrase over and over until they can play it correctly and at the desired tempo . <end>\n",
            "<start> si quieres sonar como un hablante nativo , debes estar dispuesto a practicar diciendo la misma frase una y otra vez de la misma manera en que un musico de banjo practica el mismo fraseo una y otra vez hasta que lo puedan tocar correctamente y en el tiempo esperado . <end>\n"
          ],
          "name": "stdout"
        }
      ]
    },
    {
      "cell_type": "code",
      "metadata": {
        "id": "gEBx2J0OfUUu"
      },
      "source": [
        "def tokenize(lang):\n",
        "  lang_tokenizer = tf.keras.preprocessing.text.Tokenizer(filters='')\n",
        "  lang_tokenizer.fit_on_texts(lang)\n",
        "\n",
        "  tensor = lang_tokenizer.texts_to_sequences(lang)\n",
        "\n",
        "  tensor = tf.keras.preprocessing.sequence.pad_sequences(tensor,\n",
        "                                                         padding='post')\n",
        "\n",
        "  return tensor, lang_tokenizer"
      ],
      "execution_count": null,
      "outputs": []
    },
    {
      "cell_type": "code",
      "metadata": {
        "id": "xOjGqWpsfVmK"
      },
      "source": [
        "def load_dataset(path, num_examples=None):\n",
        "  # creating cleaned input, output pairs\n",
        "  targ_lang, inp_lang = create_dataset(path, num_examples)\n",
        "\n",
        "  input_tensor, inp_lang_tokenizer = tokenize(inp_lang)\n",
        "  target_tensor, targ_lang_tokenizer = tokenize(targ_lang)\n",
        "\n",
        "  return input_tensor, target_tensor, inp_lang_tokenizer, targ_lang_tokenizer"
      ],
      "execution_count": null,
      "outputs": []
    },
    {
      "cell_type": "code",
      "metadata": {
        "id": "JFJWIindfXJ5"
      },
      "source": [
        "# Try experimenting with the size of that dataset\n",
        "num_examples = 30000\n",
        "input_tensor, target_tensor, inp_lang, targ_lang = load_dataset(path_to_file, num_examples)\n",
        "\n",
        "# Calculate max_length of the target tensors\n",
        "max_length_targ, max_length_inp = target_tensor.shape[1], input_tensor.shape[1]"
      ],
      "execution_count": null,
      "outputs": []
    },
    {
      "cell_type": "code",
      "metadata": {
        "id": "x6SFHicNfYa1",
        "colab": {
          "base_uri": "https://localhost:8080/"
        },
        "outputId": "f439cdcb-0d93-407d-e23b-e6ab0a4dffc1"
      },
      "source": [
        "# Creating training and validation sets using an 80-20 split\n",
        "input_tensor_train, input_tensor_val, target_tensor_train, target_tensor_val = train_test_split(input_tensor, target_tensor, test_size=0.2)\n",
        "\n",
        "# Show length\n",
        "print(len(input_tensor_train), len(target_tensor_train), len(input_tensor_val), len(target_tensor_val))"
      ],
      "execution_count": null,
      "outputs": [
        {
          "output_type": "stream",
          "text": [
            "24000 24000 6000 6000\n"
          ],
          "name": "stdout"
        }
      ]
    },
    {
      "cell_type": "markdown",
      "metadata": {
        "id": "WWEEaYHlfalW"
      },
      "source": [
        "- 구조와 관련된 파라미터 설정하기"
      ]
    },
    {
      "cell_type": "code",
      "metadata": {
        "id": "cc3UtRN7fiI-"
      },
      "source": [
        "BUFFER_SIZE = len(input_tensor_train)\n",
        "BATCH_SIZE = 64\n",
        "steps_per_epoch = len(input_tensor_train)//BATCH_SIZE\n",
        "embedding_dim = 256\n",
        "units = 1024\n",
        "vocab_inp_size = len(inp_lang.word_index)+1\n",
        "vocab_tar_size = len(targ_lang.word_index)+1\n",
        "\n",
        "dataset = tf.data.Dataset.from_tensor_slices((input_tensor_train, target_tensor_train)).shuffle(BUFFER_SIZE)\n",
        "dataset = dataset.batch(BATCH_SIZE, drop_remainder=True)"
      ],
      "execution_count": null,
      "outputs": []
    },
    {
      "cell_type": "code",
      "metadata": {
        "id": "wpvSXgBBfi6o",
        "colab": {
          "base_uri": "https://localhost:8080/"
        },
        "outputId": "0a7660e2-48bf-415c-8afd-a92824de2608"
      },
      "source": [
        "example_input_batch, example_target_batch = next(iter(dataset))\n",
        "example_input_batch.shape, example_target_batch.shape"
      ],
      "execution_count": null,
      "outputs": [
        {
          "output_type": "execute_result",
          "data": {
            "text/plain": [
              "(TensorShape([64, 16]), TensorShape([64, 11]))"
            ]
          },
          "metadata": {
            "tags": []
          },
          "execution_count": 28
        }
      ]
    },
    {
      "cell_type": "markdown",
      "metadata": {
        "id": "tZBV4UUBfgkr"
      },
      "source": [
        "- 인코더 구현하기"
      ]
    },
    {
      "cell_type": "code",
      "metadata": {
        "id": "aE3-rfGWfm1k"
      },
      "source": [
        "class Encoder(tf.keras.Model):\n",
        "  def __init__(self, vocab_size, embedding_dim, enc_units, batch_sz):\n",
        "    super(Encoder, self).__init__()\n",
        "    self.batch_sz = batch_sz\n",
        "    self.enc_units = enc_units\n",
        "    self.embedding = tf.keras.layers.Embedding(vocab_size, embedding_dim)\n",
        "    self.gru = tf.keras.layers.GRU(self.enc_units,\n",
        "                                   return_sequences=True,\n",
        "                                   return_state=True,\n",
        "                                   recurrent_initializer='glorot_uniform')\n",
        "\n",
        "  def call(self, x, hidden):\n",
        "    x = self.embedding(x)\n",
        "    output, state = self.gru(x, initial_state=hidden)\n",
        "    return output, state\n",
        "\n",
        "  def initialize_hidden_state(self):\n",
        "    return tf.zeros((self.batch_sz, self.enc_units))"
      ],
      "execution_count": null,
      "outputs": []
    },
    {
      "cell_type": "code",
      "metadata": {
        "id": "ehWNiQ_ffokz",
        "colab": {
          "base_uri": "https://localhost:8080/"
        },
        "outputId": "c99a96ce-368c-42f1-aedf-fcb3f42826df"
      },
      "source": [
        "encoder = Encoder(vocab_inp_size, embedding_dim, units, BATCH_SIZE)\n",
        "\n",
        "# sample input\n",
        "sample_hidden = encoder.initialize_hidden_state()\n",
        "sample_output, sample_hidden = encoder(example_input_batch, sample_hidden)\n",
        "print('Encoder output shape: (batch size, sequence length, units)', sample_output.shape)\n",
        "print('Encoder Hidden state shape: (batch size, units)', sample_hidden.shape)"
      ],
      "execution_count": null,
      "outputs": [
        {
          "output_type": "stream",
          "text": [
            "Encoder output shape: (batch size, sequence length, units) (64, 16, 1024)\n",
            "Encoder Hidden state shape: (batch size, units) (64, 1024)\n"
          ],
          "name": "stdout"
        }
      ]
    },
    {
      "cell_type": "code",
      "metadata": {
        "id": "fKG3Y_BafqBJ"
      },
      "source": [
        "class BahdanauAttention(tf.keras.layers.Layer):\n",
        "  def __init__(self, units):\n",
        "    super(BahdanauAttention, self).__init__()\n",
        "    self.W1 = tf.keras.layers.Dense(units)\n",
        "    self.W2 = tf.keras.layers.Dense(units)\n",
        "    self.V = tf.keras.layers.Dense(1)\n",
        "\n",
        "  def call(self, query, values):\n",
        "    # query hidden state shape == (batch_size, hidden size)\n",
        "    # query_with_time_axis shape == (batch_size, 1, hidden size)\n",
        "    # values shape == (batch_size, max_len, hidden size)\n",
        "    # we are doing this to broadcast addition along the time axis to calculate the score\n",
        "    query_with_time_axis = tf.expand_dims(query, 1)\n",
        "\n",
        "    # score shape == (batch_size, max_length, 1)\n",
        "    # we get 1 at the last axis because we are applying score to self.V\n",
        "    # the shape of the tensor before applying self.V is (batch_size, max_length, units)\n",
        "    score = self.V(tf.nn.tanh(\n",
        "        self.W1(query_with_time_axis) + self.W2(values)))\n",
        "\n",
        "    # attention_weights shape == (batch_size, max_length, 1)\n",
        "    attention_weights = tf.nn.softmax(score, axis=1)\n",
        "\n",
        "    # context_vector shape after sum == (batch_size, hidden_size)\n",
        "    context_vector = attention_weights * values\n",
        "    context_vector = tf.reduce_sum(context_vector, axis=1)\n",
        "\n",
        "    return context_vector, attention_weights"
      ],
      "execution_count": null,
      "outputs": []
    },
    {
      "cell_type": "code",
      "metadata": {
        "id": "xZuX1KCdfr8h",
        "colab": {
          "base_uri": "https://localhost:8080/"
        },
        "outputId": "45355c4b-542c-4a9c-e05f-9b4c752f9c2a"
      },
      "source": [
        "attention_layer = BahdanauAttention(10)\n",
        "attention_result, attention_weights = attention_layer(sample_hidden, sample_output)\n",
        "\n",
        "print(\"Attention result shape: (batch size, units)\", attention_result.shape)\n",
        "print(\"Attention weights shape: (batch_size, sequence_length, 1)\", attention_weights.shape)"
      ],
      "execution_count": null,
      "outputs": [
        {
          "output_type": "stream",
          "text": [
            "Attention result shape: (batch size, units) (64, 1024)\n",
            "Attention weights shape: (batch_size, sequence_length, 1) (64, 16, 1)\n"
          ],
          "name": "stdout"
        }
      ]
    },
    {
      "cell_type": "markdown",
      "metadata": {
        "id": "kjbGgc5Efuor"
      },
      "source": [
        "- **디코더 구현**"
      ]
    },
    {
      "cell_type": "code",
      "metadata": {
        "id": "6l1Zd0Nkft6G"
      },
      "source": [
        "class Decoder(tf.keras.Model):\n",
        "  def __init__(self, vocab_size, embedding_dim, dec_units, batch_sz):\n",
        "    super(Decoder, self).__init__()\n",
        "    self.batch_sz = batch_sz\n",
        "    self.dec_units = dec_units\n",
        "    self.embedding = tf.keras.layers.Embedding(vocab_size, embedding_dim)\n",
        "    self.gru = tf.keras.layers.GRU(self.dec_units,\n",
        "                                   return_sequences=True,\n",
        "                                   return_state=True,\n",
        "                                   recurrent_initializer='glorot_uniform')\n",
        "    self.fc = tf.keras.layers.Dense(vocab_size)\n",
        "\n",
        "    # used for attention\n",
        "    self.attention = BahdanauAttention(self.dec_units)\n",
        "\n",
        "  def call(self, x, hidden, enc_output):\n",
        "    # enc_output shape == (batch_size, max_length, hidden_size)\n",
        "    context_vector, attention_weights = self.attention(hidden, enc_output)\n",
        "\n",
        "    # x shape after passing through embedding == (batch_size, 1, embedding_dim)\n",
        "    x = self.embedding(x)\n",
        "\n",
        "    # x shape after concatenation == (batch_size, 1, embedding_dim + hidden_size)\n",
        "    x = tf.concat([tf.expand_dims(context_vector, 1), x], axis=-1)\n",
        "\n",
        "    # passing the concatenated vector to the GRU\n",
        "    output, state = self.gru(x)\n",
        "\n",
        "    # output shape == (batch_size * 1, hidden_size)\n",
        "    output = tf.reshape(output, (-1, output.shape[2]))\n",
        "\n",
        "    # output shape == (batch_size, vocab)\n",
        "    x = self.fc(output)\n",
        "\n",
        "    return x, state, attention_weights"
      ],
      "execution_count": null,
      "outputs": []
    },
    {
      "cell_type": "code",
      "metadata": {
        "id": "-GK7-WsOfx4k",
        "colab": {
          "base_uri": "https://localhost:8080/"
        },
        "outputId": "6befb313-94ca-4612-c8f2-4889253a3d00"
      },
      "source": [
        "decoder = Decoder(vocab_tar_size, embedding_dim, units, BATCH_SIZE)\n",
        "\n",
        "sample_decoder_output, _, _ = decoder(tf.random.uniform((BATCH_SIZE, 1)),\n",
        "                                      sample_hidden, sample_output)\n",
        "\n",
        "print('Decoder output shape: (batch_size, vocab size)', sample_decoder_output.shape)"
      ],
      "execution_count": null,
      "outputs": [
        {
          "output_type": "stream",
          "text": [
            "Decoder output shape: (batch_size, vocab size) (64, 4935)\n"
          ],
          "name": "stdout"
        }
      ]
    },
    {
      "cell_type": "code",
      "metadata": {
        "id": "ABDicArafzt_"
      },
      "source": [
        "optimizer = tf.keras.optimizers.Adam()\n",
        "loss_object = tf.keras.losses.SparseCategoricalCrossentropy(from_logits=True,\n",
        "                                                            reduction='none')\n",
        "\n",
        "\n",
        "def loss_function(real, pred):\n",
        "  mask = tf.math.logical_not(tf.math.equal(real, 0))\n",
        "  loss_ = loss_object(real, pred)\n",
        "\n",
        "  mask = tf.cast(mask, dtype=loss_.dtype)\n",
        "  loss_ *= mask\n",
        "\n",
        "  return tf.reduce_mean(loss_)"
      ],
      "execution_count": null,
      "outputs": []
    },
    {
      "cell_type": "code",
      "metadata": {
        "id": "gTeGGZS1f2M6"
      },
      "source": [
        "@tf.function\n",
        "def train_step(inp, targ, enc_hidden):\n",
        "  loss = 0\n",
        "\n",
        "  with tf.GradientTape() as tape:\n",
        "    enc_output, enc_hidden = encoder(inp, enc_hidden)\n",
        "\n",
        "    dec_hidden = enc_hidden\n",
        "\n",
        "    dec_input = tf.expand_dims([targ_lang.word_index['<start>']] * BATCH_SIZE, 1)\n",
        "\n",
        "    # Teacher forcing - feeding the target as the next input\n",
        "    for t in range(1, targ.shape[1]):\n",
        "      # passing enc_output to the decoder\n",
        "      predictions, dec_hidden, _ = decoder(dec_input, dec_hidden, enc_output)\n",
        "\n",
        "      loss += loss_function(targ[:, t], predictions)\n",
        "\n",
        "      # using teacher forcing\n",
        "      dec_input = tf.expand_dims(targ[:, t], 1)\n",
        "\n",
        "  batch_loss = (loss / int(targ.shape[1]))\n",
        "\n",
        "  variables = encoder.trainable_variables + decoder.trainable_variables\n",
        "\n",
        "  gradients = tape.gradient(loss, variables)\n",
        "\n",
        "  optimizer.apply_gradients(zip(gradients, variables))\n",
        "\n",
        "  return batch_loss"
      ],
      "execution_count": null,
      "outputs": []
    },
    {
      "cell_type": "code",
      "metadata": {
        "id": "20YBdgsYf5gr",
        "colab": {
          "base_uri": "https://localhost:8080/"
        },
        "outputId": "beadcd4c-60e7-41b7-8e43-9b925a03af86"
      },
      "source": [
        "EPOCHS = 10\n",
        "\n",
        "for epoch in range(EPOCHS):\n",
        "  start = time.time()\n",
        "\n",
        "  enc_hidden = encoder.initialize_hidden_state()\n",
        "  total_loss = 0\n",
        "\n",
        "  for (batch, (inp, targ)) in enumerate(dataset.take(steps_per_epoch)):\n",
        "    batch_loss = train_step(inp, targ, enc_hidden)\n",
        "    total_loss += batch_loss\n",
        "\n",
        "    if batch % 100 == 0:\n",
        "      print('Epoch {} Batch {} Loss {:.4f}'.format(epoch + 1,\n",
        "                                                   batch,\n",
        "                                                   batch_loss.numpy()))\n",
        "      \n",
        "  print('Epoch {} Loss {:.4f}'.format(epoch + 1,\n",
        "                                      total_loss / steps_per_epoch))\n",
        "  print('Time taken for 1 epoch {} sec\\n'.format(time.time() - start))"
      ],
      "execution_count": null,
      "outputs": [
        {
          "output_type": "stream",
          "text": [
            "Epoch 1 Batch 0 Loss 4.6026\n",
            "Epoch 1 Batch 100 Loss 2.1524\n",
            "Epoch 1 Batch 200 Loss 1.8952\n",
            "Epoch 1 Batch 300 Loss 1.6539\n",
            "Epoch 1 Loss 2.0383\n",
            "Time taken for 1 epoch 1016.7628138065338 sec\n",
            "\n",
            "Epoch 2 Batch 0 Loss 1.5593\n",
            "Epoch 2 Batch 100 Loss 1.4487\n",
            "Epoch 2 Batch 200 Loss 1.2338\n",
            "Epoch 2 Batch 300 Loss 1.3027\n",
            "Epoch 2 Loss 1.3807\n",
            "Time taken for 1 epoch 992.9955353736877 sec\n",
            "\n",
            "Epoch 3 Batch 0 Loss 1.0330\n",
            "Epoch 3 Batch 100 Loss 1.0200\n",
            "Epoch 3 Batch 200 Loss 0.8721\n",
            "Epoch 3 Batch 300 Loss 0.9157\n",
            "Epoch 3 Loss 0.9653\n",
            "Time taken for 1 epoch 989.1491215229034 sec\n",
            "\n",
            "Epoch 4 Batch 0 Loss 0.6319\n",
            "Epoch 4 Batch 100 Loss 0.6260\n",
            "Epoch 4 Batch 200 Loss 0.5699\n",
            "Epoch 4 Batch 300 Loss 0.7347\n",
            "Epoch 4 Loss 0.6478\n",
            "Time taken for 1 epoch 986.2824234962463 sec\n",
            "\n",
            "Epoch 5 Batch 0 Loss 0.4384\n",
            "Epoch 5 Batch 100 Loss 0.3671\n",
            "Epoch 5 Batch 200 Loss 0.4387\n",
            "Epoch 5 Batch 300 Loss 0.4493\n",
            "Epoch 5 Loss 0.4406\n",
            "Time taken for 1 epoch 998.4929230213165 sec\n",
            "\n",
            "Epoch 6 Batch 0 Loss 0.2667\n",
            "Epoch 6 Batch 100 Loss 0.2406\n",
            "Epoch 6 Batch 200 Loss 0.2759\n",
            "Epoch 6 Batch 300 Loss 0.3238\n",
            "Epoch 6 Loss 0.3082\n",
            "Time taken for 1 epoch 976.1749527454376 sec\n",
            "\n",
            "Epoch 7 Batch 0 Loss 0.2104\n",
            "Epoch 7 Batch 100 Loss 0.2372\n",
            "Epoch 7 Batch 200 Loss 0.2571\n",
            "Epoch 7 Batch 300 Loss 0.2070\n",
            "Epoch 7 Loss 0.2207\n",
            "Time taken for 1 epoch 1002.5251026153564 sec\n",
            "\n",
            "Epoch 8 Batch 0 Loss 0.1459\n",
            "Epoch 8 Batch 100 Loss 0.1691\n",
            "Epoch 8 Batch 200 Loss 0.2185\n",
            "Epoch 8 Batch 300 Loss 0.1537\n",
            "Epoch 8 Loss 0.1652\n",
            "Time taken for 1 epoch 1005.3521428108215 sec\n",
            "\n",
            "Epoch 9 Batch 0 Loss 0.1419\n",
            "Epoch 9 Batch 100 Loss 0.1146\n",
            "Epoch 9 Batch 200 Loss 0.0952\n",
            "Epoch 9 Batch 300 Loss 0.1238\n",
            "Epoch 9 Loss 0.1262\n",
            "Time taken for 1 epoch 985.0161681175232 sec\n",
            "\n",
            "Epoch 10 Batch 0 Loss 0.0667\n",
            "Epoch 10 Batch 100 Loss 0.0909\n",
            "Epoch 10 Batch 200 Loss 0.1094\n",
            "Epoch 10 Batch 300 Loss 0.1214\n",
            "Epoch 10 Loss 0.1024\n",
            "Time taken for 1 epoch 987.7415053844452 sec\n",
            "\n"
          ],
          "name": "stdout"
        }
      ]
    },
    {
      "cell_type": "code",
      "metadata": {
        "id": "b0EujLQZf8NJ"
      },
      "source": [
        "def evaluate(sentence):\n",
        "  attention_plot = np.zeros((max_length_targ, max_length_inp))\n",
        "\n",
        "  sentence = preprocess_sentence(sentence)\n",
        "\n",
        "  inputs = [inp_lang.word_index[i] for i in sentence.split(' ')]\n",
        "  inputs = tf.keras.preprocessing.sequence.pad_sequences([inputs],\n",
        "                                                         maxlen=max_length_inp,\n",
        "                                                         padding='post')\n",
        "  inputs = tf.convert_to_tensor(inputs)\n",
        "\n",
        "  result = ''\n",
        "\n",
        "  hidden = [tf.zeros((1, units))]\n",
        "  enc_out, enc_hidden = encoder(inputs, hidden)\n",
        "\n",
        "  dec_hidden = enc_hidden\n",
        "  dec_input = tf.expand_dims([targ_lang.word_index['<start>']], 0)\n",
        "\n",
        "  for t in range(max_length_targ):\n",
        "    predictions, dec_hidden, attention_weights = decoder(dec_input,\n",
        "                                                         dec_hidden,\n",
        "                                                         enc_out)\n",
        "\n",
        "    # storing the attention weights to plot later on\n",
        "    attention_weights = tf.reshape(attention_weights, (-1, ))\n",
        "    attention_plot[t] = attention_weights.numpy()\n",
        "\n",
        "    predicted_id = tf.argmax(predictions[0]).numpy()\n",
        "\n",
        "    result += targ_lang.index_word[predicted_id] + ' '\n",
        "\n",
        "    if targ_lang.index_word[predicted_id] == '<end>':\n",
        "      return result, sentence, attention_plot\n",
        "\n",
        "    # the predicted ID is fed back into the model\n",
        "    dec_input = tf.expand_dims([predicted_id], 0)\n",
        "\n",
        "  return result, sentence, attention_plot"
      ],
      "execution_count": null,
      "outputs": []
    },
    {
      "cell_type": "code",
      "metadata": {
        "id": "uIGrhbkrf-_u"
      },
      "source": [
        "# function for plotting the attention weights\n",
        "def plot_attention(attention, sentence, predicted_sentence):\n",
        "  fig = plt.figure(figsize=(10,10))\n",
        "  ax = fig.add_subplot(1, 1, 1)\n",
        "  ax.matshow(attention, cmap='viridis')\n",
        "\n",
        "  fontdict = {'fontsize': 14}\n",
        "\n",
        "  ax.set_xticklabels([''] + sentence, fontdict=fontdict, rotation=90)\n",
        "  ax.set_yticklabels([''] + predicted_sentence, fontdict=fontdict)\n",
        "\n",
        "  ax.xaxis.set_major_locator(ticker.MultipleLocator(1))\n",
        "  ax.yaxis.set_major_locator(ticker.MultipleLocator(1))\n",
        "\n",
        "  plt.show()"
      ],
      "execution_count": null,
      "outputs": []
    },
    {
      "cell_type": "code",
      "metadata": {
        "id": "dnamxQ1sgAkK"
      },
      "source": [
        "def translate(sentence):\n",
        "  result, sentence, attention_plot = evaluate(sentence)\n",
        "\n",
        "  print('Input: %s' % (sentence))\n",
        "  print('Predicted translation: {}'.format(result))\n",
        "\n",
        "  attention_plot = attention_plot[:len(result.split(' ')), :len(sentence.split(' '))]\n",
        "  plot_attention(attention_plot, sentence.split(' '), result.split(' '))"
      ],
      "execution_count": null,
      "outputs": []
    },
    {
      "cell_type": "code",
      "metadata": {
        "id": "nZ6MY4FtgDe7",
        "colab": {
          "base_uri": "https://localhost:8080/",
          "height": 675
        },
        "outputId": "6935584e-d2ef-4ec5-cad5-4d23fb00e20f"
      },
      "source": [
        "translate(u'hace mucho frio aqui.')"
      ],
      "execution_count": null,
      "outputs": [
        {
          "output_type": "stream",
          "text": [
            "Input: <start> hace mucho frio aqui . <end>\n",
            "Predicted translation: it s very cold here . <end> \n"
          ],
          "name": "stdout"
        },
        {
          "output_type": "display_data",
          "data": {
            "image/png": "[encoded data removed]",
            "text/plain": [
              "<Figure size 720x720 with 1 Axes>"
            ]
          },
          "metadata": {
            "tags": [],
            "needs_background": "light"
          }
        }
      ]
    },
    {
      "cell_type": "code",
      "metadata": {
        "id": "6V6aKQ4BgFq3",
        "colab": {
          "base_uri": "https://localhost:8080/",
          "height": 675
        },
        "outputId": "039f0a1b-a008-4521-f5f3-ad8f71bc5732"
      },
      "source": [
        "translate(u'esta es mi vida.')"
      ],
      "execution_count": null,
      "outputs": [
        {
          "output_type": "stream",
          "text": [
            "Input: <start> esta es mi vida . <end>\n",
            "Predicted translation: this is my life . <end> \n"
          ],
          "name": "stdout"
        },
        {
          "output_type": "display_data",
          "data": {
            "image/png": "[encoded data removed]",
            "text/plain": [
              "<Figure size 720x720 with 1 Axes>"
            ]
          },
          "metadata": {
            "tags": [],
            "needs_background": "light"
          }
        }
      ]
    },
    {
      "cell_type": "markdown",
      "metadata": {
        "id": "RyVjn9UeaH0h"
      },
      "source": [
        "## 🧐  Review"
      ]
    },
    {
      "cell_type": "markdown",
      "metadata": {
        "id": "3zAIH2w0YzRe"
      },
      "source": [
        "- 언어 모델 (Language Model)\n",
        "    - 통계 기반의 언어 모델(Statistical Language Model)\n",
        "    - 신경망 언어 모델(Neural Network Language Model) \n",
        "\n",
        "- 순환 신경망 (Recurrent Neural Network, RNN)\n",
        "    - RNN의 구조\n",
        "    - RNN의 장점과 단점\n",
        "        - 기울기 소실(Gradient Vanishing)\n",
        "\n",
        "- LSTM & GRU\n",
        "    - LSTM\n",
        "        - Cell state\n",
        "    - GRU\n",
        "\n",
        "- Attention\n",
        "    - Attention\n",
        "        - 장기 의존성(Long-term Dependency)\n",
        "    - Query, Key, Vector\n",
        "        - 어떤 벡터가 각 요소에 해당될까요?"
      ]
    },
    {
      "cell_type": "markdown",
      "metadata": {
        "id": "g9dt4yptenfJ"
      },
      "source": [
        "### 🔝 References"
      ]
    }
  ]
}