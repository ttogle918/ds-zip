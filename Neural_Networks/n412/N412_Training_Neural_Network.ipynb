{
  "nbformat": 4,
  "nbformat_minor": 0,
  "metadata": {
    "colab": {
      "name": "N412_Training_Neural_Network.ipynb",
      "provenance": [],
      "collapsed_sections": []
    },
    "kernelspec": {
      "name": "python3",
      "display_name": "Python 3"
    },
    "language_info": {
      "name": "python"
    },
    "accelerator": "GPU"
  },
  "cells": [
    {
      "cell_type": "markdown",
      "metadata": {
        "id": "6jub-GSrlhpo"
      },
      "source": [
        "<img src='https://user-images.githubusercontent.com/6457691/90080969-0f758d00-dd47-11ea-8191-fa12fd2054a7.png' width = '200' align = 'right'>\n",
        "\n",
        "## *AIB / SECTION 4 / SPRINT 1 / NOTE 2*\n",
        "\n",
        "---"
      ]
    },
    {
      "cell_type": "markdown",
      "metadata": {
        "id": "Floqm6KJlkZw"
      },
      "source": [
        "# N412. 신경망 학습(Training Neural Network)"
      ]
    },
    {
      "cell_type": "markdown",
      "metadata": {
        "id": "llrI13kKPPDS"
      },
      "source": [
        "## 신경망의 학습은 어떻게 이루어질까요?\n"
      ]
    },
    {
      "cell_type": "markdown",
      "metadata": {
        "id": "e49EFqbdViZD"
      },
      "source": [
        "강의 영상을 잠시 멈추고 1분 동안 아래 **`gif`** 를 보면서 신경망이 어떻게 학습을 진행하는지 상상해봅시다."
      ]
    },
    {
      "cell_type": "markdown",
      "metadata": {
        "id": "df8QmGkNQdgD"
      },
      "source": [
        "<img src=\"https://i.imgur.com/dlGareT.gif\" alt=\"backpropagation\" width=600>\n",
        "\n",
        "---"
      ]
    },
    {
      "cell_type": "markdown",
      "metadata": {
        "id": "MjZ4HIqeOa9G"
      },
      "source": [
        "- **위 그림에서 설명하고 있는 과정은 다음과 같습니다.**\n",
        "\n",
        "1. 데이터가 입력되면 신경망 각 층에서 **가중치 및 활성화 함수 연산**을 반복적으로 수행합니다.\n",
        "2. 1의 과정을 모든 층에서 반복한 후에 **출력층에서 계산된 값을 출력**합니다.\n",
        "3. **손실 함수**를 사용하여 **예측값(Prediction)과 실제값(Target)의 차이**를 계산합니다.\n",
        "4. **경사하강법과 역전파**를 통해서 **각 가중치를 갱신**합니다.\n",
        "5. 학습 중지 기준을 만족할 때까지 **1-4의 과정을 반복**합니다.\n",
        "\n",
        "1-4의 과정을 **Iteration(이터레이션)**이라고 하며 매 Iteration 마다 가중치가 갱신됩니다.<br/>\n",
        "Iteration 은 **<font color=\"ff6f61\">순전파(1&2), 손실 계산(3), 역전파(4)</font>**로 나눠볼 수 있는데요.<br/>\n",
        "먼저 비유를 통해서 신경망 학습에 대해 알아보고 각 과정에 대해서 하나씩 알아보도록 하겠습니다."
      ]
    },
    {
      "cell_type": "markdown",
      "metadata": {
        "id": "cLyj84EZUqmN"
      },
      "source": [
        "### 비유를 들어 신경망 학습을 설명해봅시다."
      ]
    },
    {
      "cell_type": "markdown",
      "metadata": {
        "id": "-55o1XwR9DZi"
      },
      "source": [
        "#### 1. 이 게임을 아시나요?"
      ]
    },
    {
      "cell_type": "markdown",
      "metadata": {
        "id": "5-GLDIkZ9QEY"
      },
      "source": [
        "<img src=\"https://i.imgur.com/uaAFDFg.jpg\" height=\"300\">"
      ]
    },
    {
      "cell_type": "markdown",
      "metadata": {
        "id": "_5jVXAL6nhEX"
      },
      "source": [
        "초록 음료 병뚜껑에 써져 있는 숫자를 맞추는 **Up&Down 게임**인데요.<br/>\n",
        "실제 신경망의 학습 메커니즘과 완전히 동일하지는 않지만 아래와 같이 엮어볼 수 있습니다.\n",
        "\n",
        "1. 맞추는 사람은 조건에 맞는 숫자를 1개 예측합니다. **<font color=\"ff6f61\">(순전파)</font>**\n",
        "2. 문제 출제자는 정답 숫자가 예측한 숫자보다 크면 **Up**, 작으면 **Down** 이라고 알려줍니다. **<font color=\"ff6f61\">(손실 함수)</font>**\n",
        "3. 알려준 정보를 바탕으로 조건에 맞는 새로운 숫자를 예측합니다. **<font color=\"ff6f61\">(역전파-순전파)</font>**"
      ]
    },
    {
      "cell_type": "markdown",
      "metadata": {
        "id": "mFB9erlM8_FX"
      },
      "source": [
        "#### 2. 부트캠프 Sprint"
      ]
    },
    {
      "cell_type": "markdown",
      "metadata": {
        "id": "L-mzWFkT9G46"
      },
      "source": [
        "<img src=\"https://i.imgur.com/TUaPpuV.png\" height=\"300\">\n"
      ]
    },
    {
      "cell_type": "markdown",
      "metadata": {
        "id": "fhvo4E8WqPnd"
      },
      "source": [
        "Up&Down 게임이 생소한 분도 있을 테니 또 다른 예시를 찾아보도록 하겠습니다.<br/>\n",
        "여러분의 Sprint 모습을 살짝 요약해 보았습니다.\n",
        "\n",
        "1. Note 1~4를 공부한 후에 다섯 번째 날에 **스프린트 챌린지를 봅니다.** **<font color=\"ff6f61\">(순전파 : 예측하기)</font>**\n",
        "2. 스프린트 챌린지를 풀고 **정답과 비교**합니다. **<font color=\"ff6f61\">(손실 함수 : 실제 값과의 차이 계산)</font>**\n",
        "3. 스프린트 챌린지 이후 **회고를 작성하며 어떤 부분을 수정해야 할 지 생각**합니다. **<font color=\"ff6f61\">(역전파 : 가중치 수정)</font>**"
      ]
    },
    {
      "cell_type": "markdown",
      "metadata": {
        "id": "Miwyx-LX9TGq"
      },
      "source": [
        "이제 본격적으로 신경망에서는 순전파와 손실 함수, 역전파가 어떻게 동작하는지에 대해 알아보도록 하겠습니다."
      ]
    },
    {
      "cell_type": "markdown",
      "metadata": {
        "id": "M_xlGGjSJRSP"
      },
      "source": [
        "### 순전파(Forward Propagation)"
      ]
    },
    {
      "cell_type": "markdown",
      "metadata": {
        "id": "NNeHKC89vGUX"
      },
      "source": [
        "위에서 알아본 것처럼 신경망은 학습 과정에서 첫 번째로 **<font color=\"ff6f61\">순전파(Forward propagation)</font>**를 수행합니다.<br/>\n",
        "순전파는 **입력층에서 입력된 신호가 은닉층의 연산을 거쳐 출력층에서 값을 내보내는 과정**인데요.\n",
        "\n",
        "<br/>\n",
        "\n",
        "위 **`gif`** 에서 왼쪽에서 오른쪽으로 신호가 전달되는 과정을 순전파라고 하며<br/>\n",
        "각 층에서의 연산 과정은 다음과 같습니다.\n",
        "\n",
        "1. 입력층(혹은 이전 은닉층)으로부터 신호를 전달받습니다.\n",
        "2. 입력된 데이터에 **가중치-편향 연산**을 수행합니다.\n",
        "3. 가중합을 통해 구해진 값은 **활성화 함수**를 통해 다음 층으로 전달됩니다."
      ]
    },
    {
      "cell_type": "markdown",
      "metadata": {
        "id": "BTXE6ix3dk51"
      },
      "source": [
        "### 손실 함수(Loss function)"
      ]
    },
    {
      "cell_type": "markdown",
      "metadata": {
        "id": "_1pPdhnaIjKA"
      },
      "source": [
        "신경망은 손실 함수를 최소화 하는 방향으로 가중치를 갱신합니다.<br/>\n",
        "그렇기 때문에 손실 함수를 잘 정의해주어야 가중치가 제대로 갱신될 수 있겠죠?\n",
        "\n",
        "입력 데이터를 신경망에 넣어 순전파를 거치면 마지막에는 출력층을 통과한 값이 도출됩니다.<br/>\n",
        "이 때 출력된 값과 그 데이터의 타겟값을 **손실 함수에 넣어 손실(Loss or Error)를 계산**하게 됩니다.\n",
        "\n",
        "대표적인 손실 함수로는 여러분이 머신러닝 Section 에서 배웠던<br/>\n",
        "**MSE(Mean-Squared Error), CEE(Cross-Entropy Error)** 등이 있습니다.\n"
      ]
    },
    {
      "cell_type": "markdown",
      "metadata": {
        "id": "vMi8h8egQrrJ"
      },
      "source": [
        "### 역전파(Backward Propagation)"
      ]
    },
    {
      "cell_type": "markdown",
      "metadata": {
        "id": "3JEOjFrHQaOx"
      },
      "source": [
        "**<font color=\"ff6f61\">역전파(Backpropagation)</font>**는 말 그대로 순전파와는 **반대 방향으로 손실(Loss or Error) 정보를 전달**해주는 과정입니다.\n",
        "\n",
        "순전파가 **입력 신호 정보를 입력층부터 출력층까지 전달하여 값을 출력**하는 알고리즘이었다면,<br/>\n",
        "역전파는 구해진 **손실 정보를 출력층부터 입력층까지 전달하여 각 가중치를 얼마나 업데이트 해야할 지를 구하는** 알고리즘입니다."
      ]
    },
    {
      "cell_type": "markdown",
      "metadata": {
        "id": "8znnSpvAQras"
      },
      "source": [
        "신경망은 매 반복마다 **손실(Loss)을 줄이는 방향**으로 가중치를 업데이트합니다.<br/>\n",
        "그렇다면 **손실을 줄이기 위해서** 어떻게 가중치를 수정해야 할까요?\n",
        "\n",
        "가중치 수정 방향을 결정하는 것이 바로 **<font color=\"ff6f61\">경사 하강법(Gradient Descent, GD)</font>**입니다.<br/>\n",
        "경사 하강법에 대해 알아보겠습니다."
      ]
    },
    {
      "cell_type": "markdown",
      "metadata": {
        "id": "br8Or5nHyEqY"
      },
      "source": [
        "## 경사 하강법(Gradient Descent)"
      ]
    },
    {
      "cell_type": "markdown",
      "metadata": {
        "id": "_dhx_j25GyaE"
      },
      "source": [
        "아래 그림을 보면 알 수 있듯, **손실 함수 $J$ 의 경사(Gradient)가 작아지는 방향으로 업데이트** 하면 손실 함수의 값을 줄일 수 있습니다.<br/>\n",
        "매 Iteration 마다 **<font color=\"ff6f61\">해당 가중치에서의 비용 함수의 도함수(=비용 함수를 미분한 함수)를 계산</font>하여** 경사가 작아질 수 있도록 가중치를 변경합니다.\n",
        "\n",
        "$i$ 번째 가중치인 $\\theta_i$ 가 갱신되는 모습을 수식으로는 다음과 같이 나타낼 수 있습니다."
      ]
    },
    {
      "cell_type": "markdown",
      "metadata": {
        "id": "AcjpXc7oU91t"
      },
      "source": [
        "<img src=\"https://i.imgur.com/ic91umJ.png\" height=\"200\"/>"
      ]
    },
    {
      "cell_type": "markdown",
      "metadata": {
        "id": "81XORsbhVEOT"
      },
      "source": [
        "그림을 보면서 기울기가 양수(+)일 때에는 왜 왼쪽(-)으로 이동하게 되는지,<br/>\n",
        "기울기가 음수(-)일 때에는 왜 오른쪽(+)으로 이동하게 되는지 생각해봅시다.\n"
      ]
    },
    {
      "cell_type": "markdown",
      "metadata": {
        "id": "FV6-h0j5XuAC"
      },
      "source": [
        "<img src=\"https://i.imgur.com/ehYYRtw.png\" height=\"300\"/>"
      ]
    },
    {
      "cell_type": "markdown",
      "metadata": {
        "id": "K8TDaCMe8YDK"
      },
      "source": [
        "예를 들면, 아래와 같이 가중치가 변하게 됩니다."
      ]
    },
    {
      "cell_type": "markdown",
      "metadata": {
        "id": "xJV0fh1s8K3v"
      },
      "source": [
        "<img src=\"https://i.imgur.com/ostAP3w.gif\" height=\"300\"/>\n"
      ]
    },
    {
      "cell_type": "markdown",
      "source": [
        "### 다시, 역전파"
      ],
      "metadata": {
        "id": "S_nVOZ6amwdZ"
      }
    },
    {
      "cell_type": "markdown",
      "source": [
        "그러면 각각의 가중치는 어떻게 갱신될까요?\n",
        "\n",
        "이 과정에서 역전파의 주요 메커니즘인 **편미분**과 **Chain rule(연쇄 법칙)**이 사용됩니다.<br/>\n",
        "위 식에서 볼 수 있었던 것처럼 특정 가중치 $(\\theta_i)$ 에 대한 기울기는\n",
        "아래 식과 같이 손실 함수를 해당 가중치로 **편미분**하여 구할 수 있습니다.\n",
        "\n",
        "$$\n",
        "\\frac{\\partial}{\\partial \\theta_i} J(\\theta)\n",
        "$$\n",
        "\n",
        "<br/>\n",
        "\n",
        "그렇다면 모든 가중치에 대한 값은 어떻게 구할 수 있을까요?<br/>\n",
        "여기서 바로 **Chain rule**이 적용됩니다.<br/>\n",
        "연쇄 법칙이란 아래 식과 같이 특정 변수에 대한 (편)미분 값을 다른 변수의 미분을 사용하여 나타낼 수 있는 방식입니다.\n",
        "\n",
        "$$\n",
        "\\frac{\\partial J(\\theta)}{\\partial \\theta_i} = \\frac{\\partial J(\\theta)}{\\partial \\theta_x} \\cdot \\frac{\\partial \\theta_x}{\\partial \\theta_i} = \\frac{\\partial J(\\theta)}{\\partial \\theta_x} \\cdot \\frac{\\partial \\theta_x}{\\partial \\theta_y} \\cdot \\frac{\\partial \\theta_y}{\\partial \\theta_i}\n",
        "$$\n",
        "\n",
        "<br/>\n",
        "\n",
        "연쇄 법칙을 사용하여 각 변수가 얼마나 수정되어야 할 지에 대한 정보를 전달할 수 있게 됩니다.\n",
        "\n",
        "> ❗️ ***역전파 메커니즘에 대한 수학적인 설명은 Reference를 참조해주세요 !***\n"
      ],
      "metadata": {
        "id": "NC0ZoW62mzvh"
      }
    },
    {
      "cell_type": "markdown",
      "metadata": {
        "id": "obSHWEWzyKUV"
      },
      "source": [
        "### 옵티마이저(Optimizer)"
      ]
    },
    {
      "cell_type": "markdown",
      "metadata": {
        "id": "gEpaTmSiSB8K"
      },
      "source": [
        "다음은 **<font color=\"ff6f61\">옵티마이저(Optimizer)</font>** 입니다.\n",
        "\n",
        "옵티마이저는 쉽게 말해 **<font color=\"ff6f61\">경사를 내려가는 방법을 결정</font>**하는데요.<br/>\n",
        "대표적인 옵티마이저로는 아래와 같은 것들이 있습니다. (다 외우지 않아도 됩니다!)\n"
      ]
    },
    {
      "cell_type": "markdown",
      "metadata": {
        "id": "zwgmiQntR_7R"
      },
      "source": [
        "<img src=\"https://i.imgur.com/UQfpjpP.png\" height=\"350\"/>"
      ]
    },
    {
      "cell_type": "markdown",
      "source": [
        "일반적인 경사 하강법(GD)에서는 모든 입력 데이터에 대한 손실 함수의 기울기를 계산한 후에 가중치를 업데이트 하였습니다.<br/>\n",
        "즉, Iteration 마다 모든 데이터를 다 사용하게 되는 것이죠.<br/>\n",
        "입력 데이터가 적다면 이 방법으로도 빠르게 가중치를 금방 갱신할 수 있습니다.\n",
        "\n",
        "하지만 실제로는 이보다 훨씬 더 큰 데이터를 다루게 되는데요.<br/>\n",
        "만약 입력 데이터가 수천만개라면 모든 데이터에 대해 손실을 계산하는 과정이 굉장히 오래 걸리게 됩니다.<br/>\n",
        "그러면 가중치를 수정하는데 굉장히 오랜 시간이 들어가겠죠?"
      ],
      "metadata": {
        "id": "uIIVMCJ4ffD8"
      }
    },
    {
      "cell_type": "markdown",
      "metadata": {
        "id": "zW5oQ-V1R6N-"
      },
      "source": [
        "#### 확률적 경사 하강법(Stochastic Gradient Descent, SGD)"
      ]
    },
    {
      "cell_type": "markdown",
      "metadata": {
        "id": "afuCVMEiYj_g"
      },
      "source": [
        "그래서 등장한 것이 바로 **<font color=\"ff6f61\">확률적 경사 하강법</font>**과 **<font color=\"ff6f61\">미니 배치(Mini-batch) 경사 하강법</font>**입니다.\n",
        "\n",
        "확률적 경사 하강법(SGD)은 전체 데이터에서 **하나의 데이터**를 뽑아서 신경망에 입력한 후 손실을 계산합니다.<br/>\n",
        "그리고 그 손실 정보를 역전파하여 신경망의 가중치를 업데이트하게 됩니다.<br/>\n",
        "다시 말하면, Iteration 마다 1개의 데이터만을 사용하는데요.\n",
        "\n",
        "그렇기 때문에 **가중치를 빠르게 업데이트** 할 수 있다는 장점이 있습니다.<br/>\n",
        "물론 확률적 경사 하강법에도 단점이 있습니다. 1개의 데이터만 보기 때문에 학습 과정에서 불안정한 경사 하강을 보인다는 점인데요.\n",
        "\n",
        "아래 그림에서 확률적 경사 하강법(왼쪽)과 일반적인 경사 하강법(오른쪽)에서 경사 하강이 어떻게 일어나는 지의 차이를 볼 수 있습니다.\n",
        "\n",
        "> ❗️ ***아래 그림을 보면서 경사 하강이 왼쪽과 같이 불안정하면 어떤 문제가 발생할 수 있을지 생각해봅시다.***\n"
      ]
    },
    {
      "cell_type": "markdown",
      "metadata": {
        "id": "3M1FskvFYlzM"
      },
      "source": [
        "<img src=\"https://datascience-enthusiast.com/figures/kiank_sgd.png\" width=\"800\">"
      ]
    },
    {
      "cell_type": "markdown",
      "metadata": {
        "id": "ctEjlSZ1Ympr"
      },
      "source": [
        "그래서 두 방법을 적절히 융화한 **미니 배치(Mini-batch) 경사 하강법**이 등장하게 되었습니다.<br/>\n",
        "N개의 데이터로 미니 배치를 구성하여 해당 미니 배치를 신경망에 입력한 후 이 결과를 바탕으로 가중치를 업데이트합니다.<br/>\n",
        "즉, Iteration 마다 N개(=배치 사이즈)의 데이터를 사용하게 됩니다.\n",
        "\n",
        "일반적으로는 두 방법의 장점을 적절히 융화한 미니 배치 경사 하강법을 많이 사용합니다.\n",
        "\n",
        "아래 그림에서 확률적 경사 하강법(왼쪽)과 미니 배치 경사 하강법(오른쪽)에서 경사 하강이 어떻게 일어나는 지의 차이를 볼 수 있습니다."
      ]
    },
    {
      "cell_type": "markdown",
      "metadata": {
        "id": "t1ly8vU_YoqX"
      },
      "source": [
        "<img src=\"https://datascience-enthusiast.com/figures/kiank_minibatch.png\" width=\"800\">"
      ]
    },
    {
      "cell_type": "markdown",
      "source": [
        "- **배치 사이즈(Batch Size)**\n",
        "\n",
        "미니 배치 경사 하강법에서 사용하는 미니 배치의 크기를 **배치 사이즈(Batch size)** 라고 합니다.<br/>\n",
        "일반적으로 배치 사이즈는 2의 배수로 설정하며, 메모리 크기가 허락한다면 큰 배치 사이즈를 쓰는 것이 학습을 안정적으로 진행할 수 있습니다."
      ],
      "metadata": {
        "id": "WiIjO1tuCHCK"
      }
    },
    {
      "cell_type": "markdown",
      "source": [
        "- \\# of Data, Epoch, 배치 사이즈, iteration의 관계\n",
        "\n",
        "지난 강의에서 데이터셋 전체를 몇 번이나 반복하여 학습할 지를 결정하는 Epochs(에포크)에 대해 배웠습니다.<br/>\n",
        "그리고 위에서 순전파-역전파 1회, 즉 가중치를 한 번 수정하는 단위를 Iteration 이라고 배웠는데요.\n",
        "\n",
        "이를 다시 떠올려보면 데이터셋을 이루는 데이터의 수(# of Data), 배치 사이즈, Iteration 이 아래와 같은 식을 만족한다는 것을 알 수 있습니다.\n",
        "\n",
        "$$\n",
        "\\text{# of Data = Batch_size} \\times \\text{Iteration}\n",
        "$$\n",
        "\n",
        "<br/>\n",
        "\n",
        "- **이 사실을 기억하면서 다음 문제를 풀어봅시다!**\n",
        "\n",
        "> ❓ ***데이터셋에 있는 전체 데이터의 수가 1000개 이고 `batch_size=8`,  `epochs=5` 로 설정하였다면 학습이 종료될 때까지 Iteration 은 몇 회 일어날까요?***"
      ],
      "metadata": {
        "id": "NcXUb-ugimeo"
      }
    },
    {
      "cell_type": "markdown",
      "metadata": {
        "id": "zCYNZGruYq88"
      },
      "source": [
        "- **여러 가지 옵티마이저(Optimizer)**"
      ]
    },
    {
      "cell_type": "markdown",
      "metadata": {
        "id": "krP5bCmNMtWB"
      },
      "source": [
        "<img src=\"https://i.imgur.com/DYoGuTT.gif\" height=\"400\" />"
      ]
    },
    {
      "cell_type": "markdown",
      "metadata": {
        "id": "6Xw-3W2kYzrb"
      },
      "source": [
        "여러 가지 옵티마이저 중에서 어떤 것이 가장 좋다고 말하기는 어렵습니다.<br/>\n",
        "문제마다, 데이터마다 달라지기 때문에 여러 옵티마이저를 적용하면서 서로 비교해보아야 하는데요.\n",
        "\n",
        "다음 강의에서 최적의 하이퍼파라미터를 찾아보면서 여러 옵티마이저를 비교해 볼 것입니다."
      ]
    },
    {
      "cell_type": "markdown",
      "metadata": {
        "id": "SLgxCdK5v_6e"
      },
      "source": [
        "## Tensorflow 신경망 예제"
      ]
    },
    {
      "cell_type": "markdown",
      "metadata": {
        "id": "ziN9Vc4QQCXz"
      },
      "source": [
        "이번 시간에는 또 다른 예제 데이터인 Fashion MNIST 예제를 신경망으로 풀어보겠습니다."
      ]
    },
    {
      "cell_type": "markdown",
      "metadata": {
        "id": "zL3Sog6xktHL"
      },
      "source": [
        "### Fashion MNIST 예제"
      ]
    },
    {
      "cell_type": "markdown",
      "metadata": {
        "id": "OJEAiXAz88hM"
      },
      "source": [
        "> ❓ ***그렇다면 MNIST 예제는 이진 분류, 다중 분류, 회귀 중 어디에 속할까요? <br/>\n",
        "<font color=\"ff6f61\">항상 문제를 풀기 전에 자신이 풀고자 하는 문제가 어디에 속하는 지 생각</font>해보도록 합시다.***"
      ]
    },
    {
      "cell_type": "markdown",
      "metadata": {
        "id": "gUjBSQtB9Fo_"
      },
      "source": [
        "1. **먼저 필요한 패키지와 라이브러리를 불러옵니다.**"
      ]
    },
    {
      "cell_type": "code",
      "metadata": {
        "id": "4jVtVqIp9JtE"
      },
      "source": [
        "import numpy as np\n",
        "import pandas as pd\n",
        "import tensorflow as tf"
      ],
      "execution_count": 1,
      "outputs": []
    },
    {
      "cell_type": "markdown",
      "metadata": {
        "id": "Glc0ohHs9IPw"
      },
      "source": [
        "2. **데이터셋을 불러온 후 학습 데이터셋(Train Dataset)과 시험 데이터셋(Test Dataset)으로 나누어(Split)주고 픽셀값을 정규화 하여줍니다.**"
      ]
    },
    {
      "cell_type": "code",
      "metadata": {
        "id": "ua6p5z159YL9",
        "colab": {
          "base_uri": "https://localhost:8080/"
        },
        "outputId": "1e8ebf22-adf7-4e0a-adfe-025b873b58d6"
      },
      "source": [
        "from tensorflow.keras.datasets import fashion_mnist\n",
        "\n",
        "(X_train, y_train), (X_test, y_test) = fashion_mnist.load_data()"
      ],
      "execution_count": 2,
      "outputs": [
        {
          "output_type": "stream",
          "name": "stdout",
          "text": [
            "Downloading data from https://storage.googleapis.com/tensorflow/tf-keras-datasets/train-labels-idx1-ubyte.gz\n",
            "32768/29515 [=================================] - 0s 0us/step\n",
            "40960/29515 [=========================================] - 0s 0us/step\n",
            "Downloading data from https://storage.googleapis.com/tensorflow/tf-keras-datasets/train-images-idx3-ubyte.gz\n",
            "26427392/26421880 [==============================] - 0s 0us/step\n",
            "26435584/26421880 [==============================] - 0s 0us/step\n",
            "Downloading data from https://storage.googleapis.com/tensorflow/tf-keras-datasets/t10k-labels-idx1-ubyte.gz\n",
            "16384/5148 [===============================================================================================] - 0s 0us/step\n",
            "Downloading data from https://storage.googleapis.com/tensorflow/tf-keras-datasets/t10k-images-idx3-ubyte.gz\n",
            "4423680/4422102 [==============================] - 0s 0us/step\n",
            "4431872/4422102 [==============================] - 0s 0us/step\n"
          ]
        }
      ]
    },
    {
      "cell_type": "code",
      "metadata": {
        "id": "qHuX2beXS929",
        "colab": {
          "base_uri": "https://localhost:8080/"
        },
        "outputId": "7a27b7b3-65c8-408c-f5ed-30d2e5f6f6be"
      },
      "source": [
        "print(X_train.shape, X_test.shape)"
      ],
      "execution_count": 3,
      "outputs": [
        {
          "output_type": "stream",
          "name": "stdout",
          "text": [
            "(60000, 28, 28) (10000, 28, 28)\n"
          ]
        }
      ]
    },
    {
      "cell_type": "markdown",
      "metadata": {
        "id": "SMmF-JWM9msg"
      },
      "source": [
        "이미지 데이터에서는 정규화하는 과정이 중요합니다. 빼먹지 않도록 주의해주세요!"
      ]
    },
    {
      "cell_type": "code",
      "metadata": {
        "id": "XNL0nv5L9jtm"
      },
      "source": [
        "X_train, X_test = X_train / 255.0, X_test / 255.0"
      ],
      "execution_count": 4,
      "outputs": []
    },
    {
      "cell_type": "code",
      "metadata": {
        "id": "AV-FRPkMTMO1",
        "colab": {
          "base_uri": "https://localhost:8080/",
          "height": 248
        },
        "outputId": "dcd6e14a-492a-407d-b729-3024ce0b63a8"
      },
      "source": [
        "import matplotlib.pyplot as plt\n",
        "\n",
        "for i in range(9):\n",
        "    plt.subplot(3, 3, i+1)\n",
        "    \n",
        "    plt.imshow(X_train[i], cmap=plt.get_cmap('gray'))\n",
        "    plt.axis('off')\n",
        "    \n",
        "plt.show()"
      ],
      "execution_count": 5,
      "outputs": [
        {
          "output_type": "display_data",
          "data": {
            "image/png": "[encoded data removed]",
            "text/plain": [
              "<Figure size 432x288 with 9 Axes>"
            ]
          },
          "metadata": {
            "needs_background": "light"
          }
        }
      ]
    },
    {
      "cell_type": "markdown",
      "metadata": {
        "id": "QzJ9Wejf9Xst"
      },
      "source": [
        "3. **레이블이 어떻게 구성되어 있는 지 확인해봅니다.**\n",
        "\n",
        "    데이터의 레이블 구성 형태를 살펴봅니다.<br/>\n",
        "    처음보는 데이터의 경우 데이터 자체를 디스플레이 하여 보면 도움이 됩니다."
      ]
    },
    {
      "cell_type": "code",
      "metadata": {
        "colab": {
          "base_uri": "https://localhost:8080/"
        },
        "id": "HOKNf_559eye",
        "outputId": "11dc79aa-def1-48c1-a537-1337e64a074a"
      },
      "source": [
        "np.unique(y_train)"
      ],
      "execution_count": 6,
      "outputs": [
        {
          "output_type": "execute_result",
          "data": {
            "text/plain": [
              "array([0, 1, 2, 3, 4, 5, 6, 7, 8, 9], dtype=uint8)"
            ]
          },
          "metadata": {},
          "execution_count": 6
        }
      ]
    },
    {
      "cell_type": "markdown",
      "metadata": {
        "id": "yCCLTvqu98bE"
      },
      "source": [
        "4. **이제 본격적으로 신경망 모델을 구축해보겠습니다.**\n",
        "\n",
        "> ❗️ ***아래 코드에서 출력층의 노드 수는 몇 개인지, 출력층의 활성화 함수는 무엇인지, 손실 함수는 어떻게 지정하였는지에 주목해봅시다.***<br/>\n",
        "❗️ ***`.summary()`를 활용하면 모델의 구조를 빠르게 파악해 볼 수 있습니다.***"
      ]
    },
    {
      "cell_type": "code",
      "metadata": {
        "id": "e0LVdBzF98J3"
      },
      "source": [
        "from tensorflow.keras.models import Sequential\n",
        "from tensorflow.keras.layers import Dense, Flatten\n",
        "\n",
        "model = Sequential() \n",
        "model.add(Flatten(input_shape=(28, 28)))\n",
        "model.add(Dense(10, activation='softmax'))"
      ],
      "execution_count": 7,
      "outputs": []
    },
    {
      "cell_type": "code",
      "metadata": {
        "id": "ysFo2tw0TakE"
      },
      "source": [
        "model.compile(optimizer='adam',\n",
        "              loss='sparse_categorical_crossentropy',\n",
        "              metrics=['accuracy'])"
      ],
      "execution_count": 8,
      "outputs": []
    },
    {
      "cell_type": "code",
      "metadata": {
        "colab": {
          "base_uri": "https://localhost:8080/"
        },
        "id": "Ce49C91l-TuM",
        "outputId": "dd13fb9b-cb20-45e8-a2a6-6835e674eb93"
      },
      "source": [
        "model.summary()"
      ],
      "execution_count": 9,
      "outputs": [
        {
          "output_type": "stream",
          "name": "stdout",
          "text": [
            "Model: \"sequential\"\n",
            "_________________________________________________________________\n",
            " Layer (type)                Output Shape              Param #   \n",
            "=================================================================\n",
            " flatten (Flatten)           (None, 784)               0         \n",
            "                                                                 \n",
            " dense (Dense)               (None, 10)                7850      \n",
            "                                                                 \n",
            "=================================================================\n",
            "Total params: 7,850\n",
            "Trainable params: 7,850\n",
            "Non-trainable params: 0\n",
            "_________________________________________________________________\n"
          ]
        }
      ]
    },
    {
      "cell_type": "markdown",
      "metadata": {
        "id": "vXkvdWo-T23F"
      },
      "source": [
        "> ❗️ ***위 모델의 파라미터 수는 총 7,850개입니다. 왜 7,850개가 될 지에 대해 생각해봅시다.***"
      ]
    },
    {
      "cell_type": "code",
      "source": [
        "model.fit(X_train, y_train, epochs=10)"
      ],
      "metadata": {
        "colab": {
          "base_uri": "https://localhost:8080/"
        },
        "id": "0_J92keOlIDf",
        "outputId": "7e9f0baf-41be-4371-8368-2b6167910963"
      },
      "execution_count": 10,
      "outputs": [
        {
          "output_type": "stream",
          "name": "stdout",
          "text": [
            "Epoch 1/10\n",
            "1875/1875 [==============================] - 9s 4ms/step - loss: 0.5990 - accuracy: 0.7983\n",
            "Epoch 2/10\n",
            "1875/1875 [==============================] - 6s 3ms/step - loss: 0.4629 - accuracy: 0.8420\n",
            "Epoch 3/10\n",
            "1875/1875 [==============================] - 7s 4ms/step - loss: 0.4373 - accuracy: 0.8506\n",
            "Epoch 4/10\n",
            "1875/1875 [==============================] - 4s 2ms/step - loss: 0.4228 - accuracy: 0.8552\n",
            "Epoch 5/10\n",
            "1875/1875 [==============================] - 3s 2ms/step - loss: 0.4137 - accuracy: 0.8570\n",
            "Epoch 6/10\n",
            "1875/1875 [==============================] - 4s 2ms/step - loss: 0.4077 - accuracy: 0.8591\n",
            "Epoch 7/10\n",
            "1875/1875 [==============================] - 3s 2ms/step - loss: 0.4023 - accuracy: 0.8609\n",
            "Epoch 8/10\n",
            "1875/1875 [==============================] - 3s 2ms/step - loss: 0.3983 - accuracy: 0.8616\n",
            "Epoch 9/10\n",
            "1875/1875 [==============================] - 3s 2ms/step - loss: 0.3949 - accuracy: 0.8632\n",
            "Epoch 10/10\n",
            "1875/1875 [==============================] - 3s 2ms/step - loss: 0.3919 - accuracy: 0.8635\n"
          ]
        },
        {
          "output_type": "execute_result",
          "data": {
            "text/plain": [
              "<keras.callbacks.History at 0x7f074222e190>"
            ]
          },
          "metadata": {},
          "execution_count": 10
        }
      ]
    },
    {
      "cell_type": "markdown",
      "metadata": {
        "id": "knPbosgK-xtc"
      },
      "source": [
        "5. **학습한 신경망 모델을 사용하여 평가합니다.**"
      ]
    },
    {
      "cell_type": "code",
      "metadata": {
        "colab": {
          "base_uri": "https://localhost:8080/"
        },
        "id": "90hFOU1XBA82",
        "outputId": "15526fdd-bf72-4b1b-df97-eda70e1968ed"
      },
      "source": [
        "model.evaluate(X_test,  y_test, verbose=2)"
      ],
      "execution_count": 11,
      "outputs": [
        {
          "output_type": "stream",
          "name": "stdout",
          "text": [
            "313/313 - 1s - loss: 0.4460 - accuracy: 0.8454 - 563ms/epoch - 2ms/step\n"
          ]
        },
        {
          "output_type": "execute_result",
          "data": {
            "text/plain": [
              "[0.44603100419044495, 0.8453999757766724]"
            ]
          },
          "metadata": {},
          "execution_count": 11
        }
      ]
    },
    {
      "cell_type": "markdown",
      "metadata": {
        "id": "mW8-Lo93-FuZ"
      },
      "source": [
        "- ***강의를 듣고 다시 생각해봅시다.***\n",
        "\n",
        "    손글씨 MNIST 예제 코드에서\n",
        "\n",
        "    > ❓ 1. **`Flatten`** 은 어떤 역할을 할까요? <br/>\n",
        "    > ❓ 2. 마지막 **`Dense`** 층의 숫자는 왜 **10** 일까요? <br/>\n",
        "    > ❓ 3. 마지막 **`Dense`** 층의 **`activation`** 은 왜 **`softmax`** 로 해주었을까요? <br/>\n",
        "    > ❓ 4. **`compile`** 이 있는 부분에서 **`loss`** 함수는 왜 **`sparse_categorical_crossentropy`** 로 해준 것일까요?\n"
      ]
    }
  ]
}