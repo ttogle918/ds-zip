{
  "cells": [
    {
      "cell_type": "markdown",
      "metadata": {
        "id": "view-in-github",
        "colab_type": "text"
      },
      "source": [
        "<a href=\"https://colab.research.google.com/github/ttogle918/ds-section4-sprint1/blob/master/n412/n412_Assignment.ipynb\" target=\"_parent\"><img src=\"https://colab.research.google.com/assets/colab-badge.svg\" alt=\"Open In Colab\"/></a>"
      ]
    },
    {
      "cell_type": "markdown",
      "id": "3e8e612c",
      "metadata": {
        "id": "3e8e612c"
      },
      "source": [
        "<img align=\"right\" src=\"https://ds-cs-images.s3.ap-northeast-2.amazonaws.com/Codestates_Fulllogo_Color.png\" width=100>\n",
        "\n",
        "## *AIB / SECTION 4 / SPRINT 1 / NOTE 2*\n",
        "\n",
        "---\n",
        "\n",
        "# 📝 Assignment\n",
        "\n",
        "# 신경망 학습(Training Neural Network)"
      ]
    },
    {
      "cell_type": "markdown",
      "id": "084b5bdf",
      "metadata": {
        "id": "084b5bdf"
      },
      "source": [
        "## 문제1. 활성화함수 및 손실함수 구현하기"
      ]
    },
    {
      "cell_type": "markdown",
      "id": "7292a876",
      "metadata": {
        "id": "7292a876"
      },
      "source": [
        "### 문제1-1 Sigmoid 구현하기\n",
        "\n",
        "$S(x) = \\frac{1}{1 + e^{-x}}$"
      ]
    },
    {
      "cell_type": "code",
      "execution_count": 1,
      "id": "adab9298",
      "metadata": {
        "id": "adab9298"
      },
      "outputs": [],
      "source": [
        "import numpy as np\n",
        "import tensorflow as tf"
      ]
    },
    {
      "cell_type": "code",
      "execution_count": 2,
      "id": "ea6558d4",
      "metadata": {
        "id": "ea6558d4"
      },
      "outputs": [],
      "source": [
        "class Sigmoid:\n",
        "    def __init__(self):\n",
        "        self.out = None\n",
        "\n",
        "    def forward(self, x):\n",
        "        out = \"\"\"A\"\"\"\n",
        "        self.out = out\n",
        "        return out\n",
        "\n",
        "    def backward(self, dout):\n",
        "        # dout : 앞선 레이어에서 chain rule에 의해 넘어온 값\n",
        "        dx = dout * self.out*(1-self.out)\n",
        "        return dx"
      ]
    },
    {
      "cell_type": "markdown",
      "id": "fb4127a1",
      "metadata": {
        "id": "fb4127a1"
      },
      "source": [
        "빈칸 A와 B에 들어갈 내용으로 알맞은 것은?\n",
        "- B를 풀기 위해서는 Sigmoid 미분 값에 대해 알아야 합니다."
      ]
    },
    {
      "cell_type": "markdown",
      "id": "b7f059c8",
      "metadata": {
        "id": "b7f059c8"
      },
      "source": [
        "### softmax 구현하기"
      ]
    },
    {
      "cell_type": "code",
      "execution_count": 3,
      "id": "59c91e68",
      "metadata": {
        "id": "59c91e68",
        "outputId": "1952cba3-2a3a-4b1b-99a3-94f729d99251",
        "colab": {
          "base_uri": "https://localhost:8080/"
        }
      },
      "outputs": [
        {
          "output_type": "stream",
          "name": "stdout",
          "text": [
            "[1.41242357e-01 4.26514961e-03 2.60035363e-05 2.21090675e-08\n",
            " 8.54466468e-01]\n",
            "tf.Tensor(\n",
            "[1.41242357e-01 4.26514961e-03 2.60035363e-05 2.21090675e-08\n",
            " 8.54466468e-01], shape=(5,), dtype=float64)\n"
          ]
        }
      ],
      "source": [
        "def softmax(x):\n",
        "    return np.exp(x) / np.sum(np.exp(x))\n",
        "\n",
        "test_array = np.array([19, 15.5, 10.4, 3.33, 20.8])\n",
        "\n",
        "# tensorflow softmax와 값 비교\n",
        "print(softmax(test_array))\n",
        "print(tf.nn.softmax(test_array))"
      ]
    },
    {
      "cell_type": "markdown",
      "id": "b37ea5a5",
      "metadata": {
        "id": "b37ea5a5"
      },
      "source": [
        "빈칸 C에 들어갈 내용으로 알맞은 것은?"
      ]
    },
    {
      "cell_type": "markdown",
      "id": "958fa57b",
      "metadata": {
        "id": "958fa57b"
      },
      "source": [
        "### cross_entropy 구현하기"
      ]
    },
    {
      "cell_type": "code",
      "execution_count": 4,
      "id": "fca4936b",
      "metadata": {
        "id": "fca4936b"
      },
      "outputs": [],
      "source": [
        "def cross_entropy_loss(y_true, y_pred):\n",
        "    first = y_true*np.log(y_pred+1e-7)\n",
        "    second = (-1)*np.sum(first)\n",
        "    return second"
      ]
    },
    {
      "cell_type": "markdown",
      "id": "2846cbdb",
      "metadata": {
        "id": "2846cbdb"
      },
      "source": [
        "다음 빈칸 D에 들어갈 내용으로 알맞은 것은?\n",
        "- y_pred 값이 0일 때를 방지하기 위해, 매우 작은 값인 1e-7를 더해주세요"
      ]
    },
    {
      "cell_type": "code",
      "execution_count": 5,
      "id": "734b1301",
      "metadata": {
        "id": "734b1301",
        "outputId": "7fb85cf2-6576-469c-a9c2-34237c24187d",
        "colab": {
          "base_uri": "https://localhost:8080/"
        }
      },
      "outputs": [
        {
          "output_type": "stream",
          "name": "stdout",
          "text": [
            "y_pred1 loss :  0.5978368189374552\n",
            "y_pred2 loss :  0.9162904818741863\n"
          ]
        }
      ],
      "source": [
        "y_true = np.array([0, 0, 1, 0, 0, 0])\n",
        "\n",
        "y_pred1 = np.array([0.1, 0.05, 0.55, 0.15, 0.05, 0.1])\n",
        "y_pred2 = np.array([0.2, 0.15, 0.4, 0.05, 0.1, 0.1])\n",
        "\n",
        "print('y_pred1 loss : ', cross_entropy_loss(y_true, y_pred1)) # 문제 F\n",
        "print('y_pred2 loss : ', cross_entropy_loss(y_true, y_pred2)) # 문제 G"
      ]
    },
    {
      "cell_type": "markdown",
      "id": "a291c7fb",
      "metadata": {
        "id": "a291c7fb"
      },
      "source": [
        "## 문제2. Keras 이용하기"
      ]
    },
    {
      "cell_type": "markdown",
      "id": "58d6a0df",
      "metadata": {
        "id": "58d6a0df"
      },
      "source": [
        "32개의 노드를 가진 입력층, 64개, 256개의 노드를 가진 각 1개(=총 2개)의 은닉층, 5개의 클래스로 구성된 데이터를 가진 신경망을 만들고자 합니다.\n",
        "\n",
        "주석 처리된 곳에 알맞은 숫자를 입력해주세요."
      ]
    },
    {
      "cell_type": "code",
      "execution_count": null,
      "id": "cd784d69",
      "metadata": {
        "id": "cd784d69"
      },
      "outputs": [],
      "source": [
        "from tensorflow.keras.models import Sequential\n",
        "from tensorflow.keras.layers import Dense\n",
        "\n",
        "A = 64\n",
        "B = 32\n",
        "C = 256\n",
        "D = 5\n",
        "\n",
        "model = Sequential([\n",
        "    Dense(A, activation='sigmoid', input_dim=B), # A, B\n",
        "    Dense(C, activation='sigmoid'), # C\n",
        "    Dense(D, activation='softmax') # D\n",
        "])\n",
        "\n",
        "lossFunction = 'sparse_categorical_crossentropy'\n",
        "batch_size = 50\n",
        "\n",
        "model.compile(optimizer='sgd', loss=lossFunction, metrics=['acc'])\n",
        "\n",
        "results = model.fit(X,y, batch_size=batch_size, epochs=100)"
      ]
    },
    {
      "cell_type": "markdown",
      "id": "40a27981",
      "metadata": {
        "id": "40a27981"
      },
      "source": [
        "- 1-1. 각각의 알파벳에 들어갈 숫자들은 이용하여 A+C/B + D 을 연산하여 정답을 입력하세요. (덧셈과 나눗셈의 순서를 혼동하지 않도록 조심하세요.)\n",
        "<br/>77<br/><br/>\n",
        "- 1-2. lossFunction에는 어떤 값을 넣어주어야 하나요?<br/>\n",
        "sparse_categorical_crossentropy<br/><br/>\n",
        "- 1-3. 입력데이터의 개수는 100개이고 batch_size가 50개라고 하면, 위 코드를 기준으로 전체 가중치의 학습(iteration)은 총 몇번이 일어날까요?\n",
        "<br/> 200 = 100(input_data_num) * 50(batch_size)"
      ]
    },
    {
      "cell_type": "code",
      "execution_count": 7,
      "id": "de0a5d9a",
      "metadata": {
        "id": "de0a5d9a",
        "outputId": "2358d9ab-d7ef-4a7b-fd85-885850ac352c",
        "colab": {
          "base_uri": "https://localhost:8080/"
        }
      },
      "outputs": [
        {
          "output_type": "execute_result",
          "data": {
            "text/plain": [
              "77.0"
            ]
          },
          "metadata": {},
          "execution_count": 7
        }
      ],
      "source": [
        "A + (C/B) + D"
      ]
    }
  ],
  "metadata": {
    "kernelspec": {
      "display_name": "Python 3 (ipykernel)",
      "language": "python",
      "name": "python3"
    },
    "language_info": {
      "codemirror_mode": {
        "name": "ipython",
        "version": 3
      },
      "file_extension": ".py",
      "mimetype": "text/x-python",
      "name": "python",
      "nbconvert_exporter": "python",
      "pygments_lexer": "ipython3",
      "version": "3.8.12"
    },
    "toc": {
      "base_numbering": 1,
      "nav_menu": {},
      "number_sections": true,
      "sideBar": true,
      "skip_h1_title": false,
      "title_cell": "Table of Contents",
      "title_sidebar": "Contents",
      "toc_cell": false,
      "toc_position": {},
      "toc_section_display": true,
      "toc_window_display": false
    },
    "colab": {
      "name": "n412_Assignment.ipynb",
      "provenance": [],
      "include_colab_link": true
    }
  },
  "nbformat": 4,
  "nbformat_minor": 5
}