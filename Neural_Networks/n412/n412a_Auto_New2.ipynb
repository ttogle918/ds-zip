{
  "cells": [
    {
      "cell_type": "markdown",
      "metadata": {
        "id": "view-in-github",
        "colab_type": "text"
      },
      "source": [
        "<a href=\"https://colab.research.google.com/github/ttogle918/ds-section4-sprint1/blob/master/n412/n412a_Auto_New2.ipynb\" target=\"_parent\"><img src=\"https://colab.research.google.com/assets/colab-badge.svg\" alt=\"Open In Colab\"/></a>"
      ]
    },
    {
      "cell_type": "markdown",
      "id": "78d70bf5",
      "metadata": {
        "id": "78d70bf5"
      },
      "source": [
        "<img align=\"right\" src=\"https://ds-cs-images.s3.ap-northeast-2.amazonaws.com/Codestates_Fulllogo_Color.png\" width=100>\n",
        "\n",
        "## *DATA SCIENCE / SECTION 4 / SPRINT 1 / NOTE 2*\n",
        "\n",
        "---\n",
        "\n",
        "# 📝 Assignment\n",
        "\n",
        "# 경사하강법과 역전파 알고리즘"
      ]
    },
    {
      "cell_type": "markdown",
      "id": "c17de44d",
      "metadata": {
        "id": "c17de44d"
      },
      "source": [
        "## 문제1. 오차역전파 구현하기"
      ]
    },
    {
      "cell_type": "markdown",
      "id": "545dc141",
      "metadata": {
        "id": "545dc141"
      },
      "source": [
        "오늘 Code Quiz는 간단한 로지스틱 회귀를 통해 오차역전파 과정에 대해 알아보는 것이 목표입니다.\n",
        "\n",
        "먼저, 데이터셋을 생성해보겠습니다."
      ]
    },
    {
      "cell_type": "code",
      "execution_count": 3,
      "id": "f2ff859a",
      "metadata": {
        "colab": {
          "base_uri": "https://localhost:8080/",
          "height": 320
        },
        "id": "f2ff859a",
        "outputId": "45904efd-00d1-49f9-cb86-343b39fec866"
      },
      "outputs": [
        {
          "output_type": "display_data",
          "data": {
            "image/png": "[encoded data removed]",
            "text/plain": [
              "<Figure size 864x360 with 1 Axes>"
            ]
          },
          "metadata": {
            "needs_background": "light"
          }
        }
      ],
      "source": [
        "import numpy as np\n",
        "np.random.seed(0)\n",
        "\n",
        "x1 = np.random.uniform(low=5, high=10, size=(50,))\n",
        "x2 = np.random.uniform(low=0, high=5, size=(50,))\n",
        "\n",
        "y1 = np.ones_like(x1)\n",
        "y2 = np.zeros_like(x2)\n",
        "\n",
        "outlier = np.random.uniform(low=20, high=23, size=20)\n",
        "y_outlier = np.ones_like(outlier)\n",
        "\n",
        "x1 = np.append(x1, outlier)\n",
        "y1 = np.append(y1, y_outlier)\n",
        "\n",
        "x_data = np.hstack([x1, x2])\n",
        "y_data = np.hstack([y1, y2])\n",
        "\n",
        "import matplotlib.pyplot as plt\n",
        "fig, ax = plt.subplots(figsize = (12,5))\n",
        "ax.plot(x_data[:70], y_data[:70], 'bo')\n",
        "ax.plot(x_data[70:], y_data[70:], 'ro')\n",
        "ax.grid()"
      ]
    },
    {
      "cell_type": "markdown",
      "id": "95a1024e",
      "metadata": {
        "id": "95a1024e"
      },
      "source": [
        "더하기, 빼기, 곱하기 같은 연산을 클래스 단위로 작성해보겠습니다.\n",
        "\n",
        "plus_node를 예시로 먼저, 설명해드리겠습니다.\n",
        "\n",
        "plus_node는 순전파(forward)의 경우 2개의 입력값(x,y)를 받고, 이를 더해줍니다.\n",
        "\n",
        "역전파(backward)시, 앞선 노드들의 역전파 값을 그대로 넘겨주게 됩니다.(```return dz, dz```)\n",
        "\n",
        "$$D = (x, y)\\text{일 때}, \\frac{\\partial f(x,y)}{\\partial D}=[\\frac{\\partial f(x,y)}{\\partial x}, \\frac{\\partial f(x,y)}{\\partial y}] = [1, 1]$$"
      ]
    },
    {
      "cell_type": "code",
      "execution_count": 5,
      "id": "3f814367",
      "metadata": {
        "id": "3f814367"
      },
      "outputs": [],
      "source": [
        "class plus_node:\n",
        "    def __init__(self):\n",
        "        self._x, self._y = None, None\n",
        "        self._z = None\n",
        "    \n",
        "    def forward(self, x, y):\n",
        "        self._x, self._y = x, y\n",
        "        self._z = self._x + self._y\n",
        "        return self._z\n",
        "    \n",
        "    def backward(self, dz):\n",
        "        return dz, dz\n",
        "    \n",
        "class minus_node:\n",
        "    def __init__(self):\n",
        "        self._x, self._y = None, None\n",
        "        self._z = None\n",
        "    \n",
        "    def forward(self, x, y):\n",
        "        self._x, self._y = x, y\n",
        "        self._z = self._x - self._y\n",
        "        return self._z\n",
        "    \n",
        "    def backward(self, dz):\n",
        "        return dz, -1*dz\n",
        "    \n",
        "class mul_node:\n",
        "    def __init__(self):\n",
        "        self._x, self._y = None, None\n",
        "        self._z = None\n",
        "    \n",
        "    def forward(self, x, y):\n",
        "        self._x, self._y = x, y\n",
        "        self._z = self._x * self._y\n",
        "        return self._z\n",
        "    \n",
        "    def backward(self, dz):\n",
        "        return self._y * dz, self._x * dz\n",
        "\n",
        "class square_node:\n",
        "    def __init__(self):\n",
        "        self._x = None\n",
        "        self._z = None\n",
        "    \n",
        "    def forward(self, x):\n",
        "        self._x = x\n",
        "        self._z = self._x * self._x\n",
        "        return self._z\n",
        "\n",
        "    def backward(self, dz):\n",
        "        return 2* dz *self._x\n",
        "    \n",
        "class mean_node:\n",
        "    def __init__(self):\n",
        "        self._x = None\n",
        "        self._z = None\n",
        "    \n",
        "    def forward(self, x):\n",
        "        self._x = x\n",
        "        self._z = np.mean(self._x)\n",
        "        return self._z\n",
        "    \n",
        "    def backward(self, dz):\n",
        "        dx = dz*1/len(self._x)*np.ones_like(self._x)\n",
        "        return dx\n",
        "\n",
        "class sigmoid_node():\n",
        "    def __init__(self):\n",
        "        self._x, self._y = None, None\n",
        "        \n",
        "    def forward(self, x):\n",
        "        self._x, self._y = x, 1/(1+np.exp(-1*x))\n",
        "        return self._y\n",
        "    def backward(self, dL):\n",
        "        return dL * (1-self._x) * self._x"
      ]
    },
    {
      "cell_type": "markdown",
      "id": "0c0d1157",
      "metadata": {
        "id": "0c0d1157"
      },
      "source": [
        "### 문제 1-1.\n",
        "다음 보기 중 (mul_node, square_node, sigmoid_node) 역전파 결과물로 올바른 것은?"
      ]
    },
    {
      "cell_type": "markdown",
      "id": "b3806ee1",
      "metadata": {
        "id": "b3806ee1"
      },
      "source": [
        "sigmoid_node"
      ]
    },
    {
      "cell_type": "markdown",
      "id": "78e90366",
      "metadata": {
        "id": "78e90366"
      },
      "source": [
        "다음으로, 노드를 생성하고, 간단한 로지스틱 회귀를 시행해보겠습니다.\n",
        "\n",
        "여기서 손실함수는 평균 제곱 오차를 수행하겠습니다.\n",
        "\n",
        "$$ \\hat{y} = \\theta_1 X + \\theta_0  $$\n",
        "$$ z = Sigmoid(\\hat{y}) $$\n",
        "$$ Loss = (y - z)^2$$\n",
        "$$ J(Cost) = \\frac{\\sum_{i=1}^n L_i}{n}$$"
      ]
    },
    {
      "cell_type": "code",
      "execution_count": 6,
      "id": "f5e97b7d",
      "metadata": {
        "colab": {
          "base_uri": "https://localhost:8080/"
        },
        "id": "f5e97b7d",
        "outputId": "777db161-1e4a-4403-9eeb-80fd8c9d4103"
      },
      "outputs": [
        {
          "output_type": "stream",
          "name": "stderr",
          "text": [
            "/usr/local/lib/python3.7/dist-packages/ipykernel_launcher.py:72: RuntimeWarning: overflow encountered in exp\n",
            "/usr/local/lib/python3.7/dist-packages/ipykernel_launcher.py:38: RuntimeWarning: overflow encountered in multiply\n",
            "/usr/local/lib/python3.7/dist-packages/ipykernel_launcher.py:75: RuntimeWarning: overflow encountered in multiply\n",
            "/usr/local/lib/python3.7/dist-packages/ipykernel_launcher.py:75: RuntimeWarning: invalid value encountered in multiply\n"
          ]
        }
      ],
      "source": [
        "mul = mul_node()\n",
        "plus = plus_node()\n",
        "sigmoid = sigmoid_node()\n",
        "minus = minus_node()\n",
        "square = square_node()\n",
        "mean = mean_node()\n",
        "\n",
        "th_list = [0.1, 0.1]\n",
        "lr = 0.5\n",
        "epochs = 200000\n",
        "cost_list = []\n",
        "th1_list, th0_list = [], []\n",
        "\n",
        "for i in range(epochs):\n",
        "\n",
        "    Z1 = mul.forward(th_list[1],x_data)\n",
        "    Z2 = plus.forward(Z1,th_list[0]) \n",
        "    Z3 = sigmoid.forward(Z2) \n",
        "    Z4 = minus.forward(y_data,Z3) \n",
        "    L = square.forward(Z4)\n",
        "    J = mean.forward(L)\n",
        "    \n",
        "    dL = mean.backward(J)\n",
        "    dZ4 = square.backward(dL)\n",
        "    dY, dZ3 = minus.backward(dZ4)\n",
        "    dZ2 = sigmoid.backward(dZ3)\n",
        "    dZ1, dTheta0 = plus.backward(dZ2)\n",
        "    dTheta1, dX = mul.backward(dZ1)\n",
        "\n",
        "    th_list[1] = th_list[1] - lr*np.sum(dTheta1)\n",
        "    th_list[0] = th_list[0] - lr*np.sum(dTheta0)\n",
        "    \n",
        "    cost_list.append(J)\n",
        "    th1_list.append(th_list[1])\n",
        "    th0_list.append(th_list[0])"
      ]
    },
    {
      "cell_type": "markdown",
      "id": "ec176cad",
      "metadata": {
        "id": "ec176cad"
      },
      "source": [
        "### 문제 1-2"
      ]
    },
    {
      "cell_type": "markdown",
      "id": "93e4c465",
      "metadata": {
        "id": "93e4c465"
      },
      "source": [
        "다음 빈칸에 해당하는 순전파 순서로 옳은 것을 고르시오"
      ]
    },
    {
      "cell_type": "markdown",
      "id": "a469485e",
      "metadata": {
        "id": "a469485e"
      },
      "source": [
        "학습한 $\\theta_1$과 $\\theta_0$를 이용해 시각화해보겠습니다."
      ]
    },
    {
      "cell_type": "code",
      "execution_count": null,
      "id": "bac293b9",
      "metadata": {
        "id": "bac293b9",
        "outputId": "0097ce26-4cf0-4717-e52d-f97dd81fba40"
      },
      "outputs": [
        {
          "data": {
            "image/png": "[encoded data removed]",
            "text/plain": [
              "<Figure size 864x360 with 1 Axes>"
            ]
          },
          "metadata": {
            "needs_background": "light"
          },
          "output_type": "display_data"
        }
      ],
      "source": [
        "x_min, x_max = x_data.min(), x_data.max()\n",
        "y_min, y_max = sigmoid.forward(x_min*th_list[1] + th_list[0]), sigmoid.forward(x_max*th_list[1] + th_list[0])\n",
        "x_range = np.linspace(x_min, x_max, 1000)\n",
        "y_range = sigmoid.forward(x_range*th_list[1] + th_list[0])\n",
        "\n",
        "fig, ax = plt.subplots(figsize = (12,5))\n",
        "ax.plot(x_data[:70], y_data[:70], 'bo')\n",
        "ax.plot(x_data[70:], y_data[70:], 'ro')\n",
        "ax.plot(x_range, y_range, 'r', linewidth = 2)\n",
        "ax.grid()"
      ]
    },
    {
      "cell_type": "markdown",
      "id": "4cedad3f",
      "metadata": {
        "id": "4cedad3f"
      },
      "source": [
        "## 문제2. Keras 이용하기"
      ]
    },
    {
      "cell_type": "markdown",
      "id": "c6e1d752",
      "metadata": {
        "id": "c6e1d752"
      },
      "source": [
        "32개의 노드를 가진 입력층, 64개, 256개의 노드를 가진 각 1개(=총 2개)의 은닉층, 5개의 클래스로 구성된 데이터를 가진 신경망을 만들고자 합니다.\n",
        "\n",
        "주석 처리된 곳에 알맞은 숫자를 입력해주세요."
      ]
    },
    {
      "cell_type": "code",
      "execution_count": null,
      "id": "0432fed7",
      "metadata": {
        "id": "0432fed7"
      },
      "outputs": [],
      "source": [
        "from tensorflow.keras.models import Sequential\n",
        "from tensorflow.keras.layers import Dense\n",
        "\n",
        "A = 64\n",
        "B = 32\n",
        "C = 256\n",
        "D = 5\n",
        "\n",
        "model = Sequential([\n",
        "    Dense(A, activation='sigmoid', input_dim=B), # A, B\n",
        "    Dense(C, activation='sigmoid'), # C\n",
        "    Dense(D, activation='softmax') # D\n",
        "])\n",
        "\n",
        "lossFunction = 'sparse_categorical_crossentropy'\n",
        "batch_size = 50\n",
        "\n",
        "model.compile(optimizer='sgd', loss=lossFunction, metrics=['acc'])\n",
        " \n",
        "results = model.fit(X,y, batch_size=batch_size, epochs=100)"
      ]
    },
    {
      "cell_type": "markdown",
      "id": "a9ac49e6",
      "metadata": {
        "id": "a9ac49e6"
      },
      "source": [
        "- 1-1. 각각의 알파벳에 들어갈 숫자들은 이용하여 A+C/B + D 을 연산하여 정답을 입력하시오. (덧셈과 나눗셈의 순서를 혼동하지 않도록 조심할 것.)\n",
        "- 1-2. lossFunction에는 어떤 값을 넣어주어야 하나?\n",
        "- 1-3. 입력데이터의 개수는 100개이고 batch_size가 50개라고 하면, 위 코드를 기준으로 전체 가중치의 학습(iteration)은 총 몇번이 일어날까?"
      ]
    }
  ],
  "metadata": {
    "kernelspec": {
      "display_name": "Python 3 (ipykernel)",
      "language": "python",
      "name": "python3"
    },
    "language_info": {
      "codemirror_mode": {
        "name": "ipython",
        "version": 3
      },
      "file_extension": ".py",
      "mimetype": "text/x-python",
      "name": "python",
      "nbconvert_exporter": "python",
      "pygments_lexer": "ipython3",
      "version": "3.8.10"
    },
    "toc": {
      "base_numbering": 1,
      "nav_menu": {},
      "number_sections": true,
      "sideBar": true,
      "skip_h1_title": false,
      "title_cell": "Table of Contents",
      "title_sidebar": "Contents",
      "toc_cell": false,
      "toc_position": {},
      "toc_section_display": true,
      "toc_window_display": false
    },
    "colab": {
      "name": "n412a_Auto_New2.ipynb",
      "provenance": [],
      "include_colab_link": true
    }
  },
  "nbformat": 4,
  "nbformat_minor": 5
}