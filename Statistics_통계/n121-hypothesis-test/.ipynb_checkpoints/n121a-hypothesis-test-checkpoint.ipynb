{
 "cells": [
  {
   "cell_type": "markdown",
   "metadata": {
    "id": "Sa5KWMO1ngPN"
   },
   "source": [
    "<img src='https://i.imgur.com/RDAD11M.png' width = '200' align = 'right'>\n",
    "\n",
    "## *DATA SCIENCE / SECTION 1 / SPRINT 2 / NOTE 1*\n",
    "\n",
    "# 📝 Assignment"
   ]
  },
  {
   "cell_type": "markdown",
   "metadata": {},
   "source": [
    "# 가설 검정"
   ]
  },
  {
   "cell_type": "markdown",
   "metadata": {
    "id": "gZDO3KBZOJNp"
   },
   "source": [
    "## 1. One-Sample T-test 연습"
   ]
  },
  {
   "cell_type": "markdown",
   "metadata": {
    "id": "CdRkOn9X5BdF"
   },
   "source": [
    "### 데이터 불러오기\n",
    "- [서울시 가로수 데이터셋](https://data.seoul.go.kr/dataList/367/S/2/datasetView.do)을 사용합니다.\n",
    "\n",
    "다음 링크를 참조하세요. \n",
    "<https://ds-lecture-data.s3.ap-northeast-2.amazonaws.com/seoul_tree/seoul_tree.txt>\n"
   ]
  },
  {
   "cell_type": "code",
   "execution_count": null,
   "metadata": {
    "id": "bd5YFp7Xvu8P"
   },
   "outputs": [],
   "source": [
    "# 이 곳에 답안을 작성하시기 바랍니다"
   ]
  },
  {
   "cell_type": "markdown",
   "metadata": {
    "id": "oxsx9cN7dUPp"
   },
   "source": [
    "### \"서울시에는 구별로 평균 약 400 그루 정도의 `이팝나무`가 있다\"라는 가설에 대해 가설검정을 시행하세요.\n",
    "\n",
    "- 단, `서울시`, `공원녹지사업소`, `시설관리공단` 부분의 데이터는 제외합니다.\n",
    "- 가설검정 결과의 pvalue 값을 `pv1`에 저장하세요. (`.pvalue` 사용)"
   ]
  },
  {
   "cell_type": "code",
   "execution_count": null,
   "metadata": {
    "id": "nfucb5GYpn1D"
   },
   "outputs": [],
   "source": [
    "# 이 곳에 답안을 작성하시기 바랍니다"
   ]
  },
  {
   "cell_type": "markdown",
   "metadata": {
    "id": "yAkyHaEnbNYa"
   },
   "source": [
    "### 이번에는 10개의 구를 샘플링하여, 위에 대한 가설검정을 다시 한번 시행해보세요.\n",
    "\n",
    "- 단, 아래의 코드를 참조하여 sample을 위한 seed 는 123로 설정하세요.\n",
    "- 가설검정 결과의 pvalue값을 `pv2`에 저장하세요\n"
   ]
  },
  {
   "cell_type": "code",
   "execution_count": null,
   "metadata": {
    "id": "DbQPGNNLq_AN"
   },
   "outputs": [],
   "source": [
    "import numpy as np\n",
    "np.random.seed(123)\n",
    "\n",
    "\"~\" = np.random.choice(\" \", size = 10)  # \"~\"와 \" \"을 적절한 값으로 채우시면 됩니다"
   ]
  },
  {
   "cell_type": "markdown",
   "metadata": {
    "id": "TPT-ZTt0PuIk"
   },
   "source": [
    "## 2. Two-Sample T-test 연습"
   ]
  },
  {
   "cell_type": "markdown",
   "metadata": {
    "id": "2WZnCBsR_2jT"
   },
   "source": [
    "### \"서울시의 구별 평균 느티나무수와 왕벚나무의 수는 차이가 없다\"라는 가설에 대해 가설검정을 시행하세요.\n",
    "\n",
    "- 단, `서울시`, `공원녹지사업소`, `시설관리공단` 부분의 데이터는 제외합니다.\n",
    "- 가설검정 결과의 pvalue를 `pv3`에 저장하세요"
   ]
  },
  {
   "cell_type": "code",
   "execution_count": null,
   "metadata": {
    "id": "lAs832N1tc7k"
   },
   "outputs": [],
   "source": [
    "# 이 곳에 답안을 작성하시기 바랍니다"
   ]
  },
  {
   "cell_type": "markdown",
   "metadata": {
    "id": "vhhXvirEAeCH"
   },
   "source": [
    "\n",
    "### Two-Sample One-tailed test를 사용하여 **평균 느티나무수가 왕벚나무 수보다 크다**라는 가설에 대한 가설검정을 시행하세요.\n",
    "- 해당 가설검정의 결과를 `ans`에 저장하세요.\n",
    "\n",
    "이 때 `ans`가 가질 수 있는 값은 아래와 같습니다 :\n",
    "1. \"느티나무\" ( 느티나무의 수가 통계적으로 유의하게 많은 경우 )\n",
    "2. \"왕벚나무\" ( 왕벚나무의 수가 통계적으로 유의하게 많은 경우 )\n",
    "3. \"없음\" (통계적으로 유의하지 않은 경우)\n",
    "\n",
    "Two-Sample One-tailed test를 scipy에서 하는 방법은 아래의 링크를 참고 하세요  \n",
    "참고 링크 : https://docs.scipy.org/doc/scipy/reference/generated/scipy.stats.ttest_ind.html"
   ]
  },
  {
   "cell_type": "code",
   "execution_count": null,
   "metadata": {},
   "outputs": [],
   "source": [
    "# 아래의 코드를 실행해주세요\n",
    "!pip install scipy --upgrade"
   ]
  },
  {
   "cell_type": "code",
   "execution_count": null,
   "metadata": {
    "id": "bCE3UgpbP69p"
   },
   "outputs": [],
   "source": [
    "# 이 곳에 답안을 작성하시기 바랍니다"
   ]
  },
  {
   "cell_type": "markdown",
   "metadata": {
    "id": "C5pkmOuKgK9Y"
   },
   "source": [
    "## 🔥 **도전과제**\n",
    "> 2문제 모두 하면 됩니다.\n",
    "\n"
   ]
  },
  {
   "cell_type": "markdown",
   "metadata": {
    "id": "3114xDdlPjFx"
   },
   "source": [
    "### 1. Compare mean for multiple-sample \n",
    " \n",
    "다음 링크를 참조하세요. <https://reneshbedre.github.io/blog/anova.html>\n",
    "\n",
    "구별, 은행나무, 양버즘나무, 느티나무에 대해서 ANOVA Test를 실행하세요.\n",
    "\n",
    "단, `서울시`, `공원녹지사업소`, `시설관리공단` 부분의 데이터는 제외합니다."
   ]
  },
  {
   "cell_type": "code",
   "execution_count": null,
   "metadata": {
    "id": "dPmXOHh1Cfea"
   },
   "outputs": [],
   "source": [
    "# 이 곳에 답안을 작성하시기 바랍니다"
   ]
  },
  {
   "cell_type": "markdown",
   "metadata": {
    "id": "nLl4aWDPCVaO"
   },
   "source": [
    "### 2. Sampling\n",
    "\n",
    "- 세션 시간에 배웠던 4가지 sampling (Simple Random, Systematic, Stratified Random, Cluster) 방식을 구현해보세요.\n",
    "\n",
    "- 이를 위한 데이터는 1 부터 100을 담은 numpy array이며, Sampling 해야 하는 수는 20개 입니다.\n",
    "\n",
    "- Stratified Random Sampling을 위한 그룹을 나누는 기준은 1-10, 11-20, ... 과 같은 방식입니다.\n",
    "\n",
    "- Cluster Sampling에서 그룹을 나누는 기준은 5로 나눴을때의 나머지 값입니다. (0,1,2,3,4)"
   ]
  },
  {
   "cell_type": "code",
   "execution_count": null,
   "metadata": {
    "id": "QUPwaynLAQjS"
   },
   "outputs": [],
   "source": [
    "# 이 곳에 답안을 작성하시기 바랍니다"
   ]
  }
 ],
 "metadata": {
  "colab": {
   "name": "n121a-hypothesis-test.ipynb",
   "provenance": []
  },
  "kernelspec": {
   "display_name": "Python 3",
   "language": "python",
   "name": "python3"
  },
  "language_info": {
   "codemirror_mode": {
    "name": "ipython",
    "version": 3
   },
   "file_extension": ".py",
   "mimetype": "text/x-python",
   "name": "python",
   "nbconvert_exporter": "python",
   "pygments_lexer": "ipython3",
   "version": "3.8.2"
  }
 },
 "nbformat": 4,
 "nbformat_minor": 4
}
