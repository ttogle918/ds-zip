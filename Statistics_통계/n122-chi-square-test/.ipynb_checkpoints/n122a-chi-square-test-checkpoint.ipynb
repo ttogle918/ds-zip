{
 "cells": [
  {
   "cell_type": "markdown",
   "metadata": {
    "id": "rQf3dSuc5PqO"
   },
   "source": [
    "<img src='https://i.imgur.com/RDAD11M.png' width = '200' align = 'right'>\n",
    "\n",
    "## *DATA SCIENCE / SECTION 1 / SPRINT 2 / NOTE 2*\n",
    "\n",
    "# 📝 Assignment"
   ]
  },
  {
   "cell_type": "markdown",
   "metadata": {},
   "source": [
    "# 카이제곱검정"
   ]
  },
  {
   "cell_type": "markdown",
   "metadata": {
    "id": "11OzdxWTM7UR"
   },
   "source": [
    "\n",
    "## 1. 공공데이터 조작 연습. \n",
    "\n",
    "국가 통계 포털에서 아래 이미지를 참조하여\n",
    "\n",
    "<https://kosis.kr/statisticsList/statisticsListIndex.do?menuId=M_01_01&vwcd=MT_ZTITLE&parmTabId=M_01_01#SelectStatsBoxDiv>\n",
    "\n",
    "**2020년 8월**에 해당하는 규모별 미분양현황 에 대한 데이터셋을 생성하세요. \n",
    "\n",
    "<img src='https://i.imgur.com/aZc4UJO.png' width = 500>\n",
    "\n",
    "- `60m이하`, `60~85m`, `85m초과`의 3개 규모와 (column)\n",
    "- `서울`, `대전`, `대구`, `부산` 4개의 지역을 포함해야합니다. (row)\n",
    "- `민간부문`만 포함합니다\n",
    "- 데이터가 없는 경우는 0으로 처리하세요.\n",
    "\n",
    "이후 데이터셋을 colab으로 불러오세요. 이때 변수의 이름은 `df`를 사용합니다.\n"
   ]
  },
  {
   "cell_type": "code",
   "execution_count": null,
   "metadata": {
    "id": "IhWdLFndyVAB"
   },
   "outputs": [],
   "source": [
    "col = ['~60m2', '60~85m2', '85m2~']\n",
    "row = ['서울', '대전', '대구', '부산']"
   ]
  },
  {
   "cell_type": "markdown",
   "metadata": {
    "id": "RXPZZuAi3ccI"
   },
   "source": [
    "## 2. 지역에 대해서 one-sample chi-square test를 실행, 해당 결과를 `chi1`에 저장 후 설명해보세요.\n",
    "\n",
    "예시) 만약 **9월달 데이터**를 기준으로 한다면\n",
    "```python\n",
    " [52+2+0, 590+665+142, 113+1061+42, 772+1+0]\n",
    "```\n",
    "을 비교 하게 될 것입니다.\n",
    "\n",
    "\n"
   ]
  },
  {
   "cell_type": "code",
   "execution_count": null,
   "metadata": {
    "id": "oIMzAkXks-Sv"
   },
   "outputs": [],
   "source": [
    "# 이 곳에 답안을 작성하시길 바랍니다"
   ]
  },
  {
   "cell_type": "markdown",
   "metadata": {
    "id": "eMDtugVNRu0q"
   },
   "source": [
    "## 3. 지역과 규모에 대해서 two-sample chi-square test를 실행, 해당 결과를 `chi2`에 저장 후 설명해보세요.\n",
    "\n",
    "예시) **9월달 데이터**를 기준으로 한다면\n",
    "\n",
    "| |-60 | 60-85 | 85- |\n",
    "|:-:|:-:|:-:|:-:|\n",
    "|서울|52|2|0|\n",
    "|대전|772|1|0|\n",
    "|대구|113|1061|42|\n",
    "|부산|590|665|142|\n",
    "\n",
    "에 대해서 검정해야 할 겁니다.\n",
    "\n",
    "\n"
   ]
  },
  {
   "cell_type": "code",
   "execution_count": null,
   "metadata": {
    "id": "Ckcr4A4FM7cs"
   },
   "outputs": [],
   "source": [
    "# 이 곳에 답안을 작성하시길 바랍니다"
   ]
  },
  {
   "cell_type": "markdown",
   "metadata": {
    "id": "Tf7XPpBP6YqX"
   },
   "source": [
    "### 4. 2번에 대해서 NumPy 를 사용하여 (Scipy를 사용하지 않고) $\\chi^2$ test 시행 후 2번의 결과와 비교해보세요. \n",
    "\n",
    "- `obs`, `exp`, `chi`라는 변수를 사용해야합니다.\n",
    "\n",
    "이 후 `chi2_contingency()`의 결과물과 비교해보세요"
   ]
  },
  {
   "cell_type": "code",
   "execution_count": null,
   "metadata": {
    "id": "OjFt0b1-wrFL"
   },
   "outputs": [],
   "source": [
    "# 이 곳에 답안을 작성하시길 바랍니다"
   ]
  },
  {
   "cell_type": "markdown",
   "metadata": {
    "id": "a2BrKHq8m8AS"
   },
   "source": [
    "## 🔥 도전 과제\n",
    "\n",
    "아래 세가지를 다하면 됩니다.\n",
    "\n",
    "### 1. Function\n",
    "\n",
    "4번에서 사용한 one sample chisquare test를 함수의 형태로 변경하세요."
   ]
  },
  {
   "cell_type": "code",
   "execution_count": null,
   "metadata": {
    "id": "AntnuAkFm-JQ"
   },
   "outputs": [],
   "source": [
    "v1 = [18,22,20,15,23,22]\n",
    "v2 = [5,23,26,19,24,23]\n",
    "\n",
    "def myChisq(value):\n",
    "    return None# 내용을 채우세요.\n",
    "\n",
    "myChisq(v1) \n",
    "\n",
    "# chisquare값과 pvalue를 출력해야합니다.\n",
    "\n",
    "myChisq(v2)"
   ]
  },
  {
   "cell_type": "markdown",
   "metadata": {
    "id": "4ohsJhQUmEuS"
   },
   "source": [
    "### 2. ANOVA\n",
    "\n",
    "아래 링크를 참조하여 ANOVA 에 대한 글을 읽고\n",
    "\n",
    "<https://partrita.github.io/posts/ANOVA-python/>\n",
    "\n",
    "다음 `4개 그룹에 대해서 평균의 차이가 있는지`에 대한 가설 검정을 시행하세요.\n",
    "\n",
    "A : `38 33 35 92 76 97 88 41 11  9`\n",
    "\n",
    "B : `18 52 62 48 30 40 87 12 97 82`\n",
    "\n",
    "C :  `28 90  5 49 66 73 96 80  4 17`\n",
    "\n",
    "D : ` 8 99  4 12  7 64 18 10  9 20`\n",
    "\n"
   ]
  },
  {
   "cell_type": "code",
   "execution_count": null,
   "metadata": {
    "id": "DMebi5_4UaSn"
   },
   "outputs": [],
   "source": [
    "# 이 곳에 답안을 작성하시길 바랍니다"
   ]
  }
 ],
 "metadata": {
  "colab": {
   "name": "n122-chi-square-test.ipynb",
   "provenance": []
  },
  "kernelspec": {
   "display_name": "Python 3",
   "language": "python",
   "name": "python3"
  },
  "language_info": {
   "codemirror_mode": {
    "name": "ipython",
    "version": 3
   },
   "file_extension": ".py",
   "mimetype": "text/x-python",
   "name": "python",
   "nbconvert_exporter": "python",
   "pygments_lexer": "ipython3",
   "version": "3.8.2"
  }
 },
 "nbformat": 4,
 "nbformat_minor": 4
}
