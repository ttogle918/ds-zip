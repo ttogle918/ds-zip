{
 "cells": [
  {
   "cell_type": "markdown",
   "metadata": {
    "id": "838Dmw1kM2LK"
   },
   "source": [
    "<img src='https://i.imgur.com/RDAD11M.png' width = '200' align = 'right'>\n",
    "\n",
    "## *DATA SCIENCE / SECTION 1 / SPRINT 2 / NOTE 2*\n",
    "\n",
    "---\n",
    "\n",
    "# More Hypothesis Testing\n",
    "\n",
    "## 🏆 학습 목표 \n",
    "\n",
    "- t-test를 위한 조건을 알 수 있다.\n",
    "- t-test외에 다른 가설검정 방법에 대해서 설명할 수 있다.\n",
    "- Type of Error를 구분하고 설명할 수 있다.\n",
    "- $\\chi^2$-test의 목적과 사용예시를 설명할 수 있다.\n",
    "- 모수통계와 비모수통계의 차이에 대해 설명할 수 있다.\n",
    "---"
   ]
  },
  {
   "cell_type": "markdown",
   "metadata": {
    "id": "dbcPKIo5M6Ny"
   },
   "source": [
    "## T-test +\n",
    "\n",
    "어제 배운 t-test는 그룹의 평균값에 대해서 비교하는 가설검정방법입니다.\n",
    "\n",
    "그러나 사실 t-test를 사용하기 위해서는 몇가지 조건이 가정되어야합니다.\n",
    "\n",
    "다음 링크를 참조하세요.\n",
    "\n",
    "<http://www.incodom.kr/%EC%9D%B4%EB%A1%A0_%EB%B0%8F_T%EA%B2%80%EC%A0%95>\n",
    "\n",
    "<https://dermabae.tistory.com/?page=26>\n",
    "\n",
    "<img src='https://user-images.githubusercontent.com/6457691/89757774-2fc40280-db21-11ea-8de7-43d878f97efe.png' width='500'>\n",
    "\n",
    "- 독립성 : 두 그룹이 연결되어 있는 (paired) 쌍인지\n",
    "\n",
    "<img src='https://i.imgur.com/IPfYgXT.png'>\n",
    "\n",
    "- 등분산성 : 두 그룹이 어느정도 유사한 수준의 분산 값을 가지는지\n",
    "\n",
    "<img src='https://i.imgur.com/XpNvpqF.png'>\n",
    "\n",
    "- 정규성: 데이터가 정규성을 나타는지\n",
    "\n",
    "<img src='https://i.imgur.com/XsR0OW1.png'>\n",
    "\n",
    "\n",
    "즉 t-test는 `특정한 조건에서` 그룹의 평균을 비교하기 위한 가설검정 방법이라는 것 입니다.\n",
    "\n",
    "**그리고 이러한 내용들을 확인하기 위한 가설검정 방법들도 scipy에 이미 구현되어 있습니다.**"
   ]
  },
  {
   "cell_type": "markdown",
   "metadata": {
    "id": "Ne2VqctBTBkh"
   },
   "source": [
    "### 데이터의 정규성 확인\n",
    "\n",
    "정규분포의 수학적 정의에 대해서는 다음 링크를 참조하세요. \n",
    "\n",
    "<https://en.wikipedia.org/wiki/Normal_distribution>\n",
    "\n",
    "<img src='https://i.imgur.com/34BFVHJ.png'>\n",
    "\n",
    "그러나 만약 아래와 같이 데이터가 정규분포와는 다른 양상을 보인다면, 이를 통계적으로 어떻게 검증해야 할까요?\n",
    "\n",
    "<img src='https://i.imgur.com/bs4DjYh.png'>\n",
    "\n",
    "구글에 python normal test를 검색해볼 수 있을겁니다.\n",
    "\n",
    "<img src='https://i.imgur.com/PaR3EpO.png' width = 500>\n",
    "\n",
    "여러분은 어떤 내용이 정말 normality를 test하기 위한 방법인지 모르기 때문에 하나하나 다 읽어봐야 할겁니다.\n",
    "\n",
    "<img src='https://i.imgur.com/Cr5VUgI.png'>\n",
    "\n",
    "그러면 어느 순간 `scipy.stats`의 `normaltest`가 관련 방법이구나 라는 걸 알게 될 겁니다.\n",
    "\n",
    "특히 `함께 검색한 항목`들을 참조한다면 더 깊게 공부 할 수 있을겁니다.\n",
    "\n",
    "? 그렇다면 데이터의 등분산성을 확인하기 위해서는 어떻게 해야 할까요?!\n",
    "\n"
   ]
  },
  {
   "cell_type": "code",
   "execution_count": 2,
   "metadata": {
    "colab": {
     "base_uri": "https://localhost:8080/"
    },
    "id": "nN0BdNiDPxbk",
    "outputId": "829a5fdf-0a5c-4fc1-a798-1b57ba67040c"
   },
   "outputs": [
    {
     "data": {
      "text/plain": [
       "NormaltestResult(statistic=20.30705116357633, pvalue=3.89385583211646e-05)"
      ]
     },
     "execution_count": 2,
     "metadata": {},
     "output_type": "execute_result"
    }
   ],
   "source": [
    "from scipy.stats import normaltest\n",
    "import numpy as np\n",
    "\n",
    "sample = np.random.poisson(5, 1000) # normal 분포가 아님\n",
    "normaltest(sample) "
   ]
  },
  {
   "cell_type": "code",
   "execution_count": 3,
   "metadata": {
    "colab": {
     "base_uri": "https://localhost:8080/"
    },
    "id": "jv41hbleWWqF",
    "outputId": "b93d5ac0-cf36-4d5b-971e-21c0ebcf2bc2"
   },
   "outputs": [
    {
     "data": {
      "text/plain": [
       "NormaltestResult(statistic=1.1197351139362957, pvalue=0.5712847215191075)"
      ]
     },
     "execution_count": 3,
     "metadata": {},
     "output_type": "execute_result"
    }
   ],
   "source": [
    "sample2 = np.random.normal(size = 1000) # normal 분포\n",
    "normaltest(sample2)"
   ]
  },
  {
   "cell_type": "markdown",
   "metadata": {
    "id": "7Bn1BF7jUdqw"
   },
   "source": [
    "## Type of Error\n",
    "\n",
    "<img src='https://i.imgur.com/JMCGnLZ.png'>"
   ]
  },
  {
   "cell_type": "markdown",
   "metadata": {
    "id": "QytvTwTzU6sG"
   },
   "source": [
    "## More hypothesis testing\n",
    "\n",
    "<img src='https://i.imgur.com/CqfM9t8.png'>\n"
   ]
  },
  {
   "cell_type": "markdown",
   "metadata": {
    "id": "-sOcgclVQda5"
   },
   "source": [
    "## Non-Parametric Methods\n",
    "\n"
   ]
  },
  {
   "cell_type": "markdown",
   "metadata": {
    "id": "oxBLTpsxXEs_"
   },
   "source": [
    "모집단이 특정 확률 분포 (normal과 같은)를 따른다는 전제를 **하지 않는** 방식.\n",
    "parameter estimation이 필요하지 않기 때문에 non-parametric이라고 부름\n",
    "\n",
    "- Categorical 데이터를 위한 모델링 \n",
    "- 혹은 극단적 outlier가 있는 경우 매우매우 유효한 방식\n",
    "\n",
    "- `distribution free` method라고 부르기도 함."
   ]
  },
  {
   "cell_type": "markdown",
   "metadata": {
    "id": "CzGNkBTkXmO2"
   },
   "source": [
    "- Chisquare\n",
    "- Spearman correlation\n",
    "- Run test\n",
    "- Kolmogorov Smirnov\n",
    "- Mann-Whitney U\n",
    "- Wilcoxon\n",
    "- Kruskal-Wallis \n",
    "등"
   ]
  },
  {
   "cell_type": "markdown",
   "metadata": {
    "id": "ZLiANYzOW-SR"
   },
   "source": [
    "### Kruskal-Wallis Test (**비모수적** 평균 비교법)\n",
    "\n",
    "다음 링크를 참조하세요\n",
    "\n",
    "<https://dermabae.tistory.com/168>"
   ]
  },
  {
   "cell_type": "code",
   "execution_count": 4,
   "metadata": {
    "colab": {
     "base_uri": "https://localhost:8080/"
    },
    "id": "P5t0WhkDReFO",
    "outputId": "4f4ff385-a2d2-4da0-fcf3-b6ecf721a9eb"
   },
   "outputs": [
    {
     "data": {
      "text/plain": [
       "KruskalResult(statistic=0.01111111111111548, pvalue=0.91605107228188)"
      ]
     },
     "execution_count": 4,
     "metadata": {},
     "output_type": "execute_result"
    }
   ],
   "source": [
    "# Kruskal-Wallis H-test - 2개 이상 그룹의 중위 랭크를 통한 차이 비교 ( extended X2 )\n",
    "# 샘플 수가 > 5 일때 좋음 \n",
    "from scipy.stats import kruskal\n",
    "\n",
    "x1 = [1, 3, 4, 8, 9]\n",
    "y1 = [1, 4, 6, 7, 7]\n",
    "kruskal(x1, y1) # 약간은 다르지만, \"유의한\" 차이는 아님"
   ]
  },
  {
   "cell_type": "code",
   "execution_count": 5,
   "metadata": {
    "colab": {
     "base_uri": "https://localhost:8080/"
    },
    "id": "eUSOvoHZWv6w",
    "outputId": "c6d24b00-65fe-488c-fc0b-920bf0c9625c"
   },
   "outputs": [
    {
     "data": {
      "text/plain": [
       "KruskalResult(statistic=6.325301204819277, pvalue=0.042313436212501186)"
      ]
     },
     "execution_count": 5,
     "metadata": {},
     "output_type": "execute_result"
    }
   ],
   "source": [
    "x2 = [12, 15, 18]\n",
    "y2 = [24, 25, 26]\n",
    "z = [40, 40]  # 3번째 그룹은 사이즈가 다름\n",
    "kruskal(x2, y2, z)"
   ]
  },
  {
   "cell_type": "markdown",
   "metadata": {
    "id": "YTnO2ZszorI2"
   },
   "source": [
    "## $\\chi^2$ Tests"
   ]
  },
  {
   "cell_type": "markdown",
   "metadata": {
    "id": "uV5tsjN774rO"
   },
   "source": [
    "### One sample $\\chi^2$ test\n",
    "\n",
    "<img src='https://i.imgur.com/SnQFL2c.png'>\n",
    "\n",
    "주어진 데이터가 특정 예상되는 분포와 동일한 분포를 나타내는지 에 대한 가설검정.\n",
    "\n",
    "Goodness of Fit test라 부르기도 합니다.\n",
    "\n",
    "여기서 예상 되는 빈도의 값은 :\n",
    "\n",
    "\\begin{align}\n",
    "\\frac{\\text{전체 데이터 수}}{\\text{# 데이터의 종류}}\n",
    "\\end{align}\n",
    "\n",
    "입니다."
   ]
  },
  {
   "cell_type": "markdown",
   "metadata": {
    "id": "-rcOoStbfPkh"
   },
   "source": [
    "### $\\chi^2$ 통계치 의 계산식\n",
    "\n",
    "\\begin{align}\n",
    "\\chi^2 = \\sum \\frac{(observed_i-expected_i)^2}{(expected_i)}\n",
    "\\end{align}\n",
    "\n",
    "<img src='https://i.imgur.com/lbgezU0.png' width = 450>"
   ]
  },
  {
   "cell_type": "markdown",
   "metadata": {
    "id": "xSjBHM5Yg4MJ"
   },
   "source": [
    "각 차이의 값을 제곱하는 것으로, 모든 값을 양수로 만들고 관측과 예측값의 **차이**를 더 강조하는 효과가 있습니다."
   ]
  },
  {
   "cell_type": "markdown",
   "metadata": {
    "id": "YSYk6kk5DCeL"
   },
   "source": [
    "## Statistics -> P-value \n",
    "\n",
    "<img src='https://i.imgur.com/7PY3TGX.png'>\n",
    "\n",
    "\n",
    "\n"
   ]
  },
  {
   "cell_type": "markdown",
   "metadata": {
    "id": "B-BvZAAxDU0Q"
   },
   "source": [
    "### 통계치를 pvalue로 바꾸는 방법??\n",
    "\n",
    "이제는 구글링이 익숙하실 것이라고 생각합니다.\n",
    "\n",
    "<img src='https://i.imgur.com/5yp1qpc.png'>"
   ]
  },
  {
   "cell_type": "markdown",
   "metadata": {
    "id": "T9Re8FJeq-e6"
   },
   "source": [
    "### P-value 계산을 위한 통계치 사용 : \n",
    "\n",
    "||A|B|\n",
    "|:-:|:-:|:-:|\n",
    "|X|9|2|\n",
    "|Y|13|3|\n",
    "\n",
    "(위 데이터는 계산을 하면 $\\chi^2$ = `0.00139`가 나오고 자유도는 1이 나옴)\n",
    "\n",
    "`stats.chi2.pdf(x2, df)` \n",
    "\n",
    "<https://docs.scipy.org/doc/scipy/reference/generated/scipy.stats.chi2.html>\n",
    "\n",
    "[U Iowa chi^2 applet](https://homepage.divms.uiowa.edu/~mbognar/applets/chisq.html)"
   ]
  },
  {
   "cell_type": "code",
   "execution_count": 6,
   "metadata": {
    "colab": {
     "base_uri": "https://localhost:8080/"
    },
    "id": "I86gS7U1Qdbg",
    "outputId": "96cc0260-ad85-4d9b-9daa-fb2dc6bd709a"
   },
   "outputs": [
    {
     "data": {
      "text/plain": [
       "0.9702595963009745"
      ]
     },
     "execution_count": 6,
     "metadata": {},
     "output_type": "execute_result"
    }
   ],
   "source": [
    "from scipy import stats\n",
    "\n",
    "x2 = 0.00139\n",
    "\n",
    "1 - stats.chi2.cdf(x2, df = ((2-1)*(2-1)) ) # pvalue : 0.97, 연관이 있다."
   ]
  },
  {
   "cell_type": "code",
   "execution_count": 7,
   "metadata": {
    "colab": {
     "base_uri": "https://localhost:8080/"
    },
    "id": "tlBel8j9M6tB",
    "outputId": "ec2de048-b86a-421a-d238-d5e2576712a5"
   },
   "outputs": [
    {
     "name": "stdout",
     "output_type": "stream",
     "text": [
      "--- Similar ---\n"
     ]
    },
    {
     "data": {
      "text/plain": [
       "Power_divergenceResult(statistic=2.3000000000000003, pvalue=0.8062668698851285)"
      ]
     },
     "execution_count": 7,
     "metadata": {},
     "output_type": "execute_result"
    }
   ],
   "source": [
    "import numpy as np\n",
    "from scipy.stats import chisquare  \n",
    "\n",
    "s_obs = np.array([[18, 22, 20, 15, 23, 22]]) # Similar\n",
    "print('--- Similar ---')\n",
    "chisquare(s_obs, axis=None) # One sample chi-square"
   ]
  },
  {
   "cell_type": "code",
   "execution_count": 8,
   "metadata": {
    "colab": {
     "base_uri": "https://localhost:8080/"
    },
    "id": "LKSU_zZPBCDU",
    "outputId": "b9b371ee-8547-4a3a-b4b9-88886e9319b6"
   },
   "outputs": [
    {
     "name": "stdout",
     "output_type": "stream",
     "text": [
      "--- not Similar ---\n"
     ]
    },
    {
     "data": {
      "text/plain": [
       "Power_divergenceResult(statistic=14.8, pvalue=0.011251979028327346)"
      ]
     },
     "execution_count": 8,
     "metadata": {},
     "output_type": "execute_result"
    }
   ],
   "source": [
    "ns_obs = np.array([[5, 23, 26, 19, 24, 23]])\n",
    "\n",
    "print('--- not Similar ---')\n",
    "chisquare(ns_obs, axis=None)"
   ]
  },
  {
   "cell_type": "markdown",
   "metadata": {
    "id": "BQ1VFz28jnUc"
   },
   "source": [
    "### Two sample $\\chi^2$ test\n",
    "\n",
    "<img src='https://i.imgur.com/iVGsbfi.png'>\n",
    "\n",
    "<https://en.wikipedia.org/wiki/Chi-squared_test>\n",
    "\n"
   ]
  },
  {
   "cell_type": "markdown",
   "metadata": {
    "id": "1_7zmn5SCS_9"
   },
   "source": [
    "#### 🍴Kaggle의 [Food Choice 데이터셋](https://www.kaggle.com/borapajo/food-choices?select=food_coded.csv)을 사용합니다.\n",
    "\n",
    "데이터셋 내부에 여러 텍스트 데이터가 많아서 원래는 NLP를 사용해야 하지만, 지금은 categorical 분석을 위하여 부분만 사용하도록 하겠습니다.\n"
   ]
  },
  {
   "cell_type": "code",
   "execution_count": 9,
   "metadata": {
    "colab": {
     "base_uri": "https://localhost:8080/",
     "height": 445
    },
    "id": "BGB27TT6jsWn",
    "outputId": "ba2d9bb3-a790-4e9b-d980-b1a4b04ddccd"
   },
   "outputs": [
    {
     "data": {
      "text/html": [
       "<div>\n",
       "<style scoped>\n",
       "    .dataframe tbody tr th:only-of-type {\n",
       "        vertical-align: middle;\n",
       "    }\n",
       "\n",
       "    .dataframe tbody tr th {\n",
       "        vertical-align: top;\n",
       "    }\n",
       "\n",
       "    .dataframe thead th {\n",
       "        text-align: right;\n",
       "    }\n",
       "</style>\n",
       "<table border=\"1\" class=\"dataframe\">\n",
       "  <thead>\n",
       "    <tr style=\"text-align: right;\">\n",
       "      <th></th>\n",
       "      <th>GPA</th>\n",
       "      <th>Gender</th>\n",
       "      <th>breakfast</th>\n",
       "      <th>calories_chicken</th>\n",
       "      <th>calories_day</th>\n",
       "      <th>calories_scone</th>\n",
       "      <th>coffee</th>\n",
       "      <th>comfort_food</th>\n",
       "      <th>comfort_food_reasons</th>\n",
       "      <th>comfort_food_reasons_coded</th>\n",
       "      <th>...</th>\n",
       "      <th>soup</th>\n",
       "      <th>sports</th>\n",
       "      <th>thai_food</th>\n",
       "      <th>tortilla_calories</th>\n",
       "      <th>turkey_calories</th>\n",
       "      <th>type_sports</th>\n",
       "      <th>veggies_day</th>\n",
       "      <th>vitamins</th>\n",
       "      <th>waffle_calories</th>\n",
       "      <th>weight</th>\n",
       "    </tr>\n",
       "  </thead>\n",
       "  <tbody>\n",
       "    <tr>\n",
       "      <th>0</th>\n",
       "      <td>2.4</td>\n",
       "      <td>2</td>\n",
       "      <td>1</td>\n",
       "      <td>430</td>\n",
       "      <td>NaN</td>\n",
       "      <td>315.0</td>\n",
       "      <td>1</td>\n",
       "      <td>none</td>\n",
       "      <td>we dont have comfort</td>\n",
       "      <td>9.0</td>\n",
       "      <td>...</td>\n",
       "      <td>1.0</td>\n",
       "      <td>1.0</td>\n",
       "      <td>1</td>\n",
       "      <td>1165.0</td>\n",
       "      <td>345</td>\n",
       "      <td>car racing</td>\n",
       "      <td>5</td>\n",
       "      <td>1</td>\n",
       "      <td>1315</td>\n",
       "      <td>187</td>\n",
       "    </tr>\n",
       "    <tr>\n",
       "      <th>1</th>\n",
       "      <td>3.654</td>\n",
       "      <td>1</td>\n",
       "      <td>1</td>\n",
       "      <td>610</td>\n",
       "      <td>3.0</td>\n",
       "      <td>420.0</td>\n",
       "      <td>2</td>\n",
       "      <td>chocolate, chips, ice cream</td>\n",
       "      <td>Stress, bored, anger</td>\n",
       "      <td>1.0</td>\n",
       "      <td>...</td>\n",
       "      <td>1.0</td>\n",
       "      <td>1.0</td>\n",
       "      <td>2</td>\n",
       "      <td>725.0</td>\n",
       "      <td>690</td>\n",
       "      <td>Basketball</td>\n",
       "      <td>4</td>\n",
       "      <td>2</td>\n",
       "      <td>900</td>\n",
       "      <td>155</td>\n",
       "    </tr>\n",
       "    <tr>\n",
       "      <th>2</th>\n",
       "      <td>3.3</td>\n",
       "      <td>1</td>\n",
       "      <td>1</td>\n",
       "      <td>720</td>\n",
       "      <td>4.0</td>\n",
       "      <td>420.0</td>\n",
       "      <td>2</td>\n",
       "      <td>frozen yogurt, pizza, fast food</td>\n",
       "      <td>stress, sadness</td>\n",
       "      <td>1.0</td>\n",
       "      <td>...</td>\n",
       "      <td>1.0</td>\n",
       "      <td>2.0</td>\n",
       "      <td>5</td>\n",
       "      <td>1165.0</td>\n",
       "      <td>500</td>\n",
       "      <td>none</td>\n",
       "      <td>5</td>\n",
       "      <td>1</td>\n",
       "      <td>900</td>\n",
       "      <td>I'm not answering this.</td>\n",
       "    </tr>\n",
       "    <tr>\n",
       "      <th>3</th>\n",
       "      <td>3.2</td>\n",
       "      <td>1</td>\n",
       "      <td>1</td>\n",
       "      <td>430</td>\n",
       "      <td>3.0</td>\n",
       "      <td>420.0</td>\n",
       "      <td>2</td>\n",
       "      <td>Pizza, Mac and cheese, ice cream</td>\n",
       "      <td>Boredom</td>\n",
       "      <td>2.0</td>\n",
       "      <td>...</td>\n",
       "      <td>1.0</td>\n",
       "      <td>2.0</td>\n",
       "      <td>5</td>\n",
       "      <td>725.0</td>\n",
       "      <td>690</td>\n",
       "      <td>NaN</td>\n",
       "      <td>3</td>\n",
       "      <td>1</td>\n",
       "      <td>1315</td>\n",
       "      <td>Not sure, 240</td>\n",
       "    </tr>\n",
       "    <tr>\n",
       "      <th>4</th>\n",
       "      <td>3.5</td>\n",
       "      <td>1</td>\n",
       "      <td>1</td>\n",
       "      <td>720</td>\n",
       "      <td>2.0</td>\n",
       "      <td>420.0</td>\n",
       "      <td>2</td>\n",
       "      <td>Ice cream, chocolate, chips</td>\n",
       "      <td>Stress, boredom, cravings</td>\n",
       "      <td>1.0</td>\n",
       "      <td>...</td>\n",
       "      <td>1.0</td>\n",
       "      <td>1.0</td>\n",
       "      <td>4</td>\n",
       "      <td>940.0</td>\n",
       "      <td>500</td>\n",
       "      <td>Softball</td>\n",
       "      <td>4</td>\n",
       "      <td>2</td>\n",
       "      <td>760</td>\n",
       "      <td>190</td>\n",
       "    </tr>\n",
       "  </tbody>\n",
       "</table>\n",
       "<p>5 rows × 61 columns</p>\n",
       "</div>"
      ],
      "text/plain": [
       "     GPA  Gender  breakfast  calories_chicken  calories_day  calories_scone  \\\n",
       "0    2.4       2          1               430           NaN           315.0   \n",
       "1  3.654       1          1               610           3.0           420.0   \n",
       "2    3.3       1          1               720           4.0           420.0   \n",
       "3    3.2       1          1               430           3.0           420.0   \n",
       "4    3.5       1          1               720           2.0           420.0   \n",
       "\n",
       "   coffee                      comfort_food        comfort_food_reasons  \\\n",
       "0       1                              none       we dont have comfort    \n",
       "1       2       chocolate, chips, ice cream        Stress, bored, anger   \n",
       "2       2   frozen yogurt, pizza, fast food             stress, sadness   \n",
       "3       2  Pizza, Mac and cheese, ice cream                     Boredom   \n",
       "4       2      Ice cream, chocolate, chips   Stress, boredom, cravings    \n",
       "\n",
       "   comfort_food_reasons_coded  ...  soup  sports  thai_food tortilla_calories  \\\n",
       "0                         9.0  ...   1.0     1.0          1            1165.0   \n",
       "1                         1.0  ...   1.0     1.0          2             725.0   \n",
       "2                         1.0  ...   1.0     2.0          5            1165.0   \n",
       "3                         2.0  ...   1.0     2.0          5             725.0   \n",
       "4                         1.0  ...   1.0     1.0          4             940.0   \n",
       "\n",
       "   turkey_calories  type_sports veggies_day  vitamins  waffle_calories  \\\n",
       "0              345   car racing           5         1             1315   \n",
       "1              690  Basketball            4         2              900   \n",
       "2              500         none           5         1              900   \n",
       "3              690          NaN           3         1             1315   \n",
       "4              500     Softball           4         2              760   \n",
       "\n",
       "                     weight  \n",
       "0                       187  \n",
       "1                       155  \n",
       "2  I'm not answering this.   \n",
       "3             Not sure, 240  \n",
       "4                       190  \n",
       "\n",
       "[5 rows x 61 columns]"
      ]
     },
     "execution_count": 9,
     "metadata": {},
     "output_type": "execute_result"
    }
   ],
   "source": [
    "import pandas as pd\n",
    "food = pd.read_csv('https://ds-lecture-data.s3.ap-northeast-2.amazonaws.com/food_choice/food_coded.csv')\n",
    "food.head()"
   ]
  },
  {
   "cell_type": "markdown",
   "metadata": {
    "id": "GY62zKXhQdbL"
   },
   "source": [
    "- 여러 데이터 중 `income`과 `pay_meal_out`, 그리고 `persian_food` 변수에 대해서만 사용해보도록 하겠습니다."
   ]
  },
  {
   "cell_type": "code",
   "execution_count": 10,
   "metadata": {
    "colab": {
     "base_uri": "https://localhost:8080/"
    },
    "id": "n1BExfSeQdbL",
    "outputId": "528d3f89-bce4-4979-dd4c-11d146192493"
   },
   "outputs": [
    {
     "data": {
      "text/plain": [
       "income          float64\n",
       "pay_meal_out      int64\n",
       "persian_food    float64\n",
       "dtype: object"
      ]
     },
     "execution_count": 10,
     "metadata": {},
     "output_type": "execute_result"
    }
   ],
   "source": [
    "food[['income','pay_meal_out','persian_food']].dtypes"
   ]
  },
  {
   "cell_type": "markdown",
   "metadata": {
    "id": "csBI0X0KnShB"
   },
   "source": [
    "### Numerical -> Categorial \n",
    "\n",
    "#### Type casting\n",
    "\n",
    "numerical 이지만, continuous하지 않아 바로 category로 사용 할 수 있는 경우. \n",
    "\n",
    "ex) 1, 2, 3 -> `1`, `2`, `3`\n",
    "\n",
    "#### Binning\n",
    "\n",
    "numerical 이지만, continuous 해서 구간별로 나누어 사용 할 수 있는 경우. \n",
    "\n",
    "ex) 1.4, 2, 3.1, 2.8, 1.1, 2.5 -> `A` : 1 ~ 2, `B` : 2 ~ 3, `C` : 3 ~ 4\n",
    "\n",
    "이번 데이터에서는 윗 방식을 사용합니다."
   ]
  },
  {
   "cell_type": "code",
   "execution_count": 11,
   "metadata": {
    "colab": {
     "base_uri": "https://localhost:8080/",
     "height": 204
    },
    "id": "T--NyPxnQdbN",
    "outputId": "afeb38a0-7ec2-4e95-a56a-a5e980646543"
   },
   "outputs": [
    {
     "data": {
      "text/html": [
       "<div>\n",
       "<style scoped>\n",
       "    .dataframe tbody tr th:only-of-type {\n",
       "        vertical-align: middle;\n",
       "    }\n",
       "\n",
       "    .dataframe tbody tr th {\n",
       "        vertical-align: top;\n",
       "    }\n",
       "\n",
       "    .dataframe thead th {\n",
       "        text-align: right;\n",
       "    }\n",
       "</style>\n",
       "<table border=\"1\" class=\"dataframe\">\n",
       "  <thead>\n",
       "    <tr style=\"text-align: right;\">\n",
       "      <th></th>\n",
       "      <th>income</th>\n",
       "      <th>pay_meal_out</th>\n",
       "      <th>persian_food</th>\n",
       "    </tr>\n",
       "  </thead>\n",
       "  <tbody>\n",
       "    <tr>\n",
       "      <th>0</th>\n",
       "      <td>5.0</td>\n",
       "      <td>2</td>\n",
       "      <td>5.0</td>\n",
       "    </tr>\n",
       "    <tr>\n",
       "      <th>1</th>\n",
       "      <td>4.0</td>\n",
       "      <td>4</td>\n",
       "      <td>4.0</td>\n",
       "    </tr>\n",
       "    <tr>\n",
       "      <th>2</th>\n",
       "      <td>6.0</td>\n",
       "      <td>3</td>\n",
       "      <td>5.0</td>\n",
       "    </tr>\n",
       "    <tr>\n",
       "      <th>3</th>\n",
       "      <td>6.0</td>\n",
       "      <td>2</td>\n",
       "      <td>5.0</td>\n",
       "    </tr>\n",
       "    <tr>\n",
       "      <th>4</th>\n",
       "      <td>6.0</td>\n",
       "      <td>4</td>\n",
       "      <td>2.0</td>\n",
       "    </tr>\n",
       "  </tbody>\n",
       "</table>\n",
       "</div>"
      ],
      "text/plain": [
       "  income pay_meal_out persian_food\n",
       "0    5.0            2          5.0\n",
       "1    4.0            4          4.0\n",
       "2    6.0            3          5.0\n",
       "3    6.0            2          5.0\n",
       "4    6.0            4          2.0"
      ]
     },
     "execution_count": 11,
     "metadata": {},
     "output_type": "execute_result"
    }
   ],
   "source": [
    "small_food = food[['income','pay_meal_out','persian_food']].astype('category')\n",
    "\n",
    "small_food.head()"
   ]
  },
  {
   "cell_type": "markdown",
   "metadata": {
    "id": "kGotc50zo1Xm"
   },
   "source": [
    "## Run a $\\chi^{2}$ Test (Numpy로 직접 계산)\n",
    "\n",
    "가능한 3가지의 조합 중 2가지의 경우에 대해서만 해보겠습니다.\n",
    "\n",
    "1) `income` & `pay_meal_out`\n",
    "\n",
    "2) `pay_meal_out` & `persian_food`\n"
   ]
  },
  {
   "cell_type": "code",
   "execution_count": 12,
   "metadata": {
    "colab": {
     "base_uri": "https://localhost:8080/",
     "height": 266
    },
    "id": "fDJOLlcLl0nZ",
    "outputId": "a87e4aa4-e4e8-4239-be69-f7ec8ec30feb"
   },
   "outputs": [
    {
     "data": {
      "text/html": [
       "<div>\n",
       "<style scoped>\n",
       "    .dataframe tbody tr th:only-of-type {\n",
       "        vertical-align: middle;\n",
       "    }\n",
       "\n",
       "    .dataframe tbody tr th {\n",
       "        vertical-align: top;\n",
       "    }\n",
       "\n",
       "    .dataframe thead th {\n",
       "        text-align: right;\n",
       "    }\n",
       "</style>\n",
       "<table border=\"1\" class=\"dataframe\">\n",
       "  <thead>\n",
       "    <tr style=\"text-align: right;\">\n",
       "      <th>pay_meal_out</th>\n",
       "      <th>2</th>\n",
       "      <th>3</th>\n",
       "      <th>4</th>\n",
       "      <th>5</th>\n",
       "      <th>6</th>\n",
       "    </tr>\n",
       "    <tr>\n",
       "      <th>income</th>\n",
       "      <th></th>\n",
       "      <th></th>\n",
       "      <th></th>\n",
       "      <th></th>\n",
       "      <th></th>\n",
       "    </tr>\n",
       "  </thead>\n",
       "  <tbody>\n",
       "    <tr>\n",
       "      <th>1.0</th>\n",
       "      <td>2</td>\n",
       "      <td>3</td>\n",
       "      <td>0</td>\n",
       "      <td>1</td>\n",
       "      <td>0</td>\n",
       "    </tr>\n",
       "    <tr>\n",
       "      <th>2.0</th>\n",
       "      <td>3</td>\n",
       "      <td>1</td>\n",
       "      <td>3</td>\n",
       "      <td>0</td>\n",
       "      <td>0</td>\n",
       "    </tr>\n",
       "    <tr>\n",
       "      <th>3.0</th>\n",
       "      <td>3</td>\n",
       "      <td>9</td>\n",
       "      <td>2</td>\n",
       "      <td>2</td>\n",
       "      <td>1</td>\n",
       "    </tr>\n",
       "    <tr>\n",
       "      <th>4.0</th>\n",
       "      <td>2</td>\n",
       "      <td>13</td>\n",
       "      <td>3</td>\n",
       "      <td>2</td>\n",
       "      <td>0</td>\n",
       "    </tr>\n",
       "    <tr>\n",
       "      <th>5.0</th>\n",
       "      <td>5</td>\n",
       "      <td>16</td>\n",
       "      <td>7</td>\n",
       "      <td>2</td>\n",
       "      <td>3</td>\n",
       "    </tr>\n",
       "    <tr>\n",
       "      <th>6.0</th>\n",
       "      <td>2</td>\n",
       "      <td>24</td>\n",
       "      <td>7</td>\n",
       "      <td>4</td>\n",
       "      <td>4</td>\n",
       "    </tr>\n",
       "  </tbody>\n",
       "</table>\n",
       "</div>"
      ],
      "text/plain": [
       "pay_meal_out  2   3  4  5  6\n",
       "income                      \n",
       "1.0           2   3  0  1  0\n",
       "2.0           3   1  3  0  0\n",
       "3.0           3   9  2  2  1\n",
       "4.0           2  13  3  2  0\n",
       "5.0           5  16  7  2  3\n",
       "6.0           2  24  7  4  4"
      ]
     },
     "execution_count": 12,
     "metadata": {},
     "output_type": "execute_result"
    }
   ],
   "source": [
    "obs = pd.crosstab(small_food['income'], small_food['pay_meal_out'])\n",
    "obs"
   ]
  },
  {
   "cell_type": "markdown",
   "metadata": {
    "id": "Ge7TZeVZlW7_"
   },
   "source": [
    "- Numpy로 계산하기에는 category가 너무 많으니 3, 4 데이터만 사용하도록 하겠습니다.\n",
    "\n",
    "| |pay = 3|pay = 4|\n",
    "|:-:|:-:|:-:|\n",
    "|income = 3|9|2|\n",
    "|income = 4|13|3|\n",
    "\n",
    "\n",
    "### 예측값 계산\n",
    "\\begin{align}\n",
    "expected_{i,j} =\\frac{(row_{i} \\text{total})(column_{j} \\text{total}) }{(\\text{total observations})}  \n",
    "\\end{align}\n",
    "\n",
    "해당 내용에 대한 추가 설명과 예시는 urclass를 ( **2 Sample chi-square Expected Value** ) 참조하세요."
   ]
  },
  {
   "cell_type": "code",
   "execution_count": 13,
   "metadata": {
    "colab": {
     "base_uri": "https://localhost:8080/"
    },
    "id": "cFCGB02nQdbU",
    "outputId": "c422d234-9da3-4157-d735-4b0abe35b3bf"
   },
   "outputs": [
    {
     "data": {
      "text/plain": [
       "array([[ 9,  2],\n",
       "       [13,  3]])"
      ]
     },
     "execution_count": 13,
     "metadata": {},
     "output_type": "execute_result"
    }
   ],
   "source": [
    "obs = np.array([[9, 2], [13, 3]])\n",
    "obs"
   ]
  },
  {
   "cell_type": "code",
   "execution_count": 14,
   "metadata": {
    "colab": {
     "base_uri": "https://localhost:8080/"
    },
    "id": "obOKc-1dlcA_",
    "outputId": "6c61bb5b-06e6-4b90-829d-ccbc097b824a"
   },
   "outputs": [
    {
     "data": {
      "text/plain": [
       "27"
      ]
     },
     "execution_count": 14,
     "metadata": {},
     "output_type": "execute_result"
    }
   ],
   "source": [
    "total_obs = np.sum(obs)\n",
    "total_obs"
   ]
  },
  {
   "cell_type": "code",
   "execution_count": 15,
   "metadata": {
    "colab": {
     "base_uri": "https://localhost:8080/"
    },
    "id": "L5UG5xoqQdbY",
    "outputId": "8448cb57-e8f4-4aeb-f726-ba6ad125134e"
   },
   "outputs": [
    {
     "data": {
      "text/plain": [
       "array([[ 8.96296296,  2.03703704],\n",
       "       [13.03703704,  2.96296296]])"
      ]
     },
     "execution_count": 15,
     "metadata": {},
     "output_type": "execute_result"
    }
   ],
   "source": [
    "exp = np.array([[(9+2)*(9+13), (9+2)*(2+3)], [(13+3)*(9+13), (13+3)*(2+3)]])\n",
    "\n",
    "exp = exp / total_obs\n",
    "exp"
   ]
  },
  {
   "cell_type": "markdown",
   "metadata": {
    "id": "TNltg_VHmzH8"
   },
   "source": [
    "### $\\chi^{2}$ 통계치 계산\n",
    "\n",
    "\\begin{align}\n",
    "\\chi^2 = \\sum \\frac{(observed_i-expected_i)^2}{(expected_i)}\n",
    "\\end{align}"
   ]
  },
  {
   "cell_type": "code",
   "execution_count": 16,
   "metadata": {
    "colab": {
     "base_uri": "https://localhost:8080/"
    },
    "id": "QRIwbE11mXT5",
    "outputId": "10140e77-4ae5-4f12-81b3-7cb7c4b5dc14"
   },
   "outputs": [
    {
     "data": {
      "text/plain": [
       "array([[0.00137174, 0.00137174],\n",
       "       [0.00137174, 0.00137174]])"
      ]
     },
     "execution_count": 16,
     "metadata": {},
     "output_type": "execute_result"
    }
   ],
   "source": [
    "squared = np.power(obs - exp, 2)\n",
    "squared"
   ]
  },
  {
   "cell_type": "code",
   "execution_count": 17,
   "metadata": {
    "colab": {
     "base_uri": "https://localhost:8080/"
    },
    "id": "5ihnenYgmga9",
    "outputId": "08fc5b5e-82cf-4ddb-d9a6-190657ed1944"
   },
   "outputs": [
    {
     "data": {
      "text/plain": [
       "0.0013946280991735537"
      ]
     },
     "execution_count": 17,
     "metadata": {},
     "output_type": "execute_result"
    }
   ],
   "source": [
    "x2 = np.sum(squared / exp)\n",
    "x2"
   ]
  },
  {
   "cell_type": "markdown",
   "metadata": {
    "id": "DkdpODqAnFKm"
   },
   "source": [
    "2-sampe $\\chi^2$ test의 자유도 (Degree of Freedom) 는 1-sample과는 조금 다릅니다.\n",
    "\n",
    "1-sample (적합도 검정), DF = # categories-1\n",
    "\n",
    "2-sample (독립성 검정), DF = (#행 - 1)*(#열 - 1)\n",
    "\n",
    "DF: (2-1)*(2-1) = 1"
   ]
  },
  {
   "cell_type": "markdown",
   "metadata": {
    "id": "IeWV-CaenqB0"
   },
   "source": [
    "## 자유도 (Degrees of Freedom)\n",
    "\n",
    "🍦일주일 내내 배라를 가서 콘을 하나씩 먹는 방법 \n",
    "\n",
    "<img src='https://img.insight.co.kr/static/2019/04/29/700/38bos292jy902138q5j7.jpg' width = 450>\n",
    "\n",
    "**전체 메뉴는 7개만 이라고 가정**\n",
    "\n",
    "- 월요일 - 7개의 선택 (민초)\n",
    "- 화요일 - 6개의 선택 (바닐라)\n",
    "- 수요일 - 5개의 선택 (녹차)\n",
    "- 목요일 ...\n",
    "- 일요일 - 선택지가 없음 🔥 (자유도 X)\n",
    "\n",
    "따라서 이 문제에 대한 자유도는 n - 1 = 6\n",
    "\n",
    "자유도 = 해당 parameter를 결정짓기 위한 **독립적으로 정해질 수 있는 값의 수.**\n",
    "\n",
    "예시 \n",
    "\n",
    "1) 일주일 동안 7종류의 아이스크림\n",
    "\n",
    "2) 1-sample t-test를 위한 10개의 value. \n",
    "\n",
    "3) X2 test\n",
    "\n",
    "4) regression "
   ]
  },
  {
   "cell_type": "markdown",
   "metadata": {
    "id": "W6bOTH9ko1X5"
   },
   "source": [
    "## Scipy를 이용한 $\\chi^{2}$ 테스트"
   ]
  },
  {
   "cell_type": "markdown",
   "metadata": {
    "id": "Ar0rlaz4n_do"
   },
   "source": [
    "1) 귀무가설 : 두 변수간 연관이 없다.\n",
    "\n",
    "2) 대립가설 : 두 변수간 연관이 있다.\n",
    "\n",
    "3) 신뢰구간 : 95% "
   ]
  },
  {
   "cell_type": "code",
   "execution_count": 18,
   "metadata": {
    "colab": {
     "base_uri": "https://localhost:8080/"
    },
    "id": "lRnahAiao1X5",
    "outputId": "91b3a906-4bef-40af-be93-d0ab74671b70"
   },
   "outputs": [
    {
     "name": "stdout",
     "output_type": "stream",
     "text": [
      "[[ 8.96296296  2.03703704]\n",
      " [13.03703704  2.96296296]]\n",
      "---\n",
      "(0.0, 1.0, 1, array([[ 8.96296296,  2.03703704],\n",
      "       [13.03703704,  2.96296296]]))\n",
      "---\n",
      "(0.0013946280991735537, 0.9702101490749658, 1, array([[ 8.96296296,  2.03703704],\n",
      "       [13.03703704,  2.96296296]]))\n"
     ]
    }
   ],
   "source": [
    "## 2 sample chi square test\n",
    "\n",
    "# https://docs.scipy.org/doc/scipy/reference/generated/scipy.stats.chi2_contingency.html\n",
    "\n",
    "print(exp)\n",
    "\n",
    "from scipy.stats import chi2_contingency\n",
    "\n",
    "print('---')\n",
    "print(chi2_contingency(obs)) # correction 파라미터가 True로 설정 :  Yates’ correction 시행함 : pvalue는 약간 다름\n",
    "\n",
    "print('---')\n",
    "print(chi2_contingency(obs, correction = False)) # 위에서 계산한 것과 동일"
   ]
  },
  {
   "cell_type": "markdown",
   "metadata": {
    "id": "sl5fpymqAwBv"
   },
   "source": [
    "## chi2_contingency 결과 해석\n",
    "\n",
    "1 : $\\chi^2$ statistic\n",
    "2 : p-value\n",
    "3 : degree of freedom\n",
    "4 : expected value for Observed"
   ]
  },
  {
   "cell_type": "markdown",
   "metadata": {
    "id": "mUVwexDOo5Nm"
   },
   "source": [
    "### 다른 예시"
   ]
  },
  {
   "cell_type": "code",
   "execution_count": 19,
   "metadata": {
    "colab": {
     "base_uri": "https://localhost:8080/",
     "height": 266
    },
    "id": "-Svb2R37Qdbl",
    "outputId": "ce9ea79a-643f-4e0f-b116-84b779cb350d"
   },
   "outputs": [
    {
     "data": {
      "text/html": [
       "<div>\n",
       "<style scoped>\n",
       "    .dataframe tbody tr th:only-of-type {\n",
       "        vertical-align: middle;\n",
       "    }\n",
       "\n",
       "    .dataframe tbody tr th {\n",
       "        vertical-align: top;\n",
       "    }\n",
       "\n",
       "    .dataframe thead th {\n",
       "        text-align: right;\n",
       "    }\n",
       "</style>\n",
       "<table border=\"1\" class=\"dataframe\">\n",
       "  <thead>\n",
       "    <tr style=\"text-align: right;\">\n",
       "      <th>persian_food</th>\n",
       "      <th>1.0</th>\n",
       "      <th>2.0</th>\n",
       "      <th>3.0</th>\n",
       "      <th>4.0</th>\n",
       "      <th>5.0</th>\n",
       "    </tr>\n",
       "    <tr>\n",
       "      <th>income</th>\n",
       "      <th></th>\n",
       "      <th></th>\n",
       "      <th></th>\n",
       "      <th></th>\n",
       "      <th></th>\n",
       "    </tr>\n",
       "  </thead>\n",
       "  <tbody>\n",
       "    <tr>\n",
       "      <th>1.0</th>\n",
       "      <td>2</td>\n",
       "      <td>1</td>\n",
       "      <td>0</td>\n",
       "      <td>1</td>\n",
       "      <td>2</td>\n",
       "    </tr>\n",
       "    <tr>\n",
       "      <th>2.0</th>\n",
       "      <td>1</td>\n",
       "      <td>1</td>\n",
       "      <td>1</td>\n",
       "      <td>0</td>\n",
       "      <td>4</td>\n",
       "    </tr>\n",
       "    <tr>\n",
       "      <th>3.0</th>\n",
       "      <td>3</td>\n",
       "      <td>5</td>\n",
       "      <td>4</td>\n",
       "      <td>2</td>\n",
       "      <td>2</td>\n",
       "    </tr>\n",
       "    <tr>\n",
       "      <th>4.0</th>\n",
       "      <td>3</td>\n",
       "      <td>3</td>\n",
       "      <td>8</td>\n",
       "      <td>4</td>\n",
       "      <td>2</td>\n",
       "    </tr>\n",
       "    <tr>\n",
       "      <th>5.0</th>\n",
       "      <td>8</td>\n",
       "      <td>6</td>\n",
       "      <td>8</td>\n",
       "      <td>5</td>\n",
       "      <td>6</td>\n",
       "    </tr>\n",
       "    <tr>\n",
       "      <th>6.0</th>\n",
       "      <td>12</td>\n",
       "      <td>10</td>\n",
       "      <td>8</td>\n",
       "      <td>4</td>\n",
       "      <td>7</td>\n",
       "    </tr>\n",
       "  </tbody>\n",
       "</table>\n",
       "</div>"
      ],
      "text/plain": [
       "persian_food  1.0  2.0  3.0  4.0  5.0\n",
       "income                               \n",
       "1.0             2    1    0    1    2\n",
       "2.0             1    1    1    0    4\n",
       "3.0             3    5    4    2    2\n",
       "4.0             3    3    8    4    2\n",
       "5.0             8    6    8    5    6\n",
       "6.0            12   10    8    4    7"
      ]
     },
     "execution_count": 19,
     "metadata": {},
     "output_type": "execute_result"
    }
   ],
   "source": [
    "obs2 = pd.crosstab(food['income'], food['persian_food'])\n",
    "obs2"
   ]
  },
  {
   "cell_type": "code",
   "execution_count": 20,
   "metadata": {
    "colab": {
     "base_uri": "https://localhost:8080/",
     "height": 266
    },
    "id": "Jwb13ozgBziU",
    "outputId": "4c06788a-c4a4-4ba6-db8e-545f36c0d243"
   },
   "outputs": [
    {
     "data": {
      "text/html": [
       "<div>\n",
       "<style scoped>\n",
       "    .dataframe tbody tr th:only-of-type {\n",
       "        vertical-align: middle;\n",
       "    }\n",
       "\n",
       "    .dataframe tbody tr th {\n",
       "        vertical-align: top;\n",
       "    }\n",
       "\n",
       "    .dataframe thead th {\n",
       "        text-align: right;\n",
       "    }\n",
       "</style>\n",
       "<table border=\"1\" class=\"dataframe\">\n",
       "  <thead>\n",
       "    <tr style=\"text-align: right;\">\n",
       "      <th>pay_meal_out</th>\n",
       "      <th>2</th>\n",
       "      <th>3</th>\n",
       "      <th>4</th>\n",
       "      <th>5</th>\n",
       "      <th>6</th>\n",
       "    </tr>\n",
       "    <tr>\n",
       "      <th>income</th>\n",
       "      <th></th>\n",
       "      <th></th>\n",
       "      <th></th>\n",
       "      <th></th>\n",
       "      <th></th>\n",
       "    </tr>\n",
       "  </thead>\n",
       "  <tbody>\n",
       "    <tr>\n",
       "      <th>1.0</th>\n",
       "      <td>2</td>\n",
       "      <td>3</td>\n",
       "      <td>0</td>\n",
       "      <td>1</td>\n",
       "      <td>0</td>\n",
       "    </tr>\n",
       "    <tr>\n",
       "      <th>2.0</th>\n",
       "      <td>3</td>\n",
       "      <td>1</td>\n",
       "      <td>3</td>\n",
       "      <td>0</td>\n",
       "      <td>0</td>\n",
       "    </tr>\n",
       "    <tr>\n",
       "      <th>3.0</th>\n",
       "      <td>3</td>\n",
       "      <td>9</td>\n",
       "      <td>2</td>\n",
       "      <td>2</td>\n",
       "      <td>1</td>\n",
       "    </tr>\n",
       "    <tr>\n",
       "      <th>4.0</th>\n",
       "      <td>2</td>\n",
       "      <td>13</td>\n",
       "      <td>3</td>\n",
       "      <td>2</td>\n",
       "      <td>0</td>\n",
       "    </tr>\n",
       "    <tr>\n",
       "      <th>5.0</th>\n",
       "      <td>5</td>\n",
       "      <td>16</td>\n",
       "      <td>7</td>\n",
       "      <td>2</td>\n",
       "      <td>3</td>\n",
       "    </tr>\n",
       "    <tr>\n",
       "      <th>6.0</th>\n",
       "      <td>2</td>\n",
       "      <td>24</td>\n",
       "      <td>7</td>\n",
       "      <td>4</td>\n",
       "      <td>4</td>\n",
       "    </tr>\n",
       "  </tbody>\n",
       "</table>\n",
       "</div>"
      ],
      "text/plain": [
       "pay_meal_out  2   3  4  5  6\n",
       "income                      \n",
       "1.0           2   3  0  1  0\n",
       "2.0           3   1  3  0  0\n",
       "3.0           3   9  2  2  1\n",
       "4.0           2  13  3  2  0\n",
       "5.0           5  16  7  2  3\n",
       "6.0           2  24  7  4  4"
      ]
     },
     "execution_count": 20,
     "metadata": {},
     "output_type": "execute_result"
    }
   ],
   "source": [
    "obs3 = pd.crosstab(food['income'], food['pay_meal_out'])\n",
    "obs3"
   ]
  },
  {
   "cell_type": "code",
   "execution_count": 21,
   "metadata": {
    "colab": {
     "base_uri": "https://localhost:8080/"
    },
    "id": "5O_VREhwQdbo",
    "outputId": "80a5edd2-ef7f-4fa2-96c3-7aec2bc3c025"
   },
   "outputs": [
    {
     "name": "stdout",
     "output_type": "stream",
     "text": [
      "(17.39813674425275, 0.6269901597010257, 20, array([[1.41463415, 1.26829268, 1.41463415, 0.7804878 , 1.12195122],\n",
      "       [1.6504065 , 1.4796748 , 1.6504065 , 0.91056911, 1.30894309],\n",
      "       [3.77235772, 3.38211382, 3.77235772, 2.08130081, 2.99186992],\n",
      "       [4.71544715, 4.22764228, 4.71544715, 2.60162602, 3.7398374 ],\n",
      "       [7.7804878 , 6.97560976, 7.7804878 , 4.29268293, 6.17073171],\n",
      "       [9.66666667, 8.66666667, 9.66666667, 5.33333333, 7.66666667]]))\n",
      "(17.39813674425275, 0.6269901597010257, 20, array([[1.41463415, 1.26829268, 1.41463415, 0.7804878 , 1.12195122],\n",
      "       [1.6504065 , 1.4796748 , 1.6504065 , 0.91056911, 1.30894309],\n",
      "       [3.77235772, 3.38211382, 3.77235772, 2.08130081, 2.99186992],\n",
      "       [4.71544715, 4.22764228, 4.71544715, 2.60162602, 3.7398374 ],\n",
      "       [7.7804878 , 6.97560976, 7.7804878 , 4.29268293, 6.17073171],\n",
      "       [9.66666667, 8.66666667, 9.66666667, 5.33333333, 7.66666667]]))\n"
     ]
    }
   ],
   "source": [
    "# chi2_contingency\n",
    "\n",
    "from scipy.stats import chi2_contingency\n",
    "\n",
    "print(chi2_contingency(obs2, correction = False)) \n",
    "\n",
    "print(chi2_contingency(obs2, correction = True))\n",
    "\n",
    "# 두 경우 모두 pvalue : 0.6269 연관이 없다."
   ]
  },
  {
   "cell_type": "code",
   "execution_count": 22,
   "metadata": {
    "colab": {
     "base_uri": "https://localhost:8080/"
    },
    "id": "AF1JUwanAWyy",
    "outputId": "4827f6f0-39da-43e1-b005-98d548e91fab"
   },
   "outputs": [
    {
     "name": "stdout",
     "output_type": "stream",
     "text": [
      "(20.636176576151563, 0.41881793144098334, 20, array([[ 0.82258065,  3.19354839,  1.06451613,  0.53225806,  0.38709677],\n",
      "       [ 0.95967742,  3.72580645,  1.24193548,  0.62096774,  0.4516129 ],\n",
      "       [ 2.33064516,  9.0483871 ,  3.01612903,  1.50806452,  1.09677419],\n",
      "       [ 2.74193548, 10.64516129,  3.5483871 ,  1.77419355,  1.29032258],\n",
      "       [ 4.52419355, 17.56451613,  5.85483871,  2.92741935,  2.12903226],\n",
      "       [ 5.62096774, 21.82258065,  7.27419355,  3.63709677,  2.64516129]]))\n",
      "(20.636176576151563, 0.41881793144098334, 20, array([[ 0.82258065,  3.19354839,  1.06451613,  0.53225806,  0.38709677],\n",
      "       [ 0.95967742,  3.72580645,  1.24193548,  0.62096774,  0.4516129 ],\n",
      "       [ 2.33064516,  9.0483871 ,  3.01612903,  1.50806452,  1.09677419],\n",
      "       [ 2.74193548, 10.64516129,  3.5483871 ,  1.77419355,  1.29032258],\n",
      "       [ 4.52419355, 17.56451613,  5.85483871,  2.92741935,  2.12903226],\n",
      "       [ 5.62096774, 21.82258065,  7.27419355,  3.63709677,  2.64516129]]))\n"
     ]
    }
   ],
   "source": [
    "print(chi2_contingency(obs3, correction = False)) \n",
    "\n",
    "print(chi2_contingency(obs3, correction = True))\n",
    "# 두 경우 모두 pvalue : 0.428 마찬가지로 연관이 없다. "
   ]
  },
  {
   "cell_type": "code",
   "execution_count": 23,
   "metadata": {
    "colab": {
     "base_uri": "https://localhost:8080/"
    },
    "id": "KrGNHid5ATud",
    "outputId": "39880461-92e0-497d-bef2-989b83820ab8"
   },
   "outputs": [
    {
     "data": {
      "text/plain": [
       "(21.399511129602665,\n",
       " 3.7286624805140315e-06,\n",
       " 1,\n",
       " array([[10.95238095, 12.04761905],\n",
       "        [ 9.04761905,  9.95238095]]))"
      ]
     },
     "execution_count": 23,
     "metadata": {},
     "output_type": "execute_result"
    }
   ],
   "source": [
    "# 극단적인 차이를 위해 가상의 값을 사용\n",
    "chi2_contingency(np.array( [[3, 20], [17, 2]] ))"
   ]
  }
 ],
 "metadata": {
  "colab": {
   "collapsed_sections": [],
   "name": "n122-chi-square-test.ipynb",
   "provenance": []
  },
  "kernelspec": {
   "display_name": "Python 3",
   "language": "python",
   "name": "python3"
  },
  "language_info": {
   "codemirror_mode": {
    "name": "ipython",
    "version": 3
   },
   "file_extension": ".py",
   "mimetype": "text/x-python",
   "name": "python",
   "nbconvert_exporter": "python",
   "pygments_lexer": "ipython3",
   "version": "3.8.2"
  }
 },
 "nbformat": 4,
 "nbformat_minor": 4
}
