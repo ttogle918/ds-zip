{
 "cells": [
  {
   "cell_type": "markdown",
   "metadata": {
    "id": "g_c3L9CeANiJ"
   },
   "source": [
    "<img src='https://i.imgur.com/RDAD11M.png' width = '200' align = 'right'>\n",
    "\n",
    "## *DATA SCIENCE / SECTION 1 / SPRINT 2 / NOTE 3*\n",
    "\n",
    "# 📝 Assignment\n",
    "\n",
    "# 신뢰구간\n",
    "\n",
    "서울시 기간별 시간평균 대기환경 정보 데이터셋을 이용합니다.\n",
    "\n",
    "<img src='https://user-images.githubusercontent.com/6457691/89852263-740add80-dbc9-11ea-9e6b-8059b3f7e479.png'>\n",
    "\n",
    "<https://data.seoul.go.kr/dataList/OA-2221/S/1/datasetView.do>\n",
    "\n",
    "### `2020년 3월`의 송파구 데이터만 사용합니다.\n",
    "\n"
   ]
  },
  {
   "cell_type": "markdown",
   "metadata": {
    "id": "9BT9olD8zGyP"
   },
   "source": [
    "## 1. 데이터셋을 불러오세요\n",
    "\n",
    "  - 데이터는 `df`라는 변수에 저장되어야 하며\n",
    "  - Feature로는 `측정일시`, `측정소명`, `오존(ppm)` 만 사용합니다."
   ]
  },
  {
   "cell_type": "code",
   "execution_count": null,
   "metadata": {
    "id": "C1Tql4HDGefU"
   },
   "outputs": [],
   "source": [
    "# 이 곳에 답안을 작성하시길 바랍니다"
   ]
  },
  {
   "cell_type": "markdown",
   "metadata": {
    "id": "wOQ-9E8uYcni"
   },
   "source": [
    "## 2. 데이터셋으로 부터 2개의 샘플을 생성하세요.\n",
    "\n",
    "- `s1`에 저장된 1개는 20개의 데이터, `s2`에 저장된 다른 1개는 200개이며 \n",
    "- 두 경우 모두 `random_state`로 `42`를 설정합니다.\n",
    "- 샘플링을 한 후에 인덱스를 초기화 합니다."
   ]
  },
  {
   "cell_type": "code",
   "execution_count": null,
   "metadata": {
    "id": "QP55yQ07GcMb"
   },
   "outputs": [],
   "source": [
    "# 이 곳에 답안을 작성하시길 바랍니다"
   ]
  },
  {
   "cell_type": "markdown",
   "metadata": {
    "id": "y2Rz-8O-YmF9"
   },
   "source": [
    "## 3. 두 샘플데이터에 대해서 `오존(ppm)`항목의 표본 평균을 계산하세요."
   ]
  },
  {
   "cell_type": "code",
   "execution_count": null,
   "metadata": {
    "id": "CdV4Tl1hGa6z"
   },
   "outputs": [],
   "source": [
    "# 이 곳에 답안을 작성하시길 바랍니다"
   ]
  },
  {
   "cell_type": "markdown",
   "metadata": {
    "id": "9tIHBlM_SyGR"
   },
   "source": [
    "## 4. 위에서 추정한 값들을 바탕으로, 95%에 해당하는 신뢰구간을 `CI1과` `CI2`에 계산하세요.\n",
    "\n",
    "  - `ddof`는 `1`을 사용합니다."
   ]
  },
  {
   "cell_type": "code",
   "execution_count": null,
   "metadata": {
    "id": "rjq59rjMGZ-w"
   },
   "outputs": [],
   "source": [
    "# 이 곳에 답안을 작성하시길 바랍니다"
   ]
  },
  {
   "cell_type": "markdown",
   "metadata": {
    "id": "HsTtONTNawFi"
   },
   "source": [
    "## 5. `plt.bar`를 사용하여 다음과 같은 신뢰구간 시각화를 그리세요.\n",
    "  - 이때 보라색 선에 해당 하는 값을 `pop_mean`에 저장하세요.\n",
    "  - `colors = '#4000c7'`을 사용하세요.\n",
    "\n",
    "<img src='https://i.imgur.com/3orh30m.png'>\n",
    "\n",
    "\n",
    "\n",
    "\n"
   ]
  },
  {
   "cell_type": "code",
   "execution_count": null,
   "metadata": {
    "id": "skjzyQaJGIIw"
   },
   "outputs": [],
   "source": [
    "# 이 곳에 답안을 작성하시길 바랍니다"
   ]
  },
  {
   "cell_type": "markdown",
   "metadata": {
    "id": "cvtnsGLJa4bW"
   },
   "source": [
    "# 🔥 도전과제\n",
    "> 아래 두 문제를 모두 다 하시면 됩니다."
   ]
  },
  {
   "cell_type": "markdown",
   "metadata": {
    "id": "ie_xQYk12TbX"
   },
   "source": [
    "## 1. [plotly](https://plotly.com/) 나 [seaborn](http://seaborn.pydata.org/index.html), [bokeh](https://docs.bokeh.org/en/latest/index.html) 등 다른 시각화 라이브러리를 선택하여 앞에서 그렸던 신뢰구간을 해당 라이브러리를 선택하여 그려보세요."
   ]
  },
  {
   "cell_type": "code",
   "execution_count": null,
   "metadata": {
    "id": "UpFeWb8gy4pr"
   },
   "outputs": [],
   "source": [
    "# 이 곳에 답안을 작성하시길 바랍니다"
   ]
  },
  {
   "cell_type": "markdown",
   "metadata": {
    "id": "rfC_r9kl2VQj"
   },
   "source": [
    "## 2. 위 데이터의 `초미세먼지` 데이터를 사용하여, 큰 수의 법칙과, 중심극한정리를 구현하는 코드를 작성하세요."
   ]
  },
  {
   "cell_type": "code",
   "execution_count": null,
   "metadata": {
    "id": "3WzqW4jT3AvR"
   },
   "outputs": [],
   "source": [
    "# 이 곳에 답안을 작성하시길 바랍니다"
   ]
  }
 ],
 "metadata": {
  "colab": {
   "collapsed_sections": [],
   "name": "n123a-confidence-intervals.ipynb",
   "provenance": []
  },
  "kernelspec": {
   "display_name": "Python 3",
   "language": "python",
   "name": "python3"
  },
  "language_info": {
   "codemirror_mode": {
    "name": "ipython",
    "version": 3
   },
   "file_extension": ".py",
   "mimetype": "text/x-python",
   "name": "python",
   "nbconvert_exporter": "python",
   "pygments_lexer": "ipython3",
   "version": "3.8.2"
  }
 },
 "nbformat": 4,
 "nbformat_minor": 4
}
