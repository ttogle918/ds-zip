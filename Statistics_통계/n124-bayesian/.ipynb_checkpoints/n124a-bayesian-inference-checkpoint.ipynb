{
 "cells": [
  {
   "cell_type": "markdown",
   "metadata": {
    "id": "H7OLbevlbd_Z"
   },
   "source": [
    "<img src='https://i.imgur.com/RDAD11M.png' width = '200' align = 'right'>\n",
    "\n",
    "## *DATA SCIENCE / SECTION 1 / SPRINT 2 / NOTE 4*\n",
    "\n",
    "# 📝 Assignment\n",
    "\n",
    "# 베이지안 통계"
   ]
  },
  {
   "cell_type": "markdown",
   "metadata": {
    "id": "lPwZPpad3UOc"
   },
   "source": [
    "## 1. Multiple Choice Test\r\n",
    "\r\n",
    "객관식 문제를 푸는 과정에서, 학생은 답을 이미 알고 있거나 찍어야 합니다. \r\n",
    "\r\n",
    "학생이 답을 알 확률은 $p$이고, 답을 찍어서 맞출 확률이 $1\\over{m}$ 이라고 할 때 $m$과 $p$를 입력받아 학생이 문제의 답을 알고 맞췄을 확률을 계산하는 함수를 작성하세요."
   ]
  },
  {
   "cell_type": "code",
   "execution_count": null,
   "metadata": {
    "id": "trk9r0Tc97Mc"
   },
   "outputs": [],
   "source": [
    "def correct(p, m):\r\n",
    "  # 코드를 작성하세요.  "
   ]
  },
  {
   "cell_type": "markdown",
   "metadata": {},
   "source": [
    "## 2. Blood Test\n",
    "\n",
    "특정 질병을 가지고 있는 경우 **99%** 의 확률로 탐지 할 수 있는 실험방법이 있습니다.\n",
    "\n",
    "그러나 동시에 이 방법은, **1%** 의 확률로 질병이 없지만 질병이 있다고 진단 하는 경우도 있는데요.\n",
    "\n",
    "실제로 모든 인구중 **0.5%** 만이 이 질병을 가지고 있다고 하겠습니다.\n",
    "\n",
    "특정 사람이 이 방법을 통해 질병이 있다고 진단 받았을때, 실제로 질병을 가지고 있을 확률을 구하는 함수를 작성하세요."
   ]
  },
  {
   "cell_type": "code",
   "execution_count": null,
   "metadata": {
    "id": "qKYGZ5fkFjQ-"
   },
   "outputs": [],
   "source": [
    "def disease(prior, tpr, fpr):\r\n",
    "  # 코드를 작성하세요"
   ]
  },
  {
   "cell_type": "markdown",
   "metadata": {
    "id": "GP7Jv1XvwtkX"
   },
   "source": [
    "## 🔥 도전 과제:\n",
    "\n"
   ]
  },
  {
   "cell_type": "markdown",
   "metadata": {
    "id": "M3WuZEGM3UOd"
   },
   "source": [
    "### 다음 문제를 읽고 답을 구하세요 \n",
    "> Source : Introduction to Probability and Statistics for Engineers and Scientists, 4th Ed.\n",
    "\n",
    "At a certain stage of a criminal investigation, the inspector in charge is **60%** convinced of the guild of a certain suspect. <br>\n",
    "Suppose now that a new piece of evidence that shows that the criminal has a left-handedness is uncovered. <br>\n",
    "If **20% of population possesses this characteristic**, how certain of the guilt of the suspect should the inspector now be if it turns out that the suspect is among this group? <br>"
   ]
  },
  {
   "cell_type": "code",
   "execution_count": 2,
   "metadata": {},
   "outputs": [],
   "source": [
    "# 이 곳에 답안을 작성하시기 바랍니다"
   ]
  },
  {
   "cell_type": "markdown",
   "metadata": {},
   "source": [
    "After that, the new evidence is subject to different possible interpretations, and in fact only shows that it is **90% likely that the criminal possess this characteristic**.  \n",
    "In this case how likely would it be that the suspect is guilty?"
   ]
  },
  {
   "cell_type": "code",
   "execution_count": 3,
   "metadata": {},
   "outputs": [],
   "source": [
    "# 이 곳에 답안을 작성하시기 바랍니다"
   ]
  }
 ],
 "metadata": {
  "colab": {
   "collapsed_sections": [],
   "name": "n124a-bayesian-inference.ipynb",
   "provenance": []
  },
  "kernelspec": {
   "display_name": "Python 3",
   "language": "python",
   "name": "python3"
  },
  "language_info": {
   "codemirror_mode": {
    "name": "ipython",
    "version": 3
   },
   "file_extension": ".py",
   "mimetype": "text/x-python",
   "name": "python",
   "nbconvert_exporter": "python",
   "pygments_lexer": "ipython3",
   "version": "3.8.2"
  }
 },
 "nbformat": 4,
 "nbformat_minor": 4
}
