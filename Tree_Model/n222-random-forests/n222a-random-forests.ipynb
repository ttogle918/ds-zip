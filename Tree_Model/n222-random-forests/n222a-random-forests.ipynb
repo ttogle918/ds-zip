{
  "nbformat": 4,
  "nbformat_minor": 0,
  "metadata": {
    "kernelspec": {
      "display_name": "Python 3",
      "language": "python",
      "name": "python3"
    },
    "language_info": {
      "codemirror_mode": {
        "name": "ipython",
        "version": 3
      },
      "file_extension": ".py",
      "mimetype": "text/x-python",
      "name": "python",
      "nbconvert_exporter": "python",
      "pygments_lexer": "ipython3",
      "version": "3.7.7"
    },
    "colab": {
      "name": "n222a-random-forests.ipynb",
      "provenance": [],
      "include_colab_link": true
    }
  },
  "cells": [
    {
      "cell_type": "markdown",
      "metadata": {
        "id": "view-in-github",
        "colab_type": "text"
      },
      "source": [
        "<a href=\"https://colab.research.google.com/github/ttogle918/ds-section2-sprint2/blob/main/n222-random-forests/n222a-random-forests.ipynb\" target=\"_parent\"><img src=\"https://colab.research.google.com/assets/colab-badge.svg\" alt=\"Open In Colab\"/></a>"
      ]
    },
    {
      "cell_type": "markdown",
      "metadata": {
        "id": "jgggfBQULJiO"
      },
      "source": [
        "<img align=\"right\" src=\"https://ds-cs-images.s3.ap-northeast-2.amazonaws.com/Codestates_Fulllogo_Color.png\" width=100>\n",
        "\n",
        "## *AIB / SECTION 2 / SPRINT 2 / NOTE 2*\n",
        "\n",
        "# 📝 Assignment\n",
        "---"
      ]
    },
    {
      "cell_type": "markdown",
      "metadata": {
        "id": "7IXUfiQ2UKj6"
      },
      "source": [
        "# 랜덤포레스트(Random Forests)\n",
        "\n",
        "### 1) 캐글 대회를 이어서 진행합니다. EDA, 데이터 전처리 부분을 업데이트 하세요.\n",
        "- EDA는 항상 완벽할 수 없지요 한 주간 계속 같은 데이터로 과제를 진행하므로 부족한 부분을 추가하거나 논하세요.\n",
        "- (지금은 feature engineering에 너무 시간을 들이지 마세요!)\n",
        "- Ordinal Encoding을 적용해 보세요.\n",
        "- **(객관식) 다음 특성들 중에 순서를 고려한 Ordinal Encoding이 필요해 보이는 특성을 고르세요.**\n",
        "    1. opinion_h1n1_vacc_effective\n",
        "    2. state\n",
        "    3. marital\n",
        "    4. employment_occupation\n"
      ]
    },
    {
      "cell_type": "code",
      "metadata": {
        "id": "XokypzDH6AKS",
        "outputId": "0dcb776d-81dd-4940-a210-af74f0c6e1a9",
        "colab": {
          "base_uri": "https://localhost:8080/"
        }
      },
      "source": [
        "!pip install category_encoders"
      ],
      "execution_count": 3,
      "outputs": [
        {
          "output_type": "stream",
          "name": "stdout",
          "text": [
            "Requirement already satisfied: category_encoders in /usr/local/lib/python3.7/dist-packages (2.3.0)\n",
            "Requirement already satisfied: numpy>=1.14.0 in /usr/local/lib/python3.7/dist-packages (from category_encoders) (1.19.5)\n",
            "Requirement already satisfied: scikit-learn>=0.20.0 in /usr/local/lib/python3.7/dist-packages (from category_encoders) (1.0.2)\n",
            "Requirement already satisfied: pandas>=0.21.1 in /usr/local/lib/python3.7/dist-packages (from category_encoders) (1.1.5)\n",
            "Requirement already satisfied: statsmodels>=0.9.0 in /usr/local/lib/python3.7/dist-packages (from category_encoders) (0.10.2)\n",
            "Requirement already satisfied: scipy>=1.0.0 in /usr/local/lib/python3.7/dist-packages (from category_encoders) (1.7.3)\n",
            "Requirement already satisfied: patsy>=0.5.1 in /usr/local/lib/python3.7/dist-packages (from category_encoders) (0.5.2)\n",
            "Requirement already satisfied: python-dateutil>=2.7.3 in /usr/local/lib/python3.7/dist-packages (from pandas>=0.21.1->category_encoders) (2.8.2)\n",
            "Requirement already satisfied: pytz>=2017.2 in /usr/local/lib/python3.7/dist-packages (from pandas>=0.21.1->category_encoders) (2018.9)\n",
            "Requirement already satisfied: six in /usr/local/lib/python3.7/dist-packages (from patsy>=0.5.1->category_encoders) (1.15.0)\n",
            "Requirement already satisfied: threadpoolctl>=2.0.0 in /usr/local/lib/python3.7/dist-packages (from scikit-learn>=0.20.0->category_encoders) (3.0.0)\n",
            "Requirement already satisfied: joblib>=0.11 in /usr/local/lib/python3.7/dist-packages (from scikit-learn>=0.20.0->category_encoders) (1.0.1)\n"
          ]
        }
      ]
    },
    {
      "cell_type": "code",
      "metadata": {
        "id": "JyMGfYMa58tA",
        "outputId": "c5ee37de-78c0-4073-8569-9b0ce784fc0a",
        "colab": {
          "base_uri": "https://localhost:8080/"
        }
      },
      "source": [
        "!pip uninstall pandas_profiling\n",
        "!pip install pandas_profiling\n",
        "!pip show pandas_profiling"
      ],
      "execution_count": 4,
      "outputs": [
        {
          "output_type": "stream",
          "name": "stdout",
          "text": [
            "Found existing installation: pandas-profiling 3.1.0\n",
            "Uninstalling pandas-profiling-3.1.0:\n",
            "  Would remove:\n",
            "    /usr/local/bin/pandas_profiling\n",
            "    /usr/local/lib/python3.7/dist-packages/pandas_profiling-3.1.0.dist-info/*\n",
            "    /usr/local/lib/python3.7/dist-packages/pandas_profiling/*\n",
            "Proceed (y/n)? ㅛ\n",
            "Your response ('ㅛ') was not one of the expected responses: y, n\n",
            "Proceed (y/n)? ㅛ\n",
            "Your response ('ㅛ') was not one of the expected responses: y, n\n",
            "Proceed (y/n)? y\n",
            "  Successfully uninstalled pandas-profiling-3.1.0\n",
            "Collecting pandas_profiling\n",
            "  Using cached pandas_profiling-3.1.0-py2.py3-none-any.whl (261 kB)\n",
            "Requirement already satisfied: PyYAML>=5.0.0 in /usr/local/lib/python3.7/dist-packages (from pandas_profiling) (6.0)\n",
            "Requirement already satisfied: phik>=0.11.1 in /usr/local/lib/python3.7/dist-packages (from pandas_profiling) (0.12.0)\n",
            "Requirement already satisfied: pydantic>=1.8.1 in /usr/local/lib/python3.7/dist-packages (from pandas_profiling) (1.9.0)\n",
            "Requirement already satisfied: multimethod>=1.4 in /usr/local/lib/python3.7/dist-packages (from pandas_profiling) (1.6)\n",
            "Requirement already satisfied: matplotlib>=3.2.0 in /usr/local/lib/python3.7/dist-packages (from pandas_profiling) (3.2.2)\n",
            "Requirement already satisfied: pandas!=1.0.0,!=1.0.1,!=1.0.2,!=1.1.0,>=0.25.3 in /usr/local/lib/python3.7/dist-packages (from pandas_profiling) (1.1.5)\n",
            "Requirement already satisfied: numpy>=1.16.0 in /usr/local/lib/python3.7/dist-packages (from pandas_profiling) (1.19.5)\n",
            "Requirement already satisfied: tangled-up-in-unicode==0.1.0 in /usr/local/lib/python3.7/dist-packages (from pandas_profiling) (0.1.0)\n",
            "Requirement already satisfied: requests>=2.24.0 in /usr/local/lib/python3.7/dist-packages (from pandas_profiling) (2.27.1)\n",
            "Requirement already satisfied: markupsafe~=2.0.1 in /usr/local/lib/python3.7/dist-packages (from pandas_profiling) (2.0.1)\n",
            "Requirement already satisfied: missingno>=0.4.2 in /usr/local/lib/python3.7/dist-packages (from pandas_profiling) (0.5.0)\n",
            "Requirement already satisfied: visions[type_image_path]==0.7.4 in /usr/local/lib/python3.7/dist-packages (from pandas_profiling) (0.7.4)\n",
            "Requirement already satisfied: scipy>=1.4.1 in /usr/local/lib/python3.7/dist-packages (from pandas_profiling) (1.7.3)\n",
            "Requirement already satisfied: tqdm>=4.48.2 in /usr/local/lib/python3.7/dist-packages (from pandas_profiling) (4.62.3)\n",
            "Requirement already satisfied: htmlmin>=0.1.12 in /usr/local/lib/python3.7/dist-packages (from pandas_profiling) (0.1.12)\n",
            "Requirement already satisfied: seaborn>=0.10.1 in /usr/local/lib/python3.7/dist-packages (from pandas_profiling) (0.11.2)\n",
            "Requirement already satisfied: joblib~=1.0.1 in /usr/local/lib/python3.7/dist-packages (from pandas_profiling) (1.0.1)\n",
            "Requirement already satisfied: jinja2>=2.11.1 in /usr/local/lib/python3.7/dist-packages (from pandas_profiling) (2.11.3)\n",
            "Requirement already satisfied: attrs>=19.3.0 in /usr/local/lib/python3.7/dist-packages (from visions[type_image_path]==0.7.4->pandas_profiling) (21.4.0)\n",
            "Requirement already satisfied: networkx>=2.4 in /usr/local/lib/python3.7/dist-packages (from visions[type_image_path]==0.7.4->pandas_profiling) (2.6.3)\n",
            "Requirement already satisfied: Pillow in /usr/local/lib/python3.7/dist-packages (from visions[type_image_path]==0.7.4->pandas_profiling) (7.1.2)\n",
            "Requirement already satisfied: imagehash in /usr/local/lib/python3.7/dist-packages (from visions[type_image_path]==0.7.4->pandas_profiling) (4.2.1)\n",
            "Requirement already satisfied: python-dateutil>=2.1 in /usr/local/lib/python3.7/dist-packages (from matplotlib>=3.2.0->pandas_profiling) (2.8.2)\n",
            "Requirement already satisfied: cycler>=0.10 in /usr/local/lib/python3.7/dist-packages (from matplotlib>=3.2.0->pandas_profiling) (0.11.0)\n",
            "Requirement already satisfied: kiwisolver>=1.0.1 in /usr/local/lib/python3.7/dist-packages (from matplotlib>=3.2.0->pandas_profiling) (1.3.2)\n",
            "Requirement already satisfied: pyparsing!=2.0.4,!=2.1.2,!=2.1.6,>=2.0.1 in /usr/local/lib/python3.7/dist-packages (from matplotlib>=3.2.0->pandas_profiling) (3.0.6)\n",
            "Requirement already satisfied: pytz>=2017.2 in /usr/local/lib/python3.7/dist-packages (from pandas!=1.0.0,!=1.0.1,!=1.0.2,!=1.1.0,>=0.25.3->pandas_profiling) (2018.9)\n",
            "Requirement already satisfied: typing-extensions>=3.7.4.3 in /usr/local/lib/python3.7/dist-packages (from pydantic>=1.8.1->pandas_profiling) (3.10.0.2)\n",
            "Requirement already satisfied: six>=1.5 in /usr/local/lib/python3.7/dist-packages (from python-dateutil>=2.1->matplotlib>=3.2.0->pandas_profiling) (1.15.0)\n",
            "Requirement already satisfied: idna<4,>=2.5 in /usr/local/lib/python3.7/dist-packages (from requests>=2.24.0->pandas_profiling) (2.10)\n",
            "Requirement already satisfied: urllib3<1.27,>=1.21.1 in /usr/local/lib/python3.7/dist-packages (from requests>=2.24.0->pandas_profiling) (1.24.3)\n",
            "Requirement already satisfied: charset-normalizer~=2.0.0 in /usr/local/lib/python3.7/dist-packages (from requests>=2.24.0->pandas_profiling) (2.0.10)\n",
            "Requirement already satisfied: certifi>=2017.4.17 in /usr/local/lib/python3.7/dist-packages (from requests>=2.24.0->pandas_profiling) (2021.10.8)\n",
            "Requirement already satisfied: PyWavelets in /usr/local/lib/python3.7/dist-packages (from imagehash->visions[type_image_path]==0.7.4->pandas_profiling) (1.2.0)\n",
            "Installing collected packages: pandas-profiling\n",
            "Successfully installed pandas-profiling-3.1.0\n",
            "Name: pandas-profiling\n",
            "Version: 3.1.0\n",
            "Summary: Generate profile report for pandas DataFrame\n",
            "Home-page: https://github.com/pandas-profiling/pandas-profiling\n",
            "Author: Simon Brugman\n",
            "Author-email: pandasprofiling@gmail.com\n",
            "License: MIT\n",
            "Location: /usr/local/lib/python3.7/dist-packages\n",
            "Requires: joblib, pandas, multimethod, pydantic, seaborn, visions, tqdm, htmlmin, jinja2, missingno, scipy, phik, PyYAML, tangled-up-in-unicode, markupsafe, requests, numpy, matplotlib\n",
            "Required-by: \n"
          ]
        }
      ]
    },
    {
      "cell_type": "code",
      "metadata": {
        "colab": {
          "base_uri": "https://localhost:8080/"
        },
        "id": "uluLPSUyLJiT",
        "outputId": "7a0da7c3-a887-4e2f-c45b-f2aed46e664f"
      },
      "source": [
        "# google 드라이브에 로컬 파일 업로드\n",
        "from google.colab import files, drive\n",
        "drive.mount('/content/drive')"
      ],
      "execution_count": 5,
      "outputs": [
        {
          "output_type": "stream",
          "name": "stdout",
          "text": [
            "Drive already mounted at /content/drive; to attempt to forcibly remount, call drive.mount(\"/content/drive\", force_remount=True).\n"
          ]
        }
      ]
    },
    {
      "cell_type": "code",
      "metadata": {
        "id": "VX5L4k0F26FZ"
      },
      "source": [
        "import pandas as pd\n",
        "target = 'vacc_h1n1_f'\n",
        "train = pd.merge(pd.read_csv(\"/content/drive/MyDrive/Colab Notebooks/code_states/train.csv\"),\n",
        "                 pd.read_csv(\"/content/drive/MyDrive/Colab Notebooks/code_states/train_labels.csv\")[target],\n",
        "                 left_index=True, right_index=True)\n",
        "test = pd.read_csv(\"/content/drive/MyDrive/Colab Notebooks/code_states/test.csv\")\n",
        "submission = pd.read_csv(\"/content/drive/MyDrive/Colab Notebooks/code_states/submission.csv\")"
      ],
      "execution_count": 6,
      "outputs": []
    },
    {
      "cell_type": "markdown",
      "metadata": {
        "id": "eyMwt1Zq8TA7"
      },
      "source": [
        "# EDA 진행"
      ]
    },
    {
      "cell_type": "markdown",
      "source": [
        "#### 중복값 확인"
      ],
      "metadata": {
        "id": "C3IhC-ho5FL-"
      }
    },
    {
      "cell_type": "code",
      "metadata": {
        "id": "eD55xF-y8SQN",
        "outputId": "f31a1b5d-bca1-49b6-8868-dc979b4c9423",
        "colab": {
          "base_uri": "https://localhost:8080/"
        }
      },
      "source": [
        "train.T.duplicated() # 중복값 없음."
      ],
      "execution_count": 7,
      "outputs": [
        {
          "output_type": "execute_result",
          "data": {
            "text/plain": [
              "h1n1_concern                   False\n",
              "h1n1_knowledge                 False\n",
              "behavioral_antiviral_meds      False\n",
              "behavioral_avoidance           False\n",
              "behavioral_face_mask           False\n",
              "behavioral_wash_hands          False\n",
              "behavioral_large_gatherings    False\n",
              "behavioral_outside_home        False\n",
              "behavioral_touch_face          False\n",
              "doctor_recc_h1n1               False\n",
              "doctor_recc_seasonal           False\n",
              "chronic_med_condition          False\n",
              "child_under_6_months           False\n",
              "health_insurance               False\n",
              "health_worker                  False\n",
              "opinion_h1n1_vacc_effective    False\n",
              "opinion_h1n1_risk              False\n",
              "opinion_h1n1_sick_from_vacc    False\n",
              "opinion_seas_vacc_effective    False\n",
              "opinion_seas_risk              False\n",
              "opinion_seas_sick_from_vacc    False\n",
              "agegrp                         False\n",
              "education_comp                 False\n",
              "raceeth4_i                     False\n",
              "sex_i                          False\n",
              "inc_pov                        False\n",
              "marital                        False\n",
              "rent_own_r                     False\n",
              "employment_status              False\n",
              "census_region                  False\n",
              "census_msa                     False\n",
              "n_adult_r                      False\n",
              "household_children             False\n",
              "n_people_r                     False\n",
              "employment_industry            False\n",
              "employment_occupation          False\n",
              "hhs_region                     False\n",
              "state                          False\n",
              "vacc_h1n1_f                    False\n",
              "dtype: bool"
            ]
          },
          "metadata": {},
          "execution_count": 7
        }
      ]
    },
    {
      "cell_type": "code",
      "metadata": {
        "id": "JA9PXmnI8Z5U",
        "outputId": "f3457fc4-0d3d-49ee-b1e7-53da9ba1d224",
        "colab": {
          "base_uri": "https://localhost:8080/"
        }
      },
      "source": [
        "test.T.duplicated() # 중복값 없음."
      ],
      "execution_count": 8,
      "outputs": [
        {
          "output_type": "execute_result",
          "data": {
            "text/plain": [
              "h1n1_concern                   False\n",
              "h1n1_knowledge                 False\n",
              "behavioral_antiviral_meds      False\n",
              "behavioral_avoidance           False\n",
              "behavioral_face_mask           False\n",
              "behavioral_wash_hands          False\n",
              "behavioral_large_gatherings    False\n",
              "behavioral_outside_home        False\n",
              "behavioral_touch_face          False\n",
              "doctor_recc_h1n1               False\n",
              "doctor_recc_seasonal           False\n",
              "chronic_med_condition          False\n",
              "child_under_6_months           False\n",
              "health_insurance               False\n",
              "health_worker                  False\n",
              "opinion_h1n1_vacc_effective    False\n",
              "opinion_h1n1_risk              False\n",
              "opinion_h1n1_sick_from_vacc    False\n",
              "opinion_seas_vacc_effective    False\n",
              "opinion_seas_risk              False\n",
              "opinion_seas_sick_from_vacc    False\n",
              "agegrp                         False\n",
              "education_comp                 False\n",
              "raceeth4_i                     False\n",
              "sex_i                          False\n",
              "inc_pov                        False\n",
              "marital                        False\n",
              "rent_own_r                     False\n",
              "employment_status              False\n",
              "census_region                  False\n",
              "census_msa                     False\n",
              "n_adult_r                      False\n",
              "household_children             False\n",
              "n_people_r                     False\n",
              "employment_industry            False\n",
              "employment_occupation          False\n",
              "hhs_region                     False\n",
              "state                          False\n",
              "dtype: bool"
            ]
          },
          "metadata": {},
          "execution_count": 8
        }
      ]
    },
    {
      "cell_type": "markdown",
      "source": [
        "#### 결측치(null)값 확인"
      ],
      "metadata": {
        "id": "XiMRIzLG5II-"
      }
    },
    {
      "cell_type": "code",
      "metadata": {
        "id": "wku2u3Y48bkO",
        "outputId": "dde10d94-f1bf-45b8-c3d7-2d85b520f940",
        "colab": {
          "base_uri": "https://localhost:8080/"
        }
      },
      "source": [
        "train.isnull().sum()  # 많다."
      ],
      "execution_count": 9,
      "outputs": [
        {
          "output_type": "execute_result",
          "data": {
            "text/plain": [
              "h1n1_concern                    8420\n",
              "h1n1_knowledge                  8420\n",
              "behavioral_antiviral_meds       8519\n",
              "behavioral_avoidance            8672\n",
              "behavioral_face_mask            8444\n",
              "behavioral_wash_hands           8471\n",
              "behavioral_large_gatherings     8514\n",
              "behavioral_outside_home         8521\n",
              "behavioral_touch_face           8583\n",
              "doctor_recc_h1n1                1885\n",
              "doctor_recc_seasonal            1885\n",
              "chronic_med_condition           1317\n",
              "child_under_6_months            9449\n",
              "health_insurance               19421\n",
              "health_worker                   9430\n",
              "opinion_h1n1_vacc_effective     8779\n",
              "opinion_h1n1_risk               8825\n",
              "opinion_h1n1_sick_from_vacc     8869\n",
              "opinion_seas_vacc_effective     8934\n",
              "opinion_seas_risk               9001\n",
              "opinion_seas_sick_from_vacc     9065\n",
              "agegrp                             0\n",
              "education_comp                 10166\n",
              "raceeth4_i                         0\n",
              "sex_i                              0\n",
              "inc_pov                            0\n",
              "marital                        10199\n",
              "rent_own_r                      2196\n",
              "employment_status              10278\n",
              "census_region                      0\n",
              "census_msa                         0\n",
              "n_adult_r                        309\n",
              "household_children               309\n",
              "n_people_r                       134\n",
              "employment_industry            24989\n",
              "employment_occupation          24989\n",
              "hhs_region                         0\n",
              "state                              0\n",
              "vacc_h1n1_f                        0\n",
              "dtype: int64"
            ]
          },
          "metadata": {},
          "execution_count": 9
        }
      ]
    },
    {
      "cell_type": "code",
      "metadata": {
        "id": "0-quCXex8czV",
        "outputId": "57254ed9-2e42-4fea-c2f6-caf721ccb29c",
        "colab": {
          "base_uri": "https://localhost:8080/"
        }
      },
      "source": [
        "test.isnull().sum()"
      ],
      "execution_count": 10,
      "outputs": [
        {
          "output_type": "execute_result",
          "data": {
            "text/plain": [
              "h1n1_concern                    5612\n",
              "h1n1_knowledge                  5612\n",
              "behavioral_antiviral_meds       5672\n",
              "behavioral_avoidance            5810\n",
              "behavioral_face_mask            5626\n",
              "behavioral_wash_hands           5648\n",
              "behavioral_large_gatherings     5683\n",
              "behavioral_outside_home         5682\n",
              "behavioral_touch_face           5720\n",
              "doctor_recc_h1n1                1207\n",
              "doctor_recc_seasonal            1207\n",
              "chronic_med_condition            854\n",
              "child_under_6_months            6291\n",
              "health_insurance               12740\n",
              "health_worker                   6270\n",
              "opinion_h1n1_vacc_effective     5864\n",
              "opinion_h1n1_risk               5903\n",
              "opinion_h1n1_sick_from_vacc     5933\n",
              "opinion_seas_vacc_effective     5957\n",
              "opinion_seas_risk               5993\n",
              "opinion_seas_sick_from_vacc     6035\n",
              "agegrp                             0\n",
              "education_comp                  6811\n",
              "raceeth4_i                         0\n",
              "sex_i                              0\n",
              "inc_pov                            0\n",
              "marital                         6823\n",
              "rent_own_r                      1440\n",
              "employment_status               6830\n",
              "census_region                      0\n",
              "census_msa                         0\n",
              "n_adult_r                        185\n",
              "household_children               185\n",
              "n_people_r                        84\n",
              "employment_industry            16671\n",
              "employment_occupation          16671\n",
              "hhs_region                         0\n",
              "state                              0\n",
              "dtype: int64"
            ]
          },
          "metadata": {},
          "execution_count": 10
        }
      ]
    },
    {
      "cell_type": "markdown",
      "source": [
        "#### 한 컬럼당 종류(cardinality) 확인\n",
        "count : 결측치 확인 가능 ( 전체 data수 - count )\n",
        "\n",
        "unique : cardinality 확인 가능<br><br><br>\n",
        "\n",
        "\n",
        "\n",
        "결측치 수 많음\n",
        "\n",
        "1. employment_industry = employment_occupation\n",
        "3. health_insurance"
      ],
      "metadata": {
        "id": "OOCoxH1D5Nej"
      }
    },
    {
      "cell_type": "code",
      "metadata": {
        "id": "GsWB4mE-8epB",
        "outputId": "6f764f0c-b711-45cc-b71b-267b98221cc7",
        "colab": {
          "base_uri": "https://localhost:8080/",
          "height": 425
        }
      },
      "source": [
        "# cardinality 확인 (one-hot-encording할 때 몇개의 차원이 될지)\n",
        "train.describe(exclude='number').T.sort_values(by='unique')"
      ],
      "execution_count": 11,
      "outputs": [
        {
          "output_type": "execute_result",
          "data": {
            "text/html": [
              "\n",
              "  <div id=\"df-e3562935-01f0-4aa8-8d6a-bc4fe6ceb752\">\n",
              "    <div class=\"colab-df-container\">\n",
              "      <div>\n",
              "<style scoped>\n",
              "    .dataframe tbody tr th:only-of-type {\n",
              "        vertical-align: middle;\n",
              "    }\n",
              "\n",
              "    .dataframe tbody tr th {\n",
              "        vertical-align: top;\n",
              "    }\n",
              "\n",
              "    .dataframe thead th {\n",
              "        text-align: right;\n",
              "    }\n",
              "</style>\n",
              "<table border=\"1\" class=\"dataframe\">\n",
              "  <thead>\n",
              "    <tr style=\"text-align: right;\">\n",
              "      <th></th>\n",
              "      <th>count</th>\n",
              "      <th>unique</th>\n",
              "      <th>top</th>\n",
              "      <th>freq</th>\n",
              "    </tr>\n",
              "  </thead>\n",
              "  <tbody>\n",
              "    <tr>\n",
              "      <th>employment_status</th>\n",
              "      <td>31876</td>\n",
              "      <td>3</td>\n",
              "      <td>Employed</td>\n",
              "      <td>17173</td>\n",
              "    </tr>\n",
              "    <tr>\n",
              "      <th>census_msa</th>\n",
              "      <td>42154</td>\n",
              "      <td>3</td>\n",
              "      <td>MSA, Not Principle City</td>\n",
              "      <td>18957</td>\n",
              "    </tr>\n",
              "    <tr>\n",
              "      <th>opinion_h1n1_vacc_effective</th>\n",
              "      <td>33375</td>\n",
              "      <td>6</td>\n",
              "      <td>Somewhat Effective</td>\n",
              "      <td>14729</td>\n",
              "    </tr>\n",
              "    <tr>\n",
              "      <th>opinion_h1n1_risk</th>\n",
              "      <td>33329</td>\n",
              "      <td>6</td>\n",
              "      <td>Somewhat Low</td>\n",
              "      <td>12520</td>\n",
              "    </tr>\n",
              "    <tr>\n",
              "      <th>opinion_h1n1_sick_from_vacc</th>\n",
              "      <td>33285</td>\n",
              "      <td>6</td>\n",
              "      <td>Not Very Worried</td>\n",
              "      <td>11582</td>\n",
              "    </tr>\n",
              "    <tr>\n",
              "      <th>opinion_seas_vacc_effective</th>\n",
              "      <td>33220</td>\n",
              "      <td>6</td>\n",
              "      <td>Somewhat Effective</td>\n",
              "      <td>14543</td>\n",
              "    </tr>\n",
              "    <tr>\n",
              "      <th>opinion_seas_risk</th>\n",
              "      <td>33153</td>\n",
              "      <td>6</td>\n",
              "      <td>Somewhat Low</td>\n",
              "      <td>11397</td>\n",
              "    </tr>\n",
              "    <tr>\n",
              "      <th>opinion_seas_sick_from_vacc</th>\n",
              "      <td>33089</td>\n",
              "      <td>6</td>\n",
              "      <td>Not At All Worried</td>\n",
              "      <td>14749</td>\n",
              "    </tr>\n",
              "    <tr>\n",
              "      <th>agegrp</th>\n",
              "      <td>42154</td>\n",
              "      <td>7</td>\n",
              "      <td>65+ Years</td>\n",
              "      <td>8517</td>\n",
              "    </tr>\n",
              "    <tr>\n",
              "      <th>employment_industry</th>\n",
              "      <td>17165</td>\n",
              "      <td>23</td>\n",
              "      <td>Health Care and Social Assistance Industries</td>\n",
              "      <td>3086</td>\n",
              "    </tr>\n",
              "    <tr>\n",
              "      <th>employment_occupation</th>\n",
              "      <td>17165</td>\n",
              "      <td>25</td>\n",
              "      <td>Management Occupations</td>\n",
              "      <td>2188</td>\n",
              "    </tr>\n",
              "    <tr>\n",
              "      <th>state</th>\n",
              "      <td>42154</td>\n",
              "      <td>51</td>\n",
              "      <td>NEW MEXICO</td>\n",
              "      <td>1017</td>\n",
              "    </tr>\n",
              "  </tbody>\n",
              "</table>\n",
              "</div>\n",
              "      <button class=\"colab-df-convert\" onclick=\"convertToInteractive('df-e3562935-01f0-4aa8-8d6a-bc4fe6ceb752')\"\n",
              "              title=\"Convert this dataframe to an interactive table.\"\n",
              "              style=\"display:none;\">\n",
              "        \n",
              "  <svg xmlns=\"http://www.w3.org/2000/svg\" height=\"24px\"viewBox=\"0 0 24 24\"\n",
              "       width=\"24px\">\n",
              "    <path d=\"M0 0h24v24H0V0z\" fill=\"none\"/>\n",
              "    <path d=\"M18.56 5.44l.94 2.06.94-2.06 2.06-.94-2.06-.94-.94-2.06-.94 2.06-2.06.94zm-11 1L8.5 8.5l.94-2.06 2.06-.94-2.06-.94L8.5 2.5l-.94 2.06-2.06.94zm10 10l.94 2.06.94-2.06 2.06-.94-2.06-.94-.94-2.06-.94 2.06-2.06.94z\"/><path d=\"M17.41 7.96l-1.37-1.37c-.4-.4-.92-.59-1.43-.59-.52 0-1.04.2-1.43.59L10.3 9.45l-7.72 7.72c-.78.78-.78 2.05 0 2.83L4 21.41c.39.39.9.59 1.41.59.51 0 1.02-.2 1.41-.59l7.78-7.78 2.81-2.81c.8-.78.8-2.07 0-2.86zM5.41 20L4 18.59l7.72-7.72 1.47 1.35L5.41 20z\"/>\n",
              "  </svg>\n",
              "      </button>\n",
              "      \n",
              "  <style>\n",
              "    .colab-df-container {\n",
              "      display:flex;\n",
              "      flex-wrap:wrap;\n",
              "      gap: 12px;\n",
              "    }\n",
              "\n",
              "    .colab-df-convert {\n",
              "      background-color: #E8F0FE;\n",
              "      border: none;\n",
              "      border-radius: 50%;\n",
              "      cursor: pointer;\n",
              "      display: none;\n",
              "      fill: #1967D2;\n",
              "      height: 32px;\n",
              "      padding: 0 0 0 0;\n",
              "      width: 32px;\n",
              "    }\n",
              "\n",
              "    .colab-df-convert:hover {\n",
              "      background-color: #E2EBFA;\n",
              "      box-shadow: 0px 1px 2px rgba(60, 64, 67, 0.3), 0px 1px 3px 1px rgba(60, 64, 67, 0.15);\n",
              "      fill: #174EA6;\n",
              "    }\n",
              "\n",
              "    [theme=dark] .colab-df-convert {\n",
              "      background-color: #3B4455;\n",
              "      fill: #D2E3FC;\n",
              "    }\n",
              "\n",
              "    [theme=dark] .colab-df-convert:hover {\n",
              "      background-color: #434B5C;\n",
              "      box-shadow: 0px 1px 3px 1px rgba(0, 0, 0, 0.15);\n",
              "      filter: drop-shadow(0px 1px 2px rgba(0, 0, 0, 0.3));\n",
              "      fill: #FFFFFF;\n",
              "    }\n",
              "  </style>\n",
              "\n",
              "      <script>\n",
              "        const buttonEl =\n",
              "          document.querySelector('#df-e3562935-01f0-4aa8-8d6a-bc4fe6ceb752 button.colab-df-convert');\n",
              "        buttonEl.style.display =\n",
              "          google.colab.kernel.accessAllowed ? 'block' : 'none';\n",
              "\n",
              "        async function convertToInteractive(key) {\n",
              "          const element = document.querySelector('#df-e3562935-01f0-4aa8-8d6a-bc4fe6ceb752');\n",
              "          const dataTable =\n",
              "            await google.colab.kernel.invokeFunction('convertToInteractive',\n",
              "                                                     [key], {});\n",
              "          if (!dataTable) return;\n",
              "\n",
              "          const docLinkHtml = 'Like what you see? Visit the ' +\n",
              "            '<a target=\"_blank\" href=https://colab.research.google.com/notebooks/data_table.ipynb>data table notebook</a>'\n",
              "            + ' to learn more about interactive tables.';\n",
              "          element.innerHTML = '';\n",
              "          dataTable['output_type'] = 'display_data';\n",
              "          await google.colab.output.renderOutput(dataTable, element);\n",
              "          const docLink = document.createElement('div');\n",
              "          docLink.innerHTML = docLinkHtml;\n",
              "          element.appendChild(docLink);\n",
              "        }\n",
              "      </script>\n",
              "    </div>\n",
              "  </div>\n",
              "  "
            ],
            "text/plain": [
              "                             count  ...   freq\n",
              "employment_status            31876  ...  17173\n",
              "census_msa                   42154  ...  18957\n",
              "opinion_h1n1_vacc_effective  33375  ...  14729\n",
              "opinion_h1n1_risk            33329  ...  12520\n",
              "opinion_h1n1_sick_from_vacc  33285  ...  11582\n",
              "opinion_seas_vacc_effective  33220  ...  14543\n",
              "opinion_seas_risk            33153  ...  11397\n",
              "opinion_seas_sick_from_vacc  33089  ...  14749\n",
              "agegrp                       42154  ...   8517\n",
              "employment_industry          17165  ...   3086\n",
              "employment_occupation        17165  ...   2188\n",
              "state                        42154  ...   1017\n",
              "\n",
              "[12 rows x 4 columns]"
            ]
          },
          "metadata": {},
          "execution_count": 11
        }
      ]
    },
    {
      "cell_type": "markdown",
      "metadata": {
        "id": "lP92B9KR8vv5"
      },
      "source": [
        "### 데이터 분리\n",
        "feature과 lable 분리"
      ]
    },
    {
      "cell_type": "code",
      "source": [
        "y_train = train[target]\n",
        "X_train = train.drop(target, axis=1)\n",
        "\n",
        "X_train.shape, y_train.shape"
      ],
      "metadata": {
        "id": "V3REW6ekXK-5",
        "outputId": "59e9ced1-f5bc-4f5f-8123-1c95045fd08e",
        "colab": {
          "base_uri": "https://localhost:8080/"
        }
      },
      "execution_count": 12,
      "outputs": [
        {
          "output_type": "execute_result",
          "data": {
            "text/plain": [
              "((42154, 38), (42154,))"
            ]
          },
          "metadata": {},
          "execution_count": 12
        }
      ]
    },
    {
      "cell_type": "markdown",
      "source": [
        "#### 데이터 타입이 Object-string 인 데이터 확인"
      ],
      "metadata": {
        "id": "C-IRq1Yg7V9m"
      }
    },
    {
      "cell_type": "code",
      "source": [
        "# features- object컬럼의 cardinality확인\n",
        "\n",
        "# object 타입의 features를 고르기\n",
        "object_data = []\n",
        "\n",
        "for col in X_train.columns:\n",
        "    if X_train[col].dtype==\"object\":\n",
        "        object_data.append(col)\n",
        "\n",
        "object_data"
      ],
      "metadata": {
        "id": "oz92M4tFXEJ7",
        "outputId": "31b9252f-53dc-41cb-c45e-dc0abd82a073",
        "colab": {
          "base_uri": "https://localhost:8080/"
        }
      },
      "execution_count": 13,
      "outputs": [
        {
          "output_type": "execute_result",
          "data": {
            "text/plain": [
              "['opinion_h1n1_vacc_effective',\n",
              " 'opinion_h1n1_risk',\n",
              " 'opinion_h1n1_sick_from_vacc',\n",
              " 'opinion_seas_vacc_effective',\n",
              " 'opinion_seas_risk',\n",
              " 'opinion_seas_sick_from_vacc',\n",
              " 'agegrp',\n",
              " 'employment_status',\n",
              " 'census_msa',\n",
              " 'employment_industry',\n",
              " 'employment_occupation',\n",
              " 'state']"
            ]
          },
          "metadata": {},
          "execution_count": 13
        }
      ]
    },
    {
      "cell_type": "code",
      "source": [
        "X_train[object_data].describe().T.sort_values(by='unique')"
      ],
      "metadata": {
        "id": "tWLwhOq7XYZU",
        "outputId": "d1241a07-dca3-4749-bf1e-29fdf3015097",
        "colab": {
          "base_uri": "https://localhost:8080/",
          "height": 425
        }
      },
      "execution_count": 14,
      "outputs": [
        {
          "output_type": "execute_result",
          "data": {
            "text/html": [
              "\n",
              "  <div id=\"df-be5bdc51-28fb-4a8c-8d31-06958e16fb70\">\n",
              "    <div class=\"colab-df-container\">\n",
              "      <div>\n",
              "<style scoped>\n",
              "    .dataframe tbody tr th:only-of-type {\n",
              "        vertical-align: middle;\n",
              "    }\n",
              "\n",
              "    .dataframe tbody tr th {\n",
              "        vertical-align: top;\n",
              "    }\n",
              "\n",
              "    .dataframe thead th {\n",
              "        text-align: right;\n",
              "    }\n",
              "</style>\n",
              "<table border=\"1\" class=\"dataframe\">\n",
              "  <thead>\n",
              "    <tr style=\"text-align: right;\">\n",
              "      <th></th>\n",
              "      <th>count</th>\n",
              "      <th>unique</th>\n",
              "      <th>top</th>\n",
              "      <th>freq</th>\n",
              "    </tr>\n",
              "  </thead>\n",
              "  <tbody>\n",
              "    <tr>\n",
              "      <th>employment_status</th>\n",
              "      <td>31876</td>\n",
              "      <td>3</td>\n",
              "      <td>Employed</td>\n",
              "      <td>17173</td>\n",
              "    </tr>\n",
              "    <tr>\n",
              "      <th>census_msa</th>\n",
              "      <td>42154</td>\n",
              "      <td>3</td>\n",
              "      <td>MSA, Not Principle City</td>\n",
              "      <td>18957</td>\n",
              "    </tr>\n",
              "    <tr>\n",
              "      <th>opinion_h1n1_vacc_effective</th>\n",
              "      <td>33375</td>\n",
              "      <td>6</td>\n",
              "      <td>Somewhat Effective</td>\n",
              "      <td>14729</td>\n",
              "    </tr>\n",
              "    <tr>\n",
              "      <th>opinion_h1n1_risk</th>\n",
              "      <td>33329</td>\n",
              "      <td>6</td>\n",
              "      <td>Somewhat Low</td>\n",
              "      <td>12520</td>\n",
              "    </tr>\n",
              "    <tr>\n",
              "      <th>opinion_h1n1_sick_from_vacc</th>\n",
              "      <td>33285</td>\n",
              "      <td>6</td>\n",
              "      <td>Not Very Worried</td>\n",
              "      <td>11582</td>\n",
              "    </tr>\n",
              "    <tr>\n",
              "      <th>opinion_seas_vacc_effective</th>\n",
              "      <td>33220</td>\n",
              "      <td>6</td>\n",
              "      <td>Somewhat Effective</td>\n",
              "      <td>14543</td>\n",
              "    </tr>\n",
              "    <tr>\n",
              "      <th>opinion_seas_risk</th>\n",
              "      <td>33153</td>\n",
              "      <td>6</td>\n",
              "      <td>Somewhat Low</td>\n",
              "      <td>11397</td>\n",
              "    </tr>\n",
              "    <tr>\n",
              "      <th>opinion_seas_sick_from_vacc</th>\n",
              "      <td>33089</td>\n",
              "      <td>6</td>\n",
              "      <td>Not At All Worried</td>\n",
              "      <td>14749</td>\n",
              "    </tr>\n",
              "    <tr>\n",
              "      <th>agegrp</th>\n",
              "      <td>42154</td>\n",
              "      <td>7</td>\n",
              "      <td>65+ Years</td>\n",
              "      <td>8517</td>\n",
              "    </tr>\n",
              "    <tr>\n",
              "      <th>employment_industry</th>\n",
              "      <td>17165</td>\n",
              "      <td>23</td>\n",
              "      <td>Health Care and Social Assistance Industries</td>\n",
              "      <td>3086</td>\n",
              "    </tr>\n",
              "    <tr>\n",
              "      <th>employment_occupation</th>\n",
              "      <td>17165</td>\n",
              "      <td>25</td>\n",
              "      <td>Management Occupations</td>\n",
              "      <td>2188</td>\n",
              "    </tr>\n",
              "    <tr>\n",
              "      <th>state</th>\n",
              "      <td>42154</td>\n",
              "      <td>51</td>\n",
              "      <td>NEW MEXICO</td>\n",
              "      <td>1017</td>\n",
              "    </tr>\n",
              "  </tbody>\n",
              "</table>\n",
              "</div>\n",
              "      <button class=\"colab-df-convert\" onclick=\"convertToInteractive('df-be5bdc51-28fb-4a8c-8d31-06958e16fb70')\"\n",
              "              title=\"Convert this dataframe to an interactive table.\"\n",
              "              style=\"display:none;\">\n",
              "        \n",
              "  <svg xmlns=\"http://www.w3.org/2000/svg\" height=\"24px\"viewBox=\"0 0 24 24\"\n",
              "       width=\"24px\">\n",
              "    <path d=\"M0 0h24v24H0V0z\" fill=\"none\"/>\n",
              "    <path d=\"M18.56 5.44l.94 2.06.94-2.06 2.06-.94-2.06-.94-.94-2.06-.94 2.06-2.06.94zm-11 1L8.5 8.5l.94-2.06 2.06-.94-2.06-.94L8.5 2.5l-.94 2.06-2.06.94zm10 10l.94 2.06.94-2.06 2.06-.94-2.06-.94-.94-2.06-.94 2.06-2.06.94z\"/><path d=\"M17.41 7.96l-1.37-1.37c-.4-.4-.92-.59-1.43-.59-.52 0-1.04.2-1.43.59L10.3 9.45l-7.72 7.72c-.78.78-.78 2.05 0 2.83L4 21.41c.39.39.9.59 1.41.59.51 0 1.02-.2 1.41-.59l7.78-7.78 2.81-2.81c.8-.78.8-2.07 0-2.86zM5.41 20L4 18.59l7.72-7.72 1.47 1.35L5.41 20z\"/>\n",
              "  </svg>\n",
              "      </button>\n",
              "      \n",
              "  <style>\n",
              "    .colab-df-container {\n",
              "      display:flex;\n",
              "      flex-wrap:wrap;\n",
              "      gap: 12px;\n",
              "    }\n",
              "\n",
              "    .colab-df-convert {\n",
              "      background-color: #E8F0FE;\n",
              "      border: none;\n",
              "      border-radius: 50%;\n",
              "      cursor: pointer;\n",
              "      display: none;\n",
              "      fill: #1967D2;\n",
              "      height: 32px;\n",
              "      padding: 0 0 0 0;\n",
              "      width: 32px;\n",
              "    }\n",
              "\n",
              "    .colab-df-convert:hover {\n",
              "      background-color: #E2EBFA;\n",
              "      box-shadow: 0px 1px 2px rgba(60, 64, 67, 0.3), 0px 1px 3px 1px rgba(60, 64, 67, 0.15);\n",
              "      fill: #174EA6;\n",
              "    }\n",
              "\n",
              "    [theme=dark] .colab-df-convert {\n",
              "      background-color: #3B4455;\n",
              "      fill: #D2E3FC;\n",
              "    }\n",
              "\n",
              "    [theme=dark] .colab-df-convert:hover {\n",
              "      background-color: #434B5C;\n",
              "      box-shadow: 0px 1px 3px 1px rgba(0, 0, 0, 0.15);\n",
              "      filter: drop-shadow(0px 1px 2px rgba(0, 0, 0, 0.3));\n",
              "      fill: #FFFFFF;\n",
              "    }\n",
              "  </style>\n",
              "\n",
              "      <script>\n",
              "        const buttonEl =\n",
              "          document.querySelector('#df-be5bdc51-28fb-4a8c-8d31-06958e16fb70 button.colab-df-convert');\n",
              "        buttonEl.style.display =\n",
              "          google.colab.kernel.accessAllowed ? 'block' : 'none';\n",
              "\n",
              "        async function convertToInteractive(key) {\n",
              "          const element = document.querySelector('#df-be5bdc51-28fb-4a8c-8d31-06958e16fb70');\n",
              "          const dataTable =\n",
              "            await google.colab.kernel.invokeFunction('convertToInteractive',\n",
              "                                                     [key], {});\n",
              "          if (!dataTable) return;\n",
              "\n",
              "          const docLinkHtml = 'Like what you see? Visit the ' +\n",
              "            '<a target=\"_blank\" href=https://colab.research.google.com/notebooks/data_table.ipynb>data table notebook</a>'\n",
              "            + ' to learn more about interactive tables.';\n",
              "          element.innerHTML = '';\n",
              "          dataTable['output_type'] = 'display_data';\n",
              "          await google.colab.output.renderOutput(dataTable, element);\n",
              "          const docLink = document.createElement('div');\n",
              "          docLink.innerHTML = docLinkHtml;\n",
              "          element.appendChild(docLink);\n",
              "        }\n",
              "      </script>\n",
              "    </div>\n",
              "  </div>\n",
              "  "
            ],
            "text/plain": [
              "                             count  ...   freq\n",
              "employment_status            31876  ...  17173\n",
              "census_msa                   42154  ...  18957\n",
              "opinion_h1n1_vacc_effective  33375  ...  14729\n",
              "opinion_h1n1_risk            33329  ...  12520\n",
              "opinion_h1n1_sick_from_vacc  33285  ...  11582\n",
              "opinion_seas_vacc_effective  33220  ...  14543\n",
              "opinion_seas_risk            33153  ...  11397\n",
              "opinion_seas_sick_from_vacc  33089  ...  14749\n",
              "agegrp                       42154  ...   8517\n",
              "employment_industry          17165  ...   3086\n",
              "employment_occupation        17165  ...   2188\n",
              "state                        42154  ...   1017\n",
              "\n",
              "[12 rows x 4 columns]"
            ]
          },
          "metadata": {},
          "execution_count": 14
        }
      ]
    },
    {
      "cell_type": "markdown",
      "source": [
        "#### label 정답 비율 확인 및 시각화"
      ],
      "metadata": {
        "id": "3pACDSO17r4c"
      }
    },
    {
      "cell_type": "code",
      "source": [
        "# target - 구성 비율 확인 & 시각화\n",
        "proportion = pd.DataFrame(y_train.value_counts())\n",
        "proportion"
      ],
      "metadata": {
        "id": "XCm92y0-Xc_4",
        "outputId": "f6563c12-42cd-484d-da12-d8d1ad9e89c9",
        "colab": {
          "base_uri": "https://localhost:8080/",
          "height": 112
        }
      },
      "execution_count": 15,
      "outputs": [
        {
          "output_type": "execute_result",
          "data": {
            "text/html": [
              "\n",
              "  <div id=\"df-b1d87ace-71c7-4ee6-bfcf-0d22081438da\">\n",
              "    <div class=\"colab-df-container\">\n",
              "      <div>\n",
              "<style scoped>\n",
              "    .dataframe tbody tr th:only-of-type {\n",
              "        vertical-align: middle;\n",
              "    }\n",
              "\n",
              "    .dataframe tbody tr th {\n",
              "        vertical-align: top;\n",
              "    }\n",
              "\n",
              "    .dataframe thead th {\n",
              "        text-align: right;\n",
              "    }\n",
              "</style>\n",
              "<table border=\"1\" class=\"dataframe\">\n",
              "  <thead>\n",
              "    <tr style=\"text-align: right;\">\n",
              "      <th></th>\n",
              "      <th>vacc_h1n1_f</th>\n",
              "    </tr>\n",
              "  </thead>\n",
              "  <tbody>\n",
              "    <tr>\n",
              "      <th>0</th>\n",
              "      <td>32077</td>\n",
              "    </tr>\n",
              "    <tr>\n",
              "      <th>1</th>\n",
              "      <td>10077</td>\n",
              "    </tr>\n",
              "  </tbody>\n",
              "</table>\n",
              "</div>\n",
              "      <button class=\"colab-df-convert\" onclick=\"convertToInteractive('df-b1d87ace-71c7-4ee6-bfcf-0d22081438da')\"\n",
              "              title=\"Convert this dataframe to an interactive table.\"\n",
              "              style=\"display:none;\">\n",
              "        \n",
              "  <svg xmlns=\"http://www.w3.org/2000/svg\" height=\"24px\"viewBox=\"0 0 24 24\"\n",
              "       width=\"24px\">\n",
              "    <path d=\"M0 0h24v24H0V0z\" fill=\"none\"/>\n",
              "    <path d=\"M18.56 5.44l.94 2.06.94-2.06 2.06-.94-2.06-.94-.94-2.06-.94 2.06-2.06.94zm-11 1L8.5 8.5l.94-2.06 2.06-.94-2.06-.94L8.5 2.5l-.94 2.06-2.06.94zm10 10l.94 2.06.94-2.06 2.06-.94-2.06-.94-.94-2.06-.94 2.06-2.06.94z\"/><path d=\"M17.41 7.96l-1.37-1.37c-.4-.4-.92-.59-1.43-.59-.52 0-1.04.2-1.43.59L10.3 9.45l-7.72 7.72c-.78.78-.78 2.05 0 2.83L4 21.41c.39.39.9.59 1.41.59.51 0 1.02-.2 1.41-.59l7.78-7.78 2.81-2.81c.8-.78.8-2.07 0-2.86zM5.41 20L4 18.59l7.72-7.72 1.47 1.35L5.41 20z\"/>\n",
              "  </svg>\n",
              "      </button>\n",
              "      \n",
              "  <style>\n",
              "    .colab-df-container {\n",
              "      display:flex;\n",
              "      flex-wrap:wrap;\n",
              "      gap: 12px;\n",
              "    }\n",
              "\n",
              "    .colab-df-convert {\n",
              "      background-color: #E8F0FE;\n",
              "      border: none;\n",
              "      border-radius: 50%;\n",
              "      cursor: pointer;\n",
              "      display: none;\n",
              "      fill: #1967D2;\n",
              "      height: 32px;\n",
              "      padding: 0 0 0 0;\n",
              "      width: 32px;\n",
              "    }\n",
              "\n",
              "    .colab-df-convert:hover {\n",
              "      background-color: #E2EBFA;\n",
              "      box-shadow: 0px 1px 2px rgba(60, 64, 67, 0.3), 0px 1px 3px 1px rgba(60, 64, 67, 0.15);\n",
              "      fill: #174EA6;\n",
              "    }\n",
              "\n",
              "    [theme=dark] .colab-df-convert {\n",
              "      background-color: #3B4455;\n",
              "      fill: #D2E3FC;\n",
              "    }\n",
              "\n",
              "    [theme=dark] .colab-df-convert:hover {\n",
              "      background-color: #434B5C;\n",
              "      box-shadow: 0px 1px 3px 1px rgba(0, 0, 0, 0.15);\n",
              "      filter: drop-shadow(0px 1px 2px rgba(0, 0, 0, 0.3));\n",
              "      fill: #FFFFFF;\n",
              "    }\n",
              "  </style>\n",
              "\n",
              "      <script>\n",
              "        const buttonEl =\n",
              "          document.querySelector('#df-b1d87ace-71c7-4ee6-bfcf-0d22081438da button.colab-df-convert');\n",
              "        buttonEl.style.display =\n",
              "          google.colab.kernel.accessAllowed ? 'block' : 'none';\n",
              "\n",
              "        async function convertToInteractive(key) {\n",
              "          const element = document.querySelector('#df-b1d87ace-71c7-4ee6-bfcf-0d22081438da');\n",
              "          const dataTable =\n",
              "            await google.colab.kernel.invokeFunction('convertToInteractive',\n",
              "                                                     [key], {});\n",
              "          if (!dataTable) return;\n",
              "\n",
              "          const docLinkHtml = 'Like what you see? Visit the ' +\n",
              "            '<a target=\"_blank\" href=https://colab.research.google.com/notebooks/data_table.ipynb>data table notebook</a>'\n",
              "            + ' to learn more about interactive tables.';\n",
              "          element.innerHTML = '';\n",
              "          dataTable['output_type'] = 'display_data';\n",
              "          await google.colab.output.renderOutput(dataTable, element);\n",
              "          const docLink = document.createElement('div');\n",
              "          docLink.innerHTML = docLinkHtml;\n",
              "          element.appendChild(docLink);\n",
              "        }\n",
              "      </script>\n",
              "    </div>\n",
              "  </div>\n",
              "  "
            ],
            "text/plain": [
              "   vacc_h1n1_f\n",
              "0        32077\n",
              "1        10077"
            ]
          },
          "metadata": {},
          "execution_count": 15
        }
      ]
    },
    {
      "cell_type": "code",
      "source": [
        "import matplotlib.pyplot as plt\n",
        "import seaborn as sns\n",
        "# 시각화\n",
        "df_target = pd.DataFrame(y_train)\n",
        "\n",
        "sns.set_theme(style=\"whitegrid\")\n",
        "ax = sns.barplot(x=proportion.index, y=target, data=proportion)\n",
        "plt.show()"
      ],
      "metadata": {
        "id": "GJReqFLDXfAF",
        "outputId": "cd0ab602-6df0-4562-80a9-daeada18495c",
        "colab": {
          "base_uri": "https://localhost:8080/",
          "height": 267
        }
      },
      "execution_count": 16,
      "outputs": [
        {
          "output_type": "display_data",
          "data": {
            "image/png": "[encoded data removed]",
            "text/plain": [
              "<Figure size 432x288 with 1 Axes>"
            ]
          },
          "metadata": {}
        }
      ]
    },
    {
      "cell_type": "markdown",
      "source": [
        "#### 인코딩 필요 여부 확인"
      ],
      "metadata": {
        "id": "MGgkDXIf75BZ"
      }
    },
    {
      "cell_type": "code",
      "source": [
        "train[\"opinion_h1n1_vacc_effective\"].value_counts()   # Ordinal Encoding이 필요 : 점수로 환산 가능"
      ],
      "metadata": {
        "id": "elpqFP0vXsZJ",
        "outputId": "aa4c60b2-ba38-4565-fc70-70bbc7db6d1b",
        "colab": {
          "base_uri": "https://localhost:8080/"
        }
      },
      "execution_count": 17,
      "outputs": [
        {
          "output_type": "execute_result",
          "data": {
            "text/plain": [
              "Somewhat Effective      14729\n",
              "Very Effective           9052\n",
              "Dont Know                6033\n",
              "Not Very Effective       2312\n",
              "Not At All Effective     1111\n",
              "Refused                   138\n",
              "Name: opinion_h1n1_vacc_effective, dtype: int64"
            ]
          },
          "metadata": {},
          "execution_count": 17
        }
      ]
    },
    {
      "cell_type": "code",
      "source": [
        "train[\"state\"].value_counts()   # 순서에 크게 연연하지 않는다."
      ],
      "metadata": {
        "id": "shWQUGFYXte3",
        "outputId": "55d1cdc7-110f-4f89-dd2c-f39ed98bd2e2",
        "colab": {
          "base_uri": "https://localhost:8080/"
        }
      },
      "execution_count": 18,
      "outputs": [
        {
          "output_type": "execute_result",
          "data": {
            "text/plain": [
              "NEW MEXICO             1017\n",
              "TEXAS                  1012\n",
              "CALIFORNIA              992\n",
              "VIRGINIA                982\n",
              "MARYLAND                978\n",
              "GEORGIA                 963\n",
              "ILLINOIS                933\n",
              "DISTRICTOF COLUMBIA     927\n",
              "MISSISSIPPI             897\n",
              "UTAH                    894\n",
              "NEW YORK                892\n",
              "FLORIDA                 890\n",
              "ARIZONA                 887\n",
              "LOUISIANA               884\n",
              "ALASKA                  876\n",
              "NEW JERSEY              867\n",
              "NORTH CAROLINA          860\n",
              "ALABAMA                 856\n",
              "COLORADO                850\n",
              "WASHINGTON              834\n",
              "NEVADA                  834\n",
              "ARKANSAS                826\n",
              "INDIANA                 821\n",
              "DELAWARE                820\n",
              "WYOMING                 820\n",
              "IDAHO                   818\n",
              "OREGON                  818\n",
              "NEBRASKA                810\n",
              "KANSAS                  805\n",
              "SOUTH CAROLINA          796\n",
              "MASSACHUSETTS           791\n",
              "IOWA                    791\n",
              "OKLAHOMA                783\n",
              "CONNECTICUT             783\n",
              "RHODE ISLAND            778\n",
              "OHIO                    775\n",
              "VERMONT                 774\n",
              "PENNSYLVANIA            770\n",
              "TENNESSEE               765\n",
              "WISCONSIN               763\n",
              "MICHIGAN                754\n",
              "MISSOURI                748\n",
              "MINNESOTA               747\n",
              "MAINE                   732\n",
              "HAWAII                  727\n",
              "KENTUCKY                724\n",
              "MONTANA                 719\n",
              "SOUTH DAKOTA            711\n",
              "WEST VIRGINIA           701\n",
              "NORTH DAKOTA            690\n",
              "NEW HAMPSHIRE           669\n",
              "Name: state, dtype: int64"
            ]
          },
          "metadata": {},
          "execution_count": 18
        }
      ]
    },
    {
      "cell_type": "code",
      "source": [
        "train[\"marital\"].value_counts()   # -> ordinal Encoding이 필요없다."
      ],
      "metadata": {
        "id": "ac09lXO6XxQV",
        "outputId": "42336459-8bb0-4035-e7ba-2a7f2b4a5124",
        "colab": {
          "base_uri": "https://localhost:8080/"
        }
      },
      "execution_count": 19,
      "outputs": [
        {
          "output_type": "execute_result",
          "data": {
            "text/plain": [
              "1.0    17126\n",
              "2.0    14829\n",
              "Name: marital, dtype: int64"
            ]
          },
          "metadata": {},
          "execution_count": 19
        }
      ]
    },
    {
      "cell_type": "code",
      "source": [
        "train[\"employment_occupation\"].value_counts()   # 순서에 크게 연연하지 않는다."
      ],
      "metadata": {
        "id": "-dFaACFqYDET",
        "outputId": "08c56f6d-d7d4-4313-d246-e114a90a86dc",
        "colab": {
          "base_uri": "https://localhost:8080/"
        }
      },
      "execution_count": 20,
      "outputs": [
        {
          "output_type": "execute_result",
          "data": {
            "text/plain": [
              "Management Occupations                                       2188\n",
              "Office and Administrative Support Occupations                1931\n",
              "Education, Training, and Library Occupations                 1609\n",
              "Healthcare Practitioners and Technical Occupations           1535\n",
              "Sales and Related Occupations                                1404\n",
              "Business and Financial Operations Occupations                 946\n",
              "Construction and Extraction Occupations                       672\n",
              "Production Occupations                                        614\n",
              "Transportation and Material Moving Occupations                612\n",
              "Computer and Mathematical Occupations                         589\n",
              "Food Preparation and Serving Related Occupations              523\n",
              "Arts, Design, Entertainment, Sports and Media Occupations     457\n",
              "Architecture and Engineering Occupations                      447\n",
              "Community and Social Services Occupations                     435\n",
              "Personal Care and Service Occupations                         429\n",
              "Building and Grounds Cleaning and Maintenance Occupations     419\n",
              "Installation, Maintenance, and Repair Occupations             368\n",
              "Healthcare Support Occupations                                367\n",
              "Not ascertained                                               341\n",
              "Legal Occupations                                             293\n",
              "Life, Physical, and Social Science Occupations                291\n",
              "Protective Service Occupations                                288\n",
              "Military Specific Occupations                                 196\n",
              "Farming, Fishing, and Forestry Occupations                    135\n",
              "Refused, classified                                            76\n",
              "Name: employment_occupation, dtype: int64"
            ]
          },
          "metadata": {},
          "execution_count": 20
        }
      ]
    },
    {
      "cell_type": "markdown",
      "source": [
        "### Feature Engineering"
      ],
      "metadata": {
        "id": "oMdhfitFYIZr"
      }
    },
    {
      "cell_type": "markdown",
      "source": [
        "#### # 1. 지역 관련 컬럼 통합"
      ],
      "metadata": {
        "id": "t-hY0K-f8N5R"
      }
    },
    {
      "cell_type": "code",
      "source": [
        "# hhs_region : U.S. Department of Health & Human Services에서는 관할구역을 지정하고 branch office를 설치하여 관리,감독하고 있다.\n",
        "# 백신은 보건 관련 정보이므로, hhs_region정보는 살려둔다.\n",
        "\n",
        "# 1~10까지 있는지 확인\n",
        "X_train[\"hhs_region\"].value_counts().sort_index(ascending=True)"
      ],
      "metadata": {
        "id": "CkPkH9vwYO1W",
        "outputId": "446324d1-b991-42f5-9285-926fded8a3f0",
        "colab": {
          "base_uri": "https://localhost:8080/"
        }
      },
      "execution_count": 21,
      "outputs": [
        {
          "output_type": "execute_result",
          "data": {
            "text/plain": [
              "1     4527\n",
              "2     1759\n",
              "3     5178\n",
              "4     6751\n",
              "5     4793\n",
              "6     4522\n",
              "7     3154\n",
              "8     4684\n",
              "9     3440\n",
              "10    3346\n",
              "Name: hhs_region, dtype: int64"
            ]
          },
          "metadata": {},
          "execution_count": 21
        }
      ]
    },
    {
      "cell_type": "code",
      "source": [
        "# 어느 지역이 가장 많은지? - 시각화\n",
        "df_hhs_region = pd.DataFrame(X_train[\"hhs_region\"].value_counts())\n",
        "\n",
        "sns.set_theme(style=\"whitegrid\")\n",
        "plt.subplots(figsize=(15, 5))\n",
        "ax = sns.barplot(x=df_hhs_region.index, y=\"hhs_region\", data=df_hhs_region, order = df_hhs_region.index)\n",
        "\n",
        "for p in ax.patches: \n",
        "    left, bottom, width, height = p.get_bbox().bounds \n",
        "    ax.annotate(p.get_height(), (left+width/2, height*1.01), ha='center')\n",
        "    \n",
        "plt.show()"
      ],
      "metadata": {
        "id": "v_JWD_sWYRIB",
        "outputId": "aa663caf-f945-4958-e07a-eb0a5ca8be1f",
        "colab": {
          "base_uri": "https://localhost:8080/",
          "height": 323
        }
      },
      "execution_count": 22,
      "outputs": [
        {
          "output_type": "display_data",
          "data": {
            "image/png": "[encoded data removed]",
            "text/plain": [
              "<Figure size 1080x360 with 1 Axes>"
            ]
          },
          "metadata": {}
        }
      ]
    },
    {
      "cell_type": "code",
      "source": [
        "# census_region, census_msa 는 인구 밀도/분포와 관련 되어 있다 -> 지리적 위치가 더 궁금하므로 census_msa를 drop해본다.\n",
        "\n",
        "# drop전에 - 어떤 모양인가?\n",
        "df_cencus_msa = pd.DataFrame(X_train[\"census_msa\"].value_counts())\n",
        "\n",
        "sns.set_theme(style=\"whitegrid\")\n",
        "ax = sns.barplot(x=df_cencus_msa.index, y=\"census_msa\", data=df_cencus_msa)\n",
        "\n",
        "for p in ax.patches: \n",
        "    left, bottom, width, height = p.get_bbox().bounds \n",
        "    ax.annotate(p.get_height(), (left+width/2, height*1.01), ha='center')\n",
        "    \n",
        "plt.show()"
      ],
      "metadata": {
        "id": "u9sGjsKCYU1D",
        "outputId": "7f10a9c7-bd8b-4f95-88c7-4529e51f4ed5",
        "colab": {
          "base_uri": "https://localhost:8080/",
          "height": 270
        }
      },
      "execution_count": 23,
      "outputs": [
        {
          "output_type": "display_data",
          "data": {
            "image/png": "[encoded data removed]",
            "text/plain": [
              "<Figure size 432x288 with 1 Axes>"
            ]
          },
          "metadata": {}
        }
      ]
    },
    {
      "cell_type": "code",
      "source": [
        "X_train.drop(\"census_msa\", axis=1, inplace=True)  # 1회만 실행\n",
        "X_test = test.drop(\"census_msa\", axis=1)   # 1회만 실행\n",
        "X_test"
      ],
      "metadata": {
        "id": "OVGF8j58YVtv",
        "outputId": "9d485dc3-aa11-4cad-fdc3-e647f9310e5e",
        "colab": {
          "base_uri": "https://localhost:8080/",
          "height": 661
        }
      },
      "execution_count": 24,
      "outputs": [
        {
          "output_type": "execute_result",
          "data": {
            "text/html": [
              "\n",
              "  <div id=\"df-878d297f-efab-4372-8528-599a00938044\">\n",
              "    <div class=\"colab-df-container\">\n",
              "      <div>\n",
              "<style scoped>\n",
              "    .dataframe tbody tr th:only-of-type {\n",
              "        vertical-align: middle;\n",
              "    }\n",
              "\n",
              "    .dataframe tbody tr th {\n",
              "        vertical-align: top;\n",
              "    }\n",
              "\n",
              "    .dataframe thead th {\n",
              "        text-align: right;\n",
              "    }\n",
              "</style>\n",
              "<table border=\"1\" class=\"dataframe\">\n",
              "  <thead>\n",
              "    <tr style=\"text-align: right;\">\n",
              "      <th></th>\n",
              "      <th>h1n1_concern</th>\n",
              "      <th>h1n1_knowledge</th>\n",
              "      <th>behavioral_antiviral_meds</th>\n",
              "      <th>behavioral_avoidance</th>\n",
              "      <th>behavioral_face_mask</th>\n",
              "      <th>behavioral_wash_hands</th>\n",
              "      <th>behavioral_large_gatherings</th>\n",
              "      <th>behavioral_outside_home</th>\n",
              "      <th>behavioral_touch_face</th>\n",
              "      <th>doctor_recc_h1n1</th>\n",
              "      <th>doctor_recc_seasonal</th>\n",
              "      <th>chronic_med_condition</th>\n",
              "      <th>child_under_6_months</th>\n",
              "      <th>health_insurance</th>\n",
              "      <th>health_worker</th>\n",
              "      <th>opinion_h1n1_vacc_effective</th>\n",
              "      <th>opinion_h1n1_risk</th>\n",
              "      <th>opinion_h1n1_sick_from_vacc</th>\n",
              "      <th>opinion_seas_vacc_effective</th>\n",
              "      <th>opinion_seas_risk</th>\n",
              "      <th>opinion_seas_sick_from_vacc</th>\n",
              "      <th>agegrp</th>\n",
              "      <th>education_comp</th>\n",
              "      <th>raceeth4_i</th>\n",
              "      <th>sex_i</th>\n",
              "      <th>inc_pov</th>\n",
              "      <th>marital</th>\n",
              "      <th>rent_own_r</th>\n",
              "      <th>employment_status</th>\n",
              "      <th>census_region</th>\n",
              "      <th>n_adult_r</th>\n",
              "      <th>household_children</th>\n",
              "      <th>n_people_r</th>\n",
              "      <th>employment_industry</th>\n",
              "      <th>employment_occupation</th>\n",
              "      <th>hhs_region</th>\n",
              "      <th>state</th>\n",
              "    </tr>\n",
              "  </thead>\n",
              "  <tbody>\n",
              "    <tr>\n",
              "      <th>0</th>\n",
              "      <td>0.0</td>\n",
              "      <td>1.0</td>\n",
              "      <td>0.0</td>\n",
              "      <td>0.0</td>\n",
              "      <td>0.0</td>\n",
              "      <td>0.0</td>\n",
              "      <td>0.0</td>\n",
              "      <td>0.0</td>\n",
              "      <td>0.0</td>\n",
              "      <td>0.0</td>\n",
              "      <td>0.0</td>\n",
              "      <td>1.0</td>\n",
              "      <td>0.0</td>\n",
              "      <td>0.0</td>\n",
              "      <td>1.0</td>\n",
              "      <td>Not At All Effective</td>\n",
              "      <td>Very Low</td>\n",
              "      <td>Not At All Worried</td>\n",
              "      <td>Not At All Effective</td>\n",
              "      <td>Very Low</td>\n",
              "      <td>Not At All Worried</td>\n",
              "      <td>18 - 34 Years</td>\n",
              "      <td>1.0</td>\n",
              "      <td>3</td>\n",
              "      <td>2</td>\n",
              "      <td>2</td>\n",
              "      <td>2.0</td>\n",
              "      <td>1.0</td>\n",
              "      <td>Employed</td>\n",
              "      <td>2</td>\n",
              "      <td>2.0</td>\n",
              "      <td>0.0</td>\n",
              "      <td>2.0</td>\n",
              "      <td>Health Care and Social Assistance Industries</td>\n",
              "      <td>Healthcare Practitioners and Technical Occupat...</td>\n",
              "      <td>7</td>\n",
              "      <td>KANSAS</td>\n",
              "    </tr>\n",
              "    <tr>\n",
              "      <th>1</th>\n",
              "      <td>3.0</td>\n",
              "      <td>0.0</td>\n",
              "      <td>0.0</td>\n",
              "      <td>0.0</td>\n",
              "      <td>1.0</td>\n",
              "      <td>1.0</td>\n",
              "      <td>1.0</td>\n",
              "      <td>0.0</td>\n",
              "      <td>0.0</td>\n",
              "      <td>0.0</td>\n",
              "      <td>0.0</td>\n",
              "      <td>NaN</td>\n",
              "      <td>NaN</td>\n",
              "      <td>NaN</td>\n",
              "      <td>NaN</td>\n",
              "      <td>Dont Know</td>\n",
              "      <td>Dont Know</td>\n",
              "      <td>Dont Know</td>\n",
              "      <td>Dont Know</td>\n",
              "      <td>Dont Know</td>\n",
              "      <td>Dont Know</td>\n",
              "      <td>55 - 64 Years</td>\n",
              "      <td>NaN</td>\n",
              "      <td>3</td>\n",
              "      <td>1</td>\n",
              "      <td>4</td>\n",
              "      <td>NaN</td>\n",
              "      <td>NaN</td>\n",
              "      <td>NaN</td>\n",
              "      <td>3</td>\n",
              "      <td>1.0</td>\n",
              "      <td>0.0</td>\n",
              "      <td>1.0</td>\n",
              "      <td>NaN</td>\n",
              "      <td>NaN</td>\n",
              "      <td>6</td>\n",
              "      <td>LOUISIANA</td>\n",
              "    </tr>\n",
              "    <tr>\n",
              "      <th>2</th>\n",
              "      <td>1.0</td>\n",
              "      <td>1.0</td>\n",
              "      <td>0.0</td>\n",
              "      <td>0.0</td>\n",
              "      <td>0.0</td>\n",
              "      <td>1.0</td>\n",
              "      <td>1.0</td>\n",
              "      <td>1.0</td>\n",
              "      <td>0.0</td>\n",
              "      <td>0.0</td>\n",
              "      <td>1.0</td>\n",
              "      <td>0.0</td>\n",
              "      <td>0.0</td>\n",
              "      <td>NaN</td>\n",
              "      <td>0.0</td>\n",
              "      <td>Very Effective</td>\n",
              "      <td>Very Low</td>\n",
              "      <td>Not Very Worried</td>\n",
              "      <td>Very Effective</td>\n",
              "      <td>Somewhat High</td>\n",
              "      <td>Somewhat Worried</td>\n",
              "      <td>65+ Years</td>\n",
              "      <td>3.0</td>\n",
              "      <td>3</td>\n",
              "      <td>1</td>\n",
              "      <td>2</td>\n",
              "      <td>2.0</td>\n",
              "      <td>1.0</td>\n",
              "      <td>Not in Labor Force</td>\n",
              "      <td>1</td>\n",
              "      <td>1.0</td>\n",
              "      <td>0.0</td>\n",
              "      <td>1.0</td>\n",
              "      <td>NaN</td>\n",
              "      <td>NaN</td>\n",
              "      <td>1</td>\n",
              "      <td>NEW HAMPSHIRE</td>\n",
              "    </tr>\n",
              "    <tr>\n",
              "      <th>3</th>\n",
              "      <td>2.0</td>\n",
              "      <td>2.0</td>\n",
              "      <td>0.0</td>\n",
              "      <td>0.0</td>\n",
              "      <td>0.0</td>\n",
              "      <td>0.0</td>\n",
              "      <td>0.0</td>\n",
              "      <td>0.0</td>\n",
              "      <td>0.0</td>\n",
              "      <td>0.0</td>\n",
              "      <td>1.0</td>\n",
              "      <td>0.0</td>\n",
              "      <td>0.0</td>\n",
              "      <td>NaN</td>\n",
              "      <td>0.0</td>\n",
              "      <td>Very Effective</td>\n",
              "      <td>Somewhat High</td>\n",
              "      <td>Not Very Worried</td>\n",
              "      <td>Very Effective</td>\n",
              "      <td>Somewhat High</td>\n",
              "      <td>Not At All Worried</td>\n",
              "      <td>65+ Years</td>\n",
              "      <td>4.0</td>\n",
              "      <td>3</td>\n",
              "      <td>1</td>\n",
              "      <td>4</td>\n",
              "      <td>1.0</td>\n",
              "      <td>1.0</td>\n",
              "      <td>Not in Labor Force</td>\n",
              "      <td>4</td>\n",
              "      <td>2.0</td>\n",
              "      <td>0.0</td>\n",
              "      <td>2.0</td>\n",
              "      <td>NaN</td>\n",
              "      <td>NaN</td>\n",
              "      <td>9</td>\n",
              "      <td>CALIFORNIA</td>\n",
              "    </tr>\n",
              "    <tr>\n",
              "      <th>4</th>\n",
              "      <td>2.0</td>\n",
              "      <td>1.0</td>\n",
              "      <td>0.0</td>\n",
              "      <td>1.0</td>\n",
              "      <td>0.0</td>\n",
              "      <td>1.0</td>\n",
              "      <td>0.0</td>\n",
              "      <td>0.0</td>\n",
              "      <td>1.0</td>\n",
              "      <td>0.0</td>\n",
              "      <td>0.0</td>\n",
              "      <td>0.0</td>\n",
              "      <td>0.0</td>\n",
              "      <td>NaN</td>\n",
              "      <td>0.0</td>\n",
              "      <td>Somewhat Effective</td>\n",
              "      <td>Somewhat Low</td>\n",
              "      <td>Not Very Worried</td>\n",
              "      <td>Somewhat Effective</td>\n",
              "      <td>Somewhat Low</td>\n",
              "      <td>Not At All Worried</td>\n",
              "      <td>65+ Years</td>\n",
              "      <td>2.0</td>\n",
              "      <td>3</td>\n",
              "      <td>1</td>\n",
              "      <td>2</td>\n",
              "      <td>2.0</td>\n",
              "      <td>1.0</td>\n",
              "      <td>Not in Labor Force</td>\n",
              "      <td>1</td>\n",
              "      <td>1.0</td>\n",
              "      <td>0.0</td>\n",
              "      <td>1.0</td>\n",
              "      <td>NaN</td>\n",
              "      <td>NaN</td>\n",
              "      <td>1</td>\n",
              "      <td>NEW HAMPSHIRE</td>\n",
              "    </tr>\n",
              "    <tr>\n",
              "      <th>...</th>\n",
              "      <td>...</td>\n",
              "      <td>...</td>\n",
              "      <td>...</td>\n",
              "      <td>...</td>\n",
              "      <td>...</td>\n",
              "      <td>...</td>\n",
              "      <td>...</td>\n",
              "      <td>...</td>\n",
              "      <td>...</td>\n",
              "      <td>...</td>\n",
              "      <td>...</td>\n",
              "      <td>...</td>\n",
              "      <td>...</td>\n",
              "      <td>...</td>\n",
              "      <td>...</td>\n",
              "      <td>...</td>\n",
              "      <td>...</td>\n",
              "      <td>...</td>\n",
              "      <td>...</td>\n",
              "      <td>...</td>\n",
              "      <td>...</td>\n",
              "      <td>...</td>\n",
              "      <td>...</td>\n",
              "      <td>...</td>\n",
              "      <td>...</td>\n",
              "      <td>...</td>\n",
              "      <td>...</td>\n",
              "      <td>...</td>\n",
              "      <td>...</td>\n",
              "      <td>...</td>\n",
              "      <td>...</td>\n",
              "      <td>...</td>\n",
              "      <td>...</td>\n",
              "      <td>...</td>\n",
              "      <td>...</td>\n",
              "      <td>...</td>\n",
              "      <td>...</td>\n",
              "    </tr>\n",
              "    <tr>\n",
              "      <th>28099</th>\n",
              "      <td>0.0</td>\n",
              "      <td>1.0</td>\n",
              "      <td>1.0</td>\n",
              "      <td>1.0</td>\n",
              "      <td>1.0</td>\n",
              "      <td>0.0</td>\n",
              "      <td>1.0</td>\n",
              "      <td>1.0</td>\n",
              "      <td>1.0</td>\n",
              "      <td>0.0</td>\n",
              "      <td>1.0</td>\n",
              "      <td>1.0</td>\n",
              "      <td>0.0</td>\n",
              "      <td>1.0</td>\n",
              "      <td>0.0</td>\n",
              "      <td>Somewhat Effective</td>\n",
              "      <td>Somewhat Low</td>\n",
              "      <td>Not Very Worried</td>\n",
              "      <td>Very Effective</td>\n",
              "      <td>Somewhat High</td>\n",
              "      <td>Not Very Worried</td>\n",
              "      <td>55 - 64 Years</td>\n",
              "      <td>3.0</td>\n",
              "      <td>3</td>\n",
              "      <td>1</td>\n",
              "      <td>3</td>\n",
              "      <td>2.0</td>\n",
              "      <td>2.0</td>\n",
              "      <td>Not in Labor Force</td>\n",
              "      <td>2</td>\n",
              "      <td>3.0</td>\n",
              "      <td>1.0</td>\n",
              "      <td>4.0</td>\n",
              "      <td>NaN</td>\n",
              "      <td>NaN</td>\n",
              "      <td>7</td>\n",
              "      <td>MISSOURI</td>\n",
              "    </tr>\n",
              "    <tr>\n",
              "      <th>28100</th>\n",
              "      <td>3.0</td>\n",
              "      <td>2.0</td>\n",
              "      <td>0.0</td>\n",
              "      <td>1.0</td>\n",
              "      <td>0.0</td>\n",
              "      <td>1.0</td>\n",
              "      <td>1.0</td>\n",
              "      <td>1.0</td>\n",
              "      <td>0.0</td>\n",
              "      <td>0.0</td>\n",
              "      <td>0.0</td>\n",
              "      <td>1.0</td>\n",
              "      <td>0.0</td>\n",
              "      <td>1.0</td>\n",
              "      <td>0.0</td>\n",
              "      <td>Somewhat Effective</td>\n",
              "      <td>Somewhat Low</td>\n",
              "      <td>Somewhat Worried</td>\n",
              "      <td>Very Effective</td>\n",
              "      <td>Very High</td>\n",
              "      <td>Very Worried</td>\n",
              "      <td>45 - 54 Years</td>\n",
              "      <td>2.0</td>\n",
              "      <td>3</td>\n",
              "      <td>2</td>\n",
              "      <td>2</td>\n",
              "      <td>1.0</td>\n",
              "      <td>1.0</td>\n",
              "      <td>Employed</td>\n",
              "      <td>3</td>\n",
              "      <td>2.0</td>\n",
              "      <td>0.0</td>\n",
              "      <td>2.0</td>\n",
              "      <td>Education Services Industries</td>\n",
              "      <td>Education, Training, and Library Occupations</td>\n",
              "      <td>4</td>\n",
              "      <td>MISSISSIPPI</td>\n",
              "    </tr>\n",
              "    <tr>\n",
              "      <th>28101</th>\n",
              "      <td>1.0</td>\n",
              "      <td>1.0</td>\n",
              "      <td>0.0</td>\n",
              "      <td>0.0</td>\n",
              "      <td>0.0</td>\n",
              "      <td>1.0</td>\n",
              "      <td>0.0</td>\n",
              "      <td>1.0</td>\n",
              "      <td>1.0</td>\n",
              "      <td>0.0</td>\n",
              "      <td>1.0</td>\n",
              "      <td>0.0</td>\n",
              "      <td>0.0</td>\n",
              "      <td>NaN</td>\n",
              "      <td>0.0</td>\n",
              "      <td>Very Effective</td>\n",
              "      <td>Very Low</td>\n",
              "      <td>Not Very Worried</td>\n",
              "      <td>Very Effective</td>\n",
              "      <td>Very Low</td>\n",
              "      <td>Not At All Worried</td>\n",
              "      <td>55 - 64 Years</td>\n",
              "      <td>2.0</td>\n",
              "      <td>3</td>\n",
              "      <td>1</td>\n",
              "      <td>1</td>\n",
              "      <td>1.0</td>\n",
              "      <td>1.0</td>\n",
              "      <td>Not in Labor Force</td>\n",
              "      <td>4</td>\n",
              "      <td>3.0</td>\n",
              "      <td>0.0</td>\n",
              "      <td>3.0</td>\n",
              "      <td>NaN</td>\n",
              "      <td>NaN</td>\n",
              "      <td>9</td>\n",
              "      <td>CALIFORNIA</td>\n",
              "    </tr>\n",
              "    <tr>\n",
              "      <th>28102</th>\n",
              "      <td>2.0</td>\n",
              "      <td>1.0</td>\n",
              "      <td>0.0</td>\n",
              "      <td>1.0</td>\n",
              "      <td>0.0</td>\n",
              "      <td>1.0</td>\n",
              "      <td>0.0</td>\n",
              "      <td>0.0</td>\n",
              "      <td>1.0</td>\n",
              "      <td>0.0</td>\n",
              "      <td>0.0</td>\n",
              "      <td>1.0</td>\n",
              "      <td>0.0</td>\n",
              "      <td>1.0</td>\n",
              "      <td>0.0</td>\n",
              "      <td>Somewhat Effective</td>\n",
              "      <td>Very High</td>\n",
              "      <td>Not At All Worried</td>\n",
              "      <td>Very Effective</td>\n",
              "      <td>Very High</td>\n",
              "      <td>Not At All Worried</td>\n",
              "      <td>35 - 44 Years</td>\n",
              "      <td>3.0</td>\n",
              "      <td>4</td>\n",
              "      <td>2</td>\n",
              "      <td>4</td>\n",
              "      <td>1.0</td>\n",
              "      <td>99.0</td>\n",
              "      <td>Employed</td>\n",
              "      <td>2</td>\n",
              "      <td>2.0</td>\n",
              "      <td>2.0</td>\n",
              "      <td>4.0</td>\n",
              "      <td>Transportation and Warehousing Industries</td>\n",
              "      <td>Office and Administrative Support Occupations</td>\n",
              "      <td>7</td>\n",
              "      <td>NEBRASKA</td>\n",
              "    </tr>\n",
              "    <tr>\n",
              "      <th>28103</th>\n",
              "      <td>2.0</td>\n",
              "      <td>1.0</td>\n",
              "      <td>0.0</td>\n",
              "      <td>0.0</td>\n",
              "      <td>0.0</td>\n",
              "      <td>1.0</td>\n",
              "      <td>0.0</td>\n",
              "      <td>0.0</td>\n",
              "      <td>0.0</td>\n",
              "      <td>1.0</td>\n",
              "      <td>1.0</td>\n",
              "      <td>0.0</td>\n",
              "      <td>0.0</td>\n",
              "      <td>NaN</td>\n",
              "      <td>0.0</td>\n",
              "      <td>Somewhat Effective</td>\n",
              "      <td>Dont Know</td>\n",
              "      <td>Not Very Worried</td>\n",
              "      <td>Very Effective</td>\n",
              "      <td>Somewhat Low</td>\n",
              "      <td>Not Very Worried</td>\n",
              "      <td>55 - 64 Years</td>\n",
              "      <td>4.0</td>\n",
              "      <td>2</td>\n",
              "      <td>2</td>\n",
              "      <td>2</td>\n",
              "      <td>1.0</td>\n",
              "      <td>1.0</td>\n",
              "      <td>Not in Labor Force</td>\n",
              "      <td>3</td>\n",
              "      <td>2.0</td>\n",
              "      <td>0.0</td>\n",
              "      <td>2.0</td>\n",
              "      <td>NaN</td>\n",
              "      <td>NaN</td>\n",
              "      <td>4</td>\n",
              "      <td>MISSISSIPPI</td>\n",
              "    </tr>\n",
              "  </tbody>\n",
              "</table>\n",
              "<p>28104 rows × 37 columns</p>\n",
              "</div>\n",
              "      <button class=\"colab-df-convert\" onclick=\"convertToInteractive('df-878d297f-efab-4372-8528-599a00938044')\"\n",
              "              title=\"Convert this dataframe to an interactive table.\"\n",
              "              style=\"display:none;\">\n",
              "        \n",
              "  <svg xmlns=\"http://www.w3.org/2000/svg\" height=\"24px\"viewBox=\"0 0 24 24\"\n",
              "       width=\"24px\">\n",
              "    <path d=\"M0 0h24v24H0V0z\" fill=\"none\"/>\n",
              "    <path d=\"M18.56 5.44l.94 2.06.94-2.06 2.06-.94-2.06-.94-.94-2.06-.94 2.06-2.06.94zm-11 1L8.5 8.5l.94-2.06 2.06-.94-2.06-.94L8.5 2.5l-.94 2.06-2.06.94zm10 10l.94 2.06.94-2.06 2.06-.94-2.06-.94-.94-2.06-.94 2.06-2.06.94z\"/><path d=\"M17.41 7.96l-1.37-1.37c-.4-.4-.92-.59-1.43-.59-.52 0-1.04.2-1.43.59L10.3 9.45l-7.72 7.72c-.78.78-.78 2.05 0 2.83L4 21.41c.39.39.9.59 1.41.59.51 0 1.02-.2 1.41-.59l7.78-7.78 2.81-2.81c.8-.78.8-2.07 0-2.86zM5.41 20L4 18.59l7.72-7.72 1.47 1.35L5.41 20z\"/>\n",
              "  </svg>\n",
              "      </button>\n",
              "      \n",
              "  <style>\n",
              "    .colab-df-container {\n",
              "      display:flex;\n",
              "      flex-wrap:wrap;\n",
              "      gap: 12px;\n",
              "    }\n",
              "\n",
              "    .colab-df-convert {\n",
              "      background-color: #E8F0FE;\n",
              "      border: none;\n",
              "      border-radius: 50%;\n",
              "      cursor: pointer;\n",
              "      display: none;\n",
              "      fill: #1967D2;\n",
              "      height: 32px;\n",
              "      padding: 0 0 0 0;\n",
              "      width: 32px;\n",
              "    }\n",
              "\n",
              "    .colab-df-convert:hover {\n",
              "      background-color: #E2EBFA;\n",
              "      box-shadow: 0px 1px 2px rgba(60, 64, 67, 0.3), 0px 1px 3px 1px rgba(60, 64, 67, 0.15);\n",
              "      fill: #174EA6;\n",
              "    }\n",
              "\n",
              "    [theme=dark] .colab-df-convert {\n",
              "      background-color: #3B4455;\n",
              "      fill: #D2E3FC;\n",
              "    }\n",
              "\n",
              "    [theme=dark] .colab-df-convert:hover {\n",
              "      background-color: #434B5C;\n",
              "      box-shadow: 0px 1px 3px 1px rgba(0, 0, 0, 0.15);\n",
              "      filter: drop-shadow(0px 1px 2px rgba(0, 0, 0, 0.3));\n",
              "      fill: #FFFFFF;\n",
              "    }\n",
              "  </style>\n",
              "\n",
              "      <script>\n",
              "        const buttonEl =\n",
              "          document.querySelector('#df-878d297f-efab-4372-8528-599a00938044 button.colab-df-convert');\n",
              "        buttonEl.style.display =\n",
              "          google.colab.kernel.accessAllowed ? 'block' : 'none';\n",
              "\n",
              "        async function convertToInteractive(key) {\n",
              "          const element = document.querySelector('#df-878d297f-efab-4372-8528-599a00938044');\n",
              "          const dataTable =\n",
              "            await google.colab.kernel.invokeFunction('convertToInteractive',\n",
              "                                                     [key], {});\n",
              "          if (!dataTable) return;\n",
              "\n",
              "          const docLinkHtml = 'Like what you see? Visit the ' +\n",
              "            '<a target=\"_blank\" href=https://colab.research.google.com/notebooks/data_table.ipynb>data table notebook</a>'\n",
              "            + ' to learn more about interactive tables.';\n",
              "          element.innerHTML = '';\n",
              "          dataTable['output_type'] = 'display_data';\n",
              "          await google.colab.output.renderOutput(dataTable, element);\n",
              "          const docLink = document.createElement('div');\n",
              "          docLink.innerHTML = docLinkHtml;\n",
              "          element.appendChild(docLink);\n",
              "        }\n",
              "      </script>\n",
              "    </div>\n",
              "  </div>\n",
              "  "
            ],
            "text/plain": [
              "       h1n1_concern  h1n1_knowledge  ...  hhs_region          state\n",
              "0               0.0             1.0  ...           7         KANSAS\n",
              "1               3.0             0.0  ...           6      LOUISIANA\n",
              "2               1.0             1.0  ...           1  NEW HAMPSHIRE\n",
              "3               2.0             2.0  ...           9     CALIFORNIA\n",
              "4               2.0             1.0  ...           1  NEW HAMPSHIRE\n",
              "...             ...             ...  ...         ...            ...\n",
              "28099           0.0             1.0  ...           7       MISSOURI\n",
              "28100           3.0             2.0  ...           4    MISSISSIPPI\n",
              "28101           1.0             1.0  ...           9     CALIFORNIA\n",
              "28102           2.0             1.0  ...           7       NEBRASKA\n",
              "28103           2.0             1.0  ...           4    MISSISSIPPI\n",
              "\n",
              "[28104 rows x 37 columns]"
            ]
          },
          "metadata": {},
          "execution_count": 24
        }
      ]
    },
    {
      "cell_type": "code",
      "source": [
        "# state - DecisionTree에서는 삭제하였으나, 이번에는 살려서 사용해본다.\n",
        "\n",
        "# 시각화로 현황 파악#\n",
        "df_state = pd.DataFrame(X_train[\"state\"].value_counts())\n",
        "\n",
        "sns.set_theme(style=\"whitegrid\")\n",
        "plt.subplots(figsize=(30,10))\n",
        "plt.xticks(rotation = 45, fontweight='light', fontsize='small' )\n",
        "ax = sns.barplot(x=df_state.index, y=\"state\", data=df_state)\n",
        "\n",
        "plt.show()"
      ],
      "metadata": {
        "id": "27onah6hYZfW",
        "outputId": "e1c4e181-bfbd-48da-9321-4ba4ef621480",
        "colab": {
          "base_uri": "https://localhost:8080/",
          "height": 672
        }
      },
      "execution_count": 25,
      "outputs": [
        {
          "output_type": "display_data",
          "data": {
            "image/png": "[encoded data removed]",
            "text/plain": [
              "<Figure size 2160x720 with 1 Axes>"
            ]
          },
          "metadata": {}
        }
      ]
    },
    {
      "cell_type": "markdown",
      "source": [
        "#### 2. 거주 구성원 - 어른 & 아이 확인"
      ],
      "metadata": {
        "id": "nFMn4XYiYh6v"
      }
    },
    {
      "cell_type": "code",
      "source": [
        "X_train[[\"n_adult_r\", \"household_children\", \"n_people_r\"]]"
      ],
      "metadata": {
        "id": "nIil1AYkYlKF",
        "outputId": "279f3a17-76b9-48dd-d62e-0957a02db147",
        "colab": {
          "base_uri": "https://localhost:8080/",
          "height": 423
        }
      },
      "execution_count": 26,
      "outputs": [
        {
          "output_type": "execute_result",
          "data": {
            "text/html": [
              "\n",
              "  <div id=\"df-a1772ac5-d630-4d1f-a512-1799312d0cce\">\n",
              "    <div class=\"colab-df-container\">\n",
              "      <div>\n",
              "<style scoped>\n",
              "    .dataframe tbody tr th:only-of-type {\n",
              "        vertical-align: middle;\n",
              "    }\n",
              "\n",
              "    .dataframe tbody tr th {\n",
              "        vertical-align: top;\n",
              "    }\n",
              "\n",
              "    .dataframe thead th {\n",
              "        text-align: right;\n",
              "    }\n",
              "</style>\n",
              "<table border=\"1\" class=\"dataframe\">\n",
              "  <thead>\n",
              "    <tr style=\"text-align: right;\">\n",
              "      <th></th>\n",
              "      <th>n_adult_r</th>\n",
              "      <th>household_children</th>\n",
              "      <th>n_people_r</th>\n",
              "    </tr>\n",
              "  </thead>\n",
              "  <tbody>\n",
              "    <tr>\n",
              "      <th>0</th>\n",
              "      <td>2.0</td>\n",
              "      <td>3.0</td>\n",
              "      <td>5.0</td>\n",
              "    </tr>\n",
              "    <tr>\n",
              "      <th>1</th>\n",
              "      <td>1.0</td>\n",
              "      <td>0.0</td>\n",
              "      <td>1.0</td>\n",
              "    </tr>\n",
              "    <tr>\n",
              "      <th>2</th>\n",
              "      <td>1.0</td>\n",
              "      <td>2.0</td>\n",
              "      <td>3.0</td>\n",
              "    </tr>\n",
              "    <tr>\n",
              "      <th>3</th>\n",
              "      <td>2.0</td>\n",
              "      <td>2.0</td>\n",
              "      <td>4.0</td>\n",
              "    </tr>\n",
              "    <tr>\n",
              "      <th>4</th>\n",
              "      <td>3.0</td>\n",
              "      <td>0.0</td>\n",
              "      <td>3.0</td>\n",
              "    </tr>\n",
              "    <tr>\n",
              "      <th>...</th>\n",
              "      <td>...</td>\n",
              "      <td>...</td>\n",
              "      <td>...</td>\n",
              "    </tr>\n",
              "    <tr>\n",
              "      <th>42149</th>\n",
              "      <td>2.0</td>\n",
              "      <td>1.0</td>\n",
              "      <td>3.0</td>\n",
              "    </tr>\n",
              "    <tr>\n",
              "      <th>42150</th>\n",
              "      <td>2.0</td>\n",
              "      <td>0.0</td>\n",
              "      <td>2.0</td>\n",
              "    </tr>\n",
              "    <tr>\n",
              "      <th>42151</th>\n",
              "      <td>2.0</td>\n",
              "      <td>3.0</td>\n",
              "      <td>5.0</td>\n",
              "    </tr>\n",
              "    <tr>\n",
              "      <th>42152</th>\n",
              "      <td>2.0</td>\n",
              "      <td>0.0</td>\n",
              "      <td>2.0</td>\n",
              "    </tr>\n",
              "    <tr>\n",
              "      <th>42153</th>\n",
              "      <td>2.0</td>\n",
              "      <td>1.0</td>\n",
              "      <td>3.0</td>\n",
              "    </tr>\n",
              "  </tbody>\n",
              "</table>\n",
              "<p>42154 rows × 3 columns</p>\n",
              "</div>\n",
              "      <button class=\"colab-df-convert\" onclick=\"convertToInteractive('df-a1772ac5-d630-4d1f-a512-1799312d0cce')\"\n",
              "              title=\"Convert this dataframe to an interactive table.\"\n",
              "              style=\"display:none;\">\n",
              "        \n",
              "  <svg xmlns=\"http://www.w3.org/2000/svg\" height=\"24px\"viewBox=\"0 0 24 24\"\n",
              "       width=\"24px\">\n",
              "    <path d=\"M0 0h24v24H0V0z\" fill=\"none\"/>\n",
              "    <path d=\"M18.56 5.44l.94 2.06.94-2.06 2.06-.94-2.06-.94-.94-2.06-.94 2.06-2.06.94zm-11 1L8.5 8.5l.94-2.06 2.06-.94-2.06-.94L8.5 2.5l-.94 2.06-2.06.94zm10 10l.94 2.06.94-2.06 2.06-.94-2.06-.94-.94-2.06-.94 2.06-2.06.94z\"/><path d=\"M17.41 7.96l-1.37-1.37c-.4-.4-.92-.59-1.43-.59-.52 0-1.04.2-1.43.59L10.3 9.45l-7.72 7.72c-.78.78-.78 2.05 0 2.83L4 21.41c.39.39.9.59 1.41.59.51 0 1.02-.2 1.41-.59l7.78-7.78 2.81-2.81c.8-.78.8-2.07 0-2.86zM5.41 20L4 18.59l7.72-7.72 1.47 1.35L5.41 20z\"/>\n",
              "  </svg>\n",
              "      </button>\n",
              "      \n",
              "  <style>\n",
              "    .colab-df-container {\n",
              "      display:flex;\n",
              "      flex-wrap:wrap;\n",
              "      gap: 12px;\n",
              "    }\n",
              "\n",
              "    .colab-df-convert {\n",
              "      background-color: #E8F0FE;\n",
              "      border: none;\n",
              "      border-radius: 50%;\n",
              "      cursor: pointer;\n",
              "      display: none;\n",
              "      fill: #1967D2;\n",
              "      height: 32px;\n",
              "      padding: 0 0 0 0;\n",
              "      width: 32px;\n",
              "    }\n",
              "\n",
              "    .colab-df-convert:hover {\n",
              "      background-color: #E2EBFA;\n",
              "      box-shadow: 0px 1px 2px rgba(60, 64, 67, 0.3), 0px 1px 3px 1px rgba(60, 64, 67, 0.15);\n",
              "      fill: #174EA6;\n",
              "    }\n",
              "\n",
              "    [theme=dark] .colab-df-convert {\n",
              "      background-color: #3B4455;\n",
              "      fill: #D2E3FC;\n",
              "    }\n",
              "\n",
              "    [theme=dark] .colab-df-convert:hover {\n",
              "      background-color: #434B5C;\n",
              "      box-shadow: 0px 1px 3px 1px rgba(0, 0, 0, 0.15);\n",
              "      filter: drop-shadow(0px 1px 2px rgba(0, 0, 0, 0.3));\n",
              "      fill: #FFFFFF;\n",
              "    }\n",
              "  </style>\n",
              "\n",
              "      <script>\n",
              "        const buttonEl =\n",
              "          document.querySelector('#df-a1772ac5-d630-4d1f-a512-1799312d0cce button.colab-df-convert');\n",
              "        buttonEl.style.display =\n",
              "          google.colab.kernel.accessAllowed ? 'block' : 'none';\n",
              "\n",
              "        async function convertToInteractive(key) {\n",
              "          const element = document.querySelector('#df-a1772ac5-d630-4d1f-a512-1799312d0cce');\n",
              "          const dataTable =\n",
              "            await google.colab.kernel.invokeFunction('convertToInteractive',\n",
              "                                                     [key], {});\n",
              "          if (!dataTable) return;\n",
              "\n",
              "          const docLinkHtml = 'Like what you see? Visit the ' +\n",
              "            '<a target=\"_blank\" href=https://colab.research.google.com/notebooks/data_table.ipynb>data table notebook</a>'\n",
              "            + ' to learn more about interactive tables.';\n",
              "          element.innerHTML = '';\n",
              "          dataTable['output_type'] = 'display_data';\n",
              "          await google.colab.output.renderOutput(dataTable, element);\n",
              "          const docLink = document.createElement('div');\n",
              "          docLink.innerHTML = docLinkHtml;\n",
              "          element.appendChild(docLink);\n",
              "        }\n",
              "      </script>\n",
              "    </div>\n",
              "  </div>\n",
              "  "
            ],
            "text/plain": [
              "       n_adult_r  household_children  n_people_r\n",
              "0            2.0                 3.0         5.0\n",
              "1            1.0                 0.0         1.0\n",
              "2            1.0                 2.0         3.0\n",
              "3            2.0                 2.0         4.0\n",
              "4            3.0                 0.0         3.0\n",
              "...          ...                 ...         ...\n",
              "42149        2.0                 1.0         3.0\n",
              "42150        2.0                 0.0         2.0\n",
              "42151        2.0                 3.0         5.0\n",
              "42152        2.0                 0.0         2.0\n",
              "42153        2.0                 1.0         3.0\n",
              "\n",
              "[42154 rows x 3 columns]"
            ]
          },
          "metadata": {},
          "execution_count": 26
        }
      ]
    },
    {
      "cell_type": "code",
      "metadata": {
        "id": "luTf7FCN3HO7"
      },
      "source": [
        "# from pandas_profiling import ProfileReport\n",
        "\n",
        "# ProfileReport(train)"
      ],
      "execution_count": 27,
      "outputs": []
    },
    {
      "cell_type": "code",
      "metadata": {
        "id": "8Xfz82PQ9Z0J",
        "outputId": "b07abc7c-96ce-4d52-bcff-61c8b193699d",
        "colab": {
          "base_uri": "https://localhost:8080/"
        }
      },
      "source": [
        "train[\"opinion_h1n1_risk\"].unique()"
      ],
      "execution_count": 28,
      "outputs": [
        {
          "output_type": "execute_result",
          "data": {
            "text/plain": [
              "array([nan, 'Very Low', 'Somewhat Low', 'Refused', 'Somewhat High',\n",
              "       'Dont Know', 'Very High'], dtype=object)"
            ]
          },
          "metadata": {},
          "execution_count": 28
        }
      ]
    },
    {
      "cell_type": "code",
      "source": [
        "# 정보 확인\n",
        "# 어른 인원 + 어린이 인원 = 총 인원.\n",
        "# 어린이 인원의 비율 컬럼을 만들어보자.\n",
        "X_train[[\"n_adult_r\", \"household_children\", \"n_people_r\"]].describe()"
      ],
      "metadata": {
        "id": "O4phCRA3YqRL",
        "outputId": "52952e74-6e1c-4475-a3f2-8222c4da965e",
        "colab": {
          "base_uri": "https://localhost:8080/",
          "height": 300
        }
      },
      "execution_count": 29,
      "outputs": [
        {
          "output_type": "execute_result",
          "data": {
            "text/html": [
              "\n",
              "  <div id=\"df-c343d95b-c2b1-4e9b-99aa-450963bcb6bb\">\n",
              "    <div class=\"colab-df-container\">\n",
              "      <div>\n",
              "<style scoped>\n",
              "    .dataframe tbody tr th:only-of-type {\n",
              "        vertical-align: middle;\n",
              "    }\n",
              "\n",
              "    .dataframe tbody tr th {\n",
              "        vertical-align: top;\n",
              "    }\n",
              "\n",
              "    .dataframe thead th {\n",
              "        text-align: right;\n",
              "    }\n",
              "</style>\n",
              "<table border=\"1\" class=\"dataframe\">\n",
              "  <thead>\n",
              "    <tr style=\"text-align: right;\">\n",
              "      <th></th>\n",
              "      <th>n_adult_r</th>\n",
              "      <th>household_children</th>\n",
              "      <th>n_people_r</th>\n",
              "    </tr>\n",
              "  </thead>\n",
              "  <tbody>\n",
              "    <tr>\n",
              "      <th>count</th>\n",
              "      <td>41845.000000</td>\n",
              "      <td>41845.000000</td>\n",
              "      <td>42020.000000</td>\n",
              "    </tr>\n",
              "    <tr>\n",
              "      <th>mean</th>\n",
              "      <td>1.937460</td>\n",
              "      <td>0.797156</td>\n",
              "      <td>2.738505</td>\n",
              "    </tr>\n",
              "    <tr>\n",
              "      <th>std</th>\n",
              "      <td>0.745174</td>\n",
              "      <td>1.039354</td>\n",
              "      <td>1.393333</td>\n",
              "    </tr>\n",
              "    <tr>\n",
              "      <th>min</th>\n",
              "      <td>1.000000</td>\n",
              "      <td>0.000000</td>\n",
              "      <td>1.000000</td>\n",
              "    </tr>\n",
              "    <tr>\n",
              "      <th>25%</th>\n",
              "      <td>1.000000</td>\n",
              "      <td>0.000000</td>\n",
              "      <td>2.000000</td>\n",
              "    </tr>\n",
              "    <tr>\n",
              "      <th>50%</th>\n",
              "      <td>2.000000</td>\n",
              "      <td>0.000000</td>\n",
              "      <td>2.000000</td>\n",
              "    </tr>\n",
              "    <tr>\n",
              "      <th>75%</th>\n",
              "      <td>2.000000</td>\n",
              "      <td>2.000000</td>\n",
              "      <td>4.000000</td>\n",
              "    </tr>\n",
              "    <tr>\n",
              "      <th>max</th>\n",
              "      <td>4.000000</td>\n",
              "      <td>3.000000</td>\n",
              "      <td>7.000000</td>\n",
              "    </tr>\n",
              "  </tbody>\n",
              "</table>\n",
              "</div>\n",
              "      <button class=\"colab-df-convert\" onclick=\"convertToInteractive('df-c343d95b-c2b1-4e9b-99aa-450963bcb6bb')\"\n",
              "              title=\"Convert this dataframe to an interactive table.\"\n",
              "              style=\"display:none;\">\n",
              "        \n",
              "  <svg xmlns=\"http://www.w3.org/2000/svg\" height=\"24px\"viewBox=\"0 0 24 24\"\n",
              "       width=\"24px\">\n",
              "    <path d=\"M0 0h24v24H0V0z\" fill=\"none\"/>\n",
              "    <path d=\"M18.56 5.44l.94 2.06.94-2.06 2.06-.94-2.06-.94-.94-2.06-.94 2.06-2.06.94zm-11 1L8.5 8.5l.94-2.06 2.06-.94-2.06-.94L8.5 2.5l-.94 2.06-2.06.94zm10 10l.94 2.06.94-2.06 2.06-.94-2.06-.94-.94-2.06-.94 2.06-2.06.94z\"/><path d=\"M17.41 7.96l-1.37-1.37c-.4-.4-.92-.59-1.43-.59-.52 0-1.04.2-1.43.59L10.3 9.45l-7.72 7.72c-.78.78-.78 2.05 0 2.83L4 21.41c.39.39.9.59 1.41.59.51 0 1.02-.2 1.41-.59l7.78-7.78 2.81-2.81c.8-.78.8-2.07 0-2.86zM5.41 20L4 18.59l7.72-7.72 1.47 1.35L5.41 20z\"/>\n",
              "  </svg>\n",
              "      </button>\n",
              "      \n",
              "  <style>\n",
              "    .colab-df-container {\n",
              "      display:flex;\n",
              "      flex-wrap:wrap;\n",
              "      gap: 12px;\n",
              "    }\n",
              "\n",
              "    .colab-df-convert {\n",
              "      background-color: #E8F0FE;\n",
              "      border: none;\n",
              "      border-radius: 50%;\n",
              "      cursor: pointer;\n",
              "      display: none;\n",
              "      fill: #1967D2;\n",
              "      height: 32px;\n",
              "      padding: 0 0 0 0;\n",
              "      width: 32px;\n",
              "    }\n",
              "\n",
              "    .colab-df-convert:hover {\n",
              "      background-color: #E2EBFA;\n",
              "      box-shadow: 0px 1px 2px rgba(60, 64, 67, 0.3), 0px 1px 3px 1px rgba(60, 64, 67, 0.15);\n",
              "      fill: #174EA6;\n",
              "    }\n",
              "\n",
              "    [theme=dark] .colab-df-convert {\n",
              "      background-color: #3B4455;\n",
              "      fill: #D2E3FC;\n",
              "    }\n",
              "\n",
              "    [theme=dark] .colab-df-convert:hover {\n",
              "      background-color: #434B5C;\n",
              "      box-shadow: 0px 1px 3px 1px rgba(0, 0, 0, 0.15);\n",
              "      filter: drop-shadow(0px 1px 2px rgba(0, 0, 0, 0.3));\n",
              "      fill: #FFFFFF;\n",
              "    }\n",
              "  </style>\n",
              "\n",
              "      <script>\n",
              "        const buttonEl =\n",
              "          document.querySelector('#df-c343d95b-c2b1-4e9b-99aa-450963bcb6bb button.colab-df-convert');\n",
              "        buttonEl.style.display =\n",
              "          google.colab.kernel.accessAllowed ? 'block' : 'none';\n",
              "\n",
              "        async function convertToInteractive(key) {\n",
              "          const element = document.querySelector('#df-c343d95b-c2b1-4e9b-99aa-450963bcb6bb');\n",
              "          const dataTable =\n",
              "            await google.colab.kernel.invokeFunction('convertToInteractive',\n",
              "                                                     [key], {});\n",
              "          if (!dataTable) return;\n",
              "\n",
              "          const docLinkHtml = 'Like what you see? Visit the ' +\n",
              "            '<a target=\"_blank\" href=https://colab.research.google.com/notebooks/data_table.ipynb>data table notebook</a>'\n",
              "            + ' to learn more about interactive tables.';\n",
              "          element.innerHTML = '';\n",
              "          dataTable['output_type'] = 'display_data';\n",
              "          await google.colab.output.renderOutput(dataTable, element);\n",
              "          const docLink = document.createElement('div');\n",
              "          docLink.innerHTML = docLinkHtml;\n",
              "          element.appendChild(docLink);\n",
              "        }\n",
              "      </script>\n",
              "    </div>\n",
              "  </div>\n",
              "  "
            ],
            "text/plain": [
              "          n_adult_r  household_children    n_people_r\n",
              "count  41845.000000        41845.000000  42020.000000\n",
              "mean       1.937460            0.797156      2.738505\n",
              "std        0.745174            1.039354      1.393333\n",
              "min        1.000000            0.000000      1.000000\n",
              "25%        1.000000            0.000000      2.000000\n",
              "50%        2.000000            0.000000      2.000000\n",
              "75%        2.000000            2.000000      4.000000\n",
              "max        4.000000            3.000000      7.000000"
            ]
          },
          "metadata": {},
          "execution_count": 29
        }
      ]
    },
    {
      "cell_type": "code",
      "source": [
        "# 어린이 인원 수 / 전체 인원수 * 100\n",
        "X_train[\"proportion_child\"] = round((X_train[\"household_children\"]/X_train[\"n_people_r\"])*100, 0)\n",
        "\n",
        "# 확인\n",
        "X_train[\"proportion_child\"].head(10)"
      ],
      "metadata": {
        "id": "s4xhGvloYr0H",
        "outputId": "e8af0c95-5920-4b0e-86f9-5ff98935a588",
        "colab": {
          "base_uri": "https://localhost:8080/"
        }
      },
      "execution_count": 30,
      "outputs": [
        {
          "output_type": "execute_result",
          "data": {
            "text/plain": [
              "0    60.0\n",
              "1     0.0\n",
              "2    67.0\n",
              "3    50.0\n",
              "4     0.0\n",
              "5    33.0\n",
              "6    25.0\n",
              "7     0.0\n",
              "8    50.0\n",
              "9    60.0\n",
              "Name: proportion_child, dtype: float64"
            ]
          },
          "metadata": {},
          "execution_count": 30
        }
      ]
    },
    {
      "cell_type": "code",
      "source": [
        "# test에서도 잊지 않고 해 준다.\n",
        "X_test[\"proportion_child\"] = round((test[\"household_children\"]/test[\"n_people_r\"])*100, 0)\n",
        "\n",
        "# 확인\n",
        "X_test[\"proportion_child\"].head(10)"
      ],
      "metadata": {
        "id": "PrRv2lmmYtZp",
        "outputId": "3775bc85-3250-4b4e-d1a1-90e725423bb0",
        "colab": {
          "base_uri": "https://localhost:8080/"
        }
      },
      "execution_count": 31,
      "outputs": [
        {
          "output_type": "execute_result",
          "data": {
            "text/plain": [
              "0     0.0\n",
              "1     0.0\n",
              "2     0.0\n",
              "3     0.0\n",
              "4     0.0\n",
              "5    50.0\n",
              "6     0.0\n",
              "7    50.0\n",
              "8     0.0\n",
              "9     0.0\n",
              "Name: proportion_child, dtype: float64"
            ]
          },
          "metadata": {},
          "execution_count": 31
        }
      ]
    },
    {
      "cell_type": "markdown",
      "source": [
        "### 데이터셋 나누기 - 모델 성능 유추를 위해서"
      ],
      "metadata": {
        "id": "2ALj-DP1YviS"
      }
    },
    {
      "cell_type": "code",
      "source": [
        "from sklearn.model_selection import train_test_split\n",
        "# 모델 성능 유추를 위한 검증 데이터셋 나누기\n",
        "X_train, X_val, y_train, y_val = train_test_split(X_train, y_train, test_size=0.2, random_state = 0)\n",
        "X_train.shape, y_train.shape, X_val.shape, y_val.shape, X_test.shape"
      ],
      "metadata": {
        "id": "QIhA3gS8Y0Hi",
        "outputId": "e9402245-9f8c-4dd5-844f-2cd593368317",
        "colab": {
          "base_uri": "https://localhost:8080/"
        }
      },
      "execution_count": 32,
      "outputs": [
        {
          "output_type": "execute_result",
          "data": {
            "text/plain": [
              "((33723, 38), (33723,), (8431, 38), (8431,), (28104, 38))"
            ]
          },
          "metadata": {},
          "execution_count": 32
        }
      ]
    },
    {
      "cell_type": "markdown",
      "source": [
        ""
      ],
      "metadata": {
        "id": "PLAnfeW7Y7GR"
      }
    },
    {
      "cell_type": "markdown",
      "metadata": {
        "id": "rLFYOHaqLJiU"
      },
      "source": [
        "### 2) 랜덤포레스트 모델을 적용한 후의 결과를 캐글에 제출하세요.\n",
        "- 랜덤포레스트를 적용하고 성능이 오히려 떨어졌을 수도 있습니다! 만약 그렇다면 이유를 본인 논리로 분석해 보세요.\n",
        "- **캐글 Leaderboard의 본인 Score를 제출하세요.**"
      ]
    },
    {
      "cell_type": "code",
      "source": [
        "# 특성별로 인코더를 따로 정해 주고 싶었기 때문에, 특성 이름을 모아 리스트로 설정\n",
        "\n",
        "# onehot 할 특성\n",
        "onehot = ['sex_i','agegrp','raceeth4_i','marital','rent_own_r','employment_status',\n",
        "          'census_region','hhs_region', 'state','employment_industry','employment_occupation','education_comp']\n",
        "\n",
        "# ordinal 할 특성\n",
        "ordinal = ['opinion_h1n1_vacc_effective','opinion_h1n1_risk','opinion_h1n1_sick_from_vacc',\n",
        "           'opinion_seas_vacc_effective','opinion_seas_risk','opinion_seas_sick_from_vacc']"
      ],
      "metadata": {
        "id": "YXnvkkjuZQzb"
      },
      "execution_count": 33,
      "outputs": []
    },
    {
      "cell_type": "code",
      "metadata": {
        "id": "s0Lp1XUBKhPc"
      },
      "source": [
        "# from sklearn.metrics import accuracy_score\n",
        "\n",
        "# major = y_train.mode()[0]\n",
        "# basic_model = [major] * len(y_train)\n",
        "# print(\"기준모델과 훈련용 데이터 학습 정확도 :\", accuracy_score(y_train, basic_model))"
      ],
      "execution_count": 34,
      "outputs": []
    },
    {
      "cell_type": "code",
      "metadata": {
        "id": "29iKbNAOKlv4"
      },
      "source": [
        "# y_pred_val = [major] * len(y_val)\n",
        "\n",
        "# print(\"기준모델과 검증용 데이터 학습 정확도 :\", accuracy_score(y_val, y_pred_val))"
      ],
      "execution_count": 35,
      "outputs": []
    },
    {
      "cell_type": "code",
      "metadata": {
        "colab": {
          "base_uri": "https://localhost:8080/"
        },
        "id": "hc_PQSnrLJiU",
        "outputId": "6f6dfba6-972b-4b2e-f04e-71200744eae0"
      },
      "source": [
        "# %%time\n",
        "from sklearn.pipeline import make_pipeline\n",
        "from category_encoders import OrdinalEncoder, OneHotEncoder\n",
        "from sklearn.impute import SimpleImputer\n",
        "from sklearn.ensemble import RandomForestClassifier\n",
        "\n",
        "# ordinal encoding\n",
        "pipe_onehot = make_pipeline(\n",
        "    OneHotEncoder(), \n",
        "    SimpleImputer(), \n",
        "    RandomForestClassifier(random_state=10, n_jobs=-1, oob_score=True)\n",
        ")\n",
        "\n",
        "pipe_onehot.fit(X_train, y_train)\n",
        "print('훈련 정확도: ', pipe_onehot.score(X_train, y_train))\n",
        "print('검증 정확도', pipe_onehot.score(X_val, y_val))\n",
        "\n",
        "from sklearn.metrics import f1_score\n",
        "# 검증세트로 평가\n",
        "y_pred_val = pipe_onehot.predict(X_val)\n",
        "print('검증 f1 score: ', f1_score(y_val, y_pred_val))"
      ],
      "execution_count": 36,
      "outputs": [
        {
          "output_type": "stream",
          "name": "stderr",
          "text": [
            "/usr/local/lib/python3.7/dist-packages/statsmodels/tools/_testing.py:19: FutureWarning: pandas.util.testing is deprecated. Use the functions in the public API at pandas.testing instead.\n",
            "  import pandas.util.testing as tm\n"
          ]
        },
        {
          "output_type": "stream",
          "name": "stdout",
          "text": [
            "훈련 정확도:  0.9949589301070486\n",
            "검증 정확도 0.8246945795279327\n",
            "검증 f1 score:  0.5482885085574573\n"
          ]
        }
      ]
    },
    {
      "cell_type": "code",
      "metadata": {
        "colab": {
          "base_uri": "https://localhost:8080/"
        },
        "id": "5BfszXdyKqM4",
        "outputId": "d36e9aff-271a-46e0-8433-5138b1f19123"
      },
      "source": [
        "pipe_onehot.named_steps['randomforestclassifier'].oob_score_"
      ],
      "execution_count": 37,
      "outputs": [
        {
          "output_type": "execute_result",
          "data": {
            "text/plain": [
              "0.8217240459033894"
            ]
          },
          "metadata": {},
          "execution_count": 37
        }
      ]
    },
    {
      "cell_type": "code",
      "source": [
        "# 2. 모든 특성을 일괄적으로 OrdinalEncoding\n",
        "pipe_ord = make_pipeline(\n",
        "    OrdinalEncoder(), \n",
        "    SimpleImputer(), \n",
        "    RandomForestClassifier(n_jobs=-1, random_state=10, oob_score=True)\n",
        ")\n",
        "\n",
        "pipe_ord.fit(X_train, y_train)\n",
        "print('훈련 정확도: ', pipe_ord.score(X_train, y_train))\n",
        "print('검증 정확도', pipe_ord.score(X_val, y_val))\n",
        "\n",
        "from sklearn.metrics import f1_score\n",
        "# 검증세트로 평가\n",
        "y_pred_val = pipe_ord.predict(X_val)\n",
        "print('검증 f1 score: ', f1_score(y_val, y_pred_val))"
      ],
      "metadata": {
        "id": "yNLHkoFkZvo7",
        "outputId": "17053304-2791-4aea-c0dc-bf90d3709d78",
        "colab": {
          "base_uri": "https://localhost:8080/"
        }
      },
      "execution_count": 38,
      "outputs": [
        {
          "output_type": "stream",
          "name": "stdout",
          "text": [
            "훈련 정확도:  0.9949589301070486\n",
            "검증 정확도 0.8249317993120626\n",
            "검증 f1 score:  0.5599284436493739\n"
          ]
        }
      ]
    },
    {
      "cell_type": "code",
      "source": [
        "pipe_ord.named_steps['randomforestclassifier'].oob_score_"
      ],
      "metadata": {
        "id": "1yXDnk8HaKIe",
        "outputId": "a5413d14-6498-4124-a357-4ba583ab2dc2",
        "colab": {
          "base_uri": "https://localhost:8080/"
        }
      },
      "execution_count": 39,
      "outputs": [
        {
          "output_type": "execute_result",
          "data": {
            "text/plain": [
              "0.8219019660172583"
            ]
          },
          "metadata": {},
          "execution_count": 39
        }
      ]
    },
    {
      "cell_type": "code",
      "source": [
        "# 3. 모든 특성을 일괄적으로 OrdinalEncoding > SimpleImputer > RandomForestClassifier parameter 추가 설정\n",
        "pipe_ord_para = make_pipeline(\n",
        "    OrdinalEncoder(), \n",
        "    SimpleImputer(), \n",
        "    RandomForestClassifier(n_jobs=-1, random_state=10, oob_score=True, n_estimators = 200, min_samples_split = 12)\n",
        ")\n",
        "\n",
        "pipe_ord_para.fit(X_train, y_train)\n",
        "print('검증 정확도: ', pipe_ord_para.score(X_val, y_val))\n",
        "\n",
        "y_pred3 = pipe_ord_para.predict(X_val)\n",
        "print('검증 f1: ', f1_score(y_val, y_pred3))"
      ],
      "metadata": {
        "id": "GUwrG3HfaR2s",
        "outputId": "a5376476-8aca-4a7b-8f37-aba8b7da65ea",
        "colab": {
          "base_uri": "https://localhost:8080/"
        }
      },
      "execution_count": 40,
      "outputs": [
        {
          "output_type": "stream",
          "name": "stdout",
          "text": [
            "검증 정확도:  0.8308622939153125\n",
            "검증 f1:  0.5689238210399032\n"
          ]
        }
      ]
    },
    {
      "cell_type": "code",
      "source": [
        "pipe_ord_para.named_steps['randomforestclassifier'].oob_score_"
      ],
      "metadata": {
        "id": "50RaGOwXaddS",
        "outputId": "73a5b492-b556-4d34-cf7d-92eb138a3e10",
        "colab": {
          "base_uri": "https://localhost:8080/"
        }
      },
      "execution_count": 41,
      "outputs": [
        {
          "output_type": "execute_result",
          "data": {
            "text/plain": [
              "0.8275361029564392"
            ]
          },
          "metadata": {},
          "execution_count": 41
        }
      ]
    },
    {
      "cell_type": "code",
      "source": [
        "# 4. 일부 특성 OneHot > 일부 특성 Ordinal > SimpleImputer > RandomForestClassifier\n",
        "pipe4 = make_pipeline(\n",
        "    OneHotEncoder(use_cat_names=True, cols=onehot), \n",
        "    OrdinalEncoder(cols=ordinal),\n",
        "    SimpleImputer(), \n",
        "    RandomForestClassifier(n_jobs=-1, random_state=10, oob_score=True)\n",
        ")\n",
        "\n",
        "pipe4.fit(X_train, y_train)\n",
        "print('검증 정확도: ', pipe4.score(X_val, y_val))\n",
        "\n",
        "y_pred4 = pipe4.predict(X_val)\n",
        "print('검증 f1: ', f1_score(y_val, y_pred4))"
      ],
      "metadata": {
        "id": "ByY52onLaiJD",
        "outputId": "c2e757b1-2cbb-45b4-f043-0641a239bcb3",
        "colab": {
          "base_uri": "https://localhost:8080/"
        }
      },
      "execution_count": 42,
      "outputs": [
        {
          "output_type": "stream",
          "name": "stdout",
          "text": [
            "검증 정확도:  0.8155616178389278\n",
            "검증 f1:  0.5139105970615818\n"
          ]
        }
      ]
    },
    {
      "cell_type": "code",
      "source": [
        "# 5. 일부 특성 OneHot > 일부 특성 Ordinal > SimpleImputer > RandomForestClassifier parameter 추가 설정\n",
        "pipe4 = make_pipeline(\n",
        "    OneHotEncoder(use_cat_names=True, cols=onehot), \n",
        "    OrdinalEncoder(cols=ordinal),\n",
        "    SimpleImputer(), \n",
        "    RandomForestClassifier(n_jobs=-1, random_state=10, oob_score=True, n_estimators = 200, min_samples_split = 12)\n",
        ")\n",
        "\n",
        "pipe4.fit(X_train, y_train)\n",
        "print('검증 정확도: ', pipe4.score(X_val, y_val))\n",
        "\n",
        "y_pred4 = pipe4.predict(X_val)\n",
        "print('검증 f1: ', f1_score(y_val, y_pred4))"
      ],
      "metadata": {
        "id": "B08WrR-kam9u",
        "outputId": "2770f025-7382-4e10-c287-2fb2c556ebd0",
        "colab": {
          "base_uri": "https://localhost:8080/"
        }
      },
      "execution_count": 43,
      "outputs": [
        {
          "output_type": "stream",
          "name": "stdout",
          "text": [
            "검증 정확도:  0.8248131894199976\n",
            "검증 f1:  0.5342163355408388\n"
          ]
        }
      ]
    },
    {
      "cell_type": "code",
      "source": [
        "# 6. 일부 특성 OneHot > 일부 특성 Ordinal > SimpleImputer > RandomForestClassifier parameter 추가 설정\n",
        "pipe4 = make_pipeline(\n",
        "    OneHotEncoder(use_cat_names=True, cols=onehot), \n",
        "    OrdinalEncoder(cols=ordinal),\n",
        "    SimpleImputer(), \n",
        "    RandomForestClassifier(n_jobs=-1, random_state=10, oob_score=True, n_estimators = 150, min_samples_split = 6)\n",
        ")\n",
        "\n",
        "pipe4.fit(X_train, y_train)\n",
        "print('검증 정확도: ', pipe4.score(X_val, y_val))\n",
        "\n",
        "y_pred4 = pipe4.predict(X_val)\n",
        "print('검증 f1: ', f1_score(y_val, y_pred4))"
      ],
      "metadata": {
        "id": "6PlLlnRCapBQ",
        "outputId": "143e598a-1b95-41bd-f963-b9a753e02c10",
        "colab": {
          "base_uri": "https://localhost:8080/"
        }
      },
      "execution_count": 44,
      "outputs": [
        {
          "output_type": "stream",
          "name": "stdout",
          "text": [
            "검증 정확도:  0.8237457003914126\n",
            "검증 f1:  0.5341692789968652\n"
          ]
        }
      ]
    },
    {
      "cell_type": "markdown",
      "source": [
        "### 가장 좋은 결과로 저장"
      ],
      "metadata": {
        "id": "ZYaPEVDF9jOn"
      }
    },
    {
      "cell_type": "code",
      "metadata": {
        "colab": {
          "base_uri": "https://localhost:8080/"
        },
        "id": "a16C3YsQGjYe",
        "outputId": "63d2372f-839c-46eb-dd04-c0a297281ba3"
      },
      "source": [
        "y_pred = pipe_ord_para.predict(X_train)\n",
        "print('predict 전 test 정확도: ', pipe_ord_para.score(X_test, submission['vacc_h1n1_f']))\n",
        "\n",
        "from sklearn.metrics import f1_score\n",
        "\n",
        "print('test f1 score: ', f1_score(y_train, y_pred))"
      ],
      "execution_count": 47,
      "outputs": [
        {
          "output_type": "stream",
          "name": "stdout",
          "text": [
            "predict 전 test 정확도:  0.502134927412468\n",
            "test f1 score:  0.7661466686105846\n"
          ]
        }
      ]
    },
    {
      "cell_type": "code",
      "metadata": {
        "colab": {
          "base_uri": "https://localhost:8080/"
        },
        "id": "kBwKDdarm25C",
        "outputId": "afd7aa8f-4b9a-477d-b9d9-5b0b698d3c06"
      },
      "source": [
        "enc = pipe_ord_para.named_steps['ordinalencoder']\n",
        "encoded = enc.transform(X_train)\n",
        "\n",
        "print('Ordinal  shape: ', encoded.shape)"
      ],
      "execution_count": 48,
      "outputs": [
        {
          "output_type": "stream",
          "name": "stdout",
          "text": [
            "Ordinal  shape:  (33723, 38)\n"
          ]
        }
      ]
    },
    {
      "cell_type": "code",
      "metadata": {
        "id": "YxOWMrwXZ01Q"
      },
      "source": [
        "y_pred = pipe_ord_para.predict(X_test)\n",
        "\n",
        "submission['vacc_h1n1_f'] = y_pred\n",
        "submission.to_csv('n222_zena_choi.csv', index=False)"
      ],
      "execution_count": 49,
      "outputs": []
    },
    {
      "cell_type": "markdown",
      "metadata": {
        "id": "oFUpsFn8LJiV"
      },
      "source": [
        "## 🔥 도전과제"
      ]
    },
    {
      "cell_type": "markdown",
      "metadata": {
        "id": "6GSpeO1WLJiV"
      },
      "source": [
        "### 3) 수업에 사용하지 않은 다른 종류의 [category_encoders](http://contrib.scikit-learn.org/category_encoders/)을 적용해 보고 인코더에 대해 설명하세요\n"
      ]
    },
    {
      "cell_type": "code",
      "metadata": {
        "id": "0yPkoLXRLJiW"
      },
      "source": [
        "### 이곳에서 과제를 진행해 주세요 ###"
      ],
      "execution_count": null,
      "outputs": []
    },
    {
      "cell_type": "markdown",
      "metadata": {
        "id": "KKh1YIBLLJiX"
      },
      "source": [
        "## 참고자료\n",
        "\n",
        "- [Random Forests for Complete Beginners](https://victorzhou.com/blog/intro-to-random-forests/)"
      ]
    }
  ]
}