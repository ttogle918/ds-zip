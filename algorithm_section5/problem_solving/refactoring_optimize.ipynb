{
  "nbformat": 4,
  "nbformat_minor": 0,
  "metadata": {
    "colab": {
      "name": "refactoring_optimalize.ipynb",
      "provenance": [],
      "authorship_tag": "ABX9TyOjIG/rM5WXVQVNC0+U0o0z",
      "include_colab_link": true
    },
    "kernelspec": {
      "name": "python3",
      "display_name": "Python 3"
    },
    "language_info": {
      "name": "python"
    }
  },
  "cells": [
    {
      "cell_type": "markdown",
      "metadata": {
        "id": "view-in-github",
        "colab_type": "text"
      },
      "source": [
        "<a href=\"https://colab.research.google.com/github/ttogle918/ds-sa-problemsolving/blob/main/refactoring_optimize.ipynb\" target=\"_parent\"><img src=\"https://colab.research.google.com/assets/colab-badge.svg\" alt=\"Open In Colab\"/></a>"
      ]
    },
    {
      "cell_type": "markdown",
      "source": [
        "참고 : \n",
        "https://deep-diver.github.io/pocket-ml-reference-korean/chapter3/"
      ],
      "metadata": {
        "id": "wr6N2WpIsUh8"
      }
    },
    {
      "cell_type": "markdown",
      "source": [
        "### 데이터의 수집"
      ],
      "metadata": {
        "id": "wxfaN5yvqeP0"
      }
    },
    {
      "cell_type": "code",
      "execution_count": 1,
      "metadata": {
        "colab": {
          "base_uri": "https://localhost:8080/"
        },
        "id": "FqjyQLhOfTSX",
        "outputId": "c0b5d9e8-9770-4dfc-bc62-23717aac3233"
      },
      "outputs": [
        {
          "output_type": "execute_result",
          "data": {
            "text/plain": [
              "Index(['pclass', 'survived', 'name', 'sex', 'age', 'sibsp', 'parch', 'ticket',\n",
              "       'fare', 'cabin', 'embarked', 'boat', 'body', 'home.dest'],\n",
              "      dtype='object')"
            ]
          },
          "metadata": {},
          "execution_count": 1
        }
      ],
      "source": [
        "import pandas as pd\n",
        "url = \"https://biostat.app.vumc.org/wiki/pub/Main/DataSets/titanic3.xls\"\n",
        "df = pd.read_excel(url)\n",
        "orig_df = df\n",
        "df.columns"
      ]
    },
    {
      "cell_type": "code",
      "source": [
        "mask = df.isnull().any(axis=1)\n",
        "mask.head()"
      ],
      "metadata": {
        "colab": {
          "base_uri": "https://localhost:8080/"
        },
        "id": "tJIMYsskqRUx",
        "outputId": "2f173ac9-1e04-481a-bcb5-6c67d8de6c10"
      },
      "execution_count": 2,
      "outputs": [
        {
          "output_type": "execute_result",
          "data": {
            "text/plain": [
              "0    True\n",
              "1    True\n",
              "2    True\n",
              "3    True\n",
              "4    True\n",
              "dtype: bool"
            ]
          },
          "metadata": {},
          "execution_count": 2
        }
      ]
    },
    {
      "cell_type": "code",
      "source": [
        "df[mask].body.head()"
      ],
      "metadata": {
        "colab": {
          "base_uri": "https://localhost:8080/"
        },
        "id": "aCpL_pJSqTf2",
        "outputId": "72841578-4261-4909-b204-1c788d170c53"
      },
      "execution_count": 3,
      "outputs": [
        {
          "output_type": "execute_result",
          "data": {
            "text/plain": [
              "0      NaN\n",
              "1      NaN\n",
              "2      NaN\n",
              "3    135.0\n",
              "4      NaN\n",
              "Name: body, dtype: float64"
            ]
          },
          "metadata": {},
          "execution_count": 3
        }
      ]
    },
    {
      "cell_type": "code",
      "source": [
        "df.sex.value_counts(dropna=False)"
      ],
      "metadata": {
        "colab": {
          "base_uri": "https://localhost:8080/"
        },
        "id": "vNi2v3RqqUmm",
        "outputId": "0eecfb89-ec36-40d0-d8b7-591aabd431a1"
      },
      "execution_count": 4,
      "outputs": [
        {
          "output_type": "execute_result",
          "data": {
            "text/plain": [
              "male      843\n",
              "female    466\n",
              "Name: sex, dtype: int64"
            ]
          },
          "metadata": {},
          "execution_count": 4
        }
      ]
    },
    {
      "cell_type": "code",
      "source": [
        "df.embarked.value_counts(dropna=False)"
      ],
      "metadata": {
        "colab": {
          "base_uri": "https://localhost:8080/"
        },
        "id": "ffahEHODqV6v",
        "outputId": "449da0c4-72ac-4b00-fda5-882725675c09"
      },
      "execution_count": 5,
      "outputs": [
        {
          "output_type": "execute_result",
          "data": {
            "text/plain": [
              "S      914\n",
              "C      270\n",
              "Q      123\n",
              "NaN      2\n",
              "Name: embarked, dtype: int64"
            ]
          },
          "metadata": {},
          "execution_count": 5
        }
      ]
    },
    {
      "cell_type": "markdown",
      "source": [
        "### 특징 생성"
      ],
      "metadata": {
        "id": "Gk3ODflCqcUj"
      }
    },
    {
      "cell_type": "code",
      "source": [
        "name = df.name\n",
        "name.head(3)"
      ],
      "metadata": {
        "colab": {
          "base_uri": "https://localhost:8080/"
        },
        "id": "vgsvL2N8qXK2",
        "outputId": "dc009902-3261-4a7e-c980-61be53f6fac3"
      },
      "execution_count": 6,
      "outputs": [
        {
          "output_type": "execute_result",
          "data": {
            "text/plain": [
              "0     Allen, Miss. Elisabeth Walton\n",
              "1    Allison, Master. Hudson Trevor\n",
              "2      Allison, Miss. Helen Loraine\n",
              "Name: name, dtype: object"
            ]
          },
          "metadata": {},
          "execution_count": 6
        }
      ]
    },
    {
      "cell_type": "code",
      "source": [
        "df = df.drop(\n",
        "    columns=[\"name\",\n",
        "             \"ticket\",\n",
        "             \"home.dest\",\n",
        "             \"boat\",\n",
        "             \"body\",\n",
        "             \"cabin\"]\n",
        "    )\n",
        "df.columns"
      ],
      "metadata": {
        "colab": {
          "base_uri": "https://localhost:8080/"
        },
        "id": "u2CGUl45qYjG",
        "outputId": "80e90d0d-51a2-4265-9e91-6bd75ccf0371"
      },
      "execution_count": 7,
      "outputs": [
        {
          "output_type": "execute_result",
          "data": {
            "text/plain": [
              "Index(['pclass', 'survived', 'sex', 'age', 'sibsp', 'parch', 'fare',\n",
              "       'embarked'],\n",
              "      dtype='object')"
            ]
          },
          "metadata": {},
          "execution_count": 7
        }
      ]
    },
    {
      "cell_type": "code",
      "source": [
        "y = df.survived\n",
        "X = df.drop(columns=\"survived\")\n",
        "print(X, y)"
      ],
      "metadata": {
        "colab": {
          "base_uri": "https://localhost:8080/"
        },
        "id": "MoQoB97TqZ49",
        "outputId": "1a12c404-a084-4d69-85c5-86d894181f30"
      },
      "execution_count": 8,
      "outputs": [
        {
          "output_type": "stream",
          "name": "stdout",
          "text": [
            "      pclass     sex      age  sibsp  parch      fare embarked\n",
            "0          1  female  29.0000      0      0  211.3375        S\n",
            "1          1    male   0.9167      1      2  151.5500        S\n",
            "2          1  female   2.0000      1      2  151.5500        S\n",
            "3          1    male  30.0000      1      2  151.5500        S\n",
            "4          1  female  25.0000      1      2  151.5500        S\n",
            "...      ...     ...      ...    ...    ...       ...      ...\n",
            "1304       3  female  14.5000      1      0   14.4542        C\n",
            "1305       3  female      NaN      1      0   14.4542        C\n",
            "1306       3    male  26.5000      0      0    7.2250        C\n",
            "1307       3    male  27.0000      0      0    7.2250        C\n",
            "1308       3    male  29.0000      0      0    7.8750        S\n",
            "\n",
            "[1309 rows x 7 columns] 0       1\n",
            "1       1\n",
            "2       0\n",
            "3       0\n",
            "4       0\n",
            "       ..\n",
            "1304    0\n",
            "1305    0\n",
            "1306    0\n",
            "1307    0\n",
            "1308    0\n",
            "Name: survived, Length: 1309, dtype: int64\n"
          ]
        }
      ]
    },
    {
      "cell_type": "markdown",
      "source": [
        "### 샘플 데이터"
      ],
      "metadata": {
        "id": "XcRMw2h2qhiU"
      }
    },
    {
      "cell_type": "code",
      "source": [
        "from sklearn.model_selection import train_test_split\n",
        "X_train, X_test, y_train, y_test = train_test_split(X, y, test_size=0.3, random_state=42)"
      ],
      "metadata": {
        "id": "p4Gjr9tMqbaG"
      },
      "execution_count": 9,
      "outputs": []
    },
    {
      "cell_type": "markdown",
      "source": [
        "### 리팩터링"
      ],
      "metadata": {
        "id": "UwuD21x4qltY"
      }
    },
    {
      "cell_type": "code",
      "source": [
        "from sklearn import preprocessing\n",
        "from sklearn.experimental import enable_iterative_imputer\n",
        "from sklearn.impute import IterativeImputer\n",
        "def tweak_titanic(df):\n",
        "  df = df.drop(\n",
        "    columns=[\n",
        "      \"name\",\n",
        "      \"ticket\",\n",
        "      \"home.dest\",\n",
        "      \"boat\",\n",
        "      \"body\",\n",
        "      \"cabin\",\n",
        "    ]\n",
        "  ).pipe(pd.get_dummies, drop_first=True)\n",
        "  return df\n",
        "\n",
        "def get_train_test_X_y(df, y_col, size=0.3, std_cols=None):\n",
        "  y = df[y_col]\n",
        "  X = df.drop(columns=y_col)\n",
        "  X_train, X_test, y_train, y_test = train_test_split(\n",
        "    X, y, test_size=size, random_state=42\n",
        "  )\n",
        "  cols = X.columns\n",
        "  num_cols = [\n",
        "    \"pclass\",\n",
        "    \"age\",\n",
        "    \"sibsp\",\n",
        "    \"parch\",\n",
        "    \"fare\",\n",
        "  ]\n",
        "\n",
        "  fi = IterativeImputer()\n",
        "\n",
        "  X_train.loc[:, num_cols] = fi.fit_transform(X_train[num_cols])\n",
        "  X_test.loc[:, num_cols] = fi.transform(X_test[num_cols])\n",
        "\n",
        "  if std_cols:\n",
        "    std = preprocessing.StandardScaler()\n",
        "    X_train.loc[:, std_cols] = std.fit_transform(X_train[std_cols])\n",
        "    X_test.loc[:, std_cols] = std.transform(X_test[std_cols])\n",
        "\n",
        "  return X_train, X_test, y_train, y_test  "
      ],
      "metadata": {
        "id": "xAsUu0RAqksf"
      },
      "execution_count": 21,
      "outputs": []
    },
    {
      "cell_type": "code",
      "source": [
        "ti_df = tweak_titanic(orig_df)\n",
        "std_cols = \"pclass,age,sibsp,fare\".split(\",\")\n",
        "\n",
        "X_train, X_test, y_train, y_test = get_train_test_X_y(ti_df, \"survived\", std_cols=std_cols)"
      ],
      "metadata": {
        "id": "xOfyoZ_uqoQ2"
      },
      "execution_count": 22,
      "outputs": []
    },
    {
      "cell_type": "markdown",
      "source": [
        "### 모델 만들기"
      ],
      "metadata": {
        "id": "Aq0paQGMqqq6"
      }
    },
    {
      "cell_type": "code",
      "source": [
        "from sklearn import ensemble\n",
        "\n",
        "rf = ensemble.RandomForestClassifier(n_estimators=100, random_state=42)\n",
        "rf.fit(X_train, y_train)"
      ],
      "metadata": {
        "colab": {
          "base_uri": "https://localhost:8080/"
        },
        "id": "lGKh6V7nqpQN",
        "outputId": "59ddf2b9-897c-4e4b-b685-00ecdd8b4318"
      },
      "execution_count": 23,
      "outputs": [
        {
          "output_type": "execute_result",
          "data": {
            "text/plain": [
              "RandomForestClassifier(random_state=42)"
            ]
          },
          "metadata": {},
          "execution_count": 23
        }
      ]
    },
    {
      "cell_type": "markdown",
      "source": [
        "### 모델의 평가"
      ],
      "metadata": {
        "id": "xpoy80xusG2s"
      }
    },
    {
      "cell_type": "code",
      "source": [
        "rf.score(X_test, y_test)"
      ],
      "metadata": {
        "colab": {
          "base_uri": "https://localhost:8080/"
        },
        "id": "jkoThSoOsFub",
        "outputId": "368cf1c4-a5e6-4f86-c557-9d42a5222e5b"
      },
      "execution_count": 24,
      "outputs": [
        {
          "output_type": "execute_result",
          "data": {
            "text/plain": [
              "0.7837150127226463"
            ]
          },
          "metadata": {},
          "execution_count": 24
        }
      ]
    },
    {
      "cell_type": "code",
      "source": [
        "from sklearn import metrics\n",
        "metrics.precision_score(y_test, rf.predict(X_test))"
      ],
      "metadata": {
        "colab": {
          "base_uri": "https://localhost:8080/"
        },
        "id": "B3oZ1ayisIns",
        "outputId": "92fcd817-fb8c-489c-b9ea-d4a40931c2dc"
      },
      "execution_count": 25,
      "outputs": [
        {
          "output_type": "execute_result",
          "data": {
            "text/plain": [
              "0.7916666666666666"
            ]
          },
          "metadata": {},
          "execution_count": 25
        }
      ]
    },
    {
      "cell_type": "code",
      "source": [
        "for col, val in sorted(zip(X_train.columns, \n",
        "                           rf.feature_importances_), \n",
        "                       key=lambda x: x[1],\n",
        "                       reverse=True)[:5]:\n",
        "  print(f\"{col:10}{val:10.3f}\")"
      ],
      "metadata": {
        "colab": {
          "base_uri": "https://localhost:8080/"
        },
        "id": "KEeADO6ZsJir",
        "outputId": "b30f6572-40e2-4a4e-ea78-b2b9e13b315e"
      },
      "execution_count": 26,
      "outputs": [
        {
          "output_type": "stream",
          "name": "stdout",
          "text": [
            "age            0.285\n",
            "fare           0.262\n",
            "sex_male       0.241\n",
            "pclass         0.089\n",
            "sibsp          0.050\n"
          ]
        }
      ]
    },
    {
      "cell_type": "markdown",
      "source": [
        "### 모델의 최적화"
      ],
      "metadata": {
        "id": "pYN8IS41sLtq"
      }
    },
    {
      "cell_type": "code",
      "source": [
        "from sklearn import model_selection\n",
        "\n",
        "rf4 = ensemble.RandomForestClassifier()\n",
        "params = {\n",
        "  \"max_features\": [0.4, \"auto\"],\n",
        "  \"n_estimators\": [15, 200],\n",
        "  \"min_samples_leaf\": [1, 0.1],\n",
        "  \"random_state\": [42],\n",
        "}\n",
        "\n",
        "cv = model_selection.GridSearchCV(rf4, params, n_jobs=-1).fit(X_train, y_train)\n",
        "print(cv.best_params_)"
      ],
      "metadata": {
        "colab": {
          "base_uri": "https://localhost:8080/"
        },
        "id": "QNibSb28sK2u",
        "outputId": "92552592-c56c-42db-e531-31d826b36186"
      },
      "execution_count": 27,
      "outputs": [
        {
          "output_type": "stream",
          "name": "stdout",
          "text": [
            "{'max_features': 0.4, 'min_samples_leaf': 1, 'n_estimators': 200, 'random_state': 42}\n"
          ]
        }
      ]
    },
    {
      "cell_type": "code",
      "source": [
        "rf5 = ensemble.RandomForestClassifier(\n",
        "  **{\n",
        "  \"max_features\": \"auto\",\n",
        "  \"min_samples_leaf\": 0.1,\n",
        "  \"n_estimators\": 200,\n",
        "  \"random_state\": 42,\n",
        "  }\n",
        ")\n",
        "\n",
        "rf5.fit(X_train, y_train)\n",
        "rf5.score(X_test, y_test)"
      ],
      "metadata": {
        "colab": {
          "base_uri": "https://localhost:8080/"
        },
        "id": "K9JG5RJBsNv9",
        "outputId": "63c8edea-0988-4c5b-f9eb-5374bc19a0c6"
      },
      "execution_count": 28,
      "outputs": [
        {
          "output_type": "execute_result",
          "data": {
            "text/plain": [
              "0.7073791348600509"
            ]
          },
          "metadata": {},
          "execution_count": 28
        }
      ]
    },
    {
      "cell_type": "code",
      "source": [
        ""
      ],
      "metadata": {
        "id": "3vNT8gHhsPG0"
      },
      "execution_count": null,
      "outputs": []
    }
  ]
}