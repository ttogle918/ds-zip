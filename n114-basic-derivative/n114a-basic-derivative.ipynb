{
  "nbformat": 4,
  "nbformat_minor": 0,
  "metadata": {
    "colab": {
      "name": "n114a-Basic Derivative.ipynb",
      "provenance": [],
      "include_colab_link": true
    },
    "kernelspec": {
      "display_name": "Python 3",
      "language": "python",
      "name": "python3"
    },
    "language_info": {
      "codemirror_mode": {
        "name": "ipython",
        "version": 3
      },
      "file_extension": ".py",
      "mimetype": "text/x-python",
      "name": "python",
      "nbconvert_exporter": "python",
      "pygments_lexer": "ipython3",
      "version": "3.9.4"
    }
  },
  "cells": [
    {
      "cell_type": "markdown",
      "metadata": {
        "id": "view-in-github",
        "colab_type": "text"
      },
      "source": [
        "<a href=\"https://colab.research.google.com/github/ttogle918/ds-section1-sprint1/blob/master/n114-basic-derivative/n114a-basic-derivative.ipynb\" target=\"_parent\"><img src=\"https://colab.research.google.com/assets/colab-badge.svg\" alt=\"Open In Colab\"/></a>"
      ]
    },
    {
      "cell_type": "markdown",
      "metadata": {
        "id": "G5hwlPlsGega"
      },
      "source": [
        "<img src='https://i.imgur.com/RDAD11M.png' width = '200' align = 'right'>\n",
        "\n",
        "## *DATA SCIENCE / SECTION 1 / SPRINT 1 / NOTE 4*\n",
        "\n",
        "---\n",
        "\n",
        "# 📝 Assignment\n",
        "\n"
      ]
    },
    {
      "cell_type": "markdown",
      "metadata": {
        "id": "gtPPD-pECSIR"
      },
      "source": [
        "## 1. Dataset 불러오기\n",
        "> seaborn 라이브러리의 load_dataset()을 활용해서 iris 데이터셋을 데이터프레임으로 불러옵니다. 데이터프레임의 이름은 df_iris로 합니다. <br>\n",
        "> df_iris의 shape의 **첫번째 값을 두번째 값으로 나눈 값**을 `res1`에 저장하세요"
      ]
    },
    {
      "cell_type": "code",
      "metadata": {
        "colab": {
          "base_uri": "https://localhost:8080/"
        },
        "id": "kakx8BzACSIT",
        "outputId": "00f3cd6f-3888-455c-ffb5-ce23f51381b3"
      },
      "source": [
        "import seaborn as sns\n",
        "import numpy as np\n",
        "# import matplotlib.pyplot as plt\n",
        "import pandas as pd\n",
        "np.random.seed(42)\n",
        "\n",
        "df_iris = sns.load_dataset('iris')\n",
        "\n",
        "res1 = df_iris.shape[0] / df_iris.shape[1]\n",
        "res1"
      ],
      "execution_count": 2,
      "outputs": [
        {
          "output_type": "execute_result",
          "data": {
            "text/plain": [
              "30.0"
            ]
          },
          "metadata": {},
          "execution_count": 2
        }
      ]
    },
    {
      "cell_type": "markdown",
      "metadata": {
        "id": "pzeks8NxCSIU"
      },
      "source": [
        "## 2. X 구하기\n",
        "> df_iris에서 sepal_length만 남겨주세요. 그리고 sepal_length 칼럼의 이름은 x로 바꿉니다"
      ]
    },
    {
      "cell_type": "code",
      "metadata": {
        "colab": {
          "base_uri": "https://localhost:8080/",
          "height": 422
        },
        "id": "nOWiRZuACSIU",
        "outputId": "34da4472-2cc0-4a73-a76a-e6190031b8f8"
      },
      "source": [
        "# df_iris['x'] = df_iris[['sepal_length']]\n",
        "df_iris = pd.DataFrame(data=df_iris['sepal_length'], columns = ['sepal_length']) # or drop 이용\n",
        "df_iris.columns=['x']\n",
        "df_iris"
      ],
      "execution_count": 3,
      "outputs": [
        {
          "output_type": "execute_result",
          "data": {
            "text/html": [
              "<div>\n",
              "<style scoped>\n",
              "    .dataframe tbody tr th:only-of-type {\n",
              "        vertical-align: middle;\n",
              "    }\n",
              "\n",
              "    .dataframe tbody tr th {\n",
              "        vertical-align: top;\n",
              "    }\n",
              "\n",
              "    .dataframe thead th {\n",
              "        text-align: right;\n",
              "    }\n",
              "</style>\n",
              "<table border=\"1\" class=\"dataframe\">\n",
              "  <thead>\n",
              "    <tr style=\"text-align: right;\">\n",
              "      <th></th>\n",
              "      <th>x</th>\n",
              "    </tr>\n",
              "  </thead>\n",
              "  <tbody>\n",
              "    <tr>\n",
              "      <th>0</th>\n",
              "      <td>5.1</td>\n",
              "    </tr>\n",
              "    <tr>\n",
              "      <th>1</th>\n",
              "      <td>4.9</td>\n",
              "    </tr>\n",
              "    <tr>\n",
              "      <th>2</th>\n",
              "      <td>4.7</td>\n",
              "    </tr>\n",
              "    <tr>\n",
              "      <th>3</th>\n",
              "      <td>4.6</td>\n",
              "    </tr>\n",
              "    <tr>\n",
              "      <th>4</th>\n",
              "      <td>5.0</td>\n",
              "    </tr>\n",
              "    <tr>\n",
              "      <th>...</th>\n",
              "      <td>...</td>\n",
              "    </tr>\n",
              "    <tr>\n",
              "      <th>145</th>\n",
              "      <td>6.7</td>\n",
              "    </tr>\n",
              "    <tr>\n",
              "      <th>146</th>\n",
              "      <td>6.3</td>\n",
              "    </tr>\n",
              "    <tr>\n",
              "      <th>147</th>\n",
              "      <td>6.5</td>\n",
              "    </tr>\n",
              "    <tr>\n",
              "      <th>148</th>\n",
              "      <td>6.2</td>\n",
              "    </tr>\n",
              "    <tr>\n",
              "      <th>149</th>\n",
              "      <td>5.9</td>\n",
              "    </tr>\n",
              "  </tbody>\n",
              "</table>\n",
              "<p>150 rows × 1 columns</p>\n",
              "</div>"
            ],
            "text/plain": [
              "       x\n",
              "0    5.1\n",
              "1    4.9\n",
              "2    4.7\n",
              "3    4.6\n",
              "4    5.0\n",
              "..   ...\n",
              "145  6.7\n",
              "146  6.3\n",
              "147  6.5\n",
              "148  6.2\n",
              "149  5.9\n",
              "\n",
              "[150 rows x 1 columns]"
            ]
          },
          "metadata": {},
          "execution_count": 3
        }
      ]
    },
    {
      "cell_type": "markdown",
      "metadata": {
        "id": "az0kx_sxHYri"
      },
      "source": [
        "## 3. 기초 미분\n",
        "\n",
        "다음 함수를 미분한 도함수를 구한 후에 num_one 함수를 완성하세요. \n",
        "$f(x) = 4x^5 + 9x^3 + ex^2 - 7$\n",
        "\n",
        "- num_one 함수를 x에 적용한 후에 **derivative_one**이라는 칼럼으로 df_iris에 저장합니다. (Hint : df.apply)\n",
        "- derivative_one 칼럼의 합을 `res2`에 저장합니다 (소수점 세자리까지)"
      ]
    },
    {
      "cell_type": "code",
      "metadata": {
        "id": "J5ha7GquLbCo",
        "colab": {
          "base_uri": "https://localhost:8080/"
        },
        "outputId": "ccc1cb1c-0778-4b46-a6d6-c9c2c6ace8eb"
      },
      "source": [
        "def num_one(x):\n",
        "  return 5*4*(x**4) + 9*3*(x**2) + 2*np.e*(x)\n",
        "# print(num_one(4))\n",
        "def numerical_derivative(x):\n",
        "  delta_x = 1e-5\n",
        "  return (num_one(x + delta_x) - num_one(x)) / delta_x\n",
        "\n",
        "df_iris['derivative_one'] = df_iris['x'].apply(num_one)\n",
        "res2 = df_iris['derivative_one'].sum()\n",
        "res2"
      ],
      "execution_count": 4,
      "outputs": [
        {
          "output_type": "execute_result",
          "data": {
            "text/plain": [
              "4077643.108045289"
            ]
          },
          "metadata": {},
          "execution_count": 4
        }
      ]
    },
    {
      "cell_type": "markdown",
      "metadata": {
        "id": "SWK8tyb6CSIW"
      },
      "source": [
        "- 이번에는 scipy의 [derivative](https://docs.scipy.org/doc/scipy/reference/generated/scipy.misc.derivative.html)를 활용하여 **derivative_two** 칼럼으로 저장하세요.\n",
        "  - dx는 1e-7로 설정합니다.\n",
        "- derivative_two 칼럼의 합을 `res3`에 저장합니다 (소수점 세자리까지)"
      ]
    },
    {
      "cell_type": "code",
      "metadata": {
        "colab": {
          "base_uri": "https://localhost:8080/"
        },
        "id": "TKv9XUj5CSIX",
        "outputId": "5b1cbeed-dfff-4e3f-db9c-07189462cc8c"
      },
      "source": [
        "from scipy.misc import derivative\n",
        "\n",
        "def f(x):\n",
        "  return 4*(x**5) + 9*(x**3) + np.e*(x**2) -7\n",
        "\n",
        "# 이곳에 답안을 작성해주시기 바랍니다\n",
        "df_iris['derivative_two'] = derivative(f, df_iris['x'], dx=1e-7)  # np.e와 1e는 다른가?\n",
        "res3 = df_iris['derivative_two'].sum()\n",
        "res3"
      ],
      "execution_count": 6,
      "outputs": [
        {
          "output_type": "execute_result",
          "data": {
            "text/plain": [
              "4077643.1205767947"
            ]
          },
          "metadata": {},
          "execution_count": 6
        }
      ]
    },
    {
      "cell_type": "markdown",
      "metadata": {
        "id": "U9KQrjt3I66h"
      },
      "source": [
        "## 4. 미분 연습\n",
        "\n",
        ">아래 함수들의 도함수를 작성해주세요."
      ]
    },
    {
      "cell_type": "markdown",
      "metadata": {
        "id": "8ONGRF5YCSIX"
      },
      "source": [
        " $f(x) = e^x$ "
      ]
    },
    {
      "cell_type": "code",
      "metadata": {
        "colab": {
          "base_uri": "https://localhost:8080/"
        },
        "id": "addjNZ6zCSIY",
        "outputId": "c5e9dfac-9d07-45ed-e777-37bef4a2c8ef"
      },
      "source": [
        "from scipy.misc import derivative\n",
        "def e_prime(x):\n",
        "    return np.exp(x) # 이 곳에 답안을 작성하세요\n",
        "# print(derivative(e_prime, 2, dx=1e-7))\n",
        "e_prime(5)"
      ],
      "execution_count": null,
      "outputs": [
        {
          "output_type": "execute_result",
          "data": {
            "text/plain": [
              "148.4131591025766"
            ]
          },
          "metadata": {},
          "execution_count": 5
        }
      ]
    },
    {
      "cell_type": "markdown",
      "metadata": {
        "id": "p6RNLZniCSIY"
      },
      "source": [
        "$f(x) = lnx$"
      ]
    },
    {
      "cell_type": "code",
      "metadata": {
        "colab": {
          "base_uri": "https://localhost:8080/"
        },
        "id": "hu39Y2eVCSIY",
        "outputId": "37546a82-72e0-454a-de9e-279b4a661c11"
      },
      "source": [
        "def ln_prime(x):\n",
        "    return 1/x  # 이 곳에 답안을 작성하세요 np.exp(x)\n",
        "# x0 = -1\n",
        "# x1 = 0\n",
        "# print(sp.optimize.minimize(In_prime, x0)) # 오차를 줄이기 위한 최적화 함수를 구하기 위한 방법? 비용\n",
        "# result = sp.optimize.minimize(In_prime, x1)\n",
        "\n",
        "ln_prime(5)"
      ],
      "execution_count": null,
      "outputs": [
        {
          "output_type": "execute_result",
          "data": {
            "text/plain": [
              "0.2"
            ]
          },
          "metadata": {},
          "execution_count": 6
        }
      ]
    },
    {
      "cell_type": "markdown",
      "metadata": {
        "id": "bFaYdCAJCSIY"
      },
      "source": [
        "$f(x) = Sin(2x)$"
      ]
    },
    {
      "cell_type": "code",
      "metadata": {
        "colab": {
          "base_uri": "https://localhost:8080/"
        },
        "id": "TNyEsillCSIZ",
        "outputId": "c5ebfdda-5ac7-4116-d71c-0366ff1dbd19"
      },
      "source": [
        "def sine_prime(x):\n",
        "  return 2*np.cos(2*x)\n",
        "sine_prime(5)"
      ],
      "execution_count": null,
      "outputs": [
        {
          "output_type": "execute_result",
          "data": {
            "text/plain": [
              "-1.6781430581529049"
            ]
          },
          "metadata": {},
          "execution_count": 7
        }
      ]
    },
    {
      "cell_type": "markdown",
      "metadata": {
        "id": "AdvAilGLCSIZ"
      },
      "source": [
        "$f(x) = (2x^2 + 8x)^2$"
      ]
    },
    {
      "cell_type": "code",
      "metadata": {
        "colab": {
          "base_uri": "https://localhost:8080/"
        },
        "id": "U3_uiLgXCSIZ",
        "outputId": "96cfa3e5-e1ba-495c-ac67-966034793d6f"
      },
      "source": [
        "def f_prime(x):\n",
        "    return 2*(2*(x**2) + 8*x) * (4*x + 8)\n",
        "f_prime(5)"
      ],
      "execution_count": null,
      "outputs": [
        {
          "output_type": "execute_result",
          "data": {
            "text/plain": [
              "5040"
            ]
          },
          "metadata": {},
          "execution_count": 8
        }
      ]
    },
    {
      "cell_type": "markdown",
      "metadata": {
        "id": "yKehJVDsJQNg"
      },
      "source": [
        "## 5. 편미분\n",
        "\n",
        "주어진 `machine learning model`의 `error function` ($\\varepsilon$)이 다음과 같을 때 `error function`을 **최소화** 하는 최적의 `parameter`들을  구하세요. 그 후 결과를 각각 `p1`, `p2`에 저장하세요.\n",
        "\n",
        "$\\varepsilon(p_1, p_2) = (e \\cdot p_1 - p_2)^2 + {{k_2} \\over { 2 }} \\cdot p_2 $ \n",
        "\n",
        "$k_2 = 100$\n",
        "\n",
        "- 단 최적의 $p_1$은 $p_2$가 $3$일때, 최적의 $p_2$는 $p_1$이 $10$일때를 기준으로 합니다."
      ]
    },
    {
      "cell_type": "markdown",
      "metadata": {
        "id": "9RT1OfSZxAGP"
      },
      "source": [
        "---------------------------------------------\n",
        "이전 기수 분 내용 copy\n",
        "```\n",
        "from sympy import Symbol, solve\n",
        "p1 = Symbol('p1')\n",
        "p2 = Symbol('p2')\n",
        "\n",
        "k2 = 100\n",
        "x2 = 3\n",
        "p1 = 2*(np.exp(1)*p1 - x2) * np.exp(1)\n",
        "x1 = 10\n",
        "p2 = 2*(np.exp(1)*x1 - p2) * (-1)+(k2/2)\n",
        "p1 = solve(p1)\n",
        "p2 = solve(p2)\n",
        "print(p1, p2)\n",
        "#과제 : 1.104\n",
        "```\n"
      ]
    },
    {
      "cell_type": "code",
      "metadata": {
        "id": "TlA7rqlnK2V8"
      },
      "source": [
        "# 이 곳에 답안을 작성하세요\n",
        "def f(x):\n",
        "  return (np.e*p1 - p2)**2 + 100/2*p2\n",
        "def gradient_descent(X, y, lr = 0.05, epoch = 10):\n",
        "    \n",
        "    p1, p2 = 0.33, 0.48 # 임의 선택한 파라미터 p1, p2\n",
        "    N = len(X) # 샘플 갯수\n",
        "    \n",
        "    k2 = 100\n",
        "    \n",
        "    for _ in range(epoch):            \n",
        "        f =  y - (p1*X + p2)\n",
        "    \n",
        "        # p1, p2 업데이트\n",
        "        p1 -= lr * (-2 * X.dot(f).sum() / N)\n",
        "        p2 -= lr * (-2 * f.sum() / N)        \n",
        "        \n",
        "    print('p1: '+str(p1))\n",
        "    print('p2: '+str(p2))"
      ],
      "execution_count": null,
      "outputs": []
    },
    {
      "cell_type": "code",
      "metadata": {
        "id": "YHGizNmMmsYm"
      },
      "source": [
        "X = np.array([1, 2, 3])\n",
        "y = np.array([(10*np.e-3)**2+10, (10*np.e-3)**2+10, (10*np.e-3)**2+10])"
      ],
      "execution_count": null,
      "outputs": []
    },
    {
      "cell_type": "code",
      "metadata": {
        "colab": {
          "base_uri": "https://localhost:8080/"
        },
        "id": "N5wZMAZa17Bg",
        "outputId": "c5dbb23e-2adb-49da-8050-ff20be2332a3"
      },
      "source": [
        "gradient_descent(X, y, epoch=10)"
      ],
      "execution_count": null,
      "outputs": [
        {
          "output_type": "stream",
          "name": "stdout",
          "text": [
            "p1: 194.08585664816331\n",
            "p2: 153.42373930800935\n"
          ]
        }
      ]
    },
    {
      "cell_type": "code",
      "metadata": {
        "colab": {
          "base_uri": "https://localhost:8080/"
        },
        "id": "wXPQgq66A0Wj",
        "outputId": "be774ea3-ad8b-41e6-996c-3646303dda92"
      },
      "source": [
        "gradient_descent(X,3, epoch=100)"
      ],
      "execution_count": null,
      "outputs": [
        {
          "output_type": "stream",
          "name": "stdout",
          "text": [
            "p1: 0.2931455011155574\n",
            "p2: 2.33361137220958\n"
          ]
        }
      ]
    },
    {
      "cell_type": "code",
      "metadata": {
        "colab": {
          "base_uri": "https://localhost:8080/"
        },
        "id": "yBR_do8eA1JO",
        "outputId": "a6f34dd1-deca-4dd3-e0d3-4dbb7269fd6a"
      },
      "source": [
        "gradient_descent(X, y, epoch = 100)"
      ],
      "execution_count": null,
      "outputs": [
        {
          "output_type": "stream",
          "name": "stdout",
          "text": [
            "p1: 65.38701058039157\n",
            "p2: 446.1686559407076\n"
          ]
        }
      ]
    },
    {
      "cell_type": "code",
      "metadata": {
        "colab": {
          "base_uri": "https://localhost:8080/"
        },
        "id": "0uUGGnsBA2iT",
        "outputId": "9623dd0d-a2fb-44f8-8e7e-ebf4fcb8d108"
      },
      "source": [
        "gradient_descent(X, y, epoch = 1000)"
      ],
      "execution_count": null,
      "outputs": [
        {
          "output_type": "stream",
          "name": "stdout",
          "text": [
            "p1: 0.001227340562224064\n",
            "p2: 594.8059101519383\n"
          ]
        }
      ]
    },
    {
      "cell_type": "markdown",
      "metadata": {
        "id": "ksW7uwOzL-eY"
      },
      "source": [
        "## 🔥 도전과제 "
      ]
    },
    {
      "cell_type": "markdown",
      "metadata": {
        "id": "MltjgTsvMZmv"
      },
      "source": [
        "### 다음 함수를 미분하세요. 이후에 x = 3일 때의 결과를 `challenge`에 저장하세요.  \n",
        "$\\sigma(x) = {{1} \\over {1 + e^-x}}$. "
      ]
    },
    {
      "cell_type": "code",
      "metadata": {
        "id": "C-fr8L08CSIa"
      },
      "source": [
        "def sig_prime(x):\n",
        "    return 1 / (1 + np.exp(-x))"
      ],
      "execution_count": null,
      "outputs": []
    },
    {
      "cell_type": "code",
      "metadata": {
        "id": "HQZGXFcCvluf",
        "colab": {
          "base_uri": "https://localhost:8080/"
        },
        "outputId": "8575b5cb-5d75-44bb-c8c1-ead4efa2df48"
      },
      "source": [
        "value = sig_prime(3)\n",
        "print(value)\n",
        "derivative(sig_prime, 3)"
      ],
      "execution_count": null,
      "outputs": [
        {
          "output_type": "stream",
          "name": "stdout",
          "text": [
            "0.9525741268224334\n"
          ]
        },
        {
          "output_type": "execute_result",
          "data": {
            "text/plain": [
              "0.05060835603001307"
            ]
          },
          "metadata": {},
          "execution_count": 16
        }
      ]
    }
  ]
}