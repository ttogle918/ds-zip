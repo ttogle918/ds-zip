{
  "nbformat": 4,
  "nbformat_minor": 0,
  "metadata": {
    "colab": {
      "name": "n122-chi-square-test.ipynb",
      "provenance": [],
      "include_colab_link": true
    },
    "kernelspec": {
      "display_name": "Python 3",
      "language": "python",
      "name": "python3"
    },
    "language_info": {
      "codemirror_mode": {
        "name": "ipython",
        "version": 3
      },
      "file_extension": ".py",
      "mimetype": "text/x-python",
      "name": "python",
      "nbconvert_exporter": "python",
      "pygments_lexer": "ipython3",
      "version": "3.9.4"
    }
  },
  "cells": [
    {
      "cell_type": "markdown",
      "metadata": {
        "id": "view-in-github",
        "colab_type": "text"
      },
      "source": [
        "<a href=\"https://colab.research.google.com/github/ttogle918/ds-section1-sprint2/blob/master/n122-chi-square-test/n122a-chi-square-test.ipynb\" target=\"_parent\"><img src=\"https://colab.research.google.com/assets/colab-badge.svg\" alt=\"Open In Colab\"/></a>"
      ]
    },
    {
      "cell_type": "markdown",
      "metadata": {
        "id": "rQf3dSuc5PqO"
      },
      "source": [
        "<img src='https://i.imgur.com/RDAD11M.png' width = '200' align = 'right'>\n",
        "\n",
        "## *DATA SCIENCE / SECTION 1 / SPRINT 2 / NOTE 2*\n",
        "\n",
        "# 📝 Assignment"
      ]
    },
    {
      "cell_type": "markdown",
      "metadata": {
        "id": "zf1u0vN67ch2"
      },
      "source": [
        "# 카이제곱검정"
      ]
    },
    {
      "cell_type": "markdown",
      "metadata": {
        "id": "11OzdxWTM7UR"
      },
      "source": [
        "\n",
        "## 1. 공공데이터 조작 연습. \n",
        "\n",
        "국가 통계 포털에서 아래 이미지를 참조하여\n",
        "\n",
        "<https://kosis.kr/statisticsList/statisticsListIndex.do?menuId=M_01_01&vwcd=MT_ZTITLE&parmTabId=M_01_01#SelectStatsBoxDiv>\n",
        "\n",
        "**2020년 8월**에 해당하는 규모별 미분양현황 에 대한 데이터셋을 생성하세요. \n",
        "\n",
        "<img src='https://i.imgur.com/aZc4UJO.png' width = 500>\n",
        "\n",
        "- `60m이하`, `60~85m`, `85m초과`의 3개 규모와 (column)\n",
        "- `서울`, `대전`, `대구`, `부산` 4개의 지역을 포함해야합니다. (row)\n",
        "- `민간부문`만 포함합니다\n",
        "- 데이터가 없는 경우는 0으로 처리하세요.\n",
        "\n",
        "이후 데이터셋을 colab으로 불러오세요. 이때 변수의 이름은 `df`를 사용합니다.\n"
      ]
    },
    {
      "cell_type": "code",
      "metadata": {
        "id": "-uNIPGBr_nPT",
        "outputId": "a768be44-2fdf-4719-f0c4-8ee07c19dfaf",
        "colab": {
          "base_uri": "https://localhost:8080/"
        }
      },
      "source": [
        "# google 드라이브에 로컬 파일 업로드\n",
        "from google.colab import files, drive\n",
        "# uploaded = files.upload()\n",
        "drive.mount('/content/drive')"
      ],
      "execution_count": 1,
      "outputs": [
        {
          "output_type": "stream",
          "name": "stdout",
          "text": [
            "Drive already mounted at /content/drive; to attempt to forcibly remount, call drive.mount(\"/content/drive\", force_remount=True).\n"
          ]
        }
      ]
    },
    {
      "cell_type": "code",
      "metadata": {
        "id": "IhWdLFndyVAB"
      },
      "source": [
        "col = ['~60m2', '60~85m2', '85m2~']\n",
        "row = ['서울', '대전', '대구', '부산']"
      ],
      "execution_count": 2,
      "outputs": []
    },
    {
      "cell_type": "code",
      "metadata": {
        "colab": {
          "base_uri": "https://localhost:8080/",
          "height": 205
        },
        "id": "i9Hvbgqf85Yt",
        "outputId": "c0b3ce84-776c-4287-df2c-5ffcf85f2104"
      },
      "source": [
        "import pandas as pd\n",
        "import numpy as np\n",
        "from scipy import stats\n",
        "import io\n",
        "# df = pd.read_csv(io.BytesIO(uploaded[\"규모별_미분양현황_20210917135130.csv\"]), encoding = \"CP949\", engine='python')\n",
        "df = pd.read_csv(\"/content/drive/MyDrive/Colab Notebooks/code_states/규모별_미분양현황_20210917135130.csv\", encoding = \"CP949\", engine='python')\n",
        "df"
      ],
      "execution_count": 3,
      "outputs": [
        {
          "output_type": "execute_result",
          "data": {
            "text/html": [
              "<div>\n",
              "<style scoped>\n",
              "    .dataframe tbody tr th:only-of-type {\n",
              "        vertical-align: middle;\n",
              "    }\n",
              "\n",
              "    .dataframe tbody tr th {\n",
              "        vertical-align: top;\n",
              "    }\n",
              "\n",
              "    .dataframe thead th {\n",
              "        text-align: right;\n",
              "    }\n",
              "</style>\n",
              "<table border=\"1\" class=\"dataframe\">\n",
              "  <thead>\n",
              "    <tr style=\"text-align: right;\">\n",
              "      <th></th>\n",
              "      <th>시도(1)</th>\n",
              "      <th>부문(1)</th>\n",
              "      <th>2020. 08</th>\n",
              "      <th>2020. 08.1</th>\n",
              "      <th>2020. 08.2</th>\n",
              "    </tr>\n",
              "  </thead>\n",
              "  <tbody>\n",
              "    <tr>\n",
              "      <th>0</th>\n",
              "      <td>시도(1)</td>\n",
              "      <td>부문(1)</td>\n",
              "      <td>60㎡이하</td>\n",
              "      <td>60∼85㎡</td>\n",
              "      <td>85㎡초과</td>\n",
              "    </tr>\n",
              "    <tr>\n",
              "      <th>1</th>\n",
              "      <td>서울</td>\n",
              "      <td>민간부문</td>\n",
              "      <td>54</td>\n",
              "      <td>2</td>\n",
              "      <td>0</td>\n",
              "    </tr>\n",
              "    <tr>\n",
              "      <th>2</th>\n",
              "      <td>부산</td>\n",
              "      <td>민간부문</td>\n",
              "      <td>577</td>\n",
              "      <td>735</td>\n",
              "      <td>142</td>\n",
              "    </tr>\n",
              "    <tr>\n",
              "      <th>3</th>\n",
              "      <td>대구</td>\n",
              "      <td>민간부문</td>\n",
              "      <td>143</td>\n",
              "      <td>1437</td>\n",
              "      <td>44</td>\n",
              "    </tr>\n",
              "    <tr>\n",
              "      <th>4</th>\n",
              "      <td>대전</td>\n",
              "      <td>민간부문</td>\n",
              "      <td>782</td>\n",
              "      <td>1</td>\n",
              "      <td>0</td>\n",
              "    </tr>\n",
              "  </tbody>\n",
              "</table>\n",
              "</div>"
            ],
            "text/plain": [
              "   시도(1)  부문(1) 2020. 08 2020. 08.1 2020. 08.2\n",
              "0  시도(1)  부문(1)    60㎡이하     60∼85㎡      85㎡초과\n",
              "1     서울   민간부문       54          2          0\n",
              "2     부산   민간부문      577        735        142\n",
              "3     대구   민간부문      143       1437         44\n",
              "4     대전   민간부문      782          1          0"
            ]
          },
          "metadata": {},
          "execution_count": 3
        }
      ]
    },
    {
      "cell_type": "code",
      "metadata": {
        "id": "nnPJpOJIBqzI",
        "outputId": "23fc8168-0ce8-4150-9ce8-d77a275c84c4",
        "colab": {
          "base_uri": "https://localhost:8080/",
          "height": 205
        }
      },
      "source": [
        "df.fillna(0)"
      ],
      "execution_count": 4,
      "outputs": [
        {
          "output_type": "execute_result",
          "data": {
            "text/html": [
              "<div>\n",
              "<style scoped>\n",
              "    .dataframe tbody tr th:only-of-type {\n",
              "        vertical-align: middle;\n",
              "    }\n",
              "\n",
              "    .dataframe tbody tr th {\n",
              "        vertical-align: top;\n",
              "    }\n",
              "\n",
              "    .dataframe thead th {\n",
              "        text-align: right;\n",
              "    }\n",
              "</style>\n",
              "<table border=\"1\" class=\"dataframe\">\n",
              "  <thead>\n",
              "    <tr style=\"text-align: right;\">\n",
              "      <th></th>\n",
              "      <th>시도(1)</th>\n",
              "      <th>부문(1)</th>\n",
              "      <th>2020. 08</th>\n",
              "      <th>2020. 08.1</th>\n",
              "      <th>2020. 08.2</th>\n",
              "    </tr>\n",
              "  </thead>\n",
              "  <tbody>\n",
              "    <tr>\n",
              "      <th>0</th>\n",
              "      <td>시도(1)</td>\n",
              "      <td>부문(1)</td>\n",
              "      <td>60㎡이하</td>\n",
              "      <td>60∼85㎡</td>\n",
              "      <td>85㎡초과</td>\n",
              "    </tr>\n",
              "    <tr>\n",
              "      <th>1</th>\n",
              "      <td>서울</td>\n",
              "      <td>민간부문</td>\n",
              "      <td>54</td>\n",
              "      <td>2</td>\n",
              "      <td>0</td>\n",
              "    </tr>\n",
              "    <tr>\n",
              "      <th>2</th>\n",
              "      <td>부산</td>\n",
              "      <td>민간부문</td>\n",
              "      <td>577</td>\n",
              "      <td>735</td>\n",
              "      <td>142</td>\n",
              "    </tr>\n",
              "    <tr>\n",
              "      <th>3</th>\n",
              "      <td>대구</td>\n",
              "      <td>민간부문</td>\n",
              "      <td>143</td>\n",
              "      <td>1437</td>\n",
              "      <td>44</td>\n",
              "    </tr>\n",
              "    <tr>\n",
              "      <th>4</th>\n",
              "      <td>대전</td>\n",
              "      <td>민간부문</td>\n",
              "      <td>782</td>\n",
              "      <td>1</td>\n",
              "      <td>0</td>\n",
              "    </tr>\n",
              "  </tbody>\n",
              "</table>\n",
              "</div>"
            ],
            "text/plain": [
              "   시도(1)  부문(1) 2020. 08 2020. 08.1 2020. 08.2\n",
              "0  시도(1)  부문(1)    60㎡이하     60∼85㎡      85㎡초과\n",
              "1     서울   민간부문       54          2          0\n",
              "2     부산   민간부문      577        735        142\n",
              "3     대구   민간부문      143       1437         44\n",
              "4     대전   민간부문      782          1          0"
            ]
          },
          "metadata": {},
          "execution_count": 4
        }
      ]
    },
    {
      "cell_type": "code",
      "metadata": {
        "id": "PxZ1rr8-B08o",
        "outputId": "6e9179ed-9609-44d3-f21c-5ad6b67d8ecf",
        "colab": {
          "base_uri": "https://localhost:8080/",
          "height": 205
        }
      },
      "source": [
        "df = df.rename(\n",
        "    columns = {\n",
        "        '시도(1)' : '시도',\n",
        "        '부문(1)' : '부문'\n",
        "    }\n",
        ")\n",
        "df = df.drop('부문', axis = 1)\n",
        "\n",
        "df.columns = ['지역'] + col\n",
        "df = df[1:]\n",
        "df = df.set_index(['지역'])\n",
        "df.columns.name = '구분'\n",
        "df = df.astype(int)\n",
        "df"
      ],
      "execution_count": 5,
      "outputs": [
        {
          "output_type": "execute_result",
          "data": {
            "text/html": [
              "<div>\n",
              "<style scoped>\n",
              "    .dataframe tbody tr th:only-of-type {\n",
              "        vertical-align: middle;\n",
              "    }\n",
              "\n",
              "    .dataframe tbody tr th {\n",
              "        vertical-align: top;\n",
              "    }\n",
              "\n",
              "    .dataframe thead th {\n",
              "        text-align: right;\n",
              "    }\n",
              "</style>\n",
              "<table border=\"1\" class=\"dataframe\">\n",
              "  <thead>\n",
              "    <tr style=\"text-align: right;\">\n",
              "      <th>구분</th>\n",
              "      <th>~60m2</th>\n",
              "      <th>60~85m2</th>\n",
              "      <th>85m2~</th>\n",
              "    </tr>\n",
              "    <tr>\n",
              "      <th>지역</th>\n",
              "      <th></th>\n",
              "      <th></th>\n",
              "      <th></th>\n",
              "    </tr>\n",
              "  </thead>\n",
              "  <tbody>\n",
              "    <tr>\n",
              "      <th>서울</th>\n",
              "      <td>54</td>\n",
              "      <td>2</td>\n",
              "      <td>0</td>\n",
              "    </tr>\n",
              "    <tr>\n",
              "      <th>부산</th>\n",
              "      <td>577</td>\n",
              "      <td>735</td>\n",
              "      <td>142</td>\n",
              "    </tr>\n",
              "    <tr>\n",
              "      <th>대구</th>\n",
              "      <td>143</td>\n",
              "      <td>1437</td>\n",
              "      <td>44</td>\n",
              "    </tr>\n",
              "    <tr>\n",
              "      <th>대전</th>\n",
              "      <td>782</td>\n",
              "      <td>1</td>\n",
              "      <td>0</td>\n",
              "    </tr>\n",
              "  </tbody>\n",
              "</table>\n",
              "</div>"
            ],
            "text/plain": [
              "구분  ~60m2  60~85m2  85m2~\n",
              "지역                       \n",
              "서울     54        2      0\n",
              "부산    577      735    142\n",
              "대구    143     1437     44\n",
              "대전    782        1      0"
            ]
          },
          "metadata": {},
          "execution_count": 5
        }
      ]
    },
    {
      "cell_type": "markdown",
      "metadata": {
        "id": "RXPZZuAi3ccI"
      },
      "source": [
        "## 2. 지역에 대해서 one-sample chi-square test를 실행, 해당 결과를 `chi1`에 저장 후 설명해보세요.\n",
        "\n",
        "예시) 만약 **9월달 데이터**를 기준으로 한다면\n",
        "```python\n",
        " [52+2+0, 590+665+142, 113+1061+42, 772+1+0]\n",
        "```\n",
        "을 비교 하게 될 것입니다.\n",
        "\n",
        "\n"
      ]
    },
    {
      "cell_type": "code",
      "metadata": {
        "id": "oIMzAkXks-Sv",
        "colab": {
          "base_uri": "https://localhost:8080/"
        },
        "outputId": "315ba5cc-3152-4d60-8587-ad4b9a791940"
      },
      "source": [
        "from scipy.stats import chisquare\n",
        "def convert(string) :\n",
        "  value = value.apply(int)\n",
        "  return value.sum()\n",
        "\n",
        "df['sum'] = df.sum(axis=1)\n",
        "chi1 = chisquare(df['sum'], axis=None)\n",
        "chi1"
      ],
      "execution_count": 6,
      "outputs": [
        {
          "output_type": "execute_result",
          "data": {
            "text/plain": [
              "Power_divergenceResult(statistic=1564.4572376818994, pvalue=0.0)"
            ]
          },
          "metadata": {},
          "execution_count": 6
        }
      ]
    },
    {
      "cell_type": "markdown",
      "metadata": {
        "id": "MiS9LlX3Esu3"
      },
      "source": [
        ""
      ]
    },
    {
      "cell_type": "markdown",
      "metadata": {
        "id": "9R0tGiFrlyOi"
      },
      "source": [
        "p-value가 0.0으로 나올 때 : 절삭된 것(0에 가까운 수, python에서 지정해 놓은 수를 넘거아면(너무 작으면) 자른다)\n"
      ]
    },
    {
      "cell_type": "markdown",
      "metadata": {
        "id": "f6xUXH35Tc9g"
      },
      "source": [
        "p-value가 0.05보다 크면 귀무가설을 기각할 수 없다. -> 1:1\n",
        "\n",
        "p-value가 0.05보다 작으면 귀무가설을 기각한다.\n",
        "-> 각 지역의 미분양현황은 기대와 동일하지 않다.(같지 않다.)\n",
        "\n",
        "신뢰도가 95%라는 전제\n",
        "p-value < 0.05, 귀무가설 기각 -> 대립가설을 채택\n",
        "\n",
        "p-value > 0.05, 귀무가설 기각할 수 없음"
      ]
    },
    {
      "cell_type": "markdown",
      "metadata": {
        "id": "eMDtugVNRu0q"
      },
      "source": [
        "## 3. 지역과 규모에 대해서 two-sample chi-square test를 실행, 해당 결과를 `chi2`에 저장 후 설명해보세요.\n",
        "\n",
        "예시) **9월달 데이터**를 기준으로 한다면\n",
        "\n",
        "| |-60 | 60-85 | 85- |\n",
        "|:-:|:-:|:-:|:-:|\n",
        "|서울|52|2|0|\n",
        "|대전|772|1|0|\n",
        "|대구|113|1061|42|\n",
        "|부산|590|665|142|\n",
        "\n",
        "에 대해서 검정해야 할 겁니다.\n",
        "\n",
        "\n"
      ]
    },
    {
      "cell_type": "markdown",
      "metadata": {
        "id": "CUdw8TlcslCa"
      },
      "source": [
        "+ 해당 데이터는 이미 crosstab이 되어있다.\n",
        "\n",
        "-> 아닐 때는 해당 코드 이용\n",
        "```\n",
        "obs = pd.crosstab(small_food['income'], small_food['pay_meal_out'])\n",
        "```\n"
      ]
    },
    {
      "cell_type": "code",
      "metadata": {
        "id": "Ckcr4A4FM7cs",
        "colab": {
          "base_uri": "https://localhost:8080/"
        },
        "outputId": "bb779f96-c2fa-4e2b-eada-2a509e0e1aeb"
      },
      "source": [
        "from scipy.stats import chi2_contingency\n",
        "\n",
        "chi2 = chi2_contingency(df)\n",
        "chi2"
      ],
      "execution_count": 7,
      "outputs": [
        {
          "output_type": "execute_result",
          "data": {
            "text/plain": [
              "(2064.576731417199,\n",
              " 0.0,\n",
              " 9,\n",
              " array([[  22.24559612,   31.09522594,    2.65917794,   56.        ],\n",
              "        [ 577.59101353,  807.36533061,   69.04365586, 1454.        ],\n",
              "        [ 645.12228746,  901.76155221,   77.11616033, 1624.        ],\n",
              "        [ 311.04110288,  434.77789124,   37.18100587,  783.        ]]))"
            ]
          },
          "metadata": {},
          "execution_count": 7
        }
      ]
    },
    {
      "cell_type": "markdown",
      "metadata": {
        "id": "Tf7XPpBP6YqX"
      },
      "source": [
        "### 4. 2번에 대해서 NumPy 를 사용하여 (Scipy를 사용하지 않고) $\\chi^2$ test 시행 후 2번의 결과와 비교해보세요. \n",
        "\n",
        "- `obs`, `exp`, `chi`라는 변수를 사용해야합니다."
      ]
    },
    {
      "cell_type": "code",
      "metadata": {
        "id": "OjFt0b1-wrFL",
        "colab": {
          "base_uri": "https://localhost:8080/",
          "height": 205
        },
        "outputId": "566ff055-ca06-4802-c707-f7f6a3e3b05e"
      },
      "source": [
        "df = df.drop('sum', axis=1)\n",
        "df"
      ],
      "execution_count": 8,
      "outputs": [
        {
          "output_type": "execute_result",
          "data": {
            "text/html": [
              "<div>\n",
              "<style scoped>\n",
              "    .dataframe tbody tr th:only-of-type {\n",
              "        vertical-align: middle;\n",
              "    }\n",
              "\n",
              "    .dataframe tbody tr th {\n",
              "        vertical-align: top;\n",
              "    }\n",
              "\n",
              "    .dataframe thead th {\n",
              "        text-align: right;\n",
              "    }\n",
              "</style>\n",
              "<table border=\"1\" class=\"dataframe\">\n",
              "  <thead>\n",
              "    <tr style=\"text-align: right;\">\n",
              "      <th>구분</th>\n",
              "      <th>~60m2</th>\n",
              "      <th>60~85m2</th>\n",
              "      <th>85m2~</th>\n",
              "    </tr>\n",
              "    <tr>\n",
              "      <th>지역</th>\n",
              "      <th></th>\n",
              "      <th></th>\n",
              "      <th></th>\n",
              "    </tr>\n",
              "  </thead>\n",
              "  <tbody>\n",
              "    <tr>\n",
              "      <th>서울</th>\n",
              "      <td>54</td>\n",
              "      <td>2</td>\n",
              "      <td>0</td>\n",
              "    </tr>\n",
              "    <tr>\n",
              "      <th>부산</th>\n",
              "      <td>577</td>\n",
              "      <td>735</td>\n",
              "      <td>142</td>\n",
              "    </tr>\n",
              "    <tr>\n",
              "      <th>대구</th>\n",
              "      <td>143</td>\n",
              "      <td>1437</td>\n",
              "      <td>44</td>\n",
              "    </tr>\n",
              "    <tr>\n",
              "      <th>대전</th>\n",
              "      <td>782</td>\n",
              "      <td>1</td>\n",
              "      <td>0</td>\n",
              "    </tr>\n",
              "  </tbody>\n",
              "</table>\n",
              "</div>"
            ],
            "text/plain": [
              "구분  ~60m2  60~85m2  85m2~\n",
              "지역                       \n",
              "서울     54        2      0\n",
              "부산    577      735    142\n",
              "대구    143     1437     44\n",
              "대전    782        1      0"
            ]
          },
          "metadata": {},
          "execution_count": 8
        }
      ]
    },
    {
      "cell_type": "code",
      "metadata": {
        "id": "jjhAhhHRHLPZ",
        "outputId": "1cffe1ff-8c5a-4e7b-a4af-98bf09647b94",
        "colab": {
          "base_uri": "https://localhost:8080/"
        }
      },
      "source": [
        "sum_obs = np.sum(df)\n",
        "sum_obs\n",
        "sum_obs.dtypes"
      ],
      "execution_count": 47,
      "outputs": [
        {
          "output_type": "execute_result",
          "data": {
            "text/plain": [
              "dtype('int64')"
            ]
          },
          "metadata": {},
          "execution_count": 47
        }
      ]
    },
    {
      "cell_type": "code",
      "metadata": {
        "id": "L04oAKkiHqDv",
        "outputId": "294180b0-4403-42fb-9f00-3d1fd73507b9",
        "colab": {
          "base_uri": "https://localhost:8080/",
          "height": 175
        }
      },
      "source": [
        "df_area_sum = []\n",
        "df_area_sum = df.sum(axis=1).to_frame()\n",
        "df_area_sum.astype(int)\n",
        "\n",
        "df_size_sum = df.sum(axis = 0).to_frame()\n",
        "df_size_sum.astype(int)\n",
        "df_size_sum"
      ],
      "execution_count": 58,
      "outputs": [
        {
          "output_type": "execute_result",
          "data": {
            "text/html": [
              "<div>\n",
              "<style scoped>\n",
              "    .dataframe tbody tr th:only-of-type {\n",
              "        vertical-align: middle;\n",
              "    }\n",
              "\n",
              "    .dataframe tbody tr th {\n",
              "        vertical-align: top;\n",
              "    }\n",
              "\n",
              "    .dataframe thead th {\n",
              "        text-align: right;\n",
              "    }\n",
              "</style>\n",
              "<table border=\"1\" class=\"dataframe\">\n",
              "  <thead>\n",
              "    <tr style=\"text-align: right;\">\n",
              "      <th></th>\n",
              "      <th>0</th>\n",
              "    </tr>\n",
              "    <tr>\n",
              "      <th>구분</th>\n",
              "      <th></th>\n",
              "    </tr>\n",
              "  </thead>\n",
              "  <tbody>\n",
              "    <tr>\n",
              "      <th>~60m2</th>\n",
              "      <td>1556</td>\n",
              "    </tr>\n",
              "    <tr>\n",
              "      <th>60~85m2</th>\n",
              "      <td>2175</td>\n",
              "    </tr>\n",
              "    <tr>\n",
              "      <th>85m2~</th>\n",
              "      <td>186</td>\n",
              "    </tr>\n",
              "  </tbody>\n",
              "</table>\n",
              "</div>"
            ],
            "text/plain": [
              "            0\n",
              "구분           \n",
              "~60m2    1556\n",
              "60~85m2  2175\n",
              "85m2~     186"
            ]
          },
          "metadata": {},
          "execution_count": 58
        }
      ]
    },
    {
      "cell_type": "code",
      "metadata": {
        "id": "adR0D_TRQ2Kd",
        "outputId": "30127e12-18b4-42dc-dce4-8aaaadee3e52",
        "colab": {
          "base_uri": "https://localhost:8080/"
        }
      },
      "source": [
        "exp = []\n",
        "for i in df_area_sum.index :\n",
        "  t_list = []\n",
        "  for j in df_size_sum.index :\n",
        "    # print(df_area_sum.loc[i] * df_size_sum.loc[j])\n",
        "    t_list.append( int(df_area_sum.loc[i]) * int(df_size_sum.loc[j]) / sum_obs)\n",
        "    \n",
        "  exp.append(t_list)\n",
        "exp"
      ],
      "execution_count": 59,
      "outputs": [
        {
          "output_type": "execute_result",
          "data": {
            "text/plain": [
              "[[0         NaN\n",
              "  60~85m2   NaN\n",
              "  85m2~     NaN\n",
              "  ~60m2     NaN\n",
              "  dtype: float64, 0         NaN\n",
              "  60~85m2   NaN\n",
              "  85m2~     NaN\n",
              "  ~60m2     NaN\n",
              "  dtype: float64, 0         NaN\n",
              "  60~85m2   NaN\n",
              "  85m2~     NaN\n",
              "  ~60m2     NaN\n",
              "  dtype: float64], [0         NaN\n",
              "  60~85m2   NaN\n",
              "  85m2~     NaN\n",
              "  ~60m2     NaN\n",
              "  dtype: float64, 0         NaN\n",
              "  60~85m2   NaN\n",
              "  85m2~     NaN\n",
              "  ~60m2     NaN\n",
              "  dtype: float64, 0         NaN\n",
              "  60~85m2   NaN\n",
              "  85m2~     NaN\n",
              "  ~60m2     NaN\n",
              "  dtype: float64], [0         NaN\n",
              "  60~85m2   NaN\n",
              "  85m2~     NaN\n",
              "  ~60m2     NaN\n",
              "  dtype: float64, 0         NaN\n",
              "  60~85m2   NaN\n",
              "  85m2~     NaN\n",
              "  ~60m2     NaN\n",
              "  dtype: float64, 0         NaN\n",
              "  60~85m2   NaN\n",
              "  85m2~     NaN\n",
              "  ~60m2     NaN\n",
              "  dtype: float64], [0         NaN\n",
              "  60~85m2   NaN\n",
              "  85m2~     NaN\n",
              "  ~60m2     NaN\n",
              "  dtype: float64, 0         NaN\n",
              "  60~85m2   NaN\n",
              "  85m2~     NaN\n",
              "  ~60m2     NaN\n",
              "  dtype: float64, 0         NaN\n",
              "  60~85m2   NaN\n",
              "  85m2~     NaN\n",
              "  ~60m2     NaN\n",
              "  dtype: float64]]"
            ]
          },
          "metadata": {},
          "execution_count": 59
        }
      ]
    },
    {
      "cell_type": "markdown",
      "metadata": {
        "id": "a2BrKHq8m8AS"
      },
      "source": [
        "## 🔥 도전 과제\n",
        "\n",
        "아래 세가지를 다하면 됩니다.\n",
        "\n",
        "### 1. Function\n",
        "\n",
        "4번에서 사용한 one sample chisquare test를 함수의 형태로 변경하세요."
      ]
    },
    {
      "cell_type": "code",
      "metadata": {
        "id": "AntnuAkFm-JQ"
      },
      "source": [
        "v1 = [18,22,20,15,23,22]\n",
        "v2 = [5,23,26,19,24,23]\n",
        "\n",
        "def myChisq(value):\n",
        "    return None# 내용을 채우세요.\n",
        "\n",
        "myChisq(v1) \n",
        "\n",
        "# chisquare값과 pvalue를 출력해야합니다.\n",
        "\n",
        "myChisq(v2)"
      ],
      "execution_count": null,
      "outputs": []
    },
    {
      "cell_type": "markdown",
      "metadata": {
        "id": "4ohsJhQUmEuS"
      },
      "source": [
        "### 2. ANOVA\n",
        "\n",
        "아래 링크를 참조하여 ANOVA 에 대한 글을 읽고\n",
        "\n",
        "<https://partrita.github.io/posts/ANOVA-python/>\n",
        "\n",
        "다음 `4개 그룹에 대해서 평균의 차이가 있는지`에 대한 가설 검정을 시행하세요.\n",
        "\n",
        "A : `38 33 35 92 76 97 88 41 11  9`\n",
        "\n",
        "B : `18 52 62 48 30 40 87 12 97 82`\n",
        "\n",
        "C :  `28 90  5 49 66 73 96 80  4 17`\n",
        "\n",
        "D : ` 8 99  4 12  7 64 18 10  9 20`\n",
        "\n"
      ]
    },
    {
      "cell_type": "code",
      "metadata": {
        "id": "DMebi5_4UaSn"
      },
      "source": [
        "# 이 곳에 답안을 작성하시길 바랍니다"
      ],
      "execution_count": null,
      "outputs": []
    }
  ]
}