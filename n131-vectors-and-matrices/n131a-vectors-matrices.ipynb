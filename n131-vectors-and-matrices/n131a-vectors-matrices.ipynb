{
  "nbformat": 4,
  "nbformat_minor": 0,
  "metadata": {
    "colab": {
      "name": "n131a-vectors-matrices.ipynb",
      "provenance": [],
      "include_colab_link": true
    },
    "kernelspec": {
      "display_name": "Python 3",
      "language": "python",
      "name": "python3"
    },
    "language_info": {
      "codemirror_mode": {
        "name": "ipython",
        "version": 3
      },
      "file_extension": ".py",
      "mimetype": "text/x-python",
      "name": "python",
      "nbconvert_exporter": "python",
      "pygments_lexer": "ipython3",
      "version": "3.8.2"
    }
  },
  "cells": [
    {
      "cell_type": "markdown",
      "metadata": {
        "id": "view-in-github",
        "colab_type": "text"
      },
      "source": [
        "<a href=\"https://colab.research.google.com/github/ttogle918/ds-section1-sprint3/blob/master/n131-vectors-and-matrices/n131a-vectors-matrices.ipynb\" target=\"_parent\"><img src=\"https://colab.research.google.com/assets/colab-badge.svg\" alt=\"Open In Colab\"/></a>"
      ]
    },
    {
      "cell_type": "markdown",
      "metadata": {
        "id": "Y7hxe5O-9ukJ"
      },
      "source": [
        "<img src='https://i.imgur.com/RDAD11M.png' width = '200' align = 'right'>\n",
        "\n",
        "## *DATA SCIENCE / SECTION 1 / SPRINT 3 / NOTE 1*\n",
        "\n",
        "# 📝 Assignment"
      ]
    },
    {
      "cell_type": "markdown",
      "metadata": {
        "id": "yXA3GwWhY9KL"
      },
      "source": [
        "## 1. Portfolio\n",
        "\n",
        "`Dot product` & `Matrix Multiplication` 을 이용하여 다음 포트폴리오의 사람별 총합을 계산하세요.\n",
        "- 결과는 `res`에 list형태로 저장합니다.\n",
        "\n",
        "|People|Name|Price|Amount|\n",
        "|:-:|:-:|:-:|:-:|\n",
        "|X|A|100|35|\n",
        "|X|B|500|10|\n",
        "|X|C|250|25|\n",
        "|X|D|50|40|\n",
        "|Y|A|100|-|\n",
        "|Y|B|500|50|\n",
        "|Y|C|250|50|\n",
        "|Y|D|50|-|\n",
        "|Z|A|100|-|\n",
        "|Z|B|500|-|\n",
        "|Z|C|250|100|\n",
        "|Z|D|50|-|\n",
        "\n"
      ]
    },
    {
      "cell_type": "markdown",
      "metadata": {
        "id": "nmjlkN2AtuUc"
      },
      "source": [
        "pandas 이용"
      ]
    },
    {
      "cell_type": "code",
      "metadata": {
        "id": "ErSR5soVblfv",
        "colab": {
          "base_uri": "https://localhost:8080/",
          "height": 421
        },
        "outputId": "9eb51c4a-b6c5-4db8-e661-fb8577d515e5"
      },
      "source": [
        "# 이곳에 답안을 작성하시기 바랍니다\n",
        "import numpy as np\n",
        "import pandas as pd\n",
        "\n",
        "df = pd.DataFrame({'People' :['X', 'X', 'X', 'X', 'Y', 'Y', 'Y', 'Y', 'Z', 'Z', 'Z', 'Z'],\n",
        "                   'Name' :['A', 'B', 'C', 'D', 'A', 'B', 'C', 'D', 'A', 'B', 'C', 'D'],\n",
        "                   'Price' :[100, 500, 250, 50, 100, 500, 250, 50, 100, 500, 250, 50],\n",
        "                   'Amount' : [35, 10, 25, 40, np.nan, 50, 50, np.nan, np.nan, np.nan, 100, np.nan]\n",
        "                  })\n",
        "df = df.fillna(0)\n",
        "df['multiple'] = df['Price'] * df['Amount']\n",
        "df"
      ],
      "execution_count": 1,
      "outputs": [
        {
          "output_type": "execute_result",
          "data": {
            "text/html": [
              "<div>\n",
              "<style scoped>\n",
              "    .dataframe tbody tr th:only-of-type {\n",
              "        vertical-align: middle;\n",
              "    }\n",
              "\n",
              "    .dataframe tbody tr th {\n",
              "        vertical-align: top;\n",
              "    }\n",
              "\n",
              "    .dataframe thead th {\n",
              "        text-align: right;\n",
              "    }\n",
              "</style>\n",
              "<table border=\"1\" class=\"dataframe\">\n",
              "  <thead>\n",
              "    <tr style=\"text-align: right;\">\n",
              "      <th></th>\n",
              "      <th>People</th>\n",
              "      <th>Name</th>\n",
              "      <th>Price</th>\n",
              "      <th>Amount</th>\n",
              "      <th>multiple</th>\n",
              "    </tr>\n",
              "  </thead>\n",
              "  <tbody>\n",
              "    <tr>\n",
              "      <th>0</th>\n",
              "      <td>X</td>\n",
              "      <td>A</td>\n",
              "      <td>100</td>\n",
              "      <td>35.0</td>\n",
              "      <td>3500.0</td>\n",
              "    </tr>\n",
              "    <tr>\n",
              "      <th>1</th>\n",
              "      <td>X</td>\n",
              "      <td>B</td>\n",
              "      <td>500</td>\n",
              "      <td>10.0</td>\n",
              "      <td>5000.0</td>\n",
              "    </tr>\n",
              "    <tr>\n",
              "      <th>2</th>\n",
              "      <td>X</td>\n",
              "      <td>C</td>\n",
              "      <td>250</td>\n",
              "      <td>25.0</td>\n",
              "      <td>6250.0</td>\n",
              "    </tr>\n",
              "    <tr>\n",
              "      <th>3</th>\n",
              "      <td>X</td>\n",
              "      <td>D</td>\n",
              "      <td>50</td>\n",
              "      <td>40.0</td>\n",
              "      <td>2000.0</td>\n",
              "    </tr>\n",
              "    <tr>\n",
              "      <th>4</th>\n",
              "      <td>Y</td>\n",
              "      <td>A</td>\n",
              "      <td>100</td>\n",
              "      <td>0.0</td>\n",
              "      <td>0.0</td>\n",
              "    </tr>\n",
              "    <tr>\n",
              "      <th>5</th>\n",
              "      <td>Y</td>\n",
              "      <td>B</td>\n",
              "      <td>500</td>\n",
              "      <td>50.0</td>\n",
              "      <td>25000.0</td>\n",
              "    </tr>\n",
              "    <tr>\n",
              "      <th>6</th>\n",
              "      <td>Y</td>\n",
              "      <td>C</td>\n",
              "      <td>250</td>\n",
              "      <td>50.0</td>\n",
              "      <td>12500.0</td>\n",
              "    </tr>\n",
              "    <tr>\n",
              "      <th>7</th>\n",
              "      <td>Y</td>\n",
              "      <td>D</td>\n",
              "      <td>50</td>\n",
              "      <td>0.0</td>\n",
              "      <td>0.0</td>\n",
              "    </tr>\n",
              "    <tr>\n",
              "      <th>8</th>\n",
              "      <td>Z</td>\n",
              "      <td>A</td>\n",
              "      <td>100</td>\n",
              "      <td>0.0</td>\n",
              "      <td>0.0</td>\n",
              "    </tr>\n",
              "    <tr>\n",
              "      <th>9</th>\n",
              "      <td>Z</td>\n",
              "      <td>B</td>\n",
              "      <td>500</td>\n",
              "      <td>0.0</td>\n",
              "      <td>0.0</td>\n",
              "    </tr>\n",
              "    <tr>\n",
              "      <th>10</th>\n",
              "      <td>Z</td>\n",
              "      <td>C</td>\n",
              "      <td>250</td>\n",
              "      <td>100.0</td>\n",
              "      <td>25000.0</td>\n",
              "    </tr>\n",
              "    <tr>\n",
              "      <th>11</th>\n",
              "      <td>Z</td>\n",
              "      <td>D</td>\n",
              "      <td>50</td>\n",
              "      <td>0.0</td>\n",
              "      <td>0.0</td>\n",
              "    </tr>\n",
              "  </tbody>\n",
              "</table>\n",
              "</div>"
            ],
            "text/plain": [
              "   People Name  Price  Amount  multiple\n",
              "0       X    A    100    35.0    3500.0\n",
              "1       X    B    500    10.0    5000.0\n",
              "2       X    C    250    25.0    6250.0\n",
              "3       X    D     50    40.0    2000.0\n",
              "4       Y    A    100     0.0       0.0\n",
              "5       Y    B    500    50.0   25000.0\n",
              "6       Y    C    250    50.0   12500.0\n",
              "7       Y    D     50     0.0       0.0\n",
              "8       Z    A    100     0.0       0.0\n",
              "9       Z    B    500     0.0       0.0\n",
              "10      Z    C    250   100.0   25000.0\n",
              "11      Z    D     50     0.0       0.0"
            ]
          },
          "metadata": {},
          "execution_count": 1
        }
      ]
    },
    {
      "cell_type": "code",
      "metadata": {
        "id": "ac2NJ-pkoNG_"
      },
      "source": [
        "amount = df['multiple'].groupby(df['People'])"
      ],
      "execution_count": 2,
      "outputs": []
    },
    {
      "cell_type": "code",
      "metadata": {
        "id": "erSMWNoo96KN",
        "colab": {
          "base_uri": "https://localhost:8080/"
        },
        "outputId": "2b857d39-f884-494e-bcd4-a86a5cd23a7a"
      },
      "source": [
        "res = list(amount.sum())\n",
        "res"
      ],
      "execution_count": 3,
      "outputs": [
        {
          "output_type": "execute_result",
          "data": {
            "text/plain": [
              "[16750.0, 37500.0, 25000.0]"
            ]
          },
          "metadata": {},
          "execution_count": 3
        }
      ]
    },
    {
      "cell_type": "markdown",
      "metadata": {
        "id": "dMgAVgIuGe_B"
      },
      "source": [
        "## 2. Norms\n",
        "\n",
        "주어진 값 $x_0, x_1, ... x_n$ 를 element로 갖는 벡터 $v$에 대하여 \n",
        "\n",
        "$L_1$ Norm 의 정의는 다음과 같습니다. \n",
        "\n",
        "$|v| = |x_0| + |x_1| + ... + |x_n|$\n",
        "\n",
        "$L_2$ Norm 의 정의는 다음과 같습니다.\n",
        "\n",
        "$||v|| = \\sqrt {{x_0}^2 + {x_1}^2 + ... + {x_n}^2}$\n",
        "\n",
        "이를 참조하여 주어진 벡터에 대해서 $L_2$ Norm 의 값과 $L_1$ Norm 의 값의 차이(**절대값**)를 계산하는 함수를 만드세요.\n",
        "\n"
      ]
    },
    {
      "cell_type": "code",
      "metadata": {
        "id": "XrYfAExIGemC"
      },
      "source": [
        "def L1Norm(v) :\n",
        "  v = abs(v)\n",
        "  return sum(v)\n",
        "\n",
        "def L2Norm(v) :\n",
        "  v = np.square(v)\n",
        "  return np.sqrt(sum(v))\n",
        "\n",
        "def NormDif(v): # v = np.array()\n",
        "  return abs ( L1Norm(v) - L2Norm(v) )"
      ],
      "execution_count": 4,
      "outputs": []
    },
    {
      "cell_type": "code",
      "metadata": {
        "id": "UiVyirg69CS7",
        "colab": {
          "base_uri": "https://localhost:8080/"
        },
        "outputId": "f5667093-5a51-45ad-da5d-e4276b15a6e2"
      },
      "source": [
        "NormDif(np.array([0, 1, 2, -2, -3]))"
      ],
      "execution_count": 5,
      "outputs": [
        {
          "output_type": "execute_result",
          "data": {
            "text/plain": [
              "3.7573593128807152"
            ]
          },
          "metadata": {},
          "execution_count": 5
        }
      ]
    },
    {
      "cell_type": "markdown",
      "metadata": {
        "id": "VBJHWdyalU4G"
      },
      "source": [
        "## 3. Errors\n",
        "\n",
        "\n",
        "\n",
        "- 2개의 벡터와, error의 타입을 입력받아 그 결과값을 계산하는 함수를 작성하세요.\n",
        "\n",
        "- 여기서 error의 타입은 `MSE`, `MAE` 2가지 입니다.\n",
        "\n"
      ]
    },
    {
      "cell_type": "markdown",
      "metadata": {
        "id": "_hznR1cvwQvh"
      },
      "source": [
        "MSE : Mean Squared Error (평균 제곱 오차)\n",
        "*  오차의 제곱에 대한 평균을 취한 값\n",
        "*  통계적 추정의 정확성에 대한 질적인 척도\n",
        "*  회귀에서 자주 사용되는 손실 함수 \n",
        "```\n",
        "np.mean( np.square(y-pred) )\n",
        "```\n",
        "RMSE : 평균 제곱근 오차 ( MSE 앞에 sqrt 추가 )\n",
        "\n",
        "MAE : Mean Absolute Error (평균 절대 오차)\n",
        "*  AE : 절대 오차 ( 실제 값과 예측 값과의 차이 )\n",
        "*  절대값을 구함\n",
        "*  회귀지표로써 사용된다.\n",
        "```\n",
        "np.mean( np.abs(y-pred) )\n",
        "```"
      ]
    },
    {
      "cell_type": "code",
      "metadata": {
        "id": "LQy8_pEUHHDC"
      },
      "source": [
        "from sklearn.metrics import mean_absolute_error, mean_squared_error\n",
        "# x : y_test\n",
        "# y : y_pred\n",
        "def error(x, y, type) :\n",
        "  if type == 'MSE' :\n",
        "    return np.mean( np.square(x - y) )\n",
        "    # return mean_squared_error(x, y)\n",
        "  elif type == 'MAE' :\n",
        "    return np.mean( np.abs(x - y) )\n",
        "    # return mean_absolute_error(x, y)\n",
        "  return None"
      ],
      "execution_count": 6,
      "outputs": []
    },
    {
      "cell_type": "code",
      "metadata": {
        "id": "whgvWov21W2A",
        "colab": {
          "base_uri": "https://localhost:8080/"
        },
        "outputId": "31494b38-d38f-44d9-a906-e0045199d8a0"
      },
      "source": [
        "error(np.array([0, 1, 1, 2, 4]), np.array([1, 1, 2, 3, 2]), 'MSE')"
      ],
      "execution_count": 7,
      "outputs": [
        {
          "output_type": "execute_result",
          "data": {
            "text/plain": [
              "1.4"
            ]
          },
          "metadata": {},
          "execution_count": 7
        }
      ]
    },
    {
      "cell_type": "code",
      "metadata": {
        "id": "UjFOXB5Z6kNa",
        "colab": {
          "base_uri": "https://localhost:8080/"
        },
        "outputId": "1afbdb0b-cdfa-4157-d191-ee8313876ea5"
      },
      "source": [
        "error(np.array([0, 1, 1, 2, 4]), np.array([1, 1, 2, 3, 2]), 'MAE')"
      ],
      "execution_count": 8,
      "outputs": [
        {
          "output_type": "execute_result",
          "data": {
            "text/plain": [
              "1.0"
            ]
          },
          "metadata": {},
          "execution_count": 8
        }
      ]
    },
    {
      "cell_type": "markdown",
      "metadata": {
        "id": "l2Teph_aS16e"
      },
      "source": [
        "# 4. Inverse\n",
        "\n",
        "- 주어진 matrix에 대해서 inverse matrix를 계산하여 반환하는 함수를 작성하세요. \n",
        "- 이 때 inverse 계산이 불가능 한 경우 `-1` 을 반환합니다."
      ]
    },
    {
      "cell_type": "code",
      "metadata": {
        "id": "1hseshZkS1eX"
      },
      "source": [
        "def myInverse(m) : # m = np.array()\n",
        "  if np.linalg.det(m) == 0 :\n",
        "    return -1 # 'not exist inverse matrix'\n",
        "  return np.linalg.inv(m)"
      ],
      "execution_count": 9,
      "outputs": []
    },
    {
      "cell_type": "code",
      "metadata": {
        "id": "Z7kSfIeP8s6m",
        "colab": {
          "base_uri": "https://localhost:8080/"
        },
        "outputId": "0c4b7c77-cad1-4d97-c54e-9b961da69a6d"
      },
      "source": [
        "print( np.array(range(4)).reshape(2,2))\n",
        "print( myInverse(np.array(range(4)).reshape(2,2)) )\n",
        "print( myInverse(np.array( [[0, 2], [2, 0]]) ))"
      ],
      "execution_count": 10,
      "outputs": [
        {
          "output_type": "stream",
          "name": "stdout",
          "text": [
            "[[0 1]\n",
            " [2 3]]\n",
            "[[-1.5  0.5]\n",
            " [ 1.   0. ]]\n",
            "[[0.  0.5]\n",
            " [0.5 0. ]]\n"
          ]
        }
      ]
    },
    {
      "cell_type": "markdown",
      "metadata": {
        "id": "V0iTO4McYjtk"
      },
      "source": [
        "# 🔥 도전과제 \n",
        "\n"
      ]
    },
    {
      "cell_type": "markdown",
      "metadata": {
        "id": "3p45qAIGFTBZ"
      },
      "source": [
        "다음 링크의 내용을 참조하여 **Cramer's rule**을 사용해 $x_1$, $x_2$, $x_3$의 값을 구하세요.\n",
        "\n",
        "<https://youtu.be/6StS7VjtuGI>\n",
        "\n",
        "\n",
        "$x_1$ + $2x_3$ = 6\n",
        "\n",
        "$-3x_1$ + $4x_2$ + $6x_3$ = 30\n",
        "\n",
        "$-x_1$ $-2x_2$ + $3x_3$ = 8\n",
        "\n"
      ]
    },
    {
      "cell_type": "markdown",
      "metadata": {
        "id": "U5oEf_kfei4T"
      },
      "source": [
        "```\n",
        "x1 = A\n",
        "```\n",
        "\n",
        "x1에 A를 대입했을 때(np.array 형식), 왜 A까지 바뀌는지? copy형식이 아니라 deep copy... 원본 주소값을 공유하는 같다.\n",
        "\n",
        "```\n",
        "x1 = A.copy()\n",
        "```\n",
        "이렇게 해야 shallow copy가 되어 값만 복사된다. ( 다른 메모리 공간에 상주해있다. )\n"
      ]
    },
    {
      "cell_type": "code",
      "metadata": {
        "id": "5KLMN1JPIwZc"
      },
      "source": [
        "A = np.array( [[1, 0, 2],\n",
        "                [-3, 4, 6],\n",
        "                [-1, -2, 3]] )\n",
        "\n",
        "value = np.array([6, 30, 8])\n",
        "\n",
        "det_A = np.linalg.det(A)"
      ],
      "execution_count": 30,
      "outputs": []
    },
    {
      "cell_type": "code",
      "metadata": {
        "id": "3N4MCIV5cALQ",
        "outputId": "6eb13ebe-4df2-4b9d-f001-0ff0055ec05e",
        "colab": {
          "base_uri": "https://localhost:8080/"
        }
      },
      "source": [
        "x1 = A.copy()\n",
        "x1[:,0] = value\n",
        "det_x1 = np.linalg.det(x1)\n",
        "\n",
        "x1"
      ],
      "execution_count": 31,
      "outputs": [
        {
          "output_type": "execute_result",
          "data": {
            "text/plain": [
              "array([[ 6,  0,  2],\n",
              "       [30,  4,  6],\n",
              "       [ 8, -2,  3]])"
            ]
          },
          "metadata": {},
          "execution_count": 31
        }
      ]
    },
    {
      "cell_type": "code",
      "metadata": {
        "id": "ZRRBWrAS9GDp",
        "outputId": "23f69308-85dc-4c86-90d0-0588c19eb23d",
        "colab": {
          "base_uri": "https://localhost:8080/"
        }
      },
      "source": [
        "x2 = A.copy()\n",
        "x2[:,1] = value\n",
        "det_x2 = np.linalg.det(x2)\n",
        "x2"
      ],
      "execution_count": 34,
      "outputs": [
        {
          "output_type": "execute_result",
          "data": {
            "text/plain": [
              "array([[ 1,  6,  2],\n",
              "       [-3, 30,  6],\n",
              "       [-1,  8,  3]])"
            ]
          },
          "metadata": {},
          "execution_count": 34
        }
      ]
    },
    {
      "cell_type": "code",
      "metadata": {
        "id": "HdpsfRhVcTEl",
        "outputId": "92062cf8-b7ab-461b-94fc-e8cd496c1771",
        "colab": {
          "base_uri": "https://localhost:8080/"
        }
      },
      "source": [
        "x3 = A.copy()\n",
        "x3[:,2] = value\n",
        "det_x3 = np.linalg.det(x3)\n",
        "x3"
      ],
      "execution_count": 35,
      "outputs": [
        {
          "output_type": "execute_result",
          "data": {
            "text/plain": [
              "array([[ 1,  0,  6],\n",
              "       [-3,  4, 30],\n",
              "       [-1, -2,  8]])"
            ]
          },
          "metadata": {},
          "execution_count": 35
        }
      ]
    },
    {
      "cell_type": "code",
      "metadata": {
        "id": "Yym3v0wgcS3I",
        "outputId": "ddb10b6a-44c7-453c-adc3-105a0bd8935a",
        "colab": {
          "base_uri": "https://localhost:8080/"
        }
      },
      "source": [
        "print('x1 :', det_x1 / det_A )\n",
        "print('x2 :', det_x2 / det_A )\n",
        "print('x3 :', det_x3 / det_A )"
      ],
      "execution_count": 36,
      "outputs": [
        {
          "output_type": "stream",
          "name": "stdout",
          "text": [
            "x1 : -0.9090909090909088\n",
            "x2 : 1.6363636363636358\n",
            "x3 : 3.4545454545454533\n"
          ]
        }
      ]
    },
    {
      "cell_type": "code",
      "metadata": {
        "id": "R0UtP5Qdf4kp"
      },
      "source": [
        ""
      ],
      "execution_count": null,
      "outputs": []
    }
  ]
}