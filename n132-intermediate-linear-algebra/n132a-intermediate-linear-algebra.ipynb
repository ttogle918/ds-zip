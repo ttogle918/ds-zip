{
  "nbformat": 4,
  "nbformat_minor": 0,
  "metadata": {
    "colab": {
      "name": "n132a-intermediate-linear-algebra.ipynb",
      "provenance": [],
      "include_colab_link": true
    },
    "kernelspec": {
      "display_name": "Python 3",
      "language": "python",
      "name": "python3"
    },
    "language_info": {
      "codemirror_mode": {
        "name": "ipython",
        "version": 3
      },
      "file_extension": ".py",
      "mimetype": "text/x-python",
      "name": "python",
      "nbconvert_exporter": "python",
      "pygments_lexer": "ipython3",
      "version": "3.8.2"
    }
  },
  "cells": [
    {
      "cell_type": "markdown",
      "metadata": {
        "id": "view-in-github",
        "colab_type": "text"
      },
      "source": [
        "<a href=\"https://colab.research.google.com/github/ttogle918/ds-section1-sprint3/blob/master/n132-intermediate-linear-algebra/n132a-intermediate-linear-algebra.ipynb\" target=\"_parent\"><img src=\"https://colab.research.google.com/assets/colab-badge.svg\" alt=\"Open In Colab\"/></a>"
      ]
    },
    {
      "cell_type": "markdown",
      "metadata": {
        "id": "GSNiYn8lr6nN"
      },
      "source": [
        "<img src='https://i.imgur.com/RDAD11M.png' width = '200' align = 'right'>\n",
        "\n",
        "## *DATA SCIENCE / SECTION 1 / SPRINT 3 / NOTE 2*\n",
        "\n",
        "# 📝 Assignment\n"
      ]
    },
    {
      "cell_type": "markdown",
      "metadata": {
        "id": "3d4izUhQvh2_"
      },
      "source": [
        "## 1. 주어진 리스트에 대해서 평균, 분산, 표준편차를 구하는 함수를 작성해보세요. (`mean`같은 builtin function 제외)\n",
        "> [243, 278, 184, 249, 207] 에 대해서 해당 함수를 사용한 결과가 아래와 같으면 정답입니다. (소수점 두자리까지만 보여드립니다)\n",
        "- mean : 232.2\n",
        "- var : 1090.96\n",
        "- std : 33.03"
      ]
    },
    {
      "cell_type": "code",
      "metadata": {
        "id": "w1iZfYvBtEA1"
      },
      "source": [
        "def mymean(v):\n",
        "  if len(v) == 0 :\n",
        "    return 0\n",
        "  return sum(v) / len(v)\n",
        "\n",
        "def myvar(v):\n",
        "  if len(v) == 0 :\n",
        "    return 0\n",
        "  v_sum = 0\n",
        "  for val in v :\n",
        "    v_sum = v_sum + (val - mymean(v))**2\n",
        "  return v_sum / len(v)\n",
        "\n",
        "def mystd(v):\n",
        "  return np.sqrt(myvar(v))\n",
        "\n",
        "def myvar2(v): #표본분산\n",
        "  if len(v) == 0 :\n",
        "    return 0\n",
        "  v_sum = 0\n",
        "  for val in v :\n",
        "    v_sum = v_sum + (val - mymean(v))**2\n",
        "  return v_sum / (len(v)-1)\n",
        "\n",
        "def mystd2(v):\n",
        "  return np.sqrt(myvar2(v))"
      ],
      "execution_count": 1,
      "outputs": []
    },
    {
      "cell_type": "code",
      "metadata": {
        "id": "HJHT2uPizZbP",
        "outputId": "e6b580f7-c769-4628-c781-9ea2b701311c",
        "colab": {
          "base_uri": "https://localhost:8080/"
        }
      },
      "source": [
        "import numpy as np\n",
        "v = np.array([243, 278, 184, 249, 207])\n",
        "mymean(v)"
      ],
      "execution_count": 2,
      "outputs": [
        {
          "output_type": "execute_result",
          "data": {
            "text/plain": [
              "232.2"
            ]
          },
          "metadata": {},
          "execution_count": 2
        }
      ]
    },
    {
      "cell_type": "code",
      "metadata": {
        "id": "PDGcjwKN0QOn",
        "outputId": "68c86cd6-1080-4b35-b4ef-451108096e45",
        "colab": {
          "base_uri": "https://localhost:8080/"
        }
      },
      "source": [
        "myvar(v)"
      ],
      "execution_count": 3,
      "outputs": [
        {
          "output_type": "execute_result",
          "data": {
            "text/plain": [
              "1090.96"
            ]
          },
          "metadata": {},
          "execution_count": 3
        }
      ]
    },
    {
      "cell_type": "code",
      "metadata": {
        "id": "MjhqC6Jd0QE2",
        "outputId": "0ba95aae-3432-4bbe-b2af-6b155032bd72",
        "colab": {
          "base_uri": "https://localhost:8080/"
        }
      },
      "source": [
        "mystd(v)"
      ],
      "execution_count": 4,
      "outputs": [
        {
          "output_type": "execute_result",
          "data": {
            "text/plain": [
              "33.02968361943541"
            ]
          },
          "metadata": {},
          "execution_count": 4
        }
      ]
    },
    {
      "cell_type": "markdown",
      "metadata": {
        "id": "oh63KaOctEp_"
      },
      "source": [
        "## 2. 위에서 사용된 데이터와 다음 데이터의 공분산과, 상관계수를 구해보세요\n",
        "> [88, 89, 83, 112, 104] 에 대해서 해당 함수를 사용한 결과가 아래와 같으면 정답입니다. (소수점 두자리까지만 보여드립니다) \n",
        "- cov : 1363.7\n",
        "- cor : 0.16"
      ]
    },
    {
      "cell_type": "markdown",
      "metadata": {
        "id": "mLo1pFiKSQ3J"
      },
      "source": [
        "\n",
        "\n",
        "```\n",
        "w = np.array([88, 89, 83, 112, 104])\n",
        "\n",
        "res4 = np.cov(v, w)[0,1]\n",
        "res5 = np.corrcoef(v, w)[0,1]\n",
        "```\n",
        "\n"
      ]
    },
    {
      "cell_type": "code",
      "metadata": {
        "id": "BBGdVdSo5d5l"
      },
      "source": [
        "def mycov(x, y) :\n",
        "  mx = x - mymean(x)\n",
        "  my = y - mymean(y)\n",
        "\n",
        "  return sum(mx * my) / (len(x)-1)\n",
        "\n",
        "def mycor(x,y) :  # 표본이라고 가정\n",
        "  return mycov(x, y) / ( mystd2(x) * mystd2(y) )"
      ],
      "execution_count": 5,
      "outputs": []
    },
    {
      "cell_type": "code",
      "metadata": {
        "id": "DYPdfkX86xmX",
        "outputId": "dfa907b1-5503-4a56-d003-81fedf12527d",
        "colab": {
          "base_uri": "https://localhost:8080/"
        }
      },
      "source": [
        "np.array([1, 1, 1]) * np.array([1, 2, 3]) - 1"
      ],
      "execution_count": 6,
      "outputs": [
        {
          "output_type": "execute_result",
          "data": {
            "text/plain": [
              "array([0, 1, 2])"
            ]
          },
          "metadata": {},
          "execution_count": 6
        }
      ]
    },
    {
      "cell_type": "code",
      "metadata": {
        "id": "G7ZB0krot564",
        "outputId": "323da601-e3be-4d37-e2b5-27143f5a96c2",
        "colab": {
          "base_uri": "https://localhost:8080/"
        }
      },
      "source": [
        "y = np.array([88, 89, 83, 112, 104])\n",
        "res4 = mycov(v, y)\n",
        "print( res4.round(2) )\n",
        "print(np.cov(v, y))"
      ],
      "execution_count": 7,
      "outputs": [
        {
          "output_type": "stream",
          "name": "stdout",
          "text": [
            "71.7\n",
            "[[1363.7   71.7]\n",
            " [  71.7  149.7]]\n"
          ]
        }
      ]
    },
    {
      "cell_type": "code",
      "metadata": {
        "id": "e19P1A6YzN8y",
        "outputId": "71337942-0d31-489e-9a0f-91ca7caedc3c",
        "colab": {
          "base_uri": "https://localhost:8080/"
        }
      },
      "source": [
        "# 이곳에 답안을 작성하시기 바랍니다\n",
        "res5 = mycor(v, y)\n",
        "print( res5.round(2) )\n",
        "print(np.corrcoef(v, y))"
      ],
      "execution_count": 8,
      "outputs": [
        {
          "output_type": "stream",
          "name": "stdout",
          "text": [
            "0.16\n",
            "[[1.         0.15868974]\n",
            " [0.15868974 1.        ]]\n"
          ]
        }
      ]
    },
    {
      "cell_type": "markdown",
      "metadata": {
        "id": "86iXLzwM2z8l"
      },
      "source": [
        "## 3. 다음 벡터들의 span과, 이가 의미하는 바를 설명하세요. \n",
        "\n",
        "\\begin{align}\n",
        "g = \\begin{bmatrix} 1 & 3 \\end{bmatrix}\n",
        "\\qquad\n",
        "h = \\begin{bmatrix} 2 & 6 \\end{bmatrix}\n",
        "\\end{align}"
      ]
    },
    {
      "cell_type": "code",
      "metadata": {
        "id": "-9Y_N2_Z5OEQ"
      },
      "source": [
        "# 이곳에 답안을 작성하시기 바랍니다\n",
        "g = np.array([1, 3])\n",
        "h = np.array([2, 6])"
      ],
      "execution_count": 9,
      "outputs": []
    },
    {
      "cell_type": "code",
      "metadata": {
        "id": "A4lVqz8AAh5R"
      },
      "source": [
        "n = h[0] / g[0]\n",
        "if np.array_equal(h / n, g) :\n",
        "  res6 = len(g)-1\n",
        "else :\n",
        "  res6 = len(g)"
      ],
      "execution_count": 10,
      "outputs": []
    },
    {
      "cell_type": "code",
      "metadata": {
        "id": "HePCUqKnA8zo",
        "outputId": "4739473d-7251-4ce2-ce77-b1f0db3519eb",
        "colab": {
          "base_uri": "https://localhost:8080/"
        }
      },
      "source": [
        "res6\n"
      ],
      "execution_count": 11,
      "outputs": [
        {
          "output_type": "execute_result",
          "data": {
            "text/plain": [
              "1"
            ]
          },
          "metadata": {},
          "execution_count": 11
        }
      ]
    },
    {
      "cell_type": "markdown",
      "metadata": {
        "id": "fQwDRxdJCL-2"
      },
      "source": [
        "위에 예시처럼 두 벡터가 있다면 최대 2차원을 가진다.\n",
        "\n",
        "하지만 두 벡터는 크기(길이)만 다를 뿐, 같은 방향으로 가는 벡터이기 때문에 같은 벡터라고 봐도 무방하다.\n",
        "\n",
        "따라서 해당 차원은 1차원을 가진다. ( =span은 1이다 )"
      ]
    },
    {
      "cell_type": "markdown",
      "metadata": {
        "id": "l1deylUj4IHH"
      },
      "source": [
        "## 4. 다음 벡터들의 span과, 이가 의미하는 바를 설명하세요.\n",
        "\n",
        "\\begin{align}\n",
        "l = \\begin{bmatrix} 1 & 2 & 3 \\end{bmatrix}\n",
        "\\qquad\n",
        "m = \\begin{bmatrix} -1 & 0 & 7 \\end{bmatrix}\n",
        "\\qquad\n",
        "n = \\begin{bmatrix} 4 & 8  & 2\\end{bmatrix}\n",
        "\\end{align}"
      ]
    },
    {
      "cell_type": "markdown",
      "metadata": {
        "id": "7hVbImXSSniF"
      },
      "source": [
        "\n",
        "\n",
        "```\n",
        "g = np.array([1, 3])\n",
        "h = np.array([2, 6])\n",
        "\n",
        "gh_matrix = np.stack((g, h))\n",
        "\n",
        "res6 = np.linalg.matrix_rank(gh_matrix)\n",
        "```\n",
        "\n"
      ]
    },
    {
      "cell_type": "code",
      "metadata": {
        "id": "XH-BlPKl5Ofa"
      },
      "source": [
        "# 이곳에 답안을 작성하시기 바랍니다\n",
        "l = np.array([1, 2, 3])\n",
        "m = np.array([-1, 0, 7])\n",
        "n = np.array([4, 8, 2])"
      ],
      "execution_count": 12,
      "outputs": []
    },
    {
      "cell_type": "code",
      "metadata": {
        "id": "7EixvMtDDw0N"
      },
      "source": [
        "def isEqualD(v1, v2) :\n",
        "  length = len(v1)\n",
        "  n = v1[0] / v2[0]\n",
        "  if np.array_equal(v1 / n, v2) :\n",
        "    return True\n",
        "  return False"
      ],
      "execution_count": 13,
      "outputs": []
    },
    {
      "cell_type": "code",
      "metadata": {
        "id": "T1omZ7M0Hr37",
        "outputId": "d2939d43-b1e7-42e2-8b83-02529fffa594",
        "colab": {
          "base_uri": "https://localhost:8080/"
        }
      },
      "source": [
        "vec = np.array([l, m, n])\n",
        "res7 = len((vec))\n",
        "vec[0]"
      ],
      "execution_count": 14,
      "outputs": [
        {
          "output_type": "execute_result",
          "data": {
            "text/plain": [
              "array([1, 2, 3])"
            ]
          },
          "metadata": {},
          "execution_count": 14
        }
      ]
    },
    {
      "cell_type": "code",
      "metadata": {
        "id": "B-Mb3QepDwqN",
        "outputId": "4a7d34e8-2de7-40b1-bdc8-8fa6dfeb2eca",
        "colab": {
          "base_uri": "https://localhost:8080/"
        }
      },
      "source": [
        "vec = np.array([l, m, n])\n",
        "res7 = len((vec))\n",
        "\n",
        "for n in range(0, len(vec)-1) :\n",
        "  for m in range(n+1, len(vec)) :\n",
        "    # print(vec[n], vec[m])\n",
        "    if isEqualD(vec[int(n)], vec[int(m)]) == True :\n",
        "      res7 = res7 - 1\n",
        "\n",
        "res7"
      ],
      "execution_count": 15,
      "outputs": [
        {
          "output_type": "execute_result",
          "data": {
            "text/plain": [
              "3"
            ]
          },
          "metadata": {},
          "execution_count": 15
        }
      ]
    },
    {
      "cell_type": "markdown",
      "metadata": {
        "id": "m9NCbm3lKCmg"
      },
      "source": [
        "\"'int' object is not subscriptable\"가 발생했는데, 실제 값을 찍어보니 벡터가 아니라 스칼라값이 들어있었다.\n",
        "\n",
        "그 원인은 원본값(l,m,n)이 밑에 함수를 여러번 실행하다보니 변경(손상?) 되어있던 것!\n",
        "\n",
        "python은 view형식이다.. copy가 아니다..! 대입할 때 주의"
      ]
    },
    {
      "cell_type": "markdown",
      "metadata": {
        "id": "IpJwt9kw6v8U"
      },
      "source": [
        "## 5. 다음 매트릭스의 rank를 구하세요\n",
        "\n",
        "\\begin{align}\n",
        "P = \\begin{bmatrix} \n",
        "0 & 2 & 5 \\\\\n",
        " 3 & 6 & 12 \\\\\n",
        "3 & 2 & 2\n",
        "\\end{bmatrix}\n",
        "\\end{align}"
      ]
    },
    {
      "cell_type": "markdown",
      "metadata": {
        "id": "zipwZ5kCS6NS"
      },
      "source": [
        "\n",
        "\n",
        "```\n",
        "mat_p = np.array([[0, 2, 5], [3, 6, 12], [3, 2, 2]])\n",
        "\n",
        "res8 = np.linalg.matrix_rank(mat_p)\n",
        "```\n",
        "\n"
      ]
    },
    {
      "cell_type": "code",
      "metadata": {
        "id": "oAS0xFtYOtit"
      },
      "source": [
        "p = np.array([[0, 2, 5], [3, 6, 12], [3, 2, 2]])"
      ],
      "execution_count": 16,
      "outputs": []
    },
    {
      "cell_type": "code",
      "metadata": {
        "id": "Np35i50mcG0h",
        "outputId": "4fa75319-f6fb-4fa2-a8e0-0b180281d854",
        "colab": {
          "base_uri": "https://localhost:8080/"
        }
      },
      "source": [
        "np.linalg.matrix_rank(p)"
      ],
      "execution_count": 17,
      "outputs": [
        {
          "output_type": "execute_result",
          "data": {
            "text/plain": [
              "2"
            ]
          },
          "metadata": {},
          "execution_count": 17
        }
      ]
    },
    {
      "cell_type": "markdown",
      "metadata": {
        "id": "TKkrPwRM-Oar"
      },
      "source": [
        "# 🔥 도전과제 \n",
        "\n",
        "주어진 데이터 (x, y)에 대해서 `y = x` 라는 벡터에 대해 projection을 계산하는 함수를 작성하세요. \n",
        "- (x, y) 는 (0, 0) 에서 (x, y)로 가는 벡터라 가정합니다.\n",
        "\n",
        "이후\n",
        "\n",
        "- 입력된 데이터를 파란색 선으로, \n",
        "- `y = x` 라는 벡터를 빨간색 선으로, 마지막으로 \n",
        "- projection 된 선을 녹색 점선(dashed)으로 그래프에 그리세요."
      ]
    },
    {
      "cell_type": "code",
      "metadata": {
        "id": "cp52kZra-ykj"
      },
      "source": [
        "v = [7, 4]\n",
        "\n",
        "def myProjection(v):\n",
        "  v = np.array(v)\n",
        "  w = np.array([15, 15])\n",
        "  v_proj = (np.dot(v,w) / np.dot(w,w)) * w\n",
        "  return v_proj\n",
        "\n",
        "vprime = myProjection(v)"
      ],
      "execution_count": 18,
      "outputs": []
    },
    {
      "cell_type": "code",
      "metadata": {
        "id": "TqG01_Jmo_Br",
        "outputId": "2d52b4e5-67aa-4a61-f4d0-5d5899947106",
        "colab": {
          "base_uri": "https://localhost:8080/",
          "height": 432
        }
      },
      "source": [
        "import matplotlib.pyplot as plt\n",
        "\n",
        "x = np.linspace(0, 10, 20)\n",
        "y = x*1\n",
        "\n",
        "plt.figure(figsize = (7, 7))\n",
        "\n",
        "plt.xlim((0,10))\n",
        "plt.ylim((0,10))\n",
        "plt.arrow(0,0,7,4, color='blue', head_width=0.2)\n",
        "plt.plot(x,y, color='red')\n",
        "plt.arrow(0, 0, vprime[0], vprime[1], color = 'green', linestyle = '--', head_width = 0.2, linewidth = 2)\n",
        "plt.plot([7, vprime[0]], [4, vprime[1]], color = 'gray', linestyle = '--')\n",
        "\n",
        "plt.show()"
      ],
      "execution_count": 19,
      "outputs": [
        {
          "output_type": "display_data",
          "data": {
            "image/png": "[encoded data removed]",
            "text/plain": [
              "<Figure size 504x504 with 1 Axes>"
            ]
          },
          "metadata": {
            "needs_background": "light"
          }
        }
      ]
    }
  ]
}