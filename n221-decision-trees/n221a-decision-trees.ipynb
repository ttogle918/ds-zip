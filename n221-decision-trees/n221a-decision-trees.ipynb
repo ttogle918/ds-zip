{
  "nbformat": 4,
  "nbformat_minor": 0,
  "metadata": {
    "kernelspec": {
      "display_name": "Python 3",
      "language": "python",
      "name": "python3"
    },
    "language_info": {
      "codemirror_mode": {
        "name": "ipython",
        "version": 3
      },
      "file_extension": ".py",
      "mimetype": "text/x-python",
      "name": "python",
      "nbconvert_exporter": "python",
      "pygments_lexer": "ipython3",
      "version": "3.7.7"
    },
    "colab": {
      "name": "n221a-decision-trees",
      "provenance": [],
      "collapsed_sections": [],
      "include_colab_link": true
    },
    "accelerator": "GPU"
  },
  "cells": [
    {
      "cell_type": "markdown",
      "metadata": {
        "id": "view-in-github",
        "colab_type": "text"
      },
      "source": [
        "<a href=\"https://colab.research.google.com/github/ttogle918/ds-section2-sprint2/blob/main/n221-decision-trees/n221a-decision-trees.ipynb\" target=\"_parent\"><img src=\"https://colab.research.google.com/assets/colab-badge.svg\" alt=\"Open In Colab\"/></a>"
      ]
    },
    {
      "cell_type": "markdown",
      "metadata": {
        "id": "MFMvqS8sNtC0"
      },
      "source": [
        "<img align=\"right\" src=\"https://ds-cs-images.s3.ap-northeast-2.amazonaws.com/Codestates_Fulllogo_Color.png\" width=100>\n",
        "\n",
        "## *AIB / SECTION 2 / SPRINT 2 / NOTE 1*\n",
        "\n",
        "# 📝 Assignment\n",
        "---"
      ]
    },
    {
      "cell_type": "code",
      "metadata": {
        "id": "7-TWZ70zJFMW"
      },
      "source": [
        "# !pip install category_encoders"
      ],
      "execution_count": 1,
      "outputs": []
    },
    {
      "cell_type": "code",
      "metadata": {
        "id": "njQJgYMuJKAs"
      },
      "source": [
        "# !pip uninstall pandas_profiling\n",
        "# !pip install pandas_profiling\n",
        "# !pip show pandas_profiling"
      ],
      "execution_count": 2,
      "outputs": []
    },
    {
      "cell_type": "markdown",
      "metadata": {
        "id": "_-5S1tIYxGJa"
      },
      "source": [
        "1 : True(H1N1 예방에 도움이 됨 ) 0 : False\n",
        "- behavioral_antiviral_meds - 항바이러스제 복용\n",
        "- behavioral_avoidance - 독감과 유사한 증상이 있는 다른 사람과의 긴밀한 접촉을 피함\n",
        "- behavioral_face_mask - 안면 마스크 구입\n",
        "- behavioral_wash_hands - 손을 자주 씻거나 손 소독제를 사용\n",
        "- behavioral_large_gatherings - 대규모 모임에서 시간을 단축\n",
        "- behavioral_outside_home - 가족 외 사람들과의 접촉이 줆\n",
        "- behavioral_touch_face - 눈, 코 또는 입을 만지는 것을 피함\n",
        "- Doctor_recc_h1n1 - 의사가 H1N1 독감 백신을 권장\n",
        "- Doctor_recc_seasonal - 의사가 계절성 독감 백신을 권장\n",
        "\n",
        "------\n",
        "- Chronic_med_condition - 천식 또는 기타 폐 질환, 당뇨병, 심장 질환, 신장 질환, 겸상적혈구 빈혈 또는 기타 빈혈, 신경계 또는 신경근 질환, 간 질환 또는 면역 체계 약화와 같은 만성 질환이 있는 경우 만성 질환이나 만성 질환을 위해 복용하는 약으로 인해 발생합니다. (바이너리)\n",
        "- child_under_6_months - 6개월 미만의 어린이와 정기적으로 긴밀한 접촉을 합니다. (바이너리)\n",
        "- health_insurance - 건강 보험이 있습니다. (바이너리)\n",
        "- health_worker - 의료 종사자입니다. (바이너리)\n",
        "\n",
        "- comment_h1n1_vacc_effective - H1N1 백신 효과에 대한 응답자의 의견. 전혀 효과적이지 않습니다. 그다지 효과적이지 않습니다. 모르겠어; 다소 효과적입니다. 매우 효과적\n",
        "\n",
        "- comment_h1n1_risk - 백신 없이 H1N1 독감에 걸릴 위험에 대한 응답자의 의견. 매우 낮은; 다소 낮은; 모르겠어; 다소 높음; 매우 높음\n",
        "- comment_h1n1_sick_from_vacc - 응답자의 H1N1 백신 접종으로 인한 질병에 대한 걱정. 전혀 걱정하지 않습니다. 별로 걱정하지 않습니다. 모르겠어; 약간 걱정됨; 매우 걱정\n",
        "- comment_seas_vacc_effective - 계절 독감 백신 효과에 대한 응답자의 의견. 전혀 효과적이지 않습니다. 그다지 효과적이지 않습니다. 모르겠어; 다소 효과적입니다. 매우 효과적\n",
        "- comment_seas_risk - 백신 없이 계절성 독감에 걸릴 위험에 대한 응답자의 의견. 매우 낮은; 다소 낮은; 모르겠어; 다소 높음; 매우 높음\n",
        "- comment_seas_sick_from_vacc - 응답자의 계절성 독감 백신 접종으로 인한 질병에 대한 걱정. 전혀 걱정하지 않습니다. 별로 걱정하지 않습니다. 모르겠어; 약간 걱정됨; 매우 걱정\n",
        "- agegrp - 응답자의 연령 그룹입니다. 6개월 - 9세 10 - 17세; 18 - 34세; 35 - 44세; 45 - 54세; 55 - 64세; 65세 이상\n",
        "- Education_comp - 자체 보고 교육 수준.\n",
        "1 = < 12년; 2 = 12년; 3 = 일부 대학; 4 = 대학 졸업자\n",
        "- raceeth4_i - 응답자의 인종.\n",
        "1 = 히스패닉; 2 = 비히스패닉, 흑인 전용; 3 = 비히스패닉, 백인 전용; 4 = 비히스패닉, 기타 또는 여러 인종\n",
        "- sex_i - 응답자의 성별.\n",
        "1 = 남성 2 = 여성 2\n",
        "-inc_pov - 2008년 인구 조사 빈곤 임계값에 대한 응답자의 가구 연간 소득.\n",
        "1 = > $75,000; 2 = <= $75,000; 3 = 빈곤 이하; 4 = 알 수 없음\n",
        "결혼 - 응답자의 결혼 상태.\n",
        "1 = 기혼 2 = 미혼\n",
        "- rent_own_r - 응답자의 주택 상황.\n",
        "1 = 주택 소유; 2 = 주택 임대 또는 기타 계약\n",
        "고용_상태 - 응답자의 고용 상태입니다.\n",
        "고용; 노동력이 아닙니다. 한가한\n",
        "\n",
        "- census_region - 실제 인구 조사 거주 지역(1=북동쪽, 2=중서부, 3=남쪽, 4=서쪽)\n",
        "census_msa - 미국 인구조사에서 정의한 대도시 통계 지역(MSA) 내의 응답자 거주지.\n",
        "- n_adult_r - 가족의 다른 성인 수.\n",
        "- family_children - 가구의 자녀 수.\n",
        "- n_people_r - 가구의 성인 수.\n",
        "고용_산업 - 응답자가 고용된 산업 유형입니다.\n",
        "고용_직업 - 응답자의 직업 유형. 값은 짧은 임의의 문자열로 표시됩니다.\n",
        "- hhs_region - HHS 감시 지역 번호\n",
        "\n",
        "  1. 지역 1: CT,ME,MA,NH,RI,VT\n",
        "  2. 지역 2: 뉴저지,뉴욕\n",
        "  3. 지역 3: DE,DC,MD,PA,VA,WV\n",
        "  4. 지역 4: AL,FL,GA,KY,MS,NC,SC,TN\n",
        "  5. 지역 5: IL,IN,MI,MN,OH,WI\n",
        "  6. 지역 6: AR,LA,NM,OK,TX\n",
        "  7. 지역 7: IA,KS,MO,NE\n",
        "  8. 지역 8: CO,MT,ND,SD,UT,WY\n",
        "  9. 지역 9: AZ,CA,HI,NV\n",
        "  10. 지역 10: AK,ID,OR,WA\n",
        "주 - 거주 주"
      ]
    },
    {
      "cell_type": "markdown",
      "metadata": {
        "id": "xtmUWt2ANtC3"
      },
      "source": [
        "# Decision Trees(결정트리)"
      ]
    },
    {
      "cell_type": "markdown",
      "metadata": {
        "id": "bxkLmvbENtC4"
      },
      "source": [
        "## 캐글 인클래스(InClass) Competitions\n",
        "\n",
        "### 1) 대회 참여(Join) 및 데이터셋 준비\n",
        "\n",
        "- [캐글 계정을 만드세요](https://www.kaggle.com/), 공유된 인클래스 대회 url을 통해 이동한 후 대회에 참여하세요.\n",
        "- H1N1 데이터를 훈련/검증/테스트 셋으로 나누어 준비하세요\n",
        "- **(객관식) 훈련데이터셋을 사용해 H1N1 타겟으로 기준모델을 설정하세요. 기준모델의 정확도를 제출하세요.**\n",
        "    1. 0.24\n",
        "    2. 0.50\n",
        "    3. 0.76\n",
        "    4. 1\n"
      ]
    },
    {
      "cell_type": "code",
      "metadata": {
        "colab": {
          "base_uri": "https://localhost:8080/"
        },
        "id": "ABjh2VxH6Vyr",
        "outputId": "be672923-6b41-4fc3-82a9-8a8d06bbea34"
      },
      "source": [
        "# google 드라이브에 로컬 파일 업로드\n",
        "from google.colab import files, drive\n",
        "drive.mount('/content/drive')"
      ],
      "execution_count": 3,
      "outputs": [
        {
          "output_type": "stream",
          "name": "stdout",
          "text": [
            "Drive already mounted at /content/drive; to attempt to forcibly remount, call drive.mount(\"/content/drive\", force_remount=True).\n"
          ]
        }
      ]
    },
    {
      "cell_type": "code",
      "metadata": {
        "id": "qkBRjWZUNtC5"
      },
      "source": [
        "import pandas as pd\n",
        "target = 'vacc_h1n1_f'\n",
        "train = pd.merge(pd.read_csv(\"/content/drive/MyDrive/Colab Notebooks/code_states/train.csv\"),\n",
        "                 pd.read_csv(\"/content/drive/MyDrive/Colab Notebooks/code_states/train_labels.csv\")[target],\n",
        "                 left_index=True, right_index=True)\n",
        "test = pd.read_csv(\"/content/drive/MyDrive/Colab Notebooks/code_states/test.csv\")\n",
        "submission = pd.read_csv(\"/content/drive/MyDrive/Colab Notebooks/code_states/submission.csv\")"
      ],
      "execution_count": 4,
      "outputs": []
    },
    {
      "cell_type": "markdown",
      "metadata": {
        "id": "GHoSeso3NtC6"
      },
      "source": [
        "### 2) 데이터 EDA 및 특성공학 수행\n",
        "- profiling을 사용하여 데이터를 살펴보고, missing value, zeros, cardinarity 등을 확인하여 처리하세요.\n",
        "- 본인만의 특성공학을 수행하세요.\n"
      ]
    },
    {
      "cell_type": "markdown",
      "metadata": {
        "id": "oCKU0DxTnc9q"
      },
      "source": [
        "1. 중복값 확인\n",
        "2. 결측치 확인\n",
        "3. 불필요한 컬럼 제거\n"
      ]
    },
    {
      "cell_type": "code",
      "metadata": {
        "id": "NBKJgYnPiCuH",
        "colab": {
          "base_uri": "https://localhost:8080/"
        },
        "outputId": "306340d4-f3c6-4a4c-8ceb-f2da13ded385"
      },
      "source": [
        "train.T.duplicated()  # 중복값 없음."
      ],
      "execution_count": 5,
      "outputs": [
        {
          "output_type": "execute_result",
          "data": {
            "text/plain": [
              "h1n1_concern                   False\n",
              "h1n1_knowledge                 False\n",
              "behavioral_antiviral_meds      False\n",
              "behavioral_avoidance           False\n",
              "behavioral_face_mask           False\n",
              "behavioral_wash_hands          False\n",
              "behavioral_large_gatherings    False\n",
              "behavioral_outside_home        False\n",
              "behavioral_touch_face          False\n",
              "doctor_recc_h1n1               False\n",
              "doctor_recc_seasonal           False\n",
              "chronic_med_condition          False\n",
              "child_under_6_months           False\n",
              "health_insurance               False\n",
              "health_worker                  False\n",
              "opinion_h1n1_vacc_effective    False\n",
              "opinion_h1n1_risk              False\n",
              "opinion_h1n1_sick_from_vacc    False\n",
              "opinion_seas_vacc_effective    False\n",
              "opinion_seas_risk              False\n",
              "opinion_seas_sick_from_vacc    False\n",
              "agegrp                         False\n",
              "education_comp                 False\n",
              "raceeth4_i                     False\n",
              "sex_i                          False\n",
              "inc_pov                        False\n",
              "marital                        False\n",
              "rent_own_r                     False\n",
              "employment_status              False\n",
              "census_region                  False\n",
              "census_msa                     False\n",
              "n_adult_r                      False\n",
              "household_children             False\n",
              "n_people_r                     False\n",
              "employment_industry            False\n",
              "employment_occupation          False\n",
              "hhs_region                     False\n",
              "state                          False\n",
              "vacc_h1n1_f                    False\n",
              "dtype: bool"
            ]
          },
          "metadata": {},
          "execution_count": 5
        }
      ]
    },
    {
      "cell_type": "code",
      "metadata": {
        "id": "njMjeZ9ukOCL",
        "colab": {
          "base_uri": "https://localhost:8080/"
        },
        "outputId": "cd044693-5eb3-40b1-934a-6ceb17825477"
      },
      "source": [
        "test.T.duplicated() # 중복값 없음."
      ],
      "execution_count": 6,
      "outputs": [
        {
          "output_type": "execute_result",
          "data": {
            "text/plain": [
              "h1n1_concern                   False\n",
              "h1n1_knowledge                 False\n",
              "behavioral_antiviral_meds      False\n",
              "behavioral_avoidance           False\n",
              "behavioral_face_mask           False\n",
              "behavioral_wash_hands          False\n",
              "behavioral_large_gatherings    False\n",
              "behavioral_outside_home        False\n",
              "behavioral_touch_face          False\n",
              "doctor_recc_h1n1               False\n",
              "doctor_recc_seasonal           False\n",
              "chronic_med_condition          False\n",
              "child_under_6_months           False\n",
              "health_insurance               False\n",
              "health_worker                  False\n",
              "opinion_h1n1_vacc_effective    False\n",
              "opinion_h1n1_risk              False\n",
              "opinion_h1n1_sick_from_vacc    False\n",
              "opinion_seas_vacc_effective    False\n",
              "opinion_seas_risk              False\n",
              "opinion_seas_sick_from_vacc    False\n",
              "agegrp                         False\n",
              "education_comp                 False\n",
              "raceeth4_i                     False\n",
              "sex_i                          False\n",
              "inc_pov                        False\n",
              "marital                        False\n",
              "rent_own_r                     False\n",
              "employment_status              False\n",
              "census_region                  False\n",
              "census_msa                     False\n",
              "n_adult_r                      False\n",
              "household_children             False\n",
              "n_people_r                     False\n",
              "employment_industry            False\n",
              "employment_occupation          False\n",
              "hhs_region                     False\n",
              "state                          False\n",
              "dtype: bool"
            ]
          },
          "metadata": {},
          "execution_count": 6
        }
      ]
    },
    {
      "cell_type": "code",
      "metadata": {
        "id": "GKiX7wcdk2sZ",
        "colab": {
          "base_uri": "https://localhost:8080/"
        },
        "outputId": "7b2e8476-1856-4f8f-ec35-65be11c68730"
      },
      "source": [
        "train.isnull().sum()"
      ],
      "execution_count": 7,
      "outputs": [
        {
          "output_type": "execute_result",
          "data": {
            "text/plain": [
              "h1n1_concern                    8420\n",
              "h1n1_knowledge                  8420\n",
              "behavioral_antiviral_meds       8519\n",
              "behavioral_avoidance            8672\n",
              "behavioral_face_mask            8444\n",
              "behavioral_wash_hands           8471\n",
              "behavioral_large_gatherings     8514\n",
              "behavioral_outside_home         8521\n",
              "behavioral_touch_face           8583\n",
              "doctor_recc_h1n1                1885\n",
              "doctor_recc_seasonal            1885\n",
              "chronic_med_condition           1317\n",
              "child_under_6_months            9449\n",
              "health_insurance               19421\n",
              "health_worker                   9430\n",
              "opinion_h1n1_vacc_effective     8779\n",
              "opinion_h1n1_risk               8825\n",
              "opinion_h1n1_sick_from_vacc     8869\n",
              "opinion_seas_vacc_effective     8934\n",
              "opinion_seas_risk               9001\n",
              "opinion_seas_sick_from_vacc     9065\n",
              "agegrp                             0\n",
              "education_comp                 10166\n",
              "raceeth4_i                         0\n",
              "sex_i                              0\n",
              "inc_pov                            0\n",
              "marital                        10199\n",
              "rent_own_r                      2196\n",
              "employment_status              10278\n",
              "census_region                      0\n",
              "census_msa                         0\n",
              "n_adult_r                        309\n",
              "household_children               309\n",
              "n_people_r                       134\n",
              "employment_industry            24989\n",
              "employment_occupation          24989\n",
              "hhs_region                         0\n",
              "state                              0\n",
              "vacc_h1n1_f                        0\n",
              "dtype: int64"
            ]
          },
          "metadata": {},
          "execution_count": 7
        }
      ]
    },
    {
      "cell_type": "code",
      "metadata": {
        "id": "RDdH4F-5k5rU",
        "colab": {
          "base_uri": "https://localhost:8080/"
        },
        "outputId": "41ce3f1f-faa0-44cb-e8b8-cd999f5d50f8"
      },
      "source": [
        "test.isnull().sum()"
      ],
      "execution_count": 8,
      "outputs": [
        {
          "output_type": "execute_result",
          "data": {
            "text/plain": [
              "h1n1_concern                    5612\n",
              "h1n1_knowledge                  5612\n",
              "behavioral_antiviral_meds       5672\n",
              "behavioral_avoidance            5810\n",
              "behavioral_face_mask            5626\n",
              "behavioral_wash_hands           5648\n",
              "behavioral_large_gatherings     5683\n",
              "behavioral_outside_home         5682\n",
              "behavioral_touch_face           5720\n",
              "doctor_recc_h1n1                1207\n",
              "doctor_recc_seasonal            1207\n",
              "chronic_med_condition            854\n",
              "child_under_6_months            6291\n",
              "health_insurance               12740\n",
              "health_worker                   6270\n",
              "opinion_h1n1_vacc_effective     5864\n",
              "opinion_h1n1_risk               5903\n",
              "opinion_h1n1_sick_from_vacc     5933\n",
              "opinion_seas_vacc_effective     5957\n",
              "opinion_seas_risk               5993\n",
              "opinion_seas_sick_from_vacc     6035\n",
              "agegrp                             0\n",
              "education_comp                  6811\n",
              "raceeth4_i                         0\n",
              "sex_i                              0\n",
              "inc_pov                            0\n",
              "marital                         6823\n",
              "rent_own_r                      1440\n",
              "employment_status               6830\n",
              "census_region                      0\n",
              "census_msa                         0\n",
              "n_adult_r                        185\n",
              "household_children               185\n",
              "n_people_r                        84\n",
              "employment_industry            16671\n",
              "employment_occupation          16671\n",
              "hhs_region                         0\n",
              "state                              0\n",
              "dtype: int64"
            ]
          },
          "metadata": {},
          "execution_count": 8
        }
      ]
    },
    {
      "cell_type": "markdown",
      "metadata": {
        "id": "1FZFCdkOlRjk"
      },
      "source": [
        "**결측치 수 많음**\n",
        "1. employment_industry\n",
        "2. employment_occupation\n",
        "3. health_insurance\n",
        "\n",
        "-> cardinality 확인하여 너무 많은 컬럼은 drop"
      ]
    },
    {
      "cell_type": "code",
      "metadata": {
        "id": "m7gxqQbSmt8t",
        "colab": {
          "base_uri": "https://localhost:8080/",
          "height": 421
        },
        "outputId": "10e412a6-ab09-457d-c85f-0de16c084482"
      },
      "source": [
        "# cardinality 확인 (one-hot-encording할 때 몇개의 차원이 될지)\n",
        "train.describe(exclude='number').T.sort_values(by='unique')"
      ],
      "execution_count": 9,
      "outputs": [
        {
          "output_type": "execute_result",
          "data": {
            "text/html": [
              "<div>\n",
              "<style scoped>\n",
              "    .dataframe tbody tr th:only-of-type {\n",
              "        vertical-align: middle;\n",
              "    }\n",
              "\n",
              "    .dataframe tbody tr th {\n",
              "        vertical-align: top;\n",
              "    }\n",
              "\n",
              "    .dataframe thead th {\n",
              "        text-align: right;\n",
              "    }\n",
              "</style>\n",
              "<table border=\"1\" class=\"dataframe\">\n",
              "  <thead>\n",
              "    <tr style=\"text-align: right;\">\n",
              "      <th></th>\n",
              "      <th>count</th>\n",
              "      <th>unique</th>\n",
              "      <th>top</th>\n",
              "      <th>freq</th>\n",
              "    </tr>\n",
              "  </thead>\n",
              "  <tbody>\n",
              "    <tr>\n",
              "      <th>employment_status</th>\n",
              "      <td>31876</td>\n",
              "      <td>3</td>\n",
              "      <td>Employed</td>\n",
              "      <td>17173</td>\n",
              "    </tr>\n",
              "    <tr>\n",
              "      <th>census_msa</th>\n",
              "      <td>42154</td>\n",
              "      <td>3</td>\n",
              "      <td>MSA, Not Principle City</td>\n",
              "      <td>18957</td>\n",
              "    </tr>\n",
              "    <tr>\n",
              "      <th>opinion_h1n1_vacc_effective</th>\n",
              "      <td>33375</td>\n",
              "      <td>6</td>\n",
              "      <td>Somewhat Effective</td>\n",
              "      <td>14729</td>\n",
              "    </tr>\n",
              "    <tr>\n",
              "      <th>opinion_h1n1_risk</th>\n",
              "      <td>33329</td>\n",
              "      <td>6</td>\n",
              "      <td>Somewhat Low</td>\n",
              "      <td>12520</td>\n",
              "    </tr>\n",
              "    <tr>\n",
              "      <th>opinion_h1n1_sick_from_vacc</th>\n",
              "      <td>33285</td>\n",
              "      <td>6</td>\n",
              "      <td>Not Very Worried</td>\n",
              "      <td>11582</td>\n",
              "    </tr>\n",
              "    <tr>\n",
              "      <th>opinion_seas_vacc_effective</th>\n",
              "      <td>33220</td>\n",
              "      <td>6</td>\n",
              "      <td>Somewhat Effective</td>\n",
              "      <td>14543</td>\n",
              "    </tr>\n",
              "    <tr>\n",
              "      <th>opinion_seas_risk</th>\n",
              "      <td>33153</td>\n",
              "      <td>6</td>\n",
              "      <td>Somewhat Low</td>\n",
              "      <td>11397</td>\n",
              "    </tr>\n",
              "    <tr>\n",
              "      <th>opinion_seas_sick_from_vacc</th>\n",
              "      <td>33089</td>\n",
              "      <td>6</td>\n",
              "      <td>Not At All Worried</td>\n",
              "      <td>14749</td>\n",
              "    </tr>\n",
              "    <tr>\n",
              "      <th>agegrp</th>\n",
              "      <td>42154</td>\n",
              "      <td>7</td>\n",
              "      <td>65+ Years</td>\n",
              "      <td>8517</td>\n",
              "    </tr>\n",
              "    <tr>\n",
              "      <th>employment_industry</th>\n",
              "      <td>17165</td>\n",
              "      <td>23</td>\n",
              "      <td>Health Care and Social Assistance Industries</td>\n",
              "      <td>3086</td>\n",
              "    </tr>\n",
              "    <tr>\n",
              "      <th>employment_occupation</th>\n",
              "      <td>17165</td>\n",
              "      <td>25</td>\n",
              "      <td>Management Occupations</td>\n",
              "      <td>2188</td>\n",
              "    </tr>\n",
              "    <tr>\n",
              "      <th>state</th>\n",
              "      <td>42154</td>\n",
              "      <td>51</td>\n",
              "      <td>NEW MEXICO</td>\n",
              "      <td>1017</td>\n",
              "    </tr>\n",
              "  </tbody>\n",
              "</table>\n",
              "</div>"
            ],
            "text/plain": [
              "                             count  ...   freq\n",
              "employment_status            31876  ...  17173\n",
              "census_msa                   42154  ...  18957\n",
              "opinion_h1n1_vacc_effective  33375  ...  14729\n",
              "opinion_h1n1_risk            33329  ...  12520\n",
              "opinion_h1n1_sick_from_vacc  33285  ...  11582\n",
              "opinion_seas_vacc_effective  33220  ...  14543\n",
              "opinion_seas_risk            33153  ...  11397\n",
              "opinion_seas_sick_from_vacc  33089  ...  14749\n",
              "agegrp                       42154  ...   8517\n",
              "employment_industry          17165  ...   3086\n",
              "employment_occupation        17165  ...   2188\n",
              "state                        42154  ...   1017\n",
              "\n",
              "[12 rows x 4 columns]"
            ]
          },
          "metadata": {},
          "execution_count": 9
        }
      ]
    },
    {
      "cell_type": "code",
      "metadata": {
        "id": "xdI-ZGP6mY7a",
        "colab": {
          "base_uri": "https://localhost:8080/"
        },
        "outputId": "42f57131-33ba-453c-f724-ac253c9888bd"
      },
      "source": [
        "print(\"employment_industry 값 보기\\n\",train[\"employment_industry\"].value_counts())\n",
        "print(\"결측치 : \", train[\"employment_industry\"].isnull().sum())"
      ],
      "execution_count": 10,
      "outputs": [
        {
          "output_type": "stream",
          "name": "stdout",
          "text": [
            "employment_industry 값 보기\n",
            " Health Care and Social Assistance Industries                     3086\n",
            "Education Services Industries                                    2298\n",
            "Professional, Scientific, and Technical Services Industries      1535\n",
            "Retail Trade Industries                                          1360\n",
            "Construction Industries                                          1115\n",
            "Public Administration Industries                                 1103\n",
            "Manufacturing Industries                                         1062\n",
            "Finance and Insurance Industries                                  778\n",
            "Other Services (except Public)                                    717\n",
            "Accommodation and Food Services Industries                        672\n",
            "Transportation and Warehousing Industries                         637\n",
            "Information Industries                                            426\n",
            "Administrative and Support and Waste Management                   416\n",
            "Agriculture, Forestry, Fishing, and Hunting Industries            377\n",
            "Arts, Entertainment, and Recreation Industries Administration     353\n",
            "Real Estate and Rental and Leasing Industries                     272\n",
            "Wholesale Trade Industries                                        265\n",
            "Armed Forces                                                      194\n",
            "Not ascertained                                                   177\n",
            "Utilities Industries                                              165\n",
            "Mining Industries                                                 109\n",
            "Refused, classified                                                40\n",
            "Management of Companies and Enterprises Industries                  8\n",
            "Name: employment_industry, dtype: int64\n",
            "결측치 :  24989\n"
          ]
        }
      ]
    },
    {
      "cell_type": "code",
      "metadata": {
        "id": "NGjAylOWmZWn",
        "colab": {
          "base_uri": "https://localhost:8080/"
        },
        "outputId": "3249db7f-854e-4f98-bcbc-7e61d02acee0"
      },
      "source": [
        "print(\"employment_occupation 값 보기\\n\",train[\"employment_occupation\"].value_counts())\n",
        "print(\"결측치 : \", train[\"employment_occupation\"].isnull().sum())"
      ],
      "execution_count": 11,
      "outputs": [
        {
          "output_type": "stream",
          "name": "stdout",
          "text": [
            "employment_occupation 값 보기\n",
            " Management Occupations                                       2188\n",
            "Office and Administrative Support Occupations                1931\n",
            "Education, Training, and Library Occupations                 1609\n",
            "Healthcare Practitioners and Technical Occupations           1535\n",
            "Sales and Related Occupations                                1404\n",
            "Business and Financial Operations Occupations                 946\n",
            "Construction and Extraction Occupations                       672\n",
            "Production Occupations                                        614\n",
            "Transportation and Material Moving Occupations                612\n",
            "Computer and Mathematical Occupations                         589\n",
            "Food Preparation and Serving Related Occupations              523\n",
            "Arts, Design, Entertainment, Sports and Media Occupations     457\n",
            "Architecture and Engineering Occupations                      447\n",
            "Community and Social Services Occupations                     435\n",
            "Personal Care and Service Occupations                         429\n",
            "Building and Grounds Cleaning and Maintenance Occupations     419\n",
            "Installation, Maintenance, and Repair Occupations             368\n",
            "Healthcare Support Occupations                                367\n",
            "Not ascertained                                               341\n",
            "Legal Occupations                                             293\n",
            "Life, Physical, and Social Science Occupations                291\n",
            "Protective Service Occupations                                288\n",
            "Military Specific Occupations                                 196\n",
            "Farming, Fishing, and Forestry Occupations                    135\n",
            "Refused, classified                                            76\n",
            "Name: employment_occupation, dtype: int64\n",
            "결측치 :  24989\n"
          ]
        }
      ]
    },
    {
      "cell_type": "code",
      "metadata": {
        "id": "3GPkBxyck-Qp",
        "colab": {
          "base_uri": "https://localhost:8080/"
        },
        "outputId": "a87d8bf9-3424-491e-ed99-0023675efc24"
      },
      "source": [
        "print(\"health_insurance의 값 보기\\n\",train[\"health_insurance\"].value_counts())\n",
        "print(\"결측치 : \", train[\"health_insurance\"].isnull().sum())"
      ],
      "execution_count": 12,
      "outputs": [
        {
          "output_type": "stream",
          "name": "stdout",
          "text": [
            "health_insurance의 값 보기\n",
            " 1.0    20302\n",
            "0.0     2431\n",
            "Name: health_insurance, dtype: int64\n",
            "결측치 :  19421\n"
          ]
        }
      ]
    },
    {
      "cell_type": "code",
      "metadata": {
        "id": "yTPxNf8Hlniu"
      },
      "source": [
        "train = train.drop([\"employment_industry\",\"employment_occupation\",\"state\"], axis=1)\n",
        "train_cleaned = train.copy()\n",
        "test = test.drop([\"employment_industry\",\"employment_occupation\",\"state\"], axis=1)\n",
        "test_cleaned = test.copy()"
      ],
      "execution_count": 13,
      "outputs": []
    },
    {
      "cell_type": "code",
      "metadata": {
        "id": "BaZBSfgu-tHr"
      },
      "source": [
        "# from pandas_profiling import ProfileReport\n",
        "\n",
        "# ProfileReport(train_cleaned)"
      ],
      "execution_count": 14,
      "outputs": []
    },
    {
      "cell_type": "code",
      "metadata": {
        "id": "jeiENR6WLYN9"
      },
      "source": [
        "# nan을 처리할 다른 방법 생각 -> 0으로 처리?\n",
        "# train = train.dropna(axis=0)"
      ],
      "execution_count": 15,
      "outputs": []
    },
    {
      "cell_type": "code",
      "metadata": {
        "id": "pO69y3RWw3Zt",
        "outputId": "da612d63-6e6d-4f1d-ef35-e5c69b3bb603",
        "colab": {
          "base_uri": "https://localhost:8080/"
        }
      },
      "source": [
        "set(train[\"opinion_h1n1_risk\"])"
      ],
      "execution_count": 16,
      "outputs": [
        {
          "output_type": "execute_result",
          "data": {
            "text/plain": [
              "{'Dont Know',\n",
              " 'Refused',\n",
              " 'Somewhat High',\n",
              " 'Somewhat Low',\n",
              " 'Very High',\n",
              " 'Very Low',\n",
              " nan}"
            ]
          },
          "metadata": {},
          "execution_count": 16
        }
      ]
    },
    {
      "cell_type": "code",
      "metadata": {
        "id": "El4mD277DjRB"
      },
      "source": [
        "def set_opinion_h1n1_risk(s) :\n",
        "  if s == 'Very Low' :\n",
        "    return 5\n",
        "  if s == 'Somewhat Low' :\n",
        "    return 4\n",
        "  if s == 'Dont Know' :\n",
        "    return 3\n",
        "  if s == 'Somewhat High' :\n",
        "    return 2\n",
        "  if s == 'Very High' :\n",
        "    return 1\n",
        "  return 0"
      ],
      "execution_count": 17,
      "outputs": []
    },
    {
      "cell_type": "code",
      "metadata": {
        "id": "0wkK-kT0ayM7"
      },
      "source": [
        "def set_opinion_h1n1_vacc_effective_score(s) :\n",
        "  if s == 'Very Effective' :\n",
        "    return 5\n",
        "  if s == 'Somewhat Effective' :\n",
        "    return 4\n",
        "  if s == 'Dont Know' :\n",
        "    return 3\n",
        "  if s == 'Not Very Effective' :\n",
        "    return 2\n",
        "  if s == 'Not At All Effective' :\n",
        "    return 1\n",
        "  return 0\n",
        "\n",
        "\n",
        "def set_opinion_h1n1_sick_from_vacc_score(s) :\n",
        "  if s == 'Very Effective' :\n",
        "    return 5\n",
        "  if s == 'Somewhat Effective' :\n",
        "    return 4\n",
        "  if s == 'Dont Know' :\n",
        "    return 3\n",
        "  if s == 'Not Very Effective' :\n",
        "    return 2\n",
        "  if s == 'Not At All Effective' :\n",
        "    return 1\n",
        "  return 0"
      ],
      "execution_count": 18,
      "outputs": []
    },
    {
      "cell_type": "code",
      "metadata": {
        "id": "9PuELopjargs"
      },
      "source": [
        ""
      ],
      "execution_count": 18,
      "outputs": []
    },
    {
      "cell_type": "code",
      "metadata": {
        "id": "78w-ocpXxVRW",
        "outputId": "668cd04a-bc35-4554-eee4-bb8528a90c93",
        "colab": {
          "base_uri": "https://localhost:8080/",
          "height": 199
        }
      },
      "source": [
        "train['opinion_h1n1_vacc_effective_score'] = train['opinion_h1n1_vacc_effective'].apply(set_opinion_h1n1_vacc_effective_score)\n",
        "test['opinion_h1n1_vacc_effective_score'] = test['opinion_h1n1_vacc_effective'].apply(set_opinion_h1n1_vacc_effective_score)\n",
        "train['opinion_h1n1_risk_score'] = train['opinion_h1n1_risk'].apply(set_opinion_h1n1_risk)\n",
        "test['opinion_h1n1_risk_score'] = test['opinion_h1n1_risk'].apply(set_opinion_h1n1_risk)\n",
        "train['opinion_h1n1_sick_from_vacc_score'] = train['opinion_h1n1_sick_from_vacc'].apply(set_opinion_h1n1_sick_from_vacc_score)\n",
        "test['opinion_h1n1_sick_from_vacc_score'] = test['opinion_h1n1_sick_from_vacc'].apply(set_opinion_h1n1_sick_from_vacc_score)\n",
        "\n",
        "train = train.drop(['opinion_h1n1_vacc_effective', 'opinion_h1n1_risk', 'opinion_h1n1_sick_from_vacc'], axis=1)\n",
        "test = test.drop(['opinion_h1n1_vacc_effective', 'opinion_h1n1_risk', 'opinion_h1n1_sick_from_vacc'], axis=1)\n",
        "\n",
        "test.head(2)"
      ],
      "execution_count": 19,
      "outputs": [
        {
          "output_type": "execute_result",
          "data": {
            "text/html": [
              "<div>\n",
              "<style scoped>\n",
              "    .dataframe tbody tr th:only-of-type {\n",
              "        vertical-align: middle;\n",
              "    }\n",
              "\n",
              "    .dataframe tbody tr th {\n",
              "        vertical-align: top;\n",
              "    }\n",
              "\n",
              "    .dataframe thead th {\n",
              "        text-align: right;\n",
              "    }\n",
              "</style>\n",
              "<table border=\"1\" class=\"dataframe\">\n",
              "  <thead>\n",
              "    <tr style=\"text-align: right;\">\n",
              "      <th></th>\n",
              "      <th>h1n1_concern</th>\n",
              "      <th>h1n1_knowledge</th>\n",
              "      <th>behavioral_antiviral_meds</th>\n",
              "      <th>behavioral_avoidance</th>\n",
              "      <th>behavioral_face_mask</th>\n",
              "      <th>behavioral_wash_hands</th>\n",
              "      <th>behavioral_large_gatherings</th>\n",
              "      <th>behavioral_outside_home</th>\n",
              "      <th>behavioral_touch_face</th>\n",
              "      <th>doctor_recc_h1n1</th>\n",
              "      <th>doctor_recc_seasonal</th>\n",
              "      <th>chronic_med_condition</th>\n",
              "      <th>child_under_6_months</th>\n",
              "      <th>health_insurance</th>\n",
              "      <th>health_worker</th>\n",
              "      <th>opinion_seas_vacc_effective</th>\n",
              "      <th>opinion_seas_risk</th>\n",
              "      <th>opinion_seas_sick_from_vacc</th>\n",
              "      <th>agegrp</th>\n",
              "      <th>education_comp</th>\n",
              "      <th>raceeth4_i</th>\n",
              "      <th>sex_i</th>\n",
              "      <th>inc_pov</th>\n",
              "      <th>marital</th>\n",
              "      <th>rent_own_r</th>\n",
              "      <th>employment_status</th>\n",
              "      <th>census_region</th>\n",
              "      <th>census_msa</th>\n",
              "      <th>n_adult_r</th>\n",
              "      <th>household_children</th>\n",
              "      <th>n_people_r</th>\n",
              "      <th>hhs_region</th>\n",
              "      <th>opinion_h1n1_vacc_effective_score</th>\n",
              "      <th>opinion_h1n1_risk_score</th>\n",
              "      <th>opinion_h1n1_sick_from_vacc_score</th>\n",
              "    </tr>\n",
              "  </thead>\n",
              "  <tbody>\n",
              "    <tr>\n",
              "      <th>0</th>\n",
              "      <td>0.0</td>\n",
              "      <td>1.0</td>\n",
              "      <td>0.0</td>\n",
              "      <td>0.0</td>\n",
              "      <td>0.0</td>\n",
              "      <td>0.0</td>\n",
              "      <td>0.0</td>\n",
              "      <td>0.0</td>\n",
              "      <td>0.0</td>\n",
              "      <td>0.0</td>\n",
              "      <td>0.0</td>\n",
              "      <td>1.0</td>\n",
              "      <td>0.0</td>\n",
              "      <td>0.0</td>\n",
              "      <td>1.0</td>\n",
              "      <td>Not At All Effective</td>\n",
              "      <td>Very Low</td>\n",
              "      <td>Not At All Worried</td>\n",
              "      <td>18 - 34 Years</td>\n",
              "      <td>1.0</td>\n",
              "      <td>3</td>\n",
              "      <td>2</td>\n",
              "      <td>2</td>\n",
              "      <td>2.0</td>\n",
              "      <td>1.0</td>\n",
              "      <td>Employed</td>\n",
              "      <td>2</td>\n",
              "      <td>MSA, Not Principle City</td>\n",
              "      <td>2.0</td>\n",
              "      <td>0.0</td>\n",
              "      <td>2.0</td>\n",
              "      <td>7</td>\n",
              "      <td>1</td>\n",
              "      <td>5</td>\n",
              "      <td>0</td>\n",
              "    </tr>\n",
              "    <tr>\n",
              "      <th>1</th>\n",
              "      <td>3.0</td>\n",
              "      <td>0.0</td>\n",
              "      <td>0.0</td>\n",
              "      <td>0.0</td>\n",
              "      <td>1.0</td>\n",
              "      <td>1.0</td>\n",
              "      <td>1.0</td>\n",
              "      <td>0.0</td>\n",
              "      <td>0.0</td>\n",
              "      <td>0.0</td>\n",
              "      <td>0.0</td>\n",
              "      <td>NaN</td>\n",
              "      <td>NaN</td>\n",
              "      <td>NaN</td>\n",
              "      <td>NaN</td>\n",
              "      <td>Dont Know</td>\n",
              "      <td>Dont Know</td>\n",
              "      <td>Dont Know</td>\n",
              "      <td>55 - 64 Years</td>\n",
              "      <td>NaN</td>\n",
              "      <td>3</td>\n",
              "      <td>1</td>\n",
              "      <td>4</td>\n",
              "      <td>NaN</td>\n",
              "      <td>NaN</td>\n",
              "      <td>NaN</td>\n",
              "      <td>3</td>\n",
              "      <td>MSA, Principle City</td>\n",
              "      <td>1.0</td>\n",
              "      <td>0.0</td>\n",
              "      <td>1.0</td>\n",
              "      <td>6</td>\n",
              "      <td>3</td>\n",
              "      <td>3</td>\n",
              "      <td>3</td>\n",
              "    </tr>\n",
              "  </tbody>\n",
              "</table>\n",
              "</div>"
            ],
            "text/plain": [
              "   h1n1_concern  ...  opinion_h1n1_sick_from_vacc_score\n",
              "0           0.0  ...                                  0\n",
              "1           3.0  ...                                  3\n",
              "\n",
              "[2 rows x 35 columns]"
            ]
          },
          "metadata": {},
          "execution_count": 19
        }
      ]
    },
    {
      "cell_type": "code",
      "metadata": {
        "colab": {
          "base_uri": "https://localhost:8080/",
          "height": 855
        },
        "id": "K5h3z0j2JCpn",
        "outputId": "86ee5e6f-cef6-4ac5-e5b7-d38353e28dbf"
      },
      "source": [
        "def engineer(df):\n",
        "    # 높은 카디널리티를 가지는 특성을 제거\n",
        "    selected_cols = df.select_dtypes(include=['number', 'object'])\n",
        "    labels = selected_cols.nunique() # 특성별 카디널리티 리스트\n",
        "    selected_features = labels[labels <= 30].index.tolist() # 카디널리티가 30보다 작은 특성만 선택합니다.\n",
        "    df = df[selected_features]\n",
        "    \n",
        "    behaviorals = [col for col in df.columns if 'behavioral' in col] \n",
        "    df['behaviorals'] = df[behaviorals].sum(axis=1)\n",
        "    \n",
        "    dels = [col for col in df.columns if ('seas' in col or 'behavioral_' in col)]\n",
        "    df.drop(columns=dels, inplace=True)\n",
        "\n",
        "    return df\n",
        "\n",
        "train = engineer(train)\n",
        "test = engineer(test)\n",
        "train.head(2).T"
      ],
      "execution_count": 20,
      "outputs": [
        {
          "output_type": "execute_result",
          "data": {
            "text/html": [
              "<div>\n",
              "<style scoped>\n",
              "    .dataframe tbody tr th:only-of-type {\n",
              "        vertical-align: middle;\n",
              "    }\n",
              "\n",
              "    .dataframe tbody tr th {\n",
              "        vertical-align: top;\n",
              "    }\n",
              "\n",
              "    .dataframe thead th {\n",
              "        text-align: right;\n",
              "    }\n",
              "</style>\n",
              "<table border=\"1\" class=\"dataframe\">\n",
              "  <thead>\n",
              "    <tr style=\"text-align: right;\">\n",
              "      <th></th>\n",
              "      <th>0</th>\n",
              "      <th>1</th>\n",
              "    </tr>\n",
              "  </thead>\n",
              "  <tbody>\n",
              "    <tr>\n",
              "      <th>h1n1_concern</th>\n",
              "      <td>NaN</td>\n",
              "      <td>3</td>\n",
              "    </tr>\n",
              "    <tr>\n",
              "      <th>h1n1_knowledge</th>\n",
              "      <td>NaN</td>\n",
              "      <td>1</td>\n",
              "    </tr>\n",
              "    <tr>\n",
              "      <th>doctor_recc_h1n1</th>\n",
              "      <td>0</td>\n",
              "      <td>0</td>\n",
              "    </tr>\n",
              "    <tr>\n",
              "      <th>chronic_med_condition</th>\n",
              "      <td>0</td>\n",
              "      <td>0</td>\n",
              "    </tr>\n",
              "    <tr>\n",
              "      <th>child_under_6_months</th>\n",
              "      <td>NaN</td>\n",
              "      <td>0</td>\n",
              "    </tr>\n",
              "    <tr>\n",
              "      <th>health_insurance</th>\n",
              "      <td>1</td>\n",
              "      <td>NaN</td>\n",
              "    </tr>\n",
              "    <tr>\n",
              "      <th>health_worker</th>\n",
              "      <td>NaN</td>\n",
              "      <td>0</td>\n",
              "    </tr>\n",
              "    <tr>\n",
              "      <th>agegrp</th>\n",
              "      <td>10 - 17 Years</td>\n",
              "      <td>45 - 54 Years</td>\n",
              "    </tr>\n",
              "    <tr>\n",
              "      <th>education_comp</th>\n",
              "      <td>NaN</td>\n",
              "      <td>3</td>\n",
              "    </tr>\n",
              "    <tr>\n",
              "      <th>raceeth4_i</th>\n",
              "      <td>3</td>\n",
              "      <td>3</td>\n",
              "    </tr>\n",
              "    <tr>\n",
              "      <th>sex_i</th>\n",
              "      <td>1</td>\n",
              "      <td>1</td>\n",
              "    </tr>\n",
              "    <tr>\n",
              "      <th>inc_pov</th>\n",
              "      <td>2</td>\n",
              "      <td>2</td>\n",
              "    </tr>\n",
              "    <tr>\n",
              "      <th>marital</th>\n",
              "      <td>NaN</td>\n",
              "      <td>2</td>\n",
              "    </tr>\n",
              "    <tr>\n",
              "      <th>rent_own_r</th>\n",
              "      <td>2</td>\n",
              "      <td>1</td>\n",
              "    </tr>\n",
              "    <tr>\n",
              "      <th>employment_status</th>\n",
              "      <td>NaN</td>\n",
              "      <td>Employed</td>\n",
              "    </tr>\n",
              "    <tr>\n",
              "      <th>census_region</th>\n",
              "      <td>4</td>\n",
              "      <td>2</td>\n",
              "    </tr>\n",
              "    <tr>\n",
              "      <th>census_msa</th>\n",
              "      <td>MSA, Not Principle City</td>\n",
              "      <td>MSA, Principle City</td>\n",
              "    </tr>\n",
              "    <tr>\n",
              "      <th>n_adult_r</th>\n",
              "      <td>2</td>\n",
              "      <td>1</td>\n",
              "    </tr>\n",
              "    <tr>\n",
              "      <th>household_children</th>\n",
              "      <td>3</td>\n",
              "      <td>0</td>\n",
              "    </tr>\n",
              "    <tr>\n",
              "      <th>n_people_r</th>\n",
              "      <td>5</td>\n",
              "      <td>1</td>\n",
              "    </tr>\n",
              "    <tr>\n",
              "      <th>hhs_region</th>\n",
              "      <td>9</td>\n",
              "      <td>7</td>\n",
              "    </tr>\n",
              "    <tr>\n",
              "      <th>vacc_h1n1_f</th>\n",
              "      <td>0</td>\n",
              "      <td>0</td>\n",
              "    </tr>\n",
              "    <tr>\n",
              "      <th>opinion_h1n1_vacc_effective_score</th>\n",
              "      <td>0</td>\n",
              "      <td>5</td>\n",
              "    </tr>\n",
              "    <tr>\n",
              "      <th>opinion_h1n1_risk_score</th>\n",
              "      <td>0</td>\n",
              "      <td>5</td>\n",
              "    </tr>\n",
              "    <tr>\n",
              "      <th>opinion_h1n1_sick_from_vacc_score</th>\n",
              "      <td>0</td>\n",
              "      <td>0</td>\n",
              "    </tr>\n",
              "    <tr>\n",
              "      <th>behaviorals</th>\n",
              "      <td>0</td>\n",
              "      <td>2</td>\n",
              "    </tr>\n",
              "  </tbody>\n",
              "</table>\n",
              "</div>"
            ],
            "text/plain": [
              "                                                         0                    1\n",
              "h1n1_concern                                           NaN                    3\n",
              "h1n1_knowledge                                         NaN                    1\n",
              "doctor_recc_h1n1                                         0                    0\n",
              "chronic_med_condition                                    0                    0\n",
              "child_under_6_months                                   NaN                    0\n",
              "health_insurance                                         1                  NaN\n",
              "health_worker                                          NaN                    0\n",
              "agegrp                                       10 - 17 Years        45 - 54 Years\n",
              "education_comp                                         NaN                    3\n",
              "raceeth4_i                                               3                    3\n",
              "sex_i                                                    1                    1\n",
              "inc_pov                                                  2                    2\n",
              "marital                                                NaN                    2\n",
              "rent_own_r                                               2                    1\n",
              "employment_status                                      NaN             Employed\n",
              "census_region                                            4                    2\n",
              "census_msa                         MSA, Not Principle City  MSA, Principle City\n",
              "n_adult_r                                                2                    1\n",
              "household_children                                       3                    0\n",
              "n_people_r                                               5                    1\n",
              "hhs_region                                               9                    7\n",
              "vacc_h1n1_f                                              0                    0\n",
              "opinion_h1n1_vacc_effective_score                        0                    5\n",
              "opinion_h1n1_risk_score                                  0                    5\n",
              "opinion_h1n1_sick_from_vacc_score                        0                    0\n",
              "behaviorals                                              0                    2"
            ]
          },
          "metadata": {},
          "execution_count": 20
        }
      ]
    },
    {
      "cell_type": "code",
      "metadata": {
        "id": "OSZt1G30tzcZ"
      },
      "source": [
        "# 상관계수가 필요 없다.\n",
        "# import seaborn as sns\n",
        "# corr = train_cleaned.corr()\n",
        "# df_target_corr = corr[['vacc_h1n1_f']].sort_values('vacc_h1n1_f', ascending=False)\n",
        "# drop_features = df_target_corr[abs(df_target_corr['vacc_h1n1_f']) < 0.02].index\n",
        "# train_cleaned = train_cleaned.drop(drop_features, axis=1)\n",
        "# df_target_corr"
      ],
      "execution_count": 21,
      "outputs": []
    },
    {
      "cell_type": "code",
      "metadata": {
        "id": "rtThi-u7reH-"
      },
      "source": [
        "# corr = train_cleaned.corr()\n",
        "# corr['vacc_h1n1_f']"
      ],
      "execution_count": 22,
      "outputs": []
    },
    {
      "cell_type": "code",
      "metadata": {
        "colab": {
          "base_uri": "https://localhost:8080/"
        },
        "id": "sKHKrow5N_Ik",
        "outputId": "02a6155d-1958-443a-826d-073478ed20e6"
      },
      "source": [
        "from sklearn.model_selection import train_test_split\n",
        "\n",
        "train, val = train_test_split(train, train_size=0.80, test_size=0.20, stratify=train[target], random_state=2) # divide\n",
        "train.shape, val.shape, test.shape, submission.shape"
      ],
      "execution_count": 23,
      "outputs": [
        {
          "output_type": "execute_result",
          "data": {
            "text/plain": [
              "((33723, 26), (8431, 26), (28104, 25), (28104, 2))"
            ]
          },
          "metadata": {},
          "execution_count": 23
        }
      ]
    },
    {
      "cell_type": "code",
      "metadata": {
        "id": "k2Gs9TBH866D",
        "colab": {
          "base_uri": "https://localhost:8080/"
        },
        "outputId": "f8fdeb19-d6af-4450-f9e0-5fb1b6d88951"
      },
      "source": [
        "features = train.columns\n",
        "features = features.drop(target)\n",
        "features"
      ],
      "execution_count": 24,
      "outputs": [
        {
          "output_type": "execute_result",
          "data": {
            "text/plain": [
              "Index(['h1n1_concern', 'h1n1_knowledge', 'doctor_recc_h1n1',\n",
              "       'chronic_med_condition', 'child_under_6_months', 'health_insurance',\n",
              "       'health_worker', 'agegrp', 'education_comp', 'raceeth4_i', 'sex_i',\n",
              "       'inc_pov', 'marital', 'rent_own_r', 'employment_status',\n",
              "       'census_region', 'census_msa', 'n_adult_r', 'household_children',\n",
              "       'n_people_r', 'hhs_region', 'opinion_h1n1_vacc_effective_score',\n",
              "       'opinion_h1n1_risk_score', 'opinion_h1n1_sick_from_vacc_score',\n",
              "       'behaviorals'],\n",
              "      dtype='object')"
            ]
          },
          "metadata": {},
          "execution_count": 24
        }
      ]
    },
    {
      "cell_type": "code",
      "metadata": {
        "colab": {
          "base_uri": "https://localhost:8080/"
        },
        "id": "WGgQUwrLOvWl",
        "outputId": "24c892d5-b32e-4974-b4f5-9ebae5ae2acf"
      },
      "source": [
        "x_train = train[features]\n",
        "y_train = train[target]\n",
        "x_val = val[features]\n",
        "y_val = val[target]\n",
        "x_test = test[features]\n",
        "print(len(x_train), len(y_train))"
      ],
      "execution_count": 25,
      "outputs": [
        {
          "output_type": "stream",
          "name": "stdout",
          "text": [
            "33723 33723\n"
          ]
        }
      ]
    },
    {
      "cell_type": "code",
      "metadata": {
        "colab": {
          "base_uri": "https://localhost:8080/"
        },
        "id": "FsIKhB9ZPcaw",
        "outputId": "cf5d4aae-d23a-414d-cf36-a6667c0f8f93"
      },
      "source": [
        "from sklearn.metrics import accuracy_score\n",
        "\n",
        "major = y_train.mode()[0]\n",
        "basic_model = [major] * len(y_train)\n",
        "print(\"기준모델과 훈련용 데이터 학습 정확도 :\", accuracy_score(y_train, basic_model))"
      ],
      "execution_count": 26,
      "outputs": [
        {
          "output_type": "stream",
          "name": "stdout",
          "text": [
            "기준모델과 훈련용 데이터 학습 정확도 : 0.7609346736648578\n"
          ]
        }
      ]
    },
    {
      "cell_type": "code",
      "metadata": {
        "id": "S7MpwlypeZSj",
        "outputId": "ffd8266a-9e8c-43ce-efb5-fbe507cef224",
        "colab": {
          "base_uri": "https://localhost:8080/"
        }
      },
      "source": [
        "y_pred_val = [major] * len(y_val)\n",
        "\n",
        "print(\"기준모델과 검증용 데이터 학습 정확도 :\", accuracy_score(y_val, y_pred_val))"
      ],
      "execution_count": 27,
      "outputs": [
        {
          "output_type": "stream",
          "name": "stdout",
          "text": [
            "기준모델과 검증용 데이터 학습 정확도 : 0.7610010674890286\n"
          ]
        }
      ]
    },
    {
      "cell_type": "markdown",
      "metadata": {
        "id": "SXfChANSOLvp"
      },
      "source": [
        "\n",
        "### 3) 모델링 수행\n",
        "- 결정트리를 학습시킵니다. 하이퍼파라미터를 수정하여 성능을 높여보세요. 과적합을 주의하세요!\n",
        "- 검증세트 스코어를 확인하세요.(평가지표는 F1-score입니다, 수식은 캐글 Overview-Evaluation 페이지를 확인해 주세요. 평가지표에 대한 내용은 다음에 자세히 배우고 활용할 것입니다 지금은 스코어를 올리기 위한 노력을 전혀 기울이지 말고 결정트리의 개념과 코드이해, 사용에 집중하세요!)\n",
        "- 특성중요도를 그래프로 나타내 보세요\n",
        "- **검증세트의 F1-score를 제출하세요. (0.5 이상 통과)**"
      ]
    },
    {
      "cell_type": "code",
      "metadata": {
        "id": "0pXwDA0WNNqi"
      },
      "source": [
        "# !pip install category_encoders"
      ],
      "execution_count": 28,
      "outputs": []
    },
    {
      "cell_type": "code",
      "metadata": {
        "id": "nWw6o4G4ONPz",
        "colab": {
          "base_uri": "https://localhost:8080/"
        },
        "outputId": "4b39fc84-eb11-4ebb-91e9-25b377f663b0"
      },
      "source": [
        "from category_encoders import OneHotEncoder\n",
        "from sklearn.impute import SimpleImputer\n",
        "from sklearn.tree import DecisionTreeClassifier"
      ],
      "execution_count": 29,
      "outputs": [
        {
          "output_type": "stream",
          "name": "stderr",
          "text": [
            "/usr/local/lib/python3.7/dist-packages/statsmodels/tools/_testing.py:19: FutureWarning: pandas.util.testing is deprecated. Use the functions in the public API at pandas.testing instead.\n",
            "  import pandas.util.testing as tm\n"
          ]
        }
      ]
    },
    {
      "cell_type": "code",
      "metadata": {
        "colab": {
          "base_uri": "https://localhost:8080/"
        },
        "id": "wX8ajd9aXFN6",
        "outputId": "e0cd15df-9b13-48c7-950c-7f60c4123d5c"
      },
      "source": [
        "from sklearn.pipeline import make_pipeline\n",
        "from sklearn.metrics import f1_score\n",
        "\n",
        "pipe = make_pipeline(\n",
        "    OneHotEncoder(use_cat_names=True),\n",
        "    SimpleImputer(), \n",
        "    DecisionTreeClassifier(max_depth=7, random_state=2, criterion='entropy')\n",
        ")\n",
        "\n",
        "# 모델 훈련\n",
        "pipe.fit(x_train, y_train)\n",
        "print('훈련 정확도: ', pipe.score(x_train, y_train))\n",
        "print('검증 정확도: ', pipe.score(x_val, y_val))\n",
        "\n",
        "# 검증세트로 평가\n",
        "y_pred_val = pipe.predict(x_val)\n",
        "print('검증 f1 score: ', f1_score(y_val, y_pred_val))"
      ],
      "execution_count": 30,
      "outputs": [
        {
          "output_type": "stream",
          "name": "stdout",
          "text": [
            "훈련 정확도:  0.8308276250630133\n",
            "검증 정확도:  0.8303878543470525\n",
            "검증 f1 score:  0.5661407766990292\n"
          ]
        }
      ]
    },
    {
      "cell_type": "code",
      "metadata": {
        "id": "wkyQJLgqeq3h",
        "outputId": "a8897f08-28e9-4559-c70e-8815b2a773a1",
        "colab": {
          "base_uri": "https://localhost:8080/"
        }
      },
      "source": [
        "# 시도 2\n",
        "pipe = make_pipeline(\n",
        "    OneHotEncoder(use_cat_names=True),  \n",
        "    SimpleImputer(), \n",
        "    DecisionTreeClassifier(random_state=2, criterion='entropy') \n",
        ")\n",
        "\n",
        "# 모델 훈련\n",
        "pipe.fit(x_train, y_train)\n",
        "print('훈련 정확도: ', pipe.score(x_train, y_train))\n",
        "print('검증 정확도: ', pipe.score(x_val, y_val))\n",
        "\n",
        "# 검증세트로 평가\n",
        "y_pred_val = pipe.predict(x_val)\n",
        "print('검증 f1 score: ', f1_score(y_val, y_pred_val))"
      ],
      "execution_count": 32,
      "outputs": [
        {
          "output_type": "stream",
          "name": "stdout",
          "text": [
            "훈련 정확도:  0.9908667674880646\n",
            "검증 정확도:  0.7575613806191437\n",
            "검증 f1 score:  0.4985279685966634\n"
          ]
        }
      ]
    },
    {
      "cell_type": "code",
      "metadata": {
        "id": "J5UYhe2l0UbR",
        "outputId": "d1bd65ee-017b-4dd0-c9d2-afdf1f6b5b4d",
        "colab": {
          "base_uri": "https://localhost:8080/",
          "height": 1000
        }
      },
      "source": [
        "# 특성 중요도 그래프\n",
        "\n",
        "import matplotlib.pyplot as plt\n",
        "\n",
        "model = pipe.named_steps['decisiontreeclassifier']\n",
        "enc = pipe.named_steps['onehotencoder']\n",
        "encoded_columns = enc.transform(x_val).columns\n",
        "coefficients = pd.Series(model.feature_importances_, encoded_columns)\n",
        "plt.figure(figsize=(10,30))\n",
        "coefficients.sort_values().plot.barh();"
      ],
      "execution_count": 33,
      "outputs": [
        {
          "output_type": "display_data",
          "data": {
            "image/png": "[encoded data removed]",
            "text/plain": [
              "<Figure size 720x2160 with 1 Axes>"
            ]
          },
          "metadata": {
            "needs_background": "light"
          }
        }
      ]
    },
    {
      "cell_type": "markdown",
      "metadata": {
        "id": "mL7YOdyaNtC7"
      },
      "source": [
        "### 4) 테스트셋 예측 결과 제출(Submission)\n",
        "\n",
        "- 테스트셋에 대한 예측 결과를 캐글에 제출 하세요.(스코어가 많이 낮게 나와도 결정트리를 잘 이해하고 결과를 내었다면 충분합니다!)\n",
        "- **캐글 Leaderboard의 본인 Score를 제출하세요.**\n",
        " "
      ]
    },
    {
      "cell_type": "code",
      "metadata": {
        "id": "VsdjnlWUQksS",
        "colab": {
          "base_uri": "https://localhost:8080/"
        },
        "outputId": "384bb691-b7cf-46b2-c44b-1af8e822eb4b"
      },
      "source": [
        "len(submission)"
      ],
      "execution_count": 34,
      "outputs": [
        {
          "output_type": "execute_result",
          "data": {
            "text/plain": [
              "28104"
            ]
          },
          "metadata": {},
          "execution_count": 34
        }
      ]
    },
    {
      "cell_type": "code",
      "metadata": {
        "id": "e5lYyYcSUCYi",
        "colab": {
          "base_uri": "https://localhost:8080/"
        },
        "outputId": "cb35c70e-ad62-414e-c694-02a0d277f769"
      },
      "source": [
        "submission.shape"
      ],
      "execution_count": 35,
      "outputs": [
        {
          "output_type": "execute_result",
          "data": {
            "text/plain": [
              "(28104, 2)"
            ]
          },
          "metadata": {},
          "execution_count": 35
        }
      ]
    },
    {
      "cell_type": "code",
      "metadata": {
        "id": "SiLHTWg1UWCr",
        "colab": {
          "base_uri": "https://localhost:8080/"
        },
        "outputId": "1f33c3fc-ca01-4a91-d068-aea0a18a4ee0"
      },
      "source": [
        "print('predict 전 test 정확도: ', pipe.score(x_test, submission['vacc_h1n1_f']))"
      ],
      "execution_count": 39,
      "outputs": [
        {
          "output_type": "stream",
          "name": "stdout",
          "text": [
            "predict 전 test 정확도:  0.5011030458297752\n"
          ]
        }
      ]
    },
    {
      "cell_type": "code",
      "metadata": {
        "id": "KaPuhAIH1OuT"
      },
      "source": [
        "y_pred = pipe.predict(x_test)\n",
        "submission['vacc_h1n1_f'] = y_pred\n",
        "submission.to_csv('n221_zena_choi.csv', index=False)"
      ],
      "execution_count": 40,
      "outputs": []
    },
    {
      "cell_type": "markdown",
      "metadata": {
        "id": "0AKCn85yNtC8"
      },
      "source": [
        "## 🔥 도전과제"
      ]
    },
    {
      "cell_type": "markdown",
      "metadata": {
        "id": "OxFu5qVpNtC9"
      },
      "source": [
        "### 4) 다른 종류의 imputer를 사용하고 특성-타겟 관계 그래프를 나타내 보세요.\n",
        "- 다른 종류의 imputer를 사용해 보세요([scikit-learn imputers](https://scikit-learn.org/stable/modules/impute.html))\n",
        "- seaborn plots 사용하여 관심있는 특성들과 target간의 관계를 그래프로 나타내 보세요.\n",
        "- [Seaborn \"Categorical estimate\" plots](https://seaborn.pydata.org/tutorial/categorical.html)\n",
        "- [Seaborn linear model plots](https://seaborn.pydata.org/tutorial/regression.html)"
      ]
    },
    {
      "cell_type": "code",
      "metadata": {
        "id": "zIAEwmBDNtC9"
      },
      "source": [
        "### 이곳에서 과제를 진행해 주세요 ###"
      ],
      "execution_count": null,
      "outputs": []
    }
  ]
}