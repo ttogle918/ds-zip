{
  "nbformat": 4,
  "nbformat_minor": 0,
  "metadata": {
    "kernelspec": {
      "display_name": "Python 3",
      "language": "python",
      "name": "python3"
    },
    "language_info": {
      "codemirror_mode": {
        "name": "ipython",
        "version": 3
      },
      "file_extension": ".py",
      "mimetype": "text/x-python",
      "name": "python",
      "nbconvert_exporter": "python",
      "pygments_lexer": "ipython3",
      "version": "3.7.7"
    },
    "colab": {
      "name": "n223a-evaluation-metrics-for-classification.ipynb",
      "provenance": [],
      "include_colab_link": true
    },
    "widgets": {
      "application/vnd.jupyter.widget-state+json": {
        "89396bfa014142258b11f084364bf009": {
          "model_module": "@jupyter-widgets/controls",
          "model_name": "VBoxModel",
          "model_module_version": "1.5.0",
          "state": {
            "_view_name": "VBoxView",
            "_dom_classes": [
              "widget-interact"
            ],
            "_model_name": "VBoxModel",
            "_view_module": "@jupyter-widgets/controls",
            "_model_module_version": "1.5.0",
            "_view_count": null,
            "_view_module_version": "1.5.0",
            "box_style": "",
            "layout": "IPY_MODEL_0e8aa7fe19034728b3aa3ed4757ff6b1",
            "_model_module": "@jupyter-widgets/controls",
            "children": [
              "IPY_MODEL_f22c097225594e868127643d8553fb4f",
              "IPY_MODEL_6da1d041b8ba4dd19c1db98d49bcfa72"
            ]
          }
        },
        "0e8aa7fe19034728b3aa3ed4757ff6b1": {
          "model_module": "@jupyter-widgets/base",
          "model_name": "LayoutModel",
          "model_module_version": "1.2.0",
          "state": {
            "_view_name": "LayoutView",
            "grid_template_rows": null,
            "right": null,
            "justify_content": null,
            "_view_module": "@jupyter-widgets/base",
            "overflow": null,
            "_model_module_version": "1.2.0",
            "_view_count": null,
            "flex_flow": null,
            "width": null,
            "min_width": null,
            "border": null,
            "align_items": null,
            "bottom": null,
            "_model_module": "@jupyter-widgets/base",
            "top": null,
            "grid_column": null,
            "overflow_y": null,
            "overflow_x": null,
            "grid_auto_flow": null,
            "grid_area": null,
            "grid_template_columns": null,
            "flex": null,
            "_model_name": "LayoutModel",
            "justify_items": null,
            "grid_row": null,
            "max_height": null,
            "align_content": null,
            "visibility": null,
            "align_self": null,
            "height": null,
            "min_height": null,
            "padding": null,
            "grid_auto_rows": null,
            "grid_gap": null,
            "max_width": null,
            "order": null,
            "_view_module_version": "1.2.0",
            "grid_template_areas": null,
            "object_position": null,
            "object_fit": null,
            "grid_auto_columns": null,
            "margin": null,
            "display": null,
            "left": null
          }
        },
        "f22c097225594e868127643d8553fb4f": {
          "model_module": "@jupyter-widgets/controls",
          "model_name": "FloatSliderModel",
          "model_module_version": "1.5.0",
          "state": {
            "_view_name": "FloatSliderView",
            "style": "IPY_MODEL_d76817a564484cbca67c8ccf954d4a7e",
            "_dom_classes": [],
            "description": "threshold",
            "step": 0.01,
            "_model_name": "FloatSliderModel",
            "orientation": "horizontal",
            "max": 1,
            "_view_module": "@jupyter-widgets/controls",
            "_model_module_version": "1.5.0",
            "value": 0.6,
            "_view_count": null,
            "disabled": false,
            "_view_module_version": "1.5.0",
            "min": 0,
            "continuous_update": true,
            "readout_format": ".2f",
            "description_tooltip": null,
            "readout": true,
            "_model_module": "@jupyter-widgets/controls",
            "layout": "IPY_MODEL_1b354c33177340bdb54342c6b1593f49"
          }
        },
        "6da1d041b8ba4dd19c1db98d49bcfa72": {
          "model_module": "@jupyter-widgets/output",
          "model_name": "OutputModel",
          "model_module_version": "1.0.0",
          "state": {
            "_view_name": "OutputView",
            "msg_id": "",
            "_dom_classes": [],
            "_model_name": "OutputModel",
            "outputs": [
              {
                "output_type": "display_data",
                "data": {
                  "image/png": "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\n",
                  "text/plain": "<Figure size 432x288 with 1 Axes>"
                },
                "metadata": {
                  "needs_background": "light"
                }
              },
              {
                "output_type": "stream",
                "name": "stdout",
                "text": [
                  "              precision    recall  f1-score   support\n",
                  "\n",
                  "           0       0.82      0.97      0.89      6416\n",
                  "           1       0.76      0.35      0.48      2015\n",
                  "\n",
                  "    accuracy                           0.82      8431\n",
                  "   macro avg       0.79      0.66      0.68      8431\n",
                  "weighted avg       0.81      0.82      0.79      8431\n",
                  "\n"
                ]
              }
            ],
            "_view_module": "@jupyter-widgets/output",
            "_model_module_version": "1.0.0",
            "_view_count": null,
            "_view_module_version": "1.0.0",
            "layout": "IPY_MODEL_ba7bfcd6742b4685975d8236497db956",
            "_model_module": "@jupyter-widgets/output"
          }
        },
        "d76817a564484cbca67c8ccf954d4a7e": {
          "model_module": "@jupyter-widgets/controls",
          "model_name": "SliderStyleModel",
          "model_module_version": "1.5.0",
          "state": {
            "_view_name": "StyleView",
            "handle_color": null,
            "_model_name": "SliderStyleModel",
            "description_width": "",
            "_view_module": "@jupyter-widgets/base",
            "_model_module_version": "1.5.0",
            "_view_count": null,
            "_view_module_version": "1.2.0",
            "_model_module": "@jupyter-widgets/controls"
          }
        },
        "1b354c33177340bdb54342c6b1593f49": {
          "model_module": "@jupyter-widgets/base",
          "model_name": "LayoutModel",
          "model_module_version": "1.2.0",
          "state": {
            "_view_name": "LayoutView",
            "grid_template_rows": null,
            "right": null,
            "justify_content": null,
            "_view_module": "@jupyter-widgets/base",
            "overflow": null,
            "_model_module_version": "1.2.0",
            "_view_count": null,
            "flex_flow": null,
            "width": null,
            "min_width": null,
            "border": null,
            "align_items": null,
            "bottom": null,
            "_model_module": "@jupyter-widgets/base",
            "top": null,
            "grid_column": null,
            "overflow_y": null,
            "overflow_x": null,
            "grid_auto_flow": null,
            "grid_area": null,
            "grid_template_columns": null,
            "flex": null,
            "_model_name": "LayoutModel",
            "justify_items": null,
            "grid_row": null,
            "max_height": null,
            "align_content": null,
            "visibility": null,
            "align_self": null,
            "height": null,
            "min_height": null,
            "padding": null,
            "grid_auto_rows": null,
            "grid_gap": null,
            "max_width": null,
            "order": null,
            "_view_module_version": "1.2.0",
            "grid_template_areas": null,
            "object_position": null,
            "object_fit": null,
            "grid_auto_columns": null,
            "margin": null,
            "display": null,
            "left": null
          }
        },
        "ba7bfcd6742b4685975d8236497db956": {
          "model_module": "@jupyter-widgets/base",
          "model_name": "LayoutModel",
          "model_module_version": "1.2.0",
          "state": {
            "_view_name": "LayoutView",
            "grid_template_rows": null,
            "right": null,
            "justify_content": null,
            "_view_module": "@jupyter-widgets/base",
            "overflow": null,
            "_model_module_version": "1.2.0",
            "_view_count": null,
            "flex_flow": null,
            "width": null,
            "min_width": null,
            "border": null,
            "align_items": null,
            "bottom": null,
            "_model_module": "@jupyter-widgets/base",
            "top": null,
            "grid_column": null,
            "overflow_y": null,
            "overflow_x": null,
            "grid_auto_flow": null,
            "grid_area": null,
            "grid_template_columns": null,
            "flex": null,
            "_model_name": "LayoutModel",
            "justify_items": null,
            "grid_row": null,
            "max_height": null,
            "align_content": null,
            "visibility": null,
            "align_self": null,
            "height": null,
            "min_height": null,
            "padding": null,
            "grid_auto_rows": null,
            "grid_gap": null,
            "max_width": null,
            "order": null,
            "_view_module_version": "1.2.0",
            "grid_template_areas": null,
            "object_position": null,
            "object_fit": null,
            "grid_auto_columns": null,
            "margin": null,
            "display": null,
            "left": null
          }
        }
      }
    }
  },
  "cells": [
    {
      "cell_type": "markdown",
      "metadata": {
        "id": "view-in-github",
        "colab_type": "text"
      },
      "source": [
        "<a href=\"https://colab.research.google.com/github/ttogle918/ds-section2-sprint2/blob/main/n223-evaluation-metrics-for-classification/n223a-evaluation-metrics-for-classification.ipynb\" target=\"_parent\"><img src=\"https://colab.research.google.com/assets/colab-badge.svg\" alt=\"Open In Colab\"/></a>"
      ]
    },
    {
      "cell_type": "markdown",
      "metadata": {
        "id": "mtIpAc1MFfmn"
      },
      "source": [
        "<img align=\"right\" src=\"https://ds-cs-images.s3.ap-northeast-2.amazonaws.com/Codestates_Fulllogo_Color.png\" width=100>\n",
        "\n",
        "## *AIB / SECTION 2 / SPRINT 2 / NOTE 3*\n",
        "\n",
        "# 📝 Assignment\n",
        "---"
      ]
    },
    {
      "cell_type": "code",
      "metadata": {
        "id": "6oc52CMlR9f4"
      },
      "source": [
        "# !pip install category_encoders"
      ],
      "execution_count": 1,
      "outputs": []
    },
    {
      "cell_type": "code",
      "metadata": {
        "id": "Lsr6aFcNSAhl"
      },
      "source": [
        "# !pip uninstall pandas_profiling\n",
        "# !pip install pandas_profiling\n",
        "# !pip show pandas_profiling"
      ],
      "execution_count": 2,
      "outputs": []
    },
    {
      "cell_type": "code",
      "metadata": {
        "colab": {
          "base_uri": "https://localhost:8080/"
        },
        "id": "VbtD27WaFfms",
        "outputId": "c2b9e61a-57b8-432d-a723-6ef3b0ec3023"
      },
      "source": [
        "# google 드라이브에 로컬 파일 업로드\n",
        "from google.colab import files, drive\n",
        "drive.mount('/content/drive')"
      ],
      "execution_count": 3,
      "outputs": [
        {
          "output_type": "stream",
          "name": "stdout",
          "text": [
            "Drive already mounted at /content/drive; to attempt to forcibly remount, call drive.mount(\"/content/drive\", force_remount=True).\n"
          ]
        }
      ]
    },
    {
      "cell_type": "code",
      "metadata": {
        "id": "aqelCH0cF19r"
      },
      "source": [
        "import pandas as pd\n",
        "test = pd.read_csv(\"/content/drive/MyDrive/Colab Notebooks/code_states/test.csv\")\n",
        "train_labels = pd.read_csv(\"/content/drive/MyDrive/Colab Notebooks/code_states/train_labels.csv\")\n",
        "train = pd.read_csv(\"/content/drive/MyDrive/Colab Notebooks/code_states/train.csv\")\n",
        "submission = pd.read_csv(\"/content/drive/MyDrive/Colab Notebooks/code_states/submission.csv\")"
      ],
      "execution_count": 4,
      "outputs": []
    },
    {
      "cell_type": "code",
      "metadata": {
        "colab": {
          "base_uri": "https://localhost:8080/"
        },
        "id": "8y1iKWsyRHTN",
        "outputId": "c8d1338d-1cfd-4232-9310-48d1fca6d0a3"
      },
      "source": [
        "train.columns"
      ],
      "execution_count": 5,
      "outputs": [
        {
          "output_type": "execute_result",
          "data": {
            "text/plain": [
              "Index(['h1n1_concern', 'h1n1_knowledge', 'behavioral_antiviral_meds',\n",
              "       'behavioral_avoidance', 'behavioral_face_mask', 'behavioral_wash_hands',\n",
              "       'behavioral_large_gatherings', 'behavioral_outside_home',\n",
              "       'behavioral_touch_face', 'doctor_recc_h1n1', 'doctor_recc_seasonal',\n",
              "       'chronic_med_condition', 'child_under_6_months', 'health_insurance',\n",
              "       'health_worker', 'opinion_h1n1_vacc_effective', 'opinion_h1n1_risk',\n",
              "       'opinion_h1n1_sick_from_vacc', 'opinion_seas_vacc_effective',\n",
              "       'opinion_seas_risk', 'opinion_seas_sick_from_vacc', 'agegrp',\n",
              "       'education_comp', 'raceeth4_i', 'sex_i', 'inc_pov', 'marital',\n",
              "       'rent_own_r', 'employment_status', 'census_region', 'census_msa',\n",
              "       'n_adult_r', 'household_children', 'n_people_r', 'employment_industry',\n",
              "       'employment_occupation', 'hhs_region', 'state'],\n",
              "      dtype='object')"
            ]
          },
          "metadata": {},
          "execution_count": 5
        }
      ]
    },
    {
      "cell_type": "code",
      "metadata": {
        "colab": {
          "base_uri": "https://localhost:8080/"
        },
        "id": "9OJ6ojCIF5i4",
        "outputId": "5d8e7d3f-62f4-4529-963c-02a603a90c1b"
      },
      "source": [
        "target = 'vacc_h1n1_f'\n",
        "\n",
        "from sklearn.model_selection import train_test_split\n",
        "\n",
        "train = pd.merge(train, train_labels[target], left_index=True, right_index=True)  # train data + labels\n",
        "train, val = train_test_split(train, train_size=0.80, test_size=0.20, stratify=train[target], random_state=2) # divide\n",
        "train.shape, val.shape, test.shape, submission.shape"
      ],
      "execution_count": 6,
      "outputs": [
        {
          "output_type": "execute_result",
          "data": {
            "text/plain": [
              "((33723, 39), (8431, 39), (28104, 38), (28104, 2))"
            ]
          },
          "metadata": {},
          "execution_count": 6
        }
      ]
    },
    {
      "cell_type": "code",
      "metadata": {
        "colab": {
          "base_uri": "https://localhost:8080/",
          "height": 182
        },
        "id": "M8smPbhZKRfw",
        "outputId": "5b05c6d4-8e70-40d4-8225-04dc4dcc0b71"
      },
      "source": [
        "def engineer(df):\n",
        "    \"\"\"특성을 엔지니어링 하는 함수입니다.\"\"\"\n",
        "    \n",
        "    # 높은 카디널리티를 가지는 특성을 제거합니다.\n",
        "#     selected_cols = df.select_dtypes(include=['number', 'object'])\n",
        "#     colnames = selected_cols.columns.tolist()\n",
        "#     labels = selected_cols.nunique()\n",
        "    \n",
        "#     selected_features = labels[labels <= 30].index.tolist()\n",
        "#     df = df[selected_features]\n",
        "    \n",
        "    # 새로운 특성을 생성합니다.\n",
        "    behaviorals = [col for col in df.columns if 'behavioral' in col] \n",
        "    df['behaviorals'] = df[behaviorals].sum(axis=1)\n",
        "    \n",
        "    dels = [col for col in df.columns if ('behavioral' in col )]\n",
        "    df.drop(columns=dels, inplace=True)\n",
        "    dels = [col for col in df.columns if ('employment' in col or 'seas' in col)]\n",
        "    df.drop(columns=dels, inplace=True)\n",
        "        \n",
        "    return df\n",
        "\n",
        "\n",
        "train = engineer(train)\n",
        "val = engineer(val)\n",
        "test = engineer(test)\n",
        "train.head(2)"
      ],
      "execution_count": 7,
      "outputs": [
        {
          "output_type": "execute_result",
          "data": {
            "text/html": [
              "<div>\n",
              "<style scoped>\n",
              "    .dataframe tbody tr th:only-of-type {\n",
              "        vertical-align: middle;\n",
              "    }\n",
              "\n",
              "    .dataframe tbody tr th {\n",
              "        vertical-align: top;\n",
              "    }\n",
              "\n",
              "    .dataframe thead th {\n",
              "        text-align: right;\n",
              "    }\n",
              "</style>\n",
              "<table border=\"1\" class=\"dataframe\">\n",
              "  <thead>\n",
              "    <tr style=\"text-align: right;\">\n",
              "      <th></th>\n",
              "      <th>h1n1_concern</th>\n",
              "      <th>h1n1_knowledge</th>\n",
              "      <th>doctor_recc_h1n1</th>\n",
              "      <th>chronic_med_condition</th>\n",
              "      <th>child_under_6_months</th>\n",
              "      <th>health_insurance</th>\n",
              "      <th>health_worker</th>\n",
              "      <th>opinion_h1n1_vacc_effective</th>\n",
              "      <th>opinion_h1n1_risk</th>\n",
              "      <th>opinion_h1n1_sick_from_vacc</th>\n",
              "      <th>agegrp</th>\n",
              "      <th>education_comp</th>\n",
              "      <th>raceeth4_i</th>\n",
              "      <th>sex_i</th>\n",
              "      <th>inc_pov</th>\n",
              "      <th>marital</th>\n",
              "      <th>rent_own_r</th>\n",
              "      <th>census_region</th>\n",
              "      <th>census_msa</th>\n",
              "      <th>n_adult_r</th>\n",
              "      <th>household_children</th>\n",
              "      <th>n_people_r</th>\n",
              "      <th>hhs_region</th>\n",
              "      <th>state</th>\n",
              "      <th>vacc_h1n1_f</th>\n",
              "    </tr>\n",
              "  </thead>\n",
              "  <tbody>\n",
              "    <tr>\n",
              "      <th>20365</th>\n",
              "      <td>1.0</td>\n",
              "      <td>1.0</td>\n",
              "      <td>0.0</td>\n",
              "      <td>1.0</td>\n",
              "      <td>0.0</td>\n",
              "      <td>NaN</td>\n",
              "      <td>0.0</td>\n",
              "      <td>Somewhat Effective</td>\n",
              "      <td>Somewhat Low</td>\n",
              "      <td>Not At All Worried</td>\n",
              "      <td>18 - 34 Years</td>\n",
              "      <td>4.0</td>\n",
              "      <td>3</td>\n",
              "      <td>1</td>\n",
              "      <td>1</td>\n",
              "      <td>2.0</td>\n",
              "      <td>1.0</td>\n",
              "      <td>1</td>\n",
              "      <td>MSA, Not Principle City</td>\n",
              "      <td>4.0</td>\n",
              "      <td>0.0</td>\n",
              "      <td>4.0</td>\n",
              "      <td>2</td>\n",
              "      <td>NEW JERSEY</td>\n",
              "      <td>0</td>\n",
              "    </tr>\n",
              "    <tr>\n",
              "      <th>29138</th>\n",
              "      <td>1.0</td>\n",
              "      <td>1.0</td>\n",
              "      <td>1.0</td>\n",
              "      <td>0.0</td>\n",
              "      <td>0.0</td>\n",
              "      <td>1.0</td>\n",
              "      <td>0.0</td>\n",
              "      <td>Somewhat Effective</td>\n",
              "      <td>Somewhat High</td>\n",
              "      <td>Not Very Worried</td>\n",
              "      <td>35 - 44 Years</td>\n",
              "      <td>2.0</td>\n",
              "      <td>3</td>\n",
              "      <td>2</td>\n",
              "      <td>3</td>\n",
              "      <td>2.0</td>\n",
              "      <td>2.0</td>\n",
              "      <td>2</td>\n",
              "      <td>Non-MSA</td>\n",
              "      <td>2.0</td>\n",
              "      <td>2.0</td>\n",
              "      <td>4.0</td>\n",
              "      <td>7</td>\n",
              "      <td>IOWA</td>\n",
              "      <td>1</td>\n",
              "    </tr>\n",
              "  </tbody>\n",
              "</table>\n",
              "</div>"
            ],
            "text/plain": [
              "       h1n1_concern  h1n1_knowledge  ...       state  vacc_h1n1_f\n",
              "20365           1.0             1.0  ...  NEW JERSEY            0\n",
              "29138           1.0             1.0  ...        IOWA            1\n",
              "\n",
              "[2 rows x 25 columns]"
            ]
          },
          "metadata": {},
          "execution_count": 7
        }
      ]
    },
    {
      "cell_type": "code",
      "metadata": {
        "id": "-ZxsDorfKVSo"
      },
      "source": [
        "features = train.drop(columns=[target]).columns\n",
        "\n",
        "X_train = train[features]\n",
        "y_train = train[target]\n",
        "X_val = val[features]\n",
        "y_val = val[target]\n",
        "X_test = test[features]"
      ],
      "execution_count": 8,
      "outputs": []
    },
    {
      "cell_type": "markdown",
      "metadata": {
        "id": "nCc3XZEyG3XV"
      },
      "source": [
        "# Evaluation Metrics for Classification\n",
        "\n",
        "### 1) Kaggle 챌린지를 이어서 진행합니다.\n",
        "- **다음 조건에서 F beta score를 구하고 제출하세요.**\n",
        "    - TP = 4442, TN = 6165, FP = 1515, FN = 1930, 재현율에 정밀도의 2배 가중치를 부여합니다."
      ]
    },
    {
      "cell_type": "code",
      "metadata": {
        "id": "5uP6hUF1J6rq"
      },
      "source": [
        "tp = 4442\n",
        "tn = 6165\n",
        "fp = 1515\n",
        "fn = 1930\n",
        "total = tp + tn + fp + fn"
      ],
      "execution_count": 9,
      "outputs": []
    },
    {
      "cell_type": "markdown",
      "metadata": {
        "id": "AyphYLVhKqXM"
      },
      "source": [
        "백신 접종에 대한 정밀도, 재현율"
      ]
    },
    {
      "cell_type": "code",
      "metadata": {
        "colab": {
          "base_uri": "https://localhost:8080/"
        },
        "id": "J_lksTFQKopr",
        "outputId": "120584f9-b767-40f4-ed7b-39aa3f3461ea"
      },
      "source": [
        "# positives = tp + fp\n",
        "# actual = tp + fn\n",
        "\n",
        "def precision(tp, positives) : # 정밀도\n",
        "  return tp/positives\n",
        "\n",
        "def recall(tp, actual) :  # 재현율 = 민감도\n",
        "  return tp/actual\n",
        "prec = precision(tp, tp+fp)\n",
        "rec = recall(tp, tp+fn)\n",
        "prec, rec"
      ],
      "execution_count": 10,
      "outputs": [
        {
          "output_type": "execute_result",
          "data": {
            "text/plain": [
              "(0.7456773543730065, 0.697112366603892)"
            ]
          },
          "metadata": {},
          "execution_count": 10
        }
      ]
    },
    {
      "cell_type": "markdown",
      "metadata": {
        "id": "jZf_ZyAIK-HV"
      },
      "source": [
        "재현율에 정밀도의 2배 가중치를 부여한다 -> F_2, Β= 2\n",
        "\n",
        "정밀도에 재현율의 2배 가중치를 부여한다 -> F_0.5, Β= 0.5 \n",
        "\n",
        "(1+beta**2)*((precision*recall)/((beta**2*precision)+recall))"
      ]
    },
    {
      "cell_type": "code",
      "metadata": {
        "id": "6Mpa8mOlUlxd"
      },
      "source": [
        "def f_beta_value(beta, precision, recall) :\n",
        "  return (1 + pow(beta, 2)) * precision * recall / ( pow(beta, 2) * precision + recall )"
      ],
      "execution_count": 11,
      "outputs": []
    },
    {
      "cell_type": "code",
      "metadata": {
        "colab": {
          "base_uri": "https://localhost:8080/"
        },
        "id": "UnxVgPrzK9hW",
        "outputId": "0a0bf11b-bbaf-4bb9-c41e-befcc28737ff"
      },
      "source": [
        "f_beta_value(2, prec, rec)"
      ],
      "execution_count": 12,
      "outputs": [
        {
          "output_type": "execute_result",
          "data": {
            "text/plain": [
              "0.7063126093178567"
            ]
          },
          "metadata": {},
          "execution_count": 12
        }
      ]
    },
    {
      "cell_type": "code",
      "metadata": {
        "id": "b9oiGQBV8049"
      },
      "source": [
        "# data가 주어졌을 때(list 형식) 가능\n",
        "# from sklearn.metrics import fbeta_score\n",
        "# fbeta_score(, , average='macro', beta=0.5)"
      ],
      "execution_count": 13,
      "outputs": []
    },
    {
      "cell_type": "markdown",
      "metadata": {
        "id": "SwILxu1rFfmw"
      },
      "source": [
        "### 2) 모델을 학습한 후 Confusion matrix를 그리고 해석하세요\n",
        "- 임계값을 조정한 후 confusion matrix를 그려보세요\n",
        "- **(객관식) 임계값을 증가시킬때 positive 범주에 대한 재현율의 변화 양상을 제출하세요.**\n",
        "    1. 증가\n",
        "    2. 감소\n",
        "    3. 변화가 없다\n"
      ]
    },
    {
      "cell_type": "code",
      "metadata": {
        "colab": {
          "base_uri": "https://localhost:8080/"
        },
        "id": "2fUuj4mWFfmw",
        "outputId": "eca2f4ed-abcd-49a9-b982-3770f4b514a7"
      },
      "source": [
        "from sklearn.pipeline import make_pipeline\n",
        "from category_encoders import OrdinalEncoder\n",
        "from sklearn.impute import SimpleImputer\n",
        "from sklearn.ensemble import RandomForestClassifier\n",
        "from sklearn.metrics import accuracy_score\n",
        "\n",
        "def my_make_pipeline(n) :\n",
        "  pipe = make_pipeline(\n",
        "      OrdinalEncoder(), \n",
        "      SimpleImputer(), \n",
        "      RandomForestClassifier(n_estimators=n, random_state=2, n_jobs=-1)\n",
        "  )\n",
        "  return pipe\n",
        "\n",
        "pipe = my_make_pipeline(100)\n",
        "pipe.fit(X_train, y_train)\n",
        "y_pred = pipe.predict(X_val)\n",
        "print('검증 정확도: ', accuracy_score(y_val, y_pred))"
      ],
      "execution_count": 14,
      "outputs": [
        {
          "output_type": "stream",
          "name": "stderr",
          "text": [
            "/usr/local/lib/python3.7/dist-packages/statsmodels/tools/_testing.py:19: FutureWarning: pandas.util.testing is deprecated. Use the functions in the public API at pandas.testing instead.\n",
            "  import pandas.util.testing as tm\n"
          ]
        },
        {
          "output_type": "stream",
          "name": "stdout",
          "text": [
            "검증 정확도:  0.8235084806072827\n"
          ]
        }
      ]
    },
    {
      "cell_type": "code",
      "metadata": {
        "colab": {
          "base_uri": "https://localhost:8080/",
          "height": 513
        },
        "id": "IfrVfE2mbFeO",
        "outputId": "42c86b1b-5c1f-4df1-e923-4246609285f4"
      },
      "source": [
        "import seaborn as sns\n",
        "y_pred_proba = pipe.predict_proba(X_test)\n",
        "print(\"Predicted probabilities:\\n{}\".format(pipe.predict_proba(X_test)))\n",
        "sns.displot(y_pred_proba);"
      ],
      "execution_count": 16,
      "outputs": [
        {
          "output_type": "stream",
          "name": "stdout",
          "text": [
            "Predicted probabilities:\n",
            "[[0.79 0.21]\n",
            " [0.95 0.05]\n",
            " [0.97 0.03]\n",
            " ...\n",
            " [0.94 0.06]\n",
            " [0.49 0.51]\n",
            " [0.74 0.26]]\n"
          ]
        },
        {
          "output_type": "display_data",
          "data": {
            "image/png": "[encoded data removed]",
            "text/plain": [
              "<Figure size 402.375x360 with 1 Axes>"
            ]
          },
          "metadata": {
            "needs_background": "light"
          }
        }
      ]
    },
    {
      "cell_type": "code",
      "metadata": {
        "colab": {
          "base_uri": "https://localhost:8080/",
          "height": 297
        },
        "id": "RgG5XaLKS_WU",
        "outputId": "cd2db13f-ca15-494f-e9fa-760d15e8d6dc"
      },
      "source": [
        "from sklearn.metrics import plot_confusion_matrix\n",
        "import matplotlib.pyplot as plt\n",
        "\n",
        "fig, ax = plt.subplots()\n",
        "pcm = plot_confusion_matrix(pipe, X_val, y_val, cmap=plt.cm.Blues, ax=ax, values_format='')\n",
        "plt.title(f'Confusion matrix, n = {len(y_val)}', fontsize=15)\n",
        "plt.show()"
      ],
      "execution_count": 19,
      "outputs": [
        {
          "output_type": "display_data",
          "data": {
            "image/png": "[encoded data removed]",
            "text/plain": [
              "<Figure size 432x288 with 2 Axes>"
            ]
          },
          "metadata": {
            "needs_background": "light"
          }
        }
      ]
    },
    {
      "cell_type": "code",
      "metadata": {
        "id": "vC1d2WnTVNjP"
      },
      "source": [
        "threshold = 0.5\n",
        "y_pred_proba = pipe.predict_proba(X_val)[:, 1]\n",
        "y_pred = y_pred_proba > threshold"
      ],
      "execution_count": 20,
      "outputs": []
    },
    {
      "cell_type": "code",
      "metadata": {
        "colab": {
          "base_uri": "https://localhost:8080/",
          "height": 727,
          "referenced_widgets": [
            "89396bfa014142258b11f084364bf009",
            "0e8aa7fe19034728b3aa3ed4757ff6b1",
            "f22c097225594e868127643d8553fb4f",
            "6da1d041b8ba4dd19c1db98d49bcfa72",
            "d76817a564484cbca67c8ccf954d4a7e",
            "1b354c33177340bdb54342c6b1593f49",
            "ba7bfcd6742b4685975d8236497db956"
          ]
        },
        "id": "2pRhpMsVUiFd",
        "outputId": "02a7cfd1-a20d-48d4-fbe0-09cf00b3d10f"
      },
      "source": [
        "from ipywidgets import interact, fixed\n",
        "from sklearn.metrics import classification_report\n",
        "\n",
        "def explore_threshold(y_true, y_pred_proba, threshold=0.5):\n",
        "    y_pred = y_pred_proba >= threshold\n",
        "    vc = pd.Series(y_pred).value_counts()\n",
        "    ax = sns.histplot(y_pred_proba, kde=True)\n",
        "    ax.axvline(threshold, color='red')\n",
        "    ax.set_title(f'# of target, 1={vc[1]}, 0={vc[0]}')\n",
        "    plt.show()\n",
        "    print(classification_report(y_true, y_pred))\n",
        "\n",
        "interact(explore_threshold, \n",
        "    y_true=fixed(y_val), \n",
        "    y_pred_proba=fixed(y_pred_proba), \n",
        "    threshold=(0, 1, 0.01));"
      ],
      "execution_count": 21,
      "outputs": [
        {
          "output_type": "display_data",
          "data": {
            "application/vnd.jupyter.widget-view+json": {
              "model_id": "89396bfa014142258b11f084364bf009",
              "version_minor": 0,
              "version_major": 2
            },
            "text/plain": [
              "interactive(children=(FloatSlider(value=0.5, description='threshold', max=1.0, step=0.01), Output()), _dom_cla…"
            ]
          },
          "metadata": {}
        },
        {
          "output_type": "display_data",
          "data": {
            "image/png": "[encoded data removed]",
            "text/plain": [
              "<Figure size 432x288 with 1 Axes>"
            ]
          },
          "metadata": {
            "needs_background": "light"
          }
        }
      ]
    },
    {
      "cell_type": "markdown",
      "metadata": {
        "id": "6Us2mV3qFfmx"
      },
      "source": [
        "### 3) 랜덤포레스트의 n_estimator를 1, 10, 100, 1000으로 바꾸어 가며 positive 범주의 predict_proba를 비교해 보세요\n",
        "- 하이퍼파라미터는 다음과 같이 설정합니다.\n",
        "    - n_jobs=-1, random_state=10, max_depth=None, oob_score=True\n",
        "- **(객관식) 확률값들의 분포의 변화를 아래 보기 중에서 고르세요**\n",
        "    1. 다양해진다\n",
        "    2. 변화가없다\n"
      ]
    },
    {
      "cell_type": "code",
      "metadata": {
        "id": "0lrempTRFfmx"
      },
      "source": [
        "# ### 이곳에서 과제를 진행해 주세요 ###\n",
        "# for i in [1, 10, 100, 1000] :\n",
        "#   pipe = my_make_pipeline(i)\n",
        "#   print(\"Predicted probabilities:\\n{}\".format(pipe.predict_proba(X_test)))\n"
      ],
      "execution_count": 22,
      "outputs": []
    },
    {
      "cell_type": "code",
      "metadata": {
        "id": "Wmgh1i2xZ29T"
      },
      "source": [
        "  "
      ],
      "execution_count": null,
      "outputs": []
    },
    {
      "cell_type": "markdown",
      "metadata": {
        "id": "RUktYXjTFfmy"
      },
      "source": [
        "### 4) 두개 이상의 다른 분류 모델을 학습시켜 ROC curve, AUC 점수를 비교하고 설명합니다.\n",
        "- 더 좋은 결과가 나오는 모델을 사용해서 캐글에 제출하세요\n",
        "- **캐글 Leaderboard의 본인 Score를 제출하세요.**"
      ]
    },
    {
      "cell_type": "code",
      "metadata": {
        "id": "TDUR073JFfmz"
      },
      "source": [
        "### 이곳에서 과제를 진행해 주세요 ### "
      ],
      "execution_count": 23,
      "outputs": []
    },
    {
      "cell_type": "markdown",
      "metadata": {
        "id": "7YPuAMA8Ffmz"
      },
      "source": [
        "## 🔥 도전과제"
      ]
    },
    {
      "cell_type": "markdown",
      "metadata": {
        "id": "IzMC_pAAFfm0"
      },
      "source": [
        "### 5) 각 평가지표에 대해 결과를 최대한 분석하고 무엇이 부족한지, 어떤 방향으로 성능을 높여야 하는지 논하세요."
      ]
    },
    {
      "cell_type": "code",
      "metadata": {
        "id": "qmm6HyGYFfm0"
      },
      "source": [
        "### 이곳에서 과제를 진행해 주세요 ### "
      ],
      "execution_count": 24,
      "outputs": []
    }
  ]
}