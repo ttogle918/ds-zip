{
  "nbformat": 4,
  "nbformat_minor": 0,
  "metadata": {
    "kernelspec": {
      "display_name": "Python 3",
      "language": "python",
      "name": "python3"
    },
    "language_info": {
      "codemirror_mode": {
        "name": "ipython",
        "version": 3
      },
      "file_extension": ".py",
      "mimetype": "text/x-python",
      "name": "python",
      "nbconvert_exporter": "python",
      "pygments_lexer": "ipython3",
      "version": "3.7.7"
    },
    "colab": {
      "name": "n223a-evaluation-metrics-for-classification.ipynb",
      "provenance": [],
      "include_colab_link": true
    },
    "widgets": {
      "application/vnd.jupyter.widget-state+json": {
        "fa199e1836d348959d0d19ebceddea9d": {
          "model_module": "@jupyter-widgets/controls",
          "model_name": "VBoxModel",
          "model_module_version": "1.5.0",
          "state": {
            "_view_name": "VBoxView",
            "_dom_classes": [
              "widget-interact"
            ],
            "_model_name": "VBoxModel",
            "_view_module": "@jupyter-widgets/controls",
            "_model_module_version": "1.5.0",
            "_view_count": null,
            "_view_module_version": "1.5.0",
            "box_style": "",
            "layout": "IPY_MODEL_8380aaac6acc4a01b2beff719fb40238",
            "_model_module": "@jupyter-widgets/controls",
            "children": [
              "IPY_MODEL_a7903b61ef384441b88b6e11db6db58b",
              "IPY_MODEL_a8cd1952217b403fa281f84d8191f6c7"
            ]
          }
        },
        "8380aaac6acc4a01b2beff719fb40238": {
          "model_module": "@jupyter-widgets/base",
          "model_name": "LayoutModel",
          "model_module_version": "1.2.0",
          "state": {
            "_view_name": "LayoutView",
            "grid_template_rows": null,
            "right": null,
            "justify_content": null,
            "_view_module": "@jupyter-widgets/base",
            "overflow": null,
            "_model_module_version": "1.2.0",
            "_view_count": null,
            "flex_flow": null,
            "width": null,
            "min_width": null,
            "border": null,
            "align_items": null,
            "bottom": null,
            "_model_module": "@jupyter-widgets/base",
            "top": null,
            "grid_column": null,
            "overflow_y": null,
            "overflow_x": null,
            "grid_auto_flow": null,
            "grid_area": null,
            "grid_template_columns": null,
            "flex": null,
            "_model_name": "LayoutModel",
            "justify_items": null,
            "grid_row": null,
            "max_height": null,
            "align_content": null,
            "visibility": null,
            "align_self": null,
            "height": null,
            "min_height": null,
            "padding": null,
            "grid_auto_rows": null,
            "grid_gap": null,
            "max_width": null,
            "order": null,
            "_view_module_version": "1.2.0",
            "grid_template_areas": null,
            "object_position": null,
            "object_fit": null,
            "grid_auto_columns": null,
            "margin": null,
            "display": null,
            "left": null
          }
        },
        "a7903b61ef384441b88b6e11db6db58b": {
          "model_module": "@jupyter-widgets/controls",
          "model_name": "FloatSliderModel",
          "model_module_version": "1.5.0",
          "state": {
            "_view_name": "FloatSliderView",
            "style": "IPY_MODEL_e0aa4161358543838b8259c161ff08d5",
            "_dom_classes": [],
            "description": "threshold",
            "step": 0.01,
            "_model_name": "FloatSliderModel",
            "orientation": "horizontal",
            "max": 1,
            "_view_module": "@jupyter-widgets/controls",
            "_model_module_version": "1.5.0",
            "value": 0.5,
            "_view_count": null,
            "disabled": false,
            "_view_module_version": "1.5.0",
            "min": 0,
            "continuous_update": true,
            "readout_format": ".2f",
            "description_tooltip": null,
            "readout": true,
            "_model_module": "@jupyter-widgets/controls",
            "layout": "IPY_MODEL_502c4e258e8a467296e690a7ecba5153"
          }
        },
        "a8cd1952217b403fa281f84d8191f6c7": {
          "model_module": "@jupyter-widgets/output",
          "model_name": "OutputModel",
          "model_module_version": "1.0.0",
          "state": {
            "_view_name": "OutputView",
            "msg_id": "",
            "_dom_classes": [],
            "_model_name": "OutputModel",
            "outputs": [
              {
                "output_type": "display_data",
                "data": {
                  "image/png": "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\n",
                  "text/plain": "<Figure size 432x288 with 1 Axes>"
                },
                "metadata": {
                  "needs_background": "light"
                }
              },
              {
                "output_type": "stream",
                "name": "stdout",
                "text": [
                  "              precision    recall  f1-score   support\n",
                  "\n",
                  "           0       0.85      0.94      0.89      6416\n",
                  "           1       0.70      0.46      0.56      2015\n",
                  "\n",
                  "    accuracy                           0.82      8431\n",
                  "   macro avg       0.77      0.70      0.72      8431\n",
                  "weighted avg       0.81      0.82      0.81      8431\n",
                  "\n"
                ]
              }
            ],
            "_view_module": "@jupyter-widgets/output",
            "_model_module_version": "1.0.0",
            "_view_count": null,
            "_view_module_version": "1.0.0",
            "layout": "IPY_MODEL_e7f4b72a0c0e40e2b39167b48784ef93",
            "_model_module": "@jupyter-widgets/output"
          }
        },
        "e0aa4161358543838b8259c161ff08d5": {
          "model_module": "@jupyter-widgets/controls",
          "model_name": "SliderStyleModel",
          "model_module_version": "1.5.0",
          "state": {
            "_view_name": "StyleView",
            "handle_color": null,
            "_model_name": "SliderStyleModel",
            "description_width": "",
            "_view_module": "@jupyter-widgets/base",
            "_model_module_version": "1.5.0",
            "_view_count": null,
            "_view_module_version": "1.2.0",
            "_model_module": "@jupyter-widgets/controls"
          }
        },
        "502c4e258e8a467296e690a7ecba5153": {
          "model_module": "@jupyter-widgets/base",
          "model_name": "LayoutModel",
          "model_module_version": "1.2.0",
          "state": {
            "_view_name": "LayoutView",
            "grid_template_rows": null,
            "right": null,
            "justify_content": null,
            "_view_module": "@jupyter-widgets/base",
            "overflow": null,
            "_model_module_version": "1.2.0",
            "_view_count": null,
            "flex_flow": null,
            "width": null,
            "min_width": null,
            "border": null,
            "align_items": null,
            "bottom": null,
            "_model_module": "@jupyter-widgets/base",
            "top": null,
            "grid_column": null,
            "overflow_y": null,
            "overflow_x": null,
            "grid_auto_flow": null,
            "grid_area": null,
            "grid_template_columns": null,
            "flex": null,
            "_model_name": "LayoutModel",
            "justify_items": null,
            "grid_row": null,
            "max_height": null,
            "align_content": null,
            "visibility": null,
            "align_self": null,
            "height": null,
            "min_height": null,
            "padding": null,
            "grid_auto_rows": null,
            "grid_gap": null,
            "max_width": null,
            "order": null,
            "_view_module_version": "1.2.0",
            "grid_template_areas": null,
            "object_position": null,
            "object_fit": null,
            "grid_auto_columns": null,
            "margin": null,
            "display": null,
            "left": null
          }
        },
        "e7f4b72a0c0e40e2b39167b48784ef93": {
          "model_module": "@jupyter-widgets/base",
          "model_name": "LayoutModel",
          "model_module_version": "1.2.0",
          "state": {
            "_view_name": "LayoutView",
            "grid_template_rows": null,
            "right": null,
            "justify_content": null,
            "_view_module": "@jupyter-widgets/base",
            "overflow": null,
            "_model_module_version": "1.2.0",
            "_view_count": null,
            "flex_flow": null,
            "width": null,
            "min_width": null,
            "border": null,
            "align_items": null,
            "bottom": null,
            "_model_module": "@jupyter-widgets/base",
            "top": null,
            "grid_column": null,
            "overflow_y": null,
            "overflow_x": null,
            "grid_auto_flow": null,
            "grid_area": null,
            "grid_template_columns": null,
            "flex": null,
            "_model_name": "LayoutModel",
            "justify_items": null,
            "grid_row": null,
            "max_height": null,
            "align_content": null,
            "visibility": null,
            "align_self": null,
            "height": null,
            "min_height": null,
            "padding": null,
            "grid_auto_rows": null,
            "grid_gap": null,
            "max_width": null,
            "order": null,
            "_view_module_version": "1.2.0",
            "grid_template_areas": null,
            "object_position": null,
            "object_fit": null,
            "grid_auto_columns": null,
            "margin": null,
            "display": null,
            "left": null
          }
        }
      }
    }
  },
  "cells": [
    {
      "cell_type": "markdown",
      "metadata": {
        "id": "view-in-github",
        "colab_type": "text"
      },
      "source": [
        "<a href=\"https://colab.research.google.com/github/ttogle918/ds-section2-sprint2/blob/main/n223-evaluation-metrics-for-classification/n223a-evaluation-metrics-for-classification.ipynb\" target=\"_parent\"><img src=\"https://colab.research.google.com/assets/colab-badge.svg\" alt=\"Open In Colab\"/></a>"
      ]
    },
    {
      "cell_type": "markdown",
      "metadata": {
        "id": "mtIpAc1MFfmn"
      },
      "source": [
        "<img align=\"right\" src=\"https://ds-cs-images.s3.ap-northeast-2.amazonaws.com/Codestates_Fulllogo_Color.png\" width=100>\n",
        "\n",
        "## *AIB / SECTION 2 / SPRINT 2 / NOTE 3*\n",
        "\n",
        "# 📝 Assignment\n",
        "---"
      ]
    },
    {
      "cell_type": "code",
      "metadata": {
        "id": "6oc52CMlR9f4",
        "outputId": "af859854-f434-43f2-ffa7-59213546c21e",
        "colab": {
          "base_uri": "https://localhost:8080/"
        }
      },
      "source": [
        "!pip install category_encoders"
      ],
      "execution_count": 1,
      "outputs": [
        {
          "output_type": "stream",
          "name": "stdout",
          "text": [
            "Requirement already satisfied: category_encoders in /usr/local/lib/python3.7/dist-packages (2.3.0)\n",
            "Requirement already satisfied: numpy>=1.14.0 in /usr/local/lib/python3.7/dist-packages (from category_encoders) (1.19.5)\n",
            "Requirement already satisfied: pandas>=0.21.1 in /usr/local/lib/python3.7/dist-packages (from category_encoders) (1.1.5)\n",
            "Requirement already satisfied: scikit-learn>=0.20.0 in /usr/local/lib/python3.7/dist-packages (from category_encoders) (1.0.1)\n",
            "Requirement already satisfied: scipy>=1.0.0 in /usr/local/lib/python3.7/dist-packages (from category_encoders) (1.4.1)\n",
            "Requirement already satisfied: patsy>=0.5.1 in /usr/local/lib/python3.7/dist-packages (from category_encoders) (0.5.2)\n",
            "Requirement already satisfied: statsmodels>=0.9.0 in /usr/local/lib/python3.7/dist-packages (from category_encoders) (0.10.2)\n",
            "Requirement already satisfied: python-dateutil>=2.7.3 in /usr/local/lib/python3.7/dist-packages (from pandas>=0.21.1->category_encoders) (2.8.2)\n",
            "Requirement already satisfied: pytz>=2017.2 in /usr/local/lib/python3.7/dist-packages (from pandas>=0.21.1->category_encoders) (2018.9)\n",
            "Requirement already satisfied: six in /usr/local/lib/python3.7/dist-packages (from patsy>=0.5.1->category_encoders) (1.15.0)\n",
            "Requirement already satisfied: joblib>=0.11 in /usr/local/lib/python3.7/dist-packages (from scikit-learn>=0.20.0->category_encoders) (1.1.0)\n",
            "Requirement already satisfied: threadpoolctl>=2.0.0 in /usr/local/lib/python3.7/dist-packages (from scikit-learn>=0.20.0->category_encoders) (3.0.0)\n"
          ]
        }
      ]
    },
    {
      "cell_type": "code",
      "metadata": {
        "id": "Lsr6aFcNSAhl"
      },
      "source": [
        "# !pip uninstall pandas_profiling\n",
        "# !pip install pandas_profiling\n",
        "# !pip show pandas_profiling"
      ],
      "execution_count": 2,
      "outputs": []
    },
    {
      "cell_type": "code",
      "metadata": {
        "colab": {
          "base_uri": "https://localhost:8080/"
        },
        "id": "VbtD27WaFfms",
        "outputId": "1d1b136c-af13-476e-b21c-dda959421f10"
      },
      "source": [
        "# google 드라이브에 로컬 파일 업로드\n",
        "from google.colab import files, drive\n",
        "drive.mount('/content/drive')"
      ],
      "execution_count": 3,
      "outputs": [
        {
          "output_type": "stream",
          "name": "stdout",
          "text": [
            "Drive already mounted at /content/drive; to attempt to forcibly remount, call drive.mount(\"/content/drive\", force_remount=True).\n"
          ]
        }
      ]
    },
    {
      "cell_type": "code",
      "metadata": {
        "id": "aqelCH0cF19r"
      },
      "source": [
        "import pandas as pd\n",
        "test = pd.read_csv(\"/content/drive/MyDrive/Colab Notebooks/code_states/test.csv\")\n",
        "train_labels = pd.read_csv(\"/content/drive/MyDrive/Colab Notebooks/code_states/train_labels.csv\")\n",
        "train = pd.read_csv(\"/content/drive/MyDrive/Colab Notebooks/code_states/train.csv\")\n",
        "submission = pd.read_csv(\"/content/drive/MyDrive/Colab Notebooks/code_states/submission.csv\")"
      ],
      "execution_count": 4,
      "outputs": []
    },
    {
      "cell_type": "code",
      "metadata": {
        "colab": {
          "base_uri": "https://localhost:8080/"
        },
        "id": "8y1iKWsyRHTN",
        "outputId": "e9b018c9-a704-4031-b6bf-b5f1255083eb"
      },
      "source": [
        "train.columns"
      ],
      "execution_count": 5,
      "outputs": [
        {
          "output_type": "execute_result",
          "data": {
            "text/plain": [
              "Index(['h1n1_concern', 'h1n1_knowledge', 'behavioral_antiviral_meds',\n",
              "       'behavioral_avoidance', 'behavioral_face_mask', 'behavioral_wash_hands',\n",
              "       'behavioral_large_gatherings', 'behavioral_outside_home',\n",
              "       'behavioral_touch_face', 'doctor_recc_h1n1', 'doctor_recc_seasonal',\n",
              "       'chronic_med_condition', 'child_under_6_months', 'health_insurance',\n",
              "       'health_worker', 'opinion_h1n1_vacc_effective', 'opinion_h1n1_risk',\n",
              "       'opinion_h1n1_sick_from_vacc', 'opinion_seas_vacc_effective',\n",
              "       'opinion_seas_risk', 'opinion_seas_sick_from_vacc', 'agegrp',\n",
              "       'education_comp', 'raceeth4_i', 'sex_i', 'inc_pov', 'marital',\n",
              "       'rent_own_r', 'employment_status', 'census_region', 'census_msa',\n",
              "       'n_adult_r', 'household_children', 'n_people_r', 'employment_industry',\n",
              "       'employment_occupation', 'hhs_region', 'state'],\n",
              "      dtype='object')"
            ]
          },
          "metadata": {},
          "execution_count": 5
        }
      ]
    },
    {
      "cell_type": "code",
      "metadata": {
        "colab": {
          "base_uri": "https://localhost:8080/"
        },
        "id": "9OJ6ojCIF5i4",
        "outputId": "ef456cec-17d8-47c4-a8be-69aed6b2ea74"
      },
      "source": [
        "target = 'vacc_h1n1_f'\n",
        "\n",
        "from sklearn.model_selection import train_test_split\n",
        "\n",
        "train = pd.merge(train, train_labels[target], left_index=True, right_index=True)  # train data + labels\n",
        "train, val = train_test_split(train, train_size=0.80, test_size=0.20, stratify=train[target], random_state=2) # divide\n",
        "train.shape, val.shape, test.shape, submission.shape"
      ],
      "execution_count": 6,
      "outputs": [
        {
          "output_type": "execute_result",
          "data": {
            "text/plain": [
              "((33723, 39), (8431, 39), (28104, 38), (28104, 2))"
            ]
          },
          "metadata": {},
          "execution_count": 6
        }
      ]
    },
    {
      "cell_type": "code",
      "metadata": {
        "colab": {
          "base_uri": "https://localhost:8080/",
          "height": 184
        },
        "id": "M8smPbhZKRfw",
        "outputId": "e2e66f5c-7e3c-4012-a469-269355a19a24"
      },
      "source": [
        "def engineer(df):\n",
        "    \"\"\"특성을 엔지니어링 하는 함수입니다.\"\"\"\n",
        "    \n",
        "    # 높은 카디널리티를 가지는 특성을 제거합니다.\n",
        "#     selected_cols = df.select_dtypes(include=['number', 'object'])\n",
        "#     colnames = selected_cols.columns.tolist()\n",
        "#     labels = selected_cols.nunique()\n",
        "    \n",
        "#     selected_features = labels[labels <= 30].index.tolist()\n",
        "#     df = df[selected_features]\n",
        "    \n",
        "    # 새로운 특성을 생성합니다.\n",
        "    behaviorals = [col for col in df.columns if 'behavioral' in col] \n",
        "    df['behaviorals'] = df[behaviorals].sum(axis=1)\n",
        "    \n",
        "    dels = [col for col in df.columns if ('behavioral' in col )]\n",
        "    df.drop(columns=dels, inplace=True)\n",
        "    dels = [col for col in df.columns if ('employment' in col or 'seas' in col)]\n",
        "    df.drop(columns=dels, inplace=True)\n",
        "        \n",
        "    return df\n",
        "\n",
        "\n",
        "train = engineer(train)\n",
        "val = engineer(val)\n",
        "test = engineer(test)\n",
        "train.head(2)"
      ],
      "execution_count": 7,
      "outputs": [
        {
          "output_type": "execute_result",
          "data": {
            "text/html": [
              "<div>\n",
              "<style scoped>\n",
              "    .dataframe tbody tr th:only-of-type {\n",
              "        vertical-align: middle;\n",
              "    }\n",
              "\n",
              "    .dataframe tbody tr th {\n",
              "        vertical-align: top;\n",
              "    }\n",
              "\n",
              "    .dataframe thead th {\n",
              "        text-align: right;\n",
              "    }\n",
              "</style>\n",
              "<table border=\"1\" class=\"dataframe\">\n",
              "  <thead>\n",
              "    <tr style=\"text-align: right;\">\n",
              "      <th></th>\n",
              "      <th>h1n1_concern</th>\n",
              "      <th>h1n1_knowledge</th>\n",
              "      <th>doctor_recc_h1n1</th>\n",
              "      <th>chronic_med_condition</th>\n",
              "      <th>child_under_6_months</th>\n",
              "      <th>health_insurance</th>\n",
              "      <th>health_worker</th>\n",
              "      <th>opinion_h1n1_vacc_effective</th>\n",
              "      <th>opinion_h1n1_risk</th>\n",
              "      <th>opinion_h1n1_sick_from_vacc</th>\n",
              "      <th>agegrp</th>\n",
              "      <th>education_comp</th>\n",
              "      <th>raceeth4_i</th>\n",
              "      <th>sex_i</th>\n",
              "      <th>inc_pov</th>\n",
              "      <th>marital</th>\n",
              "      <th>rent_own_r</th>\n",
              "      <th>census_region</th>\n",
              "      <th>census_msa</th>\n",
              "      <th>n_adult_r</th>\n",
              "      <th>household_children</th>\n",
              "      <th>n_people_r</th>\n",
              "      <th>hhs_region</th>\n",
              "      <th>state</th>\n",
              "      <th>vacc_h1n1_f</th>\n",
              "    </tr>\n",
              "  </thead>\n",
              "  <tbody>\n",
              "    <tr>\n",
              "      <th>20365</th>\n",
              "      <td>1.0</td>\n",
              "      <td>1.0</td>\n",
              "      <td>0.0</td>\n",
              "      <td>1.0</td>\n",
              "      <td>0.0</td>\n",
              "      <td>NaN</td>\n",
              "      <td>0.0</td>\n",
              "      <td>Somewhat Effective</td>\n",
              "      <td>Somewhat Low</td>\n",
              "      <td>Not At All Worried</td>\n",
              "      <td>18 - 34 Years</td>\n",
              "      <td>4.0</td>\n",
              "      <td>3</td>\n",
              "      <td>1</td>\n",
              "      <td>1</td>\n",
              "      <td>2.0</td>\n",
              "      <td>1.0</td>\n",
              "      <td>1</td>\n",
              "      <td>MSA, Not Principle City</td>\n",
              "      <td>4.0</td>\n",
              "      <td>0.0</td>\n",
              "      <td>4.0</td>\n",
              "      <td>2</td>\n",
              "      <td>NEW JERSEY</td>\n",
              "      <td>0</td>\n",
              "    </tr>\n",
              "    <tr>\n",
              "      <th>29138</th>\n",
              "      <td>1.0</td>\n",
              "      <td>1.0</td>\n",
              "      <td>1.0</td>\n",
              "      <td>0.0</td>\n",
              "      <td>0.0</td>\n",
              "      <td>1.0</td>\n",
              "      <td>0.0</td>\n",
              "      <td>Somewhat Effective</td>\n",
              "      <td>Somewhat High</td>\n",
              "      <td>Not Very Worried</td>\n",
              "      <td>35 - 44 Years</td>\n",
              "      <td>2.0</td>\n",
              "      <td>3</td>\n",
              "      <td>2</td>\n",
              "      <td>3</td>\n",
              "      <td>2.0</td>\n",
              "      <td>2.0</td>\n",
              "      <td>2</td>\n",
              "      <td>Non-MSA</td>\n",
              "      <td>2.0</td>\n",
              "      <td>2.0</td>\n",
              "      <td>4.0</td>\n",
              "      <td>7</td>\n",
              "      <td>IOWA</td>\n",
              "      <td>1</td>\n",
              "    </tr>\n",
              "  </tbody>\n",
              "</table>\n",
              "</div>"
            ],
            "text/plain": [
              "       h1n1_concern  h1n1_knowledge  ...       state  vacc_h1n1_f\n",
              "20365           1.0             1.0  ...  NEW JERSEY            0\n",
              "29138           1.0             1.0  ...        IOWA            1\n",
              "\n",
              "[2 rows x 25 columns]"
            ]
          },
          "metadata": {},
          "execution_count": 7
        }
      ]
    },
    {
      "cell_type": "code",
      "metadata": {
        "id": "-ZxsDorfKVSo"
      },
      "source": [
        "features = train.drop(columns=[target]).columns\n",
        "\n",
        "X_train = train[features]\n",
        "y_train = train[target]\n",
        "X_val = val[features]\n",
        "y_val = val[target]\n",
        "X_test = test[features]"
      ],
      "execution_count": 8,
      "outputs": []
    },
    {
      "cell_type": "markdown",
      "metadata": {
        "id": "nCc3XZEyG3XV"
      },
      "source": [
        "# Evaluation Metrics for Classification\n",
        "\n",
        "### 1) Kaggle 챌린지를 이어서 진행합니다.\n",
        "- **다음 조건에서 F beta score를 구하고 제출하세요.**\n",
        "    - TP = 4442, TN = 6165, FP = 1515, FN = 1930, 재현율에 정밀도의 2배 가중치를 부여합니다."
      ]
    },
    {
      "cell_type": "code",
      "metadata": {
        "id": "5uP6hUF1J6rq"
      },
      "source": [
        "tp = 4442\n",
        "tn = 6165\n",
        "fp = 1515\n",
        "fn = 1930\n",
        "total = tp + tn + fp + fn"
      ],
      "execution_count": 9,
      "outputs": []
    },
    {
      "cell_type": "markdown",
      "metadata": {
        "id": "AyphYLVhKqXM"
      },
      "source": [
        "백신 접종에 대한 정밀도, 재현율"
      ]
    },
    {
      "cell_type": "code",
      "metadata": {
        "colab": {
          "base_uri": "https://localhost:8080/"
        },
        "id": "J_lksTFQKopr",
        "outputId": "697113fa-01a4-4550-afa2-018886d367fe"
      },
      "source": [
        "# positives = tp + fp\n",
        "# actual = tp + fn\n",
        "\n",
        "def precision(tp, positives) : # 정밀도\n",
        "  return tp/positives\n",
        "\n",
        "def recall(tp, actual) :  # 재현율 = 민감도\n",
        "  return tp/actual\n",
        "prec = precision(tp, tp+fp)\n",
        "rec = recall(tp, tp+fn)\n",
        "prec, rec"
      ],
      "execution_count": 10,
      "outputs": [
        {
          "output_type": "execute_result",
          "data": {
            "text/plain": [
              "(0.7456773543730065, 0.697112366603892)"
            ]
          },
          "metadata": {},
          "execution_count": 10
        }
      ]
    },
    {
      "cell_type": "markdown",
      "metadata": {
        "id": "jZf_ZyAIK-HV"
      },
      "source": [
        "재현율에 정밀도의 2배 가중치를 부여한다 -> F_2, Β= 2\n",
        "\n",
        "정밀도에 재현율의 2배 가중치를 부여한다 -> F_0.5, Β= 0.5 \n",
        "\n",
        "(1+beta**2)*((precision*recall)/((beta**2*precision)+recall))"
      ]
    },
    {
      "cell_type": "code",
      "metadata": {
        "id": "6Mpa8mOlUlxd"
      },
      "source": [
        "def f_beta_value(beta, precision, recall) :\n",
        "  return (1 + pow(beta, 2)) * precision * recall / ( pow(beta, 2) * precision + recall )"
      ],
      "execution_count": 11,
      "outputs": []
    },
    {
      "cell_type": "code",
      "metadata": {
        "colab": {
          "base_uri": "https://localhost:8080/"
        },
        "id": "UnxVgPrzK9hW",
        "outputId": "581f5fc1-757b-4ad8-ac60-8ef6ada35747"
      },
      "source": [
        "f_beta_value(2, prec, rec)"
      ],
      "execution_count": 12,
      "outputs": [
        {
          "output_type": "execute_result",
          "data": {
            "text/plain": [
              "0.7063126093178567"
            ]
          },
          "metadata": {},
          "execution_count": 12
        }
      ]
    },
    {
      "cell_type": "code",
      "metadata": {
        "id": "b9oiGQBV8049"
      },
      "source": [
        "# data가 주어졌을 때(list 형식) 가능\n",
        "# from sklearn.metrics import fbeta_score\n",
        "# fbeta_score(, , average='macro', beta=0.5)"
      ],
      "execution_count": 13,
      "outputs": []
    },
    {
      "cell_type": "markdown",
      "metadata": {
        "id": "SwILxu1rFfmw"
      },
      "source": [
        "### 2) 모델을 학습한 후 Confusion matrix를 그리고 해석하세요\n",
        "- 임계값을 조정한 후 confusion matrix를 그려보세요\n",
        "- **(객관식) 임계값을 증가시킬때 positive 범주에 대한 재현율의 변화 양상을 제출하세요.**\n",
        "    1. 증가\n",
        "    2. 감소\n",
        "    3. 변화가 없다\n"
      ]
    },
    {
      "cell_type": "code",
      "metadata": {
        "colab": {
          "base_uri": "https://localhost:8080/"
        },
        "id": "2fUuj4mWFfmw",
        "outputId": "57bcd8be-9db4-451c-b1df-3fc0d1e9d0b1"
      },
      "source": [
        "from sklearn.pipeline import make_pipeline\n",
        "from category_encoders import OrdinalEncoder\n",
        "from sklearn.impute import SimpleImputer\n",
        "from sklearn.ensemble import RandomForestClassifier\n",
        "from sklearn.metrics import accuracy_score\n",
        "\n",
        "def my_make_pipeline(n) :\n",
        "  pipe = make_pipeline(\n",
        "      OrdinalEncoder(), \n",
        "      SimpleImputer(), \n",
        "      RandomForestClassifier(n_estimators=n, random_state=2, n_jobs=-1)\n",
        "  )\n",
        "  return pipe\n",
        "\n",
        "pipe = my_make_pipeline(100)\n",
        "pipe.fit(X_train, y_train)\n",
        "y_pred = pipe.predict(X_val)\n",
        "print('검증 정확도: ', accuracy_score(y_val, y_pred))"
      ],
      "execution_count": 14,
      "outputs": [
        {
          "output_type": "stream",
          "name": "stderr",
          "text": [
            "/usr/local/lib/python3.7/dist-packages/statsmodels/tools/_testing.py:19: FutureWarning: pandas.util.testing is deprecated. Use the functions in the public API at pandas.testing instead.\n",
            "  import pandas.util.testing as tm\n"
          ]
        },
        {
          "output_type": "stream",
          "name": "stdout",
          "text": [
            "검증 정확도:  0.8235084806072827\n"
          ]
        }
      ]
    },
    {
      "cell_type": "code",
      "metadata": {
        "colab": {
          "base_uri": "https://localhost:8080/",
          "height": 515
        },
        "id": "IfrVfE2mbFeO",
        "outputId": "5e57da10-4c03-45bd-8dd4-8631e3a630ca"
      },
      "source": [
        "import seaborn as sns\n",
        "y_pred_proba = pipe.predict_proba(X_test)\n",
        "print(\"Predicted probabilities:\\n{}\".format(pipe.predict_proba(X_test)))\n",
        "sns.displot(y_pred_proba);"
      ],
      "execution_count": 15,
      "outputs": [
        {
          "output_type": "stream",
          "name": "stdout",
          "text": [
            "Predicted probabilities:\n",
            "[[0.79 0.21]\n",
            " [0.95 0.05]\n",
            " [0.97 0.03]\n",
            " ...\n",
            " [0.94 0.06]\n",
            " [0.49 0.51]\n",
            " [0.74 0.26]]\n"
          ]
        },
        {
          "output_type": "display_data",
          "data": {
            "image/png": "[encoded data removed]",
            "text/plain": [
              "<Figure size 402.375x360 with 1 Axes>"
            ]
          },
          "metadata": {
            "needs_background": "light"
          }
        }
      ]
    },
    {
      "cell_type": "code",
      "metadata": {
        "colab": {
          "base_uri": "https://localhost:8080/",
          "height": 354
        },
        "id": "RgG5XaLKS_WU",
        "outputId": "9967b55f-6b04-4979-f4b2-4bd8b5957c35"
      },
      "source": [
        "from sklearn.metrics import plot_confusion_matrix\n",
        "import matplotlib.pyplot as plt\n",
        "\n",
        "fig, ax = plt.subplots()\n",
        "pcm = plot_confusion_matrix(pipe, X_val, y_val, cmap=plt.cm.Blues, ax=ax, values_format='')\n",
        "plt.title(f'Confusion matrix, n = {len(y_val)}', fontsize=15)\n",
        "plt.show()"
      ],
      "execution_count": 16,
      "outputs": [
        {
          "output_type": "stream",
          "name": "stderr",
          "text": [
            "/usr/local/lib/python3.7/dist-packages/sklearn/utils/deprecation.py:87: FutureWarning: Function plot_confusion_matrix is deprecated; Function `plot_confusion_matrix` is deprecated in 1.0 and will be removed in 1.2. Use one of the class methods: ConfusionMatrixDisplay.from_predictions or ConfusionMatrixDisplay.from_estimator.\n",
            "  warnings.warn(msg, category=FutureWarning)\n"
          ]
        },
        {
          "output_type": "display_data",
          "data": {
            "image/png": "[encoded data removed]",
            "text/plain": [
              "<Figure size 432x288 with 2 Axes>"
            ]
          },
          "metadata": {
            "needs_background": "light"
          }
        }
      ]
    },
    {
      "cell_type": "code",
      "metadata": {
        "id": "vC1d2WnTVNjP"
      },
      "source": [
        "threshold = 0.5\n",
        "y_pred_proba = pipe.predict_proba(X_val)[:, 1]\n",
        "y_pred = y_pred_proba > threshold"
      ],
      "execution_count": 17,
      "outputs": []
    },
    {
      "cell_type": "code",
      "metadata": {
        "colab": {
          "base_uri": "https://localhost:8080/",
          "height": 476,
          "referenced_widgets": [
            "fa199e1836d348959d0d19ebceddea9d",
            "8380aaac6acc4a01b2beff719fb40238",
            "a7903b61ef384441b88b6e11db6db58b",
            "a8cd1952217b403fa281f84d8191f6c7",
            "e0aa4161358543838b8259c161ff08d5",
            "502c4e258e8a467296e690a7ecba5153",
            "e7f4b72a0c0e40e2b39167b48784ef93"
          ]
        },
        "id": "2pRhpMsVUiFd",
        "outputId": "786c5226-206d-4844-8b51-37345f87c048"
      },
      "source": [
        "from ipywidgets import interact, fixed\n",
        "from sklearn.metrics import classification_report\n",
        "\n",
        "def explore_threshold(y_true, y_pred_proba, threshold=0.5):\n",
        "    y_pred = y_pred_proba >= threshold\n",
        "    vc = pd.Series(y_pred).value_counts()\n",
        "    ax = sns.histplot(y_pred_proba, kde=True)\n",
        "    ax.axvline(threshold, color='red')\n",
        "    ax.set_title(f'# of target, 1={vc[1]}, 0={vc[0]}')\n",
        "    plt.show()\n",
        "    print(classification_report(y_true, y_pred))\n",
        "\n",
        "interact(explore_threshold, \n",
        "    y_true=fixed(y_val), \n",
        "    y_pred_proba=fixed(y_pred_proba), \n",
        "    threshold=(0, 1, 0.01));"
      ],
      "execution_count": 18,
      "outputs": [
        {
          "output_type": "display_data",
          "data": {
            "application/vnd.jupyter.widget-view+json": {
              "model_id": "fa199e1836d348959d0d19ebceddea9d",
              "version_minor": 0,
              "version_major": 2
            },
            "text/plain": [
              "interactive(children=(FloatSlider(value=0.5, description='threshold', max=1.0, step=0.01), Output()), _dom_cla…"
            ]
          },
          "metadata": {}
        }
      ]
    },
    {
      "cell_type": "markdown",
      "metadata": {
        "id": "6Us2mV3qFfmx"
      },
      "source": [
        "### 3) 랜덤포레스트의 n_estimator를 1, 10, 100, 1000으로 바꾸어 가며 positive 범주의 predict_proba를 비교해 보세요\n",
        "- 하이퍼파라미터는 다음과 같이 설정합니다.\n",
        "    - n_jobs=-1, random_state=10, max_depth=None, oob_score=True\n",
        "- **(객관식) 확률값들의 분포의 변화를 아래 보기 중에서 고르세요**\n",
        "    1. 다양해진다\n",
        "    2. 변화가없다\n"
      ]
    },
    {
      "cell_type": "code",
      "metadata": {
        "id": "0lrempTRFfmx",
        "outputId": "7d001f83-1dc8-4712-bb75-563b2437dc2d",
        "colab": {
          "base_uri": "https://localhost:8080/"
        }
      },
      "source": [
        "from sklearn.metrics import accuracy_score, f1_score, confusion_matrix, precision_score, recall_score\n",
        "\n",
        "pipe1 = my_make_pipeline(1)\n",
        "pipe1.fit(X_train, y_train)\n",
        "print('\\n훈련 정확도: ', pipe1.score(X_train, y_train))\n",
        "print('검증 정확도: ', pipe1.score(X_val, y_val))\n",
        "y_pred1 = pipe1.predict(X_val)\n",
        "print('검증 f1: ', f1_score(y_val, y_pred1))\n",
        "\n",
        "pipe10 = my_make_pipeline(10)\n",
        "pipe10.fit(X_train, y_train)\n",
        "print('\\n훈련 정확도: ', pipe10.score(X_train, y_train))\n",
        "print('검증 정확도: ', pipe10.score(X_val, y_val))\n",
        "y_pred10 = pipe10.predict(X_val)\n",
        "print('검증 f1: ', f1_score(y_val, y_pred10))\n",
        "\n",
        "pipe100 = my_make_pipeline(100)\n",
        "pipe100 = my_make_pipeline(10)\n",
        "pipe100.fit(X_train, y_train)\n",
        "print('\\n훈련 정확도: ', pipe100.score(X_train, y_train))\n",
        "print('검증 정확도: ', pipe100.score(X_val, y_val))\n",
        "y_pred100 = pipe100.predict(X_val)\n",
        "print('검증 f1: ', f1_score(y_val, y_pred100))\n",
        "\n",
        "pipe1000 = my_make_pipeline(1000)\n",
        "pipe1000 = my_make_pipeline(10)\n",
        "pipe1000.fit(X_train, y_train)\n",
        "print('\\n훈련 정확도: ', pipe1000.score(X_train, y_train))\n",
        "print('검증 정확도: ', pipe1000.score(X_val, y_val))\n",
        "y_pred1000 = pipe1000.predict(X_val)\n",
        "print('검증 f1: ', f1_score(y_val, y_pred1000))"
      ],
      "execution_count": 19,
      "outputs": [
        {
          "output_type": "stream",
          "name": "stdout",
          "text": [
            "\n",
            "훈련 정확도:  0.9018177504966937\n",
            "검증 정확도:  0.736567429723639\n",
            "검증 f1:  0.45763125763125767\n",
            "\n",
            "훈련 정확도:  0.9814666548053257\n",
            "검증 정확도:  0.8117661012928479\n",
            "검증 f1:  0.5088207985143919\n",
            "\n",
            "훈련 정확도:  0.9814666548053257\n",
            "검증 정확도:  0.8117661012928479\n",
            "검증 f1:  0.5088207985143919\n",
            "\n",
            "훈련 정확도:  0.9814666548053257\n",
            "검증 정확도:  0.8117661012928479\n",
            "검증 f1:  0.5088207985143919\n"
          ]
        }
      ]
    },
    {
      "cell_type": "code",
      "metadata": {
        "id": "Wmgh1i2xZ29T",
        "outputId": "430d5ebb-8a9a-4e73-fa3f-e3ff9aecc848",
        "colab": {
          "base_uri": "https://localhost:8080/",
          "height": 1000
        }
      },
      "source": [
        "# 확률값 분포\n",
        "\n",
        "fig = plt.figure()\n",
        "y_pred_proba_1 = pipe1.predict_proba(X_val)[:, 1]\n",
        "sns.displot(y_pred_proba_1)\n",
        "plt.title(\"predict_proba n_estimator 1\")\n",
        "\n",
        "y_pred_proba_10 = pipe1.predict_proba(X_val)[:, 1]\n",
        "sns.displot(y_pred_proba_10)\n",
        "plt.title(\"predict_proba n_estimator 10\")\n",
        "\n",
        "y_pred_proba_100 = pipe1.predict_proba(X_val)[:, 1]\n",
        "sns.displot(y_pred_proba_100)\n",
        "plt.title(\"predict_proba n_estimator 100\")\n",
        "\n",
        "y_pred_proba_1000 = pipe1000.predict_proba(X_val)[:, 1]\n",
        "sns.displot(y_pred_proba_1000)\n",
        "plt.title(\"predict_proba n_estimator 1000\")\n",
        "\n",
        "plt.show()"
      ],
      "execution_count": 20,
      "outputs": [
        {
          "output_type": "display_data",
          "data": {
            "text/plain": [
              "<Figure size 432x288 with 0 Axes>"
            ]
          },
          "metadata": {}
        },
        {
          "output_type": "display_data",
          "data": {
            "image/png": "[encoded data removed]",
            "text/plain": [
              "<Figure size 360x360 with 1 Axes>"
            ]
          },
          "metadata": {
            "needs_background": "light"
          }
        },
        {
          "output_type": "display_data",
          "data": {
            "image/png": "[encoded data removed]",
            "text/plain": [
              "<Figure size 360x360 with 1 Axes>"
            ]
          },
          "metadata": {
            "needs_background": "light"
          }
        },
        {
          "output_type": "display_data",
          "data": {
            "image/png": "[encoded data removed]",
            "text/plain": [
              "<Figure size 360x360 with 1 Axes>"
            ]
          },
          "metadata": {
            "needs_background": "light"
          }
        },
        {
          "output_type": "display_data",
          "data": {
            "image/png": "[encoded data removed]",
            "text/plain": [
              "<Figure size 360x360 with 1 Axes>"
            ]
          },
          "metadata": {
            "needs_background": "light"
          }
        }
      ]
    },
    {
      "cell_type": "markdown",
      "metadata": {
        "id": "RUktYXjTFfmy"
      },
      "source": [
        "### 4) 두개 이상의 다른 분류 모델을 학습시켜 ROC curve, AUC 점수를 비교하고 설명합니다.\n",
        "- 더 좋은 결과가 나오는 모델을 사용해서 캐글에 제출하세요\n",
        "- **캐글 Leaderboard의 본인 Score를 제출하세요.**"
      ]
    },
    {
      "cell_type": "code",
      "metadata": {
        "id": "TDUR073JFfmz"
      },
      "source": [
        "from sklearn.metrics import roc_curve, roc_auc_score\n",
        "\n",
        "auc_score_1 = roc_auc_score(y_val, y_pred_proba_1)\n",
        "fpr_1, tpr_1, thresholds_1 = roc_curve(y_val, y_pred_proba_1)\n",
        "\n",
        "roc_1 = pd.DataFrame({'FPR(Fall-out)': fpr_1, \n",
        "                      'TPRate(Recall)': tpr_1, \n",
        "                      'Threshold': thresholds_1\n",
        "})\n",
        "\n",
        "auc_score_100 = roc_auc_score(y_val, y_pred_proba_100)\n",
        "fpr_100, tpr_100, thresholds_100 = roc_curve(y_val, y_pred_proba_100)\n",
        "\n",
        "roc_100 = pd.DataFrame({'FPR(Fall-out)': fpr_100, \n",
        "                      'TPRate(Recall)': tpr_100, \n",
        "                      'Threshold': thresholds_100\n",
        "})\n"
      ],
      "execution_count": 21,
      "outputs": []
    },
    {
      "cell_type": "code",
      "metadata": {
        "id": "BoED8TbzqDlc",
        "outputId": "ccdf07b6-ddfa-44cb-80b1-3f5b12cc3604",
        "colab": {
          "base_uri": "https://localhost:8080/",
          "height": 331
        }
      },
      "source": [
        "plt.subplot(1,2, 1)\n",
        "plt.scatter(fpr_1, tpr_1)\n",
        "plt.title('ROC curve')\n",
        "plt.xlabel('FPR(Fall-out)')\n",
        "plt.ylabel('TPR(Recall)')\n",
        "\n",
        "print(\"auc score 1 \", auc_score_1)\n",
        "\n",
        "plt.subplot(1,2, 2)\n",
        "plt.scatter(fpr_100, tpr_100)\n",
        "plt.title('ROC curve')\n",
        "plt.xlabel('FPR(Fall-out)')\n",
        "plt.ylabel('TPR(Recall)')\n",
        "\n",
        "print(\"auc score 100 \", auc_score_100)"
      ],
      "execution_count": 22,
      "outputs": [
        {
          "output_type": "stream",
          "name": "stdout",
          "text": [
            "auc score 1  0.6443727839210905\n",
            "auc score 100  0.6443727839210905\n"
          ]
        },
        {
          "output_type": "display_data",
          "data": {
            "image/png": "[encoded data removed]",
            "text/plain": [
              "<Figure size 432x288 with 2 Axes>"
            ]
          },
          "metadata": {
            "needs_background": "light"
          }
        }
      ]
    },
    {
      "cell_type": "markdown",
      "metadata": {
        "id": "7YPuAMA8Ffmz"
      },
      "source": [
        "## 🔥 도전과제"
      ]
    },
    {
      "cell_type": "markdown",
      "metadata": {
        "id": "IzMC_pAAFfm0"
      },
      "source": [
        "### 5) 각 평가지표에 대해 결과를 최대한 분석하고 무엇이 부족한지, 어떤 방향으로 성능을 높여야 하는지 논하세요."
      ]
    },
    {
      "cell_type": "code",
      "metadata": {
        "id": "qmm6HyGYFfm0"
      },
      "source": [
        "### 이곳에서 과제를 진행해 주세요 ### "
      ],
      "execution_count": 23,
      "outputs": []
    }
  ]
}