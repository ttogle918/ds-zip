{
  "nbformat": 4,
  "nbformat_minor": 0,
  "metadata": {
    "kernelspec": {
      "display_name": "Python 3",
      "language": "python",
      "name": "python3"
    },
    "language_info": {
      "codemirror_mode": {
        "name": "ipython",
        "version": 3
      },
      "file_extension": ".py",
      "mimetype": "text/x-python",
      "name": "python",
      "nbconvert_exporter": "python",
      "pygments_lexer": "ipython3",
      "version": "3.7.7"
    },
    "colab": {
      "name": "n231a-choose-your-ml-problems.ipynb",
      "provenance": [],
      "include_colab_link": true
    },
    "widgets": {
      "application/vnd.jupyter.widget-state+json": {
        "7d70d69d0a7648059da6423f66cf6a4d": {
          "model_module": "@jupyter-widgets/controls",
          "model_name": "VBoxModel",
          "model_module_version": "1.5.0",
          "state": {
            "_view_name": "VBoxView",
            "_dom_classes": [
              "widget-interact"
            ],
            "_model_name": "VBoxModel",
            "_view_module": "@jupyter-widgets/controls",
            "_model_module_version": "1.5.0",
            "_view_count": null,
            "_view_module_version": "1.5.0",
            "box_style": "",
            "layout": "IPY_MODEL_e4cdf8f9205c40c0966c50ad1360baaf",
            "_model_module": "@jupyter-widgets/controls",
            "children": [
              "IPY_MODEL_af247039e98f45db9cdaf05e4e7a6c82",
              "IPY_MODEL_133f9b783231468381c538bbe6636ff6"
            ]
          }
        },
        "e4cdf8f9205c40c0966c50ad1360baaf": {
          "model_module": "@jupyter-widgets/base",
          "model_name": "LayoutModel",
          "model_module_version": "1.2.0",
          "state": {
            "_view_name": "LayoutView",
            "grid_template_rows": null,
            "right": null,
            "justify_content": null,
            "_view_module": "@jupyter-widgets/base",
            "overflow": null,
            "_model_module_version": "1.2.0",
            "_view_count": null,
            "flex_flow": null,
            "width": null,
            "min_width": null,
            "border": null,
            "align_items": null,
            "bottom": null,
            "_model_module": "@jupyter-widgets/base",
            "top": null,
            "grid_column": null,
            "overflow_y": null,
            "overflow_x": null,
            "grid_auto_flow": null,
            "grid_area": null,
            "grid_template_columns": null,
            "flex": null,
            "_model_name": "LayoutModel",
            "justify_items": null,
            "grid_row": null,
            "max_height": null,
            "align_content": null,
            "visibility": null,
            "align_self": null,
            "height": null,
            "min_height": null,
            "padding": null,
            "grid_auto_rows": null,
            "grid_gap": null,
            "max_width": null,
            "order": null,
            "_view_module_version": "1.2.0",
            "grid_template_areas": null,
            "object_position": null,
            "object_fit": null,
            "grid_auto_columns": null,
            "margin": null,
            "display": null,
            "left": null
          }
        },
        "af247039e98f45db9cdaf05e4e7a6c82": {
          "model_module": "@jupyter-widgets/controls",
          "model_name": "FloatSliderModel",
          "model_module_version": "1.5.0",
          "state": {
            "_view_name": "FloatSliderView",
            "style": "IPY_MODEL_af456d1007234a4186defd9a5821a20f",
            "_dom_classes": [],
            "description": "threshold",
            "step": 0.01,
            "_model_name": "FloatSliderModel",
            "orientation": "horizontal",
            "max": 1,
            "_view_module": "@jupyter-widgets/controls",
            "_model_module_version": "1.5.0",
            "value": 0.5,
            "_view_count": null,
            "disabled": false,
            "_view_module_version": "1.5.0",
            "min": 0,
            "continuous_update": true,
            "readout_format": ".2f",
            "description_tooltip": null,
            "readout": true,
            "_model_module": "@jupyter-widgets/controls",
            "layout": "IPY_MODEL_5c3e0645184b4404bdec3273ff6e9304"
          }
        },
        "133f9b783231468381c538bbe6636ff6": {
          "model_module": "@jupyter-widgets/output",
          "model_name": "OutputModel",
          "model_module_version": "1.0.0",
          "state": {
            "_view_name": "OutputView",
            "msg_id": "",
            "_dom_classes": [],
            "_model_name": "OutputModel",
            "outputs": [
              {
                "output_type": "display_data",
                "data": {
                  "image/png": "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\n",
                  "text/plain": "<Figure size 432x288 with 1 Axes>"
                },
                "metadata": {
                  "needs_background": "light"
                }
              },
              {
                "output_type": "stream",
                "name": "stdout",
                "text": [
                  "              precision    recall  f1-score   support\n",
                  "\n",
                  "       False       0.69      0.70      0.69      8791\n",
                  "        True       0.73      0.73      0.73     10110\n",
                  "\n",
                  "    accuracy                           0.71     18901\n",
                  "   macro avg       0.71      0.71      0.71     18901\n",
                  "weighted avg       0.71      0.71      0.71     18901\n",
                  "\n"
                ]
              }
            ],
            "_view_module": "@jupyter-widgets/output",
            "_model_module_version": "1.0.0",
            "_view_count": null,
            "_view_module_version": "1.0.0",
            "layout": "IPY_MODEL_226ba1ecac6a48acafb8ccd378cda28e",
            "_model_module": "@jupyter-widgets/output"
          }
        },
        "af456d1007234a4186defd9a5821a20f": {
          "model_module": "@jupyter-widgets/controls",
          "model_name": "SliderStyleModel",
          "model_module_version": "1.5.0",
          "state": {
            "_view_name": "StyleView",
            "handle_color": null,
            "_model_name": "SliderStyleModel",
            "description_width": "",
            "_view_module": "@jupyter-widgets/base",
            "_model_module_version": "1.5.0",
            "_view_count": null,
            "_view_module_version": "1.2.0",
            "_model_module": "@jupyter-widgets/controls"
          }
        },
        "5c3e0645184b4404bdec3273ff6e9304": {
          "model_module": "@jupyter-widgets/base",
          "model_name": "LayoutModel",
          "model_module_version": "1.2.0",
          "state": {
            "_view_name": "LayoutView",
            "grid_template_rows": null,
            "right": null,
            "justify_content": null,
            "_view_module": "@jupyter-widgets/base",
            "overflow": null,
            "_model_module_version": "1.2.0",
            "_view_count": null,
            "flex_flow": null,
            "width": null,
            "min_width": null,
            "border": null,
            "align_items": null,
            "bottom": null,
            "_model_module": "@jupyter-widgets/base",
            "top": null,
            "grid_column": null,
            "overflow_y": null,
            "overflow_x": null,
            "grid_auto_flow": null,
            "grid_area": null,
            "grid_template_columns": null,
            "flex": null,
            "_model_name": "LayoutModel",
            "justify_items": null,
            "grid_row": null,
            "max_height": null,
            "align_content": null,
            "visibility": null,
            "align_self": null,
            "height": null,
            "min_height": null,
            "padding": null,
            "grid_auto_rows": null,
            "grid_gap": null,
            "max_width": null,
            "order": null,
            "_view_module_version": "1.2.0",
            "grid_template_areas": null,
            "object_position": null,
            "object_fit": null,
            "grid_auto_columns": null,
            "margin": null,
            "display": null,
            "left": null
          }
        },
        "226ba1ecac6a48acafb8ccd378cda28e": {
          "model_module": "@jupyter-widgets/base",
          "model_name": "LayoutModel",
          "model_module_version": "1.2.0",
          "state": {
            "_view_name": "LayoutView",
            "grid_template_rows": null,
            "right": null,
            "justify_content": null,
            "_view_module": "@jupyter-widgets/base",
            "overflow": null,
            "_model_module_version": "1.2.0",
            "_view_count": null,
            "flex_flow": null,
            "width": null,
            "min_width": null,
            "border": null,
            "align_items": null,
            "bottom": null,
            "_model_module": "@jupyter-widgets/base",
            "top": null,
            "grid_column": null,
            "overflow_y": null,
            "overflow_x": null,
            "grid_auto_flow": null,
            "grid_area": null,
            "grid_template_columns": null,
            "flex": null,
            "_model_name": "LayoutModel",
            "justify_items": null,
            "grid_row": null,
            "max_height": null,
            "align_content": null,
            "visibility": null,
            "align_self": null,
            "height": null,
            "min_height": null,
            "padding": null,
            "grid_auto_rows": null,
            "grid_gap": null,
            "max_width": null,
            "order": null,
            "_view_module_version": "1.2.0",
            "grid_template_areas": null,
            "object_position": null,
            "object_fit": null,
            "grid_auto_columns": null,
            "margin": null,
            "display": null,
            "left": null
          }
        }
      }
    }
  },
  "cells": [
    {
      "cell_type": "markdown",
      "metadata": {
        "id": "view-in-github",
        "colab_type": "text"
      },
      "source": [
        "<a href=\"https://colab.research.google.com/github/ttogle918/ds-section2-sprint3/blob/main/n231-choose-your-ml-problems/n231a-choose-your-ml-problems.ipynb\" target=\"_parent\"><img src=\"https://colab.research.google.com/assets/colab-badge.svg\" alt=\"Open In Colab\"/></a>"
      ]
    },
    {
      "cell_type": "markdown",
      "metadata": {
        "id": "nCc3XZEyG3XV"
      },
      "source": [
        "<img align=\"right\" src=\"https://ds-cs-images.s3.ap-northeast-2.amazonaws.com/Codestates_Fulllogo_Color.png\" width=100>\n",
        "\n",
        "## *AIB / SECTION 2 / SPRINT 3 / NOTE 1*\n",
        "\n",
        "# 📝 Assignment\n",
        "---\n",
        "# Choose your ML problems\n",
        "\n",
        "이번 스프린트에서는 포트폴리오 프로젝트를 위해 수강생 각자가 정한 데이터셋을 사용하여 과제를 수행합니다. 프로젝트를 위한 데이터를 최종 선택하기 전에 여러 가능한 데이터세트를 살펴보고 간단한 모델까지 학습해 보는 것을 추천드립니다."
      ]
    },
    {
      "cell_type": "code",
      "metadata": {
        "id": "V-fnt6zYWdYW"
      },
      "source": [
        "# !pip install category_encoders"
      ],
      "execution_count": 1,
      "outputs": []
    },
    {
      "cell_type": "code",
      "metadata": {
        "id": "NuajgoZZJkXu",
        "outputId": "55a7c19a-9060-40bd-ae17-90a349a5009b",
        "colab": {
          "base_uri": "https://localhost:8080/"
        }
      },
      "source": [
        "# google 드라이브에 로컬 파일 업로드\n",
        "from google.colab import files, drive\n",
        "drive.mount('/content/drive')"
      ],
      "execution_count": 2,
      "outputs": [
        {
          "output_type": "stream",
          "name": "stdout",
          "text": [
            "Drive already mounted at /content/drive; to attempt to forcibly remount, call drive.mount(\"/content/drive\", force_remount=True).\n"
          ]
        }
      ]
    },
    {
      "cell_type": "markdown",
      "metadata": {
        "id": "nsQyX4k0HwxY"
      },
      "source": [
        "1. country : 와인의 원산지 국가\n",
        "2. description : 와인의 맛, 향, 색깔, 느낌 등을 짧게 묘사한 문장\n",
        "3. designation : 포도주를 만든 포도원\n",
        "4. points : WineEnthusiast가 와인을 평가한 점수 (1 - 100, 80이상의 점수만 게시한다고 말했음)\n",
        "5. price : 와인 한병의 가격\n",
        "6. province : 와인이 생산된 주\n",
        "7. region_1 : 주로 와인이 재배된 곳\n",
        "8. region_2 : 때때로 와인이 재배되는 지역\n",
        "9. variety : 와인을 만드는데 사용되는 포도의 종류\n",
        "10. winery : 와인 공장 명"
      ]
    },
    {
      "cell_type": "code",
      "metadata": {
        "id": "e2h_5wBeFQUS",
        "outputId": "66bf6779-f7ab-4af1-e64a-44ecb7d48891",
        "colab": {
          "base_uri": "https://localhost:8080/",
          "height": 284
        }
      },
      "source": [
        "import pandas as pd\n",
        "df = pd.read_csv(\"/content/drive/MyDrive/Colab Notebooks/code_states/winemag-data.csv\")\n",
        "df.head(2)"
      ],
      "execution_count": 3,
      "outputs": [
        {
          "output_type": "execute_result",
          "data": {
            "text/html": [
              "<div>\n",
              "<style scoped>\n",
              "    .dataframe tbody tr th:only-of-type {\n",
              "        vertical-align: middle;\n",
              "    }\n",
              "\n",
              "    .dataframe tbody tr th {\n",
              "        vertical-align: top;\n",
              "    }\n",
              "\n",
              "    .dataframe thead th {\n",
              "        text-align: right;\n",
              "    }\n",
              "</style>\n",
              "<table border=\"1\" class=\"dataframe\">\n",
              "  <thead>\n",
              "    <tr style=\"text-align: right;\">\n",
              "      <th></th>\n",
              "      <th>Unnamed: 0</th>\n",
              "      <th>country</th>\n",
              "      <th>description</th>\n",
              "      <th>designation</th>\n",
              "      <th>points</th>\n",
              "      <th>price</th>\n",
              "      <th>province</th>\n",
              "      <th>region_1</th>\n",
              "      <th>region_2</th>\n",
              "      <th>variety</th>\n",
              "      <th>winery</th>\n",
              "    </tr>\n",
              "  </thead>\n",
              "  <tbody>\n",
              "    <tr>\n",
              "      <th>0</th>\n",
              "      <td>0</td>\n",
              "      <td>US</td>\n",
              "      <td>This tremendous 100% varietal wine hails from ...</td>\n",
              "      <td>Martha's Vineyard</td>\n",
              "      <td>96</td>\n",
              "      <td>235.0</td>\n",
              "      <td>California</td>\n",
              "      <td>Napa Valley</td>\n",
              "      <td>Napa</td>\n",
              "      <td>Cabernet Sauvignon</td>\n",
              "      <td>Heitz</td>\n",
              "    </tr>\n",
              "    <tr>\n",
              "      <th>1</th>\n",
              "      <td>1</td>\n",
              "      <td>Spain</td>\n",
              "      <td>Ripe aromas of fig, blackberry and cassis are ...</td>\n",
              "      <td>Carodorum Selección Especial Reserva</td>\n",
              "      <td>96</td>\n",
              "      <td>110.0</td>\n",
              "      <td>Northern Spain</td>\n",
              "      <td>Toro</td>\n",
              "      <td>NaN</td>\n",
              "      <td>Tinta de Toro</td>\n",
              "      <td>Bodega Carmen Rodríguez</td>\n",
              "    </tr>\n",
              "  </tbody>\n",
              "</table>\n",
              "</div>"
            ],
            "text/plain": [
              "   Unnamed: 0 country  ...             variety                   winery\n",
              "0           0      US  ...  Cabernet Sauvignon                    Heitz\n",
              "1           1   Spain  ...       Tinta de Toro  Bodega Carmen Rodríguez\n",
              "\n",
              "[2 rows x 11 columns]"
            ]
          },
          "metadata": {},
          "execution_count": 3
        }
      ]
    },
    {
      "cell_type": "code",
      "metadata": {
        "id": "_RFNoMqTF4KJ",
        "outputId": "e06171fe-8d4a-4f67-90c2-c05dec67f979",
        "colab": {
          "base_uri": "https://localhost:8080/"
        }
      },
      "source": [
        "df.columns"
      ],
      "execution_count": 4,
      "outputs": [
        {
          "output_type": "execute_result",
          "data": {
            "text/plain": [
              "Index(['Unnamed: 0', 'country', 'description', 'designation', 'points',\n",
              "       'price', 'province', 'region_1', 'region_2', 'variety', 'winery'],\n",
              "      dtype='object')"
            ]
          },
          "metadata": {},
          "execution_count": 4
        }
      ]
    },
    {
      "cell_type": "code",
      "metadata": {
        "id": "bCcbG-_kL6Im"
      },
      "source": [
        "df = df.drop(['Unnamed: 0', 'description'], axis=1)"
      ],
      "execution_count": 5,
      "outputs": []
    },
    {
      "cell_type": "code",
      "metadata": {
        "id": "-IlastUQHoTC",
        "outputId": "3b34a55b-01d4-486c-8ac1-99f89daf3a87",
        "colab": {
          "base_uri": "https://localhost:8080/"
        }
      },
      "source": [
        "df.isnull().sum()"
      ],
      "execution_count": 6,
      "outputs": [
        {
          "output_type": "execute_result",
          "data": {
            "text/plain": [
              "country            5\n",
              "designation    45735\n",
              "points             0\n",
              "price          13695\n",
              "province           5\n",
              "region_1       25060\n",
              "region_2       89977\n",
              "variety            0\n",
              "winery             0\n",
              "dtype: int64"
            ]
          },
          "metadata": {},
          "execution_count": 6
        }
      ]
    },
    {
      "cell_type": "code",
      "metadata": {
        "id": "q5wXso0qLKZW",
        "outputId": "3133320b-26aa-495e-8053-78f4e430505c",
        "colab": {
          "base_uri": "https://localhost:8080/"
        }
      },
      "source": [
        "df['country'] = df['country'].fillna('')\n",
        "df['price'] = df['price'].fillna(0)\n",
        "df['province'] = df['province'].fillna('')\n",
        "df['region_1'] = df['country'].fillna(df['region_2'])\n",
        "df['region_2'] = df['country'].fillna(df['region_1'])\n",
        "\n",
        "\n",
        "df['region_2'].isnull().sum()"
      ],
      "execution_count": 7,
      "outputs": [
        {
          "output_type": "execute_result",
          "data": {
            "text/plain": [
              "0"
            ]
          },
          "metadata": {},
          "execution_count": 7
        }
      ]
    },
    {
      "cell_type": "code",
      "metadata": {
        "id": "ep_tGqRYR8zD",
        "outputId": "307e67bd-75cf-4ec2-beb6-9fa4a6f7e755",
        "colab": {
          "base_uri": "https://localhost:8080/"
        }
      },
      "source": [
        "df['region_1'].unique()"
      ],
      "execution_count": 8,
      "outputs": [
        {
          "output_type": "execute_result",
          "data": {
            "text/plain": [
              "array(['US', 'Spain', 'France', 'Italy', 'New Zealand', 'Bulgaria',\n",
              "       'Argentina', 'Australia', 'Portugal', 'Israel', 'South Africa',\n",
              "       'Greece', 'Chile', 'Morocco', 'Romania', 'Germany', 'Canada',\n",
              "       'Moldova', 'Hungary', 'Austria', 'Croatia', 'Slovenia', '',\n",
              "       'India', 'Turkey', 'Macedonia', 'Lebanon', 'Serbia', 'Uruguay',\n",
              "       'Switzerland', 'Albania', 'Bosnia and Herzegovina', 'Brazil',\n",
              "       'Cyprus', 'Lithuania', 'Japan', 'China', 'South Korea', 'Ukraine',\n",
              "       'England', 'Mexico', 'Georgia', 'Montenegro', 'Luxembourg',\n",
              "       'Slovakia', 'Czech Republic', 'Egypt', 'Tunisia', 'US-France'],\n",
              "      dtype=object)"
            ]
          },
          "metadata": {},
          "execution_count": 8
        }
      ]
    },
    {
      "cell_type": "code",
      "metadata": {
        "id": "Vhe0Z-OOKFBe",
        "outputId": "4513a855-7850-44c3-9e85-c9de458fd4a3",
        "colab": {
          "base_uri": "https://localhost:8080/"
        }
      },
      "source": [
        "df.duplicated().sum()"
      ],
      "execution_count": 9,
      "outputs": [
        {
          "output_type": "execute_result",
          "data": {
            "text/plain": [
              "56428"
            ]
          },
          "metadata": {},
          "execution_count": 9
        }
      ]
    },
    {
      "cell_type": "code",
      "metadata": {
        "id": "1sNFHU7YMSmq",
        "outputId": "b3935a5a-91b1-439e-c037-c8f80e6b19b3",
        "colab": {
          "base_uri": "https://localhost:8080/"
        }
      },
      "source": [
        "print(\"drop_duplicates 전\", df.shape)\n",
        "df = df.drop_duplicates(keep='first')\n",
        "print(\"drop_duplicates 후 : \", df.shape)"
      ],
      "execution_count": 10,
      "outputs": [
        {
          "output_type": "stream",
          "name": "stdout",
          "text": [
            "drop_duplicates 전 (150930, 9)\n",
            "drop_duplicates 후 :  (94502, 9)\n"
          ]
        }
      ]
    },
    {
      "cell_type": "code",
      "metadata": {
        "id": "QSRT-kNcJxwX",
        "outputId": "90e4ccb1-fc53-45e9-c11b-25680b202e99",
        "colab": {
          "base_uri": "https://localhost:8080/"
        }
      },
      "source": [
        "df.dtypes"
      ],
      "execution_count": 11,
      "outputs": [
        {
          "output_type": "execute_result",
          "data": {
            "text/plain": [
              "country         object\n",
              "designation     object\n",
              "points           int64\n",
              "price          float64\n",
              "province        object\n",
              "region_1        object\n",
              "region_2        object\n",
              "variety         object\n",
              "winery          object\n",
              "dtype: object"
            ]
          },
          "metadata": {},
          "execution_count": 11
        }
      ]
    },
    {
      "cell_type": "code",
      "metadata": {
        "id": "o5p8DY6EJ1IG",
        "outputId": "35caefac-0d0d-440a-ff65-6b142da811d4",
        "colab": {
          "base_uri": "https://localhost:8080/",
          "height": 407
        }
      },
      "source": [
        "df.describe(include='all')"
      ],
      "execution_count": 12,
      "outputs": [
        {
          "output_type": "execute_result",
          "data": {
            "text/html": [
              "<div>\n",
              "<style scoped>\n",
              "    .dataframe tbody tr th:only-of-type {\n",
              "        vertical-align: middle;\n",
              "    }\n",
              "\n",
              "    .dataframe tbody tr th {\n",
              "        vertical-align: top;\n",
              "    }\n",
              "\n",
              "    .dataframe thead th {\n",
              "        text-align: right;\n",
              "    }\n",
              "</style>\n",
              "<table border=\"1\" class=\"dataframe\">\n",
              "  <thead>\n",
              "    <tr style=\"text-align: right;\">\n",
              "      <th></th>\n",
              "      <th>country</th>\n",
              "      <th>designation</th>\n",
              "      <th>points</th>\n",
              "      <th>price</th>\n",
              "      <th>province</th>\n",
              "      <th>region_1</th>\n",
              "      <th>region_2</th>\n",
              "      <th>variety</th>\n",
              "      <th>winery</th>\n",
              "    </tr>\n",
              "  </thead>\n",
              "  <tbody>\n",
              "    <tr>\n",
              "      <th>count</th>\n",
              "      <td>94502</td>\n",
              "      <td>65906</td>\n",
              "      <td>94502.000000</td>\n",
              "      <td>94502.000000</td>\n",
              "      <td>94502</td>\n",
              "      <td>94502</td>\n",
              "      <td>94502</td>\n",
              "      <td>94502</td>\n",
              "      <td>94502</td>\n",
              "    </tr>\n",
              "    <tr>\n",
              "      <th>unique</th>\n",
              "      <td>49</td>\n",
              "      <td>30621</td>\n",
              "      <td>NaN</td>\n",
              "      <td>NaN</td>\n",
              "      <td>456</td>\n",
              "      <td>49</td>\n",
              "      <td>49</td>\n",
              "      <td>632</td>\n",
              "      <td>14810</td>\n",
              "    </tr>\n",
              "    <tr>\n",
              "      <th>top</th>\n",
              "      <td>US</td>\n",
              "      <td>Reserve</td>\n",
              "      <td>NaN</td>\n",
              "      <td>NaN</td>\n",
              "      <td>California</td>\n",
              "      <td>US</td>\n",
              "      <td>US</td>\n",
              "      <td>Pinot Noir</td>\n",
              "      <td>Williams Selyem</td>\n",
              "    </tr>\n",
              "    <tr>\n",
              "      <th>freq</th>\n",
              "      <td>38962</td>\n",
              "      <td>1695</td>\n",
              "      <td>NaN</td>\n",
              "      <td>NaN</td>\n",
              "      <td>27748</td>\n",
              "      <td>38962</td>\n",
              "      <td>38962</td>\n",
              "      <td>8931</td>\n",
              "      <td>213</td>\n",
              "    </tr>\n",
              "    <tr>\n",
              "      <th>mean</th>\n",
              "      <td>NaN</td>\n",
              "      <td>NaN</td>\n",
              "      <td>87.935324</td>\n",
              "      <td>30.779095</td>\n",
              "      <td>NaN</td>\n",
              "      <td>NaN</td>\n",
              "      <td>NaN</td>\n",
              "      <td>NaN</td>\n",
              "      <td>NaN</td>\n",
              "    </tr>\n",
              "    <tr>\n",
              "      <th>std</th>\n",
              "      <td>NaN</td>\n",
              "      <td>NaN</td>\n",
              "      <td>3.221042</td>\n",
              "      <td>37.363951</td>\n",
              "      <td>NaN</td>\n",
              "      <td>NaN</td>\n",
              "      <td>NaN</td>\n",
              "      <td>NaN</td>\n",
              "      <td>NaN</td>\n",
              "    </tr>\n",
              "    <tr>\n",
              "      <th>min</th>\n",
              "      <td>NaN</td>\n",
              "      <td>NaN</td>\n",
              "      <td>80.000000</td>\n",
              "      <td>0.000000</td>\n",
              "      <td>NaN</td>\n",
              "      <td>NaN</td>\n",
              "      <td>NaN</td>\n",
              "      <td>NaN</td>\n",
              "      <td>NaN</td>\n",
              "    </tr>\n",
              "    <tr>\n",
              "      <th>25%</th>\n",
              "      <td>NaN</td>\n",
              "      <td>NaN</td>\n",
              "      <td>86.000000</td>\n",
              "      <td>14.000000</td>\n",
              "      <td>NaN</td>\n",
              "      <td>NaN</td>\n",
              "      <td>NaN</td>\n",
              "      <td>NaN</td>\n",
              "      <td>NaN</td>\n",
              "    </tr>\n",
              "    <tr>\n",
              "      <th>50%</th>\n",
              "      <td>NaN</td>\n",
              "      <td>NaN</td>\n",
              "      <td>88.000000</td>\n",
              "      <td>22.000000</td>\n",
              "      <td>NaN</td>\n",
              "      <td>NaN</td>\n",
              "      <td>NaN</td>\n",
              "      <td>NaN</td>\n",
              "      <td>NaN</td>\n",
              "    </tr>\n",
              "    <tr>\n",
              "      <th>75%</th>\n",
              "      <td>NaN</td>\n",
              "      <td>NaN</td>\n",
              "      <td>90.000000</td>\n",
              "      <td>38.000000</td>\n",
              "      <td>NaN</td>\n",
              "      <td>NaN</td>\n",
              "      <td>NaN</td>\n",
              "      <td>NaN</td>\n",
              "      <td>NaN</td>\n",
              "    </tr>\n",
              "    <tr>\n",
              "      <th>max</th>\n",
              "      <td>NaN</td>\n",
              "      <td>NaN</td>\n",
              "      <td>100.000000</td>\n",
              "      <td>2300.000000</td>\n",
              "      <td>NaN</td>\n",
              "      <td>NaN</td>\n",
              "      <td>NaN</td>\n",
              "      <td>NaN</td>\n",
              "      <td>NaN</td>\n",
              "    </tr>\n",
              "  </tbody>\n",
              "</table>\n",
              "</div>"
            ],
            "text/plain": [
              "       country designation        points  ...  region_2     variety           winery\n",
              "count    94502       65906  94502.000000  ...     94502       94502            94502\n",
              "unique      49       30621           NaN  ...        49         632            14810\n",
              "top         US     Reserve           NaN  ...        US  Pinot Noir  Williams Selyem\n",
              "freq     38962        1695           NaN  ...     38962        8931              213\n",
              "mean       NaN         NaN     87.935324  ...       NaN         NaN              NaN\n",
              "std        NaN         NaN      3.221042  ...       NaN         NaN              NaN\n",
              "min        NaN         NaN     80.000000  ...       NaN         NaN              NaN\n",
              "25%        NaN         NaN     86.000000  ...       NaN         NaN              NaN\n",
              "50%        NaN         NaN     88.000000  ...       NaN         NaN              NaN\n",
              "75%        NaN         NaN     90.000000  ...       NaN         NaN              NaN\n",
              "max        NaN         NaN    100.000000  ...       NaN         NaN              NaN\n",
              "\n",
              "[11 rows x 9 columns]"
            ]
          },
          "metadata": {},
          "execution_count": 12
        }
      ]
    },
    {
      "cell_type": "code",
      "metadata": {
        "id": "F6-GZfz5Kjsa",
        "outputId": "b16bd43b-e136-4696-ff46-e925f5868beb",
        "colab": {
          "base_uri": "https://localhost:8080/",
          "height": 369
        }
      },
      "source": [
        "import seaborn as sns\n",
        "import matplotlib.pyplot as plt\n",
        "sns.displot(df['points'],kde=True);\n",
        "plt.axvline(88, color='red');"
      ],
      "execution_count": 13,
      "outputs": [
        {
          "output_type": "display_data",
          "data": {
            "image/png": "[encoded data removed]",
            "text/plain": [
              "<Figure size 360x360 with 1 Axes>"
            ]
          },
          "metadata": {
            "needs_background": "light"
          }
        }
      ]
    },
    {
      "cell_type": "code",
      "metadata": {
        "id": "syadmth0NR9N",
        "outputId": "ff6a2494-0754-4ca7-9335-e472eb80c9e8",
        "colab": {
          "base_uri": "https://localhost:8080/"
        }
      },
      "source": [
        "df['review'] = df['points'] >= 88   # 중간값(50%)\n",
        "df = df.drop('points', axis=1)\n",
        "df['review'].nunique()"
      ],
      "execution_count": 14,
      "outputs": [
        {
          "output_type": "execute_result",
          "data": {
            "text/plain": [
              "2"
            ]
          },
          "metadata": {},
          "execution_count": 14
        }
      ]
    },
    {
      "cell_type": "code",
      "metadata": {
        "id": "09XBDxqdNnvV",
        "outputId": "a93a6178-f549-4bc1-dff5-ca25c53bee95",
        "colab": {
          "base_uri": "https://localhost:8080/"
        }
      },
      "source": [
        "df['review'].value_counts()"
      ],
      "execution_count": 15,
      "outputs": [
        {
          "output_type": "execute_result",
          "data": {
            "text/plain": [
              "True     50521\n",
              "False    43981\n",
              "Name: review, dtype: int64"
            ]
          },
          "metadata": {},
          "execution_count": 15
        }
      ]
    },
    {
      "cell_type": "code",
      "metadata": {
        "id": "HjRNm2F2QyD1",
        "outputId": "631c88b8-50ab-4eb4-885b-f2c33935a407",
        "colab": {
          "base_uri": "https://localhost:8080/"
        }
      },
      "source": [
        "df['designation'].unique()"
      ],
      "execution_count": 16,
      "outputs": [
        {
          "output_type": "execute_result",
          "data": {
            "text/plain": [
              "array([\"Martha's Vineyard\", 'Carodorum Selección Especial Reserva',\n",
              "       'Special Selected Late Harvest', ..., 'Delaware Dolce',\n",
              "       'Presidential 20-year old tawny', 'Bungalow Red'], dtype=object)"
            ]
          },
          "metadata": {},
          "execution_count": 16
        }
      ]
    },
    {
      "cell_type": "code",
      "metadata": {
        "id": "0x5hLRx0RPD2",
        "outputId": "9febfeb9-6775-4ff7-a05b-79d81e44a36b",
        "colab": {
          "base_uri": "https://localhost:8080/"
        }
      },
      "source": [
        "df['region_1'].unique()"
      ],
      "execution_count": 17,
      "outputs": [
        {
          "output_type": "execute_result",
          "data": {
            "text/plain": [
              "array(['US', 'Spain', 'France', 'Italy', 'New Zealand', 'Bulgaria',\n",
              "       'Argentina', 'Australia', 'Portugal', 'Israel', 'South Africa',\n",
              "       'Greece', 'Chile', 'Morocco', 'Romania', 'Germany', 'Canada',\n",
              "       'Moldova', 'Hungary', 'Austria', 'Croatia', 'Slovenia', '',\n",
              "       'India', 'Turkey', 'Macedonia', 'Lebanon', 'Serbia', 'Uruguay',\n",
              "       'Switzerland', 'Albania', 'Bosnia and Herzegovina', 'Brazil',\n",
              "       'Cyprus', 'Lithuania', 'Japan', 'China', 'South Korea', 'Ukraine',\n",
              "       'England', 'Mexico', 'Georgia', 'Montenegro', 'Luxembourg',\n",
              "       'Slovakia', 'Czech Republic', 'Egypt', 'Tunisia', 'US-France'],\n",
              "      dtype=object)"
            ]
          },
          "metadata": {},
          "execution_count": 17
        }
      ]
    },
    {
      "cell_type": "code",
      "metadata": {
        "id": "Pq-AUPNRRRv1",
        "outputId": "ff7f6fa4-837a-4c07-a646-839a08bbe263",
        "colab": {
          "base_uri": "https://localhost:8080/"
        }
      },
      "source": [
        "df['region_2'].unique()"
      ],
      "execution_count": 18,
      "outputs": [
        {
          "output_type": "execute_result",
          "data": {
            "text/plain": [
              "array(['US', 'Spain', 'France', 'Italy', 'New Zealand', 'Bulgaria',\n",
              "       'Argentina', 'Australia', 'Portugal', 'Israel', 'South Africa',\n",
              "       'Greece', 'Chile', 'Morocco', 'Romania', 'Germany', 'Canada',\n",
              "       'Moldova', 'Hungary', 'Austria', 'Croatia', 'Slovenia', '',\n",
              "       'India', 'Turkey', 'Macedonia', 'Lebanon', 'Serbia', 'Uruguay',\n",
              "       'Switzerland', 'Albania', 'Bosnia and Herzegovina', 'Brazil',\n",
              "       'Cyprus', 'Lithuania', 'Japan', 'China', 'South Korea', 'Ukraine',\n",
              "       'England', 'Mexico', 'Georgia', 'Montenegro', 'Luxembourg',\n",
              "       'Slovakia', 'Czech Republic', 'Egypt', 'Tunisia', 'US-France'],\n",
              "      dtype=object)"
            ]
          },
          "metadata": {},
          "execution_count": 18
        }
      ]
    },
    {
      "cell_type": "code",
      "metadata": {
        "id": "YfYzGxBAXYYg",
        "outputId": "84e9e6f7-877c-4a3f-905b-b0856c03d344",
        "colab": {
          "base_uri": "https://localhost:8080/",
          "height": 111
        }
      },
      "source": [
        "import seaborn as sns\n",
        "corr = df.corr()\n",
        "corr['review']\n",
        "df_target_corr = corr[['review']].sort_values('review', ascending=False)\n",
        "drop_features = df_target_corr[abs(df_target_corr['review']) < 0.02].index\n",
        "df_target_corr"
      ],
      "execution_count": 19,
      "outputs": [
        {
          "output_type": "execute_result",
          "data": {
            "text/html": [
              "<div>\n",
              "<style scoped>\n",
              "    .dataframe tbody tr th:only-of-type {\n",
              "        vertical-align: middle;\n",
              "    }\n",
              "\n",
              "    .dataframe tbody tr th {\n",
              "        vertical-align: top;\n",
              "    }\n",
              "\n",
              "    .dataframe thead th {\n",
              "        text-align: right;\n",
              "    }\n",
              "</style>\n",
              "<table border=\"1\" class=\"dataframe\">\n",
              "  <thead>\n",
              "    <tr style=\"text-align: right;\">\n",
              "      <th></th>\n",
              "      <th>review</th>\n",
              "    </tr>\n",
              "  </thead>\n",
              "  <tbody>\n",
              "    <tr>\n",
              "      <th>review</th>\n",
              "      <td>1.000000</td>\n",
              "    </tr>\n",
              "    <tr>\n",
              "      <th>price</th>\n",
              "      <td>0.267545</td>\n",
              "    </tr>\n",
              "  </tbody>\n",
              "</table>\n",
              "</div>"
            ],
            "text/plain": [
              "          review\n",
              "review  1.000000\n",
              "price   0.267545"
            ]
          },
          "metadata": {},
          "execution_count": 19
        }
      ]
    },
    {
      "cell_type": "markdown",
      "metadata": {
        "id": "0-6eMqJuCF_C"
      },
      "source": [
        "### 1) 타겟으로 사용할 특성을 선택합니다.\n",
        "- **(객관식) 다음과 같은 상황에 대한 설명 중 맞는 설명을 고르세요.**\n",
        "    - 특성 3개를 사용해 가장 성능이 좋은 모델 A를 만들고 또 특성 5개를 사용해 최적의 모델 B를 학습하였습니다. 이때 모델 A에서 선택된 특성은 A1, A2, A3 입니다.\n",
        "    1. 최적의 모델 B에는 특성 A1, A2, A3가 항상 선택됩니다.\n",
        "    2. 최적의 모델 B 학습시 특성 A1, A2, A3는 전혀 사용되지 않습니다.\n",
        "    3. 최적의 모델 B에 특성 A1, A2, A3가 선택될지 알 수 없습니다."
      ]
    },
    {
      "cell_type": "code",
      "metadata": {
        "id": "SY6jU9jxVa-t",
        "outputId": "2e04dfd6-8ca0-43ca-81e9-b3d5efeb96e8",
        "colab": {
          "base_uri": "https://localhost:8080/"
        }
      },
      "source": [
        "from sklearn.model_selection import train_test_split\n",
        "train, test= train_test_split(df, test_size=0.2, random_state=2)\n",
        "train.shape, test.shape"
      ],
      "execution_count": 20,
      "outputs": [
        {
          "output_type": "execute_result",
          "data": {
            "text/plain": [
              "((75601, 9), (18901, 9))"
            ]
          },
          "metadata": {},
          "execution_count": 20
        }
      ]
    },
    {
      "cell_type": "code",
      "metadata": {
        "id": "Cq2BRB8IVh3r",
        "outputId": "cd9de5f9-566e-4ae8-f5dc-e53afb433532",
        "colab": {
          "base_uri": "https://localhost:8080/"
        }
      },
      "source": [
        "train, val= train_test_split(df, test_size=0.2, random_state=2)\n",
        "train.shape, val.shape"
      ],
      "execution_count": 21,
      "outputs": [
        {
          "output_type": "execute_result",
          "data": {
            "text/plain": [
              "((75601, 9), (18901, 9))"
            ]
          },
          "metadata": {},
          "execution_count": 21
        }
      ]
    },
    {
      "cell_type": "code",
      "metadata": {
        "id": "ZhLIHbalCF_D",
        "outputId": "6d435f7b-2938-488b-8eb2-dcd87e51edba",
        "colab": {
          "base_uri": "https://localhost:8080/"
        }
      },
      "source": [
        "from category_encoders import OrdinalEncoder\n",
        "from sklearn.pipeline import make_pipeline\n",
        "from sklearn.tree import DecisionTreeClassifier\n",
        "from sklearn.ensemble import RandomForestClassifier\n",
        "from sklearn.impute import SimpleImputer \n",
        "\n",
        "target = 'review'\n",
        "\n",
        "features = df.columns.drop([target, 'review'])\n",
        "X_train = train[features]\n",
        "y_train = train[target]\n",
        "X_val = val[features]\n",
        "y_val = val[target]\n",
        "\n",
        "pipe = make_pipeline(\n",
        "    OrdinalEncoder(), \n",
        "    SimpleImputer(), \n",
        "    RandomForestClassifier(n_jobs=-1, random_state=10, oob_score=True)\n",
        ")\n",
        "\n",
        "pipe.fit(X_train, y_train)\n",
        "y_pred = pipe.predict(X_train)\n",
        "print('검증 정확도: ', pipe.score(X_val, y_val))"
      ],
      "execution_count": 22,
      "outputs": [
        {
          "output_type": "stream",
          "name": "stderr",
          "text": [
            "/usr/local/lib/python3.7/dist-packages/statsmodels/tools/_testing.py:19: FutureWarning: pandas.util.testing is deprecated. Use the functions in the public API at pandas.testing instead.\n",
            "  import pandas.util.testing as tm\n"
          ]
        },
        {
          "output_type": "stream",
          "name": "stdout",
          "text": [
            "검증 정확도:  0.7144066451510502\n"
          ]
        }
      ]
    },
    {
      "cell_type": "code",
      "metadata": {
        "id": "Fk9U9LNItk6B",
        "outputId": "1b1af2d5-c926-47ea-d81b-bffa6ad3f8f7",
        "colab": {
          "base_uri": "https://localhost:8080/"
        }
      },
      "source": [
        "from sklearn.metrics import classification_report\n",
        "from sklearn.metrics import accuracy_score\n",
        "\n",
        "print(\"Accuracy is: \", accuracy_score(y_train, y_pred))\n",
        "print(\"\\n\\n\\n\",classification_report(y_train, y_pred))"
      ],
      "execution_count": 23,
      "outputs": [
        {
          "output_type": "stream",
          "name": "stdout",
          "text": [
            "Accuracy is:  0.9702913982619278\n",
            "\n",
            "\n",
            "\n",
            "               precision    recall  f1-score   support\n",
            "\n",
            "       False       0.97      0.97      0.97     35190\n",
            "        True       0.97      0.97      0.97     40411\n",
            "\n",
            "    accuracy                           0.97     75601\n",
            "   macro avg       0.97      0.97      0.97     75601\n",
            "weighted avg       0.97      0.97      0.97     75601\n",
            "\n"
          ]
        }
      ]
    },
    {
      "cell_type": "code",
      "metadata": {
        "id": "G4N3ZE_9hARk",
        "outputId": "e355c6e3-4476-41ec-cdf1-0c046f93c430",
        "colab": {
          "base_uri": "https://localhost:8080/"
        }
      },
      "source": [
        "X_test = test[features]\n",
        "y_test = test[target]\n",
        "# y_pred = pipe.predict(X_test)\n",
        "\n",
        "print('테스트 정확도: ', pipe.score(X_test, y_test))"
      ],
      "execution_count": 24,
      "outputs": [
        {
          "output_type": "stream",
          "name": "stdout",
          "text": [
            "테스트 정확도:  0.7144066451510502\n"
          ]
        }
      ]
    },
    {
      "cell_type": "code",
      "metadata": {
        "id": "nbH-gv0arLMN"
      },
      "source": [
        "# from sklearn.metrics import classification_report\n",
        "# from sklearn.metrics import accuracy_score\n",
        "# print(\"Accuracy is: \", accuracy_score(y_pred, y_test))\n",
        "# print(\"\\n\\n\\n\",classification_report(y_pred, y_test))"
      ],
      "execution_count": 25,
      "outputs": []
    },
    {
      "cell_type": "code",
      "metadata": {
        "id": "7MLOStpJtX6_"
      },
      "source": [
        ""
      ],
      "execution_count": 25,
      "outputs": []
    },
    {
      "cell_type": "code",
      "metadata": {
        "id": "aSRisAZhhawa",
        "outputId": "c447c543-a02c-46f4-b7a3-102735caa41c",
        "colab": {
          "base_uri": "https://localhost:8080/",
          "height": 309
        }
      },
      "source": [
        "import matplotlib.pyplot as plt\n",
        "# 특성 중요도(ordinal)\n",
        "rf_ord = pipe.named_steps['randomforestclassifier']\n",
        "importances_ord = pd.Series(rf_ord.feature_importances_, X_train.columns)\n",
        "\n",
        "n=len(df.columns)\n",
        "plt.figure(figsize=(10,n/2))\n",
        "plt.title(f'Top {n} features with ordinalencoder')\n",
        "importances_ord.sort_values()[-n:].plot.barh();"
      ],
      "execution_count": 26,
      "outputs": [
        {
          "output_type": "display_data",
          "data": {
            "image/png": "[encoded data removed]",
            "text/plain": [
              "<Figure size 720x324 with 1 Axes>"
            ]
          },
          "metadata": {
            "needs_background": "light"
          }
        }
      ]
    },
    {
      "cell_type": "code",
      "metadata": {
        "id": "HBxHo64FiA4l",
        "outputId": "37d2af7d-fbd2-4fd0-97a5-dd6b959a8842",
        "colab": {
          "base_uri": "https://localhost:8080/",
          "height": 297
        }
      },
      "source": [
        "# Confusion matrix ( 성능 평가 지표 )\n",
        "from sklearn.metrics import plot_confusion_matrix\n",
        "import matplotlib.pyplot as plt\n",
        "\n",
        "fig, ax = plt.subplots()\n",
        "pcm = plot_confusion_matrix(pipe, X_val, y_val,\n",
        "                            cmap=plt.cm.Blues, ax=ax, values_format='')\n",
        "plt.title(f'Confusion matrix, n = {len(y_val)}', fontsize=15)\n",
        "plt.show()"
      ],
      "execution_count": 27,
      "outputs": [
        {
          "output_type": "display_data",
          "data": {
            "image/png": "[encoded data removed]",
            "text/plain": [
              "<Figure size 432x288 with 2 Axes>"
            ]
          },
          "metadata": {
            "needs_background": "light"
          }
        }
      ]
    },
    {
      "cell_type": "code",
      "metadata": {
        "id": "r4A3u_7UqRfZ",
        "outputId": "17f97ccf-6d2c-49c4-aa9a-f9038398c682",
        "colab": {
          "base_uri": "https://localhost:8080/",
          "height": 475,
          "referenced_widgets": [
            "7d70d69d0a7648059da6423f66cf6a4d",
            "e4cdf8f9205c40c0966c50ad1360baaf",
            "af247039e98f45db9cdaf05e4e7a6c82",
            "133f9b783231468381c538bbe6636ff6",
            "af456d1007234a4186defd9a5821a20f",
            "5c3e0645184b4404bdec3273ff6e9304",
            "226ba1ecac6a48acafb8ccd378cda28e"
          ]
        }
      },
      "source": [
        "# 임계값을 바꾸어 가며 정밀도, 재현율의 변화보기\n",
        "from ipywidgets import interact, fixed\n",
        "from sklearn.metrics import classification_report\n",
        "\n",
        "threshold = 0.5\n",
        "y_pred_proba = pipe.predict_proba(X_val)[:, 1]\n",
        "y_pred = y_pred_proba > threshold\n",
        "\n",
        "def explore_threshold(y_true, y_pred_proba, threshold=0.5):\n",
        "    y_pred = y_pred_proba >= threshold\n",
        "    vc = pd.Series(y_pred).value_counts()\n",
        "    ax = sns.histplot(y_pred_proba, kde=True)\n",
        "    ax.axvline(threshold, color='red')\n",
        "    ax.set_title(f'# of target, 1={vc[1]}, 0={vc[0]}')\n",
        "    plt.show()\n",
        "    print(classification_report(y_true, y_pred))\n",
        "\n",
        "interact(explore_threshold, \n",
        "    y_true=fixed(y_val), \n",
        "    y_pred_proba=fixed(y_pred_proba), \n",
        "    threshold=(0, 1, 0.01));"
      ],
      "execution_count": 28,
      "outputs": [
        {
          "output_type": "display_data",
          "data": {
            "application/vnd.jupyter.widget-view+json": {
              "model_id": "7d70d69d0a7648059da6423f66cf6a4d",
              "version_minor": 0,
              "version_major": 2
            },
            "text/plain": [
              "interactive(children=(FloatSlider(value=0.5, description='threshold', max=1.0, step=0.01), Output()), _dom_cla…"
            ]
          },
          "metadata": {}
        }
      ]
    },
    {
      "cell_type": "code",
      "metadata": {
        "id": "LKavEx6UsqyY",
        "outputId": "40d52b40-25f7-43a9-8a84-eeaf4fef5fac",
        "colab": {
          "base_uri": "https://localhost:8080/",
          "height": 295
        }
      },
      "source": [
        "from sklearn.metrics import roc_curve\n",
        "fpr, tpr, thresholds = roc_curve(y_val, y_pred_proba)\n",
        "\n",
        "plt.scatter(fpr, tpr)\n",
        "plt.title('ROC curve')\n",
        "plt.xlabel('FPR(Fall-out)')\n",
        "plt.ylabel('TPR(Recall)');"
      ],
      "execution_count": 29,
      "outputs": [
        {
          "output_type": "display_data",
          "data": {
            "image/png": "[encoded data removed]",
            "text/plain": [
              "<Figure size 432x288 with 1 Axes>"
            ]
          },
          "metadata": {
            "needs_background": "light"
          }
        }
      ]
    },
    {
      "cell_type": "code",
      "metadata": {
        "id": "aceoONzMtAgn",
        "outputId": "6c283ba9-d45a-4e2b-8d3c-06f993da0e83",
        "colab": {
          "base_uri": "https://localhost:8080/"
        }
      },
      "source": [
        "from sklearn.metrics import roc_auc_score\n",
        "auc_score = roc_auc_score(y_val, y_pred_proba)\n",
        "auc_score"
      ],
      "execution_count": 30,
      "outputs": [
        {
          "output_type": "execute_result",
          "data": {
            "text/plain": [
              "0.7885292439518385"
            ]
          },
          "metadata": {},
          "execution_count": 30
        }
      ]
    },
    {
      "cell_type": "markdown",
      "metadata": {
        "id": "93lyfLp4CF_E"
      },
      "source": [
        "### 2) 풀고자 하는 문제가 분류/회귀 문제인지 정합니다.\n",
        "- **(객관식) 다음 설명 중 가장 틀린 항목을 고르세요.**\n",
        "    1. 특정한 종목의 다음날 주식 종가를 예측하는 문제는 Supervised Learning 문제이다.\n",
        "    2. 다음날 KOSPI 지수가 증가할지 감소할지 예측하는 문제는 Classification 문제이다.\n",
        "    3. 축구 경기 도중에 승패를 예측하는 모델을 만들기 위해서는 실시간 통계 정보와 경기마다 승패 데이터가 필요하다.\n",
        "    4. 이번 시즌 토트넘 선수들의 개인 통계 데이터(슛, 도움, ...)를 사용해서 다음 토트넘 경기의 승패를 예측할 수 있다.\n",
        "   "
      ]
    },
    {
      "cell_type": "code",
      "metadata": {
        "id": "4KuH1v_fCF_F"
      },
      "source": [
        "### 이곳에서 과제를 진행해 주세요 ### "
      ],
      "execution_count": 31,
      "outputs": []
    },
    {
      "cell_type": "markdown",
      "metadata": {
        "id": "pgVjTVjQCF_F"
      },
      "source": [
        "### 3) 타겟의 분포를 분석하고 사용할 평가지표를 선택합니다. 평가지표를 선택한 이유를 설명하세요.\n",
        "- 분류: 클래스가 몇 개인지? 클래스 비율이 어떤지(balance or imbalance)\n",
        "- 회귀: 타겟 분포가 right-skewed 인지? log-transform을 사용할 것인지?\n",
        "- 분류: 다수 클래스(majority class) 비율이 50%~70% 인 경우 정확도(accuracy)만 사용해도 무방합니다. 하지만 범위를 넘어설 경우 정확도만을 사용해서는 모델을 잘못 이해할 수 있습니다. 어떤 평가지표를 사용해야 할까요?\n",
        "- 회귀: MAE, RMSE, R^2 등을 사용할 수 있습니다.\n",
        "- **(객관식) 같은 데이터로 스팸을 예측하는 모델 A와 B를 만들었습니다. 다음 설명 중 가장 올바른 항목을 선택하고 과제 제출폼에 제출하세요.**\n",
        "    1. A의 재현율은 80%이고 B의 재현율은 60%일 때 A가 더 좋은 모델이다.\n",
        "    2. A의 정밀도는 80%이고 B의 정밀도는 60%일 때 A가 더 좋은 모델이다.\n",
        "    3. A는 B보다 정밀도는 높지만 재현율은 낮다. A가 더 좋은 모델이다.\n",
        "    4. A는 B보다 재현율은 높지만, 정밀도는 낮다. A가 더 좋은 모델이다.\n",
        "    5. A는 B보다 정밀도, 재현율 모두 높다. A가 더 좋은 모델이다."
      ]
    },
    {
      "cell_type": "code",
      "metadata": {
        "id": "7aN0HP0sCF_G"
      },
      "source": [
        "### 이곳에서 과제를 진행해 주세요 ### "
      ],
      "execution_count": 32,
      "outputs": []
    },
    {
      "cell_type": "markdown",
      "metadata": {
        "id": "T9m3GRiRCF_H"
      },
      "source": [
        "## 🔥 도전과제"
      ]
    },
    {
      "cell_type": "markdown",
      "metadata": {
        "id": "LE2tpCfvCF_H"
      },
      "source": [
        "### 4) 데이터를 훈련/검증/테스트 데이터로 나누고 전처리를 수행합니다. 그리고 간단한 모델을 사용해서 학습을 수행합니다.\n",
        "- 이상치(outliers)가 있다면 어떻게 처리할 것인지 설명합니다.\n",
        "- 무작위로 or 시간에 따라 데이터를 나눌 것인지 설명합니다.\n",
        "- 모델 학습 결과를 리포팅 합니다.\n",
        "- 정보 누수(leakage)가 있는지 확인해 봅니다."
      ]
    },
    {
      "cell_type": "code",
      "metadata": {
        "id": "8EY7hSwUCF_I"
      },
      "source": [
        "### 이곳에서 과제를 진행해 주세요 ### "
      ],
      "execution_count": 33,
      "outputs": []
    }
  ]
}