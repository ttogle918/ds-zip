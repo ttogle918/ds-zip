{
  "nbformat": 4,
  "nbformat_minor": 0,
  "metadata": {
    "jupytext": {
      "cell_metadata_filter": "-all",
      "main_language": "python",
      "notebook_metadata_filter": "-all"
    },
    "kernelspec": {
      "display_name": "Python 3",
      "language": "python",
      "name": "python3"
    },
    "language_info": {
      "codemirror_mode": {
        "name": "ipython",
        "version": 3
      },
      "file_extension": ".py",
      "mimetype": "text/x-python",
      "name": "python",
      "nbconvert_exporter": "python",
      "pygments_lexer": "ipython3",
      "version": "3.7.7"
    },
    "colab": {
      "name": "n232a-data-wrangling.ipynb",
      "provenance": [],
      "include_colab_link": true
    }
  },
  "cells": [
    {
      "cell_type": "markdown",
      "metadata": {
        "id": "view-in-github",
        "colab_type": "text"
      },
      "source": [
        "<a href=\"https://colab.research.google.com/github/ttogle918/ds-section2-sprint3/blob/main/n232-data-wrangling/n232a-data-wrangling.ipynb\" target=\"_parent\"><img src=\"https://colab.research.google.com/assets/colab-badge.svg\" alt=\"Open In Colab\"/></a>"
      ]
    },
    {
      "cell_type": "markdown",
      "metadata": {
        "id": "K1PGbA6pACgU"
      },
      "source": [
        "<img align=\"right\" src=\"https://ds-cs-images.s3.ap-northeast-2.amazonaws.com/Codestates_Fulllogo_Color.png\" width=100>\n",
        "\n",
        "## *AIB / SECTION 2 / SPRINT 3 / NOTE 2*\n",
        "\n",
        "# 📝 Assignment\n",
        "---\n",
        "# Data Wrangling\n"
      ]
    },
    {
      "cell_type": "markdown",
      "metadata": {
        "id": "l3kmW84Fs-59"
      },
      "source": [
        "### 선택한 데이터 wrangling"
      ]
    },
    {
      "cell_type": "code",
      "metadata": {
        "id": "iqO_gCBYdTNc",
        "colab": {
          "base_uri": "https://localhost:8080/"
        },
        "outputId": "fe430c06-6314-4a26-968f-6bc4cef4e78a"
      },
      "source": [
        "# google 드라이브에 로컬 파일 업로드\n",
        "from google.colab import files, drive\n",
        "drive.mount('/content/drive')"
      ],
      "execution_count": 1,
      "outputs": [
        {
          "output_type": "stream",
          "name": "stdout",
          "text": [
            "Drive already mounted at /content/drive; to attempt to forcibly remount, call drive.mount(\"/content/drive\", force_remount=True).\n"
          ]
        }
      ]
    },
    {
      "cell_type": "code",
      "metadata": {
        "id": "R0tfYCrUdaRt",
        "colab": {
          "base_uri": "https://localhost:8080/"
        },
        "outputId": "c8f286aa-ddc5-484e-a155-eee77aae8b6d"
      },
      "source": [
        "import pandas as pd\n",
        "credits = pd.read_csv(\"/content/drive/MyDrive/Colab Notebooks/code_states/credits.csv\")\n",
        "keywords = pd.read_csv(\"/content/drive/MyDrive/Colab Notebooks/code_states/keywords.csv\")\n",
        "links = pd.read_csv(\"/content/drive/MyDrive/Colab Notebooks/code_states/links.csv\")\n",
        "links_small = pd.read_csv(\"/content/drive/MyDrive/Colab Notebooks/code_states/links_small.csv\")\n",
        "movies_metadata = pd.read_csv(\"/content/drive/MyDrive/Colab Notebooks/code_states/movies_metadata.csv\")\n",
        "ratings = pd.read_csv(\"/content/drive/MyDrive/Colab Notebooks/code_states/ratings.csv\")\n",
        "ratings_small = pd.read_csv(\"/content/drive/MyDrive/Colab Notebooks/code_states/ratings_small.csv\")"
      ],
      "execution_count": 2,
      "outputs": [
        {
          "output_type": "stream",
          "name": "stderr",
          "text": [
            "/usr/local/lib/python3.7/dist-packages/IPython/core/interactiveshell.py:2718: DtypeWarning: Columns (10) have mixed types.Specify dtype option on import or set low_memory=False.\n",
            "  interactivity=interactivity, compiler=compiler, result=result)\n"
          ]
        }
      ]
    },
    {
      "cell_type": "code",
      "metadata": {
        "id": "l_lDPCE9sK-O"
      },
      "source": [
        "import pandas as pd\n",
        "import numpy as np\n",
        "import ast\n",
        "import re\n",
        "from collections import Counter"
      ],
      "execution_count": 3,
      "outputs": []
    },
    {
      "cell_type": "code",
      "metadata": {
        "id": "lcMjRDeFsNQp"
      },
      "source": [
        "import ast\n",
        "def getDataFrame(s) :\n",
        "  if s[0] == '\\'' :\n",
        "    s = s[1:-1]\n",
        "  if str(s)[0] == '{' :\n",
        "    df = pd.DataFrame([ast.literal_eval(s)])\n",
        "  if str(s)[0] == '[' :\n",
        "    df = pd.DataFrame(ast.literal_eval(s))\n",
        "  else :\n",
        "    df = s\n",
        "    print(s)\n",
        "  return df"
      ],
      "execution_count": 4,
      "outputs": []
    },
    {
      "cell_type": "code",
      "metadata": {
        "id": "ovsHiPRm11H_",
        "colab": {
          "base_uri": "https://localhost:8080/",
          "height": 99
        },
        "outputId": "3c633a50-daef-489b-f31d-011dcd55ee2a"
      },
      "source": [
        "print(credits.shape)\n",
        "credits.head(1)"
      ],
      "execution_count": 5,
      "outputs": [
        {
          "output_type": "stream",
          "name": "stdout",
          "text": [
            "(45476, 3)\n"
          ]
        },
        {
          "output_type": "execute_result",
          "data": {
            "text/html": [
              "<div>\n",
              "<style scoped>\n",
              "    .dataframe tbody tr th:only-of-type {\n",
              "        vertical-align: middle;\n",
              "    }\n",
              "\n",
              "    .dataframe tbody tr th {\n",
              "        vertical-align: top;\n",
              "    }\n",
              "\n",
              "    .dataframe thead th {\n",
              "        text-align: right;\n",
              "    }\n",
              "</style>\n",
              "<table border=\"1\" class=\"dataframe\">\n",
              "  <thead>\n",
              "    <tr style=\"text-align: right;\">\n",
              "      <th></th>\n",
              "      <th>cast</th>\n",
              "      <th>crew</th>\n",
              "      <th>id</th>\n",
              "    </tr>\n",
              "  </thead>\n",
              "  <tbody>\n",
              "    <tr>\n",
              "      <th>0</th>\n",
              "      <td>[{'cast_id': 14, 'character': 'Woody (voice)',...</td>\n",
              "      <td>[{'credit_id': '52fe4284c3a36847f8024f49', 'de...</td>\n",
              "      <td>862</td>\n",
              "    </tr>\n",
              "  </tbody>\n",
              "</table>\n",
              "</div>"
            ],
            "text/plain": [
              "                                                cast  ...   id\n",
              "0  [{'cast_id': 14, 'character': 'Woody (voice)',...  ...  862\n",
              "\n",
              "[1 rows x 3 columns]"
            ]
          },
          "metadata": {},
          "execution_count": 5
        }
      ]
    },
    {
      "cell_type": "code",
      "metadata": {
        "id": "YXK2FyZg-iJ9",
        "colab": {
          "base_uri": "https://localhost:8080/"
        },
        "outputId": "1c795d28-431b-43b7-f756-049922749c48"
      },
      "source": [
        "len(credits['id'].unique()) # id당 한 row가 아니다!"
      ],
      "execution_count": 6,
      "outputs": [
        {
          "output_type": "execute_result",
          "data": {
            "text/plain": [
              "45432"
            ]
          },
          "metadata": {},
          "execution_count": 6
        }
      ]
    },
    {
      "cell_type": "code",
      "metadata": {
        "id": "COraiVP-1R8j",
        "colab": {
          "base_uri": "https://localhost:8080/",
          "height": 99
        },
        "outputId": "62f1b572-14e1-4f7d-c440-9caf37d9e656"
      },
      "source": [
        "print(keywords.shape)\n",
        "keywords.head(1)"
      ],
      "execution_count": 7,
      "outputs": [
        {
          "output_type": "stream",
          "name": "stdout",
          "text": [
            "(46419, 2)\n"
          ]
        },
        {
          "output_type": "execute_result",
          "data": {
            "text/html": [
              "<div>\n",
              "<style scoped>\n",
              "    .dataframe tbody tr th:only-of-type {\n",
              "        vertical-align: middle;\n",
              "    }\n",
              "\n",
              "    .dataframe tbody tr th {\n",
              "        vertical-align: top;\n",
              "    }\n",
              "\n",
              "    .dataframe thead th {\n",
              "        text-align: right;\n",
              "    }\n",
              "</style>\n",
              "<table border=\"1\" class=\"dataframe\">\n",
              "  <thead>\n",
              "    <tr style=\"text-align: right;\">\n",
              "      <th></th>\n",
              "      <th>id</th>\n",
              "      <th>keywords</th>\n",
              "    </tr>\n",
              "  </thead>\n",
              "  <tbody>\n",
              "    <tr>\n",
              "      <th>0</th>\n",
              "      <td>862</td>\n",
              "      <td>[{'id': 931, 'name': 'jealousy'}, {'id': 4290,...</td>\n",
              "    </tr>\n",
              "  </tbody>\n",
              "</table>\n",
              "</div>"
            ],
            "text/plain": [
              "    id                                           keywords\n",
              "0  862  [{'id': 931, 'name': 'jealousy'}, {'id': 4290,..."
            ]
          },
          "metadata": {},
          "execution_count": 7
        }
      ]
    },
    {
      "cell_type": "code",
      "metadata": {
        "id": "O8vuDnEb1dph",
        "colab": {
          "base_uri": "https://localhost:8080/",
          "height": 99
        },
        "outputId": "fb3c9282-a04b-48dc-99be-611bcdc2c2f8"
      },
      "source": [
        "print(links.shape)\n",
        "links.head(1)"
      ],
      "execution_count": 8,
      "outputs": [
        {
          "output_type": "stream",
          "name": "stdout",
          "text": [
            "(45843, 3)\n"
          ]
        },
        {
          "output_type": "execute_result",
          "data": {
            "text/html": [
              "<div>\n",
              "<style scoped>\n",
              "    .dataframe tbody tr th:only-of-type {\n",
              "        vertical-align: middle;\n",
              "    }\n",
              "\n",
              "    .dataframe tbody tr th {\n",
              "        vertical-align: top;\n",
              "    }\n",
              "\n",
              "    .dataframe thead th {\n",
              "        text-align: right;\n",
              "    }\n",
              "</style>\n",
              "<table border=\"1\" class=\"dataframe\">\n",
              "  <thead>\n",
              "    <tr style=\"text-align: right;\">\n",
              "      <th></th>\n",
              "      <th>movieId</th>\n",
              "      <th>imdbId</th>\n",
              "      <th>tmdbId</th>\n",
              "    </tr>\n",
              "  </thead>\n",
              "  <tbody>\n",
              "    <tr>\n",
              "      <th>0</th>\n",
              "      <td>1</td>\n",
              "      <td>114709</td>\n",
              "      <td>862.0</td>\n",
              "    </tr>\n",
              "  </tbody>\n",
              "</table>\n",
              "</div>"
            ],
            "text/plain": [
              "   movieId  imdbId  tmdbId\n",
              "0        1  114709   862.0"
            ]
          },
          "metadata": {},
          "execution_count": 8
        }
      ]
    },
    {
      "cell_type": "code",
      "metadata": {
        "id": "QYI_EGN51dkw",
        "colab": {
          "base_uri": "https://localhost:8080/",
          "height": 99
        },
        "outputId": "b21b5865-316c-4f4e-ab3c-5596ba3c1853"
      },
      "source": [
        "print(links_small.shape)\n",
        "links_small.head(1)"
      ],
      "execution_count": 9,
      "outputs": [
        {
          "output_type": "stream",
          "name": "stdout",
          "text": [
            "(9125, 3)\n"
          ]
        },
        {
          "output_type": "execute_result",
          "data": {
            "text/html": [
              "<div>\n",
              "<style scoped>\n",
              "    .dataframe tbody tr th:only-of-type {\n",
              "        vertical-align: middle;\n",
              "    }\n",
              "\n",
              "    .dataframe tbody tr th {\n",
              "        vertical-align: top;\n",
              "    }\n",
              "\n",
              "    .dataframe thead th {\n",
              "        text-align: right;\n",
              "    }\n",
              "</style>\n",
              "<table border=\"1\" class=\"dataframe\">\n",
              "  <thead>\n",
              "    <tr style=\"text-align: right;\">\n",
              "      <th></th>\n",
              "      <th>movieId</th>\n",
              "      <th>imdbId</th>\n",
              "      <th>tmdbId</th>\n",
              "    </tr>\n",
              "  </thead>\n",
              "  <tbody>\n",
              "    <tr>\n",
              "      <th>0</th>\n",
              "      <td>1</td>\n",
              "      <td>114709</td>\n",
              "      <td>862.0</td>\n",
              "    </tr>\n",
              "  </tbody>\n",
              "</table>\n",
              "</div>"
            ],
            "text/plain": [
              "   movieId  imdbId  tmdbId\n",
              "0        1  114709   862.0"
            ]
          },
          "metadata": {},
          "execution_count": 9
        }
      ]
    },
    {
      "cell_type": "code",
      "metadata": {
        "id": "7onqjCf41dfX",
        "colab": {
          "base_uri": "https://localhost:8080/",
          "height": 205
        },
        "outputId": "7354eaec-c8e1-434e-cf98-83ee1a3307c3"
      },
      "source": [
        "print(movies_metadata.shape)\n",
        "movies_metadata.head(1)"
      ],
      "execution_count": 10,
      "outputs": [
        {
          "output_type": "stream",
          "name": "stdout",
          "text": [
            "(45466, 24)\n"
          ]
        },
        {
          "output_type": "execute_result",
          "data": {
            "text/html": [
              "<div>\n",
              "<style scoped>\n",
              "    .dataframe tbody tr th:only-of-type {\n",
              "        vertical-align: middle;\n",
              "    }\n",
              "\n",
              "    .dataframe tbody tr th {\n",
              "        vertical-align: top;\n",
              "    }\n",
              "\n",
              "    .dataframe thead th {\n",
              "        text-align: right;\n",
              "    }\n",
              "</style>\n",
              "<table border=\"1\" class=\"dataframe\">\n",
              "  <thead>\n",
              "    <tr style=\"text-align: right;\">\n",
              "      <th></th>\n",
              "      <th>adult</th>\n",
              "      <th>belongs_to_collection</th>\n",
              "      <th>budget</th>\n",
              "      <th>genres</th>\n",
              "      <th>homepage</th>\n",
              "      <th>id</th>\n",
              "      <th>imdb_id</th>\n",
              "      <th>original_language</th>\n",
              "      <th>original_title</th>\n",
              "      <th>overview</th>\n",
              "      <th>popularity</th>\n",
              "      <th>poster_path</th>\n",
              "      <th>production_companies</th>\n",
              "      <th>production_countries</th>\n",
              "      <th>release_date</th>\n",
              "      <th>revenue</th>\n",
              "      <th>runtime</th>\n",
              "      <th>spoken_languages</th>\n",
              "      <th>status</th>\n",
              "      <th>tagline</th>\n",
              "      <th>title</th>\n",
              "      <th>video</th>\n",
              "      <th>vote_average</th>\n",
              "      <th>vote_count</th>\n",
              "    </tr>\n",
              "  </thead>\n",
              "  <tbody>\n",
              "    <tr>\n",
              "      <th>0</th>\n",
              "      <td>False</td>\n",
              "      <td>{'id': 10194, 'name': 'Toy Story Collection', ...</td>\n",
              "      <td>30000000</td>\n",
              "      <td>[{'id': 16, 'name': 'Animation'}, {'id': 35, '...</td>\n",
              "      <td>http://toystory.disney.com/toy-story</td>\n",
              "      <td>862</td>\n",
              "      <td>tt0114709</td>\n",
              "      <td>en</td>\n",
              "      <td>Toy Story</td>\n",
              "      <td>Led by Woody, Andy's toys live happily in his ...</td>\n",
              "      <td>21.9469</td>\n",
              "      <td>/rhIRbceoE9lR4veEXuwCC2wARtG.jpg</td>\n",
              "      <td>[{'name': 'Pixar Animation Studios', 'id': 3}]</td>\n",
              "      <td>[{'iso_3166_1': 'US', 'name': 'United States o...</td>\n",
              "      <td>1995-10-30</td>\n",
              "      <td>373554033.0</td>\n",
              "      <td>81.0</td>\n",
              "      <td>[{'iso_639_1': 'en', 'name': 'English'}]</td>\n",
              "      <td>Released</td>\n",
              "      <td>NaN</td>\n",
              "      <td>Toy Story</td>\n",
              "      <td>False</td>\n",
              "      <td>7.7</td>\n",
              "      <td>5415.0</td>\n",
              "    </tr>\n",
              "  </tbody>\n",
              "</table>\n",
              "</div>"
            ],
            "text/plain": [
              "   adult  ... vote_count\n",
              "0  False  ...     5415.0\n",
              "\n",
              "[1 rows x 24 columns]"
            ]
          },
          "metadata": {},
          "execution_count": 10
        }
      ]
    },
    {
      "cell_type": "code",
      "metadata": {
        "id": "AZ8MsBYi1dJK",
        "colab": {
          "base_uri": "https://localhost:8080/",
          "height": 99
        },
        "outputId": "26fb8e92-1921-44b7-ae79-42b7309747e8"
      },
      "source": [
        "print(ratings.shape)\n",
        "ratings.head(1)"
      ],
      "execution_count": 11,
      "outputs": [
        {
          "output_type": "stream",
          "name": "stdout",
          "text": [
            "(26024289, 4)\n"
          ]
        },
        {
          "output_type": "execute_result",
          "data": {
            "text/html": [
              "<div>\n",
              "<style scoped>\n",
              "    .dataframe tbody tr th:only-of-type {\n",
              "        vertical-align: middle;\n",
              "    }\n",
              "\n",
              "    .dataframe tbody tr th {\n",
              "        vertical-align: top;\n",
              "    }\n",
              "\n",
              "    .dataframe thead th {\n",
              "        text-align: right;\n",
              "    }\n",
              "</style>\n",
              "<table border=\"1\" class=\"dataframe\">\n",
              "  <thead>\n",
              "    <tr style=\"text-align: right;\">\n",
              "      <th></th>\n",
              "      <th>userId</th>\n",
              "      <th>movieId</th>\n",
              "      <th>rating</th>\n",
              "      <th>timestamp</th>\n",
              "    </tr>\n",
              "  </thead>\n",
              "  <tbody>\n",
              "    <tr>\n",
              "      <th>0</th>\n",
              "      <td>1</td>\n",
              "      <td>110</td>\n",
              "      <td>1.0</td>\n",
              "      <td>1425941529</td>\n",
              "    </tr>\n",
              "  </tbody>\n",
              "</table>\n",
              "</div>"
            ],
            "text/plain": [
              "   userId  movieId  rating   timestamp\n",
              "0       1      110     1.0  1425941529"
            ]
          },
          "metadata": {},
          "execution_count": 11
        }
      ]
    },
    {
      "cell_type": "code",
      "metadata": {
        "id": "Xnm0nXyE1c04",
        "colab": {
          "base_uri": "https://localhost:8080/",
          "height": 99
        },
        "outputId": "e8ac951d-2cbc-41b6-f059-0076b164ec7f"
      },
      "source": [
        "print(ratings_small.shape)\n",
        "ratings_small.head(1)"
      ],
      "execution_count": 12,
      "outputs": [
        {
          "output_type": "stream",
          "name": "stdout",
          "text": [
            "(100004, 4)\n"
          ]
        },
        {
          "output_type": "execute_result",
          "data": {
            "text/html": [
              "<div>\n",
              "<style scoped>\n",
              "    .dataframe tbody tr th:only-of-type {\n",
              "        vertical-align: middle;\n",
              "    }\n",
              "\n",
              "    .dataframe tbody tr th {\n",
              "        vertical-align: top;\n",
              "    }\n",
              "\n",
              "    .dataframe thead th {\n",
              "        text-align: right;\n",
              "    }\n",
              "</style>\n",
              "<table border=\"1\" class=\"dataframe\">\n",
              "  <thead>\n",
              "    <tr style=\"text-align: right;\">\n",
              "      <th></th>\n",
              "      <th>userId</th>\n",
              "      <th>movieId</th>\n",
              "      <th>rating</th>\n",
              "      <th>timestamp</th>\n",
              "    </tr>\n",
              "  </thead>\n",
              "  <tbody>\n",
              "    <tr>\n",
              "      <th>0</th>\n",
              "      <td>1</td>\n",
              "      <td>31</td>\n",
              "      <td>2.5</td>\n",
              "      <td>1260759144</td>\n",
              "    </tr>\n",
              "  </tbody>\n",
              "</table>\n",
              "</div>"
            ],
            "text/plain": [
              "   userId  movieId  rating   timestamp\n",
              "0       1       31     2.5  1260759144"
            ]
          },
          "metadata": {},
          "execution_count": 12
        }
      ]
    },
    {
      "cell_type": "markdown",
      "metadata": {
        "id": "8JHrDXVQsmdv"
      },
      "source": [
        "### credits : 극 중 등장인물에 대한 정보와 제작진에 대한 정보를 담고있는 dataframe"
      ]
    },
    {
      "cell_type": "code",
      "metadata": {
        "id": "JhY5ntQK_JKN",
        "colab": {
          "base_uri": "https://localhost:8080/"
        },
        "outputId": "8131e7db-e328-4f80-ceec-00cebe782545"
      },
      "source": [
        "credits.info()"
      ],
      "execution_count": 13,
      "outputs": [
        {
          "output_type": "stream",
          "name": "stdout",
          "text": [
            "<class 'pandas.core.frame.DataFrame'>\n",
            "RangeIndex: 45476 entries, 0 to 45475\n",
            "Data columns (total 3 columns):\n",
            " #   Column  Non-Null Count  Dtype \n",
            "---  ------  --------------  ----- \n",
            " 0   cast    45476 non-null  object\n",
            " 1   crew    45476 non-null  object\n",
            " 2   id      45476 non-null  int64 \n",
            "dtypes: int64(1), object(2)\n",
            "memory usage: 1.0+ MB\n"
          ]
        }
      ]
    },
    {
      "cell_type": "code",
      "metadata": {
        "id": "hkgyyV-7spUn",
        "outputId": "06a5d181-860e-4dc4-de54-670404218e89",
        "colab": {
          "base_uri": "https://localhost:8080/"
        }
      },
      "source": [
        "# 1. 중복된 값 지우기\n",
        "credits.duplicated().sum()"
      ],
      "execution_count": 14,
      "outputs": [
        {
          "output_type": "execute_result",
          "data": {
            "text/plain": [
              "37"
            ]
          },
          "metadata": {},
          "execution_count": 14
        }
      ]
    },
    {
      "cell_type": "code",
      "metadata": {
        "id": "1Kqrl9pKsyQd"
      },
      "source": [
        "credits = credits.drop_duplicates()"
      ],
      "execution_count": 15,
      "outputs": []
    },
    {
      "cell_type": "code",
      "metadata": {
        "id": "6SrkFttsea3E",
        "colab": {
          "base_uri": "https://localhost:8080/"
        },
        "outputId": "05152b61-2986-4eeb-9cc3-f08c58d84ab8"
      },
      "source": [
        "print('empty cast', len(credits[credits.cast == '[]']) )\n",
        "print('empty crew', len(credits[credits.crew == '[]']) )"
      ],
      "execution_count": 16,
      "outputs": [
        {
          "output_type": "stream",
          "name": "stdout",
          "text": [
            "empty cast 2414\n",
            "empty crew 771\n"
          ]
        }
      ]
    },
    {
      "cell_type": "code",
      "metadata": {
        "id": "tES2yY7qtJo2",
        "outputId": "74e9ff8a-0054-4433-8a55-1f7c8b87509e",
        "colab": {
          "base_uri": "https://localhost:8080/"
        }
      },
      "source": [
        "# 2. null값, empty값 확인 -> 지우기\n",
        "credits = credits[(credits.cast != '[]') & (credits.crew != '[]')]\n",
        "credits.shape"
      ],
      "execution_count": 17,
      "outputs": [
        {
          "output_type": "execute_result",
          "data": {
            "text/plain": [
              "(42675, 3)"
            ]
          },
          "metadata": {},
          "execution_count": 17
        }
      ]
    },
    {
      "cell_type": "code",
      "metadata": {
        "id": "L1wefar2tL51",
        "outputId": "a3b8eb61-3539-4279-d8ee-0b1eda29de5b",
        "colab": {
          "base_uri": "https://localhost:8080/"
        }
      },
      "source": [
        "print(len(credits['id'].unique())) # id당 한 row가 아니다!"
      ],
      "execution_count": 18,
      "outputs": [
        {
          "output_type": "stream",
          "name": "stdout",
          "text": [
            "42668\n"
          ]
        }
      ]
    },
    {
      "cell_type": "code",
      "metadata": {
        "id": "sa4F77ndtNQJ",
        "outputId": "0c67fa3e-11e5-4b78-8dde-6c9073d23941",
        "colab": {
          "base_uri": "https://localhost:8080/",
          "height": 161
        }
      },
      "source": [
        "# cast의 내용은 같고 credit_id의 값만 다르기 때문에 삭제해도 된다 -> id는 unique()\n",
        "credits = credits.drop(credits[credits['id'].duplicated() == True].index)\n",
        "print(credits.shape)\n",
        "credits.head(3)"
      ],
      "execution_count": 19,
      "outputs": [
        {
          "output_type": "stream",
          "name": "stdout",
          "text": [
            "(42668, 3)\n"
          ]
        },
        {
          "output_type": "execute_result",
          "data": {
            "text/html": [
              "<div>\n",
              "<style scoped>\n",
              "    .dataframe tbody tr th:only-of-type {\n",
              "        vertical-align: middle;\n",
              "    }\n",
              "\n",
              "    .dataframe tbody tr th {\n",
              "        vertical-align: top;\n",
              "    }\n",
              "\n",
              "    .dataframe thead th {\n",
              "        text-align: right;\n",
              "    }\n",
              "</style>\n",
              "<table border=\"1\" class=\"dataframe\">\n",
              "  <thead>\n",
              "    <tr style=\"text-align: right;\">\n",
              "      <th></th>\n",
              "      <th>cast</th>\n",
              "      <th>crew</th>\n",
              "      <th>id</th>\n",
              "    </tr>\n",
              "  </thead>\n",
              "  <tbody>\n",
              "    <tr>\n",
              "      <th>0</th>\n",
              "      <td>[{'cast_id': 14, 'character': 'Woody (voice)',...</td>\n",
              "      <td>[{'credit_id': '52fe4284c3a36847f8024f49', 'de...</td>\n",
              "      <td>862</td>\n",
              "    </tr>\n",
              "    <tr>\n",
              "      <th>1</th>\n",
              "      <td>[{'cast_id': 1, 'character': 'Alan Parrish', '...</td>\n",
              "      <td>[{'credit_id': '52fe44bfc3a36847f80a7cd1', 'de...</td>\n",
              "      <td>8844</td>\n",
              "    </tr>\n",
              "    <tr>\n",
              "      <th>2</th>\n",
              "      <td>[{'cast_id': 2, 'character': 'Max Goldman', 'c...</td>\n",
              "      <td>[{'credit_id': '52fe466a9251416c75077a89', 'de...</td>\n",
              "      <td>15602</td>\n",
              "    </tr>\n",
              "  </tbody>\n",
              "</table>\n",
              "</div>"
            ],
            "text/plain": [
              "                                                cast  ...     id\n",
              "0  [{'cast_id': 14, 'character': 'Woody (voice)',...  ...    862\n",
              "1  [{'cast_id': 1, 'character': 'Alan Parrish', '...  ...   8844\n",
              "2  [{'cast_id': 2, 'character': 'Max Goldman', 'c...  ...  15602\n",
              "\n",
              "[3 rows x 3 columns]"
            ]
          },
          "metadata": {},
          "execution_count": 19
        }
      ]
    },
    {
      "cell_type": "markdown",
      "metadata": {
        "id": "cbLp_-Z3tR0l"
      },
      "source": [
        "### cast"
      ]
    },
    {
      "cell_type": "code",
      "metadata": {
        "id": "kPB1guE-tQI0",
        "outputId": "608545cc-3a55-4424-d8b6-b4e81b93adfa",
        "colab": {
          "base_uri": "https://localhost:8080/"
        }
      },
      "source": [
        "# 4. cast에서 배우 이름 따로 저장, crew에서 감독 이름 따로 저장\n",
        "# string 형태로 data 형태 바꾸기\n",
        "li = [entry['name'] for entry in  ast.literal_eval(credits.cast[0])[0:4]]\n",
        "li"
      ],
      "execution_count": 20,
      "outputs": [
        {
          "output_type": "execute_result",
          "data": {
            "text/plain": [
              "['Tom Hanks', 'Tim Allen', 'Don Rickles', 'Jim Varney']"
            ]
          },
          "metadata": {},
          "execution_count": 20
        }
      ]
    },
    {
      "cell_type": "code",
      "metadata": {
        "id": "Dwu1R7r1tYQR"
      },
      "source": [
        "# cast 상위 8명만\n",
        "import re\n",
        "\n",
        "def set_list_to_string(s, idx, to) :\n",
        "  if to == 0 :\n",
        "    t_dict = ast.literal_eval(s)\n",
        "    return [re.sub(r'[^\\w]', '_',re.sub(r'[^\\w\\s]', '', entry[idx])) for entry in t_dict]\n",
        "  \n",
        "  t_dict = ast.literal_eval(s)[0:to]\n",
        "  return [re.sub(r'[^\\w]', '_',re.sub(r'[^\\w\\s]', '', entry[idx])) for entry in t_dict]"
      ],
      "execution_count": 21,
      "outputs": []
    },
    {
      "cell_type": "code",
      "metadata": {
        "id": "sG2yK5AStaU6",
        "outputId": "584a0539-76f2-4d2b-a8c1-87309dfa6f29",
        "colab": {
          "base_uri": "https://localhost:8080/"
        }
      },
      "source": [
        "credits['actors'] = credits.cast.apply(set_list_to_string, idx='name', to=8)\n",
        "credits['actors'].head(10)"
      ],
      "execution_count": 22,
      "outputs": [
        {
          "output_type": "execute_result",
          "data": {
            "text/plain": [
              "0    [Tom_Hanks, Tim_Allen, Don_Rickles, Jim_Varney...\n",
              "1    [Robin_Williams, Jonathan_Hyde, Kirsten_Dunst,...\n",
              "2    [Walter_Matthau, Jack_Lemmon, AnnMargret, Soph...\n",
              "3    [Whitney_Houston, Angela_Bassett, Loretta_Devi...\n",
              "4    [Steve_Martin, Diane_Keaton, Martin_Short, Kim...\n",
              "5    [Al_Pacino, Robert_De_Niro, Val_Kilmer, Jon_Vo...\n",
              "6    [Harrison_Ford, Julia_Ormond, Greg_Kinnear, An...\n",
              "7    [Jonathan_Taylor_Thomas, Brad_Renfro, Rachael_...\n",
              "8    [JeanClaude_Van_Damme, Powers_Boothe, Dorian_H...\n",
              "9    [Pierce_Brosnan, Sean_Bean, Izabella_Scorupco,...\n",
              "Name: actors, dtype: object"
            ]
          },
          "metadata": {},
          "execution_count": 22
        }
      ]
    },
    {
      "cell_type": "code",
      "metadata": {
        "id": "N2u49BL9tdAH",
        "outputId": "53839359-6dc9-44c4-b4c8-69eebfd2e618",
        "colab": {
          "base_uri": "https://localhost:8080/",
          "height": 143
        }
      },
      "source": [
        "# 가장 많이 나온 배우 40명을 most_popular_acctors이라고 가정\n",
        "from collections import Counter\n",
        "\n",
        "actor_count = Counter([name for names_per_film in credits.actors.values for name in names_per_film])\n",
        "most_popular_actors = [entry[0] for entry in actor_count.most_common(40)]\n",
        "credits['number_of_named_actors'] = credits['actors'].apply(len)\n",
        "credits.head(3)"
      ],
      "execution_count": 23,
      "outputs": [
        {
          "output_type": "execute_result",
          "data": {
            "text/html": [
              "<div>\n",
              "<style scoped>\n",
              "    .dataframe tbody tr th:only-of-type {\n",
              "        vertical-align: middle;\n",
              "    }\n",
              "\n",
              "    .dataframe tbody tr th {\n",
              "        vertical-align: top;\n",
              "    }\n",
              "\n",
              "    .dataframe thead th {\n",
              "        text-align: right;\n",
              "    }\n",
              "</style>\n",
              "<table border=\"1\" class=\"dataframe\">\n",
              "  <thead>\n",
              "    <tr style=\"text-align: right;\">\n",
              "      <th></th>\n",
              "      <th>cast</th>\n",
              "      <th>crew</th>\n",
              "      <th>id</th>\n",
              "      <th>actors</th>\n",
              "      <th>number_of_named_actors</th>\n",
              "    </tr>\n",
              "  </thead>\n",
              "  <tbody>\n",
              "    <tr>\n",
              "      <th>0</th>\n",
              "      <td>[{'cast_id': 14, 'character': 'Woody (voice)',...</td>\n",
              "      <td>[{'credit_id': '52fe4284c3a36847f8024f49', 'de...</td>\n",
              "      <td>862</td>\n",
              "      <td>[Tom_Hanks, Tim_Allen, Don_Rickles, Jim_Varney...</td>\n",
              "      <td>8</td>\n",
              "    </tr>\n",
              "    <tr>\n",
              "      <th>1</th>\n",
              "      <td>[{'cast_id': 1, 'character': 'Alan Parrish', '...</td>\n",
              "      <td>[{'credit_id': '52fe44bfc3a36847f80a7cd1', 'de...</td>\n",
              "      <td>8844</td>\n",
              "      <td>[Robin_Williams, Jonathan_Hyde, Kirsten_Dunst,...</td>\n",
              "      <td>8</td>\n",
              "    </tr>\n",
              "    <tr>\n",
              "      <th>2</th>\n",
              "      <td>[{'cast_id': 2, 'character': 'Max Goldman', 'c...</td>\n",
              "      <td>[{'credit_id': '52fe466a9251416c75077a89', 'de...</td>\n",
              "      <td>15602</td>\n",
              "      <td>[Walter_Matthau, Jack_Lemmon, AnnMargret, Soph...</td>\n",
              "      <td>7</td>\n",
              "    </tr>\n",
              "  </tbody>\n",
              "</table>\n",
              "</div>"
            ],
            "text/plain": [
              "                                                cast  ... number_of_named_actors\n",
              "0  [{'cast_id': 14, 'character': 'Woody (voice)',...  ...                      8\n",
              "1  [{'cast_id': 1, 'character': 'Alan Parrish', '...  ...                      8\n",
              "2  [{'cast_id': 2, 'character': 'Max Goldman', 'c...  ...                      7\n",
              "\n",
              "[3 rows x 5 columns]"
            ]
          },
          "metadata": {},
          "execution_count": 23
        }
      ]
    },
    {
      "cell_type": "code",
      "metadata": {
        "id": "uDbSy9Dntc2x"
      },
      "source": [
        "def listToString(item_list):\n",
        "  return r' '.join(item_list)\n",
        "\n",
        "credits['actors'] = credits['actors'].apply(listToString)"
      ],
      "execution_count": 24,
      "outputs": []
    },
    {
      "cell_type": "markdown",
      "metadata": {
        "id": "KvSMFoxYthpI"
      },
      "source": [
        "### Crew"
      ]
    },
    {
      "cell_type": "code",
      "metadata": {
        "id": "E_k_82-otk32",
        "outputId": "113e2b40-0b25-4235-e439-c45690133c41",
        "colab": {
          "base_uri": "https://localhost:8080/"
        }
      },
      "source": [
        "credits['crew'] = credits.crew.apply(set_list_to_string, idx='name', to=4)\n",
        "credits.crew[0]"
      ],
      "execution_count": 25,
      "outputs": [
        {
          "output_type": "execute_result",
          "data": {
            "text/plain": [
              "['John_Lasseter', 'Joss_Whedon', 'Andrew_Stanton', 'Joel_Cohen']"
            ]
          },
          "metadata": {},
          "execution_count": 25
        }
      ]
    },
    {
      "cell_type": "code",
      "metadata": {
        "id": "ke6i1n47tkwE",
        "outputId": "df0bd8f1-b1ed-4000-f337-c5f0a12f0e6b",
        "colab": {
          "base_uri": "https://localhost:8080/",
          "height": 143
        }
      },
      "source": [
        "# 가장 많이 나온 crew 40명을 most_popular_crew라고 가정\n",
        "from collections import Counter\n",
        "\n",
        "crew_count = Counter([name for names_per_film in credits.crew.values for name in names_per_film])\n",
        "most_popular_crews = [entry[0] for entry in crew_count.most_common(40)]\n",
        "credits['number_of_named_crews'] = credits['crew'].apply(len)\n",
        "\n",
        "credits['crew'] = credits['crew'].apply(listToString)\n",
        "credits.head(3)"
      ],
      "execution_count": 26,
      "outputs": [
        {
          "output_type": "execute_result",
          "data": {
            "text/html": [
              "<div>\n",
              "<style scoped>\n",
              "    .dataframe tbody tr th:only-of-type {\n",
              "        vertical-align: middle;\n",
              "    }\n",
              "\n",
              "    .dataframe tbody tr th {\n",
              "        vertical-align: top;\n",
              "    }\n",
              "\n",
              "    .dataframe thead th {\n",
              "        text-align: right;\n",
              "    }\n",
              "</style>\n",
              "<table border=\"1\" class=\"dataframe\">\n",
              "  <thead>\n",
              "    <tr style=\"text-align: right;\">\n",
              "      <th></th>\n",
              "      <th>cast</th>\n",
              "      <th>crew</th>\n",
              "      <th>id</th>\n",
              "      <th>actors</th>\n",
              "      <th>number_of_named_actors</th>\n",
              "      <th>number_of_named_crews</th>\n",
              "    </tr>\n",
              "  </thead>\n",
              "  <tbody>\n",
              "    <tr>\n",
              "      <th>0</th>\n",
              "      <td>[{'cast_id': 14, 'character': 'Woody (voice)',...</td>\n",
              "      <td>John_Lasseter Joss_Whedon Andrew_Stanton Joel_...</td>\n",
              "      <td>862</td>\n",
              "      <td>Tom_Hanks Tim_Allen Don_Rickles Jim_Varney Wal...</td>\n",
              "      <td>8</td>\n",
              "      <td>4</td>\n",
              "    </tr>\n",
              "    <tr>\n",
              "      <th>1</th>\n",
              "      <td>[{'cast_id': 1, 'character': 'Alan Parrish', '...</td>\n",
              "      <td>Larry_J_Franco Jonathan_Hensleigh James_Horner...</td>\n",
              "      <td>8844</td>\n",
              "      <td>Robin_Williams Jonathan_Hyde Kirsten_Dunst Bra...</td>\n",
              "      <td>8</td>\n",
              "      <td>4</td>\n",
              "    </tr>\n",
              "    <tr>\n",
              "      <th>2</th>\n",
              "      <td>[{'cast_id': 2, 'character': 'Max Goldman', 'c...</td>\n",
              "      <td>Howard_Deutch Mark_Steven_Johnson Mark_Steven_...</td>\n",
              "      <td>15602</td>\n",
              "      <td>Walter_Matthau Jack_Lemmon AnnMargret Sophia_L...</td>\n",
              "      <td>7</td>\n",
              "      <td>4</td>\n",
              "    </tr>\n",
              "  </tbody>\n",
              "</table>\n",
              "</div>"
            ],
            "text/plain": [
              "                                                cast  ... number_of_named_crews\n",
              "0  [{'cast_id': 14, 'character': 'Woody (voice)',...  ...                     4\n",
              "1  [{'cast_id': 1, 'character': 'Alan Parrish', '...  ...                     4\n",
              "2  [{'cast_id': 2, 'character': 'Max Goldman', 'c...  ...                     4\n",
              "\n",
              "[3 rows x 6 columns]"
            ]
          },
          "metadata": {},
          "execution_count": 26
        }
      ]
    },
    {
      "cell_type": "code",
      "metadata": {
        "id": "cH6DLHA4tps-"
      },
      "source": [
        "credits = credits.drop(['cast'], axis=1)"
      ],
      "execution_count": 27,
      "outputs": []
    },
    {
      "cell_type": "markdown",
      "metadata": {
        "id": "k5G7xtn3tuDZ"
      },
      "source": [
        "### 배우들이 영화에 주연으로 출연한 수에 따른 그래프와 영화에 참여한 크루의 수"
      ]
    },
    {
      "cell_type": "code",
      "metadata": {
        "id": "k446lWWStrmI",
        "outputId": "3b96d33f-5ac5-4f38-8479-554fdb7bfb9f",
        "colab": {
          "base_uri": "https://localhost:8080/",
          "height": 0
        }
      },
      "source": [
        "x_value = list()\n",
        "y_value = list()\n",
        "for i in range(40) :\n",
        "  x_value.append(actor_count.most_common(40)[i][0])\n",
        "  y_value.append(actor_count.most_common(40)[i][1])\n",
        "\n",
        "df_actor_count = pd.DataFrame(data={'actor':x_value, 'count':y_value})\n",
        "df_actor_count.head(10)"
      ],
      "execution_count": 28,
      "outputs": [
        {
          "output_type": "execute_result",
          "data": {
            "text/html": [
              "<div>\n",
              "<style scoped>\n",
              "    .dataframe tbody tr th:only-of-type {\n",
              "        vertical-align: middle;\n",
              "    }\n",
              "\n",
              "    .dataframe tbody tr th {\n",
              "        vertical-align: top;\n",
              "    }\n",
              "\n",
              "    .dataframe thead th {\n",
              "        text-align: right;\n",
              "    }\n",
              "</style>\n",
              "<table border=\"1\" class=\"dataframe\">\n",
              "  <thead>\n",
              "    <tr style=\"text-align: right;\">\n",
              "      <th></th>\n",
              "      <th>actor</th>\n",
              "      <th>count</th>\n",
              "    </tr>\n",
              "  </thead>\n",
              "  <tbody>\n",
              "    <tr>\n",
              "      <th>0</th>\n",
              "      <td>Christopher_Lee</td>\n",
              "      <td>115</td>\n",
              "    </tr>\n",
              "    <tr>\n",
              "      <th>1</th>\n",
              "      <td>John_Wayne</td>\n",
              "      <td>112</td>\n",
              "    </tr>\n",
              "    <tr>\n",
              "      <th>2</th>\n",
              "      <td>Jackie_Chan</td>\n",
              "      <td>103</td>\n",
              "    </tr>\n",
              "    <tr>\n",
              "      <th>3</th>\n",
              "      <td>Gérard_Depardieu</td>\n",
              "      <td>103</td>\n",
              "    </tr>\n",
              "    <tr>\n",
              "      <th>4</th>\n",
              "      <td>Michael_Caine</td>\n",
              "      <td>102</td>\n",
              "    </tr>\n",
              "    <tr>\n",
              "      <th>5</th>\n",
              "      <td>Robert_De_Niro</td>\n",
              "      <td>100</td>\n",
              "    </tr>\n",
              "    <tr>\n",
              "      <th>6</th>\n",
              "      <td>Samuel_L_Jackson</td>\n",
              "      <td>97</td>\n",
              "    </tr>\n",
              "    <tr>\n",
              "      <th>7</th>\n",
              "      <td>Donald_Sutherland</td>\n",
              "      <td>92</td>\n",
              "    </tr>\n",
              "    <tr>\n",
              "      <th>8</th>\n",
              "      <td>Danny_Glover</td>\n",
              "      <td>86</td>\n",
              "    </tr>\n",
              "    <tr>\n",
              "      <th>9</th>\n",
              "      <td>Harvey_Keitel</td>\n",
              "      <td>85</td>\n",
              "    </tr>\n",
              "  </tbody>\n",
              "</table>\n",
              "</div>"
            ],
            "text/plain": [
              "               actor  count\n",
              "0    Christopher_Lee    115\n",
              "1         John_Wayne    112\n",
              "2        Jackie_Chan    103\n",
              "3   Gérard_Depardieu    103\n",
              "4      Michael_Caine    102\n",
              "5     Robert_De_Niro    100\n",
              "6   Samuel_L_Jackson     97\n",
              "7  Donald_Sutherland     92\n",
              "8       Danny_Glover     86\n",
              "9      Harvey_Keitel     85"
            ]
          },
          "metadata": {},
          "execution_count": 28
        }
      ]
    },
    {
      "cell_type": "code",
      "metadata": {
        "id": "Nsh6QE0Atx_P",
        "outputId": "d110b552-aac6-4e4d-d42d-ee8388762291",
        "colab": {
          "base_uri": "https://localhost:8080/",
          "height": 0
        }
      },
      "source": [
        "x_value = list()\n",
        "y_value = list()\n",
        "for i in range(40) :\n",
        "  x_value.append(crew_count.most_common(40)[i][0])\n",
        "  y_value.append(crew_count.most_common(40)[i][1])\n",
        "\n",
        "df_crew_count = pd.DataFrame(data={'crew':x_value, 'count':y_value})\n",
        "df_crew_count.head(10)"
      ],
      "execution_count": 29,
      "outputs": [
        {
          "output_type": "execute_result",
          "data": {
            "text/html": [
              "<div>\n",
              "<style scoped>\n",
              "    .dataframe tbody tr th:only-of-type {\n",
              "        vertical-align: middle;\n",
              "    }\n",
              "\n",
              "    .dataframe tbody tr th {\n",
              "        vertical-align: top;\n",
              "    }\n",
              "\n",
              "    .dataframe thead th {\n",
              "        text-align: right;\n",
              "    }\n",
              "</style>\n",
              "<table border=\"1\" class=\"dataframe\">\n",
              "  <thead>\n",
              "    <tr style=\"text-align: right;\">\n",
              "      <th></th>\n",
              "      <th>crew</th>\n",
              "      <th>count</th>\n",
              "    </tr>\n",
              "  </thead>\n",
              "  <tbody>\n",
              "    <tr>\n",
              "      <th>0</th>\n",
              "      <td>Cedric_Gibbons</td>\n",
              "      <td>189</td>\n",
              "    </tr>\n",
              "    <tr>\n",
              "      <th>1</th>\n",
              "      <td>Avy_Kaufman</td>\n",
              "      <td>132</td>\n",
              "    </tr>\n",
              "    <tr>\n",
              "      <th>2</th>\n",
              "      <td>Roger_Corman</td>\n",
              "      <td>127</td>\n",
              "    </tr>\n",
              "    <tr>\n",
              "      <th>3</th>\n",
              "      <td>Max_Steiner</td>\n",
              "      <td>122</td>\n",
              "    </tr>\n",
              "    <tr>\n",
              "      <th>4</th>\n",
              "      <td>Ennio_Morricone</td>\n",
              "      <td>116</td>\n",
              "    </tr>\n",
              "    <tr>\n",
              "      <th>5</th>\n",
              "      <td>Darryl_F_Zanuck</td>\n",
              "      <td>116</td>\n",
              "    </tr>\n",
              "    <tr>\n",
              "      <th>6</th>\n",
              "      <td>Charlie_Chaplin</td>\n",
              "      <td>115</td>\n",
              "    </tr>\n",
              "    <tr>\n",
              "      <th>7</th>\n",
              "      <td>Luc_Besson</td>\n",
              "      <td>108</td>\n",
              "    </tr>\n",
              "    <tr>\n",
              "      <th>8</th>\n",
              "      <td>Werner_Herzog</td>\n",
              "      <td>104</td>\n",
              "    </tr>\n",
              "    <tr>\n",
              "      <th>9</th>\n",
              "      <td>Hal_B_Wallis</td>\n",
              "      <td>102</td>\n",
              "    </tr>\n",
              "  </tbody>\n",
              "</table>\n",
              "</div>"
            ],
            "text/plain": [
              "              crew  count\n",
              "0   Cedric_Gibbons    189\n",
              "1      Avy_Kaufman    132\n",
              "2     Roger_Corman    127\n",
              "3      Max_Steiner    122\n",
              "4  Ennio_Morricone    116\n",
              "5  Darryl_F_Zanuck    116\n",
              "6  Charlie_Chaplin    115\n",
              "7       Luc_Besson    108\n",
              "8    Werner_Herzog    104\n",
              "9     Hal_B_Wallis    102"
            ]
          },
          "metadata": {},
          "execution_count": 29
        }
      ]
    },
    {
      "cell_type": "code",
      "metadata": {
        "id": "0eZqxp4Jt1Z-",
        "outputId": "67546f7c-0109-4832-aa5e-b3c057b2b394",
        "colab": {
          "base_uri": "https://localhost:8080/",
          "height": 0
        }
      },
      "source": [
        "credits.head(3)"
      ],
      "execution_count": 30,
      "outputs": [
        {
          "output_type": "execute_result",
          "data": {
            "text/html": [
              "<div>\n",
              "<style scoped>\n",
              "    .dataframe tbody tr th:only-of-type {\n",
              "        vertical-align: middle;\n",
              "    }\n",
              "\n",
              "    .dataframe tbody tr th {\n",
              "        vertical-align: top;\n",
              "    }\n",
              "\n",
              "    .dataframe thead th {\n",
              "        text-align: right;\n",
              "    }\n",
              "</style>\n",
              "<table border=\"1\" class=\"dataframe\">\n",
              "  <thead>\n",
              "    <tr style=\"text-align: right;\">\n",
              "      <th></th>\n",
              "      <th>crew</th>\n",
              "      <th>id</th>\n",
              "      <th>actors</th>\n",
              "      <th>number_of_named_actors</th>\n",
              "      <th>number_of_named_crews</th>\n",
              "    </tr>\n",
              "  </thead>\n",
              "  <tbody>\n",
              "    <tr>\n",
              "      <th>0</th>\n",
              "      <td>John_Lasseter Joss_Whedon Andrew_Stanton Joel_...</td>\n",
              "      <td>862</td>\n",
              "      <td>Tom_Hanks Tim_Allen Don_Rickles Jim_Varney Wal...</td>\n",
              "      <td>8</td>\n",
              "      <td>4</td>\n",
              "    </tr>\n",
              "    <tr>\n",
              "      <th>1</th>\n",
              "      <td>Larry_J_Franco Jonathan_Hensleigh James_Horner...</td>\n",
              "      <td>8844</td>\n",
              "      <td>Robin_Williams Jonathan_Hyde Kirsten_Dunst Bra...</td>\n",
              "      <td>8</td>\n",
              "      <td>4</td>\n",
              "    </tr>\n",
              "    <tr>\n",
              "      <th>2</th>\n",
              "      <td>Howard_Deutch Mark_Steven_Johnson Mark_Steven_...</td>\n",
              "      <td>15602</td>\n",
              "      <td>Walter_Matthau Jack_Lemmon AnnMargret Sophia_L...</td>\n",
              "      <td>7</td>\n",
              "      <td>4</td>\n",
              "    </tr>\n",
              "  </tbody>\n",
              "</table>\n",
              "</div>"
            ],
            "text/plain": [
              "                                                crew  ...  number_of_named_crews\n",
              "0  John_Lasseter Joss_Whedon Andrew_Stanton Joel_...  ...                      4\n",
              "1  Larry_J_Franco Jonathan_Hensleigh James_Horner...  ...                      4\n",
              "2  Howard_Deutch Mark_Steven_Johnson Mark_Steven_...  ...                      4\n",
              "\n",
              "[3 rows x 5 columns]"
            ]
          },
          "metadata": {},
          "execution_count": 30
        }
      ]
    },
    {
      "cell_type": "code",
      "metadata": {
        "id": "tF9-nM6YuSLv"
      },
      "source": [
        "merged_df = pd.merge(credits, keywords, how='inner', on='id')"
      ],
      "execution_count": 31,
      "outputs": []
    },
    {
      "cell_type": "markdown",
      "metadata": {
        "id": "ldq7aO-SucuJ"
      },
      "source": [
        "### links : dataframe끼리 연결해주는 id를 가지는 데이터프레임"
      ]
    },
    {
      "cell_type": "code",
      "metadata": {
        "id": "ddrIwaGhufTe",
        "outputId": "c39f0015-94a1-4d1e-825f-0c170aaa34bc",
        "colab": {
          "base_uri": "https://localhost:8080/"
        }
      },
      "source": [
        "links.columns = ['movieId', 'imdbId', 'id']\n",
        "links = links.drop_duplicates()\n",
        "links.isnull().sum()"
      ],
      "execution_count": 32,
      "outputs": [
        {
          "output_type": "execute_result",
          "data": {
            "text/plain": [
              "movieId      0\n",
              "imdbId       0\n",
              "id         219\n",
              "dtype: int64"
            ]
          },
          "metadata": {},
          "execution_count": 32
        }
      ]
    },
    {
      "cell_type": "code",
      "metadata": {
        "id": "D_gEl4q6ufLZ",
        "outputId": "b313ba0b-ab1d-4b00-f108-1d35b9dbc4ff",
        "colab": {
          "base_uri": "https://localhost:8080/",
          "height": 0
        }
      },
      "source": [
        "merged_df = pd.merge(merged_df, links, how='inner', on='id')\n",
        "merged_df.head(3)"
      ],
      "execution_count": 33,
      "outputs": [
        {
          "output_type": "execute_result",
          "data": {
            "text/html": [
              "<div>\n",
              "<style scoped>\n",
              "    .dataframe tbody tr th:only-of-type {\n",
              "        vertical-align: middle;\n",
              "    }\n",
              "\n",
              "    .dataframe tbody tr th {\n",
              "        vertical-align: top;\n",
              "    }\n",
              "\n",
              "    .dataframe thead th {\n",
              "        text-align: right;\n",
              "    }\n",
              "</style>\n",
              "<table border=\"1\" class=\"dataframe\">\n",
              "  <thead>\n",
              "    <tr style=\"text-align: right;\">\n",
              "      <th></th>\n",
              "      <th>crew</th>\n",
              "      <th>id</th>\n",
              "      <th>actors</th>\n",
              "      <th>number_of_named_actors</th>\n",
              "      <th>number_of_named_crews</th>\n",
              "      <th>keywords</th>\n",
              "      <th>movieId</th>\n",
              "      <th>imdbId</th>\n",
              "    </tr>\n",
              "  </thead>\n",
              "  <tbody>\n",
              "    <tr>\n",
              "      <th>0</th>\n",
              "      <td>John_Lasseter Joss_Whedon Andrew_Stanton Joel_...</td>\n",
              "      <td>862</td>\n",
              "      <td>Tom_Hanks Tim_Allen Don_Rickles Jim_Varney Wal...</td>\n",
              "      <td>8</td>\n",
              "      <td>4</td>\n",
              "      <td>[{'id': 931, 'name': 'jealousy'}, {'id': 4290,...</td>\n",
              "      <td>1</td>\n",
              "      <td>114709</td>\n",
              "    </tr>\n",
              "    <tr>\n",
              "      <th>1</th>\n",
              "      <td>Larry_J_Franco Jonathan_Hensleigh James_Horner...</td>\n",
              "      <td>8844</td>\n",
              "      <td>Robin_Williams Jonathan_Hyde Kirsten_Dunst Bra...</td>\n",
              "      <td>8</td>\n",
              "      <td>4</td>\n",
              "      <td>[{'id': 10090, 'name': 'board game'}, {'id': 1...</td>\n",
              "      <td>2</td>\n",
              "      <td>113497</td>\n",
              "    </tr>\n",
              "    <tr>\n",
              "      <th>2</th>\n",
              "      <td>Howard_Deutch Mark_Steven_Johnson Mark_Steven_...</td>\n",
              "      <td>15602</td>\n",
              "      <td>Walter_Matthau Jack_Lemmon AnnMargret Sophia_L...</td>\n",
              "      <td>7</td>\n",
              "      <td>4</td>\n",
              "      <td>[{'id': 1495, 'name': 'fishing'}, {'id': 12392...</td>\n",
              "      <td>3</td>\n",
              "      <td>113228</td>\n",
              "    </tr>\n",
              "  </tbody>\n",
              "</table>\n",
              "</div>"
            ],
            "text/plain": [
              "                                                crew     id  ... movieId  imdbId\n",
              "0  John_Lasseter Joss_Whedon Andrew_Stanton Joel_...    862  ...       1  114709\n",
              "1  Larry_J_Franco Jonathan_Hensleigh James_Horner...   8844  ...       2  113497\n",
              "2  Howard_Deutch Mark_Steven_Johnson Mark_Steven_...  15602  ...       3  113228\n",
              "\n",
              "[3 rows x 8 columns]"
            ]
          },
          "metadata": {},
          "execution_count": 33
        }
      ]
    },
    {
      "cell_type": "markdown",
      "metadata": {
        "id": "yO0zkl8XupNK"
      },
      "source": [
        "### movies_metadata : 영화에 대한 정보를 담고있는 dataframe"
      ]
    },
    {
      "cell_type": "code",
      "metadata": {
        "id": "BoRkCoLAura5",
        "outputId": "ca2e4b9d-07a3-4b75-e802-5e186a384800",
        "colab": {
          "base_uri": "https://localhost:8080/"
        }
      },
      "source": [
        "movies_metadata.duplicated().sum()"
      ],
      "execution_count": 34,
      "outputs": [
        {
          "output_type": "execute_result",
          "data": {
            "text/plain": [
              "13"
            ]
          },
          "metadata": {},
          "execution_count": 34
        }
      ]
    },
    {
      "cell_type": "code",
      "metadata": {
        "id": "2-WShvCGurTp",
        "outputId": "3c93b57b-b353-487d-db2d-1898d838fb99",
        "colab": {
          "base_uri": "https://localhost:8080/",
          "height": 0
        }
      },
      "source": [
        "movies_metadata = movies_metadata.drop_duplicates()\n",
        "print(movies_metadata.shape)\n",
        "movies_metadata.head(2)"
      ],
      "execution_count": 35,
      "outputs": [
        {
          "output_type": "stream",
          "name": "stdout",
          "text": [
            "(45453, 24)\n"
          ]
        },
        {
          "output_type": "execute_result",
          "data": {
            "text/html": [
              "<div>\n",
              "<style scoped>\n",
              "    .dataframe tbody tr th:only-of-type {\n",
              "        vertical-align: middle;\n",
              "    }\n",
              "\n",
              "    .dataframe tbody tr th {\n",
              "        vertical-align: top;\n",
              "    }\n",
              "\n",
              "    .dataframe thead th {\n",
              "        text-align: right;\n",
              "    }\n",
              "</style>\n",
              "<table border=\"1\" class=\"dataframe\">\n",
              "  <thead>\n",
              "    <tr style=\"text-align: right;\">\n",
              "      <th></th>\n",
              "      <th>adult</th>\n",
              "      <th>belongs_to_collection</th>\n",
              "      <th>budget</th>\n",
              "      <th>genres</th>\n",
              "      <th>homepage</th>\n",
              "      <th>id</th>\n",
              "      <th>imdb_id</th>\n",
              "      <th>original_language</th>\n",
              "      <th>original_title</th>\n",
              "      <th>overview</th>\n",
              "      <th>popularity</th>\n",
              "      <th>poster_path</th>\n",
              "      <th>production_companies</th>\n",
              "      <th>production_countries</th>\n",
              "      <th>release_date</th>\n",
              "      <th>revenue</th>\n",
              "      <th>runtime</th>\n",
              "      <th>spoken_languages</th>\n",
              "      <th>status</th>\n",
              "      <th>tagline</th>\n",
              "      <th>title</th>\n",
              "      <th>video</th>\n",
              "      <th>vote_average</th>\n",
              "      <th>vote_count</th>\n",
              "    </tr>\n",
              "  </thead>\n",
              "  <tbody>\n",
              "    <tr>\n",
              "      <th>0</th>\n",
              "      <td>False</td>\n",
              "      <td>{'id': 10194, 'name': 'Toy Story Collection', ...</td>\n",
              "      <td>30000000</td>\n",
              "      <td>[{'id': 16, 'name': 'Animation'}, {'id': 35, '...</td>\n",
              "      <td>http://toystory.disney.com/toy-story</td>\n",
              "      <td>862</td>\n",
              "      <td>tt0114709</td>\n",
              "      <td>en</td>\n",
              "      <td>Toy Story</td>\n",
              "      <td>Led by Woody, Andy's toys live happily in his ...</td>\n",
              "      <td>21.9469</td>\n",
              "      <td>/rhIRbceoE9lR4veEXuwCC2wARtG.jpg</td>\n",
              "      <td>[{'name': 'Pixar Animation Studios', 'id': 3}]</td>\n",
              "      <td>[{'iso_3166_1': 'US', 'name': 'United States o...</td>\n",
              "      <td>1995-10-30</td>\n",
              "      <td>373554033.0</td>\n",
              "      <td>81.0</td>\n",
              "      <td>[{'iso_639_1': 'en', 'name': 'English'}]</td>\n",
              "      <td>Released</td>\n",
              "      <td>NaN</td>\n",
              "      <td>Toy Story</td>\n",
              "      <td>False</td>\n",
              "      <td>7.7</td>\n",
              "      <td>5415.0</td>\n",
              "    </tr>\n",
              "    <tr>\n",
              "      <th>1</th>\n",
              "      <td>False</td>\n",
              "      <td>NaN</td>\n",
              "      <td>65000000</td>\n",
              "      <td>[{'id': 12, 'name': 'Adventure'}, {'id': 14, '...</td>\n",
              "      <td>NaN</td>\n",
              "      <td>8844</td>\n",
              "      <td>tt0113497</td>\n",
              "      <td>en</td>\n",
              "      <td>Jumanji</td>\n",
              "      <td>When siblings Judy and Peter discover an encha...</td>\n",
              "      <td>17.0155</td>\n",
              "      <td>/vzmL6fP7aPKNKPRTFnZmiUfciyV.jpg</td>\n",
              "      <td>[{'name': 'TriStar Pictures', 'id': 559}, {'na...</td>\n",
              "      <td>[{'iso_3166_1': 'US', 'name': 'United States o...</td>\n",
              "      <td>1995-12-15</td>\n",
              "      <td>262797249.0</td>\n",
              "      <td>104.0</td>\n",
              "      <td>[{'iso_639_1': 'en', 'name': 'English'}, {'iso...</td>\n",
              "      <td>Released</td>\n",
              "      <td>Roll the dice and unleash the excitement!</td>\n",
              "      <td>Jumanji</td>\n",
              "      <td>False</td>\n",
              "      <td>6.9</td>\n",
              "      <td>2413.0</td>\n",
              "    </tr>\n",
              "  </tbody>\n",
              "</table>\n",
              "</div>"
            ],
            "text/plain": [
              "   adult  ... vote_count\n",
              "0  False  ...     5415.0\n",
              "1  False  ...     2413.0\n",
              "\n",
              "[2 rows x 24 columns]"
            ]
          },
          "metadata": {},
          "execution_count": 35
        }
      ]
    },
    {
      "cell_type": "code",
      "metadata": {
        "id": "G36c9-FguxDT",
        "outputId": "244d98df-f12c-4c32-db0b-f485b2605b9b",
        "colab": {
          "base_uri": "https://localhost:8080/"
        }
      },
      "source": [
        "print(movies_metadata.revenue.mean())\n",
        "print(movies_metadata.revenue.median())\n",
        "movies_metadata.status.unique()"
      ],
      "execution_count": 36,
      "outputs": [
        {
          "output_type": "stream",
          "name": "stdout",
          "text": [
            "11212544.046889784\n",
            "0.0\n"
          ]
        },
        {
          "output_type": "execute_result",
          "data": {
            "text/plain": [
              "array(['Released', nan, 'Rumored', 'Post Production', 'In Production',\n",
              "       'Planned', 'Canceled'], dtype=object)"
            ]
          },
          "metadata": {},
          "execution_count": 36
        }
      ]
    },
    {
      "cell_type": "code",
      "metadata": {
        "id": "neGWbxNMuzQ3",
        "outputId": "a6f1736e-c4fe-474d-9c8a-17db75ddbb28",
        "colab": {
          "base_uri": "https://localhost:8080/"
        }
      },
      "source": [
        "movies_metadata.isnull().sum()"
      ],
      "execution_count": 37,
      "outputs": [
        {
          "output_type": "execute_result",
          "data": {
            "text/plain": [
              "adult                        0\n",
              "belongs_to_collection    40959\n",
              "budget                       0\n",
              "genres                       0\n",
              "homepage                 37673\n",
              "id                           0\n",
              "imdb_id                     17\n",
              "original_language           11\n",
              "original_title               0\n",
              "overview                   954\n",
              "popularity                   5\n",
              "poster_path                386\n",
              "production_companies         3\n",
              "production_countries         3\n",
              "release_date                87\n",
              "revenue                      6\n",
              "runtime                    263\n",
              "spoken_languages             6\n",
              "status                      87\n",
              "tagline                  25045\n",
              "title                        6\n",
              "video                        6\n",
              "vote_average                 6\n",
              "vote_count                   6\n",
              "dtype: int64"
            ]
          },
          "metadata": {},
          "execution_count": 37
        }
      ]
    },
    {
      "cell_type": "code",
      "metadata": {
        "id": "KUfmV6ccu2bo",
        "outputId": "e164b5bc-fe9c-4b99-a1d6-f441eb399674",
        "colab": {
          "base_uri": "https://localhost:8080/"
        }
      },
      "source": [
        "def toint(s) :\n",
        "  try :\n",
        "    n = int(s)\n",
        "    return n\n",
        "  except :\n",
        "    print(s)\n",
        "    return s\n",
        "movies_metadata.budget.apply(toint)"
      ],
      "execution_count": 38,
      "outputs": [
        {
          "output_type": "stream",
          "name": "stdout",
          "text": [
            "/ff9qCepilowshEtG2GYWwzt2bs4.jpg\n",
            "/zV8bHuSL6WXoD6FWogP9j4x80bL.jpg\n",
            "/zaSf5OG7V8X8gqFvly88zDdRm46.jpg\n"
          ]
        },
        {
          "output_type": "execute_result",
          "data": {
            "text/plain": [
              "0        30000000\n",
              "1        65000000\n",
              "2               0\n",
              "3        16000000\n",
              "4               0\n",
              "           ...   \n",
              "45461           0\n",
              "45462           0\n",
              "45463           0\n",
              "45464           0\n",
              "45465           0\n",
              "Name: budget, Length: 45453, dtype: object"
            ]
          },
          "metadata": {},
          "execution_count": 38
        }
      ]
    },
    {
      "cell_type": "code",
      "metadata": {
        "id": "F9GPPh5Au5zZ",
        "outputId": "f22ae646-4ca3-4195-d090-e307ad2d08d0",
        "colab": {
          "base_uri": "https://localhost:8080/"
        }
      },
      "source": [
        "# 본인의 columns 위치가 아닌 곳에 데이터가 있는 data들 drop\n",
        "movies_metadata = movies_metadata.drop(index=movies_metadata[movies_metadata.budget == '/ff9qCepilowshEtG2GYWwzt2bs4.jpg'].index)\n",
        "movies_metadata = movies_metadata.drop(index=movies_metadata[movies_metadata.budget == '/zV8bHuSL6WXoD6FWogP9j4x80bL.jpg'].index)\n",
        "movies_metadata = movies_metadata.drop(index=movies_metadata[movies_metadata.budget == '/zaSf5OG7V8X8gqFvly88zDdRm46.jpg'].index)\n",
        "print(movies_metadata.shape)\n",
        "movies_metadata.id = movies_metadata.id.astype(int)"
      ],
      "execution_count": 39,
      "outputs": [
        {
          "output_type": "stream",
          "name": "stdout",
          "text": [
            "(45450, 24)\n"
          ]
        }
      ]
    },
    {
      "cell_type": "code",
      "metadata": {
        "id": "Jc0eKmOZu_Nx",
        "outputId": "8a0f1398-ef3d-43d7-834b-3944dc491d56",
        "colab": {
          "base_uri": "https://localhost:8080/"
        }
      },
      "source": [
        "# nan 값을 0으로 치환(없다고 가정한다)\n",
        "movies_metadata.poster_path = movies_metadata.poster_path.fillna(0)\n",
        "\n",
        "def set_poster(s) :\n",
        "  if s == 0 :\n",
        "    return 0\n",
        "  else :\n",
        "    return 1\n",
        "  return 0\n",
        "movies_metadata.poster_path = movies_metadata.poster_path.apply(set_poster)\n",
        "movies_metadata.columns = ['adult', 'belongs_to_collection', 'budget', 'genres', 'homepage', 'id',\n",
        "       'imdb_id', 'original_language', 'original_title', 'overview',\n",
        "       'popularity', 'poster', 'production_companies',\n",
        "       'production_countries', 'release_date', 'revenue', 'runtime',\n",
        "       'spoken_languages', 'status', 'tagline', 'title', 'video',\n",
        "       'vote_average', 'vote_count']\n",
        "movies_metadata.columns"
      ],
      "execution_count": 40,
      "outputs": [
        {
          "output_type": "execute_result",
          "data": {
            "text/plain": [
              "Index(['adult', 'belongs_to_collection', 'budget', 'genres', 'homepage', 'id',\n",
              "       'imdb_id', 'original_language', 'original_title', 'overview',\n",
              "       'popularity', 'poster', 'production_companies', 'production_countries',\n",
              "       'release_date', 'revenue', 'runtime', 'spoken_languages', 'status',\n",
              "       'tagline', 'title', 'video', 'vote_average', 'vote_count'],\n",
              "      dtype='object')"
            ]
          },
          "metadata": {},
          "execution_count": 40
        }
      ]
    },
    {
      "cell_type": "code",
      "metadata": {
        "id": "88ZStsAKvDP8",
        "outputId": "18857d00-066b-4e97-e894-e51b8edd51d2",
        "colab": {
          "base_uri": "https://localhost:8080/"
        }
      },
      "source": [
        "print(movies_metadata.adult.unique())\n",
        "print(movies_metadata.status.unique())\n",
        "print(movies_metadata.video.unique())"
      ],
      "execution_count": 41,
      "outputs": [
        {
          "output_type": "stream",
          "name": "stdout",
          "text": [
            "['False' 'True']\n",
            "['Released' nan 'Rumored' 'Post Production' 'In Production' 'Planned'\n",
            " 'Canceled']\n",
            "[False True nan]\n"
          ]
        }
      ]
    },
    {
      "cell_type": "code",
      "metadata": {
        "id": "XBb5foyXvE4x",
        "outputId": "6cd97178-c19e-4df2-d0b8-761edd52c431",
        "colab": {
          "base_uri": "https://localhost:8080/"
        }
      },
      "source": [
        "# False가 대부분이고, True는 극소수(대략 0.02%)이므로 통계적으로 의미를 띄지않는다.(유의미하지않다.) -> drop\n",
        "Counter(movies_metadata.adult)"
      ],
      "execution_count": 42,
      "outputs": [
        {
          "output_type": "execute_result",
          "data": {
            "text/plain": [
              "Counter({'False': 45441, 'True': 9})"
            ]
          },
          "metadata": {},
          "execution_count": 42
        }
      ]
    },
    {
      "cell_type": "code",
      "metadata": {
        "id": "MHJr78oFvF8m",
        "outputId": "0d4657de-359b-4363-e862-26a7d869db7f",
        "colab": {
          "base_uri": "https://localhost:8080/"
        }
      },
      "source": [
        "# belongs_to_collection 컬럼에 빈칸(nan)값이 많기 때문에 우리가 예측하고자 하는 바에 도움이 되지 않는다. -> drop\n",
        "movies_metadata.shape, movies_metadata.belongs_to_collection.isnull().sum()"
      ],
      "execution_count": 43,
      "outputs": [
        {
          "output_type": "execute_result",
          "data": {
            "text/plain": [
              "((45450, 24), 40959)"
            ]
          },
          "metadata": {},
          "execution_count": 43
        }
      ]
    },
    {
      "cell_type": "code",
      "metadata": {
        "id": "ZhlczfvBvHkt"
      },
      "source": [
        "# dic형식으로 된 내용을 name컬럼만 빼서 list로 저장\n",
        "movies_metadata['genres'] = movies_metadata.genres.apply(set_list_to_string, idx='name', to=0)\n",
        "movies_metadata['number_of_popular_genres'] = movies_metadata['genres'].apply(len)"
      ],
      "execution_count": 44,
      "outputs": []
    },
    {
      "cell_type": "code",
      "metadata": {
        "id": "aLhvNdXnvL90"
      },
      "source": [
        "from collections import Counter\n",
        "\n",
        "genre_count = Counter([name for names_per_film in movies_metadata.genres.values for name in names_per_film])\n",
        "most_popular_genres = [entry[0] for entry in genre_count.most_common(40)]\n",
        "\n",
        "movies_metadata['genres'] = movies_metadata['genres'].apply(listToString)"
      ],
      "execution_count": 45,
      "outputs": []
    },
    {
      "cell_type": "code",
      "metadata": {
        "id": "WXmEVlxTvQD2",
        "outputId": "1fee1c8f-df25-4c21-feb8-a9c890805d41",
        "colab": {
          "base_uri": "https://localhost:8080/"
        }
      },
      "source": [
        "print(movies_metadata.shape)\n",
        "movies_metadata = movies_metadata.drop(movies_metadata[movies_metadata['production_companies'].isnull()==True].index)\n",
        "print(movies_metadata.shape)"
      ],
      "execution_count": 46,
      "outputs": [
        {
          "output_type": "stream",
          "name": "stdout",
          "text": [
            "(45450, 25)\n",
            "(45447, 25)\n"
          ]
        }
      ]
    },
    {
      "cell_type": "code",
      "metadata": {
        "id": "-7UqpvjCvSFJ"
      },
      "source": [
        "# dic형식으로 된 내용을 name컬럼만 빼서 list로 저장\n",
        "movies_metadata['production_companies'] = movies_metadata.production_companies.apply(set_list_to_string, idx='name', to=0)\n",
        "movies_metadata['number_of_production_companies'] = movies_metadata['production_companies'].apply(len)\n",
        "\n",
        "# 가장 많이 나온 genres 40명을 most_popular_genres라고 가정\n",
        "companies_count = Counter([name for names_per_film in movies_metadata.production_companies.values for name in names_per_film])\n",
        "most_popular_companies = [entry[0] for entry in companies_count.most_common(40)]\n",
        "\n",
        "movies_metadata['production_companies'] = movies_metadata['production_companies'].apply(listToString)"
      ],
      "execution_count": 47,
      "outputs": []
    },
    {
      "cell_type": "code",
      "metadata": {
        "id": "QhN6UWIWvZQ1"
      },
      "source": [
        "# dic형식으로 된 내용을 name컬럼만 빼서 list로 저장\n",
        "movies_metadata['production_countries'] = movies_metadata.production_countries.apply(set_list_to_string, idx='name', to=0)\n",
        "movies_metadata['number_of_production_countries'] = movies_metadata['production_countries'].apply(len)\n",
        "\n",
        "# 가장 많이 나온 genres 40명을 most_popular_genres라고 가정\n",
        "countries_count = Counter([name for names_per_film in movies_metadata.production_countries.values for name in names_per_film])\n",
        "most_popular_countries = [entry[0] for entry in countries_count.most_common(40)]\n",
        "\n",
        "movies_metadata['production_countries'] = movies_metadata['production_countries'].apply(listToString)\n",
        "\n",
        "movies_metadata = movies_metadata.dropna()"
      ],
      "execution_count": 48,
      "outputs": []
    },
    {
      "cell_type": "code",
      "metadata": {
        "id": "ws1tpwfkvmkO",
        "outputId": "99fe1b23-89b8-43d6-b1ec-8b93c3a56177",
        "colab": {
          "base_uri": "https://localhost:8080/"
        }
      },
      "source": [
        "# 홈페이지가 존재한다면 1, 없다면 0으로 치환\n",
        "def setHomepage(s) :\n",
        "  if s == 0 :\n",
        "    return 0\n",
        "  s = str(s)\n",
        "  if s[0:4] == 'http' :\n",
        "    return 1\n",
        "  return 0\n",
        "movies_metadata.fillna(0) # homepage가 없는 경우 0\n",
        "movies_metadata.homepage = movies_metadata.homepage.apply(setHomepage)\n",
        "\n",
        "\n",
        "# 음성언어가 몇가지 있는지 치환\n",
        "movies_metadata.spoken_languages = movies_metadata.spoken_languages.apply(set_list_to_string, idx='name', to=0)\n",
        "movies_metadata.spoken_languages = movies_metadata.spoken_languages.apply(len)"
      ],
      "execution_count": 49,
      "outputs": [
        {
          "output_type": "stream",
          "name": "stderr",
          "text": [
            "/usr/local/lib/python3.7/dist-packages/pandas/core/generic.py:5170: SettingWithCopyWarning: \n",
            "A value is trying to be set on a copy of a slice from a DataFrame.\n",
            "Try using .loc[row_indexer,col_indexer] = value instead\n",
            "\n",
            "See the caveats in the documentation: https://pandas.pydata.org/pandas-docs/stable/user_guide/indexing.html#returning-a-view-versus-a-copy\n",
            "  self[name] = value\n"
          ]
        }
      ]
    },
    {
      "cell_type": "code",
      "metadata": {
        "id": "3SgVsj3CvwCj",
        "outputId": "492f32ab-c610-45cb-b48f-d7b89076e051",
        "colab": {
          "base_uri": "https://localhost:8080/"
        }
      },
      "source": [
        "# 출시된 상태의 영화에 대해서 훈련시킬 예정이다.\n",
        "movies_metadata = movies_metadata[ (movies_metadata['status'] == 'Released') | (movies_metadata['status'] == 'Planned') \n",
        "                    | (movies_metadata['status'] == 'In Production') | (movies_metadata['status'] == 'Post Production')]\n",
        "print(movies_metadata.status.unique())"
      ],
      "execution_count": 50,
      "outputs": [
        {
          "output_type": "stream",
          "name": "stdout",
          "text": [
            "['Released']\n"
          ]
        }
      ]
    },
    {
      "cell_type": "markdown",
      "metadata": {
        "id": "eB6M6rnwvyYQ"
      },
      "source": [
        "### 무의미한 데이터 삭제"
      ]
    },
    {
      "cell_type": "code",
      "metadata": {
        "id": "WQTHODfsv2yA"
      },
      "source": [
        "movies_metadata = movies_metadata.drop(['adult', 'poster', 'belongs_to_collection', 'imdb_id', 'vote_count', \n",
        "                                        'original_language', 'original_title', 'overview', 'tagline'], axis=1)\n",
        "movies_metadata['id'] = movies_metadata['id'].astype(int)\n",
        "movies_metadata = movies_metadata.drop( movies_metadata[movies_metadata['runtime'] < 60 ].index)\n",
        "merged_df = pd.merge(merged_df, movies_metadata, how='inner', on='id')"
      ],
      "execution_count": 51,
      "outputs": []
    },
    {
      "cell_type": "markdown",
      "metadata": {
        "id": "if3ByjzMwHnW"
      },
      "source": [
        "### ratings : 영화에 대한 평점을 담고있는 dataframe"
      ]
    },
    {
      "cell_type": "code",
      "metadata": {
        "id": "jZFz4aRQwNQn"
      },
      "source": [
        "ratings = ratings.drop_duplicates(ignore_index=True)  # 중복값 없음\n",
        "ratings = ratings.drop(['userId', 'timestamp'], axis=1)\n",
        "grouped_rating = (ratings.groupby(by=\"movieId\").mean())['rating'].to_frame()\n",
        "grouped_rating['rating'] = grouped_rating['rating'].round(1)\n",
        "grouped_rating = grouped_rating.reset_index()"
      ],
      "execution_count": 52,
      "outputs": []
    },
    {
      "cell_type": "code",
      "metadata": {
        "id": "DyWp9dMGwNFN"
      },
      "source": [
        "def transform_rating(n) :\n",
        "  if n >= 3.5 :\n",
        "    return True\n",
        "  return False\n",
        "\n",
        "grouped_rating['rating'] = grouped_rating['rating'].apply(transform_rating)"
      ],
      "execution_count": 53,
      "outputs": []
    },
    {
      "cell_type": "code",
      "metadata": {
        "id": "Shojxu5QwYV4",
        "outputId": "97a88d2d-21a1-4f90-b8d9-0a8be956bd7b",
        "colab": {
          "base_uri": "https://localhost:8080/",
          "height": 0
        }
      },
      "source": [
        "merged_df = pd.merge(merged_df, grouped_rating, how='inner', on='movieId')\n",
        "merged_df.head(3)"
      ],
      "execution_count": 54,
      "outputs": [
        {
          "output_type": "execute_result",
          "data": {
            "text/html": [
              "<div>\n",
              "<style scoped>\n",
              "    .dataframe tbody tr th:only-of-type {\n",
              "        vertical-align: middle;\n",
              "    }\n",
              "\n",
              "    .dataframe tbody tr th {\n",
              "        vertical-align: top;\n",
              "    }\n",
              "\n",
              "    .dataframe thead th {\n",
              "        text-align: right;\n",
              "    }\n",
              "</style>\n",
              "<table border=\"1\" class=\"dataframe\">\n",
              "  <thead>\n",
              "    <tr style=\"text-align: right;\">\n",
              "      <th></th>\n",
              "      <th>crew</th>\n",
              "      <th>id</th>\n",
              "      <th>actors</th>\n",
              "      <th>number_of_named_actors</th>\n",
              "      <th>number_of_named_crews</th>\n",
              "      <th>keywords</th>\n",
              "      <th>movieId</th>\n",
              "      <th>imdbId</th>\n",
              "      <th>budget</th>\n",
              "      <th>genres</th>\n",
              "      <th>homepage</th>\n",
              "      <th>popularity</th>\n",
              "      <th>production_companies</th>\n",
              "      <th>production_countries</th>\n",
              "      <th>release_date</th>\n",
              "      <th>revenue</th>\n",
              "      <th>runtime</th>\n",
              "      <th>spoken_languages</th>\n",
              "      <th>status</th>\n",
              "      <th>title</th>\n",
              "      <th>video</th>\n",
              "      <th>vote_average</th>\n",
              "      <th>number_of_popular_genres</th>\n",
              "      <th>number_of_production_companies</th>\n",
              "      <th>number_of_production_countries</th>\n",
              "      <th>rating</th>\n",
              "    </tr>\n",
              "  </thead>\n",
              "  <tbody>\n",
              "    <tr>\n",
              "      <th>0</th>\n",
              "      <td>Martin_Campbell Ian_Fleming Jeffrey_Caine Bruc...</td>\n",
              "      <td>710</td>\n",
              "      <td>Pierce_Brosnan Sean_Bean Izabella_Scorupco Fam...</td>\n",
              "      <td>8</td>\n",
              "      <td>4</td>\n",
              "      <td>[{'id': 701, 'name': 'cuba'}, {'id': 769, 'nam...</td>\n",
              "      <td>10</td>\n",
              "      <td>113189</td>\n",
              "      <td>58000000</td>\n",
              "      <td>Adventure Action Thriller</td>\n",
              "      <td>1</td>\n",
              "      <td>14.686</td>\n",
              "      <td>United_Artists Eon_Productions</td>\n",
              "      <td>United_Kingdom United_States_of_America</td>\n",
              "      <td>1995-11-16</td>\n",
              "      <td>352194034.0</td>\n",
              "      <td>130.0</td>\n",
              "      <td>3</td>\n",
              "      <td>Released</td>\n",
              "      <td>GoldenEye</td>\n",
              "      <td>False</td>\n",
              "      <td>6.6</td>\n",
              "      <td>3</td>\n",
              "      <td>2</td>\n",
              "      <td>2</td>\n",
              "      <td>False</td>\n",
              "    </tr>\n",
              "    <tr>\n",
              "      <th>1</th>\n",
              "      <td>F_Gary_Gray DJ_Pooh Ice_Cube Frank_Fitzpatrick</td>\n",
              "      <td>10634</td>\n",
              "      <td>Ice_Cube Chris_Tucker Nia_Long Tom_Lister_Jr J...</td>\n",
              "      <td>8</td>\n",
              "      <td>4</td>\n",
              "      <td>[{'id': 897, 'name': 'rap music'}, {'id': 970,...</td>\n",
              "      <td>69</td>\n",
              "      <td>113118</td>\n",
              "      <td>3500000</td>\n",
              "      <td>Comedy</td>\n",
              "      <td>1</td>\n",
              "      <td>14.5696</td>\n",
              "      <td>New_Line_Cinema</td>\n",
              "      <td>United_States_of_America</td>\n",
              "      <td>1995-04-26</td>\n",
              "      <td>28215918.0</td>\n",
              "      <td>91.0</td>\n",
              "      <td>1</td>\n",
              "      <td>Released</td>\n",
              "      <td>Friday</td>\n",
              "      <td>False</td>\n",
              "      <td>7.0</td>\n",
              "      <td>1</td>\n",
              "      <td>1</td>\n",
              "      <td>1</td>\n",
              "      <td>True</td>\n",
              "    </tr>\n",
              "    <tr>\n",
              "      <th>2</th>\n",
              "      <td>Robert_Rodriguez Quentin_Tarantino Quentin_Tar...</td>\n",
              "      <td>755</td>\n",
              "      <td>George_Clooney Quentin_Tarantino Harvey_Keitel...</td>\n",
              "      <td>8</td>\n",
              "      <td>4</td>\n",
              "      <td>[{'id': 246, 'name': 'dancing'}, {'id': 380, '...</td>\n",
              "      <td>70</td>\n",
              "      <td>116367</td>\n",
              "      <td>19000000</td>\n",
              "      <td>Horror Action Thriller Crime</td>\n",
              "      <td>1</td>\n",
              "      <td>15.3392</td>\n",
              "      <td>A_Band_Apart Dimension_Films Los_Hooligans_Pro...</td>\n",
              "      <td>United_States_of_America</td>\n",
              "      <td>1996-01-19</td>\n",
              "      <td>25836616.0</td>\n",
              "      <td>108.0</td>\n",
              "      <td>2</td>\n",
              "      <td>Released</td>\n",
              "      <td>From Dusk Till Dawn</td>\n",
              "      <td>False</td>\n",
              "      <td>6.9</td>\n",
              "      <td>4</td>\n",
              "      <td>4</td>\n",
              "      <td>1</td>\n",
              "      <td>False</td>\n",
              "    </tr>\n",
              "  </tbody>\n",
              "</table>\n",
              "</div>"
            ],
            "text/plain": [
              "                                                crew  ...  rating\n",
              "0  Martin_Campbell Ian_Fleming Jeffrey_Caine Bruc...  ...   False\n",
              "1     F_Gary_Gray DJ_Pooh Ice_Cube Frank_Fitzpatrick  ...    True\n",
              "2  Robert_Rodriguez Quentin_Tarantino Quentin_Tar...  ...   False\n",
              "\n",
              "[3 rows x 26 columns]"
            ]
          },
          "metadata": {},
          "execution_count": 54
        }
      ]
    },
    {
      "cell_type": "markdown",
      "metadata": {
        "id": "l6RhgFP9ACgY"
      },
      "source": [
        "### 1) 지속적으로 여러분의 포트폴리오 데이터를 랭글링 하세요\n",
        "- 여러분이 선택한 데이터들을 랭글링하여 모델을 만들기 위한 테이블 형태의 데이터로 만들어 보세요.\n",
        "- **다음 함수의 result를 완성시키고 리턴값을 제출하세요.**"
      ]
    },
    {
      "cell_type": "code",
      "metadata": {
        "id": "N3CYdPZsACgZ",
        "colab": {
          "base_uri": "https://localhost:8080/",
          "height": 0
        },
        "outputId": "d5193427-9801-4c3d-8716-0f37f41fcd5a"
      },
      "source": [
        "import pandas as pd\n",
        "df = pd.read_csv(\"https://ds-lecture-data.s3.ap-northeast-2.amazonaws.com/assignments/purchase_data.csv\", sep=\",\",index_col=0)\n",
        "\n",
        "## 다음 result 함수 안에 male, female 변수를 계산하세요.(groupby, get_group을 사용하세요.)\n",
        "## sum_male: Age = 20, Gender = \"Male\" 그룹의 Price를 합하세요.\n",
        "## sum_female: Age = 20, Gender = \"Female\" 그룹의 Price를 합하세요.\n",
        "\n",
        "df.head()"
      ],
      "execution_count": 55,
      "outputs": [
        {
          "output_type": "execute_result",
          "data": {
            "text/html": [
              "<div>\n",
              "<style scoped>\n",
              "    .dataframe tbody tr th:only-of-type {\n",
              "        vertical-align: middle;\n",
              "    }\n",
              "\n",
              "    .dataframe tbody tr th {\n",
              "        vertical-align: top;\n",
              "    }\n",
              "\n",
              "    .dataframe thead th {\n",
              "        text-align: right;\n",
              "    }\n",
              "</style>\n",
              "<table border=\"1\" class=\"dataframe\">\n",
              "  <thead>\n",
              "    <tr style=\"text-align: right;\">\n",
              "      <th></th>\n",
              "      <th>SN</th>\n",
              "      <th>Age</th>\n",
              "      <th>Gender</th>\n",
              "      <th>Item ID</th>\n",
              "      <th>Item Name</th>\n",
              "      <th>Price</th>\n",
              "    </tr>\n",
              "    <tr>\n",
              "      <th>Purchase ID</th>\n",
              "      <th></th>\n",
              "      <th></th>\n",
              "      <th></th>\n",
              "      <th></th>\n",
              "      <th></th>\n",
              "      <th></th>\n",
              "    </tr>\n",
              "  </thead>\n",
              "  <tbody>\n",
              "    <tr>\n",
              "      <th>0</th>\n",
              "      <td>Lisim78</td>\n",
              "      <td>20</td>\n",
              "      <td>Male</td>\n",
              "      <td>108</td>\n",
              "      <td>Extraction, Quickblade Of Trembling Hands</td>\n",
              "      <td>3.53</td>\n",
              "    </tr>\n",
              "    <tr>\n",
              "      <th>1</th>\n",
              "      <td>Lisovynya38</td>\n",
              "      <td>40</td>\n",
              "      <td>Male</td>\n",
              "      <td>143</td>\n",
              "      <td>Frenzied Scimitar</td>\n",
              "      <td>1.56</td>\n",
              "    </tr>\n",
              "    <tr>\n",
              "      <th>2</th>\n",
              "      <td>Ithergue48</td>\n",
              "      <td>24</td>\n",
              "      <td>Male</td>\n",
              "      <td>92</td>\n",
              "      <td>Final Critic</td>\n",
              "      <td>4.88</td>\n",
              "    </tr>\n",
              "    <tr>\n",
              "      <th>3</th>\n",
              "      <td>Chamassasya86</td>\n",
              "      <td>24</td>\n",
              "      <td>Male</td>\n",
              "      <td>100</td>\n",
              "      <td>Blindscythe</td>\n",
              "      <td>3.27</td>\n",
              "    </tr>\n",
              "    <tr>\n",
              "      <th>4</th>\n",
              "      <td>Iskosia90</td>\n",
              "      <td>23</td>\n",
              "      <td>Male</td>\n",
              "      <td>131</td>\n",
              "      <td>Fury</td>\n",
              "      <td>1.44</td>\n",
              "    </tr>\n",
              "  </tbody>\n",
              "</table>\n",
              "</div>"
            ],
            "text/plain": [
              "                        SN  ...  Price\n",
              "Purchase ID                 ...       \n",
              "0                  Lisim78  ...   3.53\n",
              "1              Lisovynya38  ...   1.56\n",
              "2               Ithergue48  ...   4.88\n",
              "3            Chamassasya86  ...   3.27\n",
              "4                Iskosia90  ...   1.44\n",
              "\n",
              "[5 rows x 6 columns]"
            ]
          },
          "metadata": {},
          "execution_count": 55
        }
      ]
    },
    {
      "cell_type": "code",
      "metadata": {
        "id": "pKrjdUCPHgb4",
        "colab": {
          "base_uri": "https://localhost:8080/"
        },
        "outputId": "e358c8a7-d2a6-4d5d-fc61-ab7a27343448"
      },
      "source": [
        "df.dtypes"
      ],
      "execution_count": 56,
      "outputs": [
        {
          "output_type": "execute_result",
          "data": {
            "text/plain": [
              "SN            object\n",
              "Age            int64\n",
              "Gender        object\n",
              "Item ID        int64\n",
              "Item Name     object\n",
              "Price        float64\n",
              "dtype: object"
            ]
          },
          "metadata": {},
          "execution_count": 56
        }
      ]
    },
    {
      "cell_type": "code",
      "metadata": {
        "id": "62mwQlyuAN8y",
        "colab": {
          "base_uri": "https://localhost:8080/"
        },
        "outputId": "6e73eb52-a7f2-499a-cdf9-32c247b3d1dd"
      },
      "source": [
        "def result(df):\n",
        "    cond = (df.Age==20) & (df.Gender == 'Male')\n",
        "    sum_male = df[(df.Age==20) & (df.Gender == 'Male')].Price.sum()\n",
        "    sum_female = df[(df.Age==20) & (df.Gender == 'Female')].Price.sum()\n",
        "\n",
        "    print(\"sum_male: {}, sum_female: {}\".format(sum_male, sum_female))\n",
        "    return round(sum_male + sum_female)\n",
        "\n",
        "result(df)"
      ],
      "execution_count": 57,
      "outputs": [
        {
          "output_type": "stream",
          "name": "stdout",
          "text": [
            "sum_male: 260.2, sum_female: 43.730000000000004\n"
          ]
        },
        {
          "output_type": "execute_result",
          "data": {
            "text/plain": [
              "304"
            ]
          },
          "metadata": {},
          "execution_count": 57
        }
      ]
    },
    {
      "cell_type": "markdown",
      "metadata": {
        "id": "MJCFDYDaACgc"
      },
      "source": [
        "### 2) 새로 특징들을 만들어 보세요\n",
        "- 여러분이 선택한 데이터에서 특징 공학을 수행해 보세요.\n",
        "- **(다중선택) purchase_data를 랭글링하여 다음 조건을 계산하고 결과가 올바른 항목을 세요.**\n",
        "    1. 나이 1-20세 그룹(20세 포함)의 평균 Price는 3.101818이다.\n",
        "    2. 나이 21-50세 그룹의 평균 Price는 3.021559이다.\n",
        "    3. 가장 많이 구입한 아이템의 ID는 178 이다.\n",
        "    4. 두번째로 매출을 많이 낸 아이템 ID는 145이다."
      ]
    },
    {
      "cell_type": "code",
      "metadata": {
        "id": "TKmBuCjeACgc",
        "colab": {
          "base_uri": "https://localhost:8080/"
        },
        "outputId": "4baf56d8-adca-471c-9fac-bbd4b7452b85"
      },
      "source": [
        "### 이곳에서 제출폼 과제를 진행해 주세요 ###\n",
        "# 그룹별 Price 평균\n",
        "df_grouped_by_age = pd.DataFrame(df.groupby('Age').sum('Price').Price)\n",
        "df_count = df.groupby('Age').count().SN.to_frame()\n",
        "df_count.columns = ['num']\n",
        "print(\"가장 높은 나이 : \", df_grouped_by_age.index.max())\n",
        "\n",
        "\n",
        "df_merge = df_grouped_by_age.merge(df_count, on='Age', how='inner')\n",
        "df_merge_sum =df_merge[df_merge.index <= 20].num.sum()\n",
        "\n",
        "print(\"나이 1-20세 그룹(20세 포함)의 평균 Price\", sum(df_grouped_by_age[df_grouped_by_age.index <= 20 ].Price)/df_merge_sum )\n",
        "\n",
        "df_merge_sum =df_merge[df_merge.index > 20].num.sum()\n",
        "print(\"나이 21-50세 그룹의 평균 Price\", sum(df_grouped_by_age[20 < df_grouped_by_age.index ].Price)/df_merge_sum )\n"
      ],
      "execution_count": 58,
      "outputs": [
        {
          "output_type": "stream",
          "name": "stdout",
          "text": [
            "가장 높은 나이 :  45\n",
            "나이 1-20세 그룹(20세 포함)의 평균 Price 3.1018181818181816\n",
            "나이 21-50세 그룹의 평균 Price 3.0215587044534415\n"
          ]
        }
      ]
    },
    {
      "cell_type": "code",
      "metadata": {
        "id": "3j0ofDQmTFI8",
        "colab": {
          "base_uri": "https://localhost:8080/",
          "height": 0
        },
        "outputId": "92d88377-5beb-4ad2-f733-ff3085486b33"
      },
      "source": [
        "df_merge.head()"
      ],
      "execution_count": 59,
      "outputs": [
        {
          "output_type": "execute_result",
          "data": {
            "text/html": [
              "<div>\n",
              "<style scoped>\n",
              "    .dataframe tbody tr th:only-of-type {\n",
              "        vertical-align: middle;\n",
              "    }\n",
              "\n",
              "    .dataframe tbody tr th {\n",
              "        vertical-align: top;\n",
              "    }\n",
              "\n",
              "    .dataframe thead th {\n",
              "        text-align: right;\n",
              "    }\n",
              "</style>\n",
              "<table border=\"1\" class=\"dataframe\">\n",
              "  <thead>\n",
              "    <tr style=\"text-align: right;\">\n",
              "      <th></th>\n",
              "      <th>Price</th>\n",
              "      <th>num</th>\n",
              "    </tr>\n",
              "    <tr>\n",
              "      <th>Age</th>\n",
              "      <th></th>\n",
              "      <th></th>\n",
              "    </tr>\n",
              "  </thead>\n",
              "  <tbody>\n",
              "    <tr>\n",
              "      <th>7</th>\n",
              "      <td>32.89</td>\n",
              "      <td>9</td>\n",
              "    </tr>\n",
              "    <tr>\n",
              "      <th>8</th>\n",
              "      <td>25.97</td>\n",
              "      <td>8</td>\n",
              "    </tr>\n",
              "    <tr>\n",
              "      <th>9</th>\n",
              "      <td>18.27</td>\n",
              "      <td>6</td>\n",
              "    </tr>\n",
              "    <tr>\n",
              "      <th>10</th>\n",
              "      <td>31.83</td>\n",
              "      <td>9</td>\n",
              "    </tr>\n",
              "    <tr>\n",
              "      <th>11</th>\n",
              "      <td>18.79</td>\n",
              "      <td>7</td>\n",
              "    </tr>\n",
              "  </tbody>\n",
              "</table>\n",
              "</div>"
            ],
            "text/plain": [
              "     Price  num\n",
              "Age            \n",
              "7    32.89    9\n",
              "8    25.97    8\n",
              "9    18.27    6\n",
              "10   31.83    9\n",
              "11   18.79    7"
            ]
          },
          "metadata": {},
          "execution_count": 59
        }
      ]
    },
    {
      "cell_type": "code",
      "metadata": {
        "id": "xf38p_SaTgu7",
        "colab": {
          "base_uri": "https://localhost:8080/",
          "height": 0
        },
        "outputId": "605a0851-2261-4d98-fe50-4ced8956824f"
      },
      "source": [
        "df_count.head()"
      ],
      "execution_count": 60,
      "outputs": [
        {
          "output_type": "execute_result",
          "data": {
            "text/html": [
              "<div>\n",
              "<style scoped>\n",
              "    .dataframe tbody tr th:only-of-type {\n",
              "        vertical-align: middle;\n",
              "    }\n",
              "\n",
              "    .dataframe tbody tr th {\n",
              "        vertical-align: top;\n",
              "    }\n",
              "\n",
              "    .dataframe thead th {\n",
              "        text-align: right;\n",
              "    }\n",
              "</style>\n",
              "<table border=\"1\" class=\"dataframe\">\n",
              "  <thead>\n",
              "    <tr style=\"text-align: right;\">\n",
              "      <th></th>\n",
              "      <th>num</th>\n",
              "    </tr>\n",
              "    <tr>\n",
              "      <th>Age</th>\n",
              "      <th></th>\n",
              "    </tr>\n",
              "  </thead>\n",
              "  <tbody>\n",
              "    <tr>\n",
              "      <th>7</th>\n",
              "      <td>9</td>\n",
              "    </tr>\n",
              "    <tr>\n",
              "      <th>8</th>\n",
              "      <td>8</td>\n",
              "    </tr>\n",
              "    <tr>\n",
              "      <th>9</th>\n",
              "      <td>6</td>\n",
              "    </tr>\n",
              "    <tr>\n",
              "      <th>10</th>\n",
              "      <td>9</td>\n",
              "    </tr>\n",
              "    <tr>\n",
              "      <th>11</th>\n",
              "      <td>7</td>\n",
              "    </tr>\n",
              "  </tbody>\n",
              "</table>\n",
              "</div>"
            ],
            "text/plain": [
              "     num\n",
              "Age     \n",
              "7      9\n",
              "8      8\n",
              "9      6\n",
              "10     9\n",
              "11     7"
            ]
          },
          "metadata": {},
          "execution_count": 60
        }
      ]
    },
    {
      "cell_type": "code",
      "metadata": {
        "id": "lmgF19cILkQV",
        "colab": {
          "base_uri": "https://localhost:8080/",
          "height": 0
        },
        "outputId": "a88cd3ac-7dc9-4694-c379-f760795b67fd"
      },
      "source": [
        "# 판매수 상위 Item ID\n",
        "df_grouped_by_id = pd.DataFrame(df.groupby('Item ID').count().SN)\n",
        "df_grouped_by_id.sort_values('SN', ascending=False)"
      ],
      "execution_count": 61,
      "outputs": [
        {
          "output_type": "execute_result",
          "data": {
            "text/html": [
              "<div>\n",
              "<style scoped>\n",
              "    .dataframe tbody tr th:only-of-type {\n",
              "        vertical-align: middle;\n",
              "    }\n",
              "\n",
              "    .dataframe tbody tr th {\n",
              "        vertical-align: top;\n",
              "    }\n",
              "\n",
              "    .dataframe thead th {\n",
              "        text-align: right;\n",
              "    }\n",
              "</style>\n",
              "<table border=\"1\" class=\"dataframe\">\n",
              "  <thead>\n",
              "    <tr style=\"text-align: right;\">\n",
              "      <th></th>\n",
              "      <th>SN</th>\n",
              "    </tr>\n",
              "    <tr>\n",
              "      <th>Item ID</th>\n",
              "      <th></th>\n",
              "    </tr>\n",
              "  </thead>\n",
              "  <tbody>\n",
              "    <tr>\n",
              "      <th>178</th>\n",
              "      <td>12</td>\n",
              "    </tr>\n",
              "    <tr>\n",
              "      <th>145</th>\n",
              "      <td>9</td>\n",
              "    </tr>\n",
              "    <tr>\n",
              "      <th>108</th>\n",
              "      <td>9</td>\n",
              "    </tr>\n",
              "    <tr>\n",
              "      <th>82</th>\n",
              "      <td>9</td>\n",
              "    </tr>\n",
              "    <tr>\n",
              "      <th>19</th>\n",
              "      <td>8</td>\n",
              "    </tr>\n",
              "    <tr>\n",
              "      <th>...</th>\n",
              "      <td>...</td>\n",
              "    </tr>\n",
              "    <tr>\n",
              "      <th>104</th>\n",
              "      <td>1</td>\n",
              "    </tr>\n",
              "    <tr>\n",
              "      <th>23</th>\n",
              "      <td>1</td>\n",
              "    </tr>\n",
              "    <tr>\n",
              "      <th>180</th>\n",
              "      <td>1</td>\n",
              "    </tr>\n",
              "    <tr>\n",
              "      <th>91</th>\n",
              "      <td>1</td>\n",
              "    </tr>\n",
              "    <tr>\n",
              "      <th>134</th>\n",
              "      <td>1</td>\n",
              "    </tr>\n",
              "  </tbody>\n",
              "</table>\n",
              "<p>183 rows × 1 columns</p>\n",
              "</div>"
            ],
            "text/plain": [
              "         SN\n",
              "Item ID    \n",
              "178      12\n",
              "145       9\n",
              "108       9\n",
              "82        9\n",
              "19        8\n",
              "...      ..\n",
              "104       1\n",
              "23        1\n",
              "180       1\n",
              "91        1\n",
              "134       1\n",
              "\n",
              "[183 rows x 1 columns]"
            ]
          },
          "metadata": {},
          "execution_count": 61
        }
      ]
    },
    {
      "cell_type": "code",
      "metadata": {
        "id": "N7dDf_c1W_cM",
        "colab": {
          "base_uri": "https://localhost:8080/"
        },
        "outputId": "ad235176-f5dd-461b-e06d-45f0fa607d21"
      },
      "source": [
        "# print(\"가장 많이 구입한 아이템의 ID는\", df_grouped_by_id.sort_values('SN', ascending=False)[:1].SN)\n",
        "\n",
        "print(\"가장 많이 구입한 아이템의 ID는\", df_grouped_by_id[df_grouped_by_id.SN == df_grouped_by_id.SN.max()].index)"
      ],
      "execution_count": 62,
      "outputs": [
        {
          "output_type": "stream",
          "name": "stdout",
          "text": [
            "가장 많이 구입한 아이템의 ID는 Int64Index([178], dtype='int64', name='Item ID')\n"
          ]
        }
      ]
    },
    {
      "cell_type": "code",
      "metadata": {
        "id": "Vw3fi3RBMOeX",
        "colab": {
          "base_uri": "https://localhost:8080/"
        },
        "outputId": "440521d0-0b9c-42ab-9272-78e0aec8c966"
      },
      "source": [
        "# 매출 상위 Item IDs\n",
        "df_grouped_by_id.sort_values('SN', ascending=False).index[1:2]\n"
      ],
      "execution_count": 63,
      "outputs": [
        {
          "output_type": "execute_result",
          "data": {
            "text/plain": [
              "Int64Index([145], dtype='int64', name='Item ID')"
            ]
          },
          "metadata": {},
          "execution_count": 63
        }
      ]
    },
    {
      "cell_type": "code",
      "metadata": {
        "id": "MxO7Ns_WACgd"
      },
      "source": [
        "### 이곳에서 본인 데이터로 과제를 진행해 주세요 ### "
      ],
      "execution_count": 64,
      "outputs": []
    },
    {
      "cell_type": "markdown",
      "metadata": {
        "id": "Bg69FnwCACgd"
      },
      "source": [
        "## 🔥 도전과제"
      ]
    },
    {
      "cell_type": "markdown",
      "metadata": {
        "id": "Nh5ekEdCACge"
      },
      "source": [
        "### 3) 조금 부족하더라도 최소한의 랭글링으로 데이터를 준비하여 간단한 모델을 학습시켜 보세요\n",
        "- 여러분들이 선택한 데이터를 가지고 간단한 모델을 학습하고 결과를 리포팅 합니다."
      ]
    },
    {
      "cell_type": "code",
      "metadata": {
        "id": "Zx_Lu3iYxZlh"
      },
      "source": [
        "final_test = merged_df[merged_df['status'] != 'Released']\n",
        "train = merged_df[merged_df['status'] == 'Released']\n",
        "train = train.drop(train[train['vote_average'] == 0].index)"
      ],
      "execution_count": 65,
      "outputs": []
    },
    {
      "cell_type": "code",
      "metadata": {
        "id": "akjzuCI2xaVy"
      },
      "source": [
        "from sklearn.model_selection import train_test_split\n",
        "train, test = train_test_split(train, train_size=0.8, test_size=0.2, random_state=2)\n",
        "train, val = train_test_split(train, train_size=0.8, test_size=0.2, random_state=2)\n",
        "\n",
        "merged_df = merged_df.drop(['id', 'movieId', 'imdbId'], axis=1)"
      ],
      "execution_count": 66,
      "outputs": []
    },
    {
      "cell_type": "code",
      "metadata": {
        "id": "njt6ZPUoxaLd",
        "outputId": "9183ce09-7d35-4b8d-c145-c11bb423313c",
        "colab": {
          "base_uri": "https://localhost:8080/",
          "height": 393
        }
      },
      "source": [
        "import seaborn as sns\n",
        "corr = merged_df.corr()\n",
        "corr['rating']\n",
        "df_target_corr = corr[['rating']].sort_values('rating', ascending=False)\n",
        "df_target_corr"
      ],
      "execution_count": 67,
      "outputs": [
        {
          "output_type": "execute_result",
          "data": {
            "text/html": [
              "<div>\n",
              "<style scoped>\n",
              "    .dataframe tbody tr th:only-of-type {\n",
              "        vertical-align: middle;\n",
              "    }\n",
              "\n",
              "    .dataframe tbody tr th {\n",
              "        vertical-align: top;\n",
              "    }\n",
              "\n",
              "    .dataframe thead th {\n",
              "        text-align: right;\n",
              "    }\n",
              "</style>\n",
              "<table border=\"1\" class=\"dataframe\">\n",
              "  <thead>\n",
              "    <tr style=\"text-align: right;\">\n",
              "      <th></th>\n",
              "      <th>rating</th>\n",
              "    </tr>\n",
              "  </thead>\n",
              "  <tbody>\n",
              "    <tr>\n",
              "      <th>rating</th>\n",
              "      <td>1.000000</td>\n",
              "    </tr>\n",
              "    <tr>\n",
              "      <th>vote_average</th>\n",
              "      <td>0.555270</td>\n",
              "    </tr>\n",
              "    <tr>\n",
              "      <th>revenue</th>\n",
              "      <td>0.248779</td>\n",
              "    </tr>\n",
              "    <tr>\n",
              "      <th>runtime</th>\n",
              "      <td>0.205381</td>\n",
              "    </tr>\n",
              "    <tr>\n",
              "      <th>spoken_languages</th>\n",
              "      <td>0.039419</td>\n",
              "    </tr>\n",
              "    <tr>\n",
              "      <th>number_of_named_crews</th>\n",
              "      <td>0.033806</td>\n",
              "    </tr>\n",
              "    <tr>\n",
              "      <th>number_of_popular_genres</th>\n",
              "      <td>0.031820</td>\n",
              "    </tr>\n",
              "    <tr>\n",
              "      <th>number_of_production_countries</th>\n",
              "      <td>0.007134</td>\n",
              "    </tr>\n",
              "    <tr>\n",
              "      <th>number_of_named_actors</th>\n",
              "      <td>-0.027180</td>\n",
              "    </tr>\n",
              "    <tr>\n",
              "      <th>number_of_production_companies</th>\n",
              "      <td>-0.046427</td>\n",
              "    </tr>\n",
              "    <tr>\n",
              "      <th>homepage</th>\n",
              "      <td>NaN</td>\n",
              "    </tr>\n",
              "  </tbody>\n",
              "</table>\n",
              "</div>"
            ],
            "text/plain": [
              "                                  rating\n",
              "rating                          1.000000\n",
              "vote_average                    0.555270\n",
              "revenue                         0.248779\n",
              "runtime                         0.205381\n",
              "spoken_languages                0.039419\n",
              "number_of_named_crews           0.033806\n",
              "number_of_popular_genres        0.031820\n",
              "number_of_production_countries  0.007134\n",
              "number_of_named_actors         -0.027180\n",
              "number_of_production_companies -0.046427\n",
              "homepage                             NaN"
            ]
          },
          "metadata": {},
          "execution_count": 67
        }
      ]
    },
    {
      "cell_type": "code",
      "metadata": {
        "id": "QHFRi06OACge",
        "outputId": "0b590361-87ed-4849-a1af-529415f4dfe5",
        "colab": {
          "base_uri": "https://localhost:8080/"
        }
      },
      "source": [
        "target = 'rating'\n",
        "features = ['vote_average', 'runtime', 'spoken_languages', 'revenue', 'homepage', 'number_of_named_crews', 'number_of_named_actors']\n",
        "\n",
        "X_train = train[features]\n",
        "y_train = train[target]\n",
        "X_val = val[features]\n",
        "y_val = val[target]\n",
        "\n",
        "X_test = test[features]\n",
        "y_test = test[target]\n",
        "\n",
        "X_train.shape, X_val.shape, X_test.shape"
      ],
      "execution_count": 68,
      "outputs": [
        {
          "output_type": "execute_result",
          "data": {
            "text/plain": [
              "((434, 7), (109, 7), (136, 7))"
            ]
          },
          "metadata": {},
          "execution_count": 68
        }
      ]
    },
    {
      "cell_type": "code",
      "metadata": {
        "id": "ZjGUVi0Bxfm1",
        "outputId": "8e8105b1-bd85-4e46-f274-0d0ba9ecaf47",
        "colab": {
          "base_uri": "https://localhost:8080/"
        }
      },
      "source": [
        "!pip install category_encoders"
      ],
      "execution_count": 69,
      "outputs": [
        {
          "output_type": "stream",
          "name": "stdout",
          "text": [
            "Collecting category_encoders\n",
            "  Downloading category_encoders-2.3.0-py2.py3-none-any.whl (82 kB)\n",
            "\u001b[?25l\r\u001b[K     |████                            | 10 kB 20.5 MB/s eta 0:00:01\r\u001b[K     |████████                        | 20 kB 25.3 MB/s eta 0:00:01\r\u001b[K     |████████████                    | 30 kB 13.4 MB/s eta 0:00:01\r\u001b[K     |████████████████                | 40 kB 10.0 MB/s eta 0:00:01\r\u001b[K     |████████████████████            | 51 kB 5.5 MB/s eta 0:00:01\r\u001b[K     |████████████████████████        | 61 kB 6.0 MB/s eta 0:00:01\r\u001b[K     |████████████████████████████    | 71 kB 5.8 MB/s eta 0:00:01\r\u001b[K     |███████████████████████████████▉| 81 kB 6.4 MB/s eta 0:00:01\r\u001b[K     |████████████████████████████████| 82 kB 345 kB/s \n",
            "\u001b[?25hRequirement already satisfied: pandas>=0.21.1 in /usr/local/lib/python3.7/dist-packages (from category_encoders) (1.1.5)\n",
            "Requirement already satisfied: scipy>=1.0.0 in /usr/local/lib/python3.7/dist-packages (from category_encoders) (1.4.1)\n",
            "Requirement already satisfied: patsy>=0.5.1 in /usr/local/lib/python3.7/dist-packages (from category_encoders) (0.5.2)\n",
            "Requirement already satisfied: numpy>=1.14.0 in /usr/local/lib/python3.7/dist-packages (from category_encoders) (1.19.5)\n",
            "Requirement already satisfied: scikit-learn>=0.20.0 in /usr/local/lib/python3.7/dist-packages (from category_encoders) (1.0.1)\n",
            "Requirement already satisfied: statsmodels>=0.9.0 in /usr/local/lib/python3.7/dist-packages (from category_encoders) (0.10.2)\n",
            "Requirement already satisfied: pytz>=2017.2 in /usr/local/lib/python3.7/dist-packages (from pandas>=0.21.1->category_encoders) (2018.9)\n",
            "Requirement already satisfied: python-dateutil>=2.7.3 in /usr/local/lib/python3.7/dist-packages (from pandas>=0.21.1->category_encoders) (2.8.2)\n",
            "Requirement already satisfied: six in /usr/local/lib/python3.7/dist-packages (from patsy>=0.5.1->category_encoders) (1.15.0)\n",
            "Requirement already satisfied: threadpoolctl>=2.0.0 in /usr/local/lib/python3.7/dist-packages (from scikit-learn>=0.20.0->category_encoders) (3.0.0)\n",
            "Requirement already satisfied: joblib>=0.11 in /usr/local/lib/python3.7/dist-packages (from scikit-learn>=0.20.0->category_encoders) (1.1.0)\n",
            "Installing collected packages: category-encoders\n",
            "Successfully installed category-encoders-2.3.0\n"
          ]
        }
      ]
    },
    {
      "cell_type": "code",
      "metadata": {
        "id": "2KoY89zAuHwf",
        "outputId": "c57d5959-56dc-42d1-eaa0-43bbaf667ae5",
        "colab": {
          "base_uri": "https://localhost:8080/"
        }
      },
      "source": [
        "from sklearn.pipeline import make_pipeline\n",
        "from category_encoders import OrdinalEncoder\n",
        "from sklearn.impute import SimpleImputer\n",
        "from sklearn.ensemble import RandomForestClassifier\n",
        "\n",
        "pipe = make_pipeline(\n",
        "    OrdinalEncoder(), \n",
        "    SimpleImputer(), \n",
        "    RandomForestClassifier(max_depth=7, random_state=10, n_jobs=-1, oob_score=True)\n",
        ")\n",
        "\n",
        "pipe.fit(X_train, y_train)\n",
        "print('훈련 정확도: ', pipe.score(X_train, y_train))\n",
        "print('검증 정확도', pipe.score(X_val, y_val))"
      ],
      "execution_count": 70,
      "outputs": [
        {
          "output_type": "stream",
          "name": "stderr",
          "text": [
            "/usr/local/lib/python3.7/dist-packages/statsmodels/tools/_testing.py:19: FutureWarning: pandas.util.testing is deprecated. Use the functions in the public API at pandas.testing instead.\n",
            "  import pandas.util.testing as tm\n"
          ]
        },
        {
          "output_type": "stream",
          "name": "stdout",
          "text": [
            "훈련 정확도:  0.9170506912442397\n",
            "검증 정확도 0.8532110091743119\n"
          ]
        }
      ]
    },
    {
      "cell_type": "code",
      "metadata": {
        "id": "q0K1hKLMxjCa",
        "outputId": "eb95d267-6479-4ead-990c-e3890a37b167",
        "colab": {
          "base_uri": "https://localhost:8080/"
        }
      },
      "source": [
        "from sklearn.metrics import f1_score\n",
        "\n",
        "y_pred_val = pipe.predict(X_val)\n",
        "print('검증 f1 score: ', f1_score(y_val, y_pred_val))"
      ],
      "execution_count": 71,
      "outputs": [
        {
          "output_type": "stream",
          "name": "stdout",
          "text": [
            "검증 f1 score:  0.7647058823529411\n"
          ]
        }
      ]
    },
    {
      "cell_type": "code",
      "metadata": {
        "id": "ZoLN-jkQxhQ7",
        "outputId": "0c40b1bd-a492-4fe3-e916-ab0a2b792f4e",
        "colab": {
          "base_uri": "https://localhost:8080/"
        }
      },
      "source": [
        "from sklearn.metrics import classification_report\n",
        "from sklearn.metrics import accuracy_score\n",
        "y_pred = pipe.predict(X_val)\n",
        "\n",
        "print('검증 정확도: ', accuracy_score(y_val, y_pred_val))\n",
        "print(classification_report(y_pred_val, y_val))"
      ],
      "execution_count": 72,
      "outputs": [
        {
          "output_type": "stream",
          "name": "stdout",
          "text": [
            "검증 정확도:  0.8532110091743119\n",
            "              precision    recall  f1-score   support\n",
            "\n",
            "       False       0.87      0.92      0.89        73\n",
            "        True       0.81      0.72      0.76        36\n",
            "\n",
            "    accuracy                           0.85       109\n",
            "   macro avg       0.84      0.82      0.83       109\n",
            "weighted avg       0.85      0.85      0.85       109\n",
            "\n"
          ]
        }
      ]
    }
  ]
}