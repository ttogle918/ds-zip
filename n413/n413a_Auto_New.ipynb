{
  "cells": [
    {
      "cell_type": "markdown",
      "metadata": {
        "id": "view-in-github",
        "colab_type": "text"
      },
      "source": [
        "<a href=\"https://colab.research.google.com/github/ttogle918/ds-section4-sprint1/blob/master/n413/n413a_Auto_New.ipynb\" target=\"_parent\"><img src=\"https://colab.research.google.com/assets/colab-badge.svg\" alt=\"Open In Colab\"/></a>"
      ]
    },
    {
      "cell_type": "markdown",
      "metadata": {
        "id": "pBQsZEJmubLs"
      },
      "source": [
        "<img src='https://user-images.githubusercontent.com/6457691/90080969-0f758d00-dd47-11ea-8191-fa12fd2054a7.png' width = '200' align = 'right'>\n",
        "\n",
        "## *DATA SCIENCE / SECTION 4 / SPRINT 1 / Assingment 3*\n",
        "\n",
        "---\n",
        "# Neural Network Framework (Keras)\n",
        "\n"
      ]
    },
    {
      "cell_type": "markdown",
      "metadata": {
        "id": "nN5Wzlub62DZ"
      },
      "source": [
        "\n",
        "## 기본과제\n",
        "### 케라스 라이브러리를 사용하여 Multi-Layer Perceptron 모델을 CIFAR100 데이터에 적용해보세요.\n",
        "\n",
        "- 시드를 고정하십시오.\n",
        "- 데이터를 Noramlized 해줍니다. \n",
        "- 케라스에서 모델은 다음과 같이 고정합니다. \n",
        "- 은닉층의 활성함수는 ReLU를 사용합니다.\n",
        "- 단계별로 오늘 배운 규제방법을 적용해봅니다. "
      ]
    },
    {
      "cell_type": "code",
      "execution_count": 11,
      "metadata": {
        "id": "SBPLbaggP52G"
      },
      "outputs": [],
      "source": [
        "import keras\n",
        "import tensorflow as tf\n",
        "import random\n",
        "import numpy as np\n",
        "import os\n",
        "from tensorflow.keras.datasets import cifar100\n",
        "from tensorflow.keras.models import Sequential\n",
        "from tensorflow.keras.layers import Dense, Flatten, Dropout\n",
        "from tensorflow.keras.optimizers import Adam\n",
        "from tensorflow.keras import regularizers"
      ]
    },
    {
      "cell_type": "markdown",
      "metadata": {
        "id": "I7nHEuYmd-p6"
      },
      "source": [
        "### 1) Base model을 제작합니다."
      ]
    },
    {
      "cell_type": "code",
      "execution_count": 12,
      "metadata": {
        "id": "_T_3XkVRY2xw",
        "outputId": "bcbff24c-e36a-48fb-a5d9-a1fc2694fef3",
        "colab": {
          "base_uri": "https://localhost:8080/"
        }
      },
      "outputs": [
        {
          "output_type": "stream",
          "name": "stdout",
          "text": [
            "Epoch 1/20\n",
            "500/500 [==============================] - 6s 10ms/step - loss: 4.1253 - accuracy: 0.0704 - val_loss: 3.8673 - val_accuracy: 0.1068\n",
            "Epoch 2/20\n",
            "500/500 [==============================] - 4s 8ms/step - loss: 3.7584 - accuracy: 0.1218 - val_loss: 3.7215 - val_accuracy: 0.1355\n",
            "Epoch 3/20\n",
            "500/500 [==============================] - 4s 8ms/step - loss: 3.6346 - accuracy: 0.1441 - val_loss: 3.6866 - val_accuracy: 0.1463\n",
            "Epoch 4/20\n",
            "500/500 [==============================] - 4s 8ms/step - loss: 3.5535 - accuracy: 0.1582 - val_loss: 3.5995 - val_accuracy: 0.1587\n",
            "Epoch 5/20\n",
            "500/500 [==============================] - 4s 8ms/step - loss: 3.4943 - accuracy: 0.1700 - val_loss: 3.5382 - val_accuracy: 0.1692\n",
            "Epoch 6/20\n",
            "500/500 [==============================] - 4s 8ms/step - loss: 3.4369 - accuracy: 0.1785 - val_loss: 3.5110 - val_accuracy: 0.1752\n",
            "Epoch 7/20\n",
            "500/500 [==============================] - 4s 7ms/step - loss: 3.4013 - accuracy: 0.1869 - val_loss: 3.4931 - val_accuracy: 0.1771\n",
            "Epoch 8/20\n",
            "500/500 [==============================] - 2s 5ms/step - loss: 3.3597 - accuracy: 0.1940 - val_loss: 3.4638 - val_accuracy: 0.1871\n",
            "Epoch 9/20\n",
            "500/500 [==============================] - 2s 5ms/step - loss: 3.3340 - accuracy: 0.1988 - val_loss: 3.4641 - val_accuracy: 0.1857\n",
            "Epoch 10/20\n",
            "500/500 [==============================] - 2s 5ms/step - loss: 3.3123 - accuracy: 0.2009 - val_loss: 3.4050 - val_accuracy: 0.1958\n",
            "Epoch 11/20\n",
            "500/500 [==============================] - 2s 5ms/step - loss: 3.2827 - accuracy: 0.2080 - val_loss: 3.3848 - val_accuracy: 0.2013\n",
            "Epoch 12/20\n",
            "500/500 [==============================] - 2s 5ms/step - loss: 3.2587 - accuracy: 0.2112 - val_loss: 3.3761 - val_accuracy: 0.2000\n",
            "Epoch 13/20\n",
            "500/500 [==============================] - 2s 5ms/step - loss: 3.2362 - accuracy: 0.2164 - val_loss: 3.3970 - val_accuracy: 0.1949\n",
            "Epoch 14/20\n",
            "500/500 [==============================] - 2s 5ms/step - loss: 3.2191 - accuracy: 0.2211 - val_loss: 3.3713 - val_accuracy: 0.2038\n",
            "Epoch 15/20\n",
            "500/500 [==============================] - 2s 5ms/step - loss: 3.2051 - accuracy: 0.2194 - val_loss: 3.3583 - val_accuracy: 0.2066\n",
            "Epoch 16/20\n",
            "500/500 [==============================] - 2s 5ms/step - loss: 3.1897 - accuracy: 0.2247 - val_loss: 3.3785 - val_accuracy: 0.1987\n",
            "Epoch 17/20\n",
            "500/500 [==============================] - 2s 5ms/step - loss: 3.1718 - accuracy: 0.2281 - val_loss: 3.3531 - val_accuracy: 0.2054\n",
            "Epoch 18/20\n",
            "500/500 [==============================] - 2s 5ms/step - loss: 3.1611 - accuracy: 0.2287 - val_loss: 3.3389 - val_accuracy: 0.2138\n",
            "Epoch 19/20\n",
            "500/500 [==============================] - 3s 5ms/step - loss: 3.1479 - accuracy: 0.2308 - val_loss: 3.3307 - val_accuracy: 0.2131\n",
            "Epoch 20/20\n",
            "500/500 [==============================] - 2s 5ms/step - loss: 3.1358 - accuracy: 0.2340 - val_loss: 3.3620 - val_accuracy: 0.2023\n"
          ]
        }
      ],
      "source": [
        "# seed를 고정합니다.\n",
        "random.seed(1)\n",
        "np.random.seed(1)\n",
        "os.environ[\"PYTHONHASHSEED\"] = str(1)\n",
        "os.environ['TF_DETERMINISTIC_OPS'] = str(1)\n",
        "tf.random.set_seed(1)\n",
        "\n",
        "# 데이터 불러오기\n",
        "(X_train, y_train), (X_test, y_test) = cifar100.load_data()\n",
        "\n",
        "# 정규화(전처리)\n",
        "X_train = X_train / 255.\n",
        "X_test = X_test / 255.\n",
        "# print(np.unique(y_train)) # 100개\n",
        "\n",
        "# 변수 설정을 따로 하는 방법을 적용하기 위한 코드입니다. \n",
        "batch_size = 100\n",
        "epochs_max = 20\n",
        "\n",
        "# model\n",
        "model = Sequential()\n",
        "model.add(Flatten(input_shape=(32, 32, 3)))\n",
        "model.add(Dense(128, activation='relu'))\n",
        "model.add(Dense(128, activation='relu'))\n",
        "model.add(Dense(100, activation='softmax'))\n",
        "\n",
        "# 컴파일 단계, 옵티마이저와 손실함수, 측정지표를 연결해서 계산 그래프를 구성함\n",
        "model.compile(optimizer='adam', loss='sparse_categorical_crossentropy', metrics=['accuracy'])\n",
        "\n",
        "results = model.fit(X_train, y_train, epochs=epochs_max, batch_size=batch_size, verbose=1, validation_data=(X_test,y_test))"
      ]
    },
    {
      "cell_type": "code",
      "execution_count": 13,
      "metadata": {
        "colab": {
          "base_uri": "https://localhost:8080/"
        },
        "id": "PdxJ5AnieUxI",
        "outputId": "01ffa72f-ec1a-42f8-da2e-1e16ed4957df"
      },
      "outputs": [
        {
          "output_type": "stream",
          "name": "stdout",
          "text": [
            "313/313 [==============================] - 2s 4ms/step - loss: 3.3620 - accuracy: 0.2023\n"
          ]
        },
        {
          "output_type": "execute_result",
          "data": {
            "text/plain": [
              "(3.361967086791992, 0.20229999721050262)"
            ]
          },
          "metadata": {},
          "execution_count": 13
        }
      ],
      "source": [
        "test_loss, test_acc = model.evaluate(X_test,  y_test, verbose=1)\n",
        "test_loss, test_acc"
      ]
    },
    {
      "cell_type": "markdown",
      "metadata": {
        "id": "gzvcuRE9Xtxl"
      },
      "source": [
        "### 2) + Weight Decay"
      ]
    },
    {
      "cell_type": "code",
      "execution_count": 4,
      "metadata": {
        "id": "XBQks0_rZWa9",
        "outputId": "ba393135-d75b-4387-f293-696b32e26cbe",
        "colab": {
          "base_uri": "https://localhost:8080/"
        }
      },
      "outputs": [
        {
          "output_type": "stream",
          "name": "stdout",
          "text": [
            "Epoch 1/20\n",
            "500/500 [==============================] - 4s 6ms/step - loss: 4.1092 - accuracy: 0.0743 - val_loss: 3.8406 - val_accuracy: 0.1166\n",
            "Epoch 2/20\n",
            "500/500 [==============================] - 3s 5ms/step - loss: 3.7377 - accuracy: 0.1290 - val_loss: 3.7183 - val_accuracy: 0.1384\n",
            "Epoch 3/20\n",
            "500/500 [==============================] - 2s 5ms/step - loss: 3.6062 - accuracy: 0.1528 - val_loss: 3.6198 - val_accuracy: 0.1551\n",
            "Epoch 4/20\n",
            "500/500 [==============================] - 3s 5ms/step - loss: 3.5174 - accuracy: 0.1668 - val_loss: 3.5331 - val_accuracy: 0.1719\n",
            "Epoch 5/20\n",
            "500/500 [==============================] - 3s 5ms/step - loss: 3.4493 - accuracy: 0.1803 - val_loss: 3.4702 - val_accuracy: 0.1805\n",
            "Epoch 6/20\n",
            "500/500 [==============================] - 2s 5ms/step - loss: 3.3832 - accuracy: 0.1923 - val_loss: 3.4278 - val_accuracy: 0.1906\n",
            "Epoch 7/20\n",
            "500/500 [==============================] - 3s 7ms/step - loss: 3.3379 - accuracy: 0.1998 - val_loss: 3.4271 - val_accuracy: 0.1922\n",
            "Epoch 8/20\n",
            "500/500 [==============================] - 3s 6ms/step - loss: 3.2899 - accuracy: 0.2077 - val_loss: 3.4034 - val_accuracy: 0.1942\n",
            "Epoch 9/20\n",
            "500/500 [==============================] - 3s 5ms/step - loss: 3.2627 - accuracy: 0.2140 - val_loss: 3.3739 - val_accuracy: 0.2040\n",
            "Epoch 10/20\n",
            "500/500 [==============================] - 3s 5ms/step - loss: 3.2342 - accuracy: 0.2193 - val_loss: 3.3805 - val_accuracy: 0.2045\n",
            "Epoch 11/20\n",
            "500/500 [==============================] - 3s 5ms/step - loss: 3.2044 - accuracy: 0.2232 - val_loss: 3.3339 - val_accuracy: 0.2131\n",
            "Epoch 12/20\n",
            "500/500 [==============================] - 3s 5ms/step - loss: 3.1784 - accuracy: 0.2271 - val_loss: 3.3312 - val_accuracy: 0.2113\n",
            "Epoch 13/20\n",
            "500/500 [==============================] - 3s 5ms/step - loss: 3.1596 - accuracy: 0.2302 - val_loss: 3.3486 - val_accuracy: 0.2073\n",
            "Epoch 14/20\n",
            "500/500 [==============================] - 3s 5ms/step - loss: 3.1380 - accuracy: 0.2340 - val_loss: 3.3014 - val_accuracy: 0.2169\n",
            "Epoch 15/20\n",
            "500/500 [==============================] - 3s 5ms/step - loss: 3.1242 - accuracy: 0.2374 - val_loss: 3.3135 - val_accuracy: 0.2205\n",
            "Epoch 16/20\n",
            "500/500 [==============================] - 3s 5ms/step - loss: 3.1146 - accuracy: 0.2409 - val_loss: 3.3268 - val_accuracy: 0.2085\n",
            "Epoch 17/20\n",
            "500/500 [==============================] - 3s 5ms/step - loss: 3.0925 - accuracy: 0.2448 - val_loss: 3.3455 - val_accuracy: 0.2114\n",
            "Epoch 18/20\n",
            "500/500 [==============================] - 3s 5ms/step - loss: 3.0797 - accuracy: 0.2463 - val_loss: 3.3108 - val_accuracy: 0.2238\n",
            "Epoch 19/20\n",
            "500/500 [==============================] - 3s 5ms/step - loss: 3.0703 - accuracy: 0.2472 - val_loss: 3.2932 - val_accuracy: 0.2212\n",
            "Epoch 20/20\n",
            "500/500 [==============================] - 3s 5ms/step - loss: 3.0572 - accuracy: 0.2492 - val_loss: 3.3235 - val_accuracy: 0.2169\n"
          ]
        }
      ],
      "source": [
        "# seed를 고정합니다.\n",
        "random.seed(1)\n",
        "np.random.seed(1)\n",
        "os.environ[\"PYTHONHASHSEED\"] = str(1)\n",
        "os.environ['TF_DETERMINISTIC_OPS'] = str(1)\n",
        "tf.random.set_seed(1)\n",
        "\n",
        "# 데이터 불러오기\n",
        "(X_train, y_train), (X_test, y_test) = cifar100.load_data()\n",
        "\n",
        "# 정규화(전처리)\n",
        "X_train = X_train / 255.\n",
        "X_test = X_test / 255.\n",
        "\n",
        "# 변수 설정을 따로 하는 방법을 적용하기 위한 코드입니다. \n",
        "batch_size = 100\n",
        "epochs_max = 20\n",
        "\n",
        "# model\n",
        "model = Sequential()\n",
        "model.add(Flatten(input_shape=(32, 32, 3)))\n",
        "model.add(Dense(128, activation='relu', \n",
        "                kernel_regularizer=regularizers.l2(0.00001),   \n",
        "                activity_regularizer=regularizers.l1(0.00001)))\n",
        "model.add(Dense(128, activation='relu'))\n",
        "model.add(Dense(100, activation='softmax'))\n",
        "\n",
        "# 컴파일 단계, 옵티마이저와 손실함수, 측정지표를 연결해서 계산 그래프를 구성함\n",
        "model.compile(optimizer=tf.keras.optimizers.Adam(learning_rate=0.001, beta_1 = 0.89)\n",
        "             , loss='sparse_categorical_crossentropy'\n",
        "             , metrics=['accuracy'])\n",
        "\n",
        "results = model.fit(X_train, y_train, epochs=epochs_max, batch_size=batch_size, verbose=1, validation_data=(X_test,y_test))"
      ]
    },
    {
      "cell_type": "code",
      "execution_count": 5,
      "metadata": {
        "id": "ZebVVOy9Xtxm",
        "outputId": "56e16784-c81b-4761-ffed-2851f69b00a6",
        "colab": {
          "base_uri": "https://localhost:8080/"
        }
      },
      "outputs": [
        {
          "output_type": "stream",
          "name": "stdout",
          "text": [
            "313/313 [==============================] - 2s 5ms/step - loss: 3.3235 - accuracy: 0.2169\n"
          ]
        },
        {
          "output_type": "execute_result",
          "data": {
            "text/plain": [
              "(3.32352614402771, 0.21690000593662262)"
            ]
          },
          "metadata": {},
          "execution_count": 5
        }
      ],
      "source": [
        "test_loss, test_acc = model.evaluate(X_test,  y_test, verbose=1)\n",
        "test_loss, test_acc"
      ]
    },
    {
      "cell_type": "markdown",
      "metadata": {
        "id": "5yQeUcY8fp4x"
      },
      "source": [
        "### 3) + Dropout"
      ]
    },
    {
      "cell_type": "code",
      "execution_count": 6,
      "metadata": {
        "id": "e_B_mosCZ_Ds",
        "outputId": "438697eb-7822-4137-e4e9-76910f4d90e0",
        "colab": {
          "base_uri": "https://localhost:8080/"
        }
      },
      "outputs": [
        {
          "output_type": "stream",
          "name": "stdout",
          "text": [
            "Epoch 1/20\n",
            "500/500 [==============================] - 4s 6ms/step - loss: 4.1038 - accuracy: 0.0765 - val_loss: 3.8424 - val_accuracy: 0.1141\n",
            "Epoch 2/20\n",
            "500/500 [==============================] - 3s 5ms/step - loss: 3.7244 - accuracy: 0.1317 - val_loss: 3.6614 - val_accuracy: 0.1484\n",
            "Epoch 3/20\n",
            "500/500 [==============================] - 3s 5ms/step - loss: 3.5898 - accuracy: 0.1560 - val_loss: 3.5951 - val_accuracy: 0.1615\n",
            "Epoch 4/20\n",
            "500/500 [==============================] - 3s 5ms/step - loss: 3.5056 - accuracy: 0.1684 - val_loss: 3.5061 - val_accuracy: 0.1809\n",
            "Epoch 5/20\n",
            "500/500 [==============================] - 3s 5ms/step - loss: 3.4347 - accuracy: 0.1811 - val_loss: 3.4772 - val_accuracy: 0.1842\n",
            "Epoch 6/20\n",
            "500/500 [==============================] - 3s 5ms/step - loss: 3.3735 - accuracy: 0.1916 - val_loss: 3.4419 - val_accuracy: 0.1857\n",
            "Epoch 7/20\n",
            "500/500 [==============================] - 3s 6ms/step - loss: 3.3291 - accuracy: 0.2007 - val_loss: 3.4423 - val_accuracy: 0.1931\n",
            "Epoch 8/20\n",
            "500/500 [==============================] - 3s 5ms/step - loss: 3.2804 - accuracy: 0.2102 - val_loss: 3.3957 - val_accuracy: 0.1994\n",
            "Epoch 9/20\n",
            "500/500 [==============================] - 3s 5ms/step - loss: 3.2514 - accuracy: 0.2150 - val_loss: 3.3712 - val_accuracy: 0.2028\n",
            "Epoch 10/20\n",
            "500/500 [==============================] - 3s 5ms/step - loss: 3.2262 - accuracy: 0.2187 - val_loss: 3.3597 - val_accuracy: 0.2014\n",
            "Epoch 11/20\n",
            "500/500 [==============================] - 3s 5ms/step - loss: 3.1956 - accuracy: 0.2238 - val_loss: 3.3444 - val_accuracy: 0.2069\n",
            "Epoch 12/20\n",
            "500/500 [==============================] - 3s 5ms/step - loss: 3.1645 - accuracy: 0.2302 - val_loss: 3.3317 - val_accuracy: 0.2094\n",
            "Epoch 13/20\n",
            "500/500 [==============================] - 3s 5ms/step - loss: 3.1444 - accuracy: 0.2323 - val_loss: 3.3377 - val_accuracy: 0.2117\n",
            "Epoch 14/20\n",
            "500/500 [==============================] - 3s 5ms/step - loss: 3.1172 - accuracy: 0.2388 - val_loss: 3.2957 - val_accuracy: 0.2173\n",
            "Epoch 15/20\n",
            "500/500 [==============================] - 3s 5ms/step - loss: 3.1022 - accuracy: 0.2412 - val_loss: 3.3259 - val_accuracy: 0.2180\n",
            "Epoch 16/20\n",
            "500/500 [==============================] - 3s 5ms/step - loss: 3.0932 - accuracy: 0.2443 - val_loss: 3.3137 - val_accuracy: 0.2143\n",
            "Epoch 17/20\n",
            "500/500 [==============================] - 3s 5ms/step - loss: 3.0685 - accuracy: 0.2479 - val_loss: 3.3258 - val_accuracy: 0.2135\n",
            "Epoch 18/20\n",
            "500/500 [==============================] - 3s 5ms/step - loss: 3.0575 - accuracy: 0.2481 - val_loss: 3.3105 - val_accuracy: 0.2194\n",
            "Epoch 19/20\n",
            "500/500 [==============================] - 3s 5ms/step - loss: 3.0452 - accuracy: 0.2516 - val_loss: 3.2924 - val_accuracy: 0.2206\n",
            "Epoch 20/20\n",
            "500/500 [==============================] - 3s 5ms/step - loss: 3.0280 - accuracy: 0.2537 - val_loss: 3.3340 - val_accuracy: 0.2145\n"
          ]
        }
      ],
      "source": [
        "# seed를 고정합니다.\n",
        "random.seed(1)\n",
        "np.random.seed(1)\n",
        "os.environ[\"PYTHONHASHSEED\"] = str(1)\n",
        "os.environ['TF_DETERMINISTIC_OPS'] = str(1)\n",
        "tf.random.set_seed(1)\n",
        "\n",
        "# 데이터 불러오기\n",
        "(X_train, y_train), (X_test, y_test) = cifar100.load_data()\n",
        "\n",
        "# 정규화(전처리)\n",
        "X_train = X_train / 255.\n",
        "X_test = X_test / 255.\n",
        "\n",
        "# 변수 설정을 따로 하는 방법을 적용하기 위한 코드입니다. \n",
        "batch_size = 100\n",
        "epochs_max = 20\n",
        "\n",
        "# model\n",
        "model = Sequential()\n",
        "model.add(Flatten(input_shape=(32, 32, 3)))\n",
        "model.add(Dense(128*1.1, activation='relu'))\n",
        "### Your Code Here - DROPOUT ###\n",
        "Dropout(0.5)\n",
        "model.add(Dense(128, activation='relu'))\n",
        "model.add(Dense(100, activation='softmax'))\n",
        "\n",
        "# 컴파일 단계, 옵티마이저와 손실함수, 측정지표를 연결해서 계산 그래프를 구성함\n",
        "model.compile(optimizer='adam', loss='sparse_categorical_crossentropy', metrics=['accuracy'])\n",
        "\n",
        "results = model.fit(X_train, y_train, epochs=epochs_max, batch_size=batch_size, verbose=1, validation_data=(X_test,y_test))\n"
      ]
    },
    {
      "cell_type": "code",
      "source": [
        "test_loss, test_acc = model.evaluate(X_test,  y_test, verbose=1)\n",
        "test_loss, test_acc"
      ],
      "metadata": {
        "id": "6kHOJZ5_qVlp",
        "outputId": "34318bad-3c6e-4ccc-ce49-900841652363",
        "colab": {
          "base_uri": "https://localhost:8080/"
        }
      },
      "execution_count": 7,
      "outputs": [
        {
          "output_type": "stream",
          "name": "stdout",
          "text": [
            "313/313 [==============================] - 2s 4ms/step - loss: 3.3340 - accuracy: 0.2145\n"
          ]
        },
        {
          "output_type": "execute_result",
          "data": {
            "text/plain": [
              "(3.3340015411376953, 0.21449999511241913)"
            ]
          },
          "metadata": {},
          "execution_count": 7
        }
      ]
    },
    {
      "cell_type": "markdown",
      "metadata": {
        "id": "Q3RoevKkC27v"
      },
      "source": [
        "### 문항 4) + Early Stopping\n",
        "\n",
        "1. Early Stopping을 적용해봅시다. 멈추는 기준을 `val_loss(검증 데이터셋의 loss 값)`로 하고 loss가 Best 값보다 5번 높아질 때 Stop 하도록 설정합니다.\n",
        "\n",
        "2. Best 모델을 저장해봅시다. Best 모델 역시 멈추는 기준을 `val_loss(검증 데이터셋의 loss 값)`로 하고 `save_best_only=True, save_weights_only=True` 로 설정합니다."
      ]
    },
    {
      "cell_type": "code",
      "execution_count": 8,
      "metadata": {
        "id": "jjj4th3oLjgu",
        "outputId": "80246cb8-166c-4aa7-a7ab-a8e583424599",
        "colab": {
          "base_uri": "https://localhost:8080/"
        }
      },
      "outputs": [
        {
          "output_type": "stream",
          "name": "stdout",
          "text": [
            "Epoch 1/30\n",
            "1562/1563 [============================>.] - ETA: 0s - loss: 4.2488 - accuracy: 0.0432\n",
            "Epoch 00001: val_loss improved from inf to 4.16491, saving model to FMbest.hdf5\n",
            "1563/1563 [==============================] - 10s 6ms/step - loss: 4.2486 - accuracy: 0.0432 - val_loss: 4.1649 - val_accuracy: 0.0507\n",
            "Epoch 2/30\n",
            "1559/1563 [============================>.] - ETA: 0s - loss: 4.0427 - accuracy: 0.0682\n",
            "Epoch 00002: val_loss improved from 4.16491 to 4.03391, saving model to FMbest.hdf5\n",
            "1563/1563 [==============================] - 9s 6ms/step - loss: 4.0426 - accuracy: 0.0681 - val_loss: 4.0339 - val_accuracy: 0.0675\n",
            "Epoch 3/30\n",
            "1563/1563 [==============================] - ETA: 0s - loss: 3.9833 - accuracy: 0.0721\n",
            "Epoch 00003: val_loss improved from 4.03391 to 3.96987, saving model to FMbest.hdf5\n",
            "1563/1563 [==============================] - 10s 6ms/step - loss: 3.9833 - accuracy: 0.0721 - val_loss: 3.9699 - val_accuracy: 0.0741\n",
            "Epoch 4/30\n",
            "1554/1563 [============================>.] - ETA: 0s - loss: 3.9561 - accuracy: 0.0769\n",
            "Epoch 00004: val_loss improved from 3.96987 to 3.96676, saving model to FMbest.hdf5\n",
            "1563/1563 [==============================] - 9s 6ms/step - loss: 3.9566 - accuracy: 0.0769 - val_loss: 3.9668 - val_accuracy: 0.0747\n",
            "Epoch 5/30\n",
            "1561/1563 [============================>.] - ETA: 0s - loss: 3.9407 - accuracy: 0.0811\n",
            "Epoch 00005: val_loss improved from 3.96676 to 3.96288, saving model to FMbest.hdf5\n",
            "1563/1563 [==============================] - 9s 6ms/step - loss: 3.9406 - accuracy: 0.0811 - val_loss: 3.9629 - val_accuracy: 0.0798\n",
            "Epoch 6/30\n",
            "1556/1563 [============================>.] - ETA: 0s - loss: 3.9295 - accuracy: 0.0801\n",
            "Epoch 00006: val_loss improved from 3.96288 to 3.94065, saving model to FMbest.hdf5\n",
            "1563/1563 [==============================] - 9s 6ms/step - loss: 3.9294 - accuracy: 0.0801 - val_loss: 3.9407 - val_accuracy: 0.0807\n",
            "Epoch 7/30\n",
            "1563/1563 [==============================] - ETA: 0s - loss: 3.9136 - accuracy: 0.0821\n",
            "Epoch 00007: val_loss did not improve from 3.94065\n",
            "1563/1563 [==============================] - 9s 6ms/step - loss: 3.9136 - accuracy: 0.0821 - val_loss: 3.9674 - val_accuracy: 0.0776\n",
            "Epoch 8/30\n",
            "1553/1563 [============================>.] - ETA: 0s - loss: 3.8734 - accuracy: 0.0909\n",
            "Epoch 00008: val_loss improved from 3.94065 to 3.88057, saving model to FMbest.hdf5\n",
            "1563/1563 [==============================] - 9s 6ms/step - loss: 3.8738 - accuracy: 0.0907 - val_loss: 3.8806 - val_accuracy: 0.0940\n",
            "Epoch 9/30\n",
            "1562/1563 [============================>.] - ETA: 0s - loss: 3.8176 - accuracy: 0.0999\n",
            "Epoch 00009: val_loss improved from 3.88057 to 3.82671, saving model to FMbest.hdf5\n",
            "1563/1563 [==============================] - 9s 6ms/step - loss: 3.8177 - accuracy: 0.0999 - val_loss: 3.8267 - val_accuracy: 0.1072\n",
            "Epoch 10/30\n",
            "1560/1563 [============================>.] - ETA: 0s - loss: 3.7780 - accuracy: 0.1067\n",
            "Epoch 00010: val_loss improved from 3.82671 to 3.79834, saving model to FMbest.hdf5\n",
            "1563/1563 [==============================] - 10s 6ms/step - loss: 3.7778 - accuracy: 0.1067 - val_loss: 3.7983 - val_accuracy: 0.1099\n",
            "Epoch 11/30\n",
            "1557/1563 [============================>.] - ETA: 0s - loss: 3.7342 - accuracy: 0.1141\n",
            "Epoch 00011: val_loss improved from 3.79834 to 3.74619, saving model to FMbest.hdf5\n",
            "1563/1563 [==============================] - 9s 6ms/step - loss: 3.7345 - accuracy: 0.1140 - val_loss: 3.7462 - val_accuracy: 0.1166\n",
            "Epoch 12/30\n",
            "1553/1563 [============================>.] - ETA: 0s - loss: 3.6944 - accuracy: 0.1209\n",
            "Epoch 00012: val_loss improved from 3.74619 to 3.73213, saving model to FMbest.hdf5\n",
            "1563/1563 [==============================] - 9s 6ms/step - loss: 3.6950 - accuracy: 0.1208 - val_loss: 3.7321 - val_accuracy: 0.1240\n",
            "Epoch 13/30\n",
            "1557/1563 [============================>.] - ETA: 0s - loss: 3.6622 - accuracy: 0.1257\n",
            "Epoch 00013: val_loss improved from 3.73213 to 3.69097, saving model to FMbest.hdf5\n",
            "1563/1563 [==============================] - 10s 6ms/step - loss: 3.6623 - accuracy: 0.1257 - val_loss: 3.6910 - val_accuracy: 0.1267\n",
            "Epoch 14/30\n",
            "1563/1563 [==============================] - ETA: 0s - loss: 3.6403 - accuracy: 0.1328\n",
            "Epoch 00014: val_loss did not improve from 3.69097\n",
            "1563/1563 [==============================] - 9s 6ms/step - loss: 3.6403 - accuracy: 0.1328 - val_loss: 3.7486 - val_accuracy: 0.1143\n",
            "Epoch 15/30\n",
            "1554/1563 [============================>.] - ETA: 0s - loss: 3.6163 - accuracy: 0.1346\n",
            "Epoch 00015: val_loss improved from 3.69097 to 3.65464, saving model to FMbest.hdf5\n",
            "1563/1563 [==============================] - 9s 6ms/step - loss: 3.6160 - accuracy: 0.1348 - val_loss: 3.6546 - val_accuracy: 0.1352\n",
            "Epoch 16/30\n",
            "1562/1563 [============================>.] - ETA: 0s - loss: 3.5932 - accuracy: 0.1393\n",
            "Epoch 00016: val_loss did not improve from 3.65464\n",
            "1563/1563 [==============================] - 10s 6ms/step - loss: 3.5933 - accuracy: 0.1393 - val_loss: 3.6593 - val_accuracy: 0.1364\n",
            "Epoch 17/30\n",
            "1559/1563 [============================>.] - ETA: 0s - loss: 3.5771 - accuracy: 0.1427\n",
            "Epoch 00017: val_loss did not improve from 3.65464\n",
            "1563/1563 [==============================] - 9s 6ms/step - loss: 3.5770 - accuracy: 0.1426 - val_loss: 3.6577 - val_accuracy: 0.1352\n",
            "Epoch 18/30\n",
            "1555/1563 [============================>.] - ETA: 0s - loss: 3.5644 - accuracy: 0.1449\n",
            "Epoch 00018: val_loss did not improve from 3.65464\n",
            "1563/1563 [==============================] - 9s 6ms/step - loss: 3.5643 - accuracy: 0.1449 - val_loss: 3.7057 - val_accuracy: 0.1330\n",
            "Epoch 19/30\n",
            "1559/1563 [============================>.] - ETA: 0s - loss: 3.5451 - accuracy: 0.1486\n",
            "Epoch 00019: val_loss improved from 3.65464 to 3.62946, saving model to FMbest.hdf5\n",
            "1563/1563 [==============================] - 10s 6ms/step - loss: 3.5450 - accuracy: 0.1485 - val_loss: 3.6295 - val_accuracy: 0.1412\n",
            "Epoch 20/30\n",
            "1555/1563 [============================>.] - ETA: 0s - loss: 3.5338 - accuracy: 0.1484\n",
            "Epoch 00020: val_loss did not improve from 3.62946\n",
            "1563/1563 [==============================] - 10s 6ms/step - loss: 3.5346 - accuracy: 0.1483 - val_loss: 3.6529 - val_accuracy: 0.1378\n",
            "Epoch 21/30\n",
            "1562/1563 [============================>.] - ETA: 0s - loss: 3.5262 - accuracy: 0.1515\n",
            "Epoch 00021: val_loss improved from 3.62946 to 3.60729, saving model to FMbest.hdf5\n",
            "1563/1563 [==============================] - 9s 6ms/step - loss: 3.5261 - accuracy: 0.1515 - val_loss: 3.6073 - val_accuracy: 0.1469\n",
            "Epoch 22/30\n",
            "1556/1563 [============================>.] - ETA: 0s - loss: 3.5158 - accuracy: 0.1538\n",
            "Epoch 00022: val_loss did not improve from 3.60729\n",
            "1563/1563 [==============================] - 10s 6ms/step - loss: 3.5157 - accuracy: 0.1539 - val_loss: 3.6774 - val_accuracy: 0.1373\n",
            "Epoch 23/30\n",
            "1562/1563 [============================>.] - ETA: 0s - loss: 3.5081 - accuracy: 0.1549\n",
            "Epoch 00023: val_loss did not improve from 3.60729\n",
            "1563/1563 [==============================] - 10s 6ms/step - loss: 3.5080 - accuracy: 0.1550 - val_loss: 3.6153 - val_accuracy: 0.1447\n",
            "Epoch 24/30\n",
            "1554/1563 [============================>.] - ETA: 0s - loss: 3.4986 - accuracy: 0.1546\n",
            "Epoch 00024: val_loss did not improve from 3.60729\n",
            "1563/1563 [==============================] - 10s 6ms/step - loss: 3.4986 - accuracy: 0.1547 - val_loss: 3.6352 - val_accuracy: 0.1446\n",
            "Epoch 25/30\n",
            "1561/1563 [============================>.] - ETA: 0s - loss: 3.4927 - accuracy: 0.1577\n",
            "Epoch 00025: val_loss did not improve from 3.60729\n",
            "1563/1563 [==============================] - 10s 6ms/step - loss: 3.4925 - accuracy: 0.1577 - val_loss: 3.6267 - val_accuracy: 0.1478\n",
            "Epoch 26/30\n",
            "1562/1563 [============================>.] - ETA: 0s - loss: 3.4813 - accuracy: 0.1570\n",
            "Epoch 00026: val_loss did not improve from 3.60729\n",
            "1563/1563 [==============================] - 10s 6ms/step - loss: 3.4813 - accuracy: 0.1571 - val_loss: 3.6298 - val_accuracy: 0.1495\n",
            "Epoch 27/30\n",
            "1553/1563 [============================>.] - ETA: 0s - loss: 3.4780 - accuracy: 0.1575\n",
            "Epoch 00027: val_loss improved from 3.60729 to 3.60120, saving model to FMbest.hdf5\n",
            "1563/1563 [==============================] - 10s 6ms/step - loss: 3.4778 - accuracy: 0.1574 - val_loss: 3.6012 - val_accuracy: 0.1545\n",
            "Epoch 28/30\n",
            "1559/1563 [============================>.] - ETA: 0s - loss: 3.4722 - accuracy: 0.1590\n",
            "Epoch 00028: val_loss did not improve from 3.60120\n",
            "1563/1563 [==============================] - 10s 6ms/step - loss: 3.4725 - accuracy: 0.1588 - val_loss: 3.6093 - val_accuracy: 0.1481\n",
            "Epoch 29/30\n",
            "1562/1563 [============================>.] - ETA: 0s - loss: 3.4668 - accuracy: 0.1607\n",
            "Epoch 00029: val_loss improved from 3.60120 to 3.59034, saving model to FMbest.hdf5\n",
            "1563/1563 [==============================] - 10s 6ms/step - loss: 3.4669 - accuracy: 0.1607 - val_loss: 3.5903 - val_accuracy: 0.1543\n",
            "Epoch 30/30\n",
            "1563/1563 [==============================] - ETA: 0s - loss: 3.4644 - accuracy: 0.1599\n",
            "Epoch 00030: val_loss did not improve from 3.59034\n",
            "1563/1563 [==============================] - 9s 6ms/step - loss: 3.4644 - accuracy: 0.1599 - val_loss: 3.6110 - val_accuracy: 0.1479\n"
          ]
        }
      ],
      "source": [
        "# seed를 고정합니다.\n",
        "random.seed(1)\n",
        "np.random.seed(1)\n",
        "os.environ[\"PYTHONHASHSEED\"] = str(1)\n",
        "os.environ['TF_DETERMINISTIC_OPS'] = str(1)\n",
        "tf.random.set_seed(1)\n",
        "\n",
        "\n",
        "# 데이터 불러오기\n",
        "(X_train, y_train), (X_test, y_test) = cifar100.load_data()\n",
        "\n",
        "\n",
        "# 정규화(전처리)\n",
        "X_train = X_train / 255.\n",
        "X_test = X_test / 255.\n",
        "\n",
        "# 학습시킨 데이터를 저장시키기 위한 코드입니다. \n",
        "checkpoint_filepath = \"FMbest.hdf5\"\n",
        "\n",
        "\n",
        "# 변수 설정을 따로 하는 방법을 적용하기 위한 코드입니다. \n",
        "batch_size = 100\n",
        "epochs_max = 20\n",
        "\n",
        "\n",
        "model = Sequential()\n",
        "model.add(Flatten(input_shape=(32, 32, 3)))\n",
        "model.add(Dense(128, activation='relu'))\n",
        "model.add(Dense(128, activation='relu'))\n",
        "model.add(Dense(100, activation='softmax'))\n",
        "\n",
        "# 컴파일 단계, 옵티마이저와 손실함수, 측정지표를 연결해서 계산 그래프를 구성함\n",
        "model.compile(optimizer='adam', loss='sparse_categorical_crossentropy', metrics=['accuracy'])\n",
        "                  \n",
        "# early stopping\n",
        "early_stop = keras.callbacks.EarlyStopping(monitor='val_loss', min_delta=0, patience=10, verbose=1)\n",
        "\n",
        "# Validation Set을 기준으로 가장 최적의 모델을 찾기\n",
        "save_best = keras.callbacks.ModelCheckpoint(filepath=checkpoint_filepath, \n",
        "                                            monitor='val_loss', verbose=1, \n",
        "                                            save_best_only=True,\n",
        "                                            save_weights_only=True, mode='auto', \n",
        "                                            save_freq='epoch', options=None)\n",
        "\n",
        "results = model.fit(X_train, y_train, batch_size=32, epochs=30, verbose=1, \n",
        "          validation_data=(X_test,y_test), \n",
        "          callbacks=[early_stop, save_best])"
      ]
    },
    {
      "cell_type": "code",
      "execution_count": 9,
      "metadata": {
        "colab": {
          "base_uri": "https://localhost:8080/"
        },
        "id": "Bk3GSXbfUI91",
        "outputId": "beed9afe-7aca-4506-aabb-a4d8bc3cc0e1"
      },
      "outputs": [
        {
          "output_type": "stream",
          "name": "stdout",
          "text": [
            "313/313 [==============================] - 1s 4ms/step - loss: 3.6110 - accuracy: 0.1479\n"
          ]
        },
        {
          "output_type": "execute_result",
          "data": {
            "text/plain": [
              "(3.6109862327575684, 0.14790000021457672)"
            ]
          },
          "metadata": {},
          "execution_count": 9
        }
      ],
      "source": [
        "# 학습된 모델을 이용하여 테스트하는 코드\n",
        "test_loss, test_acc = model.evaluate(X_test,  y_test, verbose=1)\n",
        "test_loss, test_acc"
      ]
    },
    {
      "cell_type": "code",
      "execution_count": 10,
      "metadata": {
        "id": "Nyz7CrMIUNJX",
        "outputId": "44ca1fab-1357-410c-d27f-fe7cd09bc955",
        "colab": {
          "base_uri": "https://localhost:8080/"
        }
      },
      "outputs": [
        {
          "output_type": "stream",
          "name": "stdout",
          "text": [
            "313/313 [==============================] - 1s 4ms/step - loss: 3.5903 - accuracy: 0.1543\n"
          ]
        },
        {
          "output_type": "execute_result",
          "data": {
            "text/plain": [
              "(3.5903444290161133, 0.1543000042438507)"
            ]
          },
          "metadata": {},
          "execution_count": 10
        }
      ],
      "source": [
        "model.load_weights(checkpoint_filepath)\n",
        "\n",
        "# best model을 이용한 테스트 데이터 예측 정확도 재확인 코드\n",
        "test_loss, test_acc = model.evaluate(X_test, y_test, verbose=1)\n",
        "test_loss, test_acc"
      ]
    },
    {
      "cell_type": "code",
      "source": [
        ""
      ],
      "metadata": {
        "id": "xfnD9JBaxL9D"
      },
      "execution_count": 10,
      "outputs": []
    }
  ],
  "metadata": {
    "accelerator": "GPU",
    "colab": {
      "machine_shape": "hm",
      "name": "ds-cs-N423a.ipynb",
      "provenance": [],
      "include_colab_link": true
    },
    "kernelspec": {
      "display_name": "Python 3",
      "language": "python",
      "name": "python3"
    },
    "language_info": {
      "codemirror_mode": {
        "name": "ipython",
        "version": 3
      },
      "file_extension": ".py",
      "mimetype": "text/x-python",
      "name": "python",
      "nbconvert_exporter": "python",
      "pygments_lexer": "ipython3",
      "version": "3.9.4"
    }
  },
  "nbformat": 4,
  "nbformat_minor": 0
}